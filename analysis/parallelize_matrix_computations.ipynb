{
 "metadata": {
  "name": "",
  "signature": "sha256:21fe32c4ff27c1bec2018f5342e38f7d297dfb822fcc5eef4d5fb78b22fb7f1a"
 },
 "nbformat": 3,
 "nbformat_minor": 0,
 "worksheets": [
  {
   "cells": [
    {
     "cell_type": "code",
     "collapsed": false,
     "input": [
      "from IPython import parallel\n",
      "import time\n",
      "clients = parallel.Client()\n",
      "clients.block = True  # use synchronous computations\n",
      "print clients.ids\n"
     ],
     "language": "python",
     "metadata": {},
     "outputs": [
      {
       "output_type": "stream",
       "stream": "stdout",
       "text": [
        "[0, 1, 2, 3, 4, 5, 6, 7]\n"
       ]
      }
     ],
     "prompt_number": 1
    },
    {
     "cell_type": "code",
     "collapsed": false,
     "input": [
      "%px import numpy as np"
     ],
     "language": "python",
     "metadata": {},
     "outputs": [],
     "prompt_number": 2
    },
    {
     "cell_type": "code",
     "collapsed": false,
     "input": [
      "##create some data\n",
      "maps = np.random.randint(0,5, size=(7770, 32,32))\n",
      "%px masks = np.random.randint(0,2,size=(11**2,32,32))\n"
     ],
     "language": "python",
     "metadata": {},
     "outputs": [],
     "prompt_number": 3
    },
    {
     "cell_type": "code",
     "collapsed": false,
     "input": [
      "##to map a computation across cores, create a \"load-balanced\" view on the client\n",
      "view = clients.load_balanced_view()\n",
      "##this will distribute work according to some kind of smart algorithm\n",
      "\n"
     ],
     "language": "python",
     "metadata": {},
     "outputs": [],
     "prompt_number": 4
    },
    {
     "cell_type": "code",
     "collapsed": false,
     "input": [
      "##a simple computation across cores: load-balanced view\n",
      "view.block = True\n",
      "start = time.time()\n",
      "foo = view.map(lambda x: [np.nonzero(np.unique(q))[0].size for q in x*masks], maps)\n",
      "print time.time()-start"
     ],
     "language": "python",
     "metadata": {},
     "outputs": [
      {
       "output_type": "stream",
       "stream": "stdout",
       "text": [
        "28.6556770802\n"
       ]
      }
     ],
     "prompt_number": 5
    },
    {
     "cell_type": "code",
     "collapsed": false,
     "input": [
      "##compare to single core\n",
      "masks = np.random.randint(0,2,size=(11**2,32,32))\n",
      "start = time.time()\n",
      "#foo = map(lambda x: [np.nonzero(np.unique(q))[0].size for q in x*masks], maps)\n",
      "print time.time()-start"
     ],
     "language": "python",
     "metadata": {},
     "outputs": [
      {
       "output_type": "stream",
       "stream": "stdout",
       "text": [
        "0.00562381744385\n"
       ]
      }
     ],
     "prompt_number": 6
    },
    {
     "cell_type": "code",
     "collapsed": false,
     "input": [
      "##compare to direct view\n",
      "dview = clients.direct_view()\n"
     ],
     "language": "python",
     "metadata": {},
     "outputs": [],
     "prompt_number": 7
    },
    {
     "cell_type": "code",
     "collapsed": false,
     "input": [
      "start = time.time()\n",
      "blarg = dview.map_sync(lambda x: [np.nonzero(np.unique(q))[0].size for q in x*masks], maps)\n",
      "print time.time()-start"
     ],
     "language": "python",
     "metadata": {},
     "outputs": [
      {
       "output_type": "stream",
       "stream": "stdout",
       "text": [
        "7.36268806458\n"
       ]
      }
     ],
     "prompt_number": 8
    },
    {
     "cell_type": "code",
     "collapsed": false,
     "input": [
      "%%px\n",
      "\n",
      "def intlist_to_bitlist(bitlength, intlist):\n",
      "    x = np.zeros(bitlength)\n",
      "    x[intlist] = 1\n",
      "    return x"
     ],
     "language": "python",
     "metadata": {},
     "outputs": [],
     "prompt_number": 9
    },
    {
     "cell_type": "code",
     "collapsed": false,
     "input": [
      "start = time.time()\n",
      "blarg = dview.map_sync(lambda x: np.array([intlist_to_bitlist(4,np.nonzero(np.unique(q))[0]-1) for q in x*masks]), maps)\n",
      "print time.time()-start"
     ],
     "language": "python",
     "metadata": {},
     "outputs": [
      {
       "output_type": "stream",
       "stream": "stdout",
       "text": [
        "8.70875597\n"
       ]
      }
     ]
    },
    {
     "cell_type": "code",
     "collapsed": false,
     "input": [
      "##try another approach\n",
      "import multiprocessing\n",
      "pool = multiprocessing.Pool(8)\n",
      "start = time.time()\n",
      "blarg = pool.map(lambda x: np.array([intlist_to_bitlist(4,np.nonzero(np.unique(q))[0]-1) for q in x*masks]), maps)\n",
      "print time.time()-start"
     ],
     "language": "python",
     "metadata": {},
     "outputs": []
    },
    {
     "cell_type": "code",
     "collapsed": false,
     "input": [],
     "language": "python",
     "metadata": {},
     "outputs": []
    }
   ],
   "metadata": {}
  }
 ]
}