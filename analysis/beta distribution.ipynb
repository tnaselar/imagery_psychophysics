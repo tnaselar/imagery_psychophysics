{
 "metadata": {
  "name": ""
 },
 "nbformat": 3,
 "nbformat_minor": 0,
 "worksheets": [
  {
   "cells": [
    {
     "cell_type": "code",
     "collapsed": false,
     "input": [
      "from scipy.special import beta\n",
      "import matplotlib.pyplot as plt\n",
      "import numpy as np\n",
      "\n",
      "def gen_prob(rho, a, b):\n",
      "    return (rho**(a-1))*((1-rho)**(b-1))/beta(a,b)\n"
     ],
     "language": "python",
     "metadata": {},
     "outputs": [],
     "prompt_number": 1
    },
    {
     "cell_type": "code",
     "collapsed": false,
     "input": [
      "##test\n",
      "gen_prob(np.linspace(0,1,100), 1., 1.)"
     ],
     "language": "python",
     "metadata": {},
     "outputs": [
      {
       "metadata": {},
       "output_type": "pyout",
       "prompt_number": 2,
       "text": [
        "array([ 1.,  1.,  1.,  1.,  1.,  1.,  1.,  1.,  1.,  1.,  1.,  1.,  1.,\n",
        "        1.,  1.,  1.,  1.,  1.,  1.,  1.,  1.,  1.,  1.,  1.,  1.,  1.,\n",
        "        1.,  1.,  1.,  1.,  1.,  1.,  1.,  1.,  1.,  1.,  1.,  1.,  1.,\n",
        "        1.,  1.,  1.,  1.,  1.,  1.,  1.,  1.,  1.,  1.,  1.,  1.,  1.,\n",
        "        1.,  1.,  1.,  1.,  1.,  1.,  1.,  1.,  1.,  1.,  1.,  1.,  1.,\n",
        "        1.,  1.,  1.,  1.,  1.,  1.,  1.,  1.,  1.,  1.,  1.,  1.,  1.,\n",
        "        1.,  1.,  1.,  1.,  1.,  1.,  1.,  1.,  1.,  1.,  1.,  1.,  1.,\n",
        "        1.,  1.,  1.,  1.,  1.,  1.,  1.,  1.,  1.])"
       ]
      }
     ],
     "prompt_number": 2
    },
    {
     "cell_type": "code",
     "collapsed": false,
     "input": [
      "rhos = np.linspace(0, 1, 100)\n",
      "a_vals = [10]\n",
      "b_vals = [1, 10, 100]\n",
      "aix, bix = np.meshgrid(a_vals, b_vals) \n",
      "fig, ax = plt.subplots()\n",
      "for a, b in zip(np.ravel(aix), np.ravel(bix)):\n",
      "    ab_label = r'$a = %.1f$, $b = %.1f$' % (a, b)\n",
      "    ax.plot(rhos, gen_prob(rhos, a, b), '-o', label=ab_label)\n",
      "ax.legend()\n",
      "plt.show()"
     ],
     "language": "python",
     "metadata": {},
     "outputs": [],
     "prompt_number": 3
    },
    {
     "cell_type": "code",
     "collapsed": false,
     "input": [
      "## mean/variance parametrization\n",
      "rhos = np.linspace(0, 1, 100)\n",
      "mus = np.array([.01]*5)\n",
      "vees = np.array([1, 10, 100, 1000, 10000])\n",
      "a_vals = mus*vees\n",
      "b_vals = map(lambda x,y:(1-x)*y, mus, vees)\n",
      "print a_vals\n",
      "print b_vals\n",
      "fig, ax = plt.subplots()\n",
      "for a, b in zip(a_vals, b_vals):\n",
      "    ab_label = r'$a = %.3f$, $b = %.6f$' % (a, b)\n",
      "    ax.plot(rhos, gen_prob(rhos, a, b), '-o', label=ab_label)\n",
      "ax.legend()\n",
      "plt.show()"
     ],
     "language": "python",
     "metadata": {},
     "outputs": [
      {
       "output_type": "stream",
       "stream": "stdout",
       "text": [
        "[  1.00000000e-02   1.00000000e-01   1.00000000e+00   1.00000000e+01\n",
        "   1.00000000e+02]\n",
        "[0.98999999999999999, 9.9000000000000004, 99.0, 990.0, 9900.0]\n"
       ]
      }
     ],
     "prompt_number": 19
    },
    {
     "cell_type": "code",
     "collapsed": false,
     "input": [
      "## posterior over \n",
      "rhos = np.linspace(0, 1, 100)\n",
      "mus = np.array([.01]*5)\n",
      "vees = np.array([1, 10, 100, 1000, 10000])\n",
      "a_vals = mus*vees\n",
      "b_vals = map(lambda x,y:(1-x)*y, mus, vees)\n",
      "print a_vals\n",
      "print b_vals\n",
      "fig, ax = plt.subplots()\n",
      "for a, b in zip(a_vals, b_vals):\n",
      "    ab_label = r'$a = %.3f$, $b = %.6f$' % (a, b)\n",
      "    ax.plot(rhos, gen_prob(rhos, a, b), '-o', label=ab_label)\n",
      "ax.legend()\n",
      "plt.show()"
     ],
     "language": "python",
     "metadata": {},
     "outputs": [
      {
       "metadata": {},
       "output_type": "pyout",
       "prompt_number": 18,
       "text": [
        "array([        inf,  0.94547814,  0.47607606,  0.31870656,  0.23974366,\n",
        "        0.19224372,  0.16051262,  0.13780939,  0.12075754,  0.10747841,\n",
        "        0.09684336,  0.08813333,  0.08086845,  0.07471621,  0.0694389 ,\n",
        "        0.06486204,  0.06085471,  0.0573167 ,  0.05417004,  0.05135311,\n",
        "        0.04881663,  0.04652064,  0.04443246,  0.04252507,  0.04077594,\n",
        "        0.03916615,  0.03767965,  0.03630281,  0.03502392,  0.03383286,\n",
        "        0.0327209 ,  0.03168039,  0.03070468,  0.02978787,  0.02892481,\n",
        "        0.02811089,  0.02734204,  0.02661461,  0.02592535,  0.02527134,\n",
        "        0.02464994,  0.02405877,  0.02349569,  0.02295874,  0.02244616,\n",
        "        0.02195631,  0.02148774,  0.02103908,  0.02060911,  0.02019668,\n",
        "        0.01980074,  0.01942034,  0.01905458,  0.01870265,  0.01836377,\n",
        "        0.01803724,  0.01772242,  0.01741868,  0.01712546,  0.01684223,\n",
        "        0.01656851,  0.01630382,  0.01604774,  0.01579987,  0.01555983,\n",
        "        0.01532727,  0.01510185,  0.01488326,  0.01467122,  0.01446545,\n",
        "        0.01426569,  0.01407169,  0.01388324,  0.01370012,  0.01352213,\n",
        "        0.01334907,  0.01318078,  0.01301708,  0.01285784,  0.01270289,\n",
        "        0.01255212,  0.0124054 ,  0.01226263,  0.0121237 ,  0.01198854,\n",
        "        0.01185708,  0.01172927,  0.01160507,  0.0114845 ,  0.01136757,\n",
        "        0.01125437,  0.01114505,  0.01103984,  0.01093916,  0.0108437 ,\n",
        "        0.01075466,  0.01067441,  0.01060839,  0.01057426,         inf])"
       ]
      }
     ],
     "prompt_number": 18
    },
    {
     "cell_type": "code",
     "collapsed": false,
     "input": [],
     "language": "python",
     "metadata": {},
     "outputs": []
    }
   ],
   "metadata": {}
  }
 ]
}