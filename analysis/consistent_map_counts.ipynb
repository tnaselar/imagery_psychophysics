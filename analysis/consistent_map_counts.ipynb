{
 "cells": [
  {
   "cell_type": "markdown",
   "metadata": {},
   "source": [
    "###Formulas for counting number of maps that are consistent with a set of colorings."
   ]
  },
  {
   "cell_type": "code",
   "execution_count": 1,
   "metadata": {
    "collapsed": false
   },
   "outputs": [
    {
     "name": "stdout",
     "output_type": "stream",
     "text": [
      "Populating the interactive namespace from numpy and matplotlib\n"
     ]
    }
   ],
   "source": [
    "%pylab inline\n",
    "import numpy as np\n",
    "import matplotlib.pyplot as plt\n",
    "from scipy.misc import comb\n",
    "from imagery_psychophysics.src.stirling_maps import stirling_num_of_2nd_kind as snk\n",
    "from imagery_psychophysics.src import counting_machinery as cntmch\n",
    "from math import factorial as bang"
   ]
  },
  {
   "cell_type": "markdown",
   "metadata": {
    "collapsed": true
   },
   "source": [
    "####counting object maps made by concatenating many smaller sub-maps\n",
    "I'm not sure if this is even useful..."
   ]
  },
  {
   "cell_type": "code",
   "execution_count": 2,
   "metadata": {
    "collapsed": true
   },
   "outputs": [],
   "source": [
    "def count_object_maps(num_objects, sub_map_sizes, scaling_term=1.):\n",
    "    e_comb = lambda n,k: comb(n,k,exact=True)\n",
    "    return np.sum([e_comb(num_objects,k)*(-1)**k*np.prod([np.sum([e_comb(num_objects-k,j)*snk(scaling_term*sms,j)*bang(j) for j in range(1,num_objects-k+1)]) for sms in sub_map_sizes]) for k in range(0,num_objects)])"
   ]
  },
  {
   "cell_type": "markdown",
   "metadata": {},
   "source": [
    "...but it is apparently true! (Although, note overflow problems for really large cases)."
   ]
  },
  {
   "cell_type": "code",
   "execution_count": 123,
   "metadata": {
    "collapsed": false
   },
   "outputs": [
    {
     "name": "stdout",
     "output_type": "stream",
     "text": [
      "number_of_pixels: 39 \n",
      "302215244686343744258048\n",
      "2236526760168529920\n"
     ]
    }
   ],
   "source": [
    "n = 4\n",
    "sub_map_sizes = np.random.randint(1,5,size=15)\n",
    "scale = 1 \n",
    "print 'number_of_pixels: %d ' %(np.sum(sub_map_sizes))\n",
    "print '%d' %(count_object_maps(n,sub_map_sizes,scaling_term=scale))\n",
    "print '%d' %(snk(scale*np.sum(sub_map_sizes),n)*bang(n))"
   ]
  },
  {
   "cell_type": "markdown",
   "metadata": {},
   "source": [
    "An illustration of why we need this -- you can't just sum of bits of the map to get the total. You grossly undercount."
   ]
  },
  {
   "cell_type": "code",
   "execution_count": 4,
   "metadata": {
    "collapsed": false
   },
   "outputs": [
    {
     "name": "stdout",
     "output_type": "stream",
     "text": [
      "total number of object maps: 1048574\n",
      "sum of number of submaps: 2044\n",
      "prod of number of submaps: 272736706564\n",
      "total number of maps using correct sum over submaps: 1048574\n",
      "See?\n"
     ]
    }
   ],
   "source": [
    "number_of_objects_in_map = 2\n",
    "number_of_pixels_in_submap_1 = 10\n",
    "number_of_pixels_in_submap_2 = 10\n",
    "total_number_of_map_pixels = number_of_pixels_in_submap_1 + number_of_pixels_in_submap_2\n",
    "print 'total number of object maps: %d' %(snk(total_number_of_map_pixels,number_of_objects_in_map)*bang(number_of_objects_in_map))\n",
    "print 'sum of number of submaps: %d' %((snk(number_of_pixels_in_submap_1,number_of_objects_in_map)+snk(number_of_pixels_in_submap_2,number_of_objects_in_map))*bang(number_of_objects_in_map))\n",
    "print 'prod of number of submaps: %d' %(snk(number_of_pixels_in_submap_1,number_of_objects_in_map)*snk(number_of_pixels_in_submap_2,number_of_objects_in_map)*bang(number_of_objects_in_map))**2\n",
    "print 'total number of maps using correct sum over submaps: %d' %(count_object_maps(number_of_objects_in_map, [number_of_pixels_in_submap_1,number_of_pixels_in_submap_2]))\n",
    "print 'See?'"
   ]
  },
  {
   "cell_type": "markdown",
   "metadata": {},
   "source": [
    "####If we observe counts in a bunch of non-overlapping windows, how many map are consistent with the observations?"
   ]
  },
  {
   "cell_type": "markdown",
   "metadata": {},
   "source": [
    "Counts maps consistent with data"
   ]
  },
  {
   "cell_type": "code",
   "execution_count": 5,
   "metadata": {
    "collapsed": false
   },
   "outputs": [],
   "source": [
    "def maps_consistent_with_data(number_of_objects, sub_map_sizes, submap_color_counts,scaling_term=1.0):\n",
    "    e_comb = lambda n,j: comb(n,j,exact=True)\n",
    "    cnt = np.sum(\n",
    "        [e_comb(number_of_objects,k)*(-1)**k\n",
    "                 *np.prod([e_comb(number_of_objects-k,scc)*snk(scaling_term*sms,scc)*bang(scc)\n",
    "                           for scc,sms in zip(submap_color_counts,sub_map_sizes)]) for k in range(0,number_of_objects)])\n",
    "    return cnt"
   ]
  },
  {
   "cell_type": "markdown",
   "metadata": {},
   "source": [
    "Set up map, windows, sizes"
   ]
  },
  {
   "cell_type": "code",
   "execution_count": 125,
   "metadata": {
    "collapsed": false
   },
   "outputs": [
    {
     "name": "stdout",
     "output_type": "stream",
     "text": [
      "number of pixels: 64\n",
      "[ 1  2  4  8 16 32 64]\n"
     ]
    }
   ],
   "source": [
    "number_of_objects_in_map = 5\n",
    "largest_number_of_windows = 6\n",
    "total_number_of_pixels = 2**largest_number_of_windows\n",
    "number_of_windows = np.cumprod([1]+[2]*(largest_number_of_windows))\n",
    "samples_per_window_size = 1000\n",
    "print 'number of pixels: %d' %(total_number_of_pixels)\n",
    "print number_of_windows\n"
   ]
  },
  {
   "cell_type": "markdown",
   "metadata": {},
   "source": [
    "Loop over number of windows, generating random samples of color counts. Get average number of consistent\n",
    "maps for "
   ]
  },
  {
   "cell_type": "code",
   "execution_count": 126,
   "metadata": {
    "collapsed": false
   },
   "outputs": [
    {
     "name": "stdout",
     "output_type": "stream",
     "text": [
      "size of windows 64.000000\n",
      "size of windows 32.000000\n",
      "size of windows 16.000000\n",
      "size of windows 8.000000\n",
      "size of windows 4.000000\n",
      "size of windows 2.000000\n",
      "size of windows 1.000000\n"
     ]
    }
   ],
   "source": [
    "cm_mean = np.zeros((len(number_of_windows),1))\n",
    "cm_max = np.zeros((len(number_of_windows),1))\n",
    "cm_min = np.zeros((len(number_of_windows),1))\n",
    "cnt = 0\n",
    "for nw in number_of_windows:\n",
    "    size_of_windows = total_number_of_pixels/nw\n",
    "    print 'size of windows %f' %(size_of_windows)\n",
    "    cm = np.zeros((samples_per_window_size,1))\n",
    "    for spw in range(samples_per_window_size):\n",
    "        if nw==1:\n",
    "            color_counts = number_of_objects_in_map*np.ones((nw,1))\n",
    "        else:\n",
    "            color_counts = np.random.random_integers(1,high=min(size_of_windows,number_of_objects_in_map),size=(nw,1))\n",
    "        cm[spw] = maps_consistent_with_data(number_of_objects_in_map,size_of_windows*np.ones((nw,1)),color_counts)\n",
    "    cm_mean[cnt] = cm.mean()\n",
    "    cm_max[cnt] = cm.max()\n",
    "    cm_min[cnt] = cm.min()\n",
    "    cnt += 1\n",
    "total_maps = snk(total_number_of_pixels, number_of_objects_in_map)*bang(number_of_objects_in_map)"
   ]
  },
  {
   "cell_type": "code",
   "execution_count": 127,
   "metadata": {
    "collapsed": false
   },
   "outputs": [
    {
     "data": {
      "text/plain": [
       "<matplotlib.text.Text at 0x7f4a41450c10>"
      ]
     },
     "execution_count": 127,
     "metadata": {},
     "output_type": "execute_result"
    },
    {
     "data": {
      "image/png": "[encoded data removed]",
      "text/plain": [
       "<matplotlib.figure.Figure at 0x7f4a40a5d690>"
      ]
     },
     "metadata": {},
     "output_type": "display_data"
    }
   ],
   "source": [
    "plt.figure()\n",
    "plt.plot(number_of_windows, cm_mean,'b',label='with data')\n",
    "plt.plot(number_of_windows, cm_mean,'bo')\n",
    "plt.plot(number_of_windows, cm_min,'k--')\n",
    "plt.plot(number_of_windows, cm_min,'k.')\n",
    "plt.plot(number_of_windows, cm_max,'k--')\n",
    "plt.plot(number_of_windows, cm_max,'k.')\n",
    "plt.axhline(y=total_maps,hold=True,lw=2,color='r', linestyle='--',label='without any data')\n",
    "# plt.fill_between(number_of_windows, cm_max.reshape(number_of_windows.shape), cm_min.reshape(number_of_windows.shape))\n",
    "plt.yscale('log')\n",
    "plt.title('how number of consistent maps depends upon the number of windows on the map')\n",
    "plt.legend(loc='lower right')\n",
    "plt.xlabel('number of windows on the map')\n",
    "plt.ylabel('number of maps consistent with window output')"
   ]
  },
  {
   "cell_type": "code",
   "execution_count": 129,
   "metadata": {
    "collapsed": false
   },
   "outputs": [
    {
     "data": {
      "text/plain": [
       "[<matplotlib.lines.Line2D at 0x7f4a40e3d150>]"
      ]
     },
     "execution_count": 129,
     "metadata": {},
     "output_type": "execute_result"
    },
    {
     "data": {
      "image/png": "[encoded data removed]",
      "text/plain": [
       "<matplotlib.figure.Figure at 0x7f4a4156b2d0>"
      ]
     },
     "metadata": {},
     "output_type": "display_data"
    }
   ],
   "source": [
    "plt.plot(range(4,20), map(lambda x: comb(x,4), range(4,20)))"
   ]
  },
  {
   "cell_type": "markdown",
   "metadata": {},
   "source": [
    "Count average number of consistent maps for various number of windows / neighborhood sizes."
   ]
  },
  {
   "cell_type": "code",
   "execution_count": 9,
   "metadata": {
    "collapsed": true
   },
   "outputs": [],
   "source": [
    "def nbds_generator(number_of_windows,nbd_size):\n",
    "    list_of_windows = np.arange(0,number_of_windows)\n",
    "    nbds = []\n",
    "    for w in list_of_windows:\n",
    "        nbds += [tuple(np.sort(list_of_windows[np.argsort(np.abs(w-list_of_windows))[0:nbd_size]]))]\n",
    "    \n",
    "    return nbds"
   ]
  },
  {
   "cell_type": "code",
   "execution_count": 79,
   "metadata": {
    "collapsed": true
   },
   "outputs": [],
   "source": [
    "def consistent_maps_overlapping_windows(number_of_objects, window_size, window_color_counts,nbds,scaling_term=1.0):\n",
    "    cnt = 0\n",
    "    e_comb = lambda n,j: comb(n,j,exact=True)\n",
    "    for k in range(0,number_of_objects):\n",
    "        uncounted_colors = e_comb(number_of_objects,k)*(-1)**k\n",
    "        map_prod = 1\n",
    "        for target,target_nbd in enumerate(nbds):\n",
    "            nbd_colorings = [window_color_counts[ij] for ij in target_nbd]\n",
    "            nbd_powerset,color_count_powerset = cntmch.nbd_color_counts(cntmch.window(target_nbd),nbd_colorings)\n",
    "            \n",
    "            counter = cntmch.consistent_map_counter(target, nbd_powerset)\n",
    "            num_consistent_maps = counter.count_consistent_maps(number_of_objects-k,\n",
    "                                                               color_count_powerset,\n",
    "                                                               window_size)\n",
    "            print \"k: %d, target: %d, num: %d\" %(k,target, num_consistent_maps)\n",
    "            map_prod *= num_consistent_maps\n",
    "        \n",
    "         \n",
    "        cnt += uncounted_colors*map_prod\n",
    "    return cnt"
   ]
  },
  {
   "cell_type": "code",
   "execution_count": 11,
   "metadata": {
    "collapsed": false
   },
   "outputs": [
    {
     "name": "stdout",
     "output_type": "stream",
     "text": [
      "Automatic pdb calling has been turned ON\n"
     ]
    }
   ],
   "source": [
    "pdb on"
   ]
  },
  {
   "cell_type": "code",
   "execution_count": 22,
   "metadata": {
    "collapsed": false
   },
   "outputs": [
    {
     "name": "stdout",
     "output_type": "stream",
     "text": [
      "number of pixels: 64\n",
      "16\n",
      "[1, 2, 3, 4, 5, 6, 7, 8]\n",
      "size of windows 4.000000\n"
     ]
    }
   ],
   "source": [
    "number_of_objects_in_map = 4\n",
    "largest_number_of_windows = 6\n",
    "total_number_of_pixels = 2**largest_number_of_windows\n",
    "number_of_windows = int(total_number_of_pixels / 4.)\n",
    "size_of_windows = total_number_of_pixels/number_of_windows\n",
    "nbd_sizes = range(1,9, 1)\n",
    "samples_per_nbd_size = 1000\n",
    "print 'number of pixels: %d' %(total_number_of_pixels)\n",
    "print number_of_windows\n",
    "print nbd_sizes\n",
    "print 'size of windows %f' %(size_of_windows)"
   ]
  },
  {
   "cell_type": "code",
   "execution_count": 48,
   "metadata": {
    "collapsed": true
   },
   "outputs": [],
   "source": [
    "cm_median = np.zeros((len(nbd_sizes),1))\n",
    "cm_max = np.zeros((len(nbd_sizes),1))\n",
    "cm_min = np.zeros((len(nbd_sizes),1))\n",
    "indie_cm_median = np.zeros((len(nbd_sizes),1))\n",
    "cnt = 0\n"
   ]
  },
  {
   "cell_type": "code",
   "execution_count": 49,
   "metadata": {
    "collapsed": false,
    "scrolled": true
   },
   "outputs": [
    {
     "name": "stdout",
     "output_type": "stream",
     "text": [
      "nbd size: 1\n",
      "nbd size: 2\n",
      "nbd size: 3\n"
     ]
    },
    {
     "ename": "ZeroDivisionError",
     "evalue": "integer division or modulo by zero",
     "output_type": "error",
     "traceback": [
      "\u001b[1;31m---------------------------------------------------------------------------\u001b[0m",
      "\u001b[1;31mZeroDivisionError\u001b[0m                         Traceback (most recent call last)",
      "\u001b[1;32m<ipython-input-49-fa5db1e8df59>\u001b[0m in \u001b[0;36m<module>\u001b[1;34m()\u001b[0m\n\u001b[0;32m     34\u001b[0m                                                   bitcc)\n\u001b[0;32m     35\u001b[0m         \u001b[1;32mif\u001b[0m \u001b[0mcm\u001b[0m\u001b[1;33m[\u001b[0m\u001b[0mspn\u001b[0m\u001b[1;33m]\u001b[0m \u001b[1;33m<\u001b[0m \u001b[1;36m0\u001b[0m\u001b[1;33m:\u001b[0m\u001b[1;33m\u001b[0m\u001b[0m\n\u001b[1;32m---> 36\u001b[1;33m             \u001b[1;36m1\u001b[0m\u001b[1;33m/\u001b[0m\u001b[1;36m0\u001b[0m\u001b[1;33m\u001b[0m\u001b[0m\n\u001b[0m\u001b[0;32m     37\u001b[0m         \u001b[1;32mif\u001b[0m \u001b[0mindie_cm\u001b[0m\u001b[1;33m[\u001b[0m\u001b[0mspn\u001b[0m\u001b[1;33m]\u001b[0m \u001b[1;33m<\u001b[0m \u001b[1;36m0\u001b[0m\u001b[1;33m:\u001b[0m\u001b[1;33m\u001b[0m\u001b[0m\n\u001b[0;32m     38\u001b[0m             \u001b[1;36m1\u001b[0m\u001b[1;33m/\u001b[0m\u001b[1;36m0\u001b[0m\u001b[1;33m\u001b[0m\u001b[0m\n",
      "\u001b[1;31mZeroDivisionError\u001b[0m: integer division or modulo by zero"
     ]
    },
    {
     "name": "stdout",
     "output_type": "stream",
     "text": [
      "> \u001b[1;32m<ipython-input-49-fa5db1e8df59>\u001b[0m(36)\u001b[0;36m<module>\u001b[1;34m()\u001b[0m\n",
      "\u001b[1;32m     35 \u001b[1;33m        \u001b[1;32mif\u001b[0m \u001b[0mcm\u001b[0m\u001b[1;33m[\u001b[0m\u001b[0mspn\u001b[0m\u001b[1;33m]\u001b[0m \u001b[1;33m<\u001b[0m \u001b[1;36m0\u001b[0m\u001b[1;33m:\u001b[0m\u001b[1;33m\u001b[0m\u001b[0m\n",
      "\u001b[0m\u001b[1;32m---> 36 \u001b[1;33m            \u001b[1;36m1\u001b[0m\u001b[1;33m/\u001b[0m\u001b[1;36m0\u001b[0m\u001b[1;33m\u001b[0m\u001b[0m\n",
      "\u001b[0m\u001b[1;32m     37 \u001b[1;33m        \u001b[1;32mif\u001b[0m \u001b[0mindie_cm\u001b[0m\u001b[1;33m[\u001b[0m\u001b[0mspn\u001b[0m\u001b[1;33m]\u001b[0m \u001b[1;33m<\u001b[0m \u001b[1;36m0\u001b[0m\u001b[1;33m:\u001b[0m\u001b[1;33m\u001b[0m\u001b[0m\n",
      "\u001b[0m\n",
      "ipdb> cm\n",
      "array([[  1.00800000e+03],\n",
      "       [  1.67961600e+06],\n",
      "       [  1.30636800e+06],\n",
      "       [  3.07328000e+05],\n",
      "       [  1.97568000e+05],\n",
      "       [  1.51200000e+03],\n",
      "       [  1.18540800e+06],\n",
      "       [  2.82240000e+04],\n",
      "       [  1.12896000e+05],\n",
      "       [  5.64480000e+04],\n",
      "       [  3.95136000e+05],\n",
      "       [  8.46720000e+04],\n",
      "       [  1.12896000e+05],\n",
      "       [  5.53190400e+06],\n",
      "       [  8.46720000e+04],\n",
      "       [  1.51200000e+03],\n",
      "       [  8.46720000e+04],\n",
      "       [  1.18540800e+06],\n",
      "       [  1.58054400e+06],\n",
      "       [  2.37081600e+06],\n",
      "       [  3.62880000e+04],\n",
      "       [  1.45152000e+05],\n",
      "       [  6.04800000e+03],\n",
      "       [  5.44320000e+04],\n",
      "       [  2.19520000e+04],\n",
      "       [  8.46720000e+04],\n",
      "       [  7.11244800e+06],\n",
      "       [  7.62048000e+05],\n",
      "       [  1.12896000e+05],\n",
      "       [  8.85104640e+07],\n",
      "       [  5.26848000e+05],\n",
      "       [  1.22931200e+06],\n",
      "       [  4.35456000e+05],\n",
      "       [  4.06425600e+06],\n",
      "       [  9.40800000e+03],\n",
      "       [  6.09638400e+06],\n",
      "       [  1.61280000e+04],\n",
      "       [  5.85252864e+08],\n",
      "       [  3.95136000e+05],\n",
      "       [  1.22931200e+06],\n",
      "       [  1.62570240e+07],\n",
      "       [  3.90168576e+08],\n",
      "       [  6.14656000e+05],\n",
      "       [  7.62048000e+05],\n",
      "       [  3.62880000e+04],\n",
      "       [  8.23011840e+07],\n",
      "       [  4.06425600e+06],\n",
      "       [  1.93536000e+05],\n",
      "       [  9.14457600e+06],\n",
      "       [  3.07328000e+05],\n",
      "       [  1.31712000e+05],\n",
      "       [  5.53190400e+06],\n",
      "       [  4.39040000e+04],\n",
      "       [  1.53664000e+05],\n",
      "       [  1.47517440e+07],\n",
      "       [  7.74466560e+07],\n",
      "       [  2.21276160e+07],\n",
      "       [  3.44207360e+07],\n",
      "       [  4.09677005e+09],\n",
      "       [  3.51151718e+09],\n",
      "       [  3.07328000e+05],\n",
      "       [  2.61273600e+06],\n",
      "       [  1.31712000e+05],\n",
      "       [  3.07328000e+05],\n",
      "       [  6.32217600e+06],\n",
      "       [  3.13528320e+07],\n",
      "       [  1.46313216e+08],\n",
      "       [  1.10638080e+07],\n",
      "       [  3.01181440e+07],\n",
      "       [  3.87233280e+07],\n",
      "       [  5.48674560e+07],\n",
      "       [  1.23914650e+09],\n",
      "       [  6.14515507e+09],\n",
      "       [  2.21276160e+07],\n",
      "       [  4.42552320e+07],\n",
      "       [  7.11244800e+06],\n",
      "       [  9.40800000e+03],\n",
      "       [  4.66560000e+04],\n",
      "       [  4.35456000e+05],\n",
      "       [  2.03212800e+06],\n",
      "       [  3.02400000e+03],\n",
      "       [  0.00000000e+00],\n",
      "       [  1.51200000e+03],\n",
      "       [  1.52409600e+06],\n",
      "       [  1.89665280e+07],\n",
      "       [  1.58054400e+06],\n",
      "       [  1.70698752e+08],\n",
      "       [  4.66560000e+04],\n",
      "       [  1.18540800e+06],\n",
      "       [  1.58054400e+06],\n",
      "       [  2.37081600e+06],\n",
      "       [  3.13600000e+03],\n",
      "       [  8.85104640e+07],\n",
      "       [  1.00776960e+07],\n",
      "       [  1.88160000e+04],\n",
      "       [  8.85104640e+07],\n",
      "       [  1.46313216e+08],\n",
      "       [  2.68738560e+07],\n",
      "       [  5.68995840e+07],\n",
      "       [  2.16760320e+07],\n",
      "       [  1.32765696e+08],\n",
      "       [  1.77811200e+06],\n",
      "       [  8.60518400e+06],\n",
      "       [  2.21276160e+07],\n",
      "       [  2.84497920e+07],\n",
      "       [  5.64480000e+04],\n",
      "       [  4.06425600e+06],\n",
      "       [  1.97568000e+05],\n",
      "       [  1.10638080e+07],\n",
      "       [  3.18637670e+09],\n",
      "       [  5.53190400e+06],\n",
      "       [  2.21276160e+07],\n",
      "       [  3.98297088e+08],\n",
      "       [  1.77811200e+06],\n",
      "       [  1.58054400e+06],\n",
      "       [  5.68995840e+07],\n",
      "       [  3.07328000e+05],\n",
      "       [  2.21276160e+07],\n",
      "       [  5.53190400e+06],\n",
      "       [  2.15129600e+06],\n",
      "       [  6.19573248e+08],\n",
      "       [  1.53628877e+09],\n",
      "       [ -5.80608000e+05],\n",
      "       [  0.00000000e+00],\n",
      "       [  0.00000000e+00],\n",
      "       [  0.00000000e+00],\n",
      "       [  0.00000000e+00],\n",
      "       [  0.00000000e+00],\n",
      "       [  0.00000000e+00],\n",
      "       [  0.00000000e+00],\n",
      "       [  0.00000000e+00],\n",
      "       [  0.00000000e+00],\n",
      "       [  0.00000000e+00],\n",
      "       [  0.00000000e+00],\n",
      "       [  0.00000000e+00],\n",
      "       [  0.00000000e+00],\n",
      "       [  0.00000000e+00],\n",
      "       [  0.00000000e+00],\n",
      "       [  0.00000000e+00],\n",
      "       [  0.00000000e+00],\n",
      "       [  0.00000000e+00],\n",
      "       [  0.00000000e+00],\n",
      "       [  0.00000000e+00],\n",
      "       [  0.00000000e+00],\n",
      "       [  0.00000000e+00],\n",
      "       [  0.00000000e+00],\n",
      "       [  0.00000000e+00],\n",
      "       [  0.00000000e+00],\n",
      "       [  0.00000000e+00],\n",
      "       [  0.00000000e+00],\n",
      "       [  0.00000000e+00],\n",
      "       [  0.00000000e+00],\n",
      "       [  0.00000000e+00],\n",
      "       [  0.00000000e+00],\n",
      "       [  0.00000000e+00],\n",
      "       [  0.00000000e+00],\n",
      "       [  0.00000000e+00],\n",
      "       [  0.00000000e+00],\n",
      "       [  0.00000000e+00],\n",
      "       [  0.00000000e+00],\n",
      "       [  0.00000000e+00],\n",
      "       [  0.00000000e+00],\n",
      "       [  0.00000000e+00],\n",
      "       [  0.00000000e+00],\n",
      "       [  0.00000000e+00],\n",
      "       [  0.00000000e+00],\n",
      "       [  0.00000000e+00],\n",
      "       [  0.00000000e+00],\n",
      "       [  0.00000000e+00],\n",
      "       [  0.00000000e+00],\n",
      "       [  0.00000000e+00],\n",
      "       [  0.00000000e+00],\n",
      "       [  0.00000000e+00],\n",
      "       [  0.00000000e+00],\n",
      "       [  0.00000000e+00],\n",
      "       [  0.00000000e+00],\n",
      "       [  0.00000000e+00],\n",
      "       [  0.00000000e+00],\n",
      "       [  0.00000000e+00],\n",
      "       [  0.00000000e+00],\n",
      "       [  0.00000000e+00],\n",
      "       [  0.00000000e+00],\n",
      "       [  0.00000000e+00],\n",
      "       [  0.00000000e+00],\n",
      "       [  0.00000000e+00],\n",
      "       [  0.00000000e+00],\n",
      "       [  0.00000000e+00],\n",
      "       [  0.00000000e+00],\n",
      "       [  0.00000000e+00],\n",
      "       [  0.00000000e+00],\n",
      "       [  0.00000000e+00],\n",
      "       [  0.00000000e+00],\n",
      "       [  0.00000000e+00],\n",
      "       [  0.00000000e+00],\n",
      "       [  0.00000000e+00],\n",
      "       [  0.00000000e+00],\n",
      "       [  0.00000000e+00],\n",
      "       [  0.00000000e+00],\n",
      "       [  0.00000000e+00],\n",
      "       [  0.00000000e+00],\n",
      "       [  0.00000000e+00],\n",
      "       [  0.00000000e+00],\n",
      "       [  0.00000000e+00],\n",
      "       [  0.00000000e+00],\n",
      "       [  0.00000000e+00],\n",
      "       [  0.00000000e+00],\n",
      "       [  0.00000000e+00],\n",
      "       [  0.00000000e+00],\n",
      "       [  0.00000000e+00],\n",
      "       [  0.00000000e+00],\n",
      "       [  0.00000000e+00],\n",
      "       [  0.00000000e+00],\n",
      "       [  0.00000000e+00],\n",
      "       [  0.00000000e+00],\n",
      "       [  0.00000000e+00],\n",
      "       [  0.00000000e+00],\n",
      "       [  0.00000000e+00],\n",
      "       [  0.00000000e+00],\n",
      "       [  0.00000000e+00],\n",
      "       [  0.00000000e+00],\n",
      "       [  0.00000000e+00],\n",
      "       [  0.00000000e+00],\n",
      "       [  0.00000000e+00],\n",
      "       [  0.00000000e+00],\n",
      "       [  0.00000000e+00],\n",
      "       [  0.00000000e+00],\n",
      "       [  0.00000000e+00],\n",
      "       [  0.00000000e+00],\n",
      "       [  0.00000000e+00],\n",
      "       [  0.00000000e+00],\n",
      "       [  0.00000000e+00],\n",
      "       [  0.00000000e+00],\n",
      "       [  0.00000000e+00],\n",
      "       [  0.00000000e+00],\n",
      "       [  0.00000000e+00],\n",
      "       [  0.00000000e+00],\n",
      "       [  0.00000000e+00],\n",
      "       [  0.00000000e+00],\n",
      "       [  0.00000000e+00],\n",
      "       [  0.00000000e+00],\n",
      "       [  0.00000000e+00],\n",
      "       [  0.00000000e+00],\n",
      "       [  0.00000000e+00],\n",
      "       [  0.00000000e+00],\n",
      "       [  0.00000000e+00],\n",
      "       [  0.00000000e+00],\n",
      "       [  0.00000000e+00],\n",
      "       [  0.00000000e+00],\n",
      "       [  0.00000000e+00],\n",
      "       [  0.00000000e+00],\n",
      "       [  0.00000000e+00],\n",
      "       [  0.00000000e+00],\n",
      "       [  0.00000000e+00],\n",
      "       [  0.00000000e+00],\n",
      "       [  0.00000000e+00],\n",
      "       [  0.00000000e+00],\n",
      "       [  0.00000000e+00],\n",
      "       [  0.00000000e+00],\n",
      "       [  0.00000000e+00],\n",
      "       [  0.00000000e+00],\n",
      "       [  0.00000000e+00],\n",
      "       [  0.00000000e+00],\n",
      "       [  0.00000000e+00],\n",
      "       [  0.00000000e+00],\n",
      "       [  0.00000000e+00],\n",
      "       [  0.00000000e+00],\n",
      "       [  0.00000000e+00],\n",
      "       [  0.00000000e+00],\n",
      "       [  0.00000000e+00],\n",
      "       [  0.00000000e+00],\n",
      "       [  0.00000000e+00],\n",
      "       [  0.00000000e+00],\n",
      "       [  0.00000000e+00],\n",
      "       [  0.00000000e+00],\n",
      "       [  0.00000000e+00],\n",
      "       [  0.00000000e+00],\n",
      "       [  0.00000000e+00],\n",
      "       [  0.00000000e+00],\n",
      "       [  0.00000000e+00],\n",
      "       [  0.00000000e+00],\n",
      "       [  0.00000000e+00],\n",
      "       [  0.00000000e+00],\n",
      "       [  0.00000000e+00],\n",
      "       [  0.00000000e+00],\n",
      "       [  0.00000000e+00],\n",
      "       [  0.00000000e+00],\n",
      "       [  0.00000000e+00],\n",
      "       [  0.00000000e+00],\n",
      "       [  0.00000000e+00],\n",
      "       [  0.00000000e+00],\n",
      "       [  0.00000000e+00],\n",
      "       [  0.00000000e+00],\n",
      "       [  0.00000000e+00],\n",
      "       [  0.00000000e+00],\n",
      "       [  0.00000000e+00],\n",
      "       [  0.00000000e+00],\n",
      "       [  0.00000000e+00],\n",
      "       [  0.00000000e+00],\n",
      "       [  0.00000000e+00],\n",
      "       [  0.00000000e+00],\n",
      "       [  0.00000000e+00],\n",
      "       [  0.00000000e+00],\n",
      "       [  0.00000000e+00],\n",
      "       [  0.00000000e+00],\n",
      "       [  0.00000000e+00],\n",
      "       [  0.00000000e+00],\n",
      "       [  0.00000000e+00],\n",
      "       [  0.00000000e+00],\n",
      "       [  0.00000000e+00],\n",
      "       [  0.00000000e+00],\n",
      "       [  0.00000000e+00],\n",
      "       [  0.00000000e+00],\n",
      "       [  0.00000000e+00],\n",
      "       [  0.00000000e+00],\n",
      "       [  0.00000000e+00],\n",
      "       [  0.00000000e+00],\n",
      "       [  0.00000000e+00],\n",
      "       [  0.00000000e+00],\n",
      "       [  0.00000000e+00],\n",
      "       [  0.00000000e+00],\n",
      "       [  0.00000000e+00],\n",
      "       [  0.00000000e+00],\n",
      "       [  0.00000000e+00],\n",
      "       [  0.00000000e+00],\n",
      "       [  0.00000000e+00],\n",
      "       [  0.00000000e+00],\n",
      "       [  0.00000000e+00],\n",
      "       [  0.00000000e+00],\n",
      "       [  0.00000000e+00],\n",
      "       [  0.00000000e+00],\n",
      "       [  0.00000000e+00],\n",
      "       [  0.00000000e+00],\n",
      "       [  0.00000000e+00],\n",
      "       [  0.00000000e+00],\n",
      "       [  0.00000000e+00],\n",
      "       [  0.00000000e+00],\n",
      "       [  0.00000000e+00],\n",
      "       [  0.00000000e+00],\n",
      "       [  0.00000000e+00],\n",
      "       [  0.00000000e+00],\n",
      "       [  0.00000000e+00],\n",
      "       [  0.00000000e+00],\n",
      "       [  0.00000000e+00],\n",
      "       [  0.00000000e+00],\n",
      "       [  0.00000000e+00],\n",
      "       [  0.00000000e+00],\n",
      "       [  0.00000000e+00],\n",
      "       [  0.00000000e+00],\n",
      "       [  0.00000000e+00],\n",
      "       [  0.00000000e+00],\n",
      "       [  0.00000000e+00],\n",
      "       [  0.00000000e+00],\n",
      "       [  0.00000000e+00],\n",
      "       [  0.00000000e+00],\n",
      "       [  0.00000000e+00],\n",
      "       [  0.00000000e+00],\n",
      "       [  0.00000000e+00],\n",
      "       [  0.00000000e+00],\n",
      "       [  0.00000000e+00],\n",
      "       [  0.00000000e+00],\n",
      "       [  0.00000000e+00],\n",
      "       [  0.00000000e+00],\n",
      "       [  0.00000000e+00],\n",
      "       [  0.00000000e+00],\n",
      "       [  0.00000000e+00],\n",
      "       [  0.00000000e+00],\n",
      "       [  0.00000000e+00],\n",
      "       [  0.00000000e+00],\n",
      "       [  0.00000000e+00],\n",
      "       [  0.00000000e+00],\n",
      "       [  0.00000000e+00],\n",
      "       [  0.00000000e+00],\n",
      "       [  0.00000000e+00],\n",
      "       [  0.00000000e+00],\n",
      "       [  0.00000000e+00],\n",
      "       [  0.00000000e+00],\n",
      "       [  0.00000000e+00],\n",
      "       [  0.00000000e+00],\n",
      "       [  0.00000000e+00],\n",
      "       [  0.00000000e+00],\n",
      "       [  0.00000000e+00],\n",
      "       [  0.00000000e+00],\n",
      "       [  0.00000000e+00],\n",
      "       [  0.00000000e+00],\n",
      "       [  0.00000000e+00],\n",
      "       [  0.00000000e+00],\n",
      "       [  0.00000000e+00],\n",
      "       [  0.00000000e+00],\n",
      "       [  0.00000000e+00],\n",
      "       [  0.00000000e+00],\n",
      "       [  0.00000000e+00],\n",
      "       [  0.00000000e+00],\n",
      "       [  0.00000000e+00],\n",
      "       [  0.00000000e+00],\n",
      "       [  0.00000000e+00],\n",
      "       [  0.00000000e+00],\n",
      "       [  0.00000000e+00],\n",
      "       [  0.00000000e+00],\n",
      "       [  0.00000000e+00],\n",
      "       [  0.00000000e+00],\n",
      "       [  0.00000000e+00],\n",
      "       [  0.00000000e+00],\n",
      "       [  0.00000000e+00],\n",
      "       [  0.00000000e+00],\n",
      "       [  0.00000000e+00],\n",
      "       [  0.00000000e+00],\n",
      "       [  0.00000000e+00],\n",
      "       [  0.00000000e+00],\n",
      "       [  0.00000000e+00],\n",
      "       [  0.00000000e+00],\n",
      "       [  0.00000000e+00],\n",
      "       [  0.00000000e+00],\n",
      "       [  0.00000000e+00],\n",
      "       [  0.00000000e+00],\n",
      "       [  0.00000000e+00],\n",
      "       [  0.00000000e+00],\n",
      "       [  0.00000000e+00],\n",
      "       [  0.00000000e+00],\n",
      "       [  0.00000000e+00],\n",
      "       [  0.00000000e+00],\n",
      "       [  0.00000000e+00],\n",
      "       [  0.00000000e+00],\n",
      "       [  0.00000000e+00],\n",
      "       [  0.00000000e+00],\n",
      "       [  0.00000000e+00],\n",
      "       [  0.00000000e+00],\n",
      "       [  0.00000000e+00],\n",
      "       [  0.00000000e+00],\n",
      "       [  0.00000000e+00],\n",
      "       [  0.00000000e+00],\n",
      "       [  0.00000000e+00],\n",
      "       [  0.00000000e+00],\n",
      "       [  0.00000000e+00],\n",
      "       [  0.00000000e+00],\n",
      "       [  0.00000000e+00],\n",
      "       [  0.00000000e+00],\n",
      "       [  0.00000000e+00],\n",
      "       [  0.00000000e+00],\n",
      "       [  0.00000000e+00],\n",
      "       [  0.00000000e+00],\n",
      "       [  0.00000000e+00],\n",
      "       [  0.00000000e+00],\n",
      "       [  0.00000000e+00],\n",
      "       [  0.00000000e+00],\n",
      "       [  0.00000000e+00],\n",
      "       [  0.00000000e+00],\n",
      "       [  0.00000000e+00],\n",
      "       [  0.00000000e+00],\n",
      "       [  0.00000000e+00],\n",
      "       [  0.00000000e+00],\n",
      "       [  0.00000000e+00],\n",
      "       [  0.00000000e+00],\n",
      "       [  0.00000000e+00],\n",
      "       [  0.00000000e+00],\n",
      "       [  0.00000000e+00],\n",
      "       [  0.00000000e+00],\n",
      "       [  0.00000000e+00],\n",
      "       [  0.00000000e+00],\n",
      "       [  0.00000000e+00],\n",
      "       [  0.00000000e+00],\n",
      "       [  0.00000000e+00],\n",
      "       [  0.00000000e+00],\n",
      "       [  0.00000000e+00],\n",
      "       [  0.00000000e+00],\n",
      "       [  0.00000000e+00],\n",
      "       [  0.00000000e+00],\n",
      "       [  0.00000000e+00],\n",
      "       [  0.00000000e+00],\n",
      "       [  0.00000000e+00],\n",
      "       [  0.00000000e+00],\n",
      "       [  0.00000000e+00],\n",
      "       [  0.00000000e+00],\n",
      "       [  0.00000000e+00],\n",
      "       [  0.00000000e+00],\n",
      "       [  0.00000000e+00],\n",
      "       [  0.00000000e+00],\n",
      "       [  0.00000000e+00],\n",
      "       [  0.00000000e+00],\n",
      "       [  0.00000000e+00],\n",
      "       [  0.00000000e+00],\n",
      "       [  0.00000000e+00],\n",
      "       [  0.00000000e+00],\n",
      "       [  0.00000000e+00],\n",
      "       [  0.00000000e+00],\n",
      "       [  0.00000000e+00],\n",
      "       [  0.00000000e+00],\n",
      "       [  0.00000000e+00],\n",
      "       [  0.00000000e+00],\n",
      "       [  0.00000000e+00],\n",
      "       [  0.00000000e+00],\n",
      "       [  0.00000000e+00],\n",
      "       [  0.00000000e+00],\n",
      "       [  0.00000000e+00],\n",
      "       [  0.00000000e+00],\n",
      "       [  0.00000000e+00],\n",
      "       [  0.00000000e+00],\n",
      "       [  0.00000000e+00],\n",
      "       [  0.00000000e+00],\n",
      "       [  0.00000000e+00],\n",
      "       [  0.00000000e+00],\n",
      "       [  0.00000000e+00],\n",
      "       [  0.00000000e+00],\n",
      "       [  0.00000000e+00],\n",
      "       [  0.00000000e+00],\n",
      "       [  0.00000000e+00],\n",
      "       [  0.00000000e+00],\n",
      "       [  0.00000000e+00],\n",
      "       [  0.00000000e+00],\n",
      "       [  0.00000000e+00],\n",
      "       [  0.00000000e+00],\n",
      "       [  0.00000000e+00],\n",
      "       [  0.00000000e+00],\n",
      "       [  0.00000000e+00],\n",
      "       [  0.00000000e+00],\n",
      "       [  0.00000000e+00],\n",
      "       [  0.00000000e+00],\n",
      "       [  0.00000000e+00],\n",
      "       [  0.00000000e+00],\n",
      "       [  0.00000000e+00],\n",
      "       [  0.00000000e+00],\n",
      "       [  0.00000000e+00],\n",
      "       [  0.00000000e+00],\n",
      "       [  0.00000000e+00],\n",
      "       [  0.00000000e+00],\n",
      "       [  0.00000000e+00],\n",
      "       [  0.00000000e+00],\n",
      "       [  0.00000000e+00],\n",
      "       [  0.00000000e+00],\n",
      "       [  0.00000000e+00],\n",
      "       [  0.00000000e+00],\n",
      "       [  0.00000000e+00],\n",
      "       [  0.00000000e+00],\n",
      "       [  0.00000000e+00],\n",
      "       [  0.00000000e+00],\n",
      "       [  0.00000000e+00],\n",
      "       [  0.00000000e+00],\n",
      "       [  0.00000000e+00],\n",
      "       [  0.00000000e+00],\n",
      "       [  0.00000000e+00],\n",
      "       [  0.00000000e+00],\n",
      "       [  0.00000000e+00],\n",
      "       [  0.00000000e+00],\n",
      "       [  0.00000000e+00],\n",
      "       [  0.00000000e+00],\n",
      "       [  0.00000000e+00],\n",
      "       [  0.00000000e+00],\n",
      "       [  0.00000000e+00],\n",
      "       [  0.00000000e+00],\n",
      "       [  0.00000000e+00],\n",
      "       [  0.00000000e+00],\n",
      "       [  0.00000000e+00],\n",
      "       [  0.00000000e+00],\n",
      "       [  0.00000000e+00],\n",
      "       [  0.00000000e+00],\n",
      "       [  0.00000000e+00],\n",
      "       [  0.00000000e+00],\n",
      "       [  0.00000000e+00],\n",
      "       [  0.00000000e+00],\n",
      "       [  0.00000000e+00],\n",
      "       [  0.00000000e+00],\n",
      "       [  0.00000000e+00],\n",
      "       [  0.00000000e+00],\n",
      "       [  0.00000000e+00],\n",
      "       [  0.00000000e+00],\n",
      "       [  0.00000000e+00],\n",
      "       [  0.00000000e+00],\n",
      "       [  0.00000000e+00],\n",
      "       [  0.00000000e+00],\n",
      "       [  0.00000000e+00],\n",
      "       [  0.00000000e+00],\n",
      "       [  0.00000000e+00],\n",
      "       [  0.00000000e+00],\n",
      "       [  0.00000000e+00],\n",
      "       [  0.00000000e+00],\n",
      "       [  0.00000000e+00],\n",
      "       [  0.00000000e+00],\n",
      "       [  0.00000000e+00],\n",
      "       [  0.00000000e+00],\n",
      "       [  0.00000000e+00],\n",
      "       [  0.00000000e+00],\n",
      "       [  0.00000000e+00],\n",
      "       [  0.00000000e+00],\n",
      "       [  0.00000000e+00],\n",
      "       [  0.00000000e+00],\n",
      "       [  0.00000000e+00],\n",
      "       [  0.00000000e+00],\n",
      "       [  0.00000000e+00],\n",
      "       [  0.00000000e+00],\n",
      "       [  0.00000000e+00],\n",
      "       [  0.00000000e+00],\n",
      "       [  0.00000000e+00],\n",
      "       [  0.00000000e+00],\n",
      "       [  0.00000000e+00],\n",
      "       [  0.00000000e+00],\n",
      "       [  0.00000000e+00],\n",
      "       [  0.00000000e+00],\n",
      "       [  0.00000000e+00],\n",
      "       [  0.00000000e+00],\n",
      "       [  0.00000000e+00],\n",
      "       [  0.00000000e+00],\n",
      "       [  0.00000000e+00],\n",
      "       [  0.00000000e+00],\n",
      "       [  0.00000000e+00],\n",
      "       [  0.00000000e+00],\n",
      "       [  0.00000000e+00],\n",
      "       [  0.00000000e+00],\n",
      "       [  0.00000000e+00],\n",
      "       [  0.00000000e+00],\n",
      "       [  0.00000000e+00],\n",
      "       [  0.00000000e+00],\n",
      "       [  0.00000000e+00],\n",
      "       [  0.00000000e+00],\n",
      "       [  0.00000000e+00],\n",
      "       [  0.00000000e+00],\n",
      "       [  0.00000000e+00],\n",
      "       [  0.00000000e+00],\n",
      "       [  0.00000000e+00],\n",
      "       [  0.00000000e+00],\n",
      "       [  0.00000000e+00],\n",
      "       [  0.00000000e+00],\n",
      "       [  0.00000000e+00],\n",
      "       [  0.00000000e+00],\n",
      "       [  0.00000000e+00],\n",
      "       [  0.00000000e+00],\n",
      "       [  0.00000000e+00],\n",
      "       [  0.00000000e+00],\n",
      "       [  0.00000000e+00],\n",
      "       [  0.00000000e+00],\n",
      "       [  0.00000000e+00],\n",
      "       [  0.00000000e+00],\n",
      "       [  0.00000000e+00],\n",
      "       [  0.00000000e+00],\n",
      "       [  0.00000000e+00],\n",
      "       [  0.00000000e+00],\n",
      "       [  0.00000000e+00],\n",
      "       [  0.00000000e+00],\n",
      "       [  0.00000000e+00],\n",
      "       [  0.00000000e+00],\n",
      "       [  0.00000000e+00],\n",
      "       [  0.00000000e+00],\n",
      "       [  0.00000000e+00],\n",
      "       [  0.00000000e+00],\n",
      "       [  0.00000000e+00],\n",
      "       [  0.00000000e+00],\n",
      "       [  0.00000000e+00],\n",
      "       [  0.00000000e+00],\n",
      "       [  0.00000000e+00],\n",
      "       [  0.00000000e+00],\n",
      "       [  0.00000000e+00],\n",
      "       [  0.00000000e+00],\n",
      "       [  0.00000000e+00],\n",
      "       [  0.00000000e+00],\n",
      "       [  0.00000000e+00],\n",
      "       [  0.00000000e+00],\n",
      "       [  0.00000000e+00],\n",
      "       [  0.00000000e+00],\n",
      "       [  0.00000000e+00],\n",
      "       [  0.00000000e+00],\n",
      "       [  0.00000000e+00],\n",
      "       [  0.00000000e+00],\n",
      "       [  0.00000000e+00],\n",
      "       [  0.00000000e+00],\n",
      "       [  0.00000000e+00],\n",
      "       [  0.00000000e+00],\n",
      "       [  0.00000000e+00],\n",
      "       [  0.00000000e+00],\n",
      "       [  0.00000000e+00],\n",
      "       [  0.00000000e+00],\n",
      "       [  0.00000000e+00],\n",
      "       [  0.00000000e+00],\n",
      "       [  0.00000000e+00],\n",
      "       [  0.00000000e+00],\n",
      "       [  0.00000000e+00],\n",
      "       [  0.00000000e+00],\n",
      "       [  0.00000000e+00],\n",
      "       [  0.00000000e+00],\n",
      "       [  0.00000000e+00],\n",
      "       [  0.00000000e+00],\n",
      "       [  0.00000000e+00],\n",
      "       [  0.00000000e+00],\n",
      "       [  0.00000000e+00],\n",
      "       [  0.00000000e+00],\n",
      "       [  0.00000000e+00],\n",
      "       [  0.00000000e+00],\n",
      "       [  0.00000000e+00],\n",
      "       [  0.00000000e+00],\n",
      "       [  0.00000000e+00],\n",
      "       [  0.00000000e+00],\n",
      "       [  0.00000000e+00],\n",
      "       [  0.00000000e+00],\n",
      "       [  0.00000000e+00],\n",
      "       [  0.00000000e+00],\n",
      "       [  0.00000000e+00],\n",
      "       [  0.00000000e+00],\n",
      "       [  0.00000000e+00],\n",
      "       [  0.00000000e+00],\n",
      "       [  0.00000000e+00],\n",
      "       [  0.00000000e+00],\n",
      "       [  0.00000000e+00],\n",
      "       [  0.00000000e+00],\n",
      "       [  0.00000000e+00],\n",
      "       [  0.00000000e+00],\n",
      "       [  0.00000000e+00],\n",
      "       [  0.00000000e+00],\n",
      "       [  0.00000000e+00],\n",
      "       [  0.00000000e+00],\n",
      "       [  0.00000000e+00],\n",
      "       [  0.00000000e+00],\n",
      "       [  0.00000000e+00],\n",
      "       [  0.00000000e+00],\n",
      "       [  0.00000000e+00],\n",
      "       [  0.00000000e+00],\n",
      "       [  0.00000000e+00],\n",
      "       [  0.00000000e+00],\n",
      "       [  0.00000000e+00],\n",
      "       [  0.00000000e+00],\n",
      "       [  0.00000000e+00],\n",
      "       [  0.00000000e+00],\n",
      "       [  0.00000000e+00],\n",
      "       [  0.00000000e+00],\n",
      "       [  0.00000000e+00],\n",
      "       [  0.00000000e+00],\n",
      "       [  0.00000000e+00],\n",
      "       [  0.00000000e+00],\n",
      "       [  0.00000000e+00],\n",
      "       [  0.00000000e+00],\n",
      "       [  0.00000000e+00],\n",
      "       [  0.00000000e+00],\n",
      "       [  0.00000000e+00],\n",
      "       [  0.00000000e+00],\n",
      "       [  0.00000000e+00],\n",
      "       [  0.00000000e+00],\n",
      "       [  0.00000000e+00],\n",
      "       [  0.00000000e+00],\n",
      "       [  0.00000000e+00],\n",
      "       [  0.00000000e+00],\n",
      "       [  0.00000000e+00],\n",
      "       [  0.00000000e+00],\n",
      "       [  0.00000000e+00],\n",
      "       [  0.00000000e+00],\n",
      "       [  0.00000000e+00],\n",
      "       [  0.00000000e+00],\n",
      "       [  0.00000000e+00],\n",
      "       [  0.00000000e+00],\n",
      "       [  0.00000000e+00],\n",
      "       [  0.00000000e+00],\n",
      "       [  0.00000000e+00],\n",
      "       [  0.00000000e+00],\n",
      "       [  0.00000000e+00],\n",
      "       [  0.00000000e+00],\n",
      "       [  0.00000000e+00],\n",
      "       [  0.00000000e+00],\n",
      "       [  0.00000000e+00],\n",
      "       [  0.00000000e+00],\n",
      "       [  0.00000000e+00],\n",
      "       [  0.00000000e+00],\n",
      "       [  0.00000000e+00],\n",
      "       [  0.00000000e+00],\n",
      "       [  0.00000000e+00],\n",
      "       [  0.00000000e+00],\n",
      "       [  0.00000000e+00],\n",
      "       [  0.00000000e+00],\n",
      "       [  0.00000000e+00],\n",
      "       [  0.00000000e+00],\n",
      "       [  0.00000000e+00],\n",
      "       [  0.00000000e+00],\n",
      "       [  0.00000000e+00],\n",
      "       [  0.00000000e+00],\n",
      "       [  0.00000000e+00],\n",
      "       [  0.00000000e+00],\n",
      "       [  0.00000000e+00],\n",
      "       [  0.00000000e+00],\n",
      "       [  0.00000000e+00],\n",
      "       [  0.00000000e+00],\n",
      "       [  0.00000000e+00],\n",
      "       [  0.00000000e+00],\n",
      "       [  0.00000000e+00],\n",
      "       [  0.00000000e+00],\n",
      "       [  0.00000000e+00],\n",
      "       [  0.00000000e+00],\n",
      "       [  0.00000000e+00],\n",
      "       [  0.00000000e+00],\n",
      "       [  0.00000000e+00],\n",
      "       [  0.00000000e+00],\n",
      "       [  0.00000000e+00],\n",
      "       [  0.00000000e+00],\n",
      "       [  0.00000000e+00],\n",
      "       [  0.00000000e+00],\n",
      "       [  0.00000000e+00],\n",
      "       [  0.00000000e+00],\n",
      "       [  0.00000000e+00],\n",
      "       [  0.00000000e+00],\n",
      "       [  0.00000000e+00],\n",
      "       [  0.00000000e+00],\n",
      "       [  0.00000000e+00],\n",
      "       [  0.00000000e+00],\n",
      "       [  0.00000000e+00],\n",
      "       [  0.00000000e+00],\n",
      "       [  0.00000000e+00],\n",
      "       [  0.00000000e+00],\n",
      "       [  0.00000000e+00],\n",
      "       [  0.00000000e+00],\n",
      "       [  0.00000000e+00],\n",
      "       [  0.00000000e+00],\n",
      "       [  0.00000000e+00],\n",
      "       [  0.00000000e+00],\n",
      "       [  0.00000000e+00],\n",
      "       [  0.00000000e+00],\n",
      "       [  0.00000000e+00],\n",
      "       [  0.00000000e+00],\n",
      "       [  0.00000000e+00],\n",
      "       [  0.00000000e+00],\n",
      "       [  0.00000000e+00],\n",
      "       [  0.00000000e+00],\n",
      "       [  0.00000000e+00],\n",
      "       [  0.00000000e+00],\n",
      "       [  0.00000000e+00],\n",
      "       [  0.00000000e+00],\n",
      "       [  0.00000000e+00],\n",
      "       [  0.00000000e+00],\n",
      "       [  0.00000000e+00],\n",
      "       [  0.00000000e+00],\n",
      "       [  0.00000000e+00],\n",
      "       [  0.00000000e+00],\n",
      "       [  0.00000000e+00],\n",
      "       [  0.00000000e+00],\n",
      "       [  0.00000000e+00],\n",
      "       [  0.00000000e+00],\n",
      "       [  0.00000000e+00],\n",
      "       [  0.00000000e+00],\n",
      "       [  0.00000000e+00],\n",
      "       [  0.00000000e+00],\n",
      "       [  0.00000000e+00],\n",
      "       [  0.00000000e+00],\n",
      "       [  0.00000000e+00],\n",
      "       [  0.00000000e+00],\n",
      "       [  0.00000000e+00],\n",
      "       [  0.00000000e+00],\n",
      "       [  0.00000000e+00],\n",
      "       [  0.00000000e+00],\n",
      "       [  0.00000000e+00],\n",
      "       [  0.00000000e+00],\n",
      "       [  0.00000000e+00],\n",
      "       [  0.00000000e+00],\n",
      "       [  0.00000000e+00],\n",
      "       [  0.00000000e+00],\n",
      "       [  0.00000000e+00],\n",
      "       [  0.00000000e+00],\n",
      "       [  0.00000000e+00],\n",
      "       [  0.00000000e+00],\n",
      "       [  0.00000000e+00],\n",
      "       [  0.00000000e+00],\n",
      "       [  0.00000000e+00],\n",
      "       [  0.00000000e+00],\n",
      "       [  0.00000000e+00],\n",
      "       [  0.00000000e+00],\n",
      "       [  0.00000000e+00],\n",
      "       [  0.00000000e+00],\n",
      "       [  0.00000000e+00],\n",
      "       [  0.00000000e+00],\n",
      "       [  0.00000000e+00],\n",
      "       [  0.00000000e+00],\n",
      "       [  0.00000000e+00],\n",
      "       [  0.00000000e+00],\n",
      "       [  0.00000000e+00],\n",
      "       [  0.00000000e+00],\n",
      "       [  0.00000000e+00],\n",
      "       [  0.00000000e+00],\n",
      "       [  0.00000000e+00],\n",
      "       [  0.00000000e+00],\n",
      "       [  0.00000000e+00],\n",
      "       [  0.00000000e+00],\n",
      "       [  0.00000000e+00],\n",
      "       [  0.00000000e+00],\n",
      "       [  0.00000000e+00],\n",
      "       [  0.00000000e+00],\n",
      "       [  0.00000000e+00],\n",
      "       [  0.00000000e+00],\n",
      "       [  0.00000000e+00],\n",
      "       [  0.00000000e+00],\n",
      "       [  0.00000000e+00],\n",
      "       [  0.00000000e+00],\n",
      "       [  0.00000000e+00],\n",
      "       [  0.00000000e+00],\n",
      "       [  0.00000000e+00],\n",
      "       [  0.00000000e+00],\n",
      "       [  0.00000000e+00],\n",
      "       [  0.00000000e+00],\n",
      "       [  0.00000000e+00],\n",
      "       [  0.00000000e+00],\n",
      "       [  0.00000000e+00],\n",
      "       [  0.00000000e+00],\n",
      "       [  0.00000000e+00],\n",
      "       [  0.00000000e+00],\n",
      "       [  0.00000000e+00],\n",
      "       [  0.00000000e+00],\n",
      "       [  0.00000000e+00],\n",
      "       [  0.00000000e+00],\n",
      "       [  0.00000000e+00],\n",
      "       [  0.00000000e+00],\n",
      "       [  0.00000000e+00],\n",
      "       [  0.00000000e+00],\n",
      "       [  0.00000000e+00],\n",
      "       [  0.00000000e+00],\n",
      "       [  0.00000000e+00],\n",
      "       [  0.00000000e+00],\n",
      "       [  0.00000000e+00],\n",
      "       [  0.00000000e+00],\n",
      "       [  0.00000000e+00],\n",
      "       [  0.00000000e+00],\n",
      "       [  0.00000000e+00],\n",
      "       [  0.00000000e+00],\n",
      "       [  0.00000000e+00],\n",
      "       [  0.00000000e+00],\n",
      "       [  0.00000000e+00],\n",
      "       [  0.00000000e+00],\n",
      "       [  0.00000000e+00],\n",
      "       [  0.00000000e+00],\n",
      "       [  0.00000000e+00],\n",
      "       [  0.00000000e+00],\n",
      "       [  0.00000000e+00],\n",
      "       [  0.00000000e+00],\n",
      "       [  0.00000000e+00],\n",
      "       [  0.00000000e+00],\n",
      "       [  0.00000000e+00],\n",
      "       [  0.00000000e+00],\n",
      "       [  0.00000000e+00],\n",
      "       [  0.00000000e+00],\n",
      "       [  0.00000000e+00],\n",
      "       [  0.00000000e+00],\n",
      "       [  0.00000000e+00],\n",
      "       [  0.00000000e+00],\n",
      "       [  0.00000000e+00],\n",
      "       [  0.00000000e+00],\n",
      "       [  0.00000000e+00],\n",
      "       [  0.00000000e+00],\n",
      "       [  0.00000000e+00],\n",
      "       [  0.00000000e+00],\n",
      "       [  0.00000000e+00],\n",
      "       [  0.00000000e+00],\n",
      "       [  0.00000000e+00],\n",
      "       [  0.00000000e+00],\n",
      "       [  0.00000000e+00],\n",
      "       [  0.00000000e+00],\n",
      "       [  0.00000000e+00],\n",
      "       [  0.00000000e+00],\n",
      "       [  0.00000000e+00],\n",
      "       [  0.00000000e+00],\n",
      "       [  0.00000000e+00],\n",
      "       [  0.00000000e+00],\n",
      "       [  0.00000000e+00],\n",
      "       [  0.00000000e+00],\n",
      "       [  0.00000000e+00],\n",
      "       [  0.00000000e+00],\n",
      "       [  0.00000000e+00],\n",
      "       [  0.00000000e+00],\n",
      "       [  0.00000000e+00],\n",
      "       [  0.00000000e+00],\n",
      "       [  0.00000000e+00],\n",
      "       [  0.00000000e+00],\n",
      "       [  0.00000000e+00],\n",
      "       [  0.00000000e+00],\n",
      "       [  0.00000000e+00],\n",
      "       [  0.00000000e+00],\n",
      "       [  0.00000000e+00],\n",
      "       [  0.00000000e+00],\n",
      "       [  0.00000000e+00],\n",
      "       [  0.00000000e+00],\n",
      "       [  0.00000000e+00],\n",
      "       [  0.00000000e+00],\n",
      "       [  0.00000000e+00],\n",
      "       [  0.00000000e+00],\n",
      "       [  0.00000000e+00],\n",
      "       [  0.00000000e+00],\n",
      "       [  0.00000000e+00],\n",
      "       [  0.00000000e+00],\n",
      "       [  0.00000000e+00],\n",
      "       [  0.00000000e+00],\n",
      "       [  0.00000000e+00],\n",
      "       [  0.00000000e+00],\n",
      "       [  0.00000000e+00],\n",
      "       [  0.00000000e+00],\n",
      "       [  0.00000000e+00],\n",
      "       [  0.00000000e+00],\n",
      "       [  0.00000000e+00],\n",
      "       [  0.00000000e+00],\n",
      "       [  0.00000000e+00],\n",
      "       [  0.00000000e+00],\n",
      "       [  0.00000000e+00],\n",
      "       [  0.00000000e+00],\n",
      "       [  0.00000000e+00],\n",
      "       [  0.00000000e+00],\n",
      "       [  0.00000000e+00],\n",
      "       [  0.00000000e+00],\n",
      "       [  0.00000000e+00],\n",
      "       [  0.00000000e+00],\n",
      "       [  0.00000000e+00],\n",
      "       [  0.00000000e+00],\n",
      "       [  0.00000000e+00],\n",
      "       [  0.00000000e+00]])\n",
      "ipdb> cc\n",
      "(bitarray('0001'), bitarray('0001'), bitarray('0001'), bitarray('0001'), bitarray('0001'), bitarray('0001'), bitarray('0001'), bitarray('0001'), bitarray('0001'), bitarray('0001'), bitarray('0101'), bitarray('1101'), bitarray('1000'), bitarray('0001'), bitarray('1101'), bitarray('1000'))\n",
      "ipdb> q\n"
     ]
    }
   ],
   "source": [
    "for ns in nbd_sizes: \n",
    "    print 'nbd size: %d' %(ns)\n",
    "    ##just regenerate every time, doesn't take long\n",
    "    all_colorings=cntmch.generate_window_colorings(number_of_objects_in_map,\n",
    "                                                   number_of_windows,\n",
    "                                                   bits=True) \n",
    "    ##this will store results\n",
    "    cm = np.zeros((samples_per_nbd_size,1))\n",
    "    indie_cm = np.zeros((samples_per_nbd_size,1))\n",
    "    ##list of tuples splitting up all windows into nbds\n",
    "    nbds = nbds_generator(number_of_windows,ns)\n",
    "    \n",
    "    for spn in range(samples_per_nbd_size):\n",
    "#         print 'sample: %d' %(spn)\n",
    "        run_for = np.random.randint(10000,50000)\n",
    "        try:\n",
    "            _ = [all_colorings.next() for dummy in range(run_for)]  ##<<randomize selection\n",
    "        except:\n",
    "            cc = _\n",
    "            all_colorings=cntmch.generate_window_colorings(number_of_objects_in_map,\n",
    "                                                           number_of_windows,\n",
    "                                                           bits=True)\n",
    "            print 'reached end of colorings, regenerated'\n",
    "\n",
    "        cc = all_colorings.next()\n",
    "        bitcc = map(lambda x: cc[x].count(1), range(len(cc)))\n",
    "        cm[spn] = consistent_maps_overlapping_windows(number_of_objects_in_map,\n",
    "                                                      size_of_windows,\n",
    "                                                      cc,  ##<<passing colorings,not counts\n",
    "                                                      nbds,\n",
    "                                                      scaling_term=1.0)\n",
    "        indie_cm[spn] = maps_consistent_with_data(number_of_objects_in_map,\n",
    "                                                  size_of_windows*np.ones((number_of_windows,1)),\n",
    "                                                  bitcc)\n",
    "        if cm[spn] < 0:\n",
    "            1/0\n",
    "        if indie_cm[spn] < 0:\n",
    "            1/0\n",
    "    cm_median[cnt] = np.median(cm)\n",
    "    indie_cm_median[cnt] = np.median(indie_cm)\n",
    "    cm_max[cnt] = cm.max()\n",
    "    cm_min[cnt] = cm.min()\n",
    "    cnt += 1\n",
    "total_maps = snk(total_number_of_pixels, number_of_objects_in_map)*bang(number_of_objects_in_map)"
   ]
  },
  {
   "cell_type": "code",
   "execution_count": 52,
   "metadata": {
    "collapsed": false
   },
   "outputs": [],
   "source": [
    "cc = (bitarray('0001'), bitarray('0001'), bitarray('0001'), bitarray('0001'), bitarray('0001'), bitarray('0001'), bitarray('0001'), bitarray('0001'), bitarray('0001'), bitarray('0001'), bitarray('0101'), bitarray('1101'), bitarray('1000'), bitarray('0001'), bitarray('1101'), bitarray('1000'))"
   ]
  },
  {
   "cell_type": "code",
   "execution_count": 83,
   "metadata": {
    "collapsed": false
   },
   "outputs": [
    {
     "data": {
      "text/plain": [
       "(bitarray('0001'), bitarray('0101'), bitarray('1101'))"
      ]
     },
     "execution_count": 83,
     "metadata": {},
     "output_type": "execute_result"
    }
   ],
   "source": [
    "cc[9:12]"
   ]
  },
  {
   "cell_type": "code",
   "execution_count": 82,
   "metadata": {
    "collapsed": false
   },
   "outputs": [
    {
     "data": {
      "text/plain": [
       "(9, 10, 11)"
      ]
     },
     "execution_count": 82,
     "metadata": {},
     "output_type": "execute_result"
    }
   ],
   "source": [
    "nbds[10]"
   ]
  },
  {
   "cell_type": "code",
   "execution_count": 84,
   "metadata": {
    "collapsed": true
   },
   "outputs": [],
   "source": [
    "nbd_pwrset, c_counts = cntmch.nbd_color_counts(cntmch.window(nbds[10]),cc[9:12])"
   ]
  },
  {
   "cell_type": "code",
   "execution_count": 85,
   "metadata": {
    "collapsed": true
   },
   "outputs": [],
   "source": [
    "counter = cntmch.consistent_map_counter(10,nbd_pwrset)"
   ]
  },
  {
   "cell_type": "code",
   "execution_count": 92,
   "metadata": {
    "collapsed": false
   },
   "outputs": [
    {
     "name": "stdout",
     "output_type": "stream",
     "text": [
      "2.0\n",
      "28.0\n"
     ]
    }
   ],
   "source": [
    "print counter.count_consistent_coloring(4,c_counts)\n",
    "print counter.count_consistent_maps(3,c_counts,4.)"
   ]
  },
  {
   "cell_type": "code",
   "execution_count": 95,
   "metadata": {
    "collapsed": false
   },
   "outputs": [
    {
     "data": {
      "text/plain": [
       "{(9,): 1L,\n",
       " (9, 10): 2L,\n",
       " (9, 10, 11): 3L,\n",
       " (9, 11): 3L,\n",
       " (10,): 2L,\n",
       " (10, 11): 3L,\n",
       " (11,): 3L}"
      ]
     },
     "execution_count": 95,
     "metadata": {},
     "output_type": "execute_result"
    }
   ],
   "source": [
    "dict(zip(nbd_pwrset.tups,c_counts))"
   ]
  },
  {
   "cell_type": "code",
   "execution_count": 97,
   "metadata": {
    "collapsed": false
   },
   "outputs": [
    {
     "name": "stdout",
     "output_type": "stream",
     "text": [
      "('01', '01', '01')\n",
      "('01', '01', '10')\n",
      "('01', '01', '11')\n",
      "('01', '10', '01')\n",
      "('01', '10', '10')\n",
      "('01', '10', '11')\n",
      "('01', '11', '01')\n",
      "('01', '11', '10')\n",
      "('01', '11', '11')\n",
      "('10', '01', '01')\n",
      "('10', '01', '10')\n",
      "('10', '01', '11')\n",
      "('10', '10', '01')\n",
      "('10', '10', '10')\n",
      "('10', '10', '11')\n",
      "('10', '11', '01')\n",
      "('10', '11', '10')\n",
      "('10', '11', '11')\n",
      "('11', '01', '01')\n",
      "('11', '01', '10')\n",
      "('11', '01', '11')\n",
      "('11', '10', '01')\n",
      "('11', '10', '10')\n",
      "('11', '10', '11')\n",
      "('11', '11', '01')\n",
      "('11', '11', '10')\n",
      "('11', '11', '11')\n"
     ]
    }
   ],
   "source": [
    "for _ in cntmch.generate_window_colorings(2,3):\n",
    "    print _"
   ]
  },
  {
   "cell_type": "code",
   "execution_count": 80,
   "metadata": {
    "collapsed": false
   },
   "outputs": [
    {
     "name": "stdout",
     "output_type": "stream",
     "text": [
      "k: 0, target: 0, num: 1\n",
      "k: 0, target: 1, num: 1\n",
      "k: 0, target: 2, num: 1\n",
      "k: 0, target: 3, num: 1\n",
      "k: 0, target: 4, num: 1\n",
      "k: 0, target: 5, num: 1\n",
      "k: 0, target: 6, num: 1\n",
      "k: 0, target: 7, num: 1\n",
      "k: 0, target: 8, num: 1\n",
      "k: 0, target: 9, num: 1\n",
      "k: 0, target: 10, num: 28\n",
      "k: 0, target: 11, num: 36\n",
      "k: 0, target: 12, num: 2\n",
      "k: 0, target: 13, num: 2\n",
      "k: 0, target: 14, num: 72\n",
      "k: 0, target: 15, num: 2\n",
      "k: 1, target: 0, num: 1\n",
      "k: 1, target: 1, num: 1\n",
      "k: 1, target: 2, num: 1\n",
      "k: 1, target: 3, num: 1\n",
      "k: 1, target: 4, num: 1\n",
      "k: 1, target: 5, num: 1\n",
      "k: 1, target: 6, num: 1\n",
      "k: 1, target: 7, num: 1\n",
      "k: 1, target: 8, num: 1\n",
      "k: 1, target: 9, num: 1\n",
      "k: 1, target: 10, num: 28\n",
      "k: 1, target: 11, num: 36\n",
      "k: 1, target: 12, num: 2\n",
      "k: 1, target: 13, num: 2\n",
      "k: 1, target: 14, num: 36\n",
      "k: 1, target: 15, num: 2\n",
      "k: 2, target: 0, num: 1\n",
      "k: 2, target: 1, num: 1\n",
      "k: 2, target: 2, num: 1\n",
      "k: 2, target: 3, num: 1\n",
      "k: 2, target: 4, num: 1\n",
      "k: 2, target: 5, num: 1\n",
      "k: 2, target: 6, num: 1\n",
      "k: 2, target: 7, num: 1\n",
      "k: 2, target: 8, num: 1\n",
      "k: 2, target: 9, num: 1\n",
      "k: 2, target: 10, num: 0\n",
      "k: 2, target: 11, num: 0\n",
      "k: 2, target: 12, num: 0\n",
      "k: 2, target: 13, num: 0\n",
      "k: 2, target: 14, num: 0\n",
      "k: 2, target: 15, num: 0\n",
      "k: 3, target: 0, num: 1\n",
      "k: 3, target: 1, num: 1\n",
      "k: 3, target: 2, num: 1\n",
      "k: 3, target: 3, num: 1\n",
      "k: 3, target: 4, num: 1\n",
      "k: 3, target: 5, num: 1\n",
      "k: 3, target: 6, num: 1\n",
      "k: 3, target: 7, num: 1\n",
      "k: 3, target: 8, num: 1\n",
      "k: 3, target: 9, num: 0\n",
      "k: 3, target: 10, num: 0\n",
      "k: 3, target: 11, num: 0\n",
      "k: 3, target: 12, num: 0\n",
      "k: 3, target: 13, num: 0\n",
      "k: 3, target: 14, num: 0\n",
      "k: 3, target: 15, num: 0\n"
     ]
    },
    {
     "data": {
      "text/plain": [
       "-580608.0"
      ]
     },
     "execution_count": 80,
     "metadata": {},
     "output_type": "execute_result"
    }
   ],
   "source": [
    "consistent_maps_overlapping_windows(number_of_objects_in_map,\n",
    "                                                      size_of_windows,\n",
    "                                                      cc,  ##<<passing colorings,not counts\n",
    "                                                      nbds,\n",
    "                                                      scaling_term=1.0)"
   ]
  },
  {
   "cell_type": "code",
   "execution_count": null,
   "metadata": {
    "collapsed": true
   },
   "outputs": [],
   "source": [
    "counter = cntmch.consistent_map_counter()"
   ]
  },
  {
   "cell_type": "code",
   "execution_count": 75,
   "metadata": {
    "collapsed": false
   },
   "outputs": [
    {
     "name": "stdout",
     "output_type": "stream",
     "text": [
      "[1L, 1L, 1L, 1L, 1L, 1L, 1L]\n",
      "[1L, 1L, 1L, 1L, 1L, 1L, 1L]\n",
      "[1L, 1L, 1L, 1L, 1L, 1L, 1L]\n",
      "[1L, 1L, 1L, 1L, 1L, 1L, 1L]\n",
      "[1L, 1L, 1L, 1L, 1L, 1L, 1L]\n",
      "[1L, 1L, 1L, 1L, 1L, 1L, 1L]\n",
      "[1L, 1L, 1L, 1L, 1L, 1L, 1L]\n",
      "[1L, 1L, 1L, 1L, 1L, 1L, 1L]\n",
      "[1L, 1L, 1L, 1L, 1L, 1L, 1L]\n",
      "[2L, 2L, 1L, 2L, 1L, 1L, 2L]\n",
      "[3L, 3L, 1L, 2L, 2L, 3L, 3L]\n",
      "[3L, 3L, 2L, 3L, 3L, 1L, 3L]\n",
      "[2L, 3L, 3L, 1L, 1L, 3L, 3L]\n",
      "[3L, 2L, 3L, 3L, 1L, 1L, 3L]\n",
      "[1L, 3L, 2L, 3L, 1L, 3L, 3L]\n",
      "[1L, 3L, 2L, 3L, 1L, 3L, 3L]\n"
     ]
    }
   ],
   "source": [
    "for target,target_nbd in enumerate(nbds):\n",
    "    nbd_colorings = [cc[ij] for ij in target_nbd]\n",
    "    nbd_powerset,color_count_powerset = cntmch.nbd_color_counts(cntmch.window(target_nbd),nbd_colorings)\n",
    "    print color_count_powerset"
   ]
  },
  {
   "cell_type": "code",
   "execution_count": null,
   "metadata": {
    "collapsed": true
   },
   "outputs": [],
   "source": []
  },
  {
   "cell_type": "code",
   "execution_count": 73,
   "metadata": {
    "collapsed": false
   },
   "outputs": [
    {
     "data": {
      "text/plain": [
       "580608"
      ]
     },
     "execution_count": 73,
     "metadata": {},
     "output_type": "execute_result"
    }
   ],
   "source": [
    "4*290304 - 580608"
   ]
  },
  {
   "cell_type": "code",
   "execution_count": 57,
   "metadata": {
    "collapsed": false
   },
   "outputs": [
    {
     "data": {
      "text/plain": [
       "[(0, 1, 2),\n",
       " (0, 1, 2),\n",
       " (1, 2, 3),\n",
       " (2, 3, 4),\n",
       " (3, 4, 5),\n",
       " (4, 5, 6),\n",
       " (5, 6, 7),\n",
       " (6, 7, 8),\n",
       " (7, 8, 9),\n",
       " (8, 9, 10),\n",
       " (9, 10, 11),\n",
       " (10, 11, 12),\n",
       " (11, 12, 13),\n",
       " (12, 13, 14),\n",
       " (13, 14, 15),\n",
       " (13, 14, 15)]"
      ]
     },
     "execution_count": 57,
     "metadata": {},
     "output_type": "execute_result"
    }
   ],
   "source": [
    "nbds"
   ]
  },
  {
   "cell_type": "code",
   "execution_count": 28,
   "metadata": {
    "collapsed": false
   },
   "outputs": [
    {
     "data": {
      "text/plain": [
       "<matplotlib.text.Text at 0x7f4a41548a10>"
      ]
     },
     "execution_count": 28,
     "metadata": {},
     "output_type": "execute_result"
    },
    {
     "data": {
      "image/png": "[encoded data removed]",
      "text/plain": [
       "<matplotlib.figure.Figure at 0x7f4a41573e10>"
      ]
     },
     "metadata": {},
     "output_type": "display_data"
    }
   ],
   "source": [
    "plt.figure()\n",
    "plt.plot(nbd_sizes, cm_mean,'b',label='overlapping windows (nbd size = 1)')\n",
    "plt.plot(nbd_sizes, cm_mean,'bo')\n",
    "plt.plot(nbd_sizes, cm_min,'k--')\n",
    "plt.plot(nbd_sizes, cm_min,'k.')\n",
    "plt.plot(nbd_sizes, cm_max,'k--')\n",
    "plt.plot(nbd_sizes, cm_max,'k.')\n",
    "plt.plot(nbd_sizes, indie_cm_mean, 'r--', label= 'indp. windows')\n",
    "plt.yscale('log')\n",
    "plt.title('number of consistent maps, 64pixels, 16windows,4pix/window, 1000 colorings/nbd_size')\n",
    "plt.legend(loc='lower right')\n",
    "plt.xlabel('number of windows in each nbd')\n",
    "plt.ylabel('number of consistent maps')"
   ]
  },
  {
   "cell_type": "code",
   "execution_count": 44,
   "metadata": {
    "collapsed": false
   },
   "outputs": [
    {
     "data": {
      "text/plain": [
       "array([  9.21773261e+09])"
      ]
     },
     "execution_count": 44,
     "metadata": {},
     "output_type": "execute_result"
    }
   ],
   "source": [
    "indie_cm"
   ]
  },
  {
   "cell_type": "code",
   "execution_count": 45,
   "metadata": {
    "collapsed": false
   },
   "outputs": [
    {
     "data": {
      "text/plain": [
       "[<matplotlib.lines.Line2D at 0x7f4a40897810>]"
      ]
     },
     "execution_count": 45,
     "metadata": {},
     "output_type": "execute_result"
    },
    {
     "data": {
      "image/png": "[encoded data removed]",
      "text/plain": [
       "<matplotlib.figure.Figure at 0x7f4a409b1850>"
      ]
     },
     "metadata": {},
     "output_type": "display_data"
    }
   ],
   "source": [
    "plt.plot(np.log10(np.abs(np.sort(indie_cm,axis=0))))"
   ]
  },
  {
   "cell_type": "code",
   "execution_count": 38,
   "metadata": {
    "collapsed": true
   },
   "outputs": [],
   "source": [
    "all_colorings = cntmch.generate_window_colorings(5,16,bits=True)"
   ]
  },
  {
   "cell_type": "code",
   "execution_count": 53,
   "metadata": {
    "collapsed": false
   },
   "outputs": [
    {
     "name": "stdout",
     "output_type": "stream",
     "text": [
      "0.0\n"
     ]
    },
    {
     "ename": "TypeError",
     "evalue": "%d format: a number is required, not numpy.float64",
     "output_type": "error",
     "traceback": [
      "\u001b[1;31m---------------------------------------------------------------------------\u001b[0m",
      "\u001b[1;31mTypeError\u001b[0m                                 Traceback (most recent call last)",
      "\u001b[1;32m<ipython-input-53-5342ff67159d>\u001b[0m in \u001b[0;36m<module>\u001b[1;34m()\u001b[0m\n\u001b[0;32m      5\u001b[0m \u001b[0mncm\u001b[0m \u001b[1;33m=\u001b[0m \u001b[0mconsistent_maps_overlapping_windows\u001b[0m\u001b[1;33m(\u001b[0m\u001b[1;36m5\u001b[0m\u001b[1;33m,\u001b[0m\u001b[1;36m4\u001b[0m\u001b[1;33m,\u001b[0m\u001b[0mcc\u001b[0m\u001b[1;33m,\u001b[0m\u001b[0mnbds\u001b[0m\u001b[1;33m,\u001b[0m\u001b[0mscaling_term\u001b[0m\u001b[1;33m=\u001b[0m\u001b[1;36m1.0\u001b[0m\u001b[1;33m)\u001b[0m\u001b[1;33m\u001b[0m\u001b[0m\n\u001b[0;32m      6\u001b[0m \u001b[1;32mprint\u001b[0m \u001b[0mncm\u001b[0m\u001b[1;33m\u001b[0m\u001b[0m\n\u001b[1;32m----> 7\u001b[1;33m \u001b[1;32mprint\u001b[0m \u001b[1;34m'order: %d'\u001b[0m \u001b[1;33m%\u001b[0m\u001b[1;33m(\u001b[0m\u001b[0mnp\u001b[0m\u001b[1;33m.\u001b[0m\u001b[0mlog10\u001b[0m\u001b[1;33m(\u001b[0m\u001b[0mncm\u001b[0m\u001b[1;33m)\u001b[0m\u001b[1;33m)\u001b[0m\u001b[1;33m\u001b[0m\u001b[0m\n\u001b[0m",
      "\u001b[1;31mTypeError\u001b[0m: %d format: a number is required, not numpy.float64"
     ]
    },
    {
     "name": "stdout",
     "output_type": "stream",
     "text": [
      "> \u001b[1;32m<ipython-input-53-5342ff67159d>\u001b[0m(7)\u001b[0;36m<module>\u001b[1;34m()\u001b[0m\n",
      "\u001b[1;32m      5 \u001b[1;33m\u001b[0mncm\u001b[0m \u001b[1;33m=\u001b[0m \u001b[0mconsistent_maps_overlapping_windows\u001b[0m\u001b[1;33m(\u001b[0m\u001b[1;36m5\u001b[0m\u001b[1;33m,\u001b[0m\u001b[1;36m4\u001b[0m\u001b[1;33m,\u001b[0m\u001b[0mcc\u001b[0m\u001b[1;33m,\u001b[0m\u001b[0mnbds\u001b[0m\u001b[1;33m,\u001b[0m\u001b[0mscaling_term\u001b[0m\u001b[1;33m=\u001b[0m\u001b[1;36m1.0\u001b[0m\u001b[1;33m)\u001b[0m\u001b[1;33m\u001b[0m\u001b[0m\n",
      "\u001b[0m\u001b[1;32m      6 \u001b[1;33m\u001b[1;32mprint\u001b[0m \u001b[0mncm\u001b[0m\u001b[1;33m\u001b[0m\u001b[0m\n",
      "\u001b[0m\u001b[1;32m----> 7 \u001b[1;33m\u001b[1;32mprint\u001b[0m \u001b[1;34m'order: %d'\u001b[0m \u001b[1;33m%\u001b[0m\u001b[1;33m(\u001b[0m\u001b[0mnp\u001b[0m\u001b[1;33m.\u001b[0m\u001b[0mlog10\u001b[0m\u001b[1;33m(\u001b[0m\u001b[0mncm\u001b[0m\u001b[1;33m)\u001b[0m\u001b[1;33m)\u001b[0m\u001b[1;33m\u001b[0m\u001b[0m\n",
      "\u001b[0m\n",
      "ipdb> q\n"
     ]
    }
   ],
   "source": [
    "for cc in range(1000000):\n",
    "    all_colorings.next()\n",
    "cc = all_colorings.next()\n",
    "nbds = nbds_generator(16,1)\n",
    "ncm = consistent_maps_overlapping_windows(5,4,cc,nbds,scaling_term=1.0)\n",
    "print ncm\n",
    "print 'order: %d' %(np.log10(ncm))"
   ]
  },
  {
   "cell_type": "code",
   "execution_count": 17,
   "metadata": {
    "collapsed": false
   },
   "outputs": [],
   "source": [
    "def iter_sample_fast(iterable, samplesize):\n",
    "    results = []\n",
    "    iterator = iter(iterable)\n",
    "    # Fill in the first samplesize elements:\n",
    "    try:\n",
    "        for _ in xrange(samplesize):\n",
    "            results.append(iterator.next())\n",
    "    except StopIteration:\n",
    "        raise ValueError(\"Sample larger than population.\")\n",
    "    random.shuffle(results)  # Randomize their positions\n",
    "    for i, v in enumerate(iterator, samplesize):\n",
    "        r = random.randint(0, i)\n",
    "        if r < samplesize:\n",
    "            results[r] = v  # at a decreasing rate, replace random items\n",
    "    return results"
   ]
  },
  {
   "cell_type": "code",
   "execution_count": 66,
   "metadata": {
    "collapsed": false
   },
   "outputs": [],
   "source": [
    "florg = list(cc)"
   ]
  },
  {
   "cell_type": "code",
   "execution_count": 74,
   "metadata": {
    "collapsed": false
   },
   "outputs": [],
   "source": [
    "\n",
    "florg[-2] = bitarray('11101')\n",
    "florg[0] = bitarray('11111')"
   ]
  },
  {
   "cell_type": "code",
   "execution_count": 88,
   "metadata": {
    "collapsed": false,
    "scrolled": true
   },
   "outputs": [
    {
     "name": "stdout",
     "output_type": "stream",
     "text": [
      "5.0625e+19\n"
     ]
    }
   ],
   "source": [
    "bitcc = map(lambda x: cc[x].count(1), range(len(cc)))\n",
    "mcd = maps_consistent_with_data(5,5*np.ones((16,1)),bitcc)\n",
    "print mcd\n",
    "# print 'order: %d' %(np.log10(mcd))"
   ]
  },
  {
   "cell_type": "code",
   "execution_count": 105,
   "metadata": {
    "collapsed": false
   },
   "outputs": [
    {
     "data": {
      "text/plain": [
       "2562890625"
      ]
     },
     "execution_count": 105,
     "metadata": {},
     "output_type": "execute_result"
    }
   ],
   "source": [
    "(2**4-1)**8"
   ]
  },
  {
   "cell_type": "code",
   "execution_count": null,
   "metadata": {
    "collapsed": true
   },
   "outputs": [],
   "source": []
  }
 ],
 "metadata": {
  "kernelspec": {
   "display_name": "Python 2",
   "language": "python",
   "name": "python2"
  },
  "language_info": {
   "codemirror_mode": {
    "name": "ipython",
    "version": 2
   },
   "file_extension": ".py",
   "mimetype": "text/x-python",
   "name": "python",
   "nbconvert_exporter": "python",
   "pygments_lexer": "ipython2",
   "version": "2.7.10"
  }
 },
 "nbformat": 4,
 "nbformat_minor": 0
}
