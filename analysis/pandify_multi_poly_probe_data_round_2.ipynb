{
 "cells": [
  {
   "cell_type": "code",
   "execution_count": null,
   "metadata": {},
   "outputs": [],
   "source": [
    "import re\n",
    "import numpy as np\n",
    "import pandas as pd\n",
    "from matplotlib import pyplot as plt\n",
    "import os\n",
    "%matplotlib inline"
   ]
  },
  {
   "cell_type": "markdown",
   "metadata": {},
   "source": [
    "### Parse logfiles for next N subjects, summer, 2015\n",
    "compare to \"pandify_multi_poly_probe_data\""
   ]
  },
  {
   "cell_type": "code",
   "execution_count": null,
   "metadata": {},
   "outputs": [],
   "source": [
    "subjects = {}\n",
    "\n",
    "probe_images_path = '/home/tnaselar/FAST/imagery_psychophysics/multi_poly_probes/data/summer2018/'\n",
    "\n",
    "# subjects['ltd'] = {}\n",
    "# subjects['ltd']['sourcefile'] = probe_images_path+'ltd_2018_Jun_16_1126.log'\n",
    "\n",
    "subjects['gsy'] = {}\n",
    "subjects['gsy']['sourcefile'] = probe_images_path+'GSY_2018_Jul_23_1339.log'\n",
    "\n",
    "\n",
    "# subjects['CP'] = {}\n",
    "# subjects['CP']['sourcefile'] = probe_images_path+'data/CP_2014_Nov_14_1513.log'\n",
    "\n",
    "save_path = '/home/tnaselar/FAST/scratch/'\n",
    "\n",
    "max_images_per_exp = 4\n",
    "\n",
    "\n",
    "imagery_marker = '_img_'\n",
    "perception_marker = '_pcp_'\n",
    "\n",
    "subject_table = pd.DataFrame(subjects)\n",
    "\n",
    "number_of_lines_in_chunk = 3"
   ]
  },
  {
   "cell_type": "code",
   "execution_count": null,
   "metadata": {},
   "outputs": [],
   "source": [
    "subject_table"
   ]
  },
  {
   "cell_type": "code",
   "execution_count": null,
   "metadata": {},
   "outputs": [],
   "source": [
    "def starts_a_response_chunk(x):\n",
    "    if 'New trial' in x:\n",
    "        return True\n",
    "    else:\n",
    "        return False\n",
    "\n",
    "def get_probe_number(new_line):\n",
    "    return '_'.join(re.search('_probe\\((.*?)\\).png', new_line).group(1).split(','))\n",
    "#     dx = new_line.index('_probe(')\n",
    "#     if new_line[dx-2].isdigit():\n",
    "#         return int(new_line[dx-2:dx])\n",
    "#     else:\n",
    "#         return int(new_line[dx-1])\n",
    "    \n",
    "# def get_repetition(new_line):\n",
    "#     return int(new_line[new_line.index('rep=')+4])\n",
    "\n",
    "def get_state(new_line):\n",
    "    dx = new_line.index('probe(')\n",
    "    state = new_line[dx-4:dx-1]\n",
    "    if state:\n",
    "        return state\n",
    "    else:\n",
    "        raise Exception('you are not at the start of a new trial')\n",
    "#     if 'just-probes' in new_line:\n",
    "#         return 'img'\n",
    "#     elif 'probes-with-im' in new_line:\n",
    "#         return 'pcp'\n",
    "#     else:\n",
    "        \n",
    "\n",
    "def get_time_stamp(new_line):\n",
    "    return float(new_line[0:new_line.index('\\t')])\n",
    "\n",
    "def get_response(new_line):\n",
    "    try:\n",
    "        return int(new_line[new_line.index('Keypress')+10])\n",
    "    except:\n",
    "        print('subject did not respond, returning None')\n",
    "        return None\n",
    "        \n",
    "def skip_a_line(all_lines):\n",
    "    return all_lines.pop(0)\n",
    "\n",
    "def get_image(new_line):\n",
    "    return re.search('poly_probes/probes/(.*?_\\d\\d)', new_line).group(1)\n",
    "#     dx = new_line.index('finalprobeset')\n",
    "#     return new_line[dx:(dx+15)]"
   ]
  },
  {
   "cell_type": "code",
   "execution_count": null,
   "metadata": {},
   "outputs": [],
   "source": [
    "f = '/home/tnaselar/imagery_psychophysics/multi_poly_probes/probes/candle_01_letterbox_img_probe(1,11).png'\n",
    "snippet = '27.9541\tDATA\tKeypress: 2'\n",
    "print get_time_stamp(snippet)\n",
    "print 'state: %s' %(get_state(f))\n",
    "print get_response(snippet)\n",
    "print get_image(f)"
   ]
  },
  {
   "cell_type": "code",
   "execution_count": null,
   "metadata": {},
   "outputs": [],
   "source": [
    "data_dict = {'subj': [], 'image': [], 'probe': [], 'state': [], 'image_on': [], 'resp_on': [], 'response': []}\n",
    "for subj in subjects.keys():\n",
    "    print subj    \n",
    "    all_lines = open(subjects[subj]['sourcefile'], 'r').readlines()\n",
    "    while all_lines:\n",
    "        new_line = all_lines.pop(0)\n",
    "        if starts_a_response_chunk(new_line):\n",
    "            data_dict['subj'].append(subj)\n",
    "            new_line = all_lines.pop(0)\n",
    "            if new_line.find('WARNING') > 0:\n",
    "                _ = skip_a_line(all_lines)\n",
    "            if new_line.find('Keypress') > 0:\n",
    "                _= skip_a_line(all_lines)\n",
    "            new_line = all_lines.pop(0)\n",
    "            data_dict['probe'].append(get_probe_number(new_line))\n",
    "            data_dict['state'].append(get_state(new_line))  \n",
    "            data_dict['image'].append(get_image(new_line))\n",
    "            data_dict['image_on'].append(get_time_stamp(all_lines.pop(0)))\n",
    "            new_line = all_lines.pop(0)\n",
    "            data_dict['resp_on'].append(get_time_stamp(new_line))\n",
    "            data_dict['response'].append(get_response(new_line))\n",
    "            \n",
    "\n",
    "\n",
    "probe_exp = pd.DataFrame(data_dict)\n",
    "\n"
   ]
  },
  {
   "cell_type": "code",
   "execution_count": 22,
   "metadata": {},
   "outputs": [
    {
     "data": {
      "text/html": [
       "<div>\n",
       "<style scoped>\n",
       "    .dataframe tbody tr th:only-of-type {\n",
       "        vertical-align: middle;\n",
       "    }\n",
       "\n",
       "    .dataframe tbody tr th {\n",
       "        vertical-align: top;\n",
       "    }\n",
       "\n",
       "    .dataframe thead th {\n",
       "        text-align: right;\n",
       "    }\n",
       "</style>\n",
       "<table border=\"1\" class=\"dataframe\">\n",
       "  <thead>\n",
       "    <tr style=\"text-align: right;\">\n",
       "      <th></th>\n",
       "      <th>image</th>\n",
       "      <th>image_on</th>\n",
       "      <th>probe</th>\n",
       "      <th>resp_on</th>\n",
       "      <th>response</th>\n",
       "      <th>state</th>\n",
       "      <th>subj</th>\n",
       "    </tr>\n",
       "  </thead>\n",
       "  <tbody>\n",
       "    <tr>\n",
       "      <th>0</th>\n",
       "      <td>candle_01</td>\n",
       "      <td>215.1759</td>\n",
       "      <td>10_19_11</td>\n",
       "      <td>219.2427</td>\n",
       "      <td>NaN</td>\n",
       "      <td>img</td>\n",
       "      <td>gsy</td>\n",
       "    </tr>\n",
       "    <tr>\n",
       "      <th>1</th>\n",
       "      <td>candle_01</td>\n",
       "      <td>229.9761</td>\n",
       "      <td>10</td>\n",
       "      <td>231.3763</td>\n",
       "      <td>1.0</td>\n",
       "      <td>img</td>\n",
       "      <td>gsy</td>\n",
       "    </tr>\n",
       "    <tr>\n",
       "      <th>2</th>\n",
       "      <td>candle_01</td>\n",
       "      <td>231.4428</td>\n",
       "      <td>11</td>\n",
       "      <td>232.5763</td>\n",
       "      <td>1.0</td>\n",
       "      <td>img</td>\n",
       "      <td>gsy</td>\n",
       "    </tr>\n",
       "    <tr>\n",
       "      <th>3</th>\n",
       "      <td>candle_01</td>\n",
       "      <td>232.6428</td>\n",
       "      <td>0_1_10</td>\n",
       "      <td>233.9763</td>\n",
       "      <td>1.0</td>\n",
       "      <td>img</td>\n",
       "      <td>gsy</td>\n",
       "    </tr>\n",
       "    <tr>\n",
       "      <th>4</th>\n",
       "      <td>candle_01</td>\n",
       "      <td>234.0429</td>\n",
       "      <td>34_43_35_44</td>\n",
       "      <td>238.2430</td>\n",
       "      <td>2.0</td>\n",
       "      <td>img</td>\n",
       "      <td>gsy</td>\n",
       "    </tr>\n",
       "  </tbody>\n",
       "</table>\n",
       "</div>"
      ],
      "text/plain": [
       "       image  image_on        probe   resp_on  response state subj\n",
       "0  candle_01  215.1759     10_19_11  219.2427       NaN   img  gsy\n",
       "1  candle_01  229.9761           10  231.3763       1.0   img  gsy\n",
       "2  candle_01  231.4428           11  232.5763       1.0   img  gsy\n",
       "3  candle_01  232.6428       0_1_10  233.9763       1.0   img  gsy\n",
       "4  candle_01  234.0429  34_43_35_44  238.2430       2.0   img  gsy"
      ]
     },
     "execution_count": 22,
     "metadata": {},
     "output_type": "execute_result"
    }
   ],
   "source": [
    "probe_exp.head()"
   ]
  },
  {
   "cell_type": "code",
   "execution_count": 23,
   "metadata": {},
   "outputs": [
    {
     "data": {
      "text/plain": [
       "image        object\n",
       "image_on    float64\n",
       "probe        object\n",
       "resp_on     float64\n",
       "response    float64\n",
       "state        object\n",
       "subj         object\n",
       "dtype: object"
      ]
     },
     "execution_count": 23,
     "metadata": {},
     "output_type": "execute_result"
    }
   ],
   "source": [
    "probe_exp.dtypes"
   ]
  },
  {
   "cell_type": "code",
   "execution_count": 24,
   "metadata": {},
   "outputs": [
    {
     "data": {
      "text/html": [
       "<div>\n",
       "<style scoped>\n",
       "    .dataframe tbody tr th:only-of-type {\n",
       "        vertical-align: middle;\n",
       "    }\n",
       "\n",
       "    .dataframe tbody tr th {\n",
       "        vertical-align: top;\n",
       "    }\n",
       "\n",
       "    .dataframe thead th {\n",
       "        text-align: right;\n",
       "    }\n",
       "</style>\n",
       "<table border=\"1\" class=\"dataframe\">\n",
       "  <thead>\n",
       "    <tr style=\"text-align: right;\">\n",
       "      <th></th>\n",
       "      <th>image_on</th>\n",
       "      <th>resp_on</th>\n",
       "      <th>response</th>\n",
       "    </tr>\n",
       "  </thead>\n",
       "  <tbody>\n",
       "    <tr>\n",
       "      <th>count</th>\n",
       "      <td>1380.000000</td>\n",
       "      <td>1380.000000</td>\n",
       "      <td>1379.00000</td>\n",
       "    </tr>\n",
       "    <tr>\n",
       "      <th>mean</th>\n",
       "      <td>4440.619738</td>\n",
       "      <td>4447.286832</td>\n",
       "      <td>2.66715</td>\n",
       "    </tr>\n",
       "    <tr>\n",
       "      <th>std</th>\n",
       "      <td>3075.427969</td>\n",
       "      <td>3077.128046</td>\n",
       "      <td>1.53579</td>\n",
       "    </tr>\n",
       "    <tr>\n",
       "      <th>min</th>\n",
       "      <td>215.175900</td>\n",
       "      <td>219.242700</td>\n",
       "      <td>1.00000</td>\n",
       "    </tr>\n",
       "    <tr>\n",
       "      <th>25%</th>\n",
       "      <td>1990.291700</td>\n",
       "      <td>1997.875325</td>\n",
       "      <td>1.00000</td>\n",
       "    </tr>\n",
       "    <tr>\n",
       "      <th>50%</th>\n",
       "      <td>3153.514250</td>\n",
       "      <td>3158.314400</td>\n",
       "      <td>2.00000</td>\n",
       "    </tr>\n",
       "    <tr>\n",
       "      <th>75%</th>\n",
       "      <td>7484.623025</td>\n",
       "      <td>7525.707200</td>\n",
       "      <td>3.00000</td>\n",
       "    </tr>\n",
       "    <tr>\n",
       "      <th>max</th>\n",
       "      <td>10004.854800</td>\n",
       "      <td>10007.855000</td>\n",
       "      <td>8.00000</td>\n",
       "    </tr>\n",
       "  </tbody>\n",
       "</table>\n",
       "</div>"
      ],
      "text/plain": [
       "           image_on       resp_on    response\n",
       "count   1380.000000   1380.000000  1379.00000\n",
       "mean    4440.619738   4447.286832     2.66715\n",
       "std     3075.427969   3077.128046     1.53579\n",
       "min      215.175900    219.242700     1.00000\n",
       "25%     1990.291700   1997.875325     1.00000\n",
       "50%     3153.514250   3158.314400     2.00000\n",
       "75%     7484.623025   7525.707200     3.00000\n",
       "max    10004.854800  10007.855000     8.00000"
      ]
     },
     "execution_count": 24,
     "metadata": {},
     "output_type": "execute_result"
    }
   ],
   "source": [
    "probe_exp.describe()"
   ]
  },
  {
   "cell_type": "code",
   "execution_count": 25,
   "metadata": {},
   "outputs": [
    {
     "data": {
      "text/plain": [
       "<matplotlib.axes._subplots.AxesSubplot at 0x7f2700abf750>"
      ]
     },
     "execution_count": 25,
     "metadata": {},
     "output_type": "execute_result"
    },
    {
     "data": {
      "image/png": "[encoded data removed]",
      "text/plain": [
       "<matplotlib.figure.Figure at 0x7f2700abf190>"
      ]
     },
     "metadata": {},
     "output_type": "display_data"
    }
   ],
   "source": [
    "diff = probe_exp.resp_on - probe_exp.image_on\n",
    "\n",
    "diff.hist(bins=20)"
   ]
  },
  {
   "cell_type": "code",
   "execution_count": 26,
   "metadata": {},
   "outputs": [
    {
     "data": {
      "text/plain": [
       "count    1380.000000\n",
       "mean        6.667094\n",
       "std         7.884963\n",
       "min         0.266700\n",
       "25%         2.066800\n",
       "50%         4.733500\n",
       "75%         8.467000\n",
       "max       135.535800\n",
       "dtype: float64"
      ]
     },
     "execution_count": 26,
     "metadata": {},
     "output_type": "execute_result"
    }
   ],
   "source": [
    "diff.describe()"
   ]
  },
  {
   "cell_type": "code",
   "execution_count": null,
   "metadata": {},
   "outputs": [],
   "source": []
  },
  {
   "cell_type": "code",
   "execution_count": 27,
   "metadata": {},
   "outputs": [
    {
     "data": {
      "text/html": [
       "<div>\n",
       "<style scoped>\n",
       "    .dataframe tbody tr th:only-of-type {\n",
       "        vertical-align: middle;\n",
       "    }\n",
       "\n",
       "    .dataframe tbody tr th {\n",
       "        vertical-align: top;\n",
       "    }\n",
       "\n",
       "    .dataframe thead th {\n",
       "        text-align: right;\n",
       "    }\n",
       "</style>\n",
       "<table border=\"1\" class=\"dataframe\">\n",
       "  <thead>\n",
       "    <tr style=\"text-align: right;\">\n",
       "      <th></th>\n",
       "      <th>image</th>\n",
       "      <th>image_on</th>\n",
       "      <th>probe</th>\n",
       "      <th>resp_on</th>\n",
       "      <th>response</th>\n",
       "      <th>state</th>\n",
       "      <th>subj</th>\n",
       "    </tr>\n",
       "  </thead>\n",
       "  <tbody>\n",
       "    <tr>\n",
       "      <th>1377</th>\n",
       "      <td>peaches_05</td>\n",
       "      <td>9964.5874</td>\n",
       "      <td>19_20_29</td>\n",
       "      <td>9998.9215</td>\n",
       "      <td>7.0</td>\n",
       "      <td>pcp</td>\n",
       "      <td>gsy</td>\n",
       "    </tr>\n",
       "    <tr>\n",
       "      <th>1378</th>\n",
       "      <td>peaches_05</td>\n",
       "      <td>9998.9881</td>\n",
       "      <td>41_42</td>\n",
       "      <td>10004.7883</td>\n",
       "      <td>2.0</td>\n",
       "      <td>pcp</td>\n",
       "      <td>gsy</td>\n",
       "    </tr>\n",
       "    <tr>\n",
       "      <th>1379</th>\n",
       "      <td>peaches_05</td>\n",
       "      <td>10004.8548</td>\n",
       "      <td>28_37_29_38</td>\n",
       "      <td>10007.8550</td>\n",
       "      <td>3.0</td>\n",
       "      <td>pcp</td>\n",
       "      <td>gsy</td>\n",
       "    </tr>\n",
       "  </tbody>\n",
       "</table>\n",
       "</div>"
      ],
      "text/plain": [
       "           image    image_on        probe     resp_on  response state subj\n",
       "1377  peaches_05   9964.5874     19_20_29   9998.9215       7.0   pcp  gsy\n",
       "1378  peaches_05   9998.9881        41_42  10004.7883       2.0   pcp  gsy\n",
       "1379  peaches_05  10004.8548  28_37_29_38  10007.8550       3.0   pcp  gsy"
      ]
     },
     "execution_count": 27,
     "metadata": {},
     "output_type": "execute_result"
    }
   ],
   "source": [
    "probe_exp[-3:]"
   ]
  },
  {
   "cell_type": "code",
   "execution_count": 28,
   "metadata": {},
   "outputs": [
    {
     "data": {
      "text/html": [
       "<div>\n",
       "<style scoped>\n",
       "    .dataframe tbody tr th:only-of-type {\n",
       "        vertical-align: middle;\n",
       "    }\n",
       "\n",
       "    .dataframe tbody tr th {\n",
       "        vertical-align: top;\n",
       "    }\n",
       "\n",
       "    .dataframe thead th {\n",
       "        text-align: right;\n",
       "    }\n",
       "</style>\n",
       "<table border=\"1\" class=\"dataframe\">\n",
       "  <thead>\n",
       "    <tr style=\"text-align: right;\">\n",
       "      <th></th>\n",
       "      <th>image</th>\n",
       "      <th>image_on</th>\n",
       "      <th>probe</th>\n",
       "      <th>resp_on</th>\n",
       "      <th>response</th>\n",
       "      <th>state</th>\n",
       "      <th>subj</th>\n",
       "    </tr>\n",
       "  </thead>\n",
       "  <tbody>\n",
       "    <tr>\n",
       "      <th>0</th>\n",
       "      <td>candle_01</td>\n",
       "      <td>215.1759</td>\n",
       "      <td>10_19_11</td>\n",
       "      <td>219.2427</td>\n",
       "      <td>NaN</td>\n",
       "      <td>img</td>\n",
       "      <td>gsy</td>\n",
       "    </tr>\n",
       "    <tr>\n",
       "      <th>1</th>\n",
       "      <td>candle_01</td>\n",
       "      <td>229.9761</td>\n",
       "      <td>10</td>\n",
       "      <td>231.3763</td>\n",
       "      <td>1.0</td>\n",
       "      <td>img</td>\n",
       "      <td>gsy</td>\n",
       "    </tr>\n",
       "    <tr>\n",
       "      <th>2</th>\n",
       "      <td>candle_01</td>\n",
       "      <td>231.4428</td>\n",
       "      <td>11</td>\n",
       "      <td>232.5763</td>\n",
       "      <td>1.0</td>\n",
       "      <td>img</td>\n",
       "      <td>gsy</td>\n",
       "    </tr>\n",
       "  </tbody>\n",
       "</table>\n",
       "</div>"
      ],
      "text/plain": [
       "       image  image_on     probe   resp_on  response state subj\n",
       "0  candle_01  215.1759  10_19_11  219.2427       NaN   img  gsy\n",
       "1  candle_01  229.9761        10  231.3763       1.0   img  gsy\n",
       "2  candle_01  231.4428        11  232.5763       1.0   img  gsy"
      ]
     },
     "execution_count": 28,
     "metadata": {},
     "output_type": "execute_result"
    }
   ],
   "source": [
    "probe_exp[:3]"
   ]
  },
  {
   "cell_type": "code",
   "execution_count": 29,
   "metadata": {},
   "outputs": [
    {
     "data": {
      "text/plain": [
       "176.25"
      ]
     },
     "execution_count": 29,
     "metadata": {},
     "output_type": "execute_result"
    }
   ],
   "source": [
    "(10804-229)/60.\n"
   ]
  },
  {
   "cell_type": "code",
   "execution_count": 30,
   "metadata": {},
   "outputs": [
    {
     "name": "stdout",
     "output_type": "stream",
     "text": [
      "image       candle_01\n",
      "image_on      229.976\n",
      "probe              10\n",
      "resp_on       231.376\n",
      "response            1\n",
      "state             img\n",
      "subj              gsy\n",
      "Name: 1, dtype: object\n",
      "<class 'pandas.core.series.Series'>\n"
     ]
    }
   ],
   "source": [
    "print probe_exp.loc[1]\n",
    "print type(probe_exp.loc[1])\n"
   ]
  },
  {
   "cell_type": "code",
   "execution_count": 31,
   "metadata": {},
   "outputs": [
    {
     "data": {
      "text/html": [
       "<div>\n",
       "<style scoped>\n",
       "    .dataframe tbody tr th:only-of-type {\n",
       "        vertical-align: middle;\n",
       "    }\n",
       "\n",
       "    .dataframe tbody tr th {\n",
       "        vertical-align: top;\n",
       "    }\n",
       "\n",
       "    .dataframe thead th {\n",
       "        text-align: right;\n",
       "    }\n",
       "</style>\n",
       "<table border=\"1\" class=\"dataframe\">\n",
       "  <thead>\n",
       "    <tr style=\"text-align: right;\">\n",
       "      <th></th>\n",
       "      <th>probe</th>\n",
       "      <th>response</th>\n",
       "    </tr>\n",
       "  </thead>\n",
       "  <tbody>\n",
       "    <tr>\n",
       "      <th>0</th>\n",
       "      <td>10_19_11</td>\n",
       "      <td>NaN</td>\n",
       "    </tr>\n",
       "    <tr>\n",
       "      <th>1</th>\n",
       "      <td>10</td>\n",
       "      <td>1.0</td>\n",
       "    </tr>\n",
       "    <tr>\n",
       "      <th>2</th>\n",
       "      <td>11</td>\n",
       "      <td>1.0</td>\n",
       "    </tr>\n",
       "    <tr>\n",
       "      <th>3</th>\n",
       "      <td>0_1_10</td>\n",
       "      <td>1.0</td>\n",
       "    </tr>\n",
       "    <tr>\n",
       "      <th>4</th>\n",
       "      <td>34_43_35_44</td>\n",
       "      <td>2.0</td>\n",
       "    </tr>\n",
       "  </tbody>\n",
       "</table>\n",
       "</div>"
      ],
      "text/plain": [
       "         probe  response\n",
       "0     10_19_11       NaN\n",
       "1           10       1.0\n",
       "2           11       1.0\n",
       "3       0_1_10       1.0\n",
       "4  34_43_35_44       2.0"
      ]
     },
     "execution_count": 31,
     "metadata": {},
     "output_type": "execute_result"
    }
   ],
   "source": [
    "probe_exp.loc[:, ['probe', 'response']].head()"
   ]
  },
  {
   "cell_type": "code",
   "execution_count": 32,
   "metadata": {},
   "outputs": [
    {
     "data": {
      "text/plain": [
       "image       candle_01\n",
       "image_on      215.176\n",
       "probe        10_19_11\n",
       "resp_on       219.243\n",
       "response          NaN\n",
       "state             img\n",
       "subj              gsy\n",
       "Name: 0, dtype: object"
      ]
     },
     "execution_count": 32,
     "metadata": {},
     "output_type": "execute_result"
    }
   ],
   "source": [
    "probe_exp.iloc[0]"
   ]
  },
  {
   "cell_type": "code",
   "execution_count": 33,
   "metadata": {},
   "outputs": [
    {
     "data": {
      "text/html": [
       "<div>\n",
       "<style scoped>\n",
       "    .dataframe tbody tr th:only-of-type {\n",
       "        vertical-align: middle;\n",
       "    }\n",
       "\n",
       "    .dataframe tbody tr th {\n",
       "        vertical-align: top;\n",
       "    }\n",
       "\n",
       "    .dataframe thead th {\n",
       "        text-align: right;\n",
       "    }\n",
       "</style>\n",
       "<table border=\"1\" class=\"dataframe\">\n",
       "  <thead>\n",
       "    <tr style=\"text-align: right;\">\n",
       "      <th></th>\n",
       "      <th>image_on</th>\n",
       "      <th>probe</th>\n",
       "    </tr>\n",
       "  </thead>\n",
       "  <tbody>\n",
       "    <tr>\n",
       "      <th>0</th>\n",
       "      <td>215.1759</td>\n",
       "      <td>10_19_11</td>\n",
       "    </tr>\n",
       "    <tr>\n",
       "      <th>1</th>\n",
       "      <td>229.9761</td>\n",
       "      <td>10</td>\n",
       "    </tr>\n",
       "  </tbody>\n",
       "</table>\n",
       "</div>"
      ],
      "text/plain": [
       "   image_on     probe\n",
       "0  215.1759  10_19_11\n",
       "1  229.9761        10"
      ]
     },
     "execution_count": 33,
     "metadata": {},
     "output_type": "execute_result"
    }
   ],
   "source": [
    "probe_exp.iloc[0:2, 1:3]"
   ]
  },
  {
   "cell_type": "code",
   "execution_count": 34,
   "metadata": {},
   "outputs": [
    {
     "data": {
      "text/html": [
       "<div>\n",
       "<style scoped>\n",
       "    .dataframe tbody tr th:only-of-type {\n",
       "        vertical-align: middle;\n",
       "    }\n",
       "\n",
       "    .dataframe tbody tr th {\n",
       "        vertical-align: top;\n",
       "    }\n",
       "\n",
       "    .dataframe thead th {\n",
       "        text-align: right;\n",
       "    }\n",
       "</style>\n",
       "<table border=\"1\" class=\"dataframe\">\n",
       "  <thead>\n",
       "    <tr style=\"text-align: right;\">\n",
       "      <th></th>\n",
       "      <th>image</th>\n",
       "      <th>image_on</th>\n",
       "      <th>probe</th>\n",
       "      <th>resp_on</th>\n",
       "      <th>response</th>\n",
       "      <th>state</th>\n",
       "      <th>subj</th>\n",
       "    </tr>\n",
       "  </thead>\n",
       "  <tbody>\n",
       "    <tr>\n",
       "      <th>191</th>\n",
       "      <td>candle_01</td>\n",
       "      <td>1201.3270</td>\n",
       "      <td>40_41</td>\n",
       "      <td>1210.3939</td>\n",
       "      <td>1.0</td>\n",
       "      <td>img</td>\n",
       "      <td>gsy</td>\n",
       "    </tr>\n",
       "    <tr>\n",
       "      <th>623</th>\n",
       "      <td>candle_01</td>\n",
       "      <td>2762.0901</td>\n",
       "      <td>40_41</td>\n",
       "      <td>2762.8236</td>\n",
       "      <td>1.0</td>\n",
       "      <td>pcp</td>\n",
       "      <td>gsy</td>\n",
       "    </tr>\n",
       "    <tr>\n",
       "      <th>943</th>\n",
       "      <td>peaches_05</td>\n",
       "      <td>6236.9869</td>\n",
       "      <td>40_41</td>\n",
       "      <td>6250.2539</td>\n",
       "      <td>3.0</td>\n",
       "      <td>img</td>\n",
       "      <td>gsy</td>\n",
       "    </tr>\n",
       "    <tr>\n",
       "      <th>1251</th>\n",
       "      <td>peaches_05</td>\n",
       "      <td>9216.6401</td>\n",
       "      <td>40_41</td>\n",
       "      <td>9220.1072</td>\n",
       "      <td>4.0</td>\n",
       "      <td>pcp</td>\n",
       "      <td>gsy</td>\n",
       "    </tr>\n",
       "  </tbody>\n",
       "</table>\n",
       "</div>"
      ],
      "text/plain": [
       "           image   image_on  probe    resp_on  response state subj\n",
       "191    candle_01  1201.3270  40_41  1210.3939       1.0   img  gsy\n",
       "623    candle_01  2762.0901  40_41  2762.8236       1.0   pcp  gsy\n",
       "943   peaches_05  6236.9869  40_41  6250.2539       3.0   img  gsy\n",
       "1251  peaches_05  9216.6401  40_41  9220.1072       4.0   pcp  gsy"
      ]
     },
     "execution_count": 34,
     "metadata": {},
     "output_type": "execute_result"
    }
   ],
   "source": [
    "probe_exp[probe_exp['probe']=='40_41']\n"
   ]
  },
  {
   "cell_type": "code",
   "execution_count": 35,
   "metadata": {
    "scrolled": true
   },
   "outputs": [
    {
     "data": {
      "text/html": [
       "<div>\n",
       "<style scoped>\n",
       "    .dataframe tbody tr th:only-of-type {\n",
       "        vertical-align: middle;\n",
       "    }\n",
       "\n",
       "    .dataframe tbody tr th {\n",
       "        vertical-align: top;\n",
       "    }\n",
       "\n",
       "    .dataframe thead th {\n",
       "        text-align: right;\n",
       "    }\n",
       "</style>\n",
       "<table border=\"1\" class=\"dataframe\">\n",
       "  <thead>\n",
       "    <tr style=\"text-align: right;\">\n",
       "      <th></th>\n",
       "      <th>image</th>\n",
       "      <th>image_on</th>\n",
       "      <th>probe</th>\n",
       "      <th>resp_on</th>\n",
       "      <th>response</th>\n",
       "      <th>state</th>\n",
       "      <th>subj</th>\n",
       "    </tr>\n",
       "  </thead>\n",
       "  <tbody>\n",
       "    <tr>\n",
       "      <th>29</th>\n",
       "      <td>candle_01</td>\n",
       "      <td>347.2449</td>\n",
       "      <td>40</td>\n",
       "      <td>352.7118</td>\n",
       "      <td>1.0</td>\n",
       "      <td>img</td>\n",
       "      <td>gsy</td>\n",
       "    </tr>\n",
       "    <tr>\n",
       "      <th>171</th>\n",
       "      <td>candle_01</td>\n",
       "      <td>1103.6586</td>\n",
       "      <td>41</td>\n",
       "      <td>1106.7921</td>\n",
       "      <td>1.0</td>\n",
       "      <td>img</td>\n",
       "      <td>gsy</td>\n",
       "    </tr>\n",
       "    <tr>\n",
       "      <th>191</th>\n",
       "      <td>candle_01</td>\n",
       "      <td>1201.3270</td>\n",
       "      <td>40_41</td>\n",
       "      <td>1210.3939</td>\n",
       "      <td>1.0</td>\n",
       "      <td>img</td>\n",
       "      <td>gsy</td>\n",
       "    </tr>\n",
       "    <tr>\n",
       "      <th>412</th>\n",
       "      <td>candle_01</td>\n",
       "      <td>2196.2125</td>\n",
       "      <td>41</td>\n",
       "      <td>2197.6793</td>\n",
       "      <td>1.0</td>\n",
       "      <td>pcp</td>\n",
       "      <td>gsy</td>\n",
       "    </tr>\n",
       "    <tr>\n",
       "      <th>433</th>\n",
       "      <td>candle_01</td>\n",
       "      <td>2256.2137</td>\n",
       "      <td>40</td>\n",
       "      <td>2258.3472</td>\n",
       "      <td>1.0</td>\n",
       "      <td>pcp</td>\n",
       "      <td>gsy</td>\n",
       "    </tr>\n",
       "    <tr>\n",
       "      <th>623</th>\n",
       "      <td>candle_01</td>\n",
       "      <td>2762.0901</td>\n",
       "      <td>40_41</td>\n",
       "      <td>2762.8236</td>\n",
       "      <td>1.0</td>\n",
       "      <td>pcp</td>\n",
       "      <td>gsy</td>\n",
       "    </tr>\n",
       "    <tr>\n",
       "      <th>738</th>\n",
       "      <td>peaches_05</td>\n",
       "      <td>3957.4793</td>\n",
       "      <td>41</td>\n",
       "      <td>3967.9463</td>\n",
       "      <td>2.0</td>\n",
       "      <td>img</td>\n",
       "      <td>gsy</td>\n",
       "    </tr>\n",
       "    <tr>\n",
       "      <th>785</th>\n",
       "      <td>peaches_05</td>\n",
       "      <td>4425.2880</td>\n",
       "      <td>40</td>\n",
       "      <td>4430.8215</td>\n",
       "      <td>3.0</td>\n",
       "      <td>img</td>\n",
       "      <td>gsy</td>\n",
       "    </tr>\n",
       "    <tr>\n",
       "      <th>943</th>\n",
       "      <td>peaches_05</td>\n",
       "      <td>6236.9869</td>\n",
       "      <td>40_41</td>\n",
       "      <td>6250.2539</td>\n",
       "      <td>3.0</td>\n",
       "      <td>img</td>\n",
       "      <td>gsy</td>\n",
       "    </tr>\n",
       "    <tr>\n",
       "      <th>1231</th>\n",
       "      <td>peaches_05</td>\n",
       "      <td>9069.1706</td>\n",
       "      <td>40</td>\n",
       "      <td>9073.1708</td>\n",
       "      <td>4.0</td>\n",
       "      <td>pcp</td>\n",
       "      <td>gsy</td>\n",
       "    </tr>\n",
       "    <tr>\n",
       "      <th>1250</th>\n",
       "      <td>peaches_05</td>\n",
       "      <td>9214.4401</td>\n",
       "      <td>41</td>\n",
       "      <td>9216.5736</td>\n",
       "      <td>2.0</td>\n",
       "      <td>pcp</td>\n",
       "      <td>gsy</td>\n",
       "    </tr>\n",
       "    <tr>\n",
       "      <th>1251</th>\n",
       "      <td>peaches_05</td>\n",
       "      <td>9216.6401</td>\n",
       "      <td>40_41</td>\n",
       "      <td>9220.1072</td>\n",
       "      <td>4.0</td>\n",
       "      <td>pcp</td>\n",
       "      <td>gsy</td>\n",
       "    </tr>\n",
       "  </tbody>\n",
       "</table>\n",
       "</div>"
      ],
      "text/plain": [
       "           image   image_on  probe    resp_on  response state subj\n",
       "29     candle_01   347.2449     40   352.7118       1.0   img  gsy\n",
       "171    candle_01  1103.6586     41  1106.7921       1.0   img  gsy\n",
       "191    candle_01  1201.3270  40_41  1210.3939       1.0   img  gsy\n",
       "412    candle_01  2196.2125     41  2197.6793       1.0   pcp  gsy\n",
       "433    candle_01  2256.2137     40  2258.3472       1.0   pcp  gsy\n",
       "623    candle_01  2762.0901  40_41  2762.8236       1.0   pcp  gsy\n",
       "738   peaches_05  3957.4793     41  3967.9463       2.0   img  gsy\n",
       "785   peaches_05  4425.2880     40  4430.8215       3.0   img  gsy\n",
       "943   peaches_05  6236.9869  40_41  6250.2539       3.0   img  gsy\n",
       "1231  peaches_05  9069.1706     40  9073.1708       4.0   pcp  gsy\n",
       "1250  peaches_05  9214.4401     41  9216.5736       2.0   pcp  gsy\n",
       "1251  peaches_05  9216.6401  40_41  9220.1072       4.0   pcp  gsy"
      ]
     },
     "execution_count": 35,
     "metadata": {},
     "output_type": "execute_result"
    }
   ],
   "source": [
    "probe_exp[probe_exp.probe.isin(['40','41','40_41'])]"
   ]
  },
  {
   "cell_type": "code",
   "execution_count": null,
   "metadata": {},
   "outputs": [],
   "source": [
    "ltd = probe_exp[probe_exp.subj=='ltd']\n",
    "ltd.sort(columns='probe')[0:6]"
   ]
  },
  {
   "cell_type": "code",
   "execution_count": null,
   "metadata": {},
   "outputs": [],
   "source": [
    "probe_exp.to_pickle(os.path.join(save_path+'multi_poly_probe_data_test.pkl'))"
   ]
  },
  {
   "cell_type": "code",
   "execution_count": null,
   "metadata": {},
   "outputs": [],
   "source": []
  }
 ],
 "metadata": {
  "kernelspec": {
   "display_name": "Python 2",
   "language": "python",
   "name": "python2"
  },
  "language_info": {
   "codemirror_mode": {
    "name": "ipython",
    "version": 2
   },
   "file_extension": ".py",
   "mimetype": "text/x-python",
   "name": "python",
   "nbconvert_exporter": "python",
   "pygments_lexer": "ipython2",
   "version": "2.7.12"
  }
 },
 "nbformat": 4,
 "nbformat_minor": 1
}
