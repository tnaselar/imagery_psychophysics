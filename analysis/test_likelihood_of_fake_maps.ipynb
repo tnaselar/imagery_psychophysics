{
 "metadata": {
  "name": "",
  "signature": "sha256:a3a2c16b0bd6dac3961ccd4b0cc418354250c855ab65b9958676431717072972"
 },
 "nbformat": 3,
 "nbformat_minor": 0,
 "worksheets": [
  {
   "cells": [
    {
     "cell_type": "code",
     "collapsed": false,
     "input": [
      "import numpy as np\n",
      "from imagery_psychophysics.src.stirling_maps import stirling_num_of_2nd_kind as snk\n",
      "from imagery_psychophysics.src.probes import probes\n",
      "from imagery_psychophysics.src.object_map import dead_leaves as dl\n",
      "from imagery_psychophysics.src.stirling_maps import sparse_point_maps\n",
      "from imagery_psychophysics.src.object_map import object_map as om\n",
      "from imagery_psychophysics.src.object_map import binarized_object_map as bom\n",
      "from imagery_psychophysics.src.poisson_binomial import poisson_beta_binomial as pbb\n",
      "%pylab inline\n",
      "%load_ext autoreload\n",
      "%autoreload 2"
     ],
     "language": "python",
     "metadata": {},
     "outputs": [
      {
       "output_type": "stream",
       "stream": "stdout",
       "text": [
        "Populating the interactive namespace from numpy and matplotlib\n"
       ]
      }
     ],
     "prompt_number": 1
    },
    {
     "cell_type": "heading",
     "level": 4,
     "metadata": {},
     "source": [
      "create a bunch of fake maps using the \"sparse_point_maps\" class"
     ]
    },
    {
     "cell_type": "code",
     "collapsed": false,
     "input": [
      "####let's see what is a reasonable number of objects / points to use for generating fake maps\n",
      "max_points = 16\n",
      "max_K = 4\n",
      "nums = zeros((max_points,1))\n",
      "for ii in range(1,max_points+1): ##<<number of points\n",
      "    nums[ii-1] = snk(ii, max_K)\n",
      "\n"
     ],
     "language": "python",
     "metadata": {},
     "outputs": [],
     "prompt_number": 2
    },
    {
     "cell_type": "code",
     "collapsed": false,
     "input": [
      "plot(range(1,max_points+1), log10(nums+1))\n",
      "xlim((1, max_points))"
     ],
     "language": "python",
     "metadata": {},
     "outputs": [
      {
       "metadata": {},
       "output_type": "pyout",
       "prompt_number": 3,
       "text": [
        "(1, 16)"
       ]
      },
      {
       "metadata": {},
       "output_type": "display_data",
       "png": "[encoded data removed]",
       "text": [
        "<matplotlib.figure.Figure at 0x7eff9d61c550>"
       ]
      }
     ],
     "prompt_number": 3
    },
    {
     "cell_type": "code",
     "collapsed": false,
     "input": [
      "nums"
     ],
     "language": "python",
     "metadata": {},
     "outputs": [
      {
       "metadata": {},
       "output_type": "pyout",
       "prompt_number": 4,
       "text": [
        "array([[  0.00000000e+00],\n",
        "       [  0.00000000e+00],\n",
        "       [  0.00000000e+00],\n",
        "       [  1.00000000e+00],\n",
        "       [  1.00000000e+01],\n",
        "       [  6.50000000e+01],\n",
        "       [  3.50000000e+02],\n",
        "       [  1.70100000e+03],\n",
        "       [  7.77000000e+03],\n",
        "       [  3.41050000e+04],\n",
        "       [  1.45750000e+05],\n",
        "       [  6.11501000e+05],\n",
        "       [  2.53253000e+06],\n",
        "       [  1.03917450e+07],\n",
        "       [  4.23559500e+07]])"
       ]
      }
     ],
     "prompt_number": 4
    },
    {
     "cell_type": "heading",
     "level": 5,
     "metadata": {},
     "source": [
      "so if we have 12 seed points and 4 objects we get just shy of a million different maps"
     ]
    },
    {
     "cell_type": "code",
     "collapsed": false,
     "input": [
      "##ok, based on the above, these look like reasonable parameters\n",
      "K = 4 ##the number of clusters in what will be the target map\n",
      "size_of_field = 32\n",
      "seed_point_rows = 3\n",
      "seed_point_cols = 3\n",
      "num_seed_points = seed_point_rows*seed_point_cols"
     ],
     "language": "python",
     "metadata": {},
     "outputs": [],
     "prompt_number": 5
    },
    {
     "cell_type": "code",
     "collapsed": false,
     "input": [
      "##generate the fake maps\n",
      "##a regular grid of points on the visual field are partitioned into all possible arrangement of K non-empty sets\n",
      "##then, nearest-nbr interpolation is used to assign object membership to all of the other pixels\n",
      "spm = sparse_point_maps(seed_point_rows, seed_point_cols, size_of_field, cluster_pref='all', number_of_clusters = K)\n",
      "maps = spm.nn_interpolation()"
     ],
     "language": "python",
     "metadata": {},
     "outputs": [],
     "prompt_number": 6
    },
    {
     "cell_type": "code",
     "collapsed": false,
     "input": [
      "##look at 36 of them\n",
      "look_at_these = linspace(0,maps.shape[1]-1, num=36)\n",
      "for ii,jj in enumerate(look_at_these):\n",
      "    subplot(6,6,ii)\n",
      "    imshow(squeeze(maps[jj, :,:]))\n",
      "    axis('off')\n"
     ],
     "language": "python",
     "metadata": {},
     "outputs": [
      {
       "metadata": {},
       "output_type": "display_data",
       "png": "[encoded data removed]",
       "text": [
        "<matplotlib.figure.Figure at 0x106419b50>"
       ]
      }
     ],
     "prompt_number": 7
    },
    {
     "cell_type": "code",
     "collapsed": false,
     "input": [
      "##now scatter the locations of the seed points and take another look at the object maps\n",
      "spm.scatter()\n",
      "scatter_maps = spm.nn_interpolation()"
     ],
     "language": "python",
     "metadata": {},
     "outputs": [],
     "prompt_number": 8
    },
    {
     "cell_type": "code",
     "collapsed": false,
     "input": [
      "##look at 49 of them\n",
      "look_at_these = linspace(0,maps.shape[1]-1, num=49)\n",
      "for ii,jj in enumerate(look_at_these.astype('int')):\n",
      "    subplot(7,7,ii)\n",
      "    imshow(squeeze(scatter_maps[jj,:,:]))\n",
      "    axis('off')"
     ],
     "language": "python",
     "metadata": {},
     "outputs": [
      {
       "metadata": {},
       "output_type": "display_data",
       "png": "[encoded data removed]",
       "text": [
        "<matplotlib.figure.Figure at 0x106440ed0>"
       ]
      }
     ],
     "prompt_number": 9
    },
    {
     "cell_type": "heading",
     "level": 4,
     "metadata": {},
     "source": [
      "create probes"
     ]
    },
    {
     "cell_type": "code",
     "collapsed": false,
     "input": [
      "##make them\n",
      "probe_set = probes(size_of_field=size_of_field)"
     ],
     "language": "python",
     "metadata": {},
     "outputs": [],
     "prompt_number": 10
    },
    {
     "cell_type": "code",
     "collapsed": false,
     "input": [
      "##see them\n",
      "cnt = 0\n",
      "nr = probe_set.masks.shape[0]\n",
      "nc = probe_set.masks.shape[1]\n",
      "for ii in range(nr):\n",
      "    for jj in range(nc):\n",
      "        subplot(nr,nc,cnt)\n",
      "        imshow(squeeze(probe_set.masks[ii,jj,:,:]))\n",
      "        axis('off')\n",
      "        cnt+=1"
     ],
     "language": "python",
     "metadata": {},
     "outputs": [
      {
       "metadata": {},
       "output_type": "display_data",
       "png": "[encoded data removed]",
       "text": [
        "<matplotlib.figure.Figure at 0x10dabef50>"
       ]
      }
     ],
     "prompt_number": 11
    },
    {
     "cell_type": "heading",
     "level": 4,
     "metadata": {},
     "source": [
      "select a target map and generate noisy responses to it given the probe set"
     ]
    },
    {
     "cell_type": "code",
     "collapsed": false,
     "input": [
      "##make it\n",
      "from PIL.Image import fromarray\n",
      "target_image = fromarray(squeeze(scatter_maps[0,:,:]).astype('uint8'))\n",
      "target_om = om(target_image)"
     ],
     "language": "python",
     "metadata": {},
     "outputs": [],
     "prompt_number": 13
    },
    {
     "cell_type": "code",
     "collapsed": false,
     "input": [
      "##see it\n",
      "num_samples = target_om.count_myself()*20\n",
      "good_samples = target_om.good_samples(num_samples)\n",
      "imshow(target_om.map_as_array)\n",
      "colorbar()\n",
      "axis('off')\n",
      "scatter(good_samples[:,0], good_samples[:,1],c='k')"
     ],
     "language": "python",
     "metadata": {},
     "outputs": [
      {
       "metadata": {},
       "output_type": "pyout",
       "prompt_number": 15,
       "text": [
        "<matplotlib.collections.PathCollection at 0x112e4d090>"
       ]
      },
      {
       "metadata": {},
       "output_type": "display_data",
       "png": "[encoded data removed]",
       "text": [
        "<matplotlib.figure.Figure at 0x113f7c310>"
       ]
      }
     ],
     "prompt_number": 15
    },
    {
     "cell_type": "code",
     "collapsed": false,
     "input": [
      "##create deterministic \"responses\" to it\n",
      "target_probe_overlap = target_om.overlap(probe_set.masks.reshape((probe_set.num_probes, size_of_field, size_of_field)))"
     ],
     "language": "python",
     "metadata": {},
     "outputs": [],
     "prompt_number": 18
    },
    {
     "cell_type": "code",
     "collapsed": false,
     "input": [
      "target_probe_overlap.shape"
     ],
     "language": "python",
     "metadata": {},
     "outputs": [
      {
       "metadata": {},
       "output_type": "pyout",
       "prompt_number": 20,
       "text": [
        "(121, 4)"
       ]
      }
     ],
     "prompt_number": 20
    },
    {
     "cell_type": "code",
     "collapsed": false,
     "input": [
      "##see them\n",
      "imshow(np.sum(target_probe_overlap,axis=1).reshape((probe_set.masks.shape[0],probe_set.masks.shape[1])).T)\n",
      "colorbar()"
     ],
     "language": "python",
     "metadata": {},
     "outputs": [
      {
       "metadata": {},
       "output_type": "pyout",
       "prompt_number": 21,
       "text": [
        "<matplotlib.colorbar.Colorbar instance at 0x10cc20440>"
       ]
      },
      {
       "metadata": {},
       "output_type": "display_data",
       "png": "[encoded data removed]",
       "text": [
        "<matplotlib.figure.Figure at 0x114018f90>"
       ]
      }
     ],
     "prompt_number": 21
    },
    {
     "cell_type": "code",
     "collapsed": false,
     "input": [
      "##set the noise parameters\n",
      "from imagery_psychophysics.src.poisson_binomial import on_off_2_alpha_beta as o2ab\n",
      "on_prob = .8\n",
      "off_prob = .2\n",
      "alpha,beta = o2ab(on_prob, off_prob)\n",
      "print alpha\n",
      "print beta"
     ],
     "language": "python",
     "metadata": {},
     "outputs": [
      {
       "output_type": "stream",
       "stream": "stdout",
       "text": [
        "0.333333333333\n",
        "0.333333333333\n"
       ]
      }
     ],
     "prompt_number": 30
    },
    {
     "cell_type": "code",
     "collapsed": false,
     "input": [
      "##generate noisy responses\n",
      "from imagery_psychophysics.src.poisson_binomial import poisson_beta_binomial as pbb\n",
      "lkhd = pbb(4, alpha_beta = (alpha, beta))\n",
      "target_noisy_resp = lkhd.sample(target_probe_overlap)\n"
     ],
     "language": "python",
     "metadata": {},
     "outputs": [],
     "prompt_number": 31
    },
    {
     "cell_type": "code",
     "collapsed": false,
     "input": [
      "target_noisy_resp.shape"
     ],
     "language": "python",
     "metadata": {},
     "outputs": [
      {
       "metadata": {},
       "output_type": "pyout",
       "prompt_number": 32,
       "text": [
        "(121, 1)"
       ]
      }
     ],
     "prompt_number": 32
    },
    {
     "cell_type": "code",
     "collapsed": false,
     "input": [
      "##see the noisy responses\n",
      "imshow(target_noisy_resp.reshape((probe_set.masks.shape[0],probe_set.masks.shape[1])).T)\n",
      "colorbar()"
     ],
     "language": "python",
     "metadata": {},
     "outputs": [
      {
       "metadata": {},
       "output_type": "pyout",
       "prompt_number": 33,
       "text": [
        "<matplotlib.colorbar.Colorbar instance at 0x110de53f8>"
       ]
      },
      {
       "metadata": {},
       "output_type": "display_data",
       "png": "[encoded data removed]",
       "text": [
        "<matplotlib.figure.Figure at 0x114099c10>"
       ]
      }
     ],
     "prompt_number": 33
    },
    {
     "cell_type": "code",
     "collapsed": false,
     "input": [
      "##generate deterministic responses\n",
      "target_det_resp = pbb(4,alpha_beta = (0,0)).sample(target_probe_overlap)"
     ],
     "language": "python",
     "metadata": {},
     "outputs": [],
     "prompt_number": 34
    },
    {
     "cell_type": "code",
     "collapsed": false,
     "input": [
      "##sanity check: see the deterministc responses--should look just like the sum of \"target_probe_overlap\" above\n",
      "imshow(target_det_resp.reshape((probe_set.masks.shape[0],probe_set.masks.shape[1])).T)\n",
      "colorbar()"
     ],
     "language": "python",
     "metadata": {},
     "outputs": [
      {
       "metadata": {},
       "output_type": "pyout",
       "prompt_number": 35,
       "text": [
        "<matplotlib.colorbar.Colorbar instance at 0x112311c68>"
       ]
      },
      {
       "metadata": {},
       "output_type": "display_data",
       "png": "[encoded data removed]",
       "text": [
        "<matplotlib.figure.Figure at 0x1147be050>"
       ]
      }
     ],
     "prompt_number": 35
    },
    {
     "cell_type": "code",
     "collapsed": false,
     "input": [
      "##sanity check: compare response histograms for noisy/detstic responses\n",
      "subplot(1,2,1, title='noisy')\n",
      "mn = min(target_noisy_resp)\n",
      "mx = max(target_noisy_resp)\n",
      "binwidth = 1\n",
      "hist(target_noisy_resp,bins = arange(0.,5.000001,1), align = 'mid')\n",
      "xticks(arange(-1,6,1))\n",
      "yticks(arange(0,100,20))\n",
      "print unique(target_noisy_resp)\n",
      "subplot(1,2,2,title = 'deterministic')\n",
      "hist(target_det_resp,arange(0,5.01,1), align = 'mid')\n",
      "xticks(arange(-1,6,1))\n",
      "yticks(arange(0,100,20))\n",
      "print unique(target_det_resp)"
     ],
     "language": "python",
     "metadata": {},
     "outputs": [
      {
       "output_type": "stream",
       "stream": "stdout",
       "text": [
        "[0 1 2 3 4]\n",
        "[1 2 3 4]"
       ]
      },
      {
       "output_type": "stream",
       "stream": "stdout",
       "text": [
        "\n"
       ]
      },
      {
       "metadata": {},
       "output_type": "display_data",
       "png": "[encoded data removed]",
       "text": [
        "<matplotlib.figure.Figure at 0x1147651d0>"
       ]
      }
     ],
     "prompt_number": 36
    },
    {
     "cell_type": "code",
     "collapsed": false,
     "input": [
      "##evaluate likelihood of the noisy/det responses given the actual mental image\n",
      "subplot(1,2,1)\n",
      "nz_lk = lkhd.likelihood(target_noisy_resp, target_probe_overlap)\n",
      "print nz_lk.prod()\n",
      "nzy = hist(nz_lk,arange(0,1,.01))\n",
      "xticks([0, .25, 1]) \n",
      "subplot(1,2,2)\n",
      "dt_lk = lkhd.likelihood(target_det_resp, target_probe_overlap)\n",
      "dtr = hist(dt_lk,arange(0,1,.01))\n",
      "print dt_lk.prod()\n",
      "xticks([0, .25, 1])"
     ],
     "language": "python",
     "metadata": {},
     "outputs": [
      {
       "output_type": "stream",
       "stream": "stdout",
       "text": [
        "6.78834810376e-60\n",
        "3.58079312523e-38"
       ]
      },
      {
       "output_type": "stream",
       "stream": "stdout",
       "text": [
        "\n"
       ]
      },
      {
       "metadata": {},
       "output_type": "pyout",
       "prompt_number": 38,
       "text": [
        "([<matplotlib.axis.XTick at 0x111fbaf50>,\n",
        "  <matplotlib.axis.XTick at 0x111fbaa10>,\n",
        "  <matplotlib.axis.XTick at 0x10f734450>],\n",
        " <a list of 3 Text xticklabel objects>)"
       ]
      },
      {
       "metadata": {},
       "output_type": "display_data",
       "png": "[encoded data removed]",
       "text": [
        "<matplotlib.figure.Figure at 0x10cfa7a90>"
       ]
      }
     ],
     "prompt_number": 38
    },
    {
     "cell_type": "code",
     "collapsed": false,
     "input": [
      "print 'no noise: %f' %(lkhd.sum_log_likelihood(target_det_resp, target_probe_overlap))\n",
      "print 'some noise: %f' %(lkhd.sum_log_likelihood(target_noisy_resp, target_probe_overlap))"
     ],
     "language": "python",
     "metadata": {},
     "outputs": [
      {
       "output_type": "stream",
       "stream": "stdout",
       "text": [
        "no noise: -86.222649\n",
        "some noise: -136.239898\n"
       ]
      }
     ],
     "prompt_number": 39
    },
    {
     "cell_type": "heading",
     "level": 4,
     "metadata": {},
     "source": [
      "generate likelihoods for all the stirling maps using the alpha,beta and noisy response to the target object map"
     ]
    },
    {
     "cell_type": "code",
     "collapsed": false,
     "input": [
      "##get the target/probe overlap matrices for each one\n",
      "smaps = scatter_maps[0:1000,:,:]\n",
      "distractor_lkhd = zeros((smaps.shape[0], 1))\n",
      "for ii,cur_map in enumerate(smaps):\n",
      "    tmp_om = om(fromarray((cur_map).astype('uint8')))\n",
      "    tmp_overlap = tmp_om.overlap(probe_set.masks.reshape((probe_set.num_probes, size_of_field, size_of_field)))\n",
      "    ##this is the p(r | alpha, beta, probes, distractor_map), where r = noisy responses to target map\n",
      "    distractor_lkhd[ii] = lkhd.sum_log_likelihood(target_noisy_resp, tmp_overlap)\n",
      "    if not mod(ii, 100):\n",
      "        print ii,"
     ],
     "language": "python",
     "metadata": {},
     "outputs": [
      {
       "output_type": "stream",
       "stream": "stdout",
       "text": [
        "0 "
       ]
      },
      {
       "output_type": "stream",
       "stream": "stdout",
       "text": [
        "100 "
       ]
      },
      {
       "output_type": "stream",
       "stream": "stdout",
       "text": [
        "200 "
       ]
      },
      {
       "output_type": "stream",
       "stream": "stdout",
       "text": [
        "300 "
       ]
      },
      {
       "output_type": "stream",
       "stream": "stdout",
       "text": [
        "400 "
       ]
      },
      {
       "output_type": "stream",
       "stream": "stdout",
       "text": [
        "500 "
       ]
      },
      {
       "output_type": "stream",
       "stream": "stdout",
       "text": [
        "600 "
       ]
      },
      {
       "output_type": "stream",
       "stream": "stdout",
       "text": [
        "700 "
       ]
      },
      {
       "output_type": "stream",
       "stream": "stdout",
       "text": [
        "800 "
       ]
      },
      {
       "output_type": "stream",
       "stream": "stdout",
       "text": [
        "900\n"
       ]
      }
     ],
     "prompt_number": 40
    },
    {
     "cell_type": "heading",
     "level": 4,
     "metadata": {},
     "source": [
      "a card-trick analysis on the results"
     ]
    },
    {
     "cell_type": "code",
     "collapsed": false,
     "input": [
      "target_lkhd = lkhd.sum_log_likelihood(target_noisy_resp, target_probe_overlap)\n",
      "foo = hist(distractor_lkhd, 50)\n",
      "print 'sum log lkhd of \"best\" distractor: %f' %(sort(distractor_lkhd, axis=0)[-1])\n",
      "print 'sum log lkhd of median distractor: %f' %(median(distractor_lkhd))\n",
      "print 'sum log lkhd of target map: %f' %(target_lkhd)\n",
      "print 'sanity check: first distractor map should have same lkhd as target: %f' %(distractor_lkhd[0])"
     ],
     "language": "python",
     "metadata": {},
     "outputs": [
      {
       "output_type": "stream",
       "stream": "stdout",
       "text": [
        "sum log lkhd of \"best\" distractor: -136.239898\n",
        "sum log lkhd of median distractor: -162.460877\n",
        "sum log lkhd of target map: -136.239898\n",
        "sanity check: first distractor map should have same lkhd as target: -136.239898"
       ]
      },
      {
       "output_type": "stream",
       "stream": "stdout",
       "text": [
        "\n"
       ]
      },
      {
       "metadata": {},
       "output_type": "display_data",
       "png": "[encoded data removed]",
       "text": [
        "<matplotlib.figure.Figure at 0x1147c3f50>"
       ]
      }
     ],
     "prompt_number": 41
    },
    {
     "cell_type": "heading",
     "level": 4,
     "metadata": {},
     "source": [
      "generate likelihoods for the regular-grid stirling maps, find the best one, compare to \"best\" scatter map"
     ]
    },
    {
     "cell_type": "code",
     "collapsed": false,
     "input": [
      "##get the target/probe overlap matrices for each one\n",
      "less_maps = maps #maps[:,:,0:5000]\n",
      "grid_distractor_lkhd = zeros((less_maps.shape[0], 1))\n",
      "for ii,cur_map in enumerate(less_maps):\n",
      "    tmp_om = om(fromarray((cur_map).astype('uint8')))\n",
      "    tmp_overlap = tmp_om.overlap(probe_set.masks.reshape((probe_set.num_probes, size_of_field, size_of_field)))\n",
      "    ##this is the p(r | alpha, beta, probes, distractor_map), where r = noisy responses to target map\n",
      "    grid_distractor_lkhd[ii] = lkhd.sum_log_likelihood(target_noisy_resp, tmp_overlap)\n",
      "    if not mod(ii, 100):\n",
      "        print ii,"
     ],
     "language": "python",
     "metadata": {},
     "outputs": [
      {
       "output_type": "stream",
       "stream": "stdout",
       "text": [
        "0 "
       ]
      },
      {
       "output_type": "stream",
       "stream": "stdout",
       "text": [
        "100 "
       ]
      },
      {
       "output_type": "stream",
       "stream": "stdout",
       "text": [
        "200 "
       ]
      },
      {
       "output_type": "stream",
       "stream": "stdout",
       "text": [
        "300 "
       ]
      },
      {
       "output_type": "stream",
       "stream": "stdout",
       "text": [
        "400 "
       ]
      },
      {
       "output_type": "stream",
       "stream": "stdout",
       "text": [
        "500 "
       ]
      },
      {
       "output_type": "stream",
       "stream": "stdout",
       "text": [
        "600 "
       ]
      },
      {
       "output_type": "stream",
       "stream": "stdout",
       "text": [
        "700 "
       ]
      },
      {
       "output_type": "stream",
       "stream": "stdout",
       "text": [
        "800 "
       ]
      },
      {
       "output_type": "stream",
       "stream": "stdout",
       "text": [
        "900 "
       ]
      },
      {
       "output_type": "stream",
       "stream": "stdout",
       "text": [
        "1000 "
       ]
      },
      {
       "output_type": "stream",
       "stream": "stdout",
       "text": [
        "1100 "
       ]
      },
      {
       "output_type": "stream",
       "stream": "stdout",
       "text": [
        "1200 "
       ]
      },
      {
       "output_type": "stream",
       "stream": "stdout",
       "text": [
        "1300 "
       ]
      },
      {
       "output_type": "stream",
       "stream": "stdout",
       "text": [
        "1400 "
       ]
      },
      {
       "output_type": "stream",
       "stream": "stdout",
       "text": [
        "1500 "
       ]
      },
      {
       "output_type": "stream",
       "stream": "stdout",
       "text": [
        "1600 "
       ]
      },
      {
       "output_type": "stream",
       "stream": "stdout",
       "text": [
        "1700 "
       ]
      },
      {
       "output_type": "stream",
       "stream": "stdout",
       "text": [
        "1800 "
       ]
      },
      {
       "output_type": "stream",
       "stream": "stdout",
       "text": [
        "1900 "
       ]
      },
      {
       "output_type": "stream",
       "stream": "stdout",
       "text": [
        "2000 "
       ]
      },
      {
       "output_type": "stream",
       "stream": "stdout",
       "text": [
        "2100 "
       ]
      },
      {
       "output_type": "stream",
       "stream": "stdout",
       "text": [
        "2200 "
       ]
      },
      {
       "output_type": "stream",
       "stream": "stdout",
       "text": [
        "2300 "
       ]
      },
      {
       "output_type": "stream",
       "stream": "stdout",
       "text": [
        "2400 "
       ]
      },
      {
       "output_type": "stream",
       "stream": "stdout",
       "text": [
        "2500 "
       ]
      },
      {
       "output_type": "stream",
       "stream": "stdout",
       "text": [
        "2600 "
       ]
      },
      {
       "output_type": "stream",
       "stream": "stdout",
       "text": [
        "2700 "
       ]
      },
      {
       "output_type": "stream",
       "stream": "stdout",
       "text": [
        "2800 "
       ]
      },
      {
       "output_type": "stream",
       "stream": "stdout",
       "text": [
        "2900 "
       ]
      },
      {
       "output_type": "stream",
       "stream": "stdout",
       "text": [
        "3000 "
       ]
      },
      {
       "output_type": "stream",
       "stream": "stdout",
       "text": [
        "3100 "
       ]
      },
      {
       "output_type": "stream",
       "stream": "stdout",
       "text": [
        "3200 "
       ]
      },
      {
       "output_type": "stream",
       "stream": "stdout",
       "text": [
        "3300 "
       ]
      },
      {
       "output_type": "stream",
       "stream": "stdout",
       "text": [
        "3400 "
       ]
      },
      {
       "output_type": "stream",
       "stream": "stdout",
       "text": [
        "3500 "
       ]
      },
      {
       "output_type": "stream",
       "stream": "stdout",
       "text": [
        "3600 "
       ]
      },
      {
       "output_type": "stream",
       "stream": "stdout",
       "text": [
        "3700 "
       ]
      },
      {
       "output_type": "stream",
       "stream": "stdout",
       "text": [
        "3800 "
       ]
      },
      {
       "output_type": "stream",
       "stream": "stdout",
       "text": [
        "3900 "
       ]
      },
      {
       "output_type": "stream",
       "stream": "stdout",
       "text": [
        "4000 "
       ]
      },
      {
       "output_type": "stream",
       "stream": "stdout",
       "text": [
        "4100 "
       ]
      },
      {
       "output_type": "stream",
       "stream": "stdout",
       "text": [
        "4200 "
       ]
      },
      {
       "output_type": "stream",
       "stream": "stdout",
       "text": [
        "4300 "
       ]
      },
      {
       "output_type": "stream",
       "stream": "stdout",
       "text": [
        "4400 "
       ]
      },
      {
       "output_type": "stream",
       "stream": "stdout",
       "text": [
        "4500 "
       ]
      },
      {
       "output_type": "stream",
       "stream": "stdout",
       "text": [
        "4600 "
       ]
      },
      {
       "output_type": "stream",
       "stream": "stdout",
       "text": [
        "4700 "
       ]
      },
      {
       "output_type": "stream",
       "stream": "stdout",
       "text": [
        "4800 "
       ]
      },
      {
       "output_type": "stream",
       "stream": "stdout",
       "text": [
        "4900 "
       ]
      },
      {
       "output_type": "stream",
       "stream": "stdout",
       "text": [
        "5000 "
       ]
      },
      {
       "output_type": "stream",
       "stream": "stdout",
       "text": [
        "5100 "
       ]
      },
      {
       "output_type": "stream",
       "stream": "stdout",
       "text": [
        "5200 "
       ]
      },
      {
       "output_type": "stream",
       "stream": "stdout",
       "text": [
        "5300 "
       ]
      },
      {
       "output_type": "stream",
       "stream": "stdout",
       "text": [
        "5400 "
       ]
      },
      {
       "output_type": "stream",
       "stream": "stdout",
       "text": [
        "5500 "
       ]
      },
      {
       "output_type": "stream",
       "stream": "stdout",
       "text": [
        "5600 "
       ]
      },
      {
       "output_type": "stream",
       "stream": "stdout",
       "text": [
        "5700 "
       ]
      },
      {
       "output_type": "stream",
       "stream": "stdout",
       "text": [
        "5800 "
       ]
      },
      {
       "output_type": "stream",
       "stream": "stdout",
       "text": [
        "5900 "
       ]
      },
      {
       "output_type": "stream",
       "stream": "stdout",
       "text": [
        "6000 "
       ]
      },
      {
       "output_type": "stream",
       "stream": "stdout",
       "text": [
        "6100 "
       ]
      },
      {
       "output_type": "stream",
       "stream": "stdout",
       "text": [
        "6200 "
       ]
      },
      {
       "output_type": "stream",
       "stream": "stdout",
       "text": [
        "6300 "
       ]
      },
      {
       "output_type": "stream",
       "stream": "stdout",
       "text": [
        "6400 "
       ]
      },
      {
       "output_type": "stream",
       "stream": "stdout",
       "text": [
        "6500 "
       ]
      },
      {
       "output_type": "stream",
       "stream": "stdout",
       "text": [
        "6600 "
       ]
      },
      {
       "output_type": "stream",
       "stream": "stdout",
       "text": [
        "6700 "
       ]
      },
      {
       "output_type": "stream",
       "stream": "stdout",
       "text": [
        "6800 "
       ]
      },
      {
       "output_type": "stream",
       "stream": "stdout",
       "text": [
        "6900 "
       ]
      },
      {
       "output_type": "stream",
       "stream": "stdout",
       "text": [
        "7000 "
       ]
      },
      {
       "output_type": "stream",
       "stream": "stdout",
       "text": [
        "7100 "
       ]
      },
      {
       "output_type": "stream",
       "stream": "stdout",
       "text": [
        "7200 "
       ]
      },
      {
       "output_type": "stream",
       "stream": "stdout",
       "text": [
        "7300 "
       ]
      },
      {
       "output_type": "stream",
       "stream": "stdout",
       "text": [
        "7400 "
       ]
      },
      {
       "output_type": "stream",
       "stream": "stdout",
       "text": [
        "7500 "
       ]
      },
      {
       "output_type": "stream",
       "stream": "stdout",
       "text": [
        "7600 "
       ]
      },
      {
       "output_type": "stream",
       "stream": "stdout",
       "text": [
        "7700\n"
       ]
      }
     ],
     "prompt_number": 42
    },
    {
     "cell_type": "code",
     "collapsed": false,
     "input": [
      "grid_distractor_lkhd.shape"
     ],
     "language": "python",
     "metadata": {},
     "outputs": [
      {
       "metadata": {},
       "output_type": "pyout",
       "prompt_number": 43,
       "text": [
        "(7770, 1)"
       ]
      }
     ],
     "prompt_number": 43
    },
    {
     "cell_type": "code",
     "collapsed": false,
     "input": [
      "foo = hist(grid_distractor_lkhd, 50)\n",
      "print 'sum log lkhd of \"best\" grid distractor: %f' %(sort(grid_distractor_lkhd, axis=0)[-1])\n",
      "print 'sum log lkhd of median distractor: %f' %(median(grid_distractor_lkhd))\n",
      "print 'sum log lkhd of target map: %f' %(target_lkhd)"
     ],
     "language": "python",
     "metadata": {},
     "outputs": [
      {
       "output_type": "stream",
       "stream": "stdout",
       "text": [
        "sum log lkhd of \"best\" grid distractor: -162.490662\n",
        "sum log lkhd of median distractor: -201.030027\n",
        "sum log lkhd of target map: -136.239898\n"
       ]
      },
      {
       "metadata": {},
       "output_type": "display_data",
       "png": "[encoded data removed]",
       "text": [
        "<matplotlib.figure.Figure at 0x111fb5a10>"
       ]
      }
     ],
     "prompt_number": 44
    },
    {
     "cell_type": "heading",
     "level": 5,
     "metadata": {},
     "source": [
      "under most settings, the best regular grid map is worse than the median scatter-map. not surpising since the target is drawn from  the scatter maps"
     ]
    },
    {
     "cell_type": "code",
     "collapsed": false,
     "input": [
      "##compare the best regular-grid distractor map to the target\n",
      "subplot(1,3,1,title='target')\n",
      "axis('off')\n",
      "imshow(squeeze(smaps[0, :,:]))\n",
      "subplot(1,3,2,title = 'best\\nregular-grid map')\n",
      "axis('off')\n",
      "imshow(squeeze(maps[argmax(grid_distractor_lkhd), :,:]))\n",
      "subplot(1,3,3,title = '10th-best\\nscattered map')\n",
      "axis('off')\n",
      "imshow(squeeze(smaps[argsort(distractor_lkhd,axis=0)[-10],:,:]))\n"
     ],
     "language": "python",
     "metadata": {},
     "outputs": [
      {
       "metadata": {},
       "output_type": "pyout",
       "prompt_number": 46,
       "text": [
        "<matplotlib.image.AxesImage at 0x10f778610>"
       ]
      },
      {
       "metadata": {},
       "output_type": "display_data",
       "png": "[encoded data removed]",
       "text": [
        "<matplotlib.figure.Figure at 0x111fe5d10>"
       ]
      }
     ],
     "prompt_number": 46
    },
    {
     "cell_type": "heading",
     "level": 5,
     "metadata": {},
     "source": [
      "doesn't look much like the real one"
     ]
    }
   ],
   "metadata": {}
  }
 ]
}