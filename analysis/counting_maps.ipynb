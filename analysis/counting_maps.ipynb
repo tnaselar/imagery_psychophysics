{
 "cells": [
  {
   "cell_type": "code",
   "execution_count": 1,
   "metadata": {},
   "outputs": [],
   "source": [
    "import numpy as np\n",
    "from itertools import combinations, chain, permutations, product\n",
    "from functools import partial\n",
    "from itertools import combinations_with_replacement as cwr\n",
    "from math import factorial as bang\n",
    "from scipy.misc import comb\n",
    "from imagery_psychophysics.src.stirling_maps import stirling_partitions as stp\n",
    "from imagery_psychophysics.src.stirling_maps import stirling_num_of_2nd_kind as snk\n",
    "from time import time\n",
    "\n",
    "%matplotlib inline"
   ]
  },
  {
   "cell_type": "markdown",
   "metadata": {},
   "source": [
    "* To do\n",
    "    - separate methods for selection / partitioning / assignment\n",
    "    - implement recursive counting of selection component -- check against known formula\n",
    "    - implement recursive counting of all legal maps -- check against known formula"
   ]
  },
  {
   "cell_type": "markdown",
   "metadata": {},
   "source": [
    "#### helpful functions"
   ]
  },
  {
   "cell_type": "code",
   "execution_count": 2,
   "metadata": {},
   "outputs": [],
   "source": [
    "##powerset of a list\n",
    "def powerset(iterable):\n",
    "    s = list(iterable)\n",
    "    return chain.from_iterable(combinations(s, r) for r in range(len(s)+1))\n",
    "\n",
    "##all strict subsets\n",
    "def strict(iterable):\n",
    "    pwr = set(powerset(iterable))\n",
    "    pwr.discard(tuple(iterable))\n",
    "    return pwr\n",
    "\n",
    "\n",
    "##all strict, non-empty subsets\n",
    "def strictnonempty(iterable):\n",
    "    pwr = set(powerset(iterable))\n",
    "    pwr.discard(tuple(iterable))\n",
    "    pwr.discard(())\n",
    "    return pwr\n",
    "    \n",
    "\n",
    "\n",
    "##all subsets of the integers -- redundant.\n",
    "allsubsets = lambda n: list(chain(*[combinations(range(n), ni) for ni in range(n+1)]))\n",
    "\n",
    "##nonempty subsets of the integers up to n\n",
    "def nonemptysubsets(n):\n",
    "    allsubs = set(allsubsets(n))\n",
    "    allsubs.discard(())\n",
    "    return allsubs\n",
    "\n",
    "##unique integers from keys\n",
    "def integers_from_keys(mydict):\n",
    "    return list(np.unique(sum(mydict.keys(),())))  ## == [m]\n",
    "\n",
    "##return subset of a dictionary with certain keys ignored\n",
    "def ignore_keys(ignore_any_key_with, mydict):\n",
    "    return {key: mydict[key] for key in mydict.keys() if all([x not in key for x in ignore_any_key_with])}\n",
    "    "
   ]
  },
  {
   "cell_type": "markdown",
   "metadata": {},
   "source": [
    "#### construct an intersect-complement-union partion using indexed basis sets: a basis set will be the number of probe windows whose unions are measured during the experiment. so if the number of basis sets is four, we will acquire subject responses to all possible unions of those four windows, including the \"singletons\" where the windows are shown by themselves."
   ]
  },
  {
   "cell_type": "code",
   "execution_count": 10,
   "metadata": {},
   "outputs": [],
   "source": [
    "##measure the cardinality of each block of \"Venn diagram\" partition\n",
    "def block_size(union_subset, union_value_dict, size_of_universe = 0):\n",
    "    '''notation guide:\n",
    "    union_subset = S\n",
    "    union_value_dict[T] = d_T\n",
    "    '''\n",
    "    doPrint = 1\n",
    "    basis_set_indices = integers_from_keys(union_value_dict)\n",
    " \n",
    "    adder = 0\n",
    "    if len(union_subset) == len(basis_set_indices):\n",
    "        return size_of_universe - union_value_dict[union_subset]\n",
    "    for F in powerset(union_subset):\n",
    "        sgn = len(union_subset)-len(F)\n",
    "        if doPrint:\n",
    "            print 'F |-------> %s' %(F,)\n",
    "        for T in powerset(set(basis_set_indices)-set(F)):\n",
    "            if T:\n",
    "                if doPrint:\n",
    "                    print 'T |--> %s' %(T,)\n",
    "                adder += (-1)**(sgn+len(T)+1)*union_value_dict[T]\n",
    "                if doPrint:\n",
    "                    print 'adder: %d' %(adder)\n",
    "    return adder\n",
    "\n"
   ]
  },
  {
   "cell_type": "code",
   "execution_count": 15,
   "metadata": {},
   "outputs": [
    {
     "name": "stdout",
     "output_type": "stream",
     "text": [
      "{(0, 1): 1, (): 1, (1,): 1, (0,): 1}\n",
      "F |-------> ()\n",
      "T |--> (0,)\n",
      "adder: -1\n",
      "T |--> (1,)\n",
      "adder: -2\n",
      "T |--> (0, 1)\n",
      "adder: -1\n",
      "F |-------> (0,)\n",
      "T |--> (1,)\n",
      "adder: 0\n",
      "0\n"
     ]
    }
   ],
   "source": [
    "##simple example\n",
    "number_of_basis_sets = 2\n",
    "S = (0,)\n",
    "union_value_dict = {}\n",
    "for ci in allsubsets(number_of_basis_sets):\n",
    "    union_value_dict[ci] = 1\n",
    "# union_value_dict[()] = 0\n",
    "print union_value_dict\n",
    "print block_size(S, union_value_dict, size_of_universe=2)"
   ]
  },
  {
   "cell_type": "markdown",
   "metadata": {},
   "source": [
    "#### count the number of sets possible by building a set from the blocks of a partition. For each block of a partition, we intersect the target set with the blocks of the partition. If the block contains n elements, and the intersection of the target with the block contains k elements, then there are n-choose-k ways of constructing that little compartment of the target set."
   ]
  },
  {
   "cell_type": "code",
   "execution_count": 19,
   "metadata": {},
   "outputs": [],
   "source": [
    "def count_sets(target_index, union_value_dict, size_of_universe = 0):\n",
    "    basis_set_indices = list(set(integers_from_keys(union_value_dict)) - set((target_index,)))  ##these are the basis sets\n",
    "    basis_values_only = ignore_keys((target_index,), union_value_dict)\n",
    "    output = 1\n",
    "    doPrint = 0\n",
    "    for S in powerset(basis_set_indices):\n",
    "        if doPrint:\n",
    "            print 'S |-------------> %s' %(S,)\n",
    "        upper = block_size(S, basis_values_only,size_of_universe)\n",
    "        if doPrint:\n",
    "            print 'S |-------------> %s' %(S,)\n",
    "        downer = block_size(S , union_value_dict,size_of_universe)\n",
    "        print upper\n",
    "        print downer\n",
    "        output *= comb(upper, downer)\n",
    "#         print output\n",
    "    \n",
    "    return output"
   ]
  },
  {
   "cell_type": "code",
   "execution_count": 20,
   "metadata": {},
   "outputs": [
    {
     "name": "stdout",
     "output_type": "stream",
     "text": [
      "{(1, 2): 1, (0, 1): 1, (0,): 1, (1,): 1, (0, 1, 2): 1, (2,): 1, (0, 2): 1}\n",
      "1\n",
      "1\n",
      "0\n",
      "0\n",
      "0\n",
      "0\n",
      "0\n",
      "0\n"
     ]
    },
    {
     "data": {
      "text/plain": [
       "1.0"
      ]
     },
     "execution_count": 20,
     "metadata": {},
     "output_type": "execute_result"
    }
   ],
   "source": [
    "##specific example\n",
    "\n",
    "##set_1 is the basis set, set_0 is the target set. Here we list the sizes of the sets and their union\n",
    "union_value_dict = {(0, 1, 2): 1, (0,): 1, (1,): 1, (2,): 1, (1,2): 1, (0,1): 1, (0,2): 1} \n",
    "print union_value_dict \n",
    "\n",
    "##how many target map\n",
    "target_index=0\n",
    "count_sets(target_index, union_value_dict,size_of_universe=1)"
   ]
  },
  {
   "cell_type": "code",
   "execution_count": 21,
   "metadata": {},
   "outputs": [],
   "source": [
    "##this will help count \n",
    "def number_of_basis_interactions(number_of_basis_sets):\n",
    "    return 2**number_of_basis_sets-1"
   ]
  },
  {
   "cell_type": "code",
   "execution_count": 22,
   "metadata": {},
   "outputs": [
    {
     "name": "stdout",
     "output_type": "stream",
     "text": [
      "127\n"
     ]
    }
   ],
   "source": [
    "print number_of_basis_interactions(7)"
   ]
  },
  {
   "cell_type": "code",
   "execution_count": 23,
   "metadata": {},
   "outputs": [
    {
     "name": "stdout",
     "output_type": "stream",
     "text": [
      "(2 objects and 2 basis sets) gives (3 interactions and 8 potential combos\n",
      "(2 objects and 3 basis sets) gives (7 interactions and 128 potential combos\n",
      "(2 objects and 4 basis sets) gives (15 interactions and 32768 potential combos\n",
      "(2 objects and 5 basis sets) gives (31 interactions and 2147483648 potential combos\n",
      "(3 objects and 2 basis sets) gives (3 interactions and 27 potential combos\n",
      "(3 objects and 3 basis sets) gives (7 interactions and 2187 potential combos\n",
      "(3 objects and 4 basis sets) gives (15 interactions and 14348907 potential combos\n",
      "(3 objects and 5 basis sets) gives (31 interactions and 617673396283947 potential combos\n",
      "(4 objects and 2 basis sets) gives (3 interactions and 64 potential combos\n",
      "(4 objects and 3 basis sets) gives (7 interactions and 16384 potential combos\n",
      "(4 objects and 4 basis sets) gives (15 interactions and 1073741824 potential combos\n",
      "(4 objects and 5 basis sets) gives (31 interactions and 4611686018427387904 potential combos\n",
      "(5 objects and 2 basis sets) gives (3 interactions and 125 potential combos\n",
      "(5 objects and 3 basis sets) gives (7 interactions and 78125 potential combos\n",
      "(5 objects and 4 basis sets) gives (15 interactions and 30517578125 potential combos\n",
      "(5 objects and 5 basis sets) gives (31 interactions and 4656612873077392578125 potential combos\n",
      "(6 objects and 2 basis sets) gives (3 interactions and 216 potential combos\n",
      "(6 objects and 3 basis sets) gives (7 interactions and 279936 potential combos\n",
      "(6 objects and 4 basis sets) gives (15 interactions and 470184984576 potential combos\n",
      "(6 objects and 5 basis sets) gives (31 interactions and 1326443518324400147398656 potential combos\n",
      "(7 objects and 2 basis sets) gives (3 interactions and 343 potential combos\n",
      "(7 objects and 3 basis sets) gives (7 interactions and 823543 potential combos\n",
      "(7 objects and 4 basis sets) gives (15 interactions and 4747561509943 potential combos\n",
      "(7 objects and 5 basis sets) gives (31 interactions and 157775382034845806615042743 potential combos\n",
      "(8 objects and 2 basis sets) gives (3 interactions and 512 potential combos\n",
      "(8 objects and 3 basis sets) gives (7 interactions and 2097152 potential combos\n",
      "(8 objects and 4 basis sets) gives (15 interactions and 35184372088832 potential combos\n",
      "(8 objects and 5 basis sets) gives (31 interactions and 9903520314283042199192993792 potential combos\n",
      "(9 objects and 2 basis sets) gives (3 interactions and 729 potential combos\n",
      "(9 objects and 3 basis sets) gives (7 interactions and 4782969 potential combos\n",
      "(9 objects and 4 basis sets) gives (15 interactions and 205891132094649 potential combos\n",
      "(9 objects and 5 basis sets) gives (31 interactions and 381520424476945831628649898809 potential combos\n",
      "(10 objects and 2 basis sets) gives (3 interactions and 1000 potential combos\n",
      "(10 objects and 3 basis sets) gives (7 interactions and 10000000 potential combos\n",
      "(10 objects and 4 basis sets) gives (15 interactions and 1000000000000000 potential combos\n",
      "(10 objects and 5 basis sets) gives (31 interactions and 10000000000000000000000000000000 potential combos\n"
     ]
    }
   ],
   "source": [
    "for jj in range(2,10+1):\n",
    "    for ii in range(2,5+1):\n",
    "        print '(%d objects and %d basis sets) gives (%d interactions and %d potential combos'         %(jj, \n",
    "                                                                                                        ii,\n",
    "                                                                                                        number_of_basis_interactions(ii),\n",
    "                                                                                                        jj**number_of_basis_interactions(ii))\n"
   ]
  },
  {
   "cell_type": "code",
   "execution_count": 24,
   "metadata": {},
   "outputs": [],
   "source": [
    "def enumerate_legal_combos(number_of_objects=1, number_of_basis_sets=2):\n",
    "    doprint = 0\n",
    "    ##nobs = number of basis sets\n",
    "    ##nobj = number of objects (size of universe)\n",
    "    nobj = number_of_objects\n",
    "    nobs = number_of_basis_sets\n",
    "    total_possible_combos = nobj**number_of_basis_interactions(nobs)\n",
    "    print 'total of %d possible combos' %(total_possible_combos)\n",
    "    all_unions_of_basis_sets = list(nonemptysubsets(nobs)) ##[(1,), (2,), ... , (1,2), ... , (1,nobs), ... , (1,2,...,nobs)]\n",
    "    all_unions_of_basis_sets.sort(key=lambda t: len(t), reverse=False) ##sorts by length of tuples\n",
    "    all_union_dict = dict(zip(all_unions_of_basis_sets, range(len(all_unions_of_basis_sets))))\n",
    "    parents_for_union_floor = lambda cur_union: map(lambda y: all_union_dict[y], combinations(cur_union,len(cur_union)-1))\n",
    "    get_min = lambda cur_union,val,mapping_func = parents_for_union_floor: max(val[mapping_func(cur_union)]) ##\n",
    "    get_max = lambda cur_union, val: min(nobj, min(map(lambda z: np.sum(val[z]), map(lambda y: [all_union_dict[y[0]], all_union_dict[y[1]]], [map(tuple,ii) for ii in list(stp(cur_union,2))]))))\n",
    "\n",
    "\n",
    "    ##for singletons, all possible combinations of values between 1 and nobs are legal\n",
    "    all_values_of_unions = list(product(range(1,nobj+1), repeat = nobs))  ##[(1,1,1...), (1,1,nobs,...), etc]\n",
    "    if doprint:\n",
    "        print 'all unions: %s' %(all_unions_of_basis_sets)\n",
    "        print 'start values: %s' %(all_values_of_unions)\n",
    "    for cur_union in [au for au in all_unions_of_basis_sets if len(au) >= 2]:\n",
    "        ## val = (val1, val2, val3, ... , val_k), where k = number of cur_unions sampled up to now.\n",
    "        if doprint:\n",
    "            print 'current union |------> %s' %(cur_union,)\n",
    "    #     for val in all_values_of_unions:\n",
    "    #         print 'cur val: --> %s' %(val,)\n",
    "    #         for dx in range(get_min(cur_union,np.array(val)), get_max(cur_union,np.array(val))+1):\n",
    "    #             print 'new val: --> %s' %(val+(dx,),)\n",
    "        all_values_of_unions = [val+(dx,) for val in all_values_of_unions for dx in range(get_min(cur_union,np.array(val)), 1+get_max(cur_union,np.array(val)))]\n",
    "#         if doprint:\n",
    "#             for newv in all_values_of_unions:\n",
    "#                 print 'new value: --> %s' %(newv,)\n",
    "    print 'counted %d legal combos' %(len(all_values_of_unions))\n",
    "    print 'so %f of combos are legal' %(float(len(all_values_of_unions))/total_possible_combos)\n",
    "    return [dict(zip(all_unions_of_basis_sets, cc)) for cc in all_values_of_unions]"
   ]
  },
  {
   "cell_type": "code",
   "execution_count": 25,
   "metadata": {},
   "outputs": [
    {
     "data": {
      "text/plain": [
       "11.0"
      ]
     },
     "execution_count": 25,
     "metadata": {},
     "output_type": "execute_result"
    }
   ],
   "source": [
    "comb(4,2)+comb(4,3)+comb(4,4)"
   ]
  },
  {
   "cell_type": "code",
   "execution_count": 26,
   "metadata": {},
   "outputs": [
    {
     "name": "stdout",
     "output_type": "stream",
     "text": [
      "total of 279936 possible combos\n",
      "counted 2799 legal combos\n",
      "so 0.009999 of combos are legal\n"
     ]
    }
   ],
   "source": [
    "##test \n",
    "foo = enumerate_legal_combos(6,3)\n"
   ]
  },
  {
   "cell_type": "code",
   "execution_count": 27,
   "metadata": {},
   "outputs": [],
   "source": [
    "##okay, this gives all possible combos\n",
    "def enumerate_possible_counts(number_of_objects=1, number_of_basis_sets=2): ##enumerate all possible cardinalities of basis sets and their unions\n",
    "    all_possible_unions_of_sets = nonemptysubsets(number_of_basis_sets)\n",
    "    cnt = number_of_objects**len(all_possible_unions_of_sets)\n",
    "    print cnt\n",
    "    all_possible_values_of_unions = product(range(1,number_of_objects+1), repeat = len(all_possible_unions_of_sets))\n",
    "    return [dict(zip(all_possible_unions_of_sets, cc)) for cc in all_possible_values_of_unions]\n",
    "    \n",
    "    "
   ]
  },
  {
   "cell_type": "code",
   "execution_count": 28,
   "metadata": {},
   "outputs": [
    {
     "name": "stdout",
     "output_type": "stream",
     "text": [
      "8\n",
      "1\n",
      "1\n",
      "1\n",
      "0\n",
      "{(0, 1): 1, (0,): 1, (1,): 1} |----> 1\n",
      "1\n",
      "2\n",
      "1\n",
      "0\n",
      "{(0, 1): 1, (0,): 2, (1,): 1} |----> 0\n",
      "2\n",
      "2\n",
      "0\n",
      "-1\n",
      "{(0, 1): 1, (0,): 1, (1,): 2} |----> 0\n",
      "2\n",
      "3\n",
      "0\n",
      "-1\n",
      "{(0, 1): 1, (0,): 2, (1,): 2} |----> 0\n",
      "1\n",
      "0\n",
      "1\n",
      "1\n",
      "{(0, 1): 2, (0,): 1, (1,): 1} |----> 1\n",
      "1\n",
      "1\n",
      "1\n",
      "1\n",
      "{(0, 1): 2, (0,): 2, (1,): 1} |----> 1\n",
      "2\n",
      "1\n",
      "0\n",
      "0\n",
      "{(0, 1): 2, (0,): 1, (1,): 2} |----> 2\n",
      "2\n",
      "2\n",
      "0\n",
      "0\n",
      "{(0, 1): 2, (0,): 2, (1,): 2} |----> 1\n",
      "total: 6\n",
      "total of 8 possible combos\n",
      "counted 5 legal combos\n",
      "so 0.625000 of combos are legal\n",
      "1\n",
      "1\n",
      "1\n",
      "0\n",
      "{(0, 1): 1, (0,): 1, (1,): 1} |----> 1\n",
      "1\n",
      "0\n",
      "1\n",
      "1\n",
      "{(0, 1): 2, (0,): 1, (1,): 1} |----> 1\n",
      "1\n",
      "1\n",
      "1\n",
      "1\n",
      "{(0, 1): 2, (0,): 2, (1,): 1} |----> 1\n",
      "2\n",
      "1\n",
      "0\n",
      "0\n",
      "{(0, 1): 2, (0,): 1, (1,): 2} |----> 2\n",
      "2\n",
      "2\n",
      "0\n",
      "0\n",
      "{(0, 1): 2, (0,): 2, (1,): 2} |----> 1\n",
      "total: 6\n"
     ]
    }
   ],
   "source": [
    "##compare all possible combos, to only the legal combos\n",
    "adder = 0\n",
    "noo = 2\n",
    "num_basis = 2\n",
    "all_counts = enumerate_possible_counts(number_of_objects=noo, number_of_basis_sets=num_basis)\n",
    "for union_value_dict in all_counts:\n",
    "    cnt = count_sets(target_index, union_value_dict,size_of_universe=noo)\n",
    "    print '%s |----> %d' %(union_value_dict, cnt)\n",
    "    adder += cnt\n",
    "print 'total: %d' %(adder)\n",
    "\n",
    "adder=0\n",
    "all_counts = enumerate_legal_combos(number_of_objects=noo, number_of_basis_sets=num_basis)\n",
    "for union_value_dict in all_counts:\n",
    "    cnt = count_sets(target_index, union_value_dict,size_of_universe=noo)\n",
    "    print '%s |----> %d' %(union_value_dict, cnt)\n",
    "    adder += cnt\n",
    "print 'total: %d' %(adder)"
   ]
  },
  {
   "cell_type": "code",
   "execution_count": 15,
   "metadata": {},
   "outputs": [
    {
     "name": "stdout",
     "output_type": "stream",
     "text": [
      "{(0, 1): 1, (0,): 1, (1,): 2} |----> 0\n",
      "{(0, 1): 2, (0,): 1, (1,): 2} |----> 2\n",
      "{(0, 1): 3, (0,): 1, (1,): 2} |----> 2\n",
      "{(0, 1): 4, (0,): 1, (1,): 2} |----> 0\n",
      "basis size: 2\n",
      "total: 4\n",
      "should be: 4\n",
      "\n",
      "\n",
      "new basis size: 1\n",
      "{(0, 1): 1, (0,): 1, (1,): 1} |----> 1\n",
      "{(0, 1): 2, (0,): 1, (1,): 1} |----> 3\n",
      "{(0, 1): 3, (0,): 1, (1,): 1} |----> 0\n",
      "{(0, 1): 4, (0,): 1, (1,): 1} |----> 0\n",
      "total: 4\n"
     ]
    }
   ],
   "source": [
    "##for a basis with one set, fix the size of the the basis and target and then integrate over all sizes of their union\n",
    "number_of_objects = 4\n",
    "target_index = 0\n",
    "basis_index = 1\n",
    "target_size = 1\n",
    "basis_size = 2  ##this is the number of elements in the lone basis set\n",
    "all_counts = [{(target_index,): target_size, (basis_index,): basis_size, (target_index, basis_index): ii} for ii in range(1,number_of_objects+1)]\n",
    "\n",
    "##should get comb(size_of_universe, size_of_target_set)\n",
    "adder = 0\n",
    "for union_value_dict in all_counts:\n",
    "    cnt = count_sets(target_index, union_value_dict,size_of_universe=number_of_objects)\n",
    "    print '%s |----> %d' %(union_value_dict, cnt)\n",
    "    adder += cnt\n",
    "print 'basis size: %d' %(basis_size)    \n",
    "print 'total: %d' %(adder)\n",
    "print 'should be: %d' %(comb(number_of_objects, target_size))\n",
    "\n",
    "##value should not depend on \"basis size\" as long as <= number_of_objects\n",
    "basis_size = 1\n",
    "print '\\n'\n",
    "print 'new basis size: %d' %(basis_size)\n",
    "all_counts = [{(target_index,): target_size, (basis_index,): basis_size, (target_index, basis_index): ii} for ii in range(1,number_of_objects+1)]\n",
    "adder = 0\n",
    "for union_value_dict in all_counts:\n",
    "    cnt = count_sets(target_index, union_value_dict,size_of_universe=number_of_objects)\n",
    "    print '%s |----> %d' %(union_value_dict, cnt)\n",
    "    adder += cnt\n",
    "print 'total: %d' %(adder)\n",
    "\n"
   ]
  },
  {
   "cell_type": "code",
   "execution_count": 16,
   "metadata": {},
   "outputs": [
    {
     "data": {
      "text/plain": [
       "1.0"
      ]
     },
     "execution_count": 16,
     "metadata": {},
     "output_type": "execute_result"
    }
   ],
   "source": [
    "comb(3,0)"
   ]
  },
  {
   "cell_type": "markdown",
   "metadata": {},
   "source": [
    "#### percentage of illegal configurations as a function of basis set size"
   ]
  },
  {
   "cell_type": "code",
   "execution_count": 17,
   "metadata": {},
   "outputs": [
    {
     "ename": "NameError",
     "evalue": "name 'enumerate_possible_coounts' is not defined",
     "output_type": "error",
     "traceback": [
      "\u001b[1;31m---------------------------------------------------------------------------\u001b[0m\n\u001b[1;31mNameError\u001b[0m                                 Traceback (most recent call last)",
      "\u001b[1;32m<ipython-input-17-3df809941039>\u001b[0m in \u001b[0;36m<module>\u001b[1;34m()\u001b[0m\n\u001b[0;32m      9\u001b[0m     \u001b[0mnon_legal_cnt\u001b[0m \u001b[1;33m=\u001b[0m \u001b[1;36m0\u001b[0m\u001b[1;33m\u001b[0m\u001b[0m\n\u001b[0;32m     10\u001b[0m     \u001b[1;32mfor\u001b[0m \u001b[0mnumber_of_basis_sets\u001b[0m \u001b[1;32min\u001b[0m \u001b[0mrange\u001b[0m\u001b[1;33m(\u001b[0m\u001b[1;36m2\u001b[0m\u001b[1;33m,\u001b[0m \u001b[0mmax_bs\u001b[0m\u001b[1;33m+\u001b[0m\u001b[1;36m1\u001b[0m\u001b[1;33m)\u001b[0m\u001b[1;33m:\u001b[0m\u001b[1;33m\u001b[0m\u001b[0m\n\u001b[1;32m---> 11\u001b[1;33m         \u001b[0mall_counts\u001b[0m \u001b[1;33m=\u001b[0m \u001b[0menumerate_possible_coounts\u001b[0m\u001b[1;33m(\u001b[0m\u001b[0mnumber_of_objects\u001b[0m\u001b[1;33m=\u001b[0m\u001b[0mnumber_of_objects\u001b[0m\u001b[1;33m,\u001b[0m \u001b[0mnumber_of_basis_sets\u001b[0m\u001b[1;33m=\u001b[0m\u001b[0mnumber_of_basis_sets\u001b[0m\u001b[1;33m)\u001b[0m\u001b[1;33m\u001b[0m\u001b[0m\n\u001b[0m\u001b[0;32m     12\u001b[0m         \u001b[1;32mfor\u001b[0m \u001b[0munion_value_dict\u001b[0m \u001b[1;32min\u001b[0m \u001b[0mall_counts\u001b[0m\u001b[1;33m:\u001b[0m\u001b[1;33m\u001b[0m\u001b[0m\n\u001b[0;32m     13\u001b[0m             \u001b[0mcnt\u001b[0m \u001b[1;33m=\u001b[0m \u001b[0mcount_sets\u001b[0m\u001b[1;33m(\u001b[0m\u001b[0mtarget_index\u001b[0m\u001b[1;33m,\u001b[0m \u001b[0munion_value_dict\u001b[0m\u001b[1;33m,\u001b[0m\u001b[0msize_of_universe\u001b[0m\u001b[1;33m=\u001b[0m\u001b[0mnumber_of_objects\u001b[0m\u001b[1;33m)\u001b[0m\u001b[1;33m\u001b[0m\u001b[0m\n",
      "\u001b[1;31mNameError\u001b[0m: name 'enumerate_possible_coounts' is not defined"
     ]
    }
   ],
   "source": [
    "##enumerate all possible cardinalities of basis sets and their unions\n",
    "target_index = 0\n",
    "max_no = 10\n",
    "max_bs = 5\n",
    "cnt = 0\n",
    "results_dict = {'n_objects': [], 'n_basis': [], 'legal': [], 'not_legal': [], 'count_dist': []}\n",
    "for number_of_objects in range(2, max_no+1):\n",
    "    legal_cnt = 0\n",
    "    non_legal_cnt = 0\n",
    "    for number_of_basis_sets in range(2, max_bs+1):\n",
    "        all_counts = enumerate_possible_coounts(number_of_objects=number_of_objects, number_of_basis_sets=number_of_basis_sets)\n",
    "        for union_value_dict in all_counts:\n",
    "            cnt = count_sets(target_index, union_value_dict,size_of_universe=number_of_objects)\n",
    "            if cnt:\n",
    "                legal_cnt += 1\n",
    "            else:\n",
    "                non_legal_cnt += 1\n",
    "        results_dict['n_objects'].append(number_of_objects)\n",
    "        results_dict['n_basis'].append(number_of_basis_sets)\n",
    "        results_dict['legal'].append(legal_cnt)\n",
    "        results_dict['not_legal'].append(non_legal_cnt)\n",
    "\n",
    "print results_dict"
   ]
  },
  {
   "cell_type": "code",
   "execution_count": null,
   "metadata": {},
   "outputs": [],
   "source": [
    "import pandas as pd"
   ]
  },
  {
   "cell_type": "code",
   "execution_count": null,
   "metadata": {},
   "outputs": [],
   "source": [
    "foo = pd.DataFrame(results_dict)"
   ]
  },
  {
   "cell_type": "code",
   "execution_count": null,
   "metadata": {},
   "outputs": [],
   "source": [
    "686./77564"
   ]
  },
  {
   "cell_type": "code",
   "execution_count": null,
   "metadata": {},
   "outputs": [],
   "source": [
    "baz = foo[['legal', 'not_legal']].groupby(foo['n_basis'])\n"
   ]
  },
  {
   "cell_type": "code",
   "execution_count": null,
   "metadata": {},
   "outputs": [],
   "source": [
    "baz.head()"
   ]
  },
  {
   "cell_type": "code",
   "execution_count": null,
   "metadata": {},
   "outputs": [],
   "source": [
    "\n",
    "    "
   ]
  },
  {
   "cell_type": "code",
   "execution_count": null,
   "metadata": {},
   "outputs": [],
   "source": []
  }
 ],
 "metadata": {
  "kernelspec": {
   "display_name": "Python 2",
   "language": "python",
   "name": "python2"
  },
  "language_info": {
   "codemirror_mode": {
    "name": "ipython",
    "version": 2
   },
   "file_extension": ".py",
   "mimetype": "text/x-python",
   "name": "python",
   "nbconvert_exporter": "python",
   "pygments_lexer": "ipython2",
   "version": "2.7.12"
  }
 },
 "nbformat": 4,
 "nbformat_minor": 1
}
