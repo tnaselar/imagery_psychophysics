{
 "metadata": {
  "name": "",
  "signature": "sha256:b48430c7b7d68cb28bd3f6b024869ce01d95679a10c3f66a699d053487d4f6ac"
 },
 "nbformat": 3,
 "nbformat_minor": 0,
 "worksheets": [
  {
   "cells": [
    {
     "cell_type": "code",
     "collapsed": false,
     "input": [
      "import numpy as np\n",
      "import pandas as pd\n",
      "import pickle\n",
      "from itertools import combinations, chain, permutations, product\n",
      "from imagery_psychophysics.src.stirling_maps import sparse_point_maps as spm\n",
      "from imagery_psychophysics.src.stirling_maps import stirling_num_of_2nd_kind as sn\n",
      "from experimental_design.src.experiments import fmri_experiment\n",
      "from experimental_design.src.experiments import make_design_matrix\n",
      "from scipy.interpolate import griddata\n",
      "from matplotlib import pyplot as plt\n",
      "from math import sqrt\n",
      "from mpl_toolkits.axes_grid1 import ImageGrid\n",
      "from PIL import Image\n",
      "import csv\n",
      "%matplotlib inline"
     ],
     "language": "python",
     "metadata": {},
     "outputs": [],
     "prompt_number": 1
    },
    {
     "cell_type": "heading",
     "level": 3,
     "metadata": {},
     "source": [
      "Target images"
     ]
    },
    {
     "cell_type": "code",
     "collapsed": false,
     "input": [
      "picplace = '/musc.repo/Data/tnaselar/imagery_psychophysics/multi_poly_probes/target_images/'\n",
      "target_image_names = map(lambda x: x+'_letterbox', ['candle_01', 'grape_juice_02', 'cheeseburger_03', 'peaches_05'])\n",
      "print target_image_names\n",
      "target_images = []\n",
      "for tin in target_image_names:\n",
      "    target_images += [Image.open(picplace+tin+'.png').convert('RGBA')]\n",
      "    \n",
      "for im in target_images:\n",
      "    print im.size\n",
      "\n"
     ],
     "language": "python",
     "metadata": {},
     "outputs": [
      {
       "output_type": "stream",
       "stream": "stdout",
       "text": [
        "['candle_01_letterbox', 'grape_juice_02_letterbox', 'cheeseburger_03_letterbox', 'peaches_05_letterbox']\n",
        "(600, 370)"
       ]
      },
      {
       "output_type": "stream",
       "stream": "stdout",
       "text": [
        "\n",
        "(600, 370)\n",
        "(600, 370)\n",
        "(600, 370)\n"
       ]
      }
     ],
     "prompt_number": 2
    },
    {
     "cell_type": "heading",
     "level": 3,
     "metadata": {},
     "source": [
      "Construct and calibrate probes"
     ]
    },
    {
     "cell_type": "code",
     "collapsed": false,
     "input": [
      "##parameters\n",
      "size_of_grid = (5., 9.)  ##(rows x cols)\n",
      "number_of_base_probes = np.prod(size_of_grid)\n",
      "size_of_field = (370, 600) ##(rows x cols)\n",
      "num_pix = np.prod(size_of_field)\n",
      "jitter = 100"
     ],
     "language": "python",
     "metadata": {},
     "outputs": [],
     "prompt_number": 3
    },
    {
     "cell_type": "heading",
     "level": 4,
     "metadata": {},
     "source": [
      "construct a regular grid"
     ]
    },
    {
     "cell_type": "code",
     "collapsed": false,
     "input": [
      "##helper set function\n",
      "def powerset(iterable):\n",
      "    s = list(iterable)\n",
      "    return chain.from_iterable(combinations(s, r) for r in range(len(s)+1))\n",
      "    "
     ],
     "language": "python",
     "metadata": {},
     "outputs": [],
     "prompt_number": 4
    },
    {
     "cell_type": "code",
     "collapsed": false,
     "input": [
      "##construct a regular grid, with explicit representation of links between \"neighbors\"\n",
      "##this gives both vertical and horizontal orientations in every region\n",
      "class regular_grid(object):\n",
      "    def __init__(self, size_of_grid, size_of_field):\n",
      "        '''\n",
      "        size_of_grid = (nrows, ncols) for probe centers\n",
      "        size_of_field = (nrows, ncols) for pixels\n",
      "        '''\n",
      "        self.pts = []\n",
      "        self.size_of_field = size_of_field#(size_of_field[1],size_of_field[0]) ##interpreted as image coors (row,col) \n",
      "        self.idx = []\n",
      "        self.size_of_grid = size_of_grid #(size_of_grid[1], size_of_grid[0]) ##interpreted as mage coors (row, col) \n",
      "        self.dy = size_of_field[0]/float(size_of_grid[0])\n",
      "        self.dx = size_of_field[1]/float(size_of_grid[1])\n",
      "        self.make_points()\n",
      "        self.make_unions()\n",
      "#         self.make_atoms()\n",
      "        self.make_probes()\n",
      "        \n",
      "    def make_unions(self): \n",
      "        unions = set()\n",
      "        for ii in self.idx:\n",
      "            ##find all neighbors\n",
      "            nbrs = [ii]\n",
      "            down = ii+self.size_of_grid[1]\n",
      "            if down < self.number_of_points:\n",
      "                nbrs += [down]\n",
      "            over = (ii+1)*(np.mod(ii+1,self.size_of_grid[1])>0)\n",
      "            if over:\n",
      "                nbrs += [over]\n",
      "            across = down + 1\n",
      "            if np.mod(across,self.size_of_grid[1]) and (across <= self.number_of_points):\n",
      "                nbrs += [across]\n",
      "    #         print nbrs\n",
      "            ##enumerate all possible unions\n",
      "            pwr = set(powerset(nbrs))\n",
      "            pwr.discard(())\n",
      "            ##add to growing set\n",
      "            unions = unions.union(pwr)\n",
      "        self.unions = unions   \n",
      "    \n",
      "    def jitter_points(self, jitter=0.5):\n",
      "        '''jitter is relative to spacing between points dx'''\n",
      "        tmp_pts = [pp+(np.random.random(pp.shape)-0.5)*np.mean([self.dx,self.dy])*jitter for pp in self.pts]\n",
      "        tmp_pts = [np.mod(x, self.size_of_field) for x in tmp_pts]\n",
      "        self.pts = np.vstack(tmp_pts)\n",
      "        print 'remaking probes with jittered centers...'\n",
      "        self.make_probes()\n",
      "    \n",
      "    def make_points(self):\n",
      "        I, J = np.meshgrid(np.linspace(0,self.size_of_field[0],num=self.size_of_grid[0]), np.linspace(0,self.size_of_field[1],num=self.size_of_grid[1]), indexing='ij')\n",
      "        self.pts = np.vstack([I.ravel(), J.ravel()]).T\n",
      "        self.idx = np.array(range(self.pts.shape[0]))\n",
      "        self.number_of_points = len(self.idx)\n",
      "    \n",
      "    def make_atoms(self):\n",
      "        grid_x, grid_y = np.meshgrid(range(self.size_of_field[0]), range(self.size_of_field[1]), indexing='ij')\n",
      "#         print grid_x.shape\n",
      "#         print grid_y.shape\n",
      "        self.atoms = np.squeeze(griddata(np.array(self.pts, ndmin=2), np.array(self.idx), (grid_x, grid_y), method='nearest'))\n",
      "#         print self.atoms.shape\n",
      "\n",
      "    \n",
      "    def view_atoms(self):\n",
      "        plt.imshow(self.atoms, cmap = 'Dark2')\n",
      "        \n",
      "    def view_points(self):\n",
      "        plt.scatter(self.pts[:,1],self.pts[:,0])  ##pts[:,0] = rows, which is y-axis in scatter plot\n",
      "        \n",
      "        \n",
      "    ##includes both atoms and pairs\n",
      "    def make_probes(self):\n",
      "        self.make_atoms()\n",
      "        cnt = 1\n",
      "        probe_dict = {'index': [], 'mask': []}\n",
      "        for idx in self.unions:\n",
      "            probe = np.zeros(self.size_of_field) \n",
      "#             print probe.shape\n",
      "            for ii in idx:\n",
      "                probe[np.nonzero(self.atoms==ii)]=cnt\n",
      "            cnt += 1 \n",
      "            probe_dict['index'].append(map(int,idx))\n",
      "            if np.sum(np.sum(probe)) < 1:\n",
      "                raise Exception('you made a blank one. jitter less?')\n",
      "            probe_dict['mask'].append(probe)\n",
      "#         self.probes = pd.DataFrame(data = probe_dict).set_index('index')\n",
      "        self.probes = probe_dict\n",
      "        self.num_probes = len(self.probes['index'])\n",
      "    \n",
      "    \n",
      "    def dump(self,pathname,background,brightness,alpha,cmap):\n",
      "        probe_list = []\n",
      "        cnt = 0\n",
      "        for idx in self.probes['index']:\n",
      "            id_string = '('+','.join(map(str, idx))+')'\n",
      "            probe_name = 'probe%s.png' %(id_string)\n",
      "            print 'probe: %s' %(probe_name)\n",
      "            pp = self.probes['mask'][cnt]\n",
      "            pp = np.uint8(cmap(pp)*brightness)      \n",
      "            pp = Image.fromarray(pp)\n",
      "#             Image.blend(background,pp,alpha).show()\n",
      "            probe_name = pathname+probe_name\n",
      "            Image.blend(background,pp,alpha).save(probe_name)\n",
      "            probe_list += [probe_name]\n",
      "            cnt += 1\n",
      "        pickle.dump(self.probes, open( pathname+'_probe_dict.pkl', \"wb\" ) )\n",
      "        return probe_list\n",
      "            \n",
      "    \n",
      "    def view_probe(self,idx):\n",
      "        plt.imshow(self.probes['mask'][idx], cmap = 'Dark2')\n",
      "        \n",
      "       \n",
      "        \n",
      "#     def view_grid(self):\n",
      "#         from matplotlib import collections  as mc\n",
      "#         lines = tuple([[tuple(self.pts[pp[0]]), tuple(self.pts[pp[1]])] for pp in self.pairs])\n",
      "#         c = np.array([(1, 0, 0, 1), (0, 1, 0, 1), (0, 0, 1, 1)])\n",
      "#         lc = mc.LineCollection(lines, colors=c, linewidths=2)\n",
      "#         fig, ax = plt.subplots()\n",
      "#         ax.add_collection(lc)\n",
      "#         ax.autoscale()\n",
      "#         ax.margins(0.1)\n",
      "#         ax.invert_yaxis()\n",
      "#         ax.axis('equal')"
     ],
     "language": "python",
     "metadata": {},
     "outputs": [],
     "prompt_number": 5
    },
    {
     "cell_type": "code",
     "collapsed": false,
     "input": [
      "rgrid = regular_grid(size_of_grid, size_of_field)"
     ],
     "language": "python",
     "metadata": {},
     "outputs": [],
     "prompt_number": 6
    },
    {
     "cell_type": "code",
     "collapsed": false,
     "input": [
      "rgrid.view_points()"
     ],
     "language": "python",
     "metadata": {},
     "outputs": [
      {
       "metadata": {},
       "output_type": "display_data",
       "png": "[encoded data removed]",
       "text": [
        "<matplotlib.figure.Figure at 0x7f1f563ee810>"
       ]
      }
     ],
     "prompt_number": 7
    },
    {
     "cell_type": "code",
     "collapsed": false,
     "input": [
      "rgrid.view_atoms()"
     ],
     "language": "python",
     "metadata": {},
     "outputs": [
      {
       "metadata": {},
       "output_type": "display_data",
       "png": "[encoded data removed]",
       "text": [
        "<matplotlib.figure.Figure at 0x7f1f2b4a5710>"
       ]
      }
     ],
     "prompt_number": 8
    },
    {
     "cell_type": "code",
     "collapsed": false,
     "input": [
      "##number of unions equals the number of probes\n",
      "print len(rgrid.unions)\n",
      "##this is the number of unions there should be given a size_of_grid x size_of_grid grid of points\n",
      "sog = map(lambda x: x-2, rgrid.size_of_grid)\n",
      "print 10*(sog[0])*(sog[1])+12*(sog[0]+sog[1])+15\n",
      "print rgrid.num_probes\n",
      "print 'number of trials: %d' %(rgrid.num_probes*len(target_image_names))\n"
     ],
     "language": "python",
     "metadata": {},
     "outputs": [
      {
       "output_type": "stream",
       "stream": "stdout",
       "text": [
        "345\n",
        "345.0\n",
        "345\n",
        "number of trials: 1380\n"
       ]
      }
     ],
     "prompt_number": 9
    },
    {
     "cell_type": "code",
     "collapsed": false,
     "input": [
      "rgrid.make_points()\n",
      "rgrid.jitter_points(jitter = 1.4)\n",
      "rgrid.view_points()"
     ],
     "language": "python",
     "metadata": {},
     "outputs": [
      {
       "output_type": "stream",
       "stream": "stdout",
       "text": [
        "remaking probes with jittered centers...\n"
       ]
      },
      {
       "metadata": {},
       "output_type": "display_data",
       "png": "[encoded data removed]",
       "text": [
        "<matplotlib.figure.Figure at 0x7f1f2b472a50>"
       ]
      }
     ],
     "prompt_number": 10
    },
    {
     "cell_type": "code",
     "collapsed": false,
     "input": [
      "rgrid.view_atoms()"
     ],
     "language": "python",
     "metadata": {},
     "outputs": [
      {
       "metadata": {},
       "output_type": "display_data",
       "png": "[encoded data removed]",
       "text": [
        "<matplotlib.figure.Figure at 0x7f1f2b6016d0>"
       ]
      }
     ],
     "prompt_number": 11
    },
    {
     "cell_type": "code",
     "collapsed": false,
     "input": [
      "target_image_index = 2\n",
      "rowscale = .7\n",
      "nrows_ncols = (int(rowscale*rgrid.size_of_grid[0]), int(rowscale*rgrid.size_of_grid[1]))\n",
      "num_probes = len(rgrid.probes['index'])\n",
      "fig = plt.figure(2,(10,10))\n",
      "grid = ImageGrid(fig, 111, # similar to subplot(111)\n",
      "                nrows_ncols = nrows_ncols, # creates 2x2 grid of axes\n",
      "                axes_pad=0.02, # pad between axes in inch.\n",
      "                )\n",
      "these = np.round(np.linspace(0,num_probes,num=np.prod(nrows_ncols), endpoint=False)).astype('int')\n",
      "\n",
      "for gr,ii in zip(grid,these):\n",
      "    gr.imshow(target_images[target_image_index])\n",
      "    gr.imshow(rgrid.probes['mask'][ii], cmap='Dark2', alpha = 0.4)\n",
      "    gr.set_xticks([])\n",
      "    gr.set_yticks([])\n",
      "    "
     ],
     "language": "python",
     "metadata": {},
     "outputs": [
      {
       "metadata": {},
       "output_type": "display_data",
       "png": "[encoded data removed]",
       "text": [
        "<matplotlib.figure.Figure at 0x7f1f2b630950>"
       ]
      }
     ],
     "prompt_number": 12
    },
    {
     "cell_type": "code",
     "collapsed": false,
     "input": [
      "fig = plt.figure(1,(10,10))\n",
      "grid = ImageGrid(fig, 111, # similar to subplot(111)\n",
      "                nrows_ncols = (1, 2), # creates 2x2 grid of axes\n",
      "                axes_pad=0.5, # pad between axes in inch.\n",
      "                )\n",
      "grid[0].imshow(target_images[0])\n",
      "grid[0].imshow(np.sum(rgrid.probes['mask'],0), cmap = 'Dark2', interpolation='nearest', alpha = 0.4)\n",
      "grid[0].set_title('easy image')\n",
      "grid[0].set_xticks([])\n",
      "grid[0].set_yticks([])\n",
      "plt.axis('tight')\n",
      "grid[1].imshow(target_images[3])\n",
      "grid[1].imshow(np.sum(rgrid.probes['mask'],0), cmap = 'Dark2', interpolation='nearest', alpha = 0.4)\n",
      "grid[1].set_title('hard image')\n",
      "grid[1].set_xticks([])\n",
      "grid[1].set_yticks([])\n"
     ],
     "language": "python",
     "metadata": {},
     "outputs": [
      {
       "metadata": {},
       "output_type": "pyout",
       "prompt_number": 13,
       "text": [
        "[]"
       ]
      },
      {
       "metadata": {},
       "output_type": "display_data",
       "png": "[encoded data removed]",
       "text": [
        "<matplotlib.figure.Figure at 0x7f1f2a36e710>"
       ]
      }
     ],
     "prompt_number": 13
    },
    {
     "cell_type": "heading",
     "level": 3,
     "metadata": {},
     "source": [
      "Construct experiment"
     ]
    },
    {
     "cell_type": "code",
     "collapsed": false,
     "input": [
      "##probe parameters\n",
      "size_of_grid = (5., 9.)  ##(rows x cols)\n",
      "number_of_base_probes = np.prod(size_of_grid)\n",
      "size_of_field = (370, 600) ##(rows x cols)\n",
      "num_pix = np.prod(size_of_field)\n",
      "jitter = 4.0"
     ],
     "language": "python",
     "metadata": {},
     "outputs": [],
     "prompt_number": 14
    },
    {
     "cell_type": "code",
     "collapsed": false,
     "input": [
      "##experiment parameters\n",
      "picplace = '/musc.repo/Data/tnaselar/imagery_psychophysics/multi_poly_probes/target_images/'\n",
      "put_probes_here = '/musc.repo/Data/tnaselar/imagery_psychophysics/multi_poly_probes/probes/'\n",
      "put_conditions_files_here = '/musc.repo/Data/tnaselar/imagery_psychophysics/multi_poly_probes/conditions_files/'\n",
      "\n",
      "cmap = plt.cm.RdPu\n",
      "reps = 1\n",
      "seconds_per_state=.5\n",
      "brightness = 127\n",
      "alpha = 0.5\n",
      "screen = Image.fromarray(np.ones(size_of_field)*brightness).convert('RGBA')\n",
      "\n",
      "pictures = target_images\n",
      "states = ['pcp', 'img']\n",
      "picnames = target_image_names"
     ],
     "language": "python",
     "metadata": {},
     "outputs": [],
     "prompt_number": 15
    },
    {
     "cell_type": "code",
     "collapsed": false,
     "input": [
      "##loop over target images and construct probe images for the experiment\n",
      "for pp,pname in zip(pictures, picnames):\n",
      "        probes = regular_grid(size_of_grid,size_of_field)\n",
      "        probes.jitter_points(jitter=jitter) ##jitters the center points, remakes the probes\n",
      "        for ss in states:\n",
      "            if ss == 'img':\n",
      "                background = screen\n",
      "            else:\n",
      "                background = pp\n",
      "            probe_list = probes.dump(put_probes_here+pname+'_'+ss+'_',background,brightness,alpha,cmap)\n",
      "            probe_list = np.random.permutation(probe_list) ## randomize the order\n",
      "            probe_list_file = open(put_conditions_files_here+pname+'_'+ss+'.csv','wb')\n",
      "            wr = csv.writer(probe_list_file)\n",
      "            wr.writerow([pname+'_'+ss])\n",
      "            wr.writerows([[ll] for ll in probe_list])\n",
      "            probe_list_file.close()\n"
     ],
     "language": "python",
     "metadata": {},
     "outputs": [
      {
       "output_type": "stream",
       "stream": "stdout",
       "text": [
        "remaking probes with jittered centers...\n",
        "probe: probe(19,11,20).png"
       ]
      },
      {
       "output_type": "stream",
       "stream": "stdout",
       "text": [
        "\n",
        "probe: probe(40,41).png"
       ]
      },
      {
       "output_type": "stream",
       "stream": "stdout",
       "text": [
        "\n",
        "probe: probe(6,15,7,16).png"
       ]
      },
      {
       "output_type": "stream",
       "stream": "stdout",
       "text": [
        "\n",
        "probe: probe(29,21,30).png"
       ]
      },
      {
       "output_type": "stream",
       "stream": "stdout",
       "text": [
        "\n",
        "probe: probe(18,19).png"
       ]
      },
      {
       "output_type": "stream",
       "stream": "stdout",
       "text": [
        "\n",
        "probe: probe(24).png"
       ]
      },
      {
       "output_type": "stream",
       "stream": "stdout",
       "text": [
        "\n",
        "probe: probe(15).png"
       ]
      },
      {
       "output_type": "stream",
       "stream": "stdout",
       "text": [
        "\n",
        "probe: probe(28,37,38).png"
       ]
      },
      {
       "output_type": "stream",
       "stream": "stdout",
       "text": [
        "\n",
        "probe: probe(28,20,29).png"
       ]
      },
      {
       "output_type": "stream",
       "stream": "stdout",
       "text": [
        "\n",
        "probe: probe(19,28,29).png"
       ]
      },
      {
       "output_type": "stream",
       "stream": "stdout",
       "text": [
        "\n",
        "probe: probe(18,27,28).png"
       ]
      },
      {
       "output_type": "stream",
       "stream": "stdout",
       "text": [
        "\n",
        "probe: probe(25,17,26).png"
       ]
      },
      {
       "output_type": "stream",
       "stream": "stdout",
       "text": [
        "\n",
        "probe: probe(25,26).png"
       ]
      },
      {
       "output_type": "stream",
       "stream": "stdout",
       "text": [
        "\n",
        "probe: probe(28,37,29).png"
       ]
      },
      {
       "output_type": "stream",
       "stream": "stdout",
       "text": [
        "\n",
        "probe: probe(16,25,26).png"
       ]
      },
      {
       "output_type": "stream",
       "stream": "stdout",
       "text": [
        "\n",
        "probe: probe(16,8,17).png"
       ]
      },
      {
       "output_type": "stream",
       "stream": "stdout",
       "text": [
        "\n",
        "probe: probe(27,28).png"
       ]
      },
      {
       "output_type": "stream",
       "stream": "stdout",
       "text": [
        "\n",
        "probe: probe(30,39,31,40).png"
       ]
      },
      {
       "output_type": "stream",
       "stream": "stdout",
       "text": [
        "\n",
        "probe: probe(33).png"
       ]
      },
      {
       "output_type": "stream",
       "stream": "stdout",
       "text": [
        "\n",
        "probe: probe(4,5).png"
       ]
      },
      {
       "output_type": "stream",
       "stream": "stdout",
       "text": [
        "\n",
        "probe: probe(0,9,1).png"
       ]
      },
      {
       "output_type": "stream",
       "stream": "stdout",
       "text": [
        "\n",
        "probe: probe(8).png"
       ]
      },
      {
       "output_type": "stream",
       "stream": "stdout",
       "text": [
        "\n",
        "probe: probe(18,28).png"
       ]
      },
      {
       "output_type": "stream",
       "stream": "stdout",
       "text": [
        "\n",
        "probe: probe(22,14,23).png"
       ]
      },
      {
       "output_type": "stream",
       "stream": "stdout",
       "text": [
        "\n",
        "probe: probe(24,33,25).png"
       ]
      },
      {
       "output_type": "stream",
       "stream": "stdout",
       "text": [
        "\n",
        "probe: probe(13,14,23).png"
       ]
      },
      {
       "output_type": "stream",
       "stream": "stdout",
       "text": [
        "\n",
        "probe: probe(30,39).png"
       ]
      },
      {
       "output_type": "stream",
       "stream": "stdout",
       "text": [
        "\n",
        "probe: probe(18,10).png"
       ]
      },
      {
       "output_type": "stream",
       "stream": "stdout",
       "text": [
        "\n",
        "probe: probe(33,34).png"
       ]
      },
      {
       "output_type": "stream",
       "stream": "stdout",
       "text": [
        "\n",
        "probe: probe(0,9,1,10).png"
       ]
      },
      {
       "output_type": "stream",
       "stream": "stdout",
       "text": [
        "\n",
        "probe: probe(43,35).png"
       ]
      },
      {
       "output_type": "stream",
       "stream": "stdout",
       "text": [
        "\n",
        "probe: probe(42).png"
       ]
      },
      {
       "output_type": "stream",
       "stream": "stdout",
       "text": [
        "\n",
        "probe: probe(2,11,3).png"
       ]
      },
      {
       "output_type": "stream",
       "stream": "stdout",
       "text": [
        "\n",
        "probe: probe(17).png"
       ]
      },
      {
       "output_type": "stream",
       "stream": "stdout",
       "text": [
        "\n",
        "probe: probe(22,31,23).png"
       ]
      },
      {
       "output_type": "stream",
       "stream": "stdout",
       "text": [
        "\n",
        "probe: probe(34,35).png"
       ]
      },
      {
       "output_type": "stream",
       "stream": "stdout",
       "text": [
        "\n",
        "probe: probe(9,19).png"
       ]
      },
      {
       "output_type": "stream",
       "stream": "stdout",
       "text": [
        "\n",
        "probe: probe(24,16,25).png"
       ]
      },
      {
       "output_type": "stream",
       "stream": "stdout",
       "text": [
        "\n",
        "probe: probe(20,29,21,30).png"
       ]
      },
      {
       "output_type": "stream",
       "stream": "stdout",
       "text": [
        "\n",
        "probe: probe(2,12).png"
       ]
      },
      {
       "output_type": "stream",
       "stream": "stdout",
       "text": [
        "\n",
        "probe: probe(14,23,24).png"
       ]
      },
      {
       "output_type": "stream",
       "stream": "stdout",
       "text": [
        "\n",
        "probe: probe(25,34,35).png"
       ]
      },
      {
       "output_type": "stream",
       "stream": "stdout",
       "text": [
        "\n",
        "probe: probe(24,33).png"
       ]
      },
      {
       "output_type": "stream",
       "stream": "stdout",
       "text": [
        "\n",
        "probe: probe(15,7,16).png"
       ]
      },
      {
       "output_type": "stream",
       "stream": "stdout",
       "text": [
        "\n",
        "probe: probe(34,43,44).png"
       ]
      },
      {
       "output_type": "stream",
       "stream": "stdout",
       "text": [
        "\n",
        "probe: probe(26).png"
       ]
      },
      {
       "output_type": "stream",
       "stream": "stdout",
       "text": [
        "\n",
        "probe: probe(5,14,15).png"
       ]
      },
      {
       "output_type": "stream",
       "stream": "stdout",
       "text": [
        "\n",
        "probe: probe(1).png"
       ]
      },
      {
       "output_type": "stream",
       "stream": "stdout",
       "text": [
        "\n",
        "probe: probe(20,21).png"
       ]
      },
      {
       "output_type": "stream",
       "stream": "stdout",
       "text": [
        "\n",
        "probe: probe(3,12,4).png"
       ]
      },
      {
       "output_type": "stream",
       "stream": "stdout",
       "text": [
        "\n",
        "probe: probe(3,4,13).png"
       ]
      },
      {
       "output_type": "stream",
       "stream": "stdout",
       "text": [
        "\n",
        "probe: probe(34,26).png"
       ]
      },
      {
       "output_type": "stream",
       "stream": "stdout",
       "text": [
        "\n",
        "probe: probe(29,30,39).png"
       ]
      },
      {
       "output_type": "stream",
       "stream": "stdout",
       "text": [
        "\n",
        "probe: probe(15,25).png"
       ]
      },
      {
       "output_type": "stream",
       "stream": "stdout",
       "text": [
        "\n",
        "probe: probe(10,19).png"
       ]
      },
      {
       "output_type": "stream",
       "stream": "stdout",
       "text": [
        "\n",
        "probe: probe(35).png"
       ]
      },
      {
       "output_type": "stream",
       "stream": "stdout",
       "text": [
        "\n",
        "probe: probe(14,6).png"
       ]
      },
      {
       "output_type": "stream",
       "stream": "stdout",
       "text": [
        "\n",
        "probe: probe(10).png"
       ]
      },
      {
       "output_type": "stream",
       "stream": "stdout",
       "text": [
        "\n",
        "probe: probe(15,7).png"
       ]
      },
      {
       "output_type": "stream",
       "stream": "stdout",
       "text": [
        "\n",
        "probe: probe(23,32,24,33).png"
       ]
      },
      {
       "output_type": "stream",
       "stream": "stdout",
       "text": [
        "\n",
        "probe: probe(33,42,34,43).png"
       ]
      },
      {
       "output_type": "stream",
       "stream": "stdout",
       "text": [
        "\n",
        "probe: probe(11,20,21).png"
       ]
      },
      {
       "output_type": "stream",
       "stream": "stdout",
       "text": [
        "\n",
        "probe: probe(29,38,39).png"
       ]
      },
      {
       "output_type": "stream",
       "stream": "stdout",
       "text": [
        "\n",
        "probe: probe(30,39,31).png"
       ]
      },
      {
       "output_type": "stream",
       "stream": "stdout",
       "text": [
        "\n",
        "probe: probe(18,19,28).png"
       ]
      },
      {
       "output_type": "stream",
       "stream": "stdout",
       "text": [
        "\n",
        "probe: probe(23,33).png"
       ]
      },
      {
       "output_type": "stream",
       "stream": "stdout",
       "text": [
        "\n",
        "probe: probe(19).png"
       ]
      },
      {
       "output_type": "stream",
       "stream": "stdout",
       "text": [
        "\n",
        "probe: probe(32,42).png"
       ]
      },
      {
       "output_type": "stream",
       "stream": "stdout",
       "text": [
        "\n",
        "probe: probe(16,17,26).png"
       ]
      },
      {
       "output_type": "stream",
       "stream": "stdout",
       "text": [
        "\n",
        "probe: probe(42,43).png"
       ]
      },
      {
       "output_type": "stream",
       "stream": "stdout",
       "text": [
        "\n",
        "probe: probe(41,33).png"
       ]
      },
      {
       "output_type": "stream",
       "stream": "stdout",
       "text": [
        "\n",
        "probe: probe(36,37).png"
       ]
      },
      {
       "output_type": "stream",
       "stream": "stdout",
       "text": [
        "\n",
        "probe: probe(4,13,5,14).png"
       ]
      },
      {
       "output_type": "stream",
       "stream": "stdout",
       "text": [
        "\n",
        "probe: probe(22,31,32).png"
       ]
      },
      {
       "output_type": "stream",
       "stream": "stdout",
       "text": [
        "\n",
        "probe: probe(1,10,2).png"
       ]
      },
      {
       "output_type": "stream",
       "stream": "stdout",
       "text": [
        "\n",
        "probe: probe(10,2).png"
       ]
      },
      {
       "output_type": "stream",
       "stream": "stdout",
       "text": [
        "\n",
        "probe: probe(9,18).png"
       ]
      },
      {
       "output_type": "stream",
       "stream": "stdout",
       "text": [
        "\n",
        "probe: probe(24,33,34).png"
       ]
      },
      {
       "output_type": "stream",
       "stream": "stdout",
       "text": [
        "\n",
        "probe: probe(7,16,8).png"
       ]
      },
      {
       "output_type": "stream",
       "stream": "stdout",
       "text": [
        "\n",
        "probe: probe(33,42,34).png"
       ]
      },
      {
       "output_type": "stream",
       "stream": "stdout",
       "text": [
        "\n",
        "probe: probe(7,16,8,17).png"
       ]
      },
      {
       "output_type": "stream",
       "stream": "stdout",
       "text": [
        "\n",
        "probe: probe(28).png"
       ]
      },
      {
       "output_type": "stream",
       "stream": "stdout",
       "text": [
        "\n",
        "probe: probe(11,12,21).png"
       ]
      },
      {
       "output_type": "stream",
       "stream": "stdout",
       "text": [
        "\n",
        "probe: probe(3).png"
       ]
      },
      {
       "output_type": "stream",
       "stream": "stdout",
       "text": [
        "\n",
        "probe: probe(4,13).png"
       ]
      },
      {
       "output_type": "stream",
       "stream": "stdout",
       "text": [
        "\n",
        "probe: probe(5,6).png"
       ]
      },
      {
       "output_type": "stream",
       "stream": "stdout",
       "text": [
        "\n",
        "probe: probe(21,31).png"
       ]
      },
      {
       "output_type": "stream",
       "stream": "stdout",
       "text": [
        "\n",
        "probe: probe(24,34).png"
       ]
      },
      {
       "output_type": "stream",
       "stream": "stdout",
       "text": [
        "\n",
        "probe: probe(31,23,32).png"
       ]
      },
      {
       "output_type": "stream",
       "stream": "stdout",
       "text": [
        "\n",
        "probe: probe(25,35).png"
       ]
      },
      {
       "output_type": "stream",
       "stream": "stdout",
       "text": [
        "\n",
        "probe: probe(6,15).png"
       ]
      },
      {
       "output_type": "stream",
       "stream": "stdout",
       "text": [
        "\n",
        "probe: probe(20,12,21).png"
       ]
      },
      {
       "output_type": "stream",
       "stream": "stdout",
       "text": [
        "\n",
        "probe: probe(18,27,19,28).png"
       ]
      },
      {
       "output_type": "stream",
       "stream": "stdout",
       "text": [
        "\n",
        "probe: probe(41,42).png"
       ]
      },
      {
       "output_type": "stream",
       "stream": "stdout",
       "text": [
        "\n",
        "probe: probe(32,41).png"
       ]
      },
      {
       "output_type": "stream",
       "stream": "stdout",
       "text": [
        "\n",
        "probe: probe(37).png"
       ]
      },
      {
       "output_type": "stream",
       "stream": "stdout",
       "text": [
        "\n",
        "probe: probe(34,44).png"
       ]
      },
      {
       "output_type": "stream",
       "stream": "stdout",
       "text": [
        "\n",
        "probe: probe(15,24,16).png"
       ]
      },
      {
       "output_type": "stream",
       "stream": "stdout",
       "text": [
        "\n",
        "probe: probe(12).png"
       ]
      },
      {
       "output_type": "stream",
       "stream": "stdout",
       "text": [
        "\n",
        "probe: probe(27).png"
       ]
      },
      {
       "output_type": "stream",
       "stream": "stdout",
       "text": [
        "\n",
        "probe: probe(43,44).png"
       ]
      },
      {
       "output_type": "stream",
       "stream": "stdout",
       "text": [
        "\n",
        "probe: probe(15,16,25).png"
       ]
      },
      {
       "output_type": "stream",
       "stream": "stdout",
       "text": [
        "\n",
        "probe: probe(1,10,2,11).png"
       ]
      },
      {
       "output_type": "stream",
       "stream": "stdout",
       "text": [
        "\n",
        "probe: probe(34,35,44).png"
       ]
      },
      {
       "output_type": "stream",
       "stream": "stdout",
       "text": [
        "\n",
        "probe: probe(13,5,14).png"
       ]
      },
      {
       "output_type": "stream",
       "stream": "stdout",
       "text": [
        "\n",
        "probe: probe(15,24).png"
       ]
      },
      {
       "output_type": "stream",
       "stream": "stdout",
       "text": [
        "\n",
        "probe: probe(10,2,11).png"
       ]
      },
      {
       "output_type": "stream",
       "stream": "stdout",
       "text": [
        "\n",
        "probe: probe(24,16).png"
       ]
      },
      {
       "output_type": "stream",
       "stream": "stdout",
       "text": [
        "\n",
        "probe: probe(13,5).png"
       ]
      },
      {
       "output_type": "stream",
       "stream": "stdout",
       "text": [
        "\n",
        "probe: probe(33,42,43).png"
       ]
      },
      {
       "output_type": "stream",
       "stream": "stdout",
       "text": [
        "\n",
        "probe: probe(32,33,42).png"
       ]
      },
      {
       "output_type": "stream",
       "stream": "stdout",
       "text": [
        "\n",
        "probe: probe(28,37,29,38).png"
       ]
      },
      {
       "output_type": "stream",
       "stream": "stdout",
       "text": [
        "\n",
        "probe: probe(0,9).png"
       ]
      },
      {
       "output_type": "stream",
       "stream": "stdout",
       "text": [
        "\n",
        "probe: probe(3,12,13).png"
       ]
      },
      {
       "output_type": "stream",
       "stream": "stdout",
       "text": [
        "\n",
        "probe: probe(2,11,12).png"
       ]
      },
      {
       "output_type": "stream",
       "stream": "stdout",
       "text": [
        "\n",
        "probe: probe(3,4).png"
       ]
      },
      {
       "output_type": "stream",
       "stream": "stdout",
       "text": [
        "\n",
        "probe: probe(9,1,10).png"
       ]
      },
      {
       "output_type": "stream",
       "stream": "stdout",
       "text": [
        "\n",
        "probe: probe(21).png"
       ]
      },
      {
       "output_type": "stream",
       "stream": "stdout",
       "text": [
        "\n",
        "probe: probe(12,21,13).png"
       ]
      },
      {
       "output_type": "stream",
       "stream": "stdout",
       "text": [
        "\n",
        "probe: probe(30,39,40).png"
       ]
      },
      {
       "output_type": "stream",
       "stream": "stdout",
       "text": [
        "\n",
        "probe: probe(7).png"
       ]
      },
      {
       "output_type": "stream",
       "stream": "stdout",
       "text": [
        "\n",
        "probe: probe(0,9,10).png"
       ]
      },
      {
       "output_type": "stream",
       "stream": "stdout",
       "text": [
        "\n",
        "probe: probe(10,19,11,20).png"
       ]
      },
      {
       "output_type": "stream",
       "stream": "stdout",
       "text": [
        "\n",
        "probe: probe(26,35).png"
       ]
      },
      {
       "output_type": "stream",
       "stream": "stdout",
       "text": [
        "\n",
        "probe: probe(23,32,24).png"
       ]
      },
      {
       "output_type": "stream",
       "stream": "stdout",
       "text": [
        "\n",
        "probe: probe(30,22).png"
       ]
      },
      {
       "output_type": "stream",
       "stream": "stdout",
       "text": [
        "\n",
        "probe: probe(20,29).png"
       ]
      },
      {
       "output_type": "stream",
       "stream": "stdout",
       "text": [
        "\n",
        "probe: probe(23,32).png"
       ]
      },
      {
       "output_type": "stream",
       "stream": "stdout",
       "text": [
        "\n",
        "probe: probe(31,23).png"
       ]
      },
      {
       "output_type": "stream",
       "stream": "stdout",
       "text": [
        "\n",
        "probe: probe(27,28,37).png"
       ]
      },
      {
       "output_type": "stream",
       "stream": "stdout",
       "text": [
        "\n",
        "probe: probe(10,11,20).png"
       ]
      },
      {
       "output_type": "stream",
       "stream": "stdout",
       "text": [
        "\n",
        "probe: probe(25,34,26,35).png"
       ]
      },
      {
       "output_type": "stream",
       "stream": "stdout",
       "text": [
        "\n",
        "probe: probe(22,31).png"
       ]
      },
      {
       "output_type": "stream",
       "stream": "stdout",
       "text": [
        "\n",
        "probe: probe(21,13).png"
       ]
      },
      {
       "output_type": "stream",
       "stream": "stdout",
       "text": [
        "\n",
        "probe: probe(21,13,22).png"
       ]
      },
      {
       "output_type": "stream",
       "stream": "stdout",
       "text": [
        "\n",
        "probe: probe(22,23,32).png"
       ]
      },
      {
       "output_type": "stream",
       "stream": "stdout",
       "text": [
        "\n",
        "probe: probe(30,22,31).png"
       ]
      },
      {
       "output_type": "stream",
       "stream": "stdout",
       "text": [
        "\n",
        "probe: probe(31,32).png"
       ]
      },
      {
       "output_type": "stream",
       "stream": "stdout",
       "text": [
        "\n",
        "probe: probe(7,16).png"
       ]
      },
      {
       "output_type": "stream",
       "stream": "stdout",
       "text": [
        "\n",
        "probe: probe(30).png"
       ]
      },
      {
       "output_type": "stream",
       "stream": "stdout",
       "text": [
        "\n",
        "probe: probe(21,30,22,31).png"
       ]
      },
      {
       "output_type": "stream",
       "stream": "stdout",
       "text": [
        "\n",
        "probe: probe(29,30).png"
       ]
      },
      {
       "output_type": "stream",
       "stream": "stdout",
       "text": [
        "\n",
        "probe: probe(5).png"
       ]
      },
      {
       "output_type": "stream",
       "stream": "stdout",
       "text": [
        "\n",
        "probe: probe(20,29,21).png"
       ]
      },
      {
       "output_type": "stream",
       "stream": "stdout",
       "text": [
        "\n",
        "probe: probe(12,21).png"
       ]
      },
      {
       "output_type": "stream",
       "stream": "stdout",
       "text": [
        "\n",
        "probe: probe(14,23,15,24).png"
       ]
      },
      {
       "output_type": "stream",
       "stream": "stdout",
       "text": [
        "\n",
        "probe: probe(37,29,38).png"
       ]
      },
      {
       "output_type": "stream",
       "stream": "stdout",
       "text": [
        "\n",
        "probe: probe(20,21,30).png"
       ]
      },
      {
       "output_type": "stream",
       "stream": "stdout",
       "text": [
        "\n",
        "probe: probe(3,13).png"
       ]
      },
      {
       "output_type": "stream",
       "stream": "stdout",
       "text": [
        "\n",
        "probe: probe(2,11,3,12).png"
       ]
      },
      {
       "output_type": "stream",
       "stream": "stdout",
       "text": [
        "\n",
        "probe: probe(7,17).png"
       ]
      },
      {
       "output_type": "stream",
       "stream": "stdout",
       "text": [
        "\n",
        "probe: probe(4,14).png"
       ]
      },
      {
       "output_type": "stream",
       "stream": "stdout",
       "text": [
        "\n",
        "probe: probe(14,24).png"
       ]
      },
      {
       "output_type": "stream",
       "stream": "stdout",
       "text": [
        "\n",
        "probe: probe(27,36,28).png"
       ]
      },
      {
       "output_type": "stream",
       "stream": "stdout",
       "text": [
        "\n",
        "probe: probe(5,15).png"
       ]
      },
      {
       "output_type": "stream",
       "stream": "stdout",
       "text": [
        "\n",
        "probe: probe(23,24,33).png"
       ]
      },
      {
       "output_type": "stream",
       "stream": "stdout",
       "text": [
        "\n",
        "probe: probe(25,34).png"
       ]
      },
      {
       "output_type": "stream",
       "stream": "stdout",
       "text": [
        "\n",
        "probe: probe(19,20).png"
       ]
      },
      {
       "output_type": "stream",
       "stream": "stdout",
       "text": [
        "\n",
        "probe: probe(14).png"
       ]
      },
      {
       "output_type": "stream",
       "stream": "stdout",
       "text": [
        "\n",
        "probe: probe(18,10,19).png"
       ]
      },
      {
       "output_type": "stream",
       "stream": "stdout",
       "text": [
        "\n",
        "probe: probe(31,41).png"
       ]
      },
      {
       "output_type": "stream",
       "stream": "stdout",
       "text": [
        "\n",
        "probe: probe(21,22).png"
       ]
      },
      {
       "output_type": "stream",
       "stream": "stdout",
       "text": [
        "\n",
        "probe: probe(29,38,30).png"
       ]
      },
      {
       "output_type": "stream",
       "stream": "stdout",
       "text": [
        "\n",
        "probe: probe(23,15,24).png"
       ]
      },
      {
       "output_type": "stream",
       "stream": "stdout",
       "text": [
        "\n",
        "probe: probe(15,16).png"
       ]
      },
      {
       "output_type": "stream",
       "stream": "stdout",
       "text": [
        "\n",
        "probe: probe(15,24,16,25).png"
       ]
      },
      {
       "output_type": "stream",
       "stream": "stdout",
       "text": [
        "\n",
        "probe: probe(13,22,14,23).png"
       ]
      },
      {
       "output_type": "stream",
       "stream": "stdout",
       "text": [
        "\n",
        "probe: probe(32).png"
       ]
      },
      {
       "output_type": "stream",
       "stream": "stdout",
       "text": [
        "\n",
        "probe: probe(23).png"
       ]
      },
      {
       "output_type": "stream",
       "stream": "stdout",
       "text": [
        "\n",
        "probe: probe(0,10).png"
       ]
      },
      {
       "output_type": "stream",
       "stream": "stdout",
       "text": [
        "\n",
        "probe: probe(24,25,34).png"
       ]
      },
      {
       "output_type": "stream",
       "stream": "stdout",
       "text": [
        "\n",
        "probe: probe(1,11).png"
       ]
      },
      {
       "output_type": "stream",
       "stream": "stdout",
       "text": [
        "\n",
        "probe: probe(32,41,33,42).png"
       ]
      },
      {
       "output_type": "stream",
       "stream": "stdout",
       "text": [
        "\n",
        "probe: probe(6,7).png"
       ]
      },
      {
       "output_type": "stream",
       "stream": "stdout",
       "text": [
        "\n",
        "probe: probe(15,24,25).png"
       ]
      },
      {
       "output_type": "stream",
       "stream": "stdout",
       "text": [
        "\n",
        "probe: probe(19,29).png"
       ]
      },
      {
       "output_type": "stream",
       "stream": "stdout",
       "text": [
        "\n",
        "probe: probe(32,41,42).png"
       ]
      },
      {
       "output_type": "stream",
       "stream": "stdout",
       "text": [
        "\n",
        "probe: probe(20,30).png"
       ]
      },
      {
       "output_type": "stream",
       "stream": "stdout",
       "text": [
        "\n",
        "probe: probe(41).png"
       ]
      },
      {
       "output_type": "stream",
       "stream": "stdout",
       "text": [
        "\n",
        "probe: probe(5,14,6,15).png"
       ]
      },
      {
       "output_type": "stream",
       "stream": "stdout",
       "text": [
        "\n",
        "probe: probe(16).png"
       ]
      },
      {
       "output_type": "stream",
       "stream": "stdout",
       "text": [
        "\n",
        "probe: probe(6,15,16).png"
       ]
      },
      {
       "output_type": "stream",
       "stream": "stdout",
       "text": [
        "\n",
        "probe: probe(33,34,43).png"
       ]
      },
      {
       "output_type": "stream",
       "stream": "stdout",
       "text": [
        "\n",
        "probe: probe(16,25).png"
       ]
      },
      {
       "output_type": "stream",
       "stream": "stdout",
       "text": [
        "\n",
        "probe: probe(29,38,30,39).png"
       ]
      },
      {
       "output_type": "stream",
       "stream": "stdout",
       "text": [
        "\n",
        "probe: probe(2,3,12).png"
       ]
      },
      {
       "output_type": "stream",
       "stream": "stdout",
       "text": [
        "\n",
        "probe: probe(3,12,4,13).png"
       ]
      },
      {
       "output_type": "stream",
       "stream": "stdout",
       "text": [
        "\n",
        "probe: probe(32,24,33).png"
       ]
      },
      {
       "output_type": "stream",
       "stream": "stdout",
       "text": [
        "\n",
        "probe: probe(33,25).png"
       ]
      },
      {
       "output_type": "stream",
       "stream": "stdout",
       "text": [
        "\n",
        "probe: probe(31,40,32).png"
       ]
      },
      {
       "output_type": "stream",
       "stream": "stdout",
       "text": [
        "\n",
        "probe: probe(37,38).png"
       ]
      },
      {
       "output_type": "stream",
       "stream": "stdout",
       "text": [
        "\n",
        "probe: probe(13,22,14).png"
       ]
      },
      {
       "output_type": "stream",
       "stream": "stdout",
       "text": [
        "\n",
        "probe: probe(31,32,41).png"
       ]
      },
      {
       "output_type": "stream",
       "stream": "stdout",
       "text": [
        "\n",
        "probe: probe(1,10,11).png"
       ]
      },
      {
       "output_type": "stream",
       "stream": "stdout",
       "text": [
        "\n",
        "probe: probe(0,1,10).png"
       ]
      },
      {
       "output_type": "stream",
       "stream": "stdout",
       "text": [
        "\n",
        "probe: probe(34,26,35).png"
       ]
      },
      {
       "output_type": "stream",
       "stream": "stdout",
       "text": [
        "\n",
        "probe: probe(0).png"
       ]
      },
      {
       "output_type": "stream",
       "stream": "stdout",
       "text": [
        "\n",
        "probe: probe(14,15).png"
       ]
      },
      {
       "output_type": "stream",
       "stream": "stdout",
       "text": [
        "\n",
        "probe: probe(11,21).png"
       ]
      },
      {
       "output_type": "stream",
       "stream": "stdout",
       "text": [
        "\n",
        "probe: probe(12,22).png"
       ]
      },
      {
       "output_type": "stream",
       "stream": "stdout",
       "text": [
        "\n",
        "probe: probe(25).png"
       ]
      },
      {
       "output_type": "stream",
       "stream": "stdout",
       "text": [
        "\n",
        "probe: probe(0,1).png"
       ]
      },
      {
       "output_type": "stream",
       "stream": "stdout",
       "text": [
        "\n",
        "probe: probe(13,23).png"
       ]
      },
      {
       "output_type": "stream",
       "stream": "stdout",
       "text": [
        "\n",
        "probe: probe(3,12).png"
       ]
      },
      {
       "output_type": "stream",
       "stream": "stdout",
       "text": [
        "\n",
        "probe: probe(33,25,34).png"
       ]
      },
      {
       "output_type": "stream",
       "stream": "stdout",
       "text": [
        "\n",
        "probe: probe(9,18,10).png"
       ]
      },
      {
       "output_type": "stream",
       "stream": "stdout",
       "text": [
        "\n",
        "probe: probe(2,11).png"
       ]
      },
      {
       "output_type": "stream",
       "stream": "stdout",
       "text": [
        "\n",
        "probe: probe(9,10,19).png"
       ]
      },
      {
       "output_type": "stream",
       "stream": "stdout",
       "text": [
        "\n",
        "probe: probe(5,14).png"
       ]
      },
      {
       "output_type": "stream",
       "stream": "stdout",
       "text": [
        "\n",
        "probe: probe(22,31,23,32).png"
       ]
      },
      {
       "output_type": "stream",
       "stream": "stdout",
       "text": [
        "\n",
        "probe: probe(4,5,14).png"
       ]
      },
      {
       "output_type": "stream",
       "stream": "stdout",
       "text": [
        "\n",
        "probe: probe(7,8).png"
       ]
      },
      {
       "output_type": "stream",
       "stream": "stdout",
       "text": [
        "\n",
        "probe: probe(6,16).png"
       ]
      },
      {
       "output_type": "stream",
       "stream": "stdout",
       "text": [
        "\n",
        "probe: probe(30,31,40).png"
       ]
      },
      {
       "output_type": "stream",
       "stream": "stdout",
       "text": [
        "\n",
        "probe: probe(28,37).png"
       ]
      },
      {
       "output_type": "stream",
       "stream": "stdout",
       "text": [
        "\n",
        "probe: probe(22,23).png"
       ]
      },
      {
       "output_type": "stream",
       "stream": "stdout",
       "text": [
        "\n",
        "probe: probe(27,19,28).png"
       ]
      },
      {
       "output_type": "stream",
       "stream": "stdout",
       "text": [
        "\n",
        "probe: probe(27,36,37).png"
       ]
      },
      {
       "output_type": "stream",
       "stream": "stdout",
       "text": [
        "\n",
        "probe: probe(34).png"
       ]
      },
      {
       "output_type": "stream",
       "stream": "stdout",
       "text": [
        "\n",
        "probe: probe(21,22,31).png"
       ]
      },
      {
       "output_type": "stream",
       "stream": "stdout",
       "text": [
        "\n",
        "probe: probe(20,29,30).png"
       ]
      },
      {
       "output_type": "stream",
       "stream": "stdout",
       "text": [
        "\n",
        "probe: probe(9).png"
       ]
      },
      {
       "output_type": "stream",
       "stream": "stdout",
       "text": [
        "\n",
        "probe: probe(25,34,26).png"
       ]
      },
      {
       "output_type": "stream",
       "stream": "stdout",
       "text": [
        "\n",
        "probe: probe(12,13).png"
       ]
      },
      {
       "output_type": "stream",
       "stream": "stdout",
       "text": [
        "\n",
        "probe: probe(6,15,7).png"
       ]
      },
      {
       "output_type": "stream",
       "stream": "stdout",
       "text": [
        "\n",
        "probe: probe(28,38).png"
       ]
      },
      {
       "output_type": "stream",
       "stream": "stdout",
       "text": [
        "\n",
        "probe: probe(27,36,28,37).png"
       ]
      },
      {
       "output_type": "stream",
       "stream": "stdout",
       "text": [
        "\n",
        "probe: probe(43).png"
       ]
      },
      {
       "output_type": "stream",
       "stream": "stdout",
       "text": [
        "\n",
        "probe: probe(1,10).png"
       ]
      },
      {
       "output_type": "stream",
       "stream": "stdout",
       "text": [
        "\n",
        "probe: probe(18).png"
       ]
      },
      {
       "output_type": "stream",
       "stream": "stdout",
       "text": [
        "\n",
        "probe: probe(31,40,32,41).png"
       ]
      },
      {
       "output_type": "stream",
       "stream": "stdout",
       "text": [
        "\n",
        "probe: probe(16,17).png"
       ]
      },
      {
       "output_type": "stream",
       "stream": "stdout",
       "text": [
        "\n",
        "probe: probe(10,19,11).png"
       ]
      },
      {
       "output_type": "stream",
       "stream": "stdout",
       "text": [
        "\n",
        "probe: probe(19,28).png"
       ]
      },
      {
       "output_type": "stream",
       "stream": "stdout",
       "text": [
        "\n",
        "probe: probe(42,34,43).png"
       ]
      },
      {
       "output_type": "stream",
       "stream": "stdout",
       "text": [
        "\n",
        "probe: probe(44).png"
       ]
      },
      {
       "output_type": "stream",
       "stream": "stdout",
       "text": [
        "\n",
        "probe: probe(7,16,17).png"
       ]
      },
      {
       "output_type": "stream",
       "stream": "stdout",
       "text": [
        "\n",
        "probe: probe(29,21).png"
       ]
      },
      {
       "output_type": "stream",
       "stream": "stdout",
       "text": [
        "\n",
        "probe: probe(21,30).png"
       ]
      },
      {
       "output_type": "stream",
       "stream": "stdout",
       "text": [
        "\n",
        "probe: probe(10,19,20).png"
       ]
      },
      {
       "output_type": "stream",
       "stream": "stdout",
       "text": [
        "\n",
        "probe: probe(29,39).png"
       ]
      },
      {
       "output_type": "stream",
       "stream": "stdout",
       "text": [
        "\n",
        "probe: probe(16,26).png"
       ]
      },
      {
       "output_type": "stream",
       "stream": "stdout",
       "text": [
        "\n",
        "probe: probe(33,43).png"
       ]
      },
      {
       "output_type": "stream",
       "stream": "stdout",
       "text": [
        "\n",
        "probe: probe(23,24).png"
       ]
      },
      {
       "output_type": "stream",
       "stream": "stdout",
       "text": [
        "\n",
        "probe: probe(41,33,42).png"
       ]
      },
      {
       "output_type": "stream",
       "stream": "stdout",
       "text": [
        "\n",
        "probe: probe(12,4,13).png"
       ]
      },
      {
       "output_type": "stream",
       "stream": "stdout",
       "text": [
        "\n",
        "probe: probe(38,39).png"
       ]
      },
      {
       "output_type": "stream",
       "stream": "stdout",
       "text": [
        "\n",
        "probe: probe(2).png"
       ]
      },
      {
       "output_type": "stream",
       "stream": "stdout",
       "text": [
        "\n",
        "probe: probe(11,3).png"
       ]
      },
      {
       "output_type": "stream",
       "stream": "stdout",
       "text": [
        "\n",
        "probe: probe(22,32).png"
       ]
      },
      {
       "output_type": "stream",
       "stream": "stdout",
       "text": [
        "\n",
        "probe: probe(24,25).png"
       ]
      },
      {
       "output_type": "stream",
       "stream": "stdout",
       "text": [
        "\n",
        "probe: probe(12,4).png"
       ]
      },
      {
       "output_type": "stream",
       "stream": "stdout",
       "text": [
        "\n",
        "probe: probe(11,20).png"
       ]
      },
      {
       "output_type": "stream",
       "stream": "stdout",
       "text": [
        "\n",
        "probe: probe(10,20).png"
       ]
      },
      {
       "output_type": "stream",
       "stream": "stdout",
       "text": [
        "\n",
        "probe: probe(14,6,15).png"
       ]
      },
      {
       "output_type": "stream",
       "stream": "stdout",
       "text": [
        "\n",
        "probe: probe(16,25,17).png"
       ]
      },
      {
       "output_type": "stream",
       "stream": "stdout",
       "text": [
        "\n",
        "probe: probe(38,30,39).png"
       ]
      },
      {
       "output_type": "stream",
       "stream": "stdout",
       "text": [
        "\n",
        "probe: probe(13,22).png"
       ]
      },
      {
       "output_type": "stream",
       "stream": "stdout",
       "text": [
        "\n",
        "probe: probe(28,29).png"
       ]
      },
      {
       "output_type": "stream",
       "stream": "stdout",
       "text": [
        "\n",
        "probe: probe(18,27).png"
       ]
      },
      {
       "output_type": "stream",
       "stream": "stdout",
       "text": [
        "\n",
        "probe: probe(32,41,33).png"
       ]
      },
      {
       "output_type": "stream",
       "stream": "stdout",
       "text": [
        "\n",
        "probe: probe(4,13,5).png"
       ]
      },
      {
       "output_type": "stream",
       "stream": "stdout",
       "text": [
        "\n",
        "probe: probe(36).png"
       ]
      },
      {
       "output_type": "stream",
       "stream": "stdout",
       "text": [
        "\n",
        "probe: probe(39).png"
       ]
      },
      {
       "output_type": "stream",
       "stream": "stdout",
       "text": [
        "\n",
        "probe: probe(11).png"
       ]
      },
      {
       "output_type": "stream",
       "stream": "stdout",
       "text": [
        "\n",
        "probe: probe(31,40,41).png"
       ]
      },
      {
       "output_type": "stream",
       "stream": "stdout",
       "text": [
        "\n",
        "probe: probe(1,2,11).png"
       ]
      },
      {
       "output_type": "stream",
       "stream": "stdout",
       "text": [
        "\n",
        "probe: probe(21,30,22).png"
       ]
      },
      {
       "output_type": "stream",
       "stream": "stdout",
       "text": [
        "\n",
        "probe: probe(19,11).png"
       ]
      },
      {
       "output_type": "stream",
       "stream": "stdout",
       "text": [
        "\n",
        "probe: probe(32,33).png"
       ]
      },
      {
       "output_type": "stream",
       "stream": "stdout",
       "text": [
        "\n",
        "probe: probe(11,20,12).png"
       ]
      },
      {
       "output_type": "stream",
       "stream": "stdout",
       "text": [
        "\n",
        "probe: probe(18,27,19).png"
       ]
      },
      {
       "output_type": "stream",
       "stream": "stdout",
       "text": [
        "\n",
        "probe: probe(35,44).png"
       ]
      },
      {
       "output_type": "stream",
       "stream": "stdout",
       "text": [
        "\n",
        "probe: probe(7,8,17).png"
       ]
      },
      {
       "output_type": "stream",
       "stream": "stdout",
       "text": [
        "\n",
        "probe: probe(14,23).png"
       ]
      },
      {
       "output_type": "stream",
       "stream": "stdout",
       "text": [
        "\n",
        "probe: probe(11,12).png"
       ]
      },
      {
       "output_type": "stream",
       "stream": "stdout",
       "text": [
        "\n",
        "probe: probe(34,43).png"
       ]
      },
      {
       "output_type": "stream",
       "stream": "stdout",
       "text": [
        "\n",
        "probe: probe(31,40).png"
       ]
      },
      {
       "output_type": "stream",
       "stream": "stdout",
       "text": [
        "\n",
        "probe: probe(22,14).png"
       ]
      },
      {
       "output_type": "stream",
       "stream": "stdout",
       "text": [
        "\n",
        "probe: probe(11,20,12,21).png"
       ]
      },
      {
       "output_type": "stream",
       "stream": "stdout",
       "text": [
        "\n",
        "probe: probe(12,21,22).png"
       ]
      },
      {
       "output_type": "stream",
       "stream": "stdout",
       "text": [
        "\n",
        "probe: probe(23,15).png"
       ]
      },
      {
       "output_type": "stream",
       "stream": "stdout",
       "text": [
        "\n",
        "probe: probe(39,40).png"
       ]
      },
      {
       "output_type": "stream",
       "stream": "stdout",
       "text": [
        "\n",
        "probe: probe(23,32,33).png"
       ]
      },
      {
       "output_type": "stream",
       "stream": "stdout",
       "text": [
        "\n",
        "probe: probe(43,35,44).png"
       ]
      },
      {
       "output_type": "stream",
       "stream": "stdout",
       "text": [
        "\n",
        "probe: probe(40,32).png"
       ]
      },
      {
       "output_type": "stream",
       "stream": "stdout",
       "text": [
        "\n",
        "probe: probe(27,19).png"
       ]
      },
      {
       "output_type": "stream",
       "stream": "stdout",
       "text": [
        "\n",
        "probe: probe(28,20).png"
       ]
      },
      {
       "output_type": "stream",
       "stream": "stdout",
       "text": [
        "\n",
        "probe: probe(2,3).png"
       ]
      },
      {
       "output_type": "stream",
       "stream": "stdout",
       "text": [
        "\n",
        "probe: probe(20,12).png"
       ]
      },
      {
       "output_type": "stream",
       "stream": "stdout",
       "text": [
        "\n",
        "probe: probe(19,28,20).png"
       ]
      },
      {
       "output_type": "stream",
       "stream": "stdout",
       "text": [
        "\n",
        "probe: probe(19,20,29).png"
       ]
      },
      {
       "output_type": "stream",
       "stream": "stdout",
       "text": [
        "\n",
        "probe: probe(31).png"
       ]
      },
      {
       "output_type": "stream",
       "stream": "stdout",
       "text": [
        "\n",
        "probe: probe(12,21,13,22).png"
       ]
      },
      {
       "output_type": "stream",
       "stream": "stdout",
       "text": [
        "\n",
        "probe: probe(29).png"
       ]
      },
      {
       "output_type": "stream",
       "stream": "stdout",
       "text": [
        "\n",
        "probe: probe(16,8).png"
       ]
      },
      {
       "output_type": "stream",
       "stream": "stdout",
       "text": [
        "\n",
        "probe: probe(30,40).png"
       ]
      },
      {
       "output_type": "stream",
       "stream": "stdout",
       "text": [
        "\n",
        "probe: probe(4).png"
       ]
      },
      {
       "output_type": "stream",
       "stream": "stdout",
       "text": [
        "\n",
        "probe: probe(30,31).png"
       ]
      },
      {
       "output_type": "stream",
       "stream": "stdout",
       "text": [
        "\n",
        "probe: probe(17,26).png"
       ]
      },
      {
       "output_type": "stream",
       "stream": "stdout",
       "text": [
        "\n",
        "probe: probe(20).png"
       ]
      },
      {
       "output_type": "stream",
       "stream": "stdout",
       "text": [
        "\n",
        "probe: probe(42,34).png"
       ]
      },
      {
       "output_type": "stream",
       "stream": "stdout",
       "text": [
        "\n",
        "probe: probe(10,11).png"
       ]
      },
      {
       "output_type": "stream",
       "stream": "stdout",
       "text": [
        "\n",
        "probe: probe(9,1).png"
       ]
      },
      {
       "output_type": "stream",
       "stream": "stdout",
       "text": [
        "\n",
        "probe: probe(12,13,22).png"
       ]
      },
      {
       "output_type": "stream",
       "stream": "stdout",
       "text": [
        "\n",
        "probe: probe(34,43,35).png"
       ]
      },
      {
       "output_type": "stream",
       "stream": "stdout",
       "text": [
        "\n",
        "probe: probe(38).png"
       ]
      },
      {
       "output_type": "stream",
       "stream": "stdout",
       "text": [
        "\n",
        "probe: probe(6,7,16).png"
       ]
      },
      {
       "output_type": "stream",
       "stream": "stdout",
       "text": [
        "\n",
        "probe: probe(13).png"
       ]
      },
      {
       "output_type": "stream",
       "stream": "stdout",
       "text": [
        "\n",
        "probe: probe(37,29).png"
       ]
      },
      {
       "output_type": "stream",
       "stream": "stdout",
       "text": [
        "\n",
        "probe: probe(1,2).png"
       ]
      },
      {
       "output_type": "stream",
       "stream": "stdout",
       "text": [
        "\n",
        "probe: probe(36,28,37).png"
       ]
      },
      {
       "output_type": "stream",
       "stream": "stdout",
       "text": [
        "\n",
        "probe: probe(9,18,19).png"
       ]
      },
      {
       "output_type": "stream",
       "stream": "stdout",
       "text": [
        "\n",
        "probe: probe(9,18,10,19).png"
       ]
      },
      {
       "output_type": "stream",
       "stream": "stdout",
       "text": [
        "\n",
        "probe: probe(27,36).png"
       ]
      },
      {
       "output_type": "stream",
       "stream": "stdout",
       "text": [
        "\n",
        "probe: probe(34,43,35,44).png"
       ]
      },
      {
       "output_type": "stream",
       "stream": "stdout",
       "text": [
        "\n",
        "probe: probe(39,31).png"
       ]
      },
      {
       "output_type": "stream",
       "stream": "stdout",
       "text": [
        "\n",
        "probe: probe(29,38).png"
       ]
      },
      {
       "output_type": "stream",
       "stream": "stdout",
       "text": [
        "\n",
        "probe: probe(22).png"
       ]
      },
      {
       "output_type": "stream",
       "stream": "stdout",
       "text": [
        "\n",
        "probe: probe(39,31,40).png"
       ]
      },
      {
       "output_type": "stream",
       "stream": "stdout",
       "text": [
        "\n",
        "probe: probe(32,24).png"
       ]
      },
      {
       "output_type": "stream",
       "stream": "stdout",
       "text": [
        "\n",
        "probe: probe(14,15,24).png"
       ]
      },
      {
       "output_type": "stream",
       "stream": "stdout",
       "text": [
        "\n",
        "probe: probe(9,10).png"
       ]
      },
      {
       "output_type": "stream",
       "stream": "stdout",
       "text": [
        "\n",
        "probe: probe(19,28,20,29).png"
       ]
      },
      {
       "output_type": "stream",
       "stream": "stdout",
       "text": [
        "\n",
        "probe: probe(5,14,6).png"
       ]
      },
      {
       "output_type": "stream",
       "stream": "stdout",
       "text": [
        "\n",
        "probe: probe(11,3,12).png"
       ]
      },
      {
       "output_type": "stream",
       "stream": "stdout",
       "text": [
        "\n",
        "probe: probe(8,17).png"
       ]
      },
      {
       "output_type": "stream",
       "stream": "stdout",
       "text": [
        "\n",
        "probe: probe(5,6,15).png"
       ]
      },
      {
       "output_type": "stream",
       "stream": "stdout",
       "text": [
        "\n",
        "probe: probe(4,13,14).png"
       ]
      },
      {
       "output_type": "stream",
       "stream": "stdout",
       "text": [
        "\n",
        "probe: probe(40,32,41).png"
       ]
      },
      {
       "output_type": "stream",
       "stream": "stdout",
       "text": [
        "\n",
        "probe: probe(16,25,17,26).png"
       ]
      },
      {
       "output_type": "stream",
       "stream": "stdout",
       "text": [
        "\n",
        "probe: probe(36,28).png"
       ]
      },
      {
       "output_type": "stream",
       "stream": "stdout",
       "text": [
        "\n",
        "probe: probe(25,17).png"
       ]
      },
      {
       "output_type": "stream",
       "stream": "stdout",
       "text": [
        "\n",
        "probe: probe(13,14).png"
       ]
      },
      {
       "output_type": "stream",
       "stream": "stdout",
       "text": [
        "\n",
        "probe: probe(40).png"
       ]
      },
      {
       "output_type": "stream",
       "stream": "stdout",
       "text": [
        "\n",
        "probe: probe(38,30).png"
       ]
      },
      {
       "output_type": "stream",
       "stream": "stdout",
       "text": [
        "\n",
        "probe: probe(27,37).png"
       ]
      },
      {
       "output_type": "stream",
       "stream": "stdout",
       "text": [
        "\n",
        "probe: probe(24,33,25,34).png"
       ]
      },
      {
       "output_type": "stream",
       "stream": "stdout",
       "text": [
        "\n",
        "probe: probe(21,30,31).png"
       ]
      },
      {
       "output_type": "stream",
       "stream": "stdout",
       "text": [
        "\n",
        "probe: probe(33,42).png"
       ]
      },
      {
       "output_type": "stream",
       "stream": "stdout",
       "text": [
        "\n",
        "probe: probe(6).png"
       ]
      },
      {
       "output_type": "stream",
       "stream": "stdout",
       "text": [
        "\n",
        "probe: probe(13,22,23).png"
       ]
      },
      {
       "output_type": "stream",
       "stream": "stdout",
       "text": [
        "\n",
        "probe: probe(28,29,38).png"
       ]
      },
      {
       "output_type": "stream",
       "stream": "stdout",
       "text": [
        "\n",
        "probe: probe(25,26,35).png"
       ]
      },
      {
       "output_type": "stream",
       "stream": "stdout",
       "text": [
        "\n",
        "probe: probe(14,23,15).png"
       ]
      },
      {
       "output_type": "stream",
       "stream": "stdout",
       "text": [
        "\n",
        "probe: probe(19,11,20).png"
       ]
      },
      {
       "output_type": "stream",
       "stream": "stdout",
       "text": [
        "\n",
        "probe: probe(40,41).png\n",
        "probe: probe(6,15,7,16).png"
       ]
      },
      {
       "output_type": "stream",
       "stream": "stdout",
       "text": [
        "\n",
        "probe: probe(29,21,30).png\n",
        "probe: probe(18,19).png"
       ]
      },
      {
       "output_type": "stream",
       "stream": "stdout",
       "text": [
        "\n",
        "probe: probe(24).png\n",
        "probe: probe(15).png\n",
        "probe: probe(28,37,38).png"
       ]
      },
      {
       "output_type": "stream",
       "stream": "stdout",
       "text": [
        "\n",
        "probe: probe(28,20,29).png\n",
        "probe: probe(19,28,29).png"
       ]
      },
      {
       "output_type": "stream",
       "stream": "stdout",
       "text": [
        "\n",
        "probe: probe(18,27,28).png\n",
        "probe: probe(25,17,26).png"
       ]
      },
      {
       "output_type": "stream",
       "stream": "stdout",
       "text": [
        "\n",
        "probe: probe(25,26).png\n",
        "probe: probe(28,37,29).png"
       ]
      },
      {
       "output_type": "stream",
       "stream": "stdout",
       "text": [
        "\n",
        "probe: probe(16,25,26).png\n",
        "probe: probe(16,8,17).png\n",
        "probe: probe(27,28).png"
       ]
      },
      {
       "output_type": "stream",
       "stream": "stdout",
       "text": [
        "\n",
        "probe: probe(30,39,31,40).png\n",
        "probe: probe(33).png\n",
        "probe: probe(4,5).png"
       ]
      },
      {
       "output_type": "stream",
       "stream": "stdout",
       "text": [
        "\n",
        "probe: probe(0,9,1).png\n",
        "probe: probe(8).png"
       ]
      },
      {
       "output_type": "stream",
       "stream": "stdout",
       "text": [
        "\n",
        "probe: probe(18,28).png\n",
        "probe: probe(22,14,23).png\n",
        "probe: probe(24,33,25).png"
       ]
      },
      {
       "output_type": "stream",
       "stream": "stdout",
       "text": [
        "\n",
        "probe: probe(13,14,23).png\n",
        "probe: probe(30,39).png\n",
        "probe: probe(18,10).png"
       ]
      },
      {
       "output_type": "stream",
       "stream": "stdout",
       "text": [
        "\n",
        "probe: probe(33,34).png\n",
        "probe: probe(0,9,1,10).png\n",
        "probe: probe(43,35).png"
       ]
      },
      {
       "output_type": "stream",
       "stream": "stdout",
       "text": [
        "\n",
        "probe: probe(42).png\n",
        "probe: probe(2,11,3).png\n",
        "probe: probe(17).png"
       ]
      },
      {
       "output_type": "stream",
       "stream": "stdout",
       "text": [
        "\n",
        "probe: probe(22,31,23).png\n",
        "probe: probe(34,35).png\n",
        "probe: probe(9,19).png"
       ]
      },
      {
       "output_type": "stream",
       "stream": "stdout",
       "text": [
        "\n",
        "probe: probe(24,16,25).png\n",
        "probe: probe(20,29,21,30).png\n",
        "probe: probe(2,12).png"
       ]
      },
      {
       "output_type": "stream",
       "stream": "stdout",
       "text": [
        "\n",
        "probe: probe(14,23,24).png\n",
        "probe: probe(25,34,35).png\n",
        "probe: probe(24,33).png"
       ]
      },
      {
       "output_type": "stream",
       "stream": "stdout",
       "text": [
        "\n",
        "probe: probe(15,7,16).png\n",
        "probe: probe(34,43,44).png\n",
        "probe: probe(26).png"
       ]
      },
      {
       "output_type": "stream",
       "stream": "stdout",
       "text": [
        "\n",
        "probe: probe(5,14,15).png\n",
        "probe: probe(1).png\n",
        "probe: probe(20,21).png"
       ]
      },
      {
       "output_type": "stream",
       "stream": "stdout",
       "text": [
        "\n",
        "probe: probe(3,12,4).png\n",
        "probe: probe(3,4,13).png\n",
        "probe: probe(34,26).png"
       ]
      },
      {
       "output_type": "stream",
       "stream": "stdout",
       "text": [
        "\n",
        "probe: probe(29,30,39).png\n",
        "probe: probe(15,25).png\n",
        "probe: probe(10,19).png"
       ]
      },
      {
       "output_type": "stream",
       "stream": "stdout",
       "text": [
        "\n",
        "probe: probe(35).png\n",
        "probe: probe(14,6).png\n",
        "probe: probe(10).png"
       ]
      },
      {
       "output_type": "stream",
       "stream": "stdout",
       "text": [
        "\n",
        "probe: probe(15,7).png\n",
        "probe: probe(23,32,24,33).png\n",
        "probe: probe(33,42,34,43).png"
       ]
      },
      {
       "output_type": "stream",
       "stream": "stdout",
       "text": [
        "\n",
        "probe: probe(11,20,21).png\n",
        "probe: probe(29,38,39).png"
       ]
      },
      {
       "output_type": "stream",
       "stream": "stdout",
       "text": [
        "\n",
        "probe: probe(30,39,31).png\n",
        "probe: probe(18,19,28).png"
       ]
      },
      {
       "output_type": "stream",
       "stream": "stdout",
       "text": [
        "\n",
        "probe: probe(23,33).png\n",
        "probe: probe(19).png"
       ]
      },
      {
       "output_type": "stream",
       "stream": "stdout",
       "text": [
        "\n",
        "probe: probe(32,42).png\n",
        "probe: probe(16,17,26).png\n",
        "probe: probe(42,43).png"
       ]
      },
      {
       "output_type": "stream",
       "stream": "stdout",
       "text": [
        "\n",
        "probe: probe(41,33).png\n",
        "probe: probe(36,37).png\n",
        "probe: probe(4,13,5,14).png"
       ]
      },
      {
       "output_type": "stream",
       "stream": "stdout",
       "text": [
        "\n",
        "probe: probe(22,31,32).png\n",
        "probe: probe(1,10,2).png\n",
        "probe: probe(10,2).png"
       ]
      },
      {
       "output_type": "stream",
       "stream": "stdout",
       "text": [
        "\n",
        "probe: probe(9,18).png\n",
        "probe: probe(24,33,34).png\n",
        "probe: probe(7,16,8).png"
       ]
      },
      {
       "output_type": "stream",
       "stream": "stdout",
       "text": [
        "\n",
        "probe: probe(33,42,34).png\n",
        "probe: probe(7,16,8,17).png\n",
        "probe: probe(28).png"
       ]
      },
      {
       "output_type": "stream",
       "stream": "stdout",
       "text": [
        "\n",
        "probe: probe(11,12,21).png\n",
        "probe: probe(3).png\n",
        "probe: probe(4,13).png"
       ]
      },
      {
       "output_type": "stream",
       "stream": "stdout",
       "text": [
        "\n",
        "probe: probe(5,6).png\n",
        "probe: probe(21,31).png\n",
        "probe: probe(24,34).png"
       ]
      },
      {
       "output_type": "stream",
       "stream": "stdout",
       "text": [
        "\n",
        "probe: probe(31,23,32).png\n",
        "probe: probe(25,35).png\n",
        "probe: probe(6,15).png"
       ]
      },
      {
       "output_type": "stream",
       "stream": "stdout",
       "text": [
        "\n",
        "probe: probe(20,12,21).png\n",
        "probe: probe(18,27,19,28).png\n",
        "probe: probe(41,42).png"
       ]
      },
      {
       "output_type": "stream",
       "stream": "stdout",
       "text": [
        "\n",
        "probe: probe(32,41).png\n",
        "probe: probe(37).png\n",
        "probe: probe(34,44).png"
       ]
      },
      {
       "output_type": "stream",
       "stream": "stdout",
       "text": [
        "\n",
        "probe: probe(15,24,16).png\n",
        "probe: probe(12).png\n",
        "probe: probe(27).png"
       ]
      },
      {
       "output_type": "stream",
       "stream": "stdout",
       "text": [
        "\n",
        "probe: probe(43,44).png\n",
        "probe: probe(15,16,25).png\n",
        "probe: probe(1,10,2,11).png"
       ]
      },
      {
       "output_type": "stream",
       "stream": "stdout",
       "text": [
        "\n",
        "probe: probe(34,35,44).png\n",
        "probe: probe(13,5,14).png"
       ]
      },
      {
       "output_type": "stream",
       "stream": "stdout",
       "text": [
        "\n",
        "probe: probe(15,24).png\n",
        "probe: probe(10,2,11).png\n",
        "probe: probe(24,16).png"
       ]
      },
      {
       "output_type": "stream",
       "stream": "stdout",
       "text": [
        "\n",
        "probe: probe(13,5).png\n",
        "probe: probe(33,42,43).png\n",
        "probe: probe(32,33,42).png"
       ]
      },
      {
       "output_type": "stream",
       "stream": "stdout",
       "text": [
        "\n",
        "probe: probe(28,37,29,38).png\n",
        "probe: probe(0,9).png\n",
        "probe: probe(3,12,13).png"
       ]
      },
      {
       "output_type": "stream",
       "stream": "stdout",
       "text": [
        "\n",
        "probe: probe(2,11,12).png\n",
        "probe: probe(3,4).png\n",
        "probe: probe(9,1,10).png"
       ]
      },
      {
       "output_type": "stream",
       "stream": "stdout",
       "text": [
        "\n",
        "probe: probe(21).png\n",
        "probe: probe(12,21,13).png\n",
        "probe: probe(30,39,40).png"
       ]
      },
      {
       "output_type": "stream",
       "stream": "stdout",
       "text": [
        "\n",
        "probe: probe(7).png\n",
        "probe: probe(0,9,10).png\n",
        "probe: probe(10,19,11,20).png"
       ]
      },
      {
       "output_type": "stream",
       "stream": "stdout",
       "text": [
        "\n",
        "probe: probe(26,35).png\n",
        "probe: probe(23,32,24).png\n",
        "probe: probe(30,22).png"
       ]
      },
      {
       "output_type": "stream",
       "stream": "stdout",
       "text": [
        "\n",
        "probe: probe(20,29).png\n",
        "probe: probe(23,32).png\n",
        "probe: probe(31,23).png"
       ]
      },
      {
       "output_type": "stream",
       "stream": "stdout",
       "text": [
        "\n",
        "probe: probe(27,28,37).png\n",
        "probe: probe(10,11,20).png\n",
        "probe: probe(25,34,26,35).png"
       ]
      },
      {
       "output_type": "stream",
       "stream": "stdout",
       "text": [
        "\n",
        "probe: probe(22,31).png\n",
        "probe: probe(21,13).png\n",
        "probe: probe(21,13,22).png"
       ]
      },
      {
       "output_type": "stream",
       "stream": "stdout",
       "text": [
        "\n",
        "probe: probe(22,23,32).png\n",
        "probe: probe(30,22,31).png\n",
        "probe: probe(31,32).png"
       ]
      },
      {
       "output_type": "stream",
       "stream": "stdout",
       "text": [
        "\n",
        "probe: probe(7,16).png\n",
        "probe: probe(30).png\n",
        "probe: probe(21,30,22,31).png"
       ]
      },
      {
       "output_type": "stream",
       "stream": "stdout",
       "text": [
        "\n",
        "probe: probe(29,30).png\n",
        "probe: probe(5).png\n",
        "probe: probe(20,29,21).png"
       ]
      },
      {
       "output_type": "stream",
       "stream": "stdout",
       "text": [
        "\n",
        "probe: probe(12,21).png\n",
        "probe: probe(14,23,15,24).png\n",
        "probe: probe(37,29,38).png"
       ]
      },
      {
       "output_type": "stream",
       "stream": "stdout",
       "text": [
        "\n",
        "probe: probe(20,21,30).png\n",
        "probe: probe(3,13).png\n",
        "probe: probe(2,11,3,12).png"
       ]
      },
      {
       "output_type": "stream",
       "stream": "stdout",
       "text": [
        "\n",
        "probe: probe(7,17).png\n",
        "probe: probe(4,14).png\n",
        "probe: probe(14,24).png"
       ]
      },
      {
       "output_type": "stream",
       "stream": "stdout",
       "text": [
        "\n",
        "probe: probe(27,36,28).png\n",
        "probe: probe(5,15).png\n",
        "probe: probe(23,24,33).png"
       ]
      },
      {
       "output_type": "stream",
       "stream": "stdout",
       "text": [
        "\n",
        "probe: probe(25,34).png\n",
        "probe: probe(19,20).png\n",
        "probe: probe(14).png"
       ]
      },
      {
       "output_type": "stream",
       "stream": "stdout",
       "text": [
        "\n",
        "probe: probe(18,10,19).png\n",
        "probe: probe(31,41).png\n",
        "probe: probe(21,22).png"
       ]
      },
      {
       "output_type": "stream",
       "stream": "stdout",
       "text": [
        "\n",
        "probe: probe(29,38,30).png\n",
        "probe: probe(23,15,24).png\n",
        "probe: probe(15,16).png"
       ]
      },
      {
       "output_type": "stream",
       "stream": "stdout",
       "text": [
        "\n",
        "probe: probe(15,24,16,25).png\n",
        "probe: probe(13,22,14,23).png\n",
        "probe: probe(32).png"
       ]
      },
      {
       "output_type": "stream",
       "stream": "stdout",
       "text": [
        "\n",
        "probe: probe(23).png\n",
        "probe: probe(0,10).png\n",
        "probe: probe(24,25,34).png"
       ]
      },
      {
       "output_type": "stream",
       "stream": "stdout",
       "text": [
        "\n",
        "probe: probe(1,11).png\n",
        "probe: probe(32,41,33,42).png\n",
        "probe: probe(6,7).png"
       ]
      },
      {
       "output_type": "stream",
       "stream": "stdout",
       "text": [
        "\n",
        "probe: probe(15,24,25).png\n",
        "probe: probe(19,29).png\n",
        "probe: probe(32,41,42).png"
       ]
      },
      {
       "output_type": "stream",
       "stream": "stdout",
       "text": [
        "\n",
        "probe: probe(20,30).png\n",
        "probe: probe(41).png\n",
        "probe: probe(5,14,6,15).png"
       ]
      },
      {
       "output_type": "stream",
       "stream": "stdout",
       "text": [
        "\n",
        "probe: probe(16).png\n",
        "probe: probe(6,15,16).png\n",
        "probe: probe(33,34,43).png"
       ]
      },
      {
       "output_type": "stream",
       "stream": "stdout",
       "text": [
        "\n",
        "probe: probe(16,25).png\n",
        "probe: probe(29,38,30,39).png\n",
        "probe: probe(2,3,12).png"
       ]
      },
      {
       "output_type": "stream",
       "stream": "stdout",
       "text": [
        "\n",
        "probe: probe(3,12,4,13).png\n",
        "probe: probe(32,24,33).png\n",
        "probe: probe(33,25).png"
       ]
      },
      {
       "output_type": "stream",
       "stream": "stdout",
       "text": [
        "\n",
        "probe: probe(31,40,32).png\n",
        "probe: probe(37,38).png\n",
        "probe: probe(13,22,14).png"
       ]
      },
      {
       "output_type": "stream",
       "stream": "stdout",
       "text": [
        "\n",
        "probe: probe(31,32,41).png\n",
        "probe: probe(1,10,11).png\n",
        "probe: probe(0,1,10).png"
       ]
      },
      {
       "output_type": "stream",
       "stream": "stdout",
       "text": [
        "\n",
        "probe: probe(34,26,35).png\n",
        "probe: probe(0).png\n",
        "probe: probe(14,15).png"
       ]
      },
      {
       "output_type": "stream",
       "stream": "stdout",
       "text": [
        "\n",
        "probe: probe(11,21).png\n",
        "probe: probe(12,22).png\n",
        "probe: probe(25).png"
       ]
      },
      {
       "output_type": "stream",
       "stream": "stdout",
       "text": [
        "\n",
        "probe: probe(0,1).png\n",
        "probe: probe(13,23).png\n",
        "probe: probe(3,12).png"
       ]
      },
      {
       "output_type": "stream",
       "stream": "stdout",
       "text": [
        "\n",
        "probe: probe(33,25,34).png\n",
        "probe: probe(9,18,10).png\n",
        "probe: probe(2,11).png"
       ]
      },
      {
       "output_type": "stream",
       "stream": "stdout",
       "text": [
        "\n",
        "probe: probe(9,10,19).png\n",
        "probe: probe(5,14).png\n",
        "probe: probe(22,31,23,32).png"
       ]
      },
      {
       "output_type": "stream",
       "stream": "stdout",
       "text": [
        "\n",
        "probe: probe(4,5,14).png\n",
        "probe: probe(7,8).png\n",
        "probe: probe(6,16).png"
       ]
      },
      {
       "output_type": "stream",
       "stream": "stdout",
       "text": [
        "\n",
        "probe: probe(30,31,40).png\n",
        "probe: probe(28,37).png\n",
        "probe: probe(22,23).png"
       ]
      },
      {
       "output_type": "stream",
       "stream": "stdout",
       "text": [
        "\n",
        "probe: probe(27,19,28).png\n",
        "probe: probe(27,36,37).png\n",
        "probe: probe(34).png"
       ]
      },
      {
       "output_type": "stream",
       "stream": "stdout",
       "text": [
        "\n",
        "probe: probe(21,22,31).png\n",
        "probe: probe(20,29,30).png\n",
        "probe: probe(9).png"
       ]
      },
      {
       "output_type": "stream",
       "stream": "stdout",
       "text": [
        "\n",
        "probe: probe(25,34,26).png\n",
        "probe: probe(12,13).png\n",
        "probe: probe(6,15,7).png"
       ]
      },
      {
       "output_type": "stream",
       "stream": "stdout",
       "text": [
        "\n",
        "probe: probe(28,38).png\n",
        "probe: probe(27,36,28,37).png\n",
        "probe: probe(43).png"
       ]
      },
      {
       "output_type": "stream",
       "stream": "stdout",
       "text": [
        "\n",
        "probe: probe(1,10).png\n",
        "probe: probe(18).png\n",
        "probe: probe(31,40,32,41).png"
       ]
      },
      {
       "output_type": "stream",
       "stream": "stdout",
       "text": [
        "\n",
        "probe: probe(16,17).png\n",
        "probe: probe(10,19,11).png\n",
        "probe: probe(19,28).png"
       ]
      },
      {
       "output_type": "stream",
       "stream": "stdout",
       "text": [
        "\n",
        "probe: probe(42,34,43).png\n",
        "probe: probe(44).png\n",
        "probe: probe(7,16,17).png"
       ]
      },
      {
       "output_type": "stream",
       "stream": "stdout",
       "text": [
        "\n",
        "probe: probe(29,21).png\n",
        "probe: probe(21,30).png\n",
        "probe: probe(10,19,20).png"
       ]
      },
      {
       "output_type": "stream",
       "stream": "stdout",
       "text": [
        "\n",
        "probe: probe(29,39).png\n",
        "probe: probe(16,26).png\n",
        "probe: probe(33,43).png"
       ]
      },
      {
       "output_type": "stream",
       "stream": "stdout",
       "text": [
        "\n",
        "probe: probe(23,24).png\n",
        "probe: probe(41,33,42).png\n",
        "probe: probe(12,4,13).png"
       ]
      },
      {
       "output_type": "stream",
       "stream": "stdout",
       "text": [
        "\n",
        "probe: probe(38,39).png\n",
        "probe: probe(2).png\n",
        "probe: probe(11,3).png"
       ]
      },
      {
       "output_type": "stream",
       "stream": "stdout",
       "text": [
        "\n",
        "probe: probe(22,32).png\n",
        "probe: probe(24,25).png\n",
        "probe: probe(12,4).png"
       ]
      },
      {
       "output_type": "stream",
       "stream": "stdout",
       "text": [
        "\n",
        "probe: probe(11,20).png\n",
        "probe: probe(10,20).png\n",
        "probe: probe(14,6,15).png"
       ]
      },
      {
       "output_type": "stream",
       "stream": "stdout",
       "text": [
        "\n",
        "probe: probe(16,25,17).png\n",
        "probe: probe(38,30,39).png\n",
        "probe: probe(13,22).png"
       ]
      },
      {
       "output_type": "stream",
       "stream": "stdout",
       "text": [
        "\n",
        "probe: probe(28,29).png\n",
        "probe: probe(18,27).png\n",
        "probe: probe(32,41,33).png"
       ]
      },
      {
       "output_type": "stream",
       "stream": "stdout",
       "text": [
        "\n",
        "probe: probe(4,13,5).png\n",
        "probe: probe(36).png\n",
        "probe: probe(39).png"
       ]
      },
      {
       "output_type": "stream",
       "stream": "stdout",
       "text": [
        "\n",
        "probe: probe(11).png\n",
        "probe: probe(31,40,41).png\n",
        "probe: probe(1,2,11).png"
       ]
      },
      {
       "output_type": "stream",
       "stream": "stdout",
       "text": [
        "\n",
        "probe: probe(21,30,22).png\n",
        "probe: probe(19,11).png"
       ]
      },
      {
       "output_type": "stream",
       "stream": "stdout",
       "text": [
        "\n",
        "probe: probe(32,33).png\n",
        "probe: probe(11,20,12).png"
       ]
      },
      {
       "output_type": "stream",
       "stream": "stdout",
       "text": [
        "\n",
        "probe: probe(18,27,19).png\n",
        "probe: probe(35,44).png"
       ]
      },
      {
       "output_type": "stream",
       "stream": "stdout",
       "text": [
        "\n",
        "probe: probe(7,8,17).png\n",
        "probe: probe(14,23).png"
       ]
      },
      {
       "output_type": "stream",
       "stream": "stdout",
       "text": [
        "\n",
        "probe: probe(11,12).png\n",
        "probe: probe(34,43).png"
       ]
      },
      {
       "output_type": "stream",
       "stream": "stdout",
       "text": [
        "\n",
        "probe: probe(31,40).png\n",
        "probe: probe(22,14).png"
       ]
      },
      {
       "output_type": "stream",
       "stream": "stdout",
       "text": [
        "\n",
        "probe: probe(11,20,12,21).png\n",
        "probe: probe(12,21,22).png"
       ]
      },
      {
       "output_type": "stream",
       "stream": "stdout",
       "text": [
        "\n",
        "probe: probe(23,15).png\n",
        "probe: probe(39,40).png"
       ]
      },
      {
       "output_type": "stream",
       "stream": "stdout",
       "text": [
        "\n",
        "probe: probe(23,32,33).png\n",
        "probe: probe(43,35,44).png"
       ]
      },
      {
       "output_type": "stream",
       "stream": "stdout",
       "text": [
        "\n",
        "probe: probe(40,32).png\n",
        "probe: probe(27,19).png"
       ]
      },
      {
       "output_type": "stream",
       "stream": "stdout",
       "text": [
        "\n",
        "probe: probe(28,20).png\n",
        "probe: probe(2,3).png"
       ]
      },
      {
       "output_type": "stream",
       "stream": "stdout",
       "text": [
        "\n",
        "probe: probe(20,12).png\n",
        "probe: probe(19,28,20).png"
       ]
      },
      {
       "output_type": "stream",
       "stream": "stdout",
       "text": [
        "\n",
        "probe: probe(19,20,29).png\n",
        "probe: probe(31).png"
       ]
      },
      {
       "output_type": "stream",
       "stream": "stdout",
       "text": [
        "\n",
        "probe: probe(12,21,13,22).png\n",
        "probe: probe(29).png"
       ]
      },
      {
       "output_type": "stream",
       "stream": "stdout",
       "text": [
        "\n",
        "probe: probe(16,8).png\n",
        "probe: probe(30,40).png"
       ]
      },
      {
       "output_type": "stream",
       "stream": "stdout",
       "text": [
        "\n",
        "probe: probe(4).png\n",
        "probe: probe(30,31).png"
       ]
      },
      {
       "output_type": "stream",
       "stream": "stdout",
       "text": [
        "\n",
        "probe: probe(17,26).png\n",
        "probe: probe(20).png"
       ]
      },
      {
       "output_type": "stream",
       "stream": "stdout",
       "text": [
        "\n",
        "probe: probe(42,34).png\n",
        "probe: probe(10,11).png"
       ]
      },
      {
       "output_type": "stream",
       "stream": "stdout",
       "text": [
        "\n",
        "probe: probe(9,1).png\n",
        "probe: probe(12,13,22).png"
       ]
      },
      {
       "output_type": "stream",
       "stream": "stdout",
       "text": [
        "\n",
        "probe: probe(34,43,35).png\n",
        "probe: probe(38).png"
       ]
      },
      {
       "output_type": "stream",
       "stream": "stdout",
       "text": [
        "\n",
        "probe: probe(6,7,16).png\n",
        "probe: probe(13).png"
       ]
      },
      {
       "output_type": "stream",
       "stream": "stdout",
       "text": [
        "\n",
        "probe: probe(37,29).png\n",
        "probe: probe(1,2).png"
       ]
      },
      {
       "output_type": "stream",
       "stream": "stdout",
       "text": [
        "\n",
        "probe: probe(36,28,37).png\n",
        "probe: probe(9,18,19).png"
       ]
      },
      {
       "output_type": "stream",
       "stream": "stdout",
       "text": [
        "\n",
        "probe: probe(9,18,10,19).png\n",
        "probe: probe(27,36).png"
       ]
      },
      {
       "output_type": "stream",
       "stream": "stdout",
       "text": [
        "\n",
        "probe: probe(34,43,35,44).png\n",
        "probe: probe(39,31).png"
       ]
      },
      {
       "output_type": "stream",
       "stream": "stdout",
       "text": [
        "\n",
        "probe: probe(29,38).png\n",
        "probe: probe(22).png"
       ]
      },
      {
       "output_type": "stream",
       "stream": "stdout",
       "text": [
        "\n",
        "probe: probe(39,31,40).png\n",
        "probe: probe(32,24).png"
       ]
      },
      {
       "output_type": "stream",
       "stream": "stdout",
       "text": [
        "\n",
        "probe: probe(14,15,24).png\n",
        "probe: probe(9,10).png"
       ]
      },
      {
       "output_type": "stream",
       "stream": "stdout",
       "text": [
        "\n",
        "probe: probe(19,28,20,29).png\n",
        "probe: probe(5,14,6).png"
       ]
      },
      {
       "output_type": "stream",
       "stream": "stdout",
       "text": [
        "\n",
        "probe: probe(11,3,12).png\n",
        "probe: probe(8,17).png"
       ]
      },
      {
       "output_type": "stream",
       "stream": "stdout",
       "text": [
        "\n",
        "probe: probe(5,6,15).png\n",
        "probe: probe(4,13,14).png"
       ]
      },
      {
       "output_type": "stream",
       "stream": "stdout",
       "text": [
        "\n",
        "probe: probe(40,32,41).png\n",
        "probe: probe(16,25,17,26).png"
       ]
      },
      {
       "output_type": "stream",
       "stream": "stdout",
       "text": [
        "\n",
        "probe: probe(36,28).png\n",
        "probe: probe(25,17).png"
       ]
      },
      {
       "output_type": "stream",
       "stream": "stdout",
       "text": [
        "\n",
        "probe: probe(13,14).png\n",
        "probe: probe(40).png"
       ]
      },
      {
       "output_type": "stream",
       "stream": "stdout",
       "text": [
        "\n",
        "probe: probe(38,30).png\n",
        "probe: probe(27,37).png"
       ]
      },
      {
       "output_type": "stream",
       "stream": "stdout",
       "text": [
        "\n",
        "probe: probe(24,33,25,34).png\n",
        "probe: probe(21,30,31).png"
       ]
      },
      {
       "output_type": "stream",
       "stream": "stdout",
       "text": [
        "\n",
        "probe: probe(33,42).png\n",
        "probe: probe(6).png"
       ]
      },
      {
       "output_type": "stream",
       "stream": "stdout",
       "text": [
        "\n",
        "probe: probe(13,22,23).png\n",
        "probe: probe(28,29,38).png"
       ]
      },
      {
       "output_type": "stream",
       "stream": "stdout",
       "text": [
        "\n",
        "probe: probe(25,26,35).png\n",
        "probe: probe(14,23,15).png"
       ]
      },
      {
       "output_type": "stream",
       "stream": "stdout",
       "text": [
        "\n",
        "remaking probes with jittered centers..."
       ]
      },
      {
       "output_type": "stream",
       "stream": "stdout",
       "text": [
        "\n",
        "probe: probe(19,11,20).png"
       ]
      },
      {
       "output_type": "stream",
       "stream": "stdout",
       "text": [
        "\n",
        "probe: probe(40,41).png"
       ]
      },
      {
       "output_type": "stream",
       "stream": "stdout",
       "text": [
        "\n",
        "probe: probe(6,15,7,16).png"
       ]
      },
      {
       "output_type": "stream",
       "stream": "stdout",
       "text": [
        "\n",
        "probe: probe(29,21,30).png"
       ]
      },
      {
       "output_type": "stream",
       "stream": "stdout",
       "text": [
        "\n",
        "probe: probe(18,19).png"
       ]
      },
      {
       "output_type": "stream",
       "stream": "stdout",
       "text": [
        "\n",
        "probe: probe(24).png"
       ]
      },
      {
       "output_type": "stream",
       "stream": "stdout",
       "text": [
        "\n",
        "probe: probe(15).png"
       ]
      },
      {
       "output_type": "stream",
       "stream": "stdout",
       "text": [
        "\n",
        "probe: probe(28,37,38).png"
       ]
      },
      {
       "output_type": "stream",
       "stream": "stdout",
       "text": [
        "\n",
        "probe: probe(28,20,29).png"
       ]
      },
      {
       "output_type": "stream",
       "stream": "stdout",
       "text": [
        "\n",
        "probe: probe(19,28,29).png"
       ]
      },
      {
       "output_type": "stream",
       "stream": "stdout",
       "text": [
        "\n",
        "probe: probe(18,27,28).png"
       ]
      },
      {
       "output_type": "stream",
       "stream": "stdout",
       "text": [
        "\n",
        "probe: probe(25,17,26).png"
       ]
      },
      {
       "output_type": "stream",
       "stream": "stdout",
       "text": [
        "\n",
        "probe: probe(25,26).png"
       ]
      },
      {
       "output_type": "stream",
       "stream": "stdout",
       "text": [
        "\n",
        "probe: probe(28,37,29).png"
       ]
      },
      {
       "output_type": "stream",
       "stream": "stdout",
       "text": [
        "\n",
        "probe: probe(16,25,26).png"
       ]
      },
      {
       "output_type": "stream",
       "stream": "stdout",
       "text": [
        "\n",
        "probe: probe(16,8,17).png"
       ]
      },
      {
       "output_type": "stream",
       "stream": "stdout",
       "text": [
        "\n",
        "probe: probe(27,28).png"
       ]
      },
      {
       "output_type": "stream",
       "stream": "stdout",
       "text": [
        "\n",
        "probe: probe(30,39,31,40).png"
       ]
      },
      {
       "output_type": "stream",
       "stream": "stdout",
       "text": [
        "\n",
        "probe: probe(33).png"
       ]
      },
      {
       "output_type": "stream",
       "stream": "stdout",
       "text": [
        "\n",
        "probe: probe(4,5).png"
       ]
      },
      {
       "output_type": "stream",
       "stream": "stdout",
       "text": [
        "\n",
        "probe: probe(0,9,1).png"
       ]
      },
      {
       "output_type": "stream",
       "stream": "stdout",
       "text": [
        "\n",
        "probe: probe(8).png"
       ]
      },
      {
       "output_type": "stream",
       "stream": "stdout",
       "text": [
        "\n",
        "probe: probe(18,28).png"
       ]
      },
      {
       "output_type": "stream",
       "stream": "stdout",
       "text": [
        "\n",
        "probe: probe(22,14,23).png"
       ]
      },
      {
       "output_type": "stream",
       "stream": "stdout",
       "text": [
        "\n",
        "probe: probe(24,33,25).png"
       ]
      },
      {
       "output_type": "stream",
       "stream": "stdout",
       "text": [
        "\n",
        "probe: probe(13,14,23).png"
       ]
      },
      {
       "output_type": "stream",
       "stream": "stdout",
       "text": [
        "\n",
        "probe: probe(30,39).png"
       ]
      },
      {
       "output_type": "stream",
       "stream": "stdout",
       "text": [
        "\n",
        "probe: probe(18,10).png"
       ]
      },
      {
       "output_type": "stream",
       "stream": "stdout",
       "text": [
        "\n",
        "probe: probe(33,34).png"
       ]
      },
      {
       "output_type": "stream",
       "stream": "stdout",
       "text": [
        "\n",
        "probe: probe(0,9,1,10).png"
       ]
      },
      {
       "output_type": "stream",
       "stream": "stdout",
       "text": [
        "\n",
        "probe: probe(43,35).png"
       ]
      },
      {
       "output_type": "stream",
       "stream": "stdout",
       "text": [
        "\n",
        "probe: probe(42).png"
       ]
      },
      {
       "output_type": "stream",
       "stream": "stdout",
       "text": [
        "\n",
        "probe: probe(2,11,3).png"
       ]
      },
      {
       "output_type": "stream",
       "stream": "stdout",
       "text": [
        "\n",
        "probe: probe(17).png"
       ]
      },
      {
       "output_type": "stream",
       "stream": "stdout",
       "text": [
        "\n",
        "probe: probe(22,31,23).png"
       ]
      },
      {
       "output_type": "stream",
       "stream": "stdout",
       "text": [
        "\n",
        "probe: probe(34,35).png"
       ]
      },
      {
       "output_type": "stream",
       "stream": "stdout",
       "text": [
        "\n",
        "probe: probe(9,19).png"
       ]
      },
      {
       "output_type": "stream",
       "stream": "stdout",
       "text": [
        "\n",
        "probe: probe(24,16,25).png"
       ]
      },
      {
       "output_type": "stream",
       "stream": "stdout",
       "text": [
        "\n",
        "probe: probe(20,29,21,30).png"
       ]
      },
      {
       "output_type": "stream",
       "stream": "stdout",
       "text": [
        "\n",
        "probe: probe(2,12).png"
       ]
      },
      {
       "output_type": "stream",
       "stream": "stdout",
       "text": [
        "\n",
        "probe: probe(14,23,24).png"
       ]
      },
      {
       "output_type": "stream",
       "stream": "stdout",
       "text": [
        "\n",
        "probe: probe(25,34,35).png"
       ]
      },
      {
       "output_type": "stream",
       "stream": "stdout",
       "text": [
        "\n",
        "probe: probe(24,33).png"
       ]
      },
      {
       "output_type": "stream",
       "stream": "stdout",
       "text": [
        "\n",
        "probe: probe(15,7,16).png"
       ]
      },
      {
       "output_type": "stream",
       "stream": "stdout",
       "text": [
        "\n",
        "probe: probe(34,43,44).png"
       ]
      },
      {
       "output_type": "stream",
       "stream": "stdout",
       "text": [
        "\n",
        "probe: probe(26).png"
       ]
      },
      {
       "output_type": "stream",
       "stream": "stdout",
       "text": [
        "\n",
        "probe: probe(5,14,15).png"
       ]
      },
      {
       "output_type": "stream",
       "stream": "stdout",
       "text": [
        "\n",
        "probe: probe(1).png"
       ]
      },
      {
       "output_type": "stream",
       "stream": "stdout",
       "text": [
        "\n",
        "probe: probe(20,21).png"
       ]
      },
      {
       "output_type": "stream",
       "stream": "stdout",
       "text": [
        "\n",
        "probe: probe(3,12,4).png"
       ]
      },
      {
       "output_type": "stream",
       "stream": "stdout",
       "text": [
        "\n",
        "probe: probe(3,4,13).png"
       ]
      },
      {
       "output_type": "stream",
       "stream": "stdout",
       "text": [
        "\n",
        "probe: probe(34,26).png"
       ]
      },
      {
       "output_type": "stream",
       "stream": "stdout",
       "text": [
        "\n",
        "probe: probe(29,30,39).png"
       ]
      },
      {
       "output_type": "stream",
       "stream": "stdout",
       "text": [
        "\n",
        "probe: probe(15,25).png"
       ]
      },
      {
       "output_type": "stream",
       "stream": "stdout",
       "text": [
        "\n",
        "probe: probe(10,19).png"
       ]
      },
      {
       "output_type": "stream",
       "stream": "stdout",
       "text": [
        "\n",
        "probe: probe(35).png"
       ]
      },
      {
       "output_type": "stream",
       "stream": "stdout",
       "text": [
        "\n",
        "probe: probe(14,6).png"
       ]
      },
      {
       "output_type": "stream",
       "stream": "stdout",
       "text": [
        "\n",
        "probe: probe(10).png"
       ]
      },
      {
       "output_type": "stream",
       "stream": "stdout",
       "text": [
        "\n",
        "probe: probe(15,7).png"
       ]
      },
      {
       "output_type": "stream",
       "stream": "stdout",
       "text": [
        "\n",
        "probe: probe(23,32,24,33).png"
       ]
      },
      {
       "output_type": "stream",
       "stream": "stdout",
       "text": [
        "\n",
        "probe: probe(33,42,34,43).png"
       ]
      },
      {
       "output_type": "stream",
       "stream": "stdout",
       "text": [
        "\n",
        "probe: probe(11,20,21).png"
       ]
      },
      {
       "output_type": "stream",
       "stream": "stdout",
       "text": [
        "\n",
        "probe: probe(29,38,39).png"
       ]
      },
      {
       "output_type": "stream",
       "stream": "stdout",
       "text": [
        "\n",
        "probe: probe(30,39,31).png"
       ]
      },
      {
       "output_type": "stream",
       "stream": "stdout",
       "text": [
        "\n",
        "probe: probe(18,19,28).png"
       ]
      },
      {
       "output_type": "stream",
       "stream": "stdout",
       "text": [
        "\n",
        "probe: probe(23,33).png"
       ]
      },
      {
       "output_type": "stream",
       "stream": "stdout",
       "text": [
        "\n",
        "probe: probe(19).png"
       ]
      },
      {
       "output_type": "stream",
       "stream": "stdout",
       "text": [
        "\n",
        "probe: probe(32,42).png"
       ]
      },
      {
       "output_type": "stream",
       "stream": "stdout",
       "text": [
        "\n",
        "probe: probe(16,17,26).png"
       ]
      },
      {
       "output_type": "stream",
       "stream": "stdout",
       "text": [
        "\n",
        "probe: probe(42,43).png"
       ]
      },
      {
       "output_type": "stream",
       "stream": "stdout",
       "text": [
        "\n",
        "probe: probe(41,33).png"
       ]
      },
      {
       "output_type": "stream",
       "stream": "stdout",
       "text": [
        "\n",
        "probe: probe(36,37).png"
       ]
      },
      {
       "output_type": "stream",
       "stream": "stdout",
       "text": [
        "\n",
        "probe: probe(4,13,5,14).png"
       ]
      },
      {
       "output_type": "stream",
       "stream": "stdout",
       "text": [
        "\n",
        "probe: probe(22,31,32).png"
       ]
      },
      {
       "output_type": "stream",
       "stream": "stdout",
       "text": [
        "\n",
        "probe: probe(1,10,2).png"
       ]
      },
      {
       "output_type": "stream",
       "stream": "stdout",
       "text": [
        "\n",
        "probe: probe(10,2).png"
       ]
      },
      {
       "output_type": "stream",
       "stream": "stdout",
       "text": [
        "\n",
        "probe: probe(9,18).png"
       ]
      },
      {
       "output_type": "stream",
       "stream": "stdout",
       "text": [
        "\n",
        "probe: probe(24,33,34).png"
       ]
      },
      {
       "output_type": "stream",
       "stream": "stdout",
       "text": [
        "\n",
        "probe: probe(7,16,8).png"
       ]
      },
      {
       "output_type": "stream",
       "stream": "stdout",
       "text": [
        "\n",
        "probe: probe(33,42,34).png"
       ]
      },
      {
       "output_type": "stream",
       "stream": "stdout",
       "text": [
        "\n",
        "probe: probe(7,16,8,17).png"
       ]
      },
      {
       "output_type": "stream",
       "stream": "stdout",
       "text": [
        "\n",
        "probe: probe(28).png"
       ]
      },
      {
       "output_type": "stream",
       "stream": "stdout",
       "text": [
        "\n",
        "probe: probe(11,12,21).png"
       ]
      },
      {
       "output_type": "stream",
       "stream": "stdout",
       "text": [
        "\n",
        "probe: probe(3).png"
       ]
      },
      {
       "output_type": "stream",
       "stream": "stdout",
       "text": [
        "\n",
        "probe: probe(4,13).png"
       ]
      },
      {
       "output_type": "stream",
       "stream": "stdout",
       "text": [
        "\n",
        "probe: probe(5,6).png"
       ]
      },
      {
       "output_type": "stream",
       "stream": "stdout",
       "text": [
        "\n",
        "probe: probe(21,31).png"
       ]
      },
      {
       "output_type": "stream",
       "stream": "stdout",
       "text": [
        "\n",
        "probe: probe(24,34).png"
       ]
      },
      {
       "output_type": "stream",
       "stream": "stdout",
       "text": [
        "\n",
        "probe: probe(31,23,32).png"
       ]
      },
      {
       "output_type": "stream",
       "stream": "stdout",
       "text": [
        "\n",
        "probe: probe(25,35).png"
       ]
      },
      {
       "output_type": "stream",
       "stream": "stdout",
       "text": [
        "\n",
        "probe: probe(6,15).png"
       ]
      },
      {
       "output_type": "stream",
       "stream": "stdout",
       "text": [
        "\n",
        "probe: probe(20,12,21).png"
       ]
      },
      {
       "output_type": "stream",
       "stream": "stdout",
       "text": [
        "\n",
        "probe: probe(18,27,19,28).png"
       ]
      },
      {
       "output_type": "stream",
       "stream": "stdout",
       "text": [
        "\n",
        "probe: probe(41,42).png"
       ]
      },
      {
       "output_type": "stream",
       "stream": "stdout",
       "text": [
        "\n",
        "probe: probe(32,41).png"
       ]
      },
      {
       "output_type": "stream",
       "stream": "stdout",
       "text": [
        "\n",
        "probe: probe(37).png"
       ]
      },
      {
       "output_type": "stream",
       "stream": "stdout",
       "text": [
        "\n",
        "probe: probe(34,44).png"
       ]
      },
      {
       "output_type": "stream",
       "stream": "stdout",
       "text": [
        "\n",
        "probe: probe(15,24,16).png"
       ]
      },
      {
       "output_type": "stream",
       "stream": "stdout",
       "text": [
        "\n",
        "probe: probe(12).png"
       ]
      },
      {
       "output_type": "stream",
       "stream": "stdout",
       "text": [
        "\n",
        "probe: probe(27).png"
       ]
      },
      {
       "output_type": "stream",
       "stream": "stdout",
       "text": [
        "\n",
        "probe: probe(43,44).png"
       ]
      },
      {
       "output_type": "stream",
       "stream": "stdout",
       "text": [
        "\n",
        "probe: probe(15,16,25).png"
       ]
      },
      {
       "output_type": "stream",
       "stream": "stdout",
       "text": [
        "\n",
        "probe: probe(1,10,2,11).png"
       ]
      },
      {
       "output_type": "stream",
       "stream": "stdout",
       "text": [
        "\n",
        "probe: probe(34,35,44).png"
       ]
      },
      {
       "output_type": "stream",
       "stream": "stdout",
       "text": [
        "\n",
        "probe: probe(13,5,14).png"
       ]
      },
      {
       "output_type": "stream",
       "stream": "stdout",
       "text": [
        "\n",
        "probe: probe(15,24).png"
       ]
      },
      {
       "output_type": "stream",
       "stream": "stdout",
       "text": [
        "\n",
        "probe: probe(10,2,11).png"
       ]
      },
      {
       "output_type": "stream",
       "stream": "stdout",
       "text": [
        "\n",
        "probe: probe(24,16).png"
       ]
      },
      {
       "output_type": "stream",
       "stream": "stdout",
       "text": [
        "\n",
        "probe: probe(13,5).png"
       ]
      },
      {
       "output_type": "stream",
       "stream": "stdout",
       "text": [
        "\n",
        "probe: probe(33,42,43).png"
       ]
      },
      {
       "output_type": "stream",
       "stream": "stdout",
       "text": [
        "\n",
        "probe: probe(32,33,42).png"
       ]
      },
      {
       "output_type": "stream",
       "stream": "stdout",
       "text": [
        "\n",
        "probe: probe(28,37,29,38).png"
       ]
      },
      {
       "output_type": "stream",
       "stream": "stdout",
       "text": [
        "\n",
        "probe: probe(0,9).png"
       ]
      },
      {
       "output_type": "stream",
       "stream": "stdout",
       "text": [
        "\n",
        "probe: probe(3,12,13).png"
       ]
      },
      {
       "output_type": "stream",
       "stream": "stdout",
       "text": [
        "\n",
        "probe: probe(2,11,12).png"
       ]
      },
      {
       "output_type": "stream",
       "stream": "stdout",
       "text": [
        "\n",
        "probe: probe(3,4).png"
       ]
      },
      {
       "output_type": "stream",
       "stream": "stdout",
       "text": [
        "\n",
        "probe: probe(9,1,10).png"
       ]
      },
      {
       "output_type": "stream",
       "stream": "stdout",
       "text": [
        "\n",
        "probe: probe(21).png"
       ]
      },
      {
       "output_type": "stream",
       "stream": "stdout",
       "text": [
        "\n",
        "probe: probe(12,21,13).png"
       ]
      },
      {
       "output_type": "stream",
       "stream": "stdout",
       "text": [
        "\n",
        "probe: probe(30,39,40).png"
       ]
      },
      {
       "output_type": "stream",
       "stream": "stdout",
       "text": [
        "\n",
        "probe: probe(7).png"
       ]
      },
      {
       "output_type": "stream",
       "stream": "stdout",
       "text": [
        "\n",
        "probe: probe(0,9,10).png"
       ]
      },
      {
       "output_type": "stream",
       "stream": "stdout",
       "text": [
        "\n",
        "probe: probe(10,19,11,20).png"
       ]
      },
      {
       "output_type": "stream",
       "stream": "stdout",
       "text": [
        "\n",
        "probe: probe(26,35).png"
       ]
      },
      {
       "output_type": "stream",
       "stream": "stdout",
       "text": [
        "\n",
        "probe: probe(23,32,24).png"
       ]
      },
      {
       "output_type": "stream",
       "stream": "stdout",
       "text": [
        "\n",
        "probe: probe(30,22).png"
       ]
      },
      {
       "output_type": "stream",
       "stream": "stdout",
       "text": [
        "\n",
        "probe: probe(20,29).png"
       ]
      },
      {
       "output_type": "stream",
       "stream": "stdout",
       "text": [
        "\n",
        "probe: probe(23,32).png"
       ]
      },
      {
       "output_type": "stream",
       "stream": "stdout",
       "text": [
        "\n",
        "probe: probe(31,23).png"
       ]
      },
      {
       "output_type": "stream",
       "stream": "stdout",
       "text": [
        "\n",
        "probe: probe(27,28,37).png"
       ]
      },
      {
       "output_type": "stream",
       "stream": "stdout",
       "text": [
        "\n",
        "probe: probe(10,11,20).png"
       ]
      },
      {
       "output_type": "stream",
       "stream": "stdout",
       "text": [
        "\n",
        "probe: probe(25,34,26,35).png"
       ]
      },
      {
       "output_type": "stream",
       "stream": "stdout",
       "text": [
        "\n",
        "probe: probe(22,31).png"
       ]
      },
      {
       "output_type": "stream",
       "stream": "stdout",
       "text": [
        "\n",
        "probe: probe(21,13).png"
       ]
      },
      {
       "output_type": "stream",
       "stream": "stdout",
       "text": [
        "\n",
        "probe: probe(21,13,22).png"
       ]
      },
      {
       "output_type": "stream",
       "stream": "stdout",
       "text": [
        "\n",
        "probe: probe(22,23,32).png"
       ]
      },
      {
       "output_type": "stream",
       "stream": "stdout",
       "text": [
        "\n",
        "probe: probe(30,22,31).png"
       ]
      },
      {
       "output_type": "stream",
       "stream": "stdout",
       "text": [
        "\n",
        "probe: probe(31,32).png"
       ]
      },
      {
       "output_type": "stream",
       "stream": "stdout",
       "text": [
        "\n",
        "probe: probe(7,16).png"
       ]
      },
      {
       "output_type": "stream",
       "stream": "stdout",
       "text": [
        "\n",
        "probe: probe(30).png"
       ]
      },
      {
       "output_type": "stream",
       "stream": "stdout",
       "text": [
        "\n",
        "probe: probe(21,30,22,31).png"
       ]
      },
      {
       "output_type": "stream",
       "stream": "stdout",
       "text": [
        "\n",
        "probe: probe(29,30).png"
       ]
      },
      {
       "output_type": "stream",
       "stream": "stdout",
       "text": [
        "\n",
        "probe: probe(5).png"
       ]
      },
      {
       "output_type": "stream",
       "stream": "stdout",
       "text": [
        "\n",
        "probe: probe(20,29,21).png"
       ]
      },
      {
       "output_type": "stream",
       "stream": "stdout",
       "text": [
        "\n",
        "probe: probe(12,21).png"
       ]
      },
      {
       "output_type": "stream",
       "stream": "stdout",
       "text": [
        "\n",
        "probe: probe(14,23,15,24).png"
       ]
      },
      {
       "output_type": "stream",
       "stream": "stdout",
       "text": [
        "\n",
        "probe: probe(37,29,38).png"
       ]
      },
      {
       "output_type": "stream",
       "stream": "stdout",
       "text": [
        "\n",
        "probe: probe(20,21,30).png"
       ]
      },
      {
       "output_type": "stream",
       "stream": "stdout",
       "text": [
        "\n",
        "probe: probe(3,13).png"
       ]
      },
      {
       "output_type": "stream",
       "stream": "stdout",
       "text": [
        "\n",
        "probe: probe(2,11,3,12).png"
       ]
      },
      {
       "output_type": "stream",
       "stream": "stdout",
       "text": [
        "\n",
        "probe: probe(7,17).png"
       ]
      },
      {
       "output_type": "stream",
       "stream": "stdout",
       "text": [
        "\n",
        "probe: probe(4,14).png"
       ]
      },
      {
       "output_type": "stream",
       "stream": "stdout",
       "text": [
        "\n",
        "probe: probe(14,24).png"
       ]
      },
      {
       "output_type": "stream",
       "stream": "stdout",
       "text": [
        "\n",
        "probe: probe(27,36,28).png"
       ]
      },
      {
       "output_type": "stream",
       "stream": "stdout",
       "text": [
        "\n",
        "probe: probe(5,15).png"
       ]
      },
      {
       "output_type": "stream",
       "stream": "stdout",
       "text": [
        "\n",
        "probe: probe(23,24,33).png"
       ]
      },
      {
       "output_type": "stream",
       "stream": "stdout",
       "text": [
        "\n",
        "probe: probe(25,34).png"
       ]
      },
      {
       "output_type": "stream",
       "stream": "stdout",
       "text": [
        "\n",
        "probe: probe(19,20).png"
       ]
      },
      {
       "output_type": "stream",
       "stream": "stdout",
       "text": [
        "\n",
        "probe: probe(14).png"
       ]
      },
      {
       "output_type": "stream",
       "stream": "stdout",
       "text": [
        "\n",
        "probe: probe(18,10,19).png"
       ]
      },
      {
       "output_type": "stream",
       "stream": "stdout",
       "text": [
        "\n",
        "probe: probe(31,41).png"
       ]
      },
      {
       "output_type": "stream",
       "stream": "stdout",
       "text": [
        "\n",
        "probe: probe(21,22).png"
       ]
      },
      {
       "output_type": "stream",
       "stream": "stdout",
       "text": [
        "\n",
        "probe: probe(29,38,30).png"
       ]
      },
      {
       "output_type": "stream",
       "stream": "stdout",
       "text": [
        "\n",
        "probe: probe(23,15,24).png"
       ]
      },
      {
       "output_type": "stream",
       "stream": "stdout",
       "text": [
        "\n",
        "probe: probe(15,16).png"
       ]
      },
      {
       "output_type": "stream",
       "stream": "stdout",
       "text": [
        "\n",
        "probe: probe(15,24,16,25).png"
       ]
      },
      {
       "output_type": "stream",
       "stream": "stdout",
       "text": [
        "\n",
        "probe: probe(13,22,14,23).png"
       ]
      },
      {
       "output_type": "stream",
       "stream": "stdout",
       "text": [
        "\n",
        "probe: probe(32).png"
       ]
      },
      {
       "output_type": "stream",
       "stream": "stdout",
       "text": [
        "\n",
        "probe: probe(23).png"
       ]
      },
      {
       "output_type": "stream",
       "stream": "stdout",
       "text": [
        "\n",
        "probe: probe(0,10).png"
       ]
      },
      {
       "output_type": "stream",
       "stream": "stdout",
       "text": [
        "\n",
        "probe: probe(24,25,34).png"
       ]
      },
      {
       "output_type": "stream",
       "stream": "stdout",
       "text": [
        "\n",
        "probe: probe(1,11).png"
       ]
      },
      {
       "output_type": "stream",
       "stream": "stdout",
       "text": [
        "\n",
        "probe: probe(32,41,33,42).png"
       ]
      },
      {
       "output_type": "stream",
       "stream": "stdout",
       "text": [
        "\n",
        "probe: probe(6,7).png"
       ]
      },
      {
       "output_type": "stream",
       "stream": "stdout",
       "text": [
        "\n",
        "probe: probe(15,24,25).png"
       ]
      },
      {
       "output_type": "stream",
       "stream": "stdout",
       "text": [
        "\n",
        "probe: probe(19,29).png"
       ]
      },
      {
       "output_type": "stream",
       "stream": "stdout",
       "text": [
        "\n",
        "probe: probe(32,41,42).png"
       ]
      },
      {
       "output_type": "stream",
       "stream": "stdout",
       "text": [
        "\n",
        "probe: probe(20,30).png"
       ]
      },
      {
       "output_type": "stream",
       "stream": "stdout",
       "text": [
        "\n",
        "probe: probe(41).png"
       ]
      },
      {
       "output_type": "stream",
       "stream": "stdout",
       "text": [
        "\n",
        "probe: probe(5,14,6,15).png"
       ]
      },
      {
       "output_type": "stream",
       "stream": "stdout",
       "text": [
        "\n",
        "probe: probe(16).png"
       ]
      },
      {
       "output_type": "stream",
       "stream": "stdout",
       "text": [
        "\n",
        "probe: probe(6,15,16).png"
       ]
      },
      {
       "output_type": "stream",
       "stream": "stdout",
       "text": [
        "\n",
        "probe: probe(33,34,43).png"
       ]
      },
      {
       "output_type": "stream",
       "stream": "stdout",
       "text": [
        "\n",
        "probe: probe(16,25).png"
       ]
      },
      {
       "output_type": "stream",
       "stream": "stdout",
       "text": [
        "\n",
        "probe: probe(29,38,30,39).png"
       ]
      },
      {
       "output_type": "stream",
       "stream": "stdout",
       "text": [
        "\n",
        "probe: probe(2,3,12).png"
       ]
      },
      {
       "output_type": "stream",
       "stream": "stdout",
       "text": [
        "\n",
        "probe: probe(3,12,4,13).png"
       ]
      },
      {
       "output_type": "stream",
       "stream": "stdout",
       "text": [
        "\n",
        "probe: probe(32,24,33).png"
       ]
      },
      {
       "output_type": "stream",
       "stream": "stdout",
       "text": [
        "\n",
        "probe: probe(33,25).png"
       ]
      },
      {
       "output_type": "stream",
       "stream": "stdout",
       "text": [
        "\n",
        "probe: probe(31,40,32).png"
       ]
      },
      {
       "output_type": "stream",
       "stream": "stdout",
       "text": [
        "\n",
        "probe: probe(37,38).png"
       ]
      },
      {
       "output_type": "stream",
       "stream": "stdout",
       "text": [
        "\n",
        "probe: probe(13,22,14).png"
       ]
      },
      {
       "output_type": "stream",
       "stream": "stdout",
       "text": [
        "\n",
        "probe: probe(31,32,41).png"
       ]
      },
      {
       "output_type": "stream",
       "stream": "stdout",
       "text": [
        "\n",
        "probe: probe(1,10,11).png"
       ]
      },
      {
       "output_type": "stream",
       "stream": "stdout",
       "text": [
        "\n",
        "probe: probe(0,1,10).png"
       ]
      },
      {
       "output_type": "stream",
       "stream": "stdout",
       "text": [
        "\n",
        "probe: probe(34,26,35).png"
       ]
      },
      {
       "output_type": "stream",
       "stream": "stdout",
       "text": [
        "\n",
        "probe: probe(0).png"
       ]
      },
      {
       "output_type": "stream",
       "stream": "stdout",
       "text": [
        "\n",
        "probe: probe(14,15).png"
       ]
      },
      {
       "output_type": "stream",
       "stream": "stdout",
       "text": [
        "\n",
        "probe: probe(11,21).png"
       ]
      },
      {
       "output_type": "stream",
       "stream": "stdout",
       "text": [
        "\n",
        "probe: probe(12,22).png"
       ]
      },
      {
       "output_type": "stream",
       "stream": "stdout",
       "text": [
        "\n",
        "probe: probe(25).png"
       ]
      },
      {
       "output_type": "stream",
       "stream": "stdout",
       "text": [
        "\n",
        "probe: probe(0,1).png"
       ]
      },
      {
       "output_type": "stream",
       "stream": "stdout",
       "text": [
        "\n",
        "probe: probe(13,23).png"
       ]
      },
      {
       "output_type": "stream",
       "stream": "stdout",
       "text": [
        "\n",
        "probe: probe(3,12).png"
       ]
      },
      {
       "output_type": "stream",
       "stream": "stdout",
       "text": [
        "\n",
        "probe: probe(33,25,34).png"
       ]
      },
      {
       "output_type": "stream",
       "stream": "stdout",
       "text": [
        "\n",
        "probe: probe(9,18,10).png"
       ]
      },
      {
       "output_type": "stream",
       "stream": "stdout",
       "text": [
        "\n",
        "probe: probe(2,11).png"
       ]
      },
      {
       "output_type": "stream",
       "stream": "stdout",
       "text": [
        "\n",
        "probe: probe(9,10,19).png"
       ]
      },
      {
       "output_type": "stream",
       "stream": "stdout",
       "text": [
        "\n",
        "probe: probe(5,14).png"
       ]
      },
      {
       "output_type": "stream",
       "stream": "stdout",
       "text": [
        "\n",
        "probe: probe(22,31,23,32).png"
       ]
      },
      {
       "output_type": "stream",
       "stream": "stdout",
       "text": [
        "\n",
        "probe: probe(4,5,14).png"
       ]
      },
      {
       "output_type": "stream",
       "stream": "stdout",
       "text": [
        "\n",
        "probe: probe(7,8).png"
       ]
      },
      {
       "output_type": "stream",
       "stream": "stdout",
       "text": [
        "\n",
        "probe: probe(6,16).png"
       ]
      },
      {
       "output_type": "stream",
       "stream": "stdout",
       "text": [
        "\n",
        "probe: probe(30,31,40).png"
       ]
      },
      {
       "output_type": "stream",
       "stream": "stdout",
       "text": [
        "\n",
        "probe: probe(28,37).png"
       ]
      },
      {
       "output_type": "stream",
       "stream": "stdout",
       "text": [
        "\n",
        "probe: probe(22,23).png"
       ]
      },
      {
       "output_type": "stream",
       "stream": "stdout",
       "text": [
        "\n",
        "probe: probe(27,19,28).png"
       ]
      },
      {
       "output_type": "stream",
       "stream": "stdout",
       "text": [
        "\n",
        "probe: probe(27,36,37).png"
       ]
      },
      {
       "output_type": "stream",
       "stream": "stdout",
       "text": [
        "\n",
        "probe: probe(34).png"
       ]
      },
      {
       "output_type": "stream",
       "stream": "stdout",
       "text": [
        "\n",
        "probe: probe(21,22,31).png"
       ]
      },
      {
       "output_type": "stream",
       "stream": "stdout",
       "text": [
        "\n",
        "probe: probe(20,29,30).png"
       ]
      },
      {
       "output_type": "stream",
       "stream": "stdout",
       "text": [
        "\n",
        "probe: probe(9).png"
       ]
      },
      {
       "output_type": "stream",
       "stream": "stdout",
       "text": [
        "\n",
        "probe: probe(25,34,26).png"
       ]
      },
      {
       "output_type": "stream",
       "stream": "stdout",
       "text": [
        "\n",
        "probe: probe(12,13).png"
       ]
      },
      {
       "output_type": "stream",
       "stream": "stdout",
       "text": [
        "\n",
        "probe: probe(6,15,7).png"
       ]
      },
      {
       "output_type": "stream",
       "stream": "stdout",
       "text": [
        "\n",
        "probe: probe(28,38).png"
       ]
      },
      {
       "output_type": "stream",
       "stream": "stdout",
       "text": [
        "\n",
        "probe: probe(27,36,28,37).png"
       ]
      },
      {
       "output_type": "stream",
       "stream": "stdout",
       "text": [
        "\n",
        "probe: probe(43).png"
       ]
      },
      {
       "output_type": "stream",
       "stream": "stdout",
       "text": [
        "\n",
        "probe: probe(1,10).png"
       ]
      },
      {
       "output_type": "stream",
       "stream": "stdout",
       "text": [
        "\n",
        "probe: probe(18).png"
       ]
      },
      {
       "output_type": "stream",
       "stream": "stdout",
       "text": [
        "\n",
        "probe: probe(31,40,32,41).png"
       ]
      },
      {
       "output_type": "stream",
       "stream": "stdout",
       "text": [
        "\n",
        "probe: probe(16,17).png"
       ]
      },
      {
       "output_type": "stream",
       "stream": "stdout",
       "text": [
        "\n",
        "probe: probe(10,19,11).png"
       ]
      },
      {
       "output_type": "stream",
       "stream": "stdout",
       "text": [
        "\n",
        "probe: probe(19,28).png"
       ]
      },
      {
       "output_type": "stream",
       "stream": "stdout",
       "text": [
        "\n",
        "probe: probe(42,34,43).png"
       ]
      },
      {
       "output_type": "stream",
       "stream": "stdout",
       "text": [
        "\n",
        "probe: probe(44).png"
       ]
      },
      {
       "output_type": "stream",
       "stream": "stdout",
       "text": [
        "\n",
        "probe: probe(7,16,17).png"
       ]
      },
      {
       "output_type": "stream",
       "stream": "stdout",
       "text": [
        "\n",
        "probe: probe(29,21).png"
       ]
      },
      {
       "output_type": "stream",
       "stream": "stdout",
       "text": [
        "\n",
        "probe: probe(21,30).png"
       ]
      },
      {
       "output_type": "stream",
       "stream": "stdout",
       "text": [
        "\n",
        "probe: probe(10,19,20).png"
       ]
      },
      {
       "output_type": "stream",
       "stream": "stdout",
       "text": [
        "\n",
        "probe: probe(29,39).png"
       ]
      },
      {
       "output_type": "stream",
       "stream": "stdout",
       "text": [
        "\n",
        "probe: probe(16,26).png"
       ]
      },
      {
       "output_type": "stream",
       "stream": "stdout",
       "text": [
        "\n",
        "probe: probe(33,43).png"
       ]
      },
      {
       "output_type": "stream",
       "stream": "stdout",
       "text": [
        "\n",
        "probe: probe(23,24).png"
       ]
      },
      {
       "output_type": "stream",
       "stream": "stdout",
       "text": [
        "\n",
        "probe: probe(41,33,42).png"
       ]
      },
      {
       "output_type": "stream",
       "stream": "stdout",
       "text": [
        "\n",
        "probe: probe(12,4,13).png"
       ]
      },
      {
       "output_type": "stream",
       "stream": "stdout",
       "text": [
        "\n",
        "probe: probe(38,39).png"
       ]
      },
      {
       "output_type": "stream",
       "stream": "stdout",
       "text": [
        "\n",
        "probe: probe(2).png"
       ]
      },
      {
       "output_type": "stream",
       "stream": "stdout",
       "text": [
        "\n",
        "probe: probe(11,3).png"
       ]
      },
      {
       "output_type": "stream",
       "stream": "stdout",
       "text": [
        "\n",
        "probe: probe(22,32).png"
       ]
      },
      {
       "output_type": "stream",
       "stream": "stdout",
       "text": [
        "\n",
        "probe: probe(24,25).png"
       ]
      },
      {
       "output_type": "stream",
       "stream": "stdout",
       "text": [
        "\n",
        "probe: probe(12,4).png"
       ]
      },
      {
       "output_type": "stream",
       "stream": "stdout",
       "text": [
        "\n",
        "probe: probe(11,20).png"
       ]
      },
      {
       "output_type": "stream",
       "stream": "stdout",
       "text": [
        "\n",
        "probe: probe(10,20).png"
       ]
      },
      {
       "output_type": "stream",
       "stream": "stdout",
       "text": [
        "\n",
        "probe: probe(14,6,15).png"
       ]
      },
      {
       "output_type": "stream",
       "stream": "stdout",
       "text": [
        "\n",
        "probe: probe(16,25,17).png"
       ]
      },
      {
       "output_type": "stream",
       "stream": "stdout",
       "text": [
        "\n",
        "probe: probe(38,30,39).png"
       ]
      },
      {
       "output_type": "stream",
       "stream": "stdout",
       "text": [
        "\n",
        "probe: probe(13,22).png"
       ]
      },
      {
       "output_type": "stream",
       "stream": "stdout",
       "text": [
        "\n",
        "probe: probe(28,29).png"
       ]
      },
      {
       "output_type": "stream",
       "stream": "stdout",
       "text": [
        "\n",
        "probe: probe(18,27).png"
       ]
      },
      {
       "output_type": "stream",
       "stream": "stdout",
       "text": [
        "\n",
        "probe: probe(32,41,33).png"
       ]
      },
      {
       "output_type": "stream",
       "stream": "stdout",
       "text": [
        "\n",
        "probe: probe(4,13,5).png"
       ]
      },
      {
       "output_type": "stream",
       "stream": "stdout",
       "text": [
        "\n",
        "probe: probe(36).png"
       ]
      },
      {
       "output_type": "stream",
       "stream": "stdout",
       "text": [
        "\n",
        "probe: probe(39).png"
       ]
      },
      {
       "output_type": "stream",
       "stream": "stdout",
       "text": [
        "\n",
        "probe: probe(11).png"
       ]
      },
      {
       "output_type": "stream",
       "stream": "stdout",
       "text": [
        "\n",
        "probe: probe(31,40,41).png"
       ]
      },
      {
       "output_type": "stream",
       "stream": "stdout",
       "text": [
        "\n",
        "probe: probe(1,2,11).png"
       ]
      },
      {
       "output_type": "stream",
       "stream": "stdout",
       "text": [
        "\n",
        "probe: probe(21,30,22).png"
       ]
      },
      {
       "output_type": "stream",
       "stream": "stdout",
       "text": [
        "\n",
        "probe: probe(19,11).png"
       ]
      },
      {
       "output_type": "stream",
       "stream": "stdout",
       "text": [
        "\n",
        "probe: probe(32,33).png"
       ]
      },
      {
       "output_type": "stream",
       "stream": "stdout",
       "text": [
        "\n",
        "probe: probe(11,20,12).png"
       ]
      },
      {
       "output_type": "stream",
       "stream": "stdout",
       "text": [
        "\n",
        "probe: probe(18,27,19).png"
       ]
      },
      {
       "output_type": "stream",
       "stream": "stdout",
       "text": [
        "\n",
        "probe: probe(35,44).png"
       ]
      },
      {
       "output_type": "stream",
       "stream": "stdout",
       "text": [
        "\n",
        "probe: probe(7,8,17).png"
       ]
      },
      {
       "output_type": "stream",
       "stream": "stdout",
       "text": [
        "\n",
        "probe: probe(14,23).png"
       ]
      },
      {
       "output_type": "stream",
       "stream": "stdout",
       "text": [
        "\n",
        "probe: probe(11,12).png"
       ]
      },
      {
       "output_type": "stream",
       "stream": "stdout",
       "text": [
        "\n",
        "probe: probe(34,43).png"
       ]
      },
      {
       "output_type": "stream",
       "stream": "stdout",
       "text": [
        "\n",
        "probe: probe(31,40).png"
       ]
      },
      {
       "output_type": "stream",
       "stream": "stdout",
       "text": [
        "\n",
        "probe: probe(22,14).png"
       ]
      },
      {
       "output_type": "stream",
       "stream": "stdout",
       "text": [
        "\n",
        "probe: probe(11,20,12,21).png"
       ]
      },
      {
       "output_type": "stream",
       "stream": "stdout",
       "text": [
        "\n",
        "probe: probe(12,21,22).png"
       ]
      },
      {
       "output_type": "stream",
       "stream": "stdout",
       "text": [
        "\n",
        "probe: probe(23,15).png"
       ]
      },
      {
       "output_type": "stream",
       "stream": "stdout",
       "text": [
        "\n",
        "probe: probe(39,40).png"
       ]
      },
      {
       "output_type": "stream",
       "stream": "stdout",
       "text": [
        "\n",
        "probe: probe(23,32,33).png"
       ]
      },
      {
       "output_type": "stream",
       "stream": "stdout",
       "text": [
        "\n",
        "probe: probe(43,35,44).png"
       ]
      },
      {
       "output_type": "stream",
       "stream": "stdout",
       "text": [
        "\n",
        "probe: probe(40,32).png"
       ]
      },
      {
       "output_type": "stream",
       "stream": "stdout",
       "text": [
        "\n",
        "probe: probe(27,19).png"
       ]
      },
      {
       "output_type": "stream",
       "stream": "stdout",
       "text": [
        "\n",
        "probe: probe(28,20).png"
       ]
      },
      {
       "output_type": "stream",
       "stream": "stdout",
       "text": [
        "\n",
        "probe: probe(2,3).png"
       ]
      },
      {
       "output_type": "stream",
       "stream": "stdout",
       "text": [
        "\n",
        "probe: probe(20,12).png"
       ]
      },
      {
       "output_type": "stream",
       "stream": "stdout",
       "text": [
        "\n",
        "probe: probe(19,28,20).png"
       ]
      },
      {
       "output_type": "stream",
       "stream": "stdout",
       "text": [
        "\n",
        "probe: probe(19,20,29).png"
       ]
      },
      {
       "output_type": "stream",
       "stream": "stdout",
       "text": [
        "\n",
        "probe: probe(31).png"
       ]
      },
      {
       "output_type": "stream",
       "stream": "stdout",
       "text": [
        "\n",
        "probe: probe(12,21,13,22).png"
       ]
      },
      {
       "output_type": "stream",
       "stream": "stdout",
       "text": [
        "\n",
        "probe: probe(29).png"
       ]
      },
      {
       "output_type": "stream",
       "stream": "stdout",
       "text": [
        "\n",
        "probe: probe(16,8).png"
       ]
      },
      {
       "output_type": "stream",
       "stream": "stdout",
       "text": [
        "\n",
        "probe: probe(30,40).png"
       ]
      },
      {
       "output_type": "stream",
       "stream": "stdout",
       "text": [
        "\n",
        "probe: probe(4).png"
       ]
      },
      {
       "output_type": "stream",
       "stream": "stdout",
       "text": [
        "\n",
        "probe: probe(30,31).png"
       ]
      },
      {
       "output_type": "stream",
       "stream": "stdout",
       "text": [
        "\n",
        "probe: probe(17,26).png"
       ]
      },
      {
       "output_type": "stream",
       "stream": "stdout",
       "text": [
        "\n",
        "probe: probe(20).png"
       ]
      },
      {
       "output_type": "stream",
       "stream": "stdout",
       "text": [
        "\n",
        "probe: probe(42,34).png"
       ]
      },
      {
       "output_type": "stream",
       "stream": "stdout",
       "text": [
        "\n",
        "probe: probe(10,11).png"
       ]
      },
      {
       "output_type": "stream",
       "stream": "stdout",
       "text": [
        "\n",
        "probe: probe(9,1).png"
       ]
      },
      {
       "output_type": "stream",
       "stream": "stdout",
       "text": [
        "\n",
        "probe: probe(12,13,22).png"
       ]
      },
      {
       "output_type": "stream",
       "stream": "stdout",
       "text": [
        "\n",
        "probe: probe(34,43,35).png"
       ]
      },
      {
       "output_type": "stream",
       "stream": "stdout",
       "text": [
        "\n",
        "probe: probe(38).png"
       ]
      },
      {
       "output_type": "stream",
       "stream": "stdout",
       "text": [
        "\n",
        "probe: probe(6,7,16).png"
       ]
      },
      {
       "output_type": "stream",
       "stream": "stdout",
       "text": [
        "\n",
        "probe: probe(13).png"
       ]
      },
      {
       "output_type": "stream",
       "stream": "stdout",
       "text": [
        "\n",
        "probe: probe(37,29).png"
       ]
      },
      {
       "output_type": "stream",
       "stream": "stdout",
       "text": [
        "\n",
        "probe: probe(1,2).png"
       ]
      },
      {
       "output_type": "stream",
       "stream": "stdout",
       "text": [
        "\n",
        "probe: probe(36,28,37).png"
       ]
      },
      {
       "output_type": "stream",
       "stream": "stdout",
       "text": [
        "\n",
        "probe: probe(9,18,19).png"
       ]
      },
      {
       "output_type": "stream",
       "stream": "stdout",
       "text": [
        "\n",
        "probe: probe(9,18,10,19).png"
       ]
      },
      {
       "output_type": "stream",
       "stream": "stdout",
       "text": [
        "\n",
        "probe: probe(27,36).png"
       ]
      },
      {
       "output_type": "stream",
       "stream": "stdout",
       "text": [
        "\n",
        "probe: probe(34,43,35,44).png"
       ]
      },
      {
       "output_type": "stream",
       "stream": "stdout",
       "text": [
        "\n",
        "probe: probe(39,31).png"
       ]
      },
      {
       "output_type": "stream",
       "stream": "stdout",
       "text": [
        "\n",
        "probe: probe(29,38).png"
       ]
      },
      {
       "output_type": "stream",
       "stream": "stdout",
       "text": [
        "\n",
        "probe: probe(22).png"
       ]
      },
      {
       "output_type": "stream",
       "stream": "stdout",
       "text": [
        "\n",
        "probe: probe(39,31,40).png"
       ]
      },
      {
       "output_type": "stream",
       "stream": "stdout",
       "text": [
        "\n",
        "probe: probe(32,24).png"
       ]
      },
      {
       "output_type": "stream",
       "stream": "stdout",
       "text": [
        "\n",
        "probe: probe(14,15,24).png"
       ]
      },
      {
       "output_type": "stream",
       "stream": "stdout",
       "text": [
        "\n",
        "probe: probe(9,10).png"
       ]
      },
      {
       "output_type": "stream",
       "stream": "stdout",
       "text": [
        "\n",
        "probe: probe(19,28,20,29).png"
       ]
      },
      {
       "output_type": "stream",
       "stream": "stdout",
       "text": [
        "\n",
        "probe: probe(5,14,6).png"
       ]
      },
      {
       "output_type": "stream",
       "stream": "stdout",
       "text": [
        "\n",
        "probe: probe(11,3,12).png"
       ]
      },
      {
       "output_type": "stream",
       "stream": "stdout",
       "text": [
        "\n",
        "probe: probe(8,17).png"
       ]
      },
      {
       "output_type": "stream",
       "stream": "stdout",
       "text": [
        "\n",
        "probe: probe(5,6,15).png"
       ]
      },
      {
       "output_type": "stream",
       "stream": "stdout",
       "text": [
        "\n",
        "probe: probe(4,13,14).png"
       ]
      },
      {
       "output_type": "stream",
       "stream": "stdout",
       "text": [
        "\n",
        "probe: probe(40,32,41).png"
       ]
      },
      {
       "output_type": "stream",
       "stream": "stdout",
       "text": [
        "\n",
        "probe: probe(16,25,17,26).png"
       ]
      },
      {
       "output_type": "stream",
       "stream": "stdout",
       "text": [
        "\n",
        "probe: probe(36,28).png"
       ]
      },
      {
       "output_type": "stream",
       "stream": "stdout",
       "text": [
        "\n",
        "probe: probe(25,17).png"
       ]
      },
      {
       "output_type": "stream",
       "stream": "stdout",
       "text": [
        "\n",
        "probe: probe(13,14).png"
       ]
      },
      {
       "output_type": "stream",
       "stream": "stdout",
       "text": [
        "\n",
        "probe: probe(40).png"
       ]
      },
      {
       "output_type": "stream",
       "stream": "stdout",
       "text": [
        "\n",
        "probe: probe(38,30).png"
       ]
      },
      {
       "output_type": "stream",
       "stream": "stdout",
       "text": [
        "\n",
        "probe: probe(27,37).png"
       ]
      },
      {
       "output_type": "stream",
       "stream": "stdout",
       "text": [
        "\n",
        "probe: probe(24,33,25,34).png"
       ]
      },
      {
       "output_type": "stream",
       "stream": "stdout",
       "text": [
        "\n",
        "probe: probe(21,30,31).png"
       ]
      },
      {
       "output_type": "stream",
       "stream": "stdout",
       "text": [
        "\n",
        "probe: probe(33,42).png"
       ]
      },
      {
       "output_type": "stream",
       "stream": "stdout",
       "text": [
        "\n",
        "probe: probe(6).png"
       ]
      },
      {
       "output_type": "stream",
       "stream": "stdout",
       "text": [
        "\n",
        "probe: probe(13,22,23).png"
       ]
      },
      {
       "output_type": "stream",
       "stream": "stdout",
       "text": [
        "\n",
        "probe: probe(28,29,38).png"
       ]
      },
      {
       "output_type": "stream",
       "stream": "stdout",
       "text": [
        "\n",
        "probe: probe(25,26,35).png"
       ]
      },
      {
       "output_type": "stream",
       "stream": "stdout",
       "text": [
        "\n",
        "probe: probe(14,23,15).png"
       ]
      },
      {
       "output_type": "stream",
       "stream": "stdout",
       "text": [
        "\n",
        "probe: probe(19,11,20).png"
       ]
      },
      {
       "output_type": "stream",
       "stream": "stdout",
       "text": [
        "\n",
        "probe: probe(40,41).png\n",
        "probe: probe(6,15,7,16).png"
       ]
      },
      {
       "output_type": "stream",
       "stream": "stdout",
       "text": [
        "\n",
        "probe: probe(29,21,30).png\n",
        "probe: probe(18,19).png\n",
        "probe: probe(24).png"
       ]
      },
      {
       "output_type": "stream",
       "stream": "stdout",
       "text": [
        "\n",
        "probe: probe(15).png\n",
        "probe: probe(28,37,38).png\n",
        "probe: probe(28,20,29).png"
       ]
      },
      {
       "output_type": "stream",
       "stream": "stdout",
       "text": [
        "\n",
        "probe: probe(19,28,29).png\n",
        "probe: probe(18,27,28).png\n",
        "probe: probe(25,17,26).png"
       ]
      },
      {
       "output_type": "stream",
       "stream": "stdout",
       "text": [
        "\n",
        "probe: probe(25,26).png\n",
        "probe: probe(28,37,29).png\n",
        "probe: probe(16,25,26).png"
       ]
      },
      {
       "output_type": "stream",
       "stream": "stdout",
       "text": [
        "\n",
        "probe: probe(16,8,17).png\n",
        "probe: probe(27,28).png\n",
        "probe: probe(30,39,31,40).png"
       ]
      },
      {
       "output_type": "stream",
       "stream": "stdout",
       "text": [
        "\n",
        "probe: probe(33).png\n",
        "probe: probe(4,5).png\n",
        "probe: probe(0,9,1).png"
       ]
      },
      {
       "output_type": "stream",
       "stream": "stdout",
       "text": [
        "\n",
        "probe: probe(8).png\n",
        "probe: probe(18,28).png\n",
        "probe: probe(22,14,23).png"
       ]
      },
      {
       "output_type": "stream",
       "stream": "stdout",
       "text": [
        "\n",
        "probe: probe(24,33,25).png\n",
        "probe: probe(13,14,23).png\n",
        "probe: probe(30,39).png"
       ]
      },
      {
       "output_type": "stream",
       "stream": "stdout",
       "text": [
        "\n",
        "probe: probe(18,10).png\n",
        "probe: probe(33,34).png\n",
        "probe: probe(0,9,1,10).png"
       ]
      },
      {
       "output_type": "stream",
       "stream": "stdout",
       "text": [
        "\n",
        "probe: probe(43,35).png\n",
        "probe: probe(42).png\n",
        "probe: probe(2,11,3).png"
       ]
      },
      {
       "output_type": "stream",
       "stream": "stdout",
       "text": [
        "\n",
        "probe: probe(17).png\n",
        "probe: probe(22,31,23).png\n",
        "probe: probe(34,35).png"
       ]
      },
      {
       "output_type": "stream",
       "stream": "stdout",
       "text": [
        "\n",
        "probe: probe(9,19).png\n",
        "probe: probe(24,16,25).png\n",
        "probe: probe(20,29,21,30).png"
       ]
      },
      {
       "output_type": "stream",
       "stream": "stdout",
       "text": [
        "\n",
        "probe: probe(2,12).png\n",
        "probe: probe(14,23,24).png\n",
        "probe: probe(25,34,35).png"
       ]
      },
      {
       "output_type": "stream",
       "stream": "stdout",
       "text": [
        "\n",
        "probe: probe(24,33).png\n",
        "probe: probe(15,7,16).png\n",
        "probe: probe(34,43,44).png"
       ]
      },
      {
       "output_type": "stream",
       "stream": "stdout",
       "text": [
        "\n",
        "probe: probe(26).png\n",
        "probe: probe(5,14,15).png\n",
        "probe: probe(1).png"
       ]
      },
      {
       "output_type": "stream",
       "stream": "stdout",
       "text": [
        "\n",
        "probe: probe(20,21).png\n",
        "probe: probe(3,12,4).png\n",
        "probe: probe(3,4,13).png"
       ]
      },
      {
       "output_type": "stream",
       "stream": "stdout",
       "text": [
        "\n",
        "probe: probe(34,26).png\n",
        "probe: probe(29,30,39).png\n",
        "probe: probe(15,25).png"
       ]
      },
      {
       "output_type": "stream",
       "stream": "stdout",
       "text": [
        "\n",
        "probe: probe(10,19).png\n",
        "probe: probe(35).png\n",
        "probe: probe(14,6).png"
       ]
      },
      {
       "output_type": "stream",
       "stream": "stdout",
       "text": [
        "\n",
        "probe: probe(10).png\n",
        "probe: probe(15,7).png\n",
        "probe: probe(23,32,24,33).png"
       ]
      },
      {
       "output_type": "stream",
       "stream": "stdout",
       "text": [
        "\n",
        "probe: probe(33,42,34,43).png\n",
        "probe: probe(11,20,21).png\n",
        "probe: probe(29,38,39).png"
       ]
      },
      {
       "output_type": "stream",
       "stream": "stdout",
       "text": [
        "\n",
        "probe: probe(30,39,31).png\n",
        "probe: probe(18,19,28).png\n",
        "probe: probe(23,33).png"
       ]
      },
      {
       "output_type": "stream",
       "stream": "stdout",
       "text": [
        "\n",
        "probe: probe(19).png\n",
        "probe: probe(32,42).png\n",
        "probe: probe(16,17,26).png"
       ]
      },
      {
       "output_type": "stream",
       "stream": "stdout",
       "text": [
        "\n",
        "probe: probe(42,43).png\n",
        "probe: probe(41,33).png\n",
        "probe: probe(36,37).png"
       ]
      },
      {
       "output_type": "stream",
       "stream": "stdout",
       "text": [
        "\n",
        "probe: probe(4,13,5,14).png\n",
        "probe: probe(22,31,32).png\n",
        "probe: probe(1,10,2).png"
       ]
      },
      {
       "output_type": "stream",
       "stream": "stdout",
       "text": [
        "\n",
        "probe: probe(10,2).png\n",
        "probe: probe(9,18).png\n",
        "probe: probe(24,33,34).png"
       ]
      },
      {
       "output_type": "stream",
       "stream": "stdout",
       "text": [
        "\n",
        "probe: probe(7,16,8).png\n",
        "probe: probe(33,42,34).png\n",
        "probe: probe(7,16,8,17).png"
       ]
      },
      {
       "output_type": "stream",
       "stream": "stdout",
       "text": [
        "\n",
        "probe: probe(28).png\n",
        "probe: probe(11,12,21).png\n",
        "probe: probe(3).png"
       ]
      },
      {
       "output_type": "stream",
       "stream": "stdout",
       "text": [
        "\n",
        "probe: probe(4,13).png\n",
        "probe: probe(5,6).png\n",
        "probe: probe(21,31).png"
       ]
      },
      {
       "output_type": "stream",
       "stream": "stdout",
       "text": [
        "\n",
        "probe: probe(24,34).png\n",
        "probe: probe(31,23,32).png\n",
        "probe: probe(25,35).png"
       ]
      },
      {
       "output_type": "stream",
       "stream": "stdout",
       "text": [
        "\n",
        "probe: probe(6,15).png\n",
        "probe: probe(20,12,21).png\n",
        "probe: probe(18,27,19,28).png"
       ]
      },
      {
       "output_type": "stream",
       "stream": "stdout",
       "text": [
        "\n",
        "probe: probe(41,42).png\n",
        "probe: probe(32,41).png\n",
        "probe: probe(37).png"
       ]
      },
      {
       "output_type": "stream",
       "stream": "stdout",
       "text": [
        "\n",
        "probe: probe(34,44).png\n",
        "probe: probe(15,24,16).png\n",
        "probe: probe(12).png"
       ]
      },
      {
       "output_type": "stream",
       "stream": "stdout",
       "text": [
        "\n",
        "probe: probe(27).png\n",
        "probe: probe(43,44).png\n",
        "probe: probe(15,16,25).png"
       ]
      },
      {
       "output_type": "stream",
       "stream": "stdout",
       "text": [
        "\n",
        "probe: probe(1,10,2,11).png\n",
        "probe: probe(34,35,44).png\n",
        "probe: probe(13,5,14).png"
       ]
      },
      {
       "output_type": "stream",
       "stream": "stdout",
       "text": [
        "\n",
        "probe: probe(15,24).png\n",
        "probe: probe(10,2,11).png\n",
        "probe: probe(24,16).png"
       ]
      },
      {
       "output_type": "stream",
       "stream": "stdout",
       "text": [
        "\n",
        "probe: probe(13,5).png\n",
        "probe: probe(33,42,43).png\n",
        "probe: probe(32,33,42).png"
       ]
      },
      {
       "output_type": "stream",
       "stream": "stdout",
       "text": [
        "\n",
        "probe: probe(28,37,29,38).png\n",
        "probe: probe(0,9).png\n",
        "probe: probe(3,12,13).png"
       ]
      },
      {
       "output_type": "stream",
       "stream": "stdout",
       "text": [
        "\n",
        "probe: probe(2,11,12).png\n",
        "probe: probe(3,4).png\n",
        "probe: probe(9,1,10).png"
       ]
      },
      {
       "output_type": "stream",
       "stream": "stdout",
       "text": [
        "\n",
        "probe: probe(21).png\n",
        "probe: probe(12,21,13).png\n",
        "probe: probe(30,39,40).png"
       ]
      },
      {
       "output_type": "stream",
       "stream": "stdout",
       "text": [
        "\n",
        "probe: probe(7).png\n",
        "probe: probe(0,9,10).png\n",
        "probe: probe(10,19,11,20).png"
       ]
      },
      {
       "output_type": "stream",
       "stream": "stdout",
       "text": [
        "\n",
        "probe: probe(26,35).png\n",
        "probe: probe(23,32,24).png\n",
        "probe: probe(30,22).png"
       ]
      },
      {
       "output_type": "stream",
       "stream": "stdout",
       "text": [
        "\n",
        "probe: probe(20,29).png\n",
        "probe: probe(23,32).png\n",
        "probe: probe(31,23).png"
       ]
      },
      {
       "output_type": "stream",
       "stream": "stdout",
       "text": [
        "\n",
        "probe: probe(27,28,37).png\n",
        "probe: probe(10,11,20).png\n",
        "probe: probe(25,34,26,35).png"
       ]
      },
      {
       "output_type": "stream",
       "stream": "stdout",
       "text": [
        "\n",
        "probe: probe(22,31).png\n",
        "probe: probe(21,13).png"
       ]
      },
      {
       "output_type": "stream",
       "stream": "stdout",
       "text": [
        "\n",
        "probe: probe(21,13,22).png\n",
        "probe: probe(22,23,32).png"
       ]
      },
      {
       "output_type": "stream",
       "stream": "stdout",
       "text": [
        "\n",
        "probe: probe(30,22,31).png\n",
        "probe: probe(31,32).png"
       ]
      },
      {
       "output_type": "stream",
       "stream": "stdout",
       "text": [
        "\n",
        "probe: probe(7,16).png\n",
        "probe: probe(30).png\n",
        "probe: probe(21,30,22,31).png"
       ]
      },
      {
       "output_type": "stream",
       "stream": "stdout",
       "text": [
        "\n",
        "probe: probe(29,30).png\n",
        "probe: probe(5).png\n",
        "probe: probe(20,29,21).png"
       ]
      },
      {
       "output_type": "stream",
       "stream": "stdout",
       "text": [
        "\n",
        "probe: probe(12,21).png\n",
        "probe: probe(14,23,15,24).png\n",
        "probe: probe(37,29,38).png"
       ]
      },
      {
       "output_type": "stream",
       "stream": "stdout",
       "text": [
        "\n",
        "probe: probe(20,21,30).png\n",
        "probe: probe(3,13).png"
       ]
      },
      {
       "output_type": "stream",
       "stream": "stdout",
       "text": [
        "\n",
        "probe: probe(2,11,3,12).png\n",
        "probe: probe(7,17).png"
       ]
      },
      {
       "output_type": "stream",
       "stream": "stdout",
       "text": [
        "\n",
        "probe: probe(4,14).png\n",
        "probe: probe(14,24).png\n",
        "probe: probe(27,36,28).png"
       ]
      },
      {
       "output_type": "stream",
       "stream": "stdout",
       "text": [
        "\n",
        "probe: probe(5,15).png\n",
        "probe: probe(23,24,33).png\n",
        "probe: probe(25,34).png"
       ]
      },
      {
       "output_type": "stream",
       "stream": "stdout",
       "text": [
        "\n",
        "probe: probe(19,20).png\n",
        "probe: probe(14).png\n",
        "probe: probe(18,10,19).png"
       ]
      },
      {
       "output_type": "stream",
       "stream": "stdout",
       "text": [
        "\n",
        "probe: probe(31,41).png\n",
        "probe: probe(21,22).png\n",
        "probe: probe(29,38,30).png"
       ]
      },
      {
       "output_type": "stream",
       "stream": "stdout",
       "text": [
        "\n",
        "probe: probe(23,15,24).png\n",
        "probe: probe(15,16).png"
       ]
      },
      {
       "output_type": "stream",
       "stream": "stdout",
       "text": [
        "\n",
        "probe: probe(15,24,16,25).png\n",
        "probe: probe(13,22,14,23).png"
       ]
      },
      {
       "output_type": "stream",
       "stream": "stdout",
       "text": [
        "\n",
        "probe: probe(32).png\n",
        "probe: probe(23).png\n",
        "probe: probe(0,10).png"
       ]
      },
      {
       "output_type": "stream",
       "stream": "stdout",
       "text": [
        "\n",
        "probe: probe(24,25,34).png\n",
        "probe: probe(1,11).png\n",
        "probe: probe(32,41,33,42).png"
       ]
      },
      {
       "output_type": "stream",
       "stream": "stdout",
       "text": [
        "\n",
        "probe: probe(6,7).png\n",
        "probe: probe(15,24,25).png\n",
        "probe: probe(19,29).png"
       ]
      },
      {
       "output_type": "stream",
       "stream": "stdout",
       "text": [
        "\n",
        "probe: probe(32,41,42).png\n",
        "probe: probe(20,30).png"
       ]
      },
      {
       "output_type": "stream",
       "stream": "stdout",
       "text": [
        "\n",
        "probe: probe(41).png\n",
        "probe: probe(5,14,6,15).png\n",
        "probe: probe(16).png"
       ]
      },
      {
       "output_type": "stream",
       "stream": "stdout",
       "text": [
        "\n",
        "probe: probe(6,15,16).png\n",
        "probe: probe(33,34,43).png\n",
        "probe: probe(16,25).png"
       ]
      },
      {
       "output_type": "stream",
       "stream": "stdout",
       "text": [
        "\n",
        "probe: probe(29,38,30,39).png\n",
        "probe: probe(2,3,12).png\n",
        "probe: probe(3,12,4,13).png"
       ]
      },
      {
       "output_type": "stream",
       "stream": "stdout",
       "text": [
        "\n",
        "probe: probe(32,24,33).png\n",
        "probe: probe(33,25).png\n",
        "probe: probe(31,40,32).png"
       ]
      },
      {
       "output_type": "stream",
       "stream": "stdout",
       "text": [
        "\n",
        "probe: probe(37,38).png\n",
        "probe: probe(13,22,14).png"
       ]
      },
      {
       "output_type": "stream",
       "stream": "stdout",
       "text": [
        "\n",
        "probe: probe(31,32,41).png\n",
        "probe: probe(1,10,11).png\n",
        "probe: probe(0,1,10).png"
       ]
      },
      {
       "output_type": "stream",
       "stream": "stdout",
       "text": [
        "\n",
        "probe: probe(34,26,35).png\n",
        "probe: probe(0).png\n",
        "probe: probe(14,15).png"
       ]
      },
      {
       "output_type": "stream",
       "stream": "stdout",
       "text": [
        "\n",
        "probe: probe(11,21).png\n",
        "probe: probe(12,22).png\n",
        "probe: probe(25).png"
       ]
      },
      {
       "output_type": "stream",
       "stream": "stdout",
       "text": [
        "\n",
        "probe: probe(0,1).png\n",
        "probe: probe(13,23).png\n",
        "probe: probe(3,12).png"
       ]
      },
      {
       "output_type": "stream",
       "stream": "stdout",
       "text": [
        "\n",
        "probe: probe(33,25,34).png\n",
        "probe: probe(9,18,10).png\n",
        "probe: probe(2,11).png"
       ]
      },
      {
       "output_type": "stream",
       "stream": "stdout",
       "text": [
        "\n",
        "probe: probe(9,10,19).png\n",
        "probe: probe(5,14).png\n",
        "probe: probe(22,31,23,32).png"
       ]
      },
      {
       "output_type": "stream",
       "stream": "stdout",
       "text": [
        "\n",
        "probe: probe(4,5,14).png\n",
        "probe: probe(7,8).png\n",
        "probe: probe(6,16).png"
       ]
      },
      {
       "output_type": "stream",
       "stream": "stdout",
       "text": [
        "\n",
        "probe: probe(30,31,40).png\n",
        "probe: probe(28,37).png\n",
        "probe: probe(22,23).png"
       ]
      },
      {
       "output_type": "stream",
       "stream": "stdout",
       "text": [
        "\n",
        "probe: probe(27,19,28).png\n",
        "probe: probe(27,36,37).png\n",
        "probe: probe(34).png"
       ]
      },
      {
       "output_type": "stream",
       "stream": "stdout",
       "text": [
        "\n",
        "probe: probe(21,22,31).png\n",
        "probe: probe(20,29,30).png\n",
        "probe: probe(9).png"
       ]
      },
      {
       "output_type": "stream",
       "stream": "stdout",
       "text": [
        "\n",
        "probe: probe(25,34,26).png\n",
        "probe: probe(12,13).png\n",
        "probe: probe(6,15,7).png"
       ]
      },
      {
       "output_type": "stream",
       "stream": "stdout",
       "text": [
        "\n",
        "probe: probe(28,38).png\n",
        "probe: probe(27,36,28,37).png\n",
        "probe: probe(43).png"
       ]
      },
      {
       "output_type": "stream",
       "stream": "stdout",
       "text": [
        "\n",
        "probe: probe(1,10).png\n",
        "probe: probe(18).png\n",
        "probe: probe(31,40,32,41).png"
       ]
      },
      {
       "output_type": "stream",
       "stream": "stdout",
       "text": [
        "\n",
        "probe: probe(16,17).png\n",
        "probe: probe(10,19,11).png\n",
        "probe: probe(19,28).png"
       ]
      },
      {
       "output_type": "stream",
       "stream": "stdout",
       "text": [
        "\n",
        "probe: probe(42,34,43).png\n",
        "probe: probe(44).png"
       ]
      },
      {
       "output_type": "stream",
       "stream": "stdout",
       "text": [
        "\n",
        "probe: probe(7,16,17).png\n",
        "probe: probe(29,21).png"
       ]
      },
      {
       "output_type": "stream",
       "stream": "stdout",
       "text": [
        "\n",
        "probe: probe(21,30).png\n",
        "probe: probe(10,19,20).png"
       ]
      },
      {
       "output_type": "stream",
       "stream": "stdout",
       "text": [
        "\n",
        "probe: probe(29,39).png\n",
        "probe: probe(16,26).png"
       ]
      },
      {
       "output_type": "stream",
       "stream": "stdout",
       "text": [
        "\n",
        "probe: probe(33,43).png\n",
        "probe: probe(23,24).png\n",
        "probe: probe(41,33,42).png"
       ]
      },
      {
       "output_type": "stream",
       "stream": "stdout",
       "text": [
        "\n",
        "probe: probe(12,4,13).png\n",
        "probe: probe(38,39).png\n",
        "probe: probe(2).png"
       ]
      },
      {
       "output_type": "stream",
       "stream": "stdout",
       "text": [
        "\n",
        "probe: probe(11,3).png\n",
        "probe: probe(22,32).png"
       ]
      },
      {
       "output_type": "stream",
       "stream": "stdout",
       "text": [
        "\n",
        "probe: probe(24,25).png\n",
        "probe: probe(12,4).png\n",
        "probe: probe(11,20).png"
       ]
      },
      {
       "output_type": "stream",
       "stream": "stdout",
       "text": [
        "\n",
        "probe: probe(10,20).png\n",
        "probe: probe(14,6,15).png\n",
        "probe: probe(16,25,17).png"
       ]
      },
      {
       "output_type": "stream",
       "stream": "stdout",
       "text": [
        "\n",
        "probe: probe(38,30,39).png\n",
        "probe: probe(13,22).png"
       ]
      },
      {
       "output_type": "stream",
       "stream": "stdout",
       "text": [
        "\n",
        "probe: probe(28,29).png\n",
        "probe: probe(18,27).png\n",
        "probe: probe(32,41,33).png"
       ]
      },
      {
       "output_type": "stream",
       "stream": "stdout",
       "text": [
        "\n",
        "probe: probe(4,13,5).png\n",
        "probe: probe(36).png"
       ]
      },
      {
       "output_type": "stream",
       "stream": "stdout",
       "text": [
        "\n",
        "probe: probe(39).png\n",
        "probe: probe(11).png"
       ]
      },
      {
       "output_type": "stream",
       "stream": "stdout",
       "text": [
        "\n",
        "probe: probe(31,40,41).png\n",
        "probe: probe(1,2,11).png"
       ]
      },
      {
       "output_type": "stream",
       "stream": "stdout",
       "text": [
        "\n",
        "probe: probe(21,30,22).png\n",
        "probe: probe(19,11).png"
       ]
      },
      {
       "output_type": "stream",
       "stream": "stdout",
       "text": [
        "\n",
        "probe: probe(32,33).png\n",
        "probe: probe(11,20,12).png"
       ]
      },
      {
       "output_type": "stream",
       "stream": "stdout",
       "text": [
        "\n",
        "probe: probe(18,27,19).png\n",
        "probe: probe(35,44).png\n",
        "probe: probe(7,8,17).png"
       ]
      },
      {
       "output_type": "stream",
       "stream": "stdout",
       "text": [
        "\n",
        "probe: probe(14,23).png\n",
        "probe: probe(11,12).png\n",
        "probe: probe(34,43).png"
       ]
      },
      {
       "output_type": "stream",
       "stream": "stdout",
       "text": [
        "\n",
        "probe: probe(31,40).png\n",
        "probe: probe(22,14).png\n",
        "probe: probe(11,20,12,21).png"
       ]
      },
      {
       "output_type": "stream",
       "stream": "stdout",
       "text": [
        "\n",
        "probe: probe(12,21,22).png\n",
        "probe: probe(23,15).png\n",
        "probe: probe(39,40).png"
       ]
      },
      {
       "output_type": "stream",
       "stream": "stdout",
       "text": [
        "\n",
        "probe: probe(23,32,33).png\n",
        "probe: probe(43,35,44).png\n",
        "probe: probe(40,32).png"
       ]
      },
      {
       "output_type": "stream",
       "stream": "stdout",
       "text": [
        "\n",
        "probe: probe(27,19).png\n",
        "probe: probe(28,20).png\n",
        "probe: probe(2,3).png"
       ]
      },
      {
       "output_type": "stream",
       "stream": "stdout",
       "text": [
        "\n",
        "probe: probe(20,12).png\n",
        "probe: probe(19,28,20).png\n",
        "probe: probe(19,20,29).png"
       ]
      },
      {
       "output_type": "stream",
       "stream": "stdout",
       "text": [
        "\n",
        "probe: probe(31).png\n",
        "probe: probe(12,21,13,22).png\n",
        "probe: probe(29).png"
       ]
      },
      {
       "output_type": "stream",
       "stream": "stdout",
       "text": [
        "\n",
        "probe: probe(16,8).png\n",
        "probe: probe(30,40).png\n",
        "probe: probe(4).png"
       ]
      },
      {
       "output_type": "stream",
       "stream": "stdout",
       "text": [
        "\n",
        "probe: probe(30,31).png\n",
        "probe: probe(17,26).png\n",
        "probe: probe(20).png"
       ]
      },
      {
       "output_type": "stream",
       "stream": "stdout",
       "text": [
        "\n",
        "probe: probe(42,34).png\n",
        "probe: probe(10,11).png\n",
        "probe: probe(9,1).png"
       ]
      },
      {
       "output_type": "stream",
       "stream": "stdout",
       "text": [
        "\n",
        "probe: probe(12,13,22).png\n",
        "probe: probe(34,43,35).png\n",
        "probe: probe(38).png"
       ]
      },
      {
       "output_type": "stream",
       "stream": "stdout",
       "text": [
        "\n",
        "probe: probe(6,7,16).png\n",
        "probe: probe(13).png\n",
        "probe: probe(37,29).png"
       ]
      },
      {
       "output_type": "stream",
       "stream": "stdout",
       "text": [
        "\n",
        "probe: probe(1,2).png\n",
        "probe: probe(36,28,37).png\n",
        "probe: probe(9,18,19).png"
       ]
      },
      {
       "output_type": "stream",
       "stream": "stdout",
       "text": [
        "\n",
        "probe: probe(9,18,10,19).png\n",
        "probe: probe(27,36).png"
       ]
      },
      {
       "output_type": "stream",
       "stream": "stdout",
       "text": [
        "\n",
        "probe: probe(34,43,35,44).png\n",
        "probe: probe(39,31).png\n",
        "probe: probe(29,38).png"
       ]
      },
      {
       "output_type": "stream",
       "stream": "stdout",
       "text": [
        "\n",
        "probe: probe(22).png\n",
        "probe: probe(39,31,40).png\n",
        "probe: probe(32,24).png"
       ]
      },
      {
       "output_type": "stream",
       "stream": "stdout",
       "text": [
        "\n",
        "probe: probe(14,15,24).png\n",
        "probe: probe(9,10).png\n",
        "probe: probe(19,28,20,29).png"
       ]
      },
      {
       "output_type": "stream",
       "stream": "stdout",
       "text": [
        "\n",
        "probe: probe(5,14,6).png\n",
        "probe: probe(11,3,12).png\n",
        "probe: probe(8,17).png"
       ]
      },
      {
       "output_type": "stream",
       "stream": "stdout",
       "text": [
        "\n",
        "probe: probe(5,6,15).png\n",
        "probe: probe(4,13,14).png\n",
        "probe: probe(40,32,41).png"
       ]
      },
      {
       "output_type": "stream",
       "stream": "stdout",
       "text": [
        "\n",
        "probe: probe(16,25,17,26).png\n",
        "probe: probe(36,28).png\n",
        "probe: probe(25,17).png"
       ]
      },
      {
       "output_type": "stream",
       "stream": "stdout",
       "text": [
        "\n",
        "probe: probe(13,14).png\n",
        "probe: probe(40).png\n",
        "probe: probe(38,30).png"
       ]
      },
      {
       "output_type": "stream",
       "stream": "stdout",
       "text": [
        "\n",
        "probe: probe(27,37).png\n",
        "probe: probe(24,33,25,34).png\n",
        "probe: probe(21,30,31).png"
       ]
      },
      {
       "output_type": "stream",
       "stream": "stdout",
       "text": [
        "\n",
        "probe: probe(33,42).png\n",
        "probe: probe(6).png\n",
        "probe: probe(13,22,23).png"
       ]
      },
      {
       "output_type": "stream",
       "stream": "stdout",
       "text": [
        "\n",
        "probe: probe(28,29,38).png\n",
        "probe: probe(25,26,35).png\n",
        "probe: probe(14,23,15).png"
       ]
      },
      {
       "output_type": "stream",
       "stream": "stdout",
       "text": [
        "\n",
        "remaking probes with jittered centers..."
       ]
      },
      {
       "output_type": "stream",
       "stream": "stdout",
       "text": [
        "\n",
        "probe: probe(19,11,20).png"
       ]
      },
      {
       "output_type": "stream",
       "stream": "stdout",
       "text": [
        "\n",
        "probe: probe(40,41).png"
       ]
      },
      {
       "output_type": "stream",
       "stream": "stdout",
       "text": [
        "\n",
        "probe: probe(6,15,7,16).png"
       ]
      },
      {
       "output_type": "stream",
       "stream": "stdout",
       "text": [
        "\n",
        "probe: probe(29,21,30).png"
       ]
      },
      {
       "output_type": "stream",
       "stream": "stdout",
       "text": [
        "\n",
        "probe: probe(18,19).png"
       ]
      },
      {
       "output_type": "stream",
       "stream": "stdout",
       "text": [
        "\n",
        "probe: probe(24).png"
       ]
      },
      {
       "output_type": "stream",
       "stream": "stdout",
       "text": [
        "\n",
        "probe: probe(15).png"
       ]
      },
      {
       "output_type": "stream",
       "stream": "stdout",
       "text": [
        "\n",
        "probe: probe(28,37,38).png"
       ]
      },
      {
       "output_type": "stream",
       "stream": "stdout",
       "text": [
        "\n",
        "probe: probe(28,20,29).png"
       ]
      },
      {
       "output_type": "stream",
       "stream": "stdout",
       "text": [
        "\n",
        "probe: probe(19,28,29).png"
       ]
      },
      {
       "output_type": "stream",
       "stream": "stdout",
       "text": [
        "\n",
        "probe: probe(18,27,28).png"
       ]
      },
      {
       "output_type": "stream",
       "stream": "stdout",
       "text": [
        "\n",
        "probe: probe(25,17,26).png"
       ]
      },
      {
       "output_type": "stream",
       "stream": "stdout",
       "text": [
        "\n",
        "probe: probe(25,26).png"
       ]
      },
      {
       "output_type": "stream",
       "stream": "stdout",
       "text": [
        "\n",
        "probe: probe(28,37,29).png"
       ]
      },
      {
       "output_type": "stream",
       "stream": "stdout",
       "text": [
        "\n",
        "probe: probe(16,25,26).png"
       ]
      },
      {
       "output_type": "stream",
       "stream": "stdout",
       "text": [
        "\n",
        "probe: probe(16,8,17).png"
       ]
      },
      {
       "output_type": "stream",
       "stream": "stdout",
       "text": [
        "\n",
        "probe: probe(27,28).png"
       ]
      },
      {
       "output_type": "stream",
       "stream": "stdout",
       "text": [
        "\n",
        "probe: probe(30,39,31,40).png"
       ]
      },
      {
       "output_type": "stream",
       "stream": "stdout",
       "text": [
        "\n",
        "probe: probe(33).png"
       ]
      },
      {
       "output_type": "stream",
       "stream": "stdout",
       "text": [
        "\n",
        "probe: probe(4,5).png"
       ]
      },
      {
       "output_type": "stream",
       "stream": "stdout",
       "text": [
        "\n",
        "probe: probe(0,9,1).png"
       ]
      },
      {
       "output_type": "stream",
       "stream": "stdout",
       "text": [
        "\n",
        "probe: probe(8).png"
       ]
      },
      {
       "output_type": "stream",
       "stream": "stdout",
       "text": [
        "\n",
        "probe: probe(18,28).png"
       ]
      },
      {
       "output_type": "stream",
       "stream": "stdout",
       "text": [
        "\n",
        "probe: probe(22,14,23).png"
       ]
      },
      {
       "output_type": "stream",
       "stream": "stdout",
       "text": [
        "\n",
        "probe: probe(24,33,25).png"
       ]
      },
      {
       "output_type": "stream",
       "stream": "stdout",
       "text": [
        "\n",
        "probe: probe(13,14,23).png"
       ]
      },
      {
       "output_type": "stream",
       "stream": "stdout",
       "text": [
        "\n",
        "probe: probe(30,39).png"
       ]
      },
      {
       "output_type": "stream",
       "stream": "stdout",
       "text": [
        "\n",
        "probe: probe(18,10).png"
       ]
      },
      {
       "output_type": "stream",
       "stream": "stdout",
       "text": [
        "\n",
        "probe: probe(33,34).png"
       ]
      },
      {
       "output_type": "stream",
       "stream": "stdout",
       "text": [
        "\n",
        "probe: probe(0,9,1,10).png"
       ]
      },
      {
       "output_type": "stream",
       "stream": "stdout",
       "text": [
        "\n",
        "probe: probe(43,35).png"
       ]
      },
      {
       "output_type": "stream",
       "stream": "stdout",
       "text": [
        "\n",
        "probe: probe(42).png"
       ]
      },
      {
       "output_type": "stream",
       "stream": "stdout",
       "text": [
        "\n",
        "probe: probe(2,11,3).png"
       ]
      },
      {
       "output_type": "stream",
       "stream": "stdout",
       "text": [
        "\n",
        "probe: probe(17).png"
       ]
      },
      {
       "output_type": "stream",
       "stream": "stdout",
       "text": [
        "\n",
        "probe: probe(22,31,23).png"
       ]
      },
      {
       "output_type": "stream",
       "stream": "stdout",
       "text": [
        "\n",
        "probe: probe(34,35).png"
       ]
      },
      {
       "output_type": "stream",
       "stream": "stdout",
       "text": [
        "\n",
        "probe: probe(9,19).png"
       ]
      },
      {
       "output_type": "stream",
       "stream": "stdout",
       "text": [
        "\n",
        "probe: probe(24,16,25).png"
       ]
      },
      {
       "output_type": "stream",
       "stream": "stdout",
       "text": [
        "\n",
        "probe: probe(20,29,21,30).png"
       ]
      },
      {
       "output_type": "stream",
       "stream": "stdout",
       "text": [
        "\n",
        "probe: probe(2,12).png"
       ]
      },
      {
       "output_type": "stream",
       "stream": "stdout",
       "text": [
        "\n",
        "probe: probe(14,23,24).png"
       ]
      },
      {
       "output_type": "stream",
       "stream": "stdout",
       "text": [
        "\n",
        "probe: probe(25,34,35).png"
       ]
      },
      {
       "output_type": "stream",
       "stream": "stdout",
       "text": [
        "\n",
        "probe: probe(24,33).png"
       ]
      },
      {
       "output_type": "stream",
       "stream": "stdout",
       "text": [
        "\n",
        "probe: probe(15,7,16).png"
       ]
      },
      {
       "output_type": "stream",
       "stream": "stdout",
       "text": [
        "\n",
        "probe: probe(34,43,44).png"
       ]
      },
      {
       "output_type": "stream",
       "stream": "stdout",
       "text": [
        "\n",
        "probe: probe(26).png"
       ]
      },
      {
       "output_type": "stream",
       "stream": "stdout",
       "text": [
        "\n",
        "probe: probe(5,14,15).png"
       ]
      },
      {
       "output_type": "stream",
       "stream": "stdout",
       "text": [
        "\n",
        "probe: probe(1).png"
       ]
      },
      {
       "output_type": "stream",
       "stream": "stdout",
       "text": [
        "\n",
        "probe: probe(20,21).png"
       ]
      },
      {
       "output_type": "stream",
       "stream": "stdout",
       "text": [
        "\n",
        "probe: probe(3,12,4).png"
       ]
      },
      {
       "output_type": "stream",
       "stream": "stdout",
       "text": [
        "\n",
        "probe: probe(3,4,13).png"
       ]
      },
      {
       "output_type": "stream",
       "stream": "stdout",
       "text": [
        "\n",
        "probe: probe(34,26).png"
       ]
      },
      {
       "output_type": "stream",
       "stream": "stdout",
       "text": [
        "\n",
        "probe: probe(29,30,39).png"
       ]
      },
      {
       "output_type": "stream",
       "stream": "stdout",
       "text": [
        "\n",
        "probe: probe(15,25).png"
       ]
      },
      {
       "output_type": "stream",
       "stream": "stdout",
       "text": [
        "\n",
        "probe: probe(10,19).png"
       ]
      },
      {
       "output_type": "stream",
       "stream": "stdout",
       "text": [
        "\n",
        "probe: probe(35).png"
       ]
      },
      {
       "output_type": "stream",
       "stream": "stdout",
       "text": [
        "\n",
        "probe: probe(14,6).png"
       ]
      },
      {
       "output_type": "stream",
       "stream": "stdout",
       "text": [
        "\n",
        "probe: probe(10).png"
       ]
      },
      {
       "output_type": "stream",
       "stream": "stdout",
       "text": [
        "\n",
        "probe: probe(15,7).png"
       ]
      },
      {
       "output_type": "stream",
       "stream": "stdout",
       "text": [
        "\n",
        "probe: probe(23,32,24,33).png"
       ]
      },
      {
       "output_type": "stream",
       "stream": "stdout",
       "text": [
        "\n",
        "probe: probe(33,42,34,43).png"
       ]
      },
      {
       "output_type": "stream",
       "stream": "stdout",
       "text": [
        "\n",
        "probe: probe(11,20,21).png"
       ]
      },
      {
       "output_type": "stream",
       "stream": "stdout",
       "text": [
        "\n",
        "probe: probe(29,38,39).png"
       ]
      },
      {
       "output_type": "stream",
       "stream": "stdout",
       "text": [
        "\n",
        "probe: probe(30,39,31).png"
       ]
      },
      {
       "output_type": "stream",
       "stream": "stdout",
       "text": [
        "\n",
        "probe: probe(18,19,28).png"
       ]
      },
      {
       "output_type": "stream",
       "stream": "stdout",
       "text": [
        "\n",
        "probe: probe(23,33).png"
       ]
      },
      {
       "output_type": "stream",
       "stream": "stdout",
       "text": [
        "\n",
        "probe: probe(19).png"
       ]
      },
      {
       "output_type": "stream",
       "stream": "stdout",
       "text": [
        "\n",
        "probe: probe(32,42).png"
       ]
      },
      {
       "output_type": "stream",
       "stream": "stdout",
       "text": [
        "\n",
        "probe: probe(16,17,26).png"
       ]
      },
      {
       "output_type": "stream",
       "stream": "stdout",
       "text": [
        "\n",
        "probe: probe(42,43).png"
       ]
      },
      {
       "output_type": "stream",
       "stream": "stdout",
       "text": [
        "\n",
        "probe: probe(41,33).png"
       ]
      },
      {
       "output_type": "stream",
       "stream": "stdout",
       "text": [
        "\n",
        "probe: probe(36,37).png"
       ]
      },
      {
       "output_type": "stream",
       "stream": "stdout",
       "text": [
        "\n",
        "probe: probe(4,13,5,14).png"
       ]
      },
      {
       "output_type": "stream",
       "stream": "stdout",
       "text": [
        "\n",
        "probe: probe(22,31,32).png"
       ]
      },
      {
       "output_type": "stream",
       "stream": "stdout",
       "text": [
        "\n",
        "probe: probe(1,10,2).png"
       ]
      },
      {
       "output_type": "stream",
       "stream": "stdout",
       "text": [
        "\n",
        "probe: probe(10,2).png"
       ]
      },
      {
       "output_type": "stream",
       "stream": "stdout",
       "text": [
        "\n",
        "probe: probe(9,18).png"
       ]
      },
      {
       "output_type": "stream",
       "stream": "stdout",
       "text": [
        "\n",
        "probe: probe(24,33,34).png"
       ]
      },
      {
       "output_type": "stream",
       "stream": "stdout",
       "text": [
        "\n",
        "probe: probe(7,16,8).png"
       ]
      },
      {
       "output_type": "stream",
       "stream": "stdout",
       "text": [
        "\n",
        "probe: probe(33,42,34).png"
       ]
      },
      {
       "output_type": "stream",
       "stream": "stdout",
       "text": [
        "\n",
        "probe: probe(7,16,8,17).png"
       ]
      },
      {
       "output_type": "stream",
       "stream": "stdout",
       "text": [
        "\n",
        "probe: probe(28).png"
       ]
      },
      {
       "output_type": "stream",
       "stream": "stdout",
       "text": [
        "\n",
        "probe: probe(11,12,21).png"
       ]
      },
      {
       "output_type": "stream",
       "stream": "stdout",
       "text": [
        "\n",
        "probe: probe(3).png"
       ]
      },
      {
       "output_type": "stream",
       "stream": "stdout",
       "text": [
        "\n",
        "probe: probe(4,13).png"
       ]
      },
      {
       "output_type": "stream",
       "stream": "stdout",
       "text": [
        "\n",
        "probe: probe(5,6).png"
       ]
      },
      {
       "output_type": "stream",
       "stream": "stdout",
       "text": [
        "\n",
        "probe: probe(21,31).png"
       ]
      },
      {
       "output_type": "stream",
       "stream": "stdout",
       "text": [
        "\n",
        "probe: probe(24,34).png"
       ]
      },
      {
       "output_type": "stream",
       "stream": "stdout",
       "text": [
        "\n",
        "probe: probe(31,23,32).png"
       ]
      },
      {
       "output_type": "stream",
       "stream": "stdout",
       "text": [
        "\n",
        "probe: probe(25,35).png"
       ]
      },
      {
       "output_type": "stream",
       "stream": "stdout",
       "text": [
        "\n",
        "probe: probe(6,15).png"
       ]
      },
      {
       "output_type": "stream",
       "stream": "stdout",
       "text": [
        "\n",
        "probe: probe(20,12,21).png"
       ]
      },
      {
       "output_type": "stream",
       "stream": "stdout",
       "text": [
        "\n",
        "probe: probe(18,27,19,28).png"
       ]
      },
      {
       "output_type": "stream",
       "stream": "stdout",
       "text": [
        "\n",
        "probe: probe(41,42).png"
       ]
      },
      {
       "output_type": "stream",
       "stream": "stdout",
       "text": [
        "\n",
        "probe: probe(32,41).png"
       ]
      },
      {
       "output_type": "stream",
       "stream": "stdout",
       "text": [
        "\n",
        "probe: probe(37).png"
       ]
      },
      {
       "output_type": "stream",
       "stream": "stdout",
       "text": [
        "\n",
        "probe: probe(34,44).png"
       ]
      },
      {
       "output_type": "stream",
       "stream": "stdout",
       "text": [
        "\n",
        "probe: probe(15,24,16).png"
       ]
      },
      {
       "output_type": "stream",
       "stream": "stdout",
       "text": [
        "\n",
        "probe: probe(12).png"
       ]
      },
      {
       "output_type": "stream",
       "stream": "stdout",
       "text": [
        "\n",
        "probe: probe(27).png"
       ]
      },
      {
       "output_type": "stream",
       "stream": "stdout",
       "text": [
        "\n",
        "probe: probe(43,44).png"
       ]
      },
      {
       "output_type": "stream",
       "stream": "stdout",
       "text": [
        "\n",
        "probe: probe(15,16,25).png"
       ]
      },
      {
       "output_type": "stream",
       "stream": "stdout",
       "text": [
        "\n",
        "probe: probe(1,10,2,11).png"
       ]
      },
      {
       "output_type": "stream",
       "stream": "stdout",
       "text": [
        "\n",
        "probe: probe(34,35,44).png"
       ]
      },
      {
       "output_type": "stream",
       "stream": "stdout",
       "text": [
        "\n",
        "probe: probe(13,5,14).png"
       ]
      },
      {
       "output_type": "stream",
       "stream": "stdout",
       "text": [
        "\n",
        "probe: probe(15,24).png"
       ]
      },
      {
       "output_type": "stream",
       "stream": "stdout",
       "text": [
        "\n",
        "probe: probe(10,2,11).png"
       ]
      },
      {
       "output_type": "stream",
       "stream": "stdout",
       "text": [
        "\n",
        "probe: probe(24,16).png"
       ]
      },
      {
       "output_type": "stream",
       "stream": "stdout",
       "text": [
        "\n",
        "probe: probe(13,5).png"
       ]
      },
      {
       "output_type": "stream",
       "stream": "stdout",
       "text": [
        "\n",
        "probe: probe(33,42,43).png"
       ]
      },
      {
       "output_type": "stream",
       "stream": "stdout",
       "text": [
        "\n",
        "probe: probe(32,33,42).png"
       ]
      },
      {
       "output_type": "stream",
       "stream": "stdout",
       "text": [
        "\n",
        "probe: probe(28,37,29,38).png"
       ]
      },
      {
       "output_type": "stream",
       "stream": "stdout",
       "text": [
        "\n",
        "probe: probe(0,9).png"
       ]
      },
      {
       "output_type": "stream",
       "stream": "stdout",
       "text": [
        "\n",
        "probe: probe(3,12,13).png"
       ]
      },
      {
       "output_type": "stream",
       "stream": "stdout",
       "text": [
        "\n",
        "probe: probe(2,11,12).png"
       ]
      },
      {
       "output_type": "stream",
       "stream": "stdout",
       "text": [
        "\n",
        "probe: probe(3,4).png"
       ]
      },
      {
       "output_type": "stream",
       "stream": "stdout",
       "text": [
        "\n",
        "probe: probe(9,1,10).png"
       ]
      },
      {
       "output_type": "stream",
       "stream": "stdout",
       "text": [
        "\n",
        "probe: probe(21).png"
       ]
      },
      {
       "output_type": "stream",
       "stream": "stdout",
       "text": [
        "\n",
        "probe: probe(12,21,13).png"
       ]
      },
      {
       "output_type": "stream",
       "stream": "stdout",
       "text": [
        "\n",
        "probe: probe(30,39,40).png"
       ]
      },
      {
       "output_type": "stream",
       "stream": "stdout",
       "text": [
        "\n",
        "probe: probe(7).png"
       ]
      },
      {
       "output_type": "stream",
       "stream": "stdout",
       "text": [
        "\n",
        "probe: probe(0,9,10).png"
       ]
      },
      {
       "output_type": "stream",
       "stream": "stdout",
       "text": [
        "\n",
        "probe: probe(10,19,11,20).png"
       ]
      },
      {
       "output_type": "stream",
       "stream": "stdout",
       "text": [
        "\n",
        "probe: probe(26,35).png"
       ]
      },
      {
       "output_type": "stream",
       "stream": "stdout",
       "text": [
        "\n",
        "probe: probe(23,32,24).png"
       ]
      },
      {
       "output_type": "stream",
       "stream": "stdout",
       "text": [
        "\n",
        "probe: probe(30,22).png"
       ]
      },
      {
       "output_type": "stream",
       "stream": "stdout",
       "text": [
        "\n",
        "probe: probe(20,29).png"
       ]
      },
      {
       "output_type": "stream",
       "stream": "stdout",
       "text": [
        "\n",
        "probe: probe(23,32).png"
       ]
      },
      {
       "output_type": "stream",
       "stream": "stdout",
       "text": [
        "\n",
        "probe: probe(31,23).png"
       ]
      },
      {
       "output_type": "stream",
       "stream": "stdout",
       "text": [
        "\n",
        "probe: probe(27,28,37).png"
       ]
      },
      {
       "output_type": "stream",
       "stream": "stdout",
       "text": [
        "\n",
        "probe: probe(10,11,20).png"
       ]
      },
      {
       "output_type": "stream",
       "stream": "stdout",
       "text": [
        "\n",
        "probe: probe(25,34,26,35).png"
       ]
      },
      {
       "output_type": "stream",
       "stream": "stdout",
       "text": [
        "\n",
        "probe: probe(22,31).png"
       ]
      },
      {
       "output_type": "stream",
       "stream": "stdout",
       "text": [
        "\n",
        "probe: probe(21,13).png"
       ]
      },
      {
       "output_type": "stream",
       "stream": "stdout",
       "text": [
        "\n",
        "probe: probe(21,13,22).png"
       ]
      },
      {
       "output_type": "stream",
       "stream": "stdout",
       "text": [
        "\n",
        "probe: probe(22,23,32).png"
       ]
      },
      {
       "output_type": "stream",
       "stream": "stdout",
       "text": [
        "\n",
        "probe: probe(30,22,31).png"
       ]
      },
      {
       "output_type": "stream",
       "stream": "stdout",
       "text": [
        "\n",
        "probe: probe(31,32).png"
       ]
      },
      {
       "output_type": "stream",
       "stream": "stdout",
       "text": [
        "\n",
        "probe: probe(7,16).png"
       ]
      },
      {
       "output_type": "stream",
       "stream": "stdout",
       "text": [
        "\n",
        "probe: probe(30).png"
       ]
      },
      {
       "output_type": "stream",
       "stream": "stdout",
       "text": [
        "\n",
        "probe: probe(21,30,22,31).png"
       ]
      },
      {
       "output_type": "stream",
       "stream": "stdout",
       "text": [
        "\n",
        "probe: probe(29,30).png"
       ]
      },
      {
       "output_type": "stream",
       "stream": "stdout",
       "text": [
        "\n",
        "probe: probe(5).png"
       ]
      },
      {
       "output_type": "stream",
       "stream": "stdout",
       "text": [
        "\n",
        "probe: probe(20,29,21).png"
       ]
      },
      {
       "output_type": "stream",
       "stream": "stdout",
       "text": [
        "\n",
        "probe: probe(12,21).png"
       ]
      },
      {
       "output_type": "stream",
       "stream": "stdout",
       "text": [
        "\n",
        "probe: probe(14,23,15,24).png"
       ]
      },
      {
       "output_type": "stream",
       "stream": "stdout",
       "text": [
        "\n",
        "probe: probe(37,29,38).png"
       ]
      },
      {
       "output_type": "stream",
       "stream": "stdout",
       "text": [
        "\n",
        "probe: probe(20,21,30).png"
       ]
      },
      {
       "output_type": "stream",
       "stream": "stdout",
       "text": [
        "\n",
        "probe: probe(3,13).png"
       ]
      },
      {
       "output_type": "stream",
       "stream": "stdout",
       "text": [
        "\n",
        "probe: probe(2,11,3,12).png"
       ]
      },
      {
       "output_type": "stream",
       "stream": "stdout",
       "text": [
        "\n",
        "probe: probe(7,17).png"
       ]
      },
      {
       "output_type": "stream",
       "stream": "stdout",
       "text": [
        "\n",
        "probe: probe(4,14).png"
       ]
      },
      {
       "output_type": "stream",
       "stream": "stdout",
       "text": [
        "\n",
        "probe: probe(14,24).png"
       ]
      },
      {
       "output_type": "stream",
       "stream": "stdout",
       "text": [
        "\n",
        "probe: probe(27,36,28).png"
       ]
      },
      {
       "output_type": "stream",
       "stream": "stdout",
       "text": [
        "\n",
        "probe: probe(5,15).png"
       ]
      },
      {
       "output_type": "stream",
       "stream": "stdout",
       "text": [
        "\n",
        "probe: probe(23,24,33).png"
       ]
      },
      {
       "output_type": "stream",
       "stream": "stdout",
       "text": [
        "\n",
        "probe: probe(25,34).png"
       ]
      },
      {
       "output_type": "stream",
       "stream": "stdout",
       "text": [
        "\n",
        "probe: probe(19,20).png"
       ]
      },
      {
       "output_type": "stream",
       "stream": "stdout",
       "text": [
        "\n",
        "probe: probe(14).png"
       ]
      },
      {
       "output_type": "stream",
       "stream": "stdout",
       "text": [
        "\n",
        "probe: probe(18,10,19).png"
       ]
      },
      {
       "output_type": "stream",
       "stream": "stdout",
       "text": [
        "\n",
        "probe: probe(31,41).png"
       ]
      },
      {
       "output_type": "stream",
       "stream": "stdout",
       "text": [
        "\n",
        "probe: probe(21,22).png"
       ]
      },
      {
       "output_type": "stream",
       "stream": "stdout",
       "text": [
        "\n",
        "probe: probe(29,38,30).png"
       ]
      },
      {
       "output_type": "stream",
       "stream": "stdout",
       "text": [
        "\n",
        "probe: probe(23,15,24).png"
       ]
      },
      {
       "output_type": "stream",
       "stream": "stdout",
       "text": [
        "\n",
        "probe: probe(15,16).png"
       ]
      },
      {
       "output_type": "stream",
       "stream": "stdout",
       "text": [
        "\n",
        "probe: probe(15,24,16,25).png"
       ]
      },
      {
       "output_type": "stream",
       "stream": "stdout",
       "text": [
        "\n",
        "probe: probe(13,22,14,23).png"
       ]
      },
      {
       "output_type": "stream",
       "stream": "stdout",
       "text": [
        "\n",
        "probe: probe(32).png"
       ]
      },
      {
       "output_type": "stream",
       "stream": "stdout",
       "text": [
        "\n",
        "probe: probe(23).png"
       ]
      },
      {
       "output_type": "stream",
       "stream": "stdout",
       "text": [
        "\n",
        "probe: probe(0,10).png"
       ]
      },
      {
       "output_type": "stream",
       "stream": "stdout",
       "text": [
        "\n",
        "probe: probe(24,25,34).png"
       ]
      },
      {
       "output_type": "stream",
       "stream": "stdout",
       "text": [
        "\n",
        "probe: probe(1,11).png"
       ]
      },
      {
       "output_type": "stream",
       "stream": "stdout",
       "text": [
        "\n",
        "probe: probe(32,41,33,42).png"
       ]
      },
      {
       "output_type": "stream",
       "stream": "stdout",
       "text": [
        "\n",
        "probe: probe(6,7).png"
       ]
      },
      {
       "output_type": "stream",
       "stream": "stdout",
       "text": [
        "\n",
        "probe: probe(15,24,25).png"
       ]
      },
      {
       "output_type": "stream",
       "stream": "stdout",
       "text": [
        "\n",
        "probe: probe(19,29).png"
       ]
      },
      {
       "output_type": "stream",
       "stream": "stdout",
       "text": [
        "\n",
        "probe: probe(32,41,42).png"
       ]
      },
      {
       "output_type": "stream",
       "stream": "stdout",
       "text": [
        "\n",
        "probe: probe(20,30).png"
       ]
      },
      {
       "output_type": "stream",
       "stream": "stdout",
       "text": [
        "\n",
        "probe: probe(41).png"
       ]
      },
      {
       "output_type": "stream",
       "stream": "stdout",
       "text": [
        "\n",
        "probe: probe(5,14,6,15).png"
       ]
      },
      {
       "output_type": "stream",
       "stream": "stdout",
       "text": [
        "\n",
        "probe: probe(16).png"
       ]
      },
      {
       "output_type": "stream",
       "stream": "stdout",
       "text": [
        "\n",
        "probe: probe(6,15,16).png"
       ]
      },
      {
       "output_type": "stream",
       "stream": "stdout",
       "text": [
        "\n",
        "probe: probe(33,34,43).png"
       ]
      },
      {
       "output_type": "stream",
       "stream": "stdout",
       "text": [
        "\n",
        "probe: probe(16,25).png"
       ]
      },
      {
       "output_type": "stream",
       "stream": "stdout",
       "text": [
        "\n",
        "probe: probe(29,38,30,39).png"
       ]
      },
      {
       "output_type": "stream",
       "stream": "stdout",
       "text": [
        "\n",
        "probe: probe(2,3,12).png"
       ]
      },
      {
       "output_type": "stream",
       "stream": "stdout",
       "text": [
        "\n",
        "probe: probe(3,12,4,13).png"
       ]
      },
      {
       "output_type": "stream",
       "stream": "stdout",
       "text": [
        "\n",
        "probe: probe(32,24,33).png"
       ]
      },
      {
       "output_type": "stream",
       "stream": "stdout",
       "text": [
        "\n",
        "probe: probe(33,25).png"
       ]
      },
      {
       "output_type": "stream",
       "stream": "stdout",
       "text": [
        "\n",
        "probe: probe(31,40,32).png"
       ]
      },
      {
       "output_type": "stream",
       "stream": "stdout",
       "text": [
        "\n",
        "probe: probe(37,38).png"
       ]
      },
      {
       "output_type": "stream",
       "stream": "stdout",
       "text": [
        "\n",
        "probe: probe(13,22,14).png"
       ]
      },
      {
       "output_type": "stream",
       "stream": "stdout",
       "text": [
        "\n",
        "probe: probe(31,32,41).png"
       ]
      },
      {
       "output_type": "stream",
       "stream": "stdout",
       "text": [
        "\n",
        "probe: probe(1,10,11).png"
       ]
      },
      {
       "output_type": "stream",
       "stream": "stdout",
       "text": [
        "\n",
        "probe: probe(0,1,10).png"
       ]
      },
      {
       "output_type": "stream",
       "stream": "stdout",
       "text": [
        "\n",
        "probe: probe(34,26,35).png"
       ]
      },
      {
       "output_type": "stream",
       "stream": "stdout",
       "text": [
        "\n",
        "probe: probe(0).png"
       ]
      },
      {
       "output_type": "stream",
       "stream": "stdout",
       "text": [
        "\n",
        "probe: probe(14,15).png"
       ]
      },
      {
       "output_type": "stream",
       "stream": "stdout",
       "text": [
        "\n",
        "probe: probe(11,21).png"
       ]
      },
      {
       "output_type": "stream",
       "stream": "stdout",
       "text": [
        "\n",
        "probe: probe(12,22).png"
       ]
      },
      {
       "output_type": "stream",
       "stream": "stdout",
       "text": [
        "\n",
        "probe: probe(25).png"
       ]
      },
      {
       "output_type": "stream",
       "stream": "stdout",
       "text": [
        "\n",
        "probe: probe(0,1).png"
       ]
      },
      {
       "output_type": "stream",
       "stream": "stdout",
       "text": [
        "\n",
        "probe: probe(13,23).png"
       ]
      },
      {
       "output_type": "stream",
       "stream": "stdout",
       "text": [
        "\n",
        "probe: probe(3,12).png"
       ]
      },
      {
       "output_type": "stream",
       "stream": "stdout",
       "text": [
        "\n",
        "probe: probe(33,25,34).png"
       ]
      },
      {
       "output_type": "stream",
       "stream": "stdout",
       "text": [
        "\n",
        "probe: probe(9,18,10).png"
       ]
      },
      {
       "output_type": "stream",
       "stream": "stdout",
       "text": [
        "\n",
        "probe: probe(2,11).png"
       ]
      },
      {
       "output_type": "stream",
       "stream": "stdout",
       "text": [
        "\n",
        "probe: probe(9,10,19).png"
       ]
      },
      {
       "output_type": "stream",
       "stream": "stdout",
       "text": [
        "\n",
        "probe: probe(5,14).png"
       ]
      },
      {
       "output_type": "stream",
       "stream": "stdout",
       "text": [
        "\n",
        "probe: probe(22,31,23,32).png"
       ]
      },
      {
       "output_type": "stream",
       "stream": "stdout",
       "text": [
        "\n",
        "probe: probe(4,5,14).png"
       ]
      },
      {
       "output_type": "stream",
       "stream": "stdout",
       "text": [
        "\n",
        "probe: probe(7,8).png"
       ]
      },
      {
       "output_type": "stream",
       "stream": "stdout",
       "text": [
        "\n",
        "probe: probe(6,16).png"
       ]
      },
      {
       "output_type": "stream",
       "stream": "stdout",
       "text": [
        "\n",
        "probe: probe(30,31,40).png"
       ]
      },
      {
       "output_type": "stream",
       "stream": "stdout",
       "text": [
        "\n",
        "probe: probe(28,37).png"
       ]
      },
      {
       "output_type": "stream",
       "stream": "stdout",
       "text": [
        "\n",
        "probe: probe(22,23).png"
       ]
      },
      {
       "output_type": "stream",
       "stream": "stdout",
       "text": [
        "\n",
        "probe: probe(27,19,28).png"
       ]
      },
      {
       "output_type": "stream",
       "stream": "stdout",
       "text": [
        "\n",
        "probe: probe(27,36,37).png"
       ]
      },
      {
       "output_type": "stream",
       "stream": "stdout",
       "text": [
        "\n",
        "probe: probe(34).png"
       ]
      },
      {
       "output_type": "stream",
       "stream": "stdout",
       "text": [
        "\n",
        "probe: probe(21,22,31).png"
       ]
      },
      {
       "output_type": "stream",
       "stream": "stdout",
       "text": [
        "\n",
        "probe: probe(20,29,30).png"
       ]
      },
      {
       "output_type": "stream",
       "stream": "stdout",
       "text": [
        "\n",
        "probe: probe(9).png"
       ]
      },
      {
       "output_type": "stream",
       "stream": "stdout",
       "text": [
        "\n",
        "probe: probe(25,34,26).png"
       ]
      },
      {
       "output_type": "stream",
       "stream": "stdout",
       "text": [
        "\n",
        "probe: probe(12,13).png"
       ]
      },
      {
       "output_type": "stream",
       "stream": "stdout",
       "text": [
        "\n",
        "probe: probe(6,15,7).png"
       ]
      },
      {
       "output_type": "stream",
       "stream": "stdout",
       "text": [
        "\n",
        "probe: probe(28,38).png"
       ]
      },
      {
       "output_type": "stream",
       "stream": "stdout",
       "text": [
        "\n",
        "probe: probe(27,36,28,37).png"
       ]
      },
      {
       "output_type": "stream",
       "stream": "stdout",
       "text": [
        "\n",
        "probe: probe(43).png"
       ]
      },
      {
       "output_type": "stream",
       "stream": "stdout",
       "text": [
        "\n",
        "probe: probe(1,10).png"
       ]
      },
      {
       "output_type": "stream",
       "stream": "stdout",
       "text": [
        "\n",
        "probe: probe(18).png"
       ]
      },
      {
       "output_type": "stream",
       "stream": "stdout",
       "text": [
        "\n",
        "probe: probe(31,40,32,41).png"
       ]
      },
      {
       "output_type": "stream",
       "stream": "stdout",
       "text": [
        "\n",
        "probe: probe(16,17).png"
       ]
      },
      {
       "output_type": "stream",
       "stream": "stdout",
       "text": [
        "\n",
        "probe: probe(10,19,11).png"
       ]
      },
      {
       "output_type": "stream",
       "stream": "stdout",
       "text": [
        "\n",
        "probe: probe(19,28).png"
       ]
      },
      {
       "output_type": "stream",
       "stream": "stdout",
       "text": [
        "\n",
        "probe: probe(42,34,43).png"
       ]
      },
      {
       "output_type": "stream",
       "stream": "stdout",
       "text": [
        "\n",
        "probe: probe(44).png"
       ]
      },
      {
       "output_type": "stream",
       "stream": "stdout",
       "text": [
        "\n",
        "probe: probe(7,16,17).png"
       ]
      },
      {
       "output_type": "stream",
       "stream": "stdout",
       "text": [
        "\n",
        "probe: probe(29,21).png"
       ]
      },
      {
       "output_type": "stream",
       "stream": "stdout",
       "text": [
        "\n",
        "probe: probe(21,30).png"
       ]
      },
      {
       "output_type": "stream",
       "stream": "stdout",
       "text": [
        "\n",
        "probe: probe(10,19,20).png"
       ]
      },
      {
       "output_type": "stream",
       "stream": "stdout",
       "text": [
        "\n",
        "probe: probe(29,39).png"
       ]
      },
      {
       "output_type": "stream",
       "stream": "stdout",
       "text": [
        "\n",
        "probe: probe(16,26).png"
       ]
      },
      {
       "output_type": "stream",
       "stream": "stdout",
       "text": [
        "\n",
        "probe: probe(33,43).png"
       ]
      },
      {
       "output_type": "stream",
       "stream": "stdout",
       "text": [
        "\n",
        "probe: probe(23,24).png"
       ]
      },
      {
       "output_type": "stream",
       "stream": "stdout",
       "text": [
        "\n",
        "probe: probe(41,33,42).png"
       ]
      },
      {
       "output_type": "stream",
       "stream": "stdout",
       "text": [
        "\n",
        "probe: probe(12,4,13).png"
       ]
      },
      {
       "output_type": "stream",
       "stream": "stdout",
       "text": [
        "\n",
        "probe: probe(38,39).png"
       ]
      },
      {
       "output_type": "stream",
       "stream": "stdout",
       "text": [
        "\n",
        "probe: probe(2).png"
       ]
      },
      {
       "output_type": "stream",
       "stream": "stdout",
       "text": [
        "\n",
        "probe: probe(11,3).png"
       ]
      },
      {
       "output_type": "stream",
       "stream": "stdout",
       "text": [
        "\n",
        "probe: probe(22,32).png"
       ]
      },
      {
       "output_type": "stream",
       "stream": "stdout",
       "text": [
        "\n",
        "probe: probe(24,25).png"
       ]
      },
      {
       "output_type": "stream",
       "stream": "stdout",
       "text": [
        "\n",
        "probe: probe(12,4).png"
       ]
      },
      {
       "output_type": "stream",
       "stream": "stdout",
       "text": [
        "\n",
        "probe: probe(11,20).png"
       ]
      },
      {
       "output_type": "stream",
       "stream": "stdout",
       "text": [
        "\n",
        "probe: probe(10,20).png"
       ]
      },
      {
       "output_type": "stream",
       "stream": "stdout",
       "text": [
        "\n",
        "probe: probe(14,6,15).png"
       ]
      },
      {
       "output_type": "stream",
       "stream": "stdout",
       "text": [
        "\n",
        "probe: probe(16,25,17).png"
       ]
      },
      {
       "output_type": "stream",
       "stream": "stdout",
       "text": [
        "\n",
        "probe: probe(38,30,39).png"
       ]
      },
      {
       "output_type": "stream",
       "stream": "stdout",
       "text": [
        "\n",
        "probe: probe(13,22).png"
       ]
      },
      {
       "output_type": "stream",
       "stream": "stdout",
       "text": [
        "\n",
        "probe: probe(28,29).png"
       ]
      },
      {
       "output_type": "stream",
       "stream": "stdout",
       "text": [
        "\n",
        "probe: probe(18,27).png"
       ]
      },
      {
       "output_type": "stream",
       "stream": "stdout",
       "text": [
        "\n",
        "probe: probe(32,41,33).png"
       ]
      },
      {
       "output_type": "stream",
       "stream": "stdout",
       "text": [
        "\n",
        "probe: probe(4,13,5).png"
       ]
      },
      {
       "output_type": "stream",
       "stream": "stdout",
       "text": [
        "\n",
        "probe: probe(36).png"
       ]
      },
      {
       "output_type": "stream",
       "stream": "stdout",
       "text": [
        "\n",
        "probe: probe(39).png"
       ]
      },
      {
       "output_type": "stream",
       "stream": "stdout",
       "text": [
        "\n",
        "probe: probe(11).png"
       ]
      },
      {
       "output_type": "stream",
       "stream": "stdout",
       "text": [
        "\n",
        "probe: probe(31,40,41).png"
       ]
      },
      {
       "output_type": "stream",
       "stream": "stdout",
       "text": [
        "\n",
        "probe: probe(1,2,11).png"
       ]
      },
      {
       "output_type": "stream",
       "stream": "stdout",
       "text": [
        "\n",
        "probe: probe(21,30,22).png"
       ]
      },
      {
       "output_type": "stream",
       "stream": "stdout",
       "text": [
        "\n",
        "probe: probe(19,11).png"
       ]
      },
      {
       "output_type": "stream",
       "stream": "stdout",
       "text": [
        "\n",
        "probe: probe(32,33).png"
       ]
      },
      {
       "output_type": "stream",
       "stream": "stdout",
       "text": [
        "\n",
        "probe: probe(11,20,12).png"
       ]
      },
      {
       "output_type": "stream",
       "stream": "stdout",
       "text": [
        "\n",
        "probe: probe(18,27,19).png"
       ]
      },
      {
       "output_type": "stream",
       "stream": "stdout",
       "text": [
        "\n",
        "probe: probe(35,44).png"
       ]
      },
      {
       "output_type": "stream",
       "stream": "stdout",
       "text": [
        "\n",
        "probe: probe(7,8,17).png"
       ]
      },
      {
       "output_type": "stream",
       "stream": "stdout",
       "text": [
        "\n",
        "probe: probe(14,23).png"
       ]
      },
      {
       "output_type": "stream",
       "stream": "stdout",
       "text": [
        "\n",
        "probe: probe(11,12).png"
       ]
      },
      {
       "output_type": "stream",
       "stream": "stdout",
       "text": [
        "\n",
        "probe: probe(34,43).png"
       ]
      },
      {
       "output_type": "stream",
       "stream": "stdout",
       "text": [
        "\n",
        "probe: probe(31,40).png"
       ]
      },
      {
       "output_type": "stream",
       "stream": "stdout",
       "text": [
        "\n",
        "probe: probe(22,14).png"
       ]
      },
      {
       "output_type": "stream",
       "stream": "stdout",
       "text": [
        "\n",
        "probe: probe(11,20,12,21).png"
       ]
      },
      {
       "output_type": "stream",
       "stream": "stdout",
       "text": [
        "\n",
        "probe: probe(12,21,22).png"
       ]
      },
      {
       "output_type": "stream",
       "stream": "stdout",
       "text": [
        "\n",
        "probe: probe(23,15).png"
       ]
      },
      {
       "output_type": "stream",
       "stream": "stdout",
       "text": [
        "\n",
        "probe: probe(39,40).png"
       ]
      },
      {
       "output_type": "stream",
       "stream": "stdout",
       "text": [
        "\n",
        "probe: probe(23,32,33).png"
       ]
      },
      {
       "output_type": "stream",
       "stream": "stdout",
       "text": [
        "\n",
        "probe: probe(43,35,44).png"
       ]
      },
      {
       "output_type": "stream",
       "stream": "stdout",
       "text": [
        "\n",
        "probe: probe(40,32).png"
       ]
      },
      {
       "output_type": "stream",
       "stream": "stdout",
       "text": [
        "\n",
        "probe: probe(27,19).png"
       ]
      },
      {
       "output_type": "stream",
       "stream": "stdout",
       "text": [
        "\n",
        "probe: probe(28,20).png"
       ]
      },
      {
       "output_type": "stream",
       "stream": "stdout",
       "text": [
        "\n",
        "probe: probe(2,3).png"
       ]
      },
      {
       "output_type": "stream",
       "stream": "stdout",
       "text": [
        "\n",
        "probe: probe(20,12).png"
       ]
      },
      {
       "output_type": "stream",
       "stream": "stdout",
       "text": [
        "\n",
        "probe: probe(19,28,20).png"
       ]
      },
      {
       "output_type": "stream",
       "stream": "stdout",
       "text": [
        "\n",
        "probe: probe(19,20,29).png"
       ]
      },
      {
       "output_type": "stream",
       "stream": "stdout",
       "text": [
        "\n",
        "probe: probe(31).png"
       ]
      },
      {
       "output_type": "stream",
       "stream": "stdout",
       "text": [
        "\n",
        "probe: probe(12,21,13,22).png"
       ]
      },
      {
       "output_type": "stream",
       "stream": "stdout",
       "text": [
        "\n",
        "probe: probe(29).png"
       ]
      },
      {
       "output_type": "stream",
       "stream": "stdout",
       "text": [
        "\n",
        "probe: probe(16,8).png"
       ]
      },
      {
       "output_type": "stream",
       "stream": "stdout",
       "text": [
        "\n",
        "probe: probe(30,40).png"
       ]
      },
      {
       "output_type": "stream",
       "stream": "stdout",
       "text": [
        "\n",
        "probe: probe(4).png"
       ]
      },
      {
       "output_type": "stream",
       "stream": "stdout",
       "text": [
        "\n",
        "probe: probe(30,31).png"
       ]
      },
      {
       "output_type": "stream",
       "stream": "stdout",
       "text": [
        "\n",
        "probe: probe(17,26).png"
       ]
      },
      {
       "output_type": "stream",
       "stream": "stdout",
       "text": [
        "\n",
        "probe: probe(20).png"
       ]
      },
      {
       "output_type": "stream",
       "stream": "stdout",
       "text": [
        "\n",
        "probe: probe(42,34).png"
       ]
      },
      {
       "output_type": "stream",
       "stream": "stdout",
       "text": [
        "\n",
        "probe: probe(10,11).png"
       ]
      },
      {
       "output_type": "stream",
       "stream": "stdout",
       "text": [
        "\n",
        "probe: probe(9,1).png"
       ]
      },
      {
       "output_type": "stream",
       "stream": "stdout",
       "text": [
        "\n",
        "probe: probe(12,13,22).png"
       ]
      },
      {
       "output_type": "stream",
       "stream": "stdout",
       "text": [
        "\n",
        "probe: probe(34,43,35).png"
       ]
      },
      {
       "output_type": "stream",
       "stream": "stdout",
       "text": [
        "\n",
        "probe: probe(38).png"
       ]
      },
      {
       "output_type": "stream",
       "stream": "stdout",
       "text": [
        "\n",
        "probe: probe(6,7,16).png"
       ]
      },
      {
       "output_type": "stream",
       "stream": "stdout",
       "text": [
        "\n",
        "probe: probe(13).png"
       ]
      },
      {
       "output_type": "stream",
       "stream": "stdout",
       "text": [
        "\n",
        "probe: probe(37,29).png"
       ]
      },
      {
       "output_type": "stream",
       "stream": "stdout",
       "text": [
        "\n",
        "probe: probe(1,2).png"
       ]
      },
      {
       "output_type": "stream",
       "stream": "stdout",
       "text": [
        "\n",
        "probe: probe(36,28,37).png"
       ]
      },
      {
       "output_type": "stream",
       "stream": "stdout",
       "text": [
        "\n",
        "probe: probe(9,18,19).png"
       ]
      },
      {
       "output_type": "stream",
       "stream": "stdout",
       "text": [
        "\n",
        "probe: probe(9,18,10,19).png"
       ]
      },
      {
       "output_type": "stream",
       "stream": "stdout",
       "text": [
        "\n",
        "probe: probe(27,36).png"
       ]
      },
      {
       "output_type": "stream",
       "stream": "stdout",
       "text": [
        "\n",
        "probe: probe(34,43,35,44).png"
       ]
      },
      {
       "output_type": "stream",
       "stream": "stdout",
       "text": [
        "\n",
        "probe: probe(39,31).png"
       ]
      },
      {
       "output_type": "stream",
       "stream": "stdout",
       "text": [
        "\n",
        "probe: probe(29,38).png"
       ]
      },
      {
       "output_type": "stream",
       "stream": "stdout",
       "text": [
        "\n",
        "probe: probe(22).png"
       ]
      },
      {
       "output_type": "stream",
       "stream": "stdout",
       "text": [
        "\n",
        "probe: probe(39,31,40).png"
       ]
      },
      {
       "output_type": "stream",
       "stream": "stdout",
       "text": [
        "\n",
        "probe: probe(32,24).png"
       ]
      },
      {
       "output_type": "stream",
       "stream": "stdout",
       "text": [
        "\n",
        "probe: probe(14,15,24).png"
       ]
      },
      {
       "output_type": "stream",
       "stream": "stdout",
       "text": [
        "\n",
        "probe: probe(9,10).png"
       ]
      },
      {
       "output_type": "stream",
       "stream": "stdout",
       "text": [
        "\n",
        "probe: probe(19,28,20,29).png"
       ]
      },
      {
       "output_type": "stream",
       "stream": "stdout",
       "text": [
        "\n",
        "probe: probe(5,14,6).png"
       ]
      },
      {
       "output_type": "stream",
       "stream": "stdout",
       "text": [
        "\n",
        "probe: probe(11,3,12).png"
       ]
      },
      {
       "output_type": "stream",
       "stream": "stdout",
       "text": [
        "\n",
        "probe: probe(8,17).png"
       ]
      },
      {
       "output_type": "stream",
       "stream": "stdout",
       "text": [
        "\n",
        "probe: probe(5,6,15).png"
       ]
      },
      {
       "output_type": "stream",
       "stream": "stdout",
       "text": [
        "\n",
        "probe: probe(4,13,14).png"
       ]
      },
      {
       "output_type": "stream",
       "stream": "stdout",
       "text": [
        "\n",
        "probe: probe(40,32,41).png"
       ]
      },
      {
       "output_type": "stream",
       "stream": "stdout",
       "text": [
        "\n",
        "probe: probe(16,25,17,26).png"
       ]
      },
      {
       "output_type": "stream",
       "stream": "stdout",
       "text": [
        "\n",
        "probe: probe(36,28).png"
       ]
      },
      {
       "output_type": "stream",
       "stream": "stdout",
       "text": [
        "\n",
        "probe: probe(25,17).png"
       ]
      },
      {
       "output_type": "stream",
       "stream": "stdout",
       "text": [
        "\n",
        "probe: probe(13,14).png"
       ]
      },
      {
       "output_type": "stream",
       "stream": "stdout",
       "text": [
        "\n",
        "probe: probe(40).png"
       ]
      },
      {
       "output_type": "stream",
       "stream": "stdout",
       "text": [
        "\n",
        "probe: probe(38,30).png"
       ]
      },
      {
       "output_type": "stream",
       "stream": "stdout",
       "text": [
        "\n",
        "probe: probe(27,37).png"
       ]
      },
      {
       "output_type": "stream",
       "stream": "stdout",
       "text": [
        "\n",
        "probe: probe(24,33,25,34).png"
       ]
      },
      {
       "output_type": "stream",
       "stream": "stdout",
       "text": [
        "\n",
        "probe: probe(21,30,31).png"
       ]
      },
      {
       "output_type": "stream",
       "stream": "stdout",
       "text": [
        "\n",
        "probe: probe(33,42).png"
       ]
      },
      {
       "output_type": "stream",
       "stream": "stdout",
       "text": [
        "\n",
        "probe: probe(6).png"
       ]
      },
      {
       "output_type": "stream",
       "stream": "stdout",
       "text": [
        "\n",
        "probe: probe(13,22,23).png"
       ]
      },
      {
       "output_type": "stream",
       "stream": "stdout",
       "text": [
        "\n",
        "probe: probe(28,29,38).png"
       ]
      },
      {
       "output_type": "stream",
       "stream": "stdout",
       "text": [
        "\n",
        "probe: probe(25,26,35).png"
       ]
      },
      {
       "output_type": "stream",
       "stream": "stdout",
       "text": [
        "\n",
        "probe: probe(14,23,15).png"
       ]
      },
      {
       "output_type": "stream",
       "stream": "stdout",
       "text": [
        "\n",
        "probe: probe(19,11,20).png"
       ]
      },
      {
       "output_type": "stream",
       "stream": "stdout",
       "text": [
        "\n",
        "probe: probe(40,41).png\n",
        "probe: probe(6,15,7,16).png\n",
        "probe: probe(29,21,30).png"
       ]
      },
      {
       "output_type": "stream",
       "stream": "stdout",
       "text": [
        "\n",
        "probe: probe(18,19).png\n",
        "probe: probe(24).png\n",
        "probe: probe(15).png"
       ]
      },
      {
       "output_type": "stream",
       "stream": "stdout",
       "text": [
        "\n",
        "probe: probe(28,37,38).png\n",
        "probe: probe(28,20,29).png"
       ]
      },
      {
       "output_type": "stream",
       "stream": "stdout",
       "text": [
        "\n",
        "probe: probe(19,28,29).png\n",
        "probe: probe(18,27,28).png\n",
        "probe: probe(25,17,26).png"
       ]
      },
      {
       "output_type": "stream",
       "stream": "stdout",
       "text": [
        "\n",
        "probe: probe(25,26).png\n",
        "probe: probe(28,37,29).png\n",
        "probe: probe(16,25,26).png"
       ]
      },
      {
       "output_type": "stream",
       "stream": "stdout",
       "text": [
        "\n",
        "probe: probe(16,8,17).png\n",
        "probe: probe(27,28).png\n",
        "probe: probe(30,39,31,40).png"
       ]
      },
      {
       "output_type": "stream",
       "stream": "stdout",
       "text": [
        "\n",
        "probe: probe(33).png\n",
        "probe: probe(4,5).png\n",
        "probe: probe(0,9,1).png"
       ]
      },
      {
       "output_type": "stream",
       "stream": "stdout",
       "text": [
        "\n",
        "probe: probe(8).png\n",
        "probe: probe(18,28).png\n",
        "probe: probe(22,14,23).png"
       ]
      },
      {
       "output_type": "stream",
       "stream": "stdout",
       "text": [
        "\n",
        "probe: probe(24,33,25).png\n",
        "probe: probe(13,14,23).png\n",
        "probe: probe(30,39).png"
       ]
      },
      {
       "output_type": "stream",
       "stream": "stdout",
       "text": [
        "\n",
        "probe: probe(18,10).png\n",
        "probe: probe(33,34).png\n",
        "probe: probe(0,9,1,10).png"
       ]
      },
      {
       "output_type": "stream",
       "stream": "stdout",
       "text": [
        "\n",
        "probe: probe(43,35).png\n",
        "probe: probe(42).png\n",
        "probe: probe(2,11,3).png"
       ]
      },
      {
       "output_type": "stream",
       "stream": "stdout",
       "text": [
        "\n",
        "probe: probe(17).png\n",
        "probe: probe(22,31,23).png\n",
        "probe: probe(34,35).png"
       ]
      },
      {
       "output_type": "stream",
       "stream": "stdout",
       "text": [
        "\n",
        "probe: probe(9,19).png\n",
        "probe: probe(24,16,25).png\n",
        "probe: probe(20,29,21,30).png"
       ]
      },
      {
       "output_type": "stream",
       "stream": "stdout",
       "text": [
        "\n",
        "probe: probe(2,12).png\n",
        "probe: probe(14,23,24).png\n",
        "probe: probe(25,34,35).png"
       ]
      },
      {
       "output_type": "stream",
       "stream": "stdout",
       "text": [
        "\n",
        "probe: probe(24,33).png\n",
        "probe: probe(15,7,16).png\n",
        "probe: probe(34,43,44).png"
       ]
      },
      {
       "output_type": "stream",
       "stream": "stdout",
       "text": [
        "\n",
        "probe: probe(26).png\n",
        "probe: probe(5,14,15).png\n",
        "probe: probe(1).png"
       ]
      },
      {
       "output_type": "stream",
       "stream": "stdout",
       "text": [
        "\n",
        "probe: probe(20,21).png\n",
        "probe: probe(3,12,4).png\n",
        "probe: probe(3,4,13).png"
       ]
      },
      {
       "output_type": "stream",
       "stream": "stdout",
       "text": [
        "\n",
        "probe: probe(34,26).png\n",
        "probe: probe(29,30,39).png\n",
        "probe: probe(15,25).png"
       ]
      },
      {
       "output_type": "stream",
       "stream": "stdout",
       "text": [
        "\n",
        "probe: probe(10,19).png\n",
        "probe: probe(35).png\n",
        "probe: probe(14,6).png"
       ]
      },
      {
       "output_type": "stream",
       "stream": "stdout",
       "text": [
        "\n",
        "probe: probe(10).png\n",
        "probe: probe(15,7).png\n",
        "probe: probe(23,32,24,33).png"
       ]
      },
      {
       "output_type": "stream",
       "stream": "stdout",
       "text": [
        "\n",
        "probe: probe(33,42,34,43).png\n",
        "probe: probe(11,20,21).png\n",
        "probe: probe(29,38,39).png"
       ]
      },
      {
       "output_type": "stream",
       "stream": "stdout",
       "text": [
        "\n",
        "probe: probe(30,39,31).png\n",
        "probe: probe(18,19,28).png\n",
        "probe: probe(23,33).png"
       ]
      },
      {
       "output_type": "stream",
       "stream": "stdout",
       "text": [
        "\n",
        "probe: probe(19).png\n",
        "probe: probe(32,42).png\n",
        "probe: probe(16,17,26).png"
       ]
      },
      {
       "output_type": "stream",
       "stream": "stdout",
       "text": [
        "\n",
        "probe: probe(42,43).png\n",
        "probe: probe(41,33).png\n",
        "probe: probe(36,37).png"
       ]
      },
      {
       "output_type": "stream",
       "stream": "stdout",
       "text": [
        "\n",
        "probe: probe(4,13,5,14).png\n",
        "probe: probe(22,31,32).png"
       ]
      },
      {
       "output_type": "stream",
       "stream": "stdout",
       "text": [
        "\n",
        "probe: probe(1,10,2).png\n",
        "probe: probe(10,2).png\n",
        "probe: probe(9,18).png"
       ]
      },
      {
       "output_type": "stream",
       "stream": "stdout",
       "text": [
        "\n",
        "probe: probe(24,33,34).png\n",
        "probe: probe(7,16,8).png\n",
        "probe: probe(33,42,34).png"
       ]
      },
      {
       "output_type": "stream",
       "stream": "stdout",
       "text": [
        "\n",
        "probe: probe(7,16,8,17).png\n",
        "probe: probe(28).png\n",
        "probe: probe(11,12,21).png"
       ]
      },
      {
       "output_type": "stream",
       "stream": "stdout",
       "text": [
        "\n",
        "probe: probe(3).png\n",
        "probe: probe(4,13).png\n",
        "probe: probe(5,6).png"
       ]
      },
      {
       "output_type": "stream",
       "stream": "stdout",
       "text": [
        "\n",
        "probe: probe(21,31).png\n",
        "probe: probe(24,34).png\n",
        "probe: probe(31,23,32).png"
       ]
      },
      {
       "output_type": "stream",
       "stream": "stdout",
       "text": [
        "\n",
        "probe: probe(25,35).png\n",
        "probe: probe(6,15).png\n",
        "probe: probe(20,12,21).png"
       ]
      },
      {
       "output_type": "stream",
       "stream": "stdout",
       "text": [
        "\n",
        "probe: probe(18,27,19,28).png\n",
        "probe: probe(41,42).png\n",
        "probe: probe(32,41).png"
       ]
      },
      {
       "output_type": "stream",
       "stream": "stdout",
       "text": [
        "\n",
        "probe: probe(37).png\n",
        "probe: probe(34,44).png\n",
        "probe: probe(15,24,16).png"
       ]
      },
      {
       "output_type": "stream",
       "stream": "stdout",
       "text": [
        "\n",
        "probe: probe(12).png\n",
        "probe: probe(27).png\n",
        "probe: probe(43,44).png"
       ]
      },
      {
       "output_type": "stream",
       "stream": "stdout",
       "text": [
        "\n",
        "probe: probe(15,16,25).png\n",
        "probe: probe(1,10,2,11).png\n",
        "probe: probe(34,35,44).png"
       ]
      },
      {
       "output_type": "stream",
       "stream": "stdout",
       "text": [
        "\n",
        "probe: probe(13,5,14).png\n",
        "probe: probe(15,24).png\n",
        "probe: probe(10,2,11).png"
       ]
      },
      {
       "output_type": "stream",
       "stream": "stdout",
       "text": [
        "\n",
        "probe: probe(24,16).png\n",
        "probe: probe(13,5).png\n",
        "probe: probe(33,42,43).png"
       ]
      },
      {
       "output_type": "stream",
       "stream": "stdout",
       "text": [
        "\n",
        "probe: probe(32,33,42).png\n",
        "probe: probe(28,37,29,38).png\n",
        "probe: probe(0,9).png"
       ]
      },
      {
       "output_type": "stream",
       "stream": "stdout",
       "text": [
        "\n",
        "probe: probe(3,12,13).png\n",
        "probe: probe(2,11,12).png\n",
        "probe: probe(3,4).png"
       ]
      },
      {
       "output_type": "stream",
       "stream": "stdout",
       "text": [
        "\n",
        "probe: probe(9,1,10).png\n",
        "probe: probe(21).png\n",
        "probe: probe(12,21,13).png"
       ]
      },
      {
       "output_type": "stream",
       "stream": "stdout",
       "text": [
        "\n",
        "probe: probe(30,39,40).png\n",
        "probe: probe(7).png\n",
        "probe: probe(0,9,10).png"
       ]
      },
      {
       "output_type": "stream",
       "stream": "stdout",
       "text": [
        "\n",
        "probe: probe(10,19,11,20).png\n",
        "probe: probe(26,35).png\n",
        "probe: probe(23,32,24).png"
       ]
      },
      {
       "output_type": "stream",
       "stream": "stdout",
       "text": [
        "\n",
        "probe: probe(30,22).png\n",
        "probe: probe(20,29).png\n",
        "probe: probe(23,32).png"
       ]
      },
      {
       "output_type": "stream",
       "stream": "stdout",
       "text": [
        "\n",
        "probe: probe(31,23).png\n",
        "probe: probe(27,28,37).png\n",
        "probe: probe(10,11,20).png"
       ]
      },
      {
       "output_type": "stream",
       "stream": "stdout",
       "text": [
        "\n",
        "probe: probe(25,34,26,35).png\n",
        "probe: probe(22,31).png\n",
        "probe: probe(21,13).png"
       ]
      },
      {
       "output_type": "stream",
       "stream": "stdout",
       "text": [
        "\n",
        "probe: probe(21,13,22).png\n",
        "probe: probe(22,23,32).png\n",
        "probe: probe(30,22,31).png"
       ]
      },
      {
       "output_type": "stream",
       "stream": "stdout",
       "text": [
        "\n",
        "probe: probe(31,32).png\n",
        "probe: probe(7,16).png\n",
        "probe: probe(30).png"
       ]
      },
      {
       "output_type": "stream",
       "stream": "stdout",
       "text": [
        "\n",
        "probe: probe(21,30,22,31).png\n",
        "probe: probe(29,30).png\n",
        "probe: probe(5).png"
       ]
      },
      {
       "output_type": "stream",
       "stream": "stdout",
       "text": [
        "\n",
        "probe: probe(20,29,21).png\n",
        "probe: probe(12,21).png\n",
        "probe: probe(14,23,15,24).png"
       ]
      },
      {
       "output_type": "stream",
       "stream": "stdout",
       "text": [
        "\n",
        "probe: probe(37,29,38).png\n",
        "probe: probe(20,21,30).png\n",
        "probe: probe(3,13).png"
       ]
      },
      {
       "output_type": "stream",
       "stream": "stdout",
       "text": [
        "\n",
        "probe: probe(2,11,3,12).png\n",
        "probe: probe(7,17).png\n",
        "probe: probe(4,14).png"
       ]
      },
      {
       "output_type": "stream",
       "stream": "stdout",
       "text": [
        "\n",
        "probe: probe(14,24).png\n",
        "probe: probe(27,36,28).png\n",
        "probe: probe(5,15).png"
       ]
      },
      {
       "output_type": "stream",
       "stream": "stdout",
       "text": [
        "\n",
        "probe: probe(23,24,33).png\n",
        "probe: probe(25,34).png\n",
        "probe: probe(19,20).png"
       ]
      },
      {
       "output_type": "stream",
       "stream": "stdout",
       "text": [
        "\n",
        "probe: probe(14).png\n",
        "probe: probe(18,10,19).png\n",
        "probe: probe(31,41).png"
       ]
      },
      {
       "output_type": "stream",
       "stream": "stdout",
       "text": [
        "\n",
        "probe: probe(21,22).png\n",
        "probe: probe(29,38,30).png\n",
        "probe: probe(23,15,24).png"
       ]
      },
      {
       "output_type": "stream",
       "stream": "stdout",
       "text": [
        "\n",
        "probe: probe(15,16).png\n",
        "probe: probe(15,24,16,25).png\n",
        "probe: probe(13,22,14,23).png"
       ]
      },
      {
       "output_type": "stream",
       "stream": "stdout",
       "text": [
        "\n",
        "probe: probe(32).png\n",
        "probe: probe(23).png\n",
        "probe: probe(0,10).png"
       ]
      },
      {
       "output_type": "stream",
       "stream": "stdout",
       "text": [
        "\n",
        "probe: probe(24,25,34).png\n",
        "probe: probe(1,11).png\n",
        "probe: probe(32,41,33,42).png"
       ]
      },
      {
       "output_type": "stream",
       "stream": "stdout",
       "text": [
        "\n",
        "probe: probe(6,7).png\n",
        "probe: probe(15,24,25).png\n",
        "probe: probe(19,29).png"
       ]
      },
      {
       "output_type": "stream",
       "stream": "stdout",
       "text": [
        "\n",
        "probe: probe(32,41,42).png\n",
        "probe: probe(20,30).png\n",
        "probe: probe(41).png"
       ]
      },
      {
       "output_type": "stream",
       "stream": "stdout",
       "text": [
        "\n",
        "probe: probe(5,14,6,15).png\n",
        "probe: probe(16).png"
       ]
      },
      {
       "output_type": "stream",
       "stream": "stdout",
       "text": [
        "\n",
        "probe: probe(6,15,16).png\n",
        "probe: probe(33,34,43).png\n",
        "probe: probe(16,25).png"
       ]
      },
      {
       "output_type": "stream",
       "stream": "stdout",
       "text": [
        "\n",
        "probe: probe(29,38,30,39).png\n",
        "probe: probe(2,3,12).png\n",
        "probe: probe(3,12,4,13).png"
       ]
      },
      {
       "output_type": "stream",
       "stream": "stdout",
       "text": [
        "\n",
        "probe: probe(32,24,33).png\n",
        "probe: probe(33,25).png\n",
        "probe: probe(31,40,32).png"
       ]
      },
      {
       "output_type": "stream",
       "stream": "stdout",
       "text": [
        "\n",
        "probe: probe(37,38).png\n",
        "probe: probe(13,22,14).png\n",
        "probe: probe(31,32,41).png"
       ]
      },
      {
       "output_type": "stream",
       "stream": "stdout",
       "text": [
        "\n",
        "probe: probe(1,10,11).png\n",
        "probe: probe(0,1,10).png\n",
        "probe: probe(34,26,35).png"
       ]
      },
      {
       "output_type": "stream",
       "stream": "stdout",
       "text": [
        "\n",
        "probe: probe(0).png\n",
        "probe: probe(14,15).png\n",
        "probe: probe(11,21).png"
       ]
      },
      {
       "output_type": "stream",
       "stream": "stdout",
       "text": [
        "\n",
        "probe: probe(12,22).png\n",
        "probe: probe(25).png\n",
        "probe: probe(0,1).png"
       ]
      },
      {
       "output_type": "stream",
       "stream": "stdout",
       "text": [
        "\n",
        "probe: probe(13,23).png\n",
        "probe: probe(3,12).png\n",
        "probe: probe(33,25,34).png"
       ]
      },
      {
       "output_type": "stream",
       "stream": "stdout",
       "text": [
        "\n",
        "probe: probe(9,18,10).png\n",
        "probe: probe(2,11).png\n",
        "probe: probe(9,10,19).png"
       ]
      },
      {
       "output_type": "stream",
       "stream": "stdout",
       "text": [
        "\n",
        "probe: probe(5,14).png\n",
        "probe: probe(22,31,23,32).png\n",
        "probe: probe(4,5,14).png"
       ]
      },
      {
       "output_type": "stream",
       "stream": "stdout",
       "text": [
        "\n",
        "probe: probe(7,8).png\n",
        "probe: probe(6,16).png"
       ]
      },
      {
       "output_type": "stream",
       "stream": "stdout",
       "text": [
        "\n",
        "probe: probe(30,31,40).png\n",
        "probe: probe(28,37).png\n",
        "probe: probe(22,23).png"
       ]
      },
      {
       "output_type": "stream",
       "stream": "stdout",
       "text": [
        "\n",
        "probe: probe(27,19,28).png\n",
        "probe: probe(27,36,37).png\n",
        "probe: probe(34).png"
       ]
      },
      {
       "output_type": "stream",
       "stream": "stdout",
       "text": [
        "\n",
        "probe: probe(21,22,31).png\n",
        "probe: probe(20,29,30).png\n",
        "probe: probe(9).png"
       ]
      },
      {
       "output_type": "stream",
       "stream": "stdout",
       "text": [
        "\n",
        "probe: probe(25,34,26).png\n",
        "probe: probe(12,13).png\n",
        "probe: probe(6,15,7).png"
       ]
      },
      {
       "output_type": "stream",
       "stream": "stdout",
       "text": [
        "\n",
        "probe: probe(28,38).png\n",
        "probe: probe(27,36,28,37).png\n",
        "probe: probe(43).png"
       ]
      },
      {
       "output_type": "stream",
       "stream": "stdout",
       "text": [
        "\n",
        "probe: probe(1,10).png\n",
        "probe: probe(18).png\n",
        "probe: probe(31,40,32,41).png"
       ]
      },
      {
       "output_type": "stream",
       "stream": "stdout",
       "text": [
        "\n",
        "probe: probe(16,17).png\n",
        "probe: probe(10,19,11).png\n",
        "probe: probe(19,28).png"
       ]
      },
      {
       "output_type": "stream",
       "stream": "stdout",
       "text": [
        "\n",
        "probe: probe(42,34,43).png\n",
        "probe: probe(44).png\n",
        "probe: probe(7,16,17).png"
       ]
      },
      {
       "output_type": "stream",
       "stream": "stdout",
       "text": [
        "\n",
        "probe: probe(29,21).png\n",
        "probe: probe(21,30).png\n",
        "probe: probe(10,19,20).png"
       ]
      },
      {
       "output_type": "stream",
       "stream": "stdout",
       "text": [
        "\n",
        "probe: probe(29,39).png\n",
        "probe: probe(16,26).png\n",
        "probe: probe(33,43).png"
       ]
      },
      {
       "output_type": "stream",
       "stream": "stdout",
       "text": [
        "\n",
        "probe: probe(23,24).png\n",
        "probe: probe(41,33,42).png\n",
        "probe: probe(12,4,13).png"
       ]
      },
      {
       "output_type": "stream",
       "stream": "stdout",
       "text": [
        "\n",
        "probe: probe(38,39).png\n",
        "probe: probe(2).png\n",
        "probe: probe(11,3).png"
       ]
      },
      {
       "output_type": "stream",
       "stream": "stdout",
       "text": [
        "\n",
        "probe: probe(22,32).png\n",
        "probe: probe(24,25).png\n",
        "probe: probe(12,4).png"
       ]
      },
      {
       "output_type": "stream",
       "stream": "stdout",
       "text": [
        "\n",
        "probe: probe(11,20).png\n",
        "probe: probe(10,20).png\n",
        "probe: probe(14,6,15).png"
       ]
      },
      {
       "output_type": "stream",
       "stream": "stdout",
       "text": [
        "\n",
        "probe: probe(16,25,17).png\n",
        "probe: probe(38,30,39).png\n",
        "probe: probe(13,22).png"
       ]
      },
      {
       "output_type": "stream",
       "stream": "stdout",
       "text": [
        "\n",
        "probe: probe(28,29).png\n",
        "probe: probe(18,27).png\n",
        "probe: probe(32,41,33).png"
       ]
      },
      {
       "output_type": "stream",
       "stream": "stdout",
       "text": [
        "\n",
        "probe: probe(4,13,5).png\n",
        "probe: probe(36).png\n",
        "probe: probe(39).png"
       ]
      },
      {
       "output_type": "stream",
       "stream": "stdout",
       "text": [
        "\n",
        "probe: probe(11).png\n",
        "probe: probe(31,40,41).png"
       ]
      },
      {
       "output_type": "stream",
       "stream": "stdout",
       "text": [
        "\n",
        "probe: probe(1,2,11).png\n",
        "probe: probe(21,30,22).png\n",
        "probe: probe(19,11).png"
       ]
      },
      {
       "output_type": "stream",
       "stream": "stdout",
       "text": [
        "\n",
        "probe: probe(32,33).png\n",
        "probe: probe(11,20,12).png\n",
        "probe: probe(18,27,19).png"
       ]
      },
      {
       "output_type": "stream",
       "stream": "stdout",
       "text": [
        "\n",
        "probe: probe(35,44).png\n",
        "probe: probe(7,8,17).png\n",
        "probe: probe(14,23).png"
       ]
      },
      {
       "output_type": "stream",
       "stream": "stdout",
       "text": [
        "\n",
        "probe: probe(11,12).png\n",
        "probe: probe(34,43).png\n",
        "probe: probe(31,40).png"
       ]
      },
      {
       "output_type": "stream",
       "stream": "stdout",
       "text": [
        "\n",
        "probe: probe(22,14).png\n",
        "probe: probe(11,20,12,21).png\n",
        "probe: probe(12,21,22).png"
       ]
      },
      {
       "output_type": "stream",
       "stream": "stdout",
       "text": [
        "\n",
        "probe: probe(23,15).png\n",
        "probe: probe(39,40).png\n",
        "probe: probe(23,32,33).png"
       ]
      },
      {
       "output_type": "stream",
       "stream": "stdout",
       "text": [
        "\n",
        "probe: probe(43,35,44).png\n",
        "probe: probe(40,32).png\n",
        "probe: probe(27,19).png"
       ]
      },
      {
       "output_type": "stream",
       "stream": "stdout",
       "text": [
        "\n",
        "probe: probe(28,20).png\n",
        "probe: probe(2,3).png\n",
        "probe: probe(20,12).png"
       ]
      },
      {
       "output_type": "stream",
       "stream": "stdout",
       "text": [
        "\n",
        "probe: probe(19,28,20).png\n",
        "probe: probe(19,20,29).png\n",
        "probe: probe(31).png"
       ]
      },
      {
       "output_type": "stream",
       "stream": "stdout",
       "text": [
        "\n",
        "probe: probe(12,21,13,22).png\n",
        "probe: probe(29).png\n",
        "probe: probe(16,8).png"
       ]
      },
      {
       "output_type": "stream",
       "stream": "stdout",
       "text": [
        "\n",
        "probe: probe(30,40).png\n",
        "probe: probe(4).png\n",
        "probe: probe(30,31).png"
       ]
      },
      {
       "output_type": "stream",
       "stream": "stdout",
       "text": [
        "\n",
        "probe: probe(17,26).png\n",
        "probe: probe(20).png\n",
        "probe: probe(42,34).png"
       ]
      },
      {
       "output_type": "stream",
       "stream": "stdout",
       "text": [
        "\n",
        "probe: probe(10,11).png\n",
        "probe: probe(9,1).png\n",
        "probe: probe(12,13,22).png"
       ]
      },
      {
       "output_type": "stream",
       "stream": "stdout",
       "text": [
        "\n",
        "probe: probe(34,43,35).png\n",
        "probe: probe(38).png\n",
        "probe: probe(6,7,16).png"
       ]
      },
      {
       "output_type": "stream",
       "stream": "stdout",
       "text": [
        "\n",
        "probe: probe(13).png\n",
        "probe: probe(37,29).png\n",
        "probe: probe(1,2).png"
       ]
      },
      {
       "output_type": "stream",
       "stream": "stdout",
       "text": [
        "\n",
        "probe: probe(36,28,37).png\n",
        "probe: probe(9,18,19).png\n",
        "probe: probe(9,18,10,19).png"
       ]
      },
      {
       "output_type": "stream",
       "stream": "stdout",
       "text": [
        "\n",
        "probe: probe(27,36).png\n",
        "probe: probe(34,43,35,44).png\n",
        "probe: probe(39,31).png"
       ]
      },
      {
       "output_type": "stream",
       "stream": "stdout",
       "text": [
        "\n",
        "probe: probe(29,38).png\n",
        "probe: probe(22).png\n",
        "probe: probe(39,31,40).png"
       ]
      },
      {
       "output_type": "stream",
       "stream": "stdout",
       "text": [
        "\n",
        "probe: probe(32,24).png\n",
        "probe: probe(14,15,24).png\n",
        "probe: probe(9,10).png"
       ]
      },
      {
       "output_type": "stream",
       "stream": "stdout",
       "text": [
        "\n",
        "probe: probe(19,28,20,29).png\n",
        "probe: probe(5,14,6).png\n",
        "probe: probe(11,3,12).png"
       ]
      },
      {
       "output_type": "stream",
       "stream": "stdout",
       "text": [
        "\n",
        "probe: probe(8,17).png\n",
        "probe: probe(5,6,15).png\n",
        "probe: probe(4,13,14).png"
       ]
      },
      {
       "output_type": "stream",
       "stream": "stdout",
       "text": [
        "\n",
        "probe: probe(40,32,41).png\n",
        "probe: probe(16,25,17,26).png\n",
        "probe: probe(36,28).png"
       ]
      },
      {
       "output_type": "stream",
       "stream": "stdout",
       "text": [
        "\n",
        "probe: probe(25,17).png\n",
        "probe: probe(13,14).png\n",
        "probe: probe(40).png"
       ]
      },
      {
       "output_type": "stream",
       "stream": "stdout",
       "text": [
        "\n",
        "probe: probe(38,30).png\n",
        "probe: probe(27,37).png\n",
        "probe: probe(24,33,25,34).png"
       ]
      },
      {
       "output_type": "stream",
       "stream": "stdout",
       "text": [
        "\n",
        "probe: probe(21,30,31).png\n",
        "probe: probe(33,42).png\n",
        "probe: probe(6).png"
       ]
      },
      {
       "output_type": "stream",
       "stream": "stdout",
       "text": [
        "\n",
        "probe: probe(13,22,23).png\n",
        "probe: probe(28,29,38).png\n",
        "probe: probe(25,26,35).png"
       ]
      },
      {
       "output_type": "stream",
       "stream": "stdout",
       "text": [
        "\n",
        "probe: probe(14,23,15).png\n",
        "remaking probes with jittered centers..."
       ]
      },
      {
       "output_type": "stream",
       "stream": "stdout",
       "text": [
        "\n",
        "probe: probe(19,11,20).png"
       ]
      },
      {
       "output_type": "stream",
       "stream": "stdout",
       "text": [
        "\n",
        "probe: probe(40,41).png"
       ]
      },
      {
       "output_type": "stream",
       "stream": "stdout",
       "text": [
        "\n",
        "probe: probe(6,15,7,16).png"
       ]
      },
      {
       "output_type": "stream",
       "stream": "stdout",
       "text": [
        "\n",
        "probe: probe(29,21,30).png"
       ]
      },
      {
       "output_type": "stream",
       "stream": "stdout",
       "text": [
        "\n",
        "probe: probe(18,19).png"
       ]
      },
      {
       "output_type": "stream",
       "stream": "stdout",
       "text": [
        "\n",
        "probe: probe(24).png"
       ]
      },
      {
       "output_type": "stream",
       "stream": "stdout",
       "text": [
        "\n",
        "probe: probe(15).png"
       ]
      },
      {
       "output_type": "stream",
       "stream": "stdout",
       "text": [
        "\n",
        "probe: probe(28,37,38).png"
       ]
      },
      {
       "output_type": "stream",
       "stream": "stdout",
       "text": [
        "\n",
        "probe: probe(28,20,29).png"
       ]
      },
      {
       "output_type": "stream",
       "stream": "stdout",
       "text": [
        "\n",
        "probe: probe(19,28,29).png"
       ]
      },
      {
       "output_type": "stream",
       "stream": "stdout",
       "text": [
        "\n",
        "probe: probe(18,27,28).png"
       ]
      },
      {
       "output_type": "stream",
       "stream": "stdout",
       "text": [
        "\n",
        "probe: probe(25,17,26).png"
       ]
      },
      {
       "output_type": "stream",
       "stream": "stdout",
       "text": [
        "\n",
        "probe: probe(25,26).png"
       ]
      },
      {
       "output_type": "stream",
       "stream": "stdout",
       "text": [
        "\n",
        "probe: probe(28,37,29).png"
       ]
      },
      {
       "output_type": "stream",
       "stream": "stdout",
       "text": [
        "\n",
        "probe: probe(16,25,26).png"
       ]
      },
      {
       "output_type": "stream",
       "stream": "stdout",
       "text": [
        "\n",
        "probe: probe(16,8,17).png"
       ]
      },
      {
       "output_type": "stream",
       "stream": "stdout",
       "text": [
        "\n",
        "probe: probe(27,28).png"
       ]
      },
      {
       "output_type": "stream",
       "stream": "stdout",
       "text": [
        "\n",
        "probe: probe(30,39,31,40).png"
       ]
      },
      {
       "output_type": "stream",
       "stream": "stdout",
       "text": [
        "\n",
        "probe: probe(33).png"
       ]
      },
      {
       "output_type": "stream",
       "stream": "stdout",
       "text": [
        "\n",
        "probe: probe(4,5).png"
       ]
      },
      {
       "output_type": "stream",
       "stream": "stdout",
       "text": [
        "\n",
        "probe: probe(0,9,1).png"
       ]
      },
      {
       "output_type": "stream",
       "stream": "stdout",
       "text": [
        "\n",
        "probe: probe(8).png"
       ]
      },
      {
       "output_type": "stream",
       "stream": "stdout",
       "text": [
        "\n",
        "probe: probe(18,28).png"
       ]
      },
      {
       "output_type": "stream",
       "stream": "stdout",
       "text": [
        "\n",
        "probe: probe(22,14,23).png"
       ]
      },
      {
       "output_type": "stream",
       "stream": "stdout",
       "text": [
        "\n",
        "probe: probe(24,33,25).png"
       ]
      },
      {
       "output_type": "stream",
       "stream": "stdout",
       "text": [
        "\n",
        "probe: probe(13,14,23).png"
       ]
      },
      {
       "output_type": "stream",
       "stream": "stdout",
       "text": [
        "\n",
        "probe: probe(30,39).png"
       ]
      },
      {
       "output_type": "stream",
       "stream": "stdout",
       "text": [
        "\n",
        "probe: probe(18,10).png"
       ]
      },
      {
       "output_type": "stream",
       "stream": "stdout",
       "text": [
        "\n",
        "probe: probe(33,34).png"
       ]
      },
      {
       "output_type": "stream",
       "stream": "stdout",
       "text": [
        "\n",
        "probe: probe(0,9,1,10).png"
       ]
      },
      {
       "output_type": "stream",
       "stream": "stdout",
       "text": [
        "\n",
        "probe: probe(43,35).png"
       ]
      },
      {
       "output_type": "stream",
       "stream": "stdout",
       "text": [
        "\n",
        "probe: probe(42).png"
       ]
      },
      {
       "output_type": "stream",
       "stream": "stdout",
       "text": [
        "\n",
        "probe: probe(2,11,3).png"
       ]
      },
      {
       "output_type": "stream",
       "stream": "stdout",
       "text": [
        "\n",
        "probe: probe(17).png"
       ]
      },
      {
       "output_type": "stream",
       "stream": "stdout",
       "text": [
        "\n",
        "probe: probe(22,31,23).png"
       ]
      },
      {
       "output_type": "stream",
       "stream": "stdout",
       "text": [
        "\n",
        "probe: probe(34,35).png"
       ]
      },
      {
       "output_type": "stream",
       "stream": "stdout",
       "text": [
        "\n",
        "probe: probe(9,19).png"
       ]
      },
      {
       "output_type": "stream",
       "stream": "stdout",
       "text": [
        "\n",
        "probe: probe(24,16,25).png"
       ]
      },
      {
       "output_type": "stream",
       "stream": "stdout",
       "text": [
        "\n",
        "probe: probe(20,29,21,30).png"
       ]
      },
      {
       "output_type": "stream",
       "stream": "stdout",
       "text": [
        "\n",
        "probe: probe(2,12).png"
       ]
      },
      {
       "output_type": "stream",
       "stream": "stdout",
       "text": [
        "\n",
        "probe: probe(14,23,24).png"
       ]
      },
      {
       "output_type": "stream",
       "stream": "stdout",
       "text": [
        "\n",
        "probe: probe(25,34,35).png"
       ]
      },
      {
       "output_type": "stream",
       "stream": "stdout",
       "text": [
        "\n",
        "probe: probe(24,33).png"
       ]
      },
      {
       "output_type": "stream",
       "stream": "stdout",
       "text": [
        "\n",
        "probe: probe(15,7,16).png"
       ]
      },
      {
       "output_type": "stream",
       "stream": "stdout",
       "text": [
        "\n",
        "probe: probe(34,43,44).png"
       ]
      },
      {
       "output_type": "stream",
       "stream": "stdout",
       "text": [
        "\n",
        "probe: probe(26).png"
       ]
      },
      {
       "output_type": "stream",
       "stream": "stdout",
       "text": [
        "\n",
        "probe: probe(5,14,15).png"
       ]
      },
      {
       "output_type": "stream",
       "stream": "stdout",
       "text": [
        "\n",
        "probe: probe(1).png"
       ]
      },
      {
       "output_type": "stream",
       "stream": "stdout",
       "text": [
        "\n",
        "probe: probe(20,21).png"
       ]
      },
      {
       "output_type": "stream",
       "stream": "stdout",
       "text": [
        "\n",
        "probe: probe(3,12,4).png"
       ]
      },
      {
       "output_type": "stream",
       "stream": "stdout",
       "text": [
        "\n",
        "probe: probe(3,4,13).png"
       ]
      },
      {
       "output_type": "stream",
       "stream": "stdout",
       "text": [
        "\n",
        "probe: probe(34,26).png"
       ]
      },
      {
       "output_type": "stream",
       "stream": "stdout",
       "text": [
        "\n",
        "probe: probe(29,30,39).png"
       ]
      },
      {
       "output_type": "stream",
       "stream": "stdout",
       "text": [
        "\n",
        "probe: probe(15,25).png"
       ]
      },
      {
       "output_type": "stream",
       "stream": "stdout",
       "text": [
        "\n",
        "probe: probe(10,19).png"
       ]
      },
      {
       "output_type": "stream",
       "stream": "stdout",
       "text": [
        "\n",
        "probe: probe(35).png"
       ]
      },
      {
       "output_type": "stream",
       "stream": "stdout",
       "text": [
        "\n",
        "probe: probe(14,6).png"
       ]
      },
      {
       "output_type": "stream",
       "stream": "stdout",
       "text": [
        "\n",
        "probe: probe(10).png"
       ]
      },
      {
       "output_type": "stream",
       "stream": "stdout",
       "text": [
        "\n",
        "probe: probe(15,7).png"
       ]
      },
      {
       "output_type": "stream",
       "stream": "stdout",
       "text": [
        "\n",
        "probe: probe(23,32,24,33).png"
       ]
      },
      {
       "output_type": "stream",
       "stream": "stdout",
       "text": [
        "\n",
        "probe: probe(33,42,34,43).png"
       ]
      },
      {
       "output_type": "stream",
       "stream": "stdout",
       "text": [
        "\n",
        "probe: probe(11,20,21).png"
       ]
      },
      {
       "output_type": "stream",
       "stream": "stdout",
       "text": [
        "\n",
        "probe: probe(29,38,39).png"
       ]
      },
      {
       "output_type": "stream",
       "stream": "stdout",
       "text": [
        "\n",
        "probe: probe(30,39,31).png"
       ]
      },
      {
       "output_type": "stream",
       "stream": "stdout",
       "text": [
        "\n",
        "probe: probe(18,19,28).png"
       ]
      },
      {
       "output_type": "stream",
       "stream": "stdout",
       "text": [
        "\n",
        "probe: probe(23,33).png"
       ]
      },
      {
       "output_type": "stream",
       "stream": "stdout",
       "text": [
        "\n",
        "probe: probe(19).png"
       ]
      },
      {
       "output_type": "stream",
       "stream": "stdout",
       "text": [
        "\n",
        "probe: probe(32,42).png"
       ]
      },
      {
       "output_type": "stream",
       "stream": "stdout",
       "text": [
        "\n",
        "probe: probe(16,17,26).png"
       ]
      },
      {
       "output_type": "stream",
       "stream": "stdout",
       "text": [
        "\n",
        "probe: probe(42,43).png"
       ]
      },
      {
       "output_type": "stream",
       "stream": "stdout",
       "text": [
        "\n",
        "probe: probe(41,33).png"
       ]
      },
      {
       "output_type": "stream",
       "stream": "stdout",
       "text": [
        "\n",
        "probe: probe(36,37).png"
       ]
      },
      {
       "output_type": "stream",
       "stream": "stdout",
       "text": [
        "\n",
        "probe: probe(4,13,5,14).png"
       ]
      },
      {
       "output_type": "stream",
       "stream": "stdout",
       "text": [
        "\n",
        "probe: probe(22,31,32).png"
       ]
      },
      {
       "output_type": "stream",
       "stream": "stdout",
       "text": [
        "\n",
        "probe: probe(1,10,2).png"
       ]
      },
      {
       "output_type": "stream",
       "stream": "stdout",
       "text": [
        "\n",
        "probe: probe(10,2).png"
       ]
      },
      {
       "output_type": "stream",
       "stream": "stdout",
       "text": [
        "\n",
        "probe: probe(9,18).png"
       ]
      },
      {
       "output_type": "stream",
       "stream": "stdout",
       "text": [
        "\n",
        "probe: probe(24,33,34).png"
       ]
      },
      {
       "output_type": "stream",
       "stream": "stdout",
       "text": [
        "\n",
        "probe: probe(7,16,8).png"
       ]
      },
      {
       "output_type": "stream",
       "stream": "stdout",
       "text": [
        "\n",
        "probe: probe(33,42,34).png"
       ]
      },
      {
       "output_type": "stream",
       "stream": "stdout",
       "text": [
        "\n",
        "probe: probe(7,16,8,17).png"
       ]
      },
      {
       "output_type": "stream",
       "stream": "stdout",
       "text": [
        "\n",
        "probe: probe(28).png"
       ]
      },
      {
       "output_type": "stream",
       "stream": "stdout",
       "text": [
        "\n",
        "probe: probe(11,12,21).png"
       ]
      },
      {
       "output_type": "stream",
       "stream": "stdout",
       "text": [
        "\n",
        "probe: probe(3).png"
       ]
      },
      {
       "output_type": "stream",
       "stream": "stdout",
       "text": [
        "\n",
        "probe: probe(4,13).png"
       ]
      },
      {
       "output_type": "stream",
       "stream": "stdout",
       "text": [
        "\n",
        "probe: probe(5,6).png"
       ]
      },
      {
       "output_type": "stream",
       "stream": "stdout",
       "text": [
        "\n",
        "probe: probe(21,31).png"
       ]
      },
      {
       "output_type": "stream",
       "stream": "stdout",
       "text": [
        "\n",
        "probe: probe(24,34).png"
       ]
      },
      {
       "output_type": "stream",
       "stream": "stdout",
       "text": [
        "\n",
        "probe: probe(31,23,32).png"
       ]
      },
      {
       "output_type": "stream",
       "stream": "stdout",
       "text": [
        "\n",
        "probe: probe(25,35).png"
       ]
      },
      {
       "output_type": "stream",
       "stream": "stdout",
       "text": [
        "\n",
        "probe: probe(6,15).png"
       ]
      },
      {
       "output_type": "stream",
       "stream": "stdout",
       "text": [
        "\n",
        "probe: probe(20,12,21).png"
       ]
      },
      {
       "output_type": "stream",
       "stream": "stdout",
       "text": [
        "\n",
        "probe: probe(18,27,19,28).png"
       ]
      },
      {
       "output_type": "stream",
       "stream": "stdout",
       "text": [
        "\n",
        "probe: probe(41,42).png"
       ]
      },
      {
       "output_type": "stream",
       "stream": "stdout",
       "text": [
        "\n",
        "probe: probe(32,41).png"
       ]
      },
      {
       "output_type": "stream",
       "stream": "stdout",
       "text": [
        "\n",
        "probe: probe(37).png"
       ]
      },
      {
       "output_type": "stream",
       "stream": "stdout",
       "text": [
        "\n",
        "probe: probe(34,44).png"
       ]
      },
      {
       "output_type": "stream",
       "stream": "stdout",
       "text": [
        "\n",
        "probe: probe(15,24,16).png"
       ]
      },
      {
       "output_type": "stream",
       "stream": "stdout",
       "text": [
        "\n",
        "probe: probe(12).png"
       ]
      },
      {
       "output_type": "stream",
       "stream": "stdout",
       "text": [
        "\n",
        "probe: probe(27).png"
       ]
      },
      {
       "output_type": "stream",
       "stream": "stdout",
       "text": [
        "\n",
        "probe: probe(43,44).png"
       ]
      },
      {
       "output_type": "stream",
       "stream": "stdout",
       "text": [
        "\n",
        "probe: probe(15,16,25).png"
       ]
      },
      {
       "output_type": "stream",
       "stream": "stdout",
       "text": [
        "\n",
        "probe: probe(1,10,2,11).png"
       ]
      },
      {
       "output_type": "stream",
       "stream": "stdout",
       "text": [
        "\n",
        "probe: probe(34,35,44).png"
       ]
      },
      {
       "output_type": "stream",
       "stream": "stdout",
       "text": [
        "\n",
        "probe: probe(13,5,14).png"
       ]
      },
      {
       "output_type": "stream",
       "stream": "stdout",
       "text": [
        "\n",
        "probe: probe(15,24).png"
       ]
      },
      {
       "output_type": "stream",
       "stream": "stdout",
       "text": [
        "\n",
        "probe: probe(10,2,11).png"
       ]
      },
      {
       "output_type": "stream",
       "stream": "stdout",
       "text": [
        "\n",
        "probe: probe(24,16).png"
       ]
      },
      {
       "output_type": "stream",
       "stream": "stdout",
       "text": [
        "\n",
        "probe: probe(13,5).png"
       ]
      },
      {
       "output_type": "stream",
       "stream": "stdout",
       "text": [
        "\n",
        "probe: probe(33,42,43).png"
       ]
      },
      {
       "output_type": "stream",
       "stream": "stdout",
       "text": [
        "\n",
        "probe: probe(32,33,42).png"
       ]
      },
      {
       "output_type": "stream",
       "stream": "stdout",
       "text": [
        "\n",
        "probe: probe(28,37,29,38).png"
       ]
      },
      {
       "output_type": "stream",
       "stream": "stdout",
       "text": [
        "\n",
        "probe: probe(0,9).png"
       ]
      },
      {
       "output_type": "stream",
       "stream": "stdout",
       "text": [
        "\n",
        "probe: probe(3,12,13).png"
       ]
      },
      {
       "output_type": "stream",
       "stream": "stdout",
       "text": [
        "\n",
        "probe: probe(2,11,12).png"
       ]
      },
      {
       "output_type": "stream",
       "stream": "stdout",
       "text": [
        "\n",
        "probe: probe(3,4).png"
       ]
      },
      {
       "output_type": "stream",
       "stream": "stdout",
       "text": [
        "\n",
        "probe: probe(9,1,10).png"
       ]
      },
      {
       "output_type": "stream",
       "stream": "stdout",
       "text": [
        "\n",
        "probe: probe(21).png"
       ]
      },
      {
       "output_type": "stream",
       "stream": "stdout",
       "text": [
        "\n",
        "probe: probe(12,21,13).png"
       ]
      },
      {
       "output_type": "stream",
       "stream": "stdout",
       "text": [
        "\n",
        "probe: probe(30,39,40).png"
       ]
      },
      {
       "output_type": "stream",
       "stream": "stdout",
       "text": [
        "\n",
        "probe: probe(7).png"
       ]
      },
      {
       "output_type": "stream",
       "stream": "stdout",
       "text": [
        "\n",
        "probe: probe(0,9,10).png"
       ]
      },
      {
       "output_type": "stream",
       "stream": "stdout",
       "text": [
        "\n",
        "probe: probe(10,19,11,20).png"
       ]
      },
      {
       "output_type": "stream",
       "stream": "stdout",
       "text": [
        "\n",
        "probe: probe(26,35).png"
       ]
      },
      {
       "output_type": "stream",
       "stream": "stdout",
       "text": [
        "\n",
        "probe: probe(23,32,24).png"
       ]
      },
      {
       "output_type": "stream",
       "stream": "stdout",
       "text": [
        "\n",
        "probe: probe(30,22).png"
       ]
      },
      {
       "output_type": "stream",
       "stream": "stdout",
       "text": [
        "\n",
        "probe: probe(20,29).png"
       ]
      },
      {
       "output_type": "stream",
       "stream": "stdout",
       "text": [
        "\n",
        "probe: probe(23,32).png"
       ]
      },
      {
       "output_type": "stream",
       "stream": "stdout",
       "text": [
        "\n",
        "probe: probe(31,23).png"
       ]
      },
      {
       "output_type": "stream",
       "stream": "stdout",
       "text": [
        "\n",
        "probe: probe(27,28,37).png"
       ]
      },
      {
       "output_type": "stream",
       "stream": "stdout",
       "text": [
        "\n",
        "probe: probe(10,11,20).png"
       ]
      },
      {
       "output_type": "stream",
       "stream": "stdout",
       "text": [
        "\n",
        "probe: probe(25,34,26,35).png"
       ]
      },
      {
       "output_type": "stream",
       "stream": "stdout",
       "text": [
        "\n",
        "probe: probe(22,31).png"
       ]
      },
      {
       "output_type": "stream",
       "stream": "stdout",
       "text": [
        "\n",
        "probe: probe(21,13).png"
       ]
      },
      {
       "output_type": "stream",
       "stream": "stdout",
       "text": [
        "\n",
        "probe: probe(21,13,22).png"
       ]
      },
      {
       "output_type": "stream",
       "stream": "stdout",
       "text": [
        "\n",
        "probe: probe(22,23,32).png"
       ]
      },
      {
       "output_type": "stream",
       "stream": "stdout",
       "text": [
        "\n",
        "probe: probe(30,22,31).png"
       ]
      },
      {
       "output_type": "stream",
       "stream": "stdout",
       "text": [
        "\n",
        "probe: probe(31,32).png"
       ]
      },
      {
       "output_type": "stream",
       "stream": "stdout",
       "text": [
        "\n",
        "probe: probe(7,16).png"
       ]
      },
      {
       "output_type": "stream",
       "stream": "stdout",
       "text": [
        "\n",
        "probe: probe(30).png"
       ]
      },
      {
       "output_type": "stream",
       "stream": "stdout",
       "text": [
        "\n",
        "probe: probe(21,30,22,31).png"
       ]
      },
      {
       "output_type": "stream",
       "stream": "stdout",
       "text": [
        "\n",
        "probe: probe(29,30).png"
       ]
      },
      {
       "output_type": "stream",
       "stream": "stdout",
       "text": [
        "\n",
        "probe: probe(5).png"
       ]
      },
      {
       "output_type": "stream",
       "stream": "stdout",
       "text": [
        "\n",
        "probe: probe(20,29,21).png"
       ]
      },
      {
       "output_type": "stream",
       "stream": "stdout",
       "text": [
        "\n",
        "probe: probe(12,21).png"
       ]
      },
      {
       "output_type": "stream",
       "stream": "stdout",
       "text": [
        "\n",
        "probe: probe(14,23,15,24).png"
       ]
      },
      {
       "output_type": "stream",
       "stream": "stdout",
       "text": [
        "\n",
        "probe: probe(37,29,38).png"
       ]
      },
      {
       "output_type": "stream",
       "stream": "stdout",
       "text": [
        "\n",
        "probe: probe(20,21,30).png"
       ]
      },
      {
       "output_type": "stream",
       "stream": "stdout",
       "text": [
        "\n",
        "probe: probe(3,13).png"
       ]
      },
      {
       "output_type": "stream",
       "stream": "stdout",
       "text": [
        "\n",
        "probe: probe(2,11,3,12).png"
       ]
      },
      {
       "output_type": "stream",
       "stream": "stdout",
       "text": [
        "\n",
        "probe: probe(7,17).png"
       ]
      },
      {
       "output_type": "stream",
       "stream": "stdout",
       "text": [
        "\n",
        "probe: probe(4,14).png"
       ]
      },
      {
       "output_type": "stream",
       "stream": "stdout",
       "text": [
        "\n",
        "probe: probe(14,24).png"
       ]
      },
      {
       "output_type": "stream",
       "stream": "stdout",
       "text": [
        "\n",
        "probe: probe(27,36,28).png"
       ]
      },
      {
       "output_type": "stream",
       "stream": "stdout",
       "text": [
        "\n",
        "probe: probe(5,15).png"
       ]
      },
      {
       "output_type": "stream",
       "stream": "stdout",
       "text": [
        "\n",
        "probe: probe(23,24,33).png"
       ]
      },
      {
       "output_type": "stream",
       "stream": "stdout",
       "text": [
        "\n",
        "probe: probe(25,34).png"
       ]
      },
      {
       "output_type": "stream",
       "stream": "stdout",
       "text": [
        "\n",
        "probe: probe(19,20).png"
       ]
      },
      {
       "output_type": "stream",
       "stream": "stdout",
       "text": [
        "\n",
        "probe: probe(14).png"
       ]
      },
      {
       "output_type": "stream",
       "stream": "stdout",
       "text": [
        "\n",
        "probe: probe(18,10,19).png"
       ]
      },
      {
       "output_type": "stream",
       "stream": "stdout",
       "text": [
        "\n",
        "probe: probe(31,41).png"
       ]
      },
      {
       "output_type": "stream",
       "stream": "stdout",
       "text": [
        "\n",
        "probe: probe(21,22).png"
       ]
      },
      {
       "output_type": "stream",
       "stream": "stdout",
       "text": [
        "\n",
        "probe: probe(29,38,30).png"
       ]
      },
      {
       "output_type": "stream",
       "stream": "stdout",
       "text": [
        "\n",
        "probe: probe(23,15,24).png"
       ]
      },
      {
       "output_type": "stream",
       "stream": "stdout",
       "text": [
        "\n",
        "probe: probe(15,16).png"
       ]
      },
      {
       "output_type": "stream",
       "stream": "stdout",
       "text": [
        "\n",
        "probe: probe(15,24,16,25).png"
       ]
      },
      {
       "output_type": "stream",
       "stream": "stdout",
       "text": [
        "\n",
        "probe: probe(13,22,14,23).png"
       ]
      },
      {
       "output_type": "stream",
       "stream": "stdout",
       "text": [
        "\n",
        "probe: probe(32).png"
       ]
      },
      {
       "output_type": "stream",
       "stream": "stdout",
       "text": [
        "\n",
        "probe: probe(23).png"
       ]
      },
      {
       "output_type": "stream",
       "stream": "stdout",
       "text": [
        "\n",
        "probe: probe(0,10).png"
       ]
      },
      {
       "output_type": "stream",
       "stream": "stdout",
       "text": [
        "\n",
        "probe: probe(24,25,34).png"
       ]
      },
      {
       "output_type": "stream",
       "stream": "stdout",
       "text": [
        "\n",
        "probe: probe(1,11).png"
       ]
      },
      {
       "output_type": "stream",
       "stream": "stdout",
       "text": [
        "\n",
        "probe: probe(32,41,33,42).png"
       ]
      },
      {
       "output_type": "stream",
       "stream": "stdout",
       "text": [
        "\n",
        "probe: probe(6,7).png"
       ]
      },
      {
       "output_type": "stream",
       "stream": "stdout",
       "text": [
        "\n",
        "probe: probe(15,24,25).png"
       ]
      },
      {
       "output_type": "stream",
       "stream": "stdout",
       "text": [
        "\n",
        "probe: probe(19,29).png"
       ]
      },
      {
       "output_type": "stream",
       "stream": "stdout",
       "text": [
        "\n",
        "probe: probe(32,41,42).png"
       ]
      },
      {
       "output_type": "stream",
       "stream": "stdout",
       "text": [
        "\n",
        "probe: probe(20,30).png"
       ]
      },
      {
       "output_type": "stream",
       "stream": "stdout",
       "text": [
        "\n",
        "probe: probe(41).png"
       ]
      },
      {
       "output_type": "stream",
       "stream": "stdout",
       "text": [
        "\n",
        "probe: probe(5,14,6,15).png"
       ]
      },
      {
       "output_type": "stream",
       "stream": "stdout",
       "text": [
        "\n",
        "probe: probe(16).png"
       ]
      },
      {
       "output_type": "stream",
       "stream": "stdout",
       "text": [
        "\n",
        "probe: probe(6,15,16).png"
       ]
      },
      {
       "output_type": "stream",
       "stream": "stdout",
       "text": [
        "\n",
        "probe: probe(33,34,43).png"
       ]
      },
      {
       "output_type": "stream",
       "stream": "stdout",
       "text": [
        "\n",
        "probe: probe(16,25).png"
       ]
      },
      {
       "output_type": "stream",
       "stream": "stdout",
       "text": [
        "\n",
        "probe: probe(29,38,30,39).png"
       ]
      },
      {
       "output_type": "stream",
       "stream": "stdout",
       "text": [
        "\n",
        "probe: probe(2,3,12).png"
       ]
      },
      {
       "output_type": "stream",
       "stream": "stdout",
       "text": [
        "\n",
        "probe: probe(3,12,4,13).png"
       ]
      },
      {
       "output_type": "stream",
       "stream": "stdout",
       "text": [
        "\n",
        "probe: probe(32,24,33).png"
       ]
      },
      {
       "output_type": "stream",
       "stream": "stdout",
       "text": [
        "\n",
        "probe: probe(33,25).png"
       ]
      },
      {
       "output_type": "stream",
       "stream": "stdout",
       "text": [
        "\n",
        "probe: probe(31,40,32).png"
       ]
      },
      {
       "output_type": "stream",
       "stream": "stdout",
       "text": [
        "\n",
        "probe: probe(37,38).png"
       ]
      },
      {
       "output_type": "stream",
       "stream": "stdout",
       "text": [
        "\n",
        "probe: probe(13,22,14).png"
       ]
      },
      {
       "output_type": "stream",
       "stream": "stdout",
       "text": [
        "\n",
        "probe: probe(31,32,41).png"
       ]
      },
      {
       "output_type": "stream",
       "stream": "stdout",
       "text": [
        "\n",
        "probe: probe(1,10,11).png"
       ]
      },
      {
       "output_type": "stream",
       "stream": "stdout",
       "text": [
        "\n",
        "probe: probe(0,1,10).png"
       ]
      },
      {
       "output_type": "stream",
       "stream": "stdout",
       "text": [
        "\n",
        "probe: probe(34,26,35).png"
       ]
      },
      {
       "output_type": "stream",
       "stream": "stdout",
       "text": [
        "\n",
        "probe: probe(0).png"
       ]
      },
      {
       "output_type": "stream",
       "stream": "stdout",
       "text": [
        "\n",
        "probe: probe(14,15).png"
       ]
      },
      {
       "output_type": "stream",
       "stream": "stdout",
       "text": [
        "\n",
        "probe: probe(11,21).png"
       ]
      },
      {
       "output_type": "stream",
       "stream": "stdout",
       "text": [
        "\n",
        "probe: probe(12,22).png"
       ]
      },
      {
       "output_type": "stream",
       "stream": "stdout",
       "text": [
        "\n",
        "probe: probe(25).png"
       ]
      },
      {
       "output_type": "stream",
       "stream": "stdout",
       "text": [
        "\n",
        "probe: probe(0,1).png"
       ]
      },
      {
       "output_type": "stream",
       "stream": "stdout",
       "text": [
        "\n",
        "probe: probe(13,23).png"
       ]
      },
      {
       "output_type": "stream",
       "stream": "stdout",
       "text": [
        "\n",
        "probe: probe(3,12).png"
       ]
      },
      {
       "output_type": "stream",
       "stream": "stdout",
       "text": [
        "\n",
        "probe: probe(33,25,34).png"
       ]
      },
      {
       "output_type": "stream",
       "stream": "stdout",
       "text": [
        "\n",
        "probe: probe(9,18,10).png"
       ]
      },
      {
       "output_type": "stream",
       "stream": "stdout",
       "text": [
        "\n",
        "probe: probe(2,11).png"
       ]
      },
      {
       "output_type": "stream",
       "stream": "stdout",
       "text": [
        "\n",
        "probe: probe(9,10,19).png"
       ]
      },
      {
       "output_type": "stream",
       "stream": "stdout",
       "text": [
        "\n",
        "probe: probe(5,14).png"
       ]
      },
      {
       "output_type": "stream",
       "stream": "stdout",
       "text": [
        "\n",
        "probe: probe(22,31,23,32).png"
       ]
      },
      {
       "output_type": "stream",
       "stream": "stdout",
       "text": [
        "\n",
        "probe: probe(4,5,14).png"
       ]
      },
      {
       "output_type": "stream",
       "stream": "stdout",
       "text": [
        "\n",
        "probe: probe(7,8).png"
       ]
      },
      {
       "output_type": "stream",
       "stream": "stdout",
       "text": [
        "\n",
        "probe: probe(6,16).png"
       ]
      },
      {
       "output_type": "stream",
       "stream": "stdout",
       "text": [
        "\n",
        "probe: probe(30,31,40).png"
       ]
      },
      {
       "output_type": "stream",
       "stream": "stdout",
       "text": [
        "\n",
        "probe: probe(28,37).png"
       ]
      },
      {
       "output_type": "stream",
       "stream": "stdout",
       "text": [
        "\n",
        "probe: probe(22,23).png"
       ]
      },
      {
       "output_type": "stream",
       "stream": "stdout",
       "text": [
        "\n",
        "probe: probe(27,19,28).png"
       ]
      },
      {
       "output_type": "stream",
       "stream": "stdout",
       "text": [
        "\n",
        "probe: probe(27,36,37).png"
       ]
      },
      {
       "output_type": "stream",
       "stream": "stdout",
       "text": [
        "\n",
        "probe: probe(34).png"
       ]
      },
      {
       "output_type": "stream",
       "stream": "stdout",
       "text": [
        "\n",
        "probe: probe(21,22,31).png"
       ]
      },
      {
       "output_type": "stream",
       "stream": "stdout",
       "text": [
        "\n",
        "probe: probe(20,29,30).png"
       ]
      },
      {
       "output_type": "stream",
       "stream": "stdout",
       "text": [
        "\n",
        "probe: probe(9).png"
       ]
      },
      {
       "output_type": "stream",
       "stream": "stdout",
       "text": [
        "\n",
        "probe: probe(25,34,26).png"
       ]
      },
      {
       "output_type": "stream",
       "stream": "stdout",
       "text": [
        "\n",
        "probe: probe(12,13).png"
       ]
      },
      {
       "output_type": "stream",
       "stream": "stdout",
       "text": [
        "\n",
        "probe: probe(6,15,7).png"
       ]
      },
      {
       "output_type": "stream",
       "stream": "stdout",
       "text": [
        "\n",
        "probe: probe(28,38).png"
       ]
      },
      {
       "output_type": "stream",
       "stream": "stdout",
       "text": [
        "\n",
        "probe: probe(27,36,28,37).png"
       ]
      },
      {
       "output_type": "stream",
       "stream": "stdout",
       "text": [
        "\n",
        "probe: probe(43).png"
       ]
      },
      {
       "output_type": "stream",
       "stream": "stdout",
       "text": [
        "\n",
        "probe: probe(1,10).png"
       ]
      },
      {
       "output_type": "stream",
       "stream": "stdout",
       "text": [
        "\n",
        "probe: probe(18).png"
       ]
      },
      {
       "output_type": "stream",
       "stream": "stdout",
       "text": [
        "\n",
        "probe: probe(31,40,32,41).png"
       ]
      },
      {
       "output_type": "stream",
       "stream": "stdout",
       "text": [
        "\n",
        "probe: probe(16,17).png"
       ]
      },
      {
       "output_type": "stream",
       "stream": "stdout",
       "text": [
        "\n",
        "probe: probe(10,19,11).png"
       ]
      },
      {
       "output_type": "stream",
       "stream": "stdout",
       "text": [
        "\n",
        "probe: probe(19,28).png"
       ]
      },
      {
       "output_type": "stream",
       "stream": "stdout",
       "text": [
        "\n",
        "probe: probe(42,34,43).png"
       ]
      },
      {
       "output_type": "stream",
       "stream": "stdout",
       "text": [
        "\n",
        "probe: probe(44).png"
       ]
      },
      {
       "output_type": "stream",
       "stream": "stdout",
       "text": [
        "\n",
        "probe: probe(7,16,17).png"
       ]
      },
      {
       "output_type": "stream",
       "stream": "stdout",
       "text": [
        "\n",
        "probe: probe(29,21).png"
       ]
      },
      {
       "output_type": "stream",
       "stream": "stdout",
       "text": [
        "\n",
        "probe: probe(21,30).png"
       ]
      },
      {
       "output_type": "stream",
       "stream": "stdout",
       "text": [
        "\n",
        "probe: probe(10,19,20).png"
       ]
      },
      {
       "output_type": "stream",
       "stream": "stdout",
       "text": [
        "\n",
        "probe: probe(29,39).png"
       ]
      },
      {
       "output_type": "stream",
       "stream": "stdout",
       "text": [
        "\n",
        "probe: probe(16,26).png"
       ]
      },
      {
       "output_type": "stream",
       "stream": "stdout",
       "text": [
        "\n",
        "probe: probe(33,43).png"
       ]
      },
      {
       "output_type": "stream",
       "stream": "stdout",
       "text": [
        "\n",
        "probe: probe(23,24).png"
       ]
      },
      {
       "output_type": "stream",
       "stream": "stdout",
       "text": [
        "\n",
        "probe: probe(41,33,42).png"
       ]
      },
      {
       "output_type": "stream",
       "stream": "stdout",
       "text": [
        "\n",
        "probe: probe(12,4,13).png"
       ]
      },
      {
       "output_type": "stream",
       "stream": "stdout",
       "text": [
        "\n",
        "probe: probe(38,39).png"
       ]
      },
      {
       "output_type": "stream",
       "stream": "stdout",
       "text": [
        "\n",
        "probe: probe(2).png"
       ]
      },
      {
       "output_type": "stream",
       "stream": "stdout",
       "text": [
        "\n",
        "probe: probe(11,3).png"
       ]
      },
      {
       "output_type": "stream",
       "stream": "stdout",
       "text": [
        "\n",
        "probe: probe(22,32).png"
       ]
      },
      {
       "output_type": "stream",
       "stream": "stdout",
       "text": [
        "\n",
        "probe: probe(24,25).png"
       ]
      },
      {
       "output_type": "stream",
       "stream": "stdout",
       "text": [
        "\n",
        "probe: probe(12,4).png"
       ]
      },
      {
       "output_type": "stream",
       "stream": "stdout",
       "text": [
        "\n",
        "probe: probe(11,20).png"
       ]
      },
      {
       "output_type": "stream",
       "stream": "stdout",
       "text": [
        "\n",
        "probe: probe(10,20).png"
       ]
      },
      {
       "output_type": "stream",
       "stream": "stdout",
       "text": [
        "\n",
        "probe: probe(14,6,15).png"
       ]
      },
      {
       "output_type": "stream",
       "stream": "stdout",
       "text": [
        "\n",
        "probe: probe(16,25,17).png"
       ]
      },
      {
       "output_type": "stream",
       "stream": "stdout",
       "text": [
        "\n",
        "probe: probe(38,30,39).png"
       ]
      },
      {
       "output_type": "stream",
       "stream": "stdout",
       "text": [
        "\n",
        "probe: probe(13,22).png"
       ]
      },
      {
       "output_type": "stream",
       "stream": "stdout",
       "text": [
        "\n",
        "probe: probe(28,29).png"
       ]
      },
      {
       "output_type": "stream",
       "stream": "stdout",
       "text": [
        "\n",
        "probe: probe(18,27).png"
       ]
      },
      {
       "output_type": "stream",
       "stream": "stdout",
       "text": [
        "\n",
        "probe: probe(32,41,33).png"
       ]
      },
      {
       "output_type": "stream",
       "stream": "stdout",
       "text": [
        "\n",
        "probe: probe(4,13,5).png"
       ]
      },
      {
       "output_type": "stream",
       "stream": "stdout",
       "text": [
        "\n",
        "probe: probe(36).png"
       ]
      },
      {
       "output_type": "stream",
       "stream": "stdout",
       "text": [
        "\n",
        "probe: probe(39).png"
       ]
      },
      {
       "output_type": "stream",
       "stream": "stdout",
       "text": [
        "\n",
        "probe: probe(11).png"
       ]
      },
      {
       "output_type": "stream",
       "stream": "stdout",
       "text": [
        "\n",
        "probe: probe(31,40,41).png"
       ]
      },
      {
       "output_type": "stream",
       "stream": "stdout",
       "text": [
        "\n",
        "probe: probe(1,2,11).png"
       ]
      },
      {
       "output_type": "stream",
       "stream": "stdout",
       "text": [
        "\n",
        "probe: probe(21,30,22).png"
       ]
      },
      {
       "output_type": "stream",
       "stream": "stdout",
       "text": [
        "\n",
        "probe: probe(19,11).png"
       ]
      },
      {
       "output_type": "stream",
       "stream": "stdout",
       "text": [
        "\n",
        "probe: probe(32,33).png"
       ]
      },
      {
       "output_type": "stream",
       "stream": "stdout",
       "text": [
        "\n",
        "probe: probe(11,20,12).png"
       ]
      },
      {
       "output_type": "stream",
       "stream": "stdout",
       "text": [
        "\n",
        "probe: probe(18,27,19).png"
       ]
      },
      {
       "output_type": "stream",
       "stream": "stdout",
       "text": [
        "\n",
        "probe: probe(35,44).png"
       ]
      },
      {
       "output_type": "stream",
       "stream": "stdout",
       "text": [
        "\n",
        "probe: probe(7,8,17).png"
       ]
      },
      {
       "output_type": "stream",
       "stream": "stdout",
       "text": [
        "\n",
        "probe: probe(14,23).png"
       ]
      },
      {
       "output_type": "stream",
       "stream": "stdout",
       "text": [
        "\n",
        "probe: probe(11,12).png"
       ]
      },
      {
       "output_type": "stream",
       "stream": "stdout",
       "text": [
        "\n",
        "probe: probe(34,43).png"
       ]
      },
      {
       "output_type": "stream",
       "stream": "stdout",
       "text": [
        "\n",
        "probe: probe(31,40).png"
       ]
      },
      {
       "output_type": "stream",
       "stream": "stdout",
       "text": [
        "\n",
        "probe: probe(22,14).png"
       ]
      },
      {
       "output_type": "stream",
       "stream": "stdout",
       "text": [
        "\n",
        "probe: probe(11,20,12,21).png"
       ]
      },
      {
       "output_type": "stream",
       "stream": "stdout",
       "text": [
        "\n",
        "probe: probe(12,21,22).png"
       ]
      },
      {
       "output_type": "stream",
       "stream": "stdout",
       "text": [
        "\n",
        "probe: probe(23,15).png"
       ]
      },
      {
       "output_type": "stream",
       "stream": "stdout",
       "text": [
        "\n",
        "probe: probe(39,40).png"
       ]
      },
      {
       "output_type": "stream",
       "stream": "stdout",
       "text": [
        "\n",
        "probe: probe(23,32,33).png"
       ]
      },
      {
       "output_type": "stream",
       "stream": "stdout",
       "text": [
        "\n",
        "probe: probe(43,35,44).png"
       ]
      },
      {
       "output_type": "stream",
       "stream": "stdout",
       "text": [
        "\n",
        "probe: probe(40,32).png"
       ]
      },
      {
       "output_type": "stream",
       "stream": "stdout",
       "text": [
        "\n",
        "probe: probe(27,19).png"
       ]
      },
      {
       "output_type": "stream",
       "stream": "stdout",
       "text": [
        "\n",
        "probe: probe(28,20).png"
       ]
      },
      {
       "output_type": "stream",
       "stream": "stdout",
       "text": [
        "\n",
        "probe: probe(2,3).png"
       ]
      },
      {
       "output_type": "stream",
       "stream": "stdout",
       "text": [
        "\n",
        "probe: probe(20,12).png"
       ]
      },
      {
       "output_type": "stream",
       "stream": "stdout",
       "text": [
        "\n",
        "probe: probe(19,28,20).png"
       ]
      },
      {
       "output_type": "stream",
       "stream": "stdout",
       "text": [
        "\n",
        "probe: probe(19,20,29).png"
       ]
      },
      {
       "output_type": "stream",
       "stream": "stdout",
       "text": [
        "\n",
        "probe: probe(31).png"
       ]
      },
      {
       "output_type": "stream",
       "stream": "stdout",
       "text": [
        "\n",
        "probe: probe(12,21,13,22).png"
       ]
      },
      {
       "output_type": "stream",
       "stream": "stdout",
       "text": [
        "\n",
        "probe: probe(29).png"
       ]
      },
      {
       "output_type": "stream",
       "stream": "stdout",
       "text": [
        "\n",
        "probe: probe(16,8).png"
       ]
      },
      {
       "output_type": "stream",
       "stream": "stdout",
       "text": [
        "\n",
        "probe: probe(30,40).png"
       ]
      },
      {
       "output_type": "stream",
       "stream": "stdout",
       "text": [
        "\n",
        "probe: probe(4).png"
       ]
      },
      {
       "output_type": "stream",
       "stream": "stdout",
       "text": [
        "\n",
        "probe: probe(30,31).png"
       ]
      },
      {
       "output_type": "stream",
       "stream": "stdout",
       "text": [
        "\n",
        "probe: probe(17,26).png"
       ]
      },
      {
       "output_type": "stream",
       "stream": "stdout",
       "text": [
        "\n",
        "probe: probe(20).png"
       ]
      },
      {
       "output_type": "stream",
       "stream": "stdout",
       "text": [
        "\n",
        "probe: probe(42,34).png"
       ]
      },
      {
       "output_type": "stream",
       "stream": "stdout",
       "text": [
        "\n",
        "probe: probe(10,11).png"
       ]
      },
      {
       "output_type": "stream",
       "stream": "stdout",
       "text": [
        "\n",
        "probe: probe(9,1).png"
       ]
      },
      {
       "output_type": "stream",
       "stream": "stdout",
       "text": [
        "\n",
        "probe: probe(12,13,22).png"
       ]
      },
      {
       "output_type": "stream",
       "stream": "stdout",
       "text": [
        "\n",
        "probe: probe(34,43,35).png"
       ]
      },
      {
       "output_type": "stream",
       "stream": "stdout",
       "text": [
        "\n",
        "probe: probe(38).png"
       ]
      },
      {
       "output_type": "stream",
       "stream": "stdout",
       "text": [
        "\n",
        "probe: probe(6,7,16).png"
       ]
      },
      {
       "output_type": "stream",
       "stream": "stdout",
       "text": [
        "\n",
        "probe: probe(13).png"
       ]
      },
      {
       "output_type": "stream",
       "stream": "stdout",
       "text": [
        "\n",
        "probe: probe(37,29).png"
       ]
      },
      {
       "output_type": "stream",
       "stream": "stdout",
       "text": [
        "\n",
        "probe: probe(1,2).png"
       ]
      },
      {
       "output_type": "stream",
       "stream": "stdout",
       "text": [
        "\n",
        "probe: probe(36,28,37).png"
       ]
      },
      {
       "output_type": "stream",
       "stream": "stdout",
       "text": [
        "\n",
        "probe: probe(9,18,19).png"
       ]
      },
      {
       "output_type": "stream",
       "stream": "stdout",
       "text": [
        "\n",
        "probe: probe(9,18,10,19).png"
       ]
      },
      {
       "output_type": "stream",
       "stream": "stdout",
       "text": [
        "\n",
        "probe: probe(27,36).png"
       ]
      },
      {
       "output_type": "stream",
       "stream": "stdout",
       "text": [
        "\n",
        "probe: probe(34,43,35,44).png"
       ]
      },
      {
       "output_type": "stream",
       "stream": "stdout",
       "text": [
        "\n",
        "probe: probe(39,31).png"
       ]
      },
      {
       "output_type": "stream",
       "stream": "stdout",
       "text": [
        "\n",
        "probe: probe(29,38).png"
       ]
      },
      {
       "output_type": "stream",
       "stream": "stdout",
       "text": [
        "\n",
        "probe: probe(22).png"
       ]
      },
      {
       "output_type": "stream",
       "stream": "stdout",
       "text": [
        "\n",
        "probe: probe(39,31,40).png"
       ]
      },
      {
       "output_type": "stream",
       "stream": "stdout",
       "text": [
        "\n",
        "probe: probe(32,24).png"
       ]
      },
      {
       "output_type": "stream",
       "stream": "stdout",
       "text": [
        "\n",
        "probe: probe(14,15,24).png"
       ]
      },
      {
       "output_type": "stream",
       "stream": "stdout",
       "text": [
        "\n",
        "probe: probe(9,10).png"
       ]
      },
      {
       "output_type": "stream",
       "stream": "stdout",
       "text": [
        "\n",
        "probe: probe(19,28,20,29).png"
       ]
      },
      {
       "output_type": "stream",
       "stream": "stdout",
       "text": [
        "\n",
        "probe: probe(5,14,6).png"
       ]
      },
      {
       "output_type": "stream",
       "stream": "stdout",
       "text": [
        "\n",
        "probe: probe(11,3,12).png"
       ]
      },
      {
       "output_type": "stream",
       "stream": "stdout",
       "text": [
        "\n",
        "probe: probe(8,17).png"
       ]
      },
      {
       "output_type": "stream",
       "stream": "stdout",
       "text": [
        "\n",
        "probe: probe(5,6,15).png"
       ]
      },
      {
       "output_type": "stream",
       "stream": "stdout",
       "text": [
        "\n",
        "probe: probe(4,13,14).png"
       ]
      },
      {
       "output_type": "stream",
       "stream": "stdout",
       "text": [
        "\n",
        "probe: probe(40,32,41).png"
       ]
      },
      {
       "output_type": "stream",
       "stream": "stdout",
       "text": [
        "\n",
        "probe: probe(16,25,17,26).png"
       ]
      },
      {
       "output_type": "stream",
       "stream": "stdout",
       "text": [
        "\n",
        "probe: probe(36,28).png"
       ]
      },
      {
       "output_type": "stream",
       "stream": "stdout",
       "text": [
        "\n",
        "probe: probe(25,17).png"
       ]
      },
      {
       "output_type": "stream",
       "stream": "stdout",
       "text": [
        "\n",
        "probe: probe(13,14).png"
       ]
      },
      {
       "output_type": "stream",
       "stream": "stdout",
       "text": [
        "\n",
        "probe: probe(40).png"
       ]
      },
      {
       "output_type": "stream",
       "stream": "stdout",
       "text": [
        "\n",
        "probe: probe(38,30).png"
       ]
      },
      {
       "output_type": "stream",
       "stream": "stdout",
       "text": [
        "\n",
        "probe: probe(27,37).png"
       ]
      },
      {
       "output_type": "stream",
       "stream": "stdout",
       "text": [
        "\n",
        "probe: probe(24,33,25,34).png"
       ]
      },
      {
       "output_type": "stream",
       "stream": "stdout",
       "text": [
        "\n",
        "probe: probe(21,30,31).png"
       ]
      },
      {
       "output_type": "stream",
       "stream": "stdout",
       "text": [
        "\n",
        "probe: probe(33,42).png"
       ]
      },
      {
       "output_type": "stream",
       "stream": "stdout",
       "text": [
        "\n",
        "probe: probe(6).png"
       ]
      },
      {
       "output_type": "stream",
       "stream": "stdout",
       "text": [
        "\n",
        "probe: probe(13,22,23).png"
       ]
      },
      {
       "output_type": "stream",
       "stream": "stdout",
       "text": [
        "\n",
        "probe: probe(28,29,38).png"
       ]
      },
      {
       "output_type": "stream",
       "stream": "stdout",
       "text": [
        "\n",
        "probe: probe(25,26,35).png"
       ]
      },
      {
       "output_type": "stream",
       "stream": "stdout",
       "text": [
        "\n",
        "probe: probe(14,23,15).png"
       ]
      },
      {
       "output_type": "stream",
       "stream": "stdout",
       "text": [
        "\n",
        "probe: probe(19,11,20).png"
       ]
      },
      {
       "output_type": "stream",
       "stream": "stdout",
       "text": [
        "\n",
        "probe: probe(40,41).png\n",
        "probe: probe(6,15,7,16).png"
       ]
      },
      {
       "output_type": "stream",
       "stream": "stdout",
       "text": [
        "\n",
        "probe: probe(29,21,30).png\n",
        "probe: probe(18,19).png\n",
        "probe: probe(24).png"
       ]
      },
      {
       "output_type": "stream",
       "stream": "stdout",
       "text": [
        "\n",
        "probe: probe(15).png\n",
        "probe: probe(28,37,38).png\n",
        "probe: probe(28,20,29).png"
       ]
      },
      {
       "output_type": "stream",
       "stream": "stdout",
       "text": [
        "\n",
        "probe: probe(19,28,29).png\n",
        "probe: probe(18,27,28).png\n",
        "probe: probe(25,17,26).png"
       ]
      },
      {
       "output_type": "stream",
       "stream": "stdout",
       "text": [
        "\n",
        "probe: probe(25,26).png\n",
        "probe: probe(28,37,29).png\n",
        "probe: probe(16,25,26).png"
       ]
      },
      {
       "output_type": "stream",
       "stream": "stdout",
       "text": [
        "\n",
        "probe: probe(16,8,17).png\n",
        "probe: probe(27,28).png\n",
        "probe: probe(30,39,31,40).png"
       ]
      },
      {
       "output_type": "stream",
       "stream": "stdout",
       "text": [
        "\n",
        "probe: probe(33).png\n",
        "probe: probe(4,5).png\n",
        "probe: probe(0,9,1).png"
       ]
      },
      {
       "output_type": "stream",
       "stream": "stdout",
       "text": [
        "\n",
        "probe: probe(8).png\n",
        "probe: probe(18,28).png\n",
        "probe: probe(22,14,23).png"
       ]
      },
      {
       "output_type": "stream",
       "stream": "stdout",
       "text": [
        "\n",
        "probe: probe(24,33,25).png\n",
        "probe: probe(13,14,23).png\n",
        "probe: probe(30,39).png"
       ]
      },
      {
       "output_type": "stream",
       "stream": "stdout",
       "text": [
        "\n",
        "probe: probe(18,10).png\n",
        "probe: probe(33,34).png\n",
        "probe: probe(0,9,1,10).png"
       ]
      },
      {
       "output_type": "stream",
       "stream": "stdout",
       "text": [
        "\n",
        "probe: probe(43,35).png\n",
        "probe: probe(42).png\n",
        "probe: probe(2,11,3).png"
       ]
      },
      {
       "output_type": "stream",
       "stream": "stdout",
       "text": [
        "\n",
        "probe: probe(17).png\n",
        "probe: probe(22,31,23).png\n",
        "probe: probe(34,35).png"
       ]
      },
      {
       "output_type": "stream",
       "stream": "stdout",
       "text": [
        "\n",
        "probe: probe(9,19).png\n",
        "probe: probe(24,16,25).png\n",
        "probe: probe(20,29,21,30).png"
       ]
      },
      {
       "output_type": "stream",
       "stream": "stdout",
       "text": [
        "\n",
        "probe: probe(2,12).png\n",
        "probe: probe(14,23,24).png\n",
        "probe: probe(25,34,35).png"
       ]
      },
      {
       "output_type": "stream",
       "stream": "stdout",
       "text": [
        "\n",
        "probe: probe(24,33).png\n",
        "probe: probe(15,7,16).png\n",
        "probe: probe(34,43,44).png"
       ]
      },
      {
       "output_type": "stream",
       "stream": "stdout",
       "text": [
        "\n",
        "probe: probe(26).png\n",
        "probe: probe(5,14,15).png\n",
        "probe: probe(1).png"
       ]
      },
      {
       "output_type": "stream",
       "stream": "stdout",
       "text": [
        "\n",
        "probe: probe(20,21).png\n",
        "probe: probe(3,12,4).png\n",
        "probe: probe(3,4,13).png"
       ]
      },
      {
       "output_type": "stream",
       "stream": "stdout",
       "text": [
        "\n",
        "probe: probe(34,26).png\n",
        "probe: probe(29,30,39).png\n",
        "probe: probe(15,25).png"
       ]
      },
      {
       "output_type": "stream",
       "stream": "stdout",
       "text": [
        "\n",
        "probe: probe(10,19).png\n",
        "probe: probe(35).png\n",
        "probe: probe(14,6).png"
       ]
      },
      {
       "output_type": "stream",
       "stream": "stdout",
       "text": [
        "\n",
        "probe: probe(10).png\n",
        "probe: probe(15,7).png\n",
        "probe: probe(23,32,24,33).png"
       ]
      },
      {
       "output_type": "stream",
       "stream": "stdout",
       "text": [
        "\n",
        "probe: probe(33,42,34,43).png\n",
        "probe: probe(11,20,21).png\n",
        "probe: probe(29,38,39).png"
       ]
      },
      {
       "output_type": "stream",
       "stream": "stdout",
       "text": [
        "\n",
        "probe: probe(30,39,31).png\n",
        "probe: probe(18,19,28).png\n",
        "probe: probe(23,33).png"
       ]
      },
      {
       "output_type": "stream",
       "stream": "stdout",
       "text": [
        "\n",
        "probe: probe(19).png\n",
        "probe: probe(32,42).png\n",
        "probe: probe(16,17,26).png"
       ]
      },
      {
       "output_type": "stream",
       "stream": "stdout",
       "text": [
        "\n",
        "probe: probe(42,43).png\n",
        "probe: probe(41,33).png\n",
        "probe: probe(36,37).png"
       ]
      },
      {
       "output_type": "stream",
       "stream": "stdout",
       "text": [
        "\n",
        "probe: probe(4,13,5,14).png\n",
        "probe: probe(22,31,32).png\n",
        "probe: probe(1,10,2).png"
       ]
      },
      {
       "output_type": "stream",
       "stream": "stdout",
       "text": [
        "\n",
        "probe: probe(10,2).png\n",
        "probe: probe(9,18).png\n",
        "probe: probe(24,33,34).png"
       ]
      },
      {
       "output_type": "stream",
       "stream": "stdout",
       "text": [
        "\n",
        "probe: probe(7,16,8).png\n",
        "probe: probe(33,42,34).png\n",
        "probe: probe(7,16,8,17).png"
       ]
      },
      {
       "output_type": "stream",
       "stream": "stdout",
       "text": [
        "\n",
        "probe: probe(28).png\n",
        "probe: probe(11,12,21).png\n",
        "probe: probe(3).png"
       ]
      },
      {
       "output_type": "stream",
       "stream": "stdout",
       "text": [
        "\n",
        "probe: probe(4,13).png\n",
        "probe: probe(5,6).png\n",
        "probe: probe(21,31).png"
       ]
      },
      {
       "output_type": "stream",
       "stream": "stdout",
       "text": [
        "\n",
        "probe: probe(24,34).png\n",
        "probe: probe(31,23,32).png\n",
        "probe: probe(25,35).png"
       ]
      },
      {
       "output_type": "stream",
       "stream": "stdout",
       "text": [
        "\n",
        "probe: probe(6,15).png\n",
        "probe: probe(20,12,21).png\n",
        "probe: probe(18,27,19,28).png"
       ]
      },
      {
       "output_type": "stream",
       "stream": "stdout",
       "text": [
        "\n",
        "probe: probe(41,42).png\n",
        "probe: probe(32,41).png\n",
        "probe: probe(37).png"
       ]
      },
      {
       "output_type": "stream",
       "stream": "stdout",
       "text": [
        "\n",
        "probe: probe(34,44).png\n",
        "probe: probe(15,24,16).png\n",
        "probe: probe(12).png"
       ]
      },
      {
       "output_type": "stream",
       "stream": "stdout",
       "text": [
        "\n",
        "probe: probe(27).png\n",
        "probe: probe(43,44).png\n",
        "probe: probe(15,16,25).png"
       ]
      },
      {
       "output_type": "stream",
       "stream": "stdout",
       "text": [
        "\n",
        "probe: probe(1,10,2,11).png\n",
        "probe: probe(34,35,44).png\n",
        "probe: probe(13,5,14).png"
       ]
      },
      {
       "output_type": "stream",
       "stream": "stdout",
       "text": [
        "\n",
        "probe: probe(15,24).png\n",
        "probe: probe(10,2,11).png\n",
        "probe: probe(24,16).png"
       ]
      },
      {
       "output_type": "stream",
       "stream": "stdout",
       "text": [
        "\n",
        "probe: probe(13,5).png\n",
        "probe: probe(33,42,43).png\n",
        "probe: probe(32,33,42).png"
       ]
      },
      {
       "output_type": "stream",
       "stream": "stdout",
       "text": [
        "\n",
        "probe: probe(28,37,29,38).png\n",
        "probe: probe(0,9).png\n",
        "probe: probe(3,12,13).png"
       ]
      },
      {
       "output_type": "stream",
       "stream": "stdout",
       "text": [
        "\n",
        "probe: probe(2,11,12).png\n",
        "probe: probe(3,4).png\n",
        "probe: probe(9,1,10).png"
       ]
      },
      {
       "output_type": "stream",
       "stream": "stdout",
       "text": [
        "\n",
        "probe: probe(21).png\n",
        "probe: probe(12,21,13).png\n",
        "probe: probe(30,39,40).png"
       ]
      },
      {
       "output_type": "stream",
       "stream": "stdout",
       "text": [
        "\n",
        "probe: probe(7).png\n",
        "probe: probe(0,9,10).png\n",
        "probe: probe(10,19,11,20).png"
       ]
      },
      {
       "output_type": "stream",
       "stream": "stdout",
       "text": [
        "\n",
        "probe: probe(26,35).png\n",
        "probe: probe(23,32,24).png\n",
        "probe: probe(30,22).png"
       ]
      },
      {
       "output_type": "stream",
       "stream": "stdout",
       "text": [
        "\n",
        "probe: probe(20,29).png\n",
        "probe: probe(23,32).png\n",
        "probe: probe(31,23).png"
       ]
      },
      {
       "output_type": "stream",
       "stream": "stdout",
       "text": [
        "\n",
        "probe: probe(27,28,37).png\n",
        "probe: probe(10,11,20).png\n",
        "probe: probe(25,34,26,35).png"
       ]
      },
      {
       "output_type": "stream",
       "stream": "stdout",
       "text": [
        "\n",
        "probe: probe(22,31).png\n",
        "probe: probe(21,13).png\n",
        "probe: probe(21,13,22).png"
       ]
      },
      {
       "output_type": "stream",
       "stream": "stdout",
       "text": [
        "\n",
        "probe: probe(22,23,32).png\n",
        "probe: probe(30,22,31).png\n",
        "probe: probe(31,32).png"
       ]
      },
      {
       "output_type": "stream",
       "stream": "stdout",
       "text": [
        "\n",
        "probe: probe(7,16).png\n",
        "probe: probe(30).png\n",
        "probe: probe(21,30,22,31).png"
       ]
      },
      {
       "output_type": "stream",
       "stream": "stdout",
       "text": [
        "\n",
        "probe: probe(29,30).png\n",
        "probe: probe(5).png\n",
        "probe: probe(20,29,21).png"
       ]
      },
      {
       "output_type": "stream",
       "stream": "stdout",
       "text": [
        "\n",
        "probe: probe(12,21).png\n",
        "probe: probe(14,23,15,24).png\n",
        "probe: probe(37,29,38).png"
       ]
      },
      {
       "output_type": "stream",
       "stream": "stdout",
       "text": [
        "\n",
        "probe: probe(20,21,30).png\n",
        "probe: probe(3,13).png\n",
        "probe: probe(2,11,3,12).png"
       ]
      },
      {
       "output_type": "stream",
       "stream": "stdout",
       "text": [
        "\n",
        "probe: probe(7,17).png\n",
        "probe: probe(4,14).png\n",
        "probe: probe(14,24).png"
       ]
      },
      {
       "output_type": "stream",
       "stream": "stdout",
       "text": [
        "\n",
        "probe: probe(27,36,28).png\n",
        "probe: probe(5,15).png"
       ]
      },
      {
       "output_type": "stream",
       "stream": "stdout",
       "text": [
        "\n",
        "probe: probe(23,24,33).png\n",
        "probe: probe(25,34).png\n",
        "probe: probe(19,20).png"
       ]
      },
      {
       "output_type": "stream",
       "stream": "stdout",
       "text": [
        "\n",
        "probe: probe(14).png\n",
        "probe: probe(18,10,19).png\n",
        "probe: probe(31,41).png"
       ]
      },
      {
       "output_type": "stream",
       "stream": "stdout",
       "text": [
        "\n",
        "probe: probe(21,22).png\n",
        "probe: probe(29,38,30).png"
       ]
      },
      {
       "output_type": "stream",
       "stream": "stdout",
       "text": [
        "\n",
        "probe: probe(23,15,24).png\n",
        "probe: probe(15,16).png\n",
        "probe: probe(15,24,16,25).png"
       ]
      },
      {
       "output_type": "stream",
       "stream": "stdout",
       "text": [
        "\n",
        "probe: probe(13,22,14,23).png\n",
        "probe: probe(32).png\n",
        "probe: probe(23).png"
       ]
      },
      {
       "output_type": "stream",
       "stream": "stdout",
       "text": [
        "\n",
        "probe: probe(0,10).png\n",
        "probe: probe(24,25,34).png\n",
        "probe: probe(1,11).png"
       ]
      },
      {
       "output_type": "stream",
       "stream": "stdout",
       "text": [
        "\n",
        "probe: probe(32,41,33,42).png\n",
        "probe: probe(6,7).png\n",
        "probe: probe(15,24,25).png"
       ]
      },
      {
       "output_type": "stream",
       "stream": "stdout",
       "text": [
        "\n",
        "probe: probe(19,29).png\n",
        "probe: probe(32,41,42).png\n",
        "probe: probe(20,30).png"
       ]
      },
      {
       "output_type": "stream",
       "stream": "stdout",
       "text": [
        "\n",
        "probe: probe(41).png\n",
        "probe: probe(5,14,6,15).png\n",
        "probe: probe(16).png"
       ]
      },
      {
       "output_type": "stream",
       "stream": "stdout",
       "text": [
        "\n",
        "probe: probe(6,15,16).png\n",
        "probe: probe(33,34,43).png\n",
        "probe: probe(16,25).png"
       ]
      },
      {
       "output_type": "stream",
       "stream": "stdout",
       "text": [
        "\n",
        "probe: probe(29,38,30,39).png\n",
        "probe: probe(2,3,12).png\n",
        "probe: probe(3,12,4,13).png"
       ]
      },
      {
       "output_type": "stream",
       "stream": "stdout",
       "text": [
        "\n",
        "probe: probe(32,24,33).png\n",
        "probe: probe(33,25).png\n",
        "probe: probe(31,40,32).png"
       ]
      },
      {
       "output_type": "stream",
       "stream": "stdout",
       "text": [
        "\n",
        "probe: probe(37,38).png\n",
        "probe: probe(13,22,14).png\n",
        "probe: probe(31,32,41).png"
       ]
      },
      {
       "output_type": "stream",
       "stream": "stdout",
       "text": [
        "\n",
        "probe: probe(1,10,11).png\n",
        "probe: probe(0,1,10).png\n",
        "probe: probe(34,26,35).png"
       ]
      },
      {
       "output_type": "stream",
       "stream": "stdout",
       "text": [
        "\n",
        "probe: probe(0).png\n",
        "probe: probe(14,15).png\n",
        "probe: probe(11,21).png"
       ]
      },
      {
       "output_type": "stream",
       "stream": "stdout",
       "text": [
        "\n",
        "probe: probe(12,22).png\n",
        "probe: probe(25).png\n",
        "probe: probe(0,1).png"
       ]
      },
      {
       "output_type": "stream",
       "stream": "stdout",
       "text": [
        "\n",
        "probe: probe(13,23).png\n",
        "probe: probe(3,12).png\n",
        "probe: probe(33,25,34).png"
       ]
      },
      {
       "output_type": "stream",
       "stream": "stdout",
       "text": [
        "\n",
        "probe: probe(9,18,10).png\n",
        "probe: probe(2,11).png\n",
        "probe: probe(9,10,19).png"
       ]
      },
      {
       "output_type": "stream",
       "stream": "stdout",
       "text": [
        "\n",
        "probe: probe(5,14).png\n",
        "probe: probe(22,31,23,32).png\n",
        "probe: probe(4,5,14).png"
       ]
      },
      {
       "output_type": "stream",
       "stream": "stdout",
       "text": [
        "\n",
        "probe: probe(7,8).png\n",
        "probe: probe(6,16).png\n",
        "probe: probe(30,31,40).png"
       ]
      },
      {
       "output_type": "stream",
       "stream": "stdout",
       "text": [
        "\n",
        "probe: probe(28,37).png\n",
        "probe: probe(22,23).png\n",
        "probe: probe(27,19,28).png"
       ]
      },
      {
       "output_type": "stream",
       "stream": "stdout",
       "text": [
        "\n",
        "probe: probe(27,36,37).png\n",
        "probe: probe(34).png\n",
        "probe: probe(21,22,31).png"
       ]
      },
      {
       "output_type": "stream",
       "stream": "stdout",
       "text": [
        "\n",
        "probe: probe(20,29,30).png\n",
        "probe: probe(9).png\n",
        "probe: probe(25,34,26).png"
       ]
      },
      {
       "output_type": "stream",
       "stream": "stdout",
       "text": [
        "\n",
        "probe: probe(12,13).png\n",
        "probe: probe(6,15,7).png\n",
        "probe: probe(28,38).png"
       ]
      },
      {
       "output_type": "stream",
       "stream": "stdout",
       "text": [
        "\n",
        "probe: probe(27,36,28,37).png\n",
        "probe: probe(43).png\n",
        "probe: probe(1,10).png"
       ]
      },
      {
       "output_type": "stream",
       "stream": "stdout",
       "text": [
        "\n",
        "probe: probe(18).png\n",
        "probe: probe(31,40,32,41).png"
       ]
      },
      {
       "output_type": "stream",
       "stream": "stdout",
       "text": [
        "\n",
        "probe: probe(16,17).png\n",
        "probe: probe(10,19,11).png\n",
        "probe: probe(19,28).png"
       ]
      },
      {
       "output_type": "stream",
       "stream": "stdout",
       "text": [
        "\n",
        "probe: probe(42,34,43).png\n",
        "probe: probe(44).png\n",
        "probe: probe(7,16,17).png"
       ]
      },
      {
       "output_type": "stream",
       "stream": "stdout",
       "text": [
        "\n",
        "probe: probe(29,21).png\n",
        "probe: probe(21,30).png\n",
        "probe: probe(10,19,20).png"
       ]
      },
      {
       "output_type": "stream",
       "stream": "stdout",
       "text": [
        "\n",
        "probe: probe(29,39).png\n",
        "probe: probe(16,26).png\n",
        "probe: probe(33,43).png"
       ]
      },
      {
       "output_type": "stream",
       "stream": "stdout",
       "text": [
        "\n",
        "probe: probe(23,24).png\n",
        "probe: probe(41,33,42).png\n",
        "probe: probe(12,4,13).png"
       ]
      },
      {
       "output_type": "stream",
       "stream": "stdout",
       "text": [
        "\n",
        "probe: probe(38,39).png\n",
        "probe: probe(2).png\n",
        "probe: probe(11,3).png"
       ]
      },
      {
       "output_type": "stream",
       "stream": "stdout",
       "text": [
        "\n",
        "probe: probe(22,32).png\n",
        "probe: probe(24,25).png\n",
        "probe: probe(12,4).png"
       ]
      },
      {
       "output_type": "stream",
       "stream": "stdout",
       "text": [
        "\n",
        "probe: probe(11,20).png\n",
        "probe: probe(10,20).png\n",
        "probe: probe(14,6,15).png"
       ]
      },
      {
       "output_type": "stream",
       "stream": "stdout",
       "text": [
        "\n",
        "probe: probe(16,25,17).png\n",
        "probe: probe(38,30,39).png\n",
        "probe: probe(13,22).png"
       ]
      },
      {
       "output_type": "stream",
       "stream": "stdout",
       "text": [
        "\n",
        "probe: probe(28,29).png\n",
        "probe: probe(18,27).png\n",
        "probe: probe(32,41,33).png"
       ]
      },
      {
       "output_type": "stream",
       "stream": "stdout",
       "text": [
        "\n",
        "probe: probe(4,13,5).png\n",
        "probe: probe(36).png\n",
        "probe: probe(39).png"
       ]
      },
      {
       "output_type": "stream",
       "stream": "stdout",
       "text": [
        "\n",
        "probe: probe(11).png\n",
        "probe: probe(31,40,41).png\n",
        "probe: probe(1,2,11).png"
       ]
      },
      {
       "output_type": "stream",
       "stream": "stdout",
       "text": [
        "\n",
        "probe: probe(21,30,22).png\n",
        "probe: probe(19,11).png\n",
        "probe: probe(32,33).png"
       ]
      },
      {
       "output_type": "stream",
       "stream": "stdout",
       "text": [
        "\n",
        "probe: probe(11,20,12).png\n",
        "probe: probe(18,27,19).png\n",
        "probe: probe(35,44).png"
       ]
      },
      {
       "output_type": "stream",
       "stream": "stdout",
       "text": [
        "\n",
        "probe: probe(7,8,17).png\n",
        "probe: probe(14,23).png\n",
        "probe: probe(11,12).png"
       ]
      },
      {
       "output_type": "stream",
       "stream": "stdout",
       "text": [
        "\n",
        "probe: probe(34,43).png\n",
        "probe: probe(31,40).png\n",
        "probe: probe(22,14).png"
       ]
      },
      {
       "output_type": "stream",
       "stream": "stdout",
       "text": [
        "\n",
        "probe: probe(11,20,12,21).png\n",
        "probe: probe(12,21,22).png\n",
        "probe: probe(23,15).png"
       ]
      },
      {
       "output_type": "stream",
       "stream": "stdout",
       "text": [
        "\n",
        "probe: probe(39,40).png\n",
        "probe: probe(23,32,33).png\n",
        "probe: probe(43,35,44).png"
       ]
      },
      {
       "output_type": "stream",
       "stream": "stdout",
       "text": [
        "\n",
        "probe: probe(40,32).png\n",
        "probe: probe(27,19).png\n",
        "probe: probe(28,20).png"
       ]
      },
      {
       "output_type": "stream",
       "stream": "stdout",
       "text": [
        "\n",
        "probe: probe(2,3).png\n",
        "probe: probe(20,12).png\n",
        "probe: probe(19,28,20).png"
       ]
      },
      {
       "output_type": "stream",
       "stream": "stdout",
       "text": [
        "\n",
        "probe: probe(19,20,29).png\n",
        "probe: probe(31).png\n",
        "probe: probe(12,21,13,22).png"
       ]
      },
      {
       "output_type": "stream",
       "stream": "stdout",
       "text": [
        "\n",
        "probe: probe(29).png\n",
        "probe: probe(16,8).png\n",
        "probe: probe(30,40).png"
       ]
      },
      {
       "output_type": "stream",
       "stream": "stdout",
       "text": [
        "\n",
        "probe: probe(4).png\n",
        "probe: probe(30,31).png\n",
        "probe: probe(17,26).png"
       ]
      },
      {
       "output_type": "stream",
       "stream": "stdout",
       "text": [
        "\n",
        "probe: probe(20).png\n",
        "probe: probe(42,34).png\n",
        "probe: probe(10,11).png"
       ]
      },
      {
       "output_type": "stream",
       "stream": "stdout",
       "text": [
        "\n",
        "probe: probe(9,1).png\n",
        "probe: probe(12,13,22).png\n",
        "probe: probe(34,43,35).png"
       ]
      },
      {
       "output_type": "stream",
       "stream": "stdout",
       "text": [
        "\n",
        "probe: probe(38).png\n",
        "probe: probe(6,7,16).png\n",
        "probe: probe(13).png"
       ]
      },
      {
       "output_type": "stream",
       "stream": "stdout",
       "text": [
        "\n",
        "probe: probe(37,29).png\n",
        "probe: probe(1,2).png\n",
        "probe: probe(36,28,37).png"
       ]
      },
      {
       "output_type": "stream",
       "stream": "stdout",
       "text": [
        "\n",
        "probe: probe(9,18,19).png\n",
        "probe: probe(9,18,10,19).png\n",
        "probe: probe(27,36).png"
       ]
      },
      {
       "output_type": "stream",
       "stream": "stdout",
       "text": [
        "\n",
        "probe: probe(34,43,35,44).png\n",
        "probe: probe(39,31).png\n",
        "probe: probe(29,38).png"
       ]
      },
      {
       "output_type": "stream",
       "stream": "stdout",
       "text": [
        "\n",
        "probe: probe(22).png\n",
        "probe: probe(39,31,40).png\n",
        "probe: probe(32,24).png"
       ]
      },
      {
       "output_type": "stream",
       "stream": "stdout",
       "text": [
        "\n",
        "probe: probe(14,15,24).png\n",
        "probe: probe(9,10).png\n",
        "probe: probe(19,28,20,29).png"
       ]
      },
      {
       "output_type": "stream",
       "stream": "stdout",
       "text": [
        "\n",
        "probe: probe(5,14,6).png\n",
        "probe: probe(11,3,12).png\n",
        "probe: probe(8,17).png"
       ]
      },
      {
       "output_type": "stream",
       "stream": "stdout",
       "text": [
        "\n",
        "probe: probe(5,6,15).png\n",
        "probe: probe(4,13,14).png\n",
        "probe: probe(40,32,41).png"
       ]
      },
      {
       "output_type": "stream",
       "stream": "stdout",
       "text": [
        "\n",
        "probe: probe(16,25,17,26).png\n",
        "probe: probe(36,28).png\n",
        "probe: probe(25,17).png"
       ]
      },
      {
       "output_type": "stream",
       "stream": "stdout",
       "text": [
        "\n",
        "probe: probe(13,14).png\n",
        "probe: probe(40).png\n",
        "probe: probe(38,30).png"
       ]
      },
      {
       "output_type": "stream",
       "stream": "stdout",
       "text": [
        "\n",
        "probe: probe(27,37).png\n",
        "probe: probe(24,33,25,34).png\n",
        "probe: probe(21,30,31).png"
       ]
      },
      {
       "output_type": "stream",
       "stream": "stdout",
       "text": [
        "\n",
        "probe: probe(33,42).png\n",
        "probe: probe(6).png\n",
        "probe: probe(13,22,23).png"
       ]
      },
      {
       "output_type": "stream",
       "stream": "stdout",
       "text": [
        "\n",
        "probe: probe(28,29,38).png\n",
        "probe: probe(25,26,35).png\n",
        "probe: probe(14,23,15).png"
       ]
      },
      {
       "output_type": "stream",
       "stream": "stdout",
       "text": [
        "\n"
       ]
      }
     ],
     "prompt_number": 16
    },
    {
     "cell_type": "code",
     "collapsed": false,
     "input": [],
     "language": "python",
     "metadata": {},
     "outputs": [],
     "prompt_number": 16
    }
   ],
   "metadata": {}
  }
 ]
}