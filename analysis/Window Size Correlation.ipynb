{
 "metadata": {
  "name": "Window Size Correlation"
 },
 "nbformat": 3,
 "nbformat_minor": 0,
 "worksheets": [
  {
   "cells": [
    {
     "cell_type": "code",
     "collapsed": false,
     "input": "import numpy as np\nfrom PIL import Image\nimport matplotlib.pyplot as plt\nimport csv\nfrom scipy.stats.mstats import pearsonr\n%pylab inline\n",
     "language": "python",
     "metadata": {},
     "outputs": [
      {
       "output_type": "stream",
       "stream": "stdout",
       "text": "Populating the interactive namespace from numpy and matplotlib\n"
      }
     ],
     "prompt_number": 65
    },
    {
     "cell_type": "code",
     "collapsed": false,
     "input": "log_file = open('/musc.repo/Data/katie/testpics5_data/katie_2014_Apr_11_1503.log', 'r')\nlog_data = log_file.readlines()\n\nprobe_images_path = '/musc.repo/Data/katie/testpics5_probes'\n\nprobe_image_size = (64,64)\n\nV = np.prod(probe_image_size)\n\novp = 29 #value of the \"ON\" pixels in the probe images -- had to find this by reading in the images\n\n##get corresponding keypresses\nkeyp_string = 'Keypress:'\nkeypress = []\nfor sublist in log_data:\n  if keyp_string in sublist:\n    sub_string = sublist[sublist.find('Keypress')+10]\n    if sub_string== '2' or sub_string== '1' or sub_string == '3' or sub_string == '4' or sub_string == '5':\n      keypress += sub_string\n",
     "language": "python",
     "metadata": {},
     "outputs": [],
     "prompt_number": 16
    },
    {
     "cell_type": "code",
     "collapsed": false,
     "input": "for i in range(len(keypress)):\n    keypress[i] = int(keypress[i])",
     "language": "python",
     "metadata": {},
     "outputs": [],
     "prompt_number": 21
    },
    {
     "cell_type": "code",
     "collapsed": false,
     "input": "with open('/musc.repo/Data/katie/testpics5_probes/testspictures5_003042_small.csv', 'rb') as csvfile:\n    image_probes= []\n    image_probes.append('/musc.repo/Data/katie/testpics5_probes/small/003042-9.png')\n    csvreader = csv.reader(csvfile, delimiter = ',')\n    for row in csvreader:\n        if row[0] != 'Stim':\n            image_probes.append(row[0])\n            \nwith open('/musc.repo/Data/katie/testpics5_probes/testspictures5_003042_medium.csv', 'rb') as csvfile:\n    image_probes.append('/musc.repo/Data/katie/testpics5_probes/medium/003042-90.png')\n    csvreader = csv.reader(csvfile, delimiter = ',')\n    for row in csvreader:\n        if row[0] != 'Stim':\n            image_probes.append(row[0])\n        \nwith open('/musc.repo/Data/katie/testpics5_probes/testspictures5_003042_large.csv', 'rb') as csvfile:\n    image_probes.append('/musc.repo/Data/katie/testpics5_probes/large/003042-819.png')\n    csvreader = csv.reader(csvfile, delimiter = ',')\n    for row in csvreader:\n        if row[0] != 'Stim':\n            image_probes.append(row[0])",
     "language": "python",
     "metadata": {},
     "outputs": [],
     "prompt_number": 31
    },
    {
     "cell_type": "code",
     "collapsed": false,
     "input": "small_correct = 0\nmedium_correct = 0\nlarge_correct = 0\ncorrect_answers = []\n\nfor i in range(len(image_probes)):\n    im = Image.open(image_probes[i])\n    mask = Image.open('/musc.repo/Data/katie/masks/003042.png')\n    pix_list = []\n    for x in range(500):\n        for y in range(500):\n            if im.getpixel((x,y)) == (0,0,255):\n                pix_list.append((x,y))\n    min_pix = min(pix_list)\n    max_pix = max(pix_list)\n    probe_area = mask.crop([min_pix[0], min_pix[1], max_pix[0], max_pix[1]])\n    objects = probe_area.getcolors()\n    correct_answers.append(len(objects))\n    if len(objects) == keypress[i] and i < 20:\n        small_correct += 1\n    if len(objects) == keypress[i] and 20 <= i < 200:\n        medium_correct += 1\n    if len(objects) == keypress[i] and i >= 200:\n        large_correct += 1\n",
     "language": "python",
     "metadata": {},
     "outputs": [],
     "prompt_number": 49
    },
    {
     "cell_type": "code",
     "collapsed": false,
     "input": "sm_keys = keypress[0:20]\nmd_keys = keypress[20:200]\nlg_keys = keypress[200:1839]\n\nsm_ans = correct_answers[0:20]\nmd_ans = correct_answers[20:200]\nlg_ans = correct_answers[200:1839]\n\nsm_corr = pearsonr(sm_keys, sm_ans)\nmd_corr = pearsonr(md_keys, md_ans)\nlg_corr = pearsonr(lg_keys, lg_ans)\n\nwindow_diam = [52,154,462]\ncorrs = [sm_corr[0], md_corr[0], lg_corr[0]]\n\nplt.plot(window_diam, corrs)\nplt.xlim(0,500)\nplt.ylim(-1,1)\nplt.xlabel('Window Diameter (pix)')\nplt.ylabel('Correlation')\nplt.axhline(color = 'black')\nplt.show()",
     "language": "python",
     "metadata": {},
     "outputs": [
      {
       "metadata": {},
       "output_type": "display_data",
       "png": "[encoded data removed]",
       "text": "<matplotlib.figure.Figure at 0x4a2a310>"
      }
     ],
     "prompt_number": 69
    },
    {
     "cell_type": "code",
     "collapsed": false,
     "input": "print 'small window percent correct = ', small_correct/float(len(sm_keys))*100\nprint 'medium window percent correct = ', medium_correct/float(len(md_keys))*100\nprint 'large window percent correct = ', large_correct/float(len(lg_keys))*100\n",
     "language": "python",
     "metadata": {},
     "outputs": [
      {
       "output_type": "stream",
       "stream": "stdout",
       "text": "small window percent correct =  70.0\nmedium window percent correct =  51.6666666667\nlarge window percent correct =  53.0201342282\n"
      }
     ],
     "prompt_number": 71
    },
    {
     "cell_type": "code",
     "collapsed": false,
     "input": "",
     "language": "python",
     "metadata": {},
     "outputs": []
    }
   ],
   "metadata": {}
  }
 ]
}