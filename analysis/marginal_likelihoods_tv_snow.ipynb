{
 "metadata": {
  "name": "",
  "signature": "sha256:97b184f7d8780d8a8632ef1ebf9e20ed1d4cb90fade7c8db25bb34bd30814cba"
 },
 "nbformat": 3,
 "nbformat_minor": 0,
 "worksheets": [
  {
   "cells": [
    {
     "cell_type": "code",
     "collapsed": false,
     "input": [
      "import pandas as pd\n",
      "import pickle\n",
      "import numpy as np\n",
      "from matplotlib import pyplot as plt\n",
      "from imagery_psychophysics.src.stirling_maps import stirling_num_of_2nd_kind as sn\n",
      "from scipy.misc import comb\n",
      "from math import factorial as bang\n",
      "from imagery_psychophysics.src.model_z import noise_grid\n",
      "%matplotlib inline"
     ],
     "language": "python",
     "metadata": {},
     "outputs": [
      {
       "output_type": "stream",
       "stream": "stderr",
       "text": [
        "/home/tnaselar/anaconda/lib/python2.7/site-packages/pytz/__init__.py:29: UserWarning: Module argparse was already imported from /home/tnaselar/anaconda/lib/python2.7/argparse.pyc, but /home/tnaselar/anaconda/lib/python2.7/site-packages is being added to sys.path\n",
        "  from pkg_resources import resource_stream\n"
       ]
      }
     ],
     "prompt_number": 1
    },
    {
     "cell_type": "heading",
     "level": 4,
     "metadata": {},
     "source": [
      "Import response data and probes"
     ]
    },
    {
     "cell_type": "code",
     "collapsed": false,
     "input": [
      "response_data = pd.load('/musc.repo/Data/tnaselar/imagery_psychophysics/poly_probes/data/RL_ZS_KL.pkl')\n",
      "easy_probes = pickle.load(open('/musc.repo/Data/tnaselar/imagery_psychophysics/poly_probes/probes/easy_image_img__probe_dict.pkl','rb'))\n",
      "hard_probes = pickle.load(open('/musc.repo/Data/tnaselar/imagery_psychophysics/poly_probes/probes/hard_image_img__probe_dict.pkl', 'rb'))\n",
      "probe_dict = {}\n",
      "easy_probe_size = {}\n",
      "for idx,pp in zip(easy_probes['index'],easy_probes['mask']):\n",
      "    key = '_'.join(map(str,idx))\n",
      "    easy_probe_size[key] = np.sum(pp>0)\n",
      "probe_dict['easy'] = easy_probe_size\n",
      "\n",
      "hard_probe_size = {}\n",
      "for idx,pp in zip(hard_probes['index'],hard_probes['mask']):\n",
      "    key = '_'.join(map(str,idx))\n",
      "    hard_probe_size[key] = np.sum(pp>0)\n",
      "probe_dict['hard'] = hard_probe_size"
     ],
     "language": "python",
     "metadata": {},
     "outputs": [
      {
       "output_type": "stream",
       "stream": "stderr",
       "text": [
        "/home/tnaselar/anaconda/lib/python2.7/site-packages/pandas/core/common.py:2769: FutureWarning: load is deprecated, use read_pickle\n",
        "  warnings.warn(\"load is deprecated, use read_pickle\", FutureWarning)\n"
       ]
      }
     ],
     "prompt_number": 2
    },
    {
     "cell_type": "code",
     "collapsed": false,
     "input": [
      "# test = pickle.load(open('/musc.repo/Data/tnaselar/imagery_psychophysics/poly_probes/probes/hard_image_pcp__probe_dict.pkl', 'rb'))\n",
      "# idx = np.nonzero(map(lambda x: x==[40,41], hard_probes['index']))[0][0]\n",
      "# plt.subplot(1,2,1)\n",
      "# plt.imshow(hard_probes['mask'][idx])\n",
      "# plt.subplot(1,2,2)\n",
      "# plt.imshow(test['mask'][idx])"
     ],
     "language": "python",
     "metadata": {},
     "outputs": [],
     "prompt_number": 3
    },
    {
     "cell_type": "heading",
     "level": 4,
     "metadata": {},
     "source": [
      "Precompute stirling numbers, they take too long"
     ]
    },
    {
     "cell_type": "code",
     "collapsed": false,
     "input": [
      "# knot_range = range(0, 17)\n",
      "# object_range = range(0, 17)\n",
      "# stir_nums = np.zeros((len(knot_range),len(object_range)))\n",
      "# for ii,kk in enumerate(knot_range):\n",
      "#     for jj,oo in enumerate(object_range):\n",
      "#         stir_nums[ii,jj]=sn(kk,oo)\n",
      "# np.save('/musc.repo/scratch/stir_nums', stir_nums)"
     ],
     "language": "python",
     "metadata": {},
     "outputs": [],
     "prompt_number": 4
    },
    {
     "cell_type": "heading",
     "level": 4,
     "metadata": {},
     "source": [
      "Likelihood"
     ]
    },
    {
     "cell_type": "code",
     "collapsed": false,
     "input": [
      "def counts(r,d,n):\n",
      "    return np.array([comb(d,m)*comb(n-d, r-m) for m in range(min(r,d)+1)])\n",
      "\n",
      "def lkhd(r,d,n,p_on,p_off):\n",
      "    if r is None:\n",
      "        Warning('Your response is NoneType. Returning lkhd=1')\n",
      "        return 1.0\n",
      "    probs = np.array([(1-p_on)**(d-m) * (p_on)**m * (p_off)**(r-m) * (1-p_off)**(n-d-r+m) for m in range(min(r,d)+1)])\n",
      "    return counts(r,d,n).dot(probs)\n"
     ],
     "language": "python",
     "metadata": {},
     "outputs": [],
     "prompt_number": 5
    },
    {
     "cell_type": "heading",
     "level": 4,
     "metadata": {},
     "source": [
      "Counting"
     ]
    },
    {
     "cell_type": "code",
     "collapsed": false,
     "input": [
      "\n",
      "def count_knots(size_of_Z, resolution):\n",
      "    return int(np.ceil(size_of_Z*resolution))\n",
      "\n",
      "def count_maps(size_of_Z, num_objects, resolution, capacity):\n",
      "    b = count_knots(size_of_Z, resolution)\n",
      "    return comb(size_of_Z, b)*sn(b,num_objects)*comb(capacity, num_objects)*bang(num_objects)\n",
      "    \n",
      "def count_leftovers(size_of_Z1,num_1, num_2, num_12, resolution, capacity):\n",
      "    b1 = count_knots(size_of_Z1, resolution)\n",
      "    return comb(size_of_Z1, b1)*sn(b1, num_1)*comb(num_2, (num_1+num_2)-num_12)*comb(capacity-num_2, num_12-num_2)*bang(num_1)\n",
      "                      \n"
     ],
     "language": "python",
     "metadata": {},
     "outputs": [],
     "prompt_number": 6
    },
    {
     "cell_type": "heading",
     "level": 4,
     "metadata": {},
     "source": [
      "Message passing"
     ]
    },
    {
     "cell_type": "code",
     "collapsed": false,
     "input": [
      "def message(size_Z1, size_Z2, r1, r12, p_on, p_off, res, cap, last_message):\n",
      "    lim_1 = min(count_knots(size_Z1, res), cap)\n",
      "    d1_range = np.linspace(1,lim_1,lim_1, dtype='int')\n",
      "    Q = np.sum(map(lambda x: count_maps(size_Z1, x, res, cap), d1_range))**-1\n",
      "    lim_2 = min(count_knots(size_Z2, res), cap)\n",
      "    if lim_2 < 1:\n",
      "        return np.sum(map(lambda x,ii: count_maps(size_Z1,x,res,cap) \\\n",
      "                                       *lkhd(r1,x,cap,p_on,p_off) \\\n",
      "                                       *Q \\\n",
      "                                       *last_message[ii],\n",
      "                           d1_range,range(len(last_message))))\n",
      "    else:\n",
      "        f = np.zeros(lim_2)   \n",
      "        if len(d1_range) != len(last_message):\n",
      "            raise Exception('your last message does not match the current variable')\n",
      "        for ii,d2 in enumerate(np.linspace(1,lim_2,lim_2, dtype='int')):\n",
      "            for jj,d1 in enumerate(d1_range):        \n",
      "                for d12 in np.linspace(1,cap,cap,dtype='int'):\n",
      "                    f[ii] += count_leftovers(size_Z1,d1, d2, d12, res, cap) \\\n",
      "                             *lkhd(r1,d1,cap,p_on,p_off) \\\n",
      "                             *lkhd(r12,d12,cap,p_on,p_off) \\\n",
      "                             *Q \\\n",
      "                             *last_message[jj]\n",
      "        return f\n",
      "                            "
     ],
     "language": "python",
     "metadata": {},
     "outputs": [],
     "prompt_number": 7
    },
    {
     "cell_type": "code",
     "collapsed": false,
     "input": [
      "##test... looks okay...\n",
      "# cap = 6\n",
      "# res = .1\n",
      "# size_Z1 = 40\n",
      "# size_Z2 = 43\n",
      "\n",
      "# r1 = 1\n",
      "# r12 = 2\n",
      "# p_on = .7\n",
      "# p_off = .4\n",
      "\n",
      "# last_message = np.ones(min(count_knots(size_Z1, res), cap))\n",
      "# print message(size_Z1, size_Z2, r1, r12, p_on, p_off, res, cap, last_message)"
     ],
     "language": "python",
     "metadata": {},
     "outputs": [],
     "prompt_number": 8
    },
    {
     "cell_type": "heading",
     "level": 4,
     "metadata": {},
     "source": [
      "Pull data"
     ]
    },
    {
     "cell_type": "code",
     "collapsed": false,
     "input": [
      "def pull_data(name,grp):\n",
      "    mx = max(grp.probe.apply(lambda x: int(x.split('_')[0])))\n",
      "    data_list = []\n",
      "    image = name[0]\n",
      "    for ii in range(mx+1):\n",
      "        if ii == mx:\n",
      "            probe_1 = str(ii)\n",
      "            r1 = int(grp[grp['probe']== probe_1].response)\n",
      "            r12 = None\n",
      "            size_Z1 = probe_dict[image][probe_1]\n",
      "            size_Z2 = 0\n",
      "            probe_12 = None\n",
      "            probe_2 = None\n",
      "        else:\n",
      "            probe_1 = str(ii)\n",
      "            probe_2 = str(ii+1)\n",
      "            probe_12 = str(ii)+'_'+str(ii+1)\n",
      "            r1 = int(grp[grp['probe']== probe_1].response)\n",
      "            r12 = int(grp[grp['probe']== probe_12].response)\n",
      "            size_Z1 = probe_dict[image][probe_1]\n",
      "            size_Z2 = probe_dict[image][probe_2]\n",
      "        \n",
      "\n",
      "        data_list += [(r1, r12, size_Z1, size_Z2, probe_1, probe_2, probe_12)]\n",
      "    return data_list\n",
      "  "
     ],
     "language": "python",
     "metadata": {},
     "outputs": [],
     "prompt_number": 9
    },
    {
     "cell_type": "code",
     "collapsed": false,
     "input": [
      "exp_agg = response_data.groupby(by=['image','state','subj'])"
     ],
     "language": "python",
     "metadata": {},
     "outputs": [],
     "prompt_number": 10
    },
    {
     "cell_type": "code",
     "collapsed": false,
     "input": [
      "capacity = [4,5,6,7]\n",
      "resolution = [.00015, .0002, .00025, .0003, .00035]\n",
      "prob_on,prob_off = noise_grid(5,5)\n",
      "\n",
      "marge = {}\n",
      "marge['capacity'] = []\n",
      "marge['resolution'] = []\n",
      "marge['p_on'] = []\n",
      "marge['p_off'] = []\n",
      "marge['marginal'] = []\n",
      "marge['image'] = []\n",
      "marge['subj'] = []\n",
      "marge['state'] = []\n",
      "\n",
      "for cap in capacity:\n",
      "    for res in resolution:\n",
      "        for p_on,p_off in zip(prob_on,prob_off):\n",
      "            print cap,res,p_on,p_off\n",
      "            for name,grp in exp_agg:\n",
      "                print name\n",
      "                data = pull_data(name,grp)\n",
      "                _,_,size_Z1,_,_,_,_ = data[0]\n",
      "                last_message = np.ones(min(count_knots(size_Z1, res), cap))\n",
      "                for ii in range(len(data)):\n",
      "                    r1, r12, size_Z1, size_Z2,_,_,_ = data[ii]\n",
      "                    last_message = message(size_Z1,size_Z2,r1,r12,p_on,p_off,res,cap,last_message)\n",
      "                print last_message\n",
      "                marge['capacity'] += [cap]\n",
      "                marge['resolution'] += [res]\n",
      "                marge['p_on'] += [p_on]\n",
      "                marge['p_off'] += [p_off]\n",
      "                marge['marginal'] += [last_message]\n",
      "                marge['image'] += [name[0]]\n",
      "                marge['state'] += [name[1]]\n",
      "                marge['subj'] += [name[2]]\n",
      "                                      \n",
      "\n",
      "                \n",
      "                "
     ],
     "language": "python",
     "metadata": {},
     "outputs": [
      {
       "output_type": "stream",
       "stream": "stdout",
       "text": [
        "4 0.00015 1e-06 0.0\n",
        "('easy', 'img', 'KL')\n",
        "0.0"
       ]
      },
      {
       "output_type": "stream",
       "stream": "stdout",
       "text": [
        "\n",
        "('easy', 'img', 'RL')\n",
        "0.0"
       ]
      },
      {
       "output_type": "stream",
       "stream": "stdout",
       "text": [
        "\n",
        "('easy', 'img', 'ZS')\n",
        "0.0"
       ]
      },
      {
       "output_type": "stream",
       "stream": "stdout",
       "text": [
        "\n",
        "('easy', 'pcp', 'KL')\n",
        "0.0"
       ]
      },
      {
       "output_type": "stream",
       "stream": "stdout",
       "text": [
        "\n",
        "('easy', 'pcp', 'RL')\n",
        "0.0"
       ]
      },
      {
       "output_type": "stream",
       "stream": "stdout",
       "text": [
        "\n",
        "('easy', 'pcp', 'ZS')\n",
        "0.0"
       ]
      },
      {
       "output_type": "stream",
       "stream": "stdout",
       "text": [
        "\n",
        "('hard', 'img', 'KL')\n",
        "0.0"
       ]
      },
      {
       "output_type": "stream",
       "stream": "stdout",
       "text": [
        "\n",
        "('hard', 'img', 'RL')\n",
        "0.0"
       ]
      },
      {
       "output_type": "stream",
       "stream": "stdout",
       "text": [
        "\n",
        "('hard', 'img', 'ZS')\n",
        "0.0"
       ]
      },
      {
       "output_type": "stream",
       "stream": "stdout",
       "text": [
        "\n",
        "('hard', 'pcp', 'KL')\n",
        "0.0"
       ]
      },
      {
       "output_type": "stream",
       "stream": "stdout",
       "text": [
        "\n",
        "('hard', 'pcp', 'RL')\n",
        "0.0"
       ]
      },
      {
       "output_type": "stream",
       "stream": "stdout",
       "text": [
        "\n",
        "('hard', 'pcp', 'ZS')\n",
        "0.0"
       ]
      },
      {
       "output_type": "stream",
       "stream": "stdout",
       "text": [
        "\n",
        "4 0.00015 0.25000075 0.0\n",
        "('easy', 'img', 'KL')\n",
        "0.0"
       ]
      },
      {
       "output_type": "stream",
       "stream": "stdout",
       "text": [
        "\n",
        "('easy', 'img', 'RL')\n",
        "0.0"
       ]
      },
      {
       "output_type": "stream",
       "stream": "stdout",
       "text": [
        "\n",
        "('easy', 'img', 'ZS')\n",
        "0.0"
       ]
      },
      {
       "output_type": "stream",
       "stream": "stdout",
       "text": [
        "\n",
        "('easy', 'pcp', 'KL')\n",
        "0.0"
       ]
      },
      {
       "output_type": "stream",
       "stream": "stdout",
       "text": [
        "\n",
        "('easy', 'pcp', 'RL')\n",
        "0.0"
       ]
      },
      {
       "output_type": "stream",
       "stream": "stdout",
       "text": [
        "\n",
        "('easy', 'pcp', 'ZS')\n",
        "0.0"
       ]
      },
      {
       "output_type": "stream",
       "stream": "stdout",
       "text": [
        "\n",
        "('hard', 'img', 'KL')\n",
        "0.0"
       ]
      },
      {
       "output_type": "stream",
       "stream": "stdout",
       "text": [
        "\n",
        "('hard', 'img', 'RL')\n",
        "0.0"
       ]
      },
      {
       "output_type": "stream",
       "stream": "stdout",
       "text": [
        "\n",
        "('hard', 'img', 'ZS')\n",
        "0.0"
       ]
      },
      {
       "output_type": "stream",
       "stream": "stdout",
       "text": [
        "\n",
        "('hard', 'pcp', 'KL')\n",
        "0.0"
       ]
      },
      {
       "output_type": "stream",
       "stream": "stdout",
       "text": [
        "\n",
        "('hard', 'pcp', 'RL')\n",
        "0.0"
       ]
      },
      {
       "output_type": "stream",
       "stream": "stdout",
       "text": [
        "\n",
        "('hard', 'pcp', 'ZS')\n",
        "0.0"
       ]
      },
      {
       "output_type": "stream",
       "stream": "stdout",
       "text": [
        "\n",
        "4 0.00015 0.25000075 0.24999975\n",
        "('easy', 'img', 'KL')\n",
        "1.6086461389e-85"
       ]
      },
      {
       "output_type": "stream",
       "stream": "stdout",
       "text": [
        "\n",
        "('easy', 'img', 'RL')\n",
        "2.88178384176e-113"
       ]
      },
      {
       "output_type": "stream",
       "stream": "stdout",
       "text": [
        "\n",
        "('easy', 'img', 'ZS')\n",
        "2.73565496794e-78"
       ]
      },
      {
       "output_type": "stream",
       "stream": "stdout",
       "text": [
        "\n",
        "('easy', 'pcp', 'KL')\n",
        "2.43168783353e-78"
       ]
      },
      {
       "output_type": "stream",
       "stream": "stdout",
       "text": [
        "\n",
        "('easy', 'pcp', 'RL')\n",
        "2.91624827147e-94"
       ]
      },
      {
       "output_type": "stream",
       "stream": "stdout",
       "text": [
        "\n",
        "('easy', 'pcp', 'ZS')\n",
        "7.69400459177e-79"
       ]
      },
      {
       "output_type": "stream",
       "stream": "stdout",
       "text": [
        "\n",
        "('hard', 'img', 'KL')\n",
        "0.0"
       ]
      },
      {
       "output_type": "stream",
       "stream": "stdout",
       "text": [
        "\n",
        "('hard', 'img', 'RL')\n",
        "5.61573719063e-114"
       ]
      },
      {
       "output_type": "stream",
       "stream": "stdout",
       "text": [
        "\n",
        "('hard', 'img', 'ZS')\n",
        "2.5800933826e-88"
       ]
      },
      {
       "output_type": "stream",
       "stream": "stdout",
       "text": [
        "\n",
        "('hard', 'pcp', 'KL')\n",
        "0.0"
       ]
      },
      {
       "output_type": "stream",
       "stream": "stdout",
       "text": [
        "\n",
        "('hard', 'pcp', 'RL')\n",
        "0.0"
       ]
      },
      {
       "output_type": "stream",
       "stream": "stdout",
       "text": [
        "\n",
        "('hard', 'pcp', 'ZS')\n",
        "0.0"
       ]
      },
      {
       "output_type": "stream",
       "stream": "stdout",
       "text": [
        "\n",
        "4 0.00015 0.5000005 0.0\n",
        "('easy', 'img', 'KL')\n",
        "0.0"
       ]
      },
      {
       "output_type": "stream",
       "stream": "stdout",
       "text": [
        "\n",
        "('easy', 'img', 'RL')\n",
        "0.0"
       ]
      },
      {
       "output_type": "stream",
       "stream": "stdout",
       "text": [
        "\n",
        "('easy', 'img', 'ZS')\n",
        "0.0"
       ]
      },
      {
       "output_type": "stream",
       "stream": "stdout",
       "text": [
        "\n",
        "('easy', 'pcp', 'KL')\n",
        "0.0"
       ]
      },
      {
       "output_type": "stream",
       "stream": "stdout",
       "text": [
        "\n",
        "('easy', 'pcp', 'RL')\n",
        "0.0"
       ]
      },
      {
       "output_type": "stream",
       "stream": "stdout",
       "text": [
        "\n",
        "('easy', 'pcp', 'ZS')\n",
        "0.0"
       ]
      },
      {
       "output_type": "stream",
       "stream": "stdout",
       "text": [
        "\n",
        "('hard', 'img', 'KL')\n",
        "0.0"
       ]
      },
      {
       "output_type": "stream",
       "stream": "stdout",
       "text": [
        "\n",
        "('hard', 'img', 'RL')\n",
        "0.0"
       ]
      },
      {
       "output_type": "stream",
       "stream": "stdout",
       "text": [
        "\n",
        "('hard', 'img', 'ZS')\n",
        "0.0"
       ]
      },
      {
       "output_type": "stream",
       "stream": "stdout",
       "text": [
        "\n",
        "('hard', 'pcp', 'KL')\n",
        "0.0"
       ]
      },
      {
       "output_type": "stream",
       "stream": "stdout",
       "text": [
        "\n",
        "('hard', 'pcp', 'RL')\n",
        "0.0"
       ]
      },
      {
       "output_type": "stream",
       "stream": "stdout",
       "text": [
        "\n",
        "('hard', 'pcp', 'ZS')\n",
        "0.0"
       ]
      },
      {
       "output_type": "stream",
       "stream": "stdout",
       "text": [
        "\n",
        "4 0.00015 0.5000005 0.24999975\n",
        "('easy', 'img', 'KL')\n",
        "2.08536086019e-67"
       ]
      },
      {
       "output_type": "stream",
       "stream": "stdout",
       "text": [
        "\n",
        "('easy', 'img', 'RL')\n",
        "6.01266701669e-86"
       ]
      },
      {
       "output_type": "stream",
       "stream": "stdout",
       "text": [
        "\n",
        "('easy', 'img', 'ZS')\n",
        "4.43487907789e-63"
       ]
      },
      {
       "output_type": "stream",
       "stream": "stdout",
       "text": [
        "\n",
        "('easy', 'pcp', 'KL')\n",
        "1.63672828108e-63"
       ]
      },
      {
       "output_type": "stream",
       "stream": "stdout",
       "text": [
        "\n",
        "('easy', 'pcp', 'RL')\n",
        "6.8840875557e-75"
       ]
      },
      {
       "output_type": "stream",
       "stream": "stdout",
       "text": [
        "\n",
        "('easy', 'pcp', 'ZS')\n",
        "1.53435618669e-63"
       ]
      },
      {
       "output_type": "stream",
       "stream": "stdout",
       "text": [
        "\n",
        "('hard', 'img', 'KL')\n",
        "0.0"
       ]
      },
      {
       "output_type": "stream",
       "stream": "stdout",
       "text": [
        "\n",
        "('hard', 'img', 'RL')\n",
        "1.47274497882e-87"
       ]
      },
      {
       "output_type": "stream",
       "stream": "stdout",
       "text": [
        "\n",
        "('hard', 'img', 'ZS')\n",
        "7.84850653112e-71"
       ]
      },
      {
       "output_type": "stream",
       "stream": "stdout",
       "text": [
        "\n",
        "('hard', 'pcp', 'KL')\n",
        "0.0"
       ]
      },
      {
       "output_type": "stream",
       "stream": "stdout",
       "text": [
        "\n",
        "('hard', 'pcp', 'RL')\n",
        "0.0"
       ]
      },
      {
       "output_type": "stream",
       "stream": "stdout",
       "text": [
        "\n",
        "('hard', 'pcp', 'ZS')\n",
        "0.0"
       ]
      },
      {
       "output_type": "stream",
       "stream": "stdout",
       "text": [
        "\n",
        "4 0.00015 0.5000005 0.4999995\n",
        "('easy', 'img', 'KL')\n",
        "8.3430813797e-64"
       ]
      },
      {
       "output_type": "stream",
       "stream": "stdout",
       "text": [
        "\n",
        "('easy', 'img', 'RL')\n",
        "1.32458591652e-69"
       ]
      },
      {
       "output_type": "stream",
       "stream": "stdout",
       "text": [
        "\n",
        "('easy', 'img', 'ZS')\n",
        "1.09868802682e-64"
       ]
      },
      {
       "output_type": "stream",
       "stream": "stdout",
       "text": [
        "\n",
        "('easy', 'pcp', 'KL')\n",
        "3.25536969325e-65"
       ]
      },
      {
       "output_type": "stream",
       "stream": "stdout",
       "text": [
        "\n",
        "('easy', 'pcp', 'RL')\n",
        "3.30776893963e-69"
       ]
      },
      {
       "output_type": "stream",
       "stream": "stdout",
       "text": [
        "\n",
        "('easy', 'pcp', 'ZS')\n",
        "8.34311683788e-64"
       ]
      },
      {
       "output_type": "stream",
       "stream": "stdout",
       "text": [
        "\n",
        "('hard', 'img', 'KL')\n",
        "0.0"
       ]
      },
      {
       "output_type": "stream",
       "stream": "stdout",
       "text": [
        "\n",
        "('hard', 'img', 'RL')\n",
        "7.74369562816e-70"
       ]
      },
      {
       "output_type": "stream",
       "stream": "stdout",
       "text": [
        "\n",
        "('hard', 'img', 'ZS')\n",
        "5.50678064122e-69"
       ]
      },
      {
       "output_type": "stream",
       "stream": "stdout",
       "text": [
        "\n",
        "('hard', 'pcp', 'KL')\n",
        "0.0"
       ]
      },
      {
       "output_type": "stream",
       "stream": "stdout",
       "text": [
        "\n",
        "('hard', 'pcp', 'RL')\n",
        "0.0"
       ]
      },
      {
       "output_type": "stream",
       "stream": "stdout",
       "text": [
        "\n",
        "('hard', 'pcp', 'ZS')\n",
        "0.0"
       ]
      },
      {
       "output_type": "stream",
       "stream": "stdout",
       "text": [
        "\n",
        "4 0.00015 0.75000025 0.0\n",
        "('easy', 'img', 'KL')\n",
        "0.0"
       ]
      },
      {
       "output_type": "stream",
       "stream": "stdout",
       "text": [
        "\n",
        "('easy', 'img', 'RL')\n",
        "0.0"
       ]
      },
      {
       "output_type": "stream",
       "stream": "stdout",
       "text": [
        "\n",
        "('easy', 'img', 'ZS')\n",
        "0.0"
       ]
      },
      {
       "output_type": "stream",
       "stream": "stdout",
       "text": [
        "\n",
        "('easy', 'pcp', 'KL')\n",
        "0.0"
       ]
      },
      {
       "output_type": "stream",
       "stream": "stdout",
       "text": [
        "\n",
        "('easy', 'pcp', 'RL')\n",
        "0.0"
       ]
      },
      {
       "output_type": "stream",
       "stream": "stdout",
       "text": [
        "\n",
        "('easy', 'pcp', 'ZS')\n",
        "0.0"
       ]
      },
      {
       "output_type": "stream",
       "stream": "stdout",
       "text": [
        "\n",
        "('hard', 'img', 'KL')\n",
        "0.0"
       ]
      },
      {
       "output_type": "stream",
       "stream": "stdout",
       "text": [
        "\n",
        "('hard', 'img', 'RL')\n",
        "0.0"
       ]
      },
      {
       "output_type": "stream",
       "stream": "stdout",
       "text": [
        "\n",
        "('hard', 'img', 'ZS')\n",
        "0.0"
       ]
      },
      {
       "output_type": "stream",
       "stream": "stdout",
       "text": [
        "\n",
        "('hard', 'pcp', 'KL')\n",
        "0.0"
       ]
      },
      {
       "output_type": "stream",
       "stream": "stdout",
       "text": [
        "\n",
        "('hard', 'pcp', 'RL')\n",
        "0.0"
       ]
      },
      {
       "output_type": "stream",
       "stream": "stdout",
       "text": [
        "\n",
        "('hard', 'pcp', 'ZS')\n",
        "0.0"
       ]
      },
      {
       "output_type": "stream",
       "stream": "stdout",
       "text": [
        "\n",
        "4 0.00015 0.75000025 0.24999975\n",
        "('easy', 'img', 'KL')\n",
        "1.39491028931e-57"
       ]
      },
      {
       "output_type": "stream",
       "stream": "stdout",
       "text": [
        "\n",
        "('easy', 'img', 'RL')\n",
        "1.62481294648e-68"
       ]
      },
      {
       "output_type": "stream",
       "stream": "stdout",
       "text": [
        "\n",
        "('easy', 'img', 'ZS')\n",
        "1.10246572745e-55"
       ]
      },
      {
       "output_type": "stream",
       "stream": "stdout",
       "text": [
        "\n",
        "('easy', 'pcp', 'KL')\n",
        "1.66993504808e-56"
       ]
      },
      {
       "output_type": "stream",
       "stream": "stdout",
       "text": [
        "\n",
        "('easy', 'pcp', 'RL')\n",
        "1.42332724324e-64"
       ]
      },
      {
       "output_type": "stream",
       "stream": "stdout",
       "text": [
        "\n",
        "('easy', 'pcp', 'ZS')\n",
        "4.71435007798e-56"
       ]
      },
      {
       "output_type": "stream",
       "stream": "stdout",
       "text": [
        "\n",
        "('hard', 'img', 'KL')\n",
        "0.0"
       ]
      },
      {
       "output_type": "stream",
       "stream": "stdout",
       "text": [
        "\n",
        "('hard', 'img', 'RL')\n",
        "2.76866901857e-71"
       ]
      },
      {
       "output_type": "stream",
       "stream": "stdout",
       "text": [
        "\n",
        "('hard', 'img', 'ZS')\n",
        "8.82846689251e-62"
       ]
      },
      {
       "output_type": "stream",
       "stream": "stdout",
       "text": [
        "\n",
        "('hard', 'pcp', 'KL')\n",
        "0.0"
       ]
      },
      {
       "output_type": "stream",
       "stream": "stdout",
       "text": [
        "\n",
        "('hard', 'pcp', 'RL')\n",
        "0.0"
       ]
      },
      {
       "output_type": "stream",
       "stream": "stdout",
       "text": [
        "\n",
        "('hard', 'pcp', 'ZS')\n",
        "0.0"
       ]
      },
      {
       "output_type": "stream",
       "stream": "stdout",
       "text": [
        "\n",
        "4 0.00015 0.75000025 0.4999995\n",
        "('easy', 'img', 'KL')\n",
        "2.77820807351e-69"
       ]
      },
      {
       "output_type": "stream",
       "stream": "stdout",
       "text": [
        "\n",
        "('easy', 'img', 'RL')\n",
        "2.89868703852e-66"
       ]
      },
      {
       "output_type": "stream",
       "stream": "stdout",
       "text": [
        "\n",
        "('easy', 'img', 'ZS')\n",
        "5.41270709801e-73"
       ]
      },
      {
       "output_type": "stream",
       "stream": "stdout",
       "text": [
        "\n",
        "('easy', 'pcp', 'KL')\n",
        "7.47030460532e-74"
       ]
      },
      {
       "output_type": "stream",
       "stream": "stdout",
       "text": [
        "\n",
        "('easy', 'pcp', 'RL')\n",
        "1.93006347966e-73"
       ]
      },
      {
       "output_type": "stream",
       "stream": "stdout",
       "text": [
        "\n",
        "('easy', 'pcp', 'ZS')\n",
        "5.71920599757e-72"
       ]
      },
      {
       "output_type": "stream",
       "stream": "stdout",
       "text": [
        "\n",
        "('hard', 'img', 'KL')\n",
        "0.0"
       ]
      },
      {
       "output_type": "stream",
       "stream": "stdout",
       "text": [
        "\n",
        "('hard', 'img', 'RL')\n",
        "4.44051972235e-67"
       ]
      },
      {
       "output_type": "stream",
       "stream": "stdout",
       "text": [
        "\n",
        "('hard', 'img', 'ZS')\n",
        "7.50595146008e-75"
       ]
      },
      {
       "output_type": "stream",
       "stream": "stdout",
       "text": [
        "\n",
        "('hard', 'pcp', 'KL')\n",
        "0.0"
       ]
      },
      {
       "output_type": "stream",
       "stream": "stdout",
       "text": [
        "\n",
        "('hard', 'pcp', 'RL')\n",
        "0.0"
       ]
      },
      {
       "output_type": "stream",
       "stream": "stdout",
       "text": [
        "\n",
        "('hard', 'pcp', 'ZS')\n",
        "0.0"
       ]
      },
      {
       "output_type": "stream",
       "stream": "stdout",
       "text": [
        "\n",
        "4 0.00015 0.75000025 0.74999925\n",
        "('easy', 'img', 'KL')\n",
        "1.47050932419e-105"
       ]
      },
      {
       "output_type": "stream",
       "stream": "stdout",
       "text": [
        "\n",
        "('easy', 'img', 'RL')\n",
        "2.06904923135e-89"
       ]
      },
      {
       "output_type": "stream",
       "stream": "stdout",
       "text": [
        "\n",
        "('easy', 'img', 'ZS')\n",
        "1.49956608884e-114"
       ]
      },
      {
       "output_type": "stream",
       "stream": "stdout",
       "text": [
        "\n",
        "('easy', 'pcp', 'KL')\n",
        "1.48105354436e-115"
       ]
      },
      {
       "output_type": "stream",
       "stream": "stdout",
       "text": [
        "\n",
        "('easy', 'pcp', 'RL')\n",
        "1.27503238398e-107"
       ]
      },
      {
       "output_type": "stream",
       "stream": "stdout",
       "text": [
        "\n",
        "('easy', 'pcp', 'ZS')\n",
        "3.07454450777e-112"
       ]
      },
      {
       "output_type": "stream",
       "stream": "stdout",
       "text": [
        "\n",
        "('hard', 'img', 'KL')\n",
        "0.0"
       ]
      },
      {
       "output_type": "stream",
       "stream": "stdout",
       "text": [
        "\n",
        "('hard', 'img', 'RL')\n",
        "3.62877277679e-89"
       ]
      },
      {
       "output_type": "stream",
       "stream": "stdout",
       "text": [
        "\n",
        "('hard', 'img', 'ZS')\n",
        "3.99427678095e-113"
       ]
      },
      {
       "output_type": "stream",
       "stream": "stdout",
       "text": [
        "\n",
        "('hard', 'pcp', 'KL')\n",
        "0.0"
       ]
      },
      {
       "output_type": "stream",
       "stream": "stdout",
       "text": [
        "\n",
        "('hard', 'pcp', 'RL')\n",
        "0.0"
       ]
      },
      {
       "output_type": "stream",
       "stream": "stdout",
       "text": [
        "\n",
        "('hard', 'pcp', 'ZS')\n",
        "0.0"
       ]
      },
      {
       "output_type": "stream",
       "stream": "stdout",
       "text": [
        "\n",
        "4 0.00015 1.0 0.0\n",
        "('easy', 'img', 'KL')\n",
        "0.0"
       ]
      },
      {
       "output_type": "stream",
       "stream": "stdout",
       "text": [
        "\n",
        "('easy', 'img', 'RL')\n",
        "0.0"
       ]
      },
      {
       "output_type": "stream",
       "stream": "stdout",
       "text": [
        "\n",
        "('easy', 'img', 'ZS')\n",
        "0.0"
       ]
      },
      {
       "output_type": "stream",
       "stream": "stdout",
       "text": [
        "\n",
        "('easy', 'pcp', 'KL')\n",
        "0.0"
       ]
      },
      {
       "output_type": "stream",
       "stream": "stdout",
       "text": [
        "\n",
        "('easy', 'pcp', 'RL')\n",
        "0.0"
       ]
      },
      {
       "output_type": "stream",
       "stream": "stdout",
       "text": [
        "\n",
        "('easy', 'pcp', 'ZS')\n",
        "0.0"
       ]
      },
      {
       "output_type": "stream",
       "stream": "stdout",
       "text": [
        "\n",
        "('hard', 'img', 'KL')\n",
        "0.0"
       ]
      },
      {
       "output_type": "stream",
       "stream": "stdout",
       "text": [
        "\n",
        "('hard', 'img', 'RL')\n",
        "0.0"
       ]
      },
      {
       "output_type": "stream",
       "stream": "stdout",
       "text": [
        "\n",
        "('hard', 'img', 'ZS')\n",
        "0.0"
       ]
      },
      {
       "output_type": "stream",
       "stream": "stdout",
       "text": [
        "\n",
        "('hard', 'pcp', 'KL')\n",
        "0.0"
       ]
      },
      {
       "output_type": "stream",
       "stream": "stdout",
       "text": [
        "\n",
        "('hard', 'pcp', 'RL')\n",
        "0.0"
       ]
      },
      {
       "output_type": "stream",
       "stream": "stdout",
       "text": [
        "\n",
        "('hard', 'pcp', 'ZS')\n",
        "0.0"
       ]
      },
      {
       "output_type": "stream",
       "stream": "stdout",
       "text": [
        "\n",
        "4 0.00015 1.0 0.24999975\n",
        "('easy', 'img', 'KL')\n",
        "9.59808494678e-55"
       ]
      },
      {
       "output_type": "stream",
       "stream": "stdout",
       "text": [
        "\n",
        "('easy', 'img', 'RL')\n",
        "2.31136202935e-56"
       ]
      },
      {
       "output_type": "stream",
       "stream": "stdout",
       "text": [
        "\n",
        "('easy', 'img', 'ZS')\n",
        "1.60315287074e-55"
       ]
      },
      {
       "output_type": "stream",
       "stream": "stdout",
       "text": [
        "\n",
        "('easy', 'pcp', 'KL')\n",
        "4.02670512982e-57"
       ]
      },
      {
       "output_type": "stream",
       "stream": "stdout",
       "text": [
        "\n",
        "('easy', 'pcp', 'RL')\n",
        "6.55994009727e-62"
       ]
      },
      {
       "output_type": "stream",
       "stream": "stdout",
       "text": [
        "\n",
        "('easy', 'pcp', 'ZS')\n",
        "5.59261966611e-56"
       ]
      },
      {
       "output_type": "stream",
       "stream": "stdout",
       "text": [
        "\n",
        "('hard', 'img', 'KL')\n",
        "0.0"
       ]
      },
      {
       "output_type": "stream",
       "stream": "stdout",
       "text": [
        "\n",
        "('hard', 'img', 'RL')\n",
        "4.38803824234e-62"
       ]
      },
      {
       "output_type": "stream",
       "stream": "stdout",
       "text": [
        "\n",
        "('hard', 'img', 'ZS')\n",
        "9.73647856297e-60"
       ]
      },
      {
       "output_type": "stream",
       "stream": "stdout",
       "text": [
        "\n",
        "('hard', 'pcp', 'KL')\n",
        "0.0"
       ]
      },
      {
       "output_type": "stream",
       "stream": "stdout",
       "text": [
        "\n",
        "('hard', 'pcp', 'RL')\n",
        "0.0"
       ]
      },
      {
       "output_type": "stream",
       "stream": "stdout",
       "text": [
        "\n",
        "('hard', 'pcp', 'ZS')\n",
        "0.0"
       ]
      },
      {
       "output_type": "stream",
       "stream": "stdout",
       "text": [
        "\n",
        "4 0.00015 1.0 0.4999995\n",
        "('easy', 'img', 'KL')\n",
        "4.59634412759e-85"
       ]
      },
      {
       "output_type": "stream",
       "stream": "stdout",
       "text": [
        "\n",
        "('easy', 'img', 'RL')\n",
        "1.83877592909e-69"
       ]
      },
      {
       "output_type": "stream",
       "stream": "stdout",
       "text": [
        "\n",
        "('easy', 'img', 'ZS')\n",
        "5.04908688348e-93"
       ]
      },
      {
       "output_type": "stream",
       "stream": "stdout",
       "text": [
        "\n",
        "('easy', 'pcp', 'KL')\n",
        "1.32572862122e-94"
       ]
      },
      {
       "output_type": "stream",
       "stream": "stdout",
       "text": [
        "\n",
        "('easy', 'pcp', 'RL')\n",
        "1.04514744967e-88"
       ]
      },
      {
       "output_type": "stream",
       "stream": "stdout",
       "text": [
        "\n",
        "('easy', 'pcp', 'ZS')\n",
        "1.04376472542e-91"
       ]
      },
      {
       "output_type": "stream",
       "stream": "stdout",
       "text": [
        "\n",
        "('hard', 'img', 'KL')\n",
        "0.0"
       ]
      },
      {
       "output_type": "stream",
       "stream": "stdout",
       "text": [
        "\n",
        "('hard', 'img', 'RL')\n",
        "2.01333647486e-72"
       ]
      },
      {
       "output_type": "stream",
       "stream": "stdout",
       "text": [
        "\n",
        "('hard', 'img', 'ZS')\n",
        "9.43345040989e-92"
       ]
      },
      {
       "output_type": "stream",
       "stream": "stdout",
       "text": [
        "\n",
        "('hard', 'pcp', 'KL')\n",
        "0.0"
       ]
      },
      {
       "output_type": "stream",
       "stream": "stdout",
       "text": [
        "\n",
        "('hard', 'pcp', 'RL')\n",
        "0.0"
       ]
      },
      {
       "output_type": "stream",
       "stream": "stdout",
       "text": [
        "\n",
        "('hard', 'pcp', 'ZS')\n",
        "0.0"
       ]
      },
      {
       "output_type": "stream",
       "stream": "stdout",
       "text": [
        "\n",
        "4 0.00015 1.0 0.74999925\n",
        "('easy', 'img', 'KL')\n",
        "6.55051026721e-156"
       ]
      },
      {
       "output_type": "stream",
       "stream": "stdout",
       "text": [
        "\n",
        "('easy', 'img', 'RL')\n",
        "9.24343963274e-121"
       ]
      },
      {
       "output_type": "stream",
       "stream": "stdout",
       "text": [
        "\n",
        "('easy', 'img', 'ZS')\n",
        "1.52549734692e-171"
       ]
      },
      {
       "output_type": "stream",
       "stream": "stdout",
       "text": [
        "\n",
        "('easy', 'pcp', 'KL')\n",
        "2.38806523592e-173"
       ]
      },
      {
       "output_type": "stream",
       "stream": "stdout",
       "text": [
        "\n",
        "('easy', 'pcp', 'RL')\n",
        "2.83831371802e-156"
       ]
      },
      {
       "output_type": "stream",
       "stream": "stdout",
       "text": [
        "\n",
        "('easy', 'pcp', 'ZS')\n",
        "1.33241463038e-168"
       ]
      },
      {
       "output_type": "stream",
       "stream": "stdout",
       "text": [
        "\n",
        "('hard', 'img', 'KL')\n",
        "0.0"
       ]
      },
      {
       "output_type": "stream",
       "stream": "stdout",
       "text": [
        "\n",
        "('hard', 'img', 'RL')\n",
        "2.51363753557e-122"
       ]
      },
      {
       "output_type": "stream",
       "stream": "stdout",
       "text": [
        "\n",
        "('hard', 'img', 'ZS')\n",
        "7.48101233825e-165"
       ]
      },
      {
       "output_type": "stream",
       "stream": "stdout",
       "text": [
        "\n",
        "('hard', 'pcp', 'KL')\n",
        "0.0"
       ]
      },
      {
       "output_type": "stream",
       "stream": "stdout",
       "text": [
        "\n",
        "('hard', 'pcp', 'RL')\n",
        "0.0"
       ]
      },
      {
       "output_type": "stream",
       "stream": "stdout",
       "text": [
        "\n",
        "('hard', 'pcp', 'ZS')\n",
        "0.0"
       ]
      },
      {
       "output_type": "stream",
       "stream": "stdout",
       "text": [
        "\n",
        "4 0.00015 1.0 0.999999\n",
        "('easy', 'img', 'KL')\n",
        "0.0"
       ]
      },
      {
       "output_type": "stream",
       "stream": "stdout",
       "text": [
        "\n",
        "('easy', 'img', 'RL')\n",
        "0.0"
       ]
      },
      {
       "output_type": "stream",
       "stream": "stdout",
       "text": [
        "\n",
        "('easy', 'img', 'ZS')\n",
        "0.0"
       ]
      },
      {
       "output_type": "stream",
       "stream": "stdout",
       "text": [
        "\n",
        "('easy', 'pcp', 'KL')\n",
        "0.0"
       ]
      },
      {
       "output_type": "stream",
       "stream": "stdout",
       "text": [
        "\n",
        "('easy', 'pcp', 'RL')\n",
        "0.0"
       ]
      },
      {
       "output_type": "stream",
       "stream": "stdout",
       "text": [
        "\n",
        "('easy', 'pcp', 'ZS')\n",
        "0.0"
       ]
      },
      {
       "output_type": "stream",
       "stream": "stdout",
       "text": [
        "\n",
        "('hard', 'img', 'KL')\n",
        "0.0"
       ]
      },
      {
       "output_type": "stream",
       "stream": "stdout",
       "text": [
        "\n",
        "('hard', 'img', 'RL')\n",
        "0.0"
       ]
      },
      {
       "output_type": "stream",
       "stream": "stdout",
       "text": [
        "\n",
        "('hard', 'img', 'ZS')\n",
        "0.0"
       ]
      },
      {
       "output_type": "stream",
       "stream": "stdout",
       "text": [
        "\n",
        "('hard', 'pcp', 'KL')\n",
        "0.0"
       ]
      },
      {
       "output_type": "stream",
       "stream": "stdout",
       "text": [
        "\n",
        "('hard', 'pcp', 'RL')\n",
        "0.0"
       ]
      },
      {
       "output_type": "stream",
       "stream": "stdout",
       "text": [
        "\n",
        "('hard', 'pcp', 'ZS')\n",
        "0.0"
       ]
      },
      {
       "output_type": "stream",
       "stream": "stdout",
       "text": [
        "\n",
        "4 0.0002 1e-06 0.0\n",
        "('easy', 'img', 'KL')\n",
        "0.0"
       ]
      },
      {
       "output_type": "stream",
       "stream": "stdout",
       "text": [
        "\n",
        "('easy', 'img', 'RL')\n",
        "0.0"
       ]
      },
      {
       "output_type": "stream",
       "stream": "stdout",
       "text": [
        "\n",
        "('easy', 'img', 'ZS')\n",
        "0.0"
       ]
      },
      {
       "output_type": "stream",
       "stream": "stdout",
       "text": [
        "\n",
        "('easy', 'pcp', 'KL')\n",
        "0.0"
       ]
      },
      {
       "output_type": "stream",
       "stream": "stdout",
       "text": [
        "\n",
        "('easy', 'pcp', 'RL')\n",
        "0.0"
       ]
      },
      {
       "output_type": "stream",
       "stream": "stdout",
       "text": [
        "\n",
        "('easy', 'pcp', 'ZS')\n",
        "0.0"
       ]
      },
      {
       "output_type": "stream",
       "stream": "stdout",
       "text": [
        "\n",
        "('hard', 'img', 'KL')\n",
        "0.0"
       ]
      },
      {
       "output_type": "stream",
       "stream": "stdout",
       "text": [
        "\n",
        "('hard', 'img', 'RL')\n",
        "0.0"
       ]
      },
      {
       "output_type": "stream",
       "stream": "stdout",
       "text": [
        "\n",
        "('hard', 'img', 'ZS')\n",
        "0.0"
       ]
      },
      {
       "output_type": "stream",
       "stream": "stdout",
       "text": [
        "\n",
        "('hard', 'pcp', 'KL')\n",
        "0.0"
       ]
      },
      {
       "output_type": "stream",
       "stream": "stdout",
       "text": [
        "\n",
        "('hard', 'pcp', 'RL')\n",
        "0.0"
       ]
      },
      {
       "output_type": "stream",
       "stream": "stdout",
       "text": [
        "\n",
        "('hard', 'pcp', 'ZS')\n",
        "0.0"
       ]
      },
      {
       "output_type": "stream",
       "stream": "stdout",
       "text": [
        "\n",
        "4 0.0002 0.25000075 0.0\n",
        "('easy', 'img', 'KL')\n",
        "0.0"
       ]
      },
      {
       "output_type": "stream",
       "stream": "stdout",
       "text": [
        "\n",
        "('easy', 'img', 'RL')\n",
        "0.0"
       ]
      },
      {
       "output_type": "stream",
       "stream": "stdout",
       "text": [
        "\n",
        "('easy', 'img', 'ZS')\n",
        "0.0"
       ]
      },
      {
       "output_type": "stream",
       "stream": "stdout",
       "text": [
        "\n",
        "('easy', 'pcp', 'KL')\n",
        "0.0"
       ]
      },
      {
       "output_type": "stream",
       "stream": "stdout",
       "text": [
        "\n",
        "('easy', 'pcp', 'RL')\n",
        "0.0"
       ]
      },
      {
       "output_type": "stream",
       "stream": "stdout",
       "text": [
        "\n",
        "('easy', 'pcp', 'ZS')\n",
        "0.0"
       ]
      },
      {
       "output_type": "stream",
       "stream": "stdout",
       "text": [
        "\n",
        "('hard', 'img', 'KL')\n",
        "0.0"
       ]
      },
      {
       "output_type": "stream",
       "stream": "stdout",
       "text": [
        "\n",
        "('hard', 'img', 'RL')\n",
        "0.0"
       ]
      },
      {
       "output_type": "stream",
       "stream": "stdout",
       "text": [
        "\n",
        "('hard', 'img', 'ZS')\n",
        "0.0"
       ]
      },
      {
       "output_type": "stream",
       "stream": "stdout",
       "text": [
        "\n",
        "('hard', 'pcp', 'KL')\n",
        "0.0"
       ]
      },
      {
       "output_type": "stream",
       "stream": "stdout",
       "text": [
        "\n",
        "('hard', 'pcp', 'RL')\n",
        "0.0"
       ]
      },
      {
       "output_type": "stream",
       "stream": "stdout",
       "text": [
        "\n",
        "('hard', 'pcp', 'ZS')\n",
        "0.0"
       ]
      },
      {
       "output_type": "stream",
       "stream": "stdout",
       "text": [
        "\n",
        "4 0.0002 0.25000075 0.24999975\n",
        "('easy', 'img', 'KL')\n",
        "1.60868977398e-85"
       ]
      },
      {
       "output_type": "stream",
       "stream": "stdout",
       "text": [
        "\n",
        "('easy', 'img', 'RL')\n",
        "2.88188344509e-113"
       ]
      },
      {
       "output_type": "stream",
       "stream": "stdout",
       "text": [
        "\n",
        "('easy', 'img', 'ZS')\n",
        "2.73570574894e-78"
       ]
      },
      {
       "output_type": "stream",
       "stream": "stdout",
       "text": [
        "\n",
        "('easy', 'pcp', 'KL')\n",
        "2.43174345896e-78"
       ]
      },
      {
       "output_type": "stream",
       "stream": "stdout",
       "text": [
        "\n",
        "('easy', 'pcp', 'RL')\n",
        "2.91633776516e-94"
       ]
      },
      {
       "output_type": "stream",
       "stream": "stdout",
       "text": [
        "\n",
        "('easy', 'pcp', 'ZS')\n",
        "7.69418059396e-79"
       ]
      },
      {
       "output_type": "stream",
       "stream": "stdout",
       "text": [
        "\n",
        "('hard', 'img', 'KL')\n",
        "0.0"
       ]
      },
      {
       "output_type": "stream",
       "stream": "stdout",
       "text": [
        "\n",
        "('hard', 'img', 'RL')\n",
        "5.61594015041e-114"
       ]
      },
      {
       "output_type": "stream",
       "stream": "stdout",
       "text": [
        "\n",
        "('hard', 'img', 'ZS')\n",
        "2.58016526333e-88"
       ]
      },
      {
       "output_type": "stream",
       "stream": "stdout",
       "text": [
        "\n",
        "('hard', 'pcp', 'KL')\n",
        "0.0"
       ]
      },
      {
       "output_type": "stream",
       "stream": "stdout",
       "text": [
        "\n",
        "('hard', 'pcp', 'RL')\n",
        "0.0"
       ]
      },
      {
       "output_type": "stream",
       "stream": "stdout",
       "text": [
        "\n",
        "('hard', 'pcp', 'ZS')\n",
        "0.0"
       ]
      },
      {
       "output_type": "stream",
       "stream": "stdout",
       "text": [
        "\n",
        "4 0.0002 0.5000005 0.0\n",
        "('easy', 'img', 'KL')\n",
        "0.0"
       ]
      },
      {
       "output_type": "stream",
       "stream": "stdout",
       "text": [
        "\n",
        "('easy', 'img', 'RL')\n",
        "0.0"
       ]
      },
      {
       "output_type": "stream",
       "stream": "stdout",
       "text": [
        "\n",
        "('easy', 'img', 'ZS')\n",
        "0.0"
       ]
      },
      {
       "output_type": "stream",
       "stream": "stdout",
       "text": [
        "\n",
        "('easy', 'pcp', 'KL')\n",
        "0.0"
       ]
      },
      {
       "output_type": "stream",
       "stream": "stdout",
       "text": [
        "\n",
        "('easy', 'pcp', 'RL')\n",
        "0.0"
       ]
      },
      {
       "output_type": "stream",
       "stream": "stdout",
       "text": [
        "\n",
        "('easy', 'pcp', 'ZS')\n",
        "0.0"
       ]
      },
      {
       "output_type": "stream",
       "stream": "stdout",
       "text": [
        "\n",
        "('hard', 'img', 'KL')\n",
        "0.0"
       ]
      },
      {
       "output_type": "stream",
       "stream": "stdout",
       "text": [
        "\n",
        "('hard', 'img', 'RL')\n",
        "0.0"
       ]
      },
      {
       "output_type": "stream",
       "stream": "stdout",
       "text": [
        "\n",
        "('hard', 'img', 'ZS')\n",
        "0.0"
       ]
      },
      {
       "output_type": "stream",
       "stream": "stdout",
       "text": [
        "\n",
        "('hard', 'pcp', 'KL')\n",
        "0.0"
       ]
      },
      {
       "output_type": "stream",
       "stream": "stdout",
       "text": [
        "\n",
        "('hard', 'pcp', 'RL')\n",
        "0.0"
       ]
      },
      {
       "output_type": "stream",
       "stream": "stdout",
       "text": [
        "\n",
        "('hard', 'pcp', 'ZS')\n",
        "0.0"
       ]
      },
      {
       "output_type": "stream",
       "stream": "stdout",
       "text": [
        "\n",
        "4 0.0002 0.5000005 0.24999975\n",
        "('easy', 'img', 'KL')\n",
        "8.57606836745e-66"
       ]
      },
      {
       "output_type": "stream",
       "stream": "stdout",
       "text": [
        "\n",
        "('easy', 'img', 'RL')\n",
        "1.56611051241e-83"
       ]
      },
      {
       "output_type": "stream",
       "stream": "stdout",
       "text": [
        "\n",
        "('easy', 'img', 'ZS')\n",
        "2.23406218556e-62"
       ]
      },
      {
       "output_type": "stream",
       "stream": "stdout",
       "text": [
        "\n",
        "('easy', 'pcp', 'KL')\n",
        "2.36050438086e-62"
       ]
      },
      {
       "output_type": "stream",
       "stream": "stdout",
       "text": [
        "\n",
        "('easy', 'pcp', 'RL')\n",
        "6.96350330026e-73"
       ]
      },
      {
       "output_type": "stream",
       "stream": "stdout",
       "text": [
        "\n",
        "('easy', 'pcp', 'ZS')\n",
        "2.21286241727e-62"
       ]
      },
      {
       "output_type": "stream",
       "stream": "stdout",
       "text": [
        "\n",
        "('hard', 'img', 'KL')\n",
        "0.0"
       ]
      },
      {
       "output_type": "stream",
       "stream": "stdout",
       "text": [
        "\n",
        "('hard', 'img', 'RL')\n",
        "3.6982859054e-85"
       ]
      },
      {
       "output_type": "stream",
       "stream": "stdout",
       "text": [
        "\n",
        "('hard', 'img', 'ZS')\n",
        "2.88195605333e-69"
       ]
      },
      {
       "output_type": "stream",
       "stream": "stdout",
       "text": [
        "\n",
        "('hard', 'pcp', 'KL')\n",
        "0.0"
       ]
      },
      {
       "output_type": "stream",
       "stream": "stdout",
       "text": [
        "\n",
        "('hard', 'pcp', 'RL')\n",
        "0.0"
       ]
      },
      {
       "output_type": "stream",
       "stream": "stdout",
       "text": [
        "\n",
        "('hard', 'pcp', 'ZS')\n",
        "0.0"
       ]
      },
      {
       "output_type": "stream",
       "stream": "stdout",
       "text": [
        "\n",
        "4 0.0002 0.5000005 0.4999995\n",
        "('easy', 'img', 'KL')\n",
        "8.34310054277e-64"
       ]
      },
      {
       "output_type": "stream",
       "stream": "stdout",
       "text": [
        "\n",
        "('easy', 'img', 'RL')\n",
        "1.32459634769e-69"
       ]
      },
      {
       "output_type": "stream",
       "stream": "stdout",
       "text": [
        "\n",
        "('easy', 'img', 'ZS')\n",
        "1.09868349475e-64"
       ]
      },
      {
       "output_type": "stream",
       "stream": "stdout",
       "text": [
        "\n",
        "('easy', 'pcp', 'KL')\n",
        "3.25536679395e-65"
       ]
      },
      {
       "output_type": "stream",
       "stream": "stdout",
       "text": [
        "\n",
        "('easy', 'pcp', 'RL')\n",
        "3.30778537517e-69"
       ]
      },
      {
       "output_type": "stream",
       "stream": "stdout",
       "text": [
        "\n",
        "('easy', 'pcp', 'ZS')\n",
        "8.34310940732e-64"
       ]
      },
      {
       "output_type": "stream",
       "stream": "stdout",
       "text": [
        "\n",
        "('hard', 'img', 'KL')\n",
        "0.0"
       ]
      },
      {
       "output_type": "stream",
       "stream": "stdout",
       "text": [
        "\n",
        "('hard', 'img', 'RL')\n",
        "7.74375325239e-70"
       ]
      },
      {
       "output_type": "stream",
       "stream": "stdout",
       "text": [
        "\n",
        "('hard', 'img', 'ZS')\n",
        "5.50678741716e-69"
       ]
      },
      {
       "output_type": "stream",
       "stream": "stdout",
       "text": [
        "\n",
        "('hard', 'pcp', 'KL')\n",
        "0.0"
       ]
      },
      {
       "output_type": "stream",
       "stream": "stdout",
       "text": [
        "\n",
        "('hard', 'pcp', 'RL')\n",
        "0.0"
       ]
      },
      {
       "output_type": "stream",
       "stream": "stdout",
       "text": [
        "\n",
        "('hard', 'pcp', 'ZS')\n",
        "0.0"
       ]
      },
      {
       "output_type": "stream",
       "stream": "stdout",
       "text": [
        "\n",
        "4 0.0002 0.75000025 0.0\n",
        "('easy', 'img', 'KL')\n",
        "0.0"
       ]
      },
      {
       "output_type": "stream",
       "stream": "stdout",
       "text": [
        "\n",
        "('easy', 'img', 'RL')\n",
        "0.0"
       ]
      },
      {
       "output_type": "stream",
       "stream": "stdout",
       "text": [
        "\n",
        "('easy', 'img', 'ZS')\n",
        "0.0"
       ]
      },
      {
       "output_type": "stream",
       "stream": "stdout",
       "text": [
        "\n",
        "('easy', 'pcp', 'KL')\n",
        "0.0"
       ]
      },
      {
       "output_type": "stream",
       "stream": "stdout",
       "text": [
        "\n",
        "('easy', 'pcp', 'RL')\n",
        "0.0"
       ]
      },
      {
       "output_type": "stream",
       "stream": "stdout",
       "text": [
        "\n",
        "('easy', 'pcp', 'ZS')\n",
        "0.0"
       ]
      },
      {
       "output_type": "stream",
       "stream": "stdout",
       "text": [
        "\n",
        "('hard', 'img', 'KL')\n",
        "0.0"
       ]
      },
      {
       "output_type": "stream",
       "stream": "stdout",
       "text": [
        "\n",
        "('hard', 'img', 'RL')\n",
        "0.0"
       ]
      },
      {
       "output_type": "stream",
       "stream": "stdout",
       "text": [
        "\n",
        "('hard', 'img', 'ZS')\n",
        "0.0"
       ]
      },
      {
       "output_type": "stream",
       "stream": "stdout",
       "text": [
        "\n",
        "('hard', 'pcp', 'KL')\n",
        "0.0"
       ]
      },
      {
       "output_type": "stream",
       "stream": "stdout",
       "text": [
        "\n",
        "('hard', 'pcp', 'RL')\n",
        "0.0"
       ]
      },
      {
       "output_type": "stream",
       "stream": "stdout",
       "text": [
        "\n",
        "('hard', 'pcp', 'ZS')\n",
        "0.0"
       ]
      },
      {
       "output_type": "stream",
       "stream": "stdout",
       "text": [
        "\n",
        "4 0.0002 0.75000025 0.24999975\n",
        "('easy', 'img', 'KL')\n",
        "3.21252512865e-56"
       ]
      },
      {
       "output_type": "stream",
       "stream": "stdout",
       "text": [
        "\n",
        "('easy', 'img', 'RL')\n",
        "1.66425386541e-65"
       ]
      },
      {
       "output_type": "stream",
       "stream": "stdout",
       "text": [
        "\n",
        "('easy', 'img', 'ZS')\n",
        "2.44343503398e-56"
       ]
      },
      {
       "output_type": "stream",
       "stream": "stdout",
       "text": [
        "\n",
        "('easy', 'pcp', 'KL')\n",
        "3.69093118192e-56"
       ]
      },
      {
       "output_type": "stream",
       "stream": "stdout",
       "text": [
        "\n",
        "('easy', 'pcp', 'RL')\n",
        "1.846798671e-62"
       ]
      },
      {
       "output_type": "stream",
       "stream": "stdout",
       "text": [
        "\n",
        "('easy', 'pcp', 'ZS')\n",
        "1.04197715506e-55"
       ]
      },
      {
       "output_type": "stream",
       "stream": "stdout",
       "text": [
        "\n",
        "('hard', 'img', 'KL')\n",
        "0.0"
       ]
      },
      {
       "output_type": "stream",
       "stream": "stdout",
       "text": [
        "\n",
        "('hard', 'img', 'RL')\n",
        "1.38543994281e-68"
       ]
      },
      {
       "output_type": "stream",
       "stream": "stdout",
       "text": [
        "\n",
        "('hard', 'img', 'ZS')\n",
        "8.38332221292e-61"
       ]
      },
      {
       "output_type": "stream",
       "stream": "stdout",
       "text": [
        "\n",
        "('hard', 'pcp', 'KL')\n",
        "0.0"
       ]
      },
      {
       "output_type": "stream",
       "stream": "stdout",
       "text": [
        "\n",
        "('hard', 'pcp', 'RL')\n",
        "0.0"
       ]
      },
      {
       "output_type": "stream",
       "stream": "stdout",
       "text": [
        "\n",
        "('hard', 'pcp', 'ZS')\n",
        "0.0"
       ]
      },
      {
       "output_type": "stream",
       "stream": "stdout",
       "text": [
        "\n",
        "4 0.0002 0.75000025 0.4999995\n",
        "('easy', 'img', 'KL')\n",
        "6.02986445567e-70"
       ]
      },
      {
       "output_type": "stream",
       "stream": "stdout",
       "text": [
        "\n",
        "('easy', 'img', 'RL')\n",
        "2.90397619877e-66"
       ]
      },
      {
       "output_type": "stream",
       "stream": "stdout",
       "text": [
        "\n",
        "('easy', 'img', 'ZS')\n",
        "2.07050654815e-74"
       ]
      },
      {
       "output_type": "stream",
       "stream": "stdout",
       "text": [
        "\n",
        "('easy', 'pcp', 'KL')\n",
        "6.87502440812e-75"
       ]
      },
      {
       "output_type": "stream",
       "stream": "stdout",
       "text": [
        "\n",
        "('easy', 'pcp', 'RL')\n",
        "8.97506749889e-74"
       ]
      },
      {
       "output_type": "stream",
       "stream": "stdout",
       "text": [
        "\n",
        "('easy', 'pcp', 'ZS')\n",
        "5.26346419668e-73"
       ]
      },
      {
       "output_type": "stream",
       "stream": "stdout",
       "text": [
        "\n",
        "('hard', 'img', 'KL')\n",
        "0.0"
       ]
      },
      {
       "output_type": "stream",
       "stream": "stdout",
       "text": [
        "\n",
        "('hard', 'img', 'RL')\n",
        "2.84807860027e-67"
       ]
      },
      {
       "output_type": "stream",
       "stream": "stdout",
       "text": [
        "\n",
        "('hard', 'img', 'ZS')\n",
        "9.79212775317e-76"
       ]
      },
      {
       "output_type": "stream",
       "stream": "stdout",
       "text": [
        "\n",
        "('hard', 'pcp', 'KL')\n",
        "0.0"
       ]
      },
      {
       "output_type": "stream",
       "stream": "stdout",
       "text": [
        "\n",
        "('hard', 'pcp', 'RL')\n",
        "0.0"
       ]
      },
      {
       "output_type": "stream",
       "stream": "stdout",
       "text": [
        "\n",
        "('hard', 'pcp', 'ZS')\n",
        "0.0"
       ]
      },
      {
       "output_type": "stream",
       "stream": "stdout",
       "text": [
        "\n",
        "4 0.0002 0.75000025 0.74999925\n",
        "('easy', 'img', 'KL')\n",
        "1.4704784439e-105"
       ]
      },
      {
       "output_type": "stream",
       "stream": "stdout",
       "text": [
        "\n",
        "('easy', 'img', 'RL')\n",
        "2.06902117015e-89"
       ]
      },
      {
       "output_type": "stream",
       "stream": "stdout",
       "text": [
        "\n",
        "('easy', 'img', 'ZS')\n",
        "1.49952175867e-114"
       ]
      },
      {
       "output_type": "stream",
       "stream": "stdout",
       "text": [
        "\n",
        "('easy', 'pcp', 'KL')\n",
        "1.48101614831e-115"
       ]
      },
      {
       "output_type": "stream",
       "stream": "stdout",
       "text": [
        "\n",
        "('easy', 'pcp', 'RL')\n",
        "1.27501015086e-107"
       ]
      },
      {
       "output_type": "stream",
       "stream": "stdout",
       "text": [
        "\n",
        "('easy', 'pcp', 'ZS')\n",
        "3.07446687668e-112"
       ]
      },
      {
       "output_type": "stream",
       "stream": "stdout",
       "text": [
        "\n",
        "('hard', 'img', 'KL')\n",
        "0.0"
       ]
      },
      {
       "output_type": "stream",
       "stream": "stdout",
       "text": [
        "\n",
        "('hard', 'img', 'RL')\n",
        "3.62871363977e-89"
       ]
      },
      {
       "output_type": "stream",
       "stream": "stdout",
       "text": [
        "\n",
        "('hard', 'img', 'ZS')\n",
        "3.99417861056e-113"
       ]
      },
      {
       "output_type": "stream",
       "stream": "stdout",
       "text": [
        "\n",
        "('hard', 'pcp', 'KL')\n",
        "0.0"
       ]
      },
      {
       "output_type": "stream",
       "stream": "stdout",
       "text": [
        "\n",
        "('hard', 'pcp', 'RL')\n",
        "0.0"
       ]
      },
      {
       "output_type": "stream",
       "stream": "stdout",
       "text": [
        "\n",
        "('hard', 'pcp', 'ZS')\n",
        "0.0"
       ]
      },
      {
       "output_type": "stream",
       "stream": "stdout",
       "text": [
        "\n",
        "4 0.0002 1.0 0.0\n",
        "('easy', 'img', 'KL')\n",
        "0.0"
       ]
      },
      {
       "output_type": "stream",
       "stream": "stdout",
       "text": [
        "\n",
        "('easy', 'img', 'RL')\n",
        "0.0"
       ]
      },
      {
       "output_type": "stream",
       "stream": "stdout",
       "text": [
        "\n",
        "('easy', 'img', 'ZS')\n",
        "0.0"
       ]
      },
      {
       "output_type": "stream",
       "stream": "stdout",
       "text": [
        "\n",
        "('easy', 'pcp', 'KL')\n",
        "0.0"
       ]
      },
      {
       "output_type": "stream",
       "stream": "stdout",
       "text": [
        "\n",
        "('easy', 'pcp', 'RL')\n",
        "0.0"
       ]
      },
      {
       "output_type": "stream",
       "stream": "stdout",
       "text": [
        "\n",
        "('easy', 'pcp', 'ZS')\n",
        "0.0"
       ]
      },
      {
       "output_type": "stream",
       "stream": "stdout",
       "text": [
        "\n",
        "('hard', 'img', 'KL')\n",
        "0.0"
       ]
      },
      {
       "output_type": "stream",
       "stream": "stdout",
       "text": [
        "\n",
        "('hard', 'img', 'RL')\n",
        "0.0"
       ]
      },
      {
       "output_type": "stream",
       "stream": "stdout",
       "text": [
        "\n",
        "('hard', 'img', 'ZS')\n",
        "0.0"
       ]
      },
      {
       "output_type": "stream",
       "stream": "stdout",
       "text": [
        "\n",
        "('hard', 'pcp', 'KL')\n",
        "0.0"
       ]
      },
      {
       "output_type": "stream",
       "stream": "stdout",
       "text": [
        "\n",
        "('hard', 'pcp', 'RL')\n",
        "0.0"
       ]
      },
      {
       "output_type": "stream",
       "stream": "stdout",
       "text": [
        "\n",
        "('hard', 'pcp', 'ZS')\n",
        "0.0"
       ]
      },
      {
       "output_type": "stream",
       "stream": "stdout",
       "text": [
        "\n",
        "4 0.0002 1.0 0.24999975\n",
        "('easy', 'img', 'KL')\n",
        "4.77177916608e-55"
       ]
      },
      {
       "output_type": "stream",
       "stream": "stdout",
       "text": [
        "\n",
        "('easy', 'img', 'RL')\n",
        "1.27535956796e-54"
       ]
      },
      {
       "output_type": "stream",
       "stream": "stdout",
       "text": [
        "\n",
        "('easy', 'img', 'ZS')\n",
        "1.98075254405e-59"
       ]
      },
      {
       "output_type": "stream",
       "stream": "stdout",
       "text": [
        "\n",
        "('easy', 'pcp', 'KL')\n",
        "6.86442881752e-59"
       ]
      },
      {
       "output_type": "stream",
       "stream": "stdout",
       "text": [
        "\n",
        "('easy', 'pcp', 'RL')\n",
        "3.70477798988e-61"
       ]
      },
      {
       "output_type": "stream",
       "stream": "stdout",
       "text": [
        "\n",
        "('easy', 'pcp', 'ZS')\n",
        "9.53388399792e-58"
       ]
      },
      {
       "output_type": "stream",
       "stream": "stdout",
       "text": [
        "\n",
        "('hard', 'img', 'KL')\n",
        "0.0"
       ]
      },
      {
       "output_type": "stream",
       "stream": "stdout",
       "text": [
        "\n",
        "('hard', 'img', 'RL')\n",
        "4.40508678941e-62"
       ]
      },
      {
       "output_type": "stream",
       "stream": "stdout",
       "text": [
        "\n",
        "('hard', 'img', 'ZS')\n",
        "7.67992742519e-62"
       ]
      },
      {
       "output_type": "stream",
       "stream": "stdout",
       "text": [
        "\n",
        "('hard', 'pcp', 'KL')\n",
        "0.0"
       ]
      },
      {
       "output_type": "stream",
       "stream": "stdout",
       "text": [
        "\n",
        "('hard', 'pcp', 'RL')\n",
        "0.0"
       ]
      },
      {
       "output_type": "stream",
       "stream": "stdout",
       "text": [
        "\n",
        "('hard', 'pcp', 'ZS')\n",
        "0.0"
       ]
      },
      {
       "output_type": "stream",
       "stream": "stdout",
       "text": [
        "\n",
        "4 0.0002 1.0 0.4999995\n",
        "('easy', 'img', 'KL')\n",
        "1.9224418117e-88"
       ]
      },
      {
       "output_type": "stream",
       "stream": "stdout",
       "text": [
        "\n",
        "('easy', 'img', 'RL')\n",
        "1.01332389245e-71"
       ]
      },
      {
       "output_type": "stream",
       "stream": "stdout",
       "text": [
        "\n",
        "('easy', 'img', 'ZS')\n",
        "4.64975479768e-98"
       ]
      },
      {
       "output_type": "stream",
       "stream": "stdout",
       "text": [
        "\n",
        "('easy', 'pcp', 'KL')\n",
        "1.21343348615e-98"
       ]
      },
      {
       "output_type": "stream",
       "stream": "stdout",
       "text": [
        "\n",
        "('easy', 'pcp', 'RL')\n",
        "2.21361434464e-91"
       ]
      },
      {
       "output_type": "stream",
       "stream": "stdout",
       "text": [
        "\n",
        "('easy', 'pcp', 'ZS')\n",
        "9.55353191602e-96"
       ]
      },
      {
       "output_type": "stream",
       "stream": "stdout",
       "text": [
        "\n",
        "('hard', 'img', 'KL')\n",
        "0.0"
       ]
      },
      {
       "output_type": "stream",
       "stream": "stdout",
       "text": [
        "\n",
        "('hard', 'img', 'RL')\n",
        "7.66942655875e-76"
       ]
      },
      {
       "output_type": "stream",
       "stream": "stdout",
       "text": [
        "\n",
        "('hard', 'img', 'ZS')\n",
        "3.23761921816e-96"
       ]
      },
      {
       "output_type": "stream",
       "stream": "stdout",
       "text": [
        "\n",
        "('hard', 'pcp', 'KL')\n",
        "0.0"
       ]
      },
      {
       "output_type": "stream",
       "stream": "stdout",
       "text": [
        "\n",
        "('hard', 'pcp', 'RL')\n",
        "0.0"
       ]
      },
      {
       "output_type": "stream",
       "stream": "stdout",
       "text": [
        "\n",
        "('hard', 'pcp', 'ZS')\n",
        "0.0"
       ]
      },
      {
       "output_type": "stream",
       "stream": "stdout",
       "text": [
        "\n",
        "4 0.0002 1.0 0.74999925\n",
        "('easy', 'img', 'KL')\n",
        "1.71244432878e-160"
       ]
      },
      {
       "output_type": "stream",
       "stream": "stdout",
       "text": [
        "\n",
        "('easy', 'img', 'RL')\n",
        "1.15479696511e-124"
       ]
      },
      {
       "output_type": "stream",
       "stream": "stdout",
       "text": [
        "\n",
        "('easy', 'img', 'ZS')\n",
        "5.1780539485e-177"
       ]
      },
      {
       "output_type": "stream",
       "stream": "stdout",
       "text": [
        "\n",
        "('easy', 'pcp', 'KL')\n",
        "2.79621069147e-178"
       ]
      },
      {
       "output_type": "stream",
       "stream": "stdout",
       "text": [
        "\n",
        "('easy', 'pcp', 'RL')\n",
        "2.19260299255e-160"
       ]
      },
      {
       "output_type": "stream",
       "stream": "stdout",
       "text": [
        "\n",
        "('easy', 'pcp', 'ZS')\n",
        "1.56013829895e-173"
       ]
      },
      {
       "output_type": "stream",
       "stream": "stdout",
       "text": [
        "\n",
        "('hard', 'img', 'KL')\n",
        "0.0"
       ]
      },
      {
       "output_type": "stream",
       "stream": "stdout",
       "text": [
        "\n",
        "('hard', 'img', 'RL')\n",
        "3.67793495527e-127"
       ]
      },
      {
       "output_type": "stream",
       "stream": "stdout",
       "text": [
        "\n",
        "('hard', 'img', 'ZS')\n",
        "2.72793361152e-170"
       ]
      },
      {
       "output_type": "stream",
       "stream": "stdout",
       "text": [
        "\n",
        "('hard', 'pcp', 'KL')\n",
        "0.0"
       ]
      },
      {
       "output_type": "stream",
       "stream": "stdout",
       "text": [
        "\n",
        "('hard', 'pcp', 'RL')\n",
        "0.0"
       ]
      },
      {
       "output_type": "stream",
       "stream": "stdout",
       "text": [
        "\n",
        "('hard', 'pcp', 'ZS')\n",
        "0.0"
       ]
      },
      {
       "output_type": "stream",
       "stream": "stdout",
       "text": [
        "\n",
        "4 0.0002 1.0 0.999999\n",
        "('easy', 'img', 'KL')\n",
        "0.0"
       ]
      },
      {
       "output_type": "stream",
       "stream": "stdout",
       "text": [
        "\n",
        "('easy', 'img', 'RL')\n",
        "0.0"
       ]
      },
      {
       "output_type": "stream",
       "stream": "stdout",
       "text": [
        "\n",
        "('easy', 'img', 'ZS')\n",
        "0.0"
       ]
      },
      {
       "output_type": "stream",
       "stream": "stdout",
       "text": [
        "\n",
        "('easy', 'pcp', 'KL')\n",
        "0.0"
       ]
      },
      {
       "output_type": "stream",
       "stream": "stdout",
       "text": [
        "\n",
        "('easy', 'pcp', 'RL')\n",
        "0.0"
       ]
      },
      {
       "output_type": "stream",
       "stream": "stdout",
       "text": [
        "\n",
        "('easy', 'pcp', 'ZS')\n",
        "0.0"
       ]
      },
      {
       "output_type": "stream",
       "stream": "stdout",
       "text": [
        "\n",
        "('hard', 'img', 'KL')\n",
        "0.0"
       ]
      },
      {
       "output_type": "stream",
       "stream": "stdout",
       "text": [
        "\n",
        "('hard', 'img', 'RL')\n",
        "0.0"
       ]
      },
      {
       "output_type": "stream",
       "stream": "stdout",
       "text": [
        "\n",
        "('hard', 'img', 'ZS')\n",
        "0.0"
       ]
      },
      {
       "output_type": "stream",
       "stream": "stdout",
       "text": [
        "\n",
        "('hard', 'pcp', 'KL')\n",
        "0.0"
       ]
      },
      {
       "output_type": "stream",
       "stream": "stdout",
       "text": [
        "\n",
        "('hard', 'pcp', 'RL')\n",
        "0.0"
       ]
      },
      {
       "output_type": "stream",
       "stream": "stdout",
       "text": [
        "\n",
        "('hard', 'pcp', 'ZS')\n",
        "0.0"
       ]
      },
      {
       "output_type": "stream",
       "stream": "stdout",
       "text": [
        "\n",
        "4 0.00025 1e-06 0.0\n",
        "('easy', 'img', 'KL')\n",
        "0.0"
       ]
      },
      {
       "output_type": "stream",
       "stream": "stdout",
       "text": [
        "\n",
        "('easy', 'img', 'RL')\n",
        "0.0"
       ]
      },
      {
       "output_type": "stream",
       "stream": "stdout",
       "text": [
        "\n",
        "('easy', 'img', 'ZS')\n",
        "0.0"
       ]
      },
      {
       "output_type": "stream",
       "stream": "stdout",
       "text": [
        "\n",
        "('easy', 'pcp', 'KL')\n",
        "0.0"
       ]
      },
      {
       "output_type": "stream",
       "stream": "stdout",
       "text": [
        "\n",
        "('easy', 'pcp', 'RL')\n",
        "0.0"
       ]
      },
      {
       "output_type": "stream",
       "stream": "stdout",
       "text": [
        "\n",
        "('easy', 'pcp', 'ZS')\n",
        "0.0"
       ]
      },
      {
       "output_type": "stream",
       "stream": "stdout",
       "text": [
        "\n",
        "('hard', 'img', 'KL')\n",
        "0.0"
       ]
      },
      {
       "output_type": "stream",
       "stream": "stdout",
       "text": [
        "\n",
        "('hard', 'img', 'RL')\n",
        "0.0"
       ]
      },
      {
       "output_type": "stream",
       "stream": "stdout",
       "text": [
        "\n",
        "('hard', 'img', 'ZS')\n",
        "0.0"
       ]
      },
      {
       "output_type": "stream",
       "stream": "stdout",
       "text": [
        "\n",
        "('hard', 'pcp', 'KL')\n",
        "0.0"
       ]
      },
      {
       "output_type": "stream",
       "stream": "stdout",
       "text": [
        "\n",
        "('hard', 'pcp', 'RL')\n",
        "0.0"
       ]
      },
      {
       "output_type": "stream",
       "stream": "stdout",
       "text": [
        "\n",
        "('hard', 'pcp', 'ZS')\n",
        "0.0"
       ]
      },
      {
       "output_type": "stream",
       "stream": "stdout",
       "text": [
        "\n",
        "4 0.00025 0.25000075 0.0\n",
        "('easy', 'img', 'KL')\n",
        "0.0"
       ]
      },
      {
       "output_type": "stream",
       "stream": "stdout",
       "text": [
        "\n",
        "('easy', 'img', 'RL')\n",
        "0.0"
       ]
      },
      {
       "output_type": "stream",
       "stream": "stdout",
       "text": [
        "\n",
        "('easy', 'img', 'ZS')\n",
        "0.0"
       ]
      },
      {
       "output_type": "stream",
       "stream": "stdout",
       "text": [
        "\n",
        "('easy', 'pcp', 'KL')\n",
        "0.0"
       ]
      },
      {
       "output_type": "stream",
       "stream": "stdout",
       "text": [
        "\n",
        "('easy', 'pcp', 'RL')\n",
        "0.0"
       ]
      },
      {
       "output_type": "stream",
       "stream": "stdout",
       "text": [
        "\n",
        "('easy', 'pcp', 'ZS')\n",
        "0.0"
       ]
      },
      {
       "output_type": "stream",
       "stream": "stdout",
       "text": [
        "\n",
        "('hard', 'img', 'KL')\n",
        "0.0"
       ]
      },
      {
       "output_type": "stream",
       "stream": "stdout",
       "text": [
        "\n",
        "('hard', 'img', 'RL')\n",
        "0.0"
       ]
      },
      {
       "output_type": "stream",
       "stream": "stdout",
       "text": [
        "\n",
        "('hard', 'img', 'ZS')\n",
        "0.0"
       ]
      },
      {
       "output_type": "stream",
       "stream": "stdout",
       "text": [
        "\n",
        "('hard', 'pcp', 'KL')\n",
        "0.0"
       ]
      },
      {
       "output_type": "stream",
       "stream": "stdout",
       "text": [
        "\n",
        "('hard', 'pcp', 'RL')\n",
        "0.0"
       ]
      },
      {
       "output_type": "stream",
       "stream": "stdout",
       "text": [
        "\n",
        "('hard', 'pcp', 'ZS')\n",
        "0.0"
       ]
      },
      {
       "output_type": "stream",
       "stream": "stdout",
       "text": [
        "\n",
        "4 0.00025 0.25000075 0.24999975\n",
        "('easy', 'img', 'KL')\n",
        "1.60872463763e-85"
       ]
      },
      {
       "output_type": "stream",
       "stream": "stdout",
       "text": [
        "\n",
        "('easy', 'img', 'RL')\n",
        "2.88195936562e-113"
       ]
      },
      {
       "output_type": "stream",
       "stream": "stdout",
       "text": [
        "\n",
        "('easy', 'img', 'ZS')\n",
        "2.73576213061e-78"
       ]
      },
      {
       "output_type": "stream",
       "stream": "stdout",
       "text": [
        "\n",
        "('easy', 'pcp', 'KL')\n",
        "2.43179114433e-78"
       ]
      },
      {
       "output_type": "stream",
       "stream": "stdout",
       "text": [
        "\n",
        "('easy', 'pcp', 'RL')\n",
        "2.91641787433e-94"
       ]
      },
      {
       "output_type": "stream",
       "stream": "stdout",
       "text": [
        "\n",
        "('easy', 'pcp', 'ZS')\n",
        "7.69432570253e-79"
       ]
      },
      {
       "output_type": "stream",
       "stream": "stdout",
       "text": [
        "\n",
        "('hard', 'img', 'KL')\n",
        "0.0"
       ]
      },
      {
       "output_type": "stream",
       "stream": "stdout",
       "text": [
        "\n",
        "('hard', 'img', 'RL')\n",
        "5.61608996183e-114"
       ]
      },
      {
       "output_type": "stream",
       "stream": "stdout",
       "text": [
        "\n",
        "('hard', 'img', 'ZS')\n",
        "2.58022393244e-88"
       ]
      },
      {
       "output_type": "stream",
       "stream": "stdout",
       "text": [
        "\n",
        "('hard', 'pcp', 'KL')\n",
        "0.0"
       ]
      },
      {
       "output_type": "stream",
       "stream": "stdout",
       "text": [
        "\n",
        "('hard', 'pcp', 'RL')\n",
        "0.0"
       ]
      },
      {
       "output_type": "stream",
       "stream": "stdout",
       "text": [
        "\n",
        "('hard', 'pcp', 'ZS')\n",
        "0.0"
       ]
      },
      {
       "output_type": "stream",
       "stream": "stdout",
       "text": [
        "\n",
        "4 0.00025 0.5000005 0.0\n",
        "('easy', 'img', 'KL')\n",
        "0.0"
       ]
      },
      {
       "output_type": "stream",
       "stream": "stdout",
       "text": [
        "\n",
        "('easy', 'img', 'RL')\n",
        "0.0"
       ]
      },
      {
       "output_type": "stream",
       "stream": "stdout",
       "text": [
        "\n",
        "('easy', 'img', 'ZS')\n",
        "0.0"
       ]
      },
      {
       "output_type": "stream",
       "stream": "stdout",
       "text": [
        "\n",
        "('easy', 'pcp', 'KL')\n",
        "0.0"
       ]
      },
      {
       "output_type": "stream",
       "stream": "stdout",
       "text": [
        "\n",
        "('easy', 'pcp', 'RL')\n",
        "0.0"
       ]
      },
      {
       "output_type": "stream",
       "stream": "stdout",
       "text": [
        "\n",
        "('easy', 'pcp', 'ZS')\n",
        "0.0"
       ]
      },
      {
       "output_type": "stream",
       "stream": "stdout",
       "text": [
        "\n",
        "('hard', 'img', 'KL')\n",
        "0.0"
       ]
      },
      {
       "output_type": "stream",
       "stream": "stdout",
       "text": [
        "\n",
        "('hard', 'img', 'RL')\n",
        "0.0"
       ]
      },
      {
       "output_type": "stream",
       "stream": "stdout",
       "text": [
        "\n",
        "('hard', 'img', 'ZS')\n",
        "0.0"
       ]
      },
      {
       "output_type": "stream",
       "stream": "stdout",
       "text": [
        "\n",
        "('hard', 'pcp', 'KL')\n",
        "0.0"
       ]
      },
      {
       "output_type": "stream",
       "stream": "stdout",
       "text": [
        "\n",
        "('hard', 'pcp', 'RL')\n",
        "0.0"
       ]
      },
      {
       "output_type": "stream",
       "stream": "stdout",
       "text": [
        "\n",
        "('hard', 'pcp', 'ZS')\n",
        "0.0"
       ]
      },
      {
       "output_type": "stream",
       "stream": "stdout",
       "text": [
        "\n",
        "4 0.00025 0.5000005 0.24999975\n",
        "('easy', 'img', 'KL')\n",
        "6.25652066971e-65"
       ]
      },
      {
       "output_type": "stream",
       "stream": "stdout",
       "text": [
        "\n",
        "('easy', 'img', 'RL')\n",
        "3.52847496417e-82"
       ]
      },
      {
       "output_type": "stream",
       "stream": "stdout",
       "text": [
        "\n",
        "('easy', 'img', 'ZS')\n",
        "1.32840124468e-61"
       ]
      },
      {
       "output_type": "stream",
       "stream": "stdout",
       "text": [
        "\n",
        "('easy', 'pcp', 'KL')\n",
        "1.20113046563e-61"
       ]
      },
      {
       "output_type": "stream",
       "stream": "stdout",
       "text": [
        "\n",
        "('easy', 'pcp', 'RL')\n",
        "2.48550471961e-71"
       ]
      },
      {
       "output_type": "stream",
       "stream": "stdout",
       "text": [
        "\n",
        "('easy', 'pcp', 'ZS')\n",
        "9.26329947994e-62"
       ]
      },
      {
       "output_type": "stream",
       "stream": "stdout",
       "text": [
        "\n",
        "('hard', 'img', 'KL')\n",
        "0.0"
       ]
      },
      {
       "output_type": "stream",
       "stream": "stdout",
       "text": [
        "\n",
        "('hard', 'img', 'RL')\n",
        "8.29311530009e-84"
       ]
      },
      {
       "output_type": "stream",
       "stream": "stdout",
       "text": [
        "\n",
        "('hard', 'img', 'ZS')\n",
        "2.46747119149e-68"
       ]
      },
      {
       "output_type": "stream",
       "stream": "stdout",
       "text": [
        "\n",
        "('hard', 'pcp', 'KL')\n",
        "0.0"
       ]
      },
      {
       "output_type": "stream",
       "stream": "stdout",
       "text": [
        "\n",
        "('hard', 'pcp', 'RL')\n",
        "0.0"
       ]
      },
      {
       "output_type": "stream",
       "stream": "stdout",
       "text": [
        "\n",
        "('hard', 'pcp', 'ZS')\n",
        "0.0"
       ]
      },
      {
       "output_type": "stream",
       "stream": "stdout",
       "text": [
        "\n",
        "4 0.00025 0.5000005 0.4999995\n",
        "('easy', 'img', 'KL')\n",
        "8.3430884192e-64"
       ]
      },
      {
       "output_type": "stream",
       "stream": "stdout",
       "text": [
        "\n",
        "('easy', 'img', 'RL')\n",
        "1.32459906415e-69"
       ]
      },
      {
       "output_type": "stream",
       "stream": "stdout",
       "text": [
        "\n",
        "('easy', 'img', 'ZS')\n",
        "1.09868102271e-64"
       ]
      },
      {
       "output_type": "stream",
       "stream": "stdout",
       "text": [
        "\n",
        "('easy', 'pcp', 'KL')\n",
        "3.25535702787e-65"
       ]
      },
      {
       "output_type": "stream",
       "stream": "stdout",
       "text": [
        "\n",
        "('easy', 'pcp', 'RL')\n",
        "3.30779494968e-69"
       ]
      },
      {
       "output_type": "stream",
       "stream": "stdout",
       "text": [
        "\n",
        "('easy', 'pcp', 'ZS')\n",
        "8.34307968505e-64"
       ]
      },
      {
       "output_type": "stream",
       "stream": "stdout",
       "text": [
        "\n",
        "('hard', 'img', 'KL')\n",
        "0.0"
       ]
      },
      {
       "output_type": "stream",
       "stream": "stdout",
       "text": [
        "\n",
        "('hard', 'img', 'RL')\n",
        "7.74375434137e-70"
       ]
      },
      {
       "output_type": "stream",
       "stream": "stdout",
       "text": [
        "\n",
        "('hard', 'img', 'ZS')\n",
        "5.50677192935e-69"
       ]
      },
      {
       "output_type": "stream",
       "stream": "stdout",
       "text": [
        "\n",
        "('hard', 'pcp', 'KL')\n",
        "0.0"
       ]
      },
      {
       "output_type": "stream",
       "stream": "stdout",
       "text": [
        "\n",
        "('hard', 'pcp', 'RL')\n",
        "0.0"
       ]
      },
      {
       "output_type": "stream",
       "stream": "stdout",
       "text": [
        "\n",
        "('hard', 'pcp', 'ZS')\n",
        "0.0"
       ]
      },
      {
       "output_type": "stream",
       "stream": "stdout",
       "text": [
        "\n",
        "4 0.00025 0.75000025 0.0\n",
        "('easy', 'img', 'KL')\n",
        "0.0"
       ]
      },
      {
       "output_type": "stream",
       "stream": "stdout",
       "text": [
        "\n",
        "('easy', 'img', 'RL')\n",
        "0.0"
       ]
      },
      {
       "output_type": "stream",
       "stream": "stdout",
       "text": [
        "\n",
        "('easy', 'img', 'ZS')\n",
        "0.0"
       ]
      },
      {
       "output_type": "stream",
       "stream": "stdout",
       "text": [
        "\n",
        "('easy', 'pcp', 'KL')\n",
        "0.0"
       ]
      },
      {
       "output_type": "stream",
       "stream": "stdout",
       "text": [
        "\n",
        "('easy', 'pcp', 'RL')\n",
        "0.0"
       ]
      },
      {
       "output_type": "stream",
       "stream": "stdout",
       "text": [
        "\n",
        "('easy', 'pcp', 'ZS')\n",
        "0.0"
       ]
      },
      {
       "output_type": "stream",
       "stream": "stdout",
       "text": [
        "\n",
        "('hard', 'img', 'KL')\n",
        "0.0"
       ]
      },
      {
       "output_type": "stream",
       "stream": "stdout",
       "text": [
        "\n",
        "('hard', 'img', 'RL')\n",
        "0.0"
       ]
      },
      {
       "output_type": "stream",
       "stream": "stdout",
       "text": [
        "\n",
        "('hard', 'img', 'ZS')\n",
        "0.0"
       ]
      },
      {
       "output_type": "stream",
       "stream": "stdout",
       "text": [
        "\n",
        "('hard', 'pcp', 'KL')\n",
        "0.0"
       ]
      },
      {
       "output_type": "stream",
       "stream": "stdout",
       "text": [
        "\n",
        "('hard', 'pcp', 'RL')\n",
        "0.0"
       ]
      },
      {
       "output_type": "stream",
       "stream": "stdout",
       "text": [
        "\n",
        "('hard', 'pcp', 'ZS')\n",
        "0.0"
       ]
      },
      {
       "output_type": "stream",
       "stream": "stdout",
       "text": [
        "\n",
        "4 0.00025 0.75000025 0.24999975\n",
        "('easy', 'img', 'KL')\n",
        "9.05769170671e-57"
       ]
      },
      {
       "output_type": "stream",
       "stream": "stdout",
       "text": [
        "\n",
        "('easy', 'img', 'RL')\n",
        "3.52970209717e-65"
       ]
      },
      {
       "output_type": "stream",
       "stream": "stdout",
       "text": [
        "\n",
        "('easy', 'img', 'ZS')\n",
        "4.66777212835e-57"
       ]
      },
      {
       "output_type": "stream",
       "stream": "stdout",
       "text": [
        "\n",
        "('easy', 'pcp', 'KL')\n",
        "7.35430456472e-57"
       ]
      },
      {
       "output_type": "stream",
       "stream": "stdout",
       "text": [
        "\n",
        "('easy', 'pcp', 'RL')\n",
        "2.19351093576e-61"
       ]
      },
      {
       "output_type": "stream",
       "stream": "stdout",
       "text": [
        "\n",
        "('easy', 'pcp', 'ZS')\n",
        "1.30249556325e-56"
       ]
      },
      {
       "output_type": "stream",
       "stream": "stdout",
       "text": [
        "\n",
        "('hard', 'img', 'KL')\n",
        "0.0"
       ]
      },
      {
       "output_type": "stream",
       "stream": "stdout",
       "text": [
        "\n",
        "('hard', 'img', 'RL')\n",
        "3.82318311757e-68"
       ]
      },
      {
       "output_type": "stream",
       "stream": "stdout",
       "text": [
        "\n",
        "('hard', 'img', 'ZS')\n",
        "3.59057190011e-61"
       ]
      },
      {
       "output_type": "stream",
       "stream": "stdout",
       "text": [
        "\n",
        "('hard', 'pcp', 'KL')\n",
        "0.0"
       ]
      },
      {
       "output_type": "stream",
       "stream": "stdout",
       "text": [
        "\n",
        "('hard', 'pcp', 'RL')\n",
        "0.0"
       ]
      },
      {
       "output_type": "stream",
       "stream": "stdout",
       "text": [
        "\n",
        "('hard', 'pcp', 'ZS')\n",
        "0.0"
       ]
      },
      {
       "output_type": "stream",
       "stream": "stdout",
       "text": [
        "\n",
        "4 0.00025 0.75000025 0.4999995\n",
        "('easy', 'img', 'KL')\n",
        "3.57078664374e-71"
       ]
      },
      {
       "output_type": "stream",
       "stream": "stdout",
       "text": [
        "\n",
        "('easy', 'img', 'RL')\n",
        "4.32585430662e-67"
       ]
      },
      {
       "output_type": "stream",
       "stream": "stdout",
       "text": [
        "\n",
        "('easy', 'img', 'ZS')\n",
        "9.9360204239e-76"
       ]
      },
      {
       "output_type": "stream",
       "stream": "stdout",
       "text": [
        "\n",
        "('easy', 'pcp', 'KL')\n",
        "3.08872505583e-76"
       ]
      },
      {
       "output_type": "stream",
       "stream": "stdout",
       "text": [
        "\n",
        "('easy', 'pcp', 'RL')\n",
        "2.02897419039e-74"
       ]
      },
      {
       "output_type": "stream",
       "stream": "stdout",
       "text": [
        "\n",
        "('easy', 'pcp', 'ZS')\n",
        "2.00701152438e-74"
       ]
      },
      {
       "output_type": "stream",
       "stream": "stdout",
       "text": [
        "\n",
        "('hard', 'img', 'KL')\n",
        "0.0"
       ]
      },
      {
       "output_type": "stream",
       "stream": "stdout",
       "text": [
        "\n",
        "('hard', 'img', 'RL')\n",
        "2.53599114219e-68"
       ]
      },
      {
       "output_type": "stream",
       "stream": "stdout",
       "text": [
        "\n",
        "('hard', 'img', 'ZS')\n",
        "3.63138656973e-77"
       ]
      },
      {
       "output_type": "stream",
       "stream": "stdout",
       "text": [
        "\n",
        "('hard', 'pcp', 'KL')\n",
        "0.0"
       ]
      },
      {
       "output_type": "stream",
       "stream": "stdout",
       "text": [
        "\n",
        "('hard', 'pcp', 'RL')\n",
        "0.0"
       ]
      },
      {
       "output_type": "stream",
       "stream": "stdout",
       "text": [
        "\n",
        "('hard', 'pcp', 'ZS')\n",
        "0.0"
       ]
      },
      {
       "output_type": "stream",
       "stream": "stdout",
       "text": [
        "\n",
        "4 0.00025 0.75000025 0.74999925\n",
        "('easy', 'img', 'KL')\n",
        "1.47044087832e-105"
       ]
      },
      {
       "output_type": "stream",
       "stream": "stdout",
       "text": [
        "\n",
        "('easy', 'img', 'RL')\n",
        "2.06897797987e-89"
       ]
      },
      {
       "output_type": "stream",
       "stream": "stdout",
       "text": [
        "\n",
        "('easy', 'img', 'ZS')\n",
        "1.49948185794e-114"
       ]
      },
      {
       "output_type": "stream",
       "stream": "stdout",
       "text": [
        "\n",
        "('easy', 'pcp', 'KL')\n",
        "1.48097525903e-115"
       ]
      },
      {
       "output_type": "stream",
       "stream": "stdout",
       "text": [
        "\n",
        "('easy', 'pcp', 'RL')\n",
        "1.27498496972e-107"
       ]
      },
      {
       "output_type": "stream",
       "stream": "stdout",
       "text": [
        "\n",
        "('easy', 'pcp', 'ZS')\n",
        "3.07437968813e-112"
       ]
      },
      {
       "output_type": "stream",
       "stream": "stdout",
       "text": [
        "\n",
        "('hard', 'img', 'KL')\n",
        "0.0"
       ]
      },
      {
       "output_type": "stream",
       "stream": "stdout",
       "text": [
        "\n",
        "('hard', 'img', 'RL')\n",
        "3.62861820324e-89"
       ]
      },
      {
       "output_type": "stream",
       "stream": "stdout",
       "text": [
        "\n",
        "('hard', 'img', 'ZS')\n",
        "3.99405783553e-113"
       ]
      },
      {
       "output_type": "stream",
       "stream": "stdout",
       "text": [
        "\n",
        "('hard', 'pcp', 'KL')\n",
        "0.0"
       ]
      },
      {
       "output_type": "stream",
       "stream": "stdout",
       "text": [
        "\n",
        "('hard', 'pcp', 'RL')\n",
        "0.0"
       ]
      },
      {
       "output_type": "stream",
       "stream": "stdout",
       "text": [
        "\n",
        "('hard', 'pcp', 'ZS')\n",
        "0.0"
       ]
      },
      {
       "output_type": "stream",
       "stream": "stdout",
       "text": [
        "\n",
        "4 0.00025 1.0 0.0\n",
        "('easy', 'img', 'KL')\n",
        "0.0"
       ]
      },
      {
       "output_type": "stream",
       "stream": "stdout",
       "text": [
        "\n",
        "('easy', 'img', 'RL')\n",
        "0.0"
       ]
      },
      {
       "output_type": "stream",
       "stream": "stdout",
       "text": [
        "\n",
        "('easy', 'img', 'ZS')\n",
        "0.0"
       ]
      },
      {
       "output_type": "stream",
       "stream": "stdout",
       "text": [
        "\n",
        "('easy', 'pcp', 'KL')\n",
        "0.0"
       ]
      },
      {
       "output_type": "stream",
       "stream": "stdout",
       "text": [
        "\n",
        "('easy', 'pcp', 'RL')\n",
        "0.0"
       ]
      },
      {
       "output_type": "stream",
       "stream": "stdout",
       "text": [
        "\n",
        "('easy', 'pcp', 'ZS')\n",
        "0.0"
       ]
      },
      {
       "output_type": "stream",
       "stream": "stdout",
       "text": [
        "\n",
        "('hard', 'img', 'KL')\n",
        "0.0"
       ]
      },
      {
       "output_type": "stream",
       "stream": "stdout",
       "text": [
        "\n",
        "('hard', 'img', 'RL')\n",
        "0.0"
       ]
      },
      {
       "output_type": "stream",
       "stream": "stdout",
       "text": [
        "\n",
        "('hard', 'img', 'ZS')\n",
        "0.0"
       ]
      },
      {
       "output_type": "stream",
       "stream": "stdout",
       "text": [
        "\n",
        "('hard', 'pcp', 'KL')\n",
        "0.0"
       ]
      },
      {
       "output_type": "stream",
       "stream": "stdout",
       "text": [
        "\n",
        "('hard', 'pcp', 'RL')\n",
        "0.0"
       ]
      },
      {
       "output_type": "stream",
       "stream": "stdout",
       "text": [
        "\n",
        "('hard', 'pcp', 'ZS')\n",
        "0.0"
       ]
      },
      {
       "output_type": "stream",
       "stream": "stdout",
       "text": [
        "\n",
        "4 0.00025 1.0 0.24999975\n",
        "('easy', 'img', 'KL')\n",
        "9.33554574345e-59"
       ]
      },
      {
       "output_type": "stream",
       "stream": "stdout",
       "text": [
        "\n",
        "('easy', 'img', 'RL')\n",
        "3.29885698734e-58"
       ]
      },
      {
       "output_type": "stream",
       "stream": "stdout",
       "text": [
        "\n",
        "('easy', 'img', 'ZS')\n",
        "1.30998595274e-63"
       ]
      },
      {
       "output_type": "stream",
       "stream": "stdout",
       "text": [
        "\n",
        "('easy', 'pcp', 'KL')\n",
        "5.16269340754e-62"
       ]
      },
      {
       "output_type": "stream",
       "stream": "stdout",
       "text": [
        "\n",
        "('easy', 'pcp', 'RL')\n",
        "2.63358994628e-62"
       ]
      },
      {
       "output_type": "stream",
       "stream": "stdout",
       "text": [
        "\n",
        "('easy', 'pcp', 'ZS')\n",
        "2.72404995408e-61"
       ]
      },
      {
       "output_type": "stream",
       "stream": "stdout",
       "text": [
        "\n",
        "('hard', 'img', 'KL')\n",
        "0.0"
       ]
      },
      {
       "output_type": "stream",
       "stream": "stdout",
       "text": [
        "\n",
        "('hard', 'img', 'RL')\n",
        "8.79384374828e-64"
       ]
      },
      {
       "output_type": "stream",
       "stream": "stdout",
       "text": [
        "\n",
        "('hard', 'img', 'ZS')\n",
        "2.61746566951e-65"
       ]
      },
      {
       "output_type": "stream",
       "stream": "stdout",
       "text": [
        "\n",
        "('hard', 'pcp', 'KL')\n",
        "0.0"
       ]
      },
      {
       "output_type": "stream",
       "stream": "stdout",
       "text": [
        "\n",
        "('hard', 'pcp', 'RL')\n",
        "0.0"
       ]
      },
      {
       "output_type": "stream",
       "stream": "stdout",
       "text": [
        "\n",
        "('hard', 'pcp', 'ZS')\n",
        "0.0"
       ]
      },
      {
       "output_type": "stream",
       "stream": "stdout",
       "text": [
        "\n",
        "4 0.00025 1.0 0.4999995\n",
        "('easy', 'img', 'KL')\n",
        "2.08908250688e-93"
       ]
      },
      {
       "output_type": "stream",
       "stream": "stdout",
       "text": [
        "\n",
        "('easy', 'img', 'RL')\n",
        "1.89587402623e-76"
       ]
      },
      {
       "output_type": "stream",
       "stream": "stdout",
       "text": [
        "\n",
        "('easy', 'img', 'ZS')\n",
        "2.97319145766e-103"
       ]
      },
      {
       "output_type": "stream",
       "stream": "stdout",
       "text": [
        "\n",
        "('easy', 'pcp', 'KL')\n",
        "2.94926595175e-103"
       ]
      },
      {
       "output_type": "stream",
       "stream": "stdout",
       "text": [
        "\n",
        "('easy', 'pcp', 'RL')\n",
        "7.20746677332e-95"
       ]
      },
      {
       "output_type": "stream",
       "stream": "stdout",
       "text": [
        "\n",
        "('easy', 'pcp', 'ZS')\n",
        "1.42701169597e-100"
       ]
      },
      {
       "output_type": "stream",
       "stream": "stdout",
       "text": [
        "\n",
        "('hard', 'img', 'KL')\n",
        "0.0"
       ]
      },
      {
       "output_type": "stream",
       "stream": "stdout",
       "text": [
        "\n",
        "('hard', 'img', 'RL')\n",
        "4.53668530607e-80"
       ]
      },
      {
       "output_type": "stream",
       "stream": "stdout",
       "text": [
        "\n",
        "('hard', 'img', 'ZS')\n",
        "1.10043282644e-101"
       ]
      },
      {
       "output_type": "stream",
       "stream": "stdout",
       "text": [
        "\n",
        "('hard', 'pcp', 'KL')\n",
        "0.0"
       ]
      },
      {
       "output_type": "stream",
       "stream": "stdout",
       "text": [
        "\n",
        "('hard', 'pcp', 'RL')\n",
        "0.0"
       ]
      },
      {
       "output_type": "stream",
       "stream": "stdout",
       "text": [
        "\n",
        "('hard', 'pcp', 'ZS')\n",
        "0.0"
       ]
      },
      {
       "output_type": "stream",
       "stream": "stdout",
       "text": [
        "\n",
        "4 0.00025 1.0 0.74999925\n",
        "('easy', 'img', 'KL')\n",
        "4.38523310587e-166"
       ]
      },
      {
       "output_type": "stream",
       "stream": "stdout",
       "text": [
        "\n",
        "('easy', 'img', 'RL')\n",
        "5.09047879148e-130"
       ]
      },
      {
       "output_type": "stream",
       "stream": "stdout",
       "text": [
        "\n",
        "('easy', 'img', 'ZS')\n",
        "1.03008761419e-182"
       ]
      },
      {
       "output_type": "stream",
       "stream": "stdout",
       "text": [
        "\n",
        "('easy', 'pcp', 'KL')\n",
        "1.22300769138e-183"
       ]
      },
      {
       "output_type": "stream",
       "stream": "stdout",
       "text": [
        "\n",
        "('easy', 'pcp', 'RL')\n",
        "4.97019695354e-165"
       ]
      },
      {
       "output_type": "stream",
       "stream": "stdout",
       "text": [
        "\n",
        "('easy', 'pcp', 'ZS')\n",
        "5.18349166024e-179"
       ]
      },
      {
       "output_type": "stream",
       "stream": "stdout",
       "text": [
        "\n",
        "('hard', 'img', 'KL')\n",
        "0.0"
       ]
      },
      {
       "output_type": "stream",
       "stream": "stdout",
       "text": [
        "\n",
        "('hard', 'img', 'RL')\n",
        "1.53334112471e-132"
       ]
      },
      {
       "output_type": "stream",
       "stream": "stdout",
       "text": [
        "\n",
        "('hard', 'img', 'ZS')\n",
        "1.51970172378e-176"
       ]
      },
      {
       "output_type": "stream",
       "stream": "stdout",
       "text": [
        "\n",
        "('hard', 'pcp', 'KL')\n",
        "0.0"
       ]
      },
      {
       "output_type": "stream",
       "stream": "stdout",
       "text": [
        "\n",
        "('hard', 'pcp', 'RL')\n",
        "0.0"
       ]
      },
      {
       "output_type": "stream",
       "stream": "stdout",
       "text": [
        "\n",
        "('hard', 'pcp', 'ZS')\n",
        "0.0"
       ]
      },
      {
       "output_type": "stream",
       "stream": "stdout",
       "text": [
        "\n",
        "4 0.00025 1.0 0.999999\n",
        "('easy', 'img', 'KL')\n",
        "0.0"
       ]
      },
      {
       "output_type": "stream",
       "stream": "stdout",
       "text": [
        "\n",
        "('easy', 'img', 'RL')\n",
        "0.0"
       ]
      },
      {
       "output_type": "stream",
       "stream": "stdout",
       "text": [
        "\n",
        "('easy', 'img', 'ZS')\n",
        "0.0"
       ]
      },
      {
       "output_type": "stream",
       "stream": "stdout",
       "text": [
        "\n",
        "('easy', 'pcp', 'KL')\n",
        "0.0"
       ]
      },
      {
       "output_type": "stream",
       "stream": "stdout",
       "text": [
        "\n",
        "('easy', 'pcp', 'RL')\n",
        "0.0"
       ]
      },
      {
       "output_type": "stream",
       "stream": "stdout",
       "text": [
        "\n",
        "('easy', 'pcp', 'ZS')\n",
        "0.0"
       ]
      },
      {
       "output_type": "stream",
       "stream": "stdout",
       "text": [
        "\n",
        "('hard', 'img', 'KL')\n",
        "0.0"
       ]
      },
      {
       "output_type": "stream",
       "stream": "stdout",
       "text": [
        "\n",
        "('hard', 'img', 'RL')\n",
        "0.0"
       ]
      },
      {
       "output_type": "stream",
       "stream": "stdout",
       "text": [
        "\n",
        "('hard', 'img', 'ZS')\n",
        "0.0"
       ]
      },
      {
       "output_type": "stream",
       "stream": "stdout",
       "text": [
        "\n",
        "('hard', 'pcp', 'KL')\n",
        "0.0"
       ]
      },
      {
       "output_type": "stream",
       "stream": "stdout",
       "text": [
        "\n",
        "('hard', 'pcp', 'RL')\n",
        "0.0"
       ]
      },
      {
       "output_type": "stream",
       "stream": "stdout",
       "text": [
        "\n",
        "('hard', 'pcp', 'ZS')\n",
        "0.0"
       ]
      },
      {
       "output_type": "stream",
       "stream": "stdout",
       "text": [
        "\n",
        "4 0.0003 1e-06 0.0\n",
        "('easy', 'img', 'KL')\n",
        "0.0"
       ]
      },
      {
       "output_type": "stream",
       "stream": "stdout",
       "text": [
        "\n",
        "('easy', 'img', 'RL')\n",
        "0.0"
       ]
      },
      {
       "output_type": "stream",
       "stream": "stdout",
       "text": [
        "\n",
        "('easy', 'img', 'ZS')\n",
        "0.0"
       ]
      },
      {
       "output_type": "stream",
       "stream": "stdout",
       "text": [
        "\n",
        "('easy', 'pcp', 'KL')\n",
        "0.0"
       ]
      },
      {
       "output_type": "stream",
       "stream": "stdout",
       "text": [
        "\n",
        "('easy', 'pcp', 'RL')\n",
        "0.0"
       ]
      },
      {
       "output_type": "stream",
       "stream": "stdout",
       "text": [
        "\n",
        "('easy', 'pcp', 'ZS')\n",
        "0.0"
       ]
      },
      {
       "output_type": "stream",
       "stream": "stdout",
       "text": [
        "\n",
        "('hard', 'img', 'KL')\n",
        "0.0"
       ]
      },
      {
       "output_type": "stream",
       "stream": "stdout",
       "text": [
        "\n",
        "('hard', 'img', 'RL')\n",
        "0.0"
       ]
      },
      {
       "output_type": "stream",
       "stream": "stdout",
       "text": [
        "\n",
        "('hard', 'img', 'ZS')\n",
        "0.0"
       ]
      },
      {
       "output_type": "stream",
       "stream": "stdout",
       "text": [
        "\n",
        "('hard', 'pcp', 'KL')\n",
        "0.0"
       ]
      },
      {
       "output_type": "stream",
       "stream": "stdout",
       "text": [
        "\n",
        "('hard', 'pcp', 'RL')\n",
        "0.0"
       ]
      },
      {
       "output_type": "stream",
       "stream": "stdout",
       "text": [
        "\n",
        "('hard', 'pcp', 'ZS')\n",
        "0.0"
       ]
      },
      {
       "output_type": "stream",
       "stream": "stdout",
       "text": [
        "\n",
        "4 0.0003 0.25000075 0.0\n",
        "('easy', 'img', 'KL')\n",
        "0.0"
       ]
      },
      {
       "output_type": "stream",
       "stream": "stdout",
       "text": [
        "\n",
        "('easy', 'img', 'RL')\n",
        "0.0"
       ]
      },
      {
       "output_type": "stream",
       "stream": "stdout",
       "text": [
        "\n",
        "('easy', 'img', 'ZS')\n",
        "0.0"
       ]
      },
      {
       "output_type": "stream",
       "stream": "stdout",
       "text": [
        "\n",
        "('easy', 'pcp', 'KL')\n",
        "0.0"
       ]
      },
      {
       "output_type": "stream",
       "stream": "stdout",
       "text": [
        "\n",
        "('easy', 'pcp', 'RL')\n",
        "0.0"
       ]
      },
      {
       "output_type": "stream",
       "stream": "stdout",
       "text": [
        "\n",
        "('easy', 'pcp', 'ZS')\n",
        "0.0"
       ]
      },
      {
       "output_type": "stream",
       "stream": "stdout",
       "text": [
        "\n",
        "('hard', 'img', 'KL')\n",
        "0.0"
       ]
      },
      {
       "output_type": "stream",
       "stream": "stdout",
       "text": [
        "\n",
        "('hard', 'img', 'RL')\n",
        "0.0"
       ]
      },
      {
       "output_type": "stream",
       "stream": "stdout",
       "text": [
        "\n",
        "('hard', 'img', 'ZS')\n",
        "0.0"
       ]
      },
      {
       "output_type": "stream",
       "stream": "stdout",
       "text": [
        "\n",
        "('hard', 'pcp', 'KL')\n",
        "0.0"
       ]
      },
      {
       "output_type": "stream",
       "stream": "stdout",
       "text": [
        "\n",
        "('hard', 'pcp', 'RL')\n",
        "0.0"
       ]
      },
      {
       "output_type": "stream",
       "stream": "stdout",
       "text": [
        "\n",
        "('hard', 'pcp', 'ZS')\n",
        "0.0"
       ]
      },
      {
       "output_type": "stream",
       "stream": "stdout",
       "text": [
        "\n",
        "4 0.0003 0.25000075 0.24999975\n",
        "('easy', 'img', 'KL')\n",
        "1.60875794355e-85"
       ]
      },
      {
       "output_type": "stream",
       "stream": "stdout",
       "text": [
        "\n",
        "('easy', 'img', 'RL')\n",
        "2.8820472216e-113"
       ]
      },
      {
       "output_type": "stream",
       "stream": "stdout",
       "text": [
        "\n",
        "('easy', 'img', 'ZS')\n",
        "2.7358208218e-78"
       ]
      },
      {
       "output_type": "stream",
       "stream": "stdout",
       "text": [
        "\n",
        "('easy', 'pcp', 'KL')\n",
        "2.43182971124e-78"
       ]
      },
      {
       "output_type": "stream",
       "stream": "stdout",
       "text": [
        "\n",
        "('easy', 'pcp', 'RL')\n",
        "2.91646631452e-94"
       ]
      },
      {
       "output_type": "stream",
       "stream": "stdout",
       "text": [
        "\n",
        "('easy', 'pcp', 'ZS')\n",
        "7.69444195961e-79"
       ]
      },
      {
       "output_type": "stream",
       "stream": "stdout",
       "text": [
        "\n",
        "('hard', 'img', 'KL')\n",
        "0.0"
       ]
      },
      {
       "output_type": "stream",
       "stream": "stdout",
       "text": [
        "\n",
        "('hard', 'img', 'RL')\n",
        "5.61635411055e-114"
       ]
      },
      {
       "output_type": "stream",
       "stream": "stdout",
       "text": [
        "\n",
        "('hard', 'img', 'ZS')\n",
        "2.58030595402e-88"
       ]
      },
      {
       "output_type": "stream",
       "stream": "stdout",
       "text": [
        "\n",
        "('hard', 'pcp', 'KL')\n",
        "0.0"
       ]
      },
      {
       "output_type": "stream",
       "stream": "stdout",
       "text": [
        "\n",
        "('hard', 'pcp', 'RL')\n",
        "0.0"
       ]
      },
      {
       "output_type": "stream",
       "stream": "stdout",
       "text": [
        "\n",
        "('hard', 'pcp', 'ZS')\n",
        "0.0"
       ]
      },
      {
       "output_type": "stream",
       "stream": "stdout",
       "text": [
        "\n",
        "4 0.0003 0.5000005 0.0\n",
        "('easy', 'img', 'KL')\n",
        "0.0"
       ]
      },
      {
       "output_type": "stream",
       "stream": "stdout",
       "text": [
        "\n",
        "('easy', 'img', 'RL')\n",
        "0.0"
       ]
      },
      {
       "output_type": "stream",
       "stream": "stdout",
       "text": [
        "\n",
        "('easy', 'img', 'ZS')\n",
        "0.0"
       ]
      },
      {
       "output_type": "stream",
       "stream": "stdout",
       "text": [
        "\n",
        "('easy', 'pcp', 'KL')\n",
        "0.0"
       ]
      },
      {
       "output_type": "stream",
       "stream": "stdout",
       "text": [
        "\n",
        "('easy', 'pcp', 'RL')\n",
        "0.0"
       ]
      },
      {
       "output_type": "stream",
       "stream": "stdout",
       "text": [
        "\n",
        "('easy', 'pcp', 'ZS')\n",
        "0.0"
       ]
      },
      {
       "output_type": "stream",
       "stream": "stdout",
       "text": [
        "\n",
        "('hard', 'img', 'KL')\n",
        "0.0"
       ]
      },
      {
       "output_type": "stream",
       "stream": "stdout",
       "text": [
        "\n",
        "('hard', 'img', 'RL')\n",
        "0.0"
       ]
      },
      {
       "output_type": "stream",
       "stream": "stdout",
       "text": [
        "\n",
        "('hard', 'img', 'ZS')\n",
        "0.0"
       ]
      },
      {
       "output_type": "stream",
       "stream": "stdout",
       "text": [
        "\n",
        "('hard', 'pcp', 'KL')\n",
        "0.0"
       ]
      },
      {
       "output_type": "stream",
       "stream": "stdout",
       "text": [
        "\n",
        "('hard', 'pcp', 'RL')\n",
        "0.0"
       ]
      },
      {
       "output_type": "stream",
       "stream": "stdout",
       "text": [
        "\n",
        "('hard', 'pcp', 'ZS')\n",
        "0.0"
       ]
      },
      {
       "output_type": "stream",
       "stream": "stdout",
       "text": [
        "\n",
        "4 0.0003 0.5000005 0.24999975\n",
        "('easy', 'img', 'KL')\n",
        "4.04155770129e-64"
       ]
      },
      {
       "output_type": "stream",
       "stream": "stdout",
       "text": [
        "\n",
        "('easy', 'img', 'RL')\n",
        "2.1118261386e-80"
       ]
      },
      {
       "output_type": "stream",
       "stream": "stdout",
       "text": [
        "\n",
        "('easy', 'img', 'ZS')\n",
        "1.06909231503e-60"
       ]
      },
      {
       "output_type": "stream",
       "stream": "stdout",
       "text": [
        "\n",
        "('easy', 'pcp', 'KL')\n",
        "2.71488951172e-61"
       ]
      },
      {
       "output_type": "stream",
       "stream": "stdout",
       "text": [
        "\n",
        "('easy', 'pcp', 'RL')\n",
        "6.98413219022e-71"
       ]
      },
      {
       "output_type": "stream",
       "stream": "stdout",
       "text": [
        "\n",
        "('easy', 'pcp', 'ZS')\n",
        "1.73117133009e-61"
       ]
      },
      {
       "output_type": "stream",
       "stream": "stdout",
       "text": [
        "\n",
        "('hard', 'img', 'KL')\n",
        "0.0"
       ]
      },
      {
       "output_type": "stream",
       "stream": "stdout",
       "text": [
        "\n",
        "('hard', 'img', 'RL')\n",
        "1.2735402094e-80"
       ]
      },
      {
       "output_type": "stream",
       "stream": "stdout",
       "text": [
        "\n",
        "('hard', 'img', 'ZS')\n",
        "1.05402406146e-66"
       ]
      },
      {
       "output_type": "stream",
       "stream": "stdout",
       "text": [
        "\n",
        "('hard', 'pcp', 'KL')\n",
        "0.0"
       ]
      },
      {
       "output_type": "stream",
       "stream": "stdout",
       "text": [
        "\n",
        "('hard', 'pcp', 'RL')\n",
        "0.0"
       ]
      },
      {
       "output_type": "stream",
       "stream": "stdout",
       "text": [
        "\n",
        "('hard', 'pcp', 'ZS')\n",
        "0.0"
       ]
      },
      {
       "output_type": "stream",
       "stream": "stdout",
       "text": [
        "\n",
        "4 0.0003 0.5000005 0.4999995\n",
        "('easy', 'img', 'KL')\n",
        "8.34307365584e-64"
       ]
      },
      {
       "output_type": "stream",
       "stream": "stdout",
       "text": [
        "\n",
        "('easy', 'img', 'RL')\n",
        "1.32460643742e-69"
       ]
      },
      {
       "output_type": "stream",
       "stream": "stdout",
       "text": [
        "\n",
        "('easy', 'img', 'ZS')\n",
        "1.09867969657e-64"
       ]
      },
      {
       "output_type": "stream",
       "stream": "stdout",
       "text": [
        "\n",
        "('easy', 'pcp', 'KL')\n",
        "3.25533944135e-65"
       ]
      },
      {
       "output_type": "stream",
       "stream": "stdout",
       "text": [
        "\n",
        "('easy', 'pcp', 'RL')\n",
        "3.3077789405e-69"
       ]
      },
      {
       "output_type": "stream",
       "stream": "stdout",
       "text": [
        "\n",
        "('easy', 'pcp', 'ZS')\n",
        "8.34302992002e-64"
       ]
      },
      {
       "output_type": "stream",
       "stream": "stdout",
       "text": [
        "\n",
        "('hard', 'img', 'KL')\n",
        "0.0"
       ]
      },
      {
       "output_type": "stream",
       "stream": "stdout",
       "text": [
        "\n",
        "('hard', 'img', 'RL')\n",
        "7.74386064669e-70"
       ]
      },
      {
       "output_type": "stream",
       "stream": "stdout",
       "text": [
        "\n",
        "('hard', 'img', 'ZS')\n",
        "5.5067845616e-69"
       ]
      },
      {
       "output_type": "stream",
       "stream": "stdout",
       "text": [
        "\n",
        "('hard', 'pcp', 'KL')\n",
        "0.0"
       ]
      },
      {
       "output_type": "stream",
       "stream": "stdout",
       "text": [
        "\n",
        "('hard', 'pcp', 'RL')\n",
        "0.0"
       ]
      },
      {
       "output_type": "stream",
       "stream": "stdout",
       "text": [
        "\n",
        "('hard', 'pcp', 'ZS')\n",
        "0.0"
       ]
      },
      {
       "output_type": "stream",
       "stream": "stdout",
       "text": [
        "\n",
        "4 0.0003 0.75000025 0.0\n",
        "('easy', 'img', 'KL')\n",
        "0.0"
       ]
      },
      {
       "output_type": "stream",
       "stream": "stdout",
       "text": [
        "\n",
        "('easy', 'img', 'RL')\n",
        "0.0"
       ]
      },
      {
       "output_type": "stream",
       "stream": "stdout",
       "text": [
        "\n",
        "('easy', 'img', 'ZS')\n",
        "0.0"
       ]
      },
      {
       "output_type": "stream",
       "stream": "stdout",
       "text": [
        "\n",
        "('easy', 'pcp', 'KL')\n",
        "0.0"
       ]
      },
      {
       "output_type": "stream",
       "stream": "stdout",
       "text": [
        "\n",
        "('easy', 'pcp', 'RL')\n",
        "0.0"
       ]
      },
      {
       "output_type": "stream",
       "stream": "stdout",
       "text": [
        "\n",
        "('easy', 'pcp', 'ZS')\n",
        "0.0"
       ]
      },
      {
       "output_type": "stream",
       "stream": "stdout",
       "text": [
        "\n",
        "('hard', 'img', 'KL')\n",
        "0.0"
       ]
      },
      {
       "output_type": "stream",
       "stream": "stdout",
       "text": [
        "\n",
        "('hard', 'img', 'RL')\n",
        "0.0"
       ]
      },
      {
       "output_type": "stream",
       "stream": "stdout",
       "text": [
        "\n",
        "('hard', 'img', 'ZS')\n",
        "0.0"
       ]
      },
      {
       "output_type": "stream",
       "stream": "stdout",
       "text": [
        "\n",
        "('hard', 'pcp', 'KL')\n",
        "0.0"
       ]
      },
      {
       "output_type": "stream",
       "stream": "stdout",
       "text": [
        "\n",
        "('hard', 'pcp', 'RL')\n",
        "0.0"
       ]
      },
      {
       "output_type": "stream",
       "stream": "stdout",
       "text": [
        "\n",
        "('hard', 'pcp', 'ZS')\n",
        "0.0"
       ]
      },
      {
       "output_type": "stream",
       "stream": "stdout",
       "text": [
        "\n",
        "4 0.0003 0.75000025 0.24999975\n",
        "('easy', 'img', 'KL')\n",
        "3.29316020962e-57"
       ]
      },
      {
       "output_type": "stream",
       "stream": "stdout",
       "text": [
        "\n",
        "('easy', 'img', 'RL')\n",
        "8.32488523863e-64"
       ]
      },
      {
       "output_type": "stream",
       "stream": "stdout",
       "text": [
        "\n",
        "('easy', 'img', 'ZS')\n",
        "2.84715440041e-57"
       ]
      },
      {
       "output_type": "stream",
       "stream": "stdout",
       "text": [
        "\n",
        "('easy', 'pcp', 'KL')\n",
        "3.66969247834e-58"
       ]
      },
      {
       "output_type": "stream",
       "stream": "stdout",
       "text": [
        "\n",
        "('easy', 'pcp', 'RL')\n",
        "1.96851598006e-62"
       ]
      },
      {
       "output_type": "stream",
       "stream": "stdout",
       "text": [
        "\n",
        "('easy', 'pcp', 'ZS')\n",
        "4.18112022567e-58"
       ]
      },
      {
       "output_type": "stream",
       "stream": "stdout",
       "text": [
        "\n",
        "('hard', 'img', 'KL')\n",
        "0.0"
       ]
      },
      {
       "output_type": "stream",
       "stream": "stdout",
       "text": [
        "\n",
        "('hard', 'img', 'RL')\n",
        "2.86109094627e-64"
       ]
      },
      {
       "output_type": "stream",
       "stream": "stdout",
       "text": [
        "\n",
        "('hard', 'img', 'ZS')\n",
        "1.59142242605e-60"
       ]
      },
      {
       "output_type": "stream",
       "stream": "stdout",
       "text": [
        "\n",
        "('hard', 'pcp', 'KL')\n",
        "0.0"
       ]
      },
      {
       "output_type": "stream",
       "stream": "stdout",
       "text": [
        "\n",
        "('hard', 'pcp', 'RL')\n",
        "0.0"
       ]
      },
      {
       "output_type": "stream",
       "stream": "stdout",
       "text": [
        "\n",
        "('hard', 'pcp', 'ZS')\n",
        "0.0"
       ]
      },
      {
       "output_type": "stream",
       "stream": "stdout",
       "text": [
        "\n",
        "4 0.0003 0.75000025 0.4999995\n",
        "('easy', 'img', 'KL')\n",
        "2.07023271382e-72"
       ]
      },
      {
       "output_type": "stream",
       "stream": "stdout",
       "text": [
        "\n",
        "('easy', 'img', 'RL')\n",
        "1.68190532444e-67"
       ]
      },
      {
       "output_type": "stream",
       "stream": "stdout",
       "text": [
        "\n",
        "('easy', 'img', 'ZS')\n",
        "6.79967270125e-77"
       ]
      },
      {
       "output_type": "stream",
       "stream": "stdout",
       "text": [
        "\n",
        "('easy', 'pcp', 'KL')\n",
        "7.25983484626e-78"
       ]
      },
      {
       "output_type": "stream",
       "stream": "stdout",
       "text": [
        "\n",
        "('easy', 'pcp', 'RL')\n",
        "5.7181261136e-76"
       ]
      },
      {
       "output_type": "stream",
       "stream": "stdout",
       "text": [
        "\n",
        "('easy', 'pcp', 'ZS')\n",
        "4.03329467398e-76"
       ]
      },
      {
       "output_type": "stream",
       "stream": "stdout",
       "text": [
        "\n",
        "('hard', 'img', 'KL')\n",
        "0.0"
       ]
      },
      {
       "output_type": "stream",
       "stream": "stdout",
       "text": [
        "\n",
        "('hard', 'img', 'RL')\n",
        "5.78232182717e-68"
       ]
      },
      {
       "output_type": "stream",
       "stream": "stdout",
       "text": [
        "\n",
        "('hard', 'img', 'ZS')\n",
        "3.49027906947e-78"
       ]
      },
      {
       "output_type": "stream",
       "stream": "stdout",
       "text": [
        "\n",
        "('hard', 'pcp', 'KL')\n",
        "0.0"
       ]
      },
      {
       "output_type": "stream",
       "stream": "stdout",
       "text": [
        "\n",
        "('hard', 'pcp', 'RL')\n",
        "0.0"
       ]
      },
      {
       "output_type": "stream",
       "stream": "stdout",
       "text": [
        "\n",
        "('hard', 'pcp', 'ZS')\n",
        "0.0"
       ]
      },
      {
       "output_type": "stream",
       "stream": "stdout",
       "text": [
        "\n",
        "4 0.0003 0.75000025 0.74999925\n",
        "('easy', 'img', 'KL')\n",
        "1.4704034975e-105"
       ]
      },
      {
       "output_type": "stream",
       "stream": "stdout",
       "text": [
        "\n",
        "('easy', 'img', 'RL')\n",
        "2.06894562009e-89"
       ]
      },
      {
       "output_type": "stream",
       "stream": "stdout",
       "text": [
        "\n",
        "('easy', 'img', 'ZS')\n",
        "1.49944486344e-114"
       ]
      },
      {
       "output_type": "stream",
       "stream": "stdout",
       "text": [
        "\n",
        "('easy', 'pcp', 'KL')\n",
        "1.48093043715e-115"
       ]
      },
      {
       "output_type": "stream",
       "stream": "stdout",
       "text": [
        "\n",
        "('easy', 'pcp', 'RL')\n",
        "1.27494733836e-107"
       ]
      },
      {
       "output_type": "stream",
       "stream": "stdout",
       "text": [
        "\n",
        "('easy', 'pcp', 'ZS')\n",
        "3.07428433597e-112"
       ]
      },
      {
       "output_type": "stream",
       "stream": "stdout",
       "text": [
        "\n",
        "('hard', 'img', 'KL')\n",
        "0.0"
       ]
      },
      {
       "output_type": "stream",
       "stream": "stdout",
       "text": [
        "\n",
        "('hard', 'img', 'RL')\n",
        "3.62858037239e-89"
       ]
      },
      {
       "output_type": "stream",
       "stream": "stdout",
       "text": [
        "\n",
        "('hard', 'img', 'ZS')\n",
        "3.993955306e-113"
       ]
      },
      {
       "output_type": "stream",
       "stream": "stdout",
       "text": [
        "\n",
        "('hard', 'pcp', 'KL')\n",
        "0.0"
       ]
      },
      {
       "output_type": "stream",
       "stream": "stdout",
       "text": [
        "\n",
        "('hard', 'pcp', 'RL')\n",
        "0.0"
       ]
      },
      {
       "output_type": "stream",
       "stream": "stdout",
       "text": [
        "\n",
        "('hard', 'pcp', 'ZS')\n",
        "0.0"
       ]
      },
      {
       "output_type": "stream",
       "stream": "stdout",
       "text": [
        "\n",
        "4 0.0003 1.0 0.0\n",
        "('easy', 'img', 'KL')\n",
        "0.0"
       ]
      },
      {
       "output_type": "stream",
       "stream": "stdout",
       "text": [
        "\n",
        "('easy', 'img', 'RL')\n",
        "0.0"
       ]
      },
      {
       "output_type": "stream",
       "stream": "stdout",
       "text": [
        "\n",
        "('easy', 'img', 'ZS')\n",
        "0.0"
       ]
      },
      {
       "output_type": "stream",
       "stream": "stdout",
       "text": [
        "\n",
        "('easy', 'pcp', 'KL')\n",
        "0.0"
       ]
      },
      {
       "output_type": "stream",
       "stream": "stdout",
       "text": [
        "\n",
        "('easy', 'pcp', 'RL')\n",
        "0.0"
       ]
      },
      {
       "output_type": "stream",
       "stream": "stdout",
       "text": [
        "\n",
        "('easy', 'pcp', 'ZS')\n",
        "0.0"
       ]
      },
      {
       "output_type": "stream",
       "stream": "stdout",
       "text": [
        "\n",
        "('hard', 'img', 'KL')\n",
        "0.0"
       ]
      },
      {
       "output_type": "stream",
       "stream": "stdout",
       "text": [
        "\n",
        "('hard', 'img', 'RL')\n",
        "0.0"
       ]
      },
      {
       "output_type": "stream",
       "stream": "stdout",
       "text": [
        "\n",
        "('hard', 'img', 'ZS')\n",
        "0.0"
       ]
      },
      {
       "output_type": "stream",
       "stream": "stdout",
       "text": [
        "\n",
        "('hard', 'pcp', 'KL')\n",
        "0.0"
       ]
      },
      {
       "output_type": "stream",
       "stream": "stdout",
       "text": [
        "\n",
        "('hard', 'pcp', 'RL')\n",
        "0.0"
       ]
      },
      {
       "output_type": "stream",
       "stream": "stdout",
       "text": [
        "\n",
        "('hard', 'pcp', 'ZS')\n",
        "0.0"
       ]
      },
      {
       "output_type": "stream",
       "stream": "stdout",
       "text": [
        "\n",
        "4 0.0003 1.0 0.24999975\n",
        "('easy', 'img', 'KL')\n",
        "5.1783168716e-62"
       ]
      },
      {
       "output_type": "stream",
       "stream": "stdout",
       "text": [
        "\n",
        "('easy', 'img', 'RL')\n",
        "1.06146962448e-58"
       ]
      },
      {
       "output_type": "stream",
       "stream": "stdout",
       "text": [
        "\n",
        "('easy', 'img', 'ZS')\n",
        "7.85161278774e-67"
       ]
      },
      {
       "output_type": "stream",
       "stream": "stdout",
       "text": [
        "\n",
        "('easy', 'pcp', 'KL')\n",
        "3.81784359934e-66"
       ]
      },
      {
       "output_type": "stream",
       "stream": "stdout",
       "text": [
        "\n",
        "('easy', 'pcp', 'RL')\n",
        "5.1872209265e-66"
       ]
      },
      {
       "output_type": "stream",
       "stream": "stdout",
       "text": [
        "\n",
        "('easy', 'pcp', 'ZS')\n",
        "8.98871688577e-66"
       ]
      },
      {
       "output_type": "stream",
       "stream": "stdout",
       "text": [
        "\n",
        "('hard', 'img', 'KL')\n",
        "0.0"
       ]
      },
      {
       "output_type": "stream",
       "stream": "stdout",
       "text": [
        "\n",
        "('hard', 'img', 'RL')\n",
        "1.36846933502e-60"
       ]
      },
      {
       "output_type": "stream",
       "stream": "stdout",
       "text": [
        "\n",
        "('hard', 'img', 'ZS')\n",
        "1.87236750994e-67"
       ]
      },
      {
       "output_type": "stream",
       "stream": "stdout",
       "text": [
        "\n",
        "('hard', 'pcp', 'KL')\n",
        "0.0"
       ]
      },
      {
       "output_type": "stream",
       "stream": "stdout",
       "text": [
        "\n",
        "('hard', 'pcp', 'RL')\n",
        "0.0"
       ]
      },
      {
       "output_type": "stream",
       "stream": "stdout",
       "text": [
        "\n",
        "('hard', 'pcp', 'ZS')\n",
        "0.0"
       ]
      },
      {
       "output_type": "stream",
       "stream": "stdout",
       "text": [
        "\n",
        "4 0.0003 1.0 0.4999995\n",
        "('easy', 'img', 'KL')\n",
        "2.59474721655e-98"
       ]
      },
      {
       "output_type": "stream",
       "stream": "stdout",
       "text": [
        "\n",
        "('easy', 'img', 'RL')\n",
        "1.34554195745e-79"
       ]
      },
      {
       "output_type": "stream",
       "stream": "stdout",
       "text": [
        "\n",
        "('easy', 'img', 'ZS')\n",
        "3.45187711794e-108"
       ]
      },
      {
       "output_type": "stream",
       "stream": "stdout",
       "text": [
        "\n",
        "('easy', 'pcp', 'KL')\n",
        "1.18466987426e-108"
       ]
      },
      {
       "output_type": "stream",
       "stream": "stdout",
       "text": [
        "\n",
        "('easy', 'pcp', 'RL')\n",
        "4.63556880807e-100"
       ]
      },
      {
       "output_type": "stream",
       "stream": "stdout",
       "text": [
        "\n",
        "('easy', 'pcp', 'ZS')\n",
        "4.10502138233e-106"
       ]
      },
      {
       "output_type": "stream",
       "stream": "stdout",
       "text": [
        "\n",
        "('hard', 'img', 'KL')\n",
        "0.0"
       ]
      },
      {
       "output_type": "stream",
       "stream": "stdout",
       "text": [
        "\n",
        "('hard', 'img', 'RL')\n",
        "4.08589017057e-82"
       ]
      },
      {
       "output_type": "stream",
       "stream": "stdout",
       "text": [
        "\n",
        "('hard', 'img', 'ZS')\n",
        "7.75446605953e-107"
       ]
      },
      {
       "output_type": "stream",
       "stream": "stdout",
       "text": [
        "\n",
        "('hard', 'pcp', 'KL')\n",
        "0.0"
       ]
      },
      {
       "output_type": "stream",
       "stream": "stdout",
       "text": [
        "\n",
        "('hard', 'pcp', 'RL')\n",
        "0.0"
       ]
      },
      {
       "output_type": "stream",
       "stream": "stdout",
       "text": [
        "\n",
        "('hard', 'pcp', 'ZS')\n",
        "0.0"
       ]
      },
      {
       "output_type": "stream",
       "stream": "stdout",
       "text": [
        "\n",
        "4 0.0003 1.0 0.74999925\n",
        "('easy', 'img', 'KL')\n",
        "1.03306656e-171"
       ]
      },
      {
       "output_type": "stream",
       "stream": "stdout",
       "text": [
        "\n",
        "('easy', 'img', 'RL')\n",
        "1.67101889593e-134"
       ]
      },
      {
       "output_type": "stream",
       "stream": "stdout",
       "text": [
        "\n",
        "('easy', 'img', 'ZS')\n",
        "2.50843155951e-188"
       ]
      },
      {
       "output_type": "stream",
       "stream": "stdout",
       "text": [
        "\n",
        "('easy', 'pcp', 'KL')\n",
        "1.43128883812e-189"
       ]
      },
      {
       "output_type": "stream",
       "stream": "stdout",
       "text": [
        "\n",
        "('easy', 'pcp', 'RL')\n",
        "7.54652673479e-171"
       ]
      },
      {
       "output_type": "stream",
       "stream": "stdout",
       "text": [
        "\n",
        "('easy', 'pcp', 'ZS')\n",
        "5.13316210054e-185"
       ]
      },
      {
       "output_type": "stream",
       "stream": "stdout",
       "text": [
        "\n",
        "('hard', 'img', 'KL')\n",
        "0.0"
       ]
      },
      {
       "output_type": "stream",
       "stream": "stdout",
       "text": [
        "\n",
        "('hard', 'img', 'RL')\n",
        "5.08415458196e-137"
       ]
      },
      {
       "output_type": "stream",
       "stream": "stdout",
       "text": [
        "\n",
        "('hard', 'img', 'ZS')\n",
        "5.25833549116e-183"
       ]
      },
      {
       "output_type": "stream",
       "stream": "stdout",
       "text": [
        "\n",
        "('hard', 'pcp', 'KL')\n",
        "0.0"
       ]
      },
      {
       "output_type": "stream",
       "stream": "stdout",
       "text": [
        "\n",
        "('hard', 'pcp', 'RL')\n",
        "0.0"
       ]
      },
      {
       "output_type": "stream",
       "stream": "stdout",
       "text": [
        "\n",
        "('hard', 'pcp', 'ZS')\n",
        "0.0"
       ]
      },
      {
       "output_type": "stream",
       "stream": "stdout",
       "text": [
        "\n",
        "4 0.0003 1.0 0.999999\n",
        "('easy', 'img', 'KL')\n",
        "0.0"
       ]
      },
      {
       "output_type": "stream",
       "stream": "stdout",
       "text": [
        "\n",
        "('easy', 'img', 'RL')\n",
        "0.0"
       ]
      },
      {
       "output_type": "stream",
       "stream": "stdout",
       "text": [
        "\n",
        "('easy', 'img', 'ZS')\n",
        "0.0"
       ]
      },
      {
       "output_type": "stream",
       "stream": "stdout",
       "text": [
        "\n",
        "('easy', 'pcp', 'KL')\n",
        "0.0"
       ]
      },
      {
       "output_type": "stream",
       "stream": "stdout",
       "text": [
        "\n",
        "('easy', 'pcp', 'RL')\n",
        "0.0"
       ]
      },
      {
       "output_type": "stream",
       "stream": "stdout",
       "text": [
        "\n",
        "('easy', 'pcp', 'ZS')\n",
        "0.0"
       ]
      },
      {
       "output_type": "stream",
       "stream": "stdout",
       "text": [
        "\n",
        "('hard', 'img', 'KL')\n",
        "0.0"
       ]
      },
      {
       "output_type": "stream",
       "stream": "stdout",
       "text": [
        "\n",
        "('hard', 'img', 'RL')\n",
        "0.0"
       ]
      },
      {
       "output_type": "stream",
       "stream": "stdout",
       "text": [
        "\n",
        "('hard', 'img', 'ZS')\n",
        "0.0"
       ]
      },
      {
       "output_type": "stream",
       "stream": "stdout",
       "text": [
        "\n",
        "('hard', 'pcp', 'KL')\n",
        "0.0"
       ]
      },
      {
       "output_type": "stream",
       "stream": "stdout",
       "text": [
        "\n",
        "('hard', 'pcp', 'RL')\n",
        "0.0"
       ]
      },
      {
       "output_type": "stream",
       "stream": "stdout",
       "text": [
        "\n",
        "('hard', 'pcp', 'ZS')\n",
        "0.0"
       ]
      },
      {
       "output_type": "stream",
       "stream": "stdout",
       "text": [
        "\n",
        "4 0.00035 1e-06 0.0\n",
        "('easy', 'img', 'KL')\n",
        "0.0"
       ]
      },
      {
       "output_type": "stream",
       "stream": "stdout",
       "text": [
        "\n",
        "('easy', 'img', 'RL')\n",
        "0.0"
       ]
      },
      {
       "output_type": "stream",
       "stream": "stdout",
       "text": [
        "\n",
        "('easy', 'img', 'ZS')\n",
        "0.0"
       ]
      },
      {
       "output_type": "stream",
       "stream": "stdout",
       "text": [
        "\n",
        "('easy', 'pcp', 'KL')\n",
        "0.0"
       ]
      },
      {
       "output_type": "stream",
       "stream": "stdout",
       "text": [
        "\n",
        "('easy', 'pcp', 'RL')\n",
        "0.0"
       ]
      },
      {
       "output_type": "stream",
       "stream": "stdout",
       "text": [
        "\n",
        "('easy', 'pcp', 'ZS')\n",
        "0.0"
       ]
      },
      {
       "output_type": "stream",
       "stream": "stdout",
       "text": [
        "\n",
        "('hard', 'img', 'KL')\n",
        "0.0"
       ]
      },
      {
       "output_type": "stream",
       "stream": "stdout",
       "text": [
        "\n",
        "('hard', 'img', 'RL')\n",
        "0.0"
       ]
      },
      {
       "output_type": "stream",
       "stream": "stdout",
       "text": [
        "\n",
        "('hard', 'img', 'ZS')\n",
        "0.0"
       ]
      },
      {
       "output_type": "stream",
       "stream": "stdout",
       "text": [
        "\n",
        "('hard', 'pcp', 'KL')\n",
        "0.0"
       ]
      },
      {
       "output_type": "stream",
       "stream": "stdout",
       "text": [
        "\n",
        "('hard', 'pcp', 'RL')\n",
        "0.0"
       ]
      },
      {
       "output_type": "stream",
       "stream": "stdout",
       "text": [
        "\n",
        "('hard', 'pcp', 'ZS')\n",
        "0.0"
       ]
      },
      {
       "output_type": "stream",
       "stream": "stdout",
       "text": [
        "\n",
        "4 0.00035 0.25000075 0.0\n",
        "('easy', 'img', 'KL')\n",
        "0.0"
       ]
      },
      {
       "output_type": "stream",
       "stream": "stdout",
       "text": [
        "\n",
        "('easy', 'img', 'RL')\n",
        "0.0"
       ]
      },
      {
       "output_type": "stream",
       "stream": "stdout",
       "text": [
        "\n",
        "('easy', 'img', 'ZS')\n",
        "0.0"
       ]
      },
      {
       "output_type": "stream",
       "stream": "stdout",
       "text": [
        "\n",
        "('easy', 'pcp', 'KL')\n",
        "0.0"
       ]
      },
      {
       "output_type": "stream",
       "stream": "stdout",
       "text": [
        "\n",
        "('easy', 'pcp', 'RL')\n",
        "0.0"
       ]
      },
      {
       "output_type": "stream",
       "stream": "stdout",
       "text": [
        "\n",
        "('easy', 'pcp', 'ZS')\n",
        "0.0"
       ]
      },
      {
       "output_type": "stream",
       "stream": "stdout",
       "text": [
        "\n",
        "('hard', 'img', 'KL')\n",
        "0.0"
       ]
      },
      {
       "output_type": "stream",
       "stream": "stdout",
       "text": [
        "\n",
        "('hard', 'img', 'RL')\n",
        "0.0"
       ]
      },
      {
       "output_type": "stream",
       "stream": "stdout",
       "text": [
        "\n",
        "('hard', 'img', 'ZS')\n",
        "0.0"
       ]
      },
      {
       "output_type": "stream",
       "stream": "stdout",
       "text": [
        "\n",
        "('hard', 'pcp', 'KL')\n",
        "0.0"
       ]
      },
      {
       "output_type": "stream",
       "stream": "stdout",
       "text": [
        "\n",
        "('hard', 'pcp', 'RL')\n",
        "0.0"
       ]
      },
      {
       "output_type": "stream",
       "stream": "stdout",
       "text": [
        "\n",
        "('hard', 'pcp', 'ZS')\n",
        "0.0"
       ]
      },
      {
       "output_type": "stream",
       "stream": "stdout",
       "text": [
        "\n",
        "4 0.00035 0.25000075 0.24999975\n",
        "('easy', 'img', 'KL')\n",
        "1.60879818806e-85"
       ]
      },
      {
       "output_type": "stream",
       "stream": "stdout",
       "text": [
        "\n",
        "('easy', 'img', 'RL')\n",
        "2.88214647368e-113"
       ]
      },
      {
       "output_type": "stream",
       "stream": "stdout",
       "text": [
        "\n",
        "('easy', 'img', 'ZS')\n",
        "2.7358730165e-78"
       ]
      },
      {
       "output_type": "stream",
       "stream": "stdout",
       "text": [
        "\n",
        "('easy', 'pcp', 'KL')\n",
        "2.4318867458e-78"
       ]
      },
      {
       "output_type": "stream",
       "stream": "stdout",
       "text": [
        "\n",
        "('easy', 'pcp', 'RL')\n",
        "2.91656096437e-94"
       ]
      },
      {
       "output_type": "stream",
       "stream": "stdout",
       "text": [
        "\n",
        "('easy', 'pcp', 'ZS')\n",
        "7.6946301147e-79"
       ]
      },
      {
       "output_type": "stream",
       "stream": "stdout",
       "text": [
        "\n",
        "('hard', 'img', 'KL')\n",
        "0.0"
       ]
      },
      {
       "output_type": "stream",
       "stream": "stdout",
       "text": [
        "\n",
        "('hard', 'img', 'RL')\n",
        "5.61655466681e-114"
       ]
      },
      {
       "output_type": "stream",
       "stream": "stdout",
       "text": [
        "\n",
        "('hard', 'img', 'ZS')\n",
        "2.58037120384e-88"
       ]
      },
      {
       "output_type": "stream",
       "stream": "stdout",
       "text": [
        "\n",
        "('hard', 'pcp', 'KL')\n",
        "0.0"
       ]
      },
      {
       "output_type": "stream",
       "stream": "stdout",
       "text": [
        "\n",
        "('hard', 'pcp', 'RL')\n",
        "0.0"
       ]
      },
      {
       "output_type": "stream",
       "stream": "stdout",
       "text": [
        "\n",
        "('hard', 'pcp', 'ZS')\n",
        "0.0"
       ]
      },
      {
       "output_type": "stream",
       "stream": "stdout",
       "text": [
        "\n",
        "4 0.00035 0.5000005 0.0\n",
        "('easy', 'img', 'KL')\n",
        "0.0"
       ]
      },
      {
       "output_type": "stream",
       "stream": "stdout",
       "text": [
        "\n",
        "('easy', 'img', 'RL')\n",
        "0.0"
       ]
      },
      {
       "output_type": "stream",
       "stream": "stdout",
       "text": [
        "\n",
        "('easy', 'img', 'ZS')\n",
        "0.0"
       ]
      },
      {
       "output_type": "stream",
       "stream": "stdout",
       "text": [
        "\n",
        "('easy', 'pcp', 'KL')\n",
        "0.0"
       ]
      },
      {
       "output_type": "stream",
       "stream": "stdout",
       "text": [
        "\n",
        "('easy', 'pcp', 'RL')\n",
        "0.0"
       ]
      },
      {
       "output_type": "stream",
       "stream": "stdout",
       "text": [
        "\n",
        "('easy', 'pcp', 'ZS')\n",
        "0.0"
       ]
      },
      {
       "output_type": "stream",
       "stream": "stdout",
       "text": [
        "\n",
        "('hard', 'img', 'KL')\n",
        "0.0"
       ]
      },
      {
       "output_type": "stream",
       "stream": "stdout",
       "text": [
        "\n",
        "('hard', 'img', 'RL')\n",
        "0.0"
       ]
      },
      {
       "output_type": "stream",
       "stream": "stdout",
       "text": [
        "\n",
        "('hard', 'img', 'ZS')\n",
        "0.0"
       ]
      },
      {
       "output_type": "stream",
       "stream": "stdout",
       "text": [
        "\n",
        "('hard', 'pcp', 'KL')\n",
        "0.0"
       ]
      },
      {
       "output_type": "stream",
       "stream": "stdout",
       "text": [
        "\n",
        "('hard', 'pcp', 'RL')\n",
        "0.0"
       ]
      },
      {
       "output_type": "stream",
       "stream": "stdout",
       "text": [
        "\n",
        "('hard', 'pcp', 'ZS')\n",
        "0.0"
       ]
      },
      {
       "output_type": "stream",
       "stream": "stdout",
       "text": [
        "\n",
        "4 0.00035 0.5000005 0.24999975\n",
        "('easy', 'img', 'KL')\n",
        "2.37872180815e-63"
       ]
      },
      {
       "output_type": "stream",
       "stream": "stdout",
       "text": [
        "\n",
        "('easy', 'img', 'RL')\n",
        "1.12017811997e-78"
       ]
      },
      {
       "output_type": "stream",
       "stream": "stdout",
       "text": [
        "\n",
        "('easy', 'img', 'ZS')\n",
        "1.74208871416e-60"
       ]
      },
      {
       "output_type": "stream",
       "stream": "stdout",
       "text": [
        "\n",
        "('easy', 'pcp', 'KL')\n",
        "1.13242457249e-60"
       ]
      },
      {
       "output_type": "stream",
       "stream": "stdout",
       "text": [
        "\n",
        "('easy', 'pcp', 'RL')\n",
        "2.3592618141e-69"
       ]
      },
      {
       "output_type": "stream",
       "stream": "stdout",
       "text": [
        "\n",
        "('easy', 'pcp', 'ZS')\n",
        "9.22105357383e-61"
       ]
      },
      {
       "output_type": "stream",
       "stream": "stdout",
       "text": [
        "\n",
        "('hard', 'img', 'KL')\n",
        "0.0"
       ]
      },
      {
       "output_type": "stream",
       "stream": "stdout",
       "text": [
        "\n",
        "('hard', 'img', 'RL')\n",
        "1.02894763783e-78"
       ]
      },
      {
       "output_type": "stream",
       "stream": "stdout",
       "text": [
        "\n",
        "('hard', 'img', 'ZS')\n",
        "7.74616873026e-66"
       ]
      },
      {
       "output_type": "stream",
       "stream": "stdout",
       "text": [
        "\n",
        "('hard', 'pcp', 'KL')\n",
        "0.0"
       ]
      },
      {
       "output_type": "stream",
       "stream": "stdout",
       "text": [
        "\n",
        "('hard', 'pcp', 'RL')\n",
        "0.0"
       ]
      },
      {
       "output_type": "stream",
       "stream": "stdout",
       "text": [
        "\n",
        "('hard', 'pcp', 'ZS')\n",
        "0.0"
       ]
      },
      {
       "output_type": "stream",
       "stream": "stdout",
       "text": [
        "\n",
        "4 0.00035 0.5000005 0.4999995\n",
        "('easy', 'img', 'KL')\n",
        "8.34304696453e-64"
       ]
      },
      {
       "output_type": "stream",
       "stream": "stdout",
       "text": [
        "\n",
        "('easy', 'img', 'RL')\n",
        "1.32461155993e-69"
       ]
      },
      {
       "output_type": "stream",
       "stream": "stdout",
       "text": [
        "\n",
        "('easy', 'img', 'ZS')\n",
        "1.09867128912e-64"
       ]
      },
      {
       "output_type": "stream",
       "stream": "stdout",
       "text": [
        "\n",
        "('easy', 'pcp', 'KL')\n",
        "3.25532521198e-65"
       ]
      },
      {
       "output_type": "stream",
       "stream": "stdout",
       "text": [
        "\n",
        "('easy', 'pcp', 'RL')\n",
        "3.3077868094e-69"
       ]
      },
      {
       "output_type": "stream",
       "stream": "stdout",
       "text": [
        "\n",
        "('easy', 'pcp', 'ZS')\n",
        "8.34299970915e-64"
       ]
      },
      {
       "output_type": "stream",
       "stream": "stdout",
       "text": [
        "\n",
        "('hard', 'img', 'KL')\n",
        "0.0"
       ]
      },
      {
       "output_type": "stream",
       "stream": "stdout",
       "text": [
        "\n",
        "('hard', 'img', 'RL')\n",
        "7.74389795711e-70"
       ]
      },
      {
       "output_type": "stream",
       "stream": "stdout",
       "text": [
        "\n",
        "('hard', 'img', 'ZS')\n",
        "5.50676805234e-69"
       ]
      },
      {
       "output_type": "stream",
       "stream": "stdout",
       "text": [
        "\n",
        "('hard', 'pcp', 'KL')\n",
        "0.0"
       ]
      },
      {
       "output_type": "stream",
       "stream": "stdout",
       "text": [
        "\n",
        "('hard', 'pcp', 'RL')\n",
        "0.0"
       ]
      },
      {
       "output_type": "stream",
       "stream": "stdout",
       "text": [
        "\n",
        "('hard', 'pcp', 'ZS')\n",
        "0.0"
       ]
      },
      {
       "output_type": "stream",
       "stream": "stdout",
       "text": [
        "\n",
        "4 0.00035 0.75000025 0.0\n",
        "('easy', 'img', 'KL')\n",
        "0.0"
       ]
      },
      {
       "output_type": "stream",
       "stream": "stdout",
       "text": [
        "\n",
        "('easy', 'img', 'RL')\n",
        "0.0"
       ]
      },
      {
       "output_type": "stream",
       "stream": "stdout",
       "text": [
        "\n",
        "('easy', 'img', 'ZS')\n",
        "0.0"
       ]
      },
      {
       "output_type": "stream",
       "stream": "stdout",
       "text": [
        "\n",
        "('easy', 'pcp', 'KL')\n",
        "0.0"
       ]
      },
      {
       "output_type": "stream",
       "stream": "stdout",
       "text": [
        "\n",
        "('easy', 'pcp', 'RL')\n",
        "0.0"
       ]
      },
      {
       "output_type": "stream",
       "stream": "stdout",
       "text": [
        "\n",
        "('easy', 'pcp', 'ZS')\n",
        "0.0"
       ]
      },
      {
       "output_type": "stream",
       "stream": "stdout",
       "text": [
        "\n",
        "('hard', 'img', 'KL')\n",
        "0.0"
       ]
      },
      {
       "output_type": "stream",
       "stream": "stdout",
       "text": [
        "\n",
        "('hard', 'img', 'RL')\n",
        "0.0"
       ]
      },
      {
       "output_type": "stream",
       "stream": "stdout",
       "text": [
        "\n",
        "('hard', 'img', 'ZS')\n",
        "0.0"
       ]
      },
      {
       "output_type": "stream",
       "stream": "stdout",
       "text": [
        "\n",
        "('hard', 'pcp', 'KL')\n",
        "0.0"
       ]
      },
      {
       "output_type": "stream",
       "stream": "stdout",
       "text": [
        "\n",
        "('hard', 'pcp', 'RL')\n",
        "0.0"
       ]
      },
      {
       "output_type": "stream",
       "stream": "stdout",
       "text": [
        "\n",
        "('hard', 'pcp', 'ZS')\n",
        "0.0"
       ]
      },
      {
       "output_type": "stream",
       "stream": "stdout",
       "text": [
        "\n",
        "4 0.00035 0.75000025 0.24999975\n",
        "('easy', 'img', 'KL')\n",
        "1.50247236805e-58"
       ]
      },
      {
       "output_type": "stream",
       "stream": "stdout",
       "text": [
        "\n",
        "('easy', 'img', 'RL')\n",
        "2.50129305622e-63"
       ]
      },
      {
       "output_type": "stream",
       "stream": "stdout",
       "text": [
        "\n",
        "('easy', 'img', 'ZS')\n",
        "1.24831805098e-59"
       ]
      },
      {
       "output_type": "stream",
       "stream": "stdout",
       "text": [
        "\n",
        "('easy', 'pcp', 'KL')\n",
        "8.4083261693e-60"
       ]
      },
      {
       "output_type": "stream",
       "stream": "stdout",
       "text": [
        "\n",
        "('easy', 'pcp', 'RL')\n",
        "2.55087186184e-62"
       ]
      },
      {
       "output_type": "stream",
       "stream": "stdout",
       "text": [
        "\n",
        "('easy', 'pcp', 'ZS')\n",
        "1.68215561885e-59"
       ]
      },
      {
       "output_type": "stream",
       "stream": "stdout",
       "text": [
        "\n",
        "('hard', 'img', 'KL')\n",
        "0.0"
       ]
      },
      {
       "output_type": "stream",
       "stream": "stdout",
       "text": [
        "\n",
        "('hard', 'img', 'RL')\n",
        "2.40394766211e-63"
       ]
      },
      {
       "output_type": "stream",
       "stream": "stdout",
       "text": [
        "\n",
        "('hard', 'img', 'ZS')\n",
        "9.86194179565e-62"
       ]
      },
      {
       "output_type": "stream",
       "stream": "stdout",
       "text": [
        "\n",
        "('hard', 'pcp', 'KL')\n",
        "0.0"
       ]
      },
      {
       "output_type": "stream",
       "stream": "stdout",
       "text": [
        "\n",
        "('hard', 'pcp', 'RL')\n",
        "0.0"
       ]
      },
      {
       "output_type": "stream",
       "stream": "stdout",
       "text": [
        "\n",
        "('hard', 'pcp', 'ZS')\n",
        "0.0"
       ]
      },
      {
       "output_type": "stream",
       "stream": "stdout",
       "text": [
        "\n",
        "4 0.00035 0.75000025 0.4999995\n",
        "('easy', 'img', 'KL')\n",
        "3.52950755134e-74"
       ]
      },
      {
       "output_type": "stream",
       "stream": "stdout",
       "text": [
        "\n",
        "('easy', 'img', 'RL')\n",
        "1.8999543289e-68"
       ]
      },
      {
       "output_type": "stream",
       "stream": "stdout",
       "text": [
        "\n",
        "('easy', 'img', 'ZS')\n",
        "3.88965738149e-79"
       ]
      },
      {
       "output_type": "stream",
       "stream": "stdout",
       "text": [
        "\n",
        "('easy', 'pcp', 'KL')\n",
        "9.16234458909e-80"
       ]
      },
      {
       "output_type": "stream",
       "stream": "stdout",
       "text": [
        "\n",
        "('easy', 'pcp', 'RL')\n",
        "4.34150439929e-77"
       ]
      },
      {
       "output_type": "stream",
       "stream": "stdout",
       "text": [
        "\n",
        "('easy', 'pcp', 'ZS')\n",
        "6.26968820024e-78"
       ]
      },
      {
       "output_type": "stream",
       "stream": "stdout",
       "text": [
        "\n",
        "('hard', 'img', 'KL')\n",
        "0.0"
       ]
      },
      {
       "output_type": "stream",
       "stream": "stdout",
       "text": [
        "\n",
        "('hard', 'img', 'RL')\n",
        "8.75341796429e-69"
       ]
      },
      {
       "output_type": "stream",
       "stream": "stdout",
       "text": [
        "\n",
        "('hard', 'img', 'ZS')\n",
        "6.47620806985e-80"
       ]
      },
      {
       "output_type": "stream",
       "stream": "stdout",
       "text": [
        "\n",
        "('hard', 'pcp', 'KL')\n",
        "0.0"
       ]
      },
      {
       "output_type": "stream",
       "stream": "stdout",
       "text": [
        "\n",
        "('hard', 'pcp', 'RL')\n",
        "0.0"
       ]
      },
      {
       "output_type": "stream",
       "stream": "stdout",
       "text": [
        "\n",
        "('hard', 'pcp', 'ZS')\n",
        "0.0"
       ]
      },
      {
       "output_type": "stream",
       "stream": "stdout",
       "text": [
        "\n",
        "4 0.00035 0.75000025 0.74999925\n",
        "('easy', 'img', 'KL')\n",
        "1.47035417097e-105"
       ]
      },
      {
       "output_type": "stream",
       "stream": "stdout",
       "text": [
        "\n",
        "('easy', 'img', 'RL')\n",
        "2.06889570747e-89"
       ]
      },
      {
       "output_type": "stream",
       "stream": "stdout",
       "text": [
        "\n",
        "('easy', 'img', 'ZS')\n",
        "1.49938566006e-114"
       ]
      },
      {
       "output_type": "stream",
       "stream": "stdout",
       "text": [
        "\n",
        "('easy', 'pcp', 'KL')\n",
        "1.4808784436e-115"
       ]
      },
      {
       "output_type": "stream",
       "stream": "stdout",
       "text": [
        "\n",
        "('easy', 'pcp', 'RL')\n",
        "1.27491405078e-107"
       ]
      },
      {
       "output_type": "stream",
       "stream": "stdout",
       "text": [
        "\n",
        "('easy', 'pcp', 'ZS')\n",
        "3.07417947602e-112"
       ]
      },
      {
       "output_type": "stream",
       "stream": "stdout",
       "text": [
        "\n",
        "('hard', 'img', 'KL')\n",
        "0.0"
       ]
      },
      {
       "output_type": "stream",
       "stream": "stdout",
       "text": [
        "\n",
        "('hard', 'img', 'RL')\n",
        "3.62849742199e-89"
       ]
      },
      {
       "output_type": "stream",
       "stream": "stdout",
       "text": [
        "\n",
        "('hard', 'img', 'ZS')\n",
        "3.99382238169e-113"
       ]
      },
      {
       "output_type": "stream",
       "stream": "stdout",
       "text": [
        "\n",
        "('hard', 'pcp', 'KL')\n",
        "0.0"
       ]
      },
      {
       "output_type": "stream",
       "stream": "stdout",
       "text": [
        "\n",
        "('hard', 'pcp', 'RL')\n",
        "0.0"
       ]
      },
      {
       "output_type": "stream",
       "stream": "stdout",
       "text": [
        "\n",
        "('hard', 'pcp', 'ZS')\n",
        "0.0"
       ]
      },
      {
       "output_type": "stream",
       "stream": "stdout",
       "text": [
        "\n",
        "4 0.00035 1.0 0.0\n",
        "('easy', 'img', 'KL')\n",
        "0.0"
       ]
      },
      {
       "output_type": "stream",
       "stream": "stdout",
       "text": [
        "\n",
        "('easy', 'img', 'RL')\n",
        "0.0"
       ]
      },
      {
       "output_type": "stream",
       "stream": "stdout",
       "text": [
        "\n",
        "('easy', 'img', 'ZS')\n",
        "0.0"
       ]
      },
      {
       "output_type": "stream",
       "stream": "stdout",
       "text": [
        "\n",
        "('easy', 'pcp', 'KL')\n",
        "0.0"
       ]
      },
      {
       "output_type": "stream",
       "stream": "stdout",
       "text": [
        "\n",
        "('easy', 'pcp', 'RL')\n",
        "0.0"
       ]
      },
      {
       "output_type": "stream",
       "stream": "stdout",
       "text": [
        "\n",
        "('easy', 'pcp', 'ZS')\n",
        "0.0"
       ]
      },
      {
       "output_type": "stream",
       "stream": "stdout",
       "text": [
        "\n",
        "('hard', 'img', 'KL')\n",
        "0.0"
       ]
      },
      {
       "output_type": "stream",
       "stream": "stdout",
       "text": [
        "\n",
        "('hard', 'img', 'RL')\n",
        "0.0"
       ]
      },
      {
       "output_type": "stream",
       "stream": "stdout",
       "text": [
        "\n",
        "('hard', 'img', 'ZS')\n",
        "0.0"
       ]
      },
      {
       "output_type": "stream",
       "stream": "stdout",
       "text": [
        "\n",
        "('hard', 'pcp', 'KL')\n",
        "0.0"
       ]
      },
      {
       "output_type": "stream",
       "stream": "stdout",
       "text": [
        "\n",
        "('hard', 'pcp', 'RL')\n",
        "0.0"
       ]
      },
      {
       "output_type": "stream",
       "stream": "stdout",
       "text": [
        "\n",
        "('hard', 'pcp', 'ZS')\n",
        "0.0"
       ]
      },
      {
       "output_type": "stream",
       "stream": "stdout",
       "text": [
        "\n",
        "4 0.00035 1.0 0.24999975\n",
        "('easy', 'img', 'KL')\n",
        "1.63417248625e-67"
       ]
      },
      {
       "output_type": "stream",
       "stream": "stdout",
       "text": [
        "\n",
        "('easy', 'img', 'RL')\n",
        "1.37442001465e-61"
       ]
      },
      {
       "output_type": "stream",
       "stream": "stdout",
       "text": [
        "\n",
        "('easy', 'img', 'ZS')\n",
        "1.81389772669e-73"
       ]
      },
      {
       "output_type": "stream",
       "stream": "stdout",
       "text": [
        "\n",
        "('easy', 'pcp', 'KL')\n",
        "4.81902860914e-72"
       ]
      },
      {
       "output_type": "stream",
       "stream": "stdout",
       "text": [
        "\n",
        "('easy', 'pcp', 'RL')\n",
        "9.94331068006e-70"
       ]
      },
      {
       "output_type": "stream",
       "stream": "stdout",
       "text": [
        "\n",
        "('easy', 'pcp', 'ZS')\n",
        "1.80491812663e-71"
       ]
      },
      {
       "output_type": "stream",
       "stream": "stdout",
       "text": [
        "\n",
        "('hard', 'img', 'KL')\n",
        "0.0"
       ]
      },
      {
       "output_type": "stream",
       "stream": "stdout",
       "text": [
        "\n",
        "('hard', 'img', 'RL')\n",
        "2.19701895908e-64"
       ]
      },
      {
       "output_type": "stream",
       "stream": "stdout",
       "text": [
        "\n",
        "('hard', 'img', 'ZS')\n",
        "1.23147762358e-73"
       ]
      },
      {
       "output_type": "stream",
       "stream": "stdout",
       "text": [
        "\n",
        "('hard', 'pcp', 'KL')\n",
        "0.0"
       ]
      },
      {
       "output_type": "stream",
       "stream": "stdout",
       "text": [
        "\n",
        "('hard', 'pcp', 'RL')\n",
        "0.0"
       ]
      },
      {
       "output_type": "stream",
       "stream": "stdout",
       "text": [
        "\n",
        "('hard', 'pcp', 'ZS')\n",
        "0.0"
       ]
      },
      {
       "output_type": "stream",
       "stream": "stdout",
       "text": [
        "\n",
        "4 0.00035 1.0 0.4999995\n",
        "('easy', 'img', 'KL')\n",
        "4.65350929417e-105"
       ]
      },
      {
       "output_type": "stream",
       "stream": "stdout",
       "text": [
        "\n",
        "('easy', 'img', 'RL')\n",
        "8.99047017379e-85"
       ]
      },
      {
       "output_type": "stream",
       "stream": "stdout",
       "text": [
        "\n",
        "('easy', 'img', 'ZS')\n",
        "1.20098784172e-115"
       ]
      },
      {
       "output_type": "stream",
       "stream": "stdout",
       "text": [
        "\n",
        "('easy', 'pcp', 'KL')\n",
        "1.17227987511e-115"
       ]
      },
      {
       "output_type": "stream",
       "stream": "stdout",
       "text": [
        "\n",
        "('easy', 'pcp', 'RL')\n",
        "8.81410756929e-106"
       ]
      },
      {
       "output_type": "stream",
       "stream": "stdout",
       "text": [
        "\n",
        "('easy', 'pcp', 'ZS')\n",
        "5.28699196642e-113"
       ]
      },
      {
       "output_type": "stream",
       "stream": "stdout",
       "text": [
        "\n",
        "('hard', 'img', 'KL')\n",
        "0.0"
       ]
      },
      {
       "output_type": "stream",
       "stream": "stdout",
       "text": [
        "\n",
        "('hard', 'img', 'RL')\n",
        "4.49515005319e-88"
       ]
      },
      {
       "output_type": "stream",
       "stream": "stdout",
       "text": [
        "\n",
        "('hard', 'img', 'ZS')\n",
        "3.61353276707e-114"
       ]
      },
      {
       "output_type": "stream",
       "stream": "stdout",
       "text": [
        "\n",
        "('hard', 'pcp', 'KL')\n",
        "0.0"
       ]
      },
      {
       "output_type": "stream",
       "stream": "stdout",
       "text": [
        "\n",
        "('hard', 'pcp', 'RL')\n",
        "0.0"
       ]
      },
      {
       "output_type": "stream",
       "stream": "stdout",
       "text": [
        "\n",
        "('hard', 'pcp', 'ZS')\n",
        "0.0"
       ]
      },
      {
       "output_type": "stream",
       "stream": "stdout",
       "text": [
        "\n",
        "4 0.00035 1.0 0.74999925\n",
        "('easy', 'img', 'KL')\n",
        "3.52703974407e-179"
       ]
      },
      {
       "output_type": "stream",
       "stream": "stdout",
       "text": [
        "\n",
        "('easy', 'img', 'RL')\n",
        "6.49115047662e-141"
       ]
      },
      {
       "output_type": "stream",
       "stream": "stdout",
       "text": [
        "\n",
        "('easy', 'img', 'ZS')\n",
        "2.83370848713e-196"
       ]
      },
      {
       "output_type": "stream",
       "stream": "stdout",
       "text": [
        "\n",
        "('easy', 'pcp', 'KL')\n",
        "3.49529969396e-197"
       ]
      },
      {
       "output_type": "stream",
       "stream": "stdout",
       "text": [
        "\n",
        "('easy', 'pcp', 'RL')\n",
        "1.39704254158e-177"
       ]
      },
      {
       "output_type": "stream",
       "stream": "stdout",
       "text": [
        "\n",
        "('easy', 'pcp', 'ZS')\n",
        "1.47656634255e-192"
       ]
      },
      {
       "output_type": "stream",
       "stream": "stdout",
       "text": [
        "\n",
        "('hard', 'img', 'KL')\n",
        "0.0"
       ]
      },
      {
       "output_type": "stream",
       "stream": "stdout",
       "text": [
        "\n",
        "('hard', 'img', 'RL')\n",
        "4.72056019112e-144"
       ]
      },
      {
       "output_type": "stream",
       "stream": "stdout",
       "text": [
        "\n",
        "('hard', 'img', 'ZS')\n",
        "6.16053222141e-191"
       ]
      },
      {
       "output_type": "stream",
       "stream": "stdout",
       "text": [
        "\n",
        "('hard', 'pcp', 'KL')\n",
        "0.0"
       ]
      },
      {
       "output_type": "stream",
       "stream": "stdout",
       "text": [
        "\n",
        "('hard', 'pcp', 'RL')\n",
        "0.0"
       ]
      },
      {
       "output_type": "stream",
       "stream": "stdout",
       "text": [
        "\n",
        "('hard', 'pcp', 'ZS')\n",
        "0.0"
       ]
      },
      {
       "output_type": "stream",
       "stream": "stdout",
       "text": [
        "\n",
        "4 0.00035 1.0 0.999999\n",
        "('easy', 'img', 'KL')\n",
        "0.0"
       ]
      },
      {
       "output_type": "stream",
       "stream": "stdout",
       "text": [
        "\n",
        "('easy', 'img', 'RL')\n",
        "0.0"
       ]
      },
      {
       "output_type": "stream",
       "stream": "stdout",
       "text": [
        "\n",
        "('easy', 'img', 'ZS')\n",
        "0.0"
       ]
      },
      {
       "output_type": "stream",
       "stream": "stdout",
       "text": [
        "\n",
        "('easy', 'pcp', 'KL')\n",
        "0.0"
       ]
      },
      {
       "output_type": "stream",
       "stream": "stdout",
       "text": [
        "\n",
        "('easy', 'pcp', 'RL')\n",
        "0.0"
       ]
      },
      {
       "output_type": "stream",
       "stream": "stdout",
       "text": [
        "\n",
        "('easy', 'pcp', 'ZS')\n",
        "0.0"
       ]
      },
      {
       "output_type": "stream",
       "stream": "stdout",
       "text": [
        "\n",
        "('hard', 'img', 'KL')\n",
        "0.0"
       ]
      },
      {
       "output_type": "stream",
       "stream": "stdout",
       "text": [
        "\n",
        "('hard', 'img', 'RL')\n",
        "0.0"
       ]
      },
      {
       "output_type": "stream",
       "stream": "stdout",
       "text": [
        "\n",
        "('hard', 'img', 'ZS')\n",
        "0.0"
       ]
      },
      {
       "output_type": "stream",
       "stream": "stdout",
       "text": [
        "\n",
        "('hard', 'pcp', 'KL')\n",
        "0.0"
       ]
      },
      {
       "output_type": "stream",
       "stream": "stdout",
       "text": [
        "\n",
        "('hard', 'pcp', 'RL')\n",
        "0.0"
       ]
      },
      {
       "output_type": "stream",
       "stream": "stdout",
       "text": [
        "\n",
        "('hard', 'pcp', 'ZS')\n",
        "0.0"
       ]
      },
      {
       "output_type": "stream",
       "stream": "stdout",
       "text": [
        "\n",
        "5 0.00015 1e-06 0.0\n",
        "('easy', 'img', 'KL')\n",
        "0.0"
       ]
      },
      {
       "output_type": "stream",
       "stream": "stdout",
       "text": [
        "\n",
        "('easy', 'img', 'RL')\n",
        "0.0"
       ]
      },
      {
       "output_type": "stream",
       "stream": "stdout",
       "text": [
        "\n",
        "('easy', 'img', 'ZS')\n",
        "0.0"
       ]
      },
      {
       "output_type": "stream",
       "stream": "stdout",
       "text": [
        "\n",
        "('easy', 'pcp', 'KL')\n",
        "0.0"
       ]
      },
      {
       "output_type": "stream",
       "stream": "stdout",
       "text": [
        "\n",
        "('easy', 'pcp', 'RL')\n",
        "0.0"
       ]
      },
      {
       "output_type": "stream",
       "stream": "stdout",
       "text": [
        "\n",
        "('easy', 'pcp', 'ZS')\n",
        "0.0"
       ]
      },
      {
       "output_type": "stream",
       "stream": "stdout",
       "text": [
        "\n",
        "('hard', 'img', 'KL')\n",
        "0.0"
       ]
      },
      {
       "output_type": "stream",
       "stream": "stdout",
       "text": [
        "\n",
        "('hard', 'img', 'RL')\n",
        "0.0"
       ]
      },
      {
       "output_type": "stream",
       "stream": "stdout",
       "text": [
        "\n",
        "('hard', 'img', 'ZS')\n",
        "0.0"
       ]
      },
      {
       "output_type": "stream",
       "stream": "stdout",
       "text": [
        "\n",
        "('hard', 'pcp', 'KL')\n",
        "0.0"
       ]
      },
      {
       "output_type": "stream",
       "stream": "stdout",
       "text": [
        "\n",
        "('hard', 'pcp', 'RL')\n",
        "0.0"
       ]
      },
      {
       "output_type": "stream",
       "stream": "stdout",
       "text": [
        "\n",
        "('hard', 'pcp', 'ZS')\n",
        "0.0"
       ]
      },
      {
       "output_type": "stream",
       "stream": "stdout",
       "text": [
        "\n",
        "5 0.00015 0.25000075 0.0\n",
        "('easy', 'img', 'KL')\n",
        "0.0"
       ]
      },
      {
       "output_type": "stream",
       "stream": "stdout",
       "text": [
        "\n",
        "('easy', 'img', 'RL')\n",
        "0.0"
       ]
      },
      {
       "output_type": "stream",
       "stream": "stdout",
       "text": [
        "\n",
        "('easy', 'img', 'ZS')\n",
        "0.0"
       ]
      },
      {
       "output_type": "stream",
       "stream": "stdout",
       "text": [
        "\n",
        "('easy', 'pcp', 'KL')\n",
        "0.0"
       ]
      },
      {
       "output_type": "stream",
       "stream": "stdout",
       "text": [
        "\n",
        "('easy', 'pcp', 'RL')\n",
        "0.0"
       ]
      },
      {
       "output_type": "stream",
       "stream": "stdout",
       "text": [
        "\n",
        "('easy', 'pcp', 'ZS')\n",
        "0.0"
       ]
      },
      {
       "output_type": "stream",
       "stream": "stdout",
       "text": [
        "\n",
        "('hard', 'img', 'KL')\n",
        "0.0"
       ]
      },
      {
       "output_type": "stream",
       "stream": "stdout",
       "text": [
        "\n",
        "('hard', 'img', 'RL')\n",
        "0.0"
       ]
      },
      {
       "output_type": "stream",
       "stream": "stdout",
       "text": [
        "\n",
        "('hard', 'img', 'ZS')\n",
        "0.0"
       ]
      },
      {
       "output_type": "stream",
       "stream": "stdout",
       "text": [
        "\n",
        "('hard', 'pcp', 'KL')\n",
        "0.0"
       ]
      },
      {
       "output_type": "stream",
       "stream": "stdout",
       "text": [
        "\n",
        "('hard', 'pcp', 'RL')\n",
        "0.0"
       ]
      },
      {
       "output_type": "stream",
       "stream": "stdout",
       "text": [
        "\n",
        "('hard', 'pcp', 'ZS')\n",
        "0.0"
       ]
      },
      {
       "output_type": "stream",
       "stream": "stdout",
       "text": [
        "\n",
        "5 0.00015 0.25000075 0.24999975\n",
        "('easy', 'img', 'KL')\n",
        "4.54553700743e-75"
       ]
      },
      {
       "output_type": "stream",
       "stream": "stdout",
       "text": [
        "\n",
        "('easy', 'img', 'RL')\n",
        "1.31298341519e-94"
       ]
      },
      {
       "output_type": "stream",
       "stream": "stdout",
       "text": [
        "\n",
        "('easy', 'img', 'ZS')\n",
        "2.8662555772e-70"
       ]
      },
      {
       "output_type": "stream",
       "stream": "stdout",
       "text": [
        "\n",
        "('easy', 'pcp', 'KL')\n",
        "2.14968785358e-70"
       ]
      },
      {
       "output_type": "stream",
       "stream": "stdout",
       "text": [
        "\n",
        "('easy', 'pcp', 'RL')\n",
        "1.0148670106e-81"
       ]
      },
      {
       "output_type": "stream",
       "stream": "stdout",
       "text": [
        "\n",
        "('easy', 'pcp', 'ZS')\n",
        "1.69851553674e-70"
       ]
      },
      {
       "output_type": "stream",
       "stream": "stdout",
       "text": [
        "\n",
        "('hard', 'img', 'KL')\n",
        "1.15326809936e-115"
       ]
      },
      {
       "output_type": "stream",
       "stream": "stdout",
       "text": [
        "\n",
        "('hard', 'img', 'RL')\n",
        "2.18828714457e-95"
       ]
      },
      {
       "output_type": "stream",
       "stream": "stdout",
       "text": [
        "\n",
        "('hard', 'img', 'ZS')\n",
        "8.42720377375e-78"
       ]
      },
      {
       "output_type": "stream",
       "stream": "stdout",
       "text": [
        "\n",
        "('hard', 'pcp', 'KL')\n",
        "4.00443133093e-118"
       ]
      },
      {
       "output_type": "stream",
       "stream": "stdout",
       "text": [
        "\n",
        "('hard', 'pcp', 'RL')\n",
        "0.0"
       ]
      },
      {
       "output_type": "stream",
       "stream": "stdout",
       "text": [
        "\n",
        "('hard', 'pcp', 'ZS')\n",
        "6.74900713531e-162"
       ]
      },
      {
       "output_type": "stream",
       "stream": "stdout",
       "text": [
        "\n",
        "5 0.00015 0.5000005 0.0\n",
        "('easy', 'img', 'KL')\n",
        "0.0"
       ]
      },
      {
       "output_type": "stream",
       "stream": "stdout",
       "text": [
        "\n",
        "('easy', 'img', 'RL')\n",
        "0.0"
       ]
      },
      {
       "output_type": "stream",
       "stream": "stdout",
       "text": [
        "\n",
        "('easy', 'img', 'ZS')\n",
        "0.0"
       ]
      },
      {
       "output_type": "stream",
       "stream": "stdout",
       "text": [
        "\n",
        "('easy', 'pcp', 'KL')\n",
        "0.0"
       ]
      },
      {
       "output_type": "stream",
       "stream": "stdout",
       "text": [
        "\n",
        "('easy', 'pcp', 'RL')\n",
        "0.0"
       ]
      },
      {
       "output_type": "stream",
       "stream": "stdout",
       "text": [
        "\n",
        "('easy', 'pcp', 'ZS')\n",
        "0.0"
       ]
      },
      {
       "output_type": "stream",
       "stream": "stdout",
       "text": [
        "\n",
        "('hard', 'img', 'KL')\n",
        "0.0"
       ]
      },
      {
       "output_type": "stream",
       "stream": "stdout",
       "text": [
        "\n",
        "('hard', 'img', 'RL')\n",
        "0.0"
       ]
      },
      {
       "output_type": "stream",
       "stream": "stdout",
       "text": [
        "\n",
        "('hard', 'img', 'ZS')\n",
        "0.0"
       ]
      },
      {
       "output_type": "stream",
       "stream": "stdout",
       "text": [
        "\n",
        "('hard', 'pcp', 'KL')\n",
        "0.0"
       ]
      },
      {
       "output_type": "stream",
       "stream": "stdout",
       "text": [
        "\n",
        "('hard', 'pcp', 'RL')\n",
        "0.0"
       ]
      },
      {
       "output_type": "stream",
       "stream": "stdout",
       "text": [
        "\n",
        "('hard', 'pcp', 'ZS')\n",
        "0.0"
       ]
      },
      {
       "output_type": "stream",
       "stream": "stdout",
       "text": [
        "\n",
        "5 0.00015 0.5000005 0.24999975\n",
        "('easy', 'img', 'KL')\n",
        "9.16594581655e-65"
       ]
      },
      {
       "output_type": "stream",
       "stream": "stdout",
       "text": [
        "\n",
        "('easy', 'img', 'RL')\n",
        "3.20108022551e-76"
       ]
      },
      {
       "output_type": "stream",
       "stream": "stdout",
       "text": [
        "\n",
        "('easy', 'img', 'ZS')\n",
        "1.64146153236e-62"
       ]
      },
      {
       "output_type": "stream",
       "stream": "stdout",
       "text": [
        "\n",
        "('easy', 'pcp', 'KL')\n",
        "5.73766319973e-63"
       ]
      },
      {
       "output_type": "stream",
       "stream": "stdout",
       "text": [
        "\n",
        "('easy', 'pcp', 'RL')\n",
        "2.76991926408e-70"
       ]
      },
      {
       "output_type": "stream",
       "stream": "stdout",
       "text": [
        "\n",
        "('easy', 'pcp', 'ZS')\n",
        "1.15531671622e-62"
       ]
      },
      {
       "output_type": "stream",
       "stream": "stdout",
       "text": [
        "\n",
        "('hard', 'img', 'KL')\n",
        "2.14148377807e-93"
       ]
      },
      {
       "output_type": "stream",
       "stream": "stdout",
       "text": [
        "\n",
        "('hard', 'img', 'RL')\n",
        "1.03448914682e-77"
       ]
      },
      {
       "output_type": "stream",
       "stream": "stdout",
       "text": [
        "\n",
        "('hard', 'img', 'ZS')\n",
        "5.77021763369e-68"
       ]
      },
      {
       "output_type": "stream",
       "stream": "stdout",
       "text": [
        "\n",
        "('hard', 'pcp', 'KL')\n",
        "4.68239503934e-95"
       ]
      },
      {
       "output_type": "stream",
       "stream": "stdout",
       "text": [
        "\n",
        "('hard', 'pcp', 'RL')\n",
        "0.0"
       ]
      },
      {
       "output_type": "stream",
       "stream": "stdout",
       "text": [
        "\n",
        "('hard', 'pcp', 'ZS')\n",
        "3.05967010496e-131"
       ]
      },
      {
       "output_type": "stream",
       "stream": "stdout",
       "text": [
        "\n",
        "5 0.00015 0.5000005 0.4999995\n",
        "('easy', 'img', 'KL')\n",
        "1.02071832643e-75"
       ]
      },
      {
       "output_type": "stream",
       "stream": "stdout",
       "text": [
        "\n",
        "('easy', 'img', 'RL')\n",
        "2.61297193912e-73"
       ]
      },
      {
       "output_type": "stream",
       "stream": "stdout",
       "text": [
        "\n",
        "('easy', 'img', 'ZS')\n",
        "4.98404661736e-79"
       ]
      },
      {
       "output_type": "stream",
       "stream": "stdout",
       "text": [
        "\n",
        "('easy', 'pcp', 'KL')\n",
        "1.24601123568e-79"
       ]
      },
      {
       "output_type": "stream",
       "stream": "stdout",
       "text": [
        "\n",
        "('easy', 'pcp', 'RL')\n",
        "4.98396432146e-79"
       ]
      },
      {
       "output_type": "stream",
       "stream": "stdout",
       "text": [
        "\n",
        "('easy', 'pcp', 'ZS')\n",
        "7.97442852736e-78"
       ]
      },
      {
       "output_type": "stream",
       "stream": "stdout",
       "text": [
        "\n",
        "('hard', 'img', 'KL')\n",
        "1.27583091392e-78"
       ]
      },
      {
       "output_type": "stream",
       "stream": "stdout",
       "text": [
        "\n",
        "('hard', 'img', 'RL')\n",
        "1.30647895009e-73"
       ]
      },
      {
       "output_type": "stream",
       "stream": "stdout",
       "text": [
        "\n",
        "('hard', 'img', 'ZS')\n",
        "7.78754343375e-81"
       ]
      },
      {
       "output_type": "stream",
       "stream": "stdout",
       "text": [
        "\n",
        "('hard', 'pcp', 'KL')\n",
        "3.98698469602e-80"
       ]
      },
      {
       "output_type": "stream",
       "stream": "stdout",
       "text": [
        "\n",
        "('hard', 'pcp', 'RL')\n",
        "0.0"
       ]
      },
      {
       "output_type": "stream",
       "stream": "stdout",
       "text": [
        "\n",
        "('hard', 'pcp', 'ZS')\n",
        "6.2292793137e-92"
       ]
      },
      {
       "output_type": "stream",
       "stream": "stdout",
       "text": [
        "\n",
        "5 0.00015 0.75000025 0.0\n",
        "('easy', 'img', 'KL')\n",
        "0.0"
       ]
      },
      {
       "output_type": "stream",
       "stream": "stdout",
       "text": [
        "\n",
        "('easy', 'img', 'RL')\n",
        "0.0"
       ]
      },
      {
       "output_type": "stream",
       "stream": "stdout",
       "text": [
        "\n",
        "('easy', 'img', 'ZS')\n",
        "0.0"
       ]
      },
      {
       "output_type": "stream",
       "stream": "stdout",
       "text": [
        "\n",
        "('easy', 'pcp', 'KL')\n",
        "0.0"
       ]
      },
      {
       "output_type": "stream",
       "stream": "stdout",
       "text": [
        "\n",
        "('easy', 'pcp', 'RL')\n",
        "0.0"
       ]
      },
      {
       "output_type": "stream",
       "stream": "stdout",
       "text": [
        "\n",
        "('easy', 'pcp', 'ZS')\n",
        "0.0"
       ]
      },
      {
       "output_type": "stream",
       "stream": "stdout",
       "text": [
        "\n",
        "('hard', 'img', 'KL')\n",
        "0.0"
       ]
      },
      {
       "output_type": "stream",
       "stream": "stdout",
       "text": [
        "\n",
        "('hard', 'img', 'RL')\n",
        "0.0"
       ]
      },
      {
       "output_type": "stream",
       "stream": "stdout",
       "text": [
        "\n",
        "('hard', 'img', 'ZS')\n",
        "0.0"
       ]
      },
      {
       "output_type": "stream",
       "stream": "stdout",
       "text": [
        "\n",
        "('hard', 'pcp', 'KL')\n",
        "0.0"
       ]
      },
      {
       "output_type": "stream",
       "stream": "stdout",
       "text": [
        "\n",
        "('hard', 'pcp', 'RL')\n",
        "0.0"
       ]
      },
      {
       "output_type": "stream",
       "stream": "stdout",
       "text": [
        "\n",
        "('hard', 'pcp', 'ZS')\n",
        "0.0"
       ]
      },
      {
       "output_type": "stream",
       "stream": "stdout",
       "text": [
        "\n",
        "5 0.00015 0.75000025 0.24999975\n",
        "('easy', 'img', 'KL')\n",
        "7.35603316996e-61"
       ]
      },
      {
       "output_type": "stream",
       "stream": "stdout",
       "text": [
        "\n",
        "('easy', 'img', 'RL')\n",
        "5.8297251733e-65"
       ]
      },
      {
       "output_type": "stream",
       "stream": "stdout",
       "text": [
        "\n",
        "('easy', 'img', 'ZS')\n",
        "5.35888435018e-61"
       ]
      },
      {
       "output_type": "stream",
       "stream": "stdout",
       "text": [
        "\n",
        "('easy', 'pcp', 'KL')\n",
        "8.34334243446e-62"
       ]
      },
      {
       "output_type": "stream",
       "stream": "stdout",
       "text": [
        "\n",
        "('easy', 'pcp', 'RL')\n",
        "8.35627597497e-66"
       ]
      },
      {
       "output_type": "stream",
       "stream": "stdout",
       "text": [
        "\n",
        "('easy', 'pcp', 'ZS')\n",
        "4.92341056402e-61"
       ]
      },
      {
       "output_type": "stream",
       "stream": "stdout",
       "text": [
        "\n",
        "('hard', 'img', 'KL')\n",
        "6.90447337703e-80"
       ]
      },
      {
       "output_type": "stream",
       "stream": "stdout",
       "text": [
        "\n",
        "('hard', 'img', 'RL')\n",
        "2.19082785003e-67"
       ]
      },
      {
       "output_type": "stream",
       "stream": "stdout",
       "text": [
        "\n",
        "('hard', 'img', 'ZS')\n",
        "1.04203157733e-64"
       ]
      },
      {
       "output_type": "stream",
       "stream": "stdout",
       "text": [
        "\n",
        "('hard', 'pcp', 'KL')\n",
        "5.55352589965e-81"
       ]
      },
      {
       "output_type": "stream",
       "stream": "stdout",
       "text": [
        "\n",
        "('hard', 'pcp', 'RL')\n",
        "0.0"
       ]
      },
      {
       "output_type": "stream",
       "stream": "stdout",
       "text": [
        "\n",
        "('hard', 'pcp', 'ZS')\n",
        "2.36470971973e-112"
       ]
      },
      {
       "output_type": "stream",
       "stream": "stdout",
       "text": [
        "\n",
        "5 0.00015 0.75000025 0.4999995\n",
        "('easy', 'img', 'KL')\n",
        "2.24848247927e-89"
       ]
      },
      {
       "output_type": "stream",
       "stream": "stdout",
       "text": [
        "\n",
        "('easy', 'img', 'RL')\n",
        "3.43016968024e-79"
       ]
      },
      {
       "output_type": "stream",
       "stream": "stdout",
       "text": [
        "\n",
        "('easy', 'img', 'ZS')\n",
        "3.54099806223e-95"
       ]
      },
      {
       "output_type": "stream",
       "stream": "stdout",
       "text": [
        "\n",
        "('easy', 'pcp', 'KL')\n",
        "4.57294048846e-96"
       ]
      },
      {
       "output_type": "stream",
       "stream": "stdout",
       "text": [
        "\n",
        "('easy', 'pcp', 'RL')\n",
        "1.45832634096e-91"
       ]
      },
      {
       "output_type": "stream",
       "stream": "stdout",
       "text": [
        "\n",
        "('easy', 'pcp', 'ZS')\n",
        "7.50930834774e-94"
       ]
      },
      {
       "output_type": "stream",
       "stream": "stdout",
       "text": [
        "\n",
        "('hard', 'img', 'KL')\n",
        "1.93939903725e-80"
       ]
      },
      {
       "output_type": "stream",
       "stream": "stdout",
       "text": [
        "\n",
        "('hard', 'img', 'RL')\n",
        "6.65125448065e-80"
       ]
      },
      {
       "output_type": "stream",
       "stream": "stdout",
       "text": [
        "\n",
        "('hard', 'img', 'ZS')\n",
        "1.02450009886e-94"
       ]
      },
      {
       "output_type": "stream",
       "stream": "stdout",
       "text": [
        "\n",
        "('hard', 'pcp', 'KL')\n",
        "3.27998608739e-81"
       ]
      },
      {
       "output_type": "stream",
       "stream": "stdout",
       "text": [
        "\n",
        "('hard', 'pcp', 'RL')\n",
        "0.0"
       ]
      },
      {
       "output_type": "stream",
       "stream": "stdout",
       "text": [
        "\n",
        "('hard', 'pcp', 'ZS')\n",
        "1.5286612925e-85"
       ]
      },
      {
       "output_type": "stream",
       "stream": "stdout",
       "text": [
        "\n",
        "5 0.00015 0.75000025 0.74999925\n",
        "('easy', 'img', 'KL')\n",
        "1.05763236767e-155"
       ]
      },
      {
       "output_type": "stream",
       "stream": "stdout",
       "text": [
        "\n",
        "('easy', 'img', 'RL')\n",
        "2.39944575825e-131"
       ]
      },
      {
       "output_type": "stream",
       "stream": "stdout",
       "text": [
        "\n",
        "('easy', 'img', 'ZS')\n",
        "3.99909274175e-167"
       ]
      },
      {
       "output_type": "stream",
       "stream": "stdout",
       "text": [
        "\n",
        "('easy', 'pcp', 'KL')\n",
        "3.33258023523e-168"
       ]
      },
      {
       "output_type": "stream",
       "stream": "stdout",
       "text": [
        "\n",
        "('easy', 'pcp', 'RL')\n",
        "1.1294009021e-155"
       ]
      },
      {
       "output_type": "stream",
       "stream": "stdout",
       "text": [
        "\n",
        "('easy', 'pcp', 'ZS')\n",
        "1.72758784927e-164"
       ]
      },
      {
       "output_type": "stream",
       "stream": "stdout",
       "text": [
        "\n",
        "('hard', 'img', 'KL')\n",
        "6.5125169531e-121"
       ]
      },
      {
       "output_type": "stream",
       "stream": "stdout",
       "text": [
        "\n",
        "('hard', 'img', 'RL')\n",
        "3.59914757605e-131"
       ]
      },
      {
       "output_type": "stream",
       "stream": "stdout",
       "text": [
        "\n",
        "('hard', 'img', 'ZS')\n",
        "3.32069181818e-163"
       ]
      },
      {
       "output_type": "stream",
       "stream": "stdout",
       "text": [
        "\n",
        "('hard', 'pcp', 'KL')\n",
        "1.83164852687e-121"
       ]
      },
      {
       "output_type": "stream",
       "stream": "stdout",
       "text": [
        "\n",
        "('hard', 'pcp', 'RL')\n",
        "0.0"
       ]
      },
      {
       "output_type": "stream",
       "stream": "stdout",
       "text": [
        "\n",
        "('hard', 'pcp', 'ZS')\n",
        "2.65284402519e-101"
       ]
      },
      {
       "output_type": "stream",
       "stream": "stdout",
       "text": [
        "\n",
        "5 0.00015 1.0 0.0\n",
        "('easy', 'img', 'KL')\n",
        "0.0"
       ]
      },
      {
       "output_type": "stream",
       "stream": "stdout",
       "text": [
        "\n",
        "('easy', 'img', 'RL')\n",
        "0.0"
       ]
      },
      {
       "output_type": "stream",
       "stream": "stdout",
       "text": [
        "\n",
        "('easy', 'img', 'ZS')\n",
        "0.0"
       ]
      },
      {
       "output_type": "stream",
       "stream": "stdout",
       "text": [
        "\n",
        "('easy', 'pcp', 'KL')\n",
        "0.0"
       ]
      },
      {
       "output_type": "stream",
       "stream": "stdout",
       "text": [
        "\n",
        "('easy', 'pcp', 'RL')\n",
        "0.0"
       ]
      },
      {
       "output_type": "stream",
       "stream": "stdout",
       "text": [
        "\n",
        "('easy', 'pcp', 'ZS')\n",
        "0.0"
       ]
      },
      {
       "output_type": "stream",
       "stream": "stdout",
       "text": [
        "\n",
        "('hard', 'img', 'KL')\n",
        "0.0"
       ]
      },
      {
       "output_type": "stream",
       "stream": "stdout",
       "text": [
        "\n",
        "('hard', 'img', 'RL')\n",
        "0.0"
       ]
      },
      {
       "output_type": "stream",
       "stream": "stdout",
       "text": [
        "\n",
        "('hard', 'img', 'ZS')\n",
        "0.0"
       ]
      },
      {
       "output_type": "stream",
       "stream": "stdout",
       "text": [
        "\n",
        "('hard', 'pcp', 'KL')\n",
        "0.0"
       ]
      },
      {
       "output_type": "stream",
       "stream": "stdout",
       "text": [
        "\n",
        "('hard', 'pcp', 'RL')\n",
        "0.0"
       ]
      },
      {
       "output_type": "stream",
       "stream": "stdout",
       "text": [
        "\n",
        "('hard', 'pcp', 'ZS')\n",
        "0.0"
       ]
      },
      {
       "output_type": "stream",
       "stream": "stdout",
       "text": [
        "\n",
        "5 0.00015 1.0 0.24999975\n",
        "('easy', 'img', 'KL')\n",
        "3.12840025497e-64"
       ]
      },
      {
       "output_type": "stream",
       "stream": "stdout",
       "text": [
        "\n",
        "('easy', 'img', 'RL')\n",
        "3.25575718546e-58"
       ]
      },
      {
       "output_type": "stream",
       "stream": "stdout",
       "text": [
        "\n",
        "('easy', 'img', 'ZS')\n",
        "2.38189710715e-67"
       ]
      },
      {
       "output_type": "stream",
       "stream": "stdout",
       "text": [
        "\n",
        "('easy', 'pcp', 'KL')\n",
        "5.14144444764e-69"
       ]
      },
      {
       "output_type": "stream",
       "stream": "stdout",
       "text": [
        "\n",
        "('easy', 'pcp', 'RL')\n",
        "2.74883352494e-69"
       ]
      },
      {
       "output_type": "stream",
       "stream": "stdout",
       "text": [
        "\n",
        "('easy', 'pcp', 'ZS')\n",
        "1.7832018531e-67"
       ]
      },
      {
       "output_type": "stream",
       "stream": "stdout",
       "text": [
        "\n",
        "('hard', 'img', 'KL')\n",
        "1.97100439559e-72"
       ]
      },
      {
       "output_type": "stream",
       "stream": "stdout",
       "text": [
        "\n",
        "('hard', 'img', 'RL')\n",
        "2.31585360491e-63"
       ]
      },
      {
       "output_type": "stream",
       "stream": "stdout",
       "text": [
        "\n",
        "('hard', 'img', 'ZS')\n",
        "1.14521002974e-68"
       ]
      },
      {
       "output_type": "stream",
       "stream": "stdout",
       "text": [
        "\n",
        "('hard', 'pcp', 'KL')\n",
        "2.14298711486e-73"
       ]
      },
      {
       "output_type": "stream",
       "stream": "stdout",
       "text": [
        "\n",
        "('hard', 'pcp', 'RL')\n",
        "0.0"
       ]
      },
      {
       "output_type": "stream",
       "stream": "stdout",
       "text": [
        "\n",
        "('hard', 'pcp', 'ZS')\n",
        "4.37576562439e-101"
       ]
      },
      {
       "output_type": "stream",
       "stream": "stdout",
       "text": [
        "\n",
        "5 0.00015 1.0 0.4999995\n",
        "('easy', 'img', 'KL')\n",
        "1.37430660588e-116"
       ]
      },
      {
       "output_type": "stream",
       "stream": "stdout",
       "text": [
        "\n",
        "('easy', 'img', 'RL')\n",
        "3.21825159302e-93"
       ]
      },
      {
       "output_type": "stream",
       "stream": "stdout",
       "text": [
        "\n",
        "('easy', 'img', 'ZS')\n",
        "5.33718667666e-127"
       ]
      },
      {
       "output_type": "stream",
       "stream": "stdout",
       "text": [
        "\n",
        "('easy', 'pcp', 'KL')\n",
        "1.35889383767e-128"
       ]
      },
      {
       "output_type": "stream",
       "stream": "stdout",
       "text": [
        "\n",
        "('easy', 'pcp', 'RL')\n",
        "3.57300693541e-118"
       ]
      },
      {
       "output_type": "stream",
       "stream": "stdout",
       "text": [
        "\n",
        "('easy', 'pcp', 'ZS')\n",
        "2.67167369157e-125"
       ]
      },
      {
       "output_type": "stream",
       "stream": "stdout",
       "text": [
        "\n",
        "('hard', 'img', 'KL')\n",
        "6.4791731578e-91"
       ]
      },
      {
       "output_type": "stream",
       "stream": "stdout",
       "text": [
        "\n",
        "('hard', 'img', 'RL')\n",
        "7.69966755275e-96"
       ]
      },
      {
       "output_type": "stream",
       "stream": "stdout",
       "text": [
        "\n",
        "('hard', 'img', 'ZS')\n",
        "6.07517418501e-123"
       ]
      },
      {
       "output_type": "stream",
       "stream": "stdout",
       "text": [
        "\n",
        "('hard', 'pcp', 'KL')\n",
        "3.19655123594e-91"
       ]
      },
      {
       "output_type": "stream",
       "stream": "stdout",
       "text": [
        "\n",
        "('hard', 'pcp', 'RL')\n",
        "0.0"
       ]
      },
      {
       "output_type": "stream",
       "stream": "stdout",
       "text": [
        "\n",
        "('hard', 'pcp', 'ZS')\n",
        "1.49222006225e-87"
       ]
      },
      {
       "output_type": "stream",
       "stream": "stdout",
       "text": [
        "\n",
        "5 0.00015 1.0 0.74999925\n",
        "('easy', 'img', 'KL')\n",
        "1.72750294758e-225"
       ]
      },
      {
       "output_type": "stream",
       "stream": "stdout",
       "text": [
        "\n",
        "('easy', 'img', 'RL')\n",
        "2.01075511559e-182"
       ]
      },
      {
       "output_type": "stream",
       "stream": "stdout",
       "text": [
        "\n",
        "('easy', 'img', 'ZS')\n",
        "1.33651315061e-243"
       ]
      },
      {
       "output_type": "stream",
       "stream": "stdout",
       "text": [
        "\n",
        "('easy', 'pcp', 'KL')\n",
        "2.03785191202e-245"
       ]
      },
      {
       "output_type": "stream",
       "stream": "stdout",
       "text": [
        "\n",
        "('easy', 'pcp', 'RL')\n",
        "8.42778850436e-224"
       ]
      },
      {
       "output_type": "stream",
       "stream": "stdout",
       "text": [
        "\n",
        "('easy', 'pcp', 'ZS')\n",
        "2.83932907094e-240"
       ]
      },
      {
       "output_type": "stream",
       "stream": "stdout",
       "text": [
        "\n",
        "('hard', 'img', 'KL')\n",
        "2.46191648251e-164"
       ]
      },
      {
       "output_type": "stream",
       "stream": "stdout",
       "text": [
        "\n",
        "('hard', 'img', 'RL')\n",
        "8.45126337268e-184"
       ]
      },
      {
       "output_type": "stream",
       "stream": "stdout",
       "text": [
        "\n",
        "('hard', 'img', 'ZS')\n",
        "3.38193065814e-234"
       ]
      },
      {
       "output_type": "stream",
       "stream": "stdout",
       "text": [
        "\n",
        "('hard', 'pcp', 'KL')\n",
        "6.19881903021e-164"
       ]
      },
      {
       "output_type": "stream",
       "stream": "stdout",
       "text": [
        "\n",
        "('hard', 'pcp', 'RL')\n",
        "0.0"
       ]
      },
      {
       "output_type": "stream",
       "stream": "stdout",
       "text": [
        "\n",
        "('hard', 'pcp', 'ZS')\n",
        "8.14113885257e-129"
       ]
      },
      {
       "output_type": "stream",
       "stream": "stdout",
       "text": [
        "\n",
        "5 0.00015 1.0 0.999999\n",
        "('easy', 'img', 'KL')\n",
        "0.0"
       ]
      },
      {
       "output_type": "stream",
       "stream": "stdout",
       "text": [
        "\n",
        "('easy', 'img', 'RL')\n",
        "0.0"
       ]
      },
      {
       "output_type": "stream",
       "stream": "stdout",
       "text": [
        "\n",
        "('easy', 'img', 'ZS')\n",
        "0.0"
       ]
      },
      {
       "output_type": "stream",
       "stream": "stdout",
       "text": [
        "\n",
        "('easy', 'pcp', 'KL')\n",
        "0.0"
       ]
      },
      {
       "output_type": "stream",
       "stream": "stdout",
       "text": [
        "\n",
        "('easy', 'pcp', 'RL')\n",
        "0.0"
       ]
      },
      {
       "output_type": "stream",
       "stream": "stdout",
       "text": [
        "\n",
        "('easy', 'pcp', 'ZS')\n",
        "0.0"
       ]
      },
      {
       "output_type": "stream",
       "stream": "stdout",
       "text": [
        "\n",
        "('hard', 'img', 'KL')\n",
        "0.0"
       ]
      },
      {
       "output_type": "stream",
       "stream": "stdout",
       "text": [
        "\n",
        "('hard', 'img', 'RL')\n",
        "0.0"
       ]
      },
      {
       "output_type": "stream",
       "stream": "stdout",
       "text": [
        "\n",
        "('hard', 'img', 'ZS')\n",
        "0.0"
       ]
      },
      {
       "output_type": "stream",
       "stream": "stdout",
       "text": [
        "\n",
        "('hard', 'pcp', 'KL')\n",
        "0.0"
       ]
      },
      {
       "output_type": "stream",
       "stream": "stdout",
       "text": [
        "\n",
        "('hard', 'pcp', 'RL')\n",
        "0.0"
       ]
      },
      {
       "output_type": "stream",
       "stream": "stdout",
       "text": [
        "\n",
        "('hard', 'pcp', 'ZS')\n",
        "0.0"
       ]
      },
      {
       "output_type": "stream",
       "stream": "stdout",
       "text": [
        "\n",
        "5 0.0002 1e-06 0.0\n",
        "('easy', 'img', 'KL')\n",
        "0.0"
       ]
      },
      {
       "output_type": "stream",
       "stream": "stdout",
       "text": [
        "\n",
        "('easy', 'img', 'RL')\n",
        "0.0"
       ]
      },
      {
       "output_type": "stream",
       "stream": "stdout",
       "text": [
        "\n",
        "('easy', 'img', 'ZS')\n",
        "0.0"
       ]
      },
      {
       "output_type": "stream",
       "stream": "stdout",
       "text": [
        "\n",
        "('easy', 'pcp', 'KL')\n",
        "0.0"
       ]
      },
      {
       "output_type": "stream",
       "stream": "stdout",
       "text": [
        "\n",
        "('easy', 'pcp', 'RL')\n",
        "0.0"
       ]
      },
      {
       "output_type": "stream",
       "stream": "stdout",
       "text": [
        "\n",
        "('easy', 'pcp', 'ZS')\n",
        "0.0"
       ]
      },
      {
       "output_type": "stream",
       "stream": "stdout",
       "text": [
        "\n",
        "('hard', 'img', 'KL')\n",
        "0.0"
       ]
      },
      {
       "output_type": "stream",
       "stream": "stdout",
       "text": [
        "\n",
        "('hard', 'img', 'RL')\n",
        "0.0"
       ]
      },
      {
       "output_type": "stream",
       "stream": "stdout",
       "text": [
        "\n",
        "('hard', 'img', 'ZS')\n",
        "0.0"
       ]
      },
      {
       "output_type": "stream",
       "stream": "stdout",
       "text": [
        "\n",
        "('hard', 'pcp', 'KL')\n",
        "0.0"
       ]
      },
      {
       "output_type": "stream",
       "stream": "stdout",
       "text": [
        "\n",
        "('hard', 'pcp', 'RL')\n",
        "0.0"
       ]
      },
      {
       "output_type": "stream",
       "stream": "stdout",
       "text": [
        "\n",
        "('hard', 'pcp', 'ZS')\n",
        "0.0"
       ]
      },
      {
       "output_type": "stream",
       "stream": "stdout",
       "text": [
        "\n",
        "5 0.0002 0.25000075 0.0\n",
        "('easy', 'img', 'KL')\n",
        "0.0"
       ]
      },
      {
       "output_type": "stream",
       "stream": "stdout",
       "text": [
        "\n",
        "('easy', 'img', 'RL')\n",
        "0.0"
       ]
      },
      {
       "output_type": "stream",
       "stream": "stdout",
       "text": [
        "\n",
        "('easy', 'img', 'ZS')\n",
        "0.0"
       ]
      },
      {
       "output_type": "stream",
       "stream": "stdout",
       "text": [
        "\n",
        "('easy', 'pcp', 'KL')\n",
        "0.0"
       ]
      },
      {
       "output_type": "stream",
       "stream": "stdout",
       "text": [
        "\n",
        "('easy', 'pcp', 'RL')\n",
        "0.0"
       ]
      },
      {
       "output_type": "stream",
       "stream": "stdout",
       "text": [
        "\n",
        "('easy', 'pcp', 'ZS')\n",
        "0.0"
       ]
      },
      {
       "output_type": "stream",
       "stream": "stdout",
       "text": [
        "\n",
        "('hard', 'img', 'KL')\n",
        "0.0"
       ]
      },
      {
       "output_type": "stream",
       "stream": "stdout",
       "text": [
        "\n",
        "('hard', 'img', 'RL')\n",
        "0.0"
       ]
      },
      {
       "output_type": "stream",
       "stream": "stdout",
       "text": [
        "\n",
        "('hard', 'img', 'ZS')\n",
        "0.0"
       ]
      },
      {
       "output_type": "stream",
       "stream": "stdout",
       "text": [
        "\n",
        "('hard', 'pcp', 'KL')\n",
        "0.0"
       ]
      },
      {
       "output_type": "stream",
       "stream": "stdout",
       "text": [
        "\n",
        "('hard', 'pcp', 'RL')\n",
        "0.0"
       ]
      },
      {
       "output_type": "stream",
       "stream": "stdout",
       "text": [
        "\n",
        "('hard', 'pcp', 'ZS')\n",
        "0.0"
       ]
      },
      {
       "output_type": "stream",
       "stream": "stdout",
       "text": [
        "\n",
        "5 0.0002 0.25000075 0.24999975\n",
        "('easy', 'img', 'KL')\n",
        "4.54562319641e-75"
       ]
      },
      {
       "output_type": "stream",
       "stream": "stdout",
       "text": [
        "\n",
        "('easy', 'img', 'RL')\n",
        "1.31301700557e-94"
       ]
      },
      {
       "output_type": "stream",
       "stream": "stdout",
       "text": [
        "\n",
        "('easy', 'img', 'ZS')\n",
        "2.86628781392e-70"
       ]
      },
      {
       "output_type": "stream",
       "stream": "stdout",
       "text": [
        "\n",
        "('easy', 'pcp', 'KL')\n",
        "2.14972054281e-70"
       ]
      },
      {
       "output_type": "stream",
       "stream": "stdout",
       "text": [
        "\n",
        "('easy', 'pcp', 'RL')\n",
        "1.01488957931e-81"
       ]
      },
      {
       "output_type": "stream",
       "stream": "stdout",
       "text": [
        "\n",
        "('easy', 'pcp', 'ZS')\n",
        "1.69854136522e-70"
       ]
      },
      {
       "output_type": "stream",
       "stream": "stdout",
       "text": [
        "\n",
        "('hard', 'img', 'KL')\n",
        "1.15331083072e-115"
       ]
      },
      {
       "output_type": "stream",
       "stream": "stdout",
       "text": [
        "\n",
        "('hard', 'img', 'RL')\n",
        "2.18834566769e-95"
       ]
      },
      {
       "output_type": "stream",
       "stream": "stdout",
       "text": [
        "\n",
        "('hard', 'img', 'ZS')\n",
        "8.42736598017e-78"
       ]
      },
      {
       "output_type": "stream",
       "stream": "stdout",
       "text": [
        "\n",
        "('hard', 'pcp', 'KL')\n",
        "4.00456231784e-118"
       ]
      },
      {
       "output_type": "stream",
       "stream": "stdout",
       "text": [
        "\n",
        "('hard', 'pcp', 'RL')\n",
        "0.0"
       ]
      },
      {
       "output_type": "stream",
       "stream": "stdout",
       "text": [
        "\n",
        "('hard', 'pcp', 'ZS')\n",
        "6.74930852992e-162"
       ]
      },
      {
       "output_type": "stream",
       "stream": "stdout",
       "text": [
        "\n",
        "5 0.0002 0.5000005 0.0\n",
        "('easy', 'img', 'KL')\n",
        "0.0"
       ]
      },
      {
       "output_type": "stream",
       "stream": "stdout",
       "text": [
        "\n",
        "('easy', 'img', 'RL')\n",
        "0.0"
       ]
      },
      {
       "output_type": "stream",
       "stream": "stdout",
       "text": [
        "\n",
        "('easy', 'img', 'ZS')\n",
        "0.0"
       ]
      },
      {
       "output_type": "stream",
       "stream": "stdout",
       "text": [
        "\n",
        "('easy', 'pcp', 'KL')\n",
        "0.0"
       ]
      },
      {
       "output_type": "stream",
       "stream": "stdout",
       "text": [
        "\n",
        "('easy', 'pcp', 'RL')\n",
        "0.0"
       ]
      },
      {
       "output_type": "stream",
       "stream": "stdout",
       "text": [
        "\n",
        "('easy', 'pcp', 'ZS')\n",
        "0.0"
       ]
      },
      {
       "output_type": "stream",
       "stream": "stdout",
       "text": [
        "\n",
        "('hard', 'img', 'KL')\n",
        "0.0"
       ]
      },
      {
       "output_type": "stream",
       "stream": "stdout",
       "text": [
        "\n",
        "('hard', 'img', 'RL')\n",
        "0.0"
       ]
      },
      {
       "output_type": "stream",
       "stream": "stdout",
       "text": [
        "\n",
        "('hard', 'img', 'ZS')\n",
        "0.0"
       ]
      },
      {
       "output_type": "stream",
       "stream": "stdout",
       "text": [
        "\n",
        "('hard', 'pcp', 'KL')\n",
        "0.0"
       ]
      },
      {
       "output_type": "stream",
       "stream": "stdout",
       "text": [
        "\n",
        "('hard', 'pcp', 'RL')\n",
        "0.0"
       ]
      },
      {
       "output_type": "stream",
       "stream": "stdout",
       "text": [
        "\n",
        "('hard', 'pcp', 'ZS')\n",
        "0.0"
       ]
      },
      {
       "output_type": "stream",
       "stream": "stdout",
       "text": [
        "\n",
        "5 0.0002 0.5000005 0.24999975\n",
        "('easy', 'img', 'KL')\n",
        "7.12053419521e-64"
       ]
      },
      {
       "output_type": "stream",
       "stream": "stdout",
       "text": [
        "\n",
        "('easy', 'img', 'RL')\n",
        "1.17662455022e-74"
       ]
      },
      {
       "output_type": "stream",
       "stream": "stdout",
       "text": [
        "\n",
        "('easy', 'img', 'ZS')\n",
        "2.10580787312e-62"
       ]
      },
      {
       "output_type": "stream",
       "stream": "stdout",
       "text": [
        "\n",
        "('easy', 'pcp', 'KL')\n",
        "1.8341432989e-62"
       ]
      },
      {
       "output_type": "stream",
       "stream": "stdout",
       "text": [
        "\n",
        "('easy', 'pcp', 'RL')\n",
        "4.61705273165e-69"
       ]
      },
      {
       "output_type": "stream",
       "stream": "stdout",
       "text": [
        "\n",
        "('easy', 'pcp', 'ZS')\n",
        "3.69316974421e-62"
       ]
      },
      {
       "output_type": "stream",
       "stream": "stdout",
       "text": [
        "\n",
        "('hard', 'img', 'KL')\n",
        "7.95280819192e-91"
       ]
      },
      {
       "output_type": "stream",
       "stream": "stdout",
       "text": [
        "\n",
        "('hard', 'img', 'RL')\n",
        "3.37857466946e-76"
       ]
      },
      {
       "output_type": "stream",
       "stream": "stdout",
       "text": [
        "\n",
        "('hard', 'img', 'ZS')\n",
        "3.53399483998e-67"
       ]
      },
      {
       "output_type": "stream",
       "stream": "stdout",
       "text": [
        "\n",
        "('hard', 'pcp', 'KL')\n",
        "6.32276944421e-93"
       ]
      },
      {
       "output_type": "stream",
       "stream": "stdout",
       "text": [
        "\n",
        "('hard', 'pcp', 'RL')\n",
        "0.0"
       ]
      },
      {
       "output_type": "stream",
       "stream": "stdout",
       "text": [
        "\n",
        "('hard', 'pcp', 'ZS')\n",
        "6.46701613581e-128"
       ]
      },
      {
       "output_type": "stream",
       "stream": "stdout",
       "text": [
        "\n",
        "5 0.0002 0.5000005 0.4999995\n",
        "('easy', 'img', 'KL')\n",
        "1.02071239486e-75"
       ]
      },
      {
       "output_type": "stream",
       "stream": "stdout",
       "text": [
        "\n",
        "('easy', 'img', 'RL')\n",
        "2.61296973171e-73"
       ]
      },
      {
       "output_type": "stream",
       "stream": "stdout",
       "text": [
        "\n",
        "('easy', 'img', 'ZS')\n",
        "4.98398881876e-79"
       ]
      },
      {
       "output_type": "stream",
       "stream": "stdout",
       "text": [
        "\n",
        "('easy', 'pcp', 'KL')\n",
        "1.24600048615e-79"
       ]
      },
      {
       "output_type": "stream",
       "stream": "stdout",
       "text": [
        "\n",
        "('easy', 'pcp', 'RL')\n",
        "4.98394760732e-79"
       ]
      },
      {
       "output_type": "stream",
       "stream": "stdout",
       "text": [
        "\n",
        "('easy', 'pcp', 'ZS')\n",
        "7.97435973076e-78"
       ]
      },
      {
       "output_type": "stream",
       "stream": "stdout",
       "text": [
        "\n",
        "('hard', 'img', 'KL')\n",
        "1.2758382954e-78"
       ]
      },
      {
       "output_type": "stream",
       "stream": "stdout",
       "text": [
        "\n",
        "('hard', 'img', 'RL')\n",
        "1.30647640822e-73"
       ]
      },
      {
       "output_type": "stream",
       "stream": "stdout",
       "text": [
        "\n",
        "('hard', 'img', 'ZS')\n",
        "7.78748450292e-81"
       ]
      },
      {
       "output_type": "stream",
       "stream": "stdout",
       "text": [
        "\n",
        "('hard', 'pcp', 'KL')\n",
        "3.98699478028e-80"
       ]
      },
      {
       "output_type": "stream",
       "stream": "stdout",
       "text": [
        "\n",
        "('hard', 'pcp', 'RL')\n",
        "0.0"
       ]
      },
      {
       "output_type": "stream",
       "stream": "stdout",
       "text": [
        "\n",
        "('hard', 'pcp', 'ZS')\n",
        "6.22935088412e-92"
       ]
      },
      {
       "output_type": "stream",
       "stream": "stdout",
       "text": [
        "\n",
        "5 0.0002 0.75000025 0.0\n",
        "('easy', 'img', 'KL')\n",
        "0.0"
       ]
      },
      {
       "output_type": "stream",
       "stream": "stdout",
       "text": [
        "\n",
        "('easy', 'img', 'RL')\n",
        "0.0"
       ]
      },
      {
       "output_type": "stream",
       "stream": "stdout",
       "text": [
        "\n",
        "('easy', 'img', 'ZS')\n",
        "0.0"
       ]
      },
      {
       "output_type": "stream",
       "stream": "stdout",
       "text": [
        "\n",
        "('easy', 'pcp', 'KL')\n",
        "0.0"
       ]
      },
      {
       "output_type": "stream",
       "stream": "stdout",
       "text": [
        "\n",
        "('easy', 'pcp', 'RL')\n",
        "0.0"
       ]
      },
      {
       "output_type": "stream",
       "stream": "stdout",
       "text": [
        "\n",
        "('easy', 'pcp', 'ZS')\n",
        "0.0"
       ]
      },
      {
       "output_type": "stream",
       "stream": "stdout",
       "text": [
        "\n",
        "('hard', 'img', 'KL')\n",
        "0.0"
       ]
      },
      {
       "output_type": "stream",
       "stream": "stdout",
       "text": [
        "\n",
        "('hard', 'img', 'RL')\n",
        "0.0"
       ]
      },
      {
       "output_type": "stream",
       "stream": "stdout",
       "text": [
        "\n",
        "('hard', 'img', 'ZS')\n",
        "0.0"
       ]
      },
      {
       "output_type": "stream",
       "stream": "stdout",
       "text": [
        "\n",
        "('hard', 'pcp', 'KL')\n",
        "0.0"
       ]
      },
      {
       "output_type": "stream",
       "stream": "stdout",
       "text": [
        "\n",
        "('hard', 'pcp', 'RL')\n",
        "0.0"
       ]
      },
      {
       "output_type": "stream",
       "stream": "stdout",
       "text": [
        "\n",
        "('hard', 'pcp', 'ZS')\n",
        "0.0"
       ]
      },
      {
       "output_type": "stream",
       "stream": "stdout",
       "text": [
        "\n",
        "5 0.0002 0.75000025 0.24999975\n",
        "('easy', 'img', 'KL')\n",
        "6.7831833222e-61"
       ]
      },
      {
       "output_type": "stream",
       "stream": "stdout",
       "text": [
        "\n",
        "('easy', 'img', 'RL')\n",
        "1.38332202115e-63"
       ]
      },
      {
       "output_type": "stream",
       "stream": "stdout",
       "text": [
        "\n",
        "('easy', 'img', 'ZS')\n",
        "9.89612078981e-63"
       ]
      },
      {
       "output_type": "stream",
       "stream": "stdout",
       "text": [
        "\n",
        "('easy', 'pcp', 'KL')\n",
        "1.08635550511e-62"
       ]
      },
      {
       "output_type": "stream",
       "stream": "stdout",
       "text": [
        "\n",
        "('easy', 'pcp', 'RL')\n",
        "3.52118604858e-65"
       ]
      },
      {
       "output_type": "stream",
       "stream": "stdout",
       "text": [
        "\n",
        "('easy', 'pcp', 'ZS')\n",
        "6.41058929581e-62"
       ]
      },
      {
       "output_type": "stream",
       "stream": "stdout",
       "text": [
        "\n",
        "('hard', 'img', 'KL')\n",
        "8.86326175005e-77"
       ]
      },
      {
       "output_type": "stream",
       "stream": "stdout",
       "text": [
        "\n",
        "('hard', 'img', 'RL')\n",
        "2.13531033482e-66"
       ]
      },
      {
       "output_type": "stream",
       "stream": "stdout",
       "text": [
        "\n",
        "('hard', 'img', 'ZS')\n",
        "3.40174985515e-65"
       ]
      },
      {
       "output_type": "stream",
       "stream": "stdout",
       "text": [
        "\n",
        "('hard', 'pcp', 'KL')\n",
        "1.16242101432e-78"
       ]
      },
      {
       "output_type": "stream",
       "stream": "stdout",
       "text": [
        "\n",
        "('hard', 'pcp', 'RL')\n",
        "0.0"
       ]
      },
      {
       "output_type": "stream",
       "stream": "stdout",
       "text": [
        "\n",
        "('hard', 'pcp', 'ZS')\n",
        "1.01951109456e-107"
       ]
      },
      {
       "output_type": "stream",
       "stream": "stdout",
       "text": [
        "\n",
        "5 0.0002 0.75000025 0.4999995\n",
        "('easy', 'img', 'KL')\n",
        "6.94228442956e-91"
       ]
      },
      {
       "output_type": "stream",
       "stream": "stdout",
       "text": [
        "\n",
        "('easy', 'img', 'RL')\n",
        "3.86020059438e-80"
       ]
      },
      {
       "output_type": "stream",
       "stream": "stdout",
       "text": [
        "\n",
        "('easy', 'img', 'ZS')\n",
        "2.46655392933e-97"
       ]
      },
      {
       "output_type": "stream",
       "stream": "stdout",
       "text": [
        "\n",
        "('easy', 'pcp', 'KL')\n",
        "6.8074721915e-98"
       ]
      },
      {
       "output_type": "stream",
       "stream": "stdout",
       "text": [
        "\n",
        "('easy', 'pcp', 'RL')\n",
        "8.60678002855e-93"
       ]
      },
      {
       "output_type": "stream",
       "stream": "stdout",
       "text": [
        "\n",
        "('easy', 'pcp', 'ZS')\n",
        "1.1178673303e-95"
       ]
      },
      {
       "output_type": "stream",
       "stream": "stdout",
       "text": [
        "\n",
        "('hard', 'img', 'KL')\n",
        "1.01811486329e-80"
       ]
      },
      {
       "output_type": "stream",
       "stream": "stdout",
       "text": [
        "\n",
        "('hard', 'img', 'RL')\n",
        "4.11269505029e-81"
       ]
      },
      {
       "output_type": "stream",
       "stream": "stdout",
       "text": [
        "\n",
        "('hard', 'img', 'ZS')\n",
        "1.58918842627e-96"
       ]
      },
      {
       "output_type": "stream",
       "stream": "stdout",
       "text": [
        "\n",
        "('hard', 'pcp', 'KL')\n",
        "6.83741247585e-82"
       ]
      },
      {
       "output_type": "stream",
       "stream": "stdout",
       "text": [
        "\n",
        "('hard', 'pcp', 'RL')\n",
        "0.0"
       ]
      },
      {
       "output_type": "stream",
       "stream": "stdout",
       "text": [
        "\n",
        "('hard', 'pcp', 'ZS')\n",
        "3.66056370751e-85"
       ]
      },
      {
       "output_type": "stream",
       "stream": "stdout",
       "text": [
        "\n",
        "5 0.0002 0.75000025 0.74999925\n",
        "('easy', 'img', 'KL')\n",
        "1.05759592492e-155"
       ]
      },
      {
       "output_type": "stream",
       "stream": "stdout",
       "text": [
        "\n",
        "('easy', 'img', 'RL')\n",
        "2.39937896902e-131"
       ]
      },
      {
       "output_type": "stream",
       "stream": "stdout",
       "text": [
        "\n",
        "('easy', 'img', 'ZS')\n",
        "3.99892409702e-167"
       ]
      },
      {
       "output_type": "stream",
       "stream": "stdout",
       "text": [
        "\n",
        "('easy', 'pcp', 'KL')\n",
        "3.33245289252e-168"
       ]
      },
      {
       "output_type": "stream",
       "stream": "stdout",
       "text": [
        "\n",
        "('easy', 'pcp', 'RL')\n",
        "1.12936568712e-155"
       ]
      },
      {
       "output_type": "stream",
       "stream": "stdout",
       "text": [
        "\n",
        "('easy', 'pcp', 'ZS')\n",
        "1.72752183564e-164"
       ]
      },
      {
       "output_type": "stream",
       "stream": "stdout",
       "text": [
        "\n",
        "('hard', 'img', 'KL')\n",
        "6.51237613188e-121"
       ]
      },
      {
       "output_type": "stream",
       "stream": "stdout",
       "text": [
        "\n",
        "('hard', 'img', 'RL')\n",
        "3.59903265116e-131"
       ]
      },
      {
       "output_type": "stream",
       "stream": "stdout",
       "text": [
        "\n",
        "('hard', 'img', 'ZS')\n",
        "3.32056089478e-163"
       ]
      },
      {
       "output_type": "stream",
       "stream": "stdout",
       "text": [
        "\n",
        "('hard', 'pcp', 'KL')\n",
        "1.83160096845e-121"
       ]
      },
      {
       "output_type": "stream",
       "stream": "stdout",
       "text": [
        "\n",
        "('hard', 'pcp', 'RL')\n",
        "0.0"
       ]
      },
      {
       "output_type": "stream",
       "stream": "stdout",
       "text": [
        "\n",
        "('hard', 'pcp', 'ZS')\n",
        "2.65280683656e-101"
       ]
      },
      {
       "output_type": "stream",
       "stream": "stdout",
       "text": [
        "\n",
        "5 0.0002 1.0 0.0\n",
        "('easy', 'img', 'KL')\n",
        "0.0"
       ]
      },
      {
       "output_type": "stream",
       "stream": "stdout",
       "text": [
        "\n",
        "('easy', 'img', 'RL')\n",
        "0.0"
       ]
      },
      {
       "output_type": "stream",
       "stream": "stdout",
       "text": [
        "\n",
        "('easy', 'img', 'ZS')\n",
        "0.0"
       ]
      },
      {
       "output_type": "stream",
       "stream": "stdout",
       "text": [
        "\n",
        "('easy', 'pcp', 'KL')\n",
        "0.0"
       ]
      },
      {
       "output_type": "stream",
       "stream": "stdout",
       "text": [
        "\n",
        "('easy', 'pcp', 'RL')\n",
        "0.0"
       ]
      },
      {
       "output_type": "stream",
       "stream": "stdout",
       "text": [
        "\n",
        "('easy', 'pcp', 'ZS')\n",
        "0.0"
       ]
      },
      {
       "output_type": "stream",
       "stream": "stdout",
       "text": [
        "\n",
        "('hard', 'img', 'KL')\n",
        "0.0"
       ]
      },
      {
       "output_type": "stream",
       "stream": "stdout",
       "text": [
        "\n",
        "('hard', 'img', 'RL')\n",
        "0.0"
       ]
      },
      {
       "output_type": "stream",
       "stream": "stdout",
       "text": [
        "\n",
        "('hard', 'img', 'ZS')\n",
        "0.0"
       ]
      },
      {
       "output_type": "stream",
       "stream": "stdout",
       "text": [
        "\n",
        "('hard', 'pcp', 'KL')\n",
        "0.0"
       ]
      },
      {
       "output_type": "stream",
       "stream": "stdout",
       "text": [
        "\n",
        "('hard', 'pcp', 'RL')\n",
        "0.0"
       ]
      },
      {
       "output_type": "stream",
       "stream": "stdout",
       "text": [
        "\n",
        "('hard', 'pcp', 'ZS')\n",
        "0.0"
       ]
      },
      {
       "output_type": "stream",
       "stream": "stdout",
       "text": [
        "\n",
        "5 0.0002 1.0 0.24999975\n",
        "('easy', 'img', 'KL')\n",
        "7.789892973e-67"
       ]
      },
      {
       "output_type": "stream",
       "stream": "stdout",
       "text": [
        "\n",
        "('easy', 'img', 'RL')\n",
        "4.53380497229e-59"
       ]
      },
      {
       "output_type": "stream",
       "stream": "stdout",
       "text": [
        "\n",
        "('easy', 'img', 'ZS')\n",
        "9.19332793434e-73"
       ]
      },
      {
       "output_type": "stream",
       "stream": "stdout",
       "text": [
        "\n",
        "('easy', 'pcp', 'KL')\n",
        "9.62429479041e-73"
       ]
      },
      {
       "output_type": "stream",
       "stream": "stdout",
       "text": [
        "\n",
        "('easy', 'pcp', 'RL')\n",
        "7.61035783524e-71"
       ]
      },
      {
       "output_type": "stream",
       "stream": "stdout",
       "text": [
        "\n",
        "('easy', 'pcp', 'ZS')\n",
        "3.33798419488e-71"
       ]
      },
      {
       "output_type": "stream",
       "stream": "stdout",
       "text": [
        "\n",
        "('hard', 'img', 'KL')\n",
        "7.756961636e-71"
       ]
      },
      {
       "output_type": "stream",
       "stream": "stdout",
       "text": [
        "\n",
        "('hard', 'img', 'RL')\n",
        "8.40183866872e-66"
       ]
      },
      {
       "output_type": "stream",
       "stream": "stdout",
       "text": [
        "\n",
        "('hard', 'img', 'ZS')\n",
        "8.13235589364e-73"
       ]
      },
      {
       "output_type": "stream",
       "stream": "stdout",
       "text": [
        "\n",
        "('hard', 'pcp', 'KL')\n",
        "9.01915064518e-73"
       ]
      },
      {
       "output_type": "stream",
       "stream": "stdout",
       "text": [
        "\n",
        "('hard', 'pcp', 'RL')\n",
        "0.0"
       ]
      },
      {
       "output_type": "stream",
       "stream": "stdout",
       "text": [
        "\n",
        "('hard', 'pcp', 'ZS')\n",
        "3.58246415931e-97"
       ]
      },
      {
       "output_type": "stream",
       "stream": "stdout",
       "text": [
        "\n",
        "5 0.0002 1.0 0.4999995\n",
        "('easy', 'img', 'KL')\n",
        "9.09052164534e-122"
       ]
      },
      {
       "output_type": "stream",
       "stream": "stdout",
       "text": [
        "\n",
        "('easy', 'img', 'RL')\n",
        "1.53788563297e-97"
       ]
      },
      {
       "output_type": "stream",
       "stream": "stdout",
       "text": [
        "\n",
        "('easy', 'img', 'ZS')\n",
        "2.57610883354e-133"
       ]
      },
      {
       "output_type": "stream",
       "stream": "stdout",
       "text": [
        "\n",
        "('easy', 'pcp', 'KL')\n",
        "3.22555878303e-134"
       ]
      },
      {
       "output_type": "stream",
       "stream": "stdout",
       "text": [
        "\n",
        "('easy', 'pcp', 'RL')\n",
        "9.46479616224e-123"
       ]
      },
      {
       "output_type": "stream",
       "stream": "stdout",
       "text": [
        "\n",
        "('easy', 'pcp', 'ZS')\n",
        "6.34165841536e-131"
       ]
      },
      {
       "output_type": "stream",
       "stream": "stdout",
       "text": [
        "\n",
        "('hard', 'img', 'KL')\n",
        "8.0441134464e-94"
       ]
      },
      {
       "output_type": "stream",
       "stream": "stdout",
       "text": [
        "\n",
        "('hard', 'img', 'RL')\n",
        "2.82202854127e-101"
       ]
      },
      {
       "output_type": "stream",
       "stream": "stdout",
       "text": [
        "\n",
        "('hard', 'img', 'ZS')\n",
        "3.86936916124e-129"
       ]
      },
      {
       "output_type": "stream",
       "stream": "stdout",
       "text": [
        "\n",
        "('hard', 'pcp', 'KL')\n",
        "4.18114331969e-95"
       ]
      },
      {
       "output_type": "stream",
       "stream": "stdout",
       "text": [
        "\n",
        "('hard', 'pcp', 'RL')\n",
        "0.0"
       ]
      },
      {
       "output_type": "stream",
       "stream": "stdout",
       "text": [
        "\n",
        "('hard', 'pcp', 'ZS')\n",
        "4.57459779188e-89"
       ]
      },
      {
       "output_type": "stream",
       "stream": "stdout",
       "text": [
        "\n",
        "5 0.0002 1.0 0.74999925\n",
        "('easy', 'img', 'KL')\n",
        "1.48951366183e-231"
       ]
      },
      {
       "output_type": "stream",
       "stream": "stdout",
       "text": [
        "\n",
        "('easy', 'img', 'RL')\n",
        "5.19265448135e-188"
       ]
      },
      {
       "output_type": "stream",
       "stream": "stdout",
       "text": [
        "\n",
        "('easy', 'img', 'ZS')\n",
        "3.16777012742e-250"
       ]
      },
      {
       "output_type": "stream",
       "stream": "stdout",
       "text": [
        "\n",
        "('easy', 'pcp', 'KL')\n",
        "1.0636908407e-251"
       ]
      },
      {
       "output_type": "stream",
       "stream": "stdout",
       "text": [
        "\n",
        "('easy', 'pcp', 'RL')\n",
        "1.64157958514e-229"
       ]
      },
      {
       "output_type": "stream",
       "stream": "stdout",
       "text": [
        "\n",
        "('easy', 'pcp', 'ZS')\n",
        "1.48203522969e-246"
       ]
      },
      {
       "output_type": "stream",
       "stream": "stdout",
       "text": [
        "\n",
        "('hard', 'img', 'KL')\n",
        "2.9732808083e-169"
       ]
      },
      {
       "output_type": "stream",
       "stream": "stdout",
       "text": [
        "\n",
        "('hard', 'img', 'RL')\n",
        "2.50693295813e-190"
       ]
      },
      {
       "output_type": "stream",
       "stream": "stdout",
       "text": [
        "\n",
        "('hard', 'img', 'ZS')\n",
        "3.94608829557e-241"
       ]
      },
      {
       "output_type": "stream",
       "stream": "stdout",
       "text": [
        "\n",
        "('hard', 'pcp', 'KL')\n",
        "1.46615331621e-169"
       ]
      },
      {
       "output_type": "stream",
       "stream": "stdout",
       "text": [
        "\n",
        "('hard', 'pcp', 'RL')\n",
        "0.0"
       ]
      },
      {
       "output_type": "stream",
       "stream": "stdout",
       "text": [
        "\n",
        "('hard', 'pcp', 'ZS')\n",
        "8.94505807784e-133"
       ]
      },
      {
       "output_type": "stream",
       "stream": "stdout",
       "text": [
        "\n",
        "5 0.0002 1.0 0.999999\n",
        "('easy', 'img', 'KL')\n",
        "0.0"
       ]
      },
      {
       "output_type": "stream",
       "stream": "stdout",
       "text": [
        "\n",
        "('easy', 'img', 'RL')\n",
        "0.0"
       ]
      },
      {
       "output_type": "stream",
       "stream": "stdout",
       "text": [
        "\n",
        "('easy', 'img', 'ZS')\n",
        "0.0"
       ]
      },
      {
       "output_type": "stream",
       "stream": "stdout",
       "text": [
        "\n",
        "('easy', 'pcp', 'KL')\n",
        "0.0"
       ]
      },
      {
       "output_type": "stream",
       "stream": "stdout",
       "text": [
        "\n",
        "('easy', 'pcp', 'RL')\n",
        "0.0"
       ]
      },
      {
       "output_type": "stream",
       "stream": "stdout",
       "text": [
        "\n",
        "('easy', 'pcp', 'ZS')\n",
        "0.0"
       ]
      },
      {
       "output_type": "stream",
       "stream": "stdout",
       "text": [
        "\n",
        "('hard', 'img', 'KL')\n",
        "0.0"
       ]
      },
      {
       "output_type": "stream",
       "stream": "stdout",
       "text": [
        "\n",
        "('hard', 'img', 'RL')\n",
        "0.0"
       ]
      },
      {
       "output_type": "stream",
       "stream": "stdout",
       "text": [
        "\n",
        "('hard', 'img', 'ZS')\n",
        "0.0"
       ]
      },
      {
       "output_type": "stream",
       "stream": "stdout",
       "text": [
        "\n",
        "('hard', 'pcp', 'KL')\n",
        "0.0"
       ]
      },
      {
       "output_type": "stream",
       "stream": "stdout",
       "text": [
        "\n",
        "('hard', 'pcp', 'RL')\n",
        "0.0"
       ]
      },
      {
       "output_type": "stream",
       "stream": "stdout",
       "text": [
        "\n",
        "('hard', 'pcp', 'ZS')\n",
        "0.0"
       ]
      },
      {
       "output_type": "stream",
       "stream": "stdout",
       "text": [
        "\n",
        "5 0.00025 1e-06 0.0\n",
        "('easy', 'img', 'KL')\n",
        "0.0"
       ]
      },
      {
       "output_type": "stream",
       "stream": "stdout",
       "text": [
        "\n",
        "('easy', 'img', 'RL')\n",
        "0.0"
       ]
      },
      {
       "output_type": "stream",
       "stream": "stdout",
       "text": [
        "\n",
        "('easy', 'img', 'ZS')\n",
        "0.0"
       ]
      },
      {
       "output_type": "stream",
       "stream": "stdout",
       "text": [
        "\n",
        "('easy', 'pcp', 'KL')\n",
        "0.0"
       ]
      },
      {
       "output_type": "stream",
       "stream": "stdout",
       "text": [
        "\n",
        "('easy', 'pcp', 'RL')\n",
        "0.0"
       ]
      },
      {
       "output_type": "stream",
       "stream": "stdout",
       "text": [
        "\n",
        "('easy', 'pcp', 'ZS')\n",
        "0.0"
       ]
      },
      {
       "output_type": "stream",
       "stream": "stdout",
       "text": [
        "\n",
        "('hard', 'img', 'KL')\n",
        "0.0"
       ]
      },
      {
       "output_type": "stream",
       "stream": "stdout",
       "text": [
        "\n",
        "('hard', 'img', 'RL')\n",
        "0.0"
       ]
      },
      {
       "output_type": "stream",
       "stream": "stdout",
       "text": [
        "\n",
        "('hard', 'img', 'ZS')\n",
        "0.0"
       ]
      },
      {
       "output_type": "stream",
       "stream": "stdout",
       "text": [
        "\n",
        "('hard', 'pcp', 'KL')\n",
        "0.0"
       ]
      },
      {
       "output_type": "stream",
       "stream": "stdout",
       "text": [
        "\n",
        "('hard', 'pcp', 'RL')\n",
        "0.0"
       ]
      },
      {
       "output_type": "stream",
       "stream": "stdout",
       "text": [
        "\n",
        "('hard', 'pcp', 'ZS')\n",
        "0.0"
       ]
      },
      {
       "output_type": "stream",
       "stream": "stdout",
       "text": [
        "\n",
        "5 0.00025 0.25000075 0.0\n",
        "('easy', 'img', 'KL')\n",
        "0.0"
       ]
      },
      {
       "output_type": "stream",
       "stream": "stdout",
       "text": [
        "\n",
        "('easy', 'img', 'RL')\n",
        "0.0"
       ]
      },
      {
       "output_type": "stream",
       "stream": "stdout",
       "text": [
        "\n",
        "('easy', 'img', 'ZS')\n",
        "0.0"
       ]
      },
      {
       "output_type": "stream",
       "stream": "stdout",
       "text": [
        "\n",
        "('easy', 'pcp', 'KL')\n",
        "0.0"
       ]
      },
      {
       "output_type": "stream",
       "stream": "stdout",
       "text": [
        "\n",
        "('easy', 'pcp', 'RL')\n",
        "0.0"
       ]
      },
      {
       "output_type": "stream",
       "stream": "stdout",
       "text": [
        "\n",
        "('easy', 'pcp', 'ZS')\n",
        "0.0"
       ]
      },
      {
       "output_type": "stream",
       "stream": "stdout",
       "text": [
        "\n",
        "('hard', 'img', 'KL')\n",
        "0.0"
       ]
      },
      {
       "output_type": "stream",
       "stream": "stdout",
       "text": [
        "\n",
        "('hard', 'img', 'RL')\n",
        "0.0"
       ]
      },
      {
       "output_type": "stream",
       "stream": "stdout",
       "text": [
        "\n",
        "('hard', 'img', 'ZS')\n",
        "0.0"
       ]
      },
      {
       "output_type": "stream",
       "stream": "stdout",
       "text": [
        "\n",
        "('hard', 'pcp', 'KL')\n",
        "0.0"
       ]
      },
      {
       "output_type": "stream",
       "stream": "stdout",
       "text": [
        "\n",
        "('hard', 'pcp', 'RL')\n",
        "0.0"
       ]
      },
      {
       "output_type": "stream",
       "stream": "stdout",
       "text": [
        "\n",
        "('hard', 'pcp', 'ZS')\n",
        "0.0"
       ]
      },
      {
       "output_type": "stream",
       "stream": "stdout",
       "text": [
        "\n",
        "5 0.00025 0.25000075 0.24999975\n",
        "('easy', 'img', 'KL')\n",
        "4.54569016267e-75"
       ]
      },
      {
       "output_type": "stream",
       "stream": "stdout",
       "text": [
        "\n",
        "('easy', 'img', 'RL')\n",
        "1.31304225604e-94"
       ]
      },
      {
       "output_type": "stream",
       "stream": "stdout",
       "text": [
        "\n",
        "('easy', 'img', 'ZS')\n",
        "2.86632661586e-70"
       ]
      },
      {
       "output_type": "stream",
       "stream": "stdout",
       "text": [
        "\n",
        "('easy', 'pcp', 'KL')\n",
        "2.14974810339e-70"
       ]
      },
      {
       "output_type": "stream",
       "stream": "stdout",
       "text": [
        "\n",
        "('easy', 'pcp', 'RL')\n",
        "1.01490989331e-81"
       ]
      },
      {
       "output_type": "stream",
       "stream": "stdout",
       "text": [
        "\n",
        "('easy', 'pcp', 'ZS')\n",
        "1.69856198188e-70"
       ]
      },
      {
       "output_type": "stream",
       "stream": "stdout",
       "text": [
        "\n",
        "('hard', 'img', 'KL')\n",
        "1.15334286668e-115"
       ]
      },
      {
       "output_type": "stream",
       "stream": "stdout",
       "text": [
        "\n",
        "('hard', 'img', 'RL')\n",
        "2.18838591247e-95"
       ]
      },
      {
       "output_type": "stream",
       "stream": "stdout",
       "text": [
        "\n",
        "('hard', 'img', 'ZS')\n",
        "8.42748989652e-78"
       ]
      },
      {
       "output_type": "stream",
       "stream": "stdout",
       "text": [
        "\n",
        "('hard', 'pcp', 'KL')\n",
        "4.00469925792e-118"
       ]
      },
      {
       "output_type": "stream",
       "stream": "stdout",
       "text": [
        "\n",
        "('hard', 'pcp', 'RL')\n",
        "0.0"
       ]
      },
      {
       "output_type": "stream",
       "stream": "stdout",
       "text": [
        "\n",
        "('hard', 'pcp', 'ZS')\n",
        "6.74962273828e-162"
       ]
      },
      {
       "output_type": "stream",
       "stream": "stdout",
       "text": [
        "\n",
        "5 0.00025 0.5000005 0.0\n",
        "('easy', 'img', 'KL')\n",
        "0.0"
       ]
      },
      {
       "output_type": "stream",
       "stream": "stdout",
       "text": [
        "\n",
        "('easy', 'img', 'RL')\n",
        "0.0"
       ]
      },
      {
       "output_type": "stream",
       "stream": "stdout",
       "text": [
        "\n",
        "('easy', 'img', 'ZS')\n",
        "0.0"
       ]
      },
      {
       "output_type": "stream",
       "stream": "stdout",
       "text": [
        "\n",
        "('easy', 'pcp', 'KL')\n",
        "0.0"
       ]
      },
      {
       "output_type": "stream",
       "stream": "stdout",
       "text": [
        "\n",
        "('easy', 'pcp', 'RL')\n",
        "0.0"
       ]
      },
      {
       "output_type": "stream",
       "stream": "stdout",
       "text": [
        "\n",
        "('easy', 'pcp', 'ZS')\n",
        "0.0"
       ]
      },
      {
       "output_type": "stream",
       "stream": "stdout",
       "text": [
        "\n",
        "('hard', 'img', 'KL')\n",
        "0.0"
       ]
      },
      {
       "output_type": "stream",
       "stream": "stdout",
       "text": [
        "\n",
        "('hard', 'img', 'RL')\n",
        "0.0"
       ]
      },
      {
       "output_type": "stream",
       "stream": "stdout",
       "text": [
        "\n",
        "('hard', 'img', 'ZS')\n",
        "0.0"
       ]
      },
      {
       "output_type": "stream",
       "stream": "stdout",
       "text": [
        "\n",
        "('hard', 'pcp', 'KL')\n",
        "0.0"
       ]
      },
      {
       "output_type": "stream",
       "stream": "stdout",
       "text": [
        "\n",
        "('hard', 'pcp', 'RL')\n",
        "0.0"
       ]
      },
      {
       "output_type": "stream",
       "stream": "stdout",
       "text": [
        "\n",
        "('hard', 'pcp', 'ZS')\n",
        "0.0"
       ]
      },
      {
       "output_type": "stream",
       "stream": "stdout",
       "text": [
        "\n",
        "5 0.00025 0.5000005 0.24999975\n",
        "('easy', 'img', 'KL')\n",
        "1.34901854889e-63"
       ]
      },
      {
       "output_type": "stream",
       "stream": "stdout",
       "text": [
        "\n",
        "('easy', 'img', 'RL')\n",
        "6.08119508366e-74"
       ]
      },
      {
       "output_type": "stream",
       "stream": "stdout",
       "text": [
        "\n",
        "('easy', 'img', 'ZS')\n",
        "3.19307868218e-62"
       ]
      },
      {
       "output_type": "stream",
       "stream": "stdout",
       "text": [
        "\n",
        "('easy', 'pcp', 'KL')\n",
        "2.4495747704e-62"
       ]
      },
      {
       "output_type": "stream",
       "stream": "stdout",
       "text": [
        "\n",
        "('easy', 'pcp', 'RL')\n",
        "3.29383672439e-68"
       ]
      },
      {
       "output_type": "stream",
       "stream": "stdout",
       "text": [
        "\n",
        "('easy', 'pcp', 'ZS')\n",
        "4.18474321741e-62"
       ]
      },
      {
       "output_type": "stream",
       "stream": "stdout",
       "text": [
        "\n",
        "('hard', 'img', 'KL')\n",
        "2.74912040481e-89"
       ]
      },
      {
       "output_type": "stream",
       "stream": "stdout",
       "text": [
        "\n",
        "('hard', 'img', 'RL')\n",
        "1.37216504759e-75"
       ]
      },
      {
       "output_type": "stream",
       "stream": "stdout",
       "text": [
        "\n",
        "('hard', 'img', 'ZS')\n",
        "6.17024981538e-67"
       ]
      },
      {
       "output_type": "stream",
       "stream": "stdout",
       "text": [
        "\n",
        "('hard', 'pcp', 'KL')\n",
        "9.68243916684e-91"
       ]
      },
      {
       "output_type": "stream",
       "stream": "stdout",
       "text": [
        "\n",
        "('hard', 'pcp', 'RL')\n",
        "0.0"
       ]
      },
      {
       "output_type": "stream",
       "stream": "stdout",
       "text": [
        "\n",
        "('hard', 'pcp', 'ZS')\n",
        "1.83380782241e-124"
       ]
      },
      {
       "output_type": "stream",
       "stream": "stdout",
       "text": [
        "\n",
        "5 0.00025 0.5000005 0.4999995\n",
        "('easy', 'img', 'KL')\n",
        "1.02070313435e-75"
       ]
      },
      {
       "output_type": "stream",
       "stream": "stdout",
       "text": [
        "\n",
        "('easy', 'img', 'RL')\n",
        "2.61295484161e-73"
       ]
      },
      {
       "output_type": "stream",
       "stream": "stdout",
       "text": [
        "\n",
        "('easy', 'img', 'ZS')\n",
        "4.98393913545e-79"
       ]
      },
      {
       "output_type": "stream",
       "stream": "stdout",
       "text": [
        "\n",
        "('easy', 'pcp', 'KL')\n",
        "1.24598739545e-79"
       ]
      },
      {
       "output_type": "stream",
       "stream": "stdout",
       "text": [
        "\n",
        "('easy', 'pcp', 'RL')\n",
        "4.98392214064e-79"
       ]
      },
      {
       "output_type": "stream",
       "stream": "stdout",
       "text": [
        "\n",
        "('easy', 'pcp', 'ZS')\n",
        "7.97427186789e-78"
       ]
      },
      {
       "output_type": "stream",
       "stream": "stdout",
       "text": [
        "\n",
        "('hard', 'img', 'KL')\n",
        "1.27583625342e-78"
       ]
      },
      {
       "output_type": "stream",
       "stream": "stdout",
       "text": [
        "\n",
        "('hard', 'img', 'RL')\n",
        "1.30646511965e-73"
       ]
      },
      {
       "output_type": "stream",
       "stream": "stdout",
       "text": [
        "\n",
        "('hard', 'img', 'ZS')\n",
        "7.78739568481e-81"
       ]
      },
      {
       "output_type": "stream",
       "stream": "stdout",
       "text": [
        "\n",
        "('hard', 'pcp', 'KL')\n",
        "3.98700759179e-80"
       ]
      },
      {
       "output_type": "stream",
       "stream": "stdout",
       "text": [
        "\n",
        "('hard', 'pcp', 'RL')\n",
        "0.0"
       ]
      },
      {
       "output_type": "stream",
       "stream": "stdout",
       "text": [
        "\n",
        "('hard', 'pcp', 'ZS')\n",
        "6.22942863655e-92"
       ]
      },
      {
       "output_type": "stream",
       "stream": "stdout",
       "text": [
        "\n",
        "5 0.00025 0.75000025 0.0\n",
        "('easy', 'img', 'KL')\n",
        "0.0"
       ]
      },
      {
       "output_type": "stream",
       "stream": "stdout",
       "text": [
        "\n",
        "('easy', 'img', 'RL')\n",
        "0.0"
       ]
      },
      {
       "output_type": "stream",
       "stream": "stdout",
       "text": [
        "\n",
        "('easy', 'img', 'ZS')\n",
        "0.0"
       ]
      },
      {
       "output_type": "stream",
       "stream": "stdout",
       "text": [
        "\n",
        "('easy', 'pcp', 'KL')\n",
        "0.0"
       ]
      },
      {
       "output_type": "stream",
       "stream": "stdout",
       "text": [
        "\n",
        "('easy', 'pcp', 'RL')\n",
        "0.0"
       ]
      },
      {
       "output_type": "stream",
       "stream": "stdout",
       "text": [
        "\n",
        "('easy', 'pcp', 'ZS')\n",
        "0.0"
       ]
      },
      {
       "output_type": "stream",
       "stream": "stdout",
       "text": [
        "\n",
        "('hard', 'img', 'KL')\n",
        "0.0"
       ]
      },
      {
       "output_type": "stream",
       "stream": "stdout",
       "text": [
        "\n",
        "('hard', 'img', 'RL')\n",
        "0.0"
       ]
      },
      {
       "output_type": "stream",
       "stream": "stdout",
       "text": [
        "\n",
        "('hard', 'img', 'ZS')\n",
        "0.0"
       ]
      },
      {
       "output_type": "stream",
       "stream": "stdout",
       "text": [
        "\n",
        "('hard', 'pcp', 'KL')\n",
        "0.0"
       ]
      },
      {
       "output_type": "stream",
       "stream": "stdout",
       "text": [
        "\n",
        "('hard', 'pcp', 'RL')\n",
        "0.0"
       ]
      },
      {
       "output_type": "stream",
       "stream": "stdout",
       "text": [
        "\n",
        "('hard', 'pcp', 'ZS')\n",
        "0.0"
       ]
      },
      {
       "output_type": "stream",
       "stream": "stdout",
       "text": [
        "\n",
        "5 0.00025 0.75000025 0.24999975\n",
        "('easy', 'img', 'KL')\n",
        "1.53209337952e-62"
       ]
      },
      {
       "output_type": "stream",
       "stream": "stdout",
       "text": [
        "\n",
        "('easy', 'img', 'RL')\n",
        "1.85687540873e-64"
       ]
      },
      {
       "output_type": "stream",
       "stream": "stdout",
       "text": [
        "\n",
        "('easy', 'img', 'ZS')\n",
        "1.50688994761e-64"
       ]
      },
      {
       "output_type": "stream",
       "stream": "stdout",
       "text": [
        "\n",
        "('easy', 'pcp', 'KL')\n",
        "1.68377108475e-64"
       ]
      },
      {
       "output_type": "stream",
       "stream": "stdout",
       "text": [
        "\n",
        "('easy', 'pcp', 'RL')\n",
        "1.76285391194e-65"
       ]
      },
      {
       "output_type": "stream",
       "stream": "stdout",
       "text": [
        "\n",
        "('easy', 'pcp', 'ZS')\n",
        "6.74284772114e-64"
       ]
      },
      {
       "output_type": "stream",
       "stream": "stdout",
       "text": [
        "\n",
        "('hard', 'img', 'KL')\n",
        "8.14568197389e-76"
       ]
      },
      {
       "output_type": "stream",
       "stream": "stdout",
       "text": [
        "\n",
        "('hard', 'img', 'RL')\n",
        "2.26194236874e-67"
       ]
      },
      {
       "output_type": "stream",
       "stream": "stdout",
       "text": [
        "\n",
        "('hard', 'img', 'ZS')\n",
        "6.82978938063e-67"
       ]
      },
      {
       "output_type": "stream",
       "stream": "stdout",
       "text": [
        "\n",
        "('hard', 'pcp', 'KL')\n",
        "1.98949217269e-76"
       ]
      },
      {
       "output_type": "stream",
       "stream": "stdout",
       "text": [
        "\n",
        "('hard', 'pcp', 'RL')\n",
        "0.0"
       ]
      },
      {
       "output_type": "stream",
       "stream": "stdout",
       "text": [
        "\n",
        "('hard', 'pcp', 'ZS')\n",
        "6.67007704314e-103"
       ]
      },
      {
       "output_type": "stream",
       "stream": "stdout",
       "text": [
        "\n",
        "5 0.00025 0.75000025 0.4999995\n",
        "('easy', 'img', 'KL')\n",
        "6.66723159177e-93"
       ]
      },
      {
       "output_type": "stream",
       "stream": "stdout",
       "text": [
        "\n",
        "('easy', 'img', 'RL')\n",
        "8.42523699168e-82"
       ]
      },
      {
       "output_type": "stream",
       "stream": "stdout",
       "text": [
        "\n",
        "('easy', 'img', 'ZS')\n",
        "1.92123036441e-99"
       ]
      },
      {
       "output_type": "stream",
       "stream": "stdout",
       "text": [
        "\n",
        "('easy', 'pcp', 'KL')\n",
        "4.98883404097e-100"
       ]
      },
      {
       "output_type": "stream",
       "stream": "stdout",
       "text": [
        "\n",
        "('easy', 'pcp', 'RL')\n",
        "2.53563641833e-94"
       ]
      },
      {
       "output_type": "stream",
       "stream": "stdout",
       "text": [
        "\n",
        "('easy', 'pcp', 'ZS')\n",
        "7.13287490595e-98"
       ]
      },
      {
       "output_type": "stream",
       "stream": "stdout",
       "text": [
        "\n",
        "('hard', 'img', 'KL')\n",
        "6.13454504886e-82"
       ]
      },
      {
       "output_type": "stream",
       "stream": "stdout",
       "text": [
        "\n",
        "('hard', 'img', 'RL')\n",
        "4.18834582422e-83"
       ]
      },
      {
       "output_type": "stream",
       "stream": "stdout",
       "text": [
        "\n",
        "('hard', 'img', 'ZS')\n",
        "7.60390919897e-99"
       ]
      },
      {
       "output_type": "stream",
       "stream": "stdout",
       "text": [
        "\n",
        "('hard', 'pcp', 'KL')\n",
        "1.4911618491e-82"
       ]
      },
      {
       "output_type": "stream",
       "stream": "stdout",
       "text": [
        "\n",
        "('hard', 'pcp', 'RL')\n",
        "0.0"
       ]
      },
      {
       "output_type": "stream",
       "stream": "stdout",
       "text": [
        "\n",
        "('hard', 'pcp', 'ZS')\n",
        "1.05681018344e-84"
       ]
      },
      {
       "output_type": "stream",
       "stream": "stdout",
       "text": [
        "\n",
        "5 0.00025 0.75000025 0.74999925\n",
        "('easy', 'img', 'KL')\n",
        "1.05755475819e-155"
       ]
      },
      {
       "output_type": "stream",
       "stream": "stdout",
       "text": [
        "\n",
        "('easy', 'img', 'RL')\n",
        "2.39929636749e-131"
       ]
      },
      {
       "output_type": "stream",
       "stream": "stdout",
       "text": [
        "\n",
        "('easy', 'img', 'ZS')\n",
        "3.99876366246e-167"
       ]
      },
      {
       "output_type": "stream",
       "stream": "stdout",
       "text": [
        "\n",
        "('easy', 'pcp', 'KL')\n",
        "3.3323168078e-168"
       ]
      },
      {
       "output_type": "stream",
       "stream": "stdout",
       "text": [
        "\n",
        "('easy', 'pcp', 'RL')\n",
        "1.12932769393e-155"
       ]
      },
      {
       "output_type": "stream",
       "stream": "stdout",
       "text": [
        "\n",
        "('easy', 'pcp', 'ZS')\n",
        "1.72745011094e-164"
       ]
      },
      {
       "output_type": "stream",
       "stream": "stdout",
       "text": [
        "\n",
        "('hard', 'img', 'KL')\n",
        "6.51216744627e-121"
       ]
      },
      {
       "output_type": "stream",
       "stream": "stdout",
       "text": [
        "\n",
        "('hard', 'img', 'RL')\n",
        "3.59888354046e-131"
       ]
      },
      {
       "output_type": "stream",
       "stream": "stdout",
       "text": [
        "\n",
        "('hard', 'img', 'ZS')\n",
        "3.32041108101e-163"
       ]
      },
      {
       "output_type": "stream",
       "stream": "stdout",
       "text": [
        "\n",
        "('hard', 'pcp', 'KL')\n",
        "1.83155403143e-121"
       ]
      },
      {
       "output_type": "stream",
       "stream": "stdout",
       "text": [
        "\n",
        "('hard', 'pcp', 'RL')\n",
        "0.0"
       ]
      },
      {
       "output_type": "stream",
       "stream": "stdout",
       "text": [
        "\n",
        "('hard', 'pcp', 'ZS')\n",
        "2.65277163687e-101"
       ]
      },
      {
       "output_type": "stream",
       "stream": "stdout",
       "text": [
        "\n",
        "5 0.00025 1.0 0.0\n",
        "('easy', 'img', 'KL')\n",
        "0.0"
       ]
      },
      {
       "output_type": "stream",
       "stream": "stdout",
       "text": [
        "\n",
        "('easy', 'img', 'RL')\n",
        "0.0"
       ]
      },
      {
       "output_type": "stream",
       "stream": "stdout",
       "text": [
        "\n",
        "('easy', 'img', 'ZS')\n",
        "0.0"
       ]
      },
      {
       "output_type": "stream",
       "stream": "stdout",
       "text": [
        "\n",
        "('easy', 'pcp', 'KL')\n",
        "0.0"
       ]
      },
      {
       "output_type": "stream",
       "stream": "stdout",
       "text": [
        "\n",
        "('easy', 'pcp', 'RL')\n",
        "0.0"
       ]
      },
      {
       "output_type": "stream",
       "stream": "stdout",
       "text": [
        "\n",
        "('easy', 'pcp', 'ZS')\n",
        "0.0"
       ]
      },
      {
       "output_type": "stream",
       "stream": "stdout",
       "text": [
        "\n",
        "('hard', 'img', 'KL')\n",
        "0.0"
       ]
      },
      {
       "output_type": "stream",
       "stream": "stdout",
       "text": [
        "\n",
        "('hard', 'img', 'RL')\n",
        "0.0"
       ]
      },
      {
       "output_type": "stream",
       "stream": "stdout",
       "text": [
        "\n",
        "('hard', 'img', 'ZS')\n",
        "0.0"
       ]
      },
      {
       "output_type": "stream",
       "stream": "stdout",
       "text": [
        "\n",
        "('hard', 'pcp', 'KL')\n",
        "0.0"
       ]
      },
      {
       "output_type": "stream",
       "stream": "stdout",
       "text": [
        "\n",
        "('hard', 'pcp', 'RL')\n",
        "0.0"
       ]
      },
      {
       "output_type": "stream",
       "stream": "stdout",
       "text": [
        "\n",
        "('hard', 'pcp', 'ZS')\n",
        "0.0"
       ]
      },
      {
       "output_type": "stream",
       "stream": "stdout",
       "text": [
        "\n",
        "5 0.00025 1.0 0.24999975\n",
        "('easy', 'img', 'KL')\n",
        "3.41952708276e-72"
       ]
      },
      {
       "output_type": "stream",
       "stream": "stdout",
       "text": [
        "\n",
        "('easy', 'img', 'RL')\n",
        "3.41714744272e-64"
       ]
      },
      {
       "output_type": "stream",
       "stream": "stdout",
       "text": [
        "\n",
        "('easy', 'img', 'ZS')\n",
        "1.45129562379e-78"
       ]
      },
      {
       "output_type": "stream",
       "stream": "stdout",
       "text": [
        "\n",
        "('easy', 'pcp', 'KL')\n",
        "1.23033133384e-77"
       ]
      },
      {
       "output_type": "stream",
       "stream": "stdout",
       "text": [
        "\n",
        "('easy', 'pcp', 'RL')\n",
        "5.16737593263e-74"
       ]
      },
      {
       "output_type": "stream",
       "stream": "stdout",
       "text": [
        "\n",
        "('easy', 'pcp', 'ZS')\n",
        "1.81564954989e-76"
       ]
      },
      {
       "output_type": "stream",
       "stream": "stdout",
       "text": [
        "\n",
        "('hard', 'img', 'KL')\n",
        "1.37334452752e-72"
       ]
      },
      {
       "output_type": "stream",
       "stream": "stdout",
       "text": [
        "\n",
        "('hard', 'img', 'RL')\n",
        "1.09696797479e-69"
       ]
      },
      {
       "output_type": "stream",
       "stream": "stdout",
       "text": [
        "\n",
        "('hard', 'img', 'ZS')\n",
        "2.0701100479e-78"
       ]
      },
      {
       "output_type": "stream",
       "stream": "stdout",
       "text": [
        "\n",
        "('hard', 'pcp', 'KL')\n",
        "2.08565930081e-72"
       ]
      },
      {
       "output_type": "stream",
       "stream": "stdout",
       "text": [
        "\n",
        "('hard', 'pcp', 'RL')\n",
        "0.0"
       ]
      },
      {
       "output_type": "stream",
       "stream": "stdout",
       "text": [
        "\n",
        "('hard', 'pcp', 'ZS')\n",
        "1.89577410224e-92"
       ]
      },
      {
       "output_type": "stream",
       "stream": "stdout",
       "text": [
        "\n",
        "5 0.00025 1.0 0.4999995\n",
        "('easy', 'img', 'KL')\n",
        "3.01393120836e-128"
       ]
      },
      {
       "output_type": "stream",
       "stream": "stdout",
       "text": [
        "\n",
        "('easy', 'img', 'RL')\n",
        "9.58441727116e-104"
       ]
      },
      {
       "output_type": "stream",
       "stream": "stdout",
       "text": [
        "\n",
        "('easy', 'img', 'ZS')\n",
        "5.76021371299e-140"
       ]
      },
      {
       "output_type": "stream",
       "stream": "stdout",
       "text": [
        "\n",
        "('easy', 'pcp', 'KL')\n",
        "1.99853442447e-140"
       ]
      },
      {
       "output_type": "stream",
       "stream": "stdout",
       "text": [
        "\n",
        "('easy', 'pcp', 'RL')\n",
        "4.56296941339e-128"
       ]
      },
      {
       "output_type": "stream",
       "stream": "stdout",
       "text": [
        "\n",
        "('easy', 'pcp', 'ZS')\n",
        "2.71231132286e-137"
       ]
      },
      {
       "output_type": "stream",
       "stream": "stdout",
       "text": [
        "\n",
        "('hard', 'img', 'KL')\n",
        "3.74337304582e-99"
       ]
      },
      {
       "output_type": "stream",
       "stream": "stdout",
       "text": [
        "\n",
        "('hard', 'img', 'RL')\n",
        "1.90128853321e-107"
       ]
      },
      {
       "output_type": "stream",
       "stream": "stdout",
       "text": [
        "\n",
        "('hard', 'img', 'ZS')\n",
        "2.42364004913e-136"
       ]
      },
      {
       "output_type": "stream",
       "stream": "stdout",
       "text": [
        "\n",
        "('hard', 'pcp', 'KL')\n",
        "4.21285844726e-99"
       ]
      },
      {
       "output_type": "stream",
       "stream": "stdout",
       "text": [
        "\n",
        "('hard', 'pcp', 'RL')\n",
        "0.0"
       ]
      },
      {
       "output_type": "stream",
       "stream": "stdout",
       "text": [
        "\n",
        "('hard', 'pcp', 'ZS')\n",
        "2.32356093634e-90"
       ]
      },
      {
       "output_type": "stream",
       "stream": "stdout",
       "text": [
        "\n",
        "5 0.00025 1.0 0.74999925\n",
        "('easy', 'img', 'KL')\n",
        "1.562771807e-238"
       ]
      },
      {
       "output_type": "stream",
       "stream": "stdout",
       "text": [
        "\n",
        "('easy', 'img', 'RL')\n",
        "9.00203162097e-195"
       ]
      },
      {
       "output_type": "stream",
       "stream": "stdout",
       "text": [
        "\n",
        "('easy', 'img', 'ZS')\n",
        "2.83772295994e-257"
       ]
      },
      {
       "output_type": "stream",
       "stream": "stdout",
       "text": [
        "\n",
        "('easy', 'pcp', 'KL')\n",
        "1.65032142935e-258"
       ]
      },
      {
       "output_type": "stream",
       "stream": "stdout",
       "text": [
        "\n",
        "('easy', 'pcp', 'RL')\n",
        "8.38234784093e-236"
       ]
      },
      {
       "output_type": "stream",
       "stream": "stdout",
       "text": [
        "\n",
        "('easy', 'pcp', 'ZS')\n",
        "1.90789801363e-253"
       ]
      },
      {
       "output_type": "stream",
       "stream": "stdout",
       "text": [
        "\n",
        "('hard', 'img', 'KL')\n",
        "5.49676847087e-176"
       ]
      },
      {
       "output_type": "stream",
       "stream": "stdout",
       "text": [
        "\n",
        "('hard', 'img', 'RL')\n",
        "1.91062264771e-197"
       ]
      },
      {
       "output_type": "stream",
       "stream": "stdout",
       "text": [
        "\n",
        "('hard', 'img', 'ZS')\n",
        "6.80131758718e-249"
       ]
      },
      {
       "output_type": "stream",
       "stream": "stdout",
       "text": [
        "\n",
        "('hard', 'pcp', 'KL')\n",
        "2.10821394123e-175"
       ]
      },
      {
       "output_type": "stream",
       "stream": "stdout",
       "text": [
        "\n",
        "('hard', 'pcp', 'RL')\n",
        "0.0"
       ]
      },
      {
       "output_type": "stream",
       "stream": "stdout",
       "text": [
        "\n",
        "('hard', 'pcp', 'ZS')\n",
        "8.21464784599e-137"
       ]
      },
      {
       "output_type": "stream",
       "stream": "stdout",
       "text": [
        "\n",
        "5 0.00025 1.0 0.999999\n",
        "('easy', 'img', 'KL')\n",
        "0.0"
       ]
      },
      {
       "output_type": "stream",
       "stream": "stdout",
       "text": [
        "\n",
        "('easy', 'img', 'RL')\n",
        "0.0"
       ]
      },
      {
       "output_type": "stream",
       "stream": "stdout",
       "text": [
        "\n",
        "('easy', 'img', 'ZS')\n",
        "0.0"
       ]
      },
      {
       "output_type": "stream",
       "stream": "stdout",
       "text": [
        "\n",
        "('easy', 'pcp', 'KL')\n",
        "0.0"
       ]
      },
      {
       "output_type": "stream",
       "stream": "stdout",
       "text": [
        "\n",
        "('easy', 'pcp', 'RL')\n",
        "0.0"
       ]
      },
      {
       "output_type": "stream",
       "stream": "stdout",
       "text": [
        "\n",
        "('easy', 'pcp', 'ZS')\n",
        "0.0"
       ]
      },
      {
       "output_type": "stream",
       "stream": "stdout",
       "text": [
        "\n",
        "('hard', 'img', 'KL')\n",
        "0.0"
       ]
      },
      {
       "output_type": "stream",
       "stream": "stdout",
       "text": [
        "\n",
        "('hard', 'img', 'RL')\n",
        "0.0"
       ]
      },
      {
       "output_type": "stream",
       "stream": "stdout",
       "text": [
        "\n",
        "('hard', 'img', 'ZS')\n",
        "0.0"
       ]
      },
      {
       "output_type": "stream",
       "stream": "stdout",
       "text": [
        "\n",
        "('hard', 'pcp', 'KL')\n",
        "0.0"
       ]
      },
      {
       "output_type": "stream",
       "stream": "stdout",
       "text": [
        "\n",
        "('hard', 'pcp', 'RL')\n",
        "0.0"
       ]
      },
      {
       "output_type": "stream",
       "stream": "stdout",
       "text": [
        "\n",
        "('hard', 'pcp', 'ZS')\n",
        "0.0"
       ]
      },
      {
       "output_type": "stream",
       "stream": "stdout",
       "text": [
        "\n",
        "5 0.0003 1e-06 0.0\n",
        "('easy', 'img', 'KL')\n",
        "0.0"
       ]
      },
      {
       "output_type": "stream",
       "stream": "stdout",
       "text": [
        "\n",
        "('easy', 'img', 'RL')\n",
        "0.0"
       ]
      },
      {
       "output_type": "stream",
       "stream": "stdout",
       "text": [
        "\n",
        "('easy', 'img', 'ZS')\n",
        "0.0"
       ]
      },
      {
       "output_type": "stream",
       "stream": "stdout",
       "text": [
        "\n",
        "('easy', 'pcp', 'KL')\n",
        "0.0"
       ]
      },
      {
       "output_type": "stream",
       "stream": "stdout",
       "text": [
        "\n",
        "('easy', 'pcp', 'RL')\n",
        "0.0"
       ]
      },
      {
       "output_type": "stream",
       "stream": "stdout",
       "text": [
        "\n",
        "('easy', 'pcp', 'ZS')\n",
        "0.0"
       ]
      },
      {
       "output_type": "stream",
       "stream": "stdout",
       "text": [
        "\n",
        "('hard', 'img', 'KL')\n",
        "0.0"
       ]
      },
      {
       "output_type": "stream",
       "stream": "stdout",
       "text": [
        "\n",
        "('hard', 'img', 'RL')\n",
        "0.0"
       ]
      },
      {
       "output_type": "stream",
       "stream": "stdout",
       "text": [
        "\n",
        "('hard', 'img', 'ZS')\n",
        "0.0"
       ]
      },
      {
       "output_type": "stream",
       "stream": "stdout",
       "text": [
        "\n",
        "('hard', 'pcp', 'KL')\n",
        "0.0"
       ]
      },
      {
       "output_type": "stream",
       "stream": "stdout",
       "text": [
        "\n",
        "('hard', 'pcp', 'RL')\n",
        "0.0"
       ]
      },
      {
       "output_type": "stream",
       "stream": "stdout",
       "text": [
        "\n",
        "('hard', 'pcp', 'ZS')\n",
        "0.0"
       ]
      },
      {
       "output_type": "stream",
       "stream": "stdout",
       "text": [
        "\n",
        "5 0.0003 0.25000075 0.0\n",
        "('easy', 'img', 'KL')\n",
        "0.0"
       ]
      },
      {
       "output_type": "stream",
       "stream": "stdout",
       "text": [
        "\n",
        "('easy', 'img', 'RL')\n",
        "0.0"
       ]
      },
      {
       "output_type": "stream",
       "stream": "stdout",
       "text": [
        "\n",
        "('easy', 'img', 'ZS')\n",
        "0.0"
       ]
      },
      {
       "output_type": "stream",
       "stream": "stdout",
       "text": [
        "\n",
        "('easy', 'pcp', 'KL')\n",
        "0.0"
       ]
      },
      {
       "output_type": "stream",
       "stream": "stdout",
       "text": [
        "\n",
        "('easy', 'pcp', 'RL')\n",
        "0.0"
       ]
      },
      {
       "output_type": "stream",
       "stream": "stdout",
       "text": [
        "\n",
        "('easy', 'pcp', 'ZS')\n",
        "0.0"
       ]
      },
      {
       "output_type": "stream",
       "stream": "stdout",
       "text": [
        "\n",
        "('hard', 'img', 'KL')\n",
        "0.0"
       ]
      },
      {
       "output_type": "stream",
       "stream": "stdout",
       "text": [
        "\n",
        "('hard', 'img', 'RL')\n",
        "0.0"
       ]
      },
      {
       "output_type": "stream",
       "stream": "stdout",
       "text": [
        "\n",
        "('hard', 'img', 'ZS')\n",
        "0.0"
       ]
      },
      {
       "output_type": "stream",
       "stream": "stdout",
       "text": [
        "\n",
        "('hard', 'pcp', 'KL')\n",
        "0.0"
       ]
      },
      {
       "output_type": "stream",
       "stream": "stdout",
       "text": [
        "\n",
        "('hard', 'pcp', 'RL')\n",
        "0.0"
       ]
      },
      {
       "output_type": "stream",
       "stream": "stdout",
       "text": [
        "\n",
        "('hard', 'pcp', 'ZS')\n",
        "0.0"
       ]
      },
      {
       "output_type": "stream",
       "stream": "stdout",
       "text": [
        "\n",
        "5 0.0003 0.25000075 0.24999975\n",
        "('easy', 'img', 'KL')\n",
        "4.54575286296e-75"
       ]
      },
      {
       "output_type": "stream",
       "stream": "stdout",
       "text": [
        "\n",
        "('easy', 'img', 'RL')\n",
        "1.31307258505e-94"
       ]
      },
      {
       "output_type": "stream",
       "stream": "stdout",
       "text": [
        "\n",
        "('easy', 'img', 'ZS')\n",
        "2.86636810888e-70"
       ]
      },
      {
       "output_type": "stream",
       "stream": "stdout",
       "text": [
        "\n",
        "('easy', 'pcp', 'KL')\n",
        "2.14976787882e-70"
       ]
      },
      {
       "output_type": "stream",
       "stream": "stdout",
       "text": [
        "\n",
        "('easy', 'pcp', 'RL')\n",
        "1.01491992227e-81"
       ]
      },
      {
       "output_type": "stream",
       "stream": "stdout",
       "text": [
        "\n",
        "('easy', 'pcp', 'ZS')\n",
        "1.69857644731e-70"
       ]
      },
      {
       "output_type": "stream",
       "stream": "stdout",
       "text": [
        "\n",
        "('hard', 'img', 'KL')\n",
        "1.15338843283e-115"
       ]
      },
      {
       "output_type": "stream",
       "stream": "stdout",
       "text": [
        "\n",
        "('hard', 'img', 'RL')\n",
        "2.18846655936e-95"
       ]
      },
      {
       "output_type": "stream",
       "stream": "stdout",
       "text": [
        "\n",
        "('hard', 'img', 'ZS')\n",
        "8.42768313697e-78"
       ]
      },
      {
       "output_type": "stream",
       "stream": "stdout",
       "text": [
        "\n",
        "('hard', 'pcp', 'KL')\n",
        "4.00484974348e-118"
       ]
      },
      {
       "output_type": "stream",
       "stream": "stdout",
       "text": [
        "\n",
        "('hard', 'pcp', 'RL')\n",
        "0.0"
       ]
      },
      {
       "output_type": "stream",
       "stream": "stdout",
       "text": [
        "\n",
        "('hard', 'pcp', 'ZS')\n",
        "6.74994751709e-162"
       ]
      },
      {
       "output_type": "stream",
       "stream": "stdout",
       "text": [
        "\n",
        "5 0.0003 0.5000005 0.0\n",
        "('easy', 'img', 'KL')\n",
        "0.0"
       ]
      },
      {
       "output_type": "stream",
       "stream": "stdout",
       "text": [
        "\n",
        "('easy', 'img', 'RL')\n",
        "0.0"
       ]
      },
      {
       "output_type": "stream",
       "stream": "stdout",
       "text": [
        "\n",
        "('easy', 'img', 'ZS')\n",
        "0.0"
       ]
      },
      {
       "output_type": "stream",
       "stream": "stdout",
       "text": [
        "\n",
        "('easy', 'pcp', 'KL')\n",
        "0.0"
       ]
      },
      {
       "output_type": "stream",
       "stream": "stdout",
       "text": [
        "\n",
        "('easy', 'pcp', 'RL')\n",
        "0.0"
       ]
      },
      {
       "output_type": "stream",
       "stream": "stdout",
       "text": [
        "\n",
        "('easy', 'pcp', 'ZS')\n",
        "0.0"
       ]
      },
      {
       "output_type": "stream",
       "stream": "stdout",
       "text": [
        "\n",
        "('hard', 'img', 'KL')\n",
        "0.0"
       ]
      },
      {
       "output_type": "stream",
       "stream": "stdout",
       "text": [
        "\n",
        "('hard', 'img', 'RL')\n",
        "0.0"
       ]
      },
      {
       "output_type": "stream",
       "stream": "stdout",
       "text": [
        "\n",
        "('hard', 'img', 'ZS')\n",
        "0.0"
       ]
      },
      {
       "output_type": "stream",
       "stream": "stdout",
       "text": [
        "\n",
        "('hard', 'pcp', 'KL')\n",
        "0.0"
       ]
      },
      {
       "output_type": "stream",
       "stream": "stdout",
       "text": [
        "\n",
        "('hard', 'pcp', 'RL')\n",
        "0.0"
       ]
      },
      {
       "output_type": "stream",
       "stream": "stdout",
       "text": [
        "\n",
        "('hard', 'pcp', 'ZS')\n",
        "0.0"
       ]
      },
      {
       "output_type": "stream",
       "stream": "stdout",
       "text": [
        "\n",
        "5 0.0003 0.5000005 0.24999975\n",
        "('easy', 'img', 'KL')\n",
        "2.14007658032e-63"
       ]
      },
      {
       "output_type": "stream",
       "stream": "stdout",
       "text": [
        "\n",
        "('easy', 'img', 'RL')\n",
        "7.20113821678e-73"
       ]
      },
      {
       "output_type": "stream",
       "stream": "stdout",
       "text": [
        "\n",
        "('easy', 'img', 'ZS')\n",
        "6.05435167125e-62"
       ]
      },
      {
       "output_type": "stream",
       "stream": "stdout",
       "text": [
        "\n",
        "('easy', 'pcp', 'KL')\n",
        "1.49311322545e-62"
       ]
      },
      {
       "output_type": "stream",
       "stream": "stdout",
       "text": [
        "\n",
        "('easy', 'pcp', 'RL')\n",
        "2.39175337158e-68"
       ]
      },
      {
       "output_type": "stream",
       "stream": "stdout",
       "text": [
        "\n",
        "('easy', 'pcp', 'ZS')\n",
        "2.17204220251e-62"
       ]
      },
      {
       "output_type": "stream",
       "stream": "stdout",
       "text": [
        "\n",
        "('hard', 'img', 'KL')\n",
        "7.65817159844e-87"
       ]
      },
      {
       "output_type": "stream",
       "stream": "stdout",
       "text": [
        "\n",
        "('hard', 'img', 'RL')\n",
        "2.03451887999e-73"
       ]
      },
      {
       "output_type": "stream",
       "stream": "stdout",
       "text": [
        "\n",
        "('hard', 'img', 'ZS')\n",
        "3.90670468207e-66"
       ]
      },
      {
       "output_type": "stream",
       "stream": "stdout",
       "text": [
        "\n",
        "('hard', 'pcp', 'KL')\n",
        "1.7453936304e-88"
       ]
      },
      {
       "output_type": "stream",
       "stream": "stdout",
       "text": [
        "\n",
        "('hard', 'pcp', 'RL')\n",
        "0.0"
       ]
      },
      {
       "output_type": "stream",
       "stream": "stdout",
       "text": [
        "\n",
        "('hard', 'pcp', 'ZS')\n",
        "3.85514622675e-121"
       ]
      },
      {
       "output_type": "stream",
       "stream": "stdout",
       "text": [
        "\n",
        "5 0.0003 0.5000005 0.4999995\n",
        "('easy', 'img', 'KL')\n",
        "1.02069340359e-75"
       ]
      },
      {
       "output_type": "stream",
       "stream": "stdout",
       "text": [
        "\n",
        "('easy', 'img', 'RL')\n",
        "2.61294816584e-73"
       ]
      },
      {
       "output_type": "stream",
       "stream": "stdout",
       "text": [
        "\n",
        "('easy', 'img', 'ZS')\n",
        "4.98389417337e-79"
       ]
      },
      {
       "output_type": "stream",
       "stream": "stdout",
       "text": [
        "\n",
        "('easy', 'pcp', 'KL')\n",
        "1.24597122364e-79"
       ]
      },
      {
       "output_type": "stream",
       "stream": "stdout",
       "text": [
        "\n",
        "('easy', 'pcp', 'RL')\n",
        "4.98386000551e-79"
       ]
      },
      {
       "output_type": "stream",
       "stream": "stdout",
       "text": [
        "\n",
        "('easy', 'pcp', 'ZS')\n",
        "7.97416428618e-78"
       ]
      },
      {
       "output_type": "stream",
       "stream": "stdout",
       "text": [
        "\n",
        "('hard', 'img', 'KL')\n",
        "1.27584242958e-78"
       ]
      },
      {
       "output_type": "stream",
       "stream": "stdout",
       "text": [
        "\n",
        "('hard', 'img', 'RL')\n",
        "1.30646884202e-73"
       ]
      },
      {
       "output_type": "stream",
       "stream": "stdout",
       "text": [
        "\n",
        "('hard', 'img', 'ZS')\n",
        "7.78733656048e-81"
       ]
      },
      {
       "output_type": "stream",
       "stream": "stdout",
       "text": [
        "\n",
        "('hard', 'pcp', 'KL')\n",
        "3.98702111945e-80"
       ]
      },
      {
       "output_type": "stream",
       "stream": "stdout",
       "text": [
        "\n",
        "('hard', 'pcp', 'RL')\n",
        "0.0"
       ]
      },
      {
       "output_type": "stream",
       "stream": "stdout",
       "text": [
        "\n",
        "('hard', 'pcp', 'ZS')\n",
        "6.22949901834e-92"
       ]
      },
      {
       "output_type": "stream",
       "stream": "stdout",
       "text": [
        "\n",
        "5 0.0003 0.75000025 0.0\n",
        "('easy', 'img', 'KL')\n",
        "0.0"
       ]
      },
      {
       "output_type": "stream",
       "stream": "stdout",
       "text": [
        "\n",
        "('easy', 'img', 'RL')\n",
        "0.0"
       ]
      },
      {
       "output_type": "stream",
       "stream": "stdout",
       "text": [
        "\n",
        "('easy', 'img', 'ZS')\n",
        "0.0"
       ]
      },
      {
       "output_type": "stream",
       "stream": "stdout",
       "text": [
        "\n",
        "('easy', 'pcp', 'KL')\n",
        "0.0"
       ]
      },
      {
       "output_type": "stream",
       "stream": "stdout",
       "text": [
        "\n",
        "('easy', 'pcp', 'RL')\n",
        "0.0"
       ]
      },
      {
       "output_type": "stream",
       "stream": "stdout",
       "text": [
        "\n",
        "('easy', 'pcp', 'ZS')\n",
        "0.0"
       ]
      },
      {
       "output_type": "stream",
       "stream": "stdout",
       "text": [
        "\n",
        "('hard', 'img', 'KL')\n",
        "0.0"
       ]
      },
      {
       "output_type": "stream",
       "stream": "stdout",
       "text": [
        "\n",
        "('hard', 'img', 'RL')\n",
        "0.0"
       ]
      },
      {
       "output_type": "stream",
       "stream": "stdout",
       "text": [
        "\n",
        "('hard', 'img', 'ZS')\n",
        "0.0"
       ]
      },
      {
       "output_type": "stream",
       "stream": "stdout",
       "text": [
        "\n",
        "('hard', 'pcp', 'KL')\n",
        "0.0"
       ]
      },
      {
       "output_type": "stream",
       "stream": "stdout",
       "text": [
        "\n",
        "('hard', 'pcp', 'RL')\n",
        "0.0"
       ]
      },
      {
       "output_type": "stream",
       "stream": "stdout",
       "text": [
        "\n",
        "('hard', 'pcp', 'ZS')\n",
        "0.0"
       ]
      },
      {
       "output_type": "stream",
       "stream": "stdout",
       "text": [
        "\n",
        "5 0.0003 0.75000025 0.24999975\n",
        "('easy', 'img', 'KL')\n",
        "3.7224216083e-64"
       ]
      },
      {
       "output_type": "stream",
       "stream": "stdout",
       "text": [
        "\n",
        "('easy', 'img', 'RL')\n",
        "1.85472795628e-64"
       ]
      },
      {
       "output_type": "stream",
       "stream": "stdout",
       "text": [
        "\n",
        "('easy', 'img', 'ZS')\n",
        "5.37836195273e-66"
       ]
      },
      {
       "output_type": "stream",
       "stream": "stdout",
       "text": [
        "\n",
        "('easy', 'pcp', 'KL')\n",
        "7.03529984075e-67"
       ]
      },
      {
       "output_type": "stream",
       "stream": "stdout",
       "text": [
        "\n",
        "('easy', 'pcp', 'RL')\n",
        "1.18222455022e-67"
       ]
      },
      {
       "output_type": "stream",
       "stream": "stdout",
       "text": [
        "\n",
        "('easy', 'pcp', 'ZS')\n",
        "1.95308353253e-66"
       ]
      },
      {
       "output_type": "stream",
       "stream": "stdout",
       "text": [
        "\n",
        "('hard', 'img', 'KL')\n",
        "1.70462680709e-73"
       ]
      },
      {
       "output_type": "stream",
       "stream": "stdout",
       "text": [
        "\n",
        "('hard', 'img', 'RL')\n",
        "1.46771283276e-65"
       ]
      },
      {
       "output_type": "stream",
       "stream": "stdout",
       "text": [
        "\n",
        "('hard', 'img', 'ZS')\n",
        "6.9146145817e-68"
       ]
      },
      {
       "output_type": "stream",
       "stream": "stdout",
       "text": [
        "\n",
        "('hard', 'pcp', 'KL')\n",
        "1.83191738191e-74"
       ]
      },
      {
       "output_type": "stream",
       "stream": "stdout",
       "text": [
        "\n",
        "('hard', 'pcp', 'RL')\n",
        "0.0"
       ]
      },
      {
       "output_type": "stream",
       "stream": "stdout",
       "text": [
        "\n",
        "('hard', 'pcp', 'ZS')\n",
        "9.63993230307e-99"
       ]
      },
      {
       "output_type": "stream",
       "stream": "stdout",
       "text": [
        "\n",
        "5 0.0003 0.75000025 0.4999995\n",
        "('easy', 'img', 'KL')\n",
        "5.96095124557e-95"
       ]
      },
      {
       "output_type": "stream",
       "stream": "stdout",
       "text": [
        "\n",
        "('easy', 'img', 'RL')\n",
        "4.09998096925e-83"
       ]
      },
      {
       "output_type": "stream",
       "stream": "stdout",
       "text": [
        "\n",
        "('easy', 'img', 'ZS')\n",
        "1.97165048764e-101"
       ]
      },
      {
       "output_type": "stream",
       "stream": "stdout",
       "text": [
        "\n",
        "('easy', 'pcp', 'KL')\n",
        "1.98245837141e-102"
       ]
      },
      {
       "output_type": "stream",
       "stream": "stdout",
       "text": [
        "\n",
        "('easy', 'pcp', 'RL')\n",
        "1.16851646476e-96"
       ]
      },
      {
       "output_type": "stream",
       "stream": "stdout",
       "text": [
        "\n",
        "('easy', 'pcp', 'ZS')\n",
        "2.48130662999e-100"
       ]
      },
      {
       "output_type": "stream",
       "stream": "stdout",
       "text": [
        "\n",
        "('hard', 'img', 'KL')\n",
        "1.2717319987e-82"
       ]
      },
      {
       "output_type": "stream",
       "stream": "stdout",
       "text": [
        "\n",
        "('hard', 'img', 'RL')\n",
        "5.09402358726e-84"
       ]
      },
      {
       "output_type": "stream",
       "stream": "stdout",
       "text": [
        "\n",
        "('hard', 'img', 'ZS')\n",
        "5.89021679598e-101"
       ]
      },
      {
       "output_type": "stream",
       "stream": "stdout",
       "text": [
        "\n",
        "('hard', 'pcp', 'KL')\n",
        "2.17929397028e-83"
       ]
      },
      {
       "output_type": "stream",
       "stream": "stdout",
       "text": [
        "\n",
        "('hard', 'pcp', 'RL')\n",
        "0.0"
       ]
      },
      {
       "output_type": "stream",
       "stream": "stdout",
       "text": [
        "\n",
        "('hard', 'pcp', 'ZS')\n",
        "1.32800110596e-84"
       ]
      },
      {
       "output_type": "stream",
       "stream": "stdout",
       "text": [
        "\n",
        "5 0.0003 0.75000025 0.74999925\n",
        "('easy', 'img', 'KL')\n",
        "1.05751328625e-155"
       ]
      },
      {
       "output_type": "stream",
       "stream": "stdout",
       "text": [
        "\n",
        "('easy', 'img', 'RL')\n",
        "2.39922460327e-131"
       ]
      },
      {
       "output_type": "stream",
       "stream": "stdout",
       "text": [
        "\n",
        "('easy', 'img', 'ZS')\n",
        "3.99860958091e-167"
       ]
      },
      {
       "output_type": "stream",
       "stream": "stdout",
       "text": [
        "\n",
        "('easy', 'pcp', 'KL')\n",
        "3.33217082206e-168"
       ]
      },
      {
       "output_type": "stream",
       "stream": "stdout",
       "text": [
        "\n",
        "('easy', 'pcp', 'RL')\n",
        "1.12927899004e-155"
       ]
      },
      {
       "output_type": "stream",
       "stream": "stdout",
       "text": [
        "\n",
        "('easy', 'pcp', 'ZS')\n",
        "1.72737325372e-164"
       ]
      },
      {
       "output_type": "stream",
       "stream": "stdout",
       "text": [
        "\n",
        "('hard', 'img', 'KL')\n",
        "6.51199423712e-121"
       ]
      },
      {
       "output_type": "stream",
       "stream": "stdout",
       "text": [
        "\n",
        "('hard', 'img', 'RL')\n",
        "3.59877826135e-131"
       ]
      },
      {
       "output_type": "stream",
       "stream": "stdout",
       "text": [
        "\n",
        "('hard', 'img', 'ZS')\n",
        "3.320267723e-163"
       ]
      },
      {
       "output_type": "stream",
       "stream": "stdout",
       "text": [
        "\n",
        "('hard', 'pcp', 'KL')\n",
        "1.83150178031e-121"
       ]
      },
      {
       "output_type": "stream",
       "stream": "stdout",
       "text": [
        "\n",
        "('hard', 'pcp', 'RL')\n",
        "0.0"
       ]
      },
      {
       "output_type": "stream",
       "stream": "stdout",
       "text": [
        "\n",
        "('hard', 'pcp', 'ZS')\n",
        "2.65272391833e-101"
       ]
      },
      {
       "output_type": "stream",
       "stream": "stdout",
       "text": [
        "\n",
        "5 0.0003 1.0 0.0\n",
        "('easy', 'img', 'KL')\n",
        "0.0"
       ]
      },
      {
       "output_type": "stream",
       "stream": "stdout",
       "text": [
        "\n",
        "('easy', 'img', 'RL')\n",
        "0.0"
       ]
      },
      {
       "output_type": "stream",
       "stream": "stdout",
       "text": [
        "\n",
        "('easy', 'img', 'ZS')\n",
        "0.0"
       ]
      },
      {
       "output_type": "stream",
       "stream": "stdout",
       "text": [
        "\n",
        "('easy', 'pcp', 'KL')\n",
        "0.0"
       ]
      },
      {
       "output_type": "stream",
       "stream": "stdout",
       "text": [
        "\n",
        "('easy', 'pcp', 'RL')\n",
        "0.0"
       ]
      },
      {
       "output_type": "stream",
       "stream": "stdout",
       "text": [
        "\n",
        "('easy', 'pcp', 'ZS')\n",
        "0.0"
       ]
      },
      {
       "output_type": "stream",
       "stream": "stdout",
       "text": [
        "\n",
        "('hard', 'img', 'KL')\n",
        "0.0"
       ]
      },
      {
       "output_type": "stream",
       "stream": "stdout",
       "text": [
        "\n",
        "('hard', 'img', 'RL')\n",
        "0.0"
       ]
      },
      {
       "output_type": "stream",
       "stream": "stdout",
       "text": [
        "\n",
        "('hard', 'img', 'ZS')\n",
        "0.0"
       ]
      },
      {
       "output_type": "stream",
       "stream": "stdout",
       "text": [
        "\n",
        "('hard', 'pcp', 'KL')\n",
        "0.0"
       ]
      },
      {
       "output_type": "stream",
       "stream": "stdout",
       "text": [
        "\n",
        "('hard', 'pcp', 'RL')\n",
        "0.0"
       ]
      },
      {
       "output_type": "stream",
       "stream": "stdout",
       "text": [
        "\n",
        "('hard', 'pcp', 'ZS')\n",
        "0.0"
       ]
      },
      {
       "output_type": "stream",
       "stream": "stdout",
       "text": [
        "\n",
        "5 0.0003 1.0 0.24999975\n",
        "('easy', 'img', 'KL')\n",
        "2.44178682281e-77"
       ]
      },
      {
       "output_type": "stream",
       "stream": "stdout",
       "text": [
        "\n",
        "('easy', 'img', 'RL')\n",
        "1.03777961381e-66"
       ]
      },
      {
       "output_type": "stream",
       "stream": "stdout",
       "text": [
        "\n",
        "('easy', 'img', 'ZS')\n",
        "8.98512943846e-84"
       ]
      },
      {
       "output_type": "stream",
       "stream": "stdout",
       "text": [
        "\n",
        "('easy', 'pcp', 'KL')\n",
        "1.59361853768e-83"
       ]
      },
      {
       "output_type": "stream",
       "stream": "stdout",
       "text": [
        "\n",
        "('easy', 'pcp', 'RL')\n",
        "1.749229907e-79"
       ]
      },
      {
       "output_type": "stream",
       "stream": "stdout",
       "text": [
        "\n",
        "('easy', 'pcp', 'ZS')\n",
        "1.23185021319e-82"
       ]
      },
      {
       "output_type": "stream",
       "stream": "stdout",
       "text": [
        "\n",
        "('hard', 'img', 'KL')\n",
        "4.18930268303e-73"
       ]
      },
      {
       "output_type": "stream",
       "stream": "stdout",
       "text": [
        "\n",
        "('hard', 'img', 'RL')\n",
        "5.38393452163e-70"
       ]
      },
      {
       "output_type": "stream",
       "stream": "stdout",
       "text": [
        "\n",
        "('hard', 'img', 'ZS')\n",
        "3.72076743971e-83"
       ]
      },
      {
       "output_type": "stream",
       "stream": "stdout",
       "text": [
        "\n",
        "('hard', 'pcp', 'KL')\n",
        "5.69431082552e-73"
       ]
      },
      {
       "output_type": "stream",
       "stream": "stdout",
       "text": [
        "\n",
        "('hard', 'pcp', 'RL')\n",
        "0.0"
       ]
      },
      {
       "output_type": "stream",
       "stream": "stdout",
       "text": [
        "\n",
        "('hard', 'pcp', 'ZS')\n",
        "1.6285178924e-89"
       ]
      },
      {
       "output_type": "stream",
       "stream": "stdout",
       "text": [
        "\n",
        "5 0.0003 1.0 0.4999995\n",
        "('easy', 'img', 'KL')\n",
        "9.17149204804e-135"
       ]
      },
      {
       "output_type": "stream",
       "stream": "stdout",
       "text": [
        "\n",
        "('easy', 'img', 'RL')\n",
        "8.13865514738e-109"
       ]
      },
      {
       "output_type": "stream",
       "stream": "stdout",
       "text": [
        "\n",
        "('easy', 'img', 'ZS')\n",
        "1.73174082562e-146"
       ]
      },
      {
       "output_type": "stream",
       "stream": "stdout",
       "text": [
        "\n",
        "('easy', 'pcp', 'KL')\n",
        "2.56510328364e-147"
       ]
      },
      {
       "output_type": "stream",
       "stream": "stdout",
       "text": [
        "\n",
        "('easy', 'pcp', 'RL')\n",
        "8.57727548617e-135"
       ]
      },
      {
       "output_type": "stream",
       "stream": "stdout",
       "text": [
        "\n",
        "('easy', 'pcp', 'ZS')\n",
        "2.77506787928e-144"
       ]
      },
      {
       "output_type": "stream",
       "stream": "stdout",
       "text": [
        "\n",
        "('hard', 'img', 'KL')\n",
        "9.88941271198e-104"
       ]
      },
      {
       "output_type": "stream",
       "stream": "stdout",
       "text": [
        "\n",
        "('hard', 'img', 'RL')\n",
        "1.73466614656e-112"
       ]
      },
      {
       "output_type": "stream",
       "stream": "stdout",
       "text": [
        "\n",
        "('hard', 'img', 'ZS')\n",
        "9.62891911593e-144"
       ]
      },
      {
       "output_type": "stream",
       "stream": "stdout",
       "text": [
        "\n",
        "('hard', 'pcp', 'KL')\n",
        "9.12185074214e-104"
       ]
      },
      {
       "output_type": "stream",
       "stream": "stdout",
       "text": [
        "\n",
        "('hard', 'pcp', 'RL')\n",
        "0.0"
       ]
      },
      {
       "output_type": "stream",
       "stream": "stdout",
       "text": [
        "\n",
        "('hard', 'pcp', 'ZS')\n",
        "4.9017059366e-93"
       ]
      },
      {
       "output_type": "stream",
       "stream": "stdout",
       "text": [
        "\n",
        "5 0.0003 1.0 0.74999925\n",
        "('easy', 'img', 'KL')\n",
        "1.37999815551e-245"
       ]
      },
      {
       "output_type": "stream",
       "stream": "stdout",
       "text": [
        "\n",
        "('easy', 'img', 'RL')\n",
        "5.45409134401e-201"
       ]
      },
      {
       "output_type": "stream",
       "stream": "stdout",
       "text": [
        "\n",
        "('easy', 'img', 'ZS')\n",
        "2.78299804646e-264"
       ]
      },
      {
       "output_type": "stream",
       "stream": "stdout",
       "text": [
        "\n",
        "('easy', 'pcp', 'KL')\n",
        "8.96048249295e-266"
       ]
      },
      {
       "output_type": "stream",
       "stream": "stdout",
       "text": [
        "\n",
        "('easy', 'pcp', 'RL')\n",
        "5.47444421045e-243"
       ]
      },
      {
       "output_type": "stream",
       "stream": "stdout",
       "text": [
        "\n",
        "('easy', 'pcp', 'ZS')\n",
        "9.33195971717e-261"
       ]
      },
      {
       "output_type": "stream",
       "stream": "stdout",
       "text": [
        "\n",
        "('hard', 'img', 'KL')\n",
        "1.75547788003e-182"
       ]
      },
      {
       "output_type": "stream",
       "stream": "stdout",
       "text": [
        "\n",
        "('hard', 'img', 'RL')\n",
        "1.69990783058e-204"
       ]
      },
      {
       "output_type": "stream",
       "stream": "stdout",
       "text": [
        "\n",
        "('hard', 'img', 'ZS')\n",
        "2.43839162574e-257"
       ]
      },
      {
       "output_type": "stream",
       "stream": "stdout",
       "text": [
        "\n",
        "('hard', 'pcp', 'KL')\n",
        "5.86978498807e-182"
       ]
      },
      {
       "output_type": "stream",
       "stream": "stdout",
       "text": [
        "\n",
        "('hard', 'pcp', 'RL')\n",
        "0.0"
       ]
      },
      {
       "output_type": "stream",
       "stream": "stdout",
       "text": [
        "\n",
        "('hard', 'pcp', 'ZS')\n",
        "4.49264127884e-142"
       ]
      },
      {
       "output_type": "stream",
       "stream": "stdout",
       "text": [
        "\n",
        "5 0.0003 1.0 0.999999\n",
        "('easy', 'img', 'KL')\n",
        "0.0"
       ]
      },
      {
       "output_type": "stream",
       "stream": "stdout",
       "text": [
        "\n",
        "('easy', 'img', 'RL')\n",
        "0.0"
       ]
      },
      {
       "output_type": "stream",
       "stream": "stdout",
       "text": [
        "\n",
        "('easy', 'img', 'ZS')\n",
        "0.0"
       ]
      },
      {
       "output_type": "stream",
       "stream": "stdout",
       "text": [
        "\n",
        "('easy', 'pcp', 'KL')\n",
        "0.0"
       ]
      },
      {
       "output_type": "stream",
       "stream": "stdout",
       "text": [
        "\n",
        "('easy', 'pcp', 'RL')\n",
        "0.0"
       ]
      },
      {
       "output_type": "stream",
       "stream": "stdout",
       "text": [
        "\n",
        "('easy', 'pcp', 'ZS')\n",
        "0.0"
       ]
      },
      {
       "output_type": "stream",
       "stream": "stdout",
       "text": [
        "\n",
        "('hard', 'img', 'KL')\n",
        "0.0"
       ]
      },
      {
       "output_type": "stream",
       "stream": "stdout",
       "text": [
        "\n",
        "('hard', 'img', 'RL')\n",
        "0.0"
       ]
      },
      {
       "output_type": "stream",
       "stream": "stdout",
       "text": [
        "\n",
        "('hard', 'img', 'ZS')\n",
        "0.0"
       ]
      },
      {
       "output_type": "stream",
       "stream": "stdout",
       "text": [
        "\n",
        "('hard', 'pcp', 'KL')\n",
        "0.0"
       ]
      },
      {
       "output_type": "stream",
       "stream": "stdout",
       "text": [
        "\n",
        "('hard', 'pcp', 'RL')\n",
        "0.0"
       ]
      },
      {
       "output_type": "stream",
       "stream": "stdout",
       "text": [
        "\n",
        "('hard', 'pcp', 'ZS')\n",
        "0.0"
       ]
      },
      {
       "output_type": "stream",
       "stream": "stdout",
       "text": [
        "\n",
        "5 0.00035 1e-06 0.0\n",
        "('easy', 'img', 'KL')\n",
        "0.0"
       ]
      },
      {
       "output_type": "stream",
       "stream": "stdout",
       "text": [
        "\n",
        "('easy', 'img', 'RL')\n",
        "0.0"
       ]
      },
      {
       "output_type": "stream",
       "stream": "stdout",
       "text": [
        "\n",
        "('easy', 'img', 'ZS')\n",
        "0.0"
       ]
      },
      {
       "output_type": "stream",
       "stream": "stdout",
       "text": [
        "\n",
        "('easy', 'pcp', 'KL')\n",
        "0.0"
       ]
      },
      {
       "output_type": "stream",
       "stream": "stdout",
       "text": [
        "\n",
        "('easy', 'pcp', 'RL')\n",
        "0.0"
       ]
      },
      {
       "output_type": "stream",
       "stream": "stdout",
       "text": [
        "\n",
        "('easy', 'pcp', 'ZS')\n",
        "0.0"
       ]
      },
      {
       "output_type": "stream",
       "stream": "stdout",
       "text": [
        "\n",
        "('hard', 'img', 'KL')\n",
        "0.0"
       ]
      },
      {
       "output_type": "stream",
       "stream": "stdout",
       "text": [
        "\n",
        "('hard', 'img', 'RL')\n",
        "0.0"
       ]
      },
      {
       "output_type": "stream",
       "stream": "stdout",
       "text": [
        "\n",
        "('hard', 'img', 'ZS')\n",
        "0.0"
       ]
      },
      {
       "output_type": "stream",
       "stream": "stdout",
       "text": [
        "\n",
        "('hard', 'pcp', 'KL')\n",
        "0.0"
       ]
      },
      {
       "output_type": "stream",
       "stream": "stdout",
       "text": [
        "\n",
        "('hard', 'pcp', 'RL')\n",
        "0.0"
       ]
      },
      {
       "output_type": "stream",
       "stream": "stdout",
       "text": [
        "\n",
        "('hard', 'pcp', 'ZS')\n",
        "0.0"
       ]
      },
      {
       "output_type": "stream",
       "stream": "stdout",
       "text": [
        "\n",
        "5 0.00035 0.25000075 0.0\n",
        "('easy', 'img', 'KL')\n",
        "0.0"
       ]
      },
      {
       "output_type": "stream",
       "stream": "stdout",
       "text": [
        "\n",
        "('easy', 'img', 'RL')\n",
        "0.0"
       ]
      },
      {
       "output_type": "stream",
       "stream": "stdout",
       "text": [
        "\n",
        "('easy', 'img', 'ZS')\n",
        "0.0"
       ]
      },
      {
       "output_type": "stream",
       "stream": "stdout",
       "text": [
        "\n",
        "('easy', 'pcp', 'KL')\n",
        "0.0"
       ]
      },
      {
       "output_type": "stream",
       "stream": "stdout",
       "text": [
        "\n",
        "('easy', 'pcp', 'RL')\n",
        "0.0"
       ]
      },
      {
       "output_type": "stream",
       "stream": "stdout",
       "text": [
        "\n",
        "('easy', 'pcp', 'ZS')\n",
        "0.0"
       ]
      },
      {
       "output_type": "stream",
       "stream": "stdout",
       "text": [
        "\n",
        "('hard', 'img', 'KL')\n",
        "0.0"
       ]
      },
      {
       "output_type": "stream",
       "stream": "stdout",
       "text": [
        "\n",
        "('hard', 'img', 'RL')\n",
        "0.0"
       ]
      },
      {
       "output_type": "stream",
       "stream": "stdout",
       "text": [
        "\n",
        "('hard', 'img', 'ZS')\n",
        "0.0"
       ]
      },
      {
       "output_type": "stream",
       "stream": "stdout",
       "text": [
        "\n",
        "('hard', 'pcp', 'KL')\n",
        "0.0"
       ]
      },
      {
       "output_type": "stream",
       "stream": "stdout",
       "text": [
        "\n",
        "('hard', 'pcp', 'RL')\n",
        "0.0"
       ]
      },
      {
       "output_type": "stream",
       "stream": "stdout",
       "text": [
        "\n",
        "('hard', 'pcp', 'ZS')\n",
        "0.0"
       ]
      },
      {
       "output_type": "stream",
       "stream": "stdout",
       "text": [
        "\n",
        "5 0.00035 0.25000075 0.24999975\n",
        "('easy', 'img', 'KL')\n",
        "4.54582951332e-75"
       ]
      },
      {
       "output_type": "stream",
       "stream": "stdout",
       "text": [
        "\n",
        "('easy', 'img', 'RL')\n",
        "1.31310641522e-94"
       ]
      },
      {
       "output_type": "stream",
       "stream": "stdout",
       "text": [
        "\n",
        "('easy', 'img', 'ZS')\n",
        "2.86640066968e-70"
       ]
      },
      {
       "output_type": "stream",
       "stream": "stdout",
       "text": [
        "\n",
        "('easy', 'pcp', 'KL')\n",
        "2.14980111957e-70"
       ]
      },
      {
       "output_type": "stream",
       "stream": "stdout",
       "text": [
        "\n",
        "('easy', 'pcp', 'RL')\n",
        "1.01494431784e-81"
       ]
      },
      {
       "output_type": "stream",
       "stream": "stdout",
       "text": [
        "\n",
        "('easy', 'pcp', 'ZS')\n",
        "1.698604161e-70"
       ]
      },
      {
       "output_type": "stream",
       "stream": "stdout",
       "text": [
        "\n",
        "('hard', 'img', 'KL')\n",
        "1.15343631861e-115"
       ]
      },
      {
       "output_type": "stream",
       "stream": "stdout",
       "text": [
        "\n",
        "('hard', 'img', 'RL')\n",
        "2.18852535378e-95"
       ]
      },
      {
       "output_type": "stream",
       "stream": "stdout",
       "text": [
        "\n",
        "('hard', 'img', 'ZS')\n",
        "8.42782765179e-78"
       ]
      },
      {
       "output_type": "stream",
       "stream": "stdout",
       "text": [
        "\n",
        "('hard', 'pcp', 'KL')\n",
        "4.00501149604e-118"
       ]
      },
      {
       "output_type": "stream",
       "stream": "stdout",
       "text": [
        "\n",
        "('hard', 'pcp', 'RL')\n",
        "0.0"
       ]
      },
      {
       "output_type": "stream",
       "stream": "stdout",
       "text": [
        "\n",
        "('hard', 'pcp', 'ZS')\n",
        "6.75036299611e-162"
       ]
      },
      {
       "output_type": "stream",
       "stream": "stdout",
       "text": [
        "\n",
        "5 0.00035 0.5000005 0.0\n",
        "('easy', 'img', 'KL')\n",
        "0.0"
       ]
      },
      {
       "output_type": "stream",
       "stream": "stdout",
       "text": [
        "\n",
        "('easy', 'img', 'RL')\n",
        "0.0"
       ]
      },
      {
       "output_type": "stream",
       "stream": "stdout",
       "text": [
        "\n",
        "('easy', 'img', 'ZS')\n",
        "0.0"
       ]
      },
      {
       "output_type": "stream",
       "stream": "stdout",
       "text": [
        "\n",
        "('easy', 'pcp', 'KL')\n",
        "0.0"
       ]
      },
      {
       "output_type": "stream",
       "stream": "stdout",
       "text": [
        "\n",
        "('easy', 'pcp', 'RL')\n",
        "0.0"
       ]
      },
      {
       "output_type": "stream",
       "stream": "stdout",
       "text": [
        "\n",
        "('easy', 'pcp', 'ZS')\n",
        "0.0"
       ]
      },
      {
       "output_type": "stream",
       "stream": "stdout",
       "text": [
        "\n",
        "('hard', 'img', 'KL')\n",
        "0.0"
       ]
      },
      {
       "output_type": "stream",
       "stream": "stdout",
       "text": [
        "\n",
        "('hard', 'img', 'RL')\n",
        "0.0"
       ]
      },
      {
       "output_type": "stream",
       "stream": "stdout",
       "text": [
        "\n",
        "('hard', 'img', 'ZS')\n",
        "0.0"
       ]
      },
      {
       "output_type": "stream",
       "stream": "stdout",
       "text": [
        "\n",
        "('hard', 'pcp', 'KL')\n",
        "0.0"
       ]
      },
      {
       "output_type": "stream",
       "stream": "stdout",
       "text": [
        "\n",
        "('hard', 'pcp', 'RL')\n",
        "0.0"
       ]
      },
      {
       "output_type": "stream",
       "stream": "stdout",
       "text": [
        "\n",
        "('hard', 'pcp', 'ZS')\n",
        "0.0"
       ]
      },
      {
       "output_type": "stream",
       "stream": "stdout",
       "text": [
        "\n",
        "5 0.00035 0.5000005 0.24999975\n",
        "('easy', 'img', 'KL')\n",
        "2.46872176762e-63"
       ]
      },
      {
       "output_type": "stream",
       "stream": "stdout",
       "text": [
        "\n",
        "('easy', 'img', 'RL')\n",
        "5.93618707725e-72"
       ]
      },
      {
       "output_type": "stream",
       "stream": "stdout",
       "text": [
        "\n",
        "('easy', 'img', 'ZS')\n",
        "2.16994209126e-62"
       ]
      },
      {
       "output_type": "stream",
       "stream": "stdout",
       "text": [
        "\n",
        "('easy', 'pcp', 'KL')\n",
        "1.27057375938e-62"
       ]
      },
      {
       "output_type": "stream",
       "stream": "stdout",
       "text": [
        "\n",
        "('easy', 'pcp', 'RL')\n",
        "1.34344309724e-67"
       ]
      },
      {
       "output_type": "stream",
       "stream": "stdout",
       "text": [
        "\n",
        "('easy', 'pcp', 'ZS')\n",
        "2.27102297874e-62"
       ]
      },
      {
       "output_type": "stream",
       "stream": "stdout",
       "text": [
        "\n",
        "('hard', 'img', 'KL')\n",
        "3.10235088888e-84"
       ]
      },
      {
       "output_type": "stream",
       "stream": "stdout",
       "text": [
        "\n",
        "('hard', 'img', 'RL')\n",
        "2.41318110969e-72"
       ]
      },
      {
       "output_type": "stream",
       "stream": "stdout",
       "text": [
        "\n",
        "('hard', 'img', 'ZS')\n",
        "5.36953978441e-66"
       ]
      },
      {
       "output_type": "stream",
       "stream": "stdout",
       "text": [
        "\n",
        "('hard', 'pcp', 'KL')\n",
        "5.06139830109e-86"
       ]
      },
      {
       "output_type": "stream",
       "stream": "stdout",
       "text": [
        "\n",
        "('hard', 'pcp', 'RL')\n",
        "0.0"
       ]
      },
      {
       "output_type": "stream",
       "stream": "stdout",
       "text": [
        "\n",
        "('hard', 'pcp', 'ZS')\n",
        "1.79913999139e-116"
       ]
      },
      {
       "output_type": "stream",
       "stream": "stdout",
       "text": [
        "\n",
        "5 0.00035 0.5000005 0.4999995\n",
        "('easy', 'img', 'KL')\n",
        "1.02068031268e-75"
       ]
      },
      {
       "output_type": "stream",
       "stream": "stdout",
       "text": [
        "\n",
        "('easy', 'img', 'RL')\n",
        "2.61293209857e-73"
       ]
      },
      {
       "output_type": "stream",
       "stream": "stdout",
       "text": [
        "\n",
        "('easy', 'img', 'ZS')\n",
        "4.98380968555e-79"
       ]
      },
      {
       "output_type": "stream",
       "stream": "stdout",
       "text": [
        "\n",
        "('easy', 'pcp', 'KL')\n",
        "1.24595393567e-79"
       ]
      },
      {
       "output_type": "stream",
       "stream": "stdout",
       "text": [
        "\n",
        "('easy', 'pcp', 'RL')\n",
        "4.98382290342e-79"
       ]
      },
      {
       "output_type": "stream",
       "stream": "stdout",
       "text": [
        "\n",
        "('easy', 'pcp', 'ZS')\n",
        "7.97405874726e-78"
       ]
      },
      {
       "output_type": "stream",
       "stream": "stdout",
       "text": [
        "\n",
        "('hard', 'img', 'KL')\n",
        "1.27584979101e-78"
       ]
      },
      {
       "output_type": "stream",
       "stream": "stdout",
       "text": [
        "\n",
        "('hard', 'img', 'RL')\n",
        "1.30646202396e-73"
       ]
      },
      {
       "output_type": "stream",
       "stream": "stdout",
       "text": [
        "\n",
        "('hard', 'img', 'ZS')\n",
        "7.78723916481e-81"
       ]
      },
      {
       "output_type": "stream",
       "stream": "stdout",
       "text": [
        "\n",
        "('hard', 'pcp', 'KL')\n",
        "3.98704075017e-80"
       ]
      },
      {
       "output_type": "stream",
       "stream": "stdout",
       "text": [
        "\n",
        "('hard', 'pcp', 'RL')\n",
        "0.0"
       ]
      },
      {
       "output_type": "stream",
       "stream": "stdout",
       "text": [
        "\n",
        "('hard', 'pcp', 'ZS')\n",
        "6.22962856617e-92"
       ]
      },
      {
       "output_type": "stream",
       "stream": "stdout",
       "text": [
        "\n",
        "5 0.00035 0.75000025 0.0\n",
        "('easy', 'img', 'KL')\n",
        "0.0"
       ]
      },
      {
       "output_type": "stream",
       "stream": "stdout",
       "text": [
        "\n",
        "('easy', 'img', 'RL')\n",
        "0.0"
       ]
      },
      {
       "output_type": "stream",
       "stream": "stdout",
       "text": [
        "\n",
        "('easy', 'img', 'ZS')\n",
        "0.0"
       ]
      },
      {
       "output_type": "stream",
       "stream": "stdout",
       "text": [
        "\n",
        "('easy', 'pcp', 'KL')\n",
        "0.0"
       ]
      },
      {
       "output_type": "stream",
       "stream": "stdout",
       "text": [
        "\n",
        "('easy', 'pcp', 'RL')\n",
        "0.0"
       ]
      },
      {
       "output_type": "stream",
       "stream": "stdout",
       "text": [
        "\n",
        "('easy', 'pcp', 'ZS')\n",
        "0.0"
       ]
      },
      {
       "output_type": "stream",
       "stream": "stdout",
       "text": [
        "\n",
        "('hard', 'img', 'KL')\n",
        "0.0"
       ]
      },
      {
       "output_type": "stream",
       "stream": "stdout",
       "text": [
        "\n",
        "('hard', 'img', 'RL')\n",
        "0.0"
       ]
      },
      {
       "output_type": "stream",
       "stream": "stdout",
       "text": [
        "\n",
        "('hard', 'img', 'ZS')\n",
        "0.0"
       ]
      },
      {
       "output_type": "stream",
       "stream": "stdout",
       "text": [
        "\n",
        "('hard', 'pcp', 'KL')\n",
        "0.0"
       ]
      },
      {
       "output_type": "stream",
       "stream": "stdout",
       "text": [
        "\n",
        "('hard', 'pcp', 'RL')\n",
        "0.0"
       ]
      },
      {
       "output_type": "stream",
       "stream": "stdout",
       "text": [
        "\n",
        "('hard', 'pcp', 'ZS')\n",
        "0.0"
       ]
      },
      {
       "output_type": "stream",
       "stream": "stdout",
       "text": [
        "\n",
        "5 0.00035 0.75000025 0.24999975\n",
        "('easy', 'img', 'KL')\n",
        "7.22351136333e-67"
       ]
      },
      {
       "output_type": "stream",
       "stream": "stdout",
       "text": [
        "\n",
        "('easy', 'img', 'RL')\n",
        "1.4472832364e-65"
       ]
      },
      {
       "output_type": "stream",
       "stream": "stdout",
       "text": [
        "\n",
        "('easy', 'img', 'ZS')\n",
        "1.28230071266e-69"
       ]
      },
      {
       "output_type": "stream",
       "stream": "stdout",
       "text": [
        "\n",
        "('easy', 'pcp', 'KL')\n",
        "7.4587761263e-70"
       ]
      },
      {
       "output_type": "stream",
       "stream": "stdout",
       "text": [
        "\n",
        "('easy', 'pcp', 'RL')\n",
        "4.27998520491e-69"
       ]
      },
      {
       "output_type": "stream",
       "stream": "stdout",
       "text": [
        "\n",
        "('easy', 'pcp', 'ZS')\n",
        "3.3131273369e-69"
       ]
      },
      {
       "output_type": "stream",
       "stream": "stdout",
       "text": [
        "\n",
        "('hard', 'img', 'KL')\n",
        "4.81497193735e-71"
       ]
      },
      {
       "output_type": "stream",
       "stream": "stdout",
       "text": [
        "\n",
        "('hard', 'img', 'RL')\n",
        "2.67825088795e-66"
       ]
      },
      {
       "output_type": "stream",
       "stream": "stdout",
       "text": [
        "\n",
        "('hard', 'img', 'ZS')\n",
        "1.71328754542e-70"
       ]
      },
      {
       "output_type": "stream",
       "stream": "stdout",
       "text": [
        "\n",
        "('hard', 'pcp', 'KL')\n",
        "2.37442429529e-72"
       ]
      },
      {
       "output_type": "stream",
       "stream": "stdout",
       "text": [
        "\n",
        "('hard', 'pcp', 'RL')\n",
        "0.0"
       ]
      },
      {
       "output_type": "stream",
       "stream": "stdout",
       "text": [
        "\n",
        "('hard', 'pcp', 'ZS')\n",
        "3.30474818891e-92"
       ]
      },
      {
       "output_type": "stream",
       "stream": "stdout",
       "text": [
        "\n",
        "5 0.00035 0.75000025 0.4999995\n",
        "('easy', 'img', 'KL')\n",
        "9.70205289331e-98"
       ]
      },
      {
       "output_type": "stream",
       "stream": "stdout",
       "text": [
        "\n",
        "('easy', 'img', 'RL')\n",
        "3.5421179007e-85"
       ]
      },
      {
       "output_type": "stream",
       "stream": "stdout",
       "text": [
        "\n",
        "('easy', 'img', 'ZS')\n",
        "1.20264868371e-104"
       ]
      },
      {
       "output_type": "stream",
       "stream": "stdout",
       "text": [
        "\n",
        "('easy', 'pcp', 'KL')\n",
        "2.4787582708e-105"
       ]
      },
      {
       "output_type": "stream",
       "stream": "stdout",
       "text": [
        "\n",
        "('easy', 'pcp', 'RL')\n",
        "7.19820309443e-99"
       ]
      },
      {
       "output_type": "stream",
       "stream": "stdout",
       "text": [
        "\n",
        "('easy', 'pcp', 'ZS')\n",
        "3.69778017955e-103"
       ]
      },
      {
       "output_type": "stream",
       "stream": "stdout",
       "text": [
        "\n",
        "('hard', 'img', 'KL')\n",
        "3.00269060515e-83"
       ]
      },
      {
       "output_type": "stream",
       "stream": "stdout",
       "text": [
        "\n",
        "('hard', 'img', 'RL')\n",
        "5.74000011024e-86"
       ]
      },
      {
       "output_type": "stream",
       "stream": "stdout",
       "text": [
        "\n",
        "('hard', 'img', 'ZS')\n",
        "1.02639319362e-103"
       ]
      },
      {
       "output_type": "stream",
       "stream": "stdout",
       "text": [
        "\n",
        "('hard', 'pcp', 'KL')\n",
        "4.14428210201e-84"
       ]
      },
      {
       "output_type": "stream",
       "stream": "stdout",
       "text": [
        "\n",
        "('hard', 'pcp', 'RL')\n",
        "0.0"
       ]
      },
      {
       "output_type": "stream",
       "stream": "stdout",
       "text": [
        "\n",
        "('hard', 'pcp', 'ZS')\n",
        "2.1322987502e-83"
       ]
      },
      {
       "output_type": "stream",
       "stream": "stdout",
       "text": [
        "\n",
        "5 0.00035 0.75000025 0.74999925\n",
        "('easy', 'img', 'KL')\n",
        "1.05745928744e-155"
       ]
      },
      {
       "output_type": "stream",
       "stream": "stdout",
       "text": [
        "\n",
        "('easy', 'img', 'RL')\n",
        "2.39912345072e-131"
       ]
      },
      {
       "output_type": "stream",
       "stream": "stdout",
       "text": [
        "\n",
        "('easy', 'img', 'ZS')\n",
        "3.99838340335e-167"
       ]
      },
      {
       "output_type": "stream",
       "stream": "stdout",
       "text": [
        "\n",
        "('easy', 'pcp', 'KL')\n",
        "3.33199601153e-168"
       ]
      },
      {
       "output_type": "stream",
       "stream": "stdout",
       "text": [
        "\n",
        "('easy', 'pcp', 'RL')\n",
        "1.12922942871e-155"
       ]
      },
      {
       "output_type": "stream",
       "stream": "stdout",
       "text": [
        "\n",
        "('easy', 'pcp', 'ZS')\n",
        "1.72728410715e-164"
       ]
      },
      {
       "output_type": "stream",
       "stream": "stdout",
       "text": [
        "\n",
        "('hard', 'img', 'KL')\n",
        "6.51182407857e-121"
       ]
      },
      {
       "output_type": "stream",
       "stream": "stdout",
       "text": [
        "\n",
        "('hard', 'img', 'RL')\n",
        "3.5986314999e-131"
       ]
      },
      {
       "output_type": "stream",
       "stream": "stdout",
       "text": [
        "\n",
        "('hard', 'img', 'ZS')\n",
        "3.3201000555e-163"
       ]
      },
      {
       "output_type": "stream",
       "stream": "stdout",
       "text": [
        "\n",
        "('hard', 'pcp', 'KL')\n",
        "1.83145185678e-121"
       ]
      },
      {
       "output_type": "stream",
       "stream": "stdout",
       "text": [
        "\n",
        "('hard', 'pcp', 'RL')\n",
        "0.0"
       ]
      },
      {
       "output_type": "stream",
       "stream": "stdout",
       "text": [
        "\n",
        "('hard', 'pcp', 'ZS')\n",
        "2.65270774745e-101"
       ]
      },
      {
       "output_type": "stream",
       "stream": "stdout",
       "text": [
        "\n",
        "5 0.00035 1.0 0.0\n",
        "('easy', 'img', 'KL')\n",
        "0.0"
       ]
      },
      {
       "output_type": "stream",
       "stream": "stdout",
       "text": [
        "\n",
        "('easy', 'img', 'RL')\n",
        "0.0"
       ]
      },
      {
       "output_type": "stream",
       "stream": "stdout",
       "text": [
        "\n",
        "('easy', 'img', 'ZS')\n",
        "0.0"
       ]
      },
      {
       "output_type": "stream",
       "stream": "stdout",
       "text": [
        "\n",
        "('easy', 'pcp', 'KL')\n",
        "0.0"
       ]
      },
      {
       "output_type": "stream",
       "stream": "stdout",
       "text": [
        "\n",
        "('easy', 'pcp', 'RL')\n",
        "0.0"
       ]
      },
      {
       "output_type": "stream",
       "stream": "stdout",
       "text": [
        "\n",
        "('easy', 'pcp', 'ZS')\n",
        "0.0"
       ]
      },
      {
       "output_type": "stream",
       "stream": "stdout",
       "text": [
        "\n",
        "('hard', 'img', 'KL')\n",
        "0.0"
       ]
      },
      {
       "output_type": "stream",
       "stream": "stdout",
       "text": [
        "\n",
        "('hard', 'img', 'RL')\n",
        "0.0"
       ]
      },
      {
       "output_type": "stream",
       "stream": "stdout",
       "text": [
        "\n",
        "('hard', 'img', 'ZS')\n",
        "0.0"
       ]
      },
      {
       "output_type": "stream",
       "stream": "stdout",
       "text": [
        "\n",
        "('hard', 'pcp', 'KL')\n",
        "0.0"
       ]
      },
      {
       "output_type": "stream",
       "stream": "stdout",
       "text": [
        "\n",
        "('hard', 'pcp', 'RL')\n",
        "0.0"
       ]
      },
      {
       "output_type": "stream",
       "stream": "stdout",
       "text": [
        "\n",
        "('hard', 'pcp', 'ZS')\n",
        "0.0"
       ]
      },
      {
       "output_type": "stream",
       "stream": "stdout",
       "text": [
        "\n",
        "5 0.00035 1.0 0.24999975\n",
        "('easy', 'img', 'KL')\n",
        "6.12226184632e-85"
       ]
      },
      {
       "output_type": "stream",
       "stream": "stdout",
       "text": [
        "\n",
        "('easy', 'img', 'RL')\n",
        "5.29128753237e-72"
       ]
      },
      {
       "output_type": "stream",
       "stream": "stdout",
       "text": [
        "\n",
        "('easy', 'img', 'ZS')\n",
        "2.79002373088e-92"
       ]
      },
      {
       "output_type": "stream",
       "stream": "stdout",
       "text": [
        "\n",
        "('easy', 'pcp', 'KL')\n",
        "1.78652227201e-91"
       ]
      },
      {
       "output_type": "stream",
       "stream": "stdout",
       "text": [
        "\n",
        "('easy', 'pcp', 'RL')\n",
        "1.3048066965e-85"
       ]
      },
      {
       "output_type": "stream",
       "stream": "stdout",
       "text": [
        "\n",
        "('easy', 'pcp', 'ZS')\n",
        "1.89358759838e-90"
       ]
      },
      {
       "output_type": "stream",
       "stream": "stdout",
       "text": [
        "\n",
        "('hard', 'img', 'KL')\n",
        "3.66044026174e-74"
       ]
      },
      {
       "output_type": "stream",
       "stream": "stdout",
       "text": [
        "\n",
        "('hard', 'img', 'RL')\n",
        "3.33472887197e-76"
       ]
      },
      {
       "output_type": "stream",
       "stream": "stdout",
       "text": [
        "\n",
        "('hard', 'img', 'ZS')\n",
        "2.84783650478e-91"
       ]
      },
      {
       "output_type": "stream",
       "stream": "stdout",
       "text": [
        "\n",
        "('hard', 'pcp', 'KL')\n",
        "6.70875072642e-74"
       ]
      },
      {
       "output_type": "stream",
       "stream": "stdout",
       "text": [
        "\n",
        "('hard', 'pcp', 'RL')\n",
        "0.0"
       ]
      },
      {
       "output_type": "stream",
       "stream": "stdout",
       "text": [
        "\n",
        "('hard', 'pcp', 'ZS')\n",
        "5.2457874788e-84"
       ]
      },
      {
       "output_type": "stream",
       "stream": "stdout",
       "text": [
        "\n",
        "5 0.00035 1.0 0.4999995\n",
        "('easy', 'img', 'KL')\n",
        "1.69204021122e-143"
       ]
      },
      {
       "output_type": "stream",
       "stream": "stdout",
       "text": [
        "\n",
        "('easy', 'img', 'RL')\n",
        "2.78573364622e-116"
       ]
      },
      {
       "output_type": "stream",
       "stream": "stdout",
       "text": [
        "\n",
        "('easy', 'img', 'ZS')\n",
        "9.28905965776e-156"
       ]
      },
      {
       "output_type": "stream",
       "stream": "stdout",
       "text": [
        "\n",
        "('easy', 'pcp', 'KL')\n",
        "3.15470481038e-156"
       ]
      },
      {
       "output_type": "stream",
       "stream": "stdout",
       "text": [
        "\n",
        "('easy', 'pcp', 'RL')\n",
        "1.10472971309e-142"
       ]
      },
      {
       "output_type": "stream",
       "stream": "stdout",
       "text": [
        "\n",
        "('easy', 'pcp', 'ZS')\n",
        "4.03599574086e-153"
       ]
      },
      {
       "output_type": "stream",
       "stream": "stdout",
       "text": [
        "\n",
        "('hard', 'img', 'KL')\n",
        "1.22240390811e-108"
       ]
      },
      {
       "output_type": "stream",
       "stream": "stdout",
       "text": [
        "\n",
        "('hard', 'img', 'RL')\n",
        "1.21785848468e-120"
       ]
      },
      {
       "output_type": "stream",
       "stream": "stdout",
       "text": [
        "\n",
        "('hard', 'img', 'ZS')\n",
        "6.097428929e-153"
       ]
      },
      {
       "output_type": "stream",
       "stream": "stdout",
       "text": [
        "\n",
        "('hard', 'pcp', 'KL')\n",
        "1.81043317446e-108"
       ]
      },
      {
       "output_type": "stream",
       "stream": "stdout",
       "text": [
        "\n",
        "('hard', 'pcp', 'RL')\n",
        "0.0"
       ]
      },
      {
       "output_type": "stream",
       "stream": "stdout",
       "text": [
        "\n",
        "('hard', 'pcp', 'ZS')\n",
        "1.77350321905e-93"
       ]
      },
      {
       "output_type": "stream",
       "stream": "stdout",
       "text": [
        "\n",
        "5 0.00035 1.0 0.74999925\n",
        "('easy', 'img', 'KL')\n",
        "6.03961740696e-255"
       ]
      },
      {
       "output_type": "stream",
       "stream": "stdout",
       "text": [
        "\n",
        "('easy', 'img', 'RL')\n",
        "1.50466905881e-209"
       ]
      },
      {
       "output_type": "stream",
       "stream": "stdout",
       "text": [
        "\n",
        "('easy', 'img', 'ZS')\n",
        "5.58852920421e-274"
       ]
      },
      {
       "output_type": "stream",
       "stream": "stdout",
       "text": [
        "\n",
        "('easy', 'pcp', 'KL')\n",
        "3.30887041578e-275"
       ]
      },
      {
       "output_type": "stream",
       "stream": "stdout",
       "text": [
        "\n",
        "('easy', 'pcp', 'RL')\n",
        "9.47708452388e-252"
       ]
      },
      {
       "output_type": "stream",
       "stream": "stdout",
       "text": [
        "\n",
        "('easy', 'pcp', 'ZS')\n",
        "3.80090222122e-270"
       ]
      },
      {
       "output_type": "stream",
       "stream": "stdout",
       "text": [
        "\n",
        "('hard', 'img', 'KL')\n",
        "2.63828252691e-189"
       ]
      },
      {
       "output_type": "stream",
       "stream": "stdout",
       "text": [
        "\n",
        "('hard', 'img', 'RL')\n",
        "1.49499127726e-213"
       ]
      },
      {
       "output_type": "stream",
       "stream": "stdout",
       "text": [
        "\n",
        "('hard', 'img', 'ZS')\n",
        "4.69177028993e-267"
       ]
      },
      {
       "output_type": "stream",
       "stream": "stdout",
       "text": [
        "\n",
        "('hard', 'pcp', 'KL')\n",
        "1.36687172609e-188"
       ]
      },
      {
       "output_type": "stream",
       "stream": "stdout",
       "text": [
        "\n",
        "('hard', 'pcp', 'RL')\n",
        "0.0"
       ]
      },
      {
       "output_type": "stream",
       "stream": "stdout",
       "text": [
        "\n",
        "('hard', 'pcp', 'ZS')\n",
        "1.3397947166e-145"
       ]
      },
      {
       "output_type": "stream",
       "stream": "stdout",
       "text": [
        "\n",
        "5 0.00035 1.0 0.999999\n",
        "('easy', 'img', 'KL')\n",
        "0.0"
       ]
      },
      {
       "output_type": "stream",
       "stream": "stdout",
       "text": [
        "\n",
        "('easy', 'img', 'RL')\n",
        "0.0"
       ]
      },
      {
       "output_type": "stream",
       "stream": "stdout",
       "text": [
        "\n",
        "('easy', 'img', 'ZS')\n",
        "0.0"
       ]
      },
      {
       "output_type": "stream",
       "stream": "stdout",
       "text": [
        "\n",
        "('easy', 'pcp', 'KL')\n",
        "0.0"
       ]
      },
      {
       "output_type": "stream",
       "stream": "stdout",
       "text": [
        "\n",
        "('easy', 'pcp', 'RL')\n",
        "0.0"
       ]
      },
      {
       "output_type": "stream",
       "stream": "stdout",
       "text": [
        "\n",
        "('easy', 'pcp', 'ZS')\n",
        "0.0"
       ]
      },
      {
       "output_type": "stream",
       "stream": "stdout",
       "text": [
        "\n",
        "('hard', 'img', 'KL')\n",
        "0.0"
       ]
      },
      {
       "output_type": "stream",
       "stream": "stdout",
       "text": [
        "\n",
        "('hard', 'img', 'RL')\n",
        "0.0"
       ]
      },
      {
       "output_type": "stream",
       "stream": "stdout",
       "text": [
        "\n",
        "('hard', 'img', 'ZS')\n",
        "0.0"
       ]
      },
      {
       "output_type": "stream",
       "stream": "stdout",
       "text": [
        "\n",
        "('hard', 'pcp', 'KL')\n",
        "0.0"
       ]
      },
      {
       "output_type": "stream",
       "stream": "stdout",
       "text": [
        "\n",
        "('hard', 'pcp', 'RL')\n",
        "0.0"
       ]
      },
      {
       "output_type": "stream",
       "stream": "stdout",
       "text": [
        "\n",
        "('hard', 'pcp', 'ZS')\n",
        "0.0"
       ]
      },
      {
       "output_type": "stream",
       "stream": "stdout",
       "text": [
        "\n",
        "6 0.00015 1e-06 0.0\n",
        "('easy', 'img', 'KL')\n",
        "0.0"
       ]
      },
      {
       "output_type": "stream",
       "stream": "stdout",
       "text": [
        "\n",
        "('easy', 'img', 'RL')\n",
        "0.0"
       ]
      },
      {
       "output_type": "stream",
       "stream": "stdout",
       "text": [
        "\n",
        "('easy', 'img', 'ZS')\n",
        "0.0"
       ]
      },
      {
       "output_type": "stream",
       "stream": "stdout",
       "text": [
        "\n",
        "('easy', 'pcp', 'KL')\n",
        "0.0"
       ]
      },
      {
       "output_type": "stream",
       "stream": "stdout",
       "text": [
        "\n",
        "('easy', 'pcp', 'RL')\n",
        "0.0"
       ]
      },
      {
       "output_type": "stream",
       "stream": "stdout",
       "text": [
        "\n",
        "('easy', 'pcp', 'ZS')\n",
        "0.0"
       ]
      },
      {
       "output_type": "stream",
       "stream": "stdout",
       "text": [
        "\n",
        "('hard', 'img', 'KL')\n",
        "0.0"
       ]
      },
      {
       "output_type": "stream",
       "stream": "stdout",
       "text": [
        "\n",
        "('hard', 'img', 'RL')\n",
        "0.0"
       ]
      },
      {
       "output_type": "stream",
       "stream": "stdout",
       "text": [
        "\n",
        "('hard', 'img', 'ZS')\n",
        "0.0"
       ]
      },
      {
       "output_type": "stream",
       "stream": "stdout",
       "text": [
        "\n",
        "('hard', 'pcp', 'KL')\n",
        "0.0"
       ]
      },
      {
       "output_type": "stream",
       "stream": "stdout",
       "text": [
        "\n",
        "('hard', 'pcp', 'RL')\n",
        "0.0"
       ]
      },
      {
       "output_type": "stream",
       "stream": "stdout",
       "text": [
        "\n",
        "('hard', 'pcp', 'ZS')\n",
        "0.0"
       ]
      },
      {
       "output_type": "stream",
       "stream": "stdout",
       "text": [
        "\n",
        "6 0.00015 0.25000075 0.0\n",
        "('easy', 'img', 'KL')\n",
        "0.0"
       ]
      },
      {
       "output_type": "stream",
       "stream": "stdout",
       "text": [
        "\n",
        "('easy', 'img', 'RL')\n",
        "0.0"
       ]
      },
      {
       "output_type": "stream",
       "stream": "stdout",
       "text": [
        "\n",
        "('easy', 'img', 'ZS')\n",
        "0.0"
       ]
      },
      {
       "output_type": "stream",
       "stream": "stdout",
       "text": [
        "\n",
        "('easy', 'pcp', 'KL')\n",
        "0.0"
       ]
      },
      {
       "output_type": "stream",
       "stream": "stdout",
       "text": [
        "\n",
        "('easy', 'pcp', 'RL')\n",
        "0.0"
       ]
      },
      {
       "output_type": "stream",
       "stream": "stdout",
       "text": [
        "\n",
        "('easy', 'pcp', 'ZS')\n",
        "0.0"
       ]
      },
      {
       "output_type": "stream",
       "stream": "stdout",
       "text": [
        "\n",
        "('hard', 'img', 'KL')\n",
        "0.0"
       ]
      },
      {
       "output_type": "stream",
       "stream": "stdout",
       "text": [
        "\n",
        "('hard', 'img', 'RL')\n",
        "0.0"
       ]
      },
      {
       "output_type": "stream",
       "stream": "stdout",
       "text": [
        "\n",
        "('hard', 'img', 'ZS')\n",
        "0.0"
       ]
      },
      {
       "output_type": "stream",
       "stream": "stdout",
       "text": [
        "\n",
        "('hard', 'pcp', 'KL')\n",
        "0.0"
       ]
      },
      {
       "output_type": "stream",
       "stream": "stdout",
       "text": [
        "\n",
        "('hard', 'pcp', 'RL')\n",
        "0.0"
       ]
      },
      {
       "output_type": "stream",
       "stream": "stdout",
       "text": [
        "\n",
        "('hard', 'pcp', 'ZS')\n",
        "0.0"
       ]
      },
      {
       "output_type": "stream",
       "stream": "stdout",
       "text": [
        "\n",
        "6 0.00015 0.25000075 0.24999975\n",
        "('easy', 'img', 'KL')\n",
        "3.46151971295e-70"
       ]
      },
      {
       "output_type": "stream",
       "stream": "stdout",
       "text": [
        "\n",
        "('easy', 'img', 'RL')\n",
        "4.83897997225e-84"
       ]
      },
      {
       "output_type": "stream",
       "stream": "stdout",
       "text": [
        "\n",
        "('easy', 'img', 'ZS')\n",
        "3.3369964325e-67"
       ]
      },
      {
       "output_type": "stream",
       "stream": "stdout",
       "text": [
        "\n",
        "('easy', 'pcp', 'KL')\n",
        "2.13567471103e-67"
       ]
      },
      {
       "output_type": "stream",
       "stream": "stdout",
       "text": [
        "\n",
        "('easy', 'pcp', 'RL')\n",
        "1.45704188521e-75"
       ]
      },
      {
       "output_type": "stream",
       "stream": "stdout",
       "text": [
        "\n",
        "('easy', 'pcp', 'ZS')\n",
        "3.62085864988e-67"
       ]
      },
      {
       "output_type": "stream",
       "stream": "stdout",
       "text": [
        "\n",
        "('hard', 'img', 'KL')\n",
        "5.27615739292e-100"
       ]
      },
      {
       "output_type": "stream",
       "stream": "stdout",
       "text": [
        "\n",
        "('hard', 'img', 'RL')\n",
        "9.26982950109e-85"
       ]
      },
      {
       "output_type": "stream",
       "stream": "stdout",
       "text": [
        "\n",
        "('hard', 'img', 'ZS')\n",
        "4.81153789201e-73"
       ]
      },
      {
       "output_type": "stream",
       "stream": "stdout",
       "text": [
        "\n",
        "('hard', 'pcp', 'KL')\n",
        "5.00260797114e-102"
       ]
      },
      {
       "output_type": "stream",
       "stream": "stdout",
       "text": [
        "\n",
        "('hard', 'pcp', 'RL')\n",
        "3.66173027593e-118"
       ]
      },
      {
       "output_type": "stream",
       "stream": "stdout",
       "text": [
        "\n",
        "('hard', 'pcp', 'ZS')\n",
        "1.15113865298e-134"
       ]
      },
      {
       "output_type": "stream",
       "stream": "stdout",
       "text": [
        "\n",
        "6 0.00015 0.5000005 0.0\n",
        "('easy', 'img', 'KL')\n",
        "0.0"
       ]
      },
      {
       "output_type": "stream",
       "stream": "stdout",
       "text": [
        "\n",
        "('easy', 'img', 'RL')\n",
        "0.0"
       ]
      },
      {
       "output_type": "stream",
       "stream": "stdout",
       "text": [
        "\n",
        "('easy', 'img', 'ZS')\n",
        "0.0"
       ]
      },
      {
       "output_type": "stream",
       "stream": "stdout",
       "text": [
        "\n",
        "('easy', 'pcp', 'KL')\n",
        "0.0"
       ]
      },
      {
       "output_type": "stream",
       "stream": "stdout",
       "text": [
        "\n",
        "('easy', 'pcp', 'RL')\n",
        "0.0"
       ]
      },
      {
       "output_type": "stream",
       "stream": "stdout",
       "text": [
        "\n",
        "('easy', 'pcp', 'ZS')\n",
        "0.0"
       ]
      },
      {
       "output_type": "stream",
       "stream": "stdout",
       "text": [
        "\n",
        "('hard', 'img', 'KL')\n",
        "0.0"
       ]
      },
      {
       "output_type": "stream",
       "stream": "stdout",
       "text": [
        "\n",
        "('hard', 'img', 'RL')\n",
        "0.0"
       ]
      },
      {
       "output_type": "stream",
       "stream": "stdout",
       "text": [
        "\n",
        "('hard', 'img', 'ZS')\n",
        "0.0"
       ]
      },
      {
       "output_type": "stream",
       "stream": "stdout",
       "text": [
        "\n",
        "('hard', 'pcp', 'KL')\n",
        "0.0"
       ]
      },
      {
       "output_type": "stream",
       "stream": "stdout",
       "text": [
        "\n",
        "('hard', 'pcp', 'RL')\n",
        "0.0"
       ]
      },
      {
       "output_type": "stream",
       "stream": "stdout",
       "text": [
        "\n",
        "('hard', 'pcp', 'ZS')\n",
        "0.0"
       ]
      },
      {
       "output_type": "stream",
       "stream": "stdout",
       "text": [
        "\n",
        "6 0.00015 0.5000005 0.24999975\n",
        "('easy', 'img', 'KL')\n",
        "1.16274743293e-65"
       ]
      },
      {
       "output_type": "stream",
       "stream": "stdout",
       "text": [
        "\n",
        "('easy', 'img', 'RL')\n",
        "2.80178689318e-72"
       ]
      },
      {
       "output_type": "stream",
       "stream": "stdout",
       "text": [
        "\n",
        "('easy', 'img', 'ZS')\n",
        "5.95928033457e-65"
       ]
      },
      {
       "output_type": "stream",
       "stream": "stdout",
       "text": [
        "\n",
        "('easy', 'pcp', 'KL')\n",
        "1.93482680677e-65"
       ]
      },
      {
       "output_type": "stream",
       "stream": "stdout",
       "text": [
        "\n",
        "('easy', 'pcp', 'RL')\n",
        "5.25927597321e-70"
       ]
      },
      {
       "output_type": "stream",
       "stream": "stdout",
       "text": [
        "\n",
        "('easy', 'pcp', 'ZS')\n",
        "7.45380496871e-65"
       ]
      },
      {
       "output_type": "stream",
       "stream": "stdout",
       "text": [
        "\n",
        "('hard', 'img', 'KL')\n",
        "1.16516455631e-84"
       ]
      },
      {
       "output_type": "stream",
       "stream": "stdout",
       "text": [
        "\n",
        "('hard', 'img', 'RL')\n",
        "1.40981367321e-73"
       ]
      },
      {
       "output_type": "stream",
       "stream": "stdout",
       "text": [
        "\n",
        "('hard', 'img', 'ZS')\n",
        "7.19404677498e-69"
       ]
      },
      {
       "output_type": "stream",
       "stream": "stdout",
       "text": [
        "\n",
        "('hard', 'pcp', 'KL')\n",
        "5.82976090927e-86"
       ]
      },
      {
       "output_type": "stream",
       "stream": "stdout",
       "text": [
        "\n",
        "('hard', 'pcp', 'RL')\n",
        "1.83679837154e-97"
       ]
      },
      {
       "output_type": "stream",
       "stream": "stdout",
       "text": [
        "\n",
        "('hard', 'pcp', 'ZS')\n",
        "1.04525627381e-111"
       ]
      },
      {
       "output_type": "stream",
       "stream": "stdout",
       "text": [
        "\n",
        "6 0.00015 0.5000005 0.4999995\n",
        "('easy', 'img', 'KL')\n",
        "3.3654251637e-93"
       ]
      },
      {
       "output_type": "stream",
       "stream": "stdout",
       "text": [
        "\n",
        "('easy', 'img', 'RL')\n",
        "4.16949226652e-85"
       ]
      },
      {
       "output_type": "stream",
       "stream": "stdout",
       "text": [
        "\n",
        "('easy', 'img', 'ZS')\n",
        "2.51231964381e-98"
       ]
      },
      {
       "output_type": "stream",
       "stream": "stdout",
       "text": [
        "\n",
        "('easy', 'pcp', 'KL')\n",
        "5.35961494237e-99"
       ]
      },
      {
       "output_type": "stream",
       "stream": "stdout",
       "text": [
        "\n",
        "('easy', 'pcp', 'RL')\n",
        "3.09806478403e-95"
       ]
      },
      {
       "output_type": "stream",
       "stream": "stdout",
       "text": [
        "\n",
        "('easy', 'pcp', 'ZS')\n",
        "7.36026770367e-97"
       ]
      },
      {
       "output_type": "stream",
       "stream": "stdout",
       "text": [
        "\n",
        "('hard', 'img', 'KL')\n",
        "2.52717446815e-85"
       ]
      },
      {
       "output_type": "stream",
       "stream": "stdout",
       "text": [
        "\n",
        "('hard', 'img', 'RL')\n",
        "2.39620275165e-85"
       ]
      },
      {
       "output_type": "stream",
       "stream": "stdout",
       "text": [
        "\n",
        "('hard', 'img', 'ZS')\n",
        "1.92509970333e-98"
       ]
      },
      {
       "output_type": "stream",
       "stream": "stdout",
       "text": [
        "\n",
        "('hard', 'pcp', 'KL')\n",
        "2.15652731127e-86"
       ]
      },
      {
       "output_type": "stream",
       "stream": "stdout",
       "text": [
        "\n",
        "('hard', 'pcp', 'RL')\n",
        "7.89719635839e-86"
       ]
      },
      {
       "output_type": "stream",
       "stream": "stdout",
       "text": [
        "\n",
        "('hard', 'pcp', 'ZS')\n",
        "4.60025566704e-87"
       ]
      },
      {
       "output_type": "stream",
       "stream": "stdout",
       "text": [
        "\n",
        "6 0.00015 0.75000025 0.0\n",
        "('easy', 'img', 'KL')\n",
        "0.0"
       ]
      },
      {
       "output_type": "stream",
       "stream": "stdout",
       "text": [
        "\n",
        "('easy', 'img', 'RL')\n",
        "0.0"
       ]
      },
      {
       "output_type": "stream",
       "stream": "stdout",
       "text": [
        "\n",
        "('easy', 'img', 'ZS')\n",
        "0.0"
       ]
      },
      {
       "output_type": "stream",
       "stream": "stdout",
       "text": [
        "\n",
        "('easy', 'pcp', 'KL')\n",
        "0.0"
       ]
      },
      {
       "output_type": "stream",
       "stream": "stdout",
       "text": [
        "\n",
        "('easy', 'pcp', 'RL')\n",
        "0.0"
       ]
      },
      {
       "output_type": "stream",
       "stream": "stdout",
       "text": [
        "\n",
        "('easy', 'pcp', 'ZS')\n",
        "0.0"
       ]
      },
      {
       "output_type": "stream",
       "stream": "stdout",
       "text": [
        "\n",
        "('hard', 'img', 'KL')\n",
        "0.0"
       ]
      },
      {
       "output_type": "stream",
       "stream": "stdout",
       "text": [
        "\n",
        "('hard', 'img', 'RL')\n",
        "0.0"
       ]
      },
      {
       "output_type": "stream",
       "stream": "stdout",
       "text": [
        "\n",
        "('hard', 'img', 'ZS')\n",
        "0.0"
       ]
      },
      {
       "output_type": "stream",
       "stream": "stdout",
       "text": [
        "\n",
        "('hard', 'pcp', 'KL')\n",
        "0.0"
       ]
      },
      {
       "output_type": "stream",
       "stream": "stdout",
       "text": [
        "\n",
        "('hard', 'pcp', 'RL')\n",
        "0.0"
       ]
      },
      {
       "output_type": "stream",
       "stream": "stdout",
       "text": [
        "\n",
        "('hard', 'pcp', 'ZS')\n",
        "0.0"
       ]
      },
      {
       "output_type": "stream",
       "stream": "stdout",
       "text": [
        "\n",
        "6 0.00015 0.75000025 0.24999975\n",
        "('easy', 'img', 'KL')\n",
        "1.36837171347e-66"
       ]
      },
      {
       "output_type": "stream",
       "stream": "stdout",
       "text": [
        "\n",
        "('easy', 'img', 'RL')\n",
        "4.29321835762e-66"
       ]
      },
      {
       "output_type": "stream",
       "stream": "stdout",
       "text": [
        "\n",
        "('easy', 'img', 'ZS')\n",
        "3.21329424969e-68"
       ]
      },
      {
       "output_type": "stream",
       "stream": "stdout",
       "text": [
        "\n",
        "('easy', 'pcp', 'KL')\n",
        "4.95963128266e-69"
       ]
      },
      {
       "output_type": "stream",
       "stream": "stdout",
       "text": [
        "\n",
        "('easy', 'pcp', 'RL')\n",
        "2.60920877569e-70"
       ]
      },
      {
       "output_type": "stream",
       "stream": "stdout",
       "text": [
        "\n",
        "('easy', 'pcp', 'ZS')\n",
        "5.42254465035e-68"
       ]
      },
      {
       "output_type": "stream",
       "stream": "stdout",
       "text": [
        "\n",
        "('hard', 'img', 'KL')\n",
        "4.89677548277e-76"
       ]
      },
      {
       "output_type": "stream",
       "stream": "stdout",
       "text": [
        "\n",
        "('hard', 'img', 'RL')\n",
        "3.62512326516e-68"
       ]
      },
      {
       "output_type": "stream",
       "stream": "stdout",
       "text": [
        "\n",
        "('hard', 'img', 'ZS')\n",
        "2.36795973772e-70"
       ]
      },
      {
       "output_type": "stream",
       "stream": "stdout",
       "text": [
        "\n",
        "('hard', 'pcp', 'KL')\n",
        "8.70228058935e-77"
       ]
      },
      {
       "output_type": "stream",
       "stream": "stdout",
       "text": [
        "\n",
        "('hard', 'pcp', 'RL')\n",
        "1.82602981136e-84"
       ]
      },
      {
       "output_type": "stream",
       "stream": "stdout",
       "text": [
        "\n",
        "('hard', 'pcp', 'ZS')\n",
        "1.40850322256e-97"
       ]
      },
      {
       "output_type": "stream",
       "stream": "stdout",
       "text": [
        "\n",
        "6 0.00015 0.75000025 0.4999995\n",
        "('easy', 'img', 'KL')\n",
        "6.58834804027e-113"
       ]
      },
      {
       "output_type": "stream",
       "stream": "stdout",
       "text": [
        "\n",
        "('easy', 'img', 'RL')\n",
        "7.86189475669e-98"
       ]
      },
      {
       "output_type": "stream",
       "stream": "stdout",
       "text": [
        "\n",
        "('easy', 'img', 'ZS')\n",
        "2.89187596777e-120"
       ]
      },
      {
       "output_type": "stream",
       "stream": "stdout",
       "text": [
        "\n",
        "('easy', 'pcp', 'KL')\n",
        "3.43126137059e-121"
       ]
      },
      {
       "output_type": "stream",
       "stream": "stdout",
       "text": [
        "\n",
        "('easy', 'pcp', 'RL')\n",
        "6.46307057981e-114"
       ]
      },
      {
       "output_type": "stream",
       "stream": "stdout",
       "text": [
        "\n",
        "('easy', 'pcp', 'ZS')\n",
        "1.07681333503e-118"
       ]
      },
      {
       "output_type": "stream",
       "stream": "stdout",
       "text": [
        "\n",
        "('hard', 'img', 'KL')\n",
        "2.82483798739e-94"
       ]
      },
      {
       "output_type": "stream",
       "stream": "stdout",
       "text": [
        "\n",
        "('hard', 'img', 'RL')\n",
        "2.31577244746e-98"
       ]
      },
      {
       "output_type": "stream",
       "stream": "stdout",
       "text": [
        "\n",
        "('hard', 'img', 'ZS')\n",
        "2.96869876555e-118"
       ]
      },
      {
       "output_type": "stream",
       "stream": "stdout",
       "text": [
        "\n",
        "('hard', 'pcp', 'KL')\n",
        "1.11466173486e-94"
       ]
      },
      {
       "output_type": "stream",
       "stream": "stdout",
       "text": [
        "\n",
        "('hard', 'pcp', 'RL')\n",
        "1.33475941135e-89"
       ]
      },
      {
       "output_type": "stream",
       "stream": "stdout",
       "text": [
        "\n",
        "('hard', 'pcp', 'ZS')\n",
        "1.49074117928e-88"
       ]
      },
      {
       "output_type": "stream",
       "stream": "stdout",
       "text": [
        "\n",
        "6 0.00015 0.75000025 0.74999925\n",
        "('easy', 'img', 'KL')\n",
        "2.05003081643e-211"
       ]
      },
      {
       "output_type": "stream",
       "stream": "stdout",
       "text": [
        "\n",
        "('easy', 'img', 'RL')\n",
        "2.25086560965e-181"
       ]
      },
      {
       "output_type": "stream",
       "stream": "stdout",
       "text": [
        "\n",
        "('easy', 'img', 'ZS')\n",
        "1.18507640174e-224"
       ]
      },
      {
       "output_type": "stream",
       "stream": "stdout",
       "text": [
        "\n",
        "('easy', 'pcp', 'KL')\n",
        "8.42722057997e-226"
       ]
      },
      {
       "output_type": "stream",
       "stream": "stdout",
       "text": [
        "\n",
        "('easy', 'pcp', 'RL')\n",
        "4.12719582982e-210"
       ]
      },
      {
       "output_type": "stream",
       "stream": "stdout",
       "text": [
        "\n",
        "('easy', 'pcp', 'ZS')\n",
        "9.37402771151e-222"
       ]
      },
      {
       "output_type": "stream",
       "stream": "stdout",
       "text": [
        "\n",
        "('hard', 'img', 'KL')\n",
        "7.58368716459e-166"
       ]
      },
      {
       "output_type": "stream",
       "stream": "stdout",
       "text": [
        "\n",
        "('hard', 'img', 'RL')\n",
        "3.88070983302e-181"
       ]
      },
      {
       "output_type": "stream",
       "stream": "stdout",
       "text": [
        "\n",
        "('hard', 'img', 'ZS')\n",
        "4.82584163861e-219"
       ]
      },
      {
       "output_type": "stream",
       "stream": "stdout",
       "text": [
        "\n",
        "('hard', 'pcp', 'KL')\n",
        "5.82427457063e-166"
       ]
      },
      {
       "output_type": "stream",
       "stream": "stdout",
       "text": [
        "\n",
        "('hard', 'pcp', 'RL')\n",
        "1.06703586453e-148"
       ]
      },
      {
       "output_type": "stream",
       "stream": "stdout",
       "text": [
        "\n",
        "('hard', 'pcp', 'ZS')\n",
        "1.15171108074e-134"
       ]
      },
      {
       "output_type": "stream",
       "stream": "stdout",
       "text": [
        "\n",
        "6 0.00015 1.0 0.0\n",
        "('easy', 'img', 'KL')\n",
        "0.0"
       ]
      },
      {
       "output_type": "stream",
       "stream": "stdout",
       "text": [
        "\n",
        "('easy', 'img', 'RL')\n",
        "0.0"
       ]
      },
      {
       "output_type": "stream",
       "stream": "stdout",
       "text": [
        "\n",
        "('easy', 'img', 'ZS')\n",
        "0.0"
       ]
      },
      {
       "output_type": "stream",
       "stream": "stdout",
       "text": [
        "\n",
        "('easy', 'pcp', 'KL')\n",
        "0.0"
       ]
      },
      {
       "output_type": "stream",
       "stream": "stdout",
       "text": [
        "\n",
        "('easy', 'pcp', 'RL')\n",
        "0.0"
       ]
      },
      {
       "output_type": "stream",
       "stream": "stdout",
       "text": [
        "\n",
        "('easy', 'pcp', 'ZS')\n",
        "0.0"
       ]
      },
      {
       "output_type": "stream",
       "stream": "stdout",
       "text": [
        "\n",
        "('hard', 'img', 'KL')\n",
        "0.0"
       ]
      },
      {
       "output_type": "stream",
       "stream": "stdout",
       "text": [
        "\n",
        "('hard', 'img', 'RL')\n",
        "0.0"
       ]
      },
      {
       "output_type": "stream",
       "stream": "stdout",
       "text": [
        "\n",
        "('hard', 'img', 'ZS')\n",
        "0.0"
       ]
      },
      {
       "output_type": "stream",
       "stream": "stdout",
       "text": [
        "\n",
        "('hard', 'pcp', 'KL')\n",
        "0.0"
       ]
      },
      {
       "output_type": "stream",
       "stream": "stdout",
       "text": [
        "\n",
        "('hard', 'pcp', 'RL')\n",
        "0.0"
       ]
      },
      {
       "output_type": "stream",
       "stream": "stdout",
       "text": [
        "\n",
        "('hard', 'pcp', 'ZS')\n",
        "0.0"
       ]
      },
      {
       "output_type": "stream",
       "stream": "stdout",
       "text": [
        "\n",
        "6 0.00015 1.0 0.24999975\n",
        "('easy', 'img', 'KL')\n",
        "1.62186745037e-75"
       ]
      },
      {
       "output_type": "stream",
       "stream": "stdout",
       "text": [
        "\n",
        "('easy', 'img', 'RL')\n",
        "2.96941182131e-64"
       ]
      },
      {
       "output_type": "stream",
       "stream": "stdout",
       "text": [
        "\n",
        "('easy', 'img', 'ZS')\n",
        "2.04096014664e-80"
       ]
      },
      {
       "output_type": "stream",
       "stream": "stdout",
       "text": [
        "\n",
        "('easy', 'pcp', 'KL')\n",
        "4.08696406866e-82"
       ]
      },
      {
       "output_type": "stream",
       "stream": "stdout",
       "text": [
        "\n",
        "('easy', 'pcp', 'RL')\n",
        "2.70311244419e-79"
       ]
      },
      {
       "output_type": "stream",
       "stream": "stdout",
       "text": [
        "\n",
        "('easy', 'pcp', 'ZS')\n",
        "3.041576776e-80"
       ]
      },
      {
       "output_type": "stream",
       "stream": "stdout",
       "text": [
        "\n",
        "('hard', 'img', 'KL')\n",
        "4.64788891983e-73"
       ]
      },
      {
       "output_type": "stream",
       "stream": "stdout",
       "text": [
        "\n",
        "('hard', 'img', 'RL')\n",
        "7.02101939013e-69"
       ]
      },
      {
       "output_type": "stream",
       "stream": "stdout",
       "text": [
        "\n",
        "('hard', 'img', 'ZS')\n",
        "9.39719438877e-80"
       ]
      },
      {
       "output_type": "stream",
       "stream": "stdout",
       "text": [
        "\n",
        "('hard', 'pcp', 'KL')\n",
        "1.25648039217e-73"
       ]
      },
      {
       "output_type": "stream",
       "stream": "stdout",
       "text": [
        "\n",
        "('hard', 'pcp', 'RL')\n",
        "6.86424784395e-77"
       ]
      },
      {
       "output_type": "stream",
       "stream": "stdout",
       "text": [
        "\n",
        "('hard', 'pcp', 'ZS')\n",
        "3.41384108208e-90"
       ]
      },
      {
       "output_type": "stream",
       "stream": "stdout",
       "text": [
        "\n",
        "6 0.00015 1.0 0.4999995\n",
        "('easy', 'img', 'KL')\n",
        "5.47572290034e-150"
       ]
      },
      {
       "output_type": "stream",
       "stream": "stdout",
       "text": [
        "\n",
        "('easy', 'img', 'RL')\n",
        "3.20344253586e-121"
       ]
      },
      {
       "output_type": "stream",
       "stream": "stdout",
       "text": [
        "\n",
        "('easy', 'img', 'ZS')\n",
        "2.99593310865e-162"
       ]
      },
      {
       "output_type": "stream",
       "stream": "stdout",
       "text": [
        "\n",
        "('easy', 'pcp', 'KL')\n",
        "7.35301737714e-164"
       ]
      },
      {
       "output_type": "stream",
       "stream": "stdout",
       "text": [
        "\n",
        "('easy', 'pcp', 'RL')\n",
        "2.48372849261e-150"
       ]
      },
      {
       "output_type": "stream",
       "stream": "stdout",
       "text": [
        "\n",
        "('easy', 'pcp', 'ZS')\n",
        "3.10203063046e-160"
       ]
      },
      {
       "output_type": "stream",
       "stream": "stdout",
       "text": [
        "\n",
        "('hard', 'img', 'KL')\n",
        "1.05743942231e-113"
       ]
      },
      {
       "output_type": "stream",
       "stream": "stdout",
       "text": [
        "\n",
        "('hard', 'img', 'RL')\n",
        "1.589231496e-123"
       ]
      },
      {
       "output_type": "stream",
       "stream": "stdout",
       "text": [
        "\n",
        "('hard', 'img', 'ZS')\n",
        "2.62070895704e-156"
       ]
      },
      {
       "output_type": "stream",
       "stream": "stdout",
       "text": [
        "\n",
        "('hard', 'pcp', 'KL')\n",
        "1.16393954711e-113"
       ]
      },
      {
       "output_type": "stream",
       "stream": "stdout",
       "text": [
        "\n",
        "('hard', 'pcp', 'RL')\n",
        "1.72175625812e-101"
       ]
      },
      {
       "output_type": "stream",
       "stream": "stdout",
       "text": [
        "\n",
        "('hard', 'pcp', 'ZS')\n",
        "6.68256529238e-99"
       ]
      },
      {
       "output_type": "stream",
       "stream": "stdout",
       "text": [
        "\n",
        "6 0.00015 1.0 0.74999925\n",
        "('easy', 'img', 'KL')\n",
        "5.19549075074e-297"
       ]
      },
      {
       "output_type": "stream",
       "stream": "stdout",
       "text": [
        "\n",
        "('easy', 'img', 'RL')\n",
        "1.99330807527e-248"
       ]
      },
      {
       "output_type": "stream",
       "stream": "stdout",
       "text": [
        "\n",
        "('easy', 'img', 'ZS')\n",
        "5.63378411736e-317"
       ]
      },
      {
       "output_type": "stream",
       "stream": "stdout",
       "text": [
        "\n",
        "('easy', 'pcp', 'KL')\n",
        "8.09086842286e-319"
       ]
      },
      {
       "output_type": "stream",
       "stream": "stdout",
       "text": [
        "\n",
        "('easy', 'pcp', 'RL')\n",
        "4.48101242448e-294"
       ]
      },
      {
       "output_type": "stream",
       "stream": "stdout",
       "text": [
        "\n",
        "('easy', 'pcp', 'ZS')\n",
        "2.41891518024e-313"
       ]
      },
      {
       "output_type": "stream",
       "stream": "stdout",
       "text": [
        "\n",
        "('hard', 'img', 'KL')\n",
        "3.49682503002e-225"
       ]
      },
      {
       "output_type": "stream",
       "stream": "stdout",
       "text": [
        "\n",
        "('hard', 'img', 'RL')\n",
        "1.38683421653e-249"
       ]
      },
      {
       "output_type": "stream",
       "stream": "stdout",
       "text": [
        "\n",
        "('hard', 'img', 'ZS')\n",
        "9.8177143739e-306"
       ]
      },
      {
       "output_type": "stream",
       "stream": "stdout",
       "text": [
        "\n",
        "('hard', 'pcp', 'KL')\n",
        "1.96901569454e-224"
       ]
      },
      {
       "output_type": "stream",
       "stream": "stdout",
       "text": [
        "\n",
        "('hard', 'pcp', 'RL')\n",
        "2.15489796724e-196"
       ]
      },
      {
       "output_type": "stream",
       "stream": "stdout",
       "text": [
        "\n",
        "('hard', 'pcp', 'ZS')\n",
        "3.01111545218e-178"
       ]
      },
      {
       "output_type": "stream",
       "stream": "stdout",
       "text": [
        "\n",
        "6 0.00015 1.0 0.999999\n",
        "('easy', 'img', 'KL')\n",
        "0.0"
       ]
      },
      {
       "output_type": "stream",
       "stream": "stdout",
       "text": [
        "\n",
        "('easy', 'img', 'RL')\n",
        "0.0"
       ]
      },
      {
       "output_type": "stream",
       "stream": "stdout",
       "text": [
        "\n",
        "('easy', 'img', 'ZS')\n",
        "0.0"
       ]
      },
      {
       "output_type": "stream",
       "stream": "stdout",
       "text": [
        "\n",
        "('easy', 'pcp', 'KL')\n",
        "0.0"
       ]
      },
      {
       "output_type": "stream",
       "stream": "stdout",
       "text": [
        "\n",
        "('easy', 'pcp', 'RL')\n",
        "0.0"
       ]
      },
      {
       "output_type": "stream",
       "stream": "stdout",
       "text": [
        "\n",
        "('easy', 'pcp', 'ZS')\n",
        "0.0"
       ]
      },
      {
       "output_type": "stream",
       "stream": "stdout",
       "text": [
        "\n",
        "('hard', 'img', 'KL')\n",
        "0.0"
       ]
      },
      {
       "output_type": "stream",
       "stream": "stdout",
       "text": [
        "\n",
        "('hard', 'img', 'RL')\n",
        "0.0"
       ]
      },
      {
       "output_type": "stream",
       "stream": "stdout",
       "text": [
        "\n",
        "('hard', 'img', 'ZS')\n",
        "0.0"
       ]
      },
      {
       "output_type": "stream",
       "stream": "stdout",
       "text": [
        "\n",
        "('hard', 'pcp', 'KL')\n",
        "0.0"
       ]
      },
      {
       "output_type": "stream",
       "stream": "stdout",
       "text": [
        "\n",
        "('hard', 'pcp', 'RL')\n",
        "0.0"
       ]
      },
      {
       "output_type": "stream",
       "stream": "stdout",
       "text": [
        "\n",
        "('hard', 'pcp', 'ZS')\n",
        "0.0"
       ]
      },
      {
       "output_type": "stream",
       "stream": "stdout",
       "text": [
        "\n",
        "6 0.0002 1e-06 0.0\n",
        "('easy', 'img', 'KL')\n",
        "0.0"
       ]
      },
      {
       "output_type": "stream",
       "stream": "stdout",
       "text": [
        "\n",
        "('easy', 'img', 'RL')\n",
        "0.0"
       ]
      },
      {
       "output_type": "stream",
       "stream": "stdout",
       "text": [
        "\n",
        "('easy', 'img', 'ZS')\n",
        "0.0"
       ]
      },
      {
       "output_type": "stream",
       "stream": "stdout",
       "text": [
        "\n",
        "('easy', 'pcp', 'KL')\n",
        "0.0"
       ]
      },
      {
       "output_type": "stream",
       "stream": "stdout",
       "text": [
        "\n",
        "('easy', 'pcp', 'RL')\n",
        "0.0"
       ]
      },
      {
       "output_type": "stream",
       "stream": "stdout",
       "text": [
        "\n",
        "('easy', 'pcp', 'ZS')\n",
        "0.0"
       ]
      },
      {
       "output_type": "stream",
       "stream": "stdout",
       "text": [
        "\n",
        "('hard', 'img', 'KL')\n",
        "0.0"
       ]
      },
      {
       "output_type": "stream",
       "stream": "stdout",
       "text": [
        "\n",
        "('hard', 'img', 'RL')\n",
        "0.0"
       ]
      },
      {
       "output_type": "stream",
       "stream": "stdout",
       "text": [
        "\n",
        "('hard', 'img', 'ZS')\n",
        "0.0"
       ]
      },
      {
       "output_type": "stream",
       "stream": "stdout",
       "text": [
        "\n",
        "('hard', 'pcp', 'KL')\n",
        "0.0"
       ]
      },
      {
       "output_type": "stream",
       "stream": "stdout",
       "text": [
        "\n",
        "('hard', 'pcp', 'RL')\n",
        "0.0"
       ]
      },
      {
       "output_type": "stream",
       "stream": "stdout",
       "text": [
        "\n",
        "('hard', 'pcp', 'ZS')\n",
        "0.0"
       ]
      },
      {
       "output_type": "stream",
       "stream": "stdout",
       "text": [
        "\n",
        "6 0.0002 0.25000075 0.0\n",
        "('easy', 'img', 'KL')\n",
        "0.0"
       ]
      },
      {
       "output_type": "stream",
       "stream": "stdout",
       "text": [
        "\n",
        "('easy', 'img', 'RL')\n",
        "0.0"
       ]
      },
      {
       "output_type": "stream",
       "stream": "stdout",
       "text": [
        "\n",
        "('easy', 'img', 'ZS')\n",
        "0.0"
       ]
      },
      {
       "output_type": "stream",
       "stream": "stdout",
       "text": [
        "\n",
        "('easy', 'pcp', 'KL')\n",
        "0.0"
       ]
      },
      {
       "output_type": "stream",
       "stream": "stdout",
       "text": [
        "\n",
        "('easy', 'pcp', 'RL')\n",
        "0.0"
       ]
      },
      {
       "output_type": "stream",
       "stream": "stdout",
       "text": [
        "\n",
        "('easy', 'pcp', 'ZS')\n",
        "0.0"
       ]
      },
      {
       "output_type": "stream",
       "stream": "stdout",
       "text": [
        "\n",
        "('hard', 'img', 'KL')\n",
        "0.0"
       ]
      },
      {
       "output_type": "stream",
       "stream": "stdout",
       "text": [
        "\n",
        "('hard', 'img', 'RL')\n",
        "0.0"
       ]
      },
      {
       "output_type": "stream",
       "stream": "stdout",
       "text": [
        "\n",
        "('hard', 'img', 'ZS')\n",
        "0.0"
       ]
      },
      {
       "output_type": "stream",
       "stream": "stdout",
       "text": [
        "\n",
        "('hard', 'pcp', 'KL')\n",
        "0.0"
       ]
      },
      {
       "output_type": "stream",
       "stream": "stdout",
       "text": [
        "\n",
        "('hard', 'pcp', 'RL')\n",
        "0.0"
       ]
      },
      {
       "output_type": "stream",
       "stream": "stdout",
       "text": [
        "\n",
        "('hard', 'pcp', 'ZS')\n",
        "0.0"
       ]
      },
      {
       "output_type": "stream",
       "stream": "stdout",
       "text": [
        "\n",
        "6 0.0002 0.25000075 0.24999975\n",
        "('easy', 'img', 'KL')\n",
        "3.46156212748e-70"
       ]
      },
      {
       "output_type": "stream",
       "stream": "stdout",
       "text": [
        "\n",
        "('easy', 'img', 'RL')\n",
        "4.83906784131e-84"
       ]
      },
      {
       "output_type": "stream",
       "stream": "stdout",
       "text": [
        "\n",
        "('easy', 'img', 'ZS')\n",
        "3.33701418177e-67"
       ]
      },
      {
       "output_type": "stream",
       "stream": "stdout",
       "text": [
        "\n",
        "('easy', 'pcp', 'KL')\n",
        "2.13569376079e-67"
       ]
      },
      {
       "output_type": "stream",
       "stream": "stdout",
       "text": [
        "\n",
        "('easy', 'pcp', 'RL')\n",
        "1.45706408577e-75"
       ]
      },
      {
       "output_type": "stream",
       "stream": "stdout",
       "text": [
        "\n",
        "('easy', 'pcp', 'ZS')\n",
        "3.62089094716e-67"
       ]
      },
      {
       "output_type": "stream",
       "stream": "stdout",
       "text": [
        "\n",
        "('hard', 'img', 'KL')\n",
        "5.27630522143e-100"
       ]
      },
      {
       "output_type": "stream",
       "stream": "stdout",
       "text": [
        "\n",
        "('hard', 'img', 'RL')\n",
        "9.27000415434e-85"
       ]
      },
      {
       "output_type": "stream",
       "stream": "stdout",
       "text": [
        "\n",
        "('hard', 'img', 'ZS')\n",
        "4.81159600697e-73"
       ]
      },
      {
       "output_type": "stream",
       "stream": "stdout",
       "text": [
        "\n",
        "('hard', 'pcp', 'KL')\n",
        "5.00272928065e-102"
       ]
      },
      {
       "output_type": "stream",
       "stream": "stdout",
       "text": [
        "\n",
        "('hard', 'pcp', 'RL')\n",
        "3.66184438652e-118"
       ]
      },
      {
       "output_type": "stream",
       "stream": "stdout",
       "text": [
        "\n",
        "('hard', 'pcp', 'ZS')\n",
        "1.15117878956e-134"
       ]
      },
      {
       "output_type": "stream",
       "stream": "stdout",
       "text": [
        "\n",
        "6 0.0002 0.5000005 0.0\n",
        "('easy', 'img', 'KL')\n",
        "0.0"
       ]
      },
      {
       "output_type": "stream",
       "stream": "stdout",
       "text": [
        "\n",
        "('easy', 'img', 'RL')\n",
        "0.0"
       ]
      },
      {
       "output_type": "stream",
       "stream": "stdout",
       "text": [
        "\n",
        "('easy', 'img', 'ZS')\n",
        "0.0"
       ]
      },
      {
       "output_type": "stream",
       "stream": "stdout",
       "text": [
        "\n",
        "('easy', 'pcp', 'KL')\n",
        "0.0"
       ]
      },
      {
       "output_type": "stream",
       "stream": "stdout",
       "text": [
        "\n",
        "('easy', 'pcp', 'RL')\n",
        "0.0"
       ]
      },
      {
       "output_type": "stream",
       "stream": "stdout",
       "text": [
        "\n",
        "('easy', 'pcp', 'ZS')\n",
        "0.0"
       ]
      },
      {
       "output_type": "stream",
       "stream": "stdout",
       "text": [
        "\n",
        "('hard', 'img', 'KL')\n",
        "0.0"
       ]
      },
      {
       "output_type": "stream",
       "stream": "stdout",
       "text": [
        "\n",
        "('hard', 'img', 'RL')\n",
        "0.0"
       ]
      },
      {
       "output_type": "stream",
       "stream": "stdout",
       "text": [
        "\n",
        "('hard', 'img', 'ZS')\n",
        "0.0"
       ]
      },
      {
       "output_type": "stream",
       "stream": "stdout",
       "text": [
        "\n",
        "('hard', 'pcp', 'KL')\n",
        "0.0"
       ]
      },
      {
       "output_type": "stream",
       "stream": "stdout",
       "text": [
        "\n",
        "('hard', 'pcp', 'RL')\n",
        "0.0"
       ]
      },
      {
       "output_type": "stream",
       "stream": "stdout",
       "text": [
        "\n",
        "('hard', 'pcp', 'ZS')\n",
        "0.0"
       ]
      },
      {
       "output_type": "stream",
       "stream": "stdout",
       "text": [
        "\n",
        "6 0.0002 0.5000005 0.24999975\n",
        "('easy', 'img', 'KL')\n",
        "2.48049355997e-65"
       ]
      },
      {
       "output_type": "stream",
       "stream": "stdout",
       "text": [
        "\n",
        "('easy', 'img', 'RL')\n",
        "2.33104361681e-71"
       ]
      },
      {
       "output_type": "stream",
       "stream": "stdout",
       "text": [
        "\n",
        "('easy', 'img', 'ZS')\n",
        "2.5757994078e-65"
       ]
      },
      {
       "output_type": "stream",
       "stream": "stdout",
       "text": [
        "\n",
        "('easy', 'pcp', 'KL')\n",
        "1.8905921187e-65"
       ]
      },
      {
       "output_type": "stream",
       "stream": "stdout",
       "text": [
        "\n",
        "('easy', 'pcp', 'RL')\n",
        "2.19764253602e-69"
       ]
      },
      {
       "output_type": "stream",
       "stream": "stdout",
       "text": [
        "\n",
        "('easy', 'pcp', 'ZS')\n",
        "7.28339346902e-65"
       ]
      },
      {
       "output_type": "stream",
       "stream": "stdout",
       "text": [
        "\n",
        "('hard', 'img', 'KL')\n",
        "6.6409746247e-83"
       ]
      },
      {
       "output_type": "stream",
       "stream": "stdout",
       "text": [
        "\n",
        "('hard', 'img', 'RL')\n",
        "9.57895490203e-73"
       ]
      },
      {
       "output_type": "stream",
       "stream": "stdout",
       "text": [
        "\n",
        "('hard', 'img', 'ZS')\n",
        "1.09226268773e-68"
       ]
      },
      {
       "output_type": "stream",
       "stream": "stdout",
       "text": [
        "\n",
        "('hard', 'pcp', 'KL')\n",
        "1.38499269033e-84"
       ]
      },
      {
       "output_type": "stream",
       "stream": "stdout",
       "text": [
        "\n",
        "('hard', 'pcp', 'RL')\n",
        "2.2107163438e-95"
       ]
      },
      {
       "output_type": "stream",
       "stream": "stdout",
       "text": [
        "\n",
        "('hard', 'pcp', 'ZS')\n",
        "2.76575944392e-109"
       ]
      },
      {
       "output_type": "stream",
       "stream": "stdout",
       "text": [
        "\n",
        "6 0.0002 0.5000005 0.4999995\n",
        "('easy', 'img', 'KL')\n",
        "3.36538403104e-93"
       ]
      },
      {
       "output_type": "stream",
       "stream": "stdout",
       "text": [
        "\n",
        "('easy', 'img', 'RL')\n",
        "4.16945977299e-85"
       ]
      },
      {
       "output_type": "stream",
       "stream": "stdout",
       "text": [
        "\n",
        "('easy', 'img', 'ZS')\n",
        "2.51227587249e-98"
       ]
      },
      {
       "output_type": "stream",
       "stream": "stdout",
       "text": [
        "\n",
        "('easy', 'pcp', 'KL')\n",
        "5.3595360376e-99"
       ]
      },
      {
       "output_type": "stream",
       "stream": "stdout",
       "text": [
        "\n",
        "('easy', 'pcp', 'RL')\n",
        "3.0980338514e-95"
       ]
      },
      {
       "output_type": "stream",
       "stream": "stdout",
       "text": [
        "\n",
        "('easy', 'pcp', 'ZS')\n",
        "7.36015934509e-97"
       ]
      },
      {
       "output_type": "stream",
       "stream": "stdout",
       "text": [
        "\n",
        "('hard', 'img', 'KL')\n",
        "2.52716780577e-85"
       ]
      },
      {
       "output_type": "stream",
       "stream": "stdout",
       "text": [
        "\n",
        "('hard', 'img', 'RL')\n",
        "2.39617994226e-85"
       ]
      },
      {
       "output_type": "stream",
       "stream": "stdout",
       "text": [
        "\n",
        "('hard', 'img', 'ZS')\n",
        "1.92507161434e-98"
       ]
      },
      {
       "output_type": "stream",
       "stream": "stdout",
       "text": [
        "\n",
        "('hard', 'pcp', 'KL')\n",
        "2.15651553031e-86"
       ]
      },
      {
       "output_type": "stream",
       "stream": "stdout",
       "text": [
        "\n",
        "('hard', 'pcp', 'RL')\n",
        "7.89719416486e-86"
       ]
      },
      {
       "output_type": "stream",
       "stream": "stdout",
       "text": [
        "\n",
        "('hard', 'pcp', 'ZS')\n",
        "4.60026716777e-87"
       ]
      },
      {
       "output_type": "stream",
       "stream": "stdout",
       "text": [
        "\n",
        "6 0.0002 0.75000025 0.0\n",
        "('easy', 'img', 'KL')\n",
        "0.0"
       ]
      },
      {
       "output_type": "stream",
       "stream": "stdout",
       "text": [
        "\n",
        "('easy', 'img', 'RL')\n",
        "0.0"
       ]
      },
      {
       "output_type": "stream",
       "stream": "stdout",
       "text": [
        "\n",
        "('easy', 'img', 'ZS')\n",
        "0.0"
       ]
      },
      {
       "output_type": "stream",
       "stream": "stdout",
       "text": [
        "\n",
        "('easy', 'pcp', 'KL')\n",
        "0.0"
       ]
      },
      {
       "output_type": "stream",
       "stream": "stdout",
       "text": [
        "\n",
        "('easy', 'pcp', 'RL')\n",
        "0.0"
       ]
      },
      {
       "output_type": "stream",
       "stream": "stdout",
       "text": [
        "\n",
        "('easy', 'pcp', 'ZS')\n",
        "0.0"
       ]
      },
      {
       "output_type": "stream",
       "stream": "stdout",
       "text": [
        "\n",
        "('hard', 'img', 'KL')\n",
        "0.0"
       ]
      },
      {
       "output_type": "stream",
       "stream": "stdout",
       "text": [
        "\n",
        "('hard', 'img', 'RL')\n",
        "0.0"
       ]
      },
      {
       "output_type": "stream",
       "stream": "stdout",
       "text": [
        "\n",
        "('hard', 'img', 'ZS')\n",
        "0.0"
       ]
      },
      {
       "output_type": "stream",
       "stream": "stdout",
       "text": [
        "\n",
        "('hard', 'pcp', 'KL')\n",
        "0.0"
       ]
      },
      {
       "output_type": "stream",
       "stream": "stdout",
       "text": [
        "\n",
        "('hard', 'pcp', 'RL')\n",
        "0.0"
       ]
      },
      {
       "output_type": "stream",
       "stream": "stdout",
       "text": [
        "\n",
        "('hard', 'pcp', 'ZS')\n",
        "0.0"
       ]
      },
      {
       "output_type": "stream",
       "stream": "stdout",
       "text": [
        "\n",
        "6 0.0002 0.75000025 0.24999975\n",
        "('easy', 'img', 'KL')\n",
        "1.13538162072e-67"
       ]
      },
      {
       "output_type": "stream",
       "stream": "stdout",
       "text": [
        "\n",
        "('easy', 'img', 'RL')\n",
        "6.23802768903e-66"
       ]
      },
      {
       "output_type": "stream",
       "stream": "stdout",
       "text": [
        "\n",
        "('easy', 'img', 'ZS')\n",
        "8.71447940002e-71"
       ]
      },
      {
       "output_type": "stream",
       "stream": "stdout",
       "text": [
        "\n",
        "('easy', 'pcp', 'KL')\n",
        "7.51581617044e-71"
       ]
      },
      {
       "output_type": "stream",
       "stream": "stdout",
       "text": [
        "\n",
        "('easy', 'pcp', 'RL')\n",
        "8.46459777499e-71"
       ]
      },
      {
       "output_type": "stream",
       "stream": "stdout",
       "text": [
        "\n",
        "('easy', 'pcp', 'ZS')\n",
        "8.21731424078e-70"
       ]
      },
      {
       "output_type": "stream",
       "stream": "stdout",
       "text": [
        "\n",
        "('hard', 'img', 'KL')\n",
        "2.04878514418e-74"
       ]
      },
      {
       "output_type": "stream",
       "stream": "stdout",
       "text": [
        "\n",
        "('hard', 'img', 'RL')\n",
        "1.86986429497e-68"
       ]
      },
      {
       "output_type": "stream",
       "stream": "stdout",
       "text": [
        "\n",
        "('hard', 'img', 'ZS')\n",
        "6.02936386956e-72"
       ]
      },
      {
       "output_type": "stream",
       "stream": "stdout",
       "text": [
        "\n",
        "('hard', 'pcp', 'KL')\n",
        "6.69313801683e-76"
       ]
      },
      {
       "output_type": "stream",
       "stream": "stdout",
       "text": [
        "\n",
        "('hard', 'pcp', 'RL')\n",
        "4.95023070853e-82"
       ]
      },
      {
       "output_type": "stream",
       "stream": "stdout",
       "text": [
        "\n",
        "('hard', 'pcp', 'ZS')\n",
        "1.36038900086e-94"
       ]
      },
      {
       "output_type": "stream",
       "stream": "stdout",
       "text": [
        "\n",
        "6 0.0002 0.75000025 0.4999995\n",
        "('easy', 'img', 'KL')\n",
        "4.53688487293e-115"
       ]
      },
      {
       "output_type": "stream",
       "stream": "stdout",
       "text": [
        "\n",
        "('easy', 'img', 'RL')\n",
        "1.68902088848e-99"
       ]
      },
      {
       "output_type": "stream",
       "stream": "stdout",
       "text": [
        "\n",
        "('easy', 'img', 'ZS')\n",
        "5.29747270376e-123"
       ]
      },
      {
       "output_type": "stream",
       "stream": "stdout",
       "text": [
        "\n",
        "('easy', 'pcp', 'KL')\n",
        "1.23995595966e-123"
       ]
      },
      {
       "output_type": "stream",
       "stream": "stdout",
       "text": [
        "\n",
        "('easy', 'pcp', 'RL')\n",
        "7.88596137656e-116"
       ]
      },
      {
       "output_type": "stream",
       "stream": "stdout",
       "text": [
        "\n",
        "('easy', 'pcp', 'ZS')\n",
        "3.89128360684e-121"
       ]
      },
      {
       "output_type": "stream",
       "stream": "stdout",
       "text": [
        "\n",
        "('hard', 'img', 'KL')\n",
        "1.88917052276e-95"
       ]
      },
      {
       "output_type": "stream",
       "stream": "stdout",
       "text": [
        "\n",
        "('hard', 'img', 'RL')\n",
        "2.39093406417e-100"
       ]
      },
      {
       "output_type": "stream",
       "stream": "stdout",
       "text": [
        "\n",
        "('hard', 'img', 'ZS')\n",
        "8.87284191819e-121"
       ]
      },
      {
       "output_type": "stream",
       "stream": "stdout",
       "text": [
        "\n",
        "('hard', 'pcp', 'KL')\n",
        "3.35652972028e-96"
       ]
      },
      {
       "output_type": "stream",
       "stream": "stdout",
       "text": [
        "\n",
        "('hard', 'pcp', 'RL')\n",
        "1.62159625169e-90"
       ]
      },
      {
       "output_type": "stream",
       "stream": "stdout",
       "text": [
        "\n",
        "('hard', 'pcp', 'ZS')\n",
        "3.80171435943e-89"
       ]
      },
      {
       "output_type": "stream",
       "stream": "stdout",
       "text": [
        "\n",
        "6 0.0002 0.75000025 0.74999925\n",
        "('easy', 'img', 'KL')\n",
        "2.04993888369e-211"
       ]
      },
      {
       "output_type": "stream",
       "stream": "stdout",
       "text": [
        "\n",
        "('easy', 'img', 'RL')\n",
        "2.25077796214e-181"
       ]
      },
      {
       "output_type": "stream",
       "stream": "stdout",
       "text": [
        "\n",
        "('easy', 'img', 'ZS')\n",
        "1.18501504041e-224"
       ]
      },
      {
       "output_type": "stream",
       "stream": "stdout",
       "text": [
        "\n",
        "('easy', 'pcp', 'KL')\n",
        "8.42681457553e-226"
       ]
      },
      {
       "output_type": "stream",
       "stream": "stdout",
       "text": [
        "\n",
        "('easy', 'pcp', 'RL')\n",
        "4.12702306061e-210"
       ]
      },
      {
       "output_type": "stream",
       "stream": "stdout",
       "text": [
        "\n",
        "('easy', 'pcp', 'ZS')\n",
        "9.37357609204e-222"
       ]
      },
      {
       "output_type": "stream",
       "stream": "stdout",
       "text": [
        "\n",
        "('hard', 'img', 'KL')\n",
        "7.58342137684e-166"
       ]
      },
      {
       "output_type": "stream",
       "stream": "stdout",
       "text": [
        "\n",
        "('hard', 'img', 'RL')\n",
        "3.88053821298e-181"
       ]
      },
      {
       "output_type": "stream",
       "stream": "stdout",
       "text": [
        "\n",
        "('hard', 'img', 'ZS')\n",
        "4.82559558711e-219"
       ]
      },
      {
       "output_type": "stream",
       "stream": "stdout",
       "text": [
        "\n",
        "('hard', 'pcp', 'KL')\n",
        "5.82404849548e-166"
       ]
      },
      {
       "output_type": "stream",
       "stream": "stdout",
       "text": [
        "\n",
        "('hard', 'pcp', 'RL')\n",
        "1.06700182322e-148"
       ]
      },
      {
       "output_type": "stream",
       "stream": "stdout",
       "text": [
        "\n",
        "('hard', 'pcp', 'ZS')\n",
        "1.15167860352e-134"
       ]
      },
      {
       "output_type": "stream",
       "stream": "stdout",
       "text": [
        "\n",
        "6 0.0002 1.0 0.0\n",
        "('easy', 'img', 'KL')\n",
        "0.0"
       ]
      },
      {
       "output_type": "stream",
       "stream": "stdout",
       "text": [
        "\n",
        "('easy', 'img', 'RL')\n",
        "0.0"
       ]
      },
      {
       "output_type": "stream",
       "stream": "stdout",
       "text": [
        "\n",
        "('easy', 'img', 'ZS')\n",
        "0.0"
       ]
      },
      {
       "output_type": "stream",
       "stream": "stdout",
       "text": [
        "\n",
        "('easy', 'pcp', 'KL')\n",
        "0.0"
       ]
      },
      {
       "output_type": "stream",
       "stream": "stdout",
       "text": [
        "\n",
        "('easy', 'pcp', 'RL')\n",
        "0.0"
       ]
      },
      {
       "output_type": "stream",
       "stream": "stdout",
       "text": [
        "\n",
        "('easy', 'pcp', 'ZS')\n",
        "0.0"
       ]
      },
      {
       "output_type": "stream",
       "stream": "stdout",
       "text": [
        "\n",
        "('hard', 'img', 'KL')\n",
        "0.0"
       ]
      },
      {
       "output_type": "stream",
       "stream": "stdout",
       "text": [
        "\n",
        "('hard', 'img', 'RL')\n",
        "0.0"
       ]
      },
      {
       "output_type": "stream",
       "stream": "stdout",
       "text": [
        "\n",
        "('hard', 'img', 'ZS')\n",
        "0.0"
       ]
      },
      {
       "output_type": "stream",
       "stream": "stdout",
       "text": [
        "\n",
        "('hard', 'pcp', 'KL')\n",
        "0.0"
       ]
      },
      {
       "output_type": "stream",
       "stream": "stdout",
       "text": [
        "\n",
        "('hard', 'pcp', 'RL')\n",
        "0.0"
       ]
      },
      {
       "output_type": "stream",
       "stream": "stdout",
       "text": [
        "\n",
        "('hard', 'pcp', 'ZS')\n",
        "0.0"
       ]
      },
      {
       "output_type": "stream",
       "stream": "stdout",
       "text": [
        "\n",
        "6 0.0002 1.0 0.24999975\n",
        "('easy', 'img', 'KL')\n",
        "8.20953710414e-80"
       ]
      },
      {
       "output_type": "stream",
       "stream": "stdout",
       "text": [
        "\n",
        "('easy', 'img', 'RL')\n",
        "4.91712693936e-67"
       ]
      },
      {
       "output_type": "stream",
       "stream": "stdout",
       "text": [
        "\n",
        "('easy', 'img', 'ZS')\n",
        "5.68755227438e-87"
       ]
      },
      {
       "output_type": "stream",
       "stream": "stdout",
       "text": [
        "\n",
        "('easy', 'pcp', 'KL')\n",
        "2.64379169341e-87"
       ]
      },
      {
       "output_type": "stream",
       "stream": "stdout",
       "text": [
        "\n",
        "('easy', 'pcp', 'RL')\n",
        "1.35300358496e-82"
       ]
      },
      {
       "output_type": "stream",
       "stream": "stdout",
       "text": [
        "\n",
        "('easy', 'pcp', 'ZS')\n",
        "1.96754737261e-85"
       ]
      },
      {
       "output_type": "stream",
       "stream": "stdout",
       "text": [
        "\n",
        "('hard', 'img', 'KL')\n",
        "1.2019265315e-73"
       ]
      },
      {
       "output_type": "stream",
       "stream": "stdout",
       "text": [
        "\n",
        "('hard', 'img', 'RL')\n",
        "3.7075949558e-73"
       ]
      },
      {
       "output_type": "stream",
       "stream": "stdout",
       "text": [
        "\n",
        "('hard', 'img', 'ZS')\n",
        "1.85622700638e-85"
       ]
      },
      {
       "output_type": "stream",
       "stream": "stdout",
       "text": [
        "\n",
        "('hard', 'pcp', 'KL')\n",
        "3.10307555943e-75"
       ]
      },
      {
       "output_type": "stream",
       "stream": "stdout",
       "text": [
        "\n",
        "('hard', 'pcp', 'RL')\n",
        "1.63645780186e-75"
       ]
      },
      {
       "output_type": "stream",
       "stream": "stdout",
       "text": [
        "\n",
        "('hard', 'pcp', 'ZS')\n",
        "1.23827167863e-88"
       ]
      },
      {
       "output_type": "stream",
       "stream": "stdout",
       "text": [
        "\n",
        "6 0.0002 1.0 0.4999995\n",
        "('easy', 'img', 'KL')\n",
        "1.87533619581e-156"
       ]
      },
      {
       "output_type": "stream",
       "stream": "stdout",
       "text": [
        "\n",
        "('easy', 'img', 'RL')\n",
        "5.18973725317e-127"
       ]
      },
      {
       "output_type": "stream",
       "stream": "stdout",
       "text": [
        "\n",
        "('easy', 'img', 'ZS')\n",
        "1.54891312197e-169"
       ]
      },
      {
       "output_type": "stream",
       "stream": "stdout",
       "text": [
        "\n",
        "('easy', 'pcp', 'KL')\n",
        "1.21191358515e-170"
       ]
      },
      {
       "output_type": "stream",
       "stream": "stdout",
       "text": [
        "\n",
        "('easy', 'pcp', 'RL')\n",
        "2.71891352316e-156"
       ]
      },
      {
       "output_type": "stream",
       "stream": "stdout",
       "text": [
        "\n",
        "('easy', 'pcp', 'ZS')\n",
        "5.1127215805e-167"
       ]
      },
      {
       "output_type": "stream",
       "stream": "stdout",
       "text": [
        "\n",
        "('hard', 'img', 'KL')\n",
        "1.74724790428e-118"
       ]
      },
      {
       "output_type": "stream",
       "stream": "stdout",
       "text": [
        "\n",
        "('hard', 'img', 'RL')\n",
        "2.00223108089e-130"
       ]
      },
      {
       "output_type": "stream",
       "stream": "stdout",
       "text": [
        "\n",
        "('hard', 'img', 'ZS')\n",
        "8.77358793003e-164"
       ]
      },
      {
       "output_type": "stream",
       "stream": "stdout",
       "text": [
        "\n",
        "('hard', 'pcp', 'KL')\n",
        "2.58105315351e-119"
       ]
      },
      {
       "output_type": "stream",
       "stream": "stdout",
       "text": [
        "\n",
        "('hard', 'pcp', 'RL')\n",
        "1.09356629055e-105"
       ]
      },
      {
       "output_type": "stream",
       "stream": "stdout",
       "text": [
        "\n",
        "('hard', 'pcp', 'ZS')\n",
        "1.88739073058e-102"
       ]
      },
      {
       "output_type": "stream",
       "stream": "stdout",
       "text": [
        "\n",
        "6 0.0002 1.0 0.74999925\n",
        "('easy', 'img', 'KL')\n",
        "3.80870191843e-304"
       ]
      },
      {
       "output_type": "stream",
       "stream": "stdout",
       "text": [
        "\n",
        "('easy', 'img', 'RL')\n",
        "3.25874487492e-255"
       ]
      },
      {
       "output_type": "stream",
       "stream": "stdout",
       "text": [
        "\n",
        "('easy', 'img', 'ZS')\n",
        "0.0"
       ]
      },
      {
       "output_type": "stream",
       "stream": "stdout",
       "text": [
        "\n",
        "('easy', 'pcp', 'KL')\n",
        "0.0"
       ]
      },
      {
       "output_type": "stream",
       "stream": "stdout",
       "text": [
        "\n",
        "('easy', 'pcp', 'RL')\n",
        "6.08935127849e-301"
       ]
      },
      {
       "output_type": "stream",
       "stream": "stdout",
       "text": [
        "\n",
        "('easy', 'pcp', 'ZS')\n",
        "1.26233772512e-320"
       ]
      },
      {
       "output_type": "stream",
       "stream": "stdout",
       "text": [
        "\n",
        "('hard', 'img', 'KL')\n",
        "1.07550411021e-231"
       ]
      },
      {
       "output_type": "stream",
       "stream": "stdout",
       "text": [
        "\n",
        "('hard', 'img', 'RL')\n",
        "2.44817450519e-257"
       ]
      },
      {
       "output_type": "stream",
       "stream": "stdout",
       "text": [
        "\n",
        "('hard', 'img', 'ZS')\n",
        "8.92755829332e-314"
       ]
      },
      {
       "output_type": "stream",
       "stream": "stdout",
       "text": [
        "\n",
        "('hard', 'pcp', 'KL')\n",
        "1.66507136135e-231"
       ]
      },
      {
       "output_type": "stream",
       "stream": "stdout",
       "text": [
        "\n",
        "('hard', 'pcp', 'RL')\n",
        "1.1013881039e-202"
       ]
      },
      {
       "output_type": "stream",
       "stream": "stdout",
       "text": [
        "\n",
        "('hard', 'pcp', 'ZS')\n",
        "5.98971629078e-184"
       ]
      },
      {
       "output_type": "stream",
       "stream": "stdout",
       "text": [
        "\n",
        "6 0.0002 1.0 0.999999\n",
        "('easy', 'img', 'KL')\n",
        "0.0"
       ]
      },
      {
       "output_type": "stream",
       "stream": "stdout",
       "text": [
        "\n",
        "('easy', 'img', 'RL')\n",
        "0.0"
       ]
      },
      {
       "output_type": "stream",
       "stream": "stdout",
       "text": [
        "\n",
        "('easy', 'img', 'ZS')\n",
        "0.0"
       ]
      },
      {
       "output_type": "stream",
       "stream": "stdout",
       "text": [
        "\n",
        "('easy', 'pcp', 'KL')\n",
        "0.0"
       ]
      },
      {
       "output_type": "stream",
       "stream": "stdout",
       "text": [
        "\n",
        "('easy', 'pcp', 'RL')\n",
        "0.0"
       ]
      },
      {
       "output_type": "stream",
       "stream": "stdout",
       "text": [
        "\n",
        "('easy', 'pcp', 'ZS')\n",
        "0.0"
       ]
      },
      {
       "output_type": "stream",
       "stream": "stdout",
       "text": [
        "\n",
        "('hard', 'img', 'KL')\n",
        "0.0"
       ]
      },
      {
       "output_type": "stream",
       "stream": "stdout",
       "text": [
        "\n",
        "('hard', 'img', 'RL')\n",
        "0.0"
       ]
      },
      {
       "output_type": "stream",
       "stream": "stdout",
       "text": [
        "\n",
        "('hard', 'img', 'ZS')\n",
        "0.0"
       ]
      },
      {
       "output_type": "stream",
       "stream": "stdout",
       "text": [
        "\n",
        "('hard', 'pcp', 'KL')\n",
        "0.0"
       ]
      },
      {
       "output_type": "stream",
       "stream": "stdout",
       "text": [
        "\n",
        "('hard', 'pcp', 'RL')\n",
        "0.0"
       ]
      },
      {
       "output_type": "stream",
       "stream": "stdout",
       "text": [
        "\n",
        "('hard', 'pcp', 'ZS')\n",
        "0.0"
       ]
      },
      {
       "output_type": "stream",
       "stream": "stdout",
       "text": [
        "\n",
        "6 0.00025 1e-06 0.0\n",
        "('easy', 'img', 'KL')\n",
        "0.0"
       ]
      },
      {
       "output_type": "stream",
       "stream": "stdout",
       "text": [
        "\n",
        "('easy', 'img', 'RL')\n",
        "0.0"
       ]
      },
      {
       "output_type": "stream",
       "stream": "stdout",
       "text": [
        "\n",
        "('easy', 'img', 'ZS')\n",
        "0.0"
       ]
      },
      {
       "output_type": "stream",
       "stream": "stdout",
       "text": [
        "\n",
        "('easy', 'pcp', 'KL')\n",
        "0.0"
       ]
      },
      {
       "output_type": "stream",
       "stream": "stdout",
       "text": [
        "\n",
        "('easy', 'pcp', 'RL')\n",
        "0.0"
       ]
      },
      {
       "output_type": "stream",
       "stream": "stdout",
       "text": [
        "\n",
        "('easy', 'pcp', 'ZS')\n",
        "0.0"
       ]
      },
      {
       "output_type": "stream",
       "stream": "stdout",
       "text": [
        "\n",
        "('hard', 'img', 'KL')\n",
        "0.0"
       ]
      },
      {
       "output_type": "stream",
       "stream": "stdout",
       "text": [
        "\n",
        "('hard', 'img', 'RL')\n",
        "0.0"
       ]
      },
      {
       "output_type": "stream",
       "stream": "stdout",
       "text": [
        "\n",
        "('hard', 'img', 'ZS')\n",
        "0.0"
       ]
      },
      {
       "output_type": "stream",
       "stream": "stdout",
       "text": [
        "\n",
        "('hard', 'pcp', 'KL')\n",
        "0.0"
       ]
      },
      {
       "output_type": "stream",
       "stream": "stdout",
       "text": [
        "\n",
        "('hard', 'pcp', 'RL')\n",
        "0.0"
       ]
      },
      {
       "output_type": "stream",
       "stream": "stdout",
       "text": [
        "\n",
        "('hard', 'pcp', 'ZS')\n",
        "0.0"
       ]
      },
      {
       "output_type": "stream",
       "stream": "stdout",
       "text": [
        "\n",
        "6 0.00025 0.25000075 0.0\n",
        "('easy', 'img', 'KL')\n",
        "0.0"
       ]
      },
      {
       "output_type": "stream",
       "stream": "stdout",
       "text": [
        "\n",
        "('easy', 'img', 'RL')\n",
        "0.0"
       ]
      },
      {
       "output_type": "stream",
       "stream": "stdout",
       "text": [
        "\n",
        "('easy', 'img', 'ZS')\n",
        "0.0"
       ]
      },
      {
       "output_type": "stream",
       "stream": "stdout",
       "text": [
        "\n",
        "('easy', 'pcp', 'KL')\n",
        "0.0"
       ]
      },
      {
       "output_type": "stream",
       "stream": "stdout",
       "text": [
        "\n",
        "('easy', 'pcp', 'RL')\n",
        "0.0"
       ]
      },
      {
       "output_type": "stream",
       "stream": "stdout",
       "text": [
        "\n",
        "('easy', 'pcp', 'ZS')\n",
        "0.0"
       ]
      },
      {
       "output_type": "stream",
       "stream": "stdout",
       "text": [
        "\n",
        "('hard', 'img', 'KL')\n",
        "0.0"
       ]
      },
      {
       "output_type": "stream",
       "stream": "stdout",
       "text": [
        "\n",
        "('hard', 'img', 'RL')\n",
        "0.0"
       ]
      },
      {
       "output_type": "stream",
       "stream": "stdout",
       "text": [
        "\n",
        "('hard', 'img', 'ZS')\n",
        "0.0"
       ]
      },
      {
       "output_type": "stream",
       "stream": "stdout",
       "text": [
        "\n",
        "('hard', 'pcp', 'KL')\n",
        "0.0"
       ]
      },
      {
       "output_type": "stream",
       "stream": "stdout",
       "text": [
        "\n",
        "('hard', 'pcp', 'RL')\n",
        "0.0"
       ]
      },
      {
       "output_type": "stream",
       "stream": "stdout",
       "text": [
        "\n",
        "('hard', 'pcp', 'ZS')\n",
        "0.0"
       ]
      },
      {
       "output_type": "stream",
       "stream": "stdout",
       "text": [
        "\n",
        "6 0.00025 0.25000075 0.24999975\n",
        "('easy', 'img', 'KL')\n",
        "3.46159225004e-70"
       ]
      },
      {
       "output_type": "stream",
       "stream": "stdout",
       "text": [
        "\n",
        "('easy', 'img', 'RL')\n",
        "4.83913034626e-84"
       ]
      },
      {
       "output_type": "stream",
       "stream": "stdout",
       "text": [
        "\n",
        "('easy', 'img', 'ZS')\n",
        "3.33703916937e-67"
       ]
      },
      {
       "output_type": "stream",
       "stream": "stdout",
       "text": [
        "\n",
        "('easy', 'pcp', 'KL')\n",
        "2.13570861033e-67"
       ]
      },
      {
       "output_type": "stream",
       "stream": "stdout",
       "text": [
        "\n",
        "('easy', 'pcp', 'RL')\n",
        "1.45708374576e-75"
       ]
      },
      {
       "output_type": "stream",
       "stream": "stdout",
       "text": [
        "\n",
        "('easy', 'pcp', 'ZS')\n",
        "3.62091388818e-67"
       ]
      },
      {
       "output_type": "stream",
       "stream": "stdout",
       "text": [
        "\n",
        "('hard', 'img', 'KL')\n",
        "5.27640989051e-100"
       ]
      },
      {
       "output_type": "stream",
       "stream": "stdout",
       "text": [
        "\n",
        "('hard', 'img', 'RL')\n",
        "9.27010927154e-85"
       ]
      },
      {
       "output_type": "stream",
       "stream": "stdout",
       "text": [
        "\n",
        "('hard', 'img', 'ZS')\n",
        "4.81163423223e-73"
       ]
      },
      {
       "output_type": "stream",
       "stream": "stdout",
       "text": [
        "\n",
        "('hard', 'pcp', 'KL')\n",
        "5.00285777739e-102"
       ]
      },
      {
       "output_type": "stream",
       "stream": "stdout",
       "text": [
        "\n",
        "('hard', 'pcp', 'RL')\n",
        "3.66198029017e-118"
       ]
      },
      {
       "output_type": "stream",
       "stream": "stdout",
       "text": [
        "\n",
        "('hard', 'pcp', 'ZS')\n",
        "1.15122115384e-134"
       ]
      },
      {
       "output_type": "stream",
       "stream": "stdout",
       "text": [
        "\n",
        "6 0.00025 0.5000005 0.0\n",
        "('easy', 'img', 'KL')\n",
        "0.0"
       ]
      },
      {
       "output_type": "stream",
       "stream": "stdout",
       "text": [
        "\n",
        "('easy', 'img', 'RL')\n",
        "0.0"
       ]
      },
      {
       "output_type": "stream",
       "stream": "stdout",
       "text": [
        "\n",
        "('easy', 'img', 'ZS')\n",
        "0.0"
       ]
      },
      {
       "output_type": "stream",
       "stream": "stdout",
       "text": [
        "\n",
        "('easy', 'pcp', 'KL')\n",
        "0.0"
       ]
      },
      {
       "output_type": "stream",
       "stream": "stdout",
       "text": [
        "\n",
        "('easy', 'pcp', 'RL')\n",
        "0.0"
       ]
      },
      {
       "output_type": "stream",
       "stream": "stdout",
       "text": [
        "\n",
        "('easy', 'pcp', 'ZS')\n",
        "0.0"
       ]
      },
      {
       "output_type": "stream",
       "stream": "stdout",
       "text": [
        "\n",
        "('hard', 'img', 'KL')\n",
        "0.0"
       ]
      },
      {
       "output_type": "stream",
       "stream": "stdout",
       "text": [
        "\n",
        "('hard', 'img', 'RL')\n",
        "0.0"
       ]
      },
      {
       "output_type": "stream",
       "stream": "stdout",
       "text": [
        "\n",
        "('hard', 'img', 'ZS')\n",
        "0.0"
       ]
      },
      {
       "output_type": "stream",
       "stream": "stdout",
       "text": [
        "\n",
        "('hard', 'pcp', 'KL')\n",
        "0.0"
       ]
      },
      {
       "output_type": "stream",
       "stream": "stdout",
       "text": [
        "\n",
        "('hard', 'pcp', 'RL')\n",
        "0.0"
       ]
      },
      {
       "output_type": "stream",
       "stream": "stdout",
       "text": [
        "\n",
        "('hard', 'pcp', 'ZS')\n",
        "0.0"
       ]
      },
      {
       "output_type": "stream",
       "stream": "stdout",
       "text": [
        "\n",
        "6 0.00025 0.5000005 0.24999975\n",
        "('easy', 'img', 'KL')\n",
        "1.53387089131e-65"
       ]
      },
      {
       "output_type": "stream",
       "stream": "stdout",
       "text": [
        "\n",
        "('easy', 'img', 'RL')\n",
        "3.58853828755e-71"
       ]
      },
      {
       "output_type": "stream",
       "stream": "stdout",
       "text": [
        "\n",
        "('easy', 'img', 'ZS')\n",
        "1.27172091071e-65"
       ]
      },
      {
       "output_type": "stream",
       "stream": "stdout",
       "text": [
        "\n",
        "('easy', 'pcp', 'KL')\n",
        "8.37340148568e-66"
       ]
      },
      {
       "output_type": "stream",
       "stream": "stdout",
       "text": [
        "\n",
        "('easy', 'pcp', 'RL')\n",
        "4.31425542726e-69"
       ]
      },
      {
       "output_type": "stream",
       "stream": "stdout",
       "text": [
        "\n",
        "('easy', 'pcp', 'ZS')\n",
        "2.79260990238e-65"
       ]
      },
      {
       "output_type": "stream",
       "stream": "stdout",
       "text": [
        "\n",
        "('hard', 'img', 'KL')\n",
        "4.6460955571e-82"
       ]
      },
      {
       "output_type": "stream",
       "stream": "stdout",
       "text": [
        "\n",
        "('hard', 'img', 'RL')\n",
        "9.91986504644e-73"
       ]
      },
      {
       "output_type": "stream",
       "stream": "stdout",
       "text": [
        "\n",
        "('hard', 'img', 'ZS')\n",
        "5.31022056374e-69"
       ]
      },
      {
       "output_type": "stream",
       "stream": "stdout",
       "text": [
        "\n",
        "('hard', 'pcp', 'KL')\n",
        "3.63621609992e-83"
       ]
      },
      {
       "output_type": "stream",
       "stream": "stdout",
       "text": [
        "\n",
        "('hard', 'pcp', 'RL')\n",
        "8.4040957869e-93"
       ]
      },
      {
       "output_type": "stream",
       "stream": "stdout",
       "text": [
        "\n",
        "('hard', 'pcp', 'ZS')\n",
        "9.46806647658e-107"
       ]
      },
      {
       "output_type": "stream",
       "stream": "stdout",
       "text": [
        "\n",
        "6 0.00025 0.5000005 0.4999995\n",
        "('easy', 'img', 'KL')\n",
        "3.36533246874e-93"
       ]
      },
      {
       "output_type": "stream",
       "stream": "stdout",
       "text": [
        "\n",
        "('easy', 'img', 'RL')\n",
        "4.16940907066e-85"
       ]
      },
      {
       "output_type": "stream",
       "stream": "stdout",
       "text": [
        "\n",
        "('easy', 'img', 'ZS')\n",
        "2.51223509361e-98"
       ]
      },
      {
       "output_type": "stream",
       "stream": "stdout",
       "text": [
        "\n",
        "('easy', 'pcp', 'KL')\n",
        "5.35944689201e-99"
       ]
      },
      {
       "output_type": "stream",
       "stream": "stdout",
       "text": [
        "\n",
        "('easy', 'pcp', 'RL')\n",
        "3.09799751669e-95"
       ]
      },
      {
       "output_type": "stream",
       "stream": "stdout",
       "text": [
        "\n",
        "('easy', 'pcp', 'ZS')\n",
        "7.36003351556e-97"
       ]
      },
      {
       "output_type": "stream",
       "stream": "stdout",
       "text": [
        "\n",
        "('hard', 'img', 'KL')\n",
        "2.52714408664e-85"
       ]
      },
      {
       "output_type": "stream",
       "stream": "stdout",
       "text": [
        "\n",
        "('hard', 'img', 'RL')\n",
        "2.39614218078e-85"
       ]
      },
      {
       "output_type": "stream",
       "stream": "stdout",
       "text": [
        "\n",
        "('hard', 'img', 'ZS')\n",
        "1.92503637535e-98"
       ]
      },
      {
       "output_type": "stream",
       "stream": "stdout",
       "text": [
        "\n",
        "('hard', 'pcp', 'KL')\n",
        "2.15650474779e-86"
       ]
      },
      {
       "output_type": "stream",
       "stream": "stdout",
       "text": [
        "\n",
        "('hard', 'pcp', 'RL')\n",
        "7.89722236446e-86"
       ]
      },
      {
       "output_type": "stream",
       "stream": "stdout",
       "text": [
        "\n",
        "('hard', 'pcp', 'ZS')\n",
        "4.6002825159e-87"
       ]
      },
      {
       "output_type": "stream",
       "stream": "stdout",
       "text": [
        "\n",
        "6 0.00025 0.75000025 0.0\n",
        "('easy', 'img', 'KL')\n",
        "0.0"
       ]
      },
      {
       "output_type": "stream",
       "stream": "stdout",
       "text": [
        "\n",
        "('easy', 'img', 'RL')\n",
        "0.0"
       ]
      },
      {
       "output_type": "stream",
       "stream": "stdout",
       "text": [
        "\n",
        "('easy', 'img', 'ZS')\n",
        "0.0"
       ]
      },
      {
       "output_type": "stream",
       "stream": "stdout",
       "text": [
        "\n",
        "('easy', 'pcp', 'KL')\n",
        "0.0"
       ]
      },
      {
       "output_type": "stream",
       "stream": "stdout",
       "text": [
        "\n",
        "('easy', 'pcp', 'RL')\n",
        "0.0"
       ]
      },
      {
       "output_type": "stream",
       "stream": "stdout",
       "text": [
        "\n",
        "('easy', 'pcp', 'ZS')\n",
        "0.0"
       ]
      },
      {
       "output_type": "stream",
       "stream": "stdout",
       "text": [
        "\n",
        "('hard', 'img', 'KL')\n",
        "0.0"
       ]
      },
      {
       "output_type": "stream",
       "stream": "stdout",
       "text": [
        "\n",
        "('hard', 'img', 'RL')\n",
        "0.0"
       ]
      },
      {
       "output_type": "stream",
       "stream": "stdout",
       "text": [
        "\n",
        "('hard', 'img', 'ZS')\n",
        "0.0"
       ]
      },
      {
       "output_type": "stream",
       "stream": "stdout",
       "text": [
        "\n",
        "('hard', 'pcp', 'KL')\n",
        "0.0"
       ]
      },
      {
       "output_type": "stream",
       "stream": "stdout",
       "text": [
        "\n",
        "('hard', 'pcp', 'RL')\n",
        "0.0"
       ]
      },
      {
       "output_type": "stream",
       "stream": "stdout",
       "text": [
        "\n",
        "('hard', 'pcp', 'ZS')\n",
        "0.0"
       ]
      },
      {
       "output_type": "stream",
       "stream": "stdout",
       "text": [
        "\n",
        "6 0.00025 0.75000025 0.24999975\n",
        "('easy', 'img', 'KL')\n",
        "3.48477164289e-70"
       ]
      },
      {
       "output_type": "stream",
       "stream": "stdout",
       "text": [
        "\n",
        "('easy', 'img', 'RL')\n",
        "9.69318193007e-68"
       ]
      },
      {
       "output_type": "stream",
       "stream": "stdout",
       "text": [
        "\n",
        "('easy', 'img', 'ZS')\n",
        "1.81121567818e-73"
       ]
      },
      {
       "output_type": "stream",
       "stream": "stdout",
       "text": [
        "\n",
        "('easy', 'pcp', 'KL')\n",
        "1.5639876608e-73"
       ]
      },
      {
       "output_type": "stream",
       "stream": "stdout",
       "text": [
        "\n",
        "('easy', 'pcp', 'RL')\n",
        "3.76201133083e-72"
       ]
      },
      {
       "output_type": "stream",
       "stream": "stdout",
       "text": [
        "\n",
        "('easy', 'pcp', 'ZS')\n",
        "1.22344030784e-72"
       ]
      },
      {
       "output_type": "stream",
       "stream": "stdout",
       "text": [
        "\n",
        "('hard', 'img', 'KL')\n",
        "9.07289343599e-75"
       ]
      },
      {
       "output_type": "stream",
       "stream": "stdout",
       "text": [
        "\n",
        "('hard', 'img', 'RL')\n",
        "1.60633981972e-70"
       ]
      },
      {
       "output_type": "stream",
       "stream": "stdout",
       "text": [
        "\n",
        "('hard', 'img', 'ZS')\n",
        "1.14263421532e-74"
       ]
      },
      {
       "output_type": "stream",
       "stream": "stdout",
       "text": [
        "\n",
        "('hard', 'pcp', 'KL')\n",
        "4.09391119301e-75"
       ]
      },
      {
       "output_type": "stream",
       "stream": "stdout",
       "text": [
        "\n",
        "('hard', 'pcp', 'RL')\n",
        "8.52507730241e-79"
       ]
      },
      {
       "output_type": "stream",
       "stream": "stdout",
       "text": [
        "\n",
        "('hard', 'pcp', 'ZS')\n",
        "1.69431623654e-91"
       ]
      },
      {
       "output_type": "stream",
       "stream": "stdout",
       "text": [
        "\n",
        "6 0.00025 0.75000025 0.4999995\n",
        "('easy', 'img', 'KL')\n",
        "1.01953869942e-117"
       ]
      },
      {
       "output_type": "stream",
       "stream": "stdout",
       "text": [
        "\n",
        "('easy', 'img', 'RL')\n",
        "8.02231649832e-102"
       ]
      },
      {
       "output_type": "stream",
       "stream": "stdout",
       "text": [
        "\n",
        "('easy', 'img', 'ZS')\n",
        "9.70710096328e-126"
       ]
      },
      {
       "output_type": "stream",
       "stream": "stdout",
       "text": [
        "\n",
        "('easy', 'pcp', 'KL')\n",
        "2.14652410341e-126"
       ]
      },
      {
       "output_type": "stream",
       "stream": "stdout",
       "text": [
        "\n",
        "('easy', 'pcp', 'RL')\n",
        "4.71902061887e-118"
       ]
      },
      {
       "output_type": "stream",
       "stream": "stdout",
       "text": [
        "\n",
        "('easy', 'pcp', 'ZS')\n",
        "5.9633551202e-124"
       ]
      },
      {
       "output_type": "stream",
       "stream": "stdout",
       "text": [
        "\n",
        "('hard', 'img', 'KL')\n",
        "1.72795303793e-97"
       ]
      },
      {
       "output_type": "stream",
       "stream": "stdout",
       "text": [
        "\n",
        "('hard', 'img', 'RL')\n",
        "4.45747020521e-103"
       ]
      },
      {
       "output_type": "stream",
       "stream": "stdout",
       "text": [
        "\n",
        "('hard', 'img', 'ZS')\n",
        "8.45847390306e-124"
       ]
      },
      {
       "output_type": "stream",
       "stream": "stdout",
       "text": [
        "\n",
        "('hard', 'pcp', 'KL')\n",
        "9.6062916048e-98"
       ]
      },
      {
       "output_type": "stream",
       "stream": "stdout",
       "text": [
        "\n",
        "('hard', 'pcp', 'RL')\n",
        "4.76672172367e-91"
       ]
      },
      {
       "output_type": "stream",
       "stream": "stdout",
       "text": [
        "\n",
        "('hard', 'pcp', 'ZS')\n",
        "1.04856621467e-89"
       ]
      },
      {
       "output_type": "stream",
       "stream": "stdout",
       "text": [
        "\n",
        "6 0.00025 0.75000025 0.74999925\n",
        "('easy', 'img', 'KL')\n",
        "2.04983729284e-211"
       ]
      },
      {
       "output_type": "stream",
       "stream": "stdout",
       "text": [
        "\n",
        "('easy', 'img', 'RL')\n",
        "2.25067590394e-181"
       ]
      },
      {
       "output_type": "stream",
       "stream": "stdout",
       "text": [
        "\n",
        "('easy', 'img', 'ZS')\n",
        "1.18495487492e-224"
       ]
      },
      {
       "output_type": "stream",
       "stream": "stdout",
       "text": [
        "\n",
        "('easy', 'pcp', 'KL')\n",
        "8.42638222203e-226"
       ]
      },
      {
       "output_type": "stream",
       "stream": "stdout",
       "text": [
        "\n",
        "('easy', 'pcp', 'RL')\n",
        "4.12683830446e-210"
       ]
      },
      {
       "output_type": "stream",
       "stream": "stdout",
       "text": [
        "\n",
        "('easy', 'pcp', 'ZS')\n",
        "9.37308937732e-222"
       ]
      },
      {
       "output_type": "stream",
       "stream": "stdout",
       "text": [
        "\n",
        "('hard', 'img', 'KL')\n",
        "7.58308114773e-166"
       ]
      },
      {
       "output_type": "stream",
       "stream": "stdout",
       "text": [
        "\n",
        "('hard', 'img', 'RL')\n",
        "3.88033113827e-181"
       ]
      },
      {
       "output_type": "stream",
       "stream": "stdout",
       "text": [
        "\n",
        "('hard', 'img', 'ZS')\n",
        "4.82532169964e-219"
       ]
      },
      {
       "output_type": "stream",
       "stream": "stdout",
       "text": [
        "\n",
        "('hard', 'pcp', 'KL')\n",
        "5.82382125575e-166"
       ]
      },
      {
       "output_type": "stream",
       "stream": "stdout",
       "text": [
        "\n",
        "('hard', 'pcp', 'RL')\n",
        "1.0669723845e-148"
       ]
      },
      {
       "output_type": "stream",
       "stream": "stdout",
       "text": [
        "\n",
        "('hard', 'pcp', 'ZS')\n",
        "1.15164646851e-134"
       ]
      },
      {
       "output_type": "stream",
       "stream": "stdout",
       "text": [
        "\n",
        "6 0.00025 1.0 0.0\n",
        "('easy', 'img', 'KL')\n",
        "0.0"
       ]
      },
      {
       "output_type": "stream",
       "stream": "stdout",
       "text": [
        "\n",
        "('easy', 'img', 'RL')\n",
        "0.0"
       ]
      },
      {
       "output_type": "stream",
       "stream": "stdout",
       "text": [
        "\n",
        "('easy', 'img', 'ZS')\n",
        "0.0"
       ]
      },
      {
       "output_type": "stream",
       "stream": "stdout",
       "text": [
        "\n",
        "('easy', 'pcp', 'KL')\n",
        "0.0"
       ]
      },
      {
       "output_type": "stream",
       "stream": "stdout",
       "text": [
        "\n",
        "('easy', 'pcp', 'RL')\n",
        "0.0"
       ]
      },
      {
       "output_type": "stream",
       "stream": "stdout",
       "text": [
        "\n",
        "('easy', 'pcp', 'ZS')\n",
        "0.0"
       ]
      },
      {
       "output_type": "stream",
       "stream": "stdout",
       "text": [
        "\n",
        "('hard', 'img', 'KL')\n",
        "0.0"
       ]
      },
      {
       "output_type": "stream",
       "stream": "stdout",
       "text": [
        "\n",
        "('hard', 'img', 'RL')\n",
        "0.0"
       ]
      },
      {
       "output_type": "stream",
       "stream": "stdout",
       "text": [
        "\n",
        "('hard', 'img', 'ZS')\n",
        "0.0"
       ]
      },
      {
       "output_type": "stream",
       "stream": "stdout",
       "text": [
        "\n",
        "('hard', 'pcp', 'KL')\n",
        "0.0"
       ]
      },
      {
       "output_type": "stream",
       "stream": "stdout",
       "text": [
        "\n",
        "('hard', 'pcp', 'RL')\n",
        "0.0"
       ]
      },
      {
       "output_type": "stream",
       "stream": "stdout",
       "text": [
        "\n",
        "('hard', 'pcp', 'ZS')\n",
        "0.0"
       ]
      },
      {
       "output_type": "stream",
       "stream": "stdout",
       "text": [
        "\n",
        "6 0.00025 1.0 0.24999975\n",
        "('easy', 'img', 'KL')\n",
        "1.89598230465e-86"
       ]
      },
      {
       "output_type": "stream",
       "stream": "stdout",
       "text": [
        "\n",
        "('easy', 'img', 'RL')\n",
        "2.30079282927e-73"
       ]
      },
      {
       "output_type": "stream",
       "stream": "stdout",
       "text": [
        "\n",
        "('easy', 'img', 'ZS')\n",
        "5.23763719594e-94"
       ]
      },
      {
       "output_type": "stream",
       "stream": "stdout",
       "text": [
        "\n",
        "('easy', 'pcp', 'KL')\n",
        "1.51157348013e-93"
       ]
      },
      {
       "output_type": "stream",
       "stream": "stdout",
       "text": [
        "\n",
        "('easy', 'pcp', 'RL')\n",
        "2.60075387607e-87"
       ]
      },
      {
       "output_type": "stream",
       "stream": "stdout",
       "text": [
        "\n",
        "('easy', 'pcp', 'ZS')\n",
        "5.31047626799e-92"
       ]
      },
      {
       "output_type": "stream",
       "stream": "stdout",
       "text": [
        "\n",
        "('hard', 'img', 'KL')\n",
        "1.77951146638e-77"
       ]
      },
      {
       "output_type": "stream",
       "stream": "stdout",
       "text": [
        "\n",
        "('hard', 'img', 'RL')\n",
        "9.80616768877e-79"
       ]
      },
      {
       "output_type": "stream",
       "stream": "stdout",
       "text": [
        "\n",
        "('hard', 'img', 'ZS')\n",
        "1.26505326135e-92"
       ]
      },
      {
       "output_type": "stream",
       "stream": "stdout",
       "text": [
        "\n",
        "('hard', 'pcp', 'KL')\n",
        "3.66353729231e-77"
       ]
      },
      {
       "output_type": "stream",
       "stream": "stdout",
       "text": [
        "\n",
        "('hard', 'pcp', 'RL')\n",
        "3.90538885152e-73"
       ]
      },
      {
       "output_type": "stream",
       "stream": "stdout",
       "text": [
        "\n",
        "('hard', 'pcp', 'ZS')\n",
        "1.45629156606e-86"
       ]
      },
      {
       "output_type": "stream",
       "stream": "stdout",
       "text": [
        "\n",
        "6 0.00025 1.0 0.4999995\n",
        "('easy', 'img', 'KL')\n",
        "4.34917579881e-164"
       ]
      },
      {
       "output_type": "stream",
       "stream": "stdout",
       "text": [
        "\n",
        "('easy', 'img', 'RL')\n",
        "2.26488255874e-134"
       ]
      },
      {
       "output_type": "stream",
       "stream": "stdout",
       "text": [
        "\n",
        "('easy', 'img', 'ZS')\n",
        "2.67315232494e-177"
       ]
      },
      {
       "output_type": "stream",
       "stream": "stdout",
       "text": [
        "\n",
        "('easy', 'pcp', 'KL')\n",
        "4.68124063573e-178"
       ]
      },
      {
       "output_type": "stream",
       "stream": "stdout",
       "text": [
        "\n",
        "('easy', 'pcp', 'RL')\n",
        "5.49543550237e-163"
       ]
      },
      {
       "output_type": "stream",
       "stream": "stdout",
       "text": [
        "\n",
        "('easy', 'pcp', 'ZS')\n",
        "1.48377633552e-174"
       ]
      },
      {
       "output_type": "stream",
       "stream": "stdout",
       "text": [
        "\n",
        "('hard', 'img', 'KL')\n",
        "1.68034030698e-125"
       ]
      },
      {
       "output_type": "stream",
       "stream": "stdout",
       "text": [
        "\n",
        "('hard', 'img', 'RL')\n",
        "4.64056313305e-138"
       ]
      },
      {
       "output_type": "stream",
       "stream": "stdout",
       "text": [
        "\n",
        "('hard', 'img', 'ZS')\n",
        "2.89895274039e-172"
       ]
      },
      {
       "output_type": "stream",
       "stream": "stdout",
       "text": [
        "\n",
        "('hard', 'pcp', 'KL')\n",
        "3.36421476011e-125"
       ]
      },
      {
       "output_type": "stream",
       "stream": "stdout",
       "text": [
        "\n",
        "('hard', 'pcp', 'RL')\n",
        "3.26846411006e-109"
       ]
      },
      {
       "output_type": "stream",
       "stream": "stdout",
       "text": [
        "\n",
        "('hard', 'pcp', 'ZS')\n",
        "4.94537553346e-106"
       ]
      },
      {
       "output_type": "stream",
       "stream": "stdout",
       "text": [
        "\n",
        "6 0.00025 1.0 0.74999925\n",
        "('easy', 'img', 'KL')\n",
        "3.50630918139e-312"
       ]
      },
      {
       "output_type": "stream",
       "stream": "stdout",
       "text": [
        "\n",
        "('easy', 'img', 'RL')\n",
        "4.61541468076e-263"
       ]
      },
      {
       "output_type": "stream",
       "stream": "stdout",
       "text": [
        "\n",
        "('easy', 'img', 'ZS')\n",
        "0.0"
       ]
      },
      {
       "output_type": "stream",
       "stream": "stdout",
       "text": [
        "\n",
        "('easy', 'pcp', 'KL')\n",
        "0.0"
       ]
      },
      {
       "output_type": "stream",
       "stream": "stdout",
       "text": [
        "\n",
        "('easy', 'pcp', 'RL')\n",
        "1.8437537198e-308"
       ]
      },
      {
       "output_type": "stream",
       "stream": "stdout",
       "text": [
        "\n",
        "('easy', 'pcp', 'ZS')\n",
        "0.0"
       ]
      },
      {
       "output_type": "stream",
       "stream": "stdout",
       "text": [
        "\n",
        "('hard', 'img', 'KL')\n",
        "7.59406150744e-240"
       ]
      },
      {
       "output_type": "stream",
       "stream": "stdout",
       "text": [
        "\n",
        "('hard', 'img', 'RL')\n",
        "9.42369857363e-266"
       ]
      },
      {
       "output_type": "stream",
       "stream": "stdout",
       "text": [
        "\n",
        "('hard', 'img', 'ZS')\n",
        "1.13635098543e-322"
       ]
      },
      {
       "output_type": "stream",
       "stream": "stdout",
       "text": [
        "\n",
        "('hard', 'pcp', 'KL')\n",
        "6.01152850365e-239"
       ]
      },
      {
       "output_type": "stream",
       "stream": "stdout",
       "text": [
        "\n",
        "('hard', 'pcp', 'RL')\n",
        "1.15047792773e-208"
       ]
      },
      {
       "output_type": "stream",
       "stream": "stdout",
       "text": [
        "\n",
        "('hard', 'pcp', 'ZS')\n",
        "6.20138191451e-190"
       ]
      },
      {
       "output_type": "stream",
       "stream": "stdout",
       "text": [
        "\n",
        "6 0.00025 1.0 0.999999\n",
        "('easy', 'img', 'KL')\n",
        "0.0"
       ]
      },
      {
       "output_type": "stream",
       "stream": "stdout",
       "text": [
        "\n",
        "('easy', 'img', 'RL')\n",
        "0.0"
       ]
      },
      {
       "output_type": "stream",
       "stream": "stdout",
       "text": [
        "\n",
        "('easy', 'img', 'ZS')\n",
        "0.0"
       ]
      },
      {
       "output_type": "stream",
       "stream": "stdout",
       "text": [
        "\n",
        "('easy', 'pcp', 'KL')\n",
        "0.0"
       ]
      },
      {
       "output_type": "stream",
       "stream": "stdout",
       "text": [
        "\n",
        "('easy', 'pcp', 'RL')\n",
        "0.0"
       ]
      },
      {
       "output_type": "stream",
       "stream": "stdout",
       "text": [
        "\n",
        "('easy', 'pcp', 'ZS')\n",
        "0.0"
       ]
      },
      {
       "output_type": "stream",
       "stream": "stdout",
       "text": [
        "\n",
        "('hard', 'img', 'KL')\n",
        "0.0"
       ]
      },
      {
       "output_type": "stream",
       "stream": "stdout",
       "text": [
        "\n",
        "('hard', 'img', 'RL')\n",
        "0.0"
       ]
      },
      {
       "output_type": "stream",
       "stream": "stdout",
       "text": [
        "\n",
        "('hard', 'img', 'ZS')\n",
        "0.0"
       ]
      },
      {
       "output_type": "stream",
       "stream": "stdout",
       "text": [
        "\n",
        "('hard', 'pcp', 'KL')\n",
        "0.0"
       ]
      },
      {
       "output_type": "stream",
       "stream": "stdout",
       "text": [
        "\n",
        "('hard', 'pcp', 'RL')\n",
        "0.0"
       ]
      },
      {
       "output_type": "stream",
       "stream": "stdout",
       "text": [
        "\n",
        "('hard', 'pcp', 'ZS')\n",
        "0.0"
       ]
      },
      {
       "output_type": "stream",
       "stream": "stdout",
       "text": [
        "\n",
        "6 0.0003 1e-06 0.0\n",
        "('easy', 'img', 'KL')\n",
        "0.0"
       ]
      },
      {
       "output_type": "stream",
       "stream": "stdout",
       "text": [
        "\n",
        "('easy', 'img', 'RL')\n",
        "0.0"
       ]
      },
      {
       "output_type": "stream",
       "stream": "stdout",
       "text": [
        "\n",
        "('easy', 'img', 'ZS')\n",
        "0.0"
       ]
      },
      {
       "output_type": "stream",
       "stream": "stdout",
       "text": [
        "\n",
        "('easy', 'pcp', 'KL')\n",
        "0.0"
       ]
      },
      {
       "output_type": "stream",
       "stream": "stdout",
       "text": [
        "\n",
        "('easy', 'pcp', 'RL')\n",
        "0.0"
       ]
      },
      {
       "output_type": "stream",
       "stream": "stdout",
       "text": [
        "\n",
        "('easy', 'pcp', 'ZS')\n",
        "0.0"
       ]
      },
      {
       "output_type": "stream",
       "stream": "stdout",
       "text": [
        "\n",
        "('hard', 'img', 'KL')\n",
        "0.0"
       ]
      },
      {
       "output_type": "stream",
       "stream": "stdout",
       "text": [
        "\n",
        "('hard', 'img', 'RL')\n",
        "0.0"
       ]
      },
      {
       "output_type": "stream",
       "stream": "stdout",
       "text": [
        "\n",
        "('hard', 'img', 'ZS')\n",
        "0.0"
       ]
      },
      {
       "output_type": "stream",
       "stream": "stdout",
       "text": [
        "\n",
        "('hard', 'pcp', 'KL')\n",
        "0.0"
       ]
      },
      {
       "output_type": "stream",
       "stream": "stdout",
       "text": [
        "\n",
        "('hard', 'pcp', 'RL')\n",
        "0.0"
       ]
      },
      {
       "output_type": "stream",
       "stream": "stdout",
       "text": [
        "\n",
        "('hard', 'pcp', 'ZS')\n",
        "0.0"
       ]
      },
      {
       "output_type": "stream",
       "stream": "stdout",
       "text": [
        "\n",
        "6 0.0003 0.25000075 0.0\n",
        "('easy', 'img', 'KL')\n",
        "0.0"
       ]
      },
      {
       "output_type": "stream",
       "stream": "stdout",
       "text": [
        "\n",
        "('easy', 'img', 'RL')\n",
        "0.0"
       ]
      },
      {
       "output_type": "stream",
       "stream": "stdout",
       "text": [
        "\n",
        "('easy', 'img', 'ZS')\n",
        "0.0"
       ]
      },
      {
       "output_type": "stream",
       "stream": "stdout",
       "text": [
        "\n",
        "('easy', 'pcp', 'KL')\n",
        "0.0"
       ]
      },
      {
       "output_type": "stream",
       "stream": "stdout",
       "text": [
        "\n",
        "('easy', 'pcp', 'RL')\n",
        "0.0"
       ]
      },
      {
       "output_type": "stream",
       "stream": "stdout",
       "text": [
        "\n",
        "('easy', 'pcp', 'ZS')\n",
        "0.0"
       ]
      },
      {
       "output_type": "stream",
       "stream": "stdout",
       "text": [
        "\n",
        "('hard', 'img', 'KL')\n",
        "0.0"
       ]
      },
      {
       "output_type": "stream",
       "stream": "stdout",
       "text": [
        "\n",
        "('hard', 'img', 'RL')\n",
        "0.0"
       ]
      },
      {
       "output_type": "stream",
       "stream": "stdout",
       "text": [
        "\n",
        "('hard', 'img', 'ZS')\n",
        "0.0"
       ]
      },
      {
       "output_type": "stream",
       "stream": "stdout",
       "text": [
        "\n",
        "('hard', 'pcp', 'KL')\n",
        "0.0"
       ]
      },
      {
       "output_type": "stream",
       "stream": "stdout",
       "text": [
        "\n",
        "('hard', 'pcp', 'RL')\n",
        "0.0"
       ]
      },
      {
       "output_type": "stream",
       "stream": "stdout",
       "text": [
        "\n",
        "('hard', 'pcp', 'ZS')\n",
        "0.0"
       ]
      },
      {
       "output_type": "stream",
       "stream": "stdout",
       "text": [
        "\n",
        "6 0.0003 0.25000075 0.24999975\n",
        "('easy', 'img', 'KL')\n",
        "3.46161916171e-70"
       ]
      },
      {
       "output_type": "stream",
       "stream": "stdout",
       "text": [
        "\n",
        "('easy', 'img', 'RL')\n",
        "4.83920985393e-84"
       ]
      },
      {
       "output_type": "stream",
       "stream": "stdout",
       "text": [
        "\n",
        "('easy', 'img', 'ZS')\n",
        "3.33706717264e-67"
       ]
      },
      {
       "output_type": "stream",
       "stream": "stdout",
       "text": [
        "\n",
        "('easy', 'pcp', 'KL')\n",
        "2.13571608822e-67"
       ]
      },
      {
       "output_type": "stream",
       "stream": "stdout",
       "text": [
        "\n",
        "('easy', 'pcp', 'RL')\n",
        "1.45708974697e-75"
       ]
      },
      {
       "output_type": "stream",
       "stream": "stdout",
       "text": [
        "\n",
        "('easy', 'pcp', 'ZS')\n",
        "3.62092433117e-67"
       ]
      },
      {
       "output_type": "stream",
       "stream": "stdout",
       "text": [
        "\n",
        "('hard', 'img', 'KL')\n",
        "5.27656999533e-100"
       ]
      },
      {
       "output_type": "stream",
       "stream": "stdout",
       "text": [
        "\n",
        "('hard', 'img', 'RL')\n",
        "9.27036617521e-85"
       ]
      },
      {
       "output_type": "stream",
       "stream": "stdout",
       "text": [
        "\n",
        "('hard', 'img', 'ZS')\n",
        "4.81170663659e-73"
       ]
      },
      {
       "output_type": "stream",
       "stream": "stdout",
       "text": [
        "\n",
        "('hard', 'pcp', 'KL')\n",
        "5.00300129766e-102"
       ]
      },
      {
       "output_type": "stream",
       "stream": "stdout",
       "text": [
        "\n",
        "('hard', 'pcp', 'RL')\n",
        "3.66209753822e-118"
       ]
      },
      {
       "output_type": "stream",
       "stream": "stdout",
       "text": [
        "\n",
        "('hard', 'pcp', 'ZS')\n",
        "1.1512649303e-134"
       ]
      },
      {
       "output_type": "stream",
       "stream": "stdout",
       "text": [
        "\n",
        "6 0.0003 0.5000005 0.0\n",
        "('easy', 'img', 'KL')\n",
        "0.0"
       ]
      },
      {
       "output_type": "stream",
       "stream": "stdout",
       "text": [
        "\n",
        "('easy', 'img', 'RL')\n",
        "0.0"
       ]
      },
      {
       "output_type": "stream",
       "stream": "stdout",
       "text": [
        "\n",
        "('easy', 'img', 'ZS')\n",
        "0.0"
       ]
      },
      {
       "output_type": "stream",
       "stream": "stdout",
       "text": [
        "\n",
        "('easy', 'pcp', 'KL')\n",
        "0.0"
       ]
      },
      {
       "output_type": "stream",
       "stream": "stdout",
       "text": [
        "\n",
        "('easy', 'pcp', 'RL')\n",
        "0.0"
       ]
      },
      {
       "output_type": "stream",
       "stream": "stdout",
       "text": [
        "\n",
        "('easy', 'pcp', 'ZS')\n",
        "0.0"
       ]
      },
      {
       "output_type": "stream",
       "stream": "stdout",
       "text": [
        "\n",
        "('hard', 'img', 'KL')\n",
        "0.0"
       ]
      },
      {
       "output_type": "stream",
       "stream": "stdout",
       "text": [
        "\n",
        "('hard', 'img', 'RL')\n",
        "0.0"
       ]
      },
      {
       "output_type": "stream",
       "stream": "stdout",
       "text": [
        "\n",
        "('hard', 'img', 'ZS')\n",
        "0.0"
       ]
      },
      {
       "output_type": "stream",
       "stream": "stdout",
       "text": [
        "\n",
        "('hard', 'pcp', 'KL')\n",
        "0.0"
       ]
      },
      {
       "output_type": "stream",
       "stream": "stdout",
       "text": [
        "\n",
        "('hard', 'pcp', 'RL')\n",
        "0.0"
       ]
      },
      {
       "output_type": "stream",
       "stream": "stdout",
       "text": [
        "\n",
        "('hard', 'pcp', 'ZS')\n",
        "0.0"
       ]
      },
      {
       "output_type": "stream",
       "stream": "stdout",
       "text": [
        "\n",
        "6 0.0003 0.5000005 0.24999975\n",
        "('easy', 'img', 'KL')\n",
        "7.72791661349e-66"
       ]
      },
      {
       "output_type": "stream",
       "stream": "stdout",
       "text": [
        "\n",
        "('easy', 'img', 'RL')\n",
        "1.13812557735e-70"
       ]
      },
      {
       "output_type": "stream",
       "stream": "stdout",
       "text": [
        "\n",
        "('easy', 'img', 'ZS')\n",
        "7.47376149065e-66"
       ]
      },
      {
       "output_type": "stream",
       "stream": "stdout",
       "text": [
        "\n",
        "('easy', 'pcp', 'KL')\n",
        "1.74591571454e-66"
       ]
      },
      {
       "output_type": "stream",
       "stream": "stdout",
       "text": [
        "\n",
        "('easy', 'pcp', 'RL')\n",
        "1.04430812157e-69"
       ]
      },
      {
       "output_type": "stream",
       "stream": "stdout",
       "text": [
        "\n",
        "('easy', 'pcp', 'ZS')\n",
        "5.05491618165e-66"
       ]
      },
      {
       "output_type": "stream",
       "stream": "stdout",
       "text": [
        "\n",
        "('hard', 'img', 'KL')\n",
        "1.88152631953e-80"
       ]
      },
      {
       "output_type": "stream",
       "stream": "stdout",
       "text": [
        "\n",
        "('hard', 'img', 'RL')\n",
        "2.25348962391e-71"
       ]
      },
      {
       "output_type": "stream",
       "stream": "stdout",
       "text": [
        "\n",
        "('hard', 'img', 'ZS')\n",
        "7.07138434006e-69"
       ]
      },
      {
       "output_type": "stream",
       "stream": "stdout",
       "text": [
        "\n",
        "('hard', 'pcp', 'KL')\n",
        "1.00035978166e-81"
       ]
      },
      {
       "output_type": "stream",
       "stream": "stdout",
       "text": [
        "\n",
        "('hard', 'pcp', 'RL')\n",
        "5.00514121724e-91"
       ]
      },
      {
       "output_type": "stream",
       "stream": "stdout",
       "text": [
        "\n",
        "('hard', 'pcp', 'ZS')\n",
        "2.2599428551e-104"
       ]
      },
      {
       "output_type": "stream",
       "stream": "stdout",
       "text": [
        "\n",
        "6 0.0003 0.5000005 0.4999995\n",
        "('easy', 'img', 'KL')\n",
        "3.36527891645e-93"
       ]
      },
      {
       "output_type": "stream",
       "stream": "stdout",
       "text": [
        "\n",
        "('easy', 'img', 'RL')\n",
        "4.16936978965e-85"
       ]
      },
      {
       "output_type": "stream",
       "stream": "stdout",
       "text": [
        "\n",
        "('easy', 'img', 'ZS')\n",
        "2.51219627965e-98"
       ]
      },
      {
       "output_type": "stream",
       "stream": "stdout",
       "text": [
        "\n",
        "('easy', 'pcp', 'KL')\n",
        "5.35934443224e-99"
       ]
      },
      {
       "output_type": "stream",
       "stream": "stdout",
       "text": [
        "\n",
        "('easy', 'pcp', 'RL')\n",
        "3.09793972463e-95"
       ]
      },
      {
       "output_type": "stream",
       "stream": "stdout",
       "text": [
        "\n",
        "('easy', 'pcp', 'ZS')\n",
        "7.35988940201e-97"
       ]
      },
      {
       "output_type": "stream",
       "stream": "stdout",
       "text": [
        "\n",
        "('hard', 'img', 'KL')\n",
        "2.52713295786e-85"
       ]
      },
      {
       "output_type": "stream",
       "stream": "stdout",
       "text": [
        "\n",
        "('hard', 'img', 'RL')\n",
        "2.39612690196e-85"
       ]
      },
      {
       "output_type": "stream",
       "stream": "stdout",
       "text": [
        "\n",
        "('hard', 'img', 'ZS')\n",
        "1.92500581515e-98"
       ]
      },
      {
       "output_type": "stream",
       "stream": "stdout",
       "text": [
        "\n",
        "('hard', 'pcp', 'KL')\n",
        "2.15649257314e-86"
       ]
      },
      {
       "output_type": "stream",
       "stream": "stdout",
       "text": [
        "\n",
        "('hard', 'pcp', 'RL')\n",
        "7.89719750297e-86"
       ]
      },
      {
       "output_type": "stream",
       "stream": "stdout",
       "text": [
        "\n",
        "('hard', 'pcp', 'ZS')\n",
        "4.60028876326e-87"
       ]
      },
      {
       "output_type": "stream",
       "stream": "stdout",
       "text": [
        "\n",
        "6 0.0003 0.75000025 0.0\n",
        "('easy', 'img', 'KL')\n",
        "0.0"
       ]
      },
      {
       "output_type": "stream",
       "stream": "stdout",
       "text": [
        "\n",
        "('easy', 'img', 'RL')\n",
        "0.0"
       ]
      },
      {
       "output_type": "stream",
       "stream": "stdout",
       "text": [
        "\n",
        "('easy', 'img', 'ZS')\n",
        "0.0"
       ]
      },
      {
       "output_type": "stream",
       "stream": "stdout",
       "text": [
        "\n",
        "('easy', 'pcp', 'KL')\n",
        "0.0"
       ]
      },
      {
       "output_type": "stream",
       "stream": "stdout",
       "text": [
        "\n",
        "('easy', 'pcp', 'RL')\n",
        "0.0"
       ]
      },
      {
       "output_type": "stream",
       "stream": "stdout",
       "text": [
        "\n",
        "('easy', 'pcp', 'ZS')\n",
        "0.0"
       ]
      },
      {
       "output_type": "stream",
       "stream": "stdout",
       "text": [
        "\n",
        "('hard', 'img', 'KL')\n",
        "0.0"
       ]
      },
      {
       "output_type": "stream",
       "stream": "stdout",
       "text": [
        "\n",
        "('hard', 'img', 'RL')\n",
        "0.0"
       ]
      },
      {
       "output_type": "stream",
       "stream": "stdout",
       "text": [
        "\n",
        "('hard', 'img', 'ZS')\n",
        "0.0"
       ]
      },
      {
       "output_type": "stream",
       "stream": "stdout",
       "text": [
        "\n",
        "('hard', 'pcp', 'KL')\n",
        "0.0"
       ]
      },
      {
       "output_type": "stream",
       "stream": "stdout",
       "text": [
        "\n",
        "('hard', 'pcp', 'RL')\n",
        "0.0"
       ]
      },
      {
       "output_type": "stream",
       "stream": "stdout",
       "text": [
        "\n",
        "('hard', 'pcp', 'ZS')\n",
        "0.0"
       ]
      },
      {
       "output_type": "stream",
       "stream": "stdout",
       "text": [
        "\n",
        "6 0.0003 0.75000025 0.24999975\n",
        "('easy', 'img', 'KL')\n",
        "1.0253748362e-72"
       ]
      },
      {
       "output_type": "stream",
       "stream": "stdout",
       "text": [
        "\n",
        "('easy', 'img', 'RL')\n",
        "8.44455828467e-69"
       ]
      },
      {
       "output_type": "stream",
       "stream": "stdout",
       "text": [
        "\n",
        "('easy', 'img', 'ZS')\n",
        "7.3233461107e-76"
       ]
      },
      {
       "output_type": "stream",
       "stream": "stdout",
       "text": [
        "\n",
        "('easy', 'pcp', 'KL')\n",
        "9.27611553143e-77"
       ]
      },
      {
       "output_type": "stream",
       "stream": "stdout",
       "text": [
        "\n",
        "('easy', 'pcp', 'RL')\n",
        "3.31855270262e-75"
       ]
      },
      {
       "output_type": "stream",
       "stream": "stdout",
       "text": [
        "\n",
        "('easy', 'pcp', 'ZS')\n",
        "5.28734539189e-76"
       ]
      },
      {
       "output_type": "stream",
       "stream": "stdout",
       "text": [
        "\n",
        "('hard', 'img', 'KL')\n",
        "4.63716445131e-74"
       ]
      },
      {
       "output_type": "stream",
       "stream": "stdout",
       "text": [
        "\n",
        "('hard', 'img', 'RL')\n",
        "2.84249123947e-70"
       ]
      },
      {
       "output_type": "stream",
       "stream": "stdout",
       "text": [
        "\n",
        "('hard', 'img', 'ZS')\n",
        "6.22241088556e-77"
       ]
      },
      {
       "output_type": "stream",
       "stream": "stdout",
       "text": [
        "\n",
        "('hard', 'pcp', 'KL')\n",
        "1.00573895271e-74"
       ]
      },
      {
       "output_type": "stream",
       "stream": "stdout",
       "text": [
        "\n",
        "('hard', 'pcp', 'RL')\n",
        "1.07731448636e-77"
       ]
      },
      {
       "output_type": "stream",
       "stream": "stdout",
       "text": [
        "\n",
        "('hard', 'pcp', 'ZS')\n",
        "3.72580406529e-89"
       ]
      },
      {
       "output_type": "stream",
       "stream": "stdout",
       "text": [
        "\n",
        "6 0.0003 0.75000025 0.4999995\n",
        "('easy', 'img', 'KL')\n",
        "2.06557824371e-120"
       ]
      },
      {
       "output_type": "stream",
       "stream": "stdout",
       "text": [
        "\n",
        "('easy', 'img', 'RL')\n",
        "7.60379792864e-104"
       ]
      },
      {
       "output_type": "stream",
       "stream": "stdout",
       "text": [
        "\n",
        "('easy', 'img', 'ZS')\n",
        "2.22120694866e-128"
       ]
      },
      {
       "output_type": "stream",
       "stream": "stdout",
       "text": [
        "\n",
        "('easy', 'pcp', 'KL')\n",
        "2.06811659803e-129"
       ]
      },
      {
       "output_type": "stream",
       "stream": "stdout",
       "text": [
        "\n",
        "('easy', 'pcp', 'RL')\n",
        "5.16469217314e-121"
       ]
      },
      {
       "output_type": "stream",
       "stream": "stdout",
       "text": [
        "\n",
        "('easy', 'pcp', 'ZS')\n",
        "5.1076908042e-127"
       ]
      },
      {
       "output_type": "stream",
       "stream": "stdout",
       "text": [
        "\n",
        "('hard', 'img', 'KL')\n",
        "3.50044601822e-99"
       ]
      },
      {
       "output_type": "stream",
       "stream": "stdout",
       "text": [
        "\n",
        "('hard', 'img', 'RL')\n",
        "5.53427939846e-105"
       ]
      },
      {
       "output_type": "stream",
       "stream": "stdout",
       "text": [
        "\n",
        "('hard', 'img', 'ZS')\n",
        "8.93481711816e-127"
       ]
      },
      {
       "output_type": "stream",
       "stream": "stdout",
       "text": [
        "\n",
        "('hard', 'pcp', 'KL')\n",
        "1.4222119008e-99"
       ]
      },
      {
       "output_type": "stream",
       "stream": "stdout",
       "text": [
        "\n",
        "('hard', 'pcp', 'RL')\n",
        "1.36278176422e-92"
       ]
      },
      {
       "output_type": "stream",
       "stream": "stdout",
       "text": [
        "\n",
        "('hard', 'pcp', 'ZS')\n",
        "1.02931010234e-90"
       ]
      },
      {
       "output_type": "stream",
       "stream": "stdout",
       "text": [
        "\n",
        "6 0.0003 0.75000025 0.74999925\n",
        "('easy', 'img', 'KL')\n",
        "2.04973437497e-211"
       ]
      },
      {
       "output_type": "stream",
       "stream": "stdout",
       "text": [
        "\n",
        "('easy', 'img', 'RL')\n",
        "2.25058238263e-181"
       ]
      },
      {
       "output_type": "stream",
       "stream": "stdout",
       "text": [
        "\n",
        "('easy', 'img', 'ZS')\n",
        "1.18489611233e-224"
       ]
      },
      {
       "output_type": "stream",
       "stream": "stdout",
       "text": [
        "\n",
        "('easy', 'pcp', 'KL')\n",
        "8.42592314796e-226"
       ]
      },
      {
       "output_type": "stream",
       "stream": "stdout",
       "text": [
        "\n",
        "('easy', 'pcp', 'RL')\n",
        "4.12661601926e-210"
       ]
      },
      {
       "output_type": "stream",
       "stream": "stdout",
       "text": [
        "\n",
        "('easy', 'pcp', 'ZS')\n",
        "9.37257294058e-222"
       ]
      },
      {
       "output_type": "stream",
       "stream": "stdout",
       "text": [
        "\n",
        "('hard', 'img', 'KL')\n",
        "7.58276201113e-166"
       ]
      },
      {
       "output_type": "stream",
       "stream": "stdout",
       "text": [
        "\n",
        "('hard', 'img', 'RL')\n",
        "3.88015762715e-181"
       ]
      },
      {
       "output_type": "stream",
       "stream": "stdout",
       "text": [
        "\n",
        "('hard', 'img', 'ZS')\n",
        "4.82504482284e-219"
       ]
      },
      {
       "output_type": "stream",
       "stream": "stdout",
       "text": [
        "\n",
        "('hard', 'pcp', 'KL')\n",
        "5.82356651551e-166"
       ]
      },
      {
       "output_type": "stream",
       "stream": "stdout",
       "text": [
        "\n",
        "('hard', 'pcp', 'RL')\n",
        "1.06692926674e-148"
       ]
      },
      {
       "output_type": "stream",
       "stream": "stdout",
       "text": [
        "\n",
        "('hard', 'pcp', 'ZS')\n",
        "1.15160684805e-134"
       ]
      },
      {
       "output_type": "stream",
       "stream": "stdout",
       "text": [
        "\n",
        "6 0.0003 1.0 0.0\n",
        "('easy', 'img', 'KL')\n",
        "0.0"
       ]
      },
      {
       "output_type": "stream",
       "stream": "stdout",
       "text": [
        "\n",
        "('easy', 'img', 'RL')\n",
        "0.0"
       ]
      },
      {
       "output_type": "stream",
       "stream": "stdout",
       "text": [
        "\n",
        "('easy', 'img', 'ZS')\n",
        "0.0"
       ]
      },
      {
       "output_type": "stream",
       "stream": "stdout",
       "text": [
        "\n",
        "('easy', 'pcp', 'KL')\n",
        "0.0"
       ]
      },
      {
       "output_type": "stream",
       "stream": "stdout",
       "text": [
        "\n",
        "('easy', 'pcp', 'RL')\n",
        "0.0"
       ]
      },
      {
       "output_type": "stream",
       "stream": "stdout",
       "text": [
        "\n",
        "('easy', 'pcp', 'ZS')\n",
        "0.0"
       ]
      },
      {
       "output_type": "stream",
       "stream": "stdout",
       "text": [
        "\n",
        "('hard', 'img', 'KL')\n",
        "0.0"
       ]
      },
      {
       "output_type": "stream",
       "stream": "stdout",
       "text": [
        "\n",
        "('hard', 'img', 'RL')\n",
        "0.0"
       ]
      },
      {
       "output_type": "stream",
       "stream": "stdout",
       "text": [
        "\n",
        "('hard', 'img', 'ZS')\n",
        "0.0"
       ]
      },
      {
       "output_type": "stream",
       "stream": "stdout",
       "text": [
        "\n",
        "('hard', 'pcp', 'KL')\n",
        "0.0"
       ]
      },
      {
       "output_type": "stream",
       "stream": "stdout",
       "text": [
        "\n",
        "('hard', 'pcp', 'RL')\n",
        "0.0"
       ]
      },
      {
       "output_type": "stream",
       "stream": "stdout",
       "text": [
        "\n",
        "('hard', 'pcp', 'ZS')\n",
        "0.0"
       ]
      },
      {
       "output_type": "stream",
       "stream": "stdout",
       "text": [
        "\n",
        "6 0.0003 1.0 0.24999975\n",
        "('easy', 'img', 'KL')\n",
        "5.1636182678e-93"
       ]
      },
      {
       "output_type": "stream",
       "stream": "stdout",
       "text": [
        "\n",
        "('easy', 'img', 'RL')\n",
        "1.74960634568e-77"
       ]
      },
      {
       "output_type": "stream",
       "stream": "stdout",
       "text": [
        "\n",
        "('easy', 'img', 'ZS')\n",
        "1.21003117384e-100"
       ]
      },
      {
       "output_type": "stream",
       "stream": "stdout",
       "text": [
        "\n",
        "('easy', 'pcp', 'KL')\n",
        "9.37416242567e-101"
       ]
      },
      {
       "output_type": "stream",
       "stream": "stdout",
       "text": [
        "\n",
        "('easy', 'pcp', 'RL')\n",
        "3.8616873748e-94"
       ]
      },
      {
       "output_type": "stream",
       "stream": "stdout",
       "text": [
        "\n",
        "('easy', 'pcp', 'ZS')\n",
        "1.96472834845e-99"
       ]
      },
      {
       "output_type": "stream",
       "stream": "stdout",
       "text": [
        "\n",
        "('hard', 'img', 'KL')\n",
        "1.95376194048e-80"
       ]
      },
      {
       "output_type": "stream",
       "stream": "stdout",
       "text": [
        "\n",
        "('hard', 'img', 'RL')\n",
        "1.15631154296e-81"
       ]
      },
      {
       "output_type": "stream",
       "stream": "stdout",
       "text": [
        "\n",
        "('hard', 'img', 'ZS')\n",
        "2.43015846696e-99"
       ]
      },
      {
       "output_type": "stream",
       "stream": "stdout",
       "text": [
        "\n",
        "('hard', 'pcp', 'KL')\n",
        "4.09782148264e-80"
       ]
      },
      {
       "output_type": "stream",
       "stream": "stdout",
       "text": [
        "\n",
        "('hard', 'pcp', 'RL')\n",
        "4.35769111925e-75"
       ]
      },
      {
       "output_type": "stream",
       "stream": "stdout",
       "text": [
        "\n",
        "('hard', 'pcp', 'ZS')\n",
        "1.62834762213e-86"
       ]
      },
      {
       "output_type": "stream",
       "stream": "stdout",
       "text": [
        "\n",
        "6 0.0003 1.0 0.4999995\n",
        "('easy', 'img', 'KL')\n",
        "8.39021554903e-172"
       ]
      },
      {
       "output_type": "stream",
       "stream": "stdout",
       "text": [
        "\n",
        "('easy', 'img', 'RL')\n",
        "6.63049418603e-141"
       ]
      },
      {
       "output_type": "stream",
       "stream": "stdout",
       "text": [
        "\n",
        "('easy', 'img', 'ZS')\n",
        "5.52873848175e-185"
       ]
      },
      {
       "output_type": "stream",
       "stream": "stdout",
       "text": [
        "\n",
        "('easy', 'pcp', 'KL')\n",
        "4.61302942467e-186"
       ]
      },
      {
       "output_type": "stream",
       "stream": "stdout",
       "text": [
        "\n",
        "('easy', 'pcp', 'RL')\n",
        "7.32201774152e-171"
       ]
      },
      {
       "output_type": "stream",
       "stream": "stdout",
       "text": [
        "\n",
        "('easy', 'pcp', 'ZS')\n",
        "1.24515694225e-182"
       ]
      },
      {
       "output_type": "stream",
       "stream": "stdout",
       "text": [
        "\n",
        "('hard', 'img', 'KL')\n",
        "3.39778618337e-132"
       ]
      },
      {
       "output_type": "stream",
       "stream": "stdout",
       "text": [
        "\n",
        "('hard', 'img', 'RL')\n",
        "2.83735488816e-145"
       ]
      },
      {
       "output_type": "stream",
       "stream": "stdout",
       "text": [
        "\n",
        "('hard', 'img', 'ZS')\n",
        "2.44397923547e-181"
       ]
      },
      {
       "output_type": "stream",
       "stream": "stdout",
       "text": [
        "\n",
        "('hard', 'pcp', 'KL')\n",
        "6.18462151604e-132"
       ]
      },
      {
       "output_type": "stream",
       "stream": "stdout",
       "text": [
        "\n",
        "('hard', 'pcp', 'RL')\n",
        "1.86525423852e-115"
       ]
      },
      {
       "output_type": "stream",
       "stream": "stdout",
       "text": [
        "\n",
        "('hard', 'pcp', 'ZS')\n",
        "3.61019354005e-111"
       ]
      },
      {
       "output_type": "stream",
       "stream": "stdout",
       "text": [
        "\n",
        "6 0.0003 1.0 0.74999925\n",
        "('easy', 'img', 'KL')\n",
        "2.63633428621e-320"
       ]
      },
      {
       "output_type": "stream",
       "stream": "stdout",
       "text": [
        "\n",
        "('easy', 'img', 'RL')\n",
        "1.46089309747e-270"
       ]
      },
      {
       "output_type": "stream",
       "stream": "stdout",
       "text": [
        "\n",
        "('easy', 'img', 'ZS')\n",
        "0.0"
       ]
      },
      {
       "output_type": "stream",
       "stream": "stdout",
       "text": [
        "\n",
        "('easy', 'pcp', 'KL')\n",
        "0.0"
       ]
      },
      {
       "output_type": "stream",
       "stream": "stdout",
       "text": [
        "\n",
        "('easy', 'pcp', 'RL')\n",
        "1.11539830368e-316"
       ]
      },
      {
       "output_type": "stream",
       "stream": "stdout",
       "text": [
        "\n",
        "('easy', 'pcp', 'ZS')\n",
        "0.0"
       ]
      },
      {
       "output_type": "stream",
       "stream": "stdout",
       "text": [
        "\n",
        "('hard', 'img', 'KL')\n",
        "3.13996811144e-248"
       ]
      },
      {
       "output_type": "stream",
       "stream": "stdout",
       "text": [
        "\n",
        "('hard', 'img', 'RL')\n",
        "1.20826892351e-274"
       ]
      },
      {
       "output_type": "stream",
       "stream": "stdout",
       "text": [
        "\n",
        "('hard', 'img', 'ZS')\n",
        "0.0"
       ]
      },
      {
       "output_type": "stream",
       "stream": "stdout",
       "text": [
        "\n",
        "('hard', 'pcp', 'KL')\n",
        "2.38178312558e-247"
       ]
      },
      {
       "output_type": "stream",
       "stream": "stdout",
       "text": [
        "\n",
        "('hard', 'pcp', 'RL')\n",
        "9.16262979292e-217"
       ]
      },
      {
       "output_type": "stream",
       "stream": "stdout",
       "text": [
        "\n",
        "('hard', 'pcp', 'ZS')\n",
        "2.48233324931e-197"
       ]
      },
      {
       "output_type": "stream",
       "stream": "stdout",
       "text": [
        "\n",
        "6 0.0003 1.0 0.999999\n",
        "('easy', 'img', 'KL')\n",
        "0.0"
       ]
      },
      {
       "output_type": "stream",
       "stream": "stdout",
       "text": [
        "\n",
        "('easy', 'img', 'RL')\n",
        "0.0"
       ]
      },
      {
       "output_type": "stream",
       "stream": "stdout",
       "text": [
        "\n",
        "('easy', 'img', 'ZS')\n",
        "0.0"
       ]
      },
      {
       "output_type": "stream",
       "stream": "stdout",
       "text": [
        "\n",
        "('easy', 'pcp', 'KL')\n",
        "0.0"
       ]
      },
      {
       "output_type": "stream",
       "stream": "stdout",
       "text": [
        "\n",
        "('easy', 'pcp', 'RL')\n",
        "0.0"
       ]
      },
      {
       "output_type": "stream",
       "stream": "stdout",
       "text": [
        "\n",
        "('easy', 'pcp', 'ZS')\n",
        "0.0"
       ]
      },
      {
       "output_type": "stream",
       "stream": "stdout",
       "text": [
        "\n",
        "('hard', 'img', 'KL')\n",
        "0.0"
       ]
      },
      {
       "output_type": "stream",
       "stream": "stdout",
       "text": [
        "\n",
        "('hard', 'img', 'RL')\n",
        "0.0"
       ]
      },
      {
       "output_type": "stream",
       "stream": "stdout",
       "text": [
        "\n",
        "('hard', 'img', 'ZS')\n",
        "0.0"
       ]
      },
      {
       "output_type": "stream",
       "stream": "stdout",
       "text": [
        "\n",
        "('hard', 'pcp', 'KL')\n",
        "0.0"
       ]
      },
      {
       "output_type": "stream",
       "stream": "stdout",
       "text": [
        "\n",
        "('hard', 'pcp', 'RL')\n",
        "0.0"
       ]
      },
      {
       "output_type": "stream",
       "stream": "stdout",
       "text": [
        "\n",
        "('hard', 'pcp', 'ZS')\n",
        "0.0"
       ]
      },
      {
       "output_type": "stream",
       "stream": "stdout",
       "text": [
        "\n",
        "6 0.00035 1e-06 0.0\n",
        "('easy', 'img', 'KL')\n",
        "0.0"
       ]
      },
      {
       "output_type": "stream",
       "stream": "stdout",
       "text": [
        "\n",
        "('easy', 'img', 'RL')\n",
        "0.0"
       ]
      },
      {
       "output_type": "stream",
       "stream": "stdout",
       "text": [
        "\n",
        "('easy', 'img', 'ZS')\n",
        "0.0"
       ]
      },
      {
       "output_type": "stream",
       "stream": "stdout",
       "text": [
        "\n",
        "('easy', 'pcp', 'KL')\n",
        "0.0"
       ]
      },
      {
       "output_type": "stream",
       "stream": "stdout",
       "text": [
        "\n",
        "('easy', 'pcp', 'RL')\n",
        "0.0"
       ]
      },
      {
       "output_type": "stream",
       "stream": "stdout",
       "text": [
        "\n",
        "('easy', 'pcp', 'ZS')\n",
        "0.0"
       ]
      },
      {
       "output_type": "stream",
       "stream": "stdout",
       "text": [
        "\n",
        "('hard', 'img', 'KL')\n",
        "0.0"
       ]
      },
      {
       "output_type": "stream",
       "stream": "stdout",
       "text": [
        "\n",
        "('hard', 'img', 'RL')\n",
        "0.0"
       ]
      },
      {
       "output_type": "stream",
       "stream": "stdout",
       "text": [
        "\n",
        "('hard', 'img', 'ZS')\n",
        "0.0"
       ]
      },
      {
       "output_type": "stream",
       "stream": "stdout",
       "text": [
        "\n",
        "('hard', 'pcp', 'KL')\n",
        "0.0"
       ]
      },
      {
       "output_type": "stream",
       "stream": "stdout",
       "text": [
        "\n",
        "('hard', 'pcp', 'RL')\n",
        "0.0"
       ]
      },
      {
       "output_type": "stream",
       "stream": "stdout",
       "text": [
        "\n",
        "('hard', 'pcp', 'ZS')\n",
        "0.0"
       ]
      },
      {
       "output_type": "stream",
       "stream": "stdout",
       "text": [
        "\n",
        "6 0.00035 0.25000075 0.0\n",
        "('easy', 'img', 'KL')\n",
        "0.0"
       ]
      },
      {
       "output_type": "stream",
       "stream": "stdout",
       "text": [
        "\n",
        "('easy', 'img', 'RL')\n",
        "0.0"
       ]
      },
      {
       "output_type": "stream",
       "stream": "stdout",
       "text": [
        "\n",
        "('easy', 'img', 'ZS')\n",
        "0.0"
       ]
      },
      {
       "output_type": "stream",
       "stream": "stdout",
       "text": [
        "\n",
        "('easy', 'pcp', 'KL')\n",
        "0.0"
       ]
      },
      {
       "output_type": "stream",
       "stream": "stdout",
       "text": [
        "\n",
        "('easy', 'pcp', 'RL')\n",
        "0.0"
       ]
      },
      {
       "output_type": "stream",
       "stream": "stdout",
       "text": [
        "\n",
        "('easy', 'pcp', 'ZS')\n",
        "0.0"
       ]
      },
      {
       "output_type": "stream",
       "stream": "stdout",
       "text": [
        "\n",
        "('hard', 'img', 'KL')\n",
        "0.0"
       ]
      },
      {
       "output_type": "stream",
       "stream": "stdout",
       "text": [
        "\n",
        "('hard', 'img', 'RL')\n",
        "0.0"
       ]
      },
      {
       "output_type": "stream",
       "stream": "stdout",
       "text": [
        "\n",
        "('hard', 'img', 'ZS')\n",
        "0.0"
       ]
      },
      {
       "output_type": "stream",
       "stream": "stdout",
       "text": [
        "\n",
        "('hard', 'pcp', 'KL')\n",
        "0.0"
       ]
      },
      {
       "output_type": "stream",
       "stream": "stdout",
       "text": [
        "\n",
        "('hard', 'pcp', 'RL')\n",
        "0.0"
       ]
      },
      {
       "output_type": "stream",
       "stream": "stdout",
       "text": [
        "\n",
        "('hard', 'pcp', 'ZS')\n",
        "0.0"
       ]
      },
      {
       "output_type": "stream",
       "stream": "stdout",
       "text": [
        "\n",
        "6 0.00035 0.25000075 0.24999975\n",
        "('easy', 'img', 'KL')\n",
        "3.46165205665e-70"
       ]
      },
      {
       "output_type": "stream",
       "stream": "stdout",
       "text": [
        "\n",
        "('easy', 'img', 'RL')\n",
        "4.83929575219e-84"
       ]
      },
      {
       "output_type": "stream",
       "stream": "stdout",
       "text": [
        "\n",
        "('easy', 'img', 'ZS')\n",
        "3.33708203833e-67"
       ]
      },
      {
       "output_type": "stream",
       "stream": "stdout",
       "text": [
        "\n",
        "('easy', 'pcp', 'KL')\n",
        "2.13573370276e-67"
       ]
      },
      {
       "output_type": "stream",
       "stream": "stdout",
       "text": [
        "\n",
        "('easy', 'pcp', 'RL')\n",
        "1.45711340734e-75"
       ]
      },
      {
       "output_type": "stream",
       "stream": "stdout",
       "text": [
        "\n",
        "('easy', 'pcp', 'ZS')\n",
        "3.62095687733e-67"
       ]
      },
      {
       "output_type": "stream",
       "stream": "stdout",
       "text": [
        "\n",
        "('hard', 'img', 'KL')\n",
        "5.27673964365e-100"
       ]
      },
      {
       "output_type": "stream",
       "stream": "stdout",
       "text": [
        "\n",
        "('hard', 'img', 'RL')\n",
        "9.27054017066e-85"
       ]
      },
      {
       "output_type": "stream",
       "stream": "stdout",
       "text": [
        "\n",
        "('hard', 'img', 'ZS')\n",
        "4.81175377218e-73"
       ]
      },
      {
       "output_type": "stream",
       "stream": "stdout",
       "text": [
        "\n",
        "('hard', 'pcp', 'KL')\n",
        "5.00315717716e-102"
       ]
      },
      {
       "output_type": "stream",
       "stream": "stdout",
       "text": [
        "\n",
        "('hard', 'pcp', 'RL')\n",
        "3.66222760148e-118"
       ]
      },
      {
       "output_type": "stream",
       "stream": "stdout",
       "text": [
        "\n",
        "('hard', 'pcp', 'ZS')\n",
        "1.15132300154e-134"
       ]
      },
      {
       "output_type": "stream",
       "stream": "stdout",
       "text": [
        "\n",
        "6 0.00035 0.5000005 0.0\n",
        "('easy', 'img', 'KL')\n",
        "0.0"
       ]
      },
      {
       "output_type": "stream",
       "stream": "stdout",
       "text": [
        "\n",
        "('easy', 'img', 'RL')\n",
        "0.0"
       ]
      },
      {
       "output_type": "stream",
       "stream": "stdout",
       "text": [
        "\n",
        "('easy', 'img', 'ZS')\n",
        "0.0"
       ]
      },
      {
       "output_type": "stream",
       "stream": "stdout",
       "text": [
        "\n",
        "('easy', 'pcp', 'KL')\n",
        "0.0"
       ]
      },
      {
       "output_type": "stream",
       "stream": "stdout",
       "text": [
        "\n",
        "('easy', 'pcp', 'RL')\n",
        "0.0"
       ]
      },
      {
       "output_type": "stream",
       "stream": "stdout",
       "text": [
        "\n",
        "('easy', 'pcp', 'ZS')\n",
        "0.0"
       ]
      },
      {
       "output_type": "stream",
       "stream": "stdout",
       "text": [
        "\n",
        "('hard', 'img', 'KL')\n",
        "0.0"
       ]
      },
      {
       "output_type": "stream",
       "stream": "stdout",
       "text": [
        "\n",
        "('hard', 'img', 'RL')\n",
        "0.0"
       ]
      },
      {
       "output_type": "stream",
       "stream": "stdout",
       "text": [
        "\n",
        "('hard', 'img', 'ZS')\n",
        "0.0"
       ]
      },
      {
       "output_type": "stream",
       "stream": "stdout",
       "text": [
        "\n",
        "('hard', 'pcp', 'KL')\n",
        "0.0"
       ]
      },
      {
       "output_type": "stream",
       "stream": "stdout",
       "text": [
        "\n",
        "('hard', 'pcp', 'RL')\n",
        "0.0"
       ]
      },
      {
       "output_type": "stream",
       "stream": "stdout",
       "text": [
        "\n",
        "('hard', 'pcp', 'ZS')\n",
        "0.0"
       ]
      },
      {
       "output_type": "stream",
       "stream": "stdout",
       "text": [
        "\n",
        "6 0.00035 0.5000005 0.24999975\n",
        "('easy', 'img', 'KL')\n",
        "2.22357468839e-66"
       ]
      },
      {
       "output_type": "stream",
       "stream": "stdout",
       "text": [
        "\n",
        "('easy', 'img', 'RL')\n",
        "1.9583668306e-70"
       ]
      },
      {
       "output_type": "stream",
       "stream": "stdout",
       "text": [
        "\n",
        "('easy', 'img', 'ZS')\n",
        "7.34565988602e-67"
       ]
      },
      {
       "output_type": "stream",
       "stream": "stdout",
       "text": [
        "\n",
        "('easy', 'pcp', 'KL')\n",
        "3.81626513678e-67"
       ]
      },
      {
       "output_type": "stream",
       "stream": "stdout",
       "text": [
        "\n",
        "('easy', 'pcp', 'RL')\n",
        "1.28075899478e-69"
       ]
      },
      {
       "output_type": "stream",
       "stream": "stdout",
       "text": [
        "\n",
        "('easy', 'pcp', 'ZS')\n",
        "1.32259404713e-66"
       ]
      },
      {
       "output_type": "stream",
       "stream": "stdout",
       "text": [
        "\n",
        "('hard', 'img', 'KL')\n",
        "9.95620854956e-79"
       ]
      },
      {
       "output_type": "stream",
       "stream": "stdout",
       "text": [
        "\n",
        "('hard', 'img', 'RL')\n",
        "5.36371833002e-71"
       ]
      },
      {
       "output_type": "stream",
       "stream": "stdout",
       "text": [
        "\n",
        "('hard', 'img', 'ZS')\n",
        "2.35353256488e-69"
       ]
      },
      {
       "output_type": "stream",
       "stream": "stdout",
       "text": [
        "\n",
        "('hard', 'pcp', 'KL')\n",
        "4.06269071213e-80"
       ]
      },
      {
       "output_type": "stream",
       "stream": "stdout",
       "text": [
        "\n",
        "('hard', 'pcp', 'RL')\n",
        "5.2876387192e-89"
       ]
      },
      {
       "output_type": "stream",
       "stream": "stdout",
       "text": [
        "\n",
        "('hard', 'pcp', 'ZS')\n",
        "7.96710323936e-101"
       ]
      },
      {
       "output_type": "stream",
       "stream": "stdout",
       "text": [
        "\n",
        "6 0.00035 0.5000005 0.4999995\n",
        "('easy', 'img', 'KL')\n",
        "3.36520853893e-93"
       ]
      },
      {
       "output_type": "stream",
       "stream": "stdout",
       "text": [
        "\n",
        "('easy', 'img', 'RL')\n",
        "4.16930838631e-85"
       ]
      },
      {
       "output_type": "stream",
       "stream": "stdout",
       "text": [
        "\n",
        "('easy', 'img', 'ZS')\n",
        "2.51213423153e-98"
       ]
      },
      {
       "output_type": "stream",
       "stream": "stdout",
       "text": [
        "\n",
        "('easy', 'pcp', 'KL')\n",
        "5.35922730821e-99"
       ]
      },
      {
       "output_type": "stream",
       "stream": "stdout",
       "text": [
        "\n",
        "('easy', 'pcp', 'RL')\n",
        "3.0978905867e-95"
       ]
      },
      {
       "output_type": "stream",
       "stream": "stdout",
       "text": [
        "\n",
        "('easy', 'pcp', 'ZS')\n",
        "7.35973264646e-97"
       ]
      },
      {
       "output_type": "stream",
       "stream": "stdout",
       "text": [
        "\n",
        "('hard', 'img', 'KL')\n",
        "2.52712344664e-85"
       ]
      },
      {
       "output_type": "stream",
       "stream": "stdout",
       "text": [
        "\n",
        "('hard', 'img', 'RL')\n",
        "2.39609383544e-85"
       ]
      },
      {
       "output_type": "stream",
       "stream": "stdout",
       "text": [
        "\n",
        "('hard', 'img', 'ZS')\n",
        "1.92496629573e-98"
       ]
      },
      {
       "output_type": "stream",
       "stream": "stdout",
       "text": [
        "\n",
        "('hard', 'pcp', 'KL')\n",
        "2.15648284919e-86"
       ]
      },
      {
       "output_type": "stream",
       "stream": "stdout",
       "text": [
        "\n",
        "('hard', 'pcp', 'RL')\n",
        "7.89718770944e-86"
       ]
      },
      {
       "output_type": "stream",
       "stream": "stdout",
       "text": [
        "\n",
        "('hard', 'pcp', 'ZS')\n",
        "4.60033455149e-87"
       ]
      },
      {
       "output_type": "stream",
       "stream": "stdout",
       "text": [
        "\n",
        "6 0.00035 0.75000025 0.0\n",
        "('easy', 'img', 'KL')\n",
        "0.0"
       ]
      },
      {
       "output_type": "stream",
       "stream": "stdout",
       "text": [
        "\n",
        "('easy', 'img', 'RL')\n",
        "0.0"
       ]
      },
      {
       "output_type": "stream",
       "stream": "stdout",
       "text": [
        "\n",
        "('easy', 'img', 'ZS')\n",
        "0.0"
       ]
      },
      {
       "output_type": "stream",
       "stream": "stdout",
       "text": [
        "\n",
        "('easy', 'pcp', 'KL')\n",
        "0.0"
       ]
      },
      {
       "output_type": "stream",
       "stream": "stdout",
       "text": [
        "\n",
        "('easy', 'pcp', 'RL')\n",
        "0.0"
       ]
      },
      {
       "output_type": "stream",
       "stream": "stdout",
       "text": [
        "\n",
        "('easy', 'pcp', 'ZS')\n",
        "0.0"
       ]
      },
      {
       "output_type": "stream",
       "stream": "stdout",
       "text": [
        "\n",
        "('hard', 'img', 'KL')\n",
        "0.0"
       ]
      },
      {
       "output_type": "stream",
       "stream": "stdout",
       "text": [
        "\n",
        "('hard', 'img', 'RL')\n",
        "0.0"
       ]
      },
      {
       "output_type": "stream",
       "stream": "stdout",
       "text": [
        "\n",
        "('hard', 'img', 'ZS')\n",
        "0.0"
       ]
      },
      {
       "output_type": "stream",
       "stream": "stdout",
       "text": [
        "\n",
        "('hard', 'pcp', 'KL')\n",
        "0.0"
       ]
      },
      {
       "output_type": "stream",
       "stream": "stdout",
       "text": [
        "\n",
        "('hard', 'pcp', 'RL')\n",
        "0.0"
       ]
      },
      {
       "output_type": "stream",
       "stream": "stdout",
       "text": [
        "\n",
        "('hard', 'pcp', 'ZS')\n",
        "0.0"
       ]
      },
      {
       "output_type": "stream",
       "stream": "stdout",
       "text": [
        "\n",
        "6 0.00035 0.75000025 0.24999975\n",
        "('easy', 'img', 'KL')\n",
        "1.57403198238e-76"
       ]
      },
      {
       "output_type": "stream",
       "stream": "stdout",
       "text": [
        "\n",
        "('easy', 'img', 'RL')\n",
        "3.6857847187e-71"
       ]
      },
      {
       "output_type": "stream",
       "stream": "stdout",
       "text": [
        "\n",
        "('easy', 'img', 'ZS')\n",
        "1.6521286121e-80"
       ]
      },
      {
       "output_type": "stream",
       "stream": "stdout",
       "text": [
        "\n",
        "('easy', 'pcp', 'KL')\n",
        "8.28179668928e-81"
       ]
      },
      {
       "output_type": "stream",
       "stream": "stdout",
       "text": [
        "\n",
        "('easy', 'pcp', 'RL')\n",
        "7.19614246796e-78"
       ]
      },
      {
       "output_type": "stream",
       "stream": "stdout",
       "text": [
        "\n",
        "('easy', 'pcp', 'ZS')\n",
        "7.08880240255e-80"
       ]
      },
      {
       "output_type": "stream",
       "stream": "stdout",
       "text": [
        "\n",
        "('hard', 'img', 'KL')\n",
        "2.76857975505e-73"
       ]
      },
      {
       "output_type": "stream",
       "stream": "stdout",
       "text": [
        "\n",
        "('hard', 'img', 'RL')\n",
        "2.58986417637e-72"
       ]
      },
      {
       "output_type": "stream",
       "stream": "stdout",
       "text": [
        "\n",
        "('hard', 'img', 'ZS')\n",
        "1.17907490982e-80"
       ]
      },
      {
       "output_type": "stream",
       "stream": "stdout",
       "text": [
        "\n",
        "('hard', 'pcp', 'KL')\n",
        "3.28665632873e-74"
       ]
      },
      {
       "output_type": "stream",
       "stream": "stdout",
       "text": [
        "\n",
        "('hard', 'pcp', 'RL')\n",
        "1.95896103869e-76"
       ]
      },
      {
       "output_type": "stream",
       "stream": "stdout",
       "text": [
        "\n",
        "('hard', 'pcp', 'ZS')\n",
        "1.03885032261e-84"
       ]
      },
      {
       "output_type": "stream",
       "stream": "stdout",
       "text": [
        "\n",
        "6 0.00035 0.75000025 0.4999995\n",
        "('easy', 'img', 'KL')\n",
        "5.02337252418e-124"
       ]
      },
      {
       "output_type": "stream",
       "stream": "stdout",
       "text": [
        "\n",
        "('easy', 'img', 'RL')\n",
        "8.38004542522e-107"
       ]
      },
      {
       "output_type": "stream",
       "stream": "stdout",
       "text": [
        "\n",
        "('easy', 'img', 'ZS')\n",
        "2.2005380121e-132"
       ]
      },
      {
       "output_type": "stream",
       "stream": "stdout",
       "text": [
        "\n",
        "('easy', 'pcp', 'KL')\n",
        "3.96720527915e-133"
       ]
      },
      {
       "output_type": "stream",
       "stream": "stdout",
       "text": [
        "\n",
        "('easy', 'pcp', 'RL')\n",
        "4.22450217079e-124"
       ]
      },
      {
       "output_type": "stream",
       "stream": "stdout",
       "text": [
        "\n",
        "('easy', 'pcp', 'ZS')\n",
        "1.14247640074e-130"
       ]
      },
      {
       "output_type": "stream",
       "stream": "stdout",
       "text": [
        "\n",
        "('hard', 'img', 'KL')\n",
        "7.17229191357e-101"
       ]
      },
      {
       "output_type": "stream",
       "stream": "stdout",
       "text": [
        "\n",
        "('hard', 'img', 'RL')\n",
        "7.79119657072e-108"
       ]
      },
      {
       "output_type": "stream",
       "stream": "stdout",
       "text": [
        "\n",
        "('hard', 'img', 'ZS')\n",
        "2.30451582126e-130"
       ]
      },
      {
       "output_type": "stream",
       "stream": "stdout",
       "text": [
        "\n",
        "('hard', 'pcp', 'KL')\n",
        "2.45055322324e-101"
       ]
      },
      {
       "output_type": "stream",
       "stream": "stdout",
       "text": [
        "\n",
        "('hard', 'pcp', 'RL')\n",
        "5.34417294248e-94"
       ]
      },
      {
       "output_type": "stream",
       "stream": "stdout",
       "text": [
        "\n",
        "('hard', 'pcp', 'ZS')\n",
        "8.74472475519e-91"
       ]
      },
      {
       "output_type": "stream",
       "stream": "stdout",
       "text": [
        "\n",
        "6 0.00035 0.75000025 0.74999925\n",
        "('easy', 'img', 'KL')\n",
        "2.04960059157e-211"
       ]
      },
      {
       "output_type": "stream",
       "stream": "stdout",
       "text": [
        "\n",
        "('easy', 'img', 'RL')\n",
        "2.25045405088e-181"
       ]
      },
      {
       "output_type": "stream",
       "stream": "stdout",
       "text": [
        "\n",
        "('easy', 'img', 'ZS')\n",
        "1.18481279481e-224"
       ]
      },
      {
       "output_type": "stream",
       "stream": "stdout",
       "text": [
        "\n",
        "('easy', 'pcp', 'KL')\n",
        "8.42536262426e-226"
       ]
      },
      {
       "output_type": "stream",
       "stream": "stdout",
       "text": [
        "\n",
        "('easy', 'pcp', 'RL')\n",
        "4.12637447262e-210"
       ]
      },
      {
       "output_type": "stream",
       "stream": "stdout",
       "text": [
        "\n",
        "('easy', 'pcp', 'ZS')\n",
        "9.3719563844e-222"
       ]
      },
      {
       "output_type": "stream",
       "stream": "stdout",
       "text": [
        "\n",
        "('hard', 'img', 'KL')\n",
        "7.58244212327e-166"
       ]
      },
      {
       "output_type": "stream",
       "stream": "stdout",
       "text": [
        "\n",
        "('hard', 'img', 'RL')\n",
        "3.87994201674e-181"
       ]
      },
      {
       "output_type": "stream",
       "stream": "stdout",
       "text": [
        "\n",
        "('hard', 'img', 'ZS')\n",
        "4.82473341575e-219"
       ]
      },
      {
       "output_type": "stream",
       "stream": "stdout",
       "text": [
        "\n",
        "('hard', 'pcp', 'KL')\n",
        "5.82331505292e-166"
       ]
      },
      {
       "output_type": "stream",
       "stream": "stdout",
       "text": [
        "\n",
        "('hard', 'pcp', 'RL')\n",
        "1.06688784679e-148"
       ]
      },
      {
       "output_type": "stream",
       "stream": "stdout",
       "text": [
        "\n",
        "('hard', 'pcp', 'ZS')\n",
        "1.15157932744e-134"
       ]
      },
      {
       "output_type": "stream",
       "stream": "stdout",
       "text": [
        "\n",
        "6 0.00035 1.0 0.0\n",
        "('easy', 'img', 'KL')\n",
        "0.0"
       ]
      },
      {
       "output_type": "stream",
       "stream": "stdout",
       "text": [
        "\n",
        "('easy', 'img', 'RL')\n",
        "0.0"
       ]
      },
      {
       "output_type": "stream",
       "stream": "stdout",
       "text": [
        "\n",
        "('easy', 'img', 'ZS')\n",
        "0.0"
       ]
      },
      {
       "output_type": "stream",
       "stream": "stdout",
       "text": [
        "\n",
        "('easy', 'pcp', 'KL')\n",
        "0.0"
       ]
      },
      {
       "output_type": "stream",
       "stream": "stdout",
       "text": [
        "\n",
        "('easy', 'pcp', 'RL')\n",
        "0.0"
       ]
      },
      {
       "output_type": "stream",
       "stream": "stdout",
       "text": [
        "\n",
        "('easy', 'pcp', 'ZS')\n",
        "0.0"
       ]
      },
      {
       "output_type": "stream",
       "stream": "stdout",
       "text": [
        "\n",
        "('hard', 'img', 'KL')\n",
        "0.0"
       ]
      },
      {
       "output_type": "stream",
       "stream": "stdout",
       "text": [
        "\n",
        "('hard', 'img', 'RL')\n",
        "0.0"
       ]
      },
      {
       "output_type": "stream",
       "stream": "stdout",
       "text": [
        "\n",
        "('hard', 'img', 'ZS')\n",
        "0.0"
       ]
      },
      {
       "output_type": "stream",
       "stream": "stdout",
       "text": [
        "\n",
        "('hard', 'pcp', 'KL')\n",
        "0.0"
       ]
      },
      {
       "output_type": "stream",
       "stream": "stdout",
       "text": [
        "\n",
        "('hard', 'pcp', 'RL')\n",
        "0.0"
       ]
      },
      {
       "output_type": "stream",
       "stream": "stdout",
       "text": [
        "\n",
        "('hard', 'pcp', 'ZS')\n",
        "0.0"
       ]
      },
      {
       "output_type": "stream",
       "stream": "stdout",
       "text": [
        "\n",
        "6 0.00035 1.0 0.24999975\n",
        "('easy', 'img', 'KL')\n",
        "3.02527693479e-102"
       ]
      },
      {
       "output_type": "stream",
       "stream": "stdout",
       "text": [
        "\n",
        "('easy', 'img', 'RL')\n",
        "1.14686326903e-84"
       ]
      },
      {
       "output_type": "stream",
       "stream": "stdout",
       "text": [
        "\n",
        "('easy', 'img', 'ZS')\n",
        "1.25346548287e-110"
       ]
      },
      {
       "output_type": "stream",
       "stream": "stdout",
       "text": [
        "\n",
        "('easy', 'pcp', 'KL')\n",
        "2.75919960542e-110"
       ]
      },
      {
       "output_type": "stream",
       "stream": "stdout",
       "text": [
        "\n",
        "('easy', 'pcp', 'RL')\n",
        "4.30929657509e-102"
       ]
      },
      {
       "output_type": "stream",
       "stream": "stdout",
       "text": [
        "\n",
        "('easy', 'pcp', 'ZS')\n",
        "7.28232751907e-109"
       ]
      },
      {
       "output_type": "stream",
       "stream": "stdout",
       "text": [
        "\n",
        "('hard', 'img', 'KL')\n",
        "7.85568537546e-84"
       ]
      },
      {
       "output_type": "stream",
       "stream": "stdout",
       "text": [
        "\n",
        "('hard', 'img', 'RL')\n",
        "1.03244800019e-89"
       ]
      },
      {
       "output_type": "stream",
       "stream": "stdout",
       "text": [
        "\n",
        "('hard', 'img', 'ZS')\n",
        "5.33684542649e-109"
       ]
      },
      {
       "output_type": "stream",
       "stream": "stdout",
       "text": [
        "\n",
        "('hard', 'pcp', 'KL')\n",
        "2.43210995357e-83"
       ]
      },
      {
       "output_type": "stream",
       "stream": "stdout",
       "text": [
        "\n",
        "('hard', 'pcp', 'RL')\n",
        "1.41727113324e-77"
       ]
      },
      {
       "output_type": "stream",
       "stream": "stdout",
       "text": [
        "\n",
        "('hard', 'pcp', 'ZS')\n",
        "6.7739667968e-84"
       ]
      },
      {
       "output_type": "stream",
       "stream": "stdout",
       "text": [
        "\n",
        "6 0.00035 1.0 0.4999995\n",
        "('easy', 'img', 'KL')\n",
        "4.39507048317e-182"
       ]
      },
      {
       "output_type": "stream",
       "stream": "stdout",
       "text": [
        "\n",
        "('easy', 'img', 'RL')\n",
        "3.88665458686e-150"
       ]
      },
      {
       "output_type": "stream",
       "stream": "stdout",
       "text": [
        "\n",
        "('easy', 'img', 'ZS')\n",
        "1.09981293763e-195"
       ]
      },
      {
       "output_type": "stream",
       "stream": "stdout",
       "text": [
        "\n",
        "('easy', 'pcp', 'KL')\n",
        "1.86262442225e-196"
       ]
      },
      {
       "output_type": "stream",
       "stream": "stdout",
       "text": [
        "\n",
        "('easy', 'pcp', 'RL')\n",
        "2.07480661284e-180"
       ]
      },
      {
       "output_type": "stream",
       "stream": "stdout",
       "text": [
        "\n",
        "('easy', 'pcp', 'ZS')\n",
        "5.64476919024e-193"
       ]
      },
      {
       "output_type": "stream",
       "stream": "stdout",
       "text": [
        "\n",
        "('hard', 'img', 'KL')\n",
        "3.14009223875e-139"
       ]
      },
      {
       "output_type": "stream",
       "stream": "stdout",
       "text": [
        "\n",
        "('hard', 'img', 'RL')\n",
        "4.26796291347e-155"
       ]
      },
      {
       "output_type": "stream",
       "stream": "stdout",
       "text": [
        "\n",
        "('hard', 'img', 'ZS')\n",
        "5.23838738414e-192"
       ]
      },
      {
       "output_type": "stream",
       "stream": "stdout",
       "text": [
        "\n",
        "('hard', 'pcp', 'KL')\n",
        "9.33934648512e-139"
       ]
      },
      {
       "output_type": "stream",
       "stream": "stdout",
       "text": [
        "\n",
        "('hard', 'pcp', 'RL')\n",
        "8.82689794443e-122"
       ]
      },
      {
       "output_type": "stream",
       "stream": "stdout",
       "text": [
        "\n",
        "('hard', 'pcp', 'ZS')\n",
        "2.82803866886e-114"
       ]
      },
      {
       "output_type": "stream",
       "stream": "stdout",
       "text": [
        "\n",
        "6 0.00035 1.0 0.74999925\n",
        "('easy', 'img', 'KL')\n",
        "0.0"
       ]
      },
      {
       "output_type": "stream",
       "stream": "stdout",
       "text": [
        "\n",
        "('easy', 'img', 'RL')\n",
        "9.33341632353e-281"
       ]
      },
      {
       "output_type": "stream",
       "stream": "stdout",
       "text": [
        "\n",
        "('easy', 'img', 'ZS')\n",
        "0.0"
       ]
      },
      {
       "output_type": "stream",
       "stream": "stdout",
       "text": [
        "\n",
        "('easy', 'pcp', 'KL')\n",
        "0.0"
       ]
      },
      {
       "output_type": "stream",
       "stream": "stdout",
       "text": [
        "\n",
        "('easy', 'pcp', 'RL')\n",
        "0.0"
       ]
      },
      {
       "output_type": "stream",
       "stream": "stdout",
       "text": [
        "\n",
        "('easy', 'pcp', 'ZS')\n",
        "0.0"
       ]
      },
      {
       "output_type": "stream",
       "stream": "stdout",
       "text": [
        "\n",
        "('hard', 'img', 'KL')\n",
        "5.26800003658e-257"
       ]
      },
      {
       "output_type": "stream",
       "stream": "stdout",
       "text": [
        "\n",
        "('hard', 'img', 'RL')\n",
        "3.08575851887e-285"
       ]
      },
      {
       "output_type": "stream",
       "stream": "stdout",
       "text": [
        "\n",
        "('hard', 'img', 'ZS')\n",
        "0.0"
       ]
      },
      {
       "output_type": "stream",
       "stream": "stdout",
       "text": [
        "\n",
        "('hard', 'pcp', 'KL')\n",
        "6.05949715096e-256"
       ]
      },
      {
       "output_type": "stream",
       "stream": "stdout",
       "text": [
        "\n",
        "('hard', 'pcp', 'RL')\n",
        "6.59186302934e-225"
       ]
      },
      {
       "output_type": "stream",
       "stream": "stdout",
       "text": [
        "\n",
        "('hard', 'pcp', 'ZS')\n",
        "2.55478242746e-203"
       ]
      },
      {
       "output_type": "stream",
       "stream": "stdout",
       "text": [
        "\n",
        "6 0.00035 1.0 0.999999\n",
        "('easy', 'img', 'KL')\n",
        "0.0"
       ]
      },
      {
       "output_type": "stream",
       "stream": "stdout",
       "text": [
        "\n",
        "('easy', 'img', 'RL')\n",
        "0.0"
       ]
      },
      {
       "output_type": "stream",
       "stream": "stdout",
       "text": [
        "\n",
        "('easy', 'img', 'ZS')\n",
        "0.0"
       ]
      },
      {
       "output_type": "stream",
       "stream": "stdout",
       "text": [
        "\n",
        "('easy', 'pcp', 'KL')\n",
        "0.0"
       ]
      },
      {
       "output_type": "stream",
       "stream": "stdout",
       "text": [
        "\n",
        "('easy', 'pcp', 'RL')\n",
        "0.0"
       ]
      },
      {
       "output_type": "stream",
       "stream": "stdout",
       "text": [
        "\n",
        "('easy', 'pcp', 'ZS')\n",
        "0.0"
       ]
      },
      {
       "output_type": "stream",
       "stream": "stdout",
       "text": [
        "\n",
        "('hard', 'img', 'KL')\n",
        "0.0"
       ]
      },
      {
       "output_type": "stream",
       "stream": "stdout",
       "text": [
        "\n",
        "('hard', 'img', 'RL')\n",
        "0.0"
       ]
      },
      {
       "output_type": "stream",
       "stream": "stdout",
       "text": [
        "\n",
        "('hard', 'img', 'ZS')\n",
        "0.0"
       ]
      },
      {
       "output_type": "stream",
       "stream": "stdout",
       "text": [
        "\n",
        "('hard', 'pcp', 'KL')\n",
        "0.0"
       ]
      },
      {
       "output_type": "stream",
       "stream": "stdout",
       "text": [
        "\n",
        "('hard', 'pcp', 'RL')\n",
        "0.0"
       ]
      },
      {
       "output_type": "stream",
       "stream": "stdout",
       "text": [
        "\n",
        "('hard', 'pcp', 'ZS')\n",
        "0.0"
       ]
      },
      {
       "output_type": "stream",
       "stream": "stdout",
       "text": [
        "\n",
        "7 0.00015 1e-06 0.0\n",
        "('easy', 'img', 'KL')\n",
        "0.0"
       ]
      },
      {
       "output_type": "stream",
       "stream": "stdout",
       "text": [
        "\n",
        "('easy', 'img', 'RL')\n",
        "0.0"
       ]
      },
      {
       "output_type": "stream",
       "stream": "stdout",
       "text": [
        "\n",
        "('easy', 'img', 'ZS')\n",
        "0.0"
       ]
      },
      {
       "output_type": "stream",
       "stream": "stdout",
       "text": [
        "\n",
        "('easy', 'pcp', 'KL')\n",
        "0.0"
       ]
      },
      {
       "output_type": "stream",
       "stream": "stdout",
       "text": [
        "\n",
        "('easy', 'pcp', 'RL')\n",
        "0.0"
       ]
      },
      {
       "output_type": "stream",
       "stream": "stdout",
       "text": [
        "\n",
        "('easy', 'pcp', 'ZS')\n",
        "0.0"
       ]
      },
      {
       "output_type": "stream",
       "stream": "stdout",
       "text": [
        "\n",
        "('hard', 'img', 'KL')\n",
        "0.0"
       ]
      },
      {
       "output_type": "stream",
       "stream": "stdout",
       "text": [
        "\n",
        "('hard', 'img', 'RL')\n",
        "0.0"
       ]
      },
      {
       "output_type": "stream",
       "stream": "stdout",
       "text": [
        "\n",
        "('hard', 'img', 'ZS')\n",
        "0.0"
       ]
      },
      {
       "output_type": "stream",
       "stream": "stdout",
       "text": [
        "\n",
        "('hard', 'pcp', 'KL')\n",
        "0.0"
       ]
      },
      {
       "output_type": "stream",
       "stream": "stdout",
       "text": [
        "\n",
        "('hard', 'pcp', 'RL')\n",
        "0.0"
       ]
      },
      {
       "output_type": "stream",
       "stream": "stdout",
       "text": [
        "\n",
        "('hard', 'pcp', 'ZS')\n",
        "0.0"
       ]
      },
      {
       "output_type": "stream",
       "stream": "stdout",
       "text": [
        "\n",
        "7 0.00015 0.25000075 0.0\n",
        "('easy', 'img', 'KL')\n",
        "0.0"
       ]
      },
      {
       "output_type": "stream",
       "stream": "stdout",
       "text": [
        "\n",
        "('easy', 'img', 'RL')\n",
        "0.0"
       ]
      },
      {
       "output_type": "stream",
       "stream": "stdout",
       "text": [
        "\n",
        "('easy', 'img', 'ZS')\n",
        "0.0"
       ]
      },
      {
       "output_type": "stream",
       "stream": "stdout",
       "text": [
        "\n",
        "('easy', 'pcp', 'KL')\n",
        "0.0"
       ]
      },
      {
       "output_type": "stream",
       "stream": "stdout",
       "text": [
        "\n",
        "('easy', 'pcp', 'RL')\n",
        "0.0"
       ]
      },
      {
       "output_type": "stream",
       "stream": "stdout",
       "text": [
        "\n",
        "('easy', 'pcp', 'ZS')\n",
        "0.0"
       ]
      },
      {
       "output_type": "stream",
       "stream": "stdout",
       "text": [
        "\n",
        "('hard', 'img', 'KL')\n",
        "0.0"
       ]
      },
      {
       "output_type": "stream",
       "stream": "stdout",
       "text": [
        "\n",
        "('hard', 'img', 'RL')\n",
        "0.0"
       ]
      },
      {
       "output_type": "stream",
       "stream": "stdout",
       "text": [
        "\n",
        "('hard', 'img', 'ZS')\n",
        "0.0"
       ]
      },
      {
       "output_type": "stream",
       "stream": "stdout",
       "text": [
        "\n",
        "('hard', 'pcp', 'KL')\n",
        "0.0"
       ]
      },
      {
       "output_type": "stream",
       "stream": "stdout",
       "text": [
        "\n",
        "('hard', 'pcp', 'RL')\n",
        "0.0"
       ]
      },
      {
       "output_type": "stream",
       "stream": "stdout",
       "text": [
        "\n",
        "('hard', 'pcp', 'ZS')\n",
        "0.0"
       ]
      },
      {
       "output_type": "stream",
       "stream": "stdout",
       "text": [
        "\n",
        "7 0.00015 0.25000075 0.24999975\n",
        "('easy', 'img', 'KL')\n",
        "6.81445481099e-69"
       ]
      },
      {
       "output_type": "stream",
       "stream": "stdout",
       "text": [
        "\n",
        "('easy', 'img', 'RL')\n",
        "2.32832737211e-78"
       ]
      },
      {
       "output_type": "stream",
       "stream": "stdout",
       "text": [
        "\n",
        "('easy', 'img', 'ZS')\n",
        "2.31775522989e-67"
       ]
      },
      {
       "output_type": "stream",
       "stream": "stdout",
       "text": [
        "\n",
        "('easy', 'pcp', 'KL')\n",
        "1.28764036784e-67"
       ]
      },
      {
       "output_type": "stream",
       "stream": "stdout",
       "text": [
        "\n",
        "('easy', 'pcp', 'RL')\n",
        "2.35625311911e-73"
       ]
      },
      {
       "output_type": "stream",
       "stream": "stdout",
       "text": [
        "\n",
        "('easy', 'pcp', 'ZS')\n",
        "4.17194253139e-67"
       ]
      },
      {
       "output_type": "stream",
       "stream": "stdout",
       "text": [
        "\n",
        "('hard', 'img', 'KL')\n",
        "1.27283490675e-90"
       ]
      },
      {
       "output_type": "stream",
       "stream": "stdout",
       "text": [
        "\n",
        "('hard', 'img', 'RL')\n",
        "5.28203619612e-79"
       ]
      },
      {
       "output_type": "stream",
       "stream": "stdout",
       "text": [
        "\n",
        "('hard', 'img', 'ZS')\n",
        "6.36190847703e-72"
       ]
      },
      {
       "output_type": "stream",
       "stream": "stdout",
       "text": [
        "\n",
        "('hard', 'pcp', 'KL')\n",
        "2.42501350007e-92"
       ]
      },
      {
       "output_type": "stream",
       "stream": "stdout",
       "text": [
        "\n",
        "('hard', 'pcp', 'RL')\n",
        "2.45377530778e-104"
       ]
      },
      {
       "output_type": "stream",
       "stream": "stdout",
       "text": [
        "\n",
        "('hard', 'pcp', 'ZS')\n",
        "3.64991794878e-117"
       ]
      },
      {
       "output_type": "stream",
       "stream": "stdout",
       "text": [
        "\n",
        "7 0.00015 0.5000005 0.0\n",
        "('easy', 'img', 'KL')\n",
        "0.0"
       ]
      },
      {
       "output_type": "stream",
       "stream": "stdout",
       "text": [
        "\n",
        "('easy', 'img', 'RL')\n",
        "0.0"
       ]
      },
      {
       "output_type": "stream",
       "stream": "stdout",
       "text": [
        "\n",
        "('easy', 'img', 'ZS')\n",
        "0.0"
       ]
      },
      {
       "output_type": "stream",
       "stream": "stdout",
       "text": [
        "\n",
        "('easy', 'pcp', 'KL')\n",
        "0.0"
       ]
      },
      {
       "output_type": "stream",
       "stream": "stdout",
       "text": [
        "\n",
        "('easy', 'pcp', 'RL')\n",
        "0.0"
       ]
      },
      {
       "output_type": "stream",
       "stream": "stdout",
       "text": [
        "\n",
        "('easy', 'pcp', 'ZS')\n",
        "0.0"
       ]
      },
      {
       "output_type": "stream",
       "stream": "stdout",
       "text": [
        "\n",
        "('hard', 'img', 'KL')\n",
        "0.0"
       ]
      },
      {
       "output_type": "stream",
       "stream": "stdout",
       "text": [
        "\n",
        "('hard', 'img', 'RL')\n",
        "0.0"
       ]
      },
      {
       "output_type": "stream",
       "stream": "stdout",
       "text": [
        "\n",
        "('hard', 'img', 'ZS')\n",
        "0.0"
       ]
      },
      {
       "output_type": "stream",
       "stream": "stdout",
       "text": [
        "\n",
        "('hard', 'pcp', 'KL')\n",
        "0.0"
       ]
      },
      {
       "output_type": "stream",
       "stream": "stdout",
       "text": [
        "\n",
        "('hard', 'pcp', 'RL')\n",
        "0.0"
       ]
      },
      {
       "output_type": "stream",
       "stream": "stdout",
       "text": [
        "\n",
        "('hard', 'pcp', 'ZS')\n",
        "0.0"
       ]
      },
      {
       "output_type": "stream",
       "stream": "stdout",
       "text": [
        "\n",
        "7 0.00015 0.5000005 0.24999975\n",
        "('easy', 'img', 'KL')\n",
        "7.71040319835e-69"
       ]
      },
      {
       "output_type": "stream",
       "stream": "stdout",
       "text": [
        "\n",
        "('easy', 'img', 'RL')\n",
        "9.77058300565e-72"
       ]
      },
      {
       "output_type": "stream",
       "stream": "stdout",
       "text": [
        "\n",
        "('easy', 'img', 'ZS')\n",
        "2.2938566777e-69"
       ]
      },
      {
       "output_type": "stream",
       "stream": "stdout",
       "text": [
        "\n",
        "('easy', 'pcp', 'KL')\n",
        "6.9030822938e-70"
       ]
      },
      {
       "output_type": "stream",
       "stream": "stdout",
       "text": [
        "\n",
        "('easy', 'pcp', 'RL')\n",
        "2.37599537238e-72"
       ]
      },
      {
       "output_type": "stream",
       "stream": "stdout",
       "text": [
        "\n",
        "('easy', 'pcp', 'ZS')\n",
        "4.64329279942e-69"
       ]
      },
      {
       "output_type": "stream",
       "stream": "stdout",
       "text": [
        "\n",
        "('hard', 'img', 'KL')\n",
        "1.14275405707e-80"
       ]
      },
      {
       "output_type": "stream",
       "stream": "stdout",
       "text": [
        "\n",
        "('hard', 'img', 'RL')\n",
        "7.3140108821e-73"
       ]
      },
      {
       "output_type": "stream",
       "stream": "stdout",
       "text": [
        "\n",
        "('hard', 'img', 'ZS')\n",
        "3.94283816653e-72"
       ]
      },
      {
       "output_type": "stream",
       "stream": "stdout",
       "text": [
        "\n",
        "('hard', 'pcp', 'KL')\n",
        "1.00021249752e-81"
       ]
      },
      {
       "output_type": "stream",
       "stream": "stdout",
       "text": [
        "\n",
        "('hard', 'pcp', 'RL')\n",
        "1.72422074794e-89"
       ]
      },
      {
       "output_type": "stream",
       "stream": "stdout",
       "text": [
        "\n",
        "('hard', 'pcp', 'ZS')\n",
        "3.1564448136e-100"
       ]
      },
      {
       "output_type": "stream",
       "stream": "stdout",
       "text": [
        "\n",
        "7 0.00015 0.5000005 0.4999995\n",
        "('easy', 'img', 'KL')\n",
        "2.86850240023e-114"
       ]
      },
      {
       "output_type": "stream",
       "stream": "stdout",
       "text": [
        "\n",
        "('easy', 'img', 'RL')\n",
        "8.68611203606e-102"
       ]
      },
      {
       "output_type": "stream",
       "stream": "stdout",
       "text": [
        "\n",
        "('easy', 'img', 'ZS')\n",
        "7.55505044352e-121"
       ]
      },
      {
       "output_type": "stream",
       "stream": "stdout",
       "text": [
        "\n",
        "('easy', 'pcp', 'KL')\n",
        "1.39908365204e-121"
       ]
      },
      {
       "output_type": "stream",
       "stream": "stdout",
       "text": [
        "\n",
        "('easy', 'pcp', 'RL')\n",
        "2.16915987865e-115"
       ]
      },
      {
       "output_type": "stream",
       "stream": "stdout",
       "text": [
        "\n",
        "('easy', 'pcp', 'ZS')\n",
        "3.67173235664e-119"
       ]
      },
      {
       "output_type": "stream",
       "stream": "stdout",
       "text": [
        "\n",
        "('hard', 'img', 'KL')\n",
        "2.63962465549e-98"
       ]
      },
      {
       "output_type": "stream",
       "stream": "stdout",
       "text": [
        "\n",
        "('hard', 'img', 'RL')\n",
        "5.9116010449e-102"
       ]
      },
      {
       "output_type": "stream",
       "stream": "stdout",
       "text": [
        "\n",
        "('hard', 'img', 'ZS')\n",
        "1.1020661066e-119"
       ]
      },
      {
       "output_type": "stream",
       "stream": "stdout",
       "text": [
        "\n",
        "('hard', 'pcp', 'KL')\n",
        "4.52611280361e-99"
       ]
      },
      {
       "output_type": "stream",
       "stream": "stdout",
       "text": [
        "\n",
        "('hard', 'pcp', 'RL')\n",
        "2.29126247301e-94"
       ]
      },
      {
       "output_type": "stream",
       "stream": "stdout",
       "text": [
        "\n",
        "('hard', 'pcp', 'ZS')\n",
        "6.31526169369e-92"
       ]
      },
      {
       "output_type": "stream",
       "stream": "stdout",
       "text": [
        "\n",
        "7 0.00015 0.75000025 0.0\n",
        "('easy', 'img', 'KL')\n",
        "0.0"
       ]
      },
      {
       "output_type": "stream",
       "stream": "stdout",
       "text": [
        "\n",
        "('easy', 'img', 'RL')\n",
        "0.0"
       ]
      },
      {
       "output_type": "stream",
       "stream": "stdout",
       "text": [
        "\n",
        "('easy', 'img', 'ZS')\n",
        "0.0"
       ]
      },
      {
       "output_type": "stream",
       "stream": "stdout",
       "text": [
        "\n",
        "('easy', 'pcp', 'KL')\n",
        "0.0"
       ]
      },
      {
       "output_type": "stream",
       "stream": "stdout",
       "text": [
        "\n",
        "('easy', 'pcp', 'RL')\n",
        "0.0"
       ]
      },
      {
       "output_type": "stream",
       "stream": "stdout",
       "text": [
        "\n",
        "('easy', 'pcp', 'ZS')\n",
        "0.0"
       ]
      },
      {
       "output_type": "stream",
       "stream": "stdout",
       "text": [
        "\n",
        "('hard', 'img', 'KL')\n",
        "0.0"
       ]
      },
      {
       "output_type": "stream",
       "stream": "stdout",
       "text": [
        "\n",
        "('hard', 'img', 'RL')\n",
        "0.0"
       ]
      },
      {
       "output_type": "stream",
       "stream": "stdout",
       "text": [
        "\n",
        "('hard', 'img', 'ZS')\n",
        "0.0"
       ]
      },
      {
       "output_type": "stream",
       "stream": "stdout",
       "text": [
        "\n",
        "('hard', 'pcp', 'KL')\n",
        "0.0"
       ]
      },
      {
       "output_type": "stream",
       "stream": "stdout",
       "text": [
        "\n",
        "('hard', 'pcp', 'RL')\n",
        "0.0"
       ]
      },
      {
       "output_type": "stream",
       "stream": "stdout",
       "text": [
        "\n",
        "('hard', 'pcp', 'ZS')\n",
        "0.0"
       ]
      },
      {
       "output_type": "stream",
       "stream": "stdout",
       "text": [
        "\n",
        "7 0.00015 0.75000025 0.24999975\n",
        "('easy', 'img', 'KL')\n",
        "7.89099831824e-74"
       ]
      },
      {
       "output_type": "stream",
       "stream": "stdout",
       "text": [
        "\n",
        "('easy', 'img', 'RL')\n",
        "7.70167138798e-70"
       ]
      },
      {
       "output_type": "stream",
       "stream": "stdout",
       "text": [
        "\n",
        "('easy', 'img', 'ZS')\n",
        "1.22883853118e-76"
       ]
      },
      {
       "output_type": "stream",
       "stream": "stdout",
       "text": [
        "\n",
        "('easy', 'pcp', 'KL')\n",
        "1.85295527747e-77"
       ]
      },
      {
       "output_type": "stream",
       "stream": "stdout",
       "text": [
        "\n",
        "('easy', 'pcp', 'RL')\n",
        "1.09834894113e-76"
       ]
      },
      {
       "output_type": "stream",
       "stream": "stdout",
       "text": [
        "\n",
        "('easy', 'pcp', 'ZS')\n",
        "3.41841848831e-76"
       ]
      },
      {
       "output_type": "stream",
       "stream": "stdout",
       "text": [
        "\n",
        "('hard', 'img', 'KL')\n",
        "3.27626834216e-76"
       ]
      },
      {
       "output_type": "stream",
       "stream": "stdout",
       "text": [
        "\n",
        "('hard', 'img', 'RL')\n",
        "1.2776504312e-71"
       ]
      },
      {
       "output_type": "stream",
       "stream": "stdout",
       "text": [
        "\n",
        "('hard', 'img', 'ZS')\n",
        "1.34699823829e-77"
       ]
      },
      {
       "output_type": "stream",
       "stream": "stdout",
       "text": [
        "\n",
        "('hard', 'pcp', 'KL')\n",
        "9.85201585897e-77"
       ]
      },
      {
       "output_type": "stream",
       "stream": "stdout",
       "text": [
        "\n",
        "('hard', 'pcp', 'RL')\n",
        "1.05654336809e-80"
       ]
      },
      {
       "output_type": "stream",
       "stream": "stdout",
       "text": [
        "\n",
        "('hard', 'pcp', 'ZS')\n",
        "3.31228797356e-90"
       ]
      },
      {
       "output_type": "stream",
       "stream": "stdout",
       "text": [
        "\n",
        "7 0.00015 0.75000025 0.4999995\n",
        "('easy', 'img', 'KL')\n",
        "1.16071165937e-138"
       ]
      },
      {
       "output_type": "stream",
       "stream": "stdout",
       "text": [
        "\n",
        "('easy', 'img', 'RL')\n",
        "7.96903636372e-120"
       ]
      },
      {
       "output_type": "stream",
       "stream": "stdout",
       "text": [
        "\n",
        "('easy', 'img', 'ZS')\n",
        "2.90354957679e-147"
       ]
      },
      {
       "output_type": "stream",
       "stream": "stdout",
       "text": [
        "\n",
        "('easy', 'pcp', 'KL')\n",
        "3.16346746258e-148"
       ]
      },
      {
       "output_type": "stream",
       "stream": "stdout",
       "text": [
        "\n",
        "('easy', 'pcp', 'RL')\n",
        "7.80419661483e-139"
       ]
      },
      {
       "output_type": "stream",
       "stream": "stdout",
       "text": [
        "\n",
        "('easy', 'pcp', 'ZS')\n",
        "1.73188400838e-145"
       ]
      },
      {
       "output_type": "stream",
       "stream": "stdout",
       "text": [
        "\n",
        "('hard', 'img', 'KL')\n",
        "8.20173424921e-113"
       ]
      },
      {
       "output_type": "stream",
       "stream": "stdout",
       "text": [
        "\n",
        "('hard', 'img', 'RL')\n",
        "3.43674870698e-120"
       ]
      },
      {
       "output_type": "stream",
       "stream": "stdout",
       "text": [
        "\n",
        "('hard', 'img', 'ZS')\n",
        "4.34384395411e-144"
       ]
      },
      {
       "output_type": "stream",
       "stream": "stdout",
       "text": [
        "\n",
        "('hard', 'pcp', 'KL')\n",
        "5.74956910878e-113"
       ]
      },
      {
       "output_type": "stream",
       "stream": "stdout",
       "text": [
        "\n",
        "('hard', 'pcp', 'RL')\n",
        "3.92122399649e-104"
       ]
      },
      {
       "output_type": "stream",
       "stream": "stdout",
       "text": [
        "\n",
        "('hard', 'pcp', 'ZS')\n",
        "1.39813715651e-99"
       ]
      },
      {
       "output_type": "stream",
       "stream": "stdout",
       "text": [
        "\n",
        "7 0.00015 0.75000025 0.74999925\n",
        "('easy', 'img', 'KL')\n",
        "1.02723491103e-270"
       ]
      },
      {
       "output_type": "stream",
       "stream": "stdout",
       "text": [
        "\n",
        "('easy', 'img', 'RL')\n",
        "2.75667050401e-236"
       ]
      },
      {
       "output_type": "stream",
       "stream": "stdout",
       "text": [
        "\n",
        "('easy', 'img', 'ZS')\n",
        "2.09509274022e-285"
       ]
      },
      {
       "output_type": "stream",
       "stream": "stdout",
       "text": [
        "\n",
        "('easy', 'pcp', 'KL')\n",
        "1.29326913953e-286"
       ]
      },
      {
       "output_type": "stream",
       "stream": "stdout",
       "text": [
        "\n",
        "('easy', 'pcp', 'RL')\n",
        "1.69883052716e-268"
       ]
      },
      {
       "output_type": "stream",
       "stream": "stdout",
       "text": [
        "\n",
        "('easy', 'pcp', 'ZS')\n",
        "2.74914757556e-282"
       ]
      },
      {
       "output_type": "stream",
       "stream": "stdout",
       "text": [
        "\n",
        "('hard', 'img', 'KL')\n",
        "4.65671690011e-217"
       ]
      },
      {
       "output_type": "stream",
       "stream": "stdout",
       "text": [
        "\n",
        "('hard', 'img', 'RL')\n",
        "5.62841212387e-236"
       ]
      },
      {
       "output_type": "stream",
       "stream": "stdout",
       "text": [
        "\n",
        "('hard', 'img', 'ZS')\n",
        "1.62413327851e-278"
       ]
      },
      {
       "output_type": "stream",
       "stream": "stdout",
       "text": [
        "\n",
        "('hard', 'pcp', 'KL')\n",
        "7.18628807251e-217"
       ]
      },
      {
       "output_type": "stream",
       "stream": "stdout",
       "text": [
        "\n",
        "('hard', 'pcp', 'RL')\n",
        "1.82000486971e-195"
       ]
      },
      {
       "output_type": "stream",
       "stream": "stdout",
       "text": [
        "\n",
        "('hard', 'pcp', 'ZS')\n",
        "9.29488673557e-178"
       ]
      },
      {
       "output_type": "stream",
       "stream": "stdout",
       "text": [
        "\n",
        "7 0.00015 1.0 0.0\n",
        "('easy', 'img', 'KL')\n",
        "0.0"
       ]
      },
      {
       "output_type": "stream",
       "stream": "stdout",
       "text": [
        "\n",
        "('easy', 'img', 'RL')\n",
        "0.0"
       ]
      },
      {
       "output_type": "stream",
       "stream": "stdout",
       "text": [
        "\n",
        "('easy', 'img', 'ZS')\n",
        "0.0"
       ]
      },
      {
       "output_type": "stream",
       "stream": "stdout",
       "text": [
        "\n",
        "('easy', 'pcp', 'KL')\n",
        "0.0"
       ]
      },
      {
       "output_type": "stream",
       "stream": "stdout",
       "text": [
        "\n",
        "('easy', 'pcp', 'RL')\n",
        "0.0"
       ]
      },
      {
       "output_type": "stream",
       "stream": "stdout",
       "text": [
        "\n",
        "('easy', 'pcp', 'ZS')\n",
        "0.0"
       ]
      },
      {
       "output_type": "stream",
       "stream": "stdout",
       "text": [
        "\n",
        "('hard', 'img', 'KL')\n",
        "0.0"
       ]
      },
      {
       "output_type": "stream",
       "stream": "stdout",
       "text": [
        "\n",
        "('hard', 'img', 'RL')\n",
        "0.0"
       ]
      },
      {
       "output_type": "stream",
       "stream": "stdout",
       "text": [
        "\n",
        "('hard', 'img', 'ZS')\n",
        "0.0"
       ]
      },
      {
       "output_type": "stream",
       "stream": "stdout",
       "text": [
        "\n",
        "('hard', 'pcp', 'KL')\n",
        "0.0"
       ]
      },
      {
       "output_type": "stream",
       "stream": "stdout",
       "text": [
        "\n",
        "('hard', 'pcp', 'RL')\n",
        "0.0"
       ]
      },
      {
       "output_type": "stream",
       "stream": "stdout",
       "text": [
        "\n",
        "('hard', 'pcp', 'ZS')\n",
        "0.0"
       ]
      },
      {
       "output_type": "stream",
       "stream": "stdout",
       "text": [
        "\n",
        "7 0.00015 1.0 0.24999975\n",
        "('easy', 'img', 'KL')\n",
        "8.18237391058e-88"
       ]
      },
      {
       "output_type": "stream",
       "stream": "stdout",
       "text": [
        "\n",
        "('easy', 'img', 'RL')\n",
        "1.64521426768e-72"
       ]
      },
      {
       "output_type": "stream",
       "stream": "stdout",
       "text": [
        "\n",
        "('easy', 'img', 'ZS')\n",
        "3.67308191183e-94"
       ]
      },
      {
       "output_type": "stream",
       "stream": "stdout",
       "text": [
        "\n",
        "('easy', 'pcp', 'KL')\n",
        "7.03353328739e-96"
       ]
      },
      {
       "output_type": "stream",
       "stream": "stdout",
       "text": [
        "\n",
        "('easy', 'pcp', 'RL')\n",
        "1.09678684782e-90"
       ]
      },
      {
       "output_type": "stream",
       "stream": "stdout",
       "text": [
        "\n",
        "('easy', 'pcp', 'ZS')\n",
        "1.00032002158e-93"
       ]
      },
      {
       "output_type": "stream",
       "stream": "stdout",
       "text": [
        "\n",
        "('hard', 'img', 'KL')\n",
        "2.12147139459e-77"
       ]
      },
      {
       "output_type": "stream",
       "stream": "stdout",
       "text": [
        "\n",
        "('hard', 'img', 'RL')\n",
        "1.01751840296e-76"
       ]
      },
      {
       "output_type": "stream",
       "stream": "stdout",
       "text": [
        "\n",
        "('hard', 'img', 'ZS')\n",
        "5.31589500432e-92"
       ]
      },
      {
       "output_type": "stream",
       "stream": "stdout",
       "text": [
        "\n",
        "('hard', 'pcp', 'KL')\n",
        "1.03899659752e-77"
       ]
      },
      {
       "output_type": "stream",
       "stream": "stdout",
       "text": [
        "\n",
        "('hard', 'pcp', 'RL')\n",
        "7.55839814375e-77"
       ]
      },
      {
       "output_type": "stream",
       "stream": "stdout",
       "text": [
        "\n",
        "('hard', 'pcp', 'ZS')\n",
        "1.79111984482e-86"
       ]
      },
      {
       "output_type": "stream",
       "stream": "stdout",
       "text": [
        "\n",
        "7 0.00015 1.0 0.4999995\n",
        "('easy', 'img', 'KL')\n",
        "1.84232005534e-184"
       ]
      },
      {
       "output_type": "stream",
       "stream": "stdout",
       "text": [
        "\n",
        "('easy', 'img', 'RL')\n",
        "1.68306394985e-151"
       ]
      },
      {
       "output_type": "stream",
       "stream": "stdout",
       "text": [
        "\n",
        "('easy', 'img', 'ZS')\n",
        "3.28358985658e-198"
       ]
      },
      {
       "output_type": "stream",
       "stream": "stdout",
       "text": [
        "\n",
        "('easy', 'pcp', 'KL')\n",
        "7.70842267105e-200"
       ]
      },
      {
       "output_type": "stream",
       "stream": "stdout",
       "text": [
        "\n",
        "('easy', 'pcp', 'RL')\n",
        "6.41560404609e-184"
       ]
      },
      {
       "output_type": "stream",
       "stream": "stdout",
       "text": [
        "\n",
        "('easy', 'pcp', 'ZS')\n",
        "6.2146039943e-196"
       ]
      },
      {
       "output_type": "stream",
       "stream": "stdout",
       "text": [
        "\n",
        "('hard', 'img', 'KL')\n",
        "3.29118108295e-140"
       ]
      },
      {
       "output_type": "stream",
       "stream": "stdout",
       "text": [
        "\n",
        "('hard', 'img', 'RL')\n",
        "1.47570848908e-153"
       ]
      },
      {
       "output_type": "stream",
       "stream": "stdout",
       "text": [
        "\n",
        "('hard', 'img', 'ZS')\n",
        "7.57613884552e-191"
       ]
      },
      {
       "output_type": "stream",
       "stream": "stdout",
       "text": [
        "\n",
        "('hard', 'pcp', 'KL')\n",
        "6.0849321332e-140"
       ]
      },
      {
       "output_type": "stream",
       "stream": "stdout",
       "text": [
        "\n",
        "('hard', 'pcp', 'RL')\n",
        "1.10218558506e-123"
       ]
      },
      {
       "output_type": "stream",
       "stream": "stdout",
       "text": [
        "\n",
        "('hard', 'pcp', 'ZS')\n",
        "2.05071785445e-117"
       ]
      },
      {
       "output_type": "stream",
       "stream": "stdout",
       "text": [
        "\n",
        "7 0.00015 1.0 0.74999925\n",
        "('easy', 'img', 'KL')\n",
        "0.0"
       ]
      },
      {
       "output_type": "stream",
       "stream": "stdout",
       "text": [
        "\n",
        "('easy', 'img', 'RL')\n",
        "8.94073840795e-317"
       ]
      },
      {
       "output_type": "stream",
       "stream": "stdout",
       "text": [
        "\n",
        "('easy', 'img', 'ZS')\n",
        "0.0"
       ]
      },
      {
       "output_type": "stream",
       "stream": "stdout",
       "text": [
        "\n",
        "('easy', 'pcp', 'KL')\n",
        "0.0"
       ]
      },
      {
       "output_type": "stream",
       "stream": "stdout",
       "text": [
        "\n",
        "('easy', 'pcp', 'RL')\n",
        "0.0"
       ]
      },
      {
       "output_type": "stream",
       "stream": "stdout",
       "text": [
        "\n",
        "('easy', 'pcp', 'ZS')\n",
        "0.0"
       ]
      },
      {
       "output_type": "stream",
       "stream": "stdout",
       "text": [
        "\n",
        "('hard', 'img', 'KL')\n",
        "8.76347742317e-290"
       ]
      },
      {
       "output_type": "stream",
       "stream": "stdout",
       "text": [
        "\n",
        "('hard', 'img', 'RL')\n",
        "9.50481019141e-318"
       ]
      },
      {
       "output_type": "stream",
       "stream": "stdout",
       "text": [
        "\n",
        "('hard', 'img', 'ZS')\n",
        "0.0"
       ]
      },
      {
       "output_type": "stream",
       "stream": "stdout",
       "text": [
        "\n",
        "('hard', 'pcp', 'KL')\n",
        "8.5461430911e-289"
       ]
      },
      {
       "output_type": "stream",
       "stream": "stdout",
       "text": [
        "\n",
        "('hard', 'pcp', 'RL')\n",
        "1.10577068334e-256"
       ]
      },
      {
       "output_type": "stream",
       "stream": "stdout",
       "text": [
        "\n",
        "('hard', 'pcp', 'ZS')\n",
        "7.43180946956e-235"
       ]
      },
      {
       "output_type": "stream",
       "stream": "stdout",
       "text": [
        "\n",
        "7 0.00015 1.0 0.999999\n",
        "('easy', 'img', 'KL')\n",
        "0.0"
       ]
      },
      {
       "output_type": "stream",
       "stream": "stdout",
       "text": [
        "\n",
        "('easy', 'img', 'RL')\n",
        "0.0"
       ]
      },
      {
       "output_type": "stream",
       "stream": "stdout",
       "text": [
        "\n",
        "('easy', 'img', 'ZS')\n",
        "0.0"
       ]
      },
      {
       "output_type": "stream",
       "stream": "stdout",
       "text": [
        "\n",
        "('easy', 'pcp', 'KL')\n",
        "0.0"
       ]
      },
      {
       "output_type": "stream",
       "stream": "stdout",
       "text": [
        "\n",
        "('easy', 'pcp', 'RL')\n",
        "0.0"
       ]
      },
      {
       "output_type": "stream",
       "stream": "stdout",
       "text": [
        "\n",
        "('easy', 'pcp', 'ZS')\n",
        "0.0"
       ]
      },
      {
       "output_type": "stream",
       "stream": "stdout",
       "text": [
        "\n",
        "('hard', 'img', 'KL')\n",
        "0.0"
       ]
      },
      {
       "output_type": "stream",
       "stream": "stdout",
       "text": [
        "\n",
        "('hard', 'img', 'RL')\n",
        "0.0"
       ]
      },
      {
       "output_type": "stream",
       "stream": "stdout",
       "text": [
        "\n",
        "('hard', 'img', 'ZS')\n",
        "0.0"
       ]
      },
      {
       "output_type": "stream",
       "stream": "stdout",
       "text": [
        "\n",
        "('hard', 'pcp', 'KL')\n",
        "0.0"
       ]
      },
      {
       "output_type": "stream",
       "stream": "stdout",
       "text": [
        "\n",
        "('hard', 'pcp', 'RL')\n",
        "0.0"
       ]
      },
      {
       "output_type": "stream",
       "stream": "stdout",
       "text": [
        "\n",
        "('hard', 'pcp', 'ZS')\n",
        "0.0"
       ]
      },
      {
       "output_type": "stream",
       "stream": "stdout",
       "text": [
        "\n",
        "7 0.0002 1e-06 0.0\n",
        "('easy', 'img', 'KL')\n",
        "0.0"
       ]
      },
      {
       "output_type": "stream",
       "stream": "stdout",
       "text": [
        "\n",
        "('easy', 'img', 'RL')\n",
        "0.0"
       ]
      },
      {
       "output_type": "stream",
       "stream": "stdout",
       "text": [
        "\n",
        "('easy', 'img', 'ZS')\n",
        "0.0"
       ]
      },
      {
       "output_type": "stream",
       "stream": "stdout",
       "text": [
        "\n",
        "('easy', 'pcp', 'KL')\n",
        "0.0"
       ]
      },
      {
       "output_type": "stream",
       "stream": "stdout",
       "text": [
        "\n",
        "('easy', 'pcp', 'RL')\n",
        "0.0"
       ]
      },
      {
       "output_type": "stream",
       "stream": "stdout",
       "text": [
        "\n",
        "('easy', 'pcp', 'ZS')\n",
        "0.0"
       ]
      },
      {
       "output_type": "stream",
       "stream": "stdout",
       "text": [
        "\n",
        "('hard', 'img', 'KL')\n",
        "0.0"
       ]
      },
      {
       "output_type": "stream",
       "stream": "stdout",
       "text": [
        "\n",
        "('hard', 'img', 'RL')\n",
        "0.0"
       ]
      },
      {
       "output_type": "stream",
       "stream": "stdout",
       "text": [
        "\n",
        "('hard', 'img', 'ZS')\n",
        "0.0"
       ]
      },
      {
       "output_type": "stream",
       "stream": "stdout",
       "text": [
        "\n",
        "('hard', 'pcp', 'KL')\n",
        "0.0"
       ]
      },
      {
       "output_type": "stream",
       "stream": "stdout",
       "text": [
        "\n",
        "('hard', 'pcp', 'RL')\n",
        "0.0"
       ]
      },
      {
       "output_type": "stream",
       "stream": "stdout",
       "text": [
        "\n",
        "('hard', 'pcp', 'ZS')\n",
        "0.0"
       ]
      },
      {
       "output_type": "stream",
       "stream": "stdout",
       "text": [
        "\n",
        "7 0.0002 0.25000075 0.0\n",
        "('easy', 'img', 'KL')\n",
        "0.0"
       ]
      },
      {
       "output_type": "stream",
       "stream": "stdout",
       "text": [
        "\n",
        "('easy', 'img', 'RL')\n",
        "0.0"
       ]
      },
      {
       "output_type": "stream",
       "stream": "stdout",
       "text": [
        "\n",
        "('easy', 'img', 'ZS')\n",
        "0.0"
       ]
      },
      {
       "output_type": "stream",
       "stream": "stdout",
       "text": [
        "\n",
        "('easy', 'pcp', 'KL')\n",
        "0.0"
       ]
      },
      {
       "output_type": "stream",
       "stream": "stdout",
       "text": [
        "\n",
        "('easy', 'pcp', 'RL')\n",
        "0.0"
       ]
      },
      {
       "output_type": "stream",
       "stream": "stdout",
       "text": [
        "\n",
        "('easy', 'pcp', 'ZS')\n",
        "0.0"
       ]
      },
      {
       "output_type": "stream",
       "stream": "stdout",
       "text": [
        "\n",
        "('hard', 'img', 'KL')\n",
        "0.0"
       ]
      },
      {
       "output_type": "stream",
       "stream": "stdout",
       "text": [
        "\n",
        "('hard', 'img', 'RL')\n",
        "0.0"
       ]
      },
      {
       "output_type": "stream",
       "stream": "stdout",
       "text": [
        "\n",
        "('hard', 'img', 'ZS')\n",
        "0.0"
       ]
      },
      {
       "output_type": "stream",
       "stream": "stdout",
       "text": [
        "\n",
        "('hard', 'pcp', 'KL')\n",
        "0.0"
       ]
      },
      {
       "output_type": "stream",
       "stream": "stdout",
       "text": [
        "\n",
        "('hard', 'pcp', 'RL')\n",
        "0.0"
       ]
      },
      {
       "output_type": "stream",
       "stream": "stdout",
       "text": [
        "\n",
        "('hard', 'pcp', 'ZS')\n",
        "0.0"
       ]
      },
      {
       "output_type": "stream",
       "stream": "stdout",
       "text": [
        "\n",
        "7 0.0002 0.25000075 0.24999975\n",
        "('easy', 'img', 'KL')\n",
        "6.81450117554e-69"
       ]
      },
      {
       "output_type": "stream",
       "stream": "stdout",
       "text": [
        "\n",
        "('easy', 'img', 'RL')\n",
        "2.32835556433e-78"
       ]
      },
      {
       "output_type": "stream",
       "stream": "stdout",
       "text": [
        "\n",
        "('easy', 'img', 'ZS')\n",
        "2.31775648095e-67"
       ]
      },
      {
       "output_type": "stream",
       "stream": "stdout",
       "text": [
        "\n",
        "('easy', 'pcp', 'KL')\n",
        "1.28764528459e-67"
       ]
      },
      {
       "output_type": "stream",
       "stream": "stdout",
       "text": [
        "\n",
        "('easy', 'pcp', 'RL')\n",
        "2.3562755571e-73"
       ]
      },
      {
       "output_type": "stream",
       "stream": "stdout",
       "text": [
        "\n",
        "('easy', 'pcp', 'ZS')\n",
        "4.1719584616e-67"
       ]
      },
      {
       "output_type": "stream",
       "stream": "stdout",
       "text": [
        "\n",
        "('hard', 'img', 'KL')\n",
        "1.27286108741e-90"
       ]
      },
      {
       "output_type": "stream",
       "stream": "stdout",
       "text": [
        "\n",
        "('hard', 'img', 'RL')\n",
        "5.28210133459e-79"
       ]
      },
      {
       "output_type": "stream",
       "stream": "stdout",
       "text": [
        "\n",
        "('hard', 'img', 'ZS')\n",
        "6.36194795297e-72"
       ]
      },
      {
       "output_type": "stream",
       "stream": "stdout",
       "text": [
        "\n",
        "('hard', 'pcp', 'KL')\n",
        "2.42505532718e-92"
       ]
      },
      {
       "output_type": "stream",
       "stream": "stdout",
       "text": [
        "\n",
        "('hard', 'pcp', 'RL')\n",
        "2.45383296917e-104"
       ]
      },
      {
       "output_type": "stream",
       "stream": "stdout",
       "text": [
        "\n",
        "('hard', 'pcp', 'ZS')\n",
        "3.65001563678e-117"
       ]
      },
      {
       "output_type": "stream",
       "stream": "stdout",
       "text": [
        "\n",
        "7 0.0002 0.5000005 0.0\n",
        "('easy', 'img', 'KL')\n",
        "0.0"
       ]
      },
      {
       "output_type": "stream",
       "stream": "stdout",
       "text": [
        "\n",
        "('easy', 'img', 'RL')\n",
        "0.0"
       ]
      },
      {
       "output_type": "stream",
       "stream": "stdout",
       "text": [
        "\n",
        "('easy', 'img', 'ZS')\n",
        "0.0"
       ]
      },
      {
       "output_type": "stream",
       "stream": "stdout",
       "text": [
        "\n",
        "('easy', 'pcp', 'KL')\n",
        "0.0"
       ]
      },
      {
       "output_type": "stream",
       "stream": "stdout",
       "text": [
        "\n",
        "('easy', 'pcp', 'RL')\n",
        "0.0"
       ]
      },
      {
       "output_type": "stream",
       "stream": "stdout",
       "text": [
        "\n",
        "('easy', 'pcp', 'ZS')\n",
        "0.0"
       ]
      },
      {
       "output_type": "stream",
       "stream": "stdout",
       "text": [
        "\n",
        "('hard', 'img', 'KL')\n",
        "0.0"
       ]
      },
      {
       "output_type": "stream",
       "stream": "stdout",
       "text": [
        "\n",
        "('hard', 'img', 'RL')\n",
        "0.0"
       ]
      },
      {
       "output_type": "stream",
       "stream": "stdout",
       "text": [
        "\n",
        "('hard', 'img', 'ZS')\n",
        "0.0"
       ]
      },
      {
       "output_type": "stream",
       "stream": "stdout",
       "text": [
        "\n",
        "('hard', 'pcp', 'KL')\n",
        "0.0"
       ]
      },
      {
       "output_type": "stream",
       "stream": "stdout",
       "text": [
        "\n",
        "('hard', 'pcp', 'RL')\n",
        "0.0"
       ]
      },
      {
       "output_type": "stream",
       "stream": "stdout",
       "text": [
        "\n",
        "('hard', 'pcp', 'ZS')\n",
        "0.0"
       ]
      },
      {
       "output_type": "stream",
       "stream": "stdout",
       "text": [
        "\n",
        "7 0.0002 0.5000005 0.24999975\n",
        "('easy', 'img', 'KL')\n",
        "5.79738659274e-69"
       ]
      },
      {
       "output_type": "stream",
       "stream": "stdout",
       "text": [
        "\n",
        "('easy', 'img', 'RL')\n",
        "2.49042134229e-71"
       ]
      },
      {
       "output_type": "stream",
       "stream": "stdout",
       "text": [
        "\n",
        "('easy', 'img', 'ZS')\n",
        "4.06800805104e-70"
       ]
      },
      {
       "output_type": "stream",
       "stream": "stdout",
       "text": [
        "\n",
        "('easy', 'pcp', 'KL')\n",
        "2.57142078131e-70"
       ]
      },
      {
       "output_type": "stream",
       "stream": "stdout",
       "text": [
        "\n",
        "('easy', 'pcp', 'RL')\n",
        "3.27433600132e-72"
       ]
      },
      {
       "output_type": "stream",
       "stream": "stdout",
       "text": [
        "\n",
        "('easy', 'pcp', 'ZS')\n",
        "1.72964178753e-69"
       ]
      },
      {
       "output_type": "stream",
       "stream": "stdout",
       "text": [
        "\n",
        "('hard', 'img', 'KL')\n",
        "1.475591935e-79"
       ]
      },
      {
       "output_type": "stream",
       "stream": "stdout",
       "text": [
        "\n",
        "('hard', 'img', 'RL')\n",
        "1.40698984394e-72"
       ]
      },
      {
       "output_type": "stream",
       "stream": "stdout",
       "text": [
        "\n",
        "('hard', 'img', 'ZS')\n",
        "1.93590270019e-72"
       ]
      },
      {
       "output_type": "stream",
       "stream": "stdout",
       "text": [
        "\n",
        "('hard', 'pcp', 'KL')\n",
        "5.94702803174e-81"
       ]
      },
      {
       "output_type": "stream",
       "stream": "stdout",
       "text": [
        "\n",
        "('hard', 'pcp', 'RL')\n",
        "4.37336920286e-88"
       ]
      },
      {
       "output_type": "stream",
       "stream": "stdout",
       "text": [
        "\n",
        "('hard', 'pcp', 'ZS')\n",
        "1.62730508416e-98"
       ]
      },
      {
       "output_type": "stream",
       "stream": "stdout",
       "text": [
        "\n",
        "7 0.0002 0.5000005 0.4999995\n",
        "('easy', 'img', 'KL')\n",
        "2.86845271027e-114"
       ]
      },
      {
       "output_type": "stream",
       "stream": "stdout",
       "text": [
        "\n",
        "('easy', 'img', 'RL')\n",
        "8.68599612572e-102"
       ]
      },
      {
       "output_type": "stream",
       "stream": "stdout",
       "text": [
        "\n",
        "('easy', 'img', 'ZS')\n",
        "7.55488407706e-121"
       ]
      },
      {
       "output_type": "stream",
       "stream": "stdout",
       "text": [
        "\n",
        "('easy', 'pcp', 'KL')\n",
        "1.39905628368e-121"
       ]
      },
      {
       "output_type": "stream",
       "stream": "stdout",
       "text": [
        "\n",
        "('easy', 'pcp', 'RL')\n",
        "2.16912672631e-115"
       ]
      },
      {
       "output_type": "stream",
       "stream": "stdout",
       "text": [
        "\n",
        "('easy', 'pcp', 'ZS')\n",
        "3.67166053154e-119"
       ]
      },
      {
       "output_type": "stream",
       "stream": "stdout",
       "text": [
        "\n",
        "('hard', 'img', 'KL')\n",
        "2.63959972914e-98"
       ]
      },
      {
       "output_type": "stream",
       "stream": "stdout",
       "text": [
        "\n",
        "('hard', 'img', 'RL')\n",
        "5.91150870279e-102"
       ]
      },
      {
       "output_type": "stream",
       "stream": "stdout",
       "text": [
        "\n",
        "('hard', 'img', 'ZS')\n",
        "1.10204382763e-119"
       ]
      },
      {
       "output_type": "stream",
       "stream": "stdout",
       "text": [
        "\n",
        "('hard', 'pcp', 'KL')\n",
        "4.52605879122e-99"
       ]
      },
      {
       "output_type": "stream",
       "stream": "stdout",
       "text": [
        "\n",
        "('hard', 'pcp', 'RL')\n",
        "2.29124587166e-94"
       ]
      },
      {
       "output_type": "stream",
       "stream": "stdout",
       "text": [
        "\n",
        "('hard', 'pcp', 'ZS')\n",
        "6.31523140229e-92"
       ]
      },
      {
       "output_type": "stream",
       "stream": "stdout",
       "text": [
        "\n",
        "7 0.0002 0.75000025 0.0\n",
        "('easy', 'img', 'KL')\n",
        "0.0"
       ]
      },
      {
       "output_type": "stream",
       "stream": "stdout",
       "text": [
        "\n",
        "('easy', 'img', 'RL')\n",
        "0.0"
       ]
      },
      {
       "output_type": "stream",
       "stream": "stdout",
       "text": [
        "\n",
        "('easy', 'img', 'ZS')\n",
        "0.0"
       ]
      },
      {
       "output_type": "stream",
       "stream": "stdout",
       "text": [
        "\n",
        "('easy', 'pcp', 'KL')\n",
        "0.0"
       ]
      },
      {
       "output_type": "stream",
       "stream": "stdout",
       "text": [
        "\n",
        "('easy', 'pcp', 'RL')\n",
        "0.0"
       ]
      },
      {
       "output_type": "stream",
       "stream": "stdout",
       "text": [
        "\n",
        "('easy', 'pcp', 'ZS')\n",
        "0.0"
       ]
      },
      {
       "output_type": "stream",
       "stream": "stdout",
       "text": [
        "\n",
        "('hard', 'img', 'KL')\n",
        "0.0"
       ]
      },
      {
       "output_type": "stream",
       "stream": "stdout",
       "text": [
        "\n",
        "('hard', 'img', 'RL')\n",
        "0.0"
       ]
      },
      {
       "output_type": "stream",
       "stream": "stdout",
       "text": [
        "\n",
        "('hard', 'img', 'ZS')\n",
        "0.0"
       ]
      },
      {
       "output_type": "stream",
       "stream": "stdout",
       "text": [
        "\n",
        "('hard', 'pcp', 'KL')\n",
        "0.0"
       ]
      },
      {
       "output_type": "stream",
       "stream": "stdout",
       "text": [
        "\n",
        "('hard', 'pcp', 'RL')\n",
        "0.0"
       ]
      },
      {
       "output_type": "stream",
       "stream": "stdout",
       "text": [
        "\n",
        "('hard', 'pcp', 'ZS')\n",
        "0.0"
       ]
      },
      {
       "output_type": "stream",
       "stream": "stdout",
       "text": [
        "\n",
        "7 0.0002 0.75000025 0.24999975\n",
        "('easy', 'img', 'KL')\n",
        "9.68888895349e-76"
       ]
      },
      {
       "output_type": "stream",
       "stream": "stdout",
       "text": [
        "\n",
        "('easy', 'img', 'RL')\n",
        "1.24312264057e-70"
       ]
      },
      {
       "output_type": "stream",
       "stream": "stdout",
       "text": [
        "\n",
        "('easy', 'img', 'ZS')\n",
        "7.02334879734e-80"
       ]
      },
      {
       "output_type": "stream",
       "stream": "stdout",
       "text": [
        "\n",
        "('easy', 'pcp', 'KL')\n",
        "4.99863872273e-80"
       ]
      },
      {
       "output_type": "stream",
       "stream": "stdout",
       "text": [
        "\n",
        "('easy', 'pcp', 'RL')\n",
        "4.6728772742e-78"
       ]
      },
      {
       "output_type": "stream",
       "stream": "stdout",
       "text": [
        "\n",
        "('easy', 'pcp', 'ZS')\n",
        "9.22172231242e-79"
       ]
      },
      {
       "output_type": "stream",
       "stream": "stdout",
       "text": [
        "\n",
        "('hard', 'img', 'KL')\n",
        "9.14247890093e-76"
       ]
      },
      {
       "output_type": "stream",
       "stream": "stdout",
       "text": [
        "\n",
        "('hard', 'img', 'RL')\n",
        "6.44887870116e-73"
       ]
      },
      {
       "output_type": "stream",
       "stream": "stdout",
       "text": [
        "\n",
        "('hard', 'img', 'ZS')\n",
        "4.45957449687e-80"
       ]
      },
      {
       "output_type": "stream",
       "stream": "stdout",
       "text": [
        "\n",
        "('hard', 'pcp', 'KL')\n",
        "5.65538878381e-77"
       ]
      },
      {
       "output_type": "stream",
       "stream": "stdout",
       "text": [
        "\n",
        "('hard', 'pcp', 'RL')\n",
        "1.49657418683e-79"
       ]
      },
      {
       "output_type": "stream",
       "stream": "stdout",
       "text": [
        "\n",
        "('hard', 'pcp', 'ZS')\n",
        "1.60701161356e-88"
       ]
      },
      {
       "output_type": "stream",
       "stream": "stdout",
       "text": [
        "\n",
        "7 0.0002 0.75000025 0.4999995\n",
        "('easy', 'img', 'KL')\n",
        "2.38876613429e-141"
       ]
      },
      {
       "output_type": "stream",
       "stream": "stdout",
       "text": [
        "\n",
        "('easy', 'img', 'RL')\n",
        "4.5737028764e-122"
       ]
      },
      {
       "output_type": "stream",
       "stream": "stdout",
       "text": [
        "\n",
        "('easy', 'img', 'ZS')\n",
        "1.79335256263e-150"
       ]
      },
      {
       "output_type": "stream",
       "stream": "stdout",
       "text": [
        "\n",
        "('easy', 'pcp', 'KL')\n",
        "3.63303263625e-151"
       ]
      },
      {
       "output_type": "stream",
       "stream": "stdout",
       "text": [
        "\n",
        "('easy', 'pcp', 'RL')\n",
        "2.69364184311e-141"
       ]
      },
      {
       "output_type": "stream",
       "stream": "stdout",
       "text": [
        "\n",
        "('easy', 'pcp', 'ZS')\n",
        "1.98895395609e-148"
       ]
      },
      {
       "output_type": "stream",
       "stream": "stdout",
       "text": [
        "\n",
        "('hard', 'img', 'KL')\n",
        "1.07182028614e-114"
       ]
      },
      {
       "output_type": "stream",
       "stream": "stdout",
       "text": [
        "\n",
        "('hard', 'img', 'RL')\n",
        "8.43515969816e-123"
       ]
      },
      {
       "output_type": "stream",
       "stream": "stdout",
       "text": [
        "\n",
        "('hard', 'img', 'ZS')\n",
        "3.43315943991e-147"
       ]
      },
      {
       "output_type": "stream",
       "stream": "stdout",
       "text": [
        "\n",
        "('hard', 'pcp', 'KL')\n",
        "3.70580090325e-115"
       ]
      },
      {
       "output_type": "stream",
       "stream": "stdout",
       "text": [
        "\n",
        "('hard', 'pcp', 'RL')\n",
        "8.82088737382e-106"
       ]
      },
      {
       "output_type": "stream",
       "stream": "stdout",
       "text": [
        "\n",
        "('hard', 'pcp', 'ZS')\n",
        "6.11057118123e-101"
       ]
      },
      {
       "output_type": "stream",
       "stream": "stdout",
       "text": [
        "\n",
        "7 0.0002 0.75000025 0.74999925\n",
        "('easy', 'img', 'KL')\n",
        "1.02718047129e-270"
       ]
      },
      {
       "output_type": "stream",
       "stream": "stdout",
       "text": [
        "\n",
        "('easy', 'img', 'RL')\n",
        "2.75653903231e-236"
       ]
      },
      {
       "output_type": "stream",
       "stream": "stdout",
       "text": [
        "\n",
        "('easy', 'img', 'ZS')\n",
        "2.09496858484e-285"
       ]
      },
      {
       "output_type": "stream",
       "stream": "stdout",
       "text": [
        "\n",
        "('easy', 'pcp', 'KL')\n",
        "1.29319674019e-286"
       ]
      },
      {
       "output_type": "stream",
       "stream": "stdout",
       "text": [
        "\n",
        "('easy', 'pcp', 'RL')\n",
        "1.69874511392e-268"
       ]
      },
      {
       "output_type": "stream",
       "stream": "stdout",
       "text": [
        "\n",
        "('easy', 'pcp', 'ZS')\n",
        "2.74899367375e-282"
       ]
      },
      {
       "output_type": "stream",
       "stream": "stdout",
       "text": [
        "\n",
        "('hard', 'img', 'KL')\n",
        "4.6565038586e-217"
       ]
      },
      {
       "output_type": "stream",
       "stream": "stdout",
       "text": [
        "\n",
        "('hard', 'img', 'RL')\n",
        "5.62810827155e-236"
       ]
      },
      {
       "output_type": "stream",
       "stream": "stdout",
       "text": [
        "\n",
        "('hard', 'img', 'ZS')\n",
        "1.62403564852e-278"
       ]
      },
      {
       "output_type": "stream",
       "stream": "stdout",
       "text": [
        "\n",
        "('hard', 'pcp', 'KL')\n",
        "7.18593544383e-217"
       ]
      },
      {
       "output_type": "stream",
       "stream": "stdout",
       "text": [
        "\n",
        "('hard', 'pcp', 'RL')\n",
        "1.81992693852e-195"
       ]
      },
      {
       "output_type": "stream",
       "stream": "stdout",
       "text": [
        "\n",
        "('hard', 'pcp', 'ZS')\n",
        "9.29451908513e-178"
       ]
      },
      {
       "output_type": "stream",
       "stream": "stdout",
       "text": [
        "\n",
        "7 0.0002 1.0 0.0\n",
        "('easy', 'img', 'KL')\n",
        "0.0"
       ]
      },
      {
       "output_type": "stream",
       "stream": "stdout",
       "text": [
        "\n",
        "('easy', 'img', 'RL')\n",
        "0.0"
       ]
      },
      {
       "output_type": "stream",
       "stream": "stdout",
       "text": [
        "\n",
        "('easy', 'img', 'ZS')\n",
        "0.0"
       ]
      },
      {
       "output_type": "stream",
       "stream": "stdout",
       "text": [
        "\n",
        "('easy', 'pcp', 'KL')\n",
        "0.0"
       ]
      },
      {
       "output_type": "stream",
       "stream": "stdout",
       "text": [
        "\n",
        "('easy', 'pcp', 'RL')\n",
        "0.0"
       ]
      },
      {
       "output_type": "stream",
       "stream": "stdout",
       "text": [
        "\n",
        "('easy', 'pcp', 'ZS')\n",
        "0.0"
       ]
      },
      {
       "output_type": "stream",
       "stream": "stdout",
       "text": [
        "\n",
        "('hard', 'img', 'KL')\n",
        "0.0"
       ]
      },
      {
       "output_type": "stream",
       "stream": "stdout",
       "text": [
        "\n",
        "('hard', 'img', 'RL')\n",
        "0.0"
       ]
      },
      {
       "output_type": "stream",
       "stream": "stdout",
       "text": [
        "\n",
        "('hard', 'img', 'ZS')\n",
        "0.0"
       ]
      },
      {
       "output_type": "stream",
       "stream": "stdout",
       "text": [
        "\n",
        "('hard', 'pcp', 'KL')\n",
        "0.0"
       ]
      },
      {
       "output_type": "stream",
       "stream": "stdout",
       "text": [
        "\n",
        "('hard', 'pcp', 'RL')\n",
        "0.0"
       ]
      },
      {
       "output_type": "stream",
       "stream": "stdout",
       "text": [
        "\n",
        "('hard', 'pcp', 'ZS')\n",
        "0.0"
       ]
      },
      {
       "output_type": "stream",
       "stream": "stdout",
       "text": [
        "\n",
        "7 0.0002 1.0 0.24999975\n",
        "('easy', 'img', 'KL')\n",
        "2.01797031038e-93"
       ]
      },
      {
       "output_type": "stream",
       "stream": "stdout",
       "text": [
        "\n",
        "('easy', 'img', 'RL')\n",
        "8.60325086656e-77"
       ]
      },
      {
       "output_type": "stream",
       "stream": "stdout",
       "text": [
        "\n",
        "('easy', 'img', 'ZS')\n",
        "1.25708175703e-101"
       ]
      },
      {
       "output_type": "stream",
       "stream": "stdout",
       "text": [
        "\n",
        "('easy', 'pcp', 'KL')\n",
        "3.24599475335e-102"
       ]
      },
      {
       "output_type": "stream",
       "stream": "stdout",
       "text": [
        "\n",
        "('easy', 'pcp', 'RL')\n",
        "2.3006359734e-95"
       ]
      },
      {
       "output_type": "stream",
       "stream": "stdout",
       "text": [
        "\n",
        "('easy', 'pcp', 'ZS')\n",
        "4.61650412251e-100"
       ]
      },
      {
       "output_type": "stream",
       "stream": "stdout",
       "text": [
        "\n",
        "('hard', 'img', 'KL')\n",
        "9.79369267456e-80"
       ]
      },
      {
       "output_type": "stream",
       "stream": "stdout",
       "text": [
        "\n",
        "('hard', 'img', 'RL')\n",
        "1.89946024858e-82"
       ]
      },
      {
       "output_type": "stream",
       "stream": "stdout",
       "text": [
        "\n",
        "('hard', 'img', 'ZS')\n",
        "6.04574908969e-99"
       ]
      },
      {
       "output_type": "stream",
       "stream": "stdout",
       "text": [
        "\n",
        "('hard', 'pcp', 'KL')\n",
        "4.39691632238e-81"
       ]
      },
      {
       "output_type": "stream",
       "stream": "stdout",
       "text": [
        "\n",
        "('hard', 'pcp', 'RL')\n",
        "1.63646361204e-77"
       ]
      },
      {
       "output_type": "stream",
       "stream": "stdout",
       "text": [
        "\n",
        "('hard', 'pcp', 'ZS')\n",
        "8.25217721312e-87"
       ]
      },
      {
       "output_type": "stream",
       "stream": "stdout",
       "text": [
        "\n",
        "7 0.0002 1.0 0.4999995\n",
        "('easy', 'img', 'KL')\n",
        "6.52777036888e-192"
       ]
      },
      {
       "output_type": "stream",
       "stream": "stdout",
       "text": [
        "\n",
        "('easy', 'img', 'RL')\n",
        "2.07225932682e-158"
       ]
      },
      {
       "output_type": "stream",
       "stream": "stdout",
       "text": [
        "\n",
        "('easy', 'img', 'ZS')\n",
        "2.81103470499e-206"
       ]
      },
      {
       "output_type": "stream",
       "stream": "stdout",
       "text": [
        "\n",
        "('easy', 'pcp', 'KL')\n",
        "1.58441042304e-207"
       ]
      },
      {
       "output_type": "stream",
       "stream": "stdout",
       "text": [
        "\n",
        "('easy', 'pcp', 'RL')\n",
        "5.99502416255e-191"
       ]
      },
      {
       "output_type": "stream",
       "stream": "stdout",
       "text": [
        "\n",
        "('easy', 'pcp', 'ZS')\n",
        "1.27736681858e-203"
       ]
      },
      {
       "output_type": "stream",
       "stream": "stdout",
       "text": [
        "\n",
        "('hard', 'img', 'KL')\n",
        "1.87133110414e-146"
       ]
      },
      {
       "output_type": "stream",
       "stream": "stdout",
       "text": [
        "\n",
        "('hard', 'img', 'RL')\n",
        "1.38008535534e-161"
       ]
      },
      {
       "output_type": "stream",
       "stream": "stdout",
       "text": [
        "\n",
        "('hard', 'img', 'ZS')\n",
        "2.52041037329e-199"
       ]
      },
      {
       "output_type": "stream",
       "stream": "stdout",
       "text": [
        "\n",
        "('hard', 'pcp', 'KL')\n",
        "5.95770379724e-147"
       ]
      },
      {
       "output_type": "stream",
       "stream": "stdout",
       "text": [
        "\n",
        "('hard', 'pcp', 'RL')\n",
        "1.7632248495e-129"
       ]
      },
      {
       "output_type": "stream",
       "stream": "stdout",
       "text": [
        "\n",
        "('hard', 'pcp', 'ZS')\n",
        "1.47584081192e-122"
       ]
      },
      {
       "output_type": "stream",
       "stream": "stdout",
       "text": [
        "\n",
        "7 0.0002 1.0 0.74999925\n",
        "('easy', 'img', 'KL')\n",
        "0.0"
       ]
      },
      {
       "output_type": "stream",
       "stream": "stdout",
       "text": [
        "\n",
        "('easy', 'img', 'RL')\n",
        "0.0"
       ]
      },
      {
       "output_type": "stream",
       "stream": "stdout",
       "text": [
        "\n",
        "('easy', 'img', 'ZS')\n",
        "0.0"
       ]
      },
      {
       "output_type": "stream",
       "stream": "stdout",
       "text": [
        "\n",
        "('easy', 'pcp', 'KL')\n",
        "0.0"
       ]
      },
      {
       "output_type": "stream",
       "stream": "stdout",
       "text": [
        "\n",
        "('easy', 'pcp', 'RL')\n",
        "0.0"
       ]
      },
      {
       "output_type": "stream",
       "stream": "stdout",
       "text": [
        "\n",
        "('easy', 'pcp', 'ZS')\n",
        "0.0"
       ]
      },
      {
       "output_type": "stream",
       "stream": "stdout",
       "text": [
        "\n",
        "('hard', 'img', 'KL')\n",
        "1.62457092361e-297"
       ]
      },
      {
       "output_type": "stream",
       "stream": "stdout",
       "text": [
        "\n",
        "('hard', 'img', 'RL')\n",
        "0.0"
       ]
      },
      {
       "output_type": "stream",
       "stream": "stdout",
       "text": [
        "\n",
        "('hard', 'img', 'ZS')\n",
        "0.0"
       ]
      },
      {
       "output_type": "stream",
       "stream": "stdout",
       "text": [
        "\n",
        "('hard', 'pcp', 'KL')\n",
        "5.67822751094e-297"
       ]
      },
      {
       "output_type": "stream",
       "stream": "stdout",
       "text": [
        "\n",
        "('hard', 'pcp', 'RL')\n",
        "2.99053766934e-264"
       ]
      },
      {
       "output_type": "stream",
       "stream": "stdout",
       "text": [
        "\n",
        "('hard', 'pcp', 'ZS')\n",
        "6.77695150262e-242"
       ]
      },
      {
       "output_type": "stream",
       "stream": "stdout",
       "text": [
        "\n",
        "7 0.0002 1.0 0.999999\n",
        "('easy', 'img', 'KL')\n",
        "0.0"
       ]
      },
      {
       "output_type": "stream",
       "stream": "stdout",
       "text": [
        "\n",
        "('easy', 'img', 'RL')\n",
        "0.0"
       ]
      },
      {
       "output_type": "stream",
       "stream": "stdout",
       "text": [
        "\n",
        "('easy', 'img', 'ZS')\n",
        "0.0"
       ]
      },
      {
       "output_type": "stream",
       "stream": "stdout",
       "text": [
        "\n",
        "('easy', 'pcp', 'KL')\n",
        "0.0"
       ]
      },
      {
       "output_type": "stream",
       "stream": "stdout",
       "text": [
        "\n",
        "('easy', 'pcp', 'RL')\n",
        "0.0"
       ]
      },
      {
       "output_type": "stream",
       "stream": "stdout",
       "text": [
        "\n",
        "('easy', 'pcp', 'ZS')\n",
        "0.0"
       ]
      },
      {
       "output_type": "stream",
       "stream": "stdout",
       "text": [
        "\n",
        "('hard', 'img', 'KL')\n",
        "0.0"
       ]
      },
      {
       "output_type": "stream",
       "stream": "stdout",
       "text": [
        "\n",
        "('hard', 'img', 'RL')\n",
        "0.0"
       ]
      },
      {
       "output_type": "stream",
       "stream": "stdout",
       "text": [
        "\n",
        "('hard', 'img', 'ZS')\n",
        "0.0"
       ]
      },
      {
       "output_type": "stream",
       "stream": "stdout",
       "text": [
        "\n",
        "('hard', 'pcp', 'KL')\n",
        "0.0"
       ]
      },
      {
       "output_type": "stream",
       "stream": "stdout",
       "text": [
        "\n",
        "('hard', 'pcp', 'RL')\n",
        "0.0"
       ]
      },
      {
       "output_type": "stream",
       "stream": "stdout",
       "text": [
        "\n",
        "('hard', 'pcp', 'ZS')\n",
        "0.0"
       ]
      },
      {
       "output_type": "stream",
       "stream": "stdout",
       "text": [
        "\n",
        "7 0.00025 1e-06 0.0\n",
        "('easy', 'img', 'KL')\n",
        "0.0"
       ]
      },
      {
       "output_type": "stream",
       "stream": "stdout",
       "text": [
        "\n",
        "('easy', 'img', 'RL')\n",
        "0.0"
       ]
      },
      {
       "output_type": "stream",
       "stream": "stdout",
       "text": [
        "\n",
        "('easy', 'img', 'ZS')\n",
        "0.0"
       ]
      },
      {
       "output_type": "stream",
       "stream": "stdout",
       "text": [
        "\n",
        "('easy', 'pcp', 'KL')\n",
        "0.0"
       ]
      },
      {
       "output_type": "stream",
       "stream": "stdout",
       "text": [
        "\n",
        "('easy', 'pcp', 'RL')\n",
        "0.0"
       ]
      },
      {
       "output_type": "stream",
       "stream": "stdout",
       "text": [
        "\n",
        "('easy', 'pcp', 'ZS')\n",
        "0.0"
       ]
      },
      {
       "output_type": "stream",
       "stream": "stdout",
       "text": [
        "\n",
        "('hard', 'img', 'KL')\n",
        "0.0"
       ]
      },
      {
       "output_type": "stream",
       "stream": "stdout",
       "text": [
        "\n",
        "('hard', 'img', 'RL')\n",
        "0.0"
       ]
      },
      {
       "output_type": "stream",
       "stream": "stdout",
       "text": [
        "\n",
        "('hard', 'img', 'ZS')\n",
        "0.0"
       ]
      },
      {
       "output_type": "stream",
       "stream": "stdout",
       "text": [
        "\n",
        "('hard', 'pcp', 'KL')\n",
        "0.0"
       ]
      },
      {
       "output_type": "stream",
       "stream": "stdout",
       "text": [
        "\n",
        "('hard', 'pcp', 'RL')\n",
        "0.0"
       ]
      },
      {
       "output_type": "stream",
       "stream": "stdout",
       "text": [
        "\n",
        "('hard', 'pcp', 'ZS')\n",
        "0.0"
       ]
      },
      {
       "output_type": "stream",
       "stream": "stdout",
       "text": [
        "\n",
        "7 0.00025 0.25000075 0.0\n",
        "('easy', 'img', 'KL')\n",
        "0.0"
       ]
      },
      {
       "output_type": "stream",
       "stream": "stdout",
       "text": [
        "\n",
        "('easy', 'img', 'RL')\n",
        "0.0"
       ]
      },
      {
       "output_type": "stream",
       "stream": "stdout",
       "text": [
        "\n",
        "('easy', 'img', 'ZS')\n",
        "0.0"
       ]
      },
      {
       "output_type": "stream",
       "stream": "stdout",
       "text": [
        "\n",
        "('easy', 'pcp', 'KL')\n",
        "0.0"
       ]
      },
      {
       "output_type": "stream",
       "stream": "stdout",
       "text": [
        "\n",
        "('easy', 'pcp', 'RL')\n",
        "0.0"
       ]
      },
      {
       "output_type": "stream",
       "stream": "stdout",
       "text": [
        "\n",
        "('easy', 'pcp', 'ZS')\n",
        "0.0"
       ]
      },
      {
       "output_type": "stream",
       "stream": "stdout",
       "text": [
        "\n",
        "('hard', 'img', 'KL')\n",
        "0.0"
       ]
      },
      {
       "output_type": "stream",
       "stream": "stdout",
       "text": [
        "\n",
        "('hard', 'img', 'RL')\n",
        "0.0"
       ]
      },
      {
       "output_type": "stream",
       "stream": "stdout",
       "text": [
        "\n",
        "('hard', 'img', 'ZS')\n",
        "0.0"
       ]
      },
      {
       "output_type": "stream",
       "stream": "stdout",
       "text": [
        "\n",
        "('hard', 'pcp', 'KL')\n",
        "0.0"
       ]
      },
      {
       "output_type": "stream",
       "stream": "stdout",
       "text": [
        "\n",
        "('hard', 'pcp', 'RL')\n",
        "0.0"
       ]
      },
      {
       "output_type": "stream",
       "stream": "stdout",
       "text": [
        "\n",
        "('hard', 'pcp', 'ZS')\n",
        "0.0"
       ]
      },
      {
       "output_type": "stream",
       "stream": "stdout",
       "text": [
        "\n",
        "7 0.00025 0.25000075 0.24999975\n",
        "('easy', 'img', 'KL')\n",
        "6.81452594403e-69"
       ]
      },
      {
       "output_type": "stream",
       "stream": "stdout",
       "text": [
        "\n",
        "('easy', 'img', 'RL')\n",
        "2.32837314611e-78"
       ]
      },
      {
       "output_type": "stream",
       "stream": "stdout",
       "text": [
        "\n",
        "('easy', 'img', 'ZS')\n",
        "2.31776215598e-67"
       ]
      },
      {
       "output_type": "stream",
       "stream": "stdout",
       "text": [
        "\n",
        "('easy', 'pcp', 'KL')\n",
        "1.28764790538e-67"
       ]
      },
      {
       "output_type": "stream",
       "stream": "stdout",
       "text": [
        "\n",
        "('easy', 'pcp', 'RL')\n",
        "2.35629438605e-73"
       ]
      },
      {
       "output_type": "stream",
       "stream": "stdout",
       "text": [
        "\n",
        "('easy', 'pcp', 'ZS')\n",
        "4.17196461761e-67"
       ]
      },
      {
       "output_type": "stream",
       "stream": "stdout",
       "text": [
        "\n",
        "('hard', 'img', 'KL')\n",
        "1.27287788782e-90"
       ]
      },
      {
       "output_type": "stream",
       "stream": "stdout",
       "text": [
        "\n",
        "('hard', 'img', 'RL')\n",
        "5.28213029147e-79"
       ]
      },
      {
       "output_type": "stream",
       "stream": "stdout",
       "text": [
        "\n",
        "('hard', 'img', 'ZS')\n",
        "6.36196298858e-72"
       ]
      },
      {
       "output_type": "stream",
       "stream": "stdout",
       "text": [
        "\n",
        "('hard', 'pcp', 'KL')\n",
        "2.42510027366e-92"
       ]
      },
      {
       "output_type": "stream",
       "stream": "stdout",
       "text": [
        "\n",
        "('hard', 'pcp', 'RL')\n",
        "2.45390410971e-104"
       ]
      },
      {
       "output_type": "stream",
       "stream": "stdout",
       "text": [
        "\n",
        "('hard', 'pcp', 'ZS')\n",
        "3.65011998223e-117"
       ]
      },
      {
       "output_type": "stream",
       "stream": "stdout",
       "text": [
        "\n",
        "7 0.00025 0.5000005 0.0\n",
        "('easy', 'img', 'KL')\n",
        "0.0"
       ]
      },
      {
       "output_type": "stream",
       "stream": "stdout",
       "text": [
        "\n",
        "('easy', 'img', 'RL')\n",
        "0.0"
       ]
      },
      {
       "output_type": "stream",
       "stream": "stdout",
       "text": [
        "\n",
        "('easy', 'img', 'ZS')\n",
        "0.0"
       ]
      },
      {
       "output_type": "stream",
       "stream": "stdout",
       "text": [
        "\n",
        "('easy', 'pcp', 'KL')\n",
        "0.0"
       ]
      },
      {
       "output_type": "stream",
       "stream": "stdout",
       "text": [
        "\n",
        "('easy', 'pcp', 'RL')\n",
        "0.0"
       ]
      },
      {
       "output_type": "stream",
       "stream": "stdout",
       "text": [
        "\n",
        "('easy', 'pcp', 'ZS')\n",
        "0.0"
       ]
      },
      {
       "output_type": "stream",
       "stream": "stdout",
       "text": [
        "\n",
        "('hard', 'img', 'KL')\n",
        "0.0"
       ]
      },
      {
       "output_type": "stream",
       "stream": "stdout",
       "text": [
        "\n",
        "('hard', 'img', 'RL')\n",
        "0.0"
       ]
      },
      {
       "output_type": "stream",
       "stream": "stdout",
       "text": [
        "\n",
        "('hard', 'img', 'ZS')\n",
        "0.0"
       ]
      },
      {
       "output_type": "stream",
       "stream": "stdout",
       "text": [
        "\n",
        "('hard', 'pcp', 'KL')\n",
        "0.0"
       ]
      },
      {
       "output_type": "stream",
       "stream": "stdout",
       "text": [
        "\n",
        "('hard', 'pcp', 'RL')\n",
        "0.0"
       ]
      },
      {
       "output_type": "stream",
       "stream": "stdout",
       "text": [
        "\n",
        "('hard', 'pcp', 'ZS')\n",
        "0.0"
       ]
      },
      {
       "output_type": "stream",
       "stream": "stdout",
       "text": [
        "\n",
        "7 0.00025 0.5000005 0.24999975\n",
        "('easy', 'img', 'KL')\n",
        "1.40148191335e-69"
       ]
      },
      {
       "output_type": "stream",
       "stream": "stdout",
       "text": [
        "\n",
        "('easy', 'img', 'RL')\n",
        "1.39516912503e-71"
       ]
      },
      {
       "output_type": "stream",
       "stream": "stdout",
       "text": [
        "\n",
        "('easy', 'img', 'ZS')\n",
        "7.87754653061e-71"
       ]
      },
      {
       "output_type": "stream",
       "stream": "stdout",
       "text": [
        "\n",
        "('easy', 'pcp', 'KL')\n",
        "4.5264994027e-71"
       ]
      },
      {
       "output_type": "stream",
       "stream": "stdout",
       "text": [
        "\n",
        "('easy', 'pcp', 'RL')\n",
        "2.22374978732e-72"
       ]
      },
      {
       "output_type": "stream",
       "stream": "stdout",
       "text": [
        "\n",
        "('easy', 'pcp', 'ZS')\n",
        "2.67448331928e-70"
       ]
      },
      {
       "output_type": "stream",
       "stream": "stdout",
       "text": [
        "\n",
        "('hard', 'img', 'KL')\n",
        "2.82509657946e-79"
       ]
      },
      {
       "output_type": "stream",
       "stream": "stdout",
       "text": [
        "\n",
        "('hard', 'img', 'RL')\n",
        "4.74153968556e-73"
       ]
      },
      {
       "output_type": "stream",
       "stream": "stdout",
       "text": [
        "\n",
        "('hard', 'img', 'ZS')\n",
        "3.27822796759e-73"
       ]
      },
      {
       "output_type": "stream",
       "stream": "stdout",
       "text": [
        "\n",
        "('hard', 'pcp', 'KL')\n",
        "3.77324686207e-80"
       ]
      },
      {
       "output_type": "stream",
       "stream": "stdout",
       "text": [
        "\n",
        "('hard', 'pcp', 'RL')\n",
        "3.08664375308e-86"
       ]
      },
      {
       "output_type": "stream",
       "stream": "stdout",
       "text": [
        "\n",
        "('hard', 'pcp', 'ZS')\n",
        "1.03901173054e-96"
       ]
      },
      {
       "output_type": "stream",
       "stream": "stdout",
       "text": [
        "\n",
        "7 0.00025 0.5000005 0.4999995\n",
        "('easy', 'img', 'KL')\n",
        "2.86839415332e-114"
       ]
      },
      {
       "output_type": "stream",
       "stream": "stdout",
       "text": [
        "\n",
        "('easy', 'img', 'RL')\n",
        "8.685844322e-102"
       ]
      },
      {
       "output_type": "stream",
       "stream": "stdout",
       "text": [
        "\n",
        "('easy', 'img', 'ZS')\n",
        "7.55472312981e-121"
       ]
      },
      {
       "output_type": "stream",
       "stream": "stdout",
       "text": [
        "\n",
        "('easy', 'pcp', 'KL')\n",
        "1.39902604503e-121"
       ]
      },
      {
       "output_type": "stream",
       "stream": "stdout",
       "text": [
        "\n",
        "('easy', 'pcp', 'RL')\n",
        "2.16908953234e-115"
       ]
      },
      {
       "output_type": "stream",
       "stream": "stdout",
       "text": [
        "\n",
        "('easy', 'pcp', 'ZS')\n",
        "3.67157963232e-119"
       ]
      },
      {
       "output_type": "stream",
       "stream": "stdout",
       "text": [
        "\n",
        "('hard', 'img', 'KL')\n",
        "2.6395582006e-98"
       ]
      },
      {
       "output_type": "stream",
       "stream": "stdout",
       "text": [
        "\n",
        "('hard', 'img', 'RL')\n",
        "5.91138148492e-102"
       ]
      },
      {
       "output_type": "stream",
       "stream": "stdout",
       "text": [
        "\n",
        "('hard', 'img', 'ZS')\n",
        "1.10201753359e-119"
       ]
      },
      {
       "output_type": "stream",
       "stream": "stdout",
       "text": [
        "\n",
        "('hard', 'pcp', 'KL')\n",
        "4.52600569351e-99"
       ]
      },
      {
       "output_type": "stream",
       "stream": "stdout",
       "text": [
        "\n",
        "('hard', 'pcp', 'RL')\n",
        "2.29123696155e-94"
       ]
      },
      {
       "output_type": "stream",
       "stream": "stdout",
       "text": [
        "\n",
        "('hard', 'pcp', 'ZS')\n",
        "6.31520493077e-92"
       ]
      },
      {
       "output_type": "stream",
       "stream": "stdout",
       "text": [
        "\n",
        "7 0.00025 0.75000025 0.0\n",
        "('easy', 'img', 'KL')\n",
        "0.0"
       ]
      },
      {
       "output_type": "stream",
       "stream": "stdout",
       "text": [
        "\n",
        "('easy', 'img', 'RL')\n",
        "0.0"
       ]
      },
      {
       "output_type": "stream",
       "stream": "stdout",
       "text": [
        "\n",
        "('easy', 'img', 'ZS')\n",
        "0.0"
       ]
      },
      {
       "output_type": "stream",
       "stream": "stdout",
       "text": [
        "\n",
        "('easy', 'pcp', 'KL')\n",
        "0.0"
       ]
      },
      {
       "output_type": "stream",
       "stream": "stdout",
       "text": [
        "\n",
        "('easy', 'pcp', 'RL')\n",
        "0.0"
       ]
      },
      {
       "output_type": "stream",
       "stream": "stdout",
       "text": [
        "\n",
        "('easy', 'pcp', 'ZS')\n",
        "0.0"
       ]
      },
      {
       "output_type": "stream",
       "stream": "stdout",
       "text": [
        "\n",
        "('hard', 'img', 'KL')\n",
        "0.0"
       ]
      },
      {
       "output_type": "stream",
       "stream": "stdout",
       "text": [
        "\n",
        "('hard', 'img', 'RL')\n",
        "0.0"
       ]
      },
      {
       "output_type": "stream",
       "stream": "stdout",
       "text": [
        "\n",
        "('hard', 'img', 'ZS')\n",
        "0.0"
       ]
      },
      {
       "output_type": "stream",
       "stream": "stdout",
       "text": [
        "\n",
        "('hard', 'pcp', 'KL')\n",
        "0.0"
       ]
      },
      {
       "output_type": "stream",
       "stream": "stdout",
       "text": [
        "\n",
        "('hard', 'pcp', 'RL')\n",
        "0.0"
       ]
      },
      {
       "output_type": "stream",
       "stream": "stdout",
       "text": [
        "\n",
        "('hard', 'pcp', 'ZS')\n",
        "0.0"
       ]
      },
      {
       "output_type": "stream",
       "stream": "stdout",
       "text": [
        "\n",
        "7 0.00025 0.75000025 0.24999975\n",
        "('easy', 'img', 'KL')\n",
        "5.73734106765e-79"
       ]
      },
      {
       "output_type": "stream",
       "stream": "stdout",
       "text": [
        "\n",
        "('easy', 'img', 'RL')\n",
        "3.30607693022e-73"
       ]
      },
      {
       "output_type": "stream",
       "stream": "stdout",
       "text": [
        "\n",
        "('easy', 'img', 'ZS')\n",
        "2.83857066111e-83"
       ]
      },
      {
       "output_type": "stream",
       "stream": "stdout",
       "text": [
        "\n",
        "('easy', 'pcp', 'KL')\n",
        "1.99887166993e-83"
       ]
      },
      {
       "output_type": "stream",
       "stream": "stdout",
       "text": [
        "\n",
        "('easy', 'pcp', 'RL')\n",
        "2.95322485433e-80"
       ]
      },
      {
       "output_type": "stream",
       "stream": "stdout",
       "text": [
        "\n",
        "('easy', 'pcp', 'ZS')\n",
        "2.74054049186e-82"
       ]
      },
      {
       "output_type": "stream",
       "stream": "stdout",
       "text": [
        "\n",
        "('hard', 'img', 'KL')\n",
        "3.61806421311e-77"
       ]
      },
      {
       "output_type": "stream",
       "stream": "stdout",
       "text": [
        "\n",
        "('hard', 'img', 'RL')\n",
        "7.24967601398e-76"
       ]
      },
      {
       "output_type": "stream",
       "stream": "stdout",
       "text": [
        "\n",
        "('hard', 'img', 'ZS')\n",
        "1.24745630831e-83"
       ]
      },
      {
       "output_type": "stream",
       "stream": "stdout",
       "text": [
        "\n",
        "('hard', 'pcp', 'KL')\n",
        "2.46572181375e-77"
       ]
      },
      {
       "output_type": "stream",
       "stream": "stdout",
       "text": [
        "\n",
        "('hard', 'pcp', 'RL')\n",
        "1.06916504363e-77"
       ]
      },
      {
       "output_type": "stream",
       "stream": "stdout",
       "text": [
        "\n",
        "('hard', 'pcp', 'ZS')\n",
        "8.83382329641e-87"
       ]
      },
      {
       "output_type": "stream",
       "stream": "stdout",
       "text": [
        "\n",
        "7 0.00025 0.75000025 0.4999995\n",
        "('easy', 'img', 'KL')\n",
        "1.62483105511e-144"
       ]
      },
      {
       "output_type": "stream",
       "stream": "stdout",
       "text": [
        "\n",
        "('easy', 'img', 'RL')\n",
        "6.21807106699e-125"
       ]
      },
      {
       "output_type": "stream",
       "stream": "stdout",
       "text": [
        "\n",
        "('easy', 'img', 'ZS')\n",
        "1.00115788861e-153"
       ]
      },
      {
       "output_type": "stream",
       "stream": "stdout",
       "text": [
        "\n",
        "('easy', 'pcp', 'KL')\n",
        "1.9230642462e-154"
       ]
      },
      {
       "output_type": "stream",
       "stream": "stdout",
       "text": [
        "\n",
        "('easy', 'pcp', 'RL')\n",
        "4.41090877623e-144"
       ]
      },
      {
       "output_type": "stream",
       "stream": "stdout",
       "text": [
        "\n",
        "('easy', 'pcp', 'ZS')\n",
        "9.43158199442e-152"
       ]
      },
      {
       "output_type": "stream",
       "stream": "stdout",
       "text": [
        "\n",
        "('hard', 'img', 'KL')\n",
        "2.14669497318e-117"
       ]
      },
      {
       "output_type": "stream",
       "stream": "stdout",
       "text": [
        "\n",
        "('hard', 'img', 'RL')\n",
        "3.9531765975e-126"
       ]
      },
      {
       "output_type": "stream",
       "stream": "stdout",
       "text": [
        "\n",
        "('hard', 'img', 'ZS')\n",
        "8.76530992323e-151"
       ]
      },
      {
       "output_type": "stream",
       "stream": "stdout",
       "text": [
        "\n",
        "('hard', 'pcp', 'KL')\n",
        "2.08597166827e-117"
       ]
      },
      {
       "output_type": "stream",
       "stream": "stdout",
       "text": [
        "\n",
        "('hard', 'pcp', 'RL')\n",
        "4.05358574814e-107"
       ]
      },
      {
       "output_type": "stream",
       "stream": "stdout",
       "text": [
        "\n",
        "('hard', 'pcp', 'ZS')\n",
        "2.63157160325e-102"
       ]
      },
      {
       "output_type": "stream",
       "stream": "stdout",
       "text": [
        "\n",
        "7 0.00025 0.75000025 0.74999925\n",
        "('easy', 'img', 'KL')\n",
        "1.02712082175e-270"
       ]
      },
      {
       "output_type": "stream",
       "stream": "stdout",
       "text": [
        "\n",
        "('easy', 'img', 'RL')\n",
        "2.75638975222e-236"
       ]
      },
      {
       "output_type": "stream",
       "stream": "stdout",
       "text": [
        "\n",
        "('easy', 'img', 'ZS')\n",
        "2.0948444428e-285"
       ]
      },
      {
       "output_type": "stream",
       "stream": "stdout",
       "text": [
        "\n",
        "('easy', 'pcp', 'KL')\n",
        "1.29311957467e-286"
       ]
      },
      {
       "output_type": "stream",
       "stream": "stdout",
       "text": [
        "\n",
        "('easy', 'pcp', 'RL')\n",
        "1.69865386565e-268"
       ]
      },
      {
       "output_type": "stream",
       "stream": "stdout",
       "text": [
        "\n",
        "('easy', 'pcp', 'ZS')\n",
        "2.74882810158e-282"
       ]
      },
      {
       "output_type": "stream",
       "stream": "stdout",
       "text": [
        "\n",
        "('hard', 'img', 'KL')\n",
        "4.65624704324e-217"
       ]
      },
      {
       "output_type": "stream",
       "stream": "stdout",
       "text": [
        "\n",
        "('hard', 'img', 'RL')\n",
        "5.62775444202e-236"
       ]
      },
      {
       "output_type": "stream",
       "stream": "stdout",
       "text": [
        "\n",
        "('hard', 'img', 'ZS')\n",
        "1.62392848363e-278"
       ]
      },
      {
       "output_type": "stream",
       "stream": "stdout",
       "text": [
        "\n",
        "('hard', 'pcp', 'KL')\n",
        "7.18557746162e-217"
       ]
      },
      {
       "output_type": "stream",
       "stream": "stdout",
       "text": [
        "\n",
        "('hard', 'pcp', 'RL')\n",
        "1.81985530546e-195"
       ]
      },
      {
       "output_type": "stream",
       "stream": "stdout",
       "text": [
        "\n",
        "('hard', 'pcp', 'ZS')\n",
        "9.29414949508e-178"
       ]
      },
      {
       "output_type": "stream",
       "stream": "stdout",
       "text": [
        "\n",
        "7 0.00025 1.0 0.0\n",
        "('easy', 'img', 'KL')\n",
        "0.0"
       ]
      },
      {
       "output_type": "stream",
       "stream": "stdout",
       "text": [
        "\n",
        "('easy', 'img', 'RL')\n",
        "0.0"
       ]
      },
      {
       "output_type": "stream",
       "stream": "stdout",
       "text": [
        "\n",
        "('easy', 'img', 'ZS')\n",
        "0.0"
       ]
      },
      {
       "output_type": "stream",
       "stream": "stdout",
       "text": [
        "\n",
        "('easy', 'pcp', 'KL')\n",
        "0.0"
       ]
      },
      {
       "output_type": "stream",
       "stream": "stdout",
       "text": [
        "\n",
        "('easy', 'pcp', 'RL')\n",
        "0.0"
       ]
      },
      {
       "output_type": "stream",
       "stream": "stdout",
       "text": [
        "\n",
        "('easy', 'pcp', 'ZS')\n",
        "0.0"
       ]
      },
      {
       "output_type": "stream",
       "stream": "stdout",
       "text": [
        "\n",
        "('hard', 'img', 'KL')\n",
        "0.0"
       ]
      },
      {
       "output_type": "stream",
       "stream": "stdout",
       "text": [
        "\n",
        "('hard', 'img', 'RL')\n",
        "0.0"
       ]
      },
      {
       "output_type": "stream",
       "stream": "stdout",
       "text": [
        "\n",
        "('hard', 'img', 'ZS')\n",
        "0.0"
       ]
      },
      {
       "output_type": "stream",
       "stream": "stdout",
       "text": [
        "\n",
        "('hard', 'pcp', 'KL')\n",
        "0.0"
       ]
      },
      {
       "output_type": "stream",
       "stream": "stdout",
       "text": [
        "\n",
        "('hard', 'pcp', 'RL')\n",
        "0.0"
       ]
      },
      {
       "output_type": "stream",
       "stream": "stdout",
       "text": [
        "\n",
        "('hard', 'pcp', 'ZS')\n",
        "0.0"
       ]
      },
      {
       "output_type": "stream",
       "stream": "stdout",
       "text": [
        "\n",
        "7 0.00025 1.0 0.24999975\n",
        "('easy', 'img', 'KL')\n",
        "4.26840435295e-101"
       ]
      },
      {
       "output_type": "stream",
       "stream": "stdout",
       "text": [
        "\n",
        "('easy', 'img', 'RL')\n",
        "4.06926877888e-84"
       ]
      },
      {
       "output_type": "stream",
       "stream": "stdout",
       "text": [
        "\n",
        "('easy', 'img', 'ZS')\n",
        "1.17848036649e-109"
       ]
      },
      {
       "output_type": "stream",
       "stream": "stdout",
       "text": [
        "\n",
        "('easy', 'pcp', 'KL')\n",
        "1.53064393912e-109"
       ]
      },
      {
       "output_type": "stream",
       "stream": "stdout",
       "text": [
        "\n",
        "('easy', 'pcp', 'RL')\n",
        "2.49574344375e-101"
       ]
      },
      {
       "output_type": "stream",
       "stream": "stdout",
       "text": [
        "\n",
        "('easy', 'pcp', 'ZS')\n",
        "1.12596398336e-107"
       ]
      },
      {
       "output_type": "stream",
       "stream": "stdout",
       "text": [
        "\n",
        "('hard', 'img', 'KL')\n",
        "3.2547061528e-85"
       ]
      },
      {
       "output_type": "stream",
       "stream": "stdout",
       "text": [
        "\n",
        "('hard', 'img', 'RL')\n",
        "2.15307525843e-89"
       ]
      },
      {
       "output_type": "stream",
       "stream": "stdout",
       "text": [
        "\n",
        "('hard', 'img', 'ZS')\n",
        "2.41987728231e-107"
       ]
      },
      {
       "output_type": "stream",
       "stream": "stdout",
       "text": [
        "\n",
        "('hard', 'pcp', 'KL')\n",
        "8.02550857438e-85"
       ]
      },
      {
       "output_type": "stream",
       "stream": "stdout",
       "text": [
        "\n",
        "('hard', 'pcp', 'RL')\n",
        "2.69950403896e-77"
       ]
      },
      {
       "output_type": "stream",
       "stream": "stdout",
       "text": [
        "\n",
        "('hard', 'pcp', 'ZS')\n",
        "7.19634487103e-87"
       ]
      },
      {
       "output_type": "stream",
       "stream": "stdout",
       "text": [
        "\n",
        "7 0.00025 1.0 0.4999995\n",
        "('easy', 'img', 'KL')\n",
        "1.79073131461e-200"
       ]
      },
      {
       "output_type": "stream",
       "stream": "stdout",
       "text": [
        "\n",
        "('easy', 'img', 'RL')\n",
        "1.03043571229e-166"
       ]
      },
      {
       "output_type": "stream",
       "stream": "stdout",
       "text": [
        "\n",
        "('easy', 'img', 'ZS')\n",
        "6.1455145602e-215"
       ]
      },
      {
       "output_type": "stream",
       "stream": "stdout",
       "text": [
        "\n",
        "('easy', 'pcp', 'KL')\n",
        "6.65213413584e-216"
       ]
      },
      {
       "output_type": "stream",
       "stream": "stdout",
       "text": [
        "\n",
        "('easy', 'pcp', 'RL')\n",
        "9.78009829286e-199"
       ]
      },
      {
       "output_type": "stream",
       "stream": "stdout",
       "text": [
        "\n",
        "('easy', 'pcp', 'ZS')\n",
        "4.28451672781e-212"
       ]
      },
      {
       "output_type": "stream",
       "stream": "stdout",
       "text": [
        "\n",
        "('hard', 'img', 'KL')\n",
        "8.94010907746e-155"
       ]
      },
      {
       "output_type": "stream",
       "stream": "stdout",
       "text": [
        "\n",
        "('hard', 'img', 'RL')\n",
        "2.21927616855e-170"
       ]
      },
      {
       "output_type": "stream",
       "stream": "stdout",
       "text": [
        "\n",
        "('hard', 'img', 'ZS')\n",
        "8.17321236007e-209"
       ]
      },
      {
       "output_type": "stream",
       "stream": "stdout",
       "text": [
        "\n",
        "('hard', 'pcp', 'KL')\n",
        "2.68375047783e-154"
       ]
      },
      {
       "output_type": "stream",
       "stream": "stdout",
       "text": [
        "\n",
        "('hard', 'pcp', 'RL')\n",
        "8.44011504317e-135"
       ]
      },
      {
       "output_type": "stream",
       "stream": "stdout",
       "text": [
        "\n",
        "('hard', 'pcp', 'ZS')\n",
        "6.49192886224e-128"
       ]
      },
      {
       "output_type": "stream",
       "stream": "stdout",
       "text": [
        "\n",
        "7 0.00025 1.0 0.74999925\n",
        "('easy', 'img', 'KL')\n",
        "0.0"
       ]
      },
      {
       "output_type": "stream",
       "stream": "stdout",
       "text": [
        "\n",
        "('easy', 'img', 'RL')\n",
        "0.0"
       ]
      },
      {
       "output_type": "stream",
       "stream": "stdout",
       "text": [
        "\n",
        "('easy', 'img', 'ZS')\n",
        "0.0"
       ]
      },
      {
       "output_type": "stream",
       "stream": "stdout",
       "text": [
        "\n",
        "('easy', 'pcp', 'KL')\n",
        "0.0"
       ]
      },
      {
       "output_type": "stream",
       "stream": "stdout",
       "text": [
        "\n",
        "('easy', 'pcp', 'RL')\n",
        "0.0"
       ]
      },
      {
       "output_type": "stream",
       "stream": "stdout",
       "text": [
        "\n",
        "('easy', 'pcp', 'ZS')\n",
        "0.0"
       ]
      },
      {
       "output_type": "stream",
       "stream": "stdout",
       "text": [
        "\n",
        "('hard', 'img', 'KL')\n",
        "9.1324989654e-307"
       ]
      },
      {
       "output_type": "stream",
       "stream": "stdout",
       "text": [
        "\n",
        "('hard', 'img', 'RL')\n",
        "0.0"
       ]
      },
      {
       "output_type": "stream",
       "stream": "stdout",
       "text": [
        "\n",
        "('hard', 'img', 'ZS')\n",
        "0.0"
       ]
      },
      {
       "output_type": "stream",
       "stream": "stdout",
       "text": [
        "\n",
        "('hard', 'pcp', 'KL')\n",
        "1.1982760153e-305"
       ]
      },
      {
       "output_type": "stream",
       "stream": "stdout",
       "text": [
        "\n",
        "('hard', 'pcp', 'RL')\n",
        "1.01427596698e-271"
       ]
      },
      {
       "output_type": "stream",
       "stream": "stdout",
       "text": [
        "\n",
        "('hard', 'pcp', 'ZS')\n",
        "2.28500689963e-249"
       ]
      },
      {
       "output_type": "stream",
       "stream": "stdout",
       "text": [
        "\n",
        "7 0.00025 1.0 0.999999\n",
        "('easy', 'img', 'KL')\n",
        "0.0"
       ]
      },
      {
       "output_type": "stream",
       "stream": "stdout",
       "text": [
        "\n",
        "('easy', 'img', 'RL')\n",
        "0.0"
       ]
      },
      {
       "output_type": "stream",
       "stream": "stdout",
       "text": [
        "\n",
        "('easy', 'img', 'ZS')\n",
        "0.0"
       ]
      },
      {
       "output_type": "stream",
       "stream": "stdout",
       "text": [
        "\n",
        "('easy', 'pcp', 'KL')\n",
        "0.0"
       ]
      },
      {
       "output_type": "stream",
       "stream": "stdout",
       "text": [
        "\n",
        "('easy', 'pcp', 'RL')\n",
        "0.0"
       ]
      },
      {
       "output_type": "stream",
       "stream": "stdout",
       "text": [
        "\n",
        "('easy', 'pcp', 'ZS')\n",
        "0.0"
       ]
      },
      {
       "output_type": "stream",
       "stream": "stdout",
       "text": [
        "\n",
        "('hard', 'img', 'KL')\n",
        "0.0"
       ]
      },
      {
       "output_type": "stream",
       "stream": "stdout",
       "text": [
        "\n",
        "('hard', 'img', 'RL')\n",
        "0.0"
       ]
      },
      {
       "output_type": "stream",
       "stream": "stdout",
       "text": [
        "\n",
        "('hard', 'img', 'ZS')\n",
        "0.0"
       ]
      },
      {
       "output_type": "stream",
       "stream": "stdout",
       "text": [
        "\n",
        "('hard', 'pcp', 'KL')\n",
        "0.0"
       ]
      },
      {
       "output_type": "stream",
       "stream": "stdout",
       "text": [
        "\n",
        "('hard', 'pcp', 'RL')\n",
        "0.0"
       ]
      },
      {
       "output_type": "stream",
       "stream": "stdout",
       "text": [
        "\n",
        "('hard', 'pcp', 'ZS')\n",
        "0.0"
       ]
      },
      {
       "output_type": "stream",
       "stream": "stdout",
       "text": [
        "\n",
        "7 0.0003 1e-06 0.0\n",
        "('easy', 'img', 'KL')\n",
        "0.0"
       ]
      },
      {
       "output_type": "stream",
       "stream": "stdout",
       "text": [
        "\n",
        "('easy', 'img', 'RL')\n",
        "0.0"
       ]
      },
      {
       "output_type": "stream",
       "stream": "stdout",
       "text": [
        "\n",
        "('easy', 'img', 'ZS')\n",
        "0.0"
       ]
      },
      {
       "output_type": "stream",
       "stream": "stdout",
       "text": [
        "\n",
        "('easy', 'pcp', 'KL')\n",
        "0.0"
       ]
      },
      {
       "output_type": "stream",
       "stream": "stdout",
       "text": [
        "\n",
        "('easy', 'pcp', 'RL')\n",
        "0.0"
       ]
      },
      {
       "output_type": "stream",
       "stream": "stdout",
       "text": [
        "\n",
        "('easy', 'pcp', 'ZS')\n",
        "0.0"
       ]
      },
      {
       "output_type": "stream",
       "stream": "stdout",
       "text": [
        "\n",
        "('hard', 'img', 'KL')\n",
        "0.0"
       ]
      },
      {
       "output_type": "stream",
       "stream": "stdout",
       "text": [
        "\n",
        "('hard', 'img', 'RL')\n",
        "0.0"
       ]
      },
      {
       "output_type": "stream",
       "stream": "stdout",
       "text": [
        "\n",
        "('hard', 'img', 'ZS')\n",
        "0.0"
       ]
      },
      {
       "output_type": "stream",
       "stream": "stdout",
       "text": [
        "\n",
        "('hard', 'pcp', 'KL')\n",
        "0.0"
       ]
      },
      {
       "output_type": "stream",
       "stream": "stdout",
       "text": [
        "\n",
        "('hard', 'pcp', 'RL')\n",
        "0.0"
       ]
      },
      {
       "output_type": "stream",
       "stream": "stdout",
       "text": [
        "\n",
        "('hard', 'pcp', 'ZS')\n",
        "0.0"
       ]
      },
      {
       "output_type": "stream",
       "stream": "stdout",
       "text": [
        "\n",
        "7 0.0003 0.25000075 0.0\n",
        "('easy', 'img', 'KL')\n",
        "0.0"
       ]
      },
      {
       "output_type": "stream",
       "stream": "stdout",
       "text": [
        "\n",
        "('easy', 'img', 'RL')\n",
        "0.0"
       ]
      },
      {
       "output_type": "stream",
       "stream": "stdout",
       "text": [
        "\n",
        "('easy', 'img', 'ZS')\n",
        "0.0"
       ]
      },
      {
       "output_type": "stream",
       "stream": "stdout",
       "text": [
        "\n",
        "('easy', 'pcp', 'KL')\n",
        "0.0"
       ]
      },
      {
       "output_type": "stream",
       "stream": "stdout",
       "text": [
        "\n",
        "('easy', 'pcp', 'RL')\n",
        "0.0"
       ]
      },
      {
       "output_type": "stream",
       "stream": "stdout",
       "text": [
        "\n",
        "('easy', 'pcp', 'ZS')\n",
        "0.0"
       ]
      },
      {
       "output_type": "stream",
       "stream": "stdout",
       "text": [
        "\n",
        "('hard', 'img', 'KL')\n",
        "0.0"
       ]
      },
      {
       "output_type": "stream",
       "stream": "stdout",
       "text": [
        "\n",
        "('hard', 'img', 'RL')\n",
        "0.0"
       ]
      },
      {
       "output_type": "stream",
       "stream": "stdout",
       "text": [
        "\n",
        "('hard', 'img', 'ZS')\n",
        "0.0"
       ]
      },
      {
       "output_type": "stream",
       "stream": "stdout",
       "text": [
        "\n",
        "('hard', 'pcp', 'KL')\n",
        "0.0"
       ]
      },
      {
       "output_type": "stream",
       "stream": "stdout",
       "text": [
        "\n",
        "('hard', 'pcp', 'RL')\n",
        "0.0"
       ]
      },
      {
       "output_type": "stream",
       "stream": "stdout",
       "text": [
        "\n",
        "('hard', 'pcp', 'ZS')\n",
        "0.0"
       ]
      },
      {
       "output_type": "stream",
       "stream": "stdout",
       "text": [
        "\n",
        "7 0.0003 0.25000075 0.24999975\n",
        "('easy', 'img', 'KL')\n",
        "6.81454438095e-69"
       ]
      },
      {
       "output_type": "stream",
       "stream": "stdout",
       "text": [
        "\n",
        "('easy', 'img', 'RL')\n",
        "2.32839808711e-78"
       ]
      },
      {
       "output_type": "stream",
       "stream": "stdout",
       "text": [
        "\n",
        "('easy', 'img', 'ZS')\n",
        "2.31776972417e-67"
       ]
      },
      {
       "output_type": "stream",
       "stream": "stdout",
       "text": [
        "\n",
        "('easy', 'pcp', 'KL')\n",
        "1.28764629709e-67"
       ]
      },
      {
       "output_type": "stream",
       "stream": "stdout",
       "text": [
        "\n",
        "('easy', 'pcp', 'RL')\n",
        "2.35629276198e-73"
       ]
      },
      {
       "output_type": "stream",
       "stream": "stdout",
       "text": [
        "\n",
        "('easy', 'pcp', 'ZS')\n",
        "4.17195707146e-67"
       ]
      },
      {
       "output_type": "stream",
       "stream": "stdout",
       "text": [
        "\n",
        "('hard', 'img', 'KL')\n",
        "1.27290641192e-90"
       ]
      },
      {
       "output_type": "stream",
       "stream": "stdout",
       "text": [
        "\n",
        "('hard', 'img', 'RL')\n",
        "5.28223529347e-79"
       ]
      },
      {
       "output_type": "stream",
       "stream": "stdout",
       "text": [
        "\n",
        "('hard', 'img', 'ZS')\n",
        "6.36201594182e-72"
       ]
      },
      {
       "output_type": "stream",
       "stream": "stdout",
       "text": [
        "\n",
        "('hard', 'pcp', 'KL')\n",
        "2.42515111413e-92"
       ]
      },
      {
       "output_type": "stream",
       "stream": "stdout",
       "text": [
        "\n",
        "('hard', 'pcp', 'RL')\n",
        "2.4539630717e-104"
       ]
      },
      {
       "output_type": "stream",
       "stream": "stdout",
       "text": [
        "\n",
        "('hard', 'pcp', 'ZS')\n",
        "3.65022700046e-117"
       ]
      },
      {
       "output_type": "stream",
       "stream": "stdout",
       "text": [
        "\n",
        "7 0.0003 0.5000005 0.0\n",
        "('easy', 'img', 'KL')\n",
        "0.0"
       ]
      },
      {
       "output_type": "stream",
       "stream": "stdout",
       "text": [
        "\n",
        "('easy', 'img', 'RL')\n",
        "0.0"
       ]
      },
      {
       "output_type": "stream",
       "stream": "stdout",
       "text": [
        "\n",
        "('easy', 'img', 'ZS')\n",
        "0.0"
       ]
      },
      {
       "output_type": "stream",
       "stream": "stdout",
       "text": [
        "\n",
        "('easy', 'pcp', 'KL')\n",
        "0.0"
       ]
      },
      {
       "output_type": "stream",
       "stream": "stdout",
       "text": [
        "\n",
        "('easy', 'pcp', 'RL')\n",
        "0.0"
       ]
      },
      {
       "output_type": "stream",
       "stream": "stdout",
       "text": [
        "\n",
        "('easy', 'pcp', 'ZS')\n",
        "0.0"
       ]
      },
      {
       "output_type": "stream",
       "stream": "stdout",
       "text": [
        "\n",
        "('hard', 'img', 'KL')\n",
        "0.0"
       ]
      },
      {
       "output_type": "stream",
       "stream": "stdout",
       "text": [
        "\n",
        "('hard', 'img', 'RL')\n",
        "0.0"
       ]
      },
      {
       "output_type": "stream",
       "stream": "stdout",
       "text": [
        "\n",
        "('hard', 'img', 'ZS')\n",
        "0.0"
       ]
      },
      {
       "output_type": "stream",
       "stream": "stdout",
       "text": [
        "\n",
        "('hard', 'pcp', 'KL')\n",
        "0.0"
       ]
      },
      {
       "output_type": "stream",
       "stream": "stdout",
       "text": [
        "\n",
        "('hard', 'pcp', 'RL')\n",
        "0.0"
       ]
      },
      {
       "output_type": "stream",
       "stream": "stdout",
       "text": [
        "\n",
        "('hard', 'pcp', 'ZS')\n",
        "0.0"
       ]
      },
      {
       "output_type": "stream",
       "stream": "stdout",
       "text": [
        "\n",
        "7 0.0003 0.5000005 0.24999975\n",
        "('easy', 'img', 'KL')\n",
        "2.71713615236e-70"
       ]
      },
      {
       "output_type": "stream",
       "stream": "stdout",
       "text": [
        "\n",
        "('easy', 'img', 'RL')\n",
        "1.48376194172e-71"
       ]
      },
      {
       "output_type": "stream",
       "stream": "stdout",
       "text": [
        "\n",
        "('easy', 'img', 'ZS')\n",
        "1.75212579202e-71"
       ]
      },
      {
       "output_type": "stream",
       "stream": "stdout",
       "text": [
        "\n",
        "('easy', 'pcp', 'KL')\n",
        "3.8595947095e-72"
       ]
      },
      {
       "output_type": "stream",
       "stream": "stdout",
       "text": [
        "\n",
        "('easy', 'pcp', 'RL')\n",
        "2.16293077139e-73"
       ]
      },
      {
       "output_type": "stream",
       "stream": "stdout",
       "text": [
        "\n",
        "('easy', 'pcp', 'ZS')\n",
        "2.00757142174e-71"
       ]
      },
      {
       "output_type": "stream",
       "stream": "stdout",
       "text": [
        "\n",
        "('hard', 'img', 'KL')\n",
        "2.34785245812e-78"
       ]
      },
      {
       "output_type": "stream",
       "stream": "stdout",
       "text": [
        "\n",
        "('hard', 'img', 'RL')\n",
        "2.30331286392e-72"
       ]
      },
      {
       "output_type": "stream",
       "stream": "stdout",
       "text": [
        "\n",
        "('hard', 'img', 'ZS')\n",
        "1.19309159133e-73"
       ]
      },
      {
       "output_type": "stream",
       "stream": "stdout",
       "text": [
        "\n",
        "('hard', 'pcp', 'KL')\n",
        "2.21196159844e-79"
       ]
      },
      {
       "output_type": "stream",
       "stream": "stdout",
       "text": [
        "\n",
        "('hard', 'pcp', 'RL')\n",
        "3.647478801e-85"
       ]
      },
      {
       "output_type": "stream",
       "stream": "stdout",
       "text": [
        "\n",
        "('hard', 'pcp', 'ZS')\n",
        "4.24382202977e-95"
       ]
      },
      {
       "output_type": "stream",
       "stream": "stdout",
       "text": [
        "\n",
        "7 0.0003 0.5000005 0.4999995\n",
        "('easy', 'img', 'KL')\n",
        "2.86833357009e-114"
       ]
      },
      {
       "output_type": "stream",
       "stream": "stdout",
       "text": [
        "\n",
        "('easy', 'img', 'RL')\n",
        "8.68571302305e-102"
       ]
      },
      {
       "output_type": "stream",
       "stream": "stdout",
       "text": [
        "\n",
        "('easy', 'img', 'ZS')\n",
        "7.55456673841e-121"
       ]
      },
      {
       "output_type": "stream",
       "stream": "stdout",
       "text": [
        "\n",
        "('easy', 'pcp', 'KL')\n",
        "1.39899234698e-121"
       ]
      },
      {
       "output_type": "stream",
       "stream": "stdout",
       "text": [
        "\n",
        "('easy', 'pcp', 'RL')\n",
        "2.16903819654e-115"
       ]
      },
      {
       "output_type": "stream",
       "stream": "stdout",
       "text": [
        "\n",
        "('easy', 'pcp', 'ZS')\n",
        "3.67148965434e-119"
       ]
      },
      {
       "output_type": "stream",
       "stream": "stdout",
       "text": [
        "\n",
        "('hard', 'img', 'KL')\n",
        "2.63952610726e-98"
       ]
      },
      {
       "output_type": "stream",
       "stream": "stdout",
       "text": [
        "\n",
        "('hard', 'img', 'RL')\n",
        "5.91129839243e-102"
       ]
      },
      {
       "output_type": "stream",
       "stream": "stdout",
       "text": [
        "\n",
        "('hard', 'img', 'ZS')\n",
        "1.10199249293e-119"
       ]
      },
      {
       "output_type": "stream",
       "stream": "stdout",
       "text": [
        "\n",
        "('hard', 'pcp', 'KL')\n",
        "4.52594575916e-99"
       ]
      },
      {
       "output_type": "stream",
       "stream": "stdout",
       "text": [
        "\n",
        "('hard', 'pcp', 'RL')\n",
        "2.29121188481e-94"
       ]
      },
      {
       "output_type": "stream",
       "stream": "stdout",
       "text": [
        "\n",
        "('hard', 'pcp', 'ZS')\n",
        "6.31516087388e-92"
       ]
      },
      {
       "output_type": "stream",
       "stream": "stdout",
       "text": [
        "\n",
        "7 0.0003 0.75000025 0.0\n",
        "('easy', 'img', 'KL')\n",
        "0.0"
       ]
      },
      {
       "output_type": "stream",
       "stream": "stdout",
       "text": [
        "\n",
        "('easy', 'img', 'RL')\n",
        "0.0"
       ]
      },
      {
       "output_type": "stream",
       "stream": "stdout",
       "text": [
        "\n",
        "('easy', 'img', 'ZS')\n",
        "0.0"
       ]
      },
      {
       "output_type": "stream",
       "stream": "stdout",
       "text": [
        "\n",
        "('easy', 'pcp', 'KL')\n",
        "0.0"
       ]
      },
      {
       "output_type": "stream",
       "stream": "stdout",
       "text": [
        "\n",
        "('easy', 'pcp', 'RL')\n",
        "0.0"
       ]
      },
      {
       "output_type": "stream",
       "stream": "stdout",
       "text": [
        "\n",
        "('easy', 'pcp', 'ZS')\n",
        "0.0"
       ]
      },
      {
       "output_type": "stream",
       "stream": "stdout",
       "text": [
        "\n",
        "('hard', 'img', 'KL')\n",
        "0.0"
       ]
      },
      {
       "output_type": "stream",
       "stream": "stdout",
       "text": [
        "\n",
        "('hard', 'img', 'RL')\n",
        "0.0"
       ]
      },
      {
       "output_type": "stream",
       "stream": "stdout",
       "text": [
        "\n",
        "('hard', 'img', 'ZS')\n",
        "0.0"
       ]
      },
      {
       "output_type": "stream",
       "stream": "stdout",
       "text": [
        "\n",
        "('hard', 'pcp', 'KL')\n",
        "0.0"
       ]
      },
      {
       "output_type": "stream",
       "stream": "stdout",
       "text": [
        "\n",
        "('hard', 'pcp', 'RL')\n",
        "0.0"
       ]
      },
      {
       "output_type": "stream",
       "stream": "stdout",
       "text": [
        "\n",
        "('hard', 'pcp', 'ZS')\n",
        "0.0"
       ]
      },
      {
       "output_type": "stream",
       "stream": "stdout",
       "text": [
        "\n",
        "7 0.0003 0.75000025 0.24999975\n",
        "('easy', 'img', 'KL')\n",
        "3.00894832023e-82"
       ]
      },
      {
       "output_type": "stream",
       "stream": "stdout",
       "text": [
        "\n",
        "('easy', 'img', 'RL')\n",
        "3.98919212855e-75"
       ]
      },
      {
       "output_type": "stream",
       "stream": "stdout",
       "text": [
        "\n",
        "('easy', 'img', 'ZS')\n",
        "1.96475956586e-86"
       ]
      },
      {
       "output_type": "stream",
       "stream": "stdout",
       "text": [
        "\n",
        "('easy', 'pcp', 'KL')\n",
        "2.38189242891e-87"
       ]
      },
      {
       "output_type": "stream",
       "stream": "stdout",
       "text": [
        "\n",
        "('easy', 'pcp', 'RL')\n",
        "4.95928487036e-84"
       ]
      },
      {
       "output_type": "stream",
       "stream": "stdout",
       "text": [
        "\n",
        "('easy', 'pcp', 'ZS')\n",
        "2.46576540571e-86"
       ]
      },
      {
       "output_type": "stream",
       "stream": "stdout",
       "text": [
        "\n",
        "('hard', 'img', 'KL')\n",
        "9.53271336409e-78"
       ]
      },
      {
       "output_type": "stream",
       "stream": "stdout",
       "text": [
        "\n",
        "('hard', 'img', 'RL')\n",
        "7.16826691875e-77"
       ]
      },
      {
       "output_type": "stream",
       "stream": "stdout",
       "text": [
        "\n",
        "('hard', 'img', 'ZS')\n",
        "6.32418551164e-87"
       ]
      },
      {
       "output_type": "stream",
       "stream": "stdout",
       "text": [
        "\n",
        "('hard', 'pcp', 'KL')\n",
        "3.33421360543e-78"
       ]
      },
      {
       "output_type": "stream",
       "stream": "stdout",
       "text": [
        "\n",
        "('hard', 'pcp', 'RL')\n",
        "6.30775035656e-78"
       ]
      },
      {
       "output_type": "stream",
       "stream": "stdout",
       "text": [
        "\n",
        "('hard', 'pcp', 'ZS')\n",
        "7.02432265828e-86"
       ]
      },
      {
       "output_type": "stream",
       "stream": "stdout",
       "text": [
        "\n",
        "7 0.0003 0.75000025 0.4999995\n",
        "('easy', 'img', 'KL')\n",
        "9.72964359981e-148"
       ]
      },
      {
       "output_type": "stream",
       "stream": "stdout",
       "text": [
        "\n",
        "('easy', 'img', 'RL')\n",
        "1.54962917774e-127"
       ]
      },
      {
       "output_type": "stream",
       "stream": "stdout",
       "text": [
        "\n",
        "('easy', 'img', 'ZS')\n",
        "6.69623407233e-157"
       ]
      },
      {
       "output_type": "stream",
       "stream": "stdout",
       "text": [
        "\n",
        "('easy', 'pcp', 'KL')\n",
        "5.77386306453e-158"
       ]
      },
      {
       "output_type": "stream",
       "stream": "stdout",
       "text": [
        "\n",
        "('easy', 'pcp', 'RL')\n",
        "1.4830499564e-147"
       ]
      },
      {
       "output_type": "stream",
       "stream": "stdout",
       "text": [
        "\n",
        "('easy', 'pcp', 'ZS')\n",
        "2.54544493864e-155"
       ]
      },
      {
       "output_type": "stream",
       "stream": "stdout",
       "text": [
        "\n",
        "('hard', 'img', 'KL')\n",
        "6.61254632439e-120"
       ]
      },
      {
       "output_type": "stream",
       "stream": "stdout",
       "text": [
        "\n",
        "('hard', 'img', 'RL')\n",
        "7.7237256697e-129"
       ]
      },
      {
       "output_type": "stream",
       "stream": "stdout",
       "text": [
        "\n",
        "('hard', 'img', 'ZS')\n",
        "1.81112021773e-154"
       ]
      },
      {
       "output_type": "stream",
       "stream": "stdout",
       "text": [
        "\n",
        "('hard', 'pcp', 'KL')\n",
        "4.82799287143e-120"
       ]
      },
      {
       "output_type": "stream",
       "stream": "stdout",
       "text": [
        "\n",
        "('hard', 'pcp', 'RL')\n",
        "1.70760200621e-109"
       ]
      },
      {
       "output_type": "stream",
       "stream": "stdout",
       "text": [
        "\n",
        "('hard', 'pcp', 'ZS')\n",
        "3.33898298284e-104"
       ]
      },
      {
       "output_type": "stream",
       "stream": "stdout",
       "text": [
        "\n",
        "7 0.0003 0.75000025 0.74999925\n",
        "('easy', 'img', 'KL')\n",
        "1.02706019403e-270"
       ]
      },
      {
       "output_type": "stream",
       "stream": "stdout",
       "text": [
        "\n",
        "('easy', 'img', 'RL')\n",
        "2.75624911809e-236"
       ]
      },
      {
       "output_type": "stream",
       "stream": "stdout",
       "text": [
        "\n",
        "('easy', 'img', 'ZS')\n",
        "2.09472196325e-285"
       ]
      },
      {
       "output_type": "stream",
       "stream": "stdout",
       "text": [
        "\n",
        "('easy', 'pcp', 'KL')\n",
        "1.29303813249e-286"
       ]
      },
      {
       "output_type": "stream",
       "stream": "stdout",
       "text": [
        "\n",
        "('easy', 'pcp', 'RL')\n",
        "1.69854783325e-268"
       ]
      },
      {
       "output_type": "stream",
       "stream": "stdout",
       "text": [
        "\n",
        "('easy', 'pcp', 'ZS')\n",
        "2.74865343859e-282"
       ]
      },
      {
       "output_type": "stream",
       "stream": "stdout",
       "text": [
        "\n",
        "('hard', 'img', 'KL')\n",
        "4.65599173904e-217"
       ]
      },
      {
       "output_type": "stream",
       "stream": "stdout",
       "text": [
        "\n",
        "('hard', 'img', 'RL')\n",
        "5.62743163012e-236"
       ]
      },
      {
       "output_type": "stream",
       "stream": "stdout",
       "text": [
        "\n",
        "('hard', 'img', 'ZS')\n",
        "1.62381657044e-278"
       ]
      },
      {
       "output_type": "stream",
       "stream": "stdout",
       "text": [
        "\n",
        "('hard', 'pcp', 'KL')\n",
        "7.18517309163e-217"
       ]
      },
      {
       "output_type": "stream",
       "stream": "stdout",
       "text": [
        "\n",
        "('hard', 'pcp', 'RL')\n",
        "1.81975846748e-195"
       ]
      },
      {
       "output_type": "stream",
       "stream": "stdout",
       "text": [
        "\n",
        "('hard', 'pcp', 'ZS')\n",
        "9.29370410963e-178"
       ]
      },
      {
       "output_type": "stream",
       "stream": "stdout",
       "text": [
        "\n",
        "7 0.0003 1.0 0.0\n",
        "('easy', 'img', 'KL')\n",
        "0.0"
       ]
      },
      {
       "output_type": "stream",
       "stream": "stdout",
       "text": [
        "\n",
        "('easy', 'img', 'RL')\n",
        "0.0"
       ]
      },
      {
       "output_type": "stream",
       "stream": "stdout",
       "text": [
        "\n",
        "('easy', 'img', 'ZS')\n",
        "0.0"
       ]
      },
      {
       "output_type": "stream",
       "stream": "stdout",
       "text": [
        "\n",
        "('easy', 'pcp', 'KL')\n",
        "0.0"
       ]
      },
      {
       "output_type": "stream",
       "stream": "stdout",
       "text": [
        "\n",
        "('easy', 'pcp', 'RL')\n",
        "0.0"
       ]
      },
      {
       "output_type": "stream",
       "stream": "stdout",
       "text": [
        "\n",
        "('easy', 'pcp', 'ZS')\n",
        "0.0"
       ]
      },
      {
       "output_type": "stream",
       "stream": "stdout",
       "text": [
        "\n",
        "('hard', 'img', 'KL')\n",
        "0.0"
       ]
      },
      {
       "output_type": "stream",
       "stream": "stdout",
       "text": [
        "\n",
        "('hard', 'img', 'RL')\n",
        "0.0"
       ]
      },
      {
       "output_type": "stream",
       "stream": "stdout",
       "text": [
        "\n",
        "('hard', 'img', 'ZS')\n",
        "0.0"
       ]
      },
      {
       "output_type": "stream",
       "stream": "stdout",
       "text": [
        "\n",
        "('hard', 'pcp', 'KL')\n",
        "0.0"
       ]
      },
      {
       "output_type": "stream",
       "stream": "stdout",
       "text": [
        "\n",
        "('hard', 'pcp', 'RL')\n",
        "0.0"
       ]
      },
      {
       "output_type": "stream",
       "stream": "stdout",
       "text": [
        "\n",
        "('hard', 'pcp', 'ZS')\n",
        "0.0"
       ]
      },
      {
       "output_type": "stream",
       "stream": "stdout",
       "text": [
        "\n",
        "7 0.0003 1.0 0.24999975\n",
        "('easy', 'img', 'KL')\n",
        "8.74851396738e-109"
       ]
      },
      {
       "output_type": "stream",
       "stream": "stdout",
       "text": [
        "\n",
        "('easy', 'img', 'RL')\n",
        "1.48591092524e-89"
       ]
      },
      {
       "output_type": "stream",
       "stream": "stdout",
       "text": [
        "\n",
        "('easy', 'img', 'ZS')\n",
        "2.14731419111e-117"
       ]
      },
      {
       "output_type": "stream",
       "stream": "stdout",
       "text": [
        "\n",
        "('easy', 'pcp', 'KL')\n",
        "8.60941365697e-118"
       ]
      },
      {
       "output_type": "stream",
       "stream": "stdout",
       "text": [
        "\n",
        "('easy', 'pcp', 'RL')\n",
        "3.04050866465e-109"
       ]
      },
      {
       "output_type": "stream",
       "stream": "stdout",
       "text": [
        "\n",
        "('easy', 'pcp', 'ZS')\n",
        "4.18048334908e-116"
       ]
      },
      {
       "output_type": "stream",
       "stream": "stdout",
       "text": [
        "\n",
        "('hard', 'img', 'KL')\n",
        "4.20623011917e-90"
       ]
      },
      {
       "output_type": "stream",
       "stream": "stdout",
       "text": [
        "\n",
        "('hard', 'img', 'RL')\n",
        "2.16477026923e-94"
       ]
      },
      {
       "output_type": "stream",
       "stream": "stdout",
       "text": [
        "\n",
        "('hard', 'img', 'ZS')\n",
        "1.23163323807e-115"
       ]
      },
      {
       "output_type": "stream",
       "stream": "stdout",
       "text": [
        "\n",
        "('hard', 'pcp', 'KL')\n",
        "1.14014064544e-89"
       ]
      },
      {
       "output_type": "stream",
       "stream": "stdout",
       "text": [
        "\n",
        "('hard', 'pcp', 'RL')\n",
        "2.72274713582e-81"
       ]
      },
      {
       "output_type": "stream",
       "stream": "stdout",
       "text": [
        "\n",
        "('hard', 'pcp', 'ZS')\n",
        "4.14753931672e-89"
       ]
      },
      {
       "output_type": "stream",
       "stream": "stdout",
       "text": [
        "\n",
        "7 0.0003 1.0 0.4999995\n",
        "('easy', 'img', 'KL')\n",
        "3.90283924131e-209"
       ]
      },
      {
       "output_type": "stream",
       "stream": "stdout",
       "text": [
        "\n",
        "('easy', 'img', 'RL')\n",
        "2.08946464659e-174"
       ]
      },
      {
       "output_type": "stream",
       "stream": "stdout",
       "text": [
        "\n",
        "('easy', 'img', 'ZS')\n",
        "1.52231066285e-223"
       ]
      },
      {
       "output_type": "stream",
       "stream": "stdout",
       "text": [
        "\n",
        "('easy', 'pcp', 'KL')\n",
        "8.52581163571e-225"
       ]
      },
      {
       "output_type": "stream",
       "stream": "stdout",
       "text": [
        "\n",
        "('easy', 'pcp', 'RL')\n",
        "1.59326299966e-207"
       ]
      },
      {
       "output_type": "stream",
       "stream": "stdout",
       "text": [
        "\n",
        "('easy', 'pcp', 'ZS')\n",
        "4.87761689136e-221"
       ]
      },
      {
       "output_type": "stream",
       "stream": "stdout",
       "text": [
        "\n",
        "('hard', 'img', 'KL')\n",
        "3.92475878107e-163"
       ]
      },
      {
       "output_type": "stream",
       "stream": "stdout",
       "text": [
        "\n",
        "('hard', 'img', 'RL')\n",
        "2.84310063092e-179"
       ]
      },
      {
       "output_type": "stream",
       "stream": "stdout",
       "text": [
        "\n",
        "('hard', 'img', 'ZS')\n",
        "3.28285976022e-219"
       ]
      },
      {
       "output_type": "stream",
       "stream": "stdout",
       "text": [
        "\n",
        "('hard', 'pcp', 'KL')\n",
        "1.15218053626e-162"
       ]
      },
      {
       "output_type": "stream",
       "stream": "stdout",
       "text": [
        "\n",
        "('hard', 'pcp', 'RL')\n",
        "9.28501942065e-143"
       ]
      },
      {
       "output_type": "stream",
       "stream": "stdout",
       "text": [
        "\n",
        "('hard', 'pcp', 'ZS')\n",
        "5.90748356413e-135"
       ]
      },
      {
       "output_type": "stream",
       "stream": "stdout",
       "text": [
        "\n",
        "7 0.0003 1.0 0.74999925\n",
        "('easy', 'img', 'KL')\n",
        "0.0"
       ]
      },
      {
       "output_type": "stream",
       "stream": "stdout",
       "text": [
        "\n",
        "('easy', 'img', 'RL')\n",
        "0.0"
       ]
      },
      {
       "output_type": "stream",
       "stream": "stdout",
       "text": [
        "\n",
        "('easy', 'img', 'ZS')\n",
        "0.0"
       ]
      },
      {
       "output_type": "stream",
       "stream": "stdout",
       "text": [
        "\n",
        "('easy', 'pcp', 'KL')\n",
        "0.0"
       ]
      },
      {
       "output_type": "stream",
       "stream": "stdout",
       "text": [
        "\n",
        "('easy', 'pcp', 'RL')\n",
        "0.0"
       ]
      },
      {
       "output_type": "stream",
       "stream": "stdout",
       "text": [
        "\n",
        "('easy', 'pcp', 'ZS')\n",
        "0.0"
       ]
      },
      {
       "output_type": "stream",
       "stream": "stdout",
       "text": [
        "\n",
        "('hard', 'img', 'KL')\n",
        "1.267575068e-316"
       ]
      },
      {
       "output_type": "stream",
       "stream": "stdout",
       "text": [
        "\n",
        "('hard', 'img', 'RL')\n",
        "0.0"
       ]
      },
      {
       "output_type": "stream",
       "stream": "stdout",
       "text": [
        "\n",
        "('hard', 'img', 'ZS')\n",
        "0.0"
       ]
      },
      {
       "output_type": "stream",
       "stream": "stdout",
       "text": [
        "\n",
        "('hard', 'pcp', 'KL')\n",
        "1.6907701145e-315"
       ]
      },
      {
       "output_type": "stream",
       "stream": "stdout",
       "text": [
        "\n",
        "('hard', 'pcp', 'RL')\n",
        "2.51705219828e-281"
       ]
      },
      {
       "output_type": "stream",
       "stream": "stdout",
       "text": [
        "\n",
        "('hard', 'pcp', 'ZS')\n",
        "2.08738901268e-258"
       ]
      },
      {
       "output_type": "stream",
       "stream": "stdout",
       "text": [
        "\n",
        "7 0.0003 1.0 0.999999\n",
        "('easy', 'img', 'KL')\n",
        "0.0"
       ]
      },
      {
       "output_type": "stream",
       "stream": "stdout",
       "text": [
        "\n",
        "('easy', 'img', 'RL')\n",
        "0.0"
       ]
      },
      {
       "output_type": "stream",
       "stream": "stdout",
       "text": [
        "\n",
        "('easy', 'img', 'ZS')\n",
        "0.0"
       ]
      },
      {
       "output_type": "stream",
       "stream": "stdout",
       "text": [
        "\n",
        "('easy', 'pcp', 'KL')\n",
        "0.0"
       ]
      },
      {
       "output_type": "stream",
       "stream": "stdout",
       "text": [
        "\n",
        "('easy', 'pcp', 'RL')\n",
        "0.0"
       ]
      },
      {
       "output_type": "stream",
       "stream": "stdout",
       "text": [
        "\n",
        "('easy', 'pcp', 'ZS')\n",
        "0.0"
       ]
      },
      {
       "output_type": "stream",
       "stream": "stdout",
       "text": [
        "\n",
        "('hard', 'img', 'KL')\n",
        "0.0"
       ]
      },
      {
       "output_type": "stream",
       "stream": "stdout",
       "text": [
        "\n",
        "('hard', 'img', 'RL')\n",
        "0.0"
       ]
      },
      {
       "output_type": "stream",
       "stream": "stdout",
       "text": [
        "\n",
        "('hard', 'img', 'ZS')\n",
        "0.0"
       ]
      },
      {
       "output_type": "stream",
       "stream": "stdout",
       "text": [
        "\n",
        "('hard', 'pcp', 'KL')\n",
        "0.0"
       ]
      },
      {
       "output_type": "stream",
       "stream": "stdout",
       "text": [
        "\n",
        "('hard', 'pcp', 'RL')\n",
        "0.0"
       ]
      },
      {
       "output_type": "stream",
       "stream": "stdout",
       "text": [
        "\n",
        "('hard', 'pcp', 'ZS')\n",
        "0.0"
       ]
      },
      {
       "output_type": "stream",
       "stream": "stdout",
       "text": [
        "\n",
        "7 0.00035 1e-06 0.0\n",
        "('easy', 'img', 'KL')\n",
        "0.0"
       ]
      },
      {
       "output_type": "stream",
       "stream": "stdout",
       "text": [
        "\n",
        "('easy', 'img', 'RL')\n",
        "0.0"
       ]
      },
      {
       "output_type": "stream",
       "stream": "stdout",
       "text": [
        "\n",
        "('easy', 'img', 'ZS')\n",
        "0.0"
       ]
      },
      {
       "output_type": "stream",
       "stream": "stdout",
       "text": [
        "\n",
        "('easy', 'pcp', 'KL')\n",
        "0.0"
       ]
      },
      {
       "output_type": "stream",
       "stream": "stdout",
       "text": [
        "\n",
        "('easy', 'pcp', 'RL')\n",
        "0.0"
       ]
      },
      {
       "output_type": "stream",
       "stream": "stdout",
       "text": [
        "\n",
        "('easy', 'pcp', 'ZS')\n",
        "0.0"
       ]
      },
      {
       "output_type": "stream",
       "stream": "stdout",
       "text": [
        "\n",
        "('hard', 'img', 'KL')\n",
        "0.0"
       ]
      },
      {
       "output_type": "stream",
       "stream": "stdout",
       "text": [
        "\n",
        "('hard', 'img', 'RL')\n",
        "0.0"
       ]
      },
      {
       "output_type": "stream",
       "stream": "stdout",
       "text": [
        "\n",
        "('hard', 'img', 'ZS')\n",
        "0.0"
       ]
      },
      {
       "output_type": "stream",
       "stream": "stdout",
       "text": [
        "\n",
        "('hard', 'pcp', 'KL')\n",
        "0.0"
       ]
      },
      {
       "output_type": "stream",
       "stream": "stdout",
       "text": [
        "\n",
        "('hard', 'pcp', 'RL')\n",
        "0.0"
       ]
      },
      {
       "output_type": "stream",
       "stream": "stdout",
       "text": [
        "\n",
        "('hard', 'pcp', 'ZS')\n",
        "0.0"
       ]
      },
      {
       "output_type": "stream",
       "stream": "stdout",
       "text": [
        "\n",
        "7 0.00035 0.25000075 0.0\n",
        "('easy', 'img', 'KL')\n",
        "0.0"
       ]
      },
      {
       "output_type": "stream",
       "stream": "stdout",
       "text": [
        "\n",
        "('easy', 'img', 'RL')\n",
        "0.0"
       ]
      },
      {
       "output_type": "stream",
       "stream": "stdout",
       "text": [
        "\n",
        "('easy', 'img', 'ZS')\n",
        "0.0"
       ]
      },
      {
       "output_type": "stream",
       "stream": "stdout",
       "text": [
        "\n",
        "('easy', 'pcp', 'KL')\n",
        "0.0"
       ]
      },
      {
       "output_type": "stream",
       "stream": "stdout",
       "text": [
        "\n",
        "('easy', 'pcp', 'RL')\n",
        "0.0"
       ]
      },
      {
       "output_type": "stream",
       "stream": "stdout",
       "text": [
        "\n",
        "('easy', 'pcp', 'ZS')\n",
        "0.0"
       ]
      },
      {
       "output_type": "stream",
       "stream": "stdout",
       "text": [
        "\n",
        "('hard', 'img', 'KL')\n",
        "0.0"
       ]
      },
      {
       "output_type": "stream",
       "stream": "stdout",
       "text": [
        "\n",
        "('hard', 'img', 'RL')\n",
        "0.0"
       ]
      },
      {
       "output_type": "stream",
       "stream": "stdout",
       "text": [
        "\n",
        "('hard', 'img', 'ZS')\n",
        "0.0"
       ]
      },
      {
       "output_type": "stream",
       "stream": "stdout",
       "text": [
        "\n",
        "('hard', 'pcp', 'KL')\n",
        "0.0"
       ]
      },
      {
       "output_type": "stream",
       "stream": "stdout",
       "text": [
        "\n",
        "('hard', 'pcp', 'RL')\n",
        "0.0"
       ]
      },
      {
       "output_type": "stream",
       "stream": "stdout",
       "text": [
        "\n",
        "('hard', 'pcp', 'ZS')\n",
        "0.0"
       ]
      },
      {
       "output_type": "stream",
       "stream": "stdout",
       "text": [
        "\n",
        "7 0.00035 0.25000075 0.24999975\n",
        "('easy', 'img', 'KL')\n",
        "6.8145659902e-69"
       ]
      },
      {
       "output_type": "stream",
       "stream": "stdout",
       "text": [
        "\n",
        "('easy', 'img', 'RL')\n",
        "2.32842318575e-78"
       ]
      },
      {
       "output_type": "stream",
       "stream": "stdout",
       "text": [
        "\n",
        "('easy', 'img', 'ZS')\n",
        "2.3177663416e-67"
       ]
      },
      {
       "output_type": "stream",
       "stream": "stdout",
       "text": [
        "\n",
        "('easy', 'pcp', 'KL')\n",
        "1.28764892155e-67"
       ]
      },
      {
       "output_type": "stream",
       "stream": "stdout",
       "text": [
        "\n",
        "('easy', 'pcp', 'RL')\n",
        "2.3563150074e-73"
       ]
      },
      {
       "output_type": "stream",
       "stream": "stdout",
       "text": [
        "\n",
        "('easy', 'pcp', 'ZS')\n",
        "4.17196829922e-67"
       ]
      },
      {
       "output_type": "stream",
       "stream": "stdout",
       "text": [
        "\n",
        "('hard', 'img', 'KL')\n",
        "1.27293692747e-90"
       ]
      },
      {
       "output_type": "stream",
       "stream": "stdout",
       "text": [
        "\n",
        "('hard', 'img', 'RL')\n",
        "5.28229733516e-79"
       ]
      },
      {
       "output_type": "stream",
       "stream": "stdout",
       "text": [
        "\n",
        "('hard', 'img', 'ZS')\n",
        "6.36203800101e-72"
       ]
      },
      {
       "output_type": "stream",
       "stream": "stdout",
       "text": [
        "\n",
        "('hard', 'pcp', 'KL')\n",
        "2.42520712721e-92"
       ]
      },
      {
       "output_type": "stream",
       "stream": "stdout",
       "text": [
        "\n",
        "('hard', 'pcp', 'RL')\n",
        "2.45402962299e-104"
       ]
      },
      {
       "output_type": "stream",
       "stream": "stdout",
       "text": [
        "\n",
        "('hard', 'pcp', 'ZS')\n",
        "3.65037554199e-117"
       ]
      },
      {
       "output_type": "stream",
       "stream": "stdout",
       "text": [
        "\n",
        "7 0.00035 0.5000005 0.0\n",
        "('easy', 'img', 'KL')\n",
        "0.0"
       ]
      },
      {
       "output_type": "stream",
       "stream": "stdout",
       "text": [
        "\n",
        "('easy', 'img', 'RL')\n",
        "0.0"
       ]
      },
      {
       "output_type": "stream",
       "stream": "stdout",
       "text": [
        "\n",
        "('easy', 'img', 'ZS')\n",
        "0.0"
       ]
      },
      {
       "output_type": "stream",
       "stream": "stdout",
       "text": [
        "\n",
        "('easy', 'pcp', 'KL')\n",
        "0.0"
       ]
      },
      {
       "output_type": "stream",
       "stream": "stdout",
       "text": [
        "\n",
        "('easy', 'pcp', 'RL')\n",
        "0.0"
       ]
      },
      {
       "output_type": "stream",
       "stream": "stdout",
       "text": [
        "\n",
        "('easy', 'pcp', 'ZS')\n",
        "0.0"
       ]
      },
      {
       "output_type": "stream",
       "stream": "stdout",
       "text": [
        "\n",
        "('hard', 'img', 'KL')\n",
        "0.0"
       ]
      },
      {
       "output_type": "stream",
       "stream": "stdout",
       "text": [
        "\n",
        "('hard', 'img', 'RL')\n",
        "0.0"
       ]
      },
      {
       "output_type": "stream",
       "stream": "stdout",
       "text": [
        "\n",
        "('hard', 'img', 'ZS')\n",
        "0.0"
       ]
      },
      {
       "output_type": "stream",
       "stream": "stdout",
       "text": [
        "\n",
        "('hard', 'pcp', 'KL')\n",
        "0.0"
       ]
      },
      {
       "output_type": "stream",
       "stream": "stdout",
       "text": [
        "\n",
        "('hard', 'pcp', 'RL')\n",
        "0.0"
       ]
      },
      {
       "output_type": "stream",
       "stream": "stdout",
       "text": [
        "\n",
        "('hard', 'pcp', 'ZS')\n",
        "0.0"
       ]
      },
      {
       "output_type": "stream",
       "stream": "stdout",
       "text": [
        "\n",
        "7 0.00035 0.5000005 0.24999975\n",
        "('easy', 'img', 'KL')\n",
        "2.39693115621e-71"
       ]
      },
      {
       "output_type": "stream",
       "stream": "stdout",
       "text": [
        "\n",
        "('easy', 'img', 'RL')\n",
        "6.79436413334e-72"
       ]
      },
      {
       "output_type": "stream",
       "stream": "stdout",
       "text": [
        "\n",
        "('easy', 'img', 'ZS')\n",
        "5.70935801549e-73"
       ]
      },
      {
       "output_type": "stream",
       "stream": "stdout",
       "text": [
        "\n",
        "('easy', 'pcp', 'KL')\n",
        "2.64638658899e-73"
       ]
      },
      {
       "output_type": "stream",
       "stream": "stdout",
       "text": [
        "\n",
        "('easy', 'pcp', 'RL')\n",
        "7.29784618517e-74"
       ]
      },
      {
       "output_type": "stream",
       "stream": "stdout",
       "text": [
        "\n",
        "('easy', 'pcp', 'ZS')\n",
        "1.61646892591e-72"
       ]
      },
      {
       "output_type": "stream",
       "stream": "stdout",
       "text": [
        "\n",
        "('hard', 'img', 'KL')\n",
        "2.35207404206e-77"
       ]
      },
      {
       "output_type": "stream",
       "stream": "stdout",
       "text": [
        "\n",
        "('hard', 'img', 'RL')\n",
        "1.41650469837e-72"
       ]
      },
      {
       "output_type": "stream",
       "stream": "stdout",
       "text": [
        "\n",
        "('hard', 'img', 'ZS')\n",
        "1.19250417595e-74"
       ]
      },
      {
       "output_type": "stream",
       "stream": "stdout",
       "text": [
        "\n",
        "('hard', 'pcp', 'KL')\n",
        "1.77644536238e-78"
       ]
      },
      {
       "output_type": "stream",
       "stream": "stdout",
       "text": [
        "\n",
        "('hard', 'pcp', 'RL')\n",
        "7.01562412461e-84"
       ]
      },
      {
       "output_type": "stream",
       "stream": "stdout",
       "text": [
        "\n",
        "('hard', 'pcp', 'ZS')\n",
        "1.88963637903e-92"
       ]
      },
      {
       "output_type": "stream",
       "stream": "stdout",
       "text": [
        "\n",
        "7 0.00035 0.5000005 0.4999995\n",
        "('easy', 'img', 'KL')\n",
        "2.86825436447e-114"
       ]
      },
      {
       "output_type": "stream",
       "stream": "stdout",
       "text": [
        "\n",
        "('easy', 'img', 'RL')\n",
        "8.68552273857e-102"
       ]
      },
      {
       "output_type": "stream",
       "stream": "stdout",
       "text": [
        "\n",
        "('easy', 'img', 'ZS')\n",
        "7.55433189304e-121"
       ]
      },
      {
       "output_type": "stream",
       "stream": "stdout",
       "text": [
        "\n",
        "('easy', 'pcp', 'KL')\n",
        "1.39895252686e-121"
       ]
      },
      {
       "output_type": "stream",
       "stream": "stdout",
       "text": [
        "\n",
        "('easy', 'pcp', 'RL')\n",
        "2.1689885004e-115"
       ]
      },
      {
       "output_type": "stream",
       "stream": "stdout",
       "text": [
        "\n",
        "('easy', 'pcp', 'ZS')\n",
        "3.67138694938e-119"
       ]
      },
      {
       "output_type": "stream",
       "stream": "stdout",
       "text": [
        "\n",
        "('hard', 'img', 'KL')\n",
        "2.6394949145e-98"
       ]
      },
      {
       "output_type": "stream",
       "stream": "stdout",
       "text": [
        "\n",
        "('hard', 'img', 'RL')\n",
        "5.91117432563e-102"
       ]
      },
      {
       "output_type": "stream",
       "stream": "stdout",
       "text": [
        "\n",
        "('hard', 'img', 'ZS')\n",
        "1.1019625227e-119"
       ]
      },
      {
       "output_type": "stream",
       "stream": "stdout",
       "text": [
        "\n",
        "('hard', 'pcp', 'KL')\n",
        "4.52588929877e-99"
       ]
      },
      {
       "output_type": "stream",
       "stream": "stdout",
       "text": [
        "\n",
        "('hard', 'pcp', 'RL')\n",
        "2.29119021557e-94"
       ]
      },
      {
       "output_type": "stream",
       "stream": "stdout",
       "text": [
        "\n",
        "('hard', 'pcp', 'ZS')\n",
        "6.31516543629e-92"
       ]
      },
      {
       "output_type": "stream",
       "stream": "stdout",
       "text": [
        "\n",
        "7 0.00035 0.75000025 0.0\n",
        "('easy', 'img', 'KL')\n",
        "0.0"
       ]
      },
      {
       "output_type": "stream",
       "stream": "stdout",
       "text": [
        "\n",
        "('easy', 'img', 'RL')\n",
        "0.0"
       ]
      },
      {
       "output_type": "stream",
       "stream": "stdout",
       "text": [
        "\n",
        "('easy', 'img', 'ZS')\n",
        "0.0"
       ]
      },
      {
       "output_type": "stream",
       "stream": "stdout",
       "text": [
        "\n",
        "('easy', 'pcp', 'KL')\n",
        "0.0"
       ]
      },
      {
       "output_type": "stream",
       "stream": "stdout",
       "text": [
        "\n",
        "('easy', 'pcp', 'RL')\n",
        "0.0"
       ]
      },
      {
       "output_type": "stream",
       "stream": "stdout",
       "text": [
        "\n",
        "('easy', 'pcp', 'ZS')\n",
        "0.0"
       ]
      },
      {
       "output_type": "stream",
       "stream": "stdout",
       "text": [
        "\n",
        "('hard', 'img', 'KL')\n",
        "0.0"
       ]
      },
      {
       "output_type": "stream",
       "stream": "stdout",
       "text": [
        "\n",
        "('hard', 'img', 'RL')\n",
        "0.0"
       ]
      },
      {
       "output_type": "stream",
       "stream": "stdout",
       "text": [
        "\n",
        "('hard', 'img', 'ZS')\n",
        "0.0"
       ]
      },
      {
       "output_type": "stream",
       "stream": "stdout",
       "text": [
        "\n",
        "('hard', 'pcp', 'KL')\n",
        "0.0"
       ]
      },
      {
       "output_type": "stream",
       "stream": "stdout",
       "text": [
        "\n",
        "('hard', 'pcp', 'RL')\n",
        "0.0"
       ]
      },
      {
       "output_type": "stream",
       "stream": "stdout",
       "text": [
        "\n",
        "('hard', 'pcp', 'ZS')\n",
        "0.0"
       ]
      },
      {
       "output_type": "stream",
       "stream": "stdout",
       "text": [
        "\n",
        "7 0.00035 0.75000025 0.24999975\n",
        "('easy', 'img', 'KL')\n",
        "5.59326143125e-87"
       ]
      },
      {
       "output_type": "stream",
       "stream": "stdout",
       "text": [
        "\n",
        "('easy', 'img', 'RL')\n",
        "1.62230549598e-78"
       ]
      },
      {
       "output_type": "stream",
       "stream": "stdout",
       "text": [
        "\n",
        "('easy', 'img', 'ZS')\n",
        "6.16267202749e-92"
       ]
      },
      {
       "output_type": "stream",
       "stream": "stdout",
       "text": [
        "\n",
        "('easy', 'pcp', 'KL')\n",
        "2.70130705711e-92"
       ]
      },
      {
       "output_type": "stream",
       "stream": "stdout",
       "text": [
        "\n",
        "('easy', 'pcp', 'RL')\n",
        "1.06116683594e-87"
       ]
      },
      {
       "output_type": "stream",
       "stream": "stdout",
       "text": [
        "\n",
        "('easy', 'pcp', 'ZS')\n",
        "4.01039643384e-91"
       ]
      },
      {
       "output_type": "stream",
       "stream": "stdout",
       "text": [
        "\n",
        "('hard', 'img', 'KL')\n",
        "2.6053704616e-78"
       ]
      },
      {
       "output_type": "stream",
       "stream": "stdout",
       "text": [
        "\n",
        "('hard', 'img', 'RL')\n",
        "5.61662044589e-80"
       ]
      },
      {
       "output_type": "stream",
       "stream": "stdout",
       "text": [
        "\n",
        "('hard', 'img', 'ZS')\n",
        "1.41780767163e-91"
       ]
      },
      {
       "output_type": "stream",
       "stream": "stdout",
       "text": [
        "\n",
        "('hard', 'pcp', 'KL')\n",
        "5.58405421986e-79"
       ]
      },
      {
       "output_type": "stream",
       "stream": "stdout",
       "text": [
        "\n",
        "('hard', 'pcp', 'RL')\n",
        "5.09485237812e-78"
       ]
      },
      {
       "output_type": "stream",
       "stream": "stdout",
       "text": [
        "\n",
        "('hard', 'pcp', 'ZS')\n",
        "4.3416249336e-83"
       ]
      },
      {
       "output_type": "stream",
       "stream": "stdout",
       "text": [
        "\n",
        "7 0.00035 0.75000025 0.4999995\n",
        "('easy', 'img', 'KL')\n",
        "4.88842423232e-152"
       ]
      },
      {
       "output_type": "stream",
       "stream": "stdout",
       "text": [
        "\n",
        "('easy', 'img', 'RL')\n",
        "3.12666329034e-131"
       ]
      },
      {
       "output_type": "stream",
       "stream": "stdout",
       "text": [
        "\n",
        "('easy', 'img', 'ZS')\n",
        "1.46385326871e-161"
       ]
      },
      {
       "output_type": "stream",
       "stream": "stdout",
       "text": [
        "\n",
        "('easy', 'pcp', 'KL')\n",
        "2.33465724786e-162"
       ]
      },
      {
       "output_type": "stream",
       "stream": "stdout",
       "text": [
        "\n",
        "('easy', 'pcp', 'RL')\n",
        "2.28722925751e-151"
       ]
      },
      {
       "output_type": "stream",
       "stream": "stdout",
       "text": [
        "\n",
        "('easy', 'pcp', 'ZS')\n",
        "1.18122454919e-159"
       ]
      },
      {
       "output_type": "stream",
       "stream": "stdout",
       "text": [
        "\n",
        "('hard', 'img', 'KL')\n",
        "1.87526077885e-122"
       ]
      },
      {
       "output_type": "stream",
       "stream": "stdout",
       "text": [
        "\n",
        "('hard', 'img', 'RL')\n",
        "1.95812089226e-132"
       ]
      },
      {
       "output_type": "stream",
       "stream": "stdout",
       "text": [
        "\n",
        "('hard', 'img', 'ZS')\n",
        "9.59106485744e-159"
       ]
      },
      {
       "output_type": "stream",
       "stream": "stdout",
       "text": [
        "\n",
        "('hard', 'pcp', 'KL')\n",
        "1.18191568277e-122"
       ]
      },
      {
       "output_type": "stream",
       "stream": "stdout",
       "text": [
        "\n",
        "('hard', 'pcp', 'RL')\n",
        "8.86200190712e-112"
       ]
      },
      {
       "output_type": "stream",
       "stream": "stdout",
       "text": [
        "\n",
        "('hard', 'pcp', 'ZS')\n",
        "2.73573890761e-105"
       ]
      },
      {
       "output_type": "stream",
       "stream": "stdout",
       "text": [
        "\n",
        "7 0.00035 0.75000025 0.74999925\n",
        "('easy', 'img', 'KL')\n",
        "1.02698130981e-270"
       ]
      },
      {
       "output_type": "stream",
       "stream": "stdout",
       "text": [
        "\n",
        "('easy', 'img', 'RL')\n",
        "2.75605839076e-236"
       ]
      },
      {
       "output_type": "stream",
       "stream": "stdout",
       "text": [
        "\n",
        "('easy', 'img', 'ZS')\n",
        "2.09455137765e-285"
       ]
      },
      {
       "output_type": "stream",
       "stream": "stdout",
       "text": [
        "\n",
        "('easy', 'pcp', 'KL')\n",
        "1.2929373549e-286"
       ]
      },
      {
       "output_type": "stream",
       "stream": "stdout",
       "text": [
        "\n",
        "('easy', 'pcp', 'RL')\n",
        "1.69842802356e-268"
       ]
      },
      {
       "output_type": "stream",
       "stream": "stdout",
       "text": [
        "\n",
        "('easy', 'pcp', 'ZS')\n",
        "2.74844100726e-282"
       ]
      },
      {
       "output_type": "stream",
       "stream": "stdout",
       "text": [
        "\n",
        "('hard', 'img', 'KL')\n",
        "4.6557334017e-217"
       ]
      },
      {
       "output_type": "stream",
       "stream": "stdout",
       "text": [
        "\n",
        "('hard', 'img', 'RL')\n",
        "5.62705058709e-236"
       ]
      },
      {
       "output_type": "stream",
       "stream": "stdout",
       "text": [
        "\n",
        "('hard', 'img', 'ZS')\n",
        "1.62369317813e-278"
       ]
      },
      {
       "output_type": "stream",
       "stream": "stdout",
       "text": [
        "\n",
        "('hard', 'pcp', 'KL')\n",
        "7.18476812639e-217"
       ]
      },
      {
       "output_type": "stream",
       "stream": "stdout",
       "text": [
        "\n",
        "('hard', 'pcp', 'RL')\n",
        "1.81966322428e-195"
       ]
      },
      {
       "output_type": "stream",
       "stream": "stdout",
       "text": [
        "\n",
        "('hard', 'pcp', 'ZS')\n",
        "9.29334383345e-178"
       ]
      },
      {
       "output_type": "stream",
       "stream": "stdout",
       "text": [
        "\n",
        "7 0.00035 1.0 0.0\n",
        "('easy', 'img', 'KL')\n",
        "0.0"
       ]
      },
      {
       "output_type": "stream",
       "stream": "stdout",
       "text": [
        "\n",
        "('easy', 'img', 'RL')\n",
        "0.0"
       ]
      },
      {
       "output_type": "stream",
       "stream": "stdout",
       "text": [
        "\n",
        "('easy', 'img', 'ZS')\n",
        "0.0"
       ]
      },
      {
       "output_type": "stream",
       "stream": "stdout",
       "text": [
        "\n",
        "('easy', 'pcp', 'KL')\n",
        "0.0"
       ]
      },
      {
       "output_type": "stream",
       "stream": "stdout",
       "text": [
        "\n",
        "('easy', 'pcp', 'RL')\n",
        "0.0"
       ]
      },
      {
       "output_type": "stream",
       "stream": "stdout",
       "text": [
        "\n",
        "('easy', 'pcp', 'ZS')\n",
        "0.0"
       ]
      },
      {
       "output_type": "stream",
       "stream": "stdout",
       "text": [
        "\n",
        "('hard', 'img', 'KL')\n",
        "0.0"
       ]
      },
      {
       "output_type": "stream",
       "stream": "stdout",
       "text": [
        "\n",
        "('hard', 'img', 'RL')\n",
        "0.0"
       ]
      },
      {
       "output_type": "stream",
       "stream": "stdout",
       "text": [
        "\n",
        "('hard', 'img', 'ZS')\n",
        "0.0"
       ]
      },
      {
       "output_type": "stream",
       "stream": "stdout",
       "text": [
        "\n",
        "('hard', 'pcp', 'KL')\n",
        "0.0"
       ]
      },
      {
       "output_type": "stream",
       "stream": "stdout",
       "text": [
        "\n",
        "('hard', 'pcp', 'RL')\n",
        "0.0"
       ]
      },
      {
       "output_type": "stream",
       "stream": "stdout",
       "text": [
        "\n",
        "('hard', 'pcp', 'ZS')\n",
        "0.0"
       ]
      },
      {
       "output_type": "stream",
       "stream": "stdout",
       "text": [
        "\n",
        "7 0.00035 1.0 0.24999975\n",
        "('easy', 'img', 'KL')\n",
        "2.3854082607e-119"
       ]
      },
      {
       "output_type": "stream",
       "stream": "stdout",
       "text": [
        "\n",
        "('easy', 'img', 'RL')\n",
        "2.7460330558e-98"
       ]
      },
      {
       "output_type": "stream",
       "stream": "stdout",
       "text": [
        "\n",
        "('easy', 'img', 'ZS')\n",
        "1.33570192125e-128"
       ]
      },
      {
       "output_type": "stream",
       "stream": "stdout",
       "text": [
        "\n",
        "('easy', 'pcp', 'KL')\n",
        "1.32107934988e-128"
       ]
      },
      {
       "output_type": "stream",
       "stream": "stdout",
       "text": [
        "\n",
        "('easy', 'pcp', 'RL')\n",
        "1.1594014651e-118"
       ]
      },
      {
       "output_type": "stream",
       "stream": "stdout",
       "text": [
        "\n",
        "('easy', 'pcp', 'ZS')\n",
        "7.648112237e-127"
       ]
      },
      {
       "output_type": "stream",
       "stream": "stdout",
       "text": [
        "\n",
        "('hard', 'img', 'KL')\n",
        "2.25480295965e-95"
       ]
      },
      {
       "output_type": "stream",
       "stream": "stdout",
       "text": [
        "\n",
        "('hard', 'img', 'RL')\n",
        "6.29444942894e-104"
       ]
      },
      {
       "output_type": "stream",
       "stream": "stdout",
       "text": [
        "\n",
        "('hard', 'img', 'ZS')\n",
        "1.42523962959e-126"
       ]
      },
      {
       "output_type": "stream",
       "stream": "stdout",
       "text": [
        "\n",
        "('hard', 'pcp', 'KL')\n",
        "9.63644835944e-95"
       ]
      },
      {
       "output_type": "stream",
       "stream": "stdout",
       "text": [
        "\n",
        "('hard', 'pcp', 'RL')\n",
        "9.86233239618e-86"
       ]
      },
      {
       "output_type": "stream",
       "stream": "stdout",
       "text": [
        "\n",
        "('hard', 'pcp', 'ZS')\n",
        "8.42837109604e-89"
       ]
      },
      {
       "output_type": "stream",
       "stream": "stdout",
       "text": [
        "\n",
        "7 0.00035 1.0 0.4999995\n",
        "('easy', 'img', 'KL')\n",
        "1.12113526167e-220"
       ]
      },
      {
       "output_type": "stream",
       "stream": "stdout",
       "text": [
        "\n",
        "('easy', 'img', 'RL')\n",
        "4.60583098205e-185"
       ]
      },
      {
       "output_type": "stream",
       "stream": "stdout",
       "text": [
        "\n",
        "('easy', 'img', 'ZS')\n",
        "2.0058281596e-235"
       ]
      },
      {
       "output_type": "stream",
       "stream": "stdout",
       "text": [
        "\n",
        "('easy', 'pcp', 'KL')\n",
        "2.09711969601e-236"
       ]
      },
      {
       "output_type": "stream",
       "stream": "stdout",
       "text": [
        "\n",
        "('easy', 'pcp', 'RL')\n",
        "2.05345685966e-218"
       ]
      },
      {
       "output_type": "stream",
       "stream": "stdout",
       "text": [
        "\n",
        "('easy', 'pcp', 'ZS')\n",
        "1.30557134377e-232"
       ]
      },
      {
       "output_type": "stream",
       "stream": "stdout",
       "text": [
        "\n",
        "('hard', 'img', 'KL')\n",
        "7.19412859015e-172"
       ]
      },
      {
       "output_type": "stream",
       "stream": "stdout",
       "text": [
        "\n",
        "('hard', 'img', 'RL')\n",
        "1.94656845836e-190"
       ]
      },
      {
       "output_type": "stream",
       "stream": "stdout",
       "text": [
        "\n",
        "('hard', 'img', 'ZS')\n",
        "4.36979958293e-231"
       ]
      },
      {
       "output_type": "stream",
       "stream": "stdout",
       "text": [
        "\n",
        "('hard', 'pcp', 'KL')\n",
        "3.43226196442e-171"
       ]
      },
      {
       "output_type": "stream",
       "stream": "stdout",
       "text": [
        "\n",
        "('hard', 'pcp', 'RL')\n",
        "8.32467078603e-151"
       ]
      },
      {
       "output_type": "stream",
       "stream": "stdout",
       "text": [
        "\n",
        "('hard', 'pcp', 'ZS')\n",
        "3.49841699339e-140"
       ]
      },
      {
       "output_type": "stream",
       "stream": "stdout",
       "text": [
        "\n",
        "7 0.00035 1.0 0.74999925\n",
        "('easy', 'img', 'KL')\n",
        "0.0"
       ]
      },
      {
       "output_type": "stream",
       "stream": "stdout",
       "text": [
        "\n",
        "('easy', 'img', 'RL')\n",
        "0.0"
       ]
      },
      {
       "output_type": "stream",
       "stream": "stdout",
       "text": [
        "\n",
        "('easy', 'img', 'ZS')\n",
        "0.0"
       ]
      },
      {
       "output_type": "stream",
       "stream": "stdout",
       "text": [
        "\n",
        "('easy', 'pcp', 'KL')\n",
        "0.0"
       ]
      },
      {
       "output_type": "stream",
       "stream": "stdout",
       "text": [
        "\n",
        "('easy', 'pcp', 'RL')\n",
        "0.0"
       ]
      },
      {
       "output_type": "stream",
       "stream": "stdout",
       "text": [
        "\n",
        "('easy', 'pcp', 'ZS')\n",
        "0.0"
       ]
      },
      {
       "output_type": "stream",
       "stream": "stdout",
       "text": [
        "\n",
        "('hard', 'img', 'KL')\n",
        "0.0"
       ]
      },
      {
       "output_type": "stream",
       "stream": "stdout",
       "text": [
        "\n",
        "('hard', 'img', 'RL')\n",
        "0.0"
       ]
      },
      {
       "output_type": "stream",
       "stream": "stdout",
       "text": [
        "\n",
        "('hard', 'img', 'ZS')\n",
        "0.0"
       ]
      },
      {
       "output_type": "stream",
       "stream": "stdout",
       "text": [
        "\n",
        "('hard', 'pcp', 'KL')\n",
        "0.0"
       ]
      },
      {
       "output_type": "stream",
       "stream": "stdout",
       "text": [
        "\n",
        "('hard', 'pcp', 'RL')\n",
        "4.75819166713e-291"
       ]
      },
      {
       "output_type": "stream",
       "stream": "stdout",
       "text": [
        "\n",
        "('hard', 'pcp', 'ZS')\n",
        "2.50342856899e-266"
       ]
      },
      {
       "output_type": "stream",
       "stream": "stdout",
       "text": [
        "\n",
        "7 0.00035 1.0 0.999999\n",
        "('easy', 'img', 'KL')\n",
        "0.0"
       ]
      },
      {
       "output_type": "stream",
       "stream": "stdout",
       "text": [
        "\n",
        "('easy', 'img', 'RL')\n",
        "0.0"
       ]
      },
      {
       "output_type": "stream",
       "stream": "stdout",
       "text": [
        "\n",
        "('easy', 'img', 'ZS')\n",
        "0.0"
       ]
      },
      {
       "output_type": "stream",
       "stream": "stdout",
       "text": [
        "\n",
        "('easy', 'pcp', 'KL')\n",
        "0.0"
       ]
      },
      {
       "output_type": "stream",
       "stream": "stdout",
       "text": [
        "\n",
        "('easy', 'pcp', 'RL')\n",
        "0.0"
       ]
      },
      {
       "output_type": "stream",
       "stream": "stdout",
       "text": [
        "\n",
        "('easy', 'pcp', 'ZS')\n",
        "0.0"
       ]
      },
      {
       "output_type": "stream",
       "stream": "stdout",
       "text": [
        "\n",
        "('hard', 'img', 'KL')\n",
        "0.0"
       ]
      },
      {
       "output_type": "stream",
       "stream": "stdout",
       "text": [
        "\n",
        "('hard', 'img', 'RL')\n",
        "0.0"
       ]
      },
      {
       "output_type": "stream",
       "stream": "stdout",
       "text": [
        "\n",
        "('hard', 'img', 'ZS')\n",
        "0.0"
       ]
      },
      {
       "output_type": "stream",
       "stream": "stdout",
       "text": [
        "\n",
        "('hard', 'pcp', 'KL')\n",
        "0.0"
       ]
      },
      {
       "output_type": "stream",
       "stream": "stdout",
       "text": [
        "\n",
        "('hard', 'pcp', 'RL')\n",
        "0.0"
       ]
      },
      {
       "output_type": "stream",
       "stream": "stdout",
       "text": [
        "\n",
        "('hard', 'pcp', 'ZS')\n",
        "0.0"
       ]
      },
      {
       "output_type": "stream",
       "stream": "stdout",
       "text": [
        "\n"
       ]
      }
     ],
     "prompt_number": 11
    },
    {
     "cell_type": "code",
     "collapsed": false,
     "input": [
      "marginalia = pd.DataFrame(marge)\n",
      "marginalia.to_pickle('/musc.repo/Data/tnaselar/imagery_psychophysics/poly_probes/data/marginals.pkl')"
     ],
     "language": "python",
     "metadata": {},
     "outputs": [],
     "prompt_number": 12
    }
   ],
   "metadata": {}
  }
 ]
}