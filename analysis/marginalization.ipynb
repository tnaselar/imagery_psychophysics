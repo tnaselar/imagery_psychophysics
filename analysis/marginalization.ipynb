{
 "metadata": {
  "name": "",
  "signature": "sha256:45298962ae26e44b28210c313bf2b17e42f8f05f2993e3cbb58cef727f77285b"
 },
 "nbformat": 3,
 "nbformat_minor": 0,
 "worksheets": [
  {
   "cells": [
    {
     "cell_type": "heading",
     "level": 2,
     "metadata": {},
     "source": [
      "Summing object maps"
     ]
    },
    {
     "cell_type": "markdown",
     "metadata": {},
     "source": [
      "The goal of this notebook is to collect and test tools for marginalizing the mental imagery generative model. The notebook contains:\n",
      "* Machinery for identifying atomic sets and their bases from a set of observed unions between atomic sets\n",
      "* Machinery for generating/counting all possible color selections per atomic set in an object map given arbitrary bases for each atomic set \n",
      "* Machinery for enumerating the (legal) values of unions between the atomic sets in a basis.\n",
      "* This notebook is incomplete, but some of the code here turned out to be useful and was used elsewhere"
     ]
    },
    {
     "cell_type": "code",
     "collapsed": false,
     "input": [
      "import numpy as np\n",
      "from itertools import combinations, chain, permutations, product\n",
      "from functools import partial\n",
      "from itertools import combinations_with_replacement as cwr\n",
      "from math import factorial as bang\n",
      "from math import pow\n",
      "from scipy.misc import comb\n",
      "from imagery_psychophysics.src.stirling_maps import stirling_partitions as stp\n",
      "from imagery_psychophysics.src.stirling_maps import stirling_num_of_2nd_kind as snk\n",
      "from time import time\n",
      "from bitarray import bitarray\n",
      "from sklearn.utils.extmath import cartesian\n",
      "import warnings\n"
     ],
     "language": "python",
     "metadata": {},
     "outputs": [],
     "prompt_number": 1
    },
    {
     "cell_type": "heading",
     "level": 4,
     "metadata": {},
     "source": [
      "Create / import a set of observations"
     ]
    },
    {
     "cell_type": "code",
     "collapsed": false,
     "input": [
      "##generate an experimental set\n",
      "E = [(1,), (2,), (3,), (4,), (1,2), (1,3), (3,4), (2,4)] ##<<corner observations on a square\n"
     ],
     "language": "python",
     "metadata": {},
     "outputs": [],
     "prompt_number": 2
    },
    {
     "cell_type": "heading",
     "level": 4,
     "metadata": {},
     "source": [
      "Parse observations to identify atomic sets and their bases"
     ]
    },
    {
     "cell_type": "code",
     "collapsed": false,
     "input": [
      "##extract atomic sets\n",
      "def extract_atomic_sets(experimental_observations):\n",
      "    E = experimental_observations\n",
      "    atomic_sets = np.unique([jj for ii in E for jj in ii])\n",
      "    return atomic_sets"
     ],
     "language": "python",
     "metadata": {},
     "outputs": [],
     "prompt_number": 3
    },
    {
     "cell_type": "code",
     "collapsed": false,
     "input": [
      "print extract_atomic_sets(E)"
     ],
     "language": "python",
     "metadata": {},
     "outputs": [
      {
       "output_type": "stream",
       "stream": "stdout",
       "text": [
        "[1 2 3 4]\n"
       ]
      }
     ],
     "prompt_number": 4
    },
    {
     "cell_type": "code",
     "collapsed": false,
     "input": [
      "##divide observations into groups according to index of atomic sets\n",
      "# def split_observations(experimental_observations):\n",
      "#     atomic_sets = extract_atomic_sets(experimental_observations)\n",
      "#     Ei = [[] for _ in range(len(atomic_sets))]\n",
      "#     for obs in experimental_observations:\n",
      "#         Ei[min(obs)-1].append(obs)\n",
      "#     return Ei\n",
      "\n",
      "def split_observations(experimental_observations):\n",
      "    atomic_sets = extract_atomic_sets(experimental_observations)\n",
      "    Ei = {}\n",
      "    for obs in experimental_observations:\n",
      "        Ei.setdefault(min(obs),[]).append(obs)\n",
      "    return Ei, atomic_sets"
     ],
     "language": "python",
     "metadata": {},
     "outputs": [],
     "prompt_number": 5
    },
    {
     "cell_type": "code",
     "collapsed": false,
     "input": [
      "print 'observations |--> %s' %(E)\n",
      "basis_groups,_ = split_observations(E)\n",
      "for atom in basis_groups.keys():\n",
      "        print basis_groups[atom]"
     ],
     "language": "python",
     "metadata": {},
     "outputs": [
      {
       "output_type": "stream",
       "stream": "stdout",
       "text": [
        "observations |--> [(1,), (2,), (3,), (4,), (1, 2), (1, 3), (3, 4), (2, 4)]\n",
        "[(1,), (1, 2), (1, 3)]\n",
        "[(2,), (2, 4)]\n",
        "[(3,), (3, 4)]\n",
        "[(4,)]\n"
       ]
      }
     ],
     "prompt_number": 6
    },
    {
     "cell_type": "code",
     "collapsed": false,
     "input": [
      "##enumerate the \"basis\" for each atomic set\n",
      "##assumes that index of atomic set=place in the list of atoms\n",
      "def extract_basis_sets(experimental_observations):\n",
      "    Ei,_ = split_observations(experimental_observations)\n",
      "    B = [ list(np.unique([(atom,)  for obs in sublist for atom in obs if atom > ii+1])) for ii,sublist in enumerate(Ei.values()) ]\n",
      "    return B"
     ],
     "language": "python",
     "metadata": {},
     "outputs": [],
     "prompt_number": 7
    },
    {
     "cell_type": "code",
     "collapsed": false,
     "input": [
      "print extract_basis_sets(E)"
     ],
     "language": "python",
     "metadata": {},
     "outputs": [
      {
       "output_type": "stream",
       "stream": "stdout",
       "text": [
        "[[2, 3], [4], [4], []]\n"
       ]
      }
     ],
     "prompt_number": 8
    },
    {
     "cell_type": "code",
     "collapsed": false,
     "input": [
      "##a powerset function \n",
      "def powerset(iterable, nonempty=True):\n",
      "    if nonempty:\n",
      "        pwr = powerset(iterable,nonempty=False)\n",
      "        pwr.discard(())\n",
      "        return pwr\n",
      "    else:\n",
      "        s = list(iterable)\n",
      "        return set(chain.from_iterable(combinations(s, r) for r in range(len(s)+1)))\n",
      "\n",
      "\n",
      "##generate unions of basis sets, with and without including the target atomic set\n",
      "def basis_unions(basis, include_target=False):\n",
      "    '''basis = list of lists. each sublist is set of integer indices\n",
      "       include_target = False. Don't include index of the target atom\n",
      "                      = list of integers giving target atom for each basis. must be same length as basis.\n",
      "    '''\n",
      "    combos = map(lambda x: list(powerset(x,nonempty=False)), basis)\n",
      "    if include_target:\n",
      "        combos = map(lambda ii,x: map(lambda y: (ii,)+y,x), include_target, combos)\n",
      "    return combos\n"
     ],
     "language": "python",
     "metadata": {},
     "outputs": [],
     "prompt_number": 9
    },
    {
     "cell_type": "code",
     "collapsed": false,
     "input": [
      "##exercise!\n",
      "B = extract_basis_sets(E)\n",
      "print basis_unions(B)\n",
      "print basis_unions([B[0]])\n",
      "print basis_unions([B[0]], include_target = [1])\n",
      "print basis_unions(B,range(1,len(B)+1))  ##<<most likely use case"
     ],
     "language": "python",
     "metadata": {},
     "outputs": [
      {
       "output_type": "stream",
       "stream": "stdout",
       "text": [
        "[[(2, 3), (2,), (), (3,)], [(), (4,)], [(), (4,)], [()]]\n",
        "[[(2, 3), (2,), (), (3,)]]\n",
        "[[(1, 2, 3), (1, 2), (1,), (1, 3)]]\n",
        "[[(1, 2, 3), (1, 2), (1,), (1, 3)], [(2,), (2, 4)], [(3,), (3, 4)], [(4,)]]\n"
       ]
      }
     ],
     "prompt_number": 10
    },
    {
     "cell_type": "heading",
     "level": 4,
     "metadata": {},
     "source": [
      "Enumerate all possible *n*-colorings of *t* atomic sets "
     ]
    },
    {
     "cell_type": "code",
     "collapsed": false,
     "input": [
      "##number of t non-empty n-bit strings\n",
      "def count_atom_colorings(n,t,doprint=False):\n",
      "    num = (2**n-1)**t\n",
      "    if doprint:\n",
      "        print 'length: %d' %(num)\n",
      "        print 'GB: %f' %(num/(1024.**3))\n",
      "    return num\n",
      "\n",
      "##number of t non-empty n-bit strings that collectively encode exactly n colors\n",
      "def count_atom_colorings_exactly_n(n,t):\n",
      "    return int((2**n-1)**t-np.sum(map(lambda k: (2**(n-k)-1)**t*comb(n,k), range(1,n))))\n",
      "\n",
      "##generate all possible t nonempty n-bit string segments\n",
      "def generate_atom_colorings(n,t, bits = False):\n",
      "\n",
      "  # 2^(n-1)  2^n - 1 inclusive\n",
      "  bin_arr = range(0, int(pow(2,n)))\n",
      "  bin_arr = [bin(i)[2:] for i in bin_arr]\n",
      "\n",
      "  # Prepending 0's to binary strings\n",
      "  max_len = len(max(bin_arr, key=len))\n",
      "  bin_arr = [i.zfill(max_len) for i in bin_arr]\n",
      "  bin_arr.remove('0'*n)\n",
      "  if bits:\n",
      "      bin_arr = map(bitarray, bin_arr)\n",
      "  return product(bin_arr,repeat=t)"
     ],
     "language": "python",
     "metadata": {},
     "outputs": [],
     "prompt_number": 11
    },
    {
     "cell_type": "heading",
     "level": 4,
     "metadata": {},
     "source": [
      "Enumerate the legal configurations of unions between collection of sets (as in a basis)"
     ]
    },
    {
     "cell_type": "code",
     "collapsed": false,
     "input": [
      "##count number of colors in the union of one or more atoms. atom colorings are represented as bitarrays\n",
      "def multi_union(iterable):\n",
      "    '''multi_union(list_of_bitarrays)'''\n",
      "    bs = bitarray('0'*len(iterable[0]))\n",
      "    for nxt in iterable:\n",
      "        bs |= nxt\n",
      "    return bs.count()\n",
      "\n",
      "##this will help count \n",
      "def number_of_basis_interactions(number_of_basis_sets):\n",
      "    return 2**number_of_basis_sets-1\n",
      "\n",
      "def union_powerset(atoms,indices = None, doprint=False):\n",
      "    '''given a set of atom colorings (encoding as n-bit strings), return the union powerset'''\n",
      "    if not indices:\n",
      "        indices = powerset(range(1,len(atoms)+1))\n",
      "    pwr = map(lambda idx: [atoms[ii-1] for ii in idx], indices)\n",
      "    unions = map(multi_union, pwr)\n",
      "    if doprint:\n",
      "        for p,u in zip(pwr,unions):\n",
      "            print '%s |---> %d' %(p,u)\n",
      "    return unions\n",
      "\n",
      "def count_union_powerset(n,t=None,indices = None, doprint=False,dotime=True):\n",
      "    '''given a set of t atoms enumerate all of the unique union powersets of the atoms\n",
      "    dict = count_union_powerset(n,t)\n",
      "    dict ~ (key):(value) = (size of the union):(number of possible )    \n",
      "    '''\n",
      "    if not indices:\n",
      "        indices = powerset(range(1,t+1))\n",
      "        t = len(indices)\n",
      "    \n",
      "    if not t:\n",
      "        Exception('gotta specify t')\n",
      "    \n",
      "    union_dict = dict()\n",
      "    if dotime:\n",
      "        start = time()\n",
      "    \n",
      "    for atoms in generate_atom_colorings(n,t,bits=True):\n",
      "        unions = tuple(union_powerset(atoms, indices, doprint=doprint))\n",
      "        if unions not in union_dict.keys():\n",
      "            union_dict[unions] = 1\n",
      "        else:\n",
      "            union_dict[unions] += 1\n",
      "#     union_list = np.unique(union_list)\n",
      "    if dotime:\n",
      "        print time()-start\n",
      "    if doprint:\n",
      "        print 'number of unique union powersets: %d' %(len(union_dict.keys()))\n",
      "    return union_dict,indices"
     ],
     "language": "python",
     "metadata": {},
     "outputs": [],
     "prompt_number": 12
    },
    {
     "cell_type": "code",
     "collapsed": false,
     "input": [
      "n = 3\n",
      "t = 2\n",
      "atoms = generate_atom_colorings(n,t,bits=True)\n",
      "for a in atoms:\n",
      "    print union_powerset(a,doprint=True)\n",
      "    print '======'"
     ],
     "language": "python",
     "metadata": {},
     "outputs": [
      {
       "output_type": "stream",
       "stream": "stdout",
       "text": [
        "[bitarray('001'), bitarray('001')] |---> 1\n",
        "[bitarray('001')] |---> 1\n",
        "[bitarray('001')] |---> 1\n",
        "[1L, 1L, 1L]\n",
        "======\n",
        "[bitarray('001'), bitarray('010')] |---> 2\n",
        "[bitarray('010')] |---> 1\n",
        "[bitarray('001')] |---> 1\n",
        "[2L, 1L, 1L]\n",
        "======\n",
        "[bitarray('001'), bitarray('011')] |---> 2\n",
        "[bitarray('011')] |---> 2\n",
        "[bitarray('001')] |---> 1\n",
        "[2L, 2L, 1L]\n",
        "======\n",
        "[bitarray('001'), bitarray('100')] |---> 2\n",
        "[bitarray('100')] |---> 1\n",
        "[bitarray('001')] |---> 1\n",
        "[2L, 1L, 1L]\n",
        "======\n",
        "[bitarray('001'), bitarray('101')] |---> 2\n",
        "[bitarray('101')] |---> 2\n",
        "[bitarray('001')] |---> 1\n",
        "[2L, 2L, 1L]\n",
        "======\n",
        "[bitarray('001'), bitarray('110')] |---> 3\n",
        "[bitarray('110')] |---> 2\n",
        "[bitarray('001')] |---> 1\n",
        "[3L, 2L, 1L]\n",
        "======\n",
        "[bitarray('001'), bitarray('111')] |---> 3\n",
        "[bitarray('111')] |---> 3\n",
        "[bitarray('001')] |---> 1\n",
        "[3L, 3L, 1L]\n",
        "======\n",
        "[bitarray('010'), bitarray('001')] |---> 2\n",
        "[bitarray('001')] |---> 1\n",
        "[bitarray('010')] |---> 1\n",
        "[2L, 1L, 1L]\n",
        "======\n",
        "[bitarray('010'), bitarray('010')] |---> 1\n",
        "[bitarray('010')] |---> 1\n",
        "[bitarray('010')] |---> 1\n",
        "[1L, 1L, 1L]\n",
        "======\n",
        "[bitarray('010'), bitarray('011')] |---> 2\n",
        "[bitarray('011')] |---> 2\n",
        "[bitarray('010')] |---> 1\n",
        "[2L, 2L, 1L]\n",
        "======\n",
        "[bitarray('010'), bitarray('100')] |---> 2\n",
        "[bitarray('100')] |---> 1\n",
        "[bitarray('010')] |---> 1\n",
        "[2L, 1L, 1L]\n",
        "======\n",
        "[bitarray('010'), bitarray('101')] |---> 3\n",
        "[bitarray('101')] |---> 2\n",
        "[bitarray('010')] |---> 1\n",
        "[3L, 2L, 1L]\n",
        "======\n",
        "[bitarray('010'), bitarray('110')] |---> 2\n",
        "[bitarray('110')] |---> 2\n",
        "[bitarray('010')] |---> 1\n",
        "[2L, 2L, 1L]\n",
        "======\n",
        "[bitarray('010'), bitarray('111')] |---> 3\n",
        "[bitarray('111')] |---> 3\n",
        "[bitarray('010')] |---> 1\n",
        "[3L, 3L, 1L]\n",
        "======\n",
        "[bitarray('011'), bitarray('001')] |---> 2\n",
        "[bitarray('001')] |---> 1\n",
        "[bitarray('011')] |---> 2\n",
        "[2L, 1L, 2L]\n",
        "======\n",
        "[bitarray('011'), bitarray('010')] |---> 2\n",
        "[bitarray('010')] |---> 1\n",
        "[bitarray('011')] |---> 2\n",
        "[2L, 1L, 2L]\n",
        "======\n",
        "[bitarray('011'), bitarray('011')] |---> 2\n",
        "[bitarray('011')] |---> 2\n",
        "[bitarray('011')] |---> 2\n",
        "[2L, 2L, 2L]\n",
        "======\n",
        "[bitarray('011'), bitarray('100')] |---> 3\n",
        "[bitarray('100')] |---> 1\n",
        "[bitarray('011')] |---> 2\n",
        "[3L, 1L, 2L]\n",
        "======\n",
        "[bitarray('011'), bitarray('101')] |---> 3\n",
        "[bitarray('101')] |---> 2\n",
        "[bitarray('011')] |---> 2\n",
        "[3L, 2L, 2L]\n",
        "======\n",
        "[bitarray('011'), bitarray('110')] |---> 3\n",
        "[bitarray('110')] |---> 2\n",
        "[bitarray('011')] |---> 2\n",
        "[3L, 2L, 2L]\n",
        "======\n",
        "[bitarray('011'), bitarray('111')] |---> 3\n",
        "[bitarray('111')] |---> 3\n",
        "[bitarray('011')] |---> 2\n",
        "[3L, 3L, 2L]\n",
        "======\n",
        "[bitarray('100'), bitarray('001')] |---> 2\n",
        "[bitarray('001')] |---> 1\n",
        "[bitarray('100')] |---> 1\n",
        "[2L, 1L, 1L]\n",
        "======\n",
        "[bitarray('100'), bitarray('010')] |---> 2\n",
        "[bitarray('010')] |---> 1\n",
        "[bitarray('100')] |---> 1\n",
        "[2L, 1L, 1L]\n",
        "======\n",
        "[bitarray('100'), bitarray('011')] |---> 3\n",
        "[bitarray('011')] |---> 2\n",
        "[bitarray('100')] |---> 1\n",
        "[3L, 2L, 1L]\n",
        "======\n",
        "[bitarray('100'), bitarray('100')] |---> 1\n",
        "[bitarray('100')] |---> 1\n",
        "[bitarray('100')] |---> 1\n",
        "[1L, 1L, 1L]\n",
        "======\n",
        "[bitarray('100'), bitarray('101')] |---> 2\n",
        "[bitarray('101')] |---> 2\n",
        "[bitarray('100')] |---> 1\n",
        "[2L, 2L, 1L]\n",
        "======\n",
        "[bitarray('100'), bitarray('110')] |---> 2\n",
        "[bitarray('110')] |---> 2\n",
        "[bitarray('100')] |---> 1\n",
        "[2L, 2L, 1L]\n",
        "======\n",
        "[bitarray('100'), bitarray('111')] |---> 3\n",
        "[bitarray('111')] |---> 3\n",
        "[bitarray('100')] |---> 1\n",
        "[3L, 3L, 1L]\n",
        "======\n",
        "[bitarray('101'), bitarray('001')] |---> 2\n",
        "[bitarray('001')] |---> 1\n",
        "[bitarray('101')] |---> 2\n",
        "[2L, 1L, 2L]\n",
        "======\n",
        "[bitarray('101'), bitarray('010')] |---> 3\n",
        "[bitarray('010')] |---> 1\n",
        "[bitarray('101')] |---> 2\n",
        "[3L, 1L, 2L]\n",
        "======\n",
        "[bitarray('101'), bitarray('011')] |---> 3\n",
        "[bitarray('011')] |---> 2\n",
        "[bitarray('101')] |---> 2\n",
        "[3L, 2L, 2L]\n",
        "======\n",
        "[bitarray('101'), bitarray('100')] |---> 2\n",
        "[bitarray('100')] |---> 1\n",
        "[bitarray('101')] |---> 2\n",
        "[2L, 1L, 2L]\n",
        "======\n",
        "[bitarray('101'), bitarray('101')] |---> 2\n",
        "[bitarray('101')] |---> 2\n",
        "[bitarray('101')] |---> 2\n",
        "[2L, 2L, 2L]\n",
        "======\n",
        "[bitarray('101'), bitarray('110')] |---> 3\n",
        "[bitarray('110')] |---> 2\n",
        "[bitarray('101')] |---> 2\n",
        "[3L, 2L, 2L]\n",
        "======\n",
        "[bitarray('101'), bitarray('111')] |---> 3\n",
        "[bitarray('111')] |---> 3\n",
        "[bitarray('101')] |---> 2\n",
        "[3L, 3L, 2L]\n",
        "======\n",
        "[bitarray('110'), bitarray('001')] |---> 3\n",
        "[bitarray('001')] |---> 1\n",
        "[bitarray('110')] |---> 2\n",
        "[3L, 1L, 2L]\n",
        "======\n",
        "[bitarray('110'), bitarray('010')] |---> 2\n",
        "[bitarray('010')] |---> 1\n",
        "[bitarray('110')] |---> 2\n",
        "[2L, 1L, 2L]\n",
        "======\n",
        "[bitarray('110'), bitarray('011')] |---> 3\n",
        "[bitarray('011')] |---> 2\n",
        "[bitarray('110')] |---> 2\n",
        "[3L, 2L, 2L]\n",
        "======\n",
        "[bitarray('110'), bitarray('100')] |---> 2\n",
        "[bitarray('100')] |---> 1\n",
        "[bitarray('110')] |---> 2\n",
        "[2L, 1L, 2L]\n",
        "======\n",
        "[bitarray('110'), bitarray('101')] |---> 3\n",
        "[bitarray('101')] |---> 2\n",
        "[bitarray('110')] |---> 2\n",
        "[3L, 2L, 2L]\n",
        "======\n",
        "[bitarray('110'), bitarray('110')] |---> 2\n",
        "[bitarray('110')] |---> 2\n",
        "[bitarray('110')] |---> 2\n",
        "[2L, 2L, 2L]\n",
        "======\n",
        "[bitarray('110'), bitarray('111')] |---> 3\n",
        "[bitarray('111')] |---> 3\n",
        "[bitarray('110')] |---> 2\n",
        "[3L, 3L, 2L]\n",
        "======\n",
        "[bitarray('111'), bitarray('001')] |---> 3\n",
        "[bitarray('001')] |---> 1\n",
        "[bitarray('111')] |---> 3\n",
        "[3L, 1L, 3L]\n",
        "======\n",
        "[bitarray('111'), bitarray('010')] |---> 3\n",
        "[bitarray('010')] |---> 1\n",
        "[bitarray('111')] |---> 3\n",
        "[3L, 1L, 3L]\n",
        "======\n",
        "[bitarray('111'), bitarray('011')] |---> 3\n",
        "[bitarray('011')] |---> 2\n",
        "[bitarray('111')] |---> 3\n",
        "[3L, 2L, 3L]\n",
        "======\n",
        "[bitarray('111'), bitarray('100')] |---> 3\n",
        "[bitarray('100')] |---> 1\n",
        "[bitarray('111')] |---> 3\n",
        "[3L, 1L, 3L]\n",
        "======\n",
        "[bitarray('111'), bitarray('101')] |---> 3\n",
        "[bitarray('101')] |---> 2\n",
        "[bitarray('111')] |---> 3\n",
        "[3L, 2L, 3L]\n",
        "======\n",
        "[bitarray('111'), bitarray('110')] |---> 3\n",
        "[bitarray('110')] |---> 2\n",
        "[bitarray('111')] |---> 3\n",
        "[3L, 2L, 3L]\n",
        "======\n",
        "[bitarray('111'), bitarray('111')] |---> 3\n",
        "[bitarray('111')] |---> 3\n",
        "[bitarray('111')] |---> 3\n",
        "[3L, 3L, 3L]\n",
        "======\n"
       ]
      }
     ],
     "prompt_number": 13
    },
    {
     "cell_type": "code",
     "collapsed": false,
     "input": [
      "n = 2\n",
      "t = 3\n",
      "legal_responses,indices = count_union_powerset(n,t,doprint=False,dotime=True)\n",
      "print 'number of atom colorings: %d=%d' %(count_atom_colorings(n,t), np.sum(legal_responses.values()))\n",
      "print 'number of atom colorings depicting exactly n colors: %d' %(count_atom_colorings_exactly_n(n,t))\n",
      "print 'number of unique legal responses: %d' %(len(legal_responses))\n",
      "print 'number of unique possible responses: %d' %(n**(2**(t)-1))"
     ],
     "language": "python",
     "metadata": {},
     "outputs": [
      {
       "output_type": "stream",
       "stream": "stdout",
       "text": [
        "0.0442698001862\n",
        "number of atom colorings: 27=2187\n",
        "number of atom colorings depicting exactly n colors: 25\n",
        "number of unique legal responses: 14\n",
        "number of unique possible responses: 128\n"
       ]
      }
     ],
     "prompt_number": 14
    },
    {
     "cell_type": "code",
     "collapsed": false,
     "input": [
      "print list(indices)\n",
      "legal_responses"
     ],
     "language": "python",
     "metadata": {},
     "outputs": [
      {
       "output_type": "stream",
       "stream": "stdout",
       "text": [
        "[(1, 2), (1, 3), (1,), (2,), (3,), (1, 2, 3), (2, 3)]\n"
       ]
      },
      {
       "metadata": {},
       "output_type": "pyout",
       "prompt_number": 20,
       "text": [
        "{(1L, 1L, 1L, 1L, 1L, 1L, 1L): 162,\n",
        " (1L, 2L, 1L, 1L, 1L, 2L, 2L): 162,\n",
        " (1L, 2L, 1L, 1L, 2L, 2L, 2L): 162,\n",
        " (2L, 1L, 1L, 1L, 1L, 2L, 2L): 162,\n",
        " (2L, 1L, 1L, 2L, 1L, 2L, 2L): 162,\n",
        " (2L, 2L, 1L, 1L, 1L, 2L, 1L): 162,\n",
        " (2L, 2L, 1L, 1L, 2L, 2L, 2L): 162,\n",
        " (2L, 2L, 1L, 2L, 1L, 2L, 2L): 162,\n",
        " (2L, 2L, 1L, 2L, 2L, 2L, 2L): 162,\n",
        " (2L, 2L, 2L, 1L, 1L, 2L, 1L): 162,\n",
        " (2L, 2L, 2L, 1L, 1L, 2L, 2L): 162,\n",
        " (2L, 2L, 2L, 1L, 2L, 2L, 2L): 162,\n",
        " (2L, 2L, 2L, 2L, 1L, 2L, 2L): 162,\n",
        " (2L, 2L, 2L, 2L, 2L, 2L, 2L): 81}"
       ]
      }
     ],
     "prompt_number": 20
    },
    {
     "cell_type": "code",
     "collapsed": false,
     "input": [
      "[key+(legal_responses[key],) for key in legal_responses.keys()]"
     ],
     "language": "python",
     "metadata": {},
     "outputs": [
      {
       "metadata": {},
       "output_type": "pyout",
       "prompt_number": 24,
       "text": [
        "[(2L, 2L, 2L, 1L, 1L, 2L, 2L, 162),\n",
        " (2L, 2L, 2L, 1L, 2L, 2L, 2L, 162),\n",
        " (2L, 2L, 1L, 1L, 2L, 2L, 2L, 162),\n",
        " (2L, 2L, 1L, 2L, 2L, 2L, 2L, 162),\n",
        " (2L, 2L, 2L, 2L, 1L, 2L, 2L, 162),\n",
        " (2L, 2L, 1L, 1L, 1L, 2L, 1L, 162),\n",
        " (2L, 2L, 2L, 2L, 2L, 2L, 2L, 81),\n",
        " (1L, 2L, 1L, 1L, 1L, 2L, 2L, 162),\n",
        " (1L, 1L, 1L, 1L, 1L, 1L, 1L, 162),\n",
        " (2L, 2L, 2L, 1L, 1L, 2L, 1L, 162),\n",
        " (1L, 2L, 1L, 1L, 2L, 2L, 2L, 162),\n",
        " (2L, 2L, 1L, 2L, 1L, 2L, 2L, 162),\n",
        " (2L, 1L, 1L, 2L, 1L, 2L, 2L, 162),\n",
        " (2L, 1L, 1L, 1L, 1L, 2L, 2L, 162)]"
       ]
      }
     ],
     "prompt_number": 24
    },
    {
     "cell_type": "code",
     "collapsed": false,
     "input": [
      "X = pd.DataFrame([key+(legal_responses[key],) for key in legal_responses.keys()], columns = map(str, indices)+['counts'])"
     ],
     "language": "python",
     "metadata": {},
     "outputs": [],
     "prompt_number": 27
    },
    {
     "cell_type": "code",
     "collapsed": false,
     "input": [
      "pd.concat()"
     ],
     "language": "python",
     "metadata": {},
     "outputs": []
    },
    {
     "cell_type": "heading",
     "level": 4,
     "metadata": {},
     "source": [
      "Count the number of colorings of a single atom, given its unions with other atoms (it's basis)"
     ]
    },
    {
     "cell_type": "code",
     "collapsed": false,
     "input": [
      "##===helpers\n",
      "##unique integers from keys\n",
      "def integers_from_keys(mydict):\n",
      "    return list(np.unique(sum(mydict.keys(),())))  ## == [m]\n",
      "\n",
      "##return subset of a dictionary with certain keys ignored\n",
      "def ignore_keys(ignore_any_key_with, mydict):\n",
      "    return {key: mydict[key] for key in mydict.keys() if all([x not in key for x in ignore_any_key_with])}\n",
      "\n",
      "\n",
      "\n",
      "##measure the cardinality of each block of \"Venn diagram\" partition\n",
      "def block_size(union_subset, union_value_dict, size_of_universe = 0):\n",
      "    '''notation guide:\n",
      "    union_subset = S\n",
      "    union_value_dict[T] = d_T\n",
      "    '''\n",
      "    doPrint = 0\n",
      "    basis_set_indices = integers_from_keys(union_value_dict)\n",
      " \n",
      "    adder = 0\n",
      "    if len(union_subset) == len(basis_set_indices):\n",
      "        return size_of_universe - union_value_dict[union_subset]\n",
      "    for F in powerset(union_subset):\n",
      "        sgn = len(union_subset)-len(F)\n",
      "        if doPrint:\n",
      "            print 'F |-------> %s' %(F,)\n",
      "        for T in powerset(set(basis_set_indices)-set(F)):\n",
      "            if T:\n",
      "                if doPrint:\n",
      "                    print 'T |--> %s' %(T,)\n",
      "                adder += (-1)**(sgn+len(T)+1)*union_value_dict[T]\n",
      "                if doPrint:\n",
      "                    print 'adder: %d' %(adder)\n",
      "    return adder\n",
      "\n",
      "##count the number of colorings of a single target atom given that we know its unions with a bunch of other atoms\n",
      "def count_colorings(target_index, union_value_dict, size_of_universe = 0,doPrint=False):\n",
      "    basis_set_indices = list(set(integers_from_keys(union_value_dict)) - set((target_index,)))  ##these are the basis sets\n",
      "    basis_values_only = ignore_keys((target_index,), union_value_dict)\n",
      "    output = 1\n",
      "    for S in powerset(basis_set_indices):\n",
      "        if doPrint:\n",
      "            print 'S |-------------> %s' %(S,)\n",
      "        upper = block_size(S, basis_values_only,size_of_universe)\n",
      "        if doPrint:\n",
      "            print 'S |-------------> %s' %(S,)\n",
      "        downer = block_size(S , union_value_dict,size_of_universe)\n",
      "#         print upper\n",
      "#         print downer\n",
      "        output *= comb(upper, downer)\n",
      "#         print output\n",
      "    return output\n",
      "\n"
     ],
     "language": "python",
     "metadata": {},
     "outputs": [],
     "prompt_number": 1
    },
    {
     "cell_type": "code",
     "collapsed": false,
     "input": [
      "##an atomic measurement class\n",
      "class atomic_measurement(object):\n",
      "    def __init__(self, experimental_observations,number_of_objects):\n",
      "        self.number_of_objects = number_of_objects\n",
      "        self.experimental_observations = experimental_observations\n",
      "        self.observation_groups,self.atoms,self.basis_groups = self.extract_basis_sets(experimental_observations)\n",
      "        self.uv = {}\n",
      "                \n",
      "    def extract_basis_sets(self,experimental_observations):\n",
      "        Ei,atomic_sets = split_observations(experimental_observations)\n",
      "        B = dict((aa,list(set(idx for exob in experimental_observations if aa in exob for idx in exob if idx != aa))) for aa in atomic_sets)\n",
      "        return Ei,atomic_sets,B\n",
      "    \n",
      "    def basis_unions(self, target_atom, include_target=False):\n",
      "        if include_target:\n",
      "            U = list(powerset(self.basis_groups[target_atom]+[target_atom],nonempty=True))\n",
      "        else:\n",
      "            U = list(powerset(self.basis_groups[target_atom],nonempty=True))\n",
      "        return map(tuple,map(sorted,U))\n",
      "        \n",
      "    def union_values(self, target_atom, subset=None):\n",
      "        if self.uv.has_key(target_atom):\n",
      "            D = self.uv[target_atom]\n",
      "        else:\n",
      "            D = self.uv.setdefault(target_atom,self.enumerate_unions(target_atom))\n",
      "        if subset:\n",
      "            return [dict((k, union_dict[k]) for k in subset) for union_dict in D] ##return the subset in unions. may contain repeats!\n",
      "        else:\n",
      "            return D\n",
      "    \n",
      "    def enumerate_unions(self, target_atom):\n",
      "        t = len(self.basis_groups[target_atom])+1 ##the +1 is for the target index\n",
      "        indices = self.basis_unions(target_atom,include_target=True)\n",
      "        union_dict_list = []\n",
      "        for atoms in generate_atom_colorings(self.number_of_objects,t,bits=True):\n",
      "            unions = dict(zip(indices,tuple(self.union_powerset(atoms, indices,doprint=True))))\n",
      "            if unions not in union_dict_list:\n",
      "                union_dict_list += [unions]\n",
      "        return union_dict_list\n",
      "    \n",
      "    def union_powerset(self, atoms,indices = None, doprint=False):\n",
      "        '''given a set of atom colorings (encoding as n-bit strings), return the union powerset'''\n",
      "        if not indices:\n",
      "            indices = powerset(range(1,len(atoms)+1))\n",
      "        pwr = map(lambda idx: [atoms[ii-1] for ii in idx], indices)\n",
      "        unions = map(multi_union, pwr)\n",
      "        if doprint:\n",
      "            for p,u in zip(pwr,unions):\n",
      "                print '%s |---> %d' %(p,u)\n",
      "        return unions\n",
      "    \n",
      "    ##returns a dictionary that tells you how many colorings of the target atom are possible, given\n",
      "    ##the union powerset of atoms in the target's basis group\n",
      "    def count_colorings(self, target_atom, doprint=False):\n",
      "        basis_values_with_target = self.union_values(target_atom)\n",
      "        subset = self.basis_unions(target_atom,include_target=False)\n",
      "        basis_values_only = self.union_values(target_atom, subset=subset)\n",
      "        output_function = {}\n",
      "        for bvo,bvt in zip(basis_values_only, basis_values_with_target):\n",
      "            output = 1\n",
      "            for S in self.basis_unions(target_atom,include_target=False):\n",
      "                if doprint:\n",
      "                    print 'S |-------------> %s' %(S,)\n",
      "                upper = block_size(S, bvo,self.number_of_objects)\n",
      "                if doprint:\n",
      "                    print 'S |-------------> %s' %(S,)\n",
      "                downer = block_size(S, bvt, self.number_of_objects)\n",
      "                output *= comb(upper, downer)\n",
      "            output_function[bvo] = output\n",
      "        return output_function"
     ],
     "language": "python",
     "metadata": {},
     "outputs": [],
     "prompt_number": 125
    },
    {
     "cell_type": "code",
     "collapsed": false,
     "input": [
      "pdb on"
     ],
     "language": "python",
     "metadata": {},
     "outputs": [
      {
       "output_type": "stream",
       "stream": "stdout",
       "text": [
        "Automatic pdb calling has been turned ON\n"
       ]
      }
     ],
     "prompt_number": 51
    },
    {
     "cell_type": "code",
     "collapsed": false,
     "input": [
      "##exercise!\n",
      "##parameters\n",
      "n = 2\n",
      "\n",
      "##experimental observations\n",
      "exp_obs = [(1,), (2,), (3,), (1,2), (2,3)] ##<<markov-chain observations with three atoms\n",
      "# exp_obs = [(1,), (2,), (3,), (1,2), (1,3), (2,3)] ##<<vertex-to-vertex observations on a triangle\n",
      "\n",
      "##an object for measuring each of the atoms\n",
      "am = atomic_measurement(exp_obs, n)\n"
     ],
     "language": "python",
     "metadata": {},
     "outputs": [],
     "prompt_number": 126
    },
    {
     "cell_type": "code",
     "collapsed": false,
     "input": [
      "print am.experimental_observations\n",
      "print am.atoms\n",
      "print am.observation_groups\n",
      "print am.basis_groups\n",
      "for at in am.atoms:\n",
      "    print am.basis_unions(at,include_target = False)"
     ],
     "language": "python",
     "metadata": {},
     "outputs": [
      {
       "output_type": "stream",
       "stream": "stdout",
       "text": [
        "[(1,), (2,), (3,), (1, 2), (2, 3)]\n",
        "[1 2 3]\n",
        "{1: [(1,), (1, 2)], 2: [(2,), (2, 3)], 3: [(3,)]}\n",
        "{1: [2], 2: [1, 3], 3: [2]}\n",
        "[(2,)]\n",
        "[(1, 3), (3,), (1,)]\n",
        "[(2,)]\n"
       ]
      }
     ],
     "prompt_number": 127
    },
    {
     "cell_type": "code",
     "collapsed": false,
     "input": [
      "target_atom = 1\n",
      "print '===union values'\n",
      "for uv in am.union_values(1,subset=am.basis_unions(target_atom,include_target=True)):\n",
      "    print uv\n",
      "print 'number of unique union powerset values: %d' %(len(am.union_values(target_atom,subset=am.basis_unions(1,include_target=True))))"
     ],
     "language": "python",
     "metadata": {},
     "outputs": [
      {
       "output_type": "stream",
       "stream": "stdout",
       "text": [
        "===union values\n",
        "{(1, 2): 1L, (2,): 1L, (1,): 1L}\n",
        "{(1, 2): 2L, (2,): 1L, (1,): 1L}\n",
        "{(1, 2): 2L, (2,): 2L, (1,): 1L}\n",
        "{(1, 2): 2L, (2,): 1L, (1,): 2L}\n",
        "{(1, 2): 2L, (2,): 2L, (1,): 2L}\n",
        "number of unique union powerset values: 5\n"
       ]
      }
     ],
     "prompt_number": 129
    },
    {
     "cell_type": "code",
     "collapsed": false,
     "input": [
      "am.count_colorings(1,doprint=False)"
     ],
     "language": "python",
     "metadata": {},
     "outputs": [
      {
       "ename": "TypeError",
       "evalue": "unhashable type: 'dict'",
       "output_type": "pyerr",
       "traceback": [
        "\u001b[1;31m---------------------------------------------------------------------------\u001b[0m\n\u001b[1;31mTypeError\u001b[0m                                 Traceback (most recent call last)",
        "\u001b[1;32m<ipython-input-130-a0b4cdba7c27>\u001b[0m in \u001b[0;36m<module>\u001b[1;34m()\u001b[0m\n\u001b[1;32m----> 1\u001b[1;33m \u001b[0mam\u001b[0m\u001b[1;33m.\u001b[0m\u001b[0mcount_colorings\u001b[0m\u001b[1;33m(\u001b[0m\u001b[1;36m1\u001b[0m\u001b[1;33m,\u001b[0m\u001b[0mdoprint\u001b[0m\u001b[1;33m=\u001b[0m\u001b[0mFalse\u001b[0m\u001b[1;33m)\u001b[0m\u001b[1;33m\u001b[0m\u001b[0m\n\u001b[0m",
        "\u001b[1;32m<ipython-input-125-b51d761a183c>\u001b[0m in \u001b[0;36mcount_colorings\u001b[1;34m(self, target_atom, doprint)\u001b[0m\n\u001b[0;32m     67\u001b[0m                 \u001b[0mdowner\u001b[0m \u001b[1;33m=\u001b[0m \u001b[0mblock_size\u001b[0m\u001b[1;33m(\u001b[0m\u001b[0mS\u001b[0m\u001b[1;33m,\u001b[0m \u001b[0mbvt\u001b[0m\u001b[1;33m,\u001b[0m \u001b[0mself\u001b[0m\u001b[1;33m.\u001b[0m\u001b[0mnumber_of_objects\u001b[0m\u001b[1;33m)\u001b[0m\u001b[1;33m\u001b[0m\u001b[0m\n\u001b[0;32m     68\u001b[0m                 \u001b[0moutput\u001b[0m \u001b[1;33m*=\u001b[0m \u001b[0mcomb\u001b[0m\u001b[1;33m(\u001b[0m\u001b[0mupper\u001b[0m\u001b[1;33m,\u001b[0m \u001b[0mdowner\u001b[0m\u001b[1;33m)\u001b[0m\u001b[1;33m\u001b[0m\u001b[0m\n\u001b[1;32m---> 69\u001b[1;33m             \u001b[0moutput_function\u001b[0m\u001b[1;33m[\u001b[0m\u001b[0mbvo\u001b[0m\u001b[1;33m]\u001b[0m \u001b[1;33m=\u001b[0m \u001b[0moutput\u001b[0m\u001b[1;33m\u001b[0m\u001b[0m\n\u001b[0m\u001b[0;32m     70\u001b[0m         \u001b[1;32mreturn\u001b[0m \u001b[0moutput_function\u001b[0m\u001b[1;33m\u001b[0m\u001b[0m\n",
        "\u001b[1;31mTypeError\u001b[0m: unhashable type: 'dict'"
       ]
      },
      {
       "output_type": "stream",
       "stream": "stdout",
       "text": [
        "> \u001b[1;32m<ipython-input-125-b51d761a183c>\u001b[0m(69)\u001b[0;36mcount_colorings\u001b[1;34m()\u001b[0m\n",
        "\u001b[1;32m     68 \u001b[1;33m                \u001b[0moutput\u001b[0m \u001b[1;33m*=\u001b[0m \u001b[0mcomb\u001b[0m\u001b[1;33m(\u001b[0m\u001b[0mupper\u001b[0m\u001b[1;33m,\u001b[0m \u001b[0mdowner\u001b[0m\u001b[1;33m)\u001b[0m\u001b[1;33m\u001b[0m\u001b[0m\n",
        "\u001b[0m\u001b[1;32m---> 69 \u001b[1;33m            \u001b[0moutput_function\u001b[0m\u001b[1;33m[\u001b[0m\u001b[0mbvo\u001b[0m\u001b[1;33m]\u001b[0m \u001b[1;33m=\u001b[0m \u001b[0moutput\u001b[0m\u001b[1;33m\u001b[0m\u001b[0m\n",
        "\u001b[0m\u001b[1;32m     70 \u001b[1;33m        \u001b[1;32mreturn\u001b[0m \u001b[0moutput_function\u001b[0m\u001b[1;33m\u001b[0m\u001b[0m\n",
        "\u001b[0m\n"
       ]
      },
      {
       "name": "stdout",
       "output_type": "stream",
       "stream": "stdout",
       "text": [
        "ipdb> q\n"
       ]
      }
     ],
     "prompt_number": 130
    },
    {
     "cell_type": "code",
     "collapsed": false,
     "input": [
      "count_atom_colorings_exactly_n(n,1)"
     ],
     "language": "python",
     "metadata": {},
     "outputs": [
      {
       "metadata": {},
       "output_type": "pyout",
       "prompt_number": 115,
       "text": [
        "1"
       ]
      }
     ],
     "prompt_number": 115
    },
    {
     "cell_type": "heading",
     "level": 4,
     "metadata": {},
     "source": [
      "Recursively calculate the number of atom colorings in a map with t atoms and n colors"
     ]
    },
    {
     "cell_type": "code",
     "collapsed": false,
     "input": [
      "##assuming complete observation of the union powerset\n",
      "##assuming incomplete observation of the union powerset\n",
      "\n",
      "##for first atom:\n",
      "    ##get all unions involving the first atom\n",
      "        ##create a function for summing over some subset of the variables."
     ],
     "language": "python",
     "metadata": {},
     "outputs": []
    },
    {
     "cell_type": "code",
     "collapsed": false,
     "input": [
      "##the number of atom colorings in a map with t*k atoms and n colors"
     ],
     "language": "python",
     "metadata": {},
     "outputs": []
    },
    {
     "cell_type": "code",
     "collapsed": false,
     "input": [
      "##the number of knot-point colorings in a map with t*k*p*l knot points and n colors"
     ],
     "language": "python",
     "metadata": {},
     "outputs": []
    },
    {
     "cell_type": "code",
     "collapsed": false,
     "input": [],
     "language": "python",
     "metadata": {},
     "outputs": []
    }
   ],
   "metadata": {}
  }
 ]
}