{
 "metadata": {
  "name": "",
  "signature": "sha256:45ae5c42f309803f59842ec48d3254bc5e34878501834f2a44d248768471e3ec"
 },
 "nbformat": 3,
 "nbformat_minor": 0,
 "worksheets": [
  {
   "cells": [
    {
     "cell_type": "code",
     "collapsed": false,
     "input": [
      "from IPython.parallel import Client\n",
      "import time\n",
      "import numpy as np\n",
      "from imagery_psychophysics.utils.tester import foo\n",
      "p = Client()[:]\n"
     ],
     "language": "python",
     "metadata": {},
     "outputs": [],
     "prompt_number": 1
    },
    {
     "cell_type": "code",
     "collapsed": false,
     "input": [
      "import dill"
     ],
     "language": "python",
     "metadata": {},
     "outputs": [],
     "prompt_number": 2
    },
    {
     "cell_type": "code",
     "collapsed": false,
     "input": [
      "baz = foo(10)\n",
      "y = np.random.random((1,40))\n",
      "x = np.random.random((1,40))\n",
      "baz.compute(x,y)"
     ],
     "language": "python",
     "metadata": {},
     "outputs": [
      {
       "metadata": {},
       "output_type": "pyout",
       "prompt_number": 9,
       "text": [
        "array([[ 4.81513152,  3.02923063,  5.67291798,  6.21772938,  2.60542896,\n",
        "         5.50300377,  1.94056156,  0.20038978,  5.33190521,  3.13180749,\n",
        "         0.38043045,  0.14195368,  6.98522445,  0.13737089,  2.41398903,\n",
        "         1.8573178 ,  1.02163904,  1.91567677,  1.95616443,  2.79158287,\n",
        "         2.99195398,  1.17548951,  0.22476376,  0.7765627 ,  3.71321713,\n",
        "         1.43321226,  3.3362293 ,  1.85865756,  2.81046072,  1.02587641,\n",
        "         1.26599091,  0.32153778,  4.5143144 ,  5.31791028,  1.65162809,\n",
        "         0.78392421,  0.87794644,  2.62134156,  1.20319701,  2.96796526]])"
       ]
      }
     ],
     "prompt_number": 9
    },
    {
     "cell_type": "code",
     "collapsed": false,
     "input": [
      "map(baz.compute, x,y)"
     ],
     "language": "python",
     "metadata": {},
     "outputs": [
      {
       "metadata": {},
       "output_type": "pyout",
       "prompt_number": 10,
       "text": [
        "[array([ 4.81513152,  3.02923063,  5.67291798,  6.21772938,  2.60542896,\n",
        "         5.50300377,  1.94056156,  0.20038978,  5.33190521,  3.13180749,\n",
        "         0.38043045,  0.14195368,  6.98522445,  0.13737089,  2.41398903,\n",
        "         1.8573178 ,  1.02163904,  1.91567677,  1.95616443,  2.79158287,\n",
        "         2.99195398,  1.17548951,  0.22476376,  0.7765627 ,  3.71321713,\n",
        "         1.43321226,  3.3362293 ,  1.85865756,  2.81046072,  1.02587641,\n",
        "         1.26599091,  0.32153778,  4.5143144 ,  5.31791028,  1.65162809,\n",
        "         0.78392421,  0.87794644,  2.62134156,  1.20319701,  2.96796526])]"
       ]
      }
     ],
     "prompt_number": 10
    },
    {
     "cell_type": "code",
     "collapsed": false,
     "input": [
      "p.use_dill()\n",
      "#blarg = p.map(baz.compute, x,y)\n",
      "p['baz'] = baz\n",
      "p.scatter('x',x)\n",
      "p.scatter('y',y)"
     ],
     "language": "python",
     "metadata": {},
     "outputs": [
      {
       "metadata": {},
       "output_type": "pyout",
       "prompt_number": 12,
       "text": [
        "<AsyncResult: finished>"
       ]
      }
     ],
     "prompt_number": 12
    },
    {
     "cell_type": "code",
     "collapsed": false,
     "input": [
      "blarg = p.execute('baz.x')"
     ],
     "language": "python",
     "metadata": {},
     "outputs": [],
     "prompt_number": 15
    },
    {
     "cell_type": "code",
     "collapsed": false,
     "input": [
      "blarg.result"
     ],
     "language": "python",
     "metadata": {},
     "outputs": [
      {
       "metadata": {},
       "output_type": "pyout",
       "prompt_number": 16,
       "text": [
        "[, , , , , , , ]"
       ]
      }
     ],
     "prompt_number": 16
    },
    {
     "cell_type": "code",
     "collapsed": false,
     "input": [
      "x = 1\n",
      "y = np.ones((3,1))*2\n",
      "foo = p.map(sum((x,z)), y)"
     ],
     "language": "python",
     "metadata": {},
     "outputs": [
      {
       "ename": "NameError",
       "evalue": "name 'z' is not defined",
       "output_type": "pyerr",
       "traceback": [
        "\u001b[1;31m---------------------------------------------------------------------------\u001b[0m\n\u001b[1;31mNameError\u001b[0m                                 Traceback (most recent call last)",
        "\u001b[1;32m<ipython-input-16-4f1a4348f716>\u001b[0m in \u001b[0;36m<module>\u001b[1;34m()\u001b[0m\n\u001b[0;32m      1\u001b[0m \u001b[0mx\u001b[0m \u001b[1;33m=\u001b[0m \u001b[1;36m1\u001b[0m\u001b[1;33m\u001b[0m\u001b[0m\n\u001b[0;32m      2\u001b[0m \u001b[0my\u001b[0m \u001b[1;33m=\u001b[0m \u001b[0mnp\u001b[0m\u001b[1;33m.\u001b[0m\u001b[0mones\u001b[0m\u001b[1;33m(\u001b[0m\u001b[1;33m(\u001b[0m\u001b[1;36m3\u001b[0m\u001b[1;33m,\u001b[0m\u001b[1;36m1\u001b[0m\u001b[1;33m)\u001b[0m\u001b[1;33m)\u001b[0m\u001b[1;33m*\u001b[0m\u001b[1;36m2\u001b[0m\u001b[1;33m\u001b[0m\u001b[0m\n\u001b[1;32m----> 3\u001b[1;33m \u001b[0mfoo\u001b[0m \u001b[1;33m=\u001b[0m \u001b[0mp\u001b[0m\u001b[1;33m.\u001b[0m\u001b[0mmap\u001b[0m\u001b[1;33m(\u001b[0m\u001b[0msum\u001b[0m\u001b[1;33m(\u001b[0m\u001b[1;33m(\u001b[0m\u001b[0mx\u001b[0m\u001b[1;33m,\u001b[0m\u001b[0mz\u001b[0m\u001b[1;33m)\u001b[0m\u001b[1;33m)\u001b[0m\u001b[1;33m,\u001b[0m \u001b[0my\u001b[0m\u001b[1;33m)\u001b[0m\u001b[1;33m\u001b[0m\u001b[0m\n\u001b[0m",
        "\u001b[1;31mNameError\u001b[0m: name 'z' is not defined"
       ]
      }
     ],
     "prompt_number": 16
    },
    {
     "cell_type": "code",
     "collapsed": false,
     "input": [
      "foo.result"
     ],
     "language": "python",
     "metadata": {},
     "outputs": [
      {
       "ename": "CompositeError",
       "evalue": "one or more exceptions from call to method: <lambda>\n[0:apply]: NameError: global name 'x' is not defined\n[1:apply]: NameError: global name 'x' is not defined\n[2:apply]: NameError: global name 'x' is not defined",
       "output_type": "pyerr",
       "traceback": [
        "[0:apply]: ",
        "\u001b[1;31m---------------------------------------------------------------------------\u001b[0m",
        "\u001b[1;31mNameError\u001b[0m                                 Traceback (most recent call last)\u001b[1;32m<string>\u001b[0m in \u001b[0;36m<module>\u001b[1;34m()\u001b[0m",
        "\u001b[1;32m<ipython-input-14-440cbf7166dd>\u001b[0m in \u001b[0;36m<lambda>\u001b[1;34m(z)\u001b[0m",
        "\u001b[1;31mNameError\u001b[0m: global name 'x' is not defined",
        "",
        "[1:apply]: ",
        "\u001b[1;31m---------------------------------------------------------------------------\u001b[0m",
        "\u001b[1;31mNameError\u001b[0m                                 Traceback (most recent call last)\u001b[1;32m<string>\u001b[0m in \u001b[0;36m<module>\u001b[1;34m()\u001b[0m",
        "\u001b[1;32m<ipython-input-14-440cbf7166dd>\u001b[0m in \u001b[0;36m<lambda>\u001b[1;34m(z)\u001b[0m",
        "\u001b[1;31mNameError\u001b[0m: global name 'x' is not defined",
        "",
        "[2:apply]: ",
        "\u001b[1;31m---------------------------------------------------------------------------\u001b[0m",
        "\u001b[1;31mNameError\u001b[0m                                 Traceback (most recent call last)\u001b[1;32m<string>\u001b[0m in \u001b[0;36m<module>\u001b[1;34m()\u001b[0m",
        "\u001b[1;32m<ipython-input-14-440cbf7166dd>\u001b[0m in \u001b[0;36m<lambda>\u001b[1;34m(z)\u001b[0m",
        "\u001b[1;31mNameError\u001b[0m: global name 'x' is not defined",
        ""
       ]
      }
     ],
     "prompt_number": 15
    },
    {
     "cell_type": "code",
     "collapsed": false,
     "input": [],
     "language": "python",
     "metadata": {},
     "outputs": []
    }
   ],
   "metadata": {}
  }
 ]
}