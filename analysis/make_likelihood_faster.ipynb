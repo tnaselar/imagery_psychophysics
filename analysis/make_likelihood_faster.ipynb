{
 "metadata": {
  "name": "",
  "signature": "sha256:dceb907719acd3746f9411b3b89cc7ff0984cb8ef171d6d6bdb5a1c30ec66e36"
 },
 "nbformat": 3,
 "nbformat_minor": 0,
 "worksheets": [
  {
   "cells": [
    {
     "cell_type": "code",
     "collapsed": false,
     "input": [
      "##establish multi-engine client\n",
      "from IPython.parallel import Client\n",
      "dview = Client()[:]\n",
      "dview.use_dill()\n",
      "dview.block = True"
     ],
     "language": "python",
     "metadata": {},
     "outputs": [],
     "prompt_number": 1
    },
    {
     "cell_type": "code",
     "collapsed": false,
     "input": [
      "%%px --local\n",
      "import numpy as np\n",
      "import time\n",
      "import operator"
     ],
     "language": "python",
     "metadata": {},
     "outputs": [],
     "prompt_number": 4
    },
    {
     "cell_type": "code",
     "collapsed": false,
     "input": [
      "%%px --local\n",
      "on_prob = .8\n",
      "off_prob = .2\n",
      "A_probs = np.array([on_prob, off_prob])\n",
      "Ac_probs = np.array([1-on_prob, 1-off_prob])\n",
      "on_offs = np.array([1,0,1,1,1,0])"
     ],
     "language": "python",
     "metadata": {},
     "outputs": [],
     "prompt_number": 5
    },
    {
     "cell_type": "code",
     "collapsed": false,
     "input": [
      "foo = lambda x,y: reduce(operator.mul, A_probs[x], reduce(operator.mul, Ac_probs[y]))\n",
      "many_on_offs = np.random.randint(0,2,size=(100*10*10000,3))\n",
      "more_on_offs = np.random.randint(0,2,size=(100*10*10000,2))\n"
     ],
     "language": "python",
     "metadata": {},
     "outputs": []
    },
    {
     "cell_type": "code",
     "collapsed": false,
     "input": [
      "start = time.time()\n",
      "bop = sum(dview.map(foo, many_on_offs, more_on_offs))\n",
      "print 'seconds: %f' %(time.time()-start)\n",
      "print bop"
     ],
     "language": "python",
     "metadata": {},
     "outputs": []
    },
    {
     "cell_type": "code",
     "collapsed": false,
     "input": [
      "start = time.time()\n",
      "boo = sum(map(foo, many_on_offs, more_on_offs))\n",
      "print 'seconds: %f' %(time.time()-start)\n",
      "print boo"
     ],
     "language": "python",
     "metadata": {},
     "outputs": []
    },
    {
     "cell_type": "code",
     "collapsed": false,
     "input": [
      "%timeit A_probs[on_offs].prod()\n",
      "print A_probs[on_offs].prod()"
     ],
     "language": "python",
     "metadata": {},
     "outputs": []
    },
    {
     "cell_type": "code",
     "collapsed": false,
     "input": [
      "%timeit reduce(lambda x,y: x*y, A_probs[on_offs])\n",
      "print reduce(lambda x,y: x*y, A_probs[on_offs])"
     ],
     "language": "python",
     "metadata": {},
     "outputs": []
    },
    {
     "cell_type": "code",
     "collapsed": false,
     "input": [
      "%timeit reduce(lambda x,y: x*y, on_prob**on_offs*off_prob**(1-on_offs))\n",
      "print reduce(lambda x,y: x*y, on_prob**on_offs*off_prob**(1-on_offs))"
     ],
     "language": "python",
     "metadata": {},
     "outputs": [
      {
       "output_type": "stream",
       "stream": "stdout",
       "text": [
        "100000 loops, best of 3: 10.3 \u00b5s per loop\n",
        "0.016384\n"
       ]
      }
     ],
     "prompt_number": 11
    },
    {
     "cell_type": "code",
     "collapsed": false,
     "input": [
      "A_on_offs = np.array([1,0,1,1,1,1])\n",
      "Ac_on_offs = np.array([0,1,0])\n",
      "%timeit reduce(lambda x,y: x*y, A_probs[A_on_offs], reduce(lambda x,y: x*y, Ac_probs[Ac_on_offs]))\n",
      "print reduce(lambda x,y: x*y, A_probs[A_on_offs], reduce(lambda x,y: x*y, Ac_probs[Ac_on_offs]))\n"
     ],
     "language": "python",
     "metadata": {},
     "outputs": [
      {
       "output_type": "stream",
       "stream": "stdout",
       "text": [
        "100000 loops, best of 3: 5.05 \u00b5s per loop\n",
        "8.192e-06\n"
       ]
      }
     ],
     "prompt_number": 7
    },
    {
     "cell_type": "code",
     "collapsed": false,
     "input": [
      "%timeit reduce(operator.mul, A_probs[A_on_offs], reduce(operator.mul, Ac_probs[Ac_on_offs]))\n",
      "print reduce(operator.mul, A_probs[A_on_offs], reduce(operator.mul, Ac_probs[Ac_on_offs]))\n"
     ],
     "language": "python",
     "metadata": {},
     "outputs": [
      {
       "output_type": "stream",
       "stream": "stdout",
       "text": [
        "100000 loops, best of 3: 4.62 \u00b5s per loop\n",
        "8.192e-06\n"
       ]
      }
     ],
     "prompt_number": 12
    },
    {
     "cell_type": "code",
     "collapsed": false,
     "input": [
      "%timeit reduce(operator.mul, A_probs[A_on_offs])*reduce(operator.mul, Ac_probs[Ac_on_offs])\n",
      "print reduce(operator.mul, A_probs[A_on_offs])*reduce(operator.mul, Ac_probs[Ac_on_offs])"
     ],
     "language": "python",
     "metadata": {},
     "outputs": [
      {
       "output_type": "stream",
       "stream": "stdout",
       "text": [
        "100000 loops, best of 3: 4.88 \u00b5s per loop\n",
        "8.192e-06\n"
       ]
      }
     ],
     "prompt_number": 10
    },
    {
     "cell_type": "code",
     "collapsed": false,
     "input": [],
     "language": "python",
     "metadata": {},
     "outputs": []
    }
   ],
   "metadata": {}
  }
 ]
}