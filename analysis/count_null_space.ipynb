{
 "cells": [
  {
   "cell_type": "code",
   "execution_count": 1,
   "metadata": {
    "collapsed": false
   },
   "outputs": [],
   "source": [
    "import numpy as np\n",
    "import pandas as pd\n",
    "import re\n",
    "import glob\n",
    "from scipy.misc import comb\n",
    "from imagery_psychophysics.src.stirling_maps import stirling_num_of_2nd_kind as snk\n",
    "from time import time\n",
    "from imagery_psychophysics.src.inference_machinery import *\n",
    "from imagery_psychophysics.src.counting_machinery import *\n",
    "\n",
    "\n",
    "%matplotlib inline\n"
   ]
  },
  {
   "cell_type": "markdown",
   "metadata": {},
   "source": [
    "#### Read data"
   ]
  },
  {
   "cell_type": "code",
   "execution_count": 3,
   "metadata": {
    "collapsed": false
   },
   "outputs": [],
   "source": [
    "df = pd.read_pickle('/media/tnaselar/Data/scratch/z1_KL.pkl')"
   ]
  },
  {
   "cell_type": "code",
   "execution_count": 4,
   "metadata": {
    "collapsed": false
   },
   "outputs": [
    {
     "data": {
      "text/html": [
       "<div>\n",
       "<table border=\"1\" class=\"dataframe\">\n",
       "  <thead>\n",
       "    <tr style=\"text-align: right;\">\n",
       "      <th></th>\n",
       "      <th>image</th>\n",
       "      <th>image_on</th>\n",
       "      <th>probe</th>\n",
       "      <th>resp_on</th>\n",
       "      <th>response</th>\n",
       "      <th>state</th>\n",
       "      <th>subj</th>\n",
       "    </tr>\n",
       "  </thead>\n",
       "  <tbody>\n",
       "    <tr>\n",
       "      <th>0</th>\n",
       "      <td>candle_01</td>\n",
       "      <td>117.5410</td>\n",
       "      <td>11_12_21</td>\n",
       "      <td>127.8745</td>\n",
       "      <td>3</td>\n",
       "      <td>img</td>\n",
       "      <td>AS</td>\n",
       "    </tr>\n",
       "    <tr>\n",
       "      <th>1</th>\n",
       "      <td>candle_01</td>\n",
       "      <td>127.9244</td>\n",
       "      <td>15_7_16</td>\n",
       "      <td>139.0581</td>\n",
       "      <td>2</td>\n",
       "      <td>img</td>\n",
       "      <td>AS</td>\n",
       "    </tr>\n",
       "    <tr>\n",
       "      <th>2</th>\n",
       "      <td>candle_01</td>\n",
       "      <td>139.1078</td>\n",
       "      <td>32_24_33</td>\n",
       "      <td>151.4748</td>\n",
       "      <td>2</td>\n",
       "      <td>img</td>\n",
       "      <td>AS</td>\n",
       "    </tr>\n",
       "    <tr>\n",
       "      <th>3</th>\n",
       "      <td>candle_01</td>\n",
       "      <td>151.5415</td>\n",
       "      <td>37</td>\n",
       "      <td>156.2748</td>\n",
       "      <td>2</td>\n",
       "      <td>img</td>\n",
       "      <td>AS</td>\n",
       "    </tr>\n",
       "    <tr>\n",
       "      <th>4</th>\n",
       "      <td>candle_01</td>\n",
       "      <td>156.3414</td>\n",
       "      <td>18_10_19</td>\n",
       "      <td>163.0749</td>\n",
       "      <td>2</td>\n",
       "      <td>img</td>\n",
       "      <td>AS</td>\n",
       "    </tr>\n",
       "  </tbody>\n",
       "</table>\n",
       "</div>"
      ],
      "text/plain": [
       "       image  image_on     probe   resp_on  response state subj\n",
       "0  candle_01  117.5410  11_12_21  127.8745         3   img   AS\n",
       "1  candle_01  127.9244   15_7_16  139.0581         2   img   AS\n",
       "2  candle_01  139.1078  32_24_33  151.4748         2   img   AS\n",
       "3  candle_01  151.5415        37  156.2748         2   img   AS\n",
       "4  candle_01  156.3414  18_10_19  163.0749         2   img   AS"
      ]
     },
     "execution_count": 4,
     "metadata": {},
     "output_type": "execute_result"
    }
   ],
   "source": [
    "df.head()"
   ]
  },
  {
   "cell_type": "code",
   "execution_count": 5,
   "metadata": {
    "collapsed": false
   },
   "outputs": [
    {
     "data": {
      "text/html": [
       "<div>\n",
       "<table border=\"1\" class=\"dataframe\">\n",
       "  <thead>\n",
       "    <tr style=\"text-align: right;\">\n",
       "      <th></th>\n",
       "      <th>image</th>\n",
       "      <th>subj</th>\n",
       "    </tr>\n",
       "  </thead>\n",
       "  <tbody>\n",
       "    <tr>\n",
       "      <th>0</th>\n",
       "      <td>candle_01</td>\n",
       "      <td>AS</td>\n",
       "    </tr>\n",
       "    <tr>\n",
       "      <th>690</th>\n",
       "      <td>peaches_05</td>\n",
       "      <td>AS</td>\n",
       "    </tr>\n",
       "    <tr>\n",
       "      <th>1380</th>\n",
       "      <td>candle_01</td>\n",
       "      <td>z1</td>\n",
       "    </tr>\n",
       "    <tr>\n",
       "      <th>2070</th>\n",
       "      <td>peaches_05</td>\n",
       "      <td>z1</td>\n",
       "    </tr>\n",
       "    <tr>\n",
       "      <th>2760</th>\n",
       "      <td>candle_01</td>\n",
       "      <td>KL</td>\n",
       "    </tr>\n",
       "    <tr>\n",
       "      <th>3450</th>\n",
       "      <td>peaches_05</td>\n",
       "      <td>KL</td>\n",
       "    </tr>\n",
       "    <tr>\n",
       "      <th>4140</th>\n",
       "      <td>cheeseburger_03</td>\n",
       "      <td>KL</td>\n",
       "    </tr>\n",
       "    <tr>\n",
       "      <th>4830</th>\n",
       "      <td>grape_juice_02</td>\n",
       "      <td>KL</td>\n",
       "    </tr>\n",
       "  </tbody>\n",
       "</table>\n",
       "</div>"
      ],
      "text/plain": [
       "                image subj\n",
       "0           candle_01   AS\n",
       "690        peaches_05   AS\n",
       "1380        candle_01   z1\n",
       "2070       peaches_05   z1\n",
       "2760        candle_01   KL\n",
       "3450       peaches_05   KL\n",
       "4140  cheeseburger_03   KL\n",
       "4830   grape_juice_02   KL"
      ]
     },
     "execution_count": 5,
     "metadata": {},
     "output_type": "execute_result"
    }
   ],
   "source": [
    "df[['image','subj']].drop_duplicates()"
   ]
  },
  {
   "cell_type": "code",
   "execution_count": 6,
   "metadata": {
    "collapsed": false,
    "scrolled": true
   },
   "outputs": [],
   "source": [
    "##split up, package response dicts\n",
    "n_colors = 10\n",
    "n_probes = df[['probe']].drop_duplicates().apply(lambda x: np.max(map(int,x.str.split('_')[0])),axis=1).max()+1\n",
    "target_sequence = range(1,n_probes+1)\n"
   ]
  },
  {
   "cell_type": "code",
   "execution_count": 7,
   "metadata": {
    "collapsed": false,
    "scrolled": true
   },
   "outputs": [
    {
     "name": "stdout",
     "output_type": "stream",
     "text": [
      "('candle_01', 'AS', 'img')\n",
      "('candle_01', 'AS', 'pcp')\n",
      "('candle_01', 'KL', 'img')\n",
      "('candle_01', 'KL', 'pcp')\n",
      "('candle_01', 'z1', 'img')\n",
      "('candle_01', 'z1', 'pcp')\n",
      "('cheeseburger_03', 'KL', 'img')\n",
      "('cheeseburger_03', 'KL', 'pcp')\n",
      "('grape_juice_02', 'KL', 'img')\n",
      "('grape_juice_02', 'KL', 'pcp')\n",
      "('peaches_05', 'AS', 'img')\n",
      "('peaches_05', 'AS', 'pcp')\n",
      "('peaches_05', 'KL', 'img')\n",
      "('peaches_05', 'KL', 'pcp')\n",
      "('peaches_05', 'z1', 'img')\n",
      "('peaches_05', 'z1', 'pcp')\n"
     ]
    }
   ],
   "source": [
    "image_grp = df.groupby(by=['image','subj', 'state'])\n",
    "\n",
    "re_ass_sults = []\n",
    "for name,grp in image_grp:\n",
    "    print name\n",
    "    non_zero = 0\n",
    "    resp_df = grp[['response']].copy()\n",
    "    resp_df['probe'] = grp[['probe']].apply(lambda x: tuple(map(int,x.str.split('_')[0])),axis=1)\n",
    "    experimental_observations = dict(zip(resp_df.probe.values,resp_df.response.values))\n",
    "    exp_obs = format_experimental_obsevations(experimental_observations)\n",
    "#     seq = create_sequence_of_nbd_obs(target_sequence,exp_obs.copy())\n",
    "    counter_seq = []\n",
    "    for ii in target_sequence:\n",
    "#         print ii\n",
    "        if not np.mod(ii,9):\n",
    "            continue\n",
    "        else:\n",
    "            nbd_windows = window([jj for jj in [ii,ii-1,ii+8,ii+9] if jj < n_probes])\n",
    "#         print nbd_windows.string\n",
    "        nbd_powerset = nbd_windows.powerset(nonempty=True)\n",
    "        counter = consistent_map_counter(ii,nbd_powerset)\n",
    "        nbd_color_counts = []    \n",
    "        for tup in nbd_powerset.tups:\n",
    "            nbd_color_counts.append(exp_obs[tup])\n",
    "        if not any(np.isnan(nbd_color_counts)):\n",
    "            non_zero += bool(counter.count_consistent_coloring(n_colors,nbd_color_counts))\n",
    "    re_ass_sults.append(name+(non_zero,))"
   ]
  },
  {
   "cell_type": "code",
   "execution_count": 8,
   "metadata": {
    "collapsed": false
   },
   "outputs": [],
   "source": [
    "results = pd.DataFrame(data=re_ass_sults, columns = ['image','subj','state','non_zeros'])"
   ]
  },
  {
   "cell_type": "code",
   "execution_count": 9,
   "metadata": {
    "collapsed": false
   },
   "outputs": [
    {
     "data": {
      "text/html": [
       "<div>\n",
       "<table border=\"1\" class=\"dataframe\">\n",
       "  <thead>\n",
       "    <tr style=\"text-align: right;\">\n",
       "      <th></th>\n",
       "      <th>image</th>\n",
       "      <th>subj</th>\n",
       "      <th>state</th>\n",
       "      <th>non_zeros</th>\n",
       "    </tr>\n",
       "  </thead>\n",
       "  <tbody>\n",
       "    <tr>\n",
       "      <th>0</th>\n",
       "      <td>candle_01</td>\n",
       "      <td>AS</td>\n",
       "      <td>img</td>\n",
       "      <td>14</td>\n",
       "    </tr>\n",
       "    <tr>\n",
       "      <th>1</th>\n",
       "      <td>candle_01</td>\n",
       "      <td>AS</td>\n",
       "      <td>pcp</td>\n",
       "      <td>34</td>\n",
       "    </tr>\n",
       "    <tr>\n",
       "      <th>2</th>\n",
       "      <td>candle_01</td>\n",
       "      <td>KL</td>\n",
       "      <td>img</td>\n",
       "      <td>33</td>\n",
       "    </tr>\n",
       "    <tr>\n",
       "      <th>3</th>\n",
       "      <td>candle_01</td>\n",
       "      <td>KL</td>\n",
       "      <td>pcp</td>\n",
       "      <td>40</td>\n",
       "    </tr>\n",
       "    <tr>\n",
       "      <th>4</th>\n",
       "      <td>candle_01</td>\n",
       "      <td>z1</td>\n",
       "      <td>img</td>\n",
       "      <td>11</td>\n",
       "    </tr>\n",
       "    <tr>\n",
       "      <th>5</th>\n",
       "      <td>candle_01</td>\n",
       "      <td>z1</td>\n",
       "      <td>pcp</td>\n",
       "      <td>30</td>\n",
       "    </tr>\n",
       "    <tr>\n",
       "      <th>6</th>\n",
       "      <td>cheeseburger_03</td>\n",
       "      <td>KL</td>\n",
       "      <td>img</td>\n",
       "      <td>9</td>\n",
       "    </tr>\n",
       "    <tr>\n",
       "      <th>7</th>\n",
       "      <td>cheeseburger_03</td>\n",
       "      <td>KL</td>\n",
       "      <td>pcp</td>\n",
       "      <td>31</td>\n",
       "    </tr>\n",
       "    <tr>\n",
       "      <th>8</th>\n",
       "      <td>grape_juice_02</td>\n",
       "      <td>KL</td>\n",
       "      <td>img</td>\n",
       "      <td>14</td>\n",
       "    </tr>\n",
       "    <tr>\n",
       "      <th>9</th>\n",
       "      <td>grape_juice_02</td>\n",
       "      <td>KL</td>\n",
       "      <td>pcp</td>\n",
       "      <td>33</td>\n",
       "    </tr>\n",
       "    <tr>\n",
       "      <th>10</th>\n",
       "      <td>peaches_05</td>\n",
       "      <td>AS</td>\n",
       "      <td>img</td>\n",
       "      <td>7</td>\n",
       "    </tr>\n",
       "    <tr>\n",
       "      <th>11</th>\n",
       "      <td>peaches_05</td>\n",
       "      <td>AS</td>\n",
       "      <td>pcp</td>\n",
       "      <td>13</td>\n",
       "    </tr>\n",
       "    <tr>\n",
       "      <th>12</th>\n",
       "      <td>peaches_05</td>\n",
       "      <td>KL</td>\n",
       "      <td>img</td>\n",
       "      <td>7</td>\n",
       "    </tr>\n",
       "    <tr>\n",
       "      <th>13</th>\n",
       "      <td>peaches_05</td>\n",
       "      <td>KL</td>\n",
       "      <td>pcp</td>\n",
       "      <td>34</td>\n",
       "    </tr>\n",
       "    <tr>\n",
       "      <th>14</th>\n",
       "      <td>peaches_05</td>\n",
       "      <td>z1</td>\n",
       "      <td>img</td>\n",
       "      <td>8</td>\n",
       "    </tr>\n",
       "    <tr>\n",
       "      <th>15</th>\n",
       "      <td>peaches_05</td>\n",
       "      <td>z1</td>\n",
       "      <td>pcp</td>\n",
       "      <td>11</td>\n",
       "    </tr>\n",
       "  </tbody>\n",
       "</table>\n",
       "</div>"
      ],
      "text/plain": [
       "              image subj state  non_zeros\n",
       "0         candle_01   AS   img         14\n",
       "1         candle_01   AS   pcp         34\n",
       "2         candle_01   KL   img         33\n",
       "3         candle_01   KL   pcp         40\n",
       "4         candle_01   z1   img         11\n",
       "5         candle_01   z1   pcp         30\n",
       "6   cheeseburger_03   KL   img          9\n",
       "7   cheeseburger_03   KL   pcp         31\n",
       "8    grape_juice_02   KL   img         14\n",
       "9    grape_juice_02   KL   pcp         33\n",
       "10       peaches_05   AS   img          7\n",
       "11       peaches_05   AS   pcp         13\n",
       "12       peaches_05   KL   img          7\n",
       "13       peaches_05   KL   pcp         34\n",
       "14       peaches_05   z1   img          8\n",
       "15       peaches_05   z1   pcp         11"
      ]
     },
     "execution_count": 9,
     "metadata": {},
     "output_type": "execute_result"
    }
   ],
   "source": [
    "results"
   ]
  },
  {
   "cell_type": "code",
   "execution_count": null,
   "metadata": {
    "collapsed": false
   },
   "outputs": [],
   "source": [
    "results.groupby(['subj', 'state'])"
   ]
  },
  {
   "cell_type": "code",
   "execution_count": null,
   "metadata": {
    "collapsed": false
   },
   "outputs": [],
   "source": [
    "7/13."
   ]
  },
  {
   "cell_type": "code",
   "execution_count": null,
   "metadata": {
    "collapsed": false,
    "scrolled": true
   },
   "outputs": [],
   "source": [
    "results.groupby(by=['image', 'subj']).apply(lambda row: row[['non_zeros']].ix[0]/row[['non_zeros']].ix[1])"
   ]
  },
  {
   "cell_type": "code",
   "execution_count": null,
   "metadata": {
    "collapsed": false
   },
   "outputs": [],
   "source": [
    "sub_state = \n",
    "for name,grp in sub_state:\n",
    "    for stim in grp.image.drop_duplicates():\n",
    "        ratio = grp[grp.image==]['non']"
   ]
  },
  {
   "cell_type": "code",
   "execution_count": null,
   "metadata": {
    "collapsed": false
   },
   "outputs": [],
   "source": [
    "plt.plot([0,1,2,3],[33/40., 14./33, 9/31., 7/34.])\n",
    "plt.plot([0,3],[11/30., 8/11.],hold=True)"
   ]
  }
 ],
 "metadata": {
  "kernelspec": {
   "display_name": "Python 2",
   "language": "python",
   "name": "python2"
  },
  "language_info": {
   "codemirror_mode": {
    "name": "ipython",
    "version": 2
   },
   "file_extension": ".py",
   "mimetype": "text/x-python",
   "name": "python",
   "nbconvert_exporter": "python",
   "pygments_lexer": "ipython2",
   "version": "2.7.10"
  }
 },
 "nbformat": 4,
 "nbformat_minor": 0
}
