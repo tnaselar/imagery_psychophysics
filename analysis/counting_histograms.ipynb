{
 "metadata": {
  "name": "",
  "signature": "sha256:667f49a0f8ec2d97e087b350d7eae2d48cc38efa445801fc7768000168db230a"
 },
 "nbformat": 3,
 "nbformat_minor": 0,
 "worksheets": [
  {
   "cells": [
    {
     "cell_type": "code",
     "collapsed": false,
     "input": [
      "from scipy.misc import comb\n",
      "from math import factorial as bang\n",
      "import numpy as np\n",
      "from time import time"
     ],
     "language": "python",
     "metadata": {},
     "outputs": [],
     "prompt_number": 1
    },
    {
     "cell_type": "code",
     "collapsed": false,
     "input": [
      "def partition(number):\n",
      "...     answer = set()\n",
      "...     answer.add((number, ))\n",
      "...     for x in range(1, number):\n",
      "...         for y in partition(number - x):\n",
      "...             answer.add(tuple(sorted((x, ) + y)))\n",
      "...     return answer"
     ],
     "language": "python",
     "metadata": {},
     "outputs": [],
     "prompt_number": 2
    },
    {
     "cell_type": "code",
     "collapsed": false,
     "input": [
      "def descending_combo(upper, lower):\n",
      "    counter = 0\n",
      "    mult = 1\n",
      "    for low in lower:\n",
      "#         print '%d,%d' %(n_colorings-counter, h)\n",
      "        mult *= comb(upper-counter,low,exact='True')\n",
      "        counter += low\n",
      "    return mult"
     ],
     "language": "python",
     "metadata": {},
     "outputs": [],
     "prompt_number": 3
    },
    {
     "cell_type": "code",
     "collapsed": false,
     "input": [
      "comb(2,1,exact='True')"
     ],
     "language": "python",
     "metadata": {},
     "outputs": [
      {
       "metadata": {},
       "output_type": "pyout",
       "prompt_number": 4,
       "text": [
        "2"
       ]
      }
     ],
     "prompt_number": 4
    },
    {
     "cell_type": "markdown",
     "metadata": {},
     "source": [
      "####Here we count colorings by counting (histograms over colorings) x (samples per histogram)"
     ]
    },
    {
     "cell_type": "code",
     "collapsed": false,
     "input": [
      "t = 2\n",
      "n = 3\n",
      "n_assignments = 2**t-1\n",
      "parts = partition(n)\n",
      "parts = [p for p in parts if len(p) <= n_assignments]\n",
      "count = 0\n",
      "for p in parts:\n",
      "    print p\n",
      "    dirac = map(lambda x: 1*(x>0), p)\n",
      "    n_histo = comb(n_assignments, len(p))#descending_combo(n_assignments, dirac)\n",
      "    pats_to_bars = bang(len(p))\n",
      "    n_samples = descending_combo(n,p)\n",
      "    count += n_histo*n_samples*pats_to_bars\n",
      "print count - n_assignments**n\n",
      "    "
     ],
     "language": "python",
     "metadata": {},
     "outputs": [
      {
       "output_type": "stream",
       "stream": "stdout",
       "text": [
        "(1, 2)\n",
        "(1, 1, 1)\n",
        "(3,)\n",
        "30.0\n"
       ]
      }
     ],
     "prompt_number": 5
    },
    {
     "cell_type": "code",
     "collapsed": false,
     "input": [
      "comb(n_assignments,2)*comb(n,1)*comb(n-1,2)"
     ],
     "language": "python",
     "metadata": {},
     "outputs": [
      {
       "metadata": {},
       "output_type": "pyout",
       "prompt_number": 6,
       "text": [
        "9.0"
       ]
      }
     ],
     "prompt_number": 6
    },
    {
     "cell_type": "code",
     "collapsed": false,
     "input": [
      "comb(n_assignments,2)*comb(n,2)*comb(n-2,1)"
     ],
     "language": "python",
     "metadata": {},
     "outputs": [
      {
       "metadata": {},
       "output_type": "pyout",
       "prompt_number": 7,
       "text": [
        "9.0"
       ]
      }
     ],
     "prompt_number": 7
    },
    {
     "cell_type": "code",
     "collapsed": false,
     "input": [
      "n = 12\n",
      "t = 10\n",
      "n_colorings = 2**n-1\n",
      "parts = partition(t)\n",
      "parts = [p for p in parts if len(p) <= n_colorings]\n",
      "count = 0\n",
      "for p in parts:\n",
      "#     print 'partition: %s' %((p,))\n",
      "    up,h_counts = np.unique(p,return_counts=True)\n",
      "    n_histo = descending_combo(n_colorings,h_counts)\n",
      "    n_samples = descending_combo(t,p)\n",
      "#     print n_histo\n",
      "#     print n_samples\n",
      "    count += n_histo*n_samples\n",
      "# print '===='\n",
      "\n",
      "print count-n_colorings**t"
     ],
     "language": "python",
     "metadata": {},
     "outputs": [
      {
       "output_type": "stream",
       "stream": "stdout",
       "text": [
        "0\n"
       ]
      }
     ],
     "prompt_number": 8
    },
    {
     "cell_type": "code",
     "collapsed": false,
     "input": [
      "print count\n",
      "print n_colorings**t"
     ],
     "language": "python",
     "metadata": {},
     "outputs": [
      {
       "output_type": "stream",
       "stream": "stdout",
       "text": [
        "1325986373195498580355364158212890625\n",
        "1325986373195498580355364158212890625\n"
       ]
      }
     ],
     "prompt_number": 9
    },
    {
     "cell_type": "markdown",
     "metadata": {},
     "source": [
      "####More usefully, here we count colorings by counting (histograms over color assignments) x (samples per histogram)"
     ]
    },
    {
     "cell_type": "code",
     "collapsed": false,
     "input": [
      "n = 7  #number of colors\n",
      "t = 10 #number of windows\n",
      "n_assignments = 2**t-1 # number of ways to assign one color to t windows\n",
      "parts = partition(n)\n",
      "parts = [p for p in parts if len(p) <= n_assignments]\n",
      "count = 0\n",
      "for p in parts:\n",
      "#     print 'partition: %s' %((p,))\n",
      "    _,h_counts = np.unique(p,return_counts=True)   ##h_counts = histogram of bar heights\n",
      "    n_histo = descending_combo(n_assignments,h_counts)\n",
      "    n_samples = descending_combo(n,p)\n",
      "#     print n_histo\n",
      "#     print n_samples\n",
      "    count += n_histo*n_samples\n",
      "# print '===='\n",
      "\n",
      "print count-n_assignments**n"
     ],
     "language": "python",
     "metadata": {},
     "outputs": [
      {
       "output_type": "stream",
       "stream": "stdout",
       "text": [
        "0\n"
       ]
      }
     ],
     "prompt_number": 10
    },
    {
     "cell_type": "code",
     "collapsed": false,
     "input": [
      "h_counts"
     ],
     "language": "python",
     "metadata": {},
     "outputs": [
      {
       "metadata": {},
       "output_type": "pyout",
       "prompt_number": 11,
       "text": [
        "array([1, 2])"
       ]
      }
     ],
     "prompt_number": 11
    },
    {
     "cell_type": "markdown",
     "metadata": {},
     "source": [
      "#### ^^ So, this works. But what do we save by counting only histograms?"
     ]
    },
    {
     "cell_type": "code",
     "collapsed": false,
     "input": [
      "n = 4\n",
      "t = 10\n",
      "n_colorings = 2.**n-1\n",
      "parts = partition(t)\n",
      "histo_count = 0\n",
      "for p in parts:\n",
      "#     print 'partition: %s' %((p,))\n",
      "    _,h_counts = np.unique(p,return_counts=True)\n",
      "    n_histo = descending_combo(n_colorings,h_counts)\n",
      "    n_samples = descending_combo(t,p)\n",
      "#     print n_histo\n",
      "#     print n_samples\n",
      "    histo_count += n_histo\n",
      "print '===='\n",
      "\n",
      "print n_colorings**t\n",
      "print histo_count\n",
      "print histo_count/(n_colorings**t)\n",
      "print 8*n*histo_count/1024./1024./1024."
     ],
     "language": "python",
     "metadata": {},
     "outputs": [
      {
       "output_type": "stream",
       "stream": "stdout",
       "text": [
        "====\n",
        "5.76650390625e+11\n",
        "1961256\n",
        "3.40111795966e-06\n",
        "0.0584499835968\n"
       ]
      }
     ],
     "prompt_number": 26
    },
    {
     "cell_type": "code",
     "collapsed": false,
     "input": [
      "start = time()\n",
      "x = np.random.randint(1,10,size=(histo_count,1))\n",
      "print time()-start"
     ],
     "language": "python",
     "metadata": {},
     "outputs": [
      {
       "output_type": "stream",
       "stream": "stdout",
       "text": [
        "8.22135090828\n"
       ]
      }
     ],
     "prompt_number": 13
    },
    {
     "cell_type": "code",
     "collapsed": false,
     "input": [
      "x = np.array(10,dtype=int)"
     ],
     "language": "python",
     "metadata": {},
     "outputs": [],
     "prompt_number": 24
    },
    {
     "cell_type": "markdown",
     "metadata": {},
     "source": [
      "####^^This is great. By enumerating only the histograms, we enumerate a million fewer bit strings. Now we must enumerate one sample from each histogram."
     ]
    },
    {
     "cell_type": "code",
     "collapsed": false,
     "input": [
      "whos"
     ],
     "language": "python",
     "metadata": {},
     "outputs": [
      {
       "output_type": "stream",
       "stream": "stdout",
       "text": [
        "Variable           Type                          Data/Info\n",
        "----------------------------------------------------------\n",
        "bang               builtin_function_or_method    <built-in function factorial>\n",
        "comb               function                      <function comb at 0x7f97e1ab5c08>\n",
        "count              long                          1172544775637859048447\n",
        "descending_combo   function                      <function descending_combo at 0x7f97e1a57578>\n",
        "dirac              list                          n=1\n",
        "h_counts           ndarray                       1: 1 elems, type `int64`, 8 bytes\n",
        "histo_count        int                           847660528\n",
        "n                  int                           5\n",
        "n_assignments      int                           1023\n",
        "n_colorings        float                         31.0\n",
        "n_histo            int                           169911\n",
        "n_samples          int                           113400\n",
        "np                 module                        <module 'numpy' from '/ho<...>ages/numpy/__init__.pyc'>\n",
        "p                  tuple                         n=5\n",
        "partition          function                      <function partition at 0x7f97e1a575f0>\n",
        "parts              set                           set([(2, 3, 5), (1, 1, 1,<...> 2, 6), (2, 2, 2, 2, 2)])\n",
        "pats_to_bars       int                           1\n",
        "start              float                         1437362616.81\n",
        "t                  int                           10\n",
        "time               builtin_function_or_method    <built-in function time>\n",
        "up                 ndarray                       1: 1 elems, type `int64`, 8 bytes\n",
        "x                  ndarray                       : 1 elems, type `int64`, 8 bytes\n"
       ]
      }
     ],
     "prompt_number": 25
    },
    {
     "cell_type": "code",
     "collapsed": false,
     "input": [
      "def enumerate_histo_samples(num_objects, num_windows):\n",
      "    ##enumerate the 2**(n-1) colorings\n",
      "    ##construct all partitions of num_windows\n",
      "    ##for each partition generate all possible histograms over colorings \n",
      "    ##for each histogram sample one possible assignment of colorings to the windows \n",
      "    ##for each sample colorings, generate the \"union values\" : return this\n",
      "    ##also return the number of possible samples for each histogram."
     ],
     "language": "python",
     "metadata": {},
     "outputs": []
    }
   ],
   "metadata": {}
  }
 ]
}