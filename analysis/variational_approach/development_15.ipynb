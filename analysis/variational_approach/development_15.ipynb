{
 "cells": [
  {
   "cell_type": "markdown",
   "metadata": {},
   "source": [
    "# Develop an approach to image warping"
   ]
  },
  {
   "cell_type": "code",
   "execution_count": 129,
   "metadata": {},
   "outputs": [],
   "source": [
    "from imagery_psychophysics.utils.variational_utils import *\n",
    "from object_parsing.src.image_objects import object_box, mask_quantize\n",
    "from skimage.transform import AffineTransform, matrix_transform, resize, SimilarityTransform\n",
    "from scipy.interpolate import griddata\n",
    "from scipy.ndimage import center_of_mass\n",
    "from matplotlib import pyplot as plt\n",
    "from copy import copy, deepcopy\n",
    "from PIL.Image import fromarray\n",
    "from scipy.linalg import expm\n",
    "from scipy.stats import norm\n",
    "from sklearn.metrics.pairwise import pairwise_distances\n",
    "from theano import tensor as T\n",
    "from theano import function, scan\n",
    "from theano.tensor.extra_ops import squeeze as tsqueeze\n",
    "import time"
   ]
  },
  {
   "cell_type": "code",
   "execution_count": 2,
   "metadata": {},
   "outputs": [
    {
     "name": "stderr",
     "output_type": "stream",
     "text": [
      "/usr/local/lib/python2.7/dist-packages/pandas/core/computation/expressions.py:179: UserWarning: evaluating in Python space because the '*' operator is not supported by numexpr for the bool dtype, use '&' instead\n",
      "  .format(op=op_str, alt_op=unsupported[op_str]))\n"
     ]
    }
   ],
   "source": [
    "windows, resp, _, targetObjectMap,targetImage = open_imagery_probe_data('KL', 'pcp', 'peaches_05')"
   ]
  },
  {
   "cell_type": "code",
   "execution_count": 356,
   "metadata": {},
   "outputs": [],
   "source": [
    "D1,D2 = (64,64)\n",
    "smallMap = targetObjectMap.resize((D1,D2))\n",
    "smallImage = resize(np.array(targetImage),(D1,D2),order=1,preserve_range=True)\n"
   ]
  },
  {
   "cell_type": "code",
   "execution_count": 357,
   "metadata": {},
   "outputs": [
    {
     "data": {
      "image/png": "[encoded data removed]",
      "text/plain": [
       "<PIL.Image.Image image mode=L size=64x64 at 0x7FA2EE62DB50>"
      ]
     },
     "execution_count": 357,
     "metadata": {},
     "output_type": "execute_result"
    }
   ],
   "source": [
    "smallMap"
   ]
  },
  {
   "cell_type": "code",
   "execution_count": 382,
   "metadata": {},
   "outputs": [
    {
     "data": {
      "text/plain": [
       "<matplotlib.image.AxesImage at 0x7fa2ecf76e90>"
      ]
     },
     "execution_count": 382,
     "metadata": {},
     "output_type": "execute_result"
    },
    {
     "data": {
      "image/png": "[encoded data removed]",
      "text/plain": [
       "<matplotlib.figure.Figure at 0x7fa2ed2c8390>"
      ]
     },
     "metadata": {},
     "output_type": "display_data"
    }
   ],
   "source": [
    "\n",
    "plt.imshow(np.digitize(np.array(smallMap),np.unique(smallMap).tolist()))"
   ]
  },
  {
   "cell_type": "code",
   "execution_count": 358,
   "metadata": {},
   "outputs": [
    {
     "name": "stdout",
     "output_type": "stream",
     "text": [
      "choose from these labels: [0, 28, 59, 87, 117, 145, 173, 199, 227]\n"
     ]
    }
   ],
   "source": [
    "#select an object from the object map and create a box around it\n",
    "print 'choose from these labels: '+str(np.unique(smallMap).tolist())\n"
   ]
  },
  {
   "cell_type": "code",
   "execution_count": 359,
   "metadata": {},
   "outputs": [
    {
     "data": {
      "text/plain": [
       "<matplotlib.image.AxesImage at 0x7fa2ed3dbd90>"
      ]
     },
     "execution_count": 359,
     "metadata": {},
     "output_type": "execute_result"
    },
    {
     "data": {
      "image/png": "[encoded data removed]",
      "text/plain": [
       "<matplotlib.figure.Figure at 0x7fa2ed54aa90>"
      ]
     },
     "metadata": {},
     "output_type": "display_data"
    }
   ],
   "source": [
    "plt.imshow(smallImage,cmap='gray')"
   ]
  },
  {
   "cell_type": "code",
   "execution_count": 7,
   "metadata": {},
   "outputs": [],
   "source": [
    "def source_points(shape):\n",
    "    D1,D2 = shape\n",
    "    sourceI, sourceJ= np.meshgrid(range(D1),range(D2))\n",
    "    sourcePoints = np.array([sourceJ.flatten(),sourceI.flatten()]).T.astype('float64')\n",
    "    return sourcePoints\n",
    "\n",
    "\n",
    "#box = (left, upper, right, lower)\n",
    "def get_box_center(boxtuple):\n",
    "    left, upper, right, lower = boxtuple\n",
    "    center_row = np.median([upper, lower])\n",
    "    center_col = np.median([left, right])\n",
    "    return np.array([center_row, center_col])\n",
    "\n",
    "box = (0, 0, 10, 10)\n",
    "print get_box_center(box)\n",
    "\n",
    "def compose_and_iterate(sourcePoints, transformFuncList, activations=None, iterations=1):\n",
    "    displacedPoints = copy(sourcePoints)\n",
    "    ##apply transforms in series, noting activations, and assuming that xForm manages control point arithmetic\n",
    "    if activations is None:\n",
    "        activations = [1]*len(transformFuncList)\n",
    "    for xForm,a in zip(transformFuncList,activations):\n",
    "        if not a:\n",
    "            xForm = lambda x: x\n",
    "        displacedPoints = xForm(displacedPoints)\n",
    "    ##reduce iterations\n",
    "    iterations -= 1\n",
    "    if iterations:\n",
    "        return compose_and_iterate(displacedPoints, transformFuncList, activations, iterations=iterations)\n",
    "    else:\n",
    "        return displacedPoints\n",
    "        \n",
    "\n",
    "def local_affine_warp(sourcePoints, controlPoint, baseTransformMatrix, scaleFunction):\n",
    "    \n",
    "    r = pairwise_distances(sourcePoints, controlPoint)\n",
    "    scalars = scaleFunction(r)  \n",
    "    scaledXForms = scalars[:,:,np.newaxis]*baseTransformMatrix\n",
    "    xForms = np.array(map(expm, scaledXForms))\n",
    "\n",
    "    displacedPoints = np.sum((sourcePoints[:,:,np.newaxis]-controlPoint.T)*xForms,axis=2)+controlPoint\n",
    "\n",
    "    return displacedPoints,xForms\n",
    "    "
   ]
  },
  {
   "cell_type": "markdown",
   "metadata": {},
   "source": [
    "#### Local affine warp in theano"
   ]
  },
  {
   "cell_type": "code",
   "execution_count": null,
   "metadata": {},
   "outputs": [],
   "source": [
    "_X = T.matrix('sourcePoints') ##N x 2\n",
    "_Y = T.row('controlPoint') ##1 x 2\n",
    "\n",
    "##N x 1\n",
    "_squared_euclidean_distances = (_X ** 2).sum(1).reshape((_X.shape[0], 1)) + (_Y ** 2).sum(1).reshape((1, _Y.shape[0])) - 2 * _X.dot(_Y.T)\n",
    "f_euclidean = function([_X, _Y], T.sqrt(_squared_euclidean_distances))\n",
    "\n",
    "##scalar\n",
    "_sigma = T.scalar('sigma')\n",
    "\n",
    "##N (?)\n",
    "_scalars = (1./T.sqrt(2*np.pi*_sigma**2))*T.exp(-(_squared_euclidean_distances/(2*_sigma**2)))\n",
    "f_scalars = function([_X,_Y,_sigma], _scalars)"
   ]
  },
  {
   "cell_type": "code",
   "execution_count": 255,
   "metadata": {},
   "outputs": [],
   "source": [
    "##2 x 2\n",
    "_xFormMatrix = T.matrix('baseTransformMatrix')\n",
    "\n",
    "##N x 2 x 2\n",
    "_scaledXForms = _scalars.dimshuffle((0,1,'x'))*_xFormMatrix\n",
    "f_scaledXForms = function([_scalars,_xFormMatrix], _scaledXForms)"
   ]
  },
  {
   "cell_type": "code",
   "execution_count": 257,
   "metadata": {},
   "outputs": [],
   "source": [
    "_xForms,updates = scan(T.slinalg.expm,sequences=_scaledXForms)\n",
    "\n",
    "f_xForms = function([_X,_Y,_sigma,_xFormMatrix],outputs=_xForms)"
   ]
  },
  {
   "cell_type": "code",
   "execution_count": 260,
   "metadata": {},
   "outputs": [],
   "source": [
    "_displacedPoints = T.sum((_X.dimshuffle((0,1,'x'))-_Y.T)*_xForms,axis=2)+_Y\n",
    "f_displacedPoints = function([_X,_Y,_sigma, _xFormMatrix], outputs=_displacedPoints)"
   ]
  },
  {
   "cell_type": "code",
   "execution_count": 164,
   "metadata": {},
   "outputs": [
    {
     "name": "stdout",
     "output_type": "stream",
     "text": [
      "[[14.142136]]\n",
      "14.142135623730951\n",
      "[[0.01467627]]\n",
      "[[0.01467627]]\n"
     ]
    }
   ],
   "source": [
    "sp = np.array([10,10],ndmin=2).astype('float32')\n",
    "cp = np.array([0,0],ndmin=2).astype('float32')\n",
    "r = f_euclidean(sp,cp)\n",
    "print r\n",
    "print np.sqrt(200)\n",
    "s = f_scalars(sp,cp,10)\n",
    "print s\n",
    "print norm.pdf(r,scale=10)\n",
    "\n",
    "\n"
   ]
  },
  {
   "cell_type": "code",
   "execution_count": 267,
   "metadata": {},
   "outputs": [
    {
     "name": "stdout",
     "output_type": "stream",
     "text": [
      "(10000, 1)\n"
     ]
    }
   ],
   "source": [
    "sp = np.random.rand(10000,2).astype('float32')\n",
    "s = f_scalars(sp,cp,10)*100\n",
    "print s.shape\n"
   ]
  },
  {
   "cell_type": "code",
   "execution_count": 256,
   "metadata": {},
   "outputs": [
    {
     "data": {
      "text/plain": [
       "(10, 2, 2)"
      ]
     },
     "execution_count": 256,
     "metadata": {},
     "output_type": "execute_result"
    }
   ],
   "source": [
    "xfm = np.random.rand(2,2).astype('float32')*30\n",
    "f_scaledXForms(s,xfm).shape"
   ]
  },
  {
   "cell_type": "code",
   "execution_count": 268,
   "metadata": {},
   "outputs": [
    {
     "data": {
      "text/plain": [
       "(10000, 2, 2)"
      ]
     },
     "execution_count": 268,
     "metadata": {},
     "output_type": "execute_result"
    }
   ],
   "source": [
    "f_xForms(sp,cp,10,xfm).shape"
   ]
  },
  {
   "cell_type": "code",
   "execution_count": 269,
   "metadata": {
    "scrolled": true
   },
   "outputs": [],
   "source": [
    "_dp = f_displacedPoints(sp,cp,10,xfm)"
   ]
  },
  {
   "cell_type": "code",
   "execution_count": 173,
   "metadata": {},
   "outputs": [
    {
     "data": {
      "text/plain": [
       "(10, 2)"
      ]
     },
     "execution_count": 173,
     "metadata": {},
     "output_type": "execute_result"
    }
   ],
   "source": [
    "_dp.shape"
   ]
  },
  {
   "cell_type": "code",
   "execution_count": 174,
   "metadata": {},
   "outputs": [],
   "source": [
    "dp,xForms = local_affine_warp(sp,cp,xfm,scaleFunc)"
   ]
  },
  {
   "cell_type": "code",
   "execution_count": 176,
   "metadata": {},
   "outputs": [
    {
     "data": {
      "text/plain": [
       "[<matplotlib.lines.Line2D at 0x7fa3055a44d0>]"
      ]
     },
     "execution_count": 176,
     "metadata": {},
     "output_type": "execute_result"
    },
    {
     "data": {
      "image/png": "[encoded data removed]",
      "text/plain": [
       "<matplotlib.figure.Figure at 0x7fa3055a4150>"
      ]
     },
     "metadata": {},
     "output_type": "display_data"
    }
   ],
   "source": [
    "plt.plot(dp,_dp,'.')\n",
    "plt.plot(np.linspace(0,1,10), np.linspace(0,1,10))"
   ]
  },
  {
   "cell_type": "markdown",
   "metadata": {},
   "source": [
    "#### Globally affine xforms around control points centered on objects"
   ]
  },
  {
   "cell_type": "code",
   "execution_count": 343,
   "metadata": {},
   "outputs": [],
   "source": [
    "sourcePoints = source_points((D1,D2)).astype('float32')\n",
    "xFormFuncList = []\n",
    "activations = []\n",
    "for objectLabel in np.unique(smallMap).tolist():\n",
    "    scaleTuple = (1.001,1.001)#tuple(np.random.random(size=2)*1)\n",
    "\n",
    "    xFormDict = {'scale':scaleTuple, 'rotation':0, 'shear':0., 'translation':None}\n",
    "    xForm = AffineTransform(**xFormDict)\n",
    "    box = object_box(smallMap,objectLabel)\n",
    "    controlPoint = get_box_center(box)[np.newaxis,:].astype('float32')\n",
    "    xFormFuncList += [lambda x,bc=controlPoint,xf=xForm.params: matrix_transform(x-bc,xf)+bc]\n",
    "    activations += [1]"
   ]
  },
  {
   "cell_type": "code",
   "execution_count": 344,
   "metadata": {},
   "outputs": [],
   "source": [
    "dp = compose_and_iterate(sourcePoints,xFormFuncList,activations=activations, iterations = 100)\n",
    "\n",
    "warped = griddata(dp, np.array(smallMap).flatten(), sourcePoints, method = 'nearest')\n"
   ]
  },
  {
   "cell_type": "code",
   "execution_count": 345,
   "metadata": {},
   "outputs": [
    {
     "data": {
      "text/plain": [
       "<matplotlib.image.AxesImage at 0x7fa2ee4d8490>"
      ]
     },
     "execution_count": 345,
     "metadata": {},
     "output_type": "execute_result"
    },
    {
     "data": {
      "image/png": "[encoded data removed]",
      "text/plain": [
       "<matplotlib.figure.Figure at 0x7fa2ee5364d0>"
      ]
     },
     "metadata": {},
     "output_type": "display_data"
    }
   ],
   "source": [
    "plt.subplot(1,2,1)\n",
    "plt.imshow(np.array(smallMap))\n",
    "plt.subplot(1,2,2)\n",
    "plt.imshow(warped.reshape((D1,D2)))"
   ]
  },
  {
   "cell_type": "markdown",
   "metadata": {},
   "source": [
    "#### Locally affine warps around control points centered on objects: numpy version"
   ]
  },
  {
   "cell_type": "code",
   "execution_count": 375,
   "metadata": {},
   "outputs": [
    {
     "name": "stdout",
     "output_type": "stream",
     "text": [
      "0\n",
      "28\n",
      "59\n",
      "87\n",
      "117\n",
      "145\n",
      "173\n",
      "199\n",
      "227\n"
     ]
    }
   ],
   "source": [
    "sourcePoints = source_points((D1,D2)).astype('float32')\n",
    "xFormFuncList = []\n",
    "activations = []\n",
    "foo = []\n",
    "sigma = 10\n",
    "scaleFunc = lambda r: norm.pdf(r,scale=sigma)\n",
    "for objectLabel in np.unique(smallMap).tolist():\n",
    "    scaleTuple = tuple(np.random.randint(-1,1,size=2))\n",
    "    rotation = 0 #np.random.random()*(np.pi/2.)-np.pi/4.\n",
    "    xFormDict = {'scale':scaleTuple, 'rotation':rotation, 'shear':0., 'translation':None}\n",
    "    xForm = AffineTransform(**xFormDict)\n",
    "    baseTransformMatrix = xForm.params[:2,:2].astype('float32')\n",
    "    box = object_box(smallMap,objectLabel)\n",
    "    controlPoint = get_box_center(box)[np.newaxis,:].astype('float32')\n",
    "    xFormFuncList += [lambda x, btm=baseTransformMatrix, cp=controlPoint: local_affine_warp(x,cp,btm, scaleFunc)[0]]\n",
    "    print objectLabel\n",
    "#     xFormFuncList += [lambda x, btm=baseTransformMatrix, cp=controlPoint: f_displacedPoints(x,cp,sigma,btm)]\n",
    "    activations += [1]\n"
   ]
  },
  {
   "cell_type": "code",
   "execution_count": 376,
   "metadata": {},
   "outputs": [
    {
     "name": "stdout",
     "output_type": "stream",
     "text": [
      "start compose_iterate\n",
      "end compose_and_iterate: 103.669190\n"
     ]
    }
   ],
   "source": [
    "\n",
    "\n",
    "start = time.time()\n",
    "print(\"start compose_iterate\")\n",
    "dp = compose_and_iterate(sourcePoints,xFormFuncList,activations=activations, iterations =12)\n",
    "end = time.time()\n",
    "print \"end compose_and_iterate: %f\" %(end - start)\n"
   ]
  },
  {
   "cell_type": "code",
   "execution_count": 377,
   "metadata": {
    "scrolled": true
   },
   "outputs": [],
   "source": [
    "warped = griddata(dp, np.array(smallMap).flatten(), sourcePoints, method = 'nearest')"
   ]
  },
  {
   "cell_type": "code",
   "execution_count": 378,
   "metadata": {},
   "outputs": [
    {
     "data": {
      "text/plain": [
       "<matplotlib.image.AxesImage at 0x7fa2ed00d4d0>"
      ]
     },
     "execution_count": 378,
     "metadata": {},
     "output_type": "execute_result"
    },
    {
     "data": {
      "image/png": "[encoded data removed]",
      "text/plain": [
       "<matplotlib.figure.Figure at 0x7fa2ed0a17d0>"
      ]
     },
     "metadata": {},
     "output_type": "display_data"
    }
   ],
   "source": [
    "plt.subplot(1,2,1)\n",
    "plt.imshow(np.array(smallMap))\n",
    "plt.subplot(1,2,2)\n",
    "plt.imshow(warped.reshape((D1,D2)))"
   ]
  },
  {
   "cell_type": "markdown",
   "metadata": {},
   "source": [
    "#### Locally affine warps around control points centered on objects: Theano version"
   ]
  },
  {
   "cell_type": "code",
   "execution_count": 353,
   "metadata": {},
   "outputs": [
    {
     "name": "stdout",
     "output_type": "stream",
     "text": [
      "start application loop\n",
      "0\n",
      "28\n",
      "59\n",
      "87\n",
      "117\n",
      "145\n",
      "173\n",
      "199\n",
      "227\n",
      "end compose_and_iterate: 3.167833\n"
     ]
    }
   ],
   "source": [
    "sourcePoints = source_points((D1,D2)).astype('float32')\n",
    "xFormFuncList = []\n",
    "activations = []\n",
    "foo = []\n",
    "sigma = 10\n",
    "dp = copy(sourcePoints)\n",
    "start = time.time()\n",
    "print(\"start application loop\")\n",
    "\n",
    "\n",
    "for objectLabel in np.unique(smallMap).tolist():\n",
    "    scaleTuple = tuple(np.random.randint(-5,5,size=2))\n",
    "\n",
    "    xFormDict = {'scale':scaleTuple, 'rotation':0, 'shear':0., 'translation':None}\n",
    "    xForm = AffineTransform(**xFormDict)\n",
    "    baseTransformMatrix = xForm.params[:2,:2].astype('float32')\n",
    "    box = object_box(smallMap,objectLabel)\n",
    "    controlPoint = get_box_center(box)[np.newaxis,:].astype('float32')\n",
    "#     xFormFuncList += [lambda x, btm=baseTransformMatrix, cp=controlPoint: local_affine_warp(x,cp,btm, scaleFunc)]\n",
    "    print objectLabel\n",
    "    dp = f_displacedPoints(dp,controlPoint,sigma,baseTransformMatrix)\n",
    "    activations += [1]\n",
    "    \n",
    "end = time.time()\n",
    "print \"end compose_and_iterate: %f\" %(end - start)"
   ]
  },
  {
   "cell_type": "code",
   "execution_count": 354,
   "metadata": {},
   "outputs": [],
   "source": [
    "warped = griddata(dp, np.array(smallMap).flatten(), sourcePoints, method = 'nearest')"
   ]
  },
  {
   "cell_type": "code",
   "execution_count": 355,
   "metadata": {},
   "outputs": [
    {
     "data": {
      "text/plain": [
       "<matplotlib.image.AxesImage at 0x7fa3055f1c10>"
      ]
     },
     "execution_count": 355,
     "metadata": {},
     "output_type": "execute_result"
    },
    {
     "data": {
      "image/png": "[encoded data removed]",
      "text/plain": [
       "<matplotlib.figure.Figure at 0x7fa30c6735d0>"
      ]
     },
     "metadata": {},
     "output_type": "display_data"
    }
   ],
   "source": [
    "plt.subplot(1,2,1)\n",
    "plt.imshow(np.array(smallMap))\n",
    "plt.subplot(1,2,2)\n",
    "plt.imshow(warped.reshape((D1,D2)))"
   ]
  },
  {
   "cell_type": "markdown",
   "metadata": {},
   "source": [
    "Seems that locally affine warp is slow because of applying expm to all of the source points for each control point and xform. This isn't any faster in theano, so there's no speed up. In fact, theano is slower. Probably because of shuttling data back and forth from gpu/cpu when there's really no need in this case."
   ]
  },
  {
   "cell_type": "markdown",
   "metadata": {},
   "source": [
    "### ============================TOSSED============================="
   ]
  },
  {
   "cell_type": "markdown",
   "metadata": {},
   "source": [
    "### ============================================================="
   ]
  },
  {
   "cell_type": "code",
   "execution_count": null,
   "metadata": {},
   "outputs": [],
   "source": [
    "idx = 376\n",
    "row,col = np.unravel_index(idx,(D1,D2))\n",
    "print '(row,col): (%d, %d)' %(row,col)\n",
    "print '(s_row, s_col): (%d,%d)' %(sourcePoints[idx][0], sourcePoints[idx][1])"
   ]
  },
  {
   "cell_type": "code",
   "execution_count": null,
   "metadata": {},
   "outputs": [],
   "source": [
    "##this was mostly just for visualizing that coordinate transforms are correct\n",
    "def mask_box(sourcePoints, boxtuple, fill=0):\n",
    "    left, upper, right, lower = boxtuple\n",
    "    boxMask = copy(sourcePoints)\n",
    "    boxMask[np.where((sourcePoints[:,1] <= left) + \n",
    "                             (sourcePoints[:,1] >= right) +\n",
    "                             (sourcePoints[:,0] >= lower) +\n",
    "                             (sourcePoints[:,0] <= upper))] = fill\n",
    "    return boxMask\n",
    "    \n",
    "    "
   ]
  },
  {
   "cell_type": "code",
   "execution_count": null,
   "metadata": {},
   "outputs": [],
   "source": [
    "def row_col_to_x_y(row_col_coords, row_col_origin=None):\n",
    "    '''\n",
    "    row_col_to_x_y(row_col_coords)\n",
    "    row_col_coords ~ N x 2 array\n",
    "    row_col_origin ~ np array with shape (2,) -- no singleton dimension so we can broadcast without headaches!\n",
    "    returns N x 2 array in cartesian (x,y) coordinates with row_col_origin\n",
    "    at the center of (x,y) plane. if row_col_origin = None, set to median\n",
    "    of row_col_coords\n",
    "    \n",
    "    example: if row_col_coords is a sourcePoint array (so that values equal subscripts)\n",
    "    and row_col_origin is not supplied, we will get (x,y) coordinates for each pixel (row,col)\n",
    "    coordinate, and the center of the image will be at the origin of the (x,y) plane.\n",
    "    if row_col_coords is set to (0,0), the upper left cornder of the image will be at the center of\n",
    "    the (x,y) plane\n",
    "    '''    \n",
    "    if row_col_origin is None:\n",
    "        left = row_col_coords[:,1].min()\n",
    "        upper = row_col_coords[:,0].min()\n",
    "        right = row_col_coords[:,1].max()\n",
    "        lower = row_col_coords[:,0].max()\n",
    "        row_col_origin = get_box_center((left,upper,right,lower))\n",
    "    x_y_coords = np.roll(row_col_coords-row_col_origin,1,1)\n",
    "    return x_y_coords,row_col_origin\n",
    "\n",
    "def x_y_to_row_col(x_y_coords, x_y_origin=np.array([0,0])):\n",
    "    row_col_coords = np.roll(x_y_coords-x_y_origin, 1,1)\n",
    "    return row_col_coords"
   ]
  },
  {
   "cell_type": "code",
   "execution_count": null,
   "metadata": {},
   "outputs": [],
   "source": [
    "sourcePoints_x_y = row_col_to_x_y(sourcePoints)\n",
    "##plot sourcepoints as an image in row,col space\n",
    "plt.subplot(1,3,1)\n",
    "plt.imshow(sourcePoints[:,0].reshape((D1,D2)))\n",
    "plt.subplot(1,3,2)\n",
    "plt.imshow(sourcePoints[:,1].reshape((D1,D2)))\n",
    "\n",
    "##plot (x,y) version of sourcePoints as point plot in (x,y) plane\n",
    "plt.subplot(1,3,3)\n",
    "plt.plot(sourcePoints_x_y[:,0], sourcePoints_x_y[:,1], 'k.')\n",
    "plt.axis('equal')"
   ]
  },
  {
   "cell_type": "code",
   "execution_count": null,
   "metadata": {},
   "outputs": [],
   "source": [
    "box = (10, 38, 53, 42)\n",
    "box_center = get_box_center(box)\n",
    "print box_center\n",
    "boxMask = mask_box(sourcePoints,box)\n",
    "boxMask_x_y = row_col_to_x_y(boxMask,box_center)"
   ]
  },
  {
   "cell_type": "code",
   "execution_count": null,
   "metadata": {},
   "outputs": [],
   "source": [
    "##plot box as an image in row,col space\n",
    "plt.subplot(1,3,1)\n",
    "plt.imshow(boxMask[:,0].reshape((D1,D2)))\n",
    "plt.subplot(1,3,2)\n",
    "plt.imshow(boxMask[:,1].reshape((D1,D2)))\n",
    "\n",
    "##plot (x,y) version of box as point plot in (x,y) plane\n",
    "plt.subplot(1,3,3)\n",
    "plt.plot(boxMask_x_y[:,0], boxMask_x_y[:,1], 'k.')\n",
    "plt.axis('equal')"
   ]
  },
  {
   "cell_type": "code",
   "execution_count": null,
   "metadata": {},
   "outputs": [],
   "source": [
    "##construct a local affine transform and apply it in the nbd of that box\n",
    "xFormDict = {'scale':(2.5,2.5), 'rotation':0., 'shear':0., 'translation':(0,0)}\n",
    "xForm = AffineTransform(**xFormDict)"
   ]
  },
  {
   "cell_type": "code",
   "execution_count": null,
   "metadata": {},
   "outputs": [],
   "source": [
    "#select an object from the object map and create a box around it\n",
    "print 'choose from these labels: '+str(np.unique(smallMap).tolist())\n",
    "objectLabel = 117\n",
    "box = object_box(smallMap,objectLabel)\n",
    "boxCenter = get_box_center(box)\n",
    "print 'box:'+str(box)\n",
    "boxMask = mask_box(sourcePoints,box,fill=np.nan)\n",
    "boxMask_x_y = row_col_to_x_y(boxMask,box_center)\n",
    "plt.subplot(1,3,1)\n",
    "plt.imshow(np.array(smallMap))\n",
    "plt.subplot(1,3,2)\n",
    "plt.imshow(boxMask[:,0].reshape((D1,D2)))\n",
    "plt.subplot(1,3,3)\n",
    "plt.plot(boxMask_x_y[:,0], boxMask_x_y[:,1], 'k.')\n",
    "plt.axis('equal')"
   ]
  },
  {
   "cell_type": "code",
   "execution_count": null,
   "metadata": {},
   "outputs": [],
   "source": [
    "##apply transform to points within box only\n",
    "localDisplacedPoints_x_y = matrix_transform(boxMask_x_y,xForm.params)\n",
    "localDisplacementMap_row_col = np.nan_to_num(x_y_to_row_col(localDisplacedPoints_x_y-boxMask_x_y))\n",
    "localDisplacedPoints_row_col = sourcePoints+localDisplacementMap_row_col\n",
    "warpedMap = griddata(localDisplacedPoints_row_col, np.array(smallMap).flatten(), sourcePoints, method='nearest')"
   ]
  },
  {
   "cell_type": "code",
   "execution_count": null,
   "metadata": {},
   "outputs": [],
   "source": [
    "plt.subplot(1,2,1)\n",
    "plt.imshow(np.array(smallMap))\n",
    "plt.subplot(1,2,2)\n",
    "plt.imshow(warpedMap.reshape((D1,D2)))"
   ]
  },
  {
   "cell_type": "code",
   "execution_count": null,
   "metadata": {},
   "outputs": [],
   "source": [
    "##apply to transform about box_center to whole image\n",
    "sourcePoints_x_y = row_col_to_x_y(sourcePoints,row_col_origin=boxCenter)\n",
    "displacedPoints_x_y = matrix_transform(sourcePoints_x_y,xForm.params)\n",
    "displacementMap_row_col = np.nan_to_num(x_y_to_row_col(displacedPoints_x_y-sourcePoints_x_y))\n",
    "displacedPoints_row_col = sourcePoints+displacementMap_row_col\n",
    "warpedMap = griddata(displacedPoints_row_col, np.array(smallMap).flatten(), sourcePoints, method='nearest')"
   ]
  },
  {
   "cell_type": "code",
   "execution_count": null,
   "metadata": {},
   "outputs": [],
   "source": [
    "plt.subplot(1,2,1)\n",
    "plt.imshow(np.array(smallMap))\n",
    "plt.subplot(1,2,2)\n",
    "plt.imshow(warpedMap.reshape((D1,D2)))"
   ]
  },
  {
   "cell_type": "code",
   "execution_count": null,
   "metadata": {},
   "outputs": [],
   "source": [
    "##create a composite transform by adding another scale around a different point and apply it\n",
    "##construct a local affine transform and apply it in the nbd of that box\n",
    "newXFormDict = {'scale':(.1, .1), 'rotation':np.pi/15., 'shear':0., 'translation':(0,0)}\n",
    "newXForm = AffineTransform(**newXFormDict)\n",
    "newBox = (10, 40, 20, 60)\n",
    "newBoxCenter = get_box_center(newBox)\n",
    "newSourcePoints_x_y = row_col_to_x_y(sourcePoints,row_col_origin=newBoxCenter)\n",
    "newDisplacedPoints_x_y = matrix_transform(newSourcePoints_x_y,newXForm.params)\n",
    "newDisplacementMap_row_col = np.nan_to_num(x_y_to_row_col(newDisplacedPoints_x_y-newSourcePoints_x_y))\n",
    "newDisplacedPoints_row_col = sourcePoints+newDisplacementMap_row_col\n",
    "newWarpedMap = griddata(newDisplacedPoints_row_col, np.array(smallMap).flatten(), sourcePoints, method='nearest')"
   ]
  },
  {
   "cell_type": "code",
   "execution_count": null,
   "metadata": {},
   "outputs": [],
   "source": [
    "plt.subplot(1,2,1)\n",
    "plt.imshow(np.array(smallMap))\n",
    "plt.subplot(1,2,2)\n",
    "plt.imshow(newWarpedMap.reshape((D1,D2)))"
   ]
  },
  {
   "cell_type": "code",
   "execution_count": null,
   "metadata": {},
   "outputs": [],
   "source": [
    "compositeDisplacementMap_row_col = newDisplacementMap_row_col+displacementMap_row_col\n",
    "compositeDisplacedPoints_row_col = sourcePoints+compositeDisplacementMap_row_col\n",
    "compositeWarpedMap = griddata(compositeDisplacedPoints_row_col, np.array(smallMap).flatten(), sourcePoints, method = 'nearest')"
   ]
  },
  {
   "cell_type": "code",
   "execution_count": null,
   "metadata": {},
   "outputs": [],
   "source": [
    "plt.subplot(1,2,1)\n",
    "plt.imshow(np.array(smallMap))\n",
    "plt.subplot(1,2,2)\n",
    "plt.imshow(compositeWarpedMap.reshape((D1,D2)))"
   ]
  },
  {
   "cell_type": "code",
   "execution_count": null,
   "metadata": {},
   "outputs": [],
   "source": [
    "##now iterate, applying the displacement map once again\n",
    "compositeDisplacedPoints_row_col += compositeDisplacementMap_row_col\n",
    "compositeWarpedMap = griddata(compositeDisplacedPoints_row_col, np.array(smallMap).flatten(), sourcePoints, method = 'nearest')\n"
   ]
  },
  {
   "cell_type": "code",
   "execution_count": null,
   "metadata": {},
   "outputs": [],
   "source": [
    "plt.subplot(1,2,1)\n",
    "plt.imshow(np.array(smallMap))\n",
    "plt.subplot(1,2,2)\n",
    "plt.imshow(compositeWarpedMap.reshape((D1,D2)))"
   ]
  },
  {
   "cell_type": "code",
   "execution_count": null,
   "metadata": {},
   "outputs": [],
   "source": [
    "##may be easier to just compose affine transforms instead of adding displacement maps\n",
    "# xFormDict1 = {'scale':(.5,.5), 'rotation':0, 'shear':0., 'translation':(0,0)}\n",
    "# xForm1 = AffineTransform(**xFormDict1)\n",
    "xFormDict1 = {'scale':(.5,.5), 'rotation':np.pi/26., 'translation':(1,0)}\n",
    "xForm1 = SimilarityTransform(**xFormDict1)\n",
    "objectLabel = 145\n",
    "box1 = object_box(smallMap,objectLabel)\n",
    "boxCenter1 = get_box_center(box1)\n",
    "sourcePoints_x_y_1,_ = row_col_to_x_y(sourcePoints,row_col_origin=boxCenter1)\n",
    "displacedPoints_x_y_1 = matrix_transform(sourcePoints_x_y_1,xForm1.params)\n",
    "displacedPoints_row_col_1 = x_y_to_row_col(displacedPoints_x_y_1)+boxCenter1\n",
    "warp1 = griddata(displacedPoints_row_col_1, np.array(smallMap).flatten(), sourcePoints, method = 'nearest')\n",
    "\n",
    "xFormDict2 = {'scale':(1,1), 'rotation':0, 'shear':0., 'translation':(20,0)}\n",
    "xForm2 = AffineTransform(**xFormDict2)\n",
    "objectLabel = 117\n",
    "box2 = object_box(smallMap,objectLabel)\n",
    "boxCenter2 = get_box_center(box2)\n",
    "sourcePoints_x_y_2,_ = row_col_to_x_y(displacedPoints_row_col_1,row_col_origin=boxCenter2)\n",
    "displacedPoints_x_y_2 = matrix_transform(sourcePoints_x_y_2,xForm2.params)\n",
    "displacedPoints_row_col_2 = x_y_to_row_col(displacedPoints_x_y_2)+boxCenter2\n",
    "warp2 = griddata(displacedPoints_row_col_2, np.array(smallMap).flatten(), sourcePoints, method = 'nearest')\n"
   ]
  },
  {
   "cell_type": "code",
   "execution_count": null,
   "metadata": {},
   "outputs": [],
   "source": [
    "##nice. much easier\n",
    "plt.subplot(1,3,1)\n",
    "plt.imshow(np.array(smallMap))\n",
    "plt.subplot(1,3,2)\n",
    "plt.imshow(warp1.reshape((D1,D2)))\n",
    "plt.subplot(1,3,3)\n",
    "plt.imshow(warp2.reshape((D1,D2)))\n"
   ]
  },
  {
   "cell_type": "code",
   "execution_count": null,
   "metadata": {},
   "outputs": [],
   "source": [
    "##can't we just stay in row,col space?\n",
    "sourcePoints = source_points((D1,D2))\n",
    "xFormDict = {'scale':(.5,.5), 'rotation':0, 'shear':0., 'translation':(0,0)}\n",
    "xForm = AffineTransform(**xFormDict)\n",
    "boxCenter2 = np.array([60,55])\n",
    "print boxCenter2\n",
    "dp = matrix_transform(sourcePoints-boxCenter2,xForm.params,)+boxCenter2\n",
    "dp0 = matrix_transform(boxCenter2-boxCenter2,xForm.params,)+boxCenter2\n",
    "warped = griddata(dp, np.array(smallMap).flatten(), sourcePoints, method = 'nearest')\n",
    "plt.subplot(1,2,1)\n",
    "plt.imshow(np.array(smallMap))\n",
    "plt.plot(boxCenter2[1],boxCenter2[0],'r*')\n",
    "plt.subplot(1,2,2)\n",
    "plt.imshow(warped.reshape((D1,D2)))\n",
    "plt.plot(dp0[:,1],dp0[:,0],'r*')"
   ]
  },
  {
   "cell_type": "code",
   "execution_count": null,
   "metadata": {},
   "outputs": [],
   "source": [
    "dp0"
   ]
  },
  {
   "cell_type": "code",
   "execution_count": null,
   "metadata": {},
   "outputs": [],
   "source": [
    "pt = np.array([64,64])\n",
    "print xForm2.params[:2,:2].dot(np.array([64,64]))\n",
    "print matrix_transform(pt,xForm2.params)"
   ]
  },
  {
   "cell_type": "code",
   "execution_count": null,
   "metadata": {},
   "outputs": [],
   "source": [
    "base = np.random.rand(2,2)\n",
    "controlPoints = np.array([0,0])[np.newaxis,:]\n",
    "r = pairwise_distances(sourcePoints, controlPoints)"
   ]
  },
  {
   "cell_type": "code",
   "execution_count": null,
   "metadata": {},
   "outputs": [],
   "source": [
    "scalars = norm.pdf(r)  \n",
    "scalars.shape\n",
    "print sourcePoints.shape"
   ]
  },
  {
   "cell_type": "code",
   "execution_count": null,
   "metadata": {},
   "outputs": [],
   "source": [
    "scaledXForms = scalars[:,:,np.newaxis]*base\n",
    "xForms = np.array(map(expm, scaledXForms))\n",
    "print xForms.shape"
   ]
  },
  {
   "cell_type": "code",
   "execution_count": null,
   "metadata": {},
   "outputs": [],
   "source": [
    "print np.squeeze(controlPoints).shape\n",
    "print base.shape"
   ]
  },
  {
   "cell_type": "code",
   "execution_count": null,
   "metadata": {},
   "outputs": [],
   "source": [
    "(sourcePoints[:,:,np.newaxis]-controlPoints.T).shape"
   ]
  },
  {
   "cell_type": "code",
   "execution_count": null,
   "metadata": {},
   "outputs": [],
   "source": [
    "np.sum((sourcePoints[:,:,np.newaxis]-controlPoints.T)*xForms,axis=2).shape"
   ]
  },
  {
   "cell_type": "code",
   "execution_count": null,
   "metadata": {},
   "outputs": [],
   "source": [
    "xFormDict = {'scale':(30.5,30.5), 'rotation':np.pi/2.0, 'shear':0., 'translation':(0,0)}\n",
    "xForm = AffineTransform(**xFormDict)\n",
    "btm = xForm.params[:2,:2]\n",
    "objectLabel = 117\n",
    "box1 = object_box(smallMap,objectLabel)\n",
    "boxCenter1 = get_box_center(box1)[np.newaxis,:]\n",
    "\n",
    "scaleFunc = lambda r: norm.pdf(r,scale=10.)\n",
    "\n",
    "# scaleFunc = lambda r: r*0+1"
   ]
  },
  {
   "cell_type": "code",
   "execution_count": null,
   "metadata": {
    "scrolled": true
   },
   "outputs": [],
   "source": [
    "D1,D2 = np.array(smallMap).shape\n",
    "sourcePoints = source_points((D1,D2))\n",
    "dp = local_affine_warp(sourcePoints, boxCenter1, btm, scaleFunc)\n",
    "warped = griddata(dp, np.array(smallMap).flatten(), sourcePoints, method = 'nearest')\n",
    "plt.subplot(1,2,1)\n",
    "plt.imshow(np.array(smallMap))\n",
    "plt.subplot(1,2,2)\n",
    "plt.imshow(warped.reshape((D1,D2)))"
   ]
  },
  {
   "cell_type": "code",
   "execution_count": null,
   "metadata": {},
   "outputs": [],
   "source": [
    "smallMap"
   ]
  },
  {
   "cell_type": "code",
   "execution_count": null,
   "metadata": {},
   "outputs": [],
   "source": []
  },
  {
   "cell_type": "markdown",
   "metadata": {},
   "source": [
    "### How to build and an apply a complex piecewise affine distortion to an image\n",
    "\n",
    "-  create a set of source gridpoints (extract them from an image)\n",
    "-  construct distortions using AffineTransform\n",
    "-  use \"matrix_transform\" to apply the affine transform to a subset of the source gridpoints (a box)\n",
    "-  iteratively displace t times\n",
    "-  generate displacement map for the local transform\n",
    "-  if many local transforms, sum the displacement maps\n",
    "-  add the displacement map to the source gridpoints to get displaced gridpoints\n",
    "-  pass the displaced points, the image, and the source gridpoints to griddata to get the warped image"
   ]
  },
  {
   "cell_type": "code",
   "execution_count": null,
   "metadata": {},
   "outputs": [],
   "source": [
    "##FIX API, FIX CENTERING ISSUES\n",
    "def source_points_from_image(image,center=False):\n",
    "    D1,D2 = image.shape\n",
    "    sourceI, sourceJ= np.meshgrid(range(D1),range(D2))\n",
    "    sourcePoints = np.array([sourceI.flatten(),sourceJ.flatten()]).T.astype('float64')\n",
    "    centerPoint = center_of_mass(np.ones((D1,D2)))\n",
    "    if center:\n",
    "        sourcePoints = sourcePoints-centerPoint\n",
    "    return sourcePoints, centerPoint\n",
    "\n",
    "def displacement_map(sourcePoints, xForm, box=None):\n",
    "    if box is not None:\n",
    "        left,upper,right,lower = box\n",
    "        centerPoint = np.array([np.median([right,left]), np.median([upper,lower])])\n",
    "        sourcePoints = sourcePoints-centerPoint\n",
    "    displacedPoints = matrix_transform(sourcePoints,xForm.params)\n",
    "    displacementMap = displacedPoints - sourcePoints\n",
    "    sourcePoints = sourcePoints+centerPoint\n",
    "    if box is not None:\n",
    "        displacementMap[np.where((sourcePoints[:,0] <= left) + \n",
    "                                 (sourcePoints[:,0] >= right) +\n",
    "                                 (sourcePoints[:,1] <= lower) +\n",
    "                                 (sourcePoints[:,1] >= upper))] = 0\n",
    "        \n",
    "    return displacementMap\n",
    "\n",
    "def cart2img(dmap, D1,D2):\n",
    "    flipped = np.empty(dmap.shape)\n",
    "    flipped[:,0] = np.flip(dmap[:,0].reshape((D1,D2)), axis=0).flatten()\n",
    "    flipped[:,1] = np.flip(dmap[:,1].reshape((D1,D2)), axis=0).flatten()\n",
    "    return flipped\n",
    "\n",
    "def apply_displacement_map(sourcePoints, displacementMap, t=1):\n",
    "    if t:\n",
    "        t -= 1\n",
    "        return apply_displacement_map(sourcePoints+displacementMap, displacementMap, t)\n",
    "    else:\n",
    "        return sourcePoints\n",
    "    "
   ]
  },
  {
   "cell_type": "code",
   "execution_count": null,
   "metadata": {},
   "outputs": [],
   "source": [
    "left,upper,right,lower = (-63.5, 39.5, 64.5, 64.5)\n",
    "plt.subplot(1,2,1)\n",
    "foo = copy(sourcePoints)\n",
    "foo[np.where((sourcePoints[:,0]<=left) + \n",
    "              (sourcePoints[:,0] >= right) +\n",
    "              (sourcePoints[:,1] <=upper) +\n",
    "              (sourcePoints[:,1] >= lower))] = 0\n",
    "plt.plot(sourcePoints[:,0],sourcePoints[:,1], 'k.')\n",
    "plt.plot(foo[:,0],foo[:,1], 'r*')\n",
    "plt.axis('equal')\n",
    "baz = np.ones(sourcePoints.shape)\n",
    "baz[np.where((sourcePoints[:,0]<=left) + \n",
    "              (sourcePoints[:,0] >= right) +\n",
    "              (sourcePoints[:,1] <=upper) +\n",
    "              (sourcePoints[:,1] >= lower))] = 0\n",
    "plt.subplot(1,2,2)\n",
    "blarg = np.flip(baz[:,0].reshape((D1,D2)), axis=0).flatten()\n",
    "plt.imshow(blarg.reshape((D1,D2)))"
   ]
  },
  {
   "cell_type": "code",
   "execution_count": null,
   "metadata": {},
   "outputs": [],
   "source": [
    "def center_box(boxtuple, origin):\n",
    "    left,upper,right,lower = boxtuple\n",
    "    left -= origin[0]\n",
    "    right -= origin[0]\n",
    "    upper -= origin[1]\n",
    "    lower -= origin[1]\n",
    "    return (left,upper,right,lower)"
   ]
  },
  {
   "cell_type": "code",
   "execution_count": null,
   "metadata": {},
   "outputs": [],
   "source": [
    "xFormDict = {'scale':(10.,10.), 'rotation':0., 'shear':0., 'translation':(0,0)}\n",
    "xForm = AffineTransform(**xFormDict)"
   ]
  },
  {
   "cell_type": "code",
   "execution_count": null,
   "metadata": {},
   "outputs": [],
   "source": [
    "np.unique(targetObjectMap)"
   ]
  },
  {
   "cell_type": "code",
   "execution_count": null,
   "metadata": {},
   "outputs": [],
   "source": [
    "objectLabel = 123\n",
    "objectMask = np.flip(mask_quantize(targetObjectMap,objectLabel).resize((D1,D2)),axis=0)\n",
    "objectMask=fromarray(objectMask)\n",
    "objectMask"
   ]
  },
  {
   "cell_type": "code",
   "execution_count": null,
   "metadata": {},
   "outputs": [],
   "source": [
    "sourcePoints,cp = source_points_from_image(smallImage,center=True)"
   ]
  },
  {
   "cell_type": "code",
   "execution_count": null,
   "metadata": {},
   "outputs": [],
   "source": [
    "maskBox = object_box(objectMask,255)\n",
    "maskBox = center_box(maskBox,cp)\n",
    "maskBox"
   ]
  },
  {
   "cell_type": "code",
   "execution_count": null,
   "metadata": {
    "scrolled": true
   },
   "outputs": [],
   "source": [
    "dmap = displacement_map(sourcePoints, xForm, box=maskBox)#(-1, -1, 1, -4))\n",
    "displacedPoints = apply_displacement_map(sourcePoints, dmap, t=1)\n",
    "dmap = cart2img(dmap,D1,D2)"
   ]
  },
  {
   "cell_type": "code",
   "execution_count": null,
   "metadata": {},
   "outputs": [],
   "source": [
    "plt.plot(sourcePoints[:,0],sourcePoints[:,1], 'k.')\n",
    "plt.plot(dmap[:,0],dmap[:,1], 'r*')\n",
    "plt.axis('equal')"
   ]
  },
  {
   "cell_type": "code",
   "execution_count": null,
   "metadata": {},
   "outputs": [],
   "source": [
    "plt.subplot(1,2,1)\n",
    "plt.imshow(smallImage, cmap='gray')\n",
    "plt.subplot(1,2,2)\n",
    "warpedImg = griddata(displacedPoints,smallImage.flatten(),sourcePoints, method='nearest')\n",
    "plt.imshow(warpedImg.reshape(D1,D2), cmap='gray')"
   ]
  },
  {
   "cell_type": "markdown",
   "metadata": {},
   "source": [
    "### Random sampling of distortions\n",
    "-  construct a bank of affine transforms to apply at each location and scale\n",
    "-  randomly sample activations from a \"multinoulli\" (product of Bernoullis each with same parameter)\n",
    "-  randmoly sample iterations from a Poisson\n",
    "-  apply as described above"
   ]
  },
  {
   "cell_type": "code",
   "execution_count": null,
   "metadata": {},
   "outputs": [],
   "source": [
    "def zoom_or_pan(sourcePoints,centerPoint,direction):\n",
    "    '''\n",
    "    zoom_or_pan(sourcePoints,centerPoint,direction)\n",
    "    applies a panning or zooming coordinate transform to sourcePoints around\n",
    "    the centerPoint.\n",
    "    Inputs:\n",
    "        sourcePoints ~ N x 2 array of 2D points\n",
    "        centerPoint ~ 1 x 2 array giving center point for effect\n",
    "        direction ~ < 0 = zoom in, > 0 = pan out. absolute determines size of effect\n",
    "    Returns:\n",
    "        displacedPoints ~ N x 2 array of transformed points\n",
    "    '''\n",
    "    sourcePoints = sourcePoints-np.array(centerPoint).reshape((1,2))\n",
    "    angles = np.angle(np.apply_along_axis(lambda args: [complex(*args)], 1, sourcePoints))    \n",
    "    displacementVectors = direction*np.array([np.cos(angles),np.sin(angles)]).T\n",
    "    displacedPoints = sourcePoints+displacementVectors\n",
    "    return np.squeeze(displacedPoints), np.squeeze(displacementVectors)"
   ]
  },
  {
   "cell_type": "code",
   "execution_count": null,
   "metadata": {},
   "outputs": [],
   "source": []
  },
  {
   "cell_type": "code",
   "execution_count": null,
   "metadata": {},
   "outputs": [],
   "source": []
  },
  {
   "cell_type": "code",
   "execution_count": null,
   "metadata": {},
   "outputs": [],
   "source": []
  },
  {
   "cell_type": "code",
   "execution_count": null,
   "metadata": {},
   "outputs": [],
   "source": []
  },
  {
   "cell_type": "code",
   "execution_count": null,
   "metadata": {},
   "outputs": [],
   "source": []
  },
  {
   "cell_type": "code",
   "execution_count": null,
   "metadata": {},
   "outputs": [],
   "source": []
  },
  {
   "cell_type": "code",
   "execution_count": null,
   "metadata": {},
   "outputs": [],
   "source": []
  },
  {
   "cell_type": "code",
   "execution_count": null,
   "metadata": {},
   "outputs": [],
   "source": []
  },
  {
   "cell_type": "code",
   "execution_count": null,
   "metadata": {},
   "outputs": [],
   "source": []
  },
  {
   "cell_type": "code",
   "execution_count": null,
   "metadata": {},
   "outputs": [],
   "source": []
  },
  {
   "cell_type": "code",
   "execution_count": null,
   "metadata": {},
   "outputs": [],
   "source": []
  },
  {
   "cell_type": "code",
   "execution_count": null,
   "metadata": {},
   "outputs": [],
   "source": []
  },
  {
   "cell_type": "code",
   "execution_count": null,
   "metadata": {},
   "outputs": [],
   "source": []
  },
  {
   "cell_type": "code",
   "execution_count": null,
   "metadata": {},
   "outputs": [],
   "source": []
  },
  {
   "cell_type": "code",
   "execution_count": null,
   "metadata": {},
   "outputs": [],
   "source": []
  },
  {
   "cell_type": "code",
   "execution_count": null,
   "metadata": {},
   "outputs": [],
   "source": []
  },
  {
   "cell_type": "code",
   "execution_count": null,
   "metadata": {},
   "outputs": [],
   "source": []
  },
  {
   "cell_type": "code",
   "execution_count": null,
   "metadata": {},
   "outputs": [],
   "source": []
  },
  {
   "cell_type": "code",
   "execution_count": null,
   "metadata": {},
   "outputs": [],
   "source": []
  },
  {
   "cell_type": "code",
   "execution_count": null,
   "metadata": {},
   "outputs": [],
   "source": []
  },
  {
   "cell_type": "code",
   "execution_count": null,
   "metadata": {},
   "outputs": [],
   "source": []
  },
  {
   "cell_type": "code",
   "execution_count": null,
   "metadata": {},
   "outputs": [],
   "source": []
  },
  {
   "cell_type": "code",
   "execution_count": null,
   "metadata": {},
   "outputs": [],
   "source": []
  }
 ],
 "metadata": {
  "kernelspec": {
   "display_name": "Python 2",
   "language": "python",
   "name": "python2"
  },
  "language_info": {
   "codemirror_mode": {
    "name": "ipython",
    "version": 2
   },
   "file_extension": ".py",
   "mimetype": "text/x-python",
   "name": "python",
   "nbconvert_exporter": "python",
   "pygments_lexer": "ipython2",
   "version": "2.7.12"
  }
 },
 "nbformat": 4,
 "nbformat_minor": 2
}
