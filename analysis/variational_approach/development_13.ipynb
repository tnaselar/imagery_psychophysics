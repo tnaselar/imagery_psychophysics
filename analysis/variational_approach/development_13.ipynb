{
 "cells": [
  {
   "cell_type": "markdown",
   "metadata": {},
   "source": [
    "### Here we train on fake data using new window design, and prototype some new metrics for analyzing q(Z)"
   ]
  },
  {
   "cell_type": "code",
   "execution_count": 1,
   "metadata": {},
   "outputs": [
    {
     "name": "stderr",
     "output_type": "stream",
     "text": [
      "Can not use cuDNN on context None: cannot compile with cuDNN. We got this error:\n",
      "/tmp/try_flags_vauK_a.c:4:19: fatal error: cudnn.h: No such file or directory\n",
      "compilation terminated.\n",
      "\n",
      "Mapped name None to device cuda: GeForce GTX TITAN X (0000:01:00.0)\n"
     ]
    }
   ],
   "source": [
    "import imagery_psychophysics.src.variational as very\n",
    "import numpy as np\n",
    "import math\n",
    "import copy\n",
    "from matplotlib import pyplot as plt\n",
    "from os.path import join\n",
    "from PIL.Image import open as open_image\n",
    "from mpl_toolkits.axes_grid1 import ImageGrid\n",
    "from mpl_toolkits.axes_grid1 import make_axes_locatable"
   ]
  },
  {
   "cell_type": "markdown",
   "metadata": {},
   "source": [
    "### Create the fake data"
   ]
  },
  {
   "cell_type": "markdown",
   "metadata": {},
   "source": [
    "Set up basic model parameters and objects"
   ]
  },
  {
   "cell_type": "code",
   "execution_count": 132,
   "metadata": {},
   "outputs": [],
   "source": [
    "##model variable parameters\n",
    "K = 4\n",
    "D1,D2 = 8,8\n",
    "dispersion = 2.2\n",
    "pon,poff = 0.95, .01\n",
    "\n",
    "##number of objects\n",
    "nObj = very.numObjects()\n",
    "nObj.set_value(K)\n",
    "\n",
    "##dispersion on category prior\n",
    "pDisp = very.priorDispersion()\n",
    "pDisp.set_value(dispersion)\n",
    "\n",
    "##resolution of object map Z\n",
    "nPixels = very.numPixels()\n",
    "nPixels.set_value(D1,D2)\n",
    "\n",
    "##category prior and object map\n",
    "catProb = very.categoryProbs(nObj,pDisp)\n",
    "catProb.set_value(catProb.sample())\n",
    "Z = very.latentObjMap(catProb,nPixels)\n",
    "originalZ = copy.deepcopy(Z)\n",
    "\n",
    "\n",
    "##noise params: we don't set these because we're going to learn them\n",
    "nP = very.noiseParams()\n",
    "\n"
   ]
  },
  {
   "cell_type": "markdown",
   "metadata": {},
   "source": [
    "Construct the experimental probes. This is where we determine the native resolution of the experiment, and the working resolution for our analysis."
   ]
  },
  {
   "cell_type": "code",
   "execution_count": 133,
   "metadata": {},
   "outputs": [],
   "source": [
    "##windows\n",
    "DPrime1,DPrime2 = 8*D1, 8*D2 ##this gives the \"native resolution\" of the windows\n",
    "shape = (DPrime1,DPrime2)\n",
    "baseShape = (8, 8) ##size in pixels of the smallest probes\n",
    "numScales = 4 ##number of probe sizes between smallest and native resolution\n",
    "stride = 1 ##how far each probe travels when constructing probes, as a fraction of probe size\n",
    "numRandProbes = 420 ##number of non-contiguous probes\n",
    "randProbeOrder = (3, 7) ##non-contig probes will contain this many patches (range of)\n",
    "windows = very.probes() ##instantiate a windows object\n",
    "W = windows.make_windows(shape, baseShape, numScales, stride, numRandProbes, randProbeOrder) ##create the windows\n",
    "\n",
    "##now, we want to downsample the windows to a more manageable \"working\" resolution.\n",
    "##to do this, we first calculate all of the downsamples that have integer dimensions and preserve the aspect ratio\n",
    "##we set workingScale=n to choose the nth smallest resolution as our working resolution. \n",
    "##NOTE: THIS DOESN'T REALLY WORK BECAUSE EACH NATIVE RESOLUTIONI NEEDS TO BE CLEANLY DIVISIBLE BY WORKING RESOLUTION.\n",
    "##FOR THE \"UPSAMPLING\" OF Z TO WORK. SO, BEST JUST TO WORK WITH NATIVE RESOLUTIONS THAT ARE POWERS OF SOME NUMBER.\n",
    "##LIKE, SAY, 2.\n",
    "#resolutions, workingResolution = windows.resolve(shape, workingScale=-1) \n",
    "\n",
    "##Given the above, we'll just set the working resolution by hand\n",
    "workingResolution = (64,64)\n",
    "\n",
    "##next, we downsample the windows, and set_value\n",
    "windows.set_value(windows.reshape(W, workingResolution),flatten=True)\n",
    "\n"
   ]
  },
  {
   "cell_type": "code",
   "execution_count": 134,
   "metadata": {},
   "outputs": [
    {
     "name": "stdout",
     "output_type": "stream",
     "text": [
      "model resolution: (8,8)\n",
      "native target resolution: (64,64)\n",
      "working resolution: (64,64)\n"
     ]
    }
   ],
   "source": [
    "print 'model resolution: (%d,%d)' %(D1,D2)\n",
    "print 'native target resolution: (%d,%d)' %shape\n",
    "print 'working resolution: (%d,%d)' %workingResolution"
   ]
  },
  {
   "cell_type": "markdown",
   "metadata": {},
   "source": [
    "Create a \"smooth\" but random object map to use as a target image"
   ]
  },
  {
   "cell_type": "code",
   "execution_count": 135,
   "metadata": {},
   "outputs": [
    {
     "data": {
      "image/png": "[encoded data removed]",
      "text/plain": [
       "<matplotlib.figure.Figure at 0x7f0a7c422610>"
      ]
     },
     "metadata": {},
     "output_type": "display_data"
    }
   ],
   "source": [
    "##this gives a 1hot encoding (1, K, D1*D2)\n",
    "targetZOneHot = very.make_object_map_stack(K, 2, 3, (D1,D2), 1)\n",
    "_=Z.view_sample(targetZOneHot,show=True)\n"
   ]
  },
  {
   "cell_type": "markdown",
   "metadata": {},
   "source": [
    "Simulate responses from our experiment"
   ]
  },
  {
   "cell_type": "code",
   "execution_count": 136,
   "metadata": {
    "scrolled": true
   },
   "outputs": [
    {
     "name": "stdout",
     "output_type": "stream",
     "text": [
      "total observations: 504\n"
     ]
    }
   ],
   "source": [
    "\n",
    "##response object\n",
    "r = very.responses(Z,nP)\n",
    "r.set_values(windows=windows)\n",
    "data = r.sample(targetZOneHot,pon,poff)\n",
    "r.set_values(data=data)\n",
    "\n",
    "print 'total observations: %d' %(r.N)"
   ]
  },
  {
   "cell_type": "code",
   "execution_count": 137,
   "metadata": {},
   "outputs": [
    {
     "data": {
      "text/plain": [
       "(array([  4., 107., 174., 188.,  31.]),\n",
       " array([0, 1, 2, 3, 4, 5]),\n",
       " <a list of 5 Patch objects>)"
      ]
     },
     "execution_count": 137,
     "metadata": {},
     "output_type": "execute_result"
    },
    {
     "data": {
      "image/png": "[encoded data removed]",
      "text/plain": [
       "<matplotlib.figure.Figure at 0x7f0a7350c750>"
      ]
     },
     "metadata": {},
     "output_type": "display_data"
    }
   ],
   "source": [
    "plt.hist(r.observations,bins=range(0,K+2),rwidth = .5, align='left')"
   ]
  },
  {
   "cell_type": "markdown",
   "metadata": {},
   "source": [
    "### Train the model on the fake responses"
   ]
  },
  {
   "cell_type": "code",
   "execution_count": 120,
   "metadata": {},
   "outputs": [
    {
     "name": "stdout",
     "output_type": "stream",
     "text": [
      "Automatic pdb calling has been turned ON\n"
     ]
    }
   ],
   "source": [
    "pdb on"
   ]
  },
  {
   "cell_type": "code",
   "execution_count": 138,
   "metadata": {
    "scrolled": true
   },
   "outputs": [
    {
     "name": "stdout",
     "output_type": "stream",
     "text": [
      "!new best!\n",
      "ELBO: -559.256775\n",
      "goodness of fit: -595.639648\n",
      "posterior_entropy: 36.382889\n",
      "mean log of predictive distribution over test samples: -1.293618\n",
      "percent correct over test samples: 46.666667\n",
      "\n",
      "\n",
      "!new best!\n",
      "ELBO: -295.518921\n",
      "goodness of fit: -312.119781\n",
      "posterior_entropy: 16.600845\n",
      "mean log of predictive distribution over test samples: -0.964325\n",
      "percent correct over test samples: 61.111111\n",
      "\n",
      "\n",
      "!new best!\n",
      "ELBO: -253.370132\n",
      "goodness of fit: -268.975677\n",
      "posterior_entropy: 15.605540\n",
      "mean log of predictive distribution over test samples: -0.726041\n",
      "percent correct over test samples: 72.222222\n",
      "\n",
      "\n",
      "!new best!\n",
      "ELBO: -217.094971\n",
      "goodness of fit: -224.575134\n",
      "posterior_entropy: 7.480161\n",
      "mean log of predictive distribution over test samples: -0.575487\n",
      "percent correct over test samples: 78.888889\n",
      "\n",
      "\n",
      "!new best!\n",
      "ELBO: -200.720474\n",
      "goodness of fit: -204.461197\n",
      "posterior_entropy: 3.740721\n",
      "mean log of predictive distribution over test samples: -0.498429\n",
      "percent correct over test samples: 85.555556\n",
      "\n",
      "\n",
      "!new best!\n",
      "ELBO: -176.743454\n",
      "goodness of fit: -177.770340\n",
      "posterior_entropy: 1.026888\n",
      "mean log of predictive distribution over test samples: -0.423281\n",
      "percent correct over test samples: 90.000000\n",
      "\n",
      "\n",
      "ELBO: -176.800415\n",
      "goodness of fit: -177.828766\n",
      "posterior_entropy: 1.028344\n",
      "mean log of predictive distribution over test samples: -0.430179\n",
      "percent correct over test samples: 90.000000\n",
      "\n",
      "\n",
      "ELBO: -176.747391\n",
      "goodness of fit: -177.770340\n",
      "posterior_entropy: 1.022953\n",
      "mean log of predictive distribution over test samples: -0.429341\n",
      "percent correct over test samples: 90.000000\n",
      "\n",
      "\n",
      "ELBO: -176.867798\n",
      "goodness of fit: -177.887177\n",
      "posterior_entropy: 1.019381\n",
      "mean log of predictive distribution over test samples: -0.436239\n",
      "percent correct over test samples: 90.000000\n",
      "\n",
      "\n",
      "ELBO: -176.696304\n",
      "goodness of fit: -177.711929\n",
      "posterior_entropy: 1.015629\n",
      "mean log of predictive distribution over test samples: -0.423281\n",
      "percent correct over test samples: 90.000000\n",
      "\n",
      "\n",
      "ELBO: -176.799866\n",
      "goodness of fit: -177.828766\n",
      "posterior_entropy: 1.028895\n",
      "mean log of predictive distribution over test samples: -0.423281\n",
      "percent correct over test samples: 90.000000\n",
      "\n",
      "\n",
      "ELBO: -176.753922\n",
      "goodness of fit: -177.770340\n",
      "posterior_entropy: 1.016416\n",
      "mean log of predictive distribution over test samples: -0.430179\n",
      "percent correct over test samples: 90.000000\n",
      "\n",
      "\n",
      "ELBO: -176.918152\n",
      "goodness of fit: -177.945587\n",
      "posterior_entropy: 1.027436\n",
      "mean log of predictive distribution over test samples: -0.423281\n",
      "percent correct over test samples: 90.000000\n",
      "\n",
      "\n",
      "ELBO: -176.751907\n",
      "goodness of fit: -177.770340\n",
      "posterior_entropy: 1.018439\n",
      "mean log of predictive distribution over test samples: -0.440257\n",
      "percent correct over test samples: 87.777778\n",
      "\n",
      "\n",
      "ELBO: -176.795013\n",
      "goodness of fit: -177.828766\n",
      "posterior_entropy: 1.033754\n",
      "mean log of predictive distribution over test samples: -0.423281\n",
      "percent correct over test samples: 90.000000\n",
      "\n",
      "\n",
      "ELBO: -176.792770\n",
      "goodness of fit: -177.828766\n",
      "posterior_entropy: 1.035990\n",
      "mean log of predictive distribution over test samples: -0.430179\n",
      "percent correct over test samples: 90.000000\n",
      "\n",
      "\n",
      "ELBO: -176.751511\n",
      "goodness of fit: -177.770340\n",
      "posterior_entropy: 1.018824\n",
      "mean log of predictive distribution over test samples: -0.430179\n",
      "percent correct over test samples: 90.000000\n",
      "\n",
      "\n",
      "ELBO: -178.739151\n",
      "goodness of fit: -179.770889\n",
      "posterior_entropy: 1.031733\n",
      "mean log of predictive distribution over test samples: -0.423281\n",
      "percent correct over test samples: 90.000000\n",
      "\n",
      "\n",
      "ELBO: -176.806946\n",
      "goodness of fit: -177.828766\n",
      "posterior_entropy: 1.021819\n",
      "mean log of predictive distribution over test samples: -0.430179\n",
      "percent correct over test samples: 90.000000\n",
      "\n",
      "\n",
      "ELBO: -177.780365\n",
      "goodness of fit: -178.803543\n",
      "posterior_entropy: 1.023183\n",
      "mean log of predictive distribution over test samples: -0.430179\n",
      "percent correct over test samples: 90.000000\n",
      "\n",
      "\n",
      "ELBO: -176.746201\n",
      "goodness of fit: -177.770340\n",
      "posterior_entropy: 1.024135\n",
      "mean log of predictive distribution over test samples: -0.430179\n",
      "percent correct over test samples: 90.000000\n",
      "\n",
      "\n",
      "ELBO: -176.794769\n",
      "goodness of fit: -177.828766\n",
      "posterior_entropy: 1.033995\n",
      "mean log of predictive distribution over test samples: -0.430179\n",
      "percent correct over test samples: 90.000000\n",
      "\n",
      "\n",
      "ELBO: -176.695984\n",
      "goodness of fit: -177.711929\n",
      "posterior_entropy: 1.015944\n",
      "mean log of predictive distribution over test samples: -0.430179\n",
      "percent correct over test samples: 90.000000\n",
      "\n",
      "\n",
      "ELBO: -179.153656\n",
      "goodness of fit: -180.177246\n",
      "posterior_entropy: 1.023590\n",
      "mean log of predictive distribution over test samples: -0.430179\n",
      "percent correct over test samples: 90.000000\n",
      "\n",
      "\n",
      "ELBO: -176.694229\n",
      "goodness of fit: -177.711929\n",
      "posterior_entropy: 1.017707\n",
      "mean log of predictive distribution over test samples: -0.418028\n",
      "percent correct over test samples: 90.000000\n",
      "\n",
      "\n",
      "ELBO: -176.803619\n",
      "goodness of fit: -177.828766\n",
      "posterior_entropy: 1.025142\n",
      "mean log of predictive distribution over test samples: -0.423281\n",
      "percent correct over test samples: 90.000000\n",
      "\n",
      "\n",
      "ELBO: -176.778870\n",
      "goodness of fit: -177.770340\n",
      "posterior_entropy: 0.991469\n",
      "mean log of predictive distribution over test samples: -0.430179\n",
      "percent correct over test samples: 90.000000\n",
      "\n",
      "\n",
      "ELBO: -177.780197\n",
      "goodness of fit: -178.803543\n",
      "posterior_entropy: 1.023349\n",
      "mean log of predictive distribution over test samples: -0.436239\n",
      "percent correct over test samples: 90.000000\n",
      "\n",
      "\n",
      "ELBO: -176.866089\n",
      "goodness of fit: -177.887177\n",
      "posterior_entropy: 1.021089\n",
      "mean log of predictive distribution over test samples: -0.418028\n",
      "percent correct over test samples: 90.000000\n",
      "\n",
      "\n",
      "ELBO: -176.693054\n",
      "goodness of fit: -177.711929\n",
      "posterior_entropy: 1.018875\n",
      "mean log of predictive distribution over test samples: -0.428095\n",
      "percent correct over test samples: 90.000000\n",
      "\n",
      "\n",
      "ELBO: -177.692535\n",
      "goodness of fit: -178.673813\n",
      "posterior_entropy: 0.981281\n",
      "mean log of predictive distribution over test samples: -0.418028\n",
      "percent correct over test samples: 90.000000\n",
      "\n",
      "\n"
     ]
    }
   ],
   "source": [
    "##instantiate the variational inferences we want to perform\n",
    "iqZ = very.inferQZ()\n",
    "iqPi = very.inferQPi()\n",
    "\n",
    "##...and the parameter optimizations (point-estimate) we want\n",
    "oNP = very.optimizeNoiseParams()\n",
    "\n",
    "##variational inference combines them all together\n",
    "vi = very.VI(r, iqZ,oNP, iqPi)\n",
    "\n",
    "### Run variational inference\n",
    "\n",
    "##inference algorithm parameters\n",
    "initialNoisinessOfZ = 0.2\n",
    "pOn_init, pOff_init = .95, 0.05\n",
    "densityOfNoiseParamGrid = 50\n",
    "numStarterMaps = 50\n",
    "numSamplesForComputingObjectCountProbs = 4\n",
    "maxNumIterations = 30\n",
    "trainTestSplit = .9\n",
    "trainRegSplit = .8\n",
    "pixelNumOverMin = 2\n",
    "objectNumOverMin = 2\n",
    "\n",
    "bestModel,_=vi.run_VI(initialNoisinessOfZ, \\\n",
    "                     pOn_init, pOff_init, \\\n",
    "                     densityOfNoiseParamGrid, \\\n",
    "                     numStarterMaps, \\\n",
    "                     numSamplesForComputingObjectCountProbs, \\\n",
    "                     maxNumIterations, \\\n",
    "                     trainTestSplit, trainRegSplit, \\\n",
    "                     optimizeHyperParams=False)"
   ]
  },
  {
   "cell_type": "code",
   "execution_count": 139,
   "metadata": {},
   "outputs": [
    {
     "data": {
      "text/plain": [
       "array([90.])"
      ]
     },
     "execution_count": 139,
     "metadata": {},
     "output_type": "execute_result"
    }
   ],
   "source": [
    "vi.bestPercentCorrect"
   ]
  },
  {
   "cell_type": "code",
   "execution_count": 140,
   "metadata": {},
   "outputs": [
    {
     "data": {
      "text/plain": [
       "array([90.])"
      ]
     },
     "execution_count": 140,
     "metadata": {},
     "output_type": "execute_result"
    }
   ],
   "source": [
    "bestModel.bestPercentCorrect"
   ]
  },
  {
   "cell_type": "code",
   "execution_count": 141,
   "metadata": {},
   "outputs": [],
   "source": [
    "bestModel.update_current(bestModel.testIdx)\n"
   ]
  },
  {
   "cell_type": "code",
   "execution_count": 143,
   "metadata": {},
   "outputs": [
    {
     "name": "stdout",
     "output_type": "stream",
     "text": [
      "chance percent correct: 25.000000\n",
      "model percent correct: 88.000000\n"
     ]
    }
   ],
   "source": [
    "print 'chance percent correct: %f' %(1./K*100)\n",
    "print 'model percent correct: %f' %(very.percent_correct(bestModel))\n"
   ]
  },
  {
   "cell_type": "code",
   "execution_count": 144,
   "metadata": {},
   "outputs": [
    {
     "data": {
      "text/plain": [
       "array([0.937898  , 0.02134561], dtype=float32)"
      ]
     },
     "execution_count": 144,
     "metadata": {},
     "output_type": "execute_result"
    }
   ],
   "source": [
    "bestModel.bestNoiseParam"
   ]
  },
  {
   "cell_type": "markdown",
   "metadata": {},
   "source": [
    "#### View target and posterior"
   ]
  },
  {
   "cell_type": "code",
   "execution_count": 145,
   "metadata": {},
   "outputs": [
    {
     "data": {
      "image/png": "[encoded data removed]",
      "text/plain": [
       "<matplotlib.figure.Figure at 0x7f0ab78f8710>"
      ]
     },
     "metadata": {},
     "output_type": "display_data"
    }
   ],
   "source": [
    "bestModel.see_Q_Z(bestModel.bestQZ)"
   ]
  },
  {
   "cell_type": "code",
   "execution_count": 146,
   "metadata": {},
   "outputs": [
    {
     "data": {
      "image/png": "[encoded data removed]",
      "text/plain": [
       "<matplotlib.figure.Figure at 0x7f0a7c5e0510>"
      ]
     },
     "metadata": {},
     "output_type": "display_data"
    }
   ],
   "source": [
    "##view the target image, return a canonical (D1, D2) format image\n",
    "targetZCanonical=Z.view_sample(targetZOneHot,show=False)\n",
    "fig=plt.figure(3,(30,10))\n",
    "grid = ImageGrid(fig, 111, # similar to subplot(111)\n",
    "                nrows_ncols = (1, K), # creates grid of axes\n",
    "                axes_pad=0.5, # pad between axes in inch.\n",
    "                cbar_mode = 'each',\n",
    "                cbar_pad = .05\n",
    "                )\n",
    "for kk in range(0,K):\n",
    "    im = grid[kk].imshow(targetZCanonical,interpolation = 'nearest')\n",
    "    grid[kk].cax.colorbar(im)    \n"
   ]
  },
  {
   "cell_type": "code",
   "execution_count": 157,
   "metadata": {},
   "outputs": [
    {
     "data": {
      "text/plain": [
       "array(4, dtype=int32)"
      ]
     },
     "execution_count": 157,
     "metadata": {},
     "output_type": "execute_result"
    }
   ],
   "source": [
    "bestModel.responses.Z.categoryPrior.numObjects.K"
   ]
  },
  {
   "cell_type": "markdown",
   "metadata": {},
   "source": [
    "#### Pixel entropy maps\n",
    "Just map the entropy of the posterior at each pixel"
   ]
  },
  {
   "cell_type": "code",
   "execution_count": 151,
   "metadata": {},
   "outputs": [],
   "source": [
    "def pixel_entropy_map(trainedModel):\n",
    "    qZ = trainedModel.bestQZ\n",
    "    shape = (trainedModel.responses.Z.numPixels.D1, trainedModel.responses.Z.numPixels.D2)\n",
    "    entropyOneHot = np.sum(qZ*np.log(qZ),axis=0)\n",
    "    entropyCanoncial = entropyOneHot.reshape((shape))\n",
    "    return entropyOneHot, entropyCanoncial\n",
    "    "
   ]
  },
  {
   "cell_type": "code",
   "execution_count": 155,
   "metadata": {},
   "outputs": [
    {
     "data": {
      "text/plain": [
       "<matplotlib.colorbar.Colorbar at 0x7f0a7c683750>"
      ]
     },
     "execution_count": 155,
     "metadata": {},
     "output_type": "execute_result"
    },
    {
     "data": {
      "image/png": "[encoded data removed]",
      "text/plain": [
       "<matplotlib.figure.Figure at 0x7f0a754ab190>"
      ]
     },
     "metadata": {},
     "output_type": "display_data"
    }
   ],
   "source": [
    "_,entropyCanonical = pixel_entropy_map(bestModel)\n",
    "plt.imshow(entropyCanonical)\n",
    "plt.colorbar()"
   ]
  },
  {
   "cell_type": "markdown",
   "metadata": {},
   "source": [
    "#### compute pixelwise co-membership probability maps (pixelcom map)\n",
    "For each pixel, map the probability of all other pixels belonging to same object.\n",
    "Create a stack of such \"pixelcom\" maps.\n",
    "Real images will have degenerate (i.e., binary) pixelcom maps"
   ]
  },
  {
   "cell_type": "code",
   "execution_count": 422,
   "metadata": {},
   "outputs": [],
   "source": [
    "def pixelwise_comembership(trainedModel, alternateQZ= None):\n",
    "    if alternateQZ is not None:\n",
    "        qZ = alternateQZ\n",
    "    else:\n",
    "        qZ = trainedModel.bestQZ\n",
    "    D1,D2 = (trainedModel.responses.Z.numPixels.D1, trainedModel.responses.Z.numPixels.D2)\n",
    "    K = trainedModel.responses.Z.categoryPrior.numObjects.K\n",
    "    comemMatrix = qZ.T.dot(qZ)\n",
    "    comemStack = comemMatrix.reshape((D1*D2,D1,D2))\n",
    "    rows,cols=np.unravel_index(range(D1*D2),(D1,D2))\n",
    "    coordinateOfEachPixelInStack = np.array([cols,rows]).T\n",
    "    return comemMatrix, comemStack, coordinateOfEachPixelInStack\n",
    "    \n"
   ]
  },
  {
   "cell_type": "code",
   "execution_count": 423,
   "metadata": {},
   "outputs": [
    {
     "data": {
      "text/plain": [
       "<matplotlib.colorbar.Colorbar at 0x7f0a654c36d0>"
      ]
     },
     "execution_count": 423,
     "metadata": {},
     "output_type": "execute_result"
    },
    {
     "data": {
      "image/png": "[encoded data removed]",
      "text/plain": [
       "<matplotlib.figure.Figure at 0x7f0a65771d10>"
      ]
     },
     "metadata": {},
     "output_type": "display_data"
    }
   ],
   "source": [
    "comemMatrix, comemStack, ij = pixelwise_comembership(bestModel)\n",
    "plt.imshow(comemMatrix)\n",
    "plt.colorbar()"
   ]
  },
  {
   "cell_type": "code",
   "execution_count": 421,
   "metadata": {},
   "outputs": [],
   "source": [
    "import numpy as np"
   ]
  },
  {
   "cell_type": "code",
   "execution_count": 211,
   "metadata": {},
   "outputs": [
    {
     "data": {
      "image/png": "[encoded data removed]",
      "text/plain": [
       "<matplotlib.figure.Figure at 0x7f0a66fbd5d0>"
      ]
     },
     "metadata": {},
     "output_type": "display_data"
    }
   ],
   "source": [
    "bestModel.see_Q_Z(bestModel.bestQZ)"
   ]
  },
  {
   "cell_type": "code",
   "execution_count": 212,
   "metadata": {},
   "outputs": [
    {
     "data": {
      "text/plain": [
       "<matplotlib.colorbar.Colorbar at 0x7f0a7c911e50>"
      ]
     },
     "execution_count": 212,
     "metadata": {},
     "output_type": "execute_result"
    },
    {
     "data": {
      "image/png": "[encoded data removed]",
      "text/plain": [
       "<matplotlib.figure.Figure at 0x7f0a670a8450>"
      ]
     },
     "metadata": {},
     "output_type": "display_data"
    }
   ],
   "source": [
    "idx = 28\n",
    "plt.subplot(1,2,1)\n",
    "plt.imshow(targetZCanonical)\n",
    "ax =plt.subplot(1,2,2)\n",
    "im = ax.imshow(comemStack[idx])\n",
    "ax.plot(ij[idx][0],ij[idx][1], 'r*')\n",
    "divider = make_axes_locatable(ax)\n",
    "cax = divider.append_axes(\"right\", size=\"5%\", pad=0.05)\n",
    "plt.colorbar(im, cax=cax)\n"
   ]
  },
  {
   "cell_type": "code",
   "execution_count": 213,
   "metadata": {},
   "outputs": [
    {
     "data": {
      "text/plain": [
       "<matplotlib.colorbar.Colorbar at 0x7f0a6c6b1b50>"
      ]
     },
     "execution_count": 213,
     "metadata": {},
     "output_type": "execute_result"
    },
    {
     "data": {
      "image/png": "[encoded data removed]",
      "text/plain": [
       "<matplotlib.figure.Figure at 0x7f0a7d005850>"
      ]
     },
     "metadata": {},
     "output_type": "display_data"
    }
   ],
   "source": [
    "idx = 27\n",
    "plt.subplot(1,2,1)\n",
    "plt.imshow(targetZCanonical)\n",
    "ax =plt.subplot(1,2,2)\n",
    "im = ax.imshow(comemStack[idx])\n",
    "ax.plot(ij[idx][0],ij[idx][1], 'r*')\n",
    "divider = make_axes_locatable(ax)\n",
    "cax = divider.append_axes(\"right\", size=\"5%\", pad=0.05)\n",
    "plt.colorbar(im, cax=cax)\n"
   ]
  },
  {
   "cell_type": "code",
   "execution_count": 342,
   "metadata": {},
   "outputs": [
    {
     "data": {
      "text/plain": [
       "4096"
      ]
     },
     "execution_count": 342,
     "metadata": {},
     "output_type": "execute_result"
    }
   ],
   "source": [
    "64**2"
   ]
  },
  {
   "cell_type": "markdown",
   "metadata": {},
   "source": [
    "#### Calculate the probability of a comembership matrix under qZ"
   ]
  },
  {
   "cell_type": "code",
   "execution_count": 453,
   "metadata": {},
   "outputs": [],
   "source": [
    "def log_prob_comembership_matrix(trainedModel,objectMap):\n",
    "    small = 10e-16\n",
    "    big = 1-small\n",
    "    expectedComemMatrix,_,_ = pixelwise_comembership(trainedModel)\n",
    "    ##note: for this to work, alternateQZ must be an object map (i.e., a degenerate qZ)\n",
    "    objectComemMatrix,_,_ = pixelwise_comembership(trainedModel,alternateQZ=objectMap)\n",
    "    C = np.clip(expectedComemMatrix.astype('float64'),small,big)\n",
    "    A = objectComemMatrix.astype('float64')\n",
    "    logC = np.log(C)\n",
    "    logOneMinusC = np.log(1-C)\n",
    "    logProb = np.sum(np.sum(A*logC+(1-A)*logOneMinusC))\n",
    "    return logProb\n",
    "    "
   ]
  },
  {
   "cell_type": "code",
   "execution_count": 454,
   "metadata": {
    "scrolled": true
   },
   "outputs": [
    {
     "name": "stdout",
     "output_type": "stream",
     "text": [
      "-57.77449156259497\n"
     ]
    }
   ],
   "source": [
    "logProbComem = log_prob_comembership_matrix(bestModel, targetZOneHot[0])\n",
    "print logProbComem"
   ]
  },
  {
   "cell_type": "markdown",
   "metadata": {},
   "source": [
    "#### Use comembership matrix to perform image identification\n",
    "Simply calculate the probability of many random object maps using comemebership matrix"
   ]
  },
  {
   "cell_type": "code",
   "execution_count": 455,
   "metadata": {},
   "outputs": [],
   "source": [
    "def posterior_image_identification(trainedModel, candidateObjectMapStack):\n",
    "    ##big nasty loop\n",
    "    N = candidateObjectMapStack.shape[0]\n",
    "    measuredComemMatrix = pixelwise_comembership(trainedModel)\n",
    "    logProbs = np.zeros(N)\n",
    "    for i,objectMap in enumerate(candidateObjectMapStack):    \n",
    "        logProbs[i]=log_prob_comembership_matrix(trainedModel, objectMap)\n",
    "    return logProbs, np.argmax(logProbs)"
   ]
  },
  {
   "cell_type": "code",
   "execution_count": 456,
   "metadata": {},
   "outputs": [
    {
     "name": "stdout",
     "output_type": "stream",
     "text": [
      "best Z: 100\n"
     ]
    },
    {
     "data": {
      "image/png": "[encoded data removed]",
      "text/plain": [
       "<matplotlib.figure.Figure at 0x7f0a66331cd0>"
      ]
     },
     "metadata": {},
     "output_type": "display_data"
    }
   ],
   "source": [
    "targIdx = 100\n",
    "lureZ = very.make_object_map_stack(K, 2, 3, (D1,D2), 1000)\n",
    "lureZ[targIdx] = targetZOneHot[0]\n",
    "logProbs, bestZ = posterior_image_identification(bestModel, lureZ)\n",
    "_=plt.hist(logProbs, bins=100, log=True)\n",
    "print 'best Z: %d' %(targIdx)"
   ]
  },
  {
   "cell_type": "markdown",
   "metadata": {},
   "source": [
    "#### Calculate the expected value of a comembership matrix\n",
    "1) generate tons of maps from trained models\n",
    "2) calculate log_prob_of_comembership_matrix for each sample\n",
    "3) average."
   ]
  },
  {
   "cell_type": "code",
   "execution_count": null,
   "metadata": {},
   "outputs": [],
   "source": [
    "def expected_log_prob_comembership_matrix(trainedModel, M=100, known=None):\n",
    "    ##big nasty loop\n",
    "    expectedComemMatrix = pixelwise_comembership(trainedModel)\n",
    "    logProbs = np.zeros(M)\n",
    "    sampleMaps = trainedModel.responses.Z.sample(M=M)\n",
    "    k\n",
    "    for i,objectMap in enumerate(sampleMaps):    \n",
    "        logProbs[i]=log_prob_comembership_matrix(trainedModel, objectMap)\n",
    "    return logProbs, np.argmax(logProbs)"
   ]
  },
  {
   "cell_type": "code",
   "execution_count": null,
   "metadata": {},
   "outputs": [],
   "source": [
    "bestModel.responses.Z.sample"
   ]
  },
  {
   "cell_type": "code",
   "execution_count": 427,
   "metadata": {},
   "outputs": [],
   "source": [
    "from imagery_psychophysics.src.stirling_maps import stirling_num_of_2nd_kind as snk\n",
    "from imagery_psychophysics.src.stirling_maps import stirling_partitions"
   ]
  },
  {
   "cell_type": "markdown",
   "metadata": {},
   "source": [
    "#### Some code for generating all possible object maps for a small number of objects/pixels"
   ]
  },
  {
   "cell_type": "code",
   "execution_count": 446,
   "metadata": {},
   "outputs": [],
   "source": [
    "##but need to sum over all numbers of objects from 1 to K, because these are all on the support of q\n",
    "num = snk(9,3)\n",
    "sp = stirling_partitions(range(9),3)"
   ]
  },
  {
   "cell_type": "code",
   "execution_count": 444,
   "metadata": {},
   "outputs": [
    {
     "data": {
      "text/plain": [
       "[[0, 1, 2, 3, 4, 5, 6], [7], [8]]"
      ]
     },
     "execution_count": 444,
     "metadata": {},
     "output_type": "execute_result"
    }
   ],
   "source": [
    "sp.next()"
   ]
  },
  {
   "cell_type": "code",
   "execution_count": 438,
   "metadata": {},
   "outputs": [
    {
     "data": {
      "text/plain": [
       "<method-wrapper 'next' of generator object at 0x7f0a669215a0>"
      ]
     },
     "execution_count": 438,
     "metadata": {},
     "output_type": "execute_result"
    }
   ],
   "source": [
    "foo"
   ]
  },
  {
   "cell_type": "code",
   "execution_count": 450,
   "metadata": {},
   "outputs": [],
   "source": [
    "maps = np.zeros((int(num), 3,9))\n",
    "for ii,obj in enumerate(sp):\n",
    "    for k in range(3):\n",
    "        maps[ii][k][obj.pop()]=1\n"
   ]
  },
  {
   "cell_type": "markdown",
   "metadata": {},
   "source": [
    "#### Use the expected probability of pixel comembership to determine optimal sizes and positions of objects in target image\n",
    "They should match the true sizes and positions. Should be harder to tell "
   ]
  },
  {
   "cell_type": "markdown",
   "metadata": {},
   "source": [
    "#### compute KL divergence (crossentropy, entropy)"
   ]
  },
  {
   "cell_type": "markdown",
   "metadata": {},
   "source": [
    "#### ----------------- Tossed ---------------------"
   ]
  },
  {
   "cell_type": "code",
   "execution_count": null,
   "metadata": {},
   "outputs": [],
   "source": [
    "\n",
    "# ##==========construct model random variables\n",
    "# ##number of objects\n",
    "# nObj = numObjects()\n",
    "\n",
    "# ##dispersion on category prior: here we set a hyperprior\n",
    "# pDisp = priorDispersion()\n",
    "# dispersion = 1.0\n",
    "# pDisp.set_value(dispersion)\n",
    "\n",
    "# ##resolution of object map Z\n",
    "# nPixels = numPixels()\n",
    "\n",
    "# ##category prior and object map\n",
    "# catProb = categoryProbs(nObj,pDisp)\n",
    "# Z = latentObjMap(catProb,nPixels)\n",
    "\n",
    "# ##noise params\n",
    "# nP = noiseParams()\n",
    "\n",
    "# ##windows: we change their shape a little to make them easier to work with\n",
    "# desiredWindowShape = (375,600)\n",
    "# workingScale = 5\n",
    "# w = probes()\n",
    "# resolutions, workingResolution = w.resolve(desiredWindowShape, workingScale)\n",
    "# w.set_value(w.reshape(windows, workingResolution),flatten=True)\n",
    "# print 'working resolution is (%d, %d)' %(workingResolution[0], workingResolution[1])\n",
    "\n",
    "\n",
    "# ##response object\n",
    "# r = responses(Z,nP)\n",
    "\n",
    "# ##fake data\n",
    "# r.set_values(windows=w)\n",
    "\n",
    "# r.set_values(data=resp)\n",
    "\n",
    "# print 'total observations: %d' %(r.N)\n",
    "\n",
    "# tMap = target_image()\n",
    "# targetObjectMap_test, targetImage_test = tMap.reshape(targetObjectMap,workingResolution,targetImage=targetImage)\n",
    "# tMap.set_values(targetObjectMap_test, targetImage_test)\n",
    "# ##=============\n",
    "\n",
    "# ##instantiate the variational inferences we want to perform\n",
    "# iqZ = inferQZ()\n",
    "# iqPi = inferQPi()\n",
    "\n",
    "# ##...and the parameter optimizations (point-estimate) we want\n",
    "# oNP = optimizeNoiseParams()\n",
    "\n",
    "# ##variational inference combines them all together\n",
    "# vi = VI(r, iqZ,oNP, iqPi)\n",
    "\n",
    "# ### Run variational inference\n",
    "\n",
    "# ##inference algorithm parameters\n",
    "# initialNoisinessOfZ = 0.2\n",
    "# pOn_init, pOff_init = .8, 0.2\n",
    "# densityOfNoiseParamGrid = 50\n",
    "# numStarterMaps = 20\n",
    "# numSamplesForComputingObjectCountProbs = 4\n",
    "# maxNumIterations = 50\n",
    "# trainTestSplit = 1.0\n",
    "# trainRegSplit = .8\n",
    "# pixelNumOverMin = 2\n",
    "# objectNumOverMin = 2\n",
    "\n",
    "# print '=========================(subject, state, target) = (%s, %s, %s) ====' %(subject, state, targetImageName)\n",
    "# bestModel = vi.run_VI(initialNoisinessOfZ, \\\n",
    "#                      pOn_init, pOff_init, \\\n",
    "#                      densityOfNoiseParamGrid, \\\n",
    "#                      numStarterMaps, \\\n",
    "#                      numSamplesForComputingObjectCountProbs, \\\n",
    "#                      maxNumIterations, \\\n",
    "#                      trainTestSplit, trainRegSplit, \\\n",
    "#                      optimizeHyperParams=True, pixelNumOverMin=pixelNumOverMin, objectNumOverMin=objectNumOverMin)"
   ]
  },
  {
   "cell_type": "code",
   "execution_count": null,
   "metadata": {},
   "outputs": [],
   "source": [
    "##Create a target image, method 1: Read in an image from a real experiment\n",
    "\n",
    "\n",
    "# ##a real target from a recent experiment\n",
    "# ##which repo?\n",
    "# drive = '/home/tnaselar/FAST/imagery_psychophysics'\n",
    "\n",
    "# ##base directory\n",
    "# base = 'multi_poly_probes'\n",
    "\n",
    "# ##pandas dataframe with all the experimental conditions and data\n",
    "# data_place = 'data'\n",
    "# data_file = 'multi_poly_probe_data_3_subjects.pkl'\n",
    "# subject = 'KL'\n",
    "# state = 'pcp'\n",
    "\n",
    "\n",
    "# ##target images\n",
    "# image_place = 'masks'\n",
    "# target_image_name = 'candle_01'\n",
    "# target_image_file = 'candle_mask_mostbjs.tif'\n",
    "\n",
    "# ##window files\n",
    "# window_place = 'probes'\n",
    "# window_file = 'candle_01_letterbox_img__probe_dict.pkl'\n",
    "\n",
    "\n",
    "# ##open\n",
    "# test_object_map = open_image(join(drive, base, image_place, target_image_file),mode='r').convert('L')\n",
    "\n",
    "# ##record K\n",
    "# values = np.array(np.unique(test_object_map))\n",
    "# targetK = len(values)\n",
    "\n",
    "# ##resize to window, checking for preserved K\n",
    "# test_object_map=test_object_map.resize((test_object_map.size[1], test_object_map.size[0]),)\n",
    "# values = np.array(np.unique(test_object_map))\n",
    "# assert targetK==len(values)\n",
    "\n",
    "# ##digitize, checking \n",
    "# test_object_map=np.digitize(test_object_map, bins=values, right=True ).astype(int)\n",
    "# values = np.array(np.unique(test_object_map))\n",
    "# assert targetK==len(values)\n",
    "\n",
    "# ##one-hot encoding\n",
    "# fullscreenSize = np.prod(test_object_map.size)\n",
    "# test_object_map = np.eye(K)[test_object_map.ravel()].T.reshape((1,targetK,fullscreenSize))\n",
    "\n",
    "# ##view\n",
    "# test_object_map_image = see_Z_sample(test_object_map[0], window_shape, show=False)\n",
    "# plt.imshow(test_object_map_image, cmap='Dark2')\n",
    "# plt.imshow(W[-5].reshape(window_shape).astype('uint8')*255, interpolation='none', alpha = .2, cmap=plt.cm.gray, clim=[0,255])"
   ]
  }
 ],
 "metadata": {
  "kernelspec": {
   "display_name": "Python 2",
   "language": "python",
   "name": "python2"
  },
  "language_info": {
   "codemirror_mode": {
    "name": "ipython",
    "version": 2
   },
   "file_extension": ".py",
   "mimetype": "text/x-python",
   "name": "python",
   "nbconvert_exporter": "python",
   "pygments_lexer": "ipython2",
   "version": "2.7.12"
  }
 },
 "nbformat": 4,
 "nbformat_minor": 2
}
