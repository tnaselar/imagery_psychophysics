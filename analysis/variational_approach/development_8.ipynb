{
 "cells": [
  {
   "cell_type": "code",
   "execution_count": 1,
   "metadata": {
    "collapsed": false
   },
   "outputs": [
    {
     "name": "stderr",
     "output_type": "stream",
     "text": [
      "/home/tnaselar/anaconda/lib/python2.7/site-packages/pandas/computation/__init__.py:19: UserWarning: The installed version of numexpr 2.4.4 is not supported in pandas and will be not be used\n",
      "\n",
      "  UserWarning)\n",
      "Using gpu device 0: GeForce GTX TITAN X (CNMeM is disabled, cuDNN not available)"
     ]
    },
    {
     "name": "stdout",
     "output_type": "stream",
     "text": [
      "Couldn't import dot_parser, loading of dot files will not be possible.\n"
     ]
    },
    {
     "name": "stderr",
     "output_type": "stream",
     "text": [
      "\n"
     ]
    }
   ],
   "source": [
    "##my stuff\n",
    "from imagery_psychophysics.src.stirling_maps import sparse_point_maps as spm\n",
    "from imagery_psychophysics.src.model_z import noise_grid\n",
    "\n",
    "##other people's stuff\n",
    "import math\n",
    "import numpy as np\n",
    "import pandas as pd\n",
    "from PIL.Image import open\n",
    "from PIL import Image\n",
    "from scipy.misc import imresize\n",
    "from os.path import join\n",
    "from mpl_toolkits.axes_grid1 import ImageGrid\n",
    "from matplotlib.colors import LinearSegmentedColormap\n",
    "from scipy.misc import comb as nCk\n",
    "from time import time\n",
    "from theano import tensor as T\n",
    "from theano.sandbox.rng_mrg import MRG_RandomStreams\n",
    "from theano.tensor.shared_randomstreams import RandomStreams\n",
    "from theano import function, shared\n",
    "from theano.tensor.extra_ops import repeat, to_one_hot\n",
    "from matplotlib import pyplot as plt\n",
    "from matplotlib.mlab import griddata\n",
    "%matplotlib inline"
   ]
  },
  {
   "cell_type": "markdown",
   "metadata": {},
   "source": [
    "# In which we introduce an upsampling step to the generative process.\n",
    "So basically we now treat pixels in $Z$ as knot points, then upsample using nearest nbr interpolation to get the sampled object maps. We then base our estimates of count probability on these upsampled maps.\n",
    "\n",
    "We'll call the number of \"knot points\" in the native $Z$-maps $D$, and the number of pixels in the upsampled $Z$-maps $D^{'}$\n",
    "\n",
    "Note: As of 09/27/2017 this is not really working, I think because of a column-vs-row unraveling bug."
   ]
  },
  {
   "cell_type": "markdown",
   "metadata": {},
   "source": [
    "### Theano expressions"
   ]
  },
  {
   "cell_type": "code",
   "execution_count": 2,
   "metadata": {
    "collapsed": true
   },
   "outputs": [],
   "source": [
    "floatX = 'float32'"
   ]
  },
  {
   "cell_type": "markdown",
   "metadata": {},
   "source": [
    "#### Generate samples of object maps from a posterior over object maps"
   ]
  },
  {
   "cell_type": "code",
   "execution_count": 3,
   "metadata": {
    "collapsed": false
   },
   "outputs": [],
   "source": [
    "##the variational posterior over object maps Z\n",
    "##number of objects theano variable\n",
    "_K = T.scalar('objects',dtype='int32')\n",
    "_Q_Z = T.matrix('Q_Z')            ##(K,D)\n",
    "_M = T.scalar('M',dtype='int32')\n",
    "_upscale = T.scalar('upscale', dtype='int32')\n",
    "_Z_shape_0 = T.scalar('Z_shape_0',dtype='int32')\n",
    "_Z_shape_1 = T.scalar('Z_shape_1',dtype='int32')\n",
    "\n",
    "##a theano random number generator\n",
    "rng = MRG_RandomStreams(use_cuda = True)\n",
    "\n",
    "##----sample M Z-maps from posterior Q_Z: (M x K x D)\n",
    "##this gives a one-hot encoding of each pixel\n",
    "_Z_samples = rng.multinomial(pvals = repeat(_Q_Z.T,_M,axis=0)).reshape((_Q_Z.shape[1],_M,_Q_Z.shape[0])).dimshuffle((1,2,0))\n",
    "\n",
    "##this converts back to image format (M x D1 x D2), where D = D1*D2\n",
    "_Z_images = _Z_samples.argmax(axis=1).reshape((_M,_Z_shape_0,_Z_shape_1), ndim=3)\n",
    "\n",
    "##this upsamples the Z-maps using the \"upscale\" factor (M x D1' x D2'), where D' = D1'*D2'\n",
    "_Z_upsamples = T.tile(_Z_images.dimshuffle(0,1,2,'x','x'), (_upscale,_upscale)).transpose(0,1,3,2,4).reshape((_M,_Z_shape_0*_upscale, _Z_shape_1*_upscale))\n",
    "\n",
    "##this just records D', the number of pixels in the upsampled maps\n",
    "_D_prime = T.prod(_Z_upsamples.shape[1:])\n",
    "\n",
    "##this converts the Z-maps back to a one-hot encoding (M x K x D')\n",
    "_Z_upsamples_one_hot = to_one_hot(_Z_upsamples.ravel()-1, _K).reshape((_M, _D_prime, _K)).transpose((0,2,1))"
   ]
  },
  {
   "cell_type": "code",
   "execution_count": 4,
   "metadata": {
    "collapsed": false
   },
   "outputs": [],
   "source": [
    "# D1,D2 = 4,4\n",
    "# upscale = 7\n",
    "# K = 2\n",
    "# M = 3\n",
    "# D_prime = (upscale*D1)**2\n",
    "# foo = _Z_upsamples.eval({_Z_images:np.random.randint(0,K, size=(M,D1,D2)), _upscale:upscale, _M:M, _Z_shape_0:D1, _Z_shape_1:D2})\n",
    "# baz = _Z_upsamples_one_hot.eval({_Z_upsamples:foo, _K:K, _M:M})"
   ]
  },
  {
   "cell_type": "markdown",
   "metadata": {},
   "source": [
    "#### Object count probabilities (was previously calling this \"object responsibility\" because I vaguely remembered this type of jargon from studying EM)."
   ]
  },
  {
   "cell_type": "code",
   "execution_count": 5,
   "metadata": {
    "collapsed": true
   },
   "outputs": [],
   "source": [
    "##block of sampled object maps\n",
    "_Z = T.tensor3('Z') ##(M x K x D)\n",
    "\n",
    "##window index indicator (N X D)\n",
    "_W = T.matrix('windows')\n"
   ]
  },
  {
   "cell_type": "markdown",
   "metadata": {},
   "source": [
    "An expression for an (M,N) matrix of objects counts. Each row provides the object count in each window for one of the M object map samples in Z."
   ]
  },
  {
   "cell_type": "code",
   "execution_count": 6,
   "metadata": {
    "collapsed": false
   },
   "outputs": [],
   "source": [
    "##(M x K x 1 x D)\n",
    "##         N x D\n",
    "##(M x K x N x D)  sum(D)\n",
    "##(M x K x N)      clip(0,1)\n",
    "##(M x K x N)      sum(K)\n",
    "##(M x N)\n",
    "_object_counts = T.sum(_Z.dimshuffle((0,1,'x',2))*_W,axis=-1).clip(0,1).sum(axis=1)"
   ]
  },
  {
   "cell_type": "markdown",
   "metadata": {},
   "source": [
    "Now apply one-hot-encoding and sum across samples and divide to obtain object count probabilities "
   ]
  },
  {
   "cell_type": "code",
   "execution_count": 7,
   "metadata": {
    "collapsed": true
   },
   "outputs": [],
   "source": [
    "\n",
    "##non-normalized object count probs (N x K)\n",
    "_object_count_prob_nn = to_one_hot(_object_counts.astype('int32').flatten()-1,_K).reshape((_object_counts.shape[0],_object_counts.shape[1],_K)).sum(axis=0)\n",
    "\n",
    "##object count probs (N x K)\n",
    "_object_count_prob = _object_count_prob_nn / _object_count_prob_nn.sum(axis=1).reshape((_object_count_prob_nn.shape[0], 1))"
   ]
  },
  {
   "cell_type": "markdown",
   "metadata": {},
   "source": [
    "#### Update variational posterior for one pixel\n",
    "\n",
    "This will be the only update that returns a normalized variational posterior.\n",
    "Uses the object_count_prob matrix above.  \n",
    "Uses a place-holder for log-loglihood (lnP_star)"
   ]
  },
  {
   "cell_type": "code",
   "execution_count": 8,
   "metadata": {
    "collapsed": true
   },
   "outputs": [],
   "source": [
    "##K x N x K tensor of object count probs\n",
    "##the first K is object id, the last K is object count\n",
    "_oc_probs = T.tensor3('oc_probs') \n",
    "\n",
    "##N x K, this will just be the log of P_star. \n",
    "_lnP_star = T.matrix('lnP_star')\n",
    "\n",
    "## K x 1, this is place holder for the dot product between pixel value and expected log of hyperparameters pi\n",
    "_v = T.matrix('prior_penalties')\n",
    "\n",
    "      ##K x N x K oc_probs\n",
    "##(tensordot)\n",
    "          ##N x K lnP_star \n",
    "      ##K x 1     lnQ_z\n",
    "##(add V)\n",
    "      ##K x 1\n",
    "##(exp)\n",
    "      ##K x 1     Q_z_nn\n",
    "##(normalize)\n",
    "      ##K x 1     Q_z, the variational posterior element for one pixel\n",
    "\n",
    "##log of Q_z (minus unknown constant that normalizes things)    \n",
    "_lnQ_z = T.tensordot(_oc_probs, _lnP_star, [[1,2], [0,1]]).dimshuffle([0,'x'])+_v\n",
    "\n",
    "##non-normalized Q_z. we shift by max value to stabilize upcoming exp\n",
    "_Q_z_nn = T.exp(_lnQ_z-T.max(_lnQ_z)) \n",
    "\n",
    "##variational posterior prob for one pixel\n",
    "_Q_z = _Q_z_nn / _Q_z_nn.sum()"
   ]
  },
  {
   "cell_type": "markdown",
   "metadata": {},
   "source": [
    "#### Update rule for the variational log posterior over theta (i.e., the noise parameters).\n",
    "We calculate $ln[q(\\theta)] - const$  \n",
    "We use max of the above for calculating the ELBO.  \n",
    "We use argmax of the above for updating the variational posteriors\n"
   ]
  },
  {
   "cell_type": "code",
   "execution_count": 9,
   "metadata": {
    "collapsed": false
   },
   "outputs": [],
   "source": [
    "_P_theta = T.tensor3('P_theta') ##(G x N x K)\n",
    "_X = T.matrix('oc_prob_dummy') ##N x K ~ this is a place holder for the \"object count prob\" matrix\n",
    "_lkhd_param_grid = T.matrix('lkhd_param_grid') ## G x 2 grid of candidate noise parameters. we must supply.\n",
    "\n",
    "##(G x N x K)\n",
    "##(    N x K)  (dot product, broadcast across G)\n",
    "##(G x 1)  --> because we don't do vectors we reshape to make output 2Dimensional (G x 1)\n",
    "\n",
    "##log of likelihood\n",
    "\n",
    "_ln_P_theta = T.log(_P_theta)\n",
    "\n",
    "##ln q(theta+, theta-) - const (G x 1)\n",
    "_lnQ_theta = T.tensordot(_ln_P_theta, _X, axes=[[1,2], [0,1]],).reshape((_P_theta.shape[0], 1))\n",
    "\n",
    "##---for max approximation\n",
    "\n",
    "##find index of the best lkhd params (scalar integer)\n",
    "_theta_star_idx = T.argmax(_lnQ_theta)\n",
    "# _G = _lkhd_param_grid.shape[0]\n",
    "# _theta_star_idx = T.argsort(_lnQ_theta)[T.iround(_G/2.)]\n",
    "\n",
    "#N x K (windows x object counts)\n",
    "_P_star = _P_theta[_theta_star_idx,:,:]\n",
    "\n",
    "#1 x 2 best likelihood params\n",
    "_theta_star = _lkhd_param_grid[_theta_star_idx,:]\n",
    "\n",
    "##---for full bayesian treatment\n",
    "_lnQ_theta_star = T.max(_lnQ_theta)\n",
    "_Q_theta_nn = T.exp(_lnQ_theta - _lnQ_theta_star)\n",
    "_Q_theta = _Q_theta_nn / _Q_theta_nn.sum()"
   ]
  },
  {
   "cell_type": "markdown",
   "metadata": {},
   "source": [
    "#### Prior over object maps\n",
    "The hyperparameter $\\pi$ is prior over object sizes. It is Dirichlet distributed.  \n",
    "We need $\\mathbb{E}[ln[\\pi]]$ to update Q_z. We'll also need it to calculate the ELBO."
   ]
  },
  {
   "cell_type": "code",
   "execution_count": 10,
   "metadata": {
    "collapsed": true
   },
   "outputs": [],
   "source": [
    "_alpha_0 = T.scalar('alpha_0')\n",
    "_q_Z = T.matrix('q_Z')  ##K x 1, this is result of summing over pixels in Q_Z matrix. very different from Q_z\n",
    "\n",
    "_alpha = _q_Z + _alpha_0 ##broadcasts the scalar _alpha_0 across K\n",
    "\n",
    "##(K x 1) this is needed to update Q_z\n",
    "_Eln_pi = T.psi(_alpha) - T.psi(_alpha.sum())\n",
    "\n",
    "##(K x 1) not needed for update of variational posteriors, but we'll want it for model interpretation\n",
    "_E_pi = _alpha / _alpha.sum()"
   ]
  },
  {
   "cell_type": "markdown",
   "metadata": {},
   "source": [
    "#### Expressions for the ELBO\n",
    "This is an approximate ELBO because:  \n",
    "1. We are using a $ln[q(\\theta^*)]$ instead of $\\mathbb{E}[ln[q(\\theta)]]$, where $\\theta^* = \\underset{\\theta}{\\operatorname{argmax}}  q(\\theta)$.\n",
    "2. We approximate object count probabilities by sampling $M$ object maps from $Q_Z$ and computing a histogram"
   ]
  },
  {
   "cell_type": "code",
   "execution_count": 11,
   "metadata": {
    "collapsed": false
   },
   "outputs": [],
   "source": [
    "_lnQ_theta_star = T.scalar('lnQ_theta_star') ##scalar\n",
    "\n",
    "_Q_Z_holder = T.matrix('Q_Z_holder') ##N x K \n",
    "\n",
    "##scalar: the entropy of the variational posterior\n",
    "a_min = 10e-15\n",
    "a_max = 1\n",
    "_posterior_entropy = -T.tensordot(_Q_Z_holder.clip(a_min,a_max), T.log(_Q_Z_holder.clip(a_min,a_max)))\n",
    "\n",
    "##scalar\n",
    "_badness_of_fit = -_lnQ_theta_star\n",
    "\n",
    "##scalar\n",
    "_ELBO = -_badness_of_fit  + _posterior_entropy"
   ]
  },
  {
   "cell_type": "markdown",
   "metadata": {},
   "source": [
    "#### Expressions for predictive distribution"
   ]
  },
  {
   "cell_type": "code",
   "execution_count": 12,
   "metadata": {
    "collapsed": false
   },
   "outputs": [],
   "source": [
    "_P_star_pred = T.matrix('lkhd_table_pred') ##K x K ~ responses x counts\n",
    "\n",
    "\n",
    "##windows x 1         x counts  |\n",
    "##          responses x counts    tensordot\n",
    "##windows x responses\n",
    "\n",
    "_pred_dist = T.tensordot(_object_count_prob, _P_star_pred, axes = [[1],[1]])\n",
    "\n"
   ]
  },
  {
   "cell_type": "markdown",
   "metadata": {},
   "source": [
    "### Theano functions"
   ]
  },
  {
   "cell_type": "markdown",
   "metadata": {},
   "source": [
    "#### Generate M samples of object maps from a variational posterior over all pixels, Q_Z"
   ]
  },
  {
   "cell_type": "code",
   "execution_count": 13,
   "metadata": {
    "collapsed": false
   },
   "outputs": [],
   "source": [
    "##returns M x K x D_prime (samples x object ids x pixels)\n",
    "##this will be in the upsampled space\n",
    "Z_sample_func = function([_Q_Z,_M,_K,_Z_shape_0,_Z_shape_1,_upscale],outputs=[_Z_upsamples, _Z_upsamples_one_hot])"
   ]
  },
  {
   "cell_type": "code",
   "execution_count": null,
   "metadata": {
    "collapsed": true
   },
   "outputs": [],
   "source": []
  },
  {
   "cell_type": "markdown",
   "metadata": {},
   "source": [
    "#### Estimate object count probabilities from a stack of object map samples Z (given windows W)"
   ]
  },
  {
   "cell_type": "code",
   "execution_count": 14,
   "metadata": {
    "collapsed": true
   },
   "outputs": [],
   "source": [
    "##returns N x K (windows x object counts)\n",
    "object_count_prob_func = function([_Z, _W, _K], outputs = _object_count_prob)"
   ]
  },
  {
   "cell_type": "markdown",
   "metadata": {},
   "source": [
    "#### Update variational posterior for one pixel"
   ]
  },
  {
   "cell_type": "code",
   "execution_count": 15,
   "metadata": {
    "collapsed": false
   },
   "outputs": [],
   "source": [
    "##returns K x 1 (objects ids x 1)\n",
    "Q_z_update_func = function([_oc_probs, _lnP_star, _v], outputs = _Q_z)"
   ]
  },
  {
   "cell_type": "markdown",
   "metadata": {},
   "source": [
    "#### Update likelihood parameters (returns $\\Theta^*$, $P^*$, and $q(\\theta_+, \\theta_-)$)"
   ]
  },
  {
   "cell_type": "code",
   "execution_count": 16,
   "metadata": {
    "collapsed": false
   },
   "outputs": [],
   "source": [
    "##returns theta_star ~ (1 x 2) best lkhd params\n",
    "##returns P_star (N x K) (windows x object counts)\n",
    "##return lnQ_theta G x 1\n",
    "lkhd_update_func = function([_P_theta, _X, _lkhd_param_grid], outputs = [_theta_star, _P_star, _lnQ_theta, _Q_theta])"
   ]
  },
  {
   "cell_type": "markdown",
   "metadata": {},
   "source": [
    "#### Update $\\mathbb{E}[ln[\\pi]]$ and $\\mathbb{E}[\\pi]$"
   ]
  },
  {
   "cell_type": "code",
   "execution_count": 17,
   "metadata": {
    "collapsed": false
   },
   "outputs": [],
   "source": [
    "##returns _Eln_pi (K x 1) (object ids x 1)\n",
    "##returns _E_pi (K x 1) (object ids x 1)\n",
    "prior_update_func = function([_q_Z, _alpha_0], outputs = [_Eln_pi, _E_pi])"
   ]
  },
  {
   "cell_type": "markdown",
   "metadata": {},
   "source": [
    "#### Calculate the ELBO"
   ]
  },
  {
   "cell_type": "code",
   "execution_count": 18,
   "metadata": {
    "collapsed": false
   },
   "outputs": [],
   "source": [
    "## returns three scalar values. ELBO is last\n",
    "ELBO_update_func = function([_Q_Z_holder, _lnQ_theta_star], outputs=[_badness_of_fit, _posterior_entropy, _ELBO])"
   ]
  },
  {
   "cell_type": "markdown",
   "metadata": {},
   "source": [
    "#### Construct predictive distribution"
   ]
  },
  {
   "cell_type": "code",
   "execution_count": 19,
   "metadata": {
    "collapsed": false,
    "scrolled": true
   },
   "outputs": [],
   "source": [
    "\n",
    "pred_dist_func = function([_P_star_pred, _Z, _W, _K], outputs = _pred_dist)"
   ]
  },
  {
   "cell_type": "markdown",
   "metadata": {},
   "source": [
    "### The likelihood function\n",
    "A note on jargon/notation: p_on, p_off = theta_+, theta_- = likelihood parameters = noise parameters"
   ]
  },
  {
   "cell_type": "code",
   "execution_count": 20,
   "metadata": {
    "collapsed": false
   },
   "outputs": [],
   "source": [
    "##helper\n",
    "def counts(r,c,K):\n",
    "    return np.array([nCk(c,m)*nCk(K-c, r-m) for m in range(min(r,c)+1)])\n",
    "\n",
    "##the strange likelihood I derived for this model\n",
    "#\n",
    "def lkhd(r,c,K,p_on,p_off):\n",
    "    probs = np.array([(1-p_on)**(c-m) * (p_on)**m * (p_off)**(r-m) * (1-p_off)**(K-c-r+m) for m in range(min(r,c)+1)])\n",
    "    #print probs\n",
    "    return counts(r,c,K).dot(probs)\n",
    "\n",
    "##create a stack of data likelihood tables for different values of the noise params \n",
    "def lkhd_grid(observed_responses, theta_dns, K):\n",
    "    '''\n",
    "    returns\n",
    "    P_theta ~ G x N x K\n",
    "    lkhd_param_grid ~ G x 2\n",
    "    '''\n",
    "    p_on, p_off = noise_grid(theta_dns,theta_dns)\n",
    "    N = observed_responses.shape[0]  ##number of windows\n",
    "    G = len(p_on) ##number of values of parameters to evaluate\n",
    "    P_theta = np.zeros((G, N, K),dtype=floatX)\n",
    "    lkhd_param_grid = np.zeros((G,2),dtype=floatX)\n",
    "    for g,p in enumerate(zip(p_on,p_off)):\n",
    "        lkhd_param_grid[g,0] = p[0]   ##let's make sure we get all indices in the same order\n",
    "        lkhd_param_grid[g,1] = p[1]\n",
    "        for n in range(N):\n",
    "            for k in range(K):\n",
    "                P_theta[g,n,k]  = lkhd(observed_responses[n].squeeze(),k+1,K, p[0],p[1])\n",
    "    return P_theta, lkhd_param_grid"
   ]
  },
  {
   "cell_type": "markdown",
   "metadata": {},
   "source": [
    "### Machinery for sampling-based likelihood maximization"
   ]
  },
  {
   "cell_type": "code",
   "execution_count": 21,
   "metadata": {
    "collapsed": true
   },
   "outputs": [],
   "source": [
    "##for generating stacks of one-hot-encoded object maps\n",
    "def make_object_map_stack(K, num_rows, num_cols, image_dimensions,num_maps):\n",
    "    size_of_field = int(np.mean(image_dimensions))\n",
    "    D = np.prod(image_dimensions)\n",
    "    object_map_base = spm(num_rows,num_cols,size_of_field,cluster_pref = 'random',number_of_clusters = K)\n",
    "    object_maps = np.zeros((num_maps, K, D))\n",
    "    for nm in range(num_maps):\n",
    "        object_map_base.scatter()\n",
    "        tmp = np.squeeze(object_map_base.nn_interpolation())\n",
    "        tmp = imresize(tmp, image_dimensions, interp='nearest')\n",
    "        ##convert to one_hot encoding\n",
    "        tmp = np.eye(K)[tmp.ravel()-1].T  ##K x D\n",
    "        object_maps[nm] = tmp\n",
    "    return object_maps"
   ]
  },
  {
   "cell_type": "code",
   "execution_count": 22,
   "metadata": {
    "collapsed": true
   },
   "outputs": [],
   "source": [
    "##function for generating object counts\n",
    "##get true object counts for each window\n",
    "def get_object_counts(object_maps, windows):\n",
    "    '''\n",
    "    object_maps   =  M x K x D      newaxis\n",
    "                     M x K x 1 x D\n",
    "        windows   =          N x D  mult\n",
    "                     M x K x N x D  sum(axis=-1)\n",
    "                     M x K x N      clip(0,1).sum(axis=1)\n",
    "    object_counts =  M x   x N      astype(int)\n",
    "    \n",
    "    '''\n",
    "    return np.sum(object_maps[:, :,np.newaxis,:]*windows,axis=-1).clip(0,1).sum(axis=1).astype('int')\n"
   ]
  },
  {
   "cell_type": "code",
   "execution_count": 23,
   "metadata": {
    "collapsed": true
   },
   "outputs": [],
   "source": [
    "def get_noisy_object_counts(object_maps, windows, p_on, p_off):\n",
    "    '''\n",
    "    object_maps   =  M x K x D\n",
    "        windows   =      N x D  \n",
    "    \n",
    "    returns\n",
    "     noisy_object_counts  = M x N\n",
    "    '''\n",
    "    \n",
    "    K = object_maps.shape[1]\n",
    "    object_counts = get_object_counts(object_maps, windows) ##M x N\n",
    "    M = object_counts.shape[0]\n",
    "    N = object_counts.shape[1]\n",
    "    observed_responses = np.zeros((M,N), dtype = 'int')\n",
    "    for m in range(M):\n",
    "        for n in range(N):\n",
    "            resp_dist = np.zeros(K+1)\n",
    "            oc = object_counts[m,n]\n",
    "            for k in range(K+1):\n",
    "                resp_dist[k] = lkhd(k,oc,K,p_on,p_off)\n",
    "            observed_responses[m,n]=np.argmax(np.random.multinomial(1,resp_dist))\n",
    "    return observed_responses"
   ]
  },
  {
   "cell_type": "code",
   "execution_count": 24,
   "metadata": {
    "collapsed": true
   },
   "outputs": [],
   "source": [
    "def my_to_one_hot(count_tensor, K):\n",
    "    '''\n",
    "    count_tensor  = M x N\n",
    "    returns M x N x K\n",
    "    '''\n",
    "    M = count_tensor.shape[0]\n",
    "    N = count_tensor.shape[1]\n",
    "    one_hot_count_tensor = np.zeros((M, N, K))\n",
    "    id_mat = np.eye(K)\n",
    "    for m in range(M):\n",
    "        one_hot_count_tensor[m,:, :] = id_mat[count_tensor[m]-1]\n",
    "    return one_hot_count_tensor"
   ]
  },
  {
   "cell_type": "code",
   "execution_count": 25,
   "metadata": {
    "collapsed": true
   },
   "outputs": [],
   "source": [
    "##given some response, evaluate likelihoods of many object maps\n",
    "def evaluate_log_likelihoods(observed_responses, object_map_stack, windows, p_on, p_off, lkhd_table=None):\n",
    "    '''\n",
    "    observed_responses  = 1 x N\n",
    "    object_map_stack = M x K x D\n",
    "    windows = N x D\n",
    "    \n",
    "    returns log_lkhds = M x 1\n",
    "    '''\n",
    "    N = observed_responses.shape[1]\n",
    "    K = object_map_stack.shape[1]\n",
    "    M = object_map_stack.shape[0]\n",
    "\n",
    "    ##reshape observed_responses for convenience\n",
    "    observed_responses = observed_responses.reshape((N,))\n",
    "    ##create a likelihood table (N x K)\n",
    "    if lkhd_table is None:\n",
    "        lkhd_table = np.zeros((N,K), dtype=floatX)\n",
    "        for n in range(N):\n",
    "            for k in range(K):\n",
    "                lkhd_table[n,k]  = np.log(lkhd(observed_responses[n],k+1,K, p_on,p_off))\n",
    "            \n",
    "    ##get object_counts ( M x N)\n",
    "    object_counts = get_object_counts(object_map_stack, windows)\n",
    "    \n",
    "    ##one-hot encoding of object counts M x N x K\n",
    "    one_hot_object_counts = my_to_one_hot(object_counts, K)\n",
    "    \n",
    "    \n",
    "    ##evaluate log_likelihoods\n",
    "    ## one_hot_object_counts = M x N x K\n",
    "    ##            lkhd_table =     N x K tensordot\n",
    "    ## log_lkhds = M x 1\n",
    "    return np.tensordot(one_hot_object_counts, lkhd_table, axes=2)\n",
    "    \n",
    "    "
   ]
  },
  {
   "cell_type": "code",
   "execution_count": 26,
   "metadata": {
    "collapsed": true
   },
   "outputs": [],
   "source": [
    "##this will help visualize samples from Q_Z\n",
    "def see_Z_sample(Z,image_shape,axis=0,show=True):\n",
    "    '''\n",
    "    Z ~ K x D\n",
    "    convert to 1 x D, D[i] = j, j = argmax(Z[:,i])\n",
    "    '''\n",
    "    Z_image = np.argmax(Z,axis=axis).reshape(image_shape)\n",
    "    if show:\n",
    "        ax = plt.pcolor(Z_image,cmap='Dark2')\n",
    "        plt.axes().set_aspect('equal', 'datalim')\n",
    "    return Z_image\n"
   ]
  },
  {
   "cell_type": "markdown",
   "metadata": {},
   "source": [
    "### Machinery for evaluating predictive distribution on test data"
   ]
  },
  {
   "cell_type": "code",
   "execution_count": 27,
   "metadata": {
    "collapsed": true
   },
   "outputs": [],
   "source": [
    "def create_lkhd_table(K, theta_plus, theta_minus):\n",
    "    lkhd_table = np.zeros((K+1,K), dtype=floatX)\n",
    "    for r in range(K+1):\n",
    "        for c in range(K):\n",
    "            lkhd_table[r,c] = lkhd(r,c+1, K, theta_plus, theta_minus)\n",
    "    return lkhd_table\n",
    "            "
   ]
  },
  {
   "cell_type": "code",
   "execution_count": 28,
   "metadata": {
    "collapsed": true
   },
   "outputs": [],
   "source": [
    "def eval_log_pred_dist(Q_Z, M, Z_shape_0,Z_shape_1,upscale, test_responses, test_windows, theta_plus, theta_minus, lkhd_table = None):\n",
    "    '''\n",
    "    Q_Z ~ K x D\n",
    "    M  ~ number of samples\n",
    "    test_responses ~ 1 x N\n",
    "    test_windows ~ N x D\n",
    "    theta_plus, theta_minus ignored if lkhd_table is provided\n",
    "    lkhd_table ~ K+1 x K  = responses x counts(created if not provided)\n",
    "    returns\n",
    "        log_eval_PD\n",
    "    '''\n",
    "    N = test_responses.shape[1]\n",
    "    resp_dx_list = (test_responses).ravel().astype('int').tolist()\n",
    "    K = Q_Z.shape[0]\n",
    "    if lkhd_table is None:\n",
    "        lkhd_table = create_lkhd_table(K, theta_plus, theta_minus)\n",
    "    Z_prime_samples, Z_prime_samples_1hot = Z_sample_func(Q_Z, M, K,Z_shape_0,Z_shape_1,upscale)\n",
    "    PD = pred_dist_func(lkhd_table, Z_prime_samples_1hot.astype(floatX), test_windows, K)\n",
    "    print N\n",
    "    print PD.shape\n",
    "    print np.max(resp_dx_list)\n",
    "    eval_PD = PD[range(N), resp_dx_list]\n",
    "    log_eval_PD = np.log(eval_PD)\n",
    "    return log_eval_PD"
   ]
  },
  {
   "cell_type": "code",
   "execution_count": 29,
   "metadata": {
    "collapsed": true
   },
   "outputs": [],
   "source": [
    "def percent_correct(Q_Z, M, Z_shape_0,Z_shape_1,upscale,test_responses, test_windows, theta_plus, theta_minus, lkhd_table = None):\n",
    "    N = test_responses.shape[1]\n",
    "    K = Q_Z.shape[0]\n",
    "    if lkhd_table is None:\n",
    "        lkhd_table = create_lkhd_table(K, theta_plus, theta_minus)\n",
    "    Z_prime_samples, Z_prime_samples_1hot = Z_sample_func(Q_Z, M,K,Z_shape_0,Z_shape_1,upscale)\n",
    "    PD = pred_dist_func(lkhd_table, Z_prime_samples_1hot.astype(floatX), test_windows, K)\n",
    "    predictions = np.argmax(PD, axis=1)\n",
    "    fraction_correct = np.sum(test_responses==predictions) / (N*1.)\n",
    "    return fraction_correct*100, predictions\n",
    "    "
   ]
  },
  {
   "cell_type": "markdown",
   "metadata": {},
   "source": [
    "### Real data"
   ]
  },
  {
   "cell_type": "markdown",
   "metadata": {},
   "source": [
    "Grab the windows and images from a real experiment"
   ]
  },
  {
   "cell_type": "code",
   "execution_count": 30,
   "metadata": {
    "collapsed": true
   },
   "outputs": [],
   "source": [
    "##which repo?\n",
    "drive = '/mnt/fast/'\n",
    "\n",
    "##base directory\n",
    "base = 'multi_poly_probes'\n",
    "\n",
    "##pandas dataframe with all the experimental conditions and data\n",
    "data_place = 'data'\n",
    "data_file = 'multi_poly_probe_data_3_subjects.pkl'\n",
    "subject = 'KL'\n",
    "state = 'pcp'\n",
    "\n",
    "\n",
    "##target images\n",
    "image_place = 'target_images'\n",
    "mask_place = 'masks'\n",
    "target_image_name = 'candle_01'\n",
    "target_image_file = target_image_name+'_letterbox.png'\n",
    "mask_image_file = target_image_name+'_mask.tif'\n",
    "\n",
    "##window files\n",
    "window_place = 'probes'\n",
    "window_file = target_image_name+'_letterbox_img__probe_dict.pkl'"
   ]
  },
  {
   "cell_type": "markdown",
   "metadata": {},
   "source": [
    "Open the target image"
   ]
  },
  {
   "cell_type": "code",
   "execution_count": 31,
   "metadata": {
    "collapsed": true
   },
   "outputs": [],
   "source": [
    "##open\n",
    "test_object_map = open(join(drive, base, image_place, target_image_file),mode='r').convert('L')\n"
   ]
  },
  {
   "cell_type": "markdown",
   "metadata": {},
   "source": [
    "Open pandas dataframe "
   ]
  },
  {
   "cell_type": "code",
   "execution_count": 32,
   "metadata": {
    "collapsed": false
   },
   "outputs": [
    {
     "data": {
      "text/html": [
       "<div>\n",
       "<table border=\"1\" class=\"dataframe\">\n",
       "  <thead>\n",
       "    <tr style=\"text-align: right;\">\n",
       "      <th></th>\n",
       "      <th>image</th>\n",
       "      <th>image_on</th>\n",
       "      <th>probe</th>\n",
       "      <th>resp_on</th>\n",
       "      <th>response</th>\n",
       "      <th>state</th>\n",
       "      <th>subj</th>\n",
       "    </tr>\n",
       "  </thead>\n",
       "  <tbody>\n",
       "    <tr>\n",
       "      <th>0</th>\n",
       "      <td>candle_01</td>\n",
       "      <td>117.5410</td>\n",
       "      <td>11_12_21</td>\n",
       "      <td>127.8745</td>\n",
       "      <td>3.0</td>\n",
       "      <td>img</td>\n",
       "      <td>AS</td>\n",
       "    </tr>\n",
       "    <tr>\n",
       "      <th>1</th>\n",
       "      <td>candle_01</td>\n",
       "      <td>127.9244</td>\n",
       "      <td>15_7_16</td>\n",
       "      <td>139.0581</td>\n",
       "      <td>2.0</td>\n",
       "      <td>img</td>\n",
       "      <td>AS</td>\n",
       "    </tr>\n",
       "    <tr>\n",
       "      <th>2</th>\n",
       "      <td>candle_01</td>\n",
       "      <td>139.1078</td>\n",
       "      <td>32_24_33</td>\n",
       "      <td>151.4748</td>\n",
       "      <td>2.0</td>\n",
       "      <td>img</td>\n",
       "      <td>AS</td>\n",
       "    </tr>\n",
       "    <tr>\n",
       "      <th>3</th>\n",
       "      <td>candle_01</td>\n",
       "      <td>151.5415</td>\n",
       "      <td>37</td>\n",
       "      <td>156.2748</td>\n",
       "      <td>2.0</td>\n",
       "      <td>img</td>\n",
       "      <td>AS</td>\n",
       "    </tr>\n",
       "    <tr>\n",
       "      <th>4</th>\n",
       "      <td>candle_01</td>\n",
       "      <td>156.3414</td>\n",
       "      <td>18_10_19</td>\n",
       "      <td>163.0749</td>\n",
       "      <td>2.0</td>\n",
       "      <td>img</td>\n",
       "      <td>AS</td>\n",
       "    </tr>\n",
       "  </tbody>\n",
       "</table>\n",
       "</div>"
      ],
      "text/plain": [
       "       image  image_on     probe   resp_on  response state subj\n",
       "0  candle_01  117.5410  11_12_21  127.8745       3.0   img   AS\n",
       "1  candle_01  127.9244   15_7_16  139.0581       2.0   img   AS\n",
       "2  candle_01  139.1078  32_24_33  151.4748       2.0   img   AS\n",
       "3  candle_01  151.5415        37  156.2748       2.0   img   AS\n",
       "4  candle_01  156.3414  18_10_19  163.0749       2.0   img   AS"
      ]
     },
     "execution_count": 32,
     "metadata": {},
     "output_type": "execute_result"
    }
   ],
   "source": [
    "experiment = pd.read_pickle(join(drive, base, data_place, data_file))\n",
    "experiment.head()"
   ]
  },
  {
   "cell_type": "code",
   "execution_count": 33,
   "metadata": {
    "collapsed": false
   },
   "outputs": [
    {
     "name": "stdout",
     "output_type": "stream",
     "text": [
      "['candle_01' 'peaches_05' 'cheeseburger_03' 'grape_juice_02']\n",
      "['AS' 'z1' 'KL']\n"
     ]
    }
   ],
   "source": [
    "print experiment.image.unique()\n",
    "print experiment.subj.unique()"
   ]
  },
  {
   "cell_type": "markdown",
   "metadata": {},
   "source": [
    "Grab the windows, convert to right format, determine $N$ and initial $D$ "
   ]
  },
  {
   "cell_type": "code",
   "execution_count": 34,
   "metadata": {
    "collapsed": true
   },
   "outputs": [],
   "source": [
    "##grad the windows. this take creates a dictionary with \"index/mask\" keys. \n",
    "windows = pd.read_pickle(join(drive, base, window_place, window_file))"
   ]
  },
  {
   "cell_type": "code",
   "execution_count": 35,
   "metadata": {
    "collapsed": false
   },
   "outputs": [],
   "source": [
    "N = len(windows['index'])\n",
    "window_shape = windows['mask'][0].shape\n",
    "aspect_ratio = window_shape[0]/(window_shape[1]*1.)\n",
    "native_D = np.prod(window_shape)\n",
    "W = np.zeros((N,native_D),dtype=floatX)\n",
    "\n",
    "##reformat\n",
    "for ii,w in enumerate(windows['mask']):\n",
    "    W[ii,:] = w.ravel().clip(0,1)"
   ]
  },
  {
   "cell_type": "markdown",
   "metadata": {},
   "source": [
    "Identify window with fewest pixels per object, use this to calculate downsampled image dimensions"
   ]
  },
  {
   "cell_type": "code",
   "execution_count": 36,
   "metadata": {
    "collapsed": true
   },
   "outputs": [],
   "source": [
    "##help\n",
    "def round_up_to_even(f):\n",
    "    return math.ceil(f / 2.) * 2"
   ]
  },
  {
   "cell_type": "code",
   "execution_count": 37,
   "metadata": {
    "collapsed": false
   },
   "outputs": [
    {
     "name": "stderr",
     "output_type": "stream",
     "text": [
      "/home/tnaselar/anaconda/lib/python2.7/site-packages/pandas/computation/expressions.py:182: UserWarning: evaluating in Python space because the '*' operator is not supported by numexpr for the bool dtype, use '&' instead\n",
      "  unsupported[op_str]))\n"
     ]
    }
   ],
   "source": [
    "##size of each window in pixels\n",
    "window_size = W.sum(axis=1)\n",
    "\n",
    "##responses of select subject / target image / cognitive state\n",
    "resp = experiment[(experiment['image']==target_image_name) * (experiment['subj']==subject) * (experiment['state']==state)].response.values\n",
    "resp = resp[np.newaxis,:]\n",
    "\n",
    "##corresponding window indices\n",
    "window_idx = experiment[(experiment['image']==target_image_name) * (experiment['subj']==subject) * (experiment['state']==state)].probe.values\n",
    "\n",
    "##isolate window with fewest pixels per object\n",
    "pix_per_object = window_size/resp\n",
    "min_pix_per_object = np.min(pix_per_object)\n",
    "min_dx = np.argmin(pix_per_object)\n",
    "dns = 1./min_pix_per_object\n",
    "fudge_factor = 1\n",
    "dns_pixels = int(np.ceil(native_D*dns)*(fudge_factor))"
   ]
  },
  {
   "cell_type": "code",
   "execution_count": 38,
   "metadata": {
    "collapsed": true
   },
   "outputs": [],
   "source": [
    "def define_Z_shape(window_shape, K, resolution):\n",
    "\n",
    "    ##calculate Z dimensions based upon K and the aspect ratio of the target image\n",
    "    Z_shape = np.zeros((2), dtype='int32')\n",
    "\n",
    "    ##the smallest dimension will be resolution*K\n",
    "    min_dim = np.argmin(window_shape)\n",
    "    max_dim = np.argmax(window_shape)\n",
    "\n",
    "    Z_shape[min_dim] = int(round_up_to_even(resolution*K))\n",
    "    Z_shape[max_dim] = int(round_up_to_even((Z_shape[min_dim]*window_shape[max_dim]*1.)/window_shape[min_dim]))\n",
    "\n",
    "    ##the total number of pixels in Z\n",
    "    print Z_shape\n",
    "    D = np.prod(Z_shape)\n",
    "    print D\n",
    "    return Z_shape, D"
   ]
  },
  {
   "cell_type": "code",
   "execution_count": 39,
   "metadata": {
    "collapsed": false
   },
   "outputs": [
    {
     "name": "stdout",
     "output_type": "stream",
     "text": [
      "[16 26]\n",
      "416\n"
     ]
    }
   ],
   "source": [
    "resolution = 8\n",
    "K = 2\n",
    "Z_shape, D = define_Z_shape(window_shape, K, resolution)"
   ]
  },
  {
   "cell_type": "code",
   "execution_count": 40,
   "metadata": {
    "collapsed": false
   },
   "outputs": [
    {
     "name": "stdout",
     "output_type": "stream",
     "text": [
      "1.0\n",
      "16 26\n"
     ]
    }
   ],
   "source": [
    "##to what do we upsample Z (to what do we downsample the targe image and windows) ?\n",
    "## so that window with fewest pixels per object has a pixel:object ratio of 1:1\n",
    "##round up to nearest even number\n",
    "\n",
    "min_image_dimensions = (int(round_up_to_even(np.sqrt(dns_pixels*aspect_ratio))), int(round_up_to_even(np.ceil(np.sqrt(dns_pixels/aspect_ratio)))))\n",
    "upscale = np.round((np.max(min_image_dimensions)*1.)/np.max(Z_shape))\n",
    "\n",
    "Z_prime_shape_0 = int(Z_shape[0]*upscale)\n",
    "Z_prime_shape_1 = int(Z_shape[1]*upscale)\n",
    "\n",
    "##the number of dimensions in the upsampled Z map. Don't think the variational algorithm actually needs this...\n",
    "D_prime = np.prod((Z_prime_shape_0, Z_prime_shape_1))\n",
    "\n",
    "print upscale\n",
    "print Z_prime_shape_0, Z_prime_shape_1"
   ]
  },
  {
   "cell_type": "code",
   "execution_count": 41,
   "metadata": {
    "collapsed": false,
    "scrolled": false
   },
   "outputs": [
    {
     "name": "stdout",
     "output_type": "stream",
     "text": [
      "smallest number of pixels per object: 681.000000\n",
      "window pixels: 681\n",
      "number of objects: 1\n",
      "can downsample by 0.001468\n",
      "for an image size of 416 pixels with dimensions 16 x 26\n"
     ]
    },
    {
     "data": {
      "image/png": "[encoded data removed]",
      "text/plain": [
       "<matplotlib.figure.Figure at 0x7fd824818f50>"
      ]
     },
     "metadata": {},
     "output_type": "display_data"
    }
   ],
   "source": [
    "print 'smallest number of pixels per object: %f' %(min_pix_per_object)\n",
    "print 'window pixels: %d' %(window_size[min_dx])\n",
    "print 'number of objects: %d' %(resp[0,min_dx])\n",
    "print 'can downsample by %f' %(dns)\n",
    "print 'for an image size of %d pixels with dimensions %d x %d' %(D, Z_prime_shape_0, Z_prime_shape_1)\n",
    "_=plt.hist(pix_per_object.squeeze(),100)"
   ]
  },
  {
   "cell_type": "markdown",
   "metadata": {},
   "source": [
    "Open the image mask, downsample, digitize, convert to one-hot encoding, checking that no objects are lost.  \n",
    "Note this plays no role in the analysis; we want this just for visualization"
   ]
  },
  {
   "cell_type": "code",
   "execution_count": 42,
   "metadata": {
    "collapsed": false
   },
   "outputs": [],
   "source": [
    "##open\n",
    "test_object_map = open(join(drive, base, mask_place, mask_image_file),mode='r').convert('L')\n",
    "\n",
    "##record K\n",
    "values = np.array(np.unique(test_object_map))\n",
    "imK = len(values)"
   ]
  },
  {
   "cell_type": "code",
   "execution_count": 43,
   "metadata": {
    "collapsed": false
   },
   "outputs": [],
   "source": [
    "##resize to window, checking for preserved K\n",
    "test_object_map=imresize(test_object_map, (Z_prime_shape_0, Z_prime_shape_1), interp='nearest')\n",
    "values = np.array(np.unique(test_object_map))\n",
    "assert imK==len(values)"
   ]
  },
  {
   "cell_type": "code",
   "execution_count": 44,
   "metadata": {
    "collapsed": true
   },
   "outputs": [],
   "source": [
    "##digitize, checking \n",
    "test_object_map=np.digitize(np.array(test_object_map), bins=values, right=True ).astype(int)\n",
    "values = np.array(np.unique(test_object_map))\n",
    "assert imK==len(values)"
   ]
  },
  {
   "cell_type": "code",
   "execution_count": 45,
   "metadata": {
    "collapsed": false
   },
   "outputs": [
    {
     "data": {
      "text/plain": [
       "<matplotlib.image.AxesImage at 0x7fd80ec54090>"
      ]
     },
     "execution_count": 45,
     "metadata": {},
     "output_type": "execute_result"
    },
    {
     "data": {
      "image/png": "[encoded data removed]",
      "text/plain": [
       "<matplotlib.figure.Figure at 0x7fd838091d50>"
      ]
     },
     "metadata": {},
     "output_type": "display_data"
    }
   ],
   "source": [
    "##one-hot encoding\n",
    "test_object_map = np.eye(imK)[test_object_map.ravel()].T.reshape((1,imK,D_prime))\n",
    "\n",
    "##view\n",
    "test_object_map_image = see_Z_sample(test_object_map[0], (Z_prime_shape_0, Z_prime_shape_1), show=False)\n",
    "plt.imshow(test_object_map_image, cmap='Dark2')\n",
    "# plt.imshow(W[-5].reshape(image_di).astype('uint8')*255, interpolation='none', alpha = .2, cmap=plt.cm.gray, clim=[0,255])"
   ]
  },
  {
   "cell_type": "markdown",
   "metadata": {},
   "source": [
    "#### Load windows in correct order, split in training/test responses"
   ]
  },
  {
   "cell_type": "code",
   "execution_count": 46,
   "metadata": {
    "collapsed": false
   },
   "outputs": [
    {
     "name": "stdout",
     "output_type": "stream",
     "text": [
      "345\n"
     ]
    }
   ],
   "source": [
    "\n",
    "W = np.zeros((N,D_prime),dtype=floatX)\n",
    "\n",
    "##reformat\n",
    "for ii,w in enumerate(window_idx):\n",
    "    str_dx = map(int, w.split('_'))\n",
    "    dx = windows['index'].index(str_dx)\n",
    "    dns_w = imresize(windows['mask'][dx], (Z_prime_shape_0,Z_prime_shape_1), interp='nearest')\n",
    "    W[ii,:] =np.array(dns_w).ravel().clip(0,1)\n",
    "\n",
    "print N"
   ]
  },
  {
   "cell_type": "code",
   "execution_count": 47,
   "metadata": {
    "collapsed": false
   },
   "outputs": [
    {
     "name": "stdout",
     "output_type": "stream",
     "text": [
      "2\n"
     ]
    }
   ],
   "source": [
    "##randomize the samples for splitting\n",
    "idx = np.random.permutation(range(N))\n",
    "\n",
    "##the percent of data used for training\n",
    "trn_prc = .8\n",
    "\n",
    "##number of train and test samples\n",
    "n_train = int(N*trn_prc)\n",
    "n_test = N - n_train\n",
    "\n",
    "##split the data into train and test\n",
    "train_responses = resp[:,idx[:n_train]].astype(int)\n",
    "train_windows = W[idx[:n_train],:]\n",
    "\n",
    "test_responses = resp[:,idx[n_train:]].astype(int)\n",
    "test_windows = W[idx[n_train:],:]\n",
    "\n",
    "##this is NOT okay!\n",
    "K = max([np.max(test_responses), np.max(train_responses)])\n",
    "print K"
   ]
  },
  {
   "cell_type": "code",
   "execution_count": 48,
   "metadata": {
    "collapsed": false
   },
   "outputs": [
    {
     "data": {
      "image/png": "[encoded data removed]",
      "text/plain": [
       "<matplotlib.figure.Figure at 0x7fd80efe12d0>"
      ]
     },
     "metadata": {},
     "output_type": "display_data"
    }
   ],
   "source": [
    "_=plt.hist(train_responses.T, bins = range(K+2), align = 'left', range = [0, K], )"
   ]
  },
  {
   "cell_type": "markdown",
   "metadata": {},
   "source": [
    "### CAVI loop"
   ]
  },
  {
   "cell_type": "markdown",
   "metadata": {},
   "source": [
    "#### Initialization functions"
   ]
  },
  {
   "cell_type": "code",
   "execution_count": 49,
   "metadata": {
    "collapsed": false
   },
   "outputs": [],
   "source": [
    "##need to first generate Z-maps, then upsample to Z-prime maps.\n",
    "def init_Q_Z(observed_responses, windows, num_maps, theta_plus, theta_minus, dirichlet_param, K, Z_shape, Z_shape_prime):\n",
    "    D = np.prod(Z_shape)\n",
    "    map_stack = make_object_map_stack(K, 2*K, 2*K, Z_shape_prime,num_maps)\n",
    "    starter_logs = evaluate_log_likelihoods(observed_responses, map_stack, windows, theta_plus, theta_minus)\n",
    "    best_start_map = np.argmax(starter_logs)\n",
    "    start_Z = map_stack[best_start_map] ## K x D_prime\n",
    "    best_start_map_image=see_Z_sample(start_Z, Z_shape_prime, show=False)\n",
    "    best_start_map_image_downsampled = np.round(imresize(best_start_map_image, Z_shape, interp='nearest')/255.).astype('int64')\n",
    "    start_Z_downsampled = to_one_hot(best_start_map_image_downsampled.ravel(), K).reshape((D,K)).T.eval()\n",
    "    Q_Z = np.zeros((K,D), dtype=floatX)\n",
    "    for d in range(D): #np.random.permutation(D):\n",
    "        Q_Z[:,d] = np.random.dirichlet(start_Z_downsampled[:,d]+dirichlet_param)\n",
    "    return Q_Z, best_start_map_image, starter_logs"
   ]
  },
  {
   "cell_type": "code",
   "execution_count": 50,
   "metadata": {
    "collapsed": true
   },
   "outputs": [],
   "source": [
    "def init_Eln_pi(Q_Z, dirichlet_param):\n",
    "    q_Z = Q_Z.sum(axis=1, keepdims=True) ##a fake q_Z, should be K x 1\n",
    "    Eln_pi, _ = prior_update_func(q_Z, dirichlet_param)\n",
    "    return Eln_pi"
   ]
  },
  {
   "cell_type": "code",
   "execution_count": 51,
   "metadata": {
    "collapsed": true
   },
   "outputs": [],
   "source": [
    "def init_P_star(observed_responses, theta_plus, theta_minus, K):\n",
    "    N = observed_responses.shape[1]\n",
    "    observed_responses = np.squeeze(observed_responses)\n",
    "    P_star = np.zeros((N,K),dtype=floatX)\n",
    "    for n in range(N):\n",
    "        for k in range(K):\n",
    "            P_star[n,k]  = lkhd(observed_responses[n],k+1,K, theta_plus,theta_minus)\n",
    "    return P_star"
   ]
  },
  {
   "cell_type": "markdown",
   "metadata": {},
   "source": [
    "#### Visualization functions"
   ]
  },
  {
   "cell_type": "code",
   "execution_count": 52,
   "metadata": {
    "collapsed": true
   },
   "outputs": [],
   "source": [
    "##visualize the variational posterior over pixels\n",
    "def see_Q_Z(Q_Z, target_object_map = None, clim=[0,1]):\n",
    "    ##view: construct an image grid\n",
    "    fig = plt.figure(1, (30,10))\n",
    "    K = Q_Z.shape[0]\n",
    "    if target_object_map is not None:\n",
    "        K += 1\n",
    "    grid = ImageGrid(fig, 111, # similar to subplot(111)\n",
    "                    nrows_ncols = (1, K), # creates grid of axes\n",
    "                    axes_pad=0.5, # pad between axes in inch.\n",
    "                    cbar_mode = 'each',\n",
    "                    cbar_pad = .05\n",
    "                    )\n",
    "    if target_object_map is not None:\n",
    "        im = grid[0].imshow(target_object_map,cmap='Dark2')\n",
    "        grid[0].cax.colorbar(im)\n",
    "        for kk in range(1,K):\n",
    "            im = grid[kk].imshow(Q_Z[kk-1], cmap='hot', clim=clim)\n",
    "            grid[kk].cax.colorbar(im)\n",
    "\n",
    "    else: \n",
    "        for kk in range(0,K):\n",
    "            im = grid[kk].imshow(Q_Z[kk], cmap='hot', clim=clim)\n",
    "            grid[kk].cax.colorbar(im)"
   ]
  },
  {
   "cell_type": "code",
   "execution_count": 53,
   "metadata": {
    "collapsed": false
   },
   "outputs": [],
   "source": [
    "##visualize Q_theta (or lnQ_theta)\n",
    "def see_Q_theta(Q_theta, lkhd_param_grid):\n",
    "    ##name the data\n",
    "    x = lkhd_param_grid[:,0]\n",
    "    y = lkhd_param_grid[:,1]\n",
    "    z = Q_theta.squeeze()\n",
    "    \n",
    "    # define grid.\n",
    "    \n",
    "    xi = np.linspace(-0.01, 1.01, 300)\n",
    "    yi = np.linspace(-0.01, 1.01, 300)\n",
    "    # grid the data.\n",
    "    zi = griddata(x, y, z, xi, yi, interp='linear')\n",
    "    # contour the gridded data, plotting dots at the nonuniform data points.\n",
    "    CS = plt.contour(xi, yi, zi, 15, linewidths=0.5, colors='k')\n",
    "    CS = plt.contourf(xi, yi, zi, 15,\n",
    "    vmax=abs(zi).max(), vmin=-abs(zi).max())\n",
    "    plt.colorbar()  # draw colorbar\n",
    "    # plot data points.\n",
    "    plt.scatter(x, y, marker='o', s=5, zorder=10)\n",
    "    plt.xlim(0, 1)\n",
    "    plt.ylim(0, 1)\n",
    "    \n",
    "    "
   ]
  },
  {
   "cell_type": "code",
   "execution_count": 54,
   "metadata": {
    "collapsed": true
   },
   "outputs": [],
   "source": [
    "##object confusion matrix, sort of\n",
    "##for each object, calculate the log-prob under the variational posterior for each class. return. display\n",
    "def object_confusion(Q_Z, Z, show=False):\n",
    "    '''\n",
    "    log_prob_kj = (K x K) log-prob of class k in Q_Z given object j in object map Z\n",
    "    '''\n",
    "    K = Z.shape[0]\n",
    "    log_prob = np.zeros((K,K))\n",
    "    for k in range(K):\n",
    "        for j in range(K):\n",
    "            log_prob[k,j] = np.sum(np.log(Q_Z[k].clip(10e-15,1))*Z[j])\n",
    "    \n",
    "    if show:\n",
    "        plt.pcolor(log_prob, cmap='gray')\n",
    "        plt.axes().set_aspect('equal', 'datalim')\n",
    "        plt.colorbar()\n",
    "    return log_prob\n",
    "\n",
    "def see_posterior_overlay(Q_Z, Z, image_dimensions):\n",
    "    '''\n",
    "    Q_Z ~ K x D\n",
    "      Z ~ K x D\n",
    "    '''\n",
    "    ##view: construct an image grid\n",
    "    fig = plt.figure(1, (40,20))\n",
    "    K = Q_Z.shape[0]\n",
    "    grid = ImageGrid(fig, 111, # similar to subplot(111)\n",
    "                    nrows_ncols = (1, K), # creates grid of axes\n",
    "                    axes_pad=0.5, # pad between axes in inch.\n",
    "                    cbar_mode = 'each',\n",
    "                    cbar_pad = .05\n",
    "                    )\n",
    "    \n",
    "    colors = [(0, 0, 0), (1., 1., 0)]\n",
    "    cm_1 = LinearSegmentedColormap.from_list(\n",
    "        'object_map', colors, N=2)\n",
    "\n",
    "    colors = [(0, 0, 0), (0., 0., 1.)]\n",
    "    cm_2 = LinearSegmentedColormap.from_list(\n",
    "        'prob', colors, N=20)\n",
    "\n",
    "    \n",
    "    log_prob = object_confusion(Q_Z, Z)\n",
    "    Q_Z = Q_Z.reshape((K, image_dimensions[0],image_dimensions[1]))\n",
    "    Z = Z.reshape((K, image_dimensions[0], image_dimensions[1]))\n",
    "    for k in range(K):\n",
    "        \n",
    "        max_k,max_j = np.unravel_index(np.argmax(log_prob), log_prob.shape)\n",
    "        log_prob[max_k,:] = -np.inf\n",
    "        log_prob[:,max_j] = -np.inf\n",
    "        grid[k].imshow(Z[max_j],cmap=cm_1)\n",
    "        grid[k].imshow(Q_Z[max_k], cmap=cm_2, clim=[0,1], alpha = 0.6)\n",
    "        \n",
    "    \n",
    "    \n",
    "    \n",
    "            "
   ]
  },
  {
   "cell_type": "markdown",
   "metadata": {},
   "source": [
    "#### Set params and initialize"
   ]
  },
  {
   "cell_type": "code",
   "execution_count": 55,
   "metadata": {
    "collapsed": false,
    "scrolled": true
   },
   "outputs": [],
   "source": [
    "##initial randomness: controls randomness of each pixel's Q_z\n",
    "alpha_0 = .01\n",
    "\n",
    "##initial guess noise params\n",
    "theta_plus, theta_minus = .99, .01\n",
    "\n",
    "##density of sampling grid of lkhd params\n",
    "theta_dns = 25\n",
    "\n",
    "##number of randomly generated maps to evaluate for initial condition of Q_Z\n",
    "num_starter_maps = 1000\n",
    "\n",
    "##number of samples from Q_Z per update\n",
    "M = 10#number of object map samples to generate for calculating object responsibility\n",
    "\n",
    "##number of iterations before quitting\n",
    "max_t = 300\n",
    "\n",
    "##Q_Z = K x D\n",
    "Q_Z, best_start_map_image, starter_logs = init_Q_Z(train_responses, train_windows, num_starter_maps, theta_plus, theta_minus, alpha_0, K, Z_shape, (Z_prime_shape_0, Z_prime_shape_1))\n",
    "best_Q_Z = Q_Z.copy()\n",
    "\n",
    "##N x K\n",
    "P_star = init_P_star(train_responses, theta_plus, theta_minus, K)\n",
    "\n",
    "##K x 1\n",
    "Eln_pi = init_Eln_pi(Q_Z, alpha_0)"
   ]
  },
  {
   "cell_type": "code",
   "execution_count": 56,
   "metadata": {
    "collapsed": false
   },
   "outputs": [
    {
     "name": "stderr",
     "output_type": "stream",
     "text": [
      "/musc.repo/Docs/tnaselar/code/Python/imagery_psychophysics/src/model_z.py:52: VisibleDeprecationWarning: using a non-integer number instead of an integer will result in an error in the future\n",
      "  p_on =  [np.array([ii]*np.max([np.ceil(D*ii),1])) for ii in np.linspace(small,1-small,dns)]\n"
     ]
    }
   ],
   "source": [
    "##G x N x K\n",
    "# P_theta = P_star[np.newaxis,:,:]\n",
    "# lkhd_param_grid = np.array([theta_plus, theta_minus], dtype=floatX, ndmin=2)\n",
    "P_theta, lkhd_param_grid = lkhd_grid(train_responses[0], theta_dns, K)\n",
    "lkhd_param_grid = lkhd_param_grid.astype(floatX)"
   ]
  },
  {
   "cell_type": "code",
   "execution_count": 57,
   "metadata": {
    "collapsed": false,
    "scrolled": true
   },
   "outputs": [
    {
     "name": "stdout",
     "output_type": "stream",
     "text": [
      "69\n",
      "(69, 3)\n",
      "2\n",
      "===========ELBO: -180.992325\n",
      "badness of fit: 188.666611\n",
      "posterior_entropy: 7.674292\n",
      "\n",
      "\n",
      "mean log of predictive distribution over test samples: -1.406482\n",
      "\n",
      "\n",
      "pecent correct over test samples: 63.768116\n",
      "\n",
      "\n"
     ]
    }
   ],
   "source": [
    "##get an initial lnQ_theta_star so we can calculate an initial ELBO\n",
    "##update lkhd params\n",
    "Z_prime_samples, Z_prime_samples_1hot = Z_sample_func(Q_Z, M,K,Z_shape[0],Z_shape[1],upscale)\n",
    "Z_prime_samples = Z_prime_samples.astype(floatX)\n",
    "Z_prime_samples_1hot = Z_prime_samples_1hot.astype(floatX)\n",
    "oc_probs = object_count_prob_func(Z_prime_samples_1hot, train_windows, K)\n",
    "theta_star, P_star, lnQ_theta, Q_theta= lkhd_update_func(P_theta, oc_probs, lkhd_param_grid.astype(floatX))\n",
    "\n",
    "##calculate starter ELBO\n",
    "ELBO_history = np.zeros((max_t+1,1))\n",
    "badness_of_fit, posterior_entropy, ELBO_history[0] = ELBO_update_func(Q_Z, lnQ_theta.max())\n",
    "\n",
    "##calcualte starter pred. dist\\\n",
    "ln_PD = np.zeros((max_t+1,1))\n",
    "ln_PD[0] = eval_log_pred_dist(Q_Z, M, Z_shape[0],Z_shape[1],upscale, test_responses, test_windows, theta_plus, theta_minus).mean()\n",
    "best_ln_PD = ln_PD[0]\n",
    "\n",
    "##calculate starter performance\n",
    "prc_correct = np.zeros((max_t+1,1))\n",
    "prc_correct[0], preds = percent_correct(Q_Z, M, Z_shape[0],Z_shape[1],upscale,test_responses, test_windows, theta_plus, theta_minus)\n",
    "best_prc_correct = prc_correct[0]\n",
    "\n",
    "print '===========ELBO: %f' %(ELBO_history[0])\n",
    "print 'badness of fit: %f' %(badness_of_fit)\n",
    "print 'posterior_entropy: %f' %(posterior_entropy)\n",
    "print '\\n'\n",
    "\n",
    "print 'mean log of predictive distribution over test samples: %f' %(ln_PD[0])\n",
    "print '\\n'\n",
    "\n",
    "print 'pecent correct over test samples: %f' %(prc_correct[0])\n",
    "print '\\n'\n",
    "\n",
    "\n",
    "\n",
    "delta_ELBO = np.inf\n",
    "\n",
    "min_delta_ELBO = 10e-10\n",
    "ELBO_old = 0."
   ]
  },
  {
   "cell_type": "code",
   "execution_count": 87,
   "metadata": {
    "collapsed": false
   },
   "outputs": [
    {
     "name": "stdout",
     "output_type": "stream",
     "text": [
      "[ 0.  1.]\n",
      "[  1.00000000e+00   9.40531010e-36]\n",
      "[  2.78031628e-40   1.00000000e+00]\n"
     ]
    }
   ],
   "source": [
    "print Z_prime_samples_1hot[0][:,-1]\n",
    "print Q_Z[:,-1]\n",
    "print Q_Z[:,0]"
   ]
  },
  {
   "cell_type": "code",
   "execution_count": 89,
   "metadata": {
    "collapsed": false
   },
   "outputs": [
    {
     "name": "stdout",
     "output_type": "stream",
     "text": [
      "0.0\n",
      "1.0\n",
      "(69, 416)\n"
     ]
    }
   ],
   "source": [
    "print Z_prime_samples[0][-1,-1]\n",
    "print Z_prime_samples[0][0,0]\n",
    "print test_windows.shape"
   ]
  },
  {
   "cell_type": "code",
   "execution_count": 59,
   "metadata": {
    "collapsed": false,
    "scrolled": true
   },
   "outputs": [],
   "source": [
    "#_Z_samples = rng.multinomial(pvals = repeat(_Q_Z.T,_M,axis=0)).reshape((_Q_Z.shape[1],_M,_Q_Z.shape[0])).dimshuffle((1,2,0))\n",
    "# _Z_images = _Z_samples.argmax(axis=1).reshape((_M,_Z_shape_0,_Z_shape_1), ndim=3)\n",
    "# _baz_upsamples = T.tile(_Z_images.dimshuffle(0,1,2,'x','x'), (_upscale,_upscale)).transpose(0,1,3,2,4).reshape((_M,_Z_shape_0*_upscale, _Z_shape_1*_upscale))\n",
    "# foo = _Z_samples.eval({_M:M, _Q_Z:Q_Z})\n",
    "# baz = _Z_images.eval({_M:M, _Z_shape_0:Z_shape[0], _Z_shape_1:Z_shape[1], _Z_samples:foo})\n",
    "# flarg = _baz_upsamples.eval({_Z_images:baz,_upscale:upscale,_M:M, _Z_shape_0:Z_shape[0], _Z_shape_1:Z_shape[1]})\n",
    "# _schmolg = to_one_hot(_baz_upsamples, _K)"
   ]
  },
  {
   "cell_type": "code",
   "execution_count": 60,
   "metadata": {
    "collapsed": false
   },
   "outputs": [],
   "source": [
    "# print flarg.ravel().shape\n",
    "# print M*Z_prime_shape_0*Z_prime_shape_1\n",
    "# to_one_hot(flarg.ravel()-1, K).reshape((M, K, Z_prime_shape_0*Z_prime_shape_1)).eval().shape"
   ]
  },
  {
   "cell_type": "markdown",
   "metadata": {},
   "source": [
    "#### View starting point and target"
   ]
  },
  {
   "cell_type": "code",
   "execution_count": 63,
   "metadata": {
    "collapsed": false
   },
   "outputs": [
    {
     "data": {
      "image/png": "[encoded data removed]",
      "text/plain": [
       "<matplotlib.figure.Figure at 0x7fd82474fd10>"
      ]
     },
     "metadata": {},
     "output_type": "display_data"
    }
   ],
   "source": [
    "see_Q_Z(Q_Z.reshape((K,Z_shape[1], Z_shape[0]), order='F').transpose((0,2,1)), target_object_map=best_start_map_image)"
   ]
  },
  {
   "cell_type": "code",
   "execution_count": 91,
   "metadata": {
    "collapsed": false
   },
   "outputs": [
    {
     "data": {
      "text/plain": [
       "<matplotlib.image.AxesImage at 0x7fd820da2050>"
      ]
     },
     "execution_count": 91,
     "metadata": {},
     "output_type": "execute_result"
    },
    {
     "data": {
      "image/png": "[encoded data removed]",
      "text/plain": [
       "<matplotlib.figure.Figure at 0x7fd820eeeed0>"
      ]
     },
     "metadata": {},
     "output_type": "display_data"
    }
   ],
   "source": [
    "plt.imshow(test_windows[0].reshape(Z_shape[1], Z_shape[0], order='F'))"
   ]
  },
  {
   "cell_type": "code",
   "execution_count": 64,
   "metadata": {
    "collapsed": false
   },
   "outputs": [
    {
     "data": {
      "text/plain": [
       "(2, 416)"
      ]
     },
     "execution_count": 64,
     "metadata": {},
     "output_type": "execute_result"
    }
   ],
   "source": [
    "Q_Z.shape"
   ]
  },
  {
   "cell_type": "code",
   "execution_count": null,
   "metadata": {
    "collapsed": false
   },
   "outputs": [],
   "source": [
    "plt.subplot(1,2,1)\n",
    "plt.imshow(Q_Z[0].reshape((Z_shape[1],Z_shape[0])).T)\n",
    "plt.subplot(1,2,2)\n",
    "plt.imshow(Q_Z[1].reshape((Z_shape[1],Z_shape[0])).T)"
   ]
  },
  {
   "cell_type": "code",
   "execution_count": null,
   "metadata": {
    "collapsed": false
   },
   "outputs": [],
   "source": [
    "Q_Z.shape"
   ]
  },
  {
   "cell_type": "code",
   "execution_count": null,
   "metadata": {
    "collapsed": false
   },
   "outputs": [],
   "source": [
    "fig = plt.figure(figsize=(8,8))\n",
    "plt.subplot(1,2,2)\n",
    "plt.imshow(best_start_map_image, cmap='Dark2')\n",
    "plt.title('best')\n",
    "\n",
    "plt.subplot(1,2,1)\n",
    "plt.imshow(test_object_map_image, cmap='Dark2')\n",
    "plt.title('target')"
   ]
  },
  {
   "cell_type": "markdown",
   "metadata": {},
   "source": [
    "#### Evaluate predictive distribution"
   ]
  },
  {
   "cell_type": "markdown",
   "metadata": {},
   "source": [
    "#### Main loop\n"
   ]
  },
  {
   "cell_type": "code",
   "execution_count": null,
   "metadata": {
    "collapsed": false,
    "scrolled": true
   },
   "outputs": [],
   "source": [
    "##other scalars\n",
    "t = 1\n",
    "\n",
    "\n",
    "\n",
    "\n",
    "while (delta_ELBO > min_delta_ELBO) and (t <= max_t):\n",
    "    \n",
    "    \n",
    "    ##put lkhd in log domain\n",
    "    lnP_star = np.log(P_star).astype(floatX)\n",
    "    \n",
    "    ##coordinate ascent on variational posteriors of object map pixels\n",
    "    for d in range(D):\n",
    "        Z_prime_samples, Z_prime_samples_1hot = Z_sample_func(Q_Z, M,K,Z_shape[0],Z_shape[1],upscale)\n",
    "        Z_prime_samples = Z_prime_samples.astype(floatX)\n",
    "        Z_prime_samples_1hot = Z_prime_samples_1hot.astype(floatX)\n",
    "\n",
    "        oc_probs = np.zeros((K, n_train, K),dtype=floatX)\n",
    "        v = np.zeros((K,1), dtype=floatX)\n",
    "        for k in range(K): \n",
    "            Z_prime_samples_1hot[:,:,d] = 0.    ##clear out object assignment for pixel d\n",
    "            Z_prime_samples_1hot[:,k, d] = 1.   ##assign pixel d to object k\n",
    "            oc_probs[k,:,:] = object_count_prob_func(Z_prime_samples_1hot, train_windows, K) ##calculate object count probs. given this assignment\n",
    "            v[k] = np.dot(Z_prime_samples_1hot[0,:,d], Eln_pi,)               ##compare current assignment to prior over assignments\n",
    "        Q_Z[:, d] = Q_z_update_func(oc_probs, lnP_star, v).squeeze() ##update variational posterior for pixel d\n",
    " \n",
    "    \n",
    "    ##update lkhd params\n",
    "    Z_prime_samples, Z_prime_samples_1hot = Z_sample_func(Q_Z, M,K,Z_shape[0],Z_shape[1],upscale)\n",
    "    Z_prime_samples = Z_prime_samples.astype(floatX)\n",
    "    Z_prime_samples_1hot = Z_prime_samples_1hot.astype(floatX)\n",
    "\n",
    "    oc_probs = object_count_prob_func(Z_prime_samples_1hot, train_windows, K)\n",
    "    theta_star, P_star, lnQ_theta, Q_theta = lkhd_update_func(P_theta, oc_probs, lkhd_param_grid)\n",
    "    \n",
    "    ##update prior params\n",
    "    q_Z = Q_Z.sum(axis=1, keepdims=True)\n",
    "    Eln_pi, E_pi = prior_update_func(q_Z, alpha_0)\n",
    "    \n",
    "    ##calculate ELBO\n",
    "    badness_of_fit, posterior_entropy, ELBO_history[t] = ELBO_update_func(Q_Z, lnQ_theta.max())\n",
    "    \n",
    "    ##update ELBO convergence criteria\n",
    "    delta_ELBO = np.abs(ELBO_history[t]-ELBO_old)\n",
    "    ELBO_old = ELBO_history[t]\n",
    "    \n",
    "    \n",
    "    ##calcualte pred. dist\n",
    "    prc_correct[t],_ = percent_correct(Q_Z, M, Z_shape[0],Z_shape[1],upscale,test_responses, test_windows, theta_star[0], theta_star[1])\n",
    "    ln_PD[t] = eval_log_pred_dist(Q_Z, M, Z_shape[0],Z_shape[1],upscale,test_responses, test_windows, theta_star[0], theta_star[1]).mean()\n",
    "    if prc_correct[t] > best_prc_correct:\n",
    "        print '!new best!'\n",
    "        best_prc_correct = prc_correct[t]\n",
    "        best_ln_PD = ln_PD[t]\n",
    "        best_Q_Z = Q_Z.copy()\n",
    "        best_theta = theta_star.copy()\n",
    "    \n",
    "    print '============================================='\n",
    "    print '===========ELBO: %f' %(ELBO_old)\n",
    "    print 'badness of fit: %f' %(badness_of_fit)\n",
    "    print 'posterior_entropy: %f' %(posterior_entropy)\n",
    "    print '\\n'\n",
    "    \n",
    "    print 'mean log of predictive distribution over test samples: %f' %(ln_PD[t])\n",
    "    print '\\n'\n",
    "    \n",
    "    print 'pecent correct over test samples: %f' %(prc_correct[t])\n",
    "    print '\\n'\n",
    "\n",
    "    \n",
    "    print 'noise parameters: %f, %f' %(theta_star[0],theta_star[1])\n",
    "    t += 1\n",
    "ELBO = ELBO_history[:t-1]\n",
    "ln_PD = ln_PD[:t-1]\n",
    "prc_correct = prc_correct[:t-1]"
   ]
  },
  {
   "cell_type": "code",
   "execution_count": null,
   "metadata": {
    "collapsed": false
   },
   "outputs": [],
   "source": [
    "# fig = plt.figure(figsize=(10,10))\n",
    "# fig, ax = plt.subplots()\n",
    "# ax.plot(ELBO)\n",
    "# ax.set_xlabel('iteration', color='b')\n",
    "# ax.set_ylabel('ELBO', color='b')\n",
    "# ax.tick_params('y', colors='b')\n",
    "\n",
    "fig, ax = plt.subplots()\n",
    "ax.plot(prc_correct)\n",
    "ax.set_xlabel('iteration', color='b')\n",
    "ax.set_ylabel('precent correct', color='b')\n",
    "ax.tick_params('y', colors='b')\n",
    "\n",
    "\n",
    "ax2 = ax.twinx()\n",
    "ax2.plot(ln_PD, 'r')\n",
    "ax2.set_ylabel('pred. dist', color='r')\n",
    "ax2.tick_params('y', colors='r')\n"
   ]
  },
  {
   "cell_type": "code",
   "execution_count": null,
   "metadata": {
    "collapsed": false
   },
   "outputs": [],
   "source": [
    "# see_Q_Z(Q_Z.reshape((K,image_dimensions[0], image_dimensions[1])), target_object_map=best_start_map_image)\n",
    "see_Q_Z(best_Q_Z.reshape((K,image_dimensions[0], image_dimensions[1])), target_object_map = test_object_map_image)\n"
   ]
  },
  {
   "cell_type": "code",
   "execution_count": null,
   "metadata": {
    "collapsed": false
   },
   "outputs": [],
   "source": [
    "print best_theta\n"
   ]
  },
  {
   "cell_type": "code",
   "execution_count": null,
   "metadata": {
    "collapsed": false
   },
   "outputs": [],
   "source": [
    "_=see_Z_sample(Z[0], image_dimensions)"
   ]
  },
  {
   "cell_type": "code",
   "execution_count": null,
   "metadata": {
    "collapsed": false
   },
   "outputs": [],
   "source": [
    "see_Q_theta(Q_theta, lkhd_param_grid)"
   ]
  },
  {
   "cell_type": "code",
   "execution_count": null,
   "metadata": {
    "collapsed": true
   },
   "outputs": [],
   "source": [
    "from imagery_psychophysics.src.stirling_maps import stirling_num_of_2nd_kind as snk"
   ]
  },
  {
   "cell_type": "code",
   "execution_count": null,
   "metadata": {
    "collapsed": false
   },
   "outputs": [],
   "source": [
    "snk(16**2,4)"
   ]
  },
  {
   "cell_type": "code",
   "execution_count": null,
   "metadata": {
    "collapsed": true
   },
   "outputs": [],
   "source": []
  }
 ],
 "metadata": {
  "kernelspec": {
   "display_name": "Python 2",
   "language": "python",
   "name": "python2"
  },
  "language_info": {
   "codemirror_mode": {
    "name": "ipython",
    "version": 2
   },
   "file_extension": ".py",
   "mimetype": "text/x-python",
   "name": "python",
   "nbconvert_exporter": "python",
   "pygments_lexer": "ipython2",
   "version": "2.7.12"
  }
 },
 "nbformat": 4,
 "nbformat_minor": 0
}
