{
 "cells": [
  {
   "cell_type": "code",
   "execution_count": 1,
   "metadata": {
    "collapsed": false
   },
   "outputs": [
    {
     "name": "stdout",
     "output_type": "stream",
     "text": [
      "Couldn't import dot_parser, loading of dot files will not be possible.\n"
     ]
    },
    {
     "name": "stderr",
     "output_type": "stream",
     "text": [
      "Using gpu device 0: GeForce GTX TITAN X (CNMeM is disabled, cuDNN not available)\n"
     ]
    }
   ],
   "source": [
    "import numpy as np\n",
    "\n",
    "##my stuff\n",
    "from imagery_psychophysics.src.stirling_maps import sparse_point_maps as spm\n",
    "from imagery_psychophysics.src.model_z import noise_grid\n",
    "from mpl_toolkits.axes_grid1 import ImageGrid\n",
    "\n",
    "##other stuff\n",
    "from matplotlib.colors import LinearSegmentedColormap\n",
    "from scipy.misc import comb as nCk\n",
    "from time import time\n",
    "from theano import tensor as T\n",
    "from theano.sandbox.rng_mrg import MRG_RandomStreams\n",
    "from theano.tensor.shared_randomstreams import RandomStreams\n",
    "from theano import function, shared\n",
    "from theano.tensor.extra_ops import repeat, to_one_hot\n",
    "from sklearn.preprocessing import OneHotEncoder\n",
    "from matplotlib import pyplot as plt\n",
    "%matplotlib inline"
   ]
  },
  {
   "cell_type": "markdown",
   "metadata": {},
   "source": [
    "# In which we finally try to infer noise\n",
    "\n",
    "...and it works pretty much okay"
   ]
  },
  {
   "cell_type": "markdown",
   "metadata": {},
   "source": [
    "### Theano expressions"
   ]
  },
  {
   "cell_type": "code",
   "execution_count": 2,
   "metadata": {
    "collapsed": true
   },
   "outputs": [],
   "source": [
    "floatX = 'float32'"
   ]
  },
  {
   "cell_type": "markdown",
   "metadata": {},
   "source": [
    "#### Generate samples of object maps from a posterior over object maps"
   ]
  },
  {
   "cell_type": "code",
   "execution_count": 3,
   "metadata": {
    "collapsed": true
   },
   "outputs": [],
   "source": [
    "##the variational posterior over object maps Z\n",
    "_Q_Z = T.matrix('Q_Z')            ##(K,D)\n",
    "_M = T.scalar('M',dtype='int32')\n",
    "\n",
    "##a theano random number generator\n",
    "rng = MRG_RandomStreams(use_cuda = True)\n",
    "\n",
    "##sample one Z map from posterior Q_Z\n",
    "_Z_samples = rng.multinomial(pvals = repeat(_Q_Z.T,_M,axis=0)).reshape((_Q_Z.shape[1],_M,_Q_Z.shape[0])).dimshuffle((1,2,0))"
   ]
  },
  {
   "cell_type": "markdown",
   "metadata": {},
   "source": [
    "#### Object count probabilities (was previously calling this \"object responsibility\" because I vaguely remembered this type of jargon from studying EM)."
   ]
  },
  {
   "cell_type": "code",
   "execution_count": 4,
   "metadata": {
    "collapsed": true
   },
   "outputs": [],
   "source": [
    "##block of sampled object maps\n",
    "_Z = T.tensor3('Z') ##(M x K x D)\n",
    "\n",
    "##window index indicator (N X D)\n",
    "_W = T.matrix('windows')\n"
   ]
  },
  {
   "cell_type": "markdown",
   "metadata": {},
   "source": [
    "An expression for an (M,N) matrix of objects counts. Each row provides the object count in each window for one of the M object map samples in Z."
   ]
  },
  {
   "cell_type": "code",
   "execution_count": 5,
   "metadata": {
    "collapsed": false
   },
   "outputs": [],
   "source": [
    "##(M x K x 1 x D)\n",
    "##         N x D\n",
    "##(M x K x N x D)  sum(D)\n",
    "##(M x K x N)      clip(0,1)\n",
    "##(M x K x N)      sum(K)\n",
    "##(M x N)\n",
    "_object_counts = T.sum(_Z.dimshuffle((0,1,'x',2))*_W,axis=-1).clip(0,1).sum(axis=1)"
   ]
  },
  {
   "cell_type": "markdown",
   "metadata": {},
   "source": [
    "Now apply one-hot-encoding and sum across samples and divide to obtain object count probabilities "
   ]
  },
  {
   "cell_type": "code",
   "execution_count": 6,
   "metadata": {
    "collapsed": true
   },
   "outputs": [],
   "source": [
    "##number of objects theano variable\n",
    "_K = T.scalar('objects',dtype='int32')\n",
    "\n",
    "##non-normalized object count probs\n",
    "_object_count_prob_nn = to_one_hot(_object_counts.astype('int32').flatten()-1,_K).reshape((_object_counts.shape[0],_object_counts.shape[1],_K)).sum(axis=0)\n",
    "\n",
    "##object count probs (N x K)\n",
    "_object_count_prob = _object_count_prob_nn / _object_count_prob_nn.sum(axis=1).reshape((_object_count_prob_nn.shape[0], 1))"
   ]
  },
  {
   "cell_type": "markdown",
   "metadata": {},
   "source": [
    "#### Update variational posterior for one pixel\n",
    "\n",
    "This will be the only update that returns a normalized variational posterior.\n",
    "Uses the object_count_prob matrix above.  \n",
    "Uses a place-holder for log-loglihood (lnP_star)"
   ]
  },
  {
   "cell_type": "code",
   "execution_count": 7,
   "metadata": {
    "collapsed": true
   },
   "outputs": [],
   "source": [
    "##K x N x K tensor of object count probs\n",
    "##the first K is object id, the last K is object count\n",
    "_oc_probs = T.tensor3('oc_probs') \n",
    "\n",
    "##N x K, this will just be the log of P_star\n",
    "_lnP_star = T.matrix('lnP_star')\n",
    "\n",
    "## K x 1, this is place holder for the dot product between pixel value and expected log of hyperparameters pi\n",
    "_v = T.matrix('prior_penalties')\n",
    "\n",
    "      ##K x N x K oc_probs\n",
    "##(tensordot)\n",
    "          ##N x K lnP_star \n",
    "      ##K x 1     lnQ_z\n",
    "##(add V)\n",
    "      ##K x 1\n",
    "##(exp)\n",
    "      ##K x 1     Q_z_nn\n",
    "##(normalize)\n",
    "      ##K x 1     Q_z, the variational posterior element for one pixel\n",
    "\n",
    "##log of Q_z (minus unknown constant that normalizes things)    \n",
    "_lnQ_z = T.tensordot(_oc_probs, _lnP_star, [[1,2], [0,1]]).dimshuffle([0,'x'])+_v\n",
    "\n",
    "##non-normalized Q_z. we shift by max value to stabilize upcoming exp\n",
    "_Q_z_nn = T.exp(_lnQ_z-T.max(_lnQ_z)) \n",
    "\n",
    "##variational posterior prob for one pixel\n",
    "_Q_z = _Q_z_nn / _Q_z_nn.sum()"
   ]
  },
  {
   "cell_type": "markdown",
   "metadata": {},
   "source": [
    "#### Update rule for the variational log posterior over theta (i.e., the noise parameters).\n",
    "We calculate $ln[q(\\theta)] - const$  \n",
    "We use max of the above for calculating the ELBO.  \n",
    "We use argmax of the above for updating the variational posteriors\n"
   ]
  },
  {
   "cell_type": "code",
   "execution_count": 8,
   "metadata": {
    "collapsed": false
   },
   "outputs": [],
   "source": [
    "_P_theta = T.tensor3('P_theta') ##(G x N x K)\n",
    "_X = T.matrix('oc_prob_dummy') ##N x K ~ this is a place holder for the \"object count prob\" matrix\n",
    "_lkhd_param_grid = T.matrix('lkhd_param_grid') ## G x 2 grid of candidate noise parameters. we must supply.\n",
    "\n",
    "##(G x N x K)\n",
    "##(    N x K)  (dot product, broadcast across G)\n",
    "##(G x 1)  --> because we don't do vectors we reshape to make output 2Dimensional (G x 1)\n",
    "\n",
    "##log of likelihood\n",
    "\n",
    "_ln_P_theta = T.log(_P_theta)\n",
    "\n",
    "##ln q(theta+, theta-) - const (G x 1)\n",
    "_lnQ_theta = T.tensordot(_ln_P_theta, _X, axes=[[1,2], [0,1]],).reshape((_P_theta.shape[0], 1))\n",
    "\n",
    "##---for max approximation\n",
    "\n",
    "##find index of the best lkhd params (scalar integer)\n",
    "_theta_star_idx = T.argmax(_lnQ_theta)\n",
    "# _G = _lkhd_param_grid.shape[0]\n",
    "# _theta_star_idx = T.argsort(_lnQ_theta)[T.iround(_G/2.)]\n",
    "\n",
    "#N x K (windows x object counts)\n",
    "_P_star = _P_theta[_theta_star_idx,:,:]\n",
    "\n",
    "#1 x 2 best likelihood params\n",
    "_theta_star = _lkhd_param_grid[_theta_star_idx,:]\n",
    "\n",
    "##---for full bayesian treatment\n",
    "_lnQ_theta_star = T.max(_lnQ_theta)\n",
    "_Q_theta_nn = T.exp(_lnQ_theta - _lnQ_theta_star)\n",
    "_Q_theta = _Q_theta_nn / _Q_theta_nn.sum()"
   ]
  },
  {
   "cell_type": "markdown",
   "metadata": {},
   "source": [
    "#### Prior over object maps\n",
    "The hyperparameter $\\pi$ is prior over object sizes. It is Dirichlet distributed.  \n",
    "We need $\\mathbb{E}[ln[\\pi]]$ to update Q_z. We'll also need it to calculate the ELBO."
   ]
  },
  {
   "cell_type": "code",
   "execution_count": 9,
   "metadata": {
    "collapsed": true
   },
   "outputs": [],
   "source": [
    "_alpha_0 = T.scalar('alpha_0')\n",
    "_q_Z = T.matrix('q_Z')  ##K x 1, this is result of summing over pixels in Q_Z matrix. very different from Q_z\n",
    "\n",
    "_alpha = _q_Z + _alpha_0 ##broadcasts the scalar _alpha_0 across K\n",
    "\n",
    "##(K x 1) this is needed to update Q_z\n",
    "_Eln_pi = T.psi(_alpha) - T.psi(_alpha.sum())\n",
    "\n",
    "##(K x 1) not needed for update of variational posteriors, but we'll want it for model interpretation\n",
    "_E_pi = _alpha / _alpha.sum()"
   ]
  },
  {
   "cell_type": "markdown",
   "metadata": {},
   "source": [
    "#### Expressions for the ELBO\n",
    "This is an approximate ELBO because:  \n",
    "1. We are using a $ln[q(\\theta^*)]$ instead of $\\mathbb{E}[ln[q(\\theta)]]$, where $\\theta^* = \\underset{\\theta}{\\operatorname{argmax}}  q(\\theta)$.\n",
    "2. We approximate object count probabilities by sampling $M$ object maps from $Q_Z$ and computing a histogram"
   ]
  },
  {
   "cell_type": "code",
   "execution_count": 10,
   "metadata": {
    "collapsed": false
   },
   "outputs": [],
   "source": [
    "_lnQ_theta_star = T.scalar('lnQ_theta_star') ##scalar\n",
    "\n",
    "_Q_Z_holder = T.matrix('Q_Z_holder') ##N x K \n",
    "\n",
    "##scalar: the entropy of the variational posterior\n",
    "a_min = 10e-15\n",
    "a_max = 1\n",
    "_posterior_entropy = -T.tensordot(_Q_Z_holder.clip(a_min,a_max), T.log(_Q_Z_holder.clip(a_min,a_max)))\n",
    "\n",
    "##scalar\n",
    "_badness_of_fit = -_lnQ_theta_star\n",
    "\n",
    "##scalar\n",
    "_ELBO = -_badness_of_fit  + _posterior_entropy"
   ]
  },
  {
   "cell_type": "markdown",
   "metadata": {},
   "source": [
    "#### Expressions for predictive distribution"
   ]
  },
  {
   "cell_type": "code",
   "execution_count": 11,
   "metadata": {
    "collapsed": false
   },
   "outputs": [],
   "source": [
    "_P_star_pred = T.matrix('lkhd_table_pred') ##K x K ~ responses x counts\n",
    "\n",
    "\n",
    "##windows x 1         x counts  |\n",
    "##          responses x counts    tensordot\n",
    "##windows x responses\n",
    "\n",
    "_pred_dist = T.tensordot(_object_count_prob, _P_star_pred, axes = [[1],[1]])\n",
    "\n"
   ]
  },
  {
   "cell_type": "markdown",
   "metadata": {},
   "source": [
    "### Theano functions"
   ]
  },
  {
   "cell_type": "markdown",
   "metadata": {},
   "source": [
    "#### Generate M samples of object maps from a variational posterior over all pixels, Q_Z"
   ]
  },
  {
   "cell_type": "code",
   "execution_count": 12,
   "metadata": {
    "collapsed": false
   },
   "outputs": [],
   "source": [
    "##returns M x K x D (samples x object ids x pixels)\n",
    "Z_sample_func = function([_Q_Z,_M],outputs=_Z_samples)"
   ]
  },
  {
   "cell_type": "markdown",
   "metadata": {},
   "source": [
    "#### Estimate object count probabilities from a stack of object map samples Z (given windows W)"
   ]
  },
  {
   "cell_type": "code",
   "execution_count": 13,
   "metadata": {
    "collapsed": true
   },
   "outputs": [],
   "source": [
    "##returns N x K (windows x object counts)\n",
    "object_count_prob_func = function([_Z, _W, _K], outputs = _object_count_prob)"
   ]
  },
  {
   "cell_type": "markdown",
   "metadata": {},
   "source": [
    "#### Update variational posterior for one pixel"
   ]
  },
  {
   "cell_type": "code",
   "execution_count": 14,
   "metadata": {
    "collapsed": false
   },
   "outputs": [],
   "source": [
    "##returns K x 1 (objects ids x 1)\n",
    "Q_z_update_func = function([_oc_probs, _lnP_star, _v], outputs = _Q_z)"
   ]
  },
  {
   "cell_type": "markdown",
   "metadata": {},
   "source": [
    "#### Update likelihood parameters (returns $\\Theta^*$, $P^*$, and $q(\\theta_+, \\theta_-)$)"
   ]
  },
  {
   "cell_type": "code",
   "execution_count": 15,
   "metadata": {
    "collapsed": false
   },
   "outputs": [],
   "source": [
    "##returns theta_star ~ (1 x 2) best lkhd params\n",
    "##returns P_star (N x K) (windows x object counts)\n",
    "##return lnQ_theta G x 1\n",
    "lkhd_update_func = function([_P_theta, _X, _lkhd_param_grid], outputs = [_theta_star, _P_star, _lnQ_theta, _Q_theta])"
   ]
  },
  {
   "cell_type": "markdown",
   "metadata": {},
   "source": [
    "#### Update $\\mathbb{E}[ln[\\pi]]$ and $\\mathbb{E}[\\pi]$"
   ]
  },
  {
   "cell_type": "code",
   "execution_count": 16,
   "metadata": {
    "collapsed": false
   },
   "outputs": [],
   "source": [
    "##returns _Eln_pi (K x 1) (object ids x 1)\n",
    "##returns _E_pi (K x 1) (object ids x 1)\n",
    "prior_update_func = function([_q_Z, _alpha_0], outputs = [_Eln_pi, _E_pi])"
   ]
  },
  {
   "cell_type": "markdown",
   "metadata": {},
   "source": [
    "#### Calculate the ELBO"
   ]
  },
  {
   "cell_type": "code",
   "execution_count": 17,
   "metadata": {
    "collapsed": false
   },
   "outputs": [],
   "source": [
    "## returns four scalars. ELBO is last\n",
    "ELBO_update_func = function([_Q_Z_holder, _lnQ_theta_star], outputs=[_badness_of_fit, _posterior_entropy, _ELBO])"
   ]
  },
  {
   "cell_type": "markdown",
   "metadata": {},
   "source": [
    "#### Construct predictive distribution"
   ]
  },
  {
   "cell_type": "code",
   "execution_count": 18,
   "metadata": {
    "collapsed": false,
    "scrolled": true
   },
   "outputs": [],
   "source": [
    "pred_dist_func = function([_P_star_pred, _Z, _W, _K], outputs = _pred_dist)"
   ]
  },
  {
   "cell_type": "markdown",
   "metadata": {},
   "source": [
    "### The likelihood function\n",
    "A note on jargon/notation: p_on, p_off = theta_+, theta_- = likelihood parameters = noise parameters"
   ]
  },
  {
   "cell_type": "code",
   "execution_count": 19,
   "metadata": {
    "collapsed": false
   },
   "outputs": [],
   "source": [
    "##helper\n",
    "def counts(r,c,K):\n",
    "    return np.array([nCk(c,m)*nCk(K-c, r-m) for m in range(min(r,c)+1)])\n",
    "\n",
    "##the strange likelihood I derived for this model\n",
    "#\n",
    "def lkhd(r,c,K,p_on,p_off):\n",
    "    probs = np.array([(1-p_on)**(c-m) * (p_on)**m * (p_off)**(r-m) * (1-p_off)**(K-c-r+m) for m in range(min(r,c)+1)])\n",
    "    #print probs\n",
    "    return counts(r,c,K).dot(probs)\n",
    "\n",
    "##create a stack of data likelihood tables for different values of the noise params \n",
    "def lkhd_grid(observed_responses, theta_dns, K):\n",
    "    '''\n",
    "    returns\n",
    "    P_theta ~ G x N x K\n",
    "    lkhd_param_grid ~ G x 2\n",
    "    '''\n",
    "    p_on, p_off = noise_grid(theta_dns,theta_dns)\n",
    "    N = observed_responses.shape[0]  ##number of windows\n",
    "    G = len(p_on) ##number of values of parameters to evaluate\n",
    "    P_theta = np.zeros((G, N, K),dtype=floatX)\n",
    "    lkhd_param_grid = np.zeros((G,2),dtype=floatX)\n",
    "    for g,p in enumerate(zip(p_on,p_off)):\n",
    "        lkhd_param_grid[g,0] = p[0]   ##let's make sure we get all indices in the same order\n",
    "        lkhd_param_grid[g,1] = p[1]\n",
    "        for n in range(N):\n",
    "            for k in range(K):\n",
    "                P_theta[g,n,k]  = lkhd(observed_responses[n].squeeze(),k+1,K, p[0],p[1])\n",
    "    return P_theta, lkhd_param_grid"
   ]
  },
  {
   "cell_type": "markdown",
   "metadata": {},
   "source": [
    "### Machinery for sampling-based likelihood maximization"
   ]
  },
  {
   "cell_type": "code",
   "execution_count": 20,
   "metadata": {
    "collapsed": true
   },
   "outputs": [],
   "source": [
    "##for generating stacks of one-hot-encoded object maps\n",
    "def make_object_map_stack(K, num_rows, num_cols, size_of_field,num_maps):\n",
    "    object_map_base = spm(num_rows,num_cols,size_of_field,cluster_pref = 'random',number_of_clusters = K)\n",
    "    object_maps = np.zeros((num_maps, K, size_of_field**2))\n",
    "    for nm in range(num_maps):\n",
    "        object_map_base.scatter()\n",
    "        tmp = np.squeeze(object_map_base.nn_interpolation())\n",
    "        ##convert to one_hot encoding\n",
    "        tmp = np.eye(K)[tmp.ravel()-1].T  ##K x D\n",
    "        object_maps[nm] = tmp\n",
    "    return object_maps"
   ]
  },
  {
   "cell_type": "code",
   "execution_count": 21,
   "metadata": {
    "collapsed": true
   },
   "outputs": [],
   "source": [
    "##function for generating object counts\n",
    "##get true object counts for each window\n",
    "def get_object_counts(object_maps, windows):\n",
    "    '''\n",
    "    object_maps   =  M x K x D      newaxis\n",
    "                     M x K x 1 x D\n",
    "        windows   =          N x D  mult\n",
    "                     M x K x N x D  sum(axis=-1)\n",
    "                     M x K x N      clip(0,1).sum(axis=1)\n",
    "    object_counts =  M x   x N      astype(int)\n",
    "    \n",
    "    '''\n",
    "    return np.sum(object_maps[:, :,np.newaxis,:]*windows,axis=-1).clip(0,1).sum(axis=1).astype('int')\n"
   ]
  },
  {
   "cell_type": "code",
   "execution_count": 22,
   "metadata": {
    "collapsed": true
   },
   "outputs": [],
   "source": [
    "def get_noisy_object_counts(object_maps, windows, p_on, p_off):\n",
    "    '''\n",
    "    object_maps   =  M x K x D\n",
    "        windows   =      N x D  \n",
    "    \n",
    "    returns\n",
    "     noisy_object_counts  = M x N\n",
    "    '''\n",
    "    \n",
    "    K = object_maps.shape[1]\n",
    "    object_counts = get_object_counts(object_maps, windows) ##M x N\n",
    "    M = object_counts.shape[0]\n",
    "    N = object_counts.shape[1]\n",
    "    observed_responses = np.zeros((M,N), dtype = 'int')\n",
    "    for m in range(M):\n",
    "        for n in range(N):\n",
    "            resp_dist = np.zeros(K)\n",
    "            oc = object_counts[m,n]\n",
    "            for k in range(K):\n",
    "                resp_dist[k] = lkhd(k+1,oc,K,p_on,p_off)\n",
    "            observed_responses[m,n]=np.argmax(np.random.multinomial(1,resp_dist))+1\n",
    "    return observed_responses"
   ]
  },
  {
   "cell_type": "code",
   "execution_count": 23,
   "metadata": {
    "collapsed": true
   },
   "outputs": [],
   "source": [
    "def my_to_one_hot(count_tensor, K):\n",
    "    '''\n",
    "    count_tensor  = M x N\n",
    "    returns M x N x K\n",
    "    '''\n",
    "    M = count_tensor.shape[0]\n",
    "    N = count_tensor.shape[1]\n",
    "    one_hot_count_tensor = np.zeros((M, N, K))\n",
    "    id_mat = np.eye(K)\n",
    "    for m in range(M):\n",
    "        one_hot_count_tensor[m,:, :] = id_mat[count_tensor[m]-1]\n",
    "    return one_hot_count_tensor"
   ]
  },
  {
   "cell_type": "code",
   "execution_count": 24,
   "metadata": {
    "collapsed": true
   },
   "outputs": [],
   "source": [
    "##given some response, evaluate likelihoods of many object maps\n",
    "def evaluate_log_likelihoods(observed_responses, object_map_stack, windows, p_on, p_off, lkhd_table=None):\n",
    "    '''\n",
    "    observed_responses  = 1 x N\n",
    "    object_map_stack = M x K x D\n",
    "    windows = N x D\n",
    "    \n",
    "    returns log_lkhds = M x 1\n",
    "    '''\n",
    "    N = observed_responses.shape[1]\n",
    "    K = object_map_stack.shape[1]\n",
    "    M = object_map_stack.shape[0]\n",
    "\n",
    "    ##reshape observed_responses for convenience\n",
    "    observed_responses = observed_responses.reshape((N,))\n",
    "    ##create a likelihood table (N x K)\n",
    "    if lkhd_table is None:\n",
    "        lkhd_table = np.zeros((N,K), dtype=floatX)\n",
    "        for n in range(N):\n",
    "            for k in range(K):\n",
    "                lkhd_table[n,k]  = np.log(lkhd(observed_responses[n],k+1,K, p_on,p_off))\n",
    "            \n",
    "    ##get object_counts ( M x N)\n",
    "    object_counts = get_object_counts(object_map_stack, windows)\n",
    "    \n",
    "    ##one-hot encoding of object counts M x N x K\n",
    "    one_hot_object_counts = my_to_one_hot(object_counts, K)\n",
    "    \n",
    "    \n",
    "    ##evaluate log_likelihoods\n",
    "    ## one_hot_object_counts = M x N x K\n",
    "    ##            lkhd_table =     N x K tensordot\n",
    "    ## log_lkhds = M x 1\n",
    "    return np.tensordot(one_hot_object_counts, lkhd_table, axes=2)\n",
    "    \n",
    "    "
   ]
  },
  {
   "cell_type": "markdown",
   "metadata": {},
   "source": [
    "### Machinery for evaluating predictive distribution on test data"
   ]
  },
  {
   "cell_type": "code",
   "execution_count": 25,
   "metadata": {
    "collapsed": true
   },
   "outputs": [],
   "source": [
    "def create_lkhd_table(K, theta_plus, theta_minus):\n",
    "    lkhd_table = np.zeros((K,K), dtype=floatX)\n",
    "    for r in range(K):\n",
    "        for c in range(K):\n",
    "            lkhd_table[r,c] = lkhd(r+1,c+1, K, theta_plus, theta_minus)\n",
    "    return lkhd_table\n",
    "            "
   ]
  },
  {
   "cell_type": "code",
   "execution_count": 26,
   "metadata": {
    "collapsed": true
   },
   "outputs": [],
   "source": [
    "def eval_log_pred_dist(Q_Z, M, test_responses, test_windows, theta_plus, theta_minus, lkhd_table = None):\n",
    "    '''\n",
    "    Q_Z ~ K x D\n",
    "    M  ~ number of samples\n",
    "    test_responses ~ 1 x N\n",
    "    test_windows ~ N x D\n",
    "    theta_plus, theta_minus ignored if lkhd_table is provided\n",
    "    lkhd_table ~ K x K (created if not provided)\n",
    "    '''\n",
    "    N = test_responses.shape[1]\n",
    "    resp_dx_list = (test_responses-1).ravel().astype('int').tolist()\n",
    "    K = Q_Z.shape[0]\n",
    "    if lkhd_table is None:\n",
    "        lkhd_table = create_lkhd_table(K, theta_plus, theta_minus)\n",
    "    Z_samples = Z_sample_func(Q_Z, M).astype(floatX)\n",
    "    PD = pred_dist_func(lkhd_table, Z_samples, test_windows, K)\n",
    "    eval_PD = PD[range(N), resp_dx_list]\n",
    "    log_eval_PD = np.log(eval_PD)\n",
    "    return log_eval_PD"
   ]
  },
  {
   "cell_type": "markdown",
   "metadata": {},
   "source": [
    "### Simulated data\n",
    "Generate windows W (N x D), target object map test_Z (K x D), and simulated responses observed_responses (N x 1)"
   ]
  },
  {
   "cell_type": "code",
   "execution_count": 27,
   "metadata": {
    "collapsed": true
   },
   "outputs": [],
   "source": [
    "sqrt_D = 8\n",
    "D = int(sqrt_D*sqrt_D)#number of pixels\n",
    "K = 6#number of objects\n",
    "\n",
    "\n",
    "p_on = 0.8\n",
    "p_off = 0.2"
   ]
  },
  {
   "cell_type": "markdown",
   "metadata": {},
   "source": [
    "#### Design windows. These are square windows and pairs of square windows of various sizes."
   ]
  },
  {
   "cell_type": "code",
   "execution_count": 28,
   "metadata": {
    "collapsed": false
   },
   "outputs": [
    {
     "name": "stdout",
     "output_type": "stream",
     "text": [
      "49\n",
      "305\n"
     ]
    }
   ],
   "source": [
    "##construct windows W ~ (N x D)\n",
    "scales = np.array([1])\n",
    "stride = 1\n",
    "sizes = [1] #scales/2\n",
    "Windows = []\n",
    "for sz in sizes:\n",
    "    scale_count = 0\n",
    "    for rows in np.arange(sz,sqrt_D,stride,dtype=int, ):\n",
    "        for cols in np.arange(sz,sqrt_D,stride,dtype=int):\n",
    "            one_win = np.zeros((sqrt_D,sqrt_D),dtype=floatX)\n",
    "            one_win[(rows-sz):(rows+sz), (cols-sz):(cols+sz)]=1\n",
    "            Windows.append(one_win)\n",
    "            scale_count +=1\n",
    "    print scale_count\n",
    "\n",
    "\n",
    "N = len(Windows)\n",
    "n_groups = 4*D \n",
    "group_order = 4\n",
    "W = np.zeros((N+n_groups,D),dtype=floatX)\n",
    "for n in range(N):\n",
    "    W[n,:] = Windows.pop().ravel()\n",
    "\n",
    "for n in range(N,N+n_groups):\n",
    "    rand_pairs = np.random.permutation(N)[:group_order]\n",
    "    W[n,:] = np.clip(np.sum(W[rand_pairs[0:group_order],:],axis=0), 0, 1)\n",
    "\n",
    "W = W[:(N+n_groups),:]\n",
    "    \n",
    "    \n",
    "N = W.shape[0]\n",
    "print N"
   ]
  },
  {
   "cell_type": "markdown",
   "metadata": {},
   "source": [
    "#### Construct a target object map"
   ]
  },
  {
   "cell_type": "code",
   "execution_count": 29,
   "metadata": {
    "collapsed": false
   },
   "outputs": [],
   "source": [
    "test_object_map = make_object_map_stack(K,4,4,sqrt_D,1)"
   ]
  },
  {
   "cell_type": "markdown",
   "metadata": {},
   "source": [
    "#### Generate simulated responses"
   ]
  },
  {
   "cell_type": "code",
   "execution_count": 30,
   "metadata": {
    "collapsed": false
   },
   "outputs": [],
   "source": [
    "##generate some fake responses using fixed theta parameters\n",
    "observed_responses = get_noisy_object_counts(test_object_map, W, p_on, p_off)\n",
    "\n",
    "test_responses = get_noisy_object_counts(test_object_map, W, p_on, p_off)\n"
   ]
  },
  {
   "cell_type": "code",
   "execution_count": 31,
   "metadata": {
    "collapsed": false
   },
   "outputs": [
    {
     "data": {
      "text/plain": [
       "(1, 305)"
      ]
     },
     "execution_count": 31,
     "metadata": {},
     "output_type": "execute_result"
    }
   ],
   "source": [
    "observed_responses.shape"
   ]
  },
  {
   "cell_type": "code",
   "execution_count": 32,
   "metadata": {
    "collapsed": false
   },
   "outputs": [
    {
     "data": {
      "image/png": "[encoded data removed]",
      "text/plain": [
       "<matplotlib.figure.Figure at 0x7feb73583c50>"
      ]
     },
     "metadata": {},
     "output_type": "display_data"
    }
   ],
   "source": [
    "_=plt.hist(observed_responses.T)"
   ]
  },
  {
   "cell_type": "markdown",
   "metadata": {},
   "source": [
    "### CAVI loop"
   ]
  },
  {
   "cell_type": "markdown",
   "metadata": {},
   "source": [
    "#### Initialization functions"
   ]
  },
  {
   "cell_type": "code",
   "execution_count": 33,
   "metadata": {
    "collapsed": false
   },
   "outputs": [],
   "source": [
    "def init_Q_Z(observed_responses, windows, num_maps, theta_plus, theta_minus, dirichlet_param, K, D):\n",
    "    sqrt_D = int(np.sqrt(D))\n",
    "    map_stack = make_object_map_stack(K, 2*K, 2*K, sqrt_D,num_maps)\n",
    "    starter_logs = evaluate_log_likelihoods(observed_responses, map_stack, windows, theta_plus, theta_minus)\n",
    "    best_start_map = np.argmax(starter_logs)\n",
    "    start_Z = map_stack[best_start_map] ## K x D\n",
    "    best_start_map_image=see_Z_sample(start_Z, sqrt_D, show=False)\n",
    "    Q_Z = np.zeros((K,D), dtype=floatX)\n",
    "    for d in range(D): #np.random.permutation(D):\n",
    "        Q_Z[:,d] = np.random.dirichlet(start_Z[:,d]+dirichlet_param)\n",
    "    return Q_Z, best_start_map_image, starter_logs"
   ]
  },
  {
   "cell_type": "code",
   "execution_count": 34,
   "metadata": {
    "collapsed": true
   },
   "outputs": [],
   "source": [
    "def init_Eln_pi(Q_Z, dirichlet_param):\n",
    "    q_Z = Q_Z.sum(axis=1, keepdims=True) ##a fake q_Z, should be K x 1\n",
    "    Eln_pi, _ = prior_update_func(q_Z, dirichlet_param)\n",
    "    return Eln_pi"
   ]
  },
  {
   "cell_type": "code",
   "execution_count": 35,
   "metadata": {
    "collapsed": true
   },
   "outputs": [],
   "source": [
    "def init_P_star(observed_responses, theta_plus, theta_minus, K):\n",
    "    N = observed_responses.shape[1]\n",
    "    observed_responses = np.squeeze(observed_responses)\n",
    "    P_star = np.zeros((N,K),dtype=floatX)\n",
    "    for n in range(N):\n",
    "        for k in range(K):\n",
    "            P_star[n,k]  = lkhd(observed_responses[n],k+1,K, theta_plus,theta_minus)\n",
    "    return P_star"
   ]
  },
  {
   "cell_type": "markdown",
   "metadata": {},
   "source": [
    "#### Visualization functions"
   ]
  },
  {
   "cell_type": "code",
   "execution_count": 36,
   "metadata": {
    "collapsed": true
   },
   "outputs": [],
   "source": [
    "##visualize the variational posterior over pixels\n",
    "def see_Q_Z(Q_Z, target_object_map = None, clim=[0,1]):\n",
    "    ##view: construct an image grid\n",
    "    fig = plt.figure(1, (30,10))\n",
    "    K = Q_Z.shape[0]\n",
    "    if target_object_map is not None:\n",
    "        K += 1\n",
    "    grid = ImageGrid(fig, 111, # similar to subplot(111)\n",
    "                    nrows_ncols = (1, K), # creates grid of axes\n",
    "                    axes_pad=0.5, # pad between axes in inch.\n",
    "                    cbar_mode = 'each',\n",
    "                    cbar_pad = .05\n",
    "                    )\n",
    "    if target_object_map is not None:\n",
    "        im = grid[0].imshow(target_object_map,cmap='Dark2')\n",
    "        grid[0].cax.colorbar(im)\n",
    "        for kk in range(1,K):\n",
    "            im = grid[kk].imshow(Q_Z[kk-1], cmap='hot', clim=clim)\n",
    "            grid[kk].cax.colorbar(im)\n",
    "\n",
    "    else: \n",
    "        for kk in range(0,K):\n",
    "            im = grid[kk].imshow(Q_Z[kk], cmap='hot', clim=clim)\n",
    "            grid[kk].cax.colorbar(im)"
   ]
  },
  {
   "cell_type": "code",
   "execution_count": 37,
   "metadata": {
    "collapsed": true
   },
   "outputs": [],
   "source": [
    "##this will help visualize samples from Q_Z\n",
    "def see_Z_sample(Z,sqrt_D,axis=0,show=True):\n",
    "    '''\n",
    "    Z ~ K x D\n",
    "    convert to 1 x D, D[i] = j, j = argmax(Z[:,i])\n",
    "    '''\n",
    "    Z_image = np.argmax(Z,axis=axis).reshape(sqrt_D,sqrt_D)\n",
    "    if show:\n",
    "        ax = plt.pcolor(Z_image,cmap='Dark2')\n",
    "        plt.axes().set_aspect('equal', 'datalim')\n",
    "    return Z_image\n"
   ]
  },
  {
   "cell_type": "code",
   "execution_count": 38,
   "metadata": {
    "collapsed": true
   },
   "outputs": [],
   "source": [
    "from matplotlib.mlab import griddata"
   ]
  },
  {
   "cell_type": "code",
   "execution_count": 39,
   "metadata": {
    "collapsed": false
   },
   "outputs": [],
   "source": [
    "##visualize Q_theta (or lnQ_theta)\n",
    "def see_Q_theta(Q_theta, lkhd_param_grid):\n",
    "    ##name the data\n",
    "    x = lkhd_param_grid[:,0]\n",
    "    y = lkhd_param_grid[:,1]\n",
    "    z = Q_theta.squeeze()\n",
    "    \n",
    "    # define grid.\n",
    "    \n",
    "    xi = np.linspace(-0.01, 1.01, 300)\n",
    "    yi = np.linspace(-0.01, 1.01, 300)\n",
    "    # grid the data.\n",
    "    zi = griddata(x, y, z, xi, yi, interp='linear')\n",
    "    # contour the gridded data, plotting dots at the nonuniform data points.\n",
    "    CS = plt.contour(xi, yi, zi, 15, linewidths=0.5, colors='k')\n",
    "    CS = plt.contourf(xi, yi, zi, 15,\n",
    "    vmax=abs(zi).max(), vmin=-abs(zi).max())\n",
    "    plt.colorbar()  # draw colorbar\n",
    "    # plot data points.\n",
    "    plt.scatter(x, y, marker='o', s=5, zorder=10)\n",
    "    plt.xlim(0, 1)\n",
    "    plt.ylim(0, 1)\n",
    "    \n",
    "    "
   ]
  },
  {
   "cell_type": "code",
   "execution_count": 40,
   "metadata": {
    "collapsed": true
   },
   "outputs": [],
   "source": [
    "##object confusion matrix, sort of\n",
    "##for each object, calculate the log-prob under the variational posterior for each class. return. display\n",
    "def object_confusion(Q_Z, Z, show=False):\n",
    "    '''\n",
    "    log_prob_kj = (K x K) log-prob of class k in Q_Z given object j in object map Z\n",
    "    '''\n",
    "    K = Z.shape[0]\n",
    "    log_prob = np.zeros((K,K))\n",
    "    for k in range(K):\n",
    "        for j in range(K):\n",
    "            log_prob[k,j] = np.sum(np.log(Q_Z[k].clip(10e-15,1))*Z[j])\n",
    "    \n",
    "    if show:\n",
    "        plt.pcolor(log_prob, cmap='gray')\n",
    "        plt.axes().set_aspect('equal', 'datalim')\n",
    "        plt.colorbar()\n",
    "    return log_prob\n",
    "\n",
    "def see_posterior_overlay(Q_Z, Z):\n",
    "    '''\n",
    "    Q_Z ~ K x D\n",
    "      Z ~ K x D\n",
    "    '''\n",
    "    ##view: construct an image grid\n",
    "    fig = plt.figure(1, (40,20))\n",
    "    K = Q_Z.shape[0]\n",
    "    sqrt_D = int(np.sqrt(Q_Z.shape[1]))\n",
    "    grid = ImageGrid(fig, 111, # similar to subplot(111)\n",
    "                    nrows_ncols = (1, K), # creates grid of axes\n",
    "                    axes_pad=0.5, # pad between axes in inch.\n",
    "                    cbar_mode = 'each',\n",
    "                    cbar_pad = .05\n",
    "                    )\n",
    "    \n",
    "    colors = [(0, 0, 0), (1., 1., 0)]\n",
    "    cm_1 = LinearSegmentedColormap.from_list(\n",
    "        'object_map', colors, N=2)\n",
    "\n",
    "    colors = [(0, 0, 0), (0., 0., 1.)]\n",
    "    cm_2 = LinearSegmentedColormap.from_list(\n",
    "        'prob', colors, N=20)\n",
    "\n",
    "    \n",
    "    log_prob = object_confusion(Q_Z, Z)\n",
    "    Q_Z = Q_Z.reshape((K, sqrt_D, sqrt_D))\n",
    "    Z = Z.reshape((K, sqrt_D, sqrt_D))\n",
    "    for k in range(K):\n",
    "        \n",
    "        max_k,max_j = np.unravel_index(np.argmax(log_prob), log_prob.shape)\n",
    "        log_prob[max_k,:] = -np.inf\n",
    "        log_prob[:,max_j] = -np.inf\n",
    "        grid[k].imshow(Z[max_j],cmap=cm_1)\n",
    "        grid[k].imshow(Q_Z[max_k], cmap=cm_2, clim=[0,1], alpha = 0.6)\n",
    "        \n",
    "    \n",
    "    \n",
    "    \n",
    "            "
   ]
  },
  {
   "cell_type": "markdown",
   "metadata": {},
   "source": [
    "#### View target"
   ]
  },
  {
   "cell_type": "code",
   "execution_count": 41,
   "metadata": {
    "collapsed": false
   },
   "outputs": [
    {
     "data": {
      "text/plain": [
       "<matplotlib.image.AxesImage at 0x7feb6fb6a0d0>"
      ]
     },
     "execution_count": 41,
     "metadata": {},
     "output_type": "execute_result"
    },
    {
     "data": {
      "image/png": "[encoded data removed]",
      "text/plain": [
       "<matplotlib.figure.Figure at 0x7feb6fb6a090>"
      ]
     },
     "metadata": {},
     "output_type": "display_data"
    }
   ],
   "source": [
    "test_object_map_image = see_Z_sample(test_object_map[0], sqrt_D, show=False)\n",
    "plt.imshow(test_object_map_image, cmap='Dark2')\n",
    "plt.imshow(W[-5].reshape((sqrt_D,sqrt_D)).astype('uint8')*255, interpolation='none', alpha = .2, cmap=plt.cm.gray, clim=[0,255])"
   ]
  },
  {
   "cell_type": "markdown",
   "metadata": {},
   "source": [
    "#### Set params and initialize"
   ]
  },
  {
   "cell_type": "code",
   "execution_count": 44,
   "metadata": {
    "collapsed": false
   },
   "outputs": [],
   "source": [
    "##initial randomness: controls randomness of each pixel's Q_z\n",
    "alpha_0 = .01\n",
    "\n",
    "##initial guess noise params\n",
    "theta_plus, theta_minus = .99, .01\n",
    "\n",
    "##density of sampling grid of lkhd params\n",
    "theta_dns = 50\n",
    "\n",
    "##number of randomly generated maps to evaluate for initial condition of Q_Z\n",
    "num_starter_maps = 500\n",
    "\n",
    "##number of samples from Q_Z per update\n",
    "M = 10#number of object map samples to generate for calculating object responsibility\n",
    "\n",
    "##number of iterations before quitting\n",
    "max_t = 50\n",
    "\n",
    "##Q_Z = K x D\n",
    "Q_Z, best_start_map_image, starter_logs = init_Q_Z(observed_responses, W, num_starter_maps, theta_plus, theta_minus, alpha_0, K, D)\n",
    "best_Q_Z = Q_Z.copy()\n",
    "\n",
    "##N x K\n",
    "P_star = init_P_star(observed_responses, theta_plus, theta_minus, K)\n",
    "\n",
    "##K x 1\n",
    "Eln_pi = init_Eln_pi(Q_Z, alpha_0)"
   ]
  },
  {
   "cell_type": "code",
   "execution_count": 45,
   "metadata": {
    "collapsed": false
   },
   "outputs": [],
   "source": [
    "##G x N x K\n",
    "# P_theta = P_star[np.newaxis,:,:]\n",
    "# lkhd_param_grid = np.array([theta_plus, theta_minus], dtype=floatX, ndmin=2)\n",
    "P_theta, lkhd_param_grid = lkhd_grid(observed_responses[0], theta_dns, K)\n",
    "lkhd_param_grid = lkhd_param_grid.astype(floatX)"
   ]
  },
  {
   "cell_type": "code",
   "execution_count": 46,
   "metadata": {
    "collapsed": false,
    "scrolled": true
   },
   "outputs": [
    {
     "name": "stdout",
     "output_type": "stream",
     "text": [
      "===========ELBO: -475.901215\n",
      "badness of fit: 481.227966\n",
      "posterior_entropy: 5.326742\n",
      "\n",
      "\n",
      "mean log of predictive distribution over test samples: -3.868583\n",
      "\n",
      "\n"
     ]
    }
   ],
   "source": [
    "##get an initial lnQ_theta_star so we can calculate an initial ELBO\n",
    "##update lkhd params\n",
    "Z = Z_sample_func(Q_Z, M).astype(floatX)\n",
    "oc_probs = object_count_prob_func(Z, W, K)\n",
    "theta_star, P_star, lnQ_theta, Q_theta= lkhd_update_func(P_theta, oc_probs, lkhd_param_grid.astype(floatX))\n",
    "\n",
    "##calculate starter ELBO\n",
    "ELBO_history = np.zeros((max_t+1,1))\n",
    "badness_of_fit, posterior_entropy, ELBO_history[0] = ELBO_update_func(Q_Z, lnQ_theta.max())\n",
    "\n",
    "##calcualte starter pred. dist\\\n",
    "ln_PD = np.zeros((max_t+1,1))\n",
    "ln_PD[0] = eval_log_pred_dist(Q_Z, M, test_responses, W, theta_plus, theta_minus).mean()\n",
    "best_ln_PD = ln_PD[0]\n",
    "\n",
    "\n",
    "print '===========ELBO: %f' %(ELBO_history[0])\n",
    "print 'badness of fit: %f' %(badness_of_fit)\n",
    "print 'posterior_entropy: %f' %(posterior_entropy)\n",
    "print '\\n'\n",
    "\n",
    "print 'mean log of predictive distribution over test samples: %f' %(ln_PD[0])\n",
    "print '\\n'\n",
    "\n",
    "\n",
    "delta_ELBO = np.inf\n",
    "\n",
    "min_delta_ELBO = 10e-10\n",
    "ELBO_old = 0."
   ]
  },
  {
   "cell_type": "markdown",
   "metadata": {},
   "source": [
    "#### View starting point and target"
   ]
  },
  {
   "cell_type": "code",
   "execution_count": 50,
   "metadata": {
    "collapsed": false
   },
   "outputs": [
    {
     "data": {
      "image/png": "[encoded data removed]",
      "text/plain": [
       "<matplotlib.figure.Figure at 0x7feb5f6c7910>"
      ]
     },
     "metadata": {},
     "output_type": "display_data"
    }
   ],
   "source": [
    "see_Q_Z(Q_Z.reshape((K,sqrt_D,sqrt_D)), target_object_map=best_start_map_image)"
   ]
  },
  {
   "cell_type": "code",
   "execution_count": 51,
   "metadata": {
    "collapsed": false
   },
   "outputs": [
    {
     "data": {
      "text/plain": [
       "<matplotlib.text.Text at 0x7feb6c0756d0>"
      ]
     },
     "execution_count": 51,
     "metadata": {},
     "output_type": "execute_result"
    },
    {
     "data": {
      "image/png": "[encoded data removed]",
      "text/plain": [
       "<matplotlib.figure.Figure at 0x7feb5f6ed3d0>"
      ]
     },
     "metadata": {},
     "output_type": "display_data"
    }
   ],
   "source": [
    "fig = plt.figure(figsize=(8,8))\n",
    "plt.subplot(1,2,2)\n",
    "plt.imshow(best_start_map_image, cmap='Dark2')\n",
    "plt.title('best')\n",
    "\n",
    "plt.subplot(1,2,1)\n",
    "plt.imshow(test_object_map_image, cmap='Dark2')\n",
    "plt.title('target')"
   ]
  },
  {
   "cell_type": "markdown",
   "metadata": {},
   "source": [
    "#### Evaluate predictive distribution"
   ]
  },
  {
   "cell_type": "markdown",
   "metadata": {},
   "source": [
    "#### Main loop\n"
   ]
  },
  {
   "cell_type": "code",
   "execution_count": 52,
   "metadata": {
    "collapsed": false,
    "scrolled": true
   },
   "outputs": [
    {
     "name": "stdout",
     "output_type": "stream",
     "text": [
      "!new best!\n",
      "=============================================\n",
      "===========ELBO: -379.454346\n",
      "badness of fit: 479.057434\n",
      "posterior_entropy: 99.603096\n",
      "\n",
      "\n",
      "mean log of predictive distribution over test samples: -1.483119\n",
      "\n",
      "\n",
      "noise parameters: 0.713857, 0.326420\n",
      "=============================================\n",
      "===========ELBO: -374.296082\n",
      "badness of fit: 479.442108\n",
      "posterior_entropy: 105.146027\n",
      "\n",
      "\n",
      "mean log of predictive distribution over test samples: -1.485122\n",
      "\n",
      "\n",
      "noise parameters: 0.713857, 0.326420\n",
      "=============================================\n",
      "===========ELBO: -375.868225\n",
      "badness of fit: 483.063141\n",
      "posterior_entropy: 107.194908\n",
      "\n",
      "\n",
      "mean log of predictive distribution over test samples: -1.490202\n",
      "\n",
      "\n",
      "noise parameters: 0.713857, 0.346759\n",
      "=============================================\n",
      "===========ELBO: -375.130127\n",
      "badness of fit: 483.020599\n",
      "posterior_entropy: 107.890457\n",
      "\n",
      "\n",
      "mean log of predictive distribution over test samples: -1.495460\n",
      "\n",
      "\n",
      "noise parameters: 0.693490, 0.367083\n",
      "=============================================\n",
      "===========ELBO: -371.655304\n",
      "badness of fit: 481.978638\n",
      "posterior_entropy: 110.323334\n",
      "\n",
      "\n",
      "mean log of predictive distribution over test samples: -1.492822\n",
      "\n",
      "\n",
      "noise parameters: 0.693490, 0.346745\n",
      "=============================================\n",
      "===========ELBO: -371.671387\n",
      "badness of fit: 482.732697\n",
      "posterior_entropy: 111.061302\n",
      "\n",
      "\n",
      "mean log of predictive distribution over test samples: -1.490703\n",
      "\n",
      "\n",
      "noise parameters: 0.693490, 0.346745\n",
      "=============================================\n",
      "===========ELBO: -370.873718\n",
      "badness of fit: 482.575500\n",
      "posterior_entropy: 111.701782\n",
      "\n",
      "\n",
      "mean log of predictive distribution over test samples: -1.499590\n",
      "\n",
      "\n",
      "noise parameters: 0.693490, 0.346745\n",
      "=============================================\n",
      "===========ELBO: -367.983856\n",
      "badness of fit: 479.915344\n",
      "posterior_entropy: 111.931488\n",
      "\n",
      "\n",
      "mean log of predictive distribution over test samples: -1.489117\n",
      "\n",
      "\n",
      "noise parameters: 0.693490, 0.326407\n",
      "=============================================\n",
      "===========ELBO: -371.425415\n",
      "badness of fit: 483.096100\n",
      "posterior_entropy: 111.670677\n",
      "\n",
      "\n",
      "mean log of predictive distribution over test samples: -1.487734\n",
      "\n",
      "\n",
      "noise parameters: 0.693490, 0.346745\n",
      "=============================================\n",
      "===========ELBO: -370.814972\n",
      "badness of fit: 482.856354\n",
      "posterior_entropy: 112.041374\n",
      "\n",
      "\n",
      "mean log of predictive distribution over test samples: -1.489272\n",
      "\n",
      "\n",
      "noise parameters: 0.693490, 0.346745\n",
      "=============================================\n",
      "===========ELBO: -368.488190\n",
      "badness of fit: 480.629486\n",
      "posterior_entropy: 112.141296\n",
      "\n",
      "\n",
      "mean log of predictive distribution over test samples: -1.491130\n",
      "\n",
      "\n",
      "noise parameters: 0.693490, 0.326407\n",
      "=============================================\n",
      "===========ELBO: -369.894165\n",
      "badness of fit: 481.512695\n",
      "posterior_entropy: 111.618546\n",
      "\n",
      "\n",
      "mean log of predictive distribution over test samples: -1.483682\n",
      "\n",
      "\n",
      "noise parameters: 0.693490, 0.326407\n",
      "=============================================\n",
      "===========ELBO: -369.540863\n",
      "badness of fit: 481.475159\n",
      "posterior_entropy: 111.934296\n",
      "\n",
      "\n",
      "mean log of predictive distribution over test samples: -1.496698\n",
      "\n",
      "\n",
      "noise parameters: 0.693490, 0.326407\n",
      "=============================================\n",
      "===========ELBO: -370.462830\n",
      "badness of fit: 483.089264\n",
      "posterior_entropy: 112.626434\n",
      "\n",
      "\n",
      "mean log of predictive distribution over test samples: -1.493622\n",
      "\n",
      "\n",
      "noise parameters: 0.693490, 0.346745\n",
      "=============================================\n",
      "===========ELBO: -368.543274\n",
      "badness of fit: 481.502655\n",
      "posterior_entropy: 112.959396\n",
      "\n",
      "\n",
      "mean log of predictive distribution over test samples: -1.495886\n",
      "\n",
      "\n",
      "noise parameters: 0.693490, 0.326407\n",
      "=============================================\n",
      "===========ELBO: -370.328278\n",
      "badness of fit: 482.684540\n",
      "posterior_entropy: 112.356270\n",
      "\n",
      "\n",
      "mean log of predictive distribution over test samples: -1.493968\n",
      "\n",
      "\n",
      "noise parameters: 0.693490, 0.346745\n",
      "=============================================\n",
      "===========ELBO: -367.658356\n",
      "badness of fit: 480.659607\n",
      "posterior_entropy: 113.001259\n",
      "\n",
      "\n",
      "mean log of predictive distribution over test samples: -1.489433\n",
      "\n",
      "\n",
      "noise parameters: 0.693490, 0.326407\n",
      "=============================================\n",
      "===========ELBO: -369.838104\n",
      "badness of fit: 481.866394\n",
      "posterior_entropy: 112.028290\n",
      "\n",
      "\n",
      "mean log of predictive distribution over test samples: -1.487871\n",
      "\n",
      "\n",
      "noise parameters: 0.693490, 0.326407\n",
      "=============================================\n",
      "===========ELBO: -370.460388\n",
      "badness of fit: 482.870605\n",
      "posterior_entropy: 112.410233\n",
      "\n",
      "\n",
      "mean log of predictive distribution over test samples: -1.497920\n",
      "\n",
      "\n",
      "noise parameters: 0.693490, 0.346745\n",
      "=============================================\n",
      "===========ELBO: -369.655518\n",
      "badness of fit: 482.464355\n",
      "posterior_entropy: 112.808830\n",
      "\n",
      "\n",
      "mean log of predictive distribution over test samples: -1.496503\n",
      "\n",
      "\n",
      "noise parameters: 0.693490, 0.326407\n",
      "=============================================\n",
      "===========ELBO: -369.914978\n",
      "badness of fit: 481.554321\n",
      "posterior_entropy: 111.639336\n",
      "\n",
      "\n",
      "mean log of predictive distribution over test samples: -1.489129\n",
      "\n",
      "\n",
      "noise parameters: 0.693490, 0.326407\n",
      "=============================================\n",
      "===========ELBO: -372.243073\n",
      "badness of fit: 484.207184\n",
      "posterior_entropy: 111.964119\n",
      "\n",
      "\n",
      "mean log of predictive distribution over test samples: -1.495339\n",
      "\n",
      "\n",
      "noise parameters: 0.693490, 0.346745\n",
      "=============================================\n",
      "===========ELBO: -368.774231\n",
      "badness of fit: 481.449982\n",
      "posterior_entropy: 112.675751\n",
      "\n",
      "\n",
      "mean log of predictive distribution over test samples: -1.489166\n",
      "\n",
      "\n",
      "noise parameters: 0.693490, 0.346745\n",
      "=============================================\n",
      "===========ELBO: -369.765808\n",
      "badness of fit: 482.588684\n",
      "posterior_entropy: 112.822891\n",
      "\n",
      "\n",
      "mean log of predictive distribution over test samples: -1.490227\n",
      "\n",
      "\n",
      "noise parameters: 0.693490, 0.326407\n",
      "=============================================\n",
      "===========ELBO: -368.464203\n",
      "badness of fit: 480.604553\n",
      "posterior_entropy: 112.140343\n",
      "\n",
      "\n",
      "mean log of predictive distribution over test samples: -1.493379\n",
      "\n",
      "\n",
      "noise parameters: 0.693490, 0.326407\n",
      "=============================================\n",
      "===========ELBO: -369.370056\n",
      "badness of fit: 481.964478\n",
      "posterior_entropy: 112.594414\n",
      "\n",
      "\n",
      "mean log of predictive distribution over test samples: -1.490941\n",
      "\n",
      "\n",
      "noise parameters: 0.693490, 0.326407\n",
      "=============================================\n",
      "===========ELBO: -369.106995\n",
      "badness of fit: 481.350891\n",
      "posterior_entropy: 112.243889\n",
      "\n",
      "\n",
      "mean log of predictive distribution over test samples: -1.489543\n",
      "\n",
      "\n",
      "noise parameters: 0.693490, 0.326407\n",
      "=============================================\n",
      "===========ELBO: -371.869659\n",
      "badness of fit: 483.682373\n",
      "posterior_entropy: 111.812714\n",
      "\n",
      "\n",
      "mean log of predictive distribution over test samples: -1.489607\n",
      "\n",
      "\n",
      "noise parameters: 0.693490, 0.346745\n",
      "=============================================\n",
      "===========ELBO: -368.259125\n",
      "badness of fit: 480.934906\n",
      "posterior_entropy: 112.675781\n",
      "\n",
      "\n",
      "mean log of predictive distribution over test samples: -1.492434\n",
      "\n",
      "\n",
      "noise parameters: 0.693490, 0.326407\n",
      "=============================================\n",
      "===========ELBO: -368.398254\n",
      "badness of fit: 480.620850\n",
      "posterior_entropy: 112.222610\n",
      "\n",
      "\n",
      "mean log of predictive distribution over test samples: -1.495408\n",
      "\n",
      "\n",
      "noise parameters: 0.693490, 0.326407\n",
      "=============================================\n",
      "===========ELBO: -370.626099\n",
      "badness of fit: 482.615021\n",
      "posterior_entropy: 111.988937\n",
      "\n",
      "\n",
      "mean log of predictive distribution over test samples: -1.489630\n",
      "\n",
      "\n",
      "noise parameters: 0.693490, 0.326407\n",
      "=============================================\n",
      "===========ELBO: -370.110626\n",
      "badness of fit: 481.944519\n",
      "posterior_entropy: 111.833900\n",
      "\n",
      "\n",
      "mean log of predictive distribution over test samples: -1.491332\n",
      "\n",
      "\n",
      "noise parameters: 0.693490, 0.326407\n",
      "=============================================\n",
      "===========ELBO: -369.615265\n",
      "badness of fit: 482.141998\n",
      "posterior_entropy: 112.526726\n",
      "\n",
      "\n",
      "mean log of predictive distribution over test samples: -1.490410\n",
      "\n",
      "\n",
      "noise parameters: 0.693490, 0.346745\n",
      "=============================================\n",
      "===========ELBO: -370.417328\n",
      "badness of fit: 482.885742\n",
      "posterior_entropy: 112.468422\n",
      "\n",
      "\n",
      "mean log of predictive distribution over test samples: -1.495496\n",
      "\n",
      "\n",
      "noise parameters: 0.693490, 0.346745\n",
      "=============================================\n",
      "===========ELBO: -368.389099\n",
      "badness of fit: 481.052734\n",
      "posterior_entropy: 112.663643\n",
      "\n",
      "\n",
      "mean log of predictive distribution over test samples: -1.486849\n",
      "\n",
      "\n",
      "noise parameters: 0.693490, 0.326407\n",
      "=============================================\n",
      "===========ELBO: -368.566101\n",
      "badness of fit: 480.610352\n",
      "posterior_entropy: 112.044243\n",
      "\n",
      "\n",
      "mean log of predictive distribution over test samples: -1.490864\n",
      "\n",
      "\n",
      "noise parameters: 0.693490, 0.326407\n",
      "=============================================\n",
      "===========ELBO: -371.488220\n",
      "badness of fit: 483.658875\n",
      "posterior_entropy: 112.170647\n",
      "\n",
      "\n",
      "mean log of predictive distribution over test samples: -1.491564\n",
      "\n",
      "\n",
      "noise parameters: 0.693490, 0.346745\n",
      "=============================================\n",
      "===========ELBO: -367.515900\n",
      "badness of fit: 480.062439\n",
      "posterior_entropy: 112.546532\n",
      "\n",
      "\n",
      "mean log of predictive distribution over test samples: -1.484497\n",
      "\n",
      "\n",
      "noise parameters: 0.693490, 0.306069\n",
      "=============================================\n",
      "===========ELBO: -372.046448\n",
      "badness of fit: 484.122070\n",
      "posterior_entropy: 112.075607\n",
      "\n",
      "\n",
      "mean log of predictive distribution over test samples: -1.491673\n",
      "\n",
      "\n",
      "noise parameters: 0.693490, 0.346745\n",
      "=============================================\n",
      "===========ELBO: -368.981140\n",
      "badness of fit: 481.893951\n",
      "posterior_entropy: 112.912827\n",
      "\n",
      "\n",
      "mean log of predictive distribution over test samples: -1.488400\n",
      "\n",
      "\n",
      "noise parameters: 0.693490, 0.326407\n",
      "=============================================\n",
      "===========ELBO: -368.057373\n",
      "badness of fit: 480.241211\n",
      "posterior_entropy: 112.183846\n",
      "\n",
      "\n",
      "mean log of predictive distribution over test samples: -1.487474\n",
      "\n",
      "\n",
      "noise parameters: 0.693490, 0.326407\n",
      "!new best!\n",
      "=============================================\n",
      "===========ELBO: -367.429932\n",
      "badness of fit: 479.786987\n",
      "posterior_entropy: 112.357056\n",
      "\n",
      "\n",
      "mean log of predictive distribution over test samples: -1.481274\n",
      "\n",
      "\n",
      "noise parameters: 0.693490, 0.306069\n",
      "=============================================\n",
      "===========ELBO: -368.552612\n",
      "badness of fit: 480.502625\n",
      "posterior_entropy: 111.949997\n",
      "\n",
      "\n",
      "mean log of predictive distribution over test samples: -1.488754\n",
      "\n",
      "\n",
      "noise parameters: 0.693490, 0.326407\n",
      "=============================================\n",
      "===========ELBO: -368.169556\n",
      "badness of fit: 479.938232\n",
      "posterior_entropy: 111.768677\n",
      "\n",
      "\n",
      "mean log of predictive distribution over test samples: -1.487910\n",
      "\n",
      "\n",
      "noise parameters: 0.693490, 0.306069\n",
      "=============================================\n",
      "===========ELBO: -367.704651\n",
      "badness of fit: 479.762329\n",
      "posterior_entropy: 112.057663\n",
      "\n",
      "\n",
      "mean log of predictive distribution over test samples: -1.495248\n",
      "\n",
      "\n",
      "noise parameters: 0.693490, 0.306069\n",
      "=============================================\n",
      "===========ELBO: -369.590363\n",
      "badness of fit: 481.468018\n",
      "posterior_entropy: 111.877663\n",
      "\n",
      "\n",
      "mean log of predictive distribution over test samples: -1.492821\n",
      "\n",
      "\n",
      "noise parameters: 0.693490, 0.326407\n",
      "=============================================\n",
      "===========ELBO: -369.896729\n",
      "badness of fit: 481.594696\n",
      "posterior_entropy: 111.697975\n",
      "\n",
      "\n",
      "mean log of predictive distribution over test samples: -1.486877\n",
      "\n",
      "\n",
      "noise parameters: 0.693490, 0.326407\n",
      "=============================================\n",
      "===========ELBO: -368.410492\n",
      "badness of fit: 480.427124\n",
      "posterior_entropy: 112.016640\n",
      "\n",
      "\n",
      "mean log of predictive distribution over test samples: -1.484629\n",
      "\n",
      "\n",
      "noise parameters: 0.693490, 0.326407\n",
      "=============================================\n",
      "===========ELBO: -370.711121\n",
      "badness of fit: 482.776367\n",
      "posterior_entropy: 112.065231\n",
      "\n",
      "\n",
      "mean log of predictive distribution over test samples: -1.495881\n",
      "\n",
      "\n",
      "noise parameters: 0.693490, 0.346745\n",
      "=============================================\n",
      "===========ELBO: -368.598846\n",
      "badness of fit: 481.013245\n",
      "posterior_entropy: 112.414398\n",
      "\n",
      "\n",
      "mean log of predictive distribution over test samples: -1.492468\n",
      "\n",
      "\n",
      "noise parameters: 0.693490, 0.326407\n"
     ]
    }
   ],
   "source": [
    "##other scalars\n",
    "t = 1\n",
    "\n",
    "\n",
    "\n",
    "\n",
    "while (delta_ELBO > min_delta_ELBO) and (t <= max_t):\n",
    "    \n",
    "    \n",
    "    ##put lkhd in log domain\n",
    "    lnP_star = np.log(P_star).astype(floatX)\n",
    "    \n",
    "    ##coordinate ascent on variational posteriors of object map pixels\n",
    "    for d in range(D):\n",
    "        Z = Z_sample_func(Q_Z, M).astype(floatX)  ##M x K x D\n",
    "        oc_probs = np.zeros((K, N, K),dtype=floatX)\n",
    "        v = np.zeros((K,1), dtype=floatX)\n",
    "        for k in range(K): \n",
    "            Z[:,:,d] = 0.    ##clear out object assignment for pixel d\n",
    "            Z[:,k, d] = 1.   ##assign pixel d to object k\n",
    "            oc_probs[k,:,:] = object_count_prob_func(Z, W, K) ##calculate object count probs. given this assignment\n",
    "            v[k] = np.dot(Z[0,:,d], Eln_pi,)               ##compare current assignment to prior over assignments\n",
    "        Q_Z[:, d] = Q_z_update_func(oc_probs, lnP_star, v).squeeze() ##update variational posterior for pixel d\n",
    " \n",
    "    \n",
    "    ##update lkhd params\n",
    "    Z = Z_sample_func(Q_Z, M).astype(floatX)\n",
    "    oc_probs = object_count_prob_func(Z, W, K)\n",
    "    theta_star, P_star, lnQ_theta, Q_theta = lkhd_update_func(P_theta, oc_probs, lkhd_param_grid)\n",
    "    \n",
    "    ##update prior params\n",
    "    q_Z = Q_Z.sum(axis=1, keepdims=True)\n",
    "    Eln_pi, E_pi = prior_update_func(q_Z, alpha_0)\n",
    "    \n",
    "    ##calculate ELBO\n",
    "    badness_of_fit, posterior_entropy, ELBO_history[t] = ELBO_update_func(Q_Z, lnQ_theta.max())\n",
    "    \n",
    "    ##update ELBO convergence criteria\n",
    "    delta_ELBO = np.abs(ELBO_history[t]-ELBO_old)\n",
    "    ELBO_old = ELBO_history[t]\n",
    "    \n",
    "    \n",
    "    ##calcualte pred. dist\n",
    "    ln_PD[t] = eval_log_pred_dist(Q_Z, M, test_responses, W, theta_star[0], theta_star[1]).mean()\n",
    "    if ln_PD[t] > best_ln_PD:\n",
    "        print '!new best!'\n",
    "        best_ln_PD = ln_PD[t]\n",
    "        best_Q_Z = Q_Z.copy()\n",
    "        best_theta = theta_star.copy()\n",
    "    \n",
    "    print '============================================='\n",
    "    print '===========ELBO: %f' %(ELBO_old)\n",
    "    print 'badness of fit: %f' %(badness_of_fit)\n",
    "    print 'posterior_entropy: %f' %(posterior_entropy)\n",
    "    print '\\n'\n",
    "    \n",
    "    print 'mean log of predictive distribution over test samples: %f' %(ln_PD[t])\n",
    "    print '\\n'\n",
    "    \n",
    "    print 'noise parameters: %f, %f' %(theta_star[0],theta_star[1])\n",
    "    t += 1\n",
    "ELBO = ELBO_history[:t-1]\n",
    "ln_PD = ln_PD[:t-1]"
   ]
  },
  {
   "cell_type": "code",
   "execution_count": 53,
   "metadata": {
    "collapsed": false
   },
   "outputs": [
    {
     "data": {
      "image/png": "[encoded data removed]",
      "text/plain": [
       "<matplotlib.figure.Figure at 0x7feb6c0ffc90>"
      ]
     },
     "metadata": {},
     "output_type": "display_data"
    }
   ],
   "source": [
    "# fig = plt.figure(figsize=(10,10))\n",
    "fig, ax = plt.subplots()\n",
    "ax.plot(ELBO)\n",
    "ax.set_xlabel('iteration', color='b')\n",
    "ax.set_ylabel('ELBO', color='b')\n",
    "ax.tick_params('y', colors='b')\n",
    "\n",
    "\n",
    "ax2 = ax.twinx()\n",
    "ax2.plot(ln_PD, 'r')\n",
    "ax2.set_ylabel('pred. dist', color='r')\n",
    "ax2.tick_params('y', colors='r')\n"
   ]
  },
  {
   "cell_type": "code",
   "execution_count": null,
   "metadata": {
    "collapsed": false
   },
   "outputs": [],
   "source": [
    "\n",
    "see_posterior_overlay(best_Q_Z, test_object_map[0])"
   ]
  },
  {
   "cell_type": "code",
   "execution_count": null,
   "metadata": {
    "collapsed": false
   },
   "outputs": [],
   "source": [
    "\n",
    "see_Q_Z(best_Q_Z.reshape((K,sqrt_D,sqrt_D)), target_object_map = test_object_map_image)\n"
   ]
  },
  {
   "cell_type": "code",
   "execution_count": 58,
   "metadata": {
    "collapsed": false
   },
   "outputs": [
    {
     "name": "stdout",
     "output_type": "stream",
     "text": [
      "[ 0.69348979  0.30606902]\n",
      "0.8 0.2\n"
     ]
    }
   ],
   "source": [
    "print best_theta\n",
    "print p_on, p_off"
   ]
  },
  {
   "cell_type": "code",
   "execution_count": 57,
   "metadata": {
    "collapsed": false
   },
   "outputs": [
    {
     "data": {
      "image/png": "[encoded data removed]",
      "text/plain": [
       "<matplotlib.figure.Figure at 0x7feb5ed14290>"
      ]
     },
     "metadata": {},
     "output_type": "display_data"
    }
   ],
   "source": [
    "_=see_Z_sample(Z[-1], sqrt_D)"
   ]
  },
  {
   "cell_type": "code",
   "execution_count": 56,
   "metadata": {
    "collapsed": false
   },
   "outputs": [
    {
     "data": {
      "image/png": "[encoded data removed]",
      "text/plain": [
       "<matplotlib.figure.Figure at 0x7feb6c04ccd0>"
      ]
     },
     "metadata": {},
     "output_type": "display_data"
    }
   ],
   "source": [
    "see_Q_theta(Q_theta, lkhd_param_grid)"
   ]
  },
  {
   "cell_type": "code",
   "execution_count": null,
   "metadata": {
    "collapsed": true
   },
   "outputs": [],
   "source": []
  }
 ],
 "metadata": {
  "kernelspec": {
   "display_name": "Python 2",
   "language": "python",
   "name": "python2"
  },
  "language_info": {
   "codemirror_mode": {
    "name": "ipython",
    "version": 2
   },
   "file_extension": ".py",
   "mimetype": "text/x-python",
   "name": "python",
   "nbconvert_exporter": "python",
   "pygments_lexer": "ipython2",
   "version": "2.7.12"
  }
 },
 "nbformat": 4,
 "nbformat_minor": 0
}
