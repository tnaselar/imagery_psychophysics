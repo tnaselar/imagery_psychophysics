{
 "cells": [
  {
   "cell_type": "markdown",
   "metadata": {},
   "source": [
    "### In which we work on building windows (probes)"
   ]
  },
  {
   "cell_type": "code",
   "execution_count": 1,
   "metadata": {},
   "outputs": [
    {
     "name": "stderr",
     "output_type": "stream",
     "text": [
      "Can not use cuDNN on context None: cannot compile with cuDNN. We got this error:\n",
      "/tmp/try_flags_HchcEw.c:4:19: fatal error: cudnn.h: No such file or directory\n",
      "compilation terminated.\n",
      "\n",
      "Mapped name None to device cuda: GeForce GTX TITAN X (0000:01:00.0)\n"
     ]
    }
   ],
   "source": [
    "import imagery_psychophysics.src.variational as very\n",
    "import numpy as np\n",
    "from matplotlib import pyplot as plt"
   ]
  },
  {
   "cell_type": "code",
   "execution_count": 28,
   "metadata": {},
   "outputs": [
    {
     "data": {
      "text/plain": [
       "<module 'imagery_psychophysics.src.variational' from '/home/tnaselar/repo.musc/Docs/tnaselar/code/Python/imagery_psychophysics/src/variational.py'>"
      ]
     },
     "execution_count": 28,
     "metadata": {},
     "output_type": "execute_result"
    }
   ],
   "source": [
    "reload(very)"
   ]
  },
  {
   "cell_type": "code",
   "execution_count": 29,
   "metadata": {},
   "outputs": [],
   "source": [
    "windows = very.probes()"
   ]
  },
  {
   "cell_type": "code",
   "execution_count": 30,
   "metadata": {},
   "outputs": [
    {
     "data": {
      "text/plain": [
       "([(1, 1),\n",
       "  (2, 2),\n",
       "  (4, 4),\n",
       "  (6, 6),\n",
       "  (8, 8),\n",
       "  (10, 10),\n",
       "  (12, 12),\n",
       "  (14, 14),\n",
       "  (16, 16)],\n",
       " (8, 8))"
      ]
     },
     "execution_count": 30,
     "metadata": {},
     "output_type": "execute_result"
    }
   ],
   "source": [
    "windows.resolve((16, 16), workingScale=4)"
   ]
  },
  {
   "cell_type": "code",
   "execution_count": 31,
   "metadata": {},
   "outputs": [
    {
     "name": "stdout",
     "output_type": "stream",
     "text": [
      "[ 32  64 128 256]\n",
      "[ 32  64 128 256]\n",
      "[(0, 0, 32, 0, 32), (1, 0, 32, 32, 64), (2, 0, 32, 64, 96), (3, 0, 32, 96, 128), (4, 0, 32, 128, 160), (5, 0, 32, 160, 192), (6, 0, 32, 192, 224), (7, 0, 32, 224, 256), (8, 32, 64, 0, 32), (9, 32, 64, 32, 64), (10, 32, 64, 64, 96), (11, 32, 64, 96, 128), (12, 32, 64, 128, 160), (13, 32, 64, 160, 192), (14, 32, 64, 192, 224), (15, 32, 64, 224, 256), (16, 64, 96, 0, 32), (17, 64, 96, 32, 64), (18, 64, 96, 64, 96), (19, 64, 96, 96, 128), (20, 64, 96, 128, 160), (21, 64, 96, 160, 192), (22, 64, 96, 192, 224), (23, 64, 96, 224, 256), (24, 96, 128, 0, 32), (25, 96, 128, 32, 64), (26, 96, 128, 64, 96), (27, 96, 128, 96, 128), (28, 96, 128, 128, 160), (29, 96, 128, 160, 192), (30, 96, 128, 192, 224), (31, 96, 128, 224, 256), (32, 128, 160, 0, 32), (33, 128, 160, 32, 64), (34, 128, 160, 64, 96), (35, 128, 160, 96, 128), (36, 128, 160, 128, 160), (37, 128, 160, 160, 192), (38, 128, 160, 192, 224), (39, 128, 160, 224, 256), (40, 160, 192, 0, 32), (41, 160, 192, 32, 64), (42, 160, 192, 64, 96), (43, 160, 192, 96, 128), (44, 160, 192, 128, 160), (45, 160, 192, 160, 192), (46, 160, 192, 192, 224), (47, 160, 192, 224, 256), (48, 192, 224, 0, 32), (49, 192, 224, 32, 64), (50, 192, 224, 64, 96), (51, 192, 224, 96, 128), (52, 192, 224, 128, 160), (53, 192, 224, 160, 192), (54, 192, 224, 192, 224), (55, 192, 224, 224, 256), (56, 224, 256, 0, 32), (57, 224, 256, 32, 64), (58, 224, 256, 64, 96), (59, 224, 256, 96, 128), (60, 224, 256, 128, 160), (61, 224, 256, 160, 192), (62, 224, 256, 192, 224), (63, 224, 256, 224, 256), (64, 0, 64, 0, 64), (65, 0, 64, 64, 128), (66, 0, 64, 128, 192), (67, 0, 64, 192, 256), (68, 64, 128, 0, 64), (69, 64, 128, 64, 128), (70, 64, 128, 128, 192), (71, 64, 128, 192, 256), (72, 128, 192, 0, 64), (73, 128, 192, 64, 128), (74, 128, 192, 128, 192), (75, 128, 192, 192, 256), (76, 192, 256, 0, 64), (77, 192, 256, 64, 128), (78, 192, 256, 128, 192), (79, 192, 256, 192, 256), (80, 0, 128, 0, 128), (81, 0, 128, 128, 256), (82, 128, 256, 0, 128), (83, 128, 256, 128, 256), (84, 0, 256, 0, 256)]\n"
     ]
    }
   ],
   "source": [
    "shape = (256, 256)\n",
    "baseShape = (32, 32)\n",
    "numScales = 4\n",
    "stride = 1\n",
    "numRandProbes = 10\n",
    "randProbeOrder = 3\n",
    "W = windows.make_windows(shape, baseShape, numScales, stride, numRandProbes, randProbeOrder)"
   ]
  },
  {
   "cell_type": "code",
   "execution_count": 32,
   "metadata": {},
   "outputs": [
    {
     "data": {
      "text/plain": [
       "8.0"
      ]
     },
     "execution_count": 32,
     "metadata": {},
     "output_type": "execute_result"
    }
   ],
   "source": [
    "256/32."
   ]
  },
  {
   "cell_type": "code",
   "execution_count": 49,
   "metadata": {},
   "outputs": [
    {
     "data": {
      "text/plain": [
       "<matplotlib.image.AxesImage at 0x7fc198f51410>"
      ]
     },
     "execution_count": 49,
     "metadata": {},
     "output_type": "execute_result"
    },
    {
     "data": {
      "image/png": "[encoded data removed]",
      "text/plain": [
       "<matplotlib.figure.Figure at 0x7fc1997b0710>"
      ]
     },
     "metadata": {},
     "output_type": "display_data"
    }
   ],
   "source": [
    "plt.imshow(W[64+20])"
   ]
  },
  {
   "cell_type": "code",
   "execution_count": 50,
   "metadata": {},
   "outputs": [
    {
     "data": {
      "text/plain": [
       "(94, 256, 256)"
      ]
     },
     "execution_count": 50,
     "metadata": {},
     "output_type": "execute_result"
    }
   ],
   "source": [
    "W.shape"
   ]
  },
  {
   "cell_type": "code",
   "execution_count": 53,
   "metadata": {},
   "outputs": [
    {
     "name": "stdout",
     "output_type": "stream",
     "text": [
      "1\n"
     ]
    }
   ],
   "source": [
    "x = 1\n",
    "y = np.copy(x)\n",
    "x = 2\n",
    "print y"
   ]
  },
  {
   "cell_type": "code",
   "execution_count": null,
   "metadata": {},
   "outputs": [],
   "source": []
  }
 ],
 "metadata": {
  "kernelspec": {
   "display_name": "Python 2",
   "language": "python",
   "name": "python2"
  },
  "language_info": {
   "codemirror_mode": {
    "name": "ipython",
    "version": 2
   },
   "file_extension": ".py",
   "mimetype": "text/x-python",
   "name": "python",
   "nbconvert_exporter": "python",
   "pygments_lexer": "ipython2",
   "version": "2.7.12"
  }
 },
 "nbformat": 4,
 "nbformat_minor": 2
}
