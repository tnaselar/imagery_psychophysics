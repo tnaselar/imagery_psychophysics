{
 "cells": [
  {
   "cell_type": "markdown",
   "metadata": {},
   "source": [
    "# Develop an approach to image warping"
   ]
  },
  {
   "cell_type": "code",
   "execution_count": 1,
   "metadata": {},
   "outputs": [],
   "source": [
    "from imagery_psychophysics.utils.variational_utils import *\n",
    "from object_parsing.src.image_objects import object_box, mask_quantize\n",
    "from skimage.transform import AffineTransform, matrix_transform, resize, SimilarityTransform\n",
    "from scipy.interpolate import griddata\n",
    "from scipy.ndimage import center_of_mass\n",
    "from matplotlib import pyplot as plt\n",
    "from copy import copy\n",
    "from PIL.Image import fromarray"
   ]
  },
  {
   "cell_type": "code",
   "execution_count": 2,
   "metadata": {},
   "outputs": [
    {
     "name": "stderr",
     "output_type": "stream",
     "text": [
      "/usr/local/lib/python2.7/dist-packages/pandas/core/computation/expressions.py:179: UserWarning: evaluating in Python space because the '*' operator is not supported by numexpr for the bool dtype, use '&' instead\n",
      "  .format(op=op_str, alt_op=unsupported[op_str]))\n"
     ]
    }
   ],
   "source": [
    "windows, resp, _, targetObjectMap,targetImage = open_imagery_probe_data('KL', 'pcp', 'peaches_05')"
   ]
  },
  {
   "cell_type": "code",
   "execution_count": 135,
   "metadata": {},
   "outputs": [],
   "source": [
    "D1,D2 = (64,64)\n",
    "smallMap = targetObjectMap.resize((D1,D2))\n",
    "smallImage = resize(np.array(targetImage),(D1,D2),order=1,preserve_range=True)\n"
   ]
  },
  {
   "cell_type": "code",
   "execution_count": 136,
   "metadata": {},
   "outputs": [
    {
     "data": {
      "image/png": "[encoded data removed]",
      "text/plain": [
       "<PIL.Image.Image image mode=L size=64x64 at 0x7F68B70DECD0>"
      ]
     },
     "execution_count": 136,
     "metadata": {},
     "output_type": "execute_result"
    }
   ],
   "source": [
    "smallMap"
   ]
  },
  {
   "cell_type": "code",
   "execution_count": 8,
   "metadata": {},
   "outputs": [],
   "source": [
    "def source_points(shape):\n",
    "    D1,D2 = shape\n",
    "    sourceI, sourceJ= np.meshgrid(range(D1),range(D2))\n",
    "    sourcePoints = np.array([sourceJ.flatten(),sourceI.flatten()]).T.astype('float64')\n",
    "    return sourcePoints\n"
   ]
  },
  {
   "cell_type": "code",
   "execution_count": 9,
   "metadata": {},
   "outputs": [
    {
     "name": "stdout",
     "output_type": "stream",
     "text": [
      "(row,col): (11, 24)\n"
     ]
    },
    {
     "ename": "NameError",
     "evalue": "name 'sourcePoints' is not defined",
     "output_type": "error",
     "traceback": [
      "\u001b[0;31m---------------------------------------------------------------------------\u001b[0m",
      "\u001b[0;31mNameError\u001b[0m                                 Traceback (most recent call last)",
      "\u001b[0;32m<ipython-input-9-128a22b86f93>\u001b[0m in \u001b[0;36m<module>\u001b[0;34m()\u001b[0m\n\u001b[1;32m      2\u001b[0m \u001b[0mrow\u001b[0m\u001b[0;34m,\u001b[0m\u001b[0mcol\u001b[0m \u001b[0;34m=\u001b[0m \u001b[0mnp\u001b[0m\u001b[0;34m.\u001b[0m\u001b[0munravel_index\u001b[0m\u001b[0;34m(\u001b[0m\u001b[0midx\u001b[0m\u001b[0;34m,\u001b[0m\u001b[0;34m(\u001b[0m\u001b[0mD1\u001b[0m\u001b[0;34m,\u001b[0m\u001b[0mD2\u001b[0m\u001b[0;34m)\u001b[0m\u001b[0;34m)\u001b[0m\u001b[0;34m\u001b[0m\u001b[0m\n\u001b[1;32m      3\u001b[0m \u001b[0;32mprint\u001b[0m \u001b[0;34m'(row,col): (%d, %d)'\u001b[0m \u001b[0;34m%\u001b[0m\u001b[0;34m(\u001b[0m\u001b[0mrow\u001b[0m\u001b[0;34m,\u001b[0m\u001b[0mcol\u001b[0m\u001b[0;34m)\u001b[0m\u001b[0;34m\u001b[0m\u001b[0m\n\u001b[0;32m----> 4\u001b[0;31m \u001b[0;32mprint\u001b[0m \u001b[0;34m'(s_row, s_col): (%d,%d)'\u001b[0m \u001b[0;34m%\u001b[0m\u001b[0;34m(\u001b[0m\u001b[0msourcePoints\u001b[0m\u001b[0;34m[\u001b[0m\u001b[0midx\u001b[0m\u001b[0;34m]\u001b[0m\u001b[0;34m[\u001b[0m\u001b[0;36m0\u001b[0m\u001b[0;34m]\u001b[0m\u001b[0;34m,\u001b[0m \u001b[0msourcePoints\u001b[0m\u001b[0;34m[\u001b[0m\u001b[0midx\u001b[0m\u001b[0;34m]\u001b[0m\u001b[0;34m[\u001b[0m\u001b[0;36m1\u001b[0m\u001b[0;34m]\u001b[0m\u001b[0;34m)\u001b[0m\u001b[0;34m\u001b[0m\u001b[0m\n\u001b[0m",
      "\u001b[0;31mNameError\u001b[0m: name 'sourcePoints' is not defined"
     ]
    }
   ],
   "source": [
    "idx = 376\n",
    "row,col = np.unravel_index(idx,(D1,D2))\n",
    "print '(row,col): (%d, %d)' %(row,col)\n",
    "print '(s_row, s_col): (%d,%d)' %(sourcePoints[idx][0], sourcePoints[idx][1])"
   ]
  },
  {
   "cell_type": "code",
   "execution_count": 10,
   "metadata": {},
   "outputs": [
    {
     "name": "stdout",
     "output_type": "stream",
     "text": [
      "[5. 5.]\n"
     ]
    }
   ],
   "source": [
    "#box = (left, upper, right, lower)\n",
    "def get_box_center(boxtuple):\n",
    "    left, upper, right, lower = boxtuple\n",
    "    center_row = np.median([upper, lower])\n",
    "    center_col = np.median([left, right])\n",
    "    return np.array([center_row, center_col])\n",
    "\n",
    "box = (0, 0, 10, 10)\n",
    "print get_box_center(box)"
   ]
  },
  {
   "cell_type": "code",
   "execution_count": 1264,
   "metadata": {},
   "outputs": [],
   "source": [
    "##this was mostly just for visualizing that coordinate transforms are correct\n",
    "def mask_box(sourcePoints, boxtuple, fill=0):\n",
    "    left, upper, right, lower = boxtuple\n",
    "    boxMask = copy(sourcePoints)\n",
    "    boxMask[np.where((sourcePoints[:,1] <= left) + \n",
    "                             (sourcePoints[:,1] >= right) +\n",
    "                             (sourcePoints[:,0] >= lower) +\n",
    "                             (sourcePoints[:,0] <= upper))] = fill\n",
    "    return boxMask\n",
    "    \n",
    "    "
   ]
  },
  {
   "cell_type": "code",
   "execution_count": 1309,
   "metadata": {},
   "outputs": [],
   "source": [
    "def row_col_to_x_y(row_col_coords, row_col_origin=None):\n",
    "    '''\n",
    "    row_col_to_x_y(row_col_coords)\n",
    "    row_col_coords ~ N x 2 array\n",
    "    row_col_origin ~ np array with shape (2,) -- no singleton dimension so we can broadcast without headaches!\n",
    "    returns N x 2 array in cartesian (x,y) coordinates with row_col_origin\n",
    "    at the center of (x,y) plane. if row_col_origin = None, set to median\n",
    "    of row_col_coords\n",
    "    \n",
    "    example: if row_col_coords is a sourcePoint array (so that values equal subscripts)\n",
    "    and row_col_origin is not supplied, we will get (x,y) coordinates for each pixel (row,col)\n",
    "    coordinate, and the center of the image will be at the origin of the (x,y) plane.\n",
    "    if row_col_coords is set to (0,0), the upper left cornder of the image will be at the center of\n",
    "    the (x,y) plane\n",
    "    '''    \n",
    "    if row_col_origin is None:\n",
    "        left = row_col_coords[:,1].min()\n",
    "        upper = row_col_coords[:,0].min()\n",
    "        right = row_col_coords[:,1].max()\n",
    "        lower = row_col_coords[:,0].max()\n",
    "        row_col_origin = get_box_center((left,upper,right,lower))\n",
    "    x_y_coords = np.roll(row_col_coords-row_col_origin,1,1)\n",
    "    return x_y_coords,row_col_origin\n",
    "\n",
    "def x_y_to_row_col(x_y_coords, x_y_origin=np.array([0,0])):\n",
    "    row_col_coords = np.roll(x_y_coords-x_y_origin, 1,1)\n",
    "    return row_col_coords"
   ]
  },
  {
   "cell_type": "code",
   "execution_count": 1266,
   "metadata": {},
   "outputs": [
    {
     "data": {
      "text/plain": [
       "(-69.85, 69.85, -69.85, 69.85)"
      ]
     },
     "execution_count": 1266,
     "metadata": {},
     "output_type": "execute_result"
    },
    {
     "data": {
      "image/png": "[encoded data removed]",
      "text/plain": [
       "<matplotlib.figure.Figure at 0x7f46aef38d90>"
      ]
     },
     "metadata": {},
     "output_type": "display_data"
    }
   ],
   "source": [
    "sourcePoints_x_y = row_col_to_x_y(sourcePoints)\n",
    "##plot sourcepoints as an image in row,col space\n",
    "plt.subplot(1,3,1)\n",
    "plt.imshow(sourcePoints[:,0].reshape((D1,D2)))\n",
    "plt.subplot(1,3,2)\n",
    "plt.imshow(sourcePoints[:,1].reshape((D1,D2)))\n",
    "\n",
    "##plot (x,y) version of sourcePoints as point plot in (x,y) plane\n",
    "plt.subplot(1,3,3)\n",
    "plt.plot(sourcePoints_x_y[:,0], sourcePoints_x_y[:,1], 'k.')\n",
    "plt.axis('equal')"
   ]
  },
  {
   "cell_type": "code",
   "execution_count": 1267,
   "metadata": {},
   "outputs": [
    {
     "name": "stdout",
     "output_type": "stream",
     "text": [
      "[40.  31.5]\n"
     ]
    }
   ],
   "source": [
    "box = (10, 38, 53, 42)\n",
    "box_center = get_box_center(box)\n",
    "print box_center\n",
    "boxMask = mask_box(sourcePoints,box)\n",
    "boxMask_x_y = row_col_to_x_y(boxMask,box_center)"
   ]
  },
  {
   "cell_type": "code",
   "execution_count": 1268,
   "metadata": {},
   "outputs": [
    {
     "data": {
      "text/plain": [
       "(-34.1, 23.1, -42.05, 3.0500000000000003)"
      ]
     },
     "execution_count": 1268,
     "metadata": {},
     "output_type": "execute_result"
    },
    {
     "data": {
      "image/png": "[encoded data removed]",
      "text/plain": [
       "<matplotlib.figure.Figure at 0x7f46aee9df10>"
      ]
     },
     "metadata": {},
     "output_type": "display_data"
    }
   ],
   "source": [
    "##plot box as an image in row,col space\n",
    "plt.subplot(1,3,1)\n",
    "plt.imshow(boxMask[:,0].reshape((D1,D2)))\n",
    "plt.subplot(1,3,2)\n",
    "plt.imshow(boxMask[:,1].reshape((D1,D2)))\n",
    "\n",
    "##plot (x,y) version of box as point plot in (x,y) plane\n",
    "plt.subplot(1,3,3)\n",
    "plt.plot(boxMask_x_y[:,0], boxMask_x_y[:,1], 'k.')\n",
    "plt.axis('equal')"
   ]
  },
  {
   "cell_type": "code",
   "execution_count": 1269,
   "metadata": {},
   "outputs": [],
   "source": [
    "##construct a local affine transform and apply it in the nbd of that box\n",
    "xFormDict = {'scale':(2.5,2.5), 'rotation':0., 'shear':0., 'translation':(0,0)}\n",
    "xForm = AffineTransform(**xFormDict)"
   ]
  },
  {
   "cell_type": "code",
   "execution_count": 1361,
   "metadata": {},
   "outputs": [
    {
     "name": "stdout",
     "output_type": "stream",
     "text": [
      "choose from these labels: [0, 28, 59, 87, 117, 145, 173, 199, 227]\n",
      "box:(81, 53, 112, 128)\n"
     ]
    },
    {
     "ename": "TypeError",
     "evalue": "tuple indices must be integers, not tuple",
     "output_type": "error",
     "traceback": [
      "\u001b[0;31m---------------------------------------------------------------------------\u001b[0m",
      "\u001b[0;31mTypeError\u001b[0m                                 Traceback (most recent call last)",
      "\u001b[0;32m<ipython-input-1361-0bd4f0cda0e4>\u001b[0m in \u001b[0;36m<module>\u001b[0;34m()\u001b[0m\n\u001b[1;32m     12\u001b[0m \u001b[0mplt\u001b[0m\u001b[0;34m.\u001b[0m\u001b[0mimshow\u001b[0m\u001b[0;34m(\u001b[0m\u001b[0mboxMask\u001b[0m\u001b[0;34m[\u001b[0m\u001b[0;34m:\u001b[0m\u001b[0;34m,\u001b[0m\u001b[0;36m0\u001b[0m\u001b[0;34m]\u001b[0m\u001b[0;34m.\u001b[0m\u001b[0mreshape\u001b[0m\u001b[0;34m(\u001b[0m\u001b[0;34m(\u001b[0m\u001b[0mD1\u001b[0m\u001b[0;34m,\u001b[0m\u001b[0mD2\u001b[0m\u001b[0;34m)\u001b[0m\u001b[0;34m)\u001b[0m\u001b[0;34m)\u001b[0m\u001b[0;34m\u001b[0m\u001b[0m\n\u001b[1;32m     13\u001b[0m \u001b[0mplt\u001b[0m\u001b[0;34m.\u001b[0m\u001b[0msubplot\u001b[0m\u001b[0;34m(\u001b[0m\u001b[0;36m1\u001b[0m\u001b[0;34m,\u001b[0m\u001b[0;36m3\u001b[0m\u001b[0;34m,\u001b[0m\u001b[0;36m3\u001b[0m\u001b[0;34m)\u001b[0m\u001b[0;34m\u001b[0m\u001b[0m\n\u001b[0;32m---> 14\u001b[0;31m \u001b[0mplt\u001b[0m\u001b[0;34m.\u001b[0m\u001b[0mplot\u001b[0m\u001b[0;34m(\u001b[0m\u001b[0mboxMask_x_y\u001b[0m\u001b[0;34m[\u001b[0m\u001b[0;34m:\u001b[0m\u001b[0;34m,\u001b[0m\u001b[0;36m0\u001b[0m\u001b[0;34m]\u001b[0m\u001b[0;34m,\u001b[0m \u001b[0mboxMask_x_y\u001b[0m\u001b[0;34m[\u001b[0m\u001b[0;34m:\u001b[0m\u001b[0;34m,\u001b[0m\u001b[0;36m1\u001b[0m\u001b[0;34m]\u001b[0m\u001b[0;34m,\u001b[0m \u001b[0;34m'k.'\u001b[0m\u001b[0;34m)\u001b[0m\u001b[0;34m\u001b[0m\u001b[0m\n\u001b[0m\u001b[1;32m     15\u001b[0m \u001b[0mplt\u001b[0m\u001b[0;34m.\u001b[0m\u001b[0maxis\u001b[0m\u001b[0;34m(\u001b[0m\u001b[0;34m'equal'\u001b[0m\u001b[0;34m)\u001b[0m\u001b[0;34m\u001b[0m\u001b[0m\n",
      "\u001b[0;31mTypeError\u001b[0m: tuple indices must be integers, not tuple"
     ]
    },
    {
     "data": {
      "image/png": "[encoded data removed]",
      "text/plain": [
       "<matplotlib.figure.Figure at 0x7f46ad0564d0>"
      ]
     },
     "metadata": {},
     "output_type": "display_data"
    }
   ],
   "source": [
    "#select an object from the object map and create a box around it\n",
    "print 'choose from these labels: '+str(np.unique(smallMap).tolist())\n",
    "objectLabel = 117\n",
    "box = object_box(smallMap,objectLabel)\n",
    "boxCenter = get_box_center(box)\n",
    "print 'box:'+str(box)\n",
    "boxMask = mask_box(sourcePoints,box,fill=np.nan)\n",
    "boxMask_x_y = row_col_to_x_y(boxMask,box_center)\n",
    "plt.subplot(1,3,1)\n",
    "plt.imshow(np.array(smallMap))\n",
    "plt.subplot(1,3,2)\n",
    "plt.imshow(boxMask[:,0].reshape((D1,D2)))\n",
    "plt.subplot(1,3,3)\n",
    "plt.plot(boxMask_x_y[:,0], boxMask_x_y[:,1], 'k.')\n",
    "plt.axis('equal')"
   ]
  },
  {
   "cell_type": "code",
   "execution_count": 1232,
   "metadata": {},
   "outputs": [],
   "source": [
    "##apply transform to points within box only\n",
    "localDisplacedPoints_x_y = matrix_transform(boxMask_x_y,xForm.params)\n",
    "localDisplacementMap_row_col = np.nan_to_num(x_y_to_row_col(localDisplacedPoints_x_y-boxMask_x_y))\n",
    "localDisplacedPoints_row_col = sourcePoints+localDisplacementMap_row_col\n",
    "warpedMap = griddata(localDisplacedPoints_row_col, np.array(smallMap).flatten(), sourcePoints, method='nearest')"
   ]
  },
  {
   "cell_type": "code",
   "execution_count": 1233,
   "metadata": {},
   "outputs": [
    {
     "data": {
      "text/plain": [
       "<matplotlib.image.AxesImage at 0x7f46b00ce390>"
      ]
     },
     "execution_count": 1233,
     "metadata": {},
     "output_type": "execute_result"
    },
    {
     "data": {
      "image/png": "[encoded data removed]",
      "text/plain": [
       "<matplotlib.figure.Figure at 0x7f4692dd85d0>"
      ]
     },
     "metadata": {},
     "output_type": "display_data"
    }
   ],
   "source": [
    "plt.subplot(1,2,1)\n",
    "plt.imshow(np.array(smallMap))\n",
    "plt.subplot(1,2,2)\n",
    "plt.imshow(warpedMap.reshape((D1,D2)))"
   ]
  },
  {
   "cell_type": "code",
   "execution_count": 1234,
   "metadata": {},
   "outputs": [],
   "source": [
    "##apply to transform about box_center to whole image\n",
    "sourcePoints_x_y = row_col_to_x_y(sourcePoints,row_col_origin=boxCenter)\n",
    "displacedPoints_x_y = matrix_transform(sourcePoints_x_y,xForm.params)\n",
    "displacementMap_row_col = np.nan_to_num(x_y_to_row_col(displacedPoints_x_y-sourcePoints_x_y))\n",
    "displacedPoints_row_col = sourcePoints+displacementMap_row_col\n",
    "warpedMap = griddata(displacedPoints_row_col, np.array(smallMap).flatten(), sourcePoints, method='nearest')"
   ]
  },
  {
   "cell_type": "code",
   "execution_count": 1235,
   "metadata": {},
   "outputs": [
    {
     "data": {
      "text/plain": [
       "<matplotlib.image.AxesImage at 0x7f46affd46d0>"
      ]
     },
     "execution_count": 1235,
     "metadata": {},
     "output_type": "execute_result"
    },
    {
     "data": {
      "image/png": "[encoded data removed]",
      "text/plain": [
       "<matplotlib.figure.Figure at 0x7f46afe7ac50>"
      ]
     },
     "metadata": {},
     "output_type": "display_data"
    }
   ],
   "source": [
    "plt.subplot(1,2,1)\n",
    "plt.imshow(np.array(smallMap))\n",
    "plt.subplot(1,2,2)\n",
    "plt.imshow(warpedMap.reshape((D1,D2)))"
   ]
  },
  {
   "cell_type": "code",
   "execution_count": 1240,
   "metadata": {},
   "outputs": [],
   "source": [
    "##create a composite transform by adding another scale around a different point and apply it\n",
    "##construct a local affine transform and apply it in the nbd of that box\n",
    "newXFormDict = {'scale':(.1, .1), 'rotation':np.pi/15., 'shear':0., 'translation':(0,0)}\n",
    "newXForm = AffineTransform(**newXFormDict)\n",
    "newBox = (10, 40, 20, 60)\n",
    "newBoxCenter = get_box_center(newBox)\n",
    "newSourcePoints_x_y = row_col_to_x_y(sourcePoints,row_col_origin=newBoxCenter)\n",
    "newDisplacedPoints_x_y = matrix_transform(newSourcePoints_x_y,newXForm.params)\n",
    "newDisplacementMap_row_col = np.nan_to_num(x_y_to_row_col(newDisplacedPoints_x_y-newSourcePoints_x_y))\n",
    "newDisplacedPoints_row_col = sourcePoints+newDisplacementMap_row_col\n",
    "newWarpedMap = griddata(newDisplacedPoints_row_col, np.array(smallMap).flatten(), sourcePoints, method='nearest')"
   ]
  },
  {
   "cell_type": "code",
   "execution_count": 1241,
   "metadata": {},
   "outputs": [
    {
     "data": {
      "text/plain": [
       "<matplotlib.image.AxesImage at 0x7f46af837250>"
      ]
     },
     "execution_count": 1241,
     "metadata": {},
     "output_type": "execute_result"
    },
    {
     "data": {
      "image/png": "[encoded data removed]",
      "text/plain": [
       "<matplotlib.figure.Figure at 0x7f46af9212d0>"
      ]
     },
     "metadata": {},
     "output_type": "display_data"
    }
   ],
   "source": [
    "plt.subplot(1,2,1)\n",
    "plt.imshow(np.array(smallMap))\n",
    "plt.subplot(1,2,2)\n",
    "plt.imshow(newWarpedMap.reshape((D1,D2)))"
   ]
  },
  {
   "cell_type": "code",
   "execution_count": 1242,
   "metadata": {},
   "outputs": [],
   "source": [
    "compositeDisplacementMap_row_col = newDisplacementMap_row_col+displacementMap_row_col\n",
    "compositeDisplacedPoints_row_col = sourcePoints+compositeDisplacementMap_row_col\n",
    "compositeWarpedMap = griddata(compositeDisplacedPoints_row_col, np.array(smallMap).flatten(), sourcePoints, method = 'nearest')"
   ]
  },
  {
   "cell_type": "code",
   "execution_count": 1243,
   "metadata": {},
   "outputs": [
    {
     "data": {
      "text/plain": [
       "<matplotlib.image.AxesImage at 0x7f46af78e650>"
      ]
     },
     "execution_count": 1243,
     "metadata": {},
     "output_type": "execute_result"
    },
    {
     "data": {
      "image/png": "[encoded data removed]",
      "text/plain": [
       "<matplotlib.figure.Figure at 0x7f46af7f60d0>"
      ]
     },
     "metadata": {},
     "output_type": "display_data"
    }
   ],
   "source": [
    "plt.subplot(1,2,1)\n",
    "plt.imshow(np.array(smallMap))\n",
    "plt.subplot(1,2,2)\n",
    "plt.imshow(compositeWarpedMap.reshape((D1,D2)))"
   ]
  },
  {
   "cell_type": "code",
   "execution_count": 1244,
   "metadata": {},
   "outputs": [],
   "source": [
    "##now iterate, applying the displacement map once again\n",
    "compositeDisplacedPoints_row_col += compositeDisplacementMap_row_col\n",
    "compositeWarpedMap = griddata(compositeDisplacedPoints_row_col, np.array(smallMap).flatten(), sourcePoints, method = 'nearest')\n"
   ]
  },
  {
   "cell_type": "code",
   "execution_count": 1245,
   "metadata": {},
   "outputs": [
    {
     "data": {
      "text/plain": [
       "<matplotlib.image.AxesImage at 0x7f46af6e1a50>"
      ]
     },
     "execution_count": 1245,
     "metadata": {},
     "output_type": "execute_result"
    },
    {
     "data": {
      "image/png": "[encoded data removed]",
      "text/plain": [
       "<matplotlib.figure.Figure at 0x7f46af7750d0>"
      ]
     },
     "metadata": {},
     "output_type": "display_data"
    }
   ],
   "source": [
    "plt.subplot(1,2,1)\n",
    "plt.imshow(np.array(smallMap))\n",
    "plt.subplot(1,2,2)\n",
    "plt.imshow(compositeWarpedMap.reshape((D1,D2)))"
   ]
  },
  {
   "cell_type": "code",
   "execution_count": 1362,
   "metadata": {},
   "outputs": [],
   "source": [
    "##may be easier to just compose affine transforms instead of adding displacement maps\n",
    "# xFormDict1 = {'scale':(.5,.5), 'rotation':0, 'shear':0., 'translation':(0,0)}\n",
    "# xForm1 = AffineTransform(**xFormDict1)\n",
    "xFormDict1 = {'scale':(.5,.5), 'rotation':np.pi/26., 'translation':(1,0)}\n",
    "xForm1 = SimilarityTransform(**xFormDict1)\n",
    "objectLabel = 145\n",
    "box1 = object_box(smallMap,objectLabel)\n",
    "boxCenter1 = get_box_center(box1)\n",
    "sourcePoints_x_y_1,_ = row_col_to_x_y(sourcePoints,row_col_origin=boxCenter1)\n",
    "displacedPoints_x_y_1 = matrix_transform(sourcePoints_x_y_1,xForm1.params)\n",
    "displacedPoints_row_col_1 = x_y_to_row_col(displacedPoints_x_y_1)+boxCenter1\n",
    "warp1 = griddata(displacedPoints_row_col_1, np.array(smallMap).flatten(), sourcePoints, method = 'nearest')\n",
    "\n",
    "xFormDict2 = {'scale':(1,1), 'rotation':0, 'shear':0., 'translation':(20,0)}\n",
    "xForm2 = AffineTransform(**xFormDict2)\n",
    "objectLabel = 117\n",
    "box2 = object_box(smallMap,objectLabel)\n",
    "boxCenter2 = get_box_center(box2)\n",
    "sourcePoints_x_y_2,_ = row_col_to_x_y(displacedPoints_row_col_1,row_col_origin=boxCenter2)\n",
    "displacedPoints_x_y_2 = matrix_transform(sourcePoints_x_y_2,xForm2.params)\n",
    "displacedPoints_row_col_2 = x_y_to_row_col(displacedPoints_x_y_2)+boxCenter2\n",
    "warp2 = griddata(displacedPoints_row_col_2, np.array(smallMap).flatten(), sourcePoints, method = 'nearest')\n"
   ]
  },
  {
   "cell_type": "code",
   "execution_count": 1363,
   "metadata": {},
   "outputs": [
    {
     "data": {
      "text/plain": [
       "<matplotlib.image.AxesImage at 0x7f46ac794810>"
      ]
     },
     "execution_count": 1363,
     "metadata": {},
     "output_type": "execute_result"
    },
    {
     "data": {
      "image/png": "[encoded data removed]",
      "text/plain": [
       "<matplotlib.figure.Figure at 0x7f46acaf4410>"
      ]
     },
     "metadata": {},
     "output_type": "display_data"
    }
   ],
   "source": [
    "##nice. much easier\n",
    "plt.subplot(1,3,1)\n",
    "plt.imshow(np.array(smallMap))\n",
    "plt.subplot(1,3,2)\n",
    "plt.imshow(warp1.reshape((D1,D2)))\n",
    "plt.subplot(1,3,3)\n",
    "plt.imshow(warp2.reshape((D1,D2)))\n"
   ]
  },
  {
   "cell_type": "code",
   "execution_count": 5,
   "metadata": {},
   "outputs": [
    {
     "name": "stdout",
     "output_type": "stream",
     "text": [
      "[40 40]\n"
     ]
    },
    {
     "ename": "NameError",
     "evalue": "name 'sourcePoints' is not defined",
     "output_type": "error",
     "traceback": [
      "\u001b[0;31m---------------------------------------------------------------------------\u001b[0m",
      "\u001b[0;31mNameError\u001b[0m                                 Traceback (most recent call last)",
      "\u001b[0;32m<ipython-input-5-0276252e8d23>\u001b[0m in \u001b[0;36m<module>\u001b[0;34m()\u001b[0m\n\u001b[1;32m      4\u001b[0m \u001b[0mboxCenter2\u001b[0m \u001b[0;34m=\u001b[0m \u001b[0mnp\u001b[0m\u001b[0;34m.\u001b[0m\u001b[0marray\u001b[0m\u001b[0;34m(\u001b[0m\u001b[0;34m[\u001b[0m\u001b[0;36m40\u001b[0m\u001b[0;34m,\u001b[0m\u001b[0;36m40\u001b[0m\u001b[0;34m]\u001b[0m\u001b[0;34m)\u001b[0m\u001b[0;34m\u001b[0m\u001b[0m\n\u001b[1;32m      5\u001b[0m \u001b[0;32mprint\u001b[0m \u001b[0mboxCenter2\u001b[0m\u001b[0;34m\u001b[0m\u001b[0m\n\u001b[0;32m----> 6\u001b[0;31m \u001b[0mdp\u001b[0m \u001b[0;34m=\u001b[0m \u001b[0mmatrix_transform\u001b[0m\u001b[0;34m(\u001b[0m\u001b[0msourcePoints\u001b[0m\u001b[0;34m-\u001b[0m\u001b[0mboxCenter2\u001b[0m\u001b[0;34m,\u001b[0m\u001b[0mxForm\u001b[0m\u001b[0;34m.\u001b[0m\u001b[0mparams\u001b[0m\u001b[0;34m,\u001b[0m\u001b[0;34m)\u001b[0m\u001b[0;34m+\u001b[0m\u001b[0mboxCenter2\u001b[0m\u001b[0;34m\u001b[0m\u001b[0m\n\u001b[0m\u001b[1;32m      7\u001b[0m \u001b[0mdp0\u001b[0m \u001b[0;34m=\u001b[0m \u001b[0mmatrix_transform\u001b[0m\u001b[0;34m(\u001b[0m\u001b[0mboxCenter2\u001b[0m\u001b[0;34m-\u001b[0m\u001b[0mboxCenter2\u001b[0m\u001b[0;34m,\u001b[0m\u001b[0mxForm\u001b[0m\u001b[0;34m.\u001b[0m\u001b[0mparams\u001b[0m\u001b[0;34m,\u001b[0m\u001b[0;34m)\u001b[0m\u001b[0;34m+\u001b[0m\u001b[0mboxCenter2\u001b[0m\u001b[0;34m\u001b[0m\u001b[0m\n\u001b[1;32m      8\u001b[0m \u001b[0mwarped\u001b[0m \u001b[0;34m=\u001b[0m \u001b[0mgriddata\u001b[0m\u001b[0;34m(\u001b[0m\u001b[0mdp\u001b[0m\u001b[0;34m,\u001b[0m \u001b[0mnp\u001b[0m\u001b[0;34m.\u001b[0m\u001b[0marray\u001b[0m\u001b[0;34m(\u001b[0m\u001b[0msmallMap\u001b[0m\u001b[0;34m)\u001b[0m\u001b[0;34m.\u001b[0m\u001b[0mflatten\u001b[0m\u001b[0;34m(\u001b[0m\u001b[0;34m)\u001b[0m\u001b[0;34m,\u001b[0m \u001b[0msourcePoints\u001b[0m\u001b[0;34m,\u001b[0m \u001b[0mmethod\u001b[0m \u001b[0;34m=\u001b[0m \u001b[0;34m'nearest'\u001b[0m\u001b[0;34m)\u001b[0m\u001b[0;34m\u001b[0m\u001b[0m\n",
      "\u001b[0;31mNameError\u001b[0m: name 'sourcePoints' is not defined"
     ]
    }
   ],
   "source": [
    "##can't we just stay in row,col space?\n",
    "xFormDict = {'scale':(1.5,.15), 'rotation':0, 'shear':0., 'translation':(0,0)}\n",
    "xForm = AffineTransform(**xFormDict)\n",
    "boxCenter2 = np.array([40,40])\n",
    "print boxCenter2\n",
    "dp = matrix_transform(sourcePoints-boxCenter2,xForm.params,)+boxCenter2\n",
    "dp0 = matrix_transform(boxCenter2-boxCenter2,xForm.params,)+boxCenter2\n",
    "warped = griddata(dp, np.array(smallMap).flatten(), sourcePoints, method = 'nearest')\n",
    "plt.subplot(1,2,1)\n",
    "plt.imshow(np.array(smallMap))\n",
    "plt.plot(boxCenter2[1],boxCenter2[0],'r*')\n",
    "plt.subplot(1,2,2)\n",
    "plt.imshow(warped.reshape((D1,D2)))\n",
    "plt.plot(dp0[:,1],dp0[:,0],'r*')"
   ]
  },
  {
   "cell_type": "code",
   "execution_count": 1367,
   "metadata": {},
   "outputs": [
    {
     "data": {
      "text/plain": [
       "array([[90.5, 96.5]])"
      ]
     },
     "execution_count": 1367,
     "metadata": {},
     "output_type": "execute_result"
    }
   ],
   "source": [
    "dp0"
   ]
  },
  {
   "cell_type": "code",
   "execution_count": 6,
   "metadata": {},
   "outputs": [],
   "source": [
    "def compose_and_iterate(sourcePoints, transformFuncList, activations=None, iterations=1):\n",
    "    displacedPoints = copy(sourcePoints)\n",
    "    ##apply transforms in series, noting activations, and assuming that xForm manages control point arithmetic\n",
    "    if activations is None:\n",
    "        activations = [1]*len(transformFuncList)\n",
    "    for xForm,a in zip(transformFuncList,activations):\n",
    "        if not a:\n",
    "            xForm = lambda x: x\n",
    "        displacedPoints = xForm(displacedPoints)\n",
    "    ##reduce iterations\n",
    "    iterations -= 1\n",
    "    if iterations:\n",
    "        return compose_and_iterate(displacedPoints, transformFuncList, activations, iterations=iterations)\n",
    "    else:\n",
    "        return displacedPoints\n",
    "        "
   ]
  },
  {
   "cell_type": "code",
   "execution_count": 11,
   "metadata": {},
   "outputs": [],
   "source": [
    "sourcePoints = source_points((D1,D2))\n",
    "xFormDict = {'scale':(1.,1.), 'rotation':0, 'shear':0., 'translation':(5,0)}\n",
    "xForm1 = AffineTransform(**xFormDict)\n",
    "xFormDict = {'scale':(1.,1.), 'rotation':-np.pi/64., 'shear':0., 'translation':(0,0)}\n",
    "xForm2 = AffineTransform(**xFormDict)\n",
    "boxCenter = np.array([64,64])\n",
    "xFormFunc1 = lambda x: matrix_transform(x-boxCenter,xForm1.params)+boxCenter\n",
    "xFormFunc2 = lambda x: matrix_transform(x-boxCenter,xForm2.params)+boxCenter\n",
    "activations = [1,1]\n",
    "dp = compose_and_iterate(sourcePoints,[xFormFunc1,xFormFunc2],activations=activations, iterations = 5)"
   ]
  },
  {
   "cell_type": "code",
   "execution_count": 12,
   "metadata": {},
   "outputs": [
    {
     "data": {
      "text/plain": [
       "<matplotlib.image.AxesImage at 0x7f68fc767c90>"
      ]
     },
     "execution_count": 12,
     "metadata": {},
     "output_type": "execute_result"
    },
    {
     "data": {
      "image/png": "[encoded data removed]",
      "text/plain": [
       "<matplotlib.figure.Figure at 0x7f68fc81be90>"
      ]
     },
     "metadata": {},
     "output_type": "display_data"
    }
   ],
   "source": [
    "warped = griddata(dp, np.array(smallMap).flatten(), sourcePoints, method = 'nearest')\n",
    "plt.subplot(1,2,1)\n",
    "plt.imshow(np.array(smallMap))\n",
    "plt.subplot(1,2,2)\n",
    "plt.imshow(warped.reshape((D1,D2)))"
   ]
  },
  {
   "cell_type": "code",
   "execution_count": 1422,
   "metadata": {},
   "outputs": [
    {
     "name": "stdout",
     "output_type": "stream",
     "text": [
      "[67.06324035 60.78257804]\n",
      "[[67.06324035 60.78257804]]\n"
     ]
    }
   ],
   "source": [
    "pt = np.array([64,64])\n",
    "print xForm2.params[:2,:2].dot(np.array([64,64]))\n",
    "print matrix_transform(pt,xForm2.params)"
   ]
  },
  {
   "cell_type": "code",
   "execution_count": 41,
   "metadata": {},
   "outputs": [],
   "source": [
    "from scipy.linalg import expm\n",
    "from scipy.stats import norm\n",
    "from sklearn.metrics.pairwise import pairwise_distances\n",
    "base = np.random.rand(2,2)\n",
    "controlPoints = np.array([0,0])[np.newaxis,:]\n",
    "r = pairwise_distances(sourcePoints, controlPoints)"
   ]
  },
  {
   "cell_type": "code",
   "execution_count": 42,
   "metadata": {},
   "outputs": [
    {
     "name": "stdout",
     "output_type": "stream",
     "text": [
      "(1024, 2)\n"
     ]
    }
   ],
   "source": [
    "scalars = norm.pdf(r)  \n",
    "scalars.shape\n",
    "print sourcePoints.shape"
   ]
  },
  {
   "cell_type": "code",
   "execution_count": 45,
   "metadata": {},
   "outputs": [
    {
     "name": "stdout",
     "output_type": "stream",
     "text": [
      "(1024, 2, 2)\n"
     ]
    }
   ],
   "source": [
    "scaledXForms = scalars[:,:,np.newaxis]*base\n",
    "xForms = np.array(map(expm, scaledXForms))\n",
    "print xForms.shape"
   ]
  },
  {
   "cell_type": "code",
   "execution_count": 48,
   "metadata": {},
   "outputs": [
    {
     "ename": "ValueError",
     "evalue": "shape-mismatch for sum",
     "output_type": "error",
     "traceback": [
      "\u001b[0;31m---------------------------------------------------------------------------\u001b[0m",
      "\u001b[0;31mValueError\u001b[0m                                Traceback (most recent call last)",
      "\u001b[0;32m<ipython-input-48-215d3eef3bac>\u001b[0m in \u001b[0;36m<module>\u001b[0;34m()\u001b[0m\n\u001b[0;32m----> 1\u001b[0;31m \u001b[0mnp\u001b[0m\u001b[0;34m.\u001b[0m\u001b[0mtensordot\u001b[0m\u001b[0;34m(\u001b[0m\u001b[0mxForms\u001b[0m\u001b[0;34m,\u001b[0m \u001b[0msourcePoints\u001b[0m\u001b[0;34m.\u001b[0m\u001b[0mT\u001b[0m\u001b[0;34m,\u001b[0m \u001b[0maxes\u001b[0m\u001b[0;34m=\u001b[0m\u001b[0;34m[\u001b[0m\u001b[0;36m2\u001b[0m\u001b[0;34m,\u001b[0m\u001b[0;36m1\u001b[0m\u001b[0;34m]\u001b[0m\u001b[0;34m)\u001b[0m\u001b[0;34m.\u001b[0m\u001b[0mshape\u001b[0m\u001b[0;34m\u001b[0m\u001b[0m\n\u001b[0m",
      "\u001b[0;32m/usr/local/lib/python2.7/dist-packages/numpy/core/numeric.pyc\u001b[0m in \u001b[0;36mtensordot\u001b[0;34m(a, b, axes)\u001b[0m\n\u001b[1;32m   1281\u001b[0m                 \u001b[0maxes_b\u001b[0m\u001b[0;34m[\u001b[0m\u001b[0mk\u001b[0m\u001b[0;34m]\u001b[0m \u001b[0;34m+=\u001b[0m \u001b[0mndb\u001b[0m\u001b[0;34m\u001b[0m\u001b[0m\n\u001b[1;32m   1282\u001b[0m     \u001b[0;32mif\u001b[0m \u001b[0;32mnot\u001b[0m \u001b[0mequal\u001b[0m\u001b[0;34m:\u001b[0m\u001b[0;34m\u001b[0m\u001b[0m\n\u001b[0;32m-> 1283\u001b[0;31m         \u001b[0;32mraise\u001b[0m \u001b[0mValueError\u001b[0m\u001b[0;34m(\u001b[0m\u001b[0;34m\"shape-mismatch for sum\"\u001b[0m\u001b[0;34m)\u001b[0m\u001b[0;34m\u001b[0m\u001b[0m\n\u001b[0m\u001b[1;32m   1284\u001b[0m \u001b[0;34m\u001b[0m\u001b[0m\n\u001b[1;32m   1285\u001b[0m     \u001b[0;31m# Move the axes to sum over to the end of \"a\"\u001b[0m\u001b[0;34m\u001b[0m\u001b[0;34m\u001b[0m\u001b[0m\n",
      "\u001b[0;31mValueError\u001b[0m: shape-mismatch for sum"
     ]
    }
   ],
   "source": [
    "np.tensordot(xForms, sourcePoints.T, axes=[[1,2],[]]).shape"
   ]
  },
  {
   "cell_type": "code",
   "execution_count": 65,
   "metadata": {},
   "outputs": [
    {
     "name": "stdout",
     "output_type": "stream",
     "text": [
      "(2,)\n",
      "(2, 2)\n"
     ]
    }
   ],
   "source": [
    "print np.squeeze(controlPoints).shape\n",
    "print base.shape"
   ]
  },
  {
   "cell_type": "code",
   "execution_count": 70,
   "metadata": {},
   "outputs": [
    {
     "data": {
      "text/plain": [
       "array([[0., 0.],\n",
       "       [0., 0.]])"
      ]
     },
     "execution_count": 70,
     "metadata": {},
     "output_type": "execute_result"
    }
   ],
   "source": [
    "controlPoints.T*base"
   ]
  },
  {
   "cell_type": "code",
   "execution_count": 77,
   "metadata": {},
   "outputs": [
    {
     "data": {
      "text/plain": [
       "(1024, 2)"
      ]
     },
     "execution_count": 77,
     "metadata": {},
     "output_type": "execute_result"
    }
   ],
   "source": [
    "np.sum(sourcePoints[:,:,np.newaxis]*xForms,axis=2).shape"
   ]
  },
  {
   "cell_type": "code",
   "execution_count": 130,
   "metadata": {},
   "outputs": [],
   "source": [
    "def local_affine_warp(sourceImage, controlPoints, baseTransformMatrix, scaleFunction):\n",
    "    D1,D2 = sourceImage.shape\n",
    "    sourcePoints = source_points((D1,D2))\n",
    "    print sourcePoints.shape\n",
    "    print controlPoints.shape\n",
    "    r = pairwise_distances(sourcePoints, controlPoints)\n",
    "    scalars = scaleFunction(r)  \n",
    "    print scalars.shape\n",
    "    scaledXForms = scalars[:,:,np.newaxis]*baseTransformMatrix\n",
    "    xForms = np.array(map(expm, scaledXForms))\n",
    "    print xForms.shape\n",
    "    displacedPoints = np.sum(sourcePoints[:,:,np.newaxis]*xForms,axis=2)\n",
    "    print displacedPoints.shape\n",
    "    print sourcePoints.shape\n",
    "    warped = griddata(displacedPoints, sourceImage.flatten(), sourcePoints, method = 'linear')\n",
    "    return warped, displacedPoints,xForms\n",
    "    "
   ]
  },
  {
   "cell_type": "code",
   "execution_count": 131,
   "metadata": {},
   "outputs": [],
   "source": [
    "xFormDict = {'scale':(20.,20.), 'rotation':0, 'shear':0., 'translation':(0,0)}\n",
    "xForm = AffineTransform(**xFormDict)\n",
    "btm = xForm.params[:2,:2]\n",
    "cp = np.array([25,22])[np.newaxis,:]\n",
    "scaleFunc = norm.pdf\n"
   ]
  },
  {
   "cell_type": "code",
   "execution_count": 134,
   "metadata": {
    "scrolled": true
   },
   "outputs": [
    {
     "name": "stdout",
     "output_type": "stream",
     "text": [
      "(1024, 2)\n",
      "(1, 2)\n",
      "(1024, 1)\n",
      "(1024, 2, 2)\n",
      "(1024, 2)\n",
      "(1024, 2)\n"
     ]
    },
    {
     "data": {
      "text/plain": [
       "<matplotlib.image.AxesImage at 0x7f68b71280d0>"
      ]
     },
     "execution_count": 134,
     "metadata": {},
     "output_type": "execute_result"
    },
    {
     "data": {
      "image/png": "[encoded data removed]",
      "text/plain": [
       "<matplotlib.figure.Figure at 0x7f68b73abbd0>"
      ]
     },
     "metadata": {},
     "output_type": "display_data"
    }
   ],
   "source": [
    "warped, dp,xf = local_affine_warp(np.array(smallImage), cp, btm, scaleFunction=scaleFunc)\n",
    "plt.subplot(1,2,1)\n",
    "plt.imshow(np.array(smallImage),cmap='gray')\n",
    "plt.subplot(1,2,2)\n",
    "plt.imshow(warped.reshape((D1,D2)), cmap='gray')"
   ]
  },
  {
   "cell_type": "code",
   "execution_count": 35,
   "metadata": {},
   "outputs": [
    {
     "data": {
      "text/plain": [
       "array([[60., 30.],\n",
       "       [60., 30.],\n",
       "       [60., 30.],\n",
       "       ...,\n",
       "       [60., 30.],\n",
       "       [60., 30.],\n",
       "       [60., 30.]])"
      ]
     },
     "execution_count": 35,
     "metadata": {},
     "output_type": "execute_result"
    }
   ],
   "source": [
    "dp"
   ]
  },
  {
   "cell_type": "markdown",
   "metadata": {},
   "source": [
    "### ============================TOSSED============================="
   ]
  },
  {
   "cell_type": "code",
   "execution_count": 1022,
   "metadata": {},
   "outputs": [
    {
     "data": {
      "image/png": "[encoded data removed]",
      "text/plain": [
       "<PIL.Image.Image image mode=L size=128x128 at 0x7F469188C5D0>"
      ]
     },
     "execution_count": 1022,
     "metadata": {},
     "output_type": "execute_result"
    }
   ],
   "source": [
    "smallMap"
   ]
  },
  {
   "cell_type": "code",
   "execution_count": null,
   "metadata": {},
   "outputs": [],
   "source": []
  },
  {
   "cell_type": "markdown",
   "metadata": {},
   "source": [
    "### How to build and an apply a complex piecewise affine distortion to an image\n",
    "\n",
    "-  create a set of source gridpoints (extract them from an image)\n",
    "-  construct distortions using AffineTransform\n",
    "-  use \"matrix_transform\" to apply the affine transform to a subset of the source gridpoints (a box)\n",
    "-  iteratively displace t times\n",
    "-  generate displacement map for the local transform\n",
    "-  if many local transforms, sum the displacement maps\n",
    "-  add the displacement map to the source gridpoints to get displaced gridpoints\n",
    "-  pass the displaced points, the image, and the source gridpoints to griddata to get the warped image"
   ]
  },
  {
   "cell_type": "code",
   "execution_count": 897,
   "metadata": {},
   "outputs": [],
   "source": [
    "##FIX API, FIX CENTERING ISSUES\n",
    "def source_points_from_image(image,center=False):\n",
    "    D1,D2 = image.shape\n",
    "    sourceI, sourceJ= np.meshgrid(range(D1),range(D2))\n",
    "    sourcePoints = np.array([sourceI.flatten(),sourceJ.flatten()]).T.astype('float64')\n",
    "    centerPoint = center_of_mass(np.ones((D1,D2)))\n",
    "    if center:\n",
    "        sourcePoints = sourcePoints-centerPoint\n",
    "    return sourcePoints, centerPoint\n",
    "\n",
    "def displacement_map(sourcePoints, xForm, box=None):\n",
    "    if box is not None:\n",
    "        left,upper,right,lower = box\n",
    "        centerPoint = np.array([np.median([right,left]), np.median([upper,lower])])\n",
    "        sourcePoints = sourcePoints-centerPoint\n",
    "    displacedPoints = matrix_transform(sourcePoints,xForm.params)\n",
    "    displacementMap = displacedPoints - sourcePoints\n",
    "    sourcePoints = sourcePoints+centerPoint\n",
    "    if box is not None:\n",
    "        displacementMap[np.where((sourcePoints[:,0] <= left) + \n",
    "                                 (sourcePoints[:,0] >= right) +\n",
    "                                 (sourcePoints[:,1] <= lower) +\n",
    "                                 (sourcePoints[:,1] >= upper))] = 0\n",
    "        \n",
    "    return displacementMap\n",
    "\n",
    "def cart2img(dmap, D1,D2):\n",
    "    flipped = np.empty(dmap.shape)\n",
    "    flipped[:,0] = np.flip(dmap[:,0].reshape((D1,D2)), axis=0).flatten()\n",
    "    flipped[:,1] = np.flip(dmap[:,1].reshape((D1,D2)), axis=0).flatten()\n",
    "    return flipped\n",
    "\n",
    "def apply_displacement_map(sourcePoints, displacementMap, t=1):\n",
    "    if t:\n",
    "        t -= 1\n",
    "        return apply_displacement_map(sourcePoints+displacementMap, displacementMap, t)\n",
    "    else:\n",
    "        return sourcePoints\n",
    "    "
   ]
  },
  {
   "cell_type": "code",
   "execution_count": 898,
   "metadata": {},
   "outputs": [
    {
     "data": {
      "text/plain": [
       "<matplotlib.image.AxesImage at 0x7f4692a13b50>"
      ]
     },
     "execution_count": 898,
     "metadata": {},
     "output_type": "execute_result"
    },
    {
     "data": {
      "image/png": "[encoded data removed]",
      "text/plain": [
       "<matplotlib.figure.Figure at 0x7f4692ab46d0>"
      ]
     },
     "metadata": {},
     "output_type": "display_data"
    }
   ],
   "source": [
    "left,upper,right,lower = (-63.5, 39.5, 64.5, 64.5)\n",
    "plt.subplot(1,2,1)\n",
    "foo = copy(sourcePoints)\n",
    "foo[np.where((sourcePoints[:,0]<=left) + \n",
    "              (sourcePoints[:,0] >= right) +\n",
    "              (sourcePoints[:,1] <=upper) +\n",
    "              (sourcePoints[:,1] >= lower))] = 0\n",
    "plt.plot(sourcePoints[:,0],sourcePoints[:,1], 'k.')\n",
    "plt.plot(foo[:,0],foo[:,1], 'r*')\n",
    "plt.axis('equal')\n",
    "baz = np.ones(sourcePoints.shape)\n",
    "baz[np.where((sourcePoints[:,0]<=left) + \n",
    "              (sourcePoints[:,0] >= right) +\n",
    "              (sourcePoints[:,1] <=upper) +\n",
    "              (sourcePoints[:,1] >= lower))] = 0\n",
    "plt.subplot(1,2,2)\n",
    "blarg = np.flip(baz[:,0].reshape((D1,D2)), axis=0).flatten()\n",
    "plt.imshow(blarg.reshape((D1,D2)))"
   ]
  },
  {
   "cell_type": "code",
   "execution_count": 899,
   "metadata": {},
   "outputs": [],
   "source": [
    "def center_box(boxtuple, origin):\n",
    "    left,upper,right,lower = boxtuple\n",
    "    left -= origin[0]\n",
    "    right -= origin[0]\n",
    "    upper -= origin[1]\n",
    "    lower -= origin[1]\n",
    "    return (left,upper,right,lower)"
   ]
  },
  {
   "cell_type": "code",
   "execution_count": 900,
   "metadata": {},
   "outputs": [],
   "source": [
    "xFormDict = {'scale':(10.,10.), 'rotation':0., 'shear':0., 'translation':(0,0)}\n",
    "xForm = AffineTransform(**xFormDict)"
   ]
  },
  {
   "cell_type": "code",
   "execution_count": 901,
   "metadata": {},
   "outputs": [
    {
     "data": {
      "text/plain": [
       "array([ 53, 123, 185, 255], dtype=uint8)"
      ]
     },
     "execution_count": 901,
     "metadata": {},
     "output_type": "execute_result"
    }
   ],
   "source": [
    "np.unique(targetObjectMap)"
   ]
  },
  {
   "cell_type": "code",
   "execution_count": 915,
   "metadata": {},
   "outputs": [
    {
     "data": {
      "image/png": "[encoded data removed]",
      "text/plain": [
       "<PIL.Image.Image image mode=L size=128x128 at 0x7F4692CDE510>"
      ]
     },
     "execution_count": 915,
     "metadata": {},
     "output_type": "execute_result"
    }
   ],
   "source": [
    "objectLabel = 123\n",
    "objectMask = np.flip(mask_quantize(targetObjectMap,objectLabel).resize((D1,D2)),axis=0)\n",
    "objectMask=fromarray(objectMask)\n",
    "objectMask"
   ]
  },
  {
   "cell_type": "code",
   "execution_count": 916,
   "metadata": {},
   "outputs": [],
   "source": [
    "sourcePoints,cp = source_points_from_image(smallImage,center=True)"
   ]
  },
  {
   "cell_type": "code",
   "execution_count": 917,
   "metadata": {},
   "outputs": [
    {
     "data": {
      "text/plain": [
       "(-63.5, -63.5, 64.5, -38.5)"
      ]
     },
     "execution_count": 917,
     "metadata": {},
     "output_type": "execute_result"
    }
   ],
   "source": [
    "maskBox = object_box(objectMask,255)\n",
    "maskBox = center_box(maskBox,cp)\n",
    "maskBox"
   ]
  },
  {
   "cell_type": "code",
   "execution_count": 918,
   "metadata": {
    "scrolled": true
   },
   "outputs": [],
   "source": [
    "dmap = displacement_map(sourcePoints, xForm, box=maskBox)#(-1, -1, 1, -4))\n",
    "displacedPoints = apply_displacement_map(sourcePoints, dmap, t=1)\n",
    "dmap = cart2img(dmap,D1,D2)"
   ]
  },
  {
   "cell_type": "code",
   "execution_count": 919,
   "metadata": {},
   "outputs": [
    {
     "data": {
      "text/plain": [
       "(-69.85, 69.85, -69.85, 69.85)"
      ]
     },
     "execution_count": 919,
     "metadata": {},
     "output_type": "execute_result"
    },
    {
     "data": {
      "image/png": "[encoded data removed]",
      "text/plain": [
       "<matplotlib.figure.Figure at 0x7f4692b62150>"
      ]
     },
     "metadata": {},
     "output_type": "display_data"
    }
   ],
   "source": [
    "plt.plot(sourcePoints[:,0],sourcePoints[:,1], 'k.')\n",
    "plt.plot(dmap[:,0],dmap[:,1], 'r*')\n",
    "plt.axis('equal')"
   ]
  },
  {
   "cell_type": "code",
   "execution_count": 619,
   "metadata": {},
   "outputs": [
    {
     "data": {
      "text/plain": [
       "<matplotlib.image.AxesImage at 0x7f4696eaee50>"
      ]
     },
     "execution_count": 619,
     "metadata": {},
     "output_type": "execute_result"
    },
    {
     "data": {
      "image/png": "[encoded data removed]",
      "text/plain": [
       "<matplotlib.figure.Figure at 0x7f4697103510>"
      ]
     },
     "metadata": {},
     "output_type": "display_data"
    }
   ],
   "source": [
    "plt.subplot(1,2,1)\n",
    "plt.imshow(smallImage, cmap='gray')\n",
    "plt.subplot(1,2,2)\n",
    "warpedImg = griddata(displacedPoints,smallImage.flatten(),sourcePoints, method='nearest')\n",
    "plt.imshow(warpedImg.reshape(D1,D2), cmap='gray')"
   ]
  },
  {
   "cell_type": "markdown",
   "metadata": {},
   "source": [
    "### Random sampling of distortions\n",
    "-  construct a bank of affine transforms to apply at each location and scale\n",
    "-  randomly sample activations from a \"multinoulli\" (product of Bernoullis each with same parameter)\n",
    "-  randmoly sample iterations from a Poisson\n",
    "-  apply as described above"
   ]
  },
  {
   "cell_type": "code",
   "execution_count": 195,
   "metadata": {},
   "outputs": [],
   "source": [
    "def zoom_or_pan(sourcePoints,centerPoint,direction):\n",
    "    '''\n",
    "    zoom_or_pan(sourcePoints,centerPoint,direction)\n",
    "    applies a panning or zooming coordinate transform to sourcePoints around\n",
    "    the centerPoint.\n",
    "    Inputs:\n",
    "        sourcePoints ~ N x 2 array of 2D points\n",
    "        centerPoint ~ 1 x 2 array giving center point for effect\n",
    "        direction ~ < 0 = zoom in, > 0 = pan out. absolute determines size of effect\n",
    "    Returns:\n",
    "        displacedPoints ~ N x 2 array of transformed points\n",
    "    '''\n",
    "    sourcePoints = sourcePoints-np.array(centerPoint).reshape((1,2))\n",
    "    angles = np.angle(np.apply_along_axis(lambda args: [complex(*args)], 1, sourcePoints))    \n",
    "    displacementVectors = direction*np.array([np.cos(angles),np.sin(angles)]).T\n",
    "    displacedPoints = sourcePoints+displacementVectors\n",
    "    return np.squeeze(displacedPoints), np.squeeze(displacementVectors)"
   ]
  },
  {
   "cell_type": "code",
   "execution_count": null,
   "metadata": {},
   "outputs": [],
   "source": []
  },
  {
   "cell_type": "code",
   "execution_count": null,
   "metadata": {},
   "outputs": [],
   "source": []
  },
  {
   "cell_type": "code",
   "execution_count": null,
   "metadata": {},
   "outputs": [],
   "source": []
  },
  {
   "cell_type": "code",
   "execution_count": null,
   "metadata": {},
   "outputs": [],
   "source": []
  },
  {
   "cell_type": "code",
   "execution_count": null,
   "metadata": {},
   "outputs": [],
   "source": []
  },
  {
   "cell_type": "code",
   "execution_count": null,
   "metadata": {},
   "outputs": [],
   "source": []
  },
  {
   "cell_type": "code",
   "execution_count": null,
   "metadata": {},
   "outputs": [],
   "source": []
  },
  {
   "cell_type": "code",
   "execution_count": null,
   "metadata": {},
   "outputs": [],
   "source": []
  },
  {
   "cell_type": "code",
   "execution_count": null,
   "metadata": {},
   "outputs": [],
   "source": []
  },
  {
   "cell_type": "code",
   "execution_count": null,
   "metadata": {},
   "outputs": [],
   "source": []
  },
  {
   "cell_type": "code",
   "execution_count": null,
   "metadata": {},
   "outputs": [],
   "source": []
  },
  {
   "cell_type": "code",
   "execution_count": null,
   "metadata": {},
   "outputs": [],
   "source": []
  },
  {
   "cell_type": "code",
   "execution_count": null,
   "metadata": {},
   "outputs": [],
   "source": []
  },
  {
   "cell_type": "code",
   "execution_count": null,
   "metadata": {},
   "outputs": [],
   "source": []
  },
  {
   "cell_type": "code",
   "execution_count": null,
   "metadata": {},
   "outputs": [],
   "source": []
  },
  {
   "cell_type": "code",
   "execution_count": null,
   "metadata": {},
   "outputs": [],
   "source": []
  },
  {
   "cell_type": "code",
   "execution_count": null,
   "metadata": {},
   "outputs": [],
   "source": []
  },
  {
   "cell_type": "code",
   "execution_count": null,
   "metadata": {},
   "outputs": [],
   "source": []
  },
  {
   "cell_type": "code",
   "execution_count": null,
   "metadata": {},
   "outputs": [],
   "source": []
  },
  {
   "cell_type": "code",
   "execution_count": null,
   "metadata": {},
   "outputs": [],
   "source": []
  },
  {
   "cell_type": "code",
   "execution_count": null,
   "metadata": {},
   "outputs": [],
   "source": []
  },
  {
   "cell_type": "code",
   "execution_count": null,
   "metadata": {},
   "outputs": [],
   "source": []
  },
  {
   "cell_type": "code",
   "execution_count": null,
   "metadata": {},
   "outputs": [],
   "source": []
  }
 ],
 "metadata": {
  "kernelspec": {
   "display_name": "Python 2",
   "language": "python",
   "name": "python2"
  },
  "language_info": {
   "codemirror_mode": {
    "name": "ipython",
    "version": 2
   },
   "file_extension": ".py",
   "mimetype": "text/x-python",
   "name": "python",
   "nbconvert_exporter": "python",
   "pygments_lexer": "ipython2",
   "version": "2.7.12"
  }
 },
 "nbformat": 4,
 "nbformat_minor": 2
}
