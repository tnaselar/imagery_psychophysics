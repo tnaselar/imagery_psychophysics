{
 "cells": [
  {
   "cell_type": "markdown",
   "metadata": {},
   "source": [
    "## Develop a new class for analyzing comembership properties q(Z)\n"
   ]
  },
  {
   "cell_type": "code",
   "execution_count": 1,
   "metadata": {},
   "outputs": [
    {
     "name": "stderr",
     "output_type": "stream",
     "text": [
      "Can not use cuDNN on context None: cannot compile with cuDNN. We got this error:\n",
      "/tmp/try_flags_02ij8E.c:4:19: fatal error: cudnn.h: No such file or directory\n",
      "compilation terminated.\n",
      "\n",
      "Mapped name None to device cuda: GeForce GTX TITAN X (0000:01:00.0)\n"
     ]
    }
   ],
   "source": [
    "import imagery_psychophysics.src.variational as very\n",
    "from imagery_psychophysics.src.stirling_maps import stirling_num_of_2nd_kind as snk\n",
    "from imagery_psychophysics.src.stirling_maps import stirling_partitions\n",
    "from skimage.morphology import binary_dilation, binary_erosion\n",
    "import numpy as np\n",
    "import pandas as pd\n",
    "import math\n",
    "import copy\n",
    "from matplotlib import pyplot as plt\n",
    "from os.path import join\n",
    "from PIL.Image import open as open_image\n",
    "from mpl_toolkits.axes_grid1 import ImageGrid\n",
    "from mpl_toolkits.axes_grid1 import make_axes_locatable\n"
   ]
  },
  {
   "cell_type": "markdown",
   "metadata": {},
   "source": [
    "#### Some data"
   ]
  },
  {
   "cell_type": "code",
   "execution_count": 88,
   "metadata": {},
   "outputs": [],
   "source": [
    "store = pd.io.pytables.HDFStore('/home/tnaselar/NAS/tnaselar/imagery_probe/noisyTrainedExampleModel.h5', 'r')"
   ]
  },
  {
   "cell_type": "code",
   "execution_count": 89,
   "metadata": {},
   "outputs": [],
   "source": [
    "resultsDf = store['df']"
   ]
  },
  {
   "cell_type": "code",
   "execution_count": 90,
   "metadata": {},
   "outputs": [
    {
     "data": {
      "text/html": [
       "<div>\n",
       "<style scoped>\n",
       "    .dataframe tbody tr th:only-of-type {\n",
       "        vertical-align: middle;\n",
       "    }\n",
       "\n",
       "    .dataframe tbody tr th {\n",
       "        vertical-align: top;\n",
       "    }\n",
       "\n",
       "    .dataframe thead th {\n",
       "        text-align: right;\n",
       "    }\n",
       "</style>\n",
       "<table border=\"1\" class=\"dataframe\">\n",
       "  <thead>\n",
       "    <tr style=\"text-align: right;\">\n",
       "      <th></th>\n",
       "      <th>targetZOneHot</th>\n",
       "      <th>trainedModel</th>\n",
       "    </tr>\n",
       "  </thead>\n",
       "  <tbody>\n",
       "    <tr>\n",
       "      <th>0</th>\n",
       "      <td>[[[0, 0, 0, 0, 0, 0, 0, 0, 0, 0, 0, 0, 0, 0, 0...</td>\n",
       "      <td>&lt;imagery_psychophysics.src.variational.VI obje...</td>\n",
       "    </tr>\n",
       "  </tbody>\n",
       "</table>\n",
       "</div>"
      ],
      "text/plain": [
       "                                       targetZOneHot  \\\n",
       "0  [[[0, 0, 0, 0, 0, 0, 0, 0, 0, 0, 0, 0, 0, 0, 0...   \n",
       "\n",
       "                                        trainedModel  \n",
       "0  <imagery_psychophysics.src.variational.VI obje...  "
      ]
     },
     "execution_count": 90,
     "metadata": {},
     "output_type": "execute_result"
    }
   ],
   "source": [
    "resultsDf"
   ]
  },
  {
   "cell_type": "code",
   "execution_count": 91,
   "metadata": {},
   "outputs": [],
   "source": [
    "store.close()"
   ]
  },
  {
   "cell_type": "code",
   "execution_count": 92,
   "metadata": {},
   "outputs": [],
   "source": [
    "trainedModel = resultsDf['trainedModel'][0]\n"
   ]
  },
  {
   "cell_type": "code",
   "execution_count": 93,
   "metadata": {},
   "outputs": [],
   "source": [
    "\n",
    "targetZOneHot = resultsDf['targetZOneHot'][0]"
   ]
  },
  {
   "cell_type": "code",
   "execution_count": 257,
   "metadata": {},
   "outputs": [],
   "source": [
    "class comembership_analyzer(object):\n",
    "    def __init__(self, trainedModel, relax=True):\n",
    "        '''\n",
    "        comembership_analyzer(trainedModel, relax=True)\n",
    "        \n",
    "        some methods for analyzing the pairwise comembership properties of pixels under q(Z)\n",
    "        for a trained VI model\n",
    "        \n",
    "        initialization arguments:\n",
    "            trainedModel ~ a trained VI model\n",
    "            relax ~ true by default, this will replace all 0's in the qZ with tiny number, to keep analyses from\n",
    "                    exploding. ideally the prior on Z will be set so that we don't have to do this.\n",
    "        '''\n",
    "        #self.trainedModel = trainedModel\n",
    "        self.D1,self.D2 = (trainedModel.responses.Z.numPixels.D1, trainedModel.responses.Z.numPixels.D2)\n",
    "        self.D = self.D1*self.D2\n",
    "        self.K = trainedModel.responses.Z.categoryPrior.numObjects.K\n",
    "        #explicitly copy qZ of the trained model since we want to cast it and may otherwise fuck with it\n",
    "        self.qZ = copy.deepcopy(trainedModel.bestQZ.astype('float64'))\n",
    "        #by default we relax and renormalize to avoid having to deal with degenerate distributions\n",
    "        if relax:\n",
    "            self.relax_and_renormalize()\n",
    "        #finally, pre-calculate the probability under q of any two pixels belonging together...\n",
    "        self.qZComemProb = self.comembership_indicator(self.qZ.astype('float64'))\n",
    "        \n",
    "        ##want to copy ability to see samples: note this takes K x D, not 1 x K x D\n",
    "        self.view_sample = lambda x,y: trainedModel.responses.Z.view_sample(x[np.newaxis],show=y)\n",
    "        \n",
    "        ##and copy ability to produce samples: \n",
    "        self.sample = lambda m: trainedModel.responses.Z.sample(M=m,pZ=self.qZ.astype('float32'))\n",
    "        \n",
    "    \n",
    "    def relax_and_renormalize(self, fudge=10e-16):\n",
    "        '''\n",
    "        relax_and_renormalize(fudge=10e-16)\n",
    "        sometimes the model is just too good (or bad) and learns degenerate distributions\n",
    "        for one or more pixels. this can make analyses really painful. so here we find all pixels\n",
    "        with degenerate distributions and relax them by adding a small non-zero probability where needed,\n",
    "        then renormalize\n",
    "    \n",
    "        '''\n",
    "        \n",
    "#         self.qZ = np.where(self.qZ <= tooSmall, self.qZ+fudge, self.qZ)\n",
    "        self.qZ = np.clip(self.qZ, fudge, 1)\n",
    "        self.qZ /= np.sum(self.qZ, axis=0)\n",
    "        if not np.all(np.abs(np.sum(self.qZ,axis=0)-1.0) < fudge):\n",
    "            self.relax_and_renormalize(fudge = fudge*10,tooSmall=fudge)\n",
    "        if not np.all(np.abs(np.sum(self.qZ.astype('float32'),axis=0)-1.0) < np.sqrt(fudge)):\n",
    "            self.relax_and_renormalize(fudge = fudge*10,tooSmall=fudge)\n",
    "        \n",
    "        print 'relaxation fudge factor: %e' %(fudge)\n",
    "\n",
    "    def comembership_indicator(self, objectMap):\n",
    "        '''\n",
    "        comembership_indicator(objectMap)\n",
    "        inputs:\n",
    "            objectMap ~ K x D\n",
    "        outputs:\n",
    "            a D x D matrix of comembership indicators\n",
    "            ie, 0 or 1 for each pair of pixels that don't/do belong to same object\n",
    "        '''\n",
    "#         ##only makes sense if given a legit objectMap, so check first\n",
    "#         assert(np.sum(np.sum(objectMap))==self.D)\n",
    "        return objectMap.T.dot(objectMap)\n",
    "    \n",
    "    def sample_object_maps_with_known_object(self, knownPixels=None, M=1):\n",
    "        '''\n",
    "        sample_object_maps_with_known_object(knownPixels=None, M=1)\n",
    "        produces M samples from q(Z) given that knownPixels all belong to same object\n",
    "        and no other pixels belong to that object\n",
    "        \n",
    "        inputs:\n",
    "            knownPixels ~ list of pixel indices (into the K x D object maps). or a list of lists.\n",
    "        \n",
    "        outputs:\n",
    "            M x K x D array of samples from q(Z) given that knowPixels all belong to same object\n",
    "            \n",
    "        '''\n",
    "        ##initialize object map sample array\n",
    "        objectMaps = np.zeros((M,self.K,self.D)).astype('int64')\n",
    "        \n",
    "        if knownPixels is None:\n",
    "            return self.sample(M)\n",
    "           \n",
    "        ##get indices for unknown pixels\n",
    "        unknownPixels = range(self.D)\n",
    "        [unknownPixels.remove(pix) for pix in knownPixels]\n",
    "        #get probability that the known pixels belong to object k\n",
    "        unnorm = np.exp(np.sum(np.log(self.qZ[:,knownPixels]),axis=1))\n",
    "        prob_of_k = np.exp(np.log(unnorm)-np.log(np.sum(unnorm)))\n",
    "        #sample an object from that distribution\n",
    "        selected_objects = np.random.multinomial(1,prob_of_k,size=M).astype('bool')\n",
    "        ##loop over all samples\n",
    "        for m,k in zip(range(M),selected_objects):\n",
    "            #assign known pixels to that row in the object map\n",
    "            theObject = np.arange(self.K)[k]\n",
    "            img,row,col = np.meshgrid(m, theObject, knownPixels)\n",
    "            objectMaps[[img,row,col]] = 1\n",
    "            ##now deal with the rest of the objects/pixels\n",
    "            notTheObject = np.arange(self.K)[~k]\n",
    "            #normalize probabilities for the rest of the pixels\n",
    "            prob_of_not_k = 1-self.qZ[theObject][:,unknownPixels]\n",
    "            qZNormalized = (self.qZ[notTheObject][:,unknownPixels])/(prob_of_not_k.reshape((1,len(unknownPixels))))\n",
    "\n",
    "            #sample labels for those pixels.\n",
    "            labels = np.array(map(lambda pval: np.random.multinomial(1, pval), qZNormalized.T)).T\n",
    "            ##assign labels to remaining pixels\n",
    "            img,row,col = np.meshgrid(m, notTheObject, unknownPixels)\n",
    "            if labels.size:\n",
    "                objectMaps[[img,row,col]] = labels[:,np.newaxis,:]\n",
    "            \n",
    "        return objectMaps\n",
    "    \n",
    "    def log_prob_comembership_indicator(self, objectMap):\n",
    "        '''\n",
    "        log_prob_comembership_indicator(objectMap)\n",
    "        returns the log probability of the comembership indicator matrix\n",
    "        of the input objectMap\n",
    "        \n",
    "        inputs:\n",
    "            objectMap ~ K x D\n",
    "        outputs:\n",
    "            logProb ~ scalar\n",
    "        '''\n",
    "        \n",
    "        \n",
    "#         small = 10e-16\n",
    "#         big = 1-small        \n",
    "        C = self.qZComemProb\n",
    "        logC = np.log(C)\n",
    "        logOneMinusC = np.log(1-C)\n",
    "        cmi = self.comembership_indicator(objectMap).astype('float64')\n",
    "        logProb = np.sum(np.sum(np.triu(cmi*logC+(1-cmi)*logOneMinusC,1)))\n",
    "        return logProb\n",
    "    \n",
    "    def entropy(self, M=0):\n",
    "        '''\n",
    "        entropy(M=0)\n",
    "        by default, rurns analytical entropy of qZ\n",
    "        if M > 0, estimates entropy by calculating expected_log_prob_comembership across M samples\n",
    "        '''\n",
    "        if M:\n",
    "            negentropy,_,_=self.expected_log_prob_comembership(M=M)\n",
    "        else:\n",
    "            negentropy = self.log_prob_comembership_indicator(self.qZ)\n",
    "        return -negentropy\n",
    "\n",
    "    def expected_log_prob_comembership(self,knownPixels = None, M = 100):\n",
    "        '''\n",
    "        expected_log_prob_comembership(knownPixels = None, M = 100)\n",
    "        samples M object maps from q(Z) assuming that all pixels in \"knownPixels\" belong to the\n",
    "        same object. computes the expected log prob of comembership across these samples.\n",
    "        \n",
    "        note: if no knownPixels, this should approximate -H(q(Z))\n",
    "        \n",
    "        inputs:\n",
    "            knownPixels ~ a list of integers (I think booleans will work too) indices\n",
    "            M ~ number of samples for computed expectation\n",
    "        outputs:\n",
    "            expected log prob ~ scalar, arithmetic mean of log comembership probability across all M samples\n",
    "            logProbs ~ list of logProbs for each individual sample\n",
    "            samples ~ list of sampled object maps used to compute expectation\n",
    "        '''\n",
    "#         if knownPixels is None:\n",
    "#             return -self.entropy\n",
    "#         else:\n",
    "        s = self.sample_object_maps_with_known_object(knownPixels, M=M)\n",
    "        logProbs = map(self.log_prob_comembership_indicator, s)\n",
    "        return np.mean(logProbs), logProbs, s\n",
    "        \n",
    "    def optimize_object_scale(self, knownPixels, M=100, selem=None):\n",
    "        originalObjectMask = np.zeros(self.D)\n",
    "        originalObjectMask[knownPixels]=1\n",
    "        originalObjectMask = originalObjectMask.reshape((self.D1,self.D2))\n",
    "        rescaledObjectMasks = recursively_rescale_object(originalObjectMask,selem=selem) ## a list of eroded/dilated objects, original in the middle\n",
    "        expected_log_probs = np.zeros(len(rescaledObjectMasks))\n",
    "        for i,objectMask in enumerate(rescaledObjectMasks):\n",
    "            pixelIdx = np.where(objectMask.flatten())[0]\n",
    "            explp,_,_ = self.expected_log_prob_comembership(pixelIdx, M=M)\n",
    "            expected_log_probs[i] = explp\n",
    "        return expected_log_probs, rescaledObjectMasks\n",
    "    \n",
    "    def posterior_image_identification(self, candidateObjectMapStack):\n",
    "        '''\n",
    "        posterior_image_identification(lureObjectMapStack)\n",
    "        take a stack of \"lure\" object maps, compute log prob. of comembership for each,\n",
    "        return, along with index of highest log. prob. if \"real\" object map is in the stack,\n",
    "        this can be used for image identification\n",
    "        '''\n",
    "        ##big nasty loop\n",
    "        N = candidateObjectMapStack.shape[0]\n",
    "        logProbs = np.zeros(N)\n",
    "        for i,objectMap in enumerate(candidateObjectMapStack):    \n",
    "            logProbs[i]=self.log_prob_comembership_indicator(objectMap)\n",
    "        return logProbs, np.argmax(logProbs)\n",
    "    \n",
    "    def kl_divergence(self, pZ, M=100):\n",
    "        '''\n",
    "        kl_divergence(pZ)\n",
    "        returns KL(q | p), the kullback-lieber divergence between q(Z) and comparison_distribution p(Z)\n",
    "        uses the comemberhsip probability because object identities in q and p will not mean the same thing in general.\n",
    "        however, this only produces meaningful estimates if q and p have the same support.\n",
    "        \n",
    "        inputs:\n",
    "            pZ ~ a K x D distribution\n",
    "            Note: we don't do \n",
    "        '''\n",
    "        p = pZ.T.dot(pZ).astype('float64')\n",
    "        q = self.qZComemProb\n",
    "        \n",
    "        crossentropy = -q*np.log(p) - (1-q)*np.log(1-p)\n",
    "        return crossentropy - self.entropy()\n",
    "        \n",
    "        \n",
    "        \n",
    "        \n",
    "            \n"
   ]
  },
  {
   "cell_type": "code",
   "execution_count": 258,
   "metadata": {},
   "outputs": [],
   "source": [
    "def recursively_rescale_object(objectMask,selem=None):\n",
    "    '''\n",
    "    recursively_rescale_object(objectMask,selem=np.ones((2,2)))\n",
    "    makes of list of rescaled objects from very tiny to very big\n",
    "    objectMask is a binary matrix in \"canonical\" format (i.e., rows x cols image)\n",
    "    '''\n",
    "    def recurse(objectMask,thresh_func, warp_func):\n",
    "        objectMask = warp_func(objectMask,selem)\n",
    "        if thresh_func(objectMask):\n",
    "            return [objectMask]+recurse(objectMask, thresh_func, warp_func)\n",
    "        return []\n",
    "    #shrink\n",
    "    warp_func = binary_erosion\n",
    "    thresh_func = np.sum\n",
    "    shrunk = recurse(objectMask,thresh_func, warp_func)\n",
    "    \n",
    "    #dilate\n",
    "    warp_func = binary_dilation\n",
    "    thresh_func = lambda x: np.sum(x) < objectMask.size\n",
    "    dilated = recurse(objectMask,thresh_func, warp_func)\n",
    "    \n",
    "    return list(reversed(shrunk))+[objectMask]+dilated \n"
   ]
  },
  {
   "cell_type": "code",
   "execution_count": 237,
   "metadata": {},
   "outputs": [
    {
     "name": "stdout",
     "output_type": "stream",
     "text": [
      "Automatic pdb calling has been turned ON\n"
     ]
    }
   ],
   "source": [
    "pdb"
   ]
  },
  {
   "cell_type": "code",
   "execution_count": 260,
   "metadata": {},
   "outputs": [
    {
     "ename": "TypeError",
     "evalue": "clip() takes at least 3 arguments (2 given)",
     "output_type": "error",
     "traceback": [
      "\u001b[0;31m---------------------------------------------------------------------------\u001b[0m",
      "\u001b[0;31mTypeError\u001b[0m                                 Traceback (most recent call last)",
      "\u001b[0;32m<ipython-input-260-c2dff7525592>\u001b[0m in \u001b[0;36m<module>\u001b[0;34m()\u001b[0m\n\u001b[0;32m----> 1\u001b[0;31m \u001b[0mcomem\u001b[0m \u001b[0;34m=\u001b[0m \u001b[0mcomembership_analyzer\u001b[0m\u001b[0;34m(\u001b[0m\u001b[0mtrainedModel\u001b[0m\u001b[0;34m)\u001b[0m\u001b[0;34m\u001b[0m\u001b[0m\n\u001b[0m",
      "\u001b[0;32m<ipython-input-257-393498ca70df>\u001b[0m in \u001b[0;36m__init__\u001b[0;34m(self, trainedModel, relax)\u001b[0m\n\u001b[1;32m     20\u001b[0m         \u001b[0;31m#by default we relax and renormalize to avoid having to deal with degenerate distributions\u001b[0m\u001b[0;34m\u001b[0m\u001b[0;34m\u001b[0m\u001b[0m\n\u001b[1;32m     21\u001b[0m         \u001b[0;32mif\u001b[0m \u001b[0mrelax\u001b[0m\u001b[0;34m:\u001b[0m\u001b[0;34m\u001b[0m\u001b[0m\n\u001b[0;32m---> 22\u001b[0;31m             \u001b[0mself\u001b[0m\u001b[0;34m.\u001b[0m\u001b[0mrelax_and_renormalize\u001b[0m\u001b[0;34m(\u001b[0m\u001b[0;34m)\u001b[0m\u001b[0;34m\u001b[0m\u001b[0m\n\u001b[0m\u001b[1;32m     23\u001b[0m         \u001b[0;31m#finally, pre-calculate the probability under q of any two pixels belonging together...\u001b[0m\u001b[0;34m\u001b[0m\u001b[0;34m\u001b[0m\u001b[0m\n\u001b[1;32m     24\u001b[0m         \u001b[0mself\u001b[0m\u001b[0;34m.\u001b[0m\u001b[0mqZComemProb\u001b[0m \u001b[0;34m=\u001b[0m \u001b[0mself\u001b[0m\u001b[0;34m.\u001b[0m\u001b[0mcomembership_indicator\u001b[0m\u001b[0;34m(\u001b[0m\u001b[0mself\u001b[0m\u001b[0;34m.\u001b[0m\u001b[0mqZ\u001b[0m\u001b[0;34m.\u001b[0m\u001b[0mastype\u001b[0m\u001b[0;34m(\u001b[0m\u001b[0;34m'float64'\u001b[0m\u001b[0;34m)\u001b[0m\u001b[0;34m)\u001b[0m\u001b[0;34m\u001b[0m\u001b[0m\n",
      "\u001b[0;32m<ipython-input-257-393498ca70df>\u001b[0m in \u001b[0;36mrelax_and_renormalize\u001b[0;34m(self, fudge)\u001b[0m\n\u001b[1;32m     42\u001b[0m \u001b[0;34m\u001b[0m\u001b[0m\n\u001b[1;32m     43\u001b[0m \u001b[0;31m#         self.qZ = np.where(self.qZ <= tooSmall, self.qZ+fudge, self.qZ)\u001b[0m\u001b[0;34m\u001b[0m\u001b[0;34m\u001b[0m\u001b[0m\n\u001b[0;32m---> 44\u001b[0;31m         \u001b[0mself\u001b[0m\u001b[0;34m.\u001b[0m\u001b[0mqZ\u001b[0m \u001b[0;34m=\u001b[0m \u001b[0mnp\u001b[0m\u001b[0;34m.\u001b[0m\u001b[0mclip\u001b[0m\u001b[0;34m(\u001b[0m\u001b[0mself\u001b[0m\u001b[0;34m.\u001b[0m\u001b[0mqZ\u001b[0m\u001b[0;34m,\u001b[0m \u001b[0mfudge\u001b[0m\u001b[0;34m)\u001b[0m\u001b[0;34m\u001b[0m\u001b[0m\n\u001b[0m\u001b[1;32m     45\u001b[0m         \u001b[0mself\u001b[0m\u001b[0;34m.\u001b[0m\u001b[0mqZ\u001b[0m \u001b[0;34m/=\u001b[0m \u001b[0mnp\u001b[0m\u001b[0;34m.\u001b[0m\u001b[0msum\u001b[0m\u001b[0;34m(\u001b[0m\u001b[0mself\u001b[0m\u001b[0;34m.\u001b[0m\u001b[0mqZ\u001b[0m\u001b[0;34m,\u001b[0m \u001b[0maxis\u001b[0m\u001b[0;34m=\u001b[0m\u001b[0;36m0\u001b[0m\u001b[0;34m)\u001b[0m\u001b[0;34m\u001b[0m\u001b[0m\n\u001b[1;32m     46\u001b[0m         \u001b[0;32mif\u001b[0m \u001b[0;32mnot\u001b[0m \u001b[0mnp\u001b[0m\u001b[0;34m.\u001b[0m\u001b[0mall\u001b[0m\u001b[0;34m(\u001b[0m\u001b[0mnp\u001b[0m\u001b[0;34m.\u001b[0m\u001b[0mabs\u001b[0m\u001b[0;34m(\u001b[0m\u001b[0mnp\u001b[0m\u001b[0;34m.\u001b[0m\u001b[0msum\u001b[0m\u001b[0;34m(\u001b[0m\u001b[0mself\u001b[0m\u001b[0;34m.\u001b[0m\u001b[0mqZ\u001b[0m\u001b[0;34m,\u001b[0m\u001b[0maxis\u001b[0m\u001b[0;34m=\u001b[0m\u001b[0;36m0\u001b[0m\u001b[0;34m)\u001b[0m\u001b[0;34m-\u001b[0m\u001b[0;36m1.0\u001b[0m\u001b[0;34m)\u001b[0m \u001b[0;34m<\u001b[0m \u001b[0mfudge\u001b[0m\u001b[0;34m)\u001b[0m\u001b[0;34m:\u001b[0m\u001b[0;34m\u001b[0m\u001b[0m\n",
      "\u001b[0;31mTypeError\u001b[0m: clip() takes at least 3 arguments (2 given)"
     ]
    },
    {
     "name": "stdout",
     "output_type": "stream",
     "text": [
      "> \u001b[0;32m<ipython-input-257-393498ca70df>\u001b[0m(44)\u001b[0;36mrelax_and_renormalize\u001b[0;34m()\u001b[0m\n",
      "\u001b[0;32m     42 \u001b[0;31m\u001b[0;34m\u001b[0m\u001b[0m\n",
      "\u001b[0m\u001b[0;32m     43 \u001b[0;31m\u001b[0;31m#         self.qZ = np.where(self.qZ <= tooSmall, self.qZ+fudge, self.qZ)\u001b[0m\u001b[0;34m\u001b[0m\u001b[0;34m\u001b[0m\u001b[0m\n",
      "\u001b[0m\u001b[0;32m---> 44 \u001b[0;31m        \u001b[0mself\u001b[0m\u001b[0;34m.\u001b[0m\u001b[0mqZ\u001b[0m \u001b[0;34m=\u001b[0m \u001b[0mnp\u001b[0m\u001b[0;34m.\u001b[0m\u001b[0mclip\u001b[0m\u001b[0;34m(\u001b[0m\u001b[0mself\u001b[0m\u001b[0;34m.\u001b[0m\u001b[0mqZ\u001b[0m\u001b[0;34m,\u001b[0m \u001b[0mfudge\u001b[0m\u001b[0;34m)\u001b[0m\u001b[0;34m\u001b[0m\u001b[0m\n",
      "\u001b[0m\u001b[0;32m     45 \u001b[0;31m        \u001b[0mself\u001b[0m\u001b[0;34m.\u001b[0m\u001b[0mqZ\u001b[0m \u001b[0;34m/=\u001b[0m \u001b[0mnp\u001b[0m\u001b[0;34m.\u001b[0m\u001b[0msum\u001b[0m\u001b[0;34m(\u001b[0m\u001b[0mself\u001b[0m\u001b[0;34m.\u001b[0m\u001b[0mqZ\u001b[0m\u001b[0;34m,\u001b[0m \u001b[0maxis\u001b[0m\u001b[0;34m=\u001b[0m\u001b[0;36m0\u001b[0m\u001b[0;34m)\u001b[0m\u001b[0;34m\u001b[0m\u001b[0m\n",
      "\u001b[0m\u001b[0;32m     46 \u001b[0;31m        \u001b[0;32mif\u001b[0m \u001b[0;32mnot\u001b[0m \u001b[0mnp\u001b[0m\u001b[0;34m.\u001b[0m\u001b[0mall\u001b[0m\u001b[0;34m(\u001b[0m\u001b[0mnp\u001b[0m\u001b[0;34m.\u001b[0m\u001b[0mabs\u001b[0m\u001b[0;34m(\u001b[0m\u001b[0mnp\u001b[0m\u001b[0;34m.\u001b[0m\u001b[0msum\u001b[0m\u001b[0;34m(\u001b[0m\u001b[0mself\u001b[0m\u001b[0;34m.\u001b[0m\u001b[0mqZ\u001b[0m\u001b[0;34m,\u001b[0m\u001b[0maxis\u001b[0m\u001b[0;34m=\u001b[0m\u001b[0;36m0\u001b[0m\u001b[0;34m)\u001b[0m\u001b[0;34m-\u001b[0m\u001b[0;36m1.0\u001b[0m\u001b[0;34m)\u001b[0m \u001b[0;34m<\u001b[0m \u001b[0mfudge\u001b[0m\u001b[0;34m)\u001b[0m\u001b[0;34m:\u001b[0m\u001b[0;34m\u001b[0m\u001b[0m\n",
      "\u001b[0m\n",
      "ipdb> q\n"
     ]
    }
   ],
   "source": [
    "comem = comembership_analyzer(trainedModel)"
   ]
  },
  {
   "cell_type": "code",
   "execution_count": 256,
   "metadata": {},
   "outputs": [
    {
     "data": {
      "image/png": "[encoded data removed]",
      "text/plain": [
       "<matplotlib.figure.Figure at 0x7f2f59b4a050>"
      ]
     },
     "metadata": {},
     "output_type": "display_data"
    }
   ],
   "source": [
    "Z = comem.sample_object_maps_with_known_object(M=100)\n",
    "_=comem.view_sample(Z[99],True) "
   ]
  },
  {
   "cell_type": "code",
   "execution_count": 133,
   "metadata": {},
   "outputs": [
    {
     "data": {
      "text/plain": [
       "100"
      ]
     },
     "execution_count": 133,
     "metadata": {},
     "output_type": "execute_result"
    }
   ],
   "source": [
    "randoPixels = np.random.permutation(comem.D)[0:10]\n",
    "# s = comem.sample_object_maps_with_known_object(randoPixels,M=10)\n",
    "expectLogProb, logProbs, s = comem.expected_log_prob_comembership(randoPixels)\n",
    "len(logProbs)"
   ]
  },
  {
   "cell_type": "code",
   "execution_count": 134,
   "metadata": {},
   "outputs": [
    {
     "data": {
      "text/plain": [
       "Text(0.5,1,u'logProb: -19809.899340')"
      ]
     },
     "execution_count": 134,
     "metadata": {},
     "output_type": "execute_result"
    },
    {
     "data": {
      "image/png": "[encoded data removed]",
      "text/plain": [
       "<matplotlib.figure.Figure at 0x7f2f5bf2d310>"
      ]
     },
     "metadata": {},
     "output_type": "display_data"
    }
   ],
   "source": [
    "fig = plt.figure(figsize=(15,45))\n",
    "for ii,k in enumerate(np.random.permutation(np.arange(1,101)[:3])):\n",
    "    plt.subplot(1,4,ii+1)\n",
    "    _= trainedModel.responses.Z.view_sample(s[(k-1):k,:,:])\n",
    "    plt.title('logProb: %f' %(logProbs[k-1]))\n",
    "\n",
    "plt.subplot(1,4,4)\n",
    "_= trainedModel.responses.Z.view_sample(targetZOneHot[:1,:,:])\n",
    "targLogProb = comem.log_prob_comembership_indicator(targetZOneHot[0])\n",
    "plt.title('logProb: %f' %(targLogProb))\n",
    "\n"
   ]
  },
  {
   "cell_type": "code",
   "execution_count": 135,
   "metadata": {},
   "outputs": [
    {
     "name": "stdout",
     "output_type": "stream",
     "text": [
      "expected log prob: -21669.204797\n"
     ]
    },
    {
     "data": {
      "image/png": "[encoded data removed]",
      "text/plain": [
       "<matplotlib.figure.Figure at 0x7f2f5bed2090>"
      ]
     },
     "metadata": {},
     "output_type": "display_data"
    }
   ],
   "source": [
    "_=plt.hist(logProbs, bins=20)\n",
    "print 'expected log prob: %f' %(expectLogProb)"
   ]
  },
  {
   "cell_type": "code",
   "execution_count": 153,
   "metadata": {},
   "outputs": [],
   "source": [
    "knownPixels = np.where(targetZOneHot[0][2]==1)[0]\n",
    "expectLogProbReal, logProbsReal, sReal = comem.expected_log_prob_comembership(knownPixels,M=10000)"
   ]
  },
  {
   "cell_type": "code",
   "execution_count": 151,
   "metadata": {},
   "outputs": [
    {
     "data": {
      "text/plain": [
       "Text(0.5,1,u'logProb: -19809.899340')"
      ]
     },
     "execution_count": 151,
     "metadata": {},
     "output_type": "execute_result"
    },
    {
     "data": {
      "image/png": "[encoded data removed]",
      "text/plain": [
       "<matplotlib.figure.Figure at 0x7f2f5b0ff6d0>"
      ]
     },
     "metadata": {},
     "output_type": "display_data"
    }
   ],
   "source": [
    "fig = plt.figure(figsize=(15,45))\n",
    "for ii,k in enumerate(np.random.permutation(np.arange(1,101)[:3])):\n",
    "    plt.subplot(1,4,ii+1)\n",
    "    _= trainedModel.responses.Z.view_sample(sReal[(k-1):k,:,:])\n",
    "    plt.title('logProb: %f' %(logProbsReal[k-1]))\n",
    "\n",
    "plt.subplot(1,4,4)\n",
    "_= trainedModel.responses.Z.view_sample(targetZOneHot[:1,:,:])\n",
    "targLogProb = comem.log_prob_comembership_indicator(targetZOneHot[0])\n",
    "plt.title('logProb: %f' %(targLogProb))"
   ]
  },
  {
   "cell_type": "code",
   "execution_count": 155,
   "metadata": {},
   "outputs": [
    {
     "name": "stdout",
     "output_type": "stream",
     "text": [
      "expected log prob: -19461.757797\n"
     ]
    },
    {
     "data": {
      "image/png": "[encoded data removed]",
      "text/plain": [
       "<matplotlib.figure.Figure at 0x7f2f5bde6450>"
      ]
     },
     "metadata": {},
     "output_type": "display_data"
    }
   ],
   "source": [
    "_=plt.hist(logProbsReal, bins=100)\n",
    "print 'expected log prob: %f' %(expectLogProbReal)"
   ]
  },
  {
   "cell_type": "code",
   "execution_count": 140,
   "metadata": {},
   "outputs": [],
   "source": [
    "knownObjectIdx = 3\n",
    "knownPixels = np.where(targetZOneHot[0][knownObjectIdx]==1)[0]\n",
    "knownMask = targetZOneHot[0][knownObjectIdx, :].reshape((comem.D1, comem.D2))\n",
    "knownLogProb, _, _ = comem.expected_log_prob_comembership(knownPixels)\n",
    "expect_log_probs, objectMasks = comem.optimize_object_scale(knownPixels)"
   ]
  },
  {
   "cell_type": "code",
   "execution_count": 141,
   "metadata": {},
   "outputs": [
    {
     "data": {
      "image/png": "[encoded data removed]",
      "text/plain": [
       "<matplotlib.figure.Figure at 0x7f2f5b5d7e10>"
      ]
     },
     "metadata": {},
     "output_type": "display_data"
    }
   ],
   "source": [
    "fig = plt.figure(figsize=(15,45))\n",
    "for ii,k in enumerate(range(len(objectMasks))):\n",
    "    plt.subplot(1,len(objectMasks),ii+1)\n",
    "    plt.imshow(objectMasks[ii].astype('bool'))"
   ]
  },
  {
   "cell_type": "code",
   "execution_count": 142,
   "metadata": {},
   "outputs": [
    {
     "data": {
      "text/plain": [
       "[<matplotlib.lines.Line2D at 0x7f2f5b3729d0>]"
      ]
     },
     "execution_count": 142,
     "metadata": {},
     "output_type": "execute_result"
    },
    {
     "data": {
      "image/png": "[encoded data removed]",
      "text/plain": [
       "<matplotlib.figure.Figure at 0x7f2f5b372a50>"
      ]
     },
     "metadata": {},
     "output_type": "display_data"
    }
   ],
   "source": [
    "plt.plot(map(np.sum, objectMasks), expect_log_probs, '.-')\n",
    "plt.plot(len(knownPixels), knownLogProb, 'r*')"
   ]
  },
  {
   "cell_type": "code",
   "execution_count": 143,
   "metadata": {},
   "outputs": [
    {
     "name": "stdout",
     "output_type": "stream",
     "text": [
      "best Z: 100\n"
     ]
    },
    {
     "data": {
      "image/png": "[encoded data removed]",
      "text/plain": [
       "<matplotlib.figure.Figure at 0x7f2f57754c50>"
      ]
     },
     "metadata": {},
     "output_type": "display_data"
    }
   ],
   "source": [
    "targIdx = 100\n",
    "lureZ = very.make_object_map_stack(comem.K, 2, 3, (comem.D1,comem.D2), 10000)\n",
    "lureZ[targIdx] = targetZOneHot[0]\n",
    "logProbs, bestZ = comem.posterior_image_identification(lureZ)\n",
    "_=plt.hist(logProbs, bins=100, log=True)\n",
    "print 'best Z: %d' %(targIdx)"
   ]
  },
  {
   "cell_type": "code",
   "execution_count": null,
   "metadata": {},
   "outputs": [],
   "source": [
    "##but need to sum over all numbers of objects from 1 to K, because these are all on the support of q\n",
    "num = snk(9,3)\n",
    "sp = stirling_partitions(range(9),3)\n",
    "\n",
    "maps = np.zeros((int(num), 3,9))\n",
    "for ii,obj in enumerate(sp):\n",
    "    for k in range(3):\n",
    "        maps[ii][k][obj.pop()]=1\n"
   ]
  }
 ],
 "metadata": {
  "kernelspec": {
   "display_name": "Python 2",
   "language": "python",
   "name": "python2"
  },
  "language_info": {
   "codemirror_mode": {
    "name": "ipython",
    "version": 2
   },
   "file_extension": ".py",
   "mimetype": "text/x-python",
   "name": "python",
   "nbconvert_exporter": "python",
   "pygments_lexer": "ipython2",
   "version": "2.7.12"
  }
 },
 "nbformat": 4,
 "nbformat_minor": 2
}
