{
 "cells": [
  {
   "cell_type": "code",
   "execution_count": 1,
   "metadata": {
    "collapsed": false
   },
   "outputs": [
    {
     "name": "stdout",
     "output_type": "stream",
     "text": [
      "Couldn't import dot_parser, loading of dot files will not be possible.\n"
     ]
    },
    {
     "name": "stderr",
     "output_type": "stream",
     "text": [
      "Using gpu device 0: GeForce GTX TITAN X (CNMeM is disabled, cuDNN not available)\n"
     ]
    }
   ],
   "source": [
    "import numpy as np\n",
    "from time import time\n",
    "from theano import tensor as T\n",
    "from theano.sandbox.rng_mrg import MRG_RandomStreams\n",
    "from theano.tensor.shared_randomstreams import RandomStreams\n",
    "from theano import function, shared\n",
    "from theano.tensor.extra_ops import repeat, to_one_hot\n",
    "from sklearn.preprocessing import OneHotEncoder\n",
    "from matplotlib import pyplot as plt\n",
    "%matplotlib inline"
   ]
  },
  {
   "cell_type": "markdown",
   "metadata": {},
   "source": [
    "### Study the processes and variables needed for theano implementation of variational inference on the probe model\n",
    "Here I built and tested most of the machinery needed to "
   ]
  },
  {
   "cell_type": "markdown",
   "metadata": {},
   "source": [
    "#### Dimensions"
   ]
  },
  {
   "cell_type": "code",
   "execution_count": 2,
   "metadata": {
    "collapsed": true
   },
   "outputs": [],
   "source": [
    "floatX = 'float32'\n",
    "sqrt_D = 32\n",
    "D = int(sqrt_D*sqrt_D)#number of pixels\n",
    "K = 8#number of objects\n",
    "N = 200#number of windows (data points)\n",
    "M = 10#number of object map samples to generate for calculating object responsibility"
   ]
  },
  {
   "cell_type": "markdown",
   "metadata": {},
   "source": [
    "#### Generate samples of object maps from a posterior over object maps"
   ]
  },
  {
   "cell_type": "code",
   "execution_count": 3,
   "metadata": {
    "collapsed": false
   },
   "outputs": [],
   "source": [
    "##the variational posterior over object maps Z\n",
    "_Q_Z = T.matrix('Q_Z') ##(K,D)\n",
    "_M = T.scalar('M',dtype='int32')\n",
    "\n",
    "##a theano random number generator\n",
    "rng = MRG_RandomStreams(use_cuda = True)\n",
    "\n",
    "##sample one Z map from posterior Q_Z\n",
    "_Z_samples = rng.multinomial(pvals = repeat(_Q_Z.T,_M,axis=0)).reshape((_Q_Z.shape[1],_M,_Q_Z.shape[0])).dimshuffle((1,2,0))\n",
    "\n",
    "##functionalize\n",
    "Z_sample_func = function([_Q_Z,_M],outputs=_Z_samples)"
   ]
  },
  {
   "cell_type": "code",
   "execution_count": 4,
   "metadata": {
    "collapsed": false
   },
   "outputs": [
    {
     "name": "stdout",
     "output_type": "stream",
     "text": [
      "[ 0.99999994  0.99999994  0.99999994 ...,  1.          1.          1.        ]\n"
     ]
    }
   ],
   "source": [
    "##to test first generate posterior from a dirichlet distribution\n",
    "alpha_0 = 1.1\n",
    "Q_Z = np.zeros((K,D), dtype=floatX)\n",
    "probs = np.random.dirichlet([alpha_0]*K,)\n",
    "for d in range(D): #np.random.permutation(D):\n",
    "    if not np.mod(d,64):\n",
    "        probs = np.random.dirichlet([alpha_0]*K,)\n",
    "    Q_Z[:,d] = probs\n",
    "print np.sum(Q_Z,axis=0)"
   ]
  },
  {
   "cell_type": "code",
   "execution_count": 5,
   "metadata": {
    "collapsed": false
   },
   "outputs": [],
   "source": [
    "##this shows the how the crazy tensor manipulation is working\n",
    "r_shuff = function([_Q_Z, _M], outputs = repeat(_Q_Z.T,_M,axis=0).reshape((_Q_Z.shape[1],_M,_Q_Z.shape[0])).dimshuffle((1,2,0)))"
   ]
  },
  {
   "cell_type": "code",
   "execution_count": 6,
   "metadata": {
    "collapsed": true
   },
   "outputs": [],
   "source": [
    "##this will help visualize\n",
    "def from_one_hot(Z,axis=0):\n",
    "    '''\n",
    "    Z ~ K x D\n",
    "    convert to 1 x D, D[i] = j, j = argmax(Z[:,i])\n",
    "    '''\n",
    "    return np.argmax(Z,axis=axis)"
   ]
  },
  {
   "cell_type": "code",
   "execution_count": 7,
   "metadata": {
    "collapsed": true
   },
   "outputs": [],
   "source": [
    "##generate M sample maps (M x K x D)\n",
    "Z_samples = Z_sample_func(Q_Z, M)"
   ]
  },
  {
   "cell_type": "code",
   "execution_count": 8,
   "metadata": {
    "collapsed": false
   },
   "outputs": [
    {
     "name": "stdout",
     "output_type": "stream",
     "text": [
      "(10, 8, 1024)\n"
     ]
    },
    {
     "name": "stderr",
     "output_type": "stream",
     "text": [
      "/home/tnaselar/anaconda/lib/python2.7/site-packages/ipykernel/__main__.py:3: VisibleDeprecationWarning: using a non-integer number instead of an integer will result in an error in the future\n",
      "  app.launch_new_instance()\n"
     ]
    },
    {
     "data": {
      "text/plain": [
       "<matplotlib.collections.PolyCollection at 0x7fbe928e4350>"
      ]
     },
     "execution_count": 8,
     "metadata": {},
     "output_type": "execute_result"
    },
    {
     "data": {
      "image/png": "[encoded data removed]",
      "text/plain": [
       "<matplotlib.figure.Figure at 0x7fbe960e6290>"
      ]
     },
     "metadata": {},
     "output_type": "display_data"
    }
   ],
   "source": [
    "print Z_samples.shape\n",
    "fig = plt.figure(figsize=(5,5))\n",
    "plt.pcolor(from_one_hot(Z_samples[0]).reshape(np.sqrt(D),np.sqrt(D)))"
   ]
  },
  {
   "cell_type": "markdown",
   "metadata": {},
   "source": [
    "#### The object responsibility matrix (i.e., N x K matrix of object count probabilities, N = #windows, K = #possible object counts)\n",
    "TODO: THIS COMPUTATION IS WAY TOO GODDAMN SLOW."
   ]
  },
  {
   "cell_type": "code",
   "execution_count": 9,
   "metadata": {
    "collapsed": true
   },
   "outputs": [],
   "source": [
    "##block of sampled object maps\n",
    "_Z = T.tensor3('Z') ##(M x K x D)\n",
    "\n",
    "##window index indicator (N X D)\n",
    "_W = T.matrix('windows')\n"
   ]
  },
  {
   "cell_type": "markdown",
   "metadata": {},
   "source": [
    "An expression for an (M,N) matrix of objects counts"
   ]
  },
  {
   "cell_type": "code",
   "execution_count": 10,
   "metadata": {
    "collapsed": false
   },
   "outputs": [],
   "source": [
    "##(M x K x 1 x D)\n",
    "##         N x D\n",
    "##(M x K x N x D)  sum(D)\n",
    "##(M x K x N)      clip(0,1)\n",
    "##(M x K x N)      sum(K)\n",
    "##(M x N)\n",
    "_O_W = T.sum(_Z.dimshuffle((0,1,'x',2))*_W,axis=-1).clip(0,1).sum(axis=1)"
   ]
  },
  {
   "cell_type": "code",
   "execution_count": 11,
   "metadata": {
    "collapsed": false
   },
   "outputs": [],
   "source": [
    "window_object_count_func = function([_Z,_W], outputs=_O_W)"
   ]
  },
  {
   "cell_type": "code",
   "execution_count": 12,
   "metadata": {
    "collapsed": false
   },
   "outputs": [],
   "source": [
    "##construct some contiguous windows of varying size\n",
    "W = np.zeros((N,D),dtype=floatX)\n",
    "win_stride = np.round(D/N)\n",
    "size_factor = 2\n",
    "for n in range(N):\n",
    "    W[n,(n*win_stride):(n*win_stride+size_factor*n+1)] = 1"
   ]
  },
  {
   "cell_type": "code",
   "execution_count": 13,
   "metadata": {
    "collapsed": false
   },
   "outputs": [
    {
     "data": {
      "text/plain": [
       "<matplotlib.text.Text at 0x7fbe9233ce10>"
      ]
     },
     "execution_count": 13,
     "metadata": {},
     "output_type": "execute_result"
    },
    {
     "data": {
      "image/png": "[encoded data removed]",
      "text/plain": [
       "<matplotlib.figure.Figure at 0x7fbed5a58690>"
      ]
     },
     "metadata": {},
     "output_type": "display_data"
    }
   ],
   "source": [
    "plt.pcolor(W)\n",
    "plt.title('Windows')\n",
    "plt.xlabel('pixels')\n",
    "plt.ylabel('window number')"
   ]
  },
  {
   "cell_type": "code",
   "execution_count": 14,
   "metadata": {
    "collapsed": false
   },
   "outputs": [],
   "source": [
    "foo = window_object_count_func(Z_samples.astype(floatX),W)"
   ]
  },
  {
   "cell_type": "code",
   "execution_count": 15,
   "metadata": {
    "collapsed": false
   },
   "outputs": [
    {
     "data": {
      "text/plain": [
       "<matplotlib.text.Text at 0x7fbe9122cbd0>"
      ]
     },
     "execution_count": 15,
     "metadata": {},
     "output_type": "execute_result"
    },
    {
     "data": {
      "image/png": "[encoded data removed]",
      "text/plain": [
       "<matplotlib.figure.Figure at 0x7fbed5a36cd0>"
      ]
     },
     "metadata": {},
     "output_type": "display_data"
    }
   ],
   "source": [
    "plt.pcolor(foo)\n",
    "plt.title('object counts')\n",
    "plt.xlabel('windows')\n",
    "plt.ylabel('random samples from Q_Z')"
   ]
  },
  {
   "cell_type": "code",
   "execution_count": 16,
   "metadata": {
    "collapsed": false
   },
   "outputs": [
    {
     "data": {
      "text/plain": [
       "<matplotlib.text.Text at 0x7fbe91054b50>"
      ]
     },
     "execution_count": 16,
     "metadata": {},
     "output_type": "execute_result"
    },
    {
     "data": {
      "image/png": "[encoded data removed]",
      "text/plain": [
       "<matplotlib.figure.Figure at 0x7fbe98e17810>"
      ]
     },
     "metadata": {},
     "output_type": "display_data"
    }
   ],
   "source": [
    "##calculate rolling mean \n",
    "rolling_mean = np.zeros((M,N))\n",
    "for m in range(M-1):\n",
    "    rolling_mean[m,:] = np.mean(foo[:m+1, :], axis=0)\n",
    "\n",
    "_=plt.plot(rolling_mean[0:-1,:])\n",
    "plt.title('rolling mean of object counts for %d windows' %(N))\n",
    "plt.xlabel('number of random samples from Q_Z')\n",
    "plt.ylabel('mean object count')"
   ]
  },
  {
   "cell_type": "markdown",
   "metadata": {},
   "source": [
    "Test out one-hot encoding of the object counts (M, N, K)"
   ]
  },
  {
   "cell_type": "code",
   "execution_count": 17,
   "metadata": {
    "collapsed": false
   },
   "outputs": [],
   "source": [
    "X = T.matrix(dtype='int32')\n",
    "object_count_one_hot_func = function([X],to_one_hot(X.flatten()-1,K).reshape((X.shape[0],X.shape[1],K)))"
   ]
  },
  {
   "cell_type": "code",
   "execution_count": 18,
   "metadata": {
    "collapsed": false,
    "scrolled": true
   },
   "outputs": [],
   "source": [
    "baz = object_count_one_hot_func(foo.astype('int32'))"
   ]
  },
  {
   "cell_type": "code",
   "execution_count": 19,
   "metadata": {
    "collapsed": false,
    "scrolled": true
   },
   "outputs": [
    {
     "data": {
      "text/plain": [
       "array([ 5.,  8.,  7.,  6.,  7.,  6.,  8.,  8.,  5.,  6.], dtype=float32)"
      ]
     },
     "execution_count": 19,
     "metadata": {},
     "output_type": "execute_result"
    }
   ],
   "source": [
    "foo[:,12]"
   ]
  },
  {
   "cell_type": "code",
   "execution_count": 20,
   "metadata": {
    "collapsed": false
   },
   "outputs": [
    {
     "data": {
      "text/plain": [
       "array([[ 0.,  0.,  0.,  0.,  1.,  0.,  0.,  0.],\n",
       "       [ 0.,  0.,  0.,  0.,  0.,  0.,  0.,  1.],\n",
       "       [ 0.,  0.,  0.,  0.,  0.,  0.,  1.,  0.],\n",
       "       [ 0.,  0.,  0.,  0.,  0.,  1.,  0.,  0.],\n",
       "       [ 0.,  0.,  0.,  0.,  0.,  0.,  1.,  0.],\n",
       "       [ 0.,  0.,  0.,  0.,  0.,  1.,  0.,  0.],\n",
       "       [ 0.,  0.,  0.,  0.,  0.,  0.,  0.,  1.],\n",
       "       [ 0.,  0.,  0.,  0.,  0.,  0.,  0.,  1.],\n",
       "       [ 0.,  0.,  0.,  0.,  1.,  0.,  0.,  0.],\n",
       "       [ 0.,  0.,  0.,  0.,  0.,  1.,  0.,  0.]], dtype=float32)"
      ]
     },
     "execution_count": 20,
     "metadata": {},
     "output_type": "execute_result"
    }
   ],
   "source": [
    "baz[:,12,:]"
   ]
  },
  {
   "cell_type": "markdown",
   "metadata": {},
   "source": [
    "Having tested the one-hot encoding, we sum across samples and divide to obtain object count probabilities (i.e., the \"object responsibility matrix\")."
   ]
  },
  {
   "cell_type": "code",
   "execution_count": 21,
   "metadata": {
    "collapsed": false
   },
   "outputs": [],
   "source": [
    "_K = T.scalar('objects',dtype='int32')\n",
    "_R_nn = to_one_hot(_O_W.astype('int32').flatten()-1,_K).reshape((_O_W.shape[0],_O_W.shape[1],_K)).sum(axis=0)"
   ]
  },
  {
   "cell_type": "code",
   "execution_count": 22,
   "metadata": {
    "collapsed": true
   },
   "outputs": [],
   "source": [
    "non_norm_resp_func = function([_Z, _W, _K], outputs = _R_nn)"
   ]
  },
  {
   "cell_type": "code",
   "execution_count": 23,
   "metadata": {
    "collapsed": false
   },
   "outputs": [],
   "source": [
    "non_norm_resp = non_norm_resp_func(Z_samples.astype(floatX),W,K)"
   ]
  },
  {
   "cell_type": "code",
   "execution_count": 24,
   "metadata": {
    "collapsed": false
   },
   "outputs": [
    {
     "data": {
      "text/plain": [
       "<matplotlib.collections.PolyCollection at 0x7fbe88d9f4d0>"
      ]
     },
     "execution_count": 24,
     "metadata": {},
     "output_type": "execute_result"
    },
    {
     "data": {
      "image/png": "[encoded data removed]",
      "text/plain": [
       "<matplotlib.figure.Figure at 0x7fbe90932190>"
      ]
     },
     "metadata": {},
     "output_type": "display_data"
    }
   ],
   "source": [
    "plt.pcolor(non_norm_resp)"
   ]
  },
  {
   "cell_type": "code",
   "execution_count": 25,
   "metadata": {
    "collapsed": false
   },
   "outputs": [
    {
     "data": {
      "image/png": "[encoded data removed]",
      "text/plain": [
       "<matplotlib.figure.Figure at 0x7fbe88cecdd0>"
      ]
     },
     "metadata": {},
     "output_type": "display_data"
    }
   ],
   "source": [
    "_=plt.plot(non_norm_resp.T)"
   ]
  },
  {
   "cell_type": "code",
   "execution_count": 26,
   "metadata": {
    "collapsed": true
   },
   "outputs": [],
   "source": [
    "##normalize\n",
    "_R = _R_nn / _R_nn.sum(axis=1).reshape((_R_nn.shape[0], 1))"
   ]
  },
  {
   "cell_type": "code",
   "execution_count": 27,
   "metadata": {
    "collapsed": true
   },
   "outputs": [],
   "source": [
    "##object count probabilities function\n",
    "object_count_prob_func = function([_Z, _W, _K], outputs = _R)"
   ]
  },
  {
   "cell_type": "code",
   "execution_count": 28,
   "metadata": {
    "collapsed": true
   },
   "outputs": [],
   "source": [
    "oc = object_count_prob_func(Z_samples.astype(floatX),W,K)"
   ]
  },
  {
   "cell_type": "code",
   "execution_count": 29,
   "metadata": {
    "collapsed": false,
    "scrolled": true
   },
   "outputs": [
    {
     "data": {
      "text/plain": [
       "(200, 8)"
      ]
     },
     "execution_count": 29,
     "metadata": {},
     "output_type": "execute_result"
    }
   ],
   "source": [
    "oc.shape"
   ]
  },
  {
   "cell_type": "code",
   "execution_count": 30,
   "metadata": {
    "collapsed": false
   },
   "outputs": [
    {
     "data": {
      "image/png": "[encoded data removed]",
      "text/plain": [
       "<matplotlib.figure.Figure at 0x7fbe886a29d0>"
      ]
     },
     "metadata": {},
     "output_type": "display_data"
    }
   ],
   "source": [
    "_=plt.plot(oc.T)"
   ]
  },
  {
   "cell_type": "code",
   "execution_count": 31,
   "metadata": {
    "collapsed": false
   },
   "outputs": [
    {
     "name": "stdout",
     "output_type": "stream",
     "text": [
      "1024 pixels remaining\n",
      "939 pixels remaining\n",
      "854 pixels remaining\n",
      "769 pixels remaining\n",
      "684 pixels remaining\n",
      "599 pixels remaining\n",
      "514 pixels remaining\n",
      "429 pixels remaining\n",
      "344 pixels remaining\n",
      "259 pixels remaining\n",
      "174 pixels remaining\n",
      "89 pixels remaining\n",
      "4 pixels remaining\n",
      "26.9483549595\n"
     ]
    }
   ],
   "source": [
    "##some timing info--how long for one full sweep of calls for each pixel/object pair?\n",
    "Z_samples = Z_samples.astype(floatX)\n",
    "start = time()\n",
    "for d in range(D):\n",
    "    if not np.mod(d, np.round(D/12.)):\n",
    "        print '%d pixels remaining' %(D-d)\n",
    "    for k in range(K):\n",
    "        _=object_count_prob_func(Z_samples,W,K)\n",
    "end = time()-start\n",
    "print end"
   ]
  },
  {
   "cell_type": "code",
   "execution_count": 32,
   "metadata": {
    "collapsed": false
   },
   "outputs": [
    {
     "data": {
      "text/plain": [
       "14.444444444444445"
      ]
     },
     "execution_count": 32,
     "metadata": {},
     "output_type": "execute_result"
    }
   ],
   "source": [
    "2*26*1000/60./60."
   ]
  },
  {
   "cell_type": "markdown",
   "metadata": {},
   "source": [
    "#### Likelihood function and parameter updates"
   ]
  },
  {
   "cell_type": "code",
   "execution_count": 33,
   "metadata": {
    "collapsed": true
   },
   "outputs": [],
   "source": [
    "from imagery_psychophysics.src.model_z import noise_grid\n",
    "from scipy.misc import comb as nCk"
   ]
  },
  {
   "cell_type": "code",
   "execution_count": 34,
   "metadata": {
    "collapsed": true
   },
   "outputs": [],
   "source": [
    "def counts(r,d,n):\n",
    "    return np.array([nCk(d,m)*nCk(n-d, r-m) for m in range(min(r,d)+1)])\n",
    "\n",
    "def lkhd(r,d,n,p_on,p_off):\n",
    "    probs = np.array([(1-p_on)**(d-m) * (p_on)**m * (p_off)**(r-m) * (1-p_off)**(n-d-r+m) for m in range(min(r,d)+1)])\n",
    "    #print probs\n",
    "    return counts(r,d,n).dot(probs)"
   ]
  },
  {
   "cell_type": "markdown",
   "metadata": {},
   "source": [
    "Critical tensor is the likelihoods iterated over a fine grid of noise parameters\n"
   ]
  },
  {
   "cell_type": "code",
   "execution_count": 36,
   "metadata": {
    "collapsed": false
   },
   "outputs": [
    {
     "name": "stderr",
     "output_type": "stream",
     "text": [
      "/musc.repo/Docs/tnaselar/code/Python/imagery_psychophysics/src/model_z.py:52: VisibleDeprecationWarning: using a non-integer number instead of an integer will result in an error in the future\n",
      "  p_on =  [np.array([ii]*np.max([np.ceil(D*ii),1])) for ii in np.linspace(small,1,dns)]\n"
     ]
    }
   ],
   "source": [
    "theta_dns = 25\n",
    "p_on, p_off = noise_grid(theta_dns,theta_dns)\n",
    "G = len(p_on)\n",
    "P_theta = np.zeros((G, N, K),dtype=floatX)\n",
    "r = np.random.randint(1,high=K+1, size=(N,))"
   ]
  },
  {
   "cell_type": "code",
   "execution_count": 37,
   "metadata": {
    "collapsed": false
   },
   "outputs": [],
   "source": [
    "##fortunately we only need to generate this once.\n",
    "for g,p in enumerate(zip(p_on,p_off)):\n",
    "    for n in range(N):\n",
    "        for k in range(K):\n",
    "            P_theta[g,n,k]  = lkhd(r[n],k+1,K, p[0],p[1])"
   ]
  },
  {
   "cell_type": "code",
   "execution_count": 38,
   "metadata": {
    "collapsed": false
   },
   "outputs": [
    {
     "data": {
      "image/png": "[encoded data removed]",
      "text/plain": [
       "<matplotlib.figure.Figure at 0x7fbe887d3d90>"
      ]
     },
     "metadata": {},
     "output_type": "display_data"
    }
   ],
   "source": [
    "_=plt.plot(P_theta[-20].T, '-o')"
   ]
  },
  {
   "cell_type": "markdown",
   "metadata": {},
   "source": [
    "This is the simple update rule for the variational log posterior over theta (i.e., the noise parameters). It's understood that this is technically $ln[q(\\theta)] - const$\n",
    "\n",
    "Note also that we probably won't be needing the $ln[q(\\theta)]$ output, but we emit it anyway"
   ]
  },
  {
   "cell_type": "code",
   "execution_count": 39,
   "metadata": {
    "collapsed": false
   },
   "outputs": [],
   "source": [
    "\n",
    "\n",
    "_P_theta = T.tensor3('P_theta') ##(G x N x K)\n",
    "_X = T.matrix('dummy')\n",
    "\n",
    "##(G x N x K)\n",
    "##(    N x K)  (dot product, broadcast across G)\n",
    "_lnQ_theta = T.tensordot(T.log(_P_theta),_X, axes=[[1,2], [0,1]])"
   ]
  },
  {
   "cell_type": "code",
   "execution_count": 40,
   "metadata": {
    "collapsed": false
   },
   "outputs": [],
   "source": [
    "lnQ_theta_update_func = function([_P_theta, _X], outputs = _lnQ_theta)"
   ]
  },
  {
   "cell_type": "code",
   "execution_count": 41,
   "metadata": {
    "collapsed": false
   },
   "outputs": [
    {
     "data": {
      "text/plain": [
       "(325,)"
      ]
     },
     "execution_count": 41,
     "metadata": {},
     "output_type": "execute_result"
    }
   ],
   "source": [
    "lnQ_theta_update_func(np.random.random((G,N,K)).astype(floatX), np.random.random((N,K)).astype(floatX)).shape"
   ]
  },
  {
   "cell_type": "code",
   "execution_count": 42,
   "metadata": {
    "collapsed": true
   },
   "outputs": [],
   "source": [
    "#select the best noise params\n",
    "_P_star = _P_theta[T.argmax(_lnQ_theta),:,:]"
   ]
  },
  {
   "cell_type": "code",
   "execution_count": 43,
   "metadata": {
    "collapsed": true
   },
   "outputs": [],
   "source": [
    "P_star_update_func = function([_P_theta, _X], outputs = _P_star)"
   ]
  },
  {
   "cell_type": "code",
   "execution_count": 44,
   "metadata": {
    "collapsed": false
   },
   "outputs": [
    {
     "name": "stdout",
     "output_type": "stream",
     "text": [
      "(200, 8)\n"
     ]
    }
   ],
   "source": [
    "foo = P_star_update_func(P_theta, np.random.random((N,K)).astype(floatX))\n",
    "print foo.shape"
   ]
  },
  {
   "cell_type": "code",
   "execution_count": 45,
   "metadata": {
    "collapsed": true
   },
   "outputs": [],
   "source": [
    "##put the lnQ_theta and lnP_star updates into same handy function\n",
    "theta_update_func = function([_P_theta,_X], outputs = [_lnQ_theta, _P_star])"
   ]
  },
  {
   "cell_type": "code",
   "execution_count": 46,
   "metadata": {
    "collapsed": true
   },
   "outputs": [],
   "source": [
    "lnQ_theta, P_star = theta_update_func(P_theta, np.random.random((N,K)).astype(floatX))"
   ]
  },
  {
   "cell_type": "code",
   "execution_count": 47,
   "metadata": {
    "collapsed": false
   },
   "outputs": [
    {
     "name": "stdout",
     "output_type": "stream",
     "text": [
      "(325,)\n",
      "(200, 8)\n"
     ]
    }
   ],
   "source": [
    "print lnQ_theta.shape ##(G,)\n",
    "print P_star.shape  ##(N , K)"
   ]
  },
  {
   "cell_type": "markdown",
   "metadata": {},
   "source": [
    "#### Prior over object maps\n",
    "Main quantity of interest here is $\\mathbb{E}[ln[\\pi]$. "
   ]
  },
  {
   "cell_type": "code",
   "execution_count": 48,
   "metadata": {
    "collapsed": true
   },
   "outputs": [],
   "source": [
    "_alpha_0 = T.scalar('alpha_0')\n",
    "_q_Z = T.vector('q_Z')  ##1 x K, this is result of summing over pixels in Q_Z matrix\n",
    "\n",
    "_alpha = _q_Z + _alpha_0 ##broadcasts the scalar _alpha_0 across K\n",
    "\n",
    "_Eln_pi = T.psi(_alpha) - T.psi(_alpha.sum())"
   ]
  },
  {
   "cell_type": "code",
   "execution_count": 49,
   "metadata": {
    "collapsed": true
   },
   "outputs": [],
   "source": [
    "Eln_pi_update_func = function([_q_Z, _alpha_0], outputs = _Eln_pi)"
   ]
  },
  {
   "cell_type": "code",
   "execution_count": 50,
   "metadata": {
    "collapsed": false
   },
   "outputs": [
    {
     "data": {
      "text/plain": [
       "[<matplotlib.lines.Line2D at 0x7fbe85ba1b90>]"
      ]
     },
     "execution_count": 50,
     "metadata": {},
     "output_type": "execute_result"
    },
    {
     "data": {
      "image/png": "[encoded data removed]",
      "text/plain": [
       "<matplotlib.figure.Figure at 0x7fbe8643b910>"
      ]
     },
     "metadata": {},
     "output_type": "display_data"
    }
   ],
   "source": [
    "alpha_0 = 1.1\n",
    "q_Z = np.random.dirichlet([alpha_0]*K,).astype(floatX) ##a fake q_Z\n",
    "\n",
    "Eln_pi = Eln_pi_update_func(q_Z, alpha_0)\n",
    "plt.plot(Eln_pi)"
   ]
  },
  {
   "cell_type": "markdown",
   "metadata": {},
   "source": [
    "#### Update variational posterior for object maps\n",
    "UGH!: DIMENSIONS ARE WRONG! SHOULD BE K x D, *not* D x K\n",
    "\n",
    "This will be the only update that returns a normalized variational posterior.\n",
    "Uses the responsibility matrices above.\n"
   ]
  },
  {
   "cell_type": "code",
   "execution_count": 51,
   "metadata": {
    "collapsed": false
   },
   "outputs": [],
   "source": [
    "_R_full = T.tensor4('responsibility_tensor') ##D x K x N x K\n",
    "_lnP_star = T.matrix('lnP_star') ##N x K\n",
    "_V = T.matrix('prior_penalties') ## D x K\n",
    "\n",
    "##D x K x N x K\n",
    "##        N x K (dot)\n",
    "##D x K         (add V)\n",
    "##D x K         exp\n",
    "##D x K         normalize\n",
    "\n",
    "_lnQ_Z_nn = T.tensordot(_R_full, _lnP_star, [[2,3], [0,1]])+_V\n",
    "_Q_Z_nn = T.exp(_lnQ_Z_nn+T.max(T.abs_(_lnQ_Z_nn)))\n",
    "_Q_Z = _Q_Z_nn / _Q_Z_nn.sum(axis=1).reshape((_Q_Z_nn.shape[0], 1))"
   ]
  },
  {
   "cell_type": "code",
   "execution_count": 52,
   "metadata": {
    "collapsed": false
   },
   "outputs": [],
   "source": [
    "Q_Z_update_func = function([_R_full, _lnP_star, _V], outputs=[_Q_Z, _Q_Z_nn])"
   ]
  },
  {
   "cell_type": "code",
   "execution_count": 53,
   "metadata": {
    "collapsed": false
   },
   "outputs": [
    {
     "name": "stdout",
     "output_type": "stream",
     "text": [
      "1024 pixels remaining\n",
      "939 pixels remaining\n",
      "854 pixels remaining\n",
      "769 pixels remaining\n",
      "684 pixels remaining\n",
      "599 pixels remaining\n",
      "514 pixels remaining\n",
      "429 pixels remaining\n",
      "344 pixels remaining\n",
      "259 pixels remaining\n",
      "174 pixels remaining\n",
      "89 pixels remaining\n",
      "4 pixels remaining\n",
      "26.7333519459\n"
     ]
    }
   ],
   "source": [
    "##some timing info--how long for one full sweep of calls for each pixel/object pair?\n",
    "R_full = np.zeros((D,K,N,K),dtype=floatX)\n",
    "lnP_star = np.log(P_star).astype(floatX)\n",
    "V = np.random.random(size=(D,K)).astype(floatX)+alpha_0\n",
    "start = time()\n",
    "for d in range(D):\n",
    "    if not np.mod(d, np.round(D/12.)):\n",
    "        print '%d pixels remaining' %(D-d)\n",
    "    for k in range(K):\n",
    "        R_full[d,k,:,:] =object_count_prob_func(Z_samples,W,K)\n",
    "Q_Z_new, foo = Q_Z_update_func(R_full, lnP_star, V)\n",
    "end = time()-start\n",
    "print end"
   ]
  },
  {
   "cell_type": "code",
   "execution_count": 54,
   "metadata": {
    "collapsed": false,
    "scrolled": true
   },
   "outputs": [],
   "source": [
    "Q_Z_new, foo = Q_Z_update_func(R_full, lnP_star, V)"
   ]
  },
  {
   "cell_type": "code",
   "execution_count": 93,
   "metadata": {
    "collapsed": false
   },
   "outputs": [
    {
     "data": {
      "text/plain": [
       "(1024, 8)"
      ]
     },
     "execution_count": 93,
     "metadata": {},
     "output_type": "execute_result"
    }
   ],
   "source": [
    "Q_Z_new.shape"
   ]
  },
  {
   "cell_type": "code",
   "execution_count": 55,
   "metadata": {
    "collapsed": false
   },
   "outputs": [
    {
     "data": {
      "image/png": "[encoded data removed]",
      "text/plain": [
       "<matplotlib.figure.Figure at 0x7fbe859ae850>"
      ]
     },
     "metadata": {},
     "output_type": "display_data"
    }
   ],
   "source": [
    "_=plt.pcolor(Q_Z_new[:,4].reshape(sqrt_D,sqrt_D))"
   ]
  },
  {
   "cell_type": "markdown",
   "metadata": {},
   "source": [
    "#### Expressions for the ELBO\n",
    "I suppose this is an approximate ELBO since we are using a $max \\approx expectation$ approximation for $\\theta$."
   ]
  },
  {
   "cell_type": "code",
   "execution_count": 56,
   "metadata": {
    "collapsed": true
   },
   "outputs": [],
   "source": [
    "_Eln_pi = T.vector('Eln_pi')  ##1 x K\n",
    "_Q_Z = T.matrix('Q_Z')        ##D x K\n",
    "_lnQ_theta = T.vector('lnQ_theta') ##1 x G\n",
    "\n",
    "_q_Z = _Q_Z.sum(axis=0)"
   ]
  },
  {
   "cell_type": "code",
   "execution_count": 57,
   "metadata": {
    "collapsed": true
   },
   "outputs": [],
   "source": [
    "_prior_entropy = -T.dot(_q_Z-1, _Eln_pi)-(T.gammaln(_q_Z.sum()) - T.sum(T.gammaln(_q_Z)))\n",
    "_posterior_entropy = -T.tensordot(_Q_Z, T.log(_Q_Z)) "
   ]
  },
  {
   "cell_type": "code",
   "execution_count": 58,
   "metadata": {
    "collapsed": true
   },
   "outputs": [],
   "source": [
    "_ELBO = _lnQ_theta.max()  - _posterior_entropy - _prior_entropy"
   ]
  },
  {
   "cell_type": "code",
   "execution_count": 59,
   "metadata": {
    "collapsed": false
   },
   "outputs": [],
   "source": [
    "ELBO_update_func = function([_Eln_pi, _Q_Z, _lnQ_theta], outputs=_ELBO)"
   ]
  },
  {
   "cell_type": "code",
   "execution_count": 60,
   "metadata": {
    "collapsed": false
   },
   "outputs": [],
   "source": [
    "ELBO = ELBO_update_func(Eln_pi, Q_Z_new, lnQ_theta)"
   ]
  },
  {
   "cell_type": "code",
   "execution_count": 61,
   "metadata": {
    "collapsed": false
   },
   "outputs": [
    {
     "data": {
      "text/plain": [
       "array(-4594.958984375, dtype=float32)"
      ]
     },
     "execution_count": 61,
     "metadata": {},
     "output_type": "execute_result"
    }
   ],
   "source": [
    "ELBO"
   ]
  },
  {
   "cell_type": "markdown",
   "metadata": {},
   "source": [
    "Well. The sign is right. We'll see if it makes any sense..."
   ]
  },
  {
   "cell_type": "markdown",
   "metadata": {},
   "source": [
    "#### Simulate data"
   ]
  },
  {
   "cell_type": "code",
   "execution_count": 62,
   "metadata": {
    "collapsed": true
   },
   "outputs": [],
   "source": [
    "from imagery_psychophysics.src.stirling_maps import sparse_point_maps as spm"
   ]
  },
  {
   "cell_type": "code",
   "execution_count": 63,
   "metadata": {
    "collapsed": false
   },
   "outputs": [
    {
     "data": {
      "text/plain": [
       "<matplotlib.image.AxesImage at 0x7fbe80f2cc10>"
      ]
     },
     "execution_count": 63,
     "metadata": {},
     "output_type": "execute_result"
    },
    {
     "data": {
      "image/png": "[encoded data removed]",
      "text/plain": [
       "<matplotlib.figure.Figure at 0x7fbe80f2ccd0>"
      ]
     },
     "metadata": {},
     "output_type": "display_data"
    }
   ],
   "source": [
    "##construct a test object map\n",
    "test_object_map = spm(3,3,sqrt_D,cluster_pref = 'random',number_of_clusters = K)\n",
    "test_object_map.scatter()\n",
    "test_object_map = np.squeeze(test_object_map.nn_interpolation())\n",
    "plt.imshow(test_object_map, cmap='Dark2')\n",
    "plt.imshow(W[100].reshape((sqrt_D,sqrt_D)).astype('uint8')*255, interpolation='nearest', alpha = .5, cmap=plt.cm.gray, clim=[0,255])"
   ]
  },
  {
   "cell_type": "code",
   "execution_count": 64,
   "metadata": {
    "collapsed": false
   },
   "outputs": [
    {
     "name": "stdout",
     "output_type": "stream",
     "text": [
      "5\n",
      "[ 0.  0.  0.  0.  1.  0.  0.  0.]\n"
     ]
    }
   ],
   "source": [
    "##convert to one_hot encoding\n",
    "test_Z = np.eye(K)[test_object_map.ravel()-1].T  ##K x D\n",
    "d = 19\n",
    "print test_object_map[d,d]\n",
    "print test_Z.reshape((K,sqrt_D,sqrt_D))[:,d,d]"
   ]
  },
  {
   "cell_type": "code",
   "execution_count": 65,
   "metadata": {
    "collapsed": false
   },
   "outputs": [
    {
     "data": {
      "text/plain": [
       "5"
      ]
     },
     "execution_count": 65,
     "metadata": {},
     "output_type": "execute_result"
    }
   ],
   "source": [
    "##get true object counts for each window\n",
    "object_counts = np.sum(test_Z[:,np.newaxis,:]*W,axis=-1).clip(0,1).sum(axis=0).astype('int')\n",
    "object_counts[100]"
   ]
  },
  {
   "cell_type": "code",
   "execution_count": 66,
   "metadata": {
    "collapsed": false
   },
   "outputs": [
    {
     "data": {
      "text/plain": [
       "dtype('int64')"
      ]
     },
     "execution_count": 66,
     "metadata": {},
     "output_type": "execute_result"
    }
   ],
   "source": [
    "object_counts.dtype"
   ]
  },
  {
   "cell_type": "code",
   "execution_count": 67,
   "metadata": {
    "collapsed": false
   },
   "outputs": [],
   "source": [
    "##generate some fake responses using fixed theta parameters\n",
    "p_on = 0.9\n",
    "p_off = 0.1\n",
    "r = np.zeros(object_counts.shape[0], dtype = 'int')\n",
    "for ii,o in enumerate(object_counts):\n",
    "    resp_dist = np.zeros(K)\n",
    "    for k in range(K):\n",
    "        resp_dist[k] = lkhd(k+1,o,K,p_on,p_off)\n",
    "        r[ii]=np.argmax(np.random.multinomial(1,resp_dist))+1\n"
   ]
  },
  {
   "cell_type": "code",
   "execution_count": 68,
   "metadata": {
    "collapsed": false
   },
   "outputs": [
    {
     "data": {
      "text/plain": [
       "array([1, 1, 1, 1, 1, 1, 1, 1, 0, 3, 0, 0, 1, 1, 1, 0, 0, 1, 0, 1, 1, 0, 1,\n",
       "       0, 0, 0, 1, 0, 1, 1, 0, 0, 2, 1, 1, 0, 0, 1, 1, 2, 1, 0, 1, 0, 0, 0,\n",
       "       0, 1, 0, 0, 0, 1, 1, 0, 1, 0, 0, 1, 1, 0, 0, 1, 1, 0, 0, 1, 1, 1, 0,\n",
       "       0, 0, 1, 0, 0, 1, 0, 1, 1, 1, 0, 0, 1, 1, 0, 0, 1, 0, 1, 1, 0, 0, 1,\n",
       "       0, 0, 0, 0, 1, 0, 1, 0, 0, 1, 0, 0, 1, 1, 0, 0, 0, 0, 0, 0, 0, 1, 0,\n",
       "       1, 1, 1, 1, 1, 0, 1, 0, 0, 0, 1, 0, 1, 1, 1, 0, 1, 1, 0, 2, 1, 0, 2,\n",
       "       1, 0, 0, 0, 1, 1, 1, 1, 1, 1, 0, 1, 0, 0, 0, 1, 1, 1, 0, 1, 0, 0, 2,\n",
       "       1, 0, 0, 1, 1, 0, 0, 0, 2, 0, 0, 1, 0, 1, 1, 0, 0, 2, 1, 0, 1, 1, 1,\n",
       "       0, 0, 0, 1, 3, 0, 0, 1, 0, 0, 1, 1, 0, 0, 0, 0])"
      ]
     },
     "execution_count": 68,
     "metadata": {},
     "output_type": "execute_result"
    }
   ],
   "source": [
    "np.abs(r-object_counts)"
   ]
  },
  {
   "cell_type": "code",
   "execution_count": 69,
   "metadata": {
    "collapsed": false
   },
   "outputs": [
    {
     "data": {
      "text/plain": [
       "0.55500000000000005"
      ]
     },
     "execution_count": 69,
     "metadata": {},
     "output_type": "execute_result"
    }
   ],
   "source": [
    "np.mean(np.abs(r-object_counts))"
   ]
  },
  {
   "cell_type": "markdown",
   "metadata": {},
   "source": [
    "#### Complete loop for variational dynamics"
   ]
  },
  {
   "cell_type": "code",
   "execution_count": 87,
   "metadata": {
    "collapsed": true
   },
   "outputs": [],
   "source": [
    "##to test first generate posterior from a dirichlet distribution\n",
    "\n",
    "alpha_0 = 1.1\n",
    "p_on, p_off = .9, .1\n",
    "\n",
    "def init_Q():\n",
    "    Q_Z = np.zeros((K,D), dtype=floatX)\n",
    "    probs = np.random.dirichlet([alpha_0]*K,)\n",
    "    for d in range(D): #np.random.permutation(D):\n",
    "        if not np.mod(d,64):\n",
    "            probs = np.random.dirichlet([alpha_0]*K,)\n",
    "        Q_Z[:,d] = probs\n",
    "    return Q_Z\n",
    "\n",
    "def init_Eln_pi():\n",
    "    q_Z = np.random.dirichlet([alpha_0]*K,).astype(floatX) ##a fake q_Z\n",
    "    Eln_pi = Eln_pi_update_func(q_Z, alpha_0)\n",
    "    return Eln_pi\n",
    "\n",
    "def init_P_star():\n",
    "    P_theta = np.zeros((N,K),dtype=floatX)\n",
    "    for n in range(N):\n",
    "        for k in range(K):\n",
    "            P_theta[n,k]  = lkhd(r[n],k+1,K, p_on,p_off)\n",
    "    return P_theta\n",
    "\n",
    "\n",
    "R_full = np.zeros((D,K,N,K),dtype=floatX)\n",
    "V = np.zeros((D,K),dtype=floatX)\n",
    "\n",
    "def p_Z(lnP_star, Eln_pi): \n",
    "    for d in range(D):\n",
    "        if not np.mod(d, np.round(D/12.)):\n",
    "            print '%d pixels remaining' %(D-d)\n",
    "        for k in range(K):\n",
    "            Z = Z_samples.copy()\n",
    "            Z[:,:,d] = 0.\n",
    "            Z[:,k, d] = 1.\n",
    "            R_full[d,k,:,:] =object_count_prob_func(Z,W,K).astype(floatX)\n",
    "            V[d,k] = np.dot(Z[0,:,d], Eln_pi)\n",
    "    Q_Z_new, _ = Q_Z_update_func(R_full, lnP_star, V)\n",
    "    return Q_Z_new\n",
    "\n",
    "Q_Z = init_Q()\n",
    "Eln_pi = init_Eln_pi()\n",
    "P_star = init_P_star()\n",
    "\n",
    "ELBO = -np.inf\n",
    "delta_ELBO = np.inf\n",
    "\n",
    "\n",
    "\n"
   ]
  },
  {
   "cell_type": "code",
   "execution_count": 88,
   "metadata": {
    "collapsed": false
   },
   "outputs": [
    {
     "data": {
      "text/plain": [
       "(8,)"
      ]
     },
     "execution_count": 88,
     "metadata": {},
     "output_type": "execute_result"
    }
   ],
   "source": [
    "Eln_pi.shape"
   ]
  },
  {
   "cell_type": "code",
   "execution_count": 89,
   "metadata": {
    "collapsed": false,
    "scrolled": true
   },
   "outputs": [
    {
     "name": "stdout",
     "output_type": "stream",
     "text": [
      "iteration: 0\n",
      "1024 pixels remaining\n",
      "939 pixels remaining\n",
      "854 pixels remaining\n",
      "769 pixels remaining\n",
      "684 pixels remaining\n",
      "599 pixels remaining\n",
      "514 pixels remaining\n",
      "429 pixels remaining\n",
      "344 pixels remaining\n",
      "259 pixels remaining\n",
      "174 pixels remaining\n",
      "89 pixels remaining\n",
      "4 pixels remaining\n"
     ]
    },
    {
     "ename": "ValueError",
     "evalue": "GpuElemwise. Input dimension mis-match. Input 1 (indices start at 0) has shape[3] == 1024, but the output's size on that axis is 8.\nApply node that caused the error: GpuElemwise{mul,no_inplace}(GpuDimShuffle{0,1,x,2}.0, GpuDimShuffle{x,x,0,1}.0)\nToposort index: 14\nInputs types: [CudaNdarrayType(float32, (False, False, True, False)), CudaNdarrayType(float32, (True, True, False, False))]\nInputs shapes: [(10, 1024, 1, 8), (1, 1, 200, 1024)]\nInputs strides: [(8192, 8, 0, 1), (0, 0, 1024, 1)]\nInputs values: ['not shown', 'not shown']\nOutputs clients: [[GpuReshape{2}(GpuElemwise{mul,no_inplace}.0, MakeVector{dtype='int64'}.0)]]\n\nHINT: Re-running with most Theano optimization disabled could give you a back-trace of when this node was created. This can be done with by setting the Theano flag 'optimizer=fast_compile'. If that does not work, Theano optimizations can be disabled with 'optimizer=None'.\nHINT: Use the Theano flag 'exception_verbosity=high' for a debugprint and storage map footprint of this apply node.",
     "output_type": "error",
     "traceback": [
      "\u001b[1;31m---------------------------------------------------------------------------\u001b[0m",
      "\u001b[1;31mValueError\u001b[0m                                Traceback (most recent call last)",
      "\u001b[1;32m<ipython-input-89-bf2f26ede698>\u001b[0m in \u001b[0;36m<module>\u001b[1;34m()\u001b[0m\n\u001b[0;32m      8\u001b[0m     \u001b[0mQ_Z\u001b[0m \u001b[1;33m=\u001b[0m \u001b[0mp_Z\u001b[0m\u001b[1;33m(\u001b[0m\u001b[0mlnP_star\u001b[0m\u001b[1;33m,\u001b[0m \u001b[0mEln_pi\u001b[0m\u001b[1;33m.\u001b[0m\u001b[0mastype\u001b[0m\u001b[1;33m(\u001b[0m\u001b[0mfloatX\u001b[0m\u001b[1;33m)\u001b[0m\u001b[1;33m)\u001b[0m\u001b[1;33m\u001b[0m\u001b[0m\n\u001b[0;32m      9\u001b[0m     \u001b[0mZ_new\u001b[0m \u001b[1;33m=\u001b[0m \u001b[0mZ_sample_func\u001b[0m\u001b[1;33m(\u001b[0m\u001b[0mQ_Z\u001b[0m\u001b[1;33m,\u001b[0m \u001b[0mM\u001b[0m\u001b[1;33m)\u001b[0m\u001b[1;33m.\u001b[0m\u001b[0mastype\u001b[0m\u001b[1;33m(\u001b[0m\u001b[0mfloatX\u001b[0m\u001b[1;33m)\u001b[0m\u001b[1;33m\u001b[0m\u001b[0m\n\u001b[1;32m---> 10\u001b[1;33m     \u001b[0mR\u001b[0m \u001b[1;33m=\u001b[0m \u001b[0mobject_count_prob_func\u001b[0m\u001b[1;33m(\u001b[0m\u001b[0mZ_new\u001b[0m\u001b[1;33m,\u001b[0m \u001b[0mW\u001b[0m\u001b[1;33m,\u001b[0m \u001b[0mK\u001b[0m\u001b[1;33m)\u001b[0m\u001b[1;33m\u001b[0m\u001b[0m\n\u001b[0m\u001b[0;32m     11\u001b[0m     \u001b[0mlnQ_theta\u001b[0m\u001b[1;33m,\u001b[0m \u001b[0mP_star_new\u001b[0m \u001b[1;33m=\u001b[0m \u001b[0mtheta_update_func\u001b[0m\u001b[1;33m(\u001b[0m\u001b[0mlnP_star\u001b[0m\u001b[1;33m,\u001b[0m \u001b[0mR\u001b[0m\u001b[1;33m)\u001b[0m\u001b[1;33m\u001b[0m\u001b[0m\n\u001b[0;32m     12\u001b[0m     \u001b[0mEln_pi\u001b[0m \u001b[1;33m=\u001b[0m \u001b[0mEln_pi_update_func\u001b[0m\u001b[1;33m(\u001b[0m\u001b[0mQ_Z\u001b[0m\u001b[1;33m.\u001b[0m\u001b[0msum\u001b[0m\u001b[1;33m(\u001b[0m\u001b[0maxis\u001b[0m\u001b[1;33m=\u001b[0m\u001b[1;36m1\u001b[0m\u001b[1;33m)\u001b[0m\u001b[1;33m,\u001b[0m \u001b[0malpha_0\u001b[0m\u001b[1;33m)\u001b[0m\u001b[1;33m\u001b[0m\u001b[0m\n",
      "\u001b[1;32m/home/tnaselar/anaconda/lib/python2.7/site-packages/theano/compile/function_module.pyc\u001b[0m in \u001b[0;36m__call__\u001b[1;34m(self, *args, **kwargs)\u001b[0m\n\u001b[0;32m    910\u001b[0m                     \u001b[0mnode\u001b[0m\u001b[1;33m=\u001b[0m\u001b[0mself\u001b[0m\u001b[1;33m.\u001b[0m\u001b[0mfn\u001b[0m\u001b[1;33m.\u001b[0m\u001b[0mnodes\u001b[0m\u001b[1;33m[\u001b[0m\u001b[0mself\u001b[0m\u001b[1;33m.\u001b[0m\u001b[0mfn\u001b[0m\u001b[1;33m.\u001b[0m\u001b[0mposition_of_error\u001b[0m\u001b[1;33m]\u001b[0m\u001b[1;33m,\u001b[0m\u001b[1;33m\u001b[0m\u001b[0m\n\u001b[0;32m    911\u001b[0m                     \u001b[0mthunk\u001b[0m\u001b[1;33m=\u001b[0m\u001b[0mthunk\u001b[0m\u001b[1;33m,\u001b[0m\u001b[1;33m\u001b[0m\u001b[0m\n\u001b[1;32m--> 912\u001b[1;33m                     storage_map=getattr(self.fn, 'storage_map', None))\n\u001b[0m\u001b[0;32m    913\u001b[0m             \u001b[1;32melse\u001b[0m\u001b[1;33m:\u001b[0m\u001b[1;33m\u001b[0m\u001b[0m\n\u001b[0;32m    914\u001b[0m                 \u001b[1;31m# old-style linkers raise their own exceptions\u001b[0m\u001b[1;33m\u001b[0m\u001b[1;33m\u001b[0m\u001b[0m\n",
      "\u001b[1;32m/home/tnaselar/anaconda/lib/python2.7/site-packages/theano/gof/link.pyc\u001b[0m in \u001b[0;36mraise_with_op\u001b[1;34m(node, thunk, exc_info, storage_map)\u001b[0m\n\u001b[0;32m    312\u001b[0m         \u001b[1;31m# extra long error message in that case.\u001b[0m\u001b[1;33m\u001b[0m\u001b[1;33m\u001b[0m\u001b[0m\n\u001b[0;32m    313\u001b[0m         \u001b[1;32mpass\u001b[0m\u001b[1;33m\u001b[0m\u001b[0m\n\u001b[1;32m--> 314\u001b[1;33m     \u001b[0mreraise\u001b[0m\u001b[1;33m(\u001b[0m\u001b[0mexc_type\u001b[0m\u001b[1;33m,\u001b[0m \u001b[0mexc_value\u001b[0m\u001b[1;33m,\u001b[0m \u001b[0mexc_trace\u001b[0m\u001b[1;33m)\u001b[0m\u001b[1;33m\u001b[0m\u001b[0m\n\u001b[0m\u001b[0;32m    315\u001b[0m \u001b[1;33m\u001b[0m\u001b[0m\n\u001b[0;32m    316\u001b[0m \u001b[1;33m\u001b[0m\u001b[0m\n",
      "\u001b[1;32m/home/tnaselar/anaconda/lib/python2.7/site-packages/theano/compile/function_module.pyc\u001b[0m in \u001b[0;36m__call__\u001b[1;34m(self, *args, **kwargs)\u001b[0m\n\u001b[0;32m    897\u001b[0m         \u001b[1;32mtry\u001b[0m\u001b[1;33m:\u001b[0m\u001b[1;33m\u001b[0m\u001b[0m\n\u001b[0;32m    898\u001b[0m             \u001b[0moutputs\u001b[0m \u001b[1;33m=\u001b[0m\u001b[0;31m\\\u001b[0m\u001b[1;33m\u001b[0m\u001b[0m\n\u001b[1;32m--> 899\u001b[1;33m                 \u001b[0mself\u001b[0m\u001b[1;33m.\u001b[0m\u001b[0mfn\u001b[0m\u001b[1;33m(\u001b[0m\u001b[1;33m)\u001b[0m \u001b[1;32mif\u001b[0m \u001b[0moutput_subset\u001b[0m \u001b[1;32mis\u001b[0m \u001b[0mNone\u001b[0m \u001b[1;32melse\u001b[0m\u001b[0;31m\\\u001b[0m\u001b[1;33m\u001b[0m\u001b[0m\n\u001b[0m\u001b[0;32m    900\u001b[0m                 \u001b[0mself\u001b[0m\u001b[1;33m.\u001b[0m\u001b[0mfn\u001b[0m\u001b[1;33m(\u001b[0m\u001b[0moutput_subset\u001b[0m\u001b[1;33m=\u001b[0m\u001b[0moutput_subset\u001b[0m\u001b[1;33m)\u001b[0m\u001b[1;33m\u001b[0m\u001b[0m\n\u001b[0;32m    901\u001b[0m         \u001b[1;32mexcept\u001b[0m \u001b[0mException\u001b[0m\u001b[1;33m:\u001b[0m\u001b[1;33m\u001b[0m\u001b[0m\n",
      "\u001b[1;31mValueError\u001b[0m: GpuElemwise. Input dimension mis-match. Input 1 (indices start at 0) has shape[3] == 1024, but the output's size on that axis is 8.\nApply node that caused the error: GpuElemwise{mul,no_inplace}(GpuDimShuffle{0,1,x,2}.0, GpuDimShuffle{x,x,0,1}.0)\nToposort index: 14\nInputs types: [CudaNdarrayType(float32, (False, False, True, False)), CudaNdarrayType(float32, (True, True, False, False))]\nInputs shapes: [(10, 1024, 1, 8), (1, 1, 200, 1024)]\nInputs strides: [(8192, 8, 0, 1), (0, 0, 1024, 1)]\nInputs values: ['not shown', 'not shown']\nOutputs clients: [[GpuReshape{2}(GpuElemwise{mul,no_inplace}.0, MakeVector{dtype='int64'}.0)]]\n\nHINT: Re-running with most Theano optimization disabled could give you a back-trace of when this node was created. This can be done with by setting the Theano flag 'optimizer=fast_compile'. If that does not work, Theano optimizations can be disabled with 'optimizer=None'.\nHINT: Use the Theano flag 'exception_verbosity=high' for a debugprint and storage map footprint of this apply node."
     ]
    }
   ],
   "source": [
    "t = 0\n",
    "max_T = 10\n",
    "ELBO = np.zeros(max_T)\n",
    "while (delta_ELBO > 0) and (t < max_T):\n",
    "    print 'iteration: %d' %(t,)\n",
    "    Z_samples = Z_sample_func(Q_Z, M).astype(floatX)\n",
    "    lnP_star = np.log(P_star).astype(floatX)\n",
    "    Q_Z = p_Z(lnP_star, Eln_pi.astype(floatX))\n",
    "    Z_new = Z_sample_func(Q_Z, M).astype(floatX)\n",
    "    R = object_count_prob_func(Z_new, W, K)\n",
    "    lnQ_theta, P_star_new = theta_update_func(lnP_star, R)\n",
    "    Eln_pi = Eln_pi_update_func(Q_Z.sum(axis=1), alpha_0)\n",
    "    ELBO[t] = ELBO_update_func(Eln_pi, Q_Z, lnQ_theta)\n",
    "    print '============ELBO: %f' %(ELBO[t])\n",
    "    t += 1"
   ]
  },
  {
   "cell_type": "code",
   "execution_count": 91,
   "metadata": {
    "collapsed": false
   },
   "outputs": [
    {
     "data": {
      "text/plain": [
       "(10, 8, 1024)"
      ]
     },
     "execution_count": 91,
     "metadata": {},
     "output_type": "execute_result"
    }
   ],
   "source": [
    "Z_samples.shape"
   ]
  },
  {
   "cell_type": "code",
   "execution_count": 92,
   "metadata": {
    "collapsed": false
   },
   "outputs": [
    {
     "data": {
      "text/plain": [
       "(1024, 8)"
      ]
     },
     "execution_count": 92,
     "metadata": {},
     "output_type": "execute_result"
    }
   ],
   "source": [
    "Q_Z.shape"
   ]
  },
  {
   "cell_type": "code",
   "execution_count": null,
   "metadata": {
    "collapsed": true
   },
   "outputs": [],
   "source": []
  }
 ],
 "metadata": {
  "kernelspec": {
   "display_name": "Python 2",
   "language": "python",
   "name": "python2"
  },
  "language_info": {
   "codemirror_mode": {
    "name": "ipython",
    "version": 2
   },
   "file_extension": ".py",
   "mimetype": "text/x-python",
   "name": "python",
   "nbconvert_exporter": "python",
   "pygments_lexer": "ipython2",
   "version": "2.7.12"
  }
 },
 "nbformat": 4,
 "nbformat_minor": 0
}
