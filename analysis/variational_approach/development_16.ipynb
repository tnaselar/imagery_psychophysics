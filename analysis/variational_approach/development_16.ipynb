{
 "cells": [
  {
   "cell_type": "markdown",
   "metadata": {},
   "source": [
    "## A new set of classes for mental image registration"
   ]
  },
  {
   "cell_type": "code",
   "execution_count": 2,
   "metadata": {},
   "outputs": [
    {
     "name": "stderr",
     "output_type": "stream",
     "text": [
      "Can not use cuDNN on context None: cannot compile with cuDNN. We got this error:\n",
      "/tmp/try_flags_8xkOMl.c:4:19: fatal error: cudnn.h: No such file or directory\n",
      "compilation terminated.\n",
      "\n",
      "Mapped name None to device cuda: GeForce GTX TITAN X (0000:01:00.0)\n"
     ]
    }
   ],
   "source": [
    "from imagery_psychophysics.utils.variational_utils import *\n",
    "from imagery_psychophysics.src.variational import responses, noiseParams, probes, inferQZ, optimizeNoiseParams\n",
    "from imagery_psychophysics.src.variational import to_one_hot_func\n",
    "from object_parsing.src.image_objects import object_box, mask_quantize\n",
    "from skimage.transform import AffineTransform, matrix_transform, resize, SimilarityTransform\n",
    "from scipy.interpolate import griddata\n",
    "from scipy.ndimage import center_of_mass\n",
    "from scipy.stats import poisson\n",
    "from matplotlib import pyplot as plt\n",
    "from copy import copy, deepcopy\n",
    "from PIL.Image import fromarray\n",
    "from scipy.linalg import expm\n",
    "from scipy.stats import norm\n",
    "from sklearn.metrics.pairwise import pairwise_distances\n",
    "from theano import tensor as T\n",
    "from theano.tensor.extra_ops import repeat, to_one_hot\n",
    "from theano import function, shared\n",
    "import time\n",
    "import pandas as pd"
   ]
  },
  {
   "cell_type": "code",
   "execution_count": 3,
   "metadata": {},
   "outputs": [],
   "source": [
    "floatX = 'float32'\n",
    "intX = 'int32'"
   ]
  },
  {
   "cell_type": "code",
   "execution_count": 4,
   "metadata": {},
   "outputs": [
    {
     "name": "stderr",
     "output_type": "stream",
     "text": [
      "/usr/local/lib/python2.7/dist-packages/pandas/core/computation/expressions.py:179: UserWarning: evaluating in Python space because the '*' operator is not supported by numexpr for the bool dtype, use '&' instead\n",
      "  .format(op=op_str, alt_op=unsupported[op_str]))\n"
     ]
    }
   ],
   "source": [
    "windows, resp, _, targetObjectMap,targetImage = open_imagery_probe_data('KL', 'pcp', 'peaches_05')"
   ]
  },
  {
   "cell_type": "markdown",
   "metadata": {},
   "source": [
    "#### Utilities"
   ]
  },
  {
   "cell_type": "code",
   "execution_count": 5,
   "metadata": {},
   "outputs": [],
   "source": [
    "def source_points(shape):\n",
    "    D1,D2 = shape\n",
    "    sourceI, sourceJ= np.meshgrid(range(D1),range(D2))\n",
    "    sourcePoints = np.array([sourceJ.flatten(),sourceI.flatten()]).T.astype('float64')\n",
    "    return sourcePoints\n",
    "\n",
    "\n",
    "#box = (left, upper, right, lower)\n",
    "def get_box_center(boxtuple):\n",
    "    left, upper, right, lower = boxtuple\n",
    "    center_row = np.median([upper, lower])\n",
    "    center_col = np.median([left, right])\n",
    "    return np.array([center_row, center_col])\n",
    "\n",
    "def compose_and_iterate(sourcePoints, transformFuncList, activations=None, iterations=1):\n",
    "    displacedPoints = copy(sourcePoints)\n",
    "    if iterations:\n",
    "        ##apply transforms in series, noting activations, and assuming that xForm manages control point arithmetic\n",
    "        if activations is None:\n",
    "            activations = [1]*len(transformFuncList)\n",
    "        for xForm,a in zip(transformFuncList,activations):\n",
    "            if not a:\n",
    "                xForm = lambda x: x\n",
    "            displacedPoints = xForm(displacedPoints)\n",
    "        ##reduce iterations\n",
    "        iterations -= 1\n",
    "        return compose_and_iterate(displacedPoints, transformFuncList, activations, iterations=iterations)\n",
    "    else:\n",
    "        return displacedPoints\n",
    "\n",
    "        \n",
    "\n",
    "def local_affine_warp(sourcePoints, controlPoint, baseTransformMatrix, scaleFunction):\n",
    "    \n",
    "    r = pairwise_distances(sourcePoints, controlPoint[np.newaxis,:])\n",
    "    scalars = scaleFunction(r)  \n",
    "    scaledXForms = scalars[:,:,np.newaxis]*baseTransformMatrix\n",
    "    xForms = np.array(map(expm, scaledXForms))\n",
    "\n",
    "    displacedPoints = np.sum((sourcePoints[:,:,np.newaxis]-controlPoint.T)*xForms,axis=2)+controlPoint\n",
    "\n",
    "    return displacedPoints,xForms"
   ]
  },
  {
   "cell_type": "code",
   "execution_count": 6,
   "metadata": {},
   "outputs": [],
   "source": [
    "##a basis set for globally affine distortions\n",
    "def global_affine_distortion_set(big=1.2, small=.8, rotate=np.pi/16., shear = np.pi/16., translate=3):\n",
    "\n",
    "    globalAffineParamDictList = []\n",
    "    globalAffineParamDictList += [{'scale':(big,1.), 'rotation':None, 'shear':None, 'translation':None}]\n",
    "    globalAffineParamDictList += [{'scale':(1.,big), 'rotation':None, 'shear':None, 'translation':None}]\n",
    "    globalAffineParamDictList += [{'scale':(small,1.), 'rotation':None, 'shear':None, 'translation':None}]\n",
    "    globalAffineParamDictList += [{'scale':(1.,small), 'rotation':None, 'shear':None, 'translation':None}]\n",
    "    globalAffineParamDictList += [{'scale':None, 'rotation':rotate, 'shear':None, 'translation':None}]\n",
    "    globalAffineParamDictList += [{'scale':None, 'rotation':-rotate, 'shear':None, 'translation':None}]\n",
    "    globalAffineParamDictList += [{'scale':None, 'rotation':None, 'shear':rotate, 'translation':None}]\n",
    "    globalAffineParamDictList += [{'scale':None, 'rotation':None, 'shear':-rotate, 'translation':None}]\n",
    "    globalAffineParamDictList += [{'scale':None, 'rotation':None, 'shear':None, 'translation':(translate,0)}]\n",
    "    globalAffineParamDictList += [{'scale':None, 'rotation':None, 'shear':None, 'translation':(0, translate)}]\n",
    "    globalAffineParamDictList += [{'scale':None, 'rotation':None, 'shear':None, 'translation':(-translate, 0)}]\n",
    "    globalAffineParamDictList += [{'scale':None, 'rotation':None, 'shear':None, 'translation':(0, -translate)}]\n",
    "    globalAffineParamDictList += [{'scale':None, 'rotation':None, 'shear':None, 'translation':(translate, -translate)}]\n",
    "    globalAffineParamDictList += [{'scale':None, 'rotation':None, 'shear':None, 'translation':(-translate, translate)}]\n",
    "    globalAffineParamDictList += [{'scale':None, 'rotation':None, 'shear':None, 'translation':(translate, translate)}]\n",
    "    globalAffineParamDictList += [{'scale':None, 'rotation':None, 'shear':None, 'translation':(-translate, translate)}]\n",
    "    return globalAffineParamDictList"
   ]
  },
  {
   "cell_type": "code",
   "execution_count": 7,
   "metadata": {},
   "outputs": [],
   "source": [
    "##a basis set for local affine distortions\n",
    "def local_affine_distortion_set(big=.2, small=-.2):\n",
    "\n",
    "    localAffineParamDictList = []\n",
    "    localAffineParamDictList += [{'scale':(big,big), 'rotation':None, 'shear':None, 'translation':None}]\n",
    "#     localAffineParamDictList += [{'scale':(0.,big), 'rotation':None, 'shear':None, 'translation':None}]\n",
    "    localAffineParamDictList += [{'scale':(small,small), 'rotation':None, 'shear':None, 'translation':None}]\n",
    "#     localAffineParamDictList += [{'scale':(0.,small), 'rotation':None, 'shear':None, 'translation':None}]\n",
    "    return localAffineParamDictList"
   ]
  },
  {
   "cell_type": "markdown",
   "metadata": {},
   "source": [
    "#### Variational machinery"
   ]
  },
  {
   "cell_type": "code",
   "execution_count": 8,
   "metadata": {},
   "outputs": [],
   "source": [
    "class activationPrior(object):\n",
    "    def __init__(self):\n",
    "        self._activationProb = T.scalar('activationProb',dtype=floatX)\n",
    "        \n",
    "    def set_value(self,value):\n",
    "        assert value <= 1\n",
    "        assert value >= 0\n",
    "        self.activationProb = np.array(value,dtype=floatX)\n",
    "    "
   ]
  },
  {
   "cell_type": "code",
   "execution_count": 9,
   "metadata": {},
   "outputs": [],
   "source": [
    "class iterationPrior(object):\n",
    "    def __init__(self):\n",
    "        self._iterationMean = T.scalar('iterationMean', dtype=floatX)        \n",
    "        \n",
    "    def set_value(self,value):\n",
    "        assert value >= 0\n",
    "        self.iterationMean = np.array(value,dtype=floatX)\n",
    "    \n",
    "    def pmf(self, num):\n",
    "        return poisson.pmf(num,self.iterationMean)\n",
    "    \n",
    "        "
   ]
  },
  {
   "cell_type": "code",
   "execution_count": 10,
   "metadata": {},
   "outputs": [],
   "source": [
    "class baseObjectMap(object):\n",
    "    '''\n",
    "    \n",
    "    '''\n",
    "    def __init__(self,objectMap):\n",
    "        from PIL.Image import fromarray\n",
    "        '''\n",
    "        baseObjectMap(objectMap)\n",
    "        an object map in cannonical form, i.e., a D1 x D2 discrete numpy array\n",
    "        \n",
    "        '''\n",
    "        self.objectMap = self._convert_object_labels(objectMap)\n",
    "        self.D1 = self.objectMap.shape[0]\n",
    "        self.D2 = self.objectMap.shape[1]\n",
    "        self.D = np.prod([self.D1,self.D2])\n",
    "        self.sourcePoints = source_points((self.D1,self.D2))\n",
    "        self.objectCenters = self._get_object_centers()\n",
    "        \n",
    "        ##theano expressions\n",
    "        self._D1 = T.scalar('numPixelRows',dtype=intX) ##num pixel rows\n",
    "        self._D2 = T.scalar('numPixelCols',dtype=intX) ##num pixel cols\n",
    "        self._D = self._D1*self._D2 ##total number of pixels\n",
    "        self._D.name = 'numPixels'\n",
    "        self._K = T.scalar('numObjects',dtype=intX) ##a theano integer scalar       \n",
    "    \n",
    "    def _convert_object_labels(self,objectMap):\n",
    "        self.nativeLabelList = np.unique(objectMap).tolist()\n",
    "        self.K = len(self.nativeLabelList)\n",
    "        return np.digitize(objectMap, self.nativeLabelList,right=True)\n",
    "        \n",
    "        \n",
    "    def _get_object_centers(self):        \n",
    "        objectCenters = np.empty((self.K,2),dtype=floatX)\n",
    "        for objectLabel in range(self.K):\n",
    "            box = object_box(fromarray(self.objectMap.astype('uint8')),objectLabel)\n",
    "            objectCenters[objectLabel,:] = get_box_center(box)[np.newaxis,:].astype(floatX)\n",
    "        return objectCenters"
   ]
  },
  {
   "cell_type": "code",
   "execution_count": 11,
   "metadata": {},
   "outputs": [],
   "source": [
    "class distortions(object):\n",
    "    def __init__(self, controlPoints,kind='global',distortionParamDictList=[{'scale':None, 'rotation':None, 'shear':None, 'translation':None}],scale=10.):\n",
    "\n",
    "        '''\n",
    "        distortions(controlPoints,\n",
    "                    kind='global',\n",
    "                    distortionParamDictList=[{'scale':None,\n",
    "                                              'rotation':None,\n",
    "                                              'shear':None, \n",
    "                                              'translation':None}],\n",
    "                                              scale=10.))\n",
    "        the basic job of this class is to create a list of image distortions.\n",
    "        these distortions will be composed and applied to an image downstream.\n",
    "        \n",
    "        inputs:\n",
    "        \n",
    "        controlPoints ~ M x 2 array of points about which the distortions will be applied\n",
    "        \n",
    "        distortionParamDistList ~ list of lenght G of dicts with distortion params.\n",
    "            {'scale':None, 'rotation':None, 'shear':None, 'translation':None}\n",
    "            default is the id matrix. scale takes (sx,sy), values <0 shrink.\n",
    "            translation takes (tx,ty).\n",
    "            shear and rotation take angles in radians.\n",
    "\n",
    "        kind ~ \"local\" or \"global\". if local, use a locally affine warping approach. if\n",
    "            global, interpret params as globally affine. Note: \"global\" is MUCH faster.\n",
    "        \n",
    "        scale ~ scalar. if kind = 'local', this defines locality. otherwise ignore.\n",
    "            Note: if small, very local and distortions are locally \"strong\". \n",
    "            if big, distortions apply almost globally but are very \"weak\".\n",
    "            \n",
    "        attributes:\n",
    "        \n",
    "        transformFuncList ~ list of warping functions like warpfunc(sourcePoints)\n",
    "            where sourcePoints is D x 2 array of points to displace. these functions\n",
    "            should return an D x 2 array of \"displaced points\" that will be used\n",
    "            downstream to interpolate. the lenght of this list will be MxG.\n",
    "            this is the number of controlPoints (M) times number of distortions (G).\n",
    "            all distortions for one control point are in contiguous segment of the list.\n",
    "      \n",
    "        '''\n",
    "        \n",
    "        \n",
    "        self.kind = kind\n",
    "        self.controlPoints = controlPoints\n",
    "        self.numControlPoints = controlPoints.shape[0]\n",
    "        self.distortionParamDictList = distortionParamDictList\n",
    "        self.numDistortions = len(self.distortionParamDictList)\n",
    "        if kind == 'local':\n",
    "            self.scale = scale\n",
    "        self._get_transform_function_list()\n",
    "        \n",
    "    def _get_transform_function_list(self):\n",
    "        self.transformFuncList = []\n",
    "        if self.kind == 'global':\n",
    "            for ctrlPt in self.controlPoints:\n",
    "                for paramDict in self.distortionParamDictList:\n",
    "                    xForm = AffineTransform(**paramDict)\n",
    "                    self.transformFuncList += [lambda x,bc=ctrlPt,xf=xForm.params.astype(floatX): matrix_transform(x-bc,xf)+bc]\n",
    "        elif self.kind == 'local':\n",
    "            scaleFunc = lambda r,scale_param=self.scale: norm.pdf(r, scale=scale_param)\n",
    "            for ctrlPt in self.controlPoints:\n",
    "                for paramDict in self.distortionParamDictList:\n",
    "                    xForm = AffineTransform(**paramDict)\n",
    "                    baseTransformMatrix = xForm.params[:2,:2].astype(floatX)\n",
    "                    self.transformFuncList += [lambda x, btm=baseTransformMatrix, cp=ctrlPt: local_affine_warp(x,cp,btm, scaleFunc)[0]]\n",
    "        else:\n",
    "            raise ValueError('keyword \"kind\" must be either \"global\" or \"local\" ')"
   ]
  },
  {
   "cell_type": "code",
   "execution_count": 12,
   "metadata": {},
   "outputs": [],
   "source": [
    "def renormalize_double(pval):\n",
    "    return pval.astype('float64') / np.sum(pval.astype('float64'),axis=0)\n",
    "\n"
   ]
  },
  {
   "cell_type": "code",
   "execution_count": 13,
   "metadata": {},
   "outputs": [],
   "source": [
    "class activations(object):\n",
    "    def __init__(self, activationPrior_inst, distortions_inst):\n",
    "        self.activationPrior = activationPrior_inst\n",
    "        self.distortions = distortions_inst\n",
    "        self._A = T.vector('activationVector', dtype=intX)\n",
    "        self.numActivationVars = self.distortions.numControlPoints*self.distortions.numDistortions\n",
    "        self.numActivationStates = 2  #can be on or off (1, 0)\n",
    "    \n",
    "    def sample(self, M = 1, pval=None, kind='1hot'):\n",
    "        '''\n",
    "        sample(M = 1, pval=None)\n",
    "        \n",
    "        if pval supplied, should be numActivationStates x numActivationVars array\n",
    "        each colum is probability that activation = [1,0]. top row is ON, bottom is OFF,\n",
    "        bottom = 1-top.\n",
    "        if not supplied, use prior probability to sample.\n",
    "        \n",
    "        if kind = '1hot', returns an M x numActivationStates x numActivationVars array\n",
    "        if kind = 'canonical', returns an M x numberActivationVars array, each element a 0 or 1\n",
    "        '''\n",
    "       \n",
    "        \n",
    "        if pval is None:\n",
    "            pval = self.activationPrior.activationProb\n",
    "            pval = np.array([pval, 1-pval],ndmin=1)\n",
    "            pval = renormalize_double(pval)\n",
    "            activations = np.random.multinomial(1, pval, size=(M,self.numActivationVars)).transpose([0,2,1])\n",
    "        else:\n",
    "            assert pval.shape == (self.numActivationStates, self.numActivationVars)\n",
    "            activations = np.empty((M,self.numActivationStates, self.numActivationVars), dtype=intX)\n",
    "            pval = renormalize_double(pval)\n",
    "            for v in range(self.numActivationVars):\n",
    "                activations[:, :, v] = np.random.multinomial(1,pval[:,v], size=M)\n",
    "        if kind == '1hot':\n",
    "            return activations\n",
    "        elif kind == 'canonical':\n",
    "            return np.argmin(activations,axis=1) ##argmin becuase ON is coded as first element of each column.\n",
    "        else:\n",
    "            raise ValueError('keyword \"kind\" must be \"canonical\" or \"1hot\"')\n",
    "             \n"
   ]
  },
  {
   "cell_type": "code",
   "execution_count": 14,
   "metadata": {},
   "outputs": [],
   "source": [
    "##this is really a class for the variational posterior. it samples from\n",
    "##a discrete distribution over \"number of iterations\". whereas the prior over number of iterations\n",
    "##is a poisson, and the true posterior over number of iterations is wtfk.\n",
    "class iterations(object):\n",
    "    def __init__(self, iterationPrior_inst, numIterationVars=1,numIterationStates=3):\n",
    "        self.iterationPrior = iterationPrior_inst\n",
    "        self._t = T.vector('iterationVector',dtype=intX)\n",
    "        #for now we only support one \"global\" iteration variable.\n",
    "        #can range from 0 (no distortion) to upper limit numIterationStates\n",
    "        self.numIterationVars = numIterationVars\n",
    "        self.numIterationStates = numIterationStates\n",
    "    \n",
    "    def sample(self, pval=None, M=1, kind='1hot'):\n",
    "        '''\n",
    "        sample(pval, M=1)\n",
    "        \n",
    "        inputs:\n",
    "        pval ~ array of probabilities, shape = (numIterationStates,numIterationVars)\n",
    "            each column is a 1hot encoding of probability of number of iterations from 0 up to some\n",
    "            truncated value (numberIterationStates)\n",
    "            if pval=None, sample from uniform distribution\n",
    "            \n",
    "        M ~ number of samples\n",
    "        kind ~ \"cannoical\" or \"1hot\"\n",
    "\n",
    "        \n",
    "        returns:\n",
    "        iterations ~ if kind=\"canonical\", an M x numIterationVars array, each element is number of iterations.\n",
    "            if kind = \"1hot\", an M x numIterationStates x numIterationVars array. each for a fixed sample, \n",
    "            the column is a 1-hot encoding of number of iterations. so like iterations[m,k,n] = 1 would mean\n",
    "            that for the m_th sample, the number of iterations for the n_th iteration variable is k.\n",
    "        \n",
    "        \n",
    "        '''\n",
    "        \n",
    "        \n",
    "        if pval is None:\n",
    "            pval = np.empty((self.numIterationStates, self.numIterationVars), dtype=floatX)\n",
    "            pval[:] = 1./self.numIterationStates\n",
    "        assert pval.shape == (self.numIterationStates, self.numIterationVars)\n",
    "        iterations = np.empty((M, self.numIterationStates, self.numIterationVars), dtype=intX)\n",
    "        pval = renormalize_double(pval)\n",
    "        for v in range(self.numIterationVars):\n",
    "            iterations[:, :, v] = np.random.multinomial(1,pval[:,v], size=M)\n",
    "        if kind == '1hot':\n",
    "            return iterations\n",
    "        elif kind == 'canonical':\n",
    "            return np.argmax(iterations,axis=1)\n",
    "        else:\n",
    "            raise ValueError('keyword \"kind\" must be \"canonical\" or \"1hot\"')\n",
    "\n"
   ]
  },
  {
   "cell_type": "code",
   "execution_count": 498,
   "metadata": {},
   "outputs": [],
   "source": [
    "class latentObjectMap(object):\n",
    "    def __init__(self, activations_inst, iterations_inst, baseObjectMap_inst):\n",
    "        self.activations = activations_inst\n",
    "        self.iterations = iterations_inst\n",
    "        self.baseObjectMap = baseObjectMap_inst\n",
    "        self._Z = T.tensor3('Z',dtype=intX) #M x K x D stack of object maps\n",
    "        self._K = T.scalar('numObjects',dtype='int32') ##a theano integer scalar\n",
    "        self._D1 = T.scalar('numPixelRows',dtype='int32') ##num pixel rows\n",
    "        self._D2 = T.scalar('numPixelCols',dtype='int32') ##num pixel cols\n",
    "        self._D = self._D1*self._D2 ##total number of pixels\n",
    "        self._D.name = 'numPixels'\n",
    "         \n",
    "    def sample(self, M=1, activationProbs=None, iterationProbs=None, kind = '1hot'):\n",
    "        '''\n",
    "        sample(M=1, activationProbs=None, iterationProbs=None, kind = '1hot')\n",
    "        generate M samples of a probabilistically distorted object map\n",
    "        \n",
    "        inputs:\n",
    "        M ~ int, number of samples\n",
    "        activationProbs ~ nActStates x nActVars array of probabilities, columns sum to 1\n",
    "        iterationProbs ~ nItStates x nItVars array of probabilities, columns sum to 1\n",
    "        kind = '1hot', 'canonical'\n",
    "        \n",
    "        returns:\n",
    "        warped,activations,iterations\n",
    "        \n",
    "        if kind == 'canonical', warped is M x D1 x D2 array of object maps.\n",
    "        if kind == '1hot', warped is M x K x D array of 1hot-encoded object maps, K=number of objects, D=D1*D2\n",
    "        \n",
    "        activations is M x nActVars\n",
    "        iterations is M x nItVars\n",
    "        \n",
    "        \n",
    "        '''\n",
    "        D1,D2 = self._get_dims()\n",
    "        D = D1*D2\n",
    "        K = self._get_num_objects()\n",
    "        baseMap = self._get_base_map()\n",
    "        activations = self.activations.sample(M=M,pval=activationProbs,kind='canonical')\n",
    "        iterations = self.iterations.sample(M=M, pval=iterationProbs,kind='canonical')\n",
    "        sourcePoints = self.baseObjectMap.sourcePoints\n",
    "        xFormFuncList = self.activations.distortions.transformFuncList\n",
    "        objectMapStackCanonical = np.empty((M,D1,D2),dtype=intX)\n",
    "        for m in range(M):\n",
    "            actList = activations[m].tolist()\n",
    "            iters = np.copy(iterations[m])\n",
    "            displacedPoints = compose_and_iterate(sourcePoints, xFormFuncList, actList, iters)\n",
    "#             objectMapStackCanonical[m,:,:] = griddata(displacedPoints, baseMap, sourcePoints, method='nearest').reshape((D1,D2))\n",
    "            objectMapStackCanonical[m,:,:] = griddata(displacedPoints, baseMap.T.flatten(), sourcePoints, method='nearest').reshape((D2,D1)).T\n",
    "        if kind == '1hot':\n",
    "            objectMapStackOneHot = np.empty((M,K,D),dtype=intX)\n",
    "            for m in range(M):\n",
    "                objectMapStackOneHot[m,:,:] = to_one_hot_func(objectMapStackCanonical[m].flatten(),K).T\n",
    "            return objectMapStackOneHot, activations, iterations,displacedPoints\n",
    "        elif kind == 'canonical':\n",
    "            \n",
    "            return objectMapStackCanonical, activations,iterations\n",
    "        else:\n",
    "            raise ValueError('keyword argument \"kind\" must be \"1hot\", or \"canonical\"')\n",
    "    \n",
    "    def convert1hot_to_image(self, sample1hot, show=False):\n",
    "        '''\n",
    "        convert1hot_to_image(sample1hot, show=False)\n",
    "        takes a 1 x K x D sample of a 1hot encoded object map \n",
    "        and converts it to a D1 x D2 image of the map.\n",
    "\n",
    "        makes plot if show=True\n",
    "        '''\n",
    "        D1,D2 = self._get_dims()\n",
    "        sampleImage = np.argmax(sample1hot,axis=1).reshape((D1,D2))\n",
    "        if show:\n",
    "            plt.imshow(sampleImage, interpolation='nearest')\n",
    "        return sampleImage   \n",
    "    \n",
    "    def _get_dims(self):\n",
    "        return self.baseObjectMap.objectMap.shape\n",
    "    def _get_num_objects(self):\n",
    "        return self.baseObjectMap.K\n",
    "    def _get_base_map(self):\n",
    "        return self.baseObjectMap.objectMap"
   ]
  },
  {
   "cell_type": "code",
   "execution_count": 499,
   "metadata": {},
   "outputs": [],
   "source": [
    "class behavior(responses):\n",
    "    def __init__(self,latentObjMap_inst, noiseParams_inst):\n",
    "        ##okay so this is super gross, but these few lines of code allow me to not have to\n",
    "        ##rewrite the whole class just to change a few variable names\n",
    "        from imagery_psychophysics.src.variational import numObjects, numPixels, priorDispersion, categoryProbs\n",
    "        cp = categoryProbs(numObjects(),priorDispersion())\n",
    "        latentObjMap_inst.categoryPrior = cp\n",
    "        latentObjMap_inst.numPixels = numPixels()\n",
    "        super(behavior, self).__init__(latentObjMap_inst, noiseParams_inst)\n",
    "        \n",
    "        ##overwrites because the graph is now different. this allows us to reuse a lot of code\n",
    "        self.Z.categoryPrior.numObjects._K = latentObjMap_inst._K\n",
    "        self.Z.numPixels._D1 = latentObjMap_inst._D1\n",
    "        self.Z.numPixels._D2 = latentObjMap_inst._D2\n",
    "        self.Z.numPixels._D  = latentObjMap_inst._D\n",
    "        self.Z.categoryPrior.numObjects.K = latentObjMap_inst._get_num_objects()\n",
    "        self.Z.numPixels.D1,self.Z.numPixels.D2 = latentObjMap_inst._get_dims()\n",
    "        self.Z.numPixels.D = np.prod(latentObjMap_inst._get_dims())"
   ]
  },
  {
   "cell_type": "code",
   "execution_count": 500,
   "metadata": {},
   "outputs": [],
   "source": [
    "class variationalImageRegistration(object):\n",
    "    def __init__(self, behavior_inst, activationInferQZ_inst, iterationInferQZ_inst, optimizeNoiseParams_inst):\n",
    "        self.responses = behavior_inst\n",
    "        self.iQA = activationInferQZ_inst\n",
    "        self.iQt = iterationInferQZ_inst\n",
    "        self.oNP = optimizeNoiseParams_inst\n",
    "\n",
    "        ##hard-coded bounds for clipping floating point errors\n",
    "        self._a_min = 1e-4\n",
    "        self._a_max = 1\n",
    "        \n",
    "        \n",
    "        ##compile theano expressions, functions\n",
    "        self.compile_object_probs()\n",
    "        self.compile_entropy()\n",
    "        self.compile_predictive_distribution()\n",
    "        self.compile_goodness_of_fit()\n",
    "        self.compile_ELBO()\n",
    "        \n",
    "\n",
    "        \n",
    "        \n",
    "        \n",
    "\n",
    "    ##===compile theano expressions, functions===\n",
    "    def compile_object_probs(self):\n",
    "        _object_counts = self.responses._object_counts ##(M x N)\n",
    "        _K = self.responses.Z.categoryPrior.numObjects._K\n",
    "        \n",
    "        ##non-normalized object count probs (N x K)\n",
    "        ##we are using these counts as indices, so we have to subtract 1\n",
    "        _object_count_prob_nn = to_one_hot(_object_counts.astype('int32').flatten()-1,_K).reshape((_object_counts.shape[0],_object_counts.shape[1],_K)).sum(axis=0)\n",
    "\n",
    "        ##object count probs (N x K)\n",
    "        _object_count_prob = _object_count_prob_nn / _object_count_prob_nn.sum(axis=1).reshape((_object_count_prob_nn.shape[0], 1))\n",
    "        \n",
    "        self.object_count_prob_func = function([_object_counts, _K], outputs = _object_count_prob)\n",
    "        \n",
    "    def compile_goodness_of_fit(self):\n",
    "        _P_theta = T.tensor3('_P_theta') ##(G x N x K)\n",
    "        _oc_probs = T.matrix('oc_probs') ##N x K ~ this is a place holder for the \"object count prob\" matrix\n",
    "\n",
    "\n",
    "        ##(G x N x K)\n",
    "        ##(    N x K)  (dot product, broadcast across G)\n",
    "        ##(G x 1)  --> because we don't do vectors we reshape to make output 2Dimensional (G x 1)\n",
    "\n",
    "        ##log of likelihood\n",
    "\n",
    "        _ln_P_theta = T.log(_P_theta)\n",
    "\n",
    "        ##ln [q(theta+, theta-) - const (G x 1) ], the log of the unormalized variational distribution over theta\n",
    "        ##currently we're taking a point estimate on theta so we don't do the hard normalization step.\n",
    "        _goodnessOfFit = T.tensordot(_ln_P_theta, _oc_probs, axes=[[1,2], [0,1]],).reshape((_P_theta.shape[0], 1))\n",
    "        \n",
    "        ##returns G x 1 goodness of fit array. each element gives goodness of fit for one possible value of noiseparams\n",
    "        self.goodness_of_fit_func = function([_P_theta, _oc_probs], outputs = _goodnessOfFit)\n",
    "        \n",
    "    def compile_entropy(self):\n",
    "        ##qA and then qt\n",
    "        ##the order should always be numStates x numVars to be consistent with K x D format of previous code.\n",
    "        _qA = T.matrix('qA_holder') ##numActivationStates x numActivationVars\n",
    "        _qt = T.matrix('qt_holder') #numIterationStates x numIterationVars\n",
    "        a_min = self._a_min\n",
    "        a_max = self._a_max\n",
    "        ##scalar: entropy of joint variational posterior over A, t\n",
    "        _activation_entropy = -T.tensordot(_qA.clip(a_min,a_max), T.log(_qA.clip(a_min,a_max)))\n",
    "        _iteration_entropy = -T.tensordot(_qt.clip(a_min,a_max), T.log(_qt.clip(a_min,a_max)))\n",
    "        _posterior_entropy = _activation_entropy+_iteration_entropy\n",
    "        self.entropy_update_func = function([_qA,_qt], outputs=_posterior_entropy)\n",
    "        \n",
    "     \n",
    "    def compile_ELBO(self):\n",
    "        _goodnessOfFitStar = T.scalar('_goodnessOfFitStar') ##scalar\n",
    "        \n",
    "        _posterior_entropy = T.scalar('entropy_holder') \n",
    "\n",
    "        ##scalar\n",
    "        _ELBO = _goodnessOfFitStar  + _posterior_entropy\n",
    "        self.ELBO_update_func = function([_goodnessOfFitStar, _posterior_entropy], outputs=[_goodnessOfFitStar, _posterior_entropy, _ELBO])\n",
    "\n",
    "    def compile_predictive_distribution(self):\n",
    "        _lkhdTable = T.matrix('lkhd_table_pred') ##K+1 x K ~ responses x counts, likelihood for fixed noiseparams\n",
    "        \n",
    "        ##windows x 1         x counts  |\n",
    "        ##          responses x counts    tensordot\n",
    "        ##windows x responses\n",
    "        _oc_probs = T.matrix('oc_probs') ##N x K ~ this is a place holder for the \"object count prob\" matrix\n",
    "        _pred_dist = T.tensordot(_oc_probs, _lkhdTable, axes = [[1],[1]])\n",
    "        self.predictive_distribution_update_func = function(inputs=[_oc_probs,_lkhdTable], outputs=_pred_dist)\n",
    "       \n",
    "        \n",
    "    ##====initialization methods\n",
    "    \n",
    "\n",
    "        \n",
    "        \n",
    "    \n",
    "    ##select initial values of noiseparams, discretize, access lkhdCube\n",
    "    def init_noiseParams(self, pOnInit, pOffInit,noiseParamNumber):\n",
    "        '''\n",
    "        init_noiseParams(pOnInit, pOffInit,noiseParamNumber)\n",
    "        \n",
    "        create a grid of candidate noise params according noiseParamNumber (i.e., something like square root of number\n",
    "        of candidates we'll consider)\n",
    "        \n",
    "        take initial guess at noise param and return index of nearest candidate in the grid\n",
    "        \n",
    "        '''\n",
    "\n",
    "        ##will need the likelihood cube at whatever resolution we're using to infer noise params, so make here\n",
    "        self.noiseParamGrid = np.array(self.responses.noise.enumerate_param_grid(noiseParamNumber),dtype=floatX).T\n",
    "        \n",
    "        ##for starters, find index of closest noise param values to pOnInit, pOffInit, and then slice the lkhdCube\n",
    "        noiseParamIdx = np.argmin(map(np.linalg.norm, self.noiseParamGrid-np.array([pOnInit,pOffInit]).T))\n",
    "        return noiseParamIdx                                      \n",
    "       \n",
    "    \n",
    "    def init_qA(self, random=True):\n",
    "        '''\n",
    "        returns qA ~ 2 x numActivationVars array of activation probabilities\n",
    "        sampled from the prior.\n",
    "        for each var, qA[0] = ON probability, qA[1] = 1-qA[0] = OFF probability\n",
    "        '''\n",
    "        activationPriorProb = self.responses.Z.activations.activationPrior.activationProb\n",
    "        nAvars = self.responses.Z.activations.numActivationVars\n",
    "        nAstates = self.responses.Z.activations.numActivationStates ##this is always 2\n",
    "        \n",
    "        qA = np.zeros((nAstates,nAvars),dtype=floatX)\n",
    "        if random:\n",
    "            qA[0,:] = activationPriorProb\n",
    "            qA[1,:] = 1-activationPriorProb\n",
    "        else: ##this gives the identity distortion by setting prob. of OFF to 1.\n",
    "            qA[0,:] = 0.\n",
    "            qA[1,:] = 1.\n",
    "        return qA\n",
    "    \n",
    "    def init_qt(self):\n",
    "        '''\n",
    "        returns qt ~ numIterationStates x numIterationVars array of iteration probabilities\n",
    "\n",
    "        sets values for numIterationStates. this truncates the support of the variational posterior\n",
    "        over iterations. bigger numbers = more time, so this will be treated as a hyperparameter.\n",
    "\n",
    "        to initialize, we evaluate probabilities under Poission prior for numbers of iterations up to\n",
    "        numIterationStates. then we normalize. so this is like a \"truncated possion\" starting qt.\n",
    "        \n",
    "        sets values for numIterationStates. this truncates the support of the variational posterior\n",
    "        over iterations. bigger numbers = more time, so this will be treated as a parameter for learning.\n",
    "        '''\n",
    "        \n",
    "        \n",
    "        nTvars = self.responses.Z.iterations.numIterationVars\n",
    "        nTstates = self.responses.Z.iterations.numIterationStates \n",
    "        qt = np.zeros((nTstates,nTvars), dtype=floatX)\n",
    "        for v in range(nTvars):\n",
    "            qt[:,v] = self.responses.Z.iterations.iterationPrior.pmf(range(nTstates))\n",
    "            qt[:,v] /= np.sum(qt[:,v])\n",
    "        return qt\n",
    "        \n",
    "        \n",
    "    \n",
    "\n",
    "   \n",
    "\n",
    "    ##==========update and optimization methods=============\n",
    "    \n",
    "    def optimize_hyper_parameters(self):\n",
    "        '''\n",
    "        loop over all stored models and return the one with the best performance\n",
    "        (currently this is best percent correct)\n",
    "        '''\n",
    "        bestPercentCorrect = 0\n",
    "        bestK = np.inf\n",
    "        bestD = np.inf\n",
    "        for model in self.storedModels.values():\n",
    "            ##if this model is better than the best, promote it to new best\n",
    "            if model.bestPercentCorrect > bestPercentCorrect:\n",
    "                bestPercentCorrect = model.bestPercentCorrect\n",
    "                bestModel = model\n",
    "                bestK = model.responses.Z.categoryPrior.numObjects.K\n",
    "                bestD = model.responses.Z.numPixels.D\n",
    "            ##if this model is tied for best has fewer objects or pixels, promote it to new best    \n",
    "            elif model.bestPercentCorrect == bestPercentCorrect:\n",
    "                if (model.responses.Z.categoryPrior.numObjects.K < bestK) or (model.responses.Z.numPixels.D < bestD):\n",
    "                    bestPercentCorrect = model.bestPercentCorrect\n",
    "                    bestModel = model\n",
    "                    bestK = model.responses.Z.categoryPrior.numObjects.K\n",
    "                    bestD = model.responses.Z.numPixels.D\n",
    "        return bestModel\n",
    "            \n",
    "    \n",
    "    def update_qA(self, qA, qt, noiseParamStarIdx):\n",
    "        '''\n",
    "        coordinate ascent on variational posteriors of distortion activations\n",
    "        \n",
    "        update_qA(qA, qt, noiseParamStarIdx)\n",
    "        \n",
    "        returns numActivationStates x numActivationVars matrix of posterior probabilities\n",
    "        \n",
    "        '''\n",
    "        \n",
    "        ##PStar is our term for the empirical lkhd cube sliced at noiseParamStarIdx. it is N x K\n",
    "        logPStar = np.log(self.curEmpiricalLkhdCube[noiseParamStarIdx])\n",
    "        K = self.responses.Z.categoryPrior.numObjects.K\n",
    "        nAvars = self.responses.Z.activations.numActivationVars\n",
    "        nAstates = self.responses.Z.activations.numActivationStates ##this is always 2\n",
    "        \n",
    "        #2 x N x K\n",
    "        oc_probs = np.zeros((nAstates, self.curN, K),dtype=floatX)\n",
    "        \n",
    "        #2 x 1 -- activation state * log[prior probability of activation]\n",
    "        v = np.zeros((nAstates,1), dtype=floatX)\n",
    "        #case where activation state is on we have 1*log[activationProb]\n",
    "        v[0] = np.log(self.responses.Z.activations.activationPrior.activationProb)\n",
    "        #case where it's off we have 0*log[1-activationProb]\n",
    "        v[1] = 0\n",
    "        \n",
    "        for n in range(nAvars):\n",
    "            \n",
    "            ##to sample, we only need the first column of qA, because that is the ON state\n",
    "            qA_copy = np.copy(qA)\n",
    "            \n",
    "            ##==activation = ON\n",
    "            qA_copy[0,n] = 1. ##set prob of ON to 1\n",
    "            qA_copy[1,n] = 0  ##set prob of OFF to 0\n",
    "            #M x K x D\n",
    "            sampledZ,_,_ = self.responses.Z.sample(M=self.numSamples, activationProbs=qA_copy, iterationProbs=qt)\n",
    "            #M x N\n",
    "            oc_counts = self.responses.compute_feature(sampledZ,winIdx=self.curIdx)\n",
    "            oc_probs[0,:,:] = self.object_count_prob_func(oc_counts,K)\n",
    "\n",
    "            ##==activation = OFF\n",
    "            qA_copy[0,n] = 0. ##set prob of ON to 0\n",
    "            qA_copy[1,n] = 1.  ##set prob of OFF to 1\n",
    "\n",
    "            #M x K x D\n",
    "            sampledZ,_,_ = self.responses.Z.sample(M=self.numSamples, activationProbs=qA_copy, iterationProbs=qt)\n",
    "            #M x N\n",
    "            oc_counts = self.responses.compute_feature(sampledZ,winIdx=self.curIdx)\n",
    "            #nAstates x N x K\n",
    "            oc_probs[1,:,:] = self.object_count_prob_func(oc_counts,K)\n",
    "            \n",
    "            ##===update qA for the n_th distortion. \n",
    "            #nAstates x 1\n",
    "            qA[:, n] = self.iQA._update_func(oc_probs, logPStar, v).squeeze()\n",
    "            qA[:, n][qA[:, n] < self._a_min] = 0\n",
    "        return qA\n",
    "\n",
    "    def update_qt(self, qA, qt, noiseParamStarIdx):\n",
    "        '''\n",
    "        coordinate ascent on variational posteriors of distortion iteration\n",
    "        \n",
    "        update_qt(qA, qt, noiseParamStarIdx)\n",
    "        \n",
    "        returns qt ~ numIterationVars x numIterationStates\n",
    "        \n",
    "        '''\n",
    "        \n",
    "        ##PStar is our term for the empirical lkhd cube sliced at noiseParamStarIdx. it is N x K\n",
    "        logPStar = np.log(self.curEmpiricalLkhdCube[noiseParamStarIdx])\n",
    "        K = self.responses.Z.categoryPrior.numObjects.K\n",
    "        nTvars = self.responses.Z.iterations.numIterationVars\n",
    "        nTstates = self.responses.Z.iterations.numIterationStates ##a hyperparameter that user must determine\n",
    "        \n",
    "        #nTstates x N x K\n",
    "        oc_probs = np.zeros((nTstates, self.curN, K),dtype=floatX)\n",
    "\n",
    "        #nTstates x 1 log[prior probability of iteration value]\n",
    "        v = np.empty((nTstates,1), dtype=floatX)\n",
    "        v[:,0] = np.log(self.responses.Z.iterations.iterationPrior.pmf(range(nTstates)))\n",
    "        \n",
    "\n",
    "        for n in range(nTvars):\n",
    "            for t in range(nTstates):\n",
    "                ##number of iterations is t+1. \n",
    "                ##set probability of current iteration variable to 1\n",
    "                qt_copy = np.copy(qt)\n",
    "                qt_copy[:,n] = 0.\n",
    "                qt_copy[t,n] = 1.\n",
    "                #M x K x D\n",
    "                sampledZ,_,_ = self.responses.Z.sample(M=self.numSamples, activationProbs=qA, iterationProbs=qt_copy)\n",
    "                #M x N\n",
    "                oc_counts = self.responses.compute_feature(sampledZ,winIdx=self.curIdx)\n",
    "                \n",
    "                ##nTstates x N x K\n",
    "                oc_probs[t,:,:] = self.object_count_prob_func(oc_counts,K)\n",
    "                \n",
    "            #update qt for the n_th distortion\n",
    "            qt[:, n] = self.iQt._update_func(oc_probs, logPStar, v).squeeze()\n",
    "            qt[:, n][qt[:, n] < self._a_min] = 0\n",
    "        return qt    \n",
    "    \n",
    "    \n",
    "\n",
    "    def update_goodness_of_fit(self, qA,qt):\n",
    "        '''\n",
    "        update_goodness_of_fit(qA,qt)\n",
    "        \n",
    "        return G x 1 array of measures of how well the variational posterior q(A,t) matches the data\n",
    "        for each of the G possible values of the noise params.\n",
    "        \n",
    "        '''\n",
    "        empiricalLkhdCube = self.curEmpiricalLkhdCube\n",
    "        K = self.responses.Z.categoryPrior.numObjects.K\n",
    "        \n",
    "        sampledZ,_,_ = self.responses.Z.sample(M=self.numSamples, activationProbs=qA,iterationProbs=qt)\n",
    "        oc_counts = self.responses.compute_feature(sampledZ,winIdx=self.curIdx)\n",
    "        oc_probs = self.object_count_prob_func(oc_counts, K)\n",
    "        \n",
    "        goodnessOfFit = self.goodness_of_fit_func(empiricalLkhdCube, oc_probs)\n",
    "        \n",
    "        return goodnessOfFit\n",
    "            \n",
    "                                    \n",
    "    def optimize_PStar(self,qA,qt):\n",
    "        '''\n",
    "        optimize_PStar(qA,qt)\n",
    "        \n",
    "        PStar is what we call the empirical lkhd cube sliced at the current best noise params.\n",
    "        So, it is our current guess at the empricial lkhd table.\n",
    "        \n",
    "        We find the best noise param (by measuring goodness of fit)\n",
    "        '''\n",
    "        goodnessOfFit = self.update_goodness_of_fit(qA,qt)\n",
    "        goodnessOfFitStar, noiseParamStarIdx = self.oNP.update_noiseParams(goodnessOfFit)\n",
    "\n",
    "        ##N x K \n",
    "        PStar = self.curEmpiricalLkhdCube[noiseParamStarIdx]\n",
    "        \n",
    "        #1 x 2 best noiseparams\n",
    "        noiseParamStar = self.noiseParamGrid[noiseParamStarIdx,:]\n",
    "        return noiseParamStar, noiseParamStarIdx, PStar, goodnessOfFitStar\n",
    "    \n",
    "  \n",
    "\n",
    "        \n",
    "    ##===criticism===        \n",
    "    def update_ELBO(self, qA, qt, goodnessOfFitStar):\n",
    "        posterior_entropy = self.entropy_update_func(qA,qt)\n",
    "        _, _, ELBO = self.ELBO_update_func(np.asscalar(posterior_entropy),np.asscalar(goodnessOfFitStar))\n",
    "        return goodnessOfFitStar, posterior_entropy, ELBO\n",
    "        \n",
    "    def update_log_predictive_distribution(self, qA, qt, noiseParamStarIdx, numSamples=None):\n",
    "        '''\n",
    "        update_log_predictive_distribution(qA, qt, noiseParamStarIdx)\n",
    "        inputs:\n",
    "            qA ~ numActivationStates x numActivationVars\n",
    "            qt ~ numIterationsStates x numIterationVars\n",
    "            noiseParamStarIDx ~ int\n",
    "        \n",
    "        outputs:\n",
    "            predictiveDistribution ~ N x K+1 distribution over the K+1 possible response to each of the N windows\n",
    "            empiricalLogPredictiveDistribution ~ N x 1, this is log of predictiveDistribution sliced at empirical responses \n",
    "        '''\n",
    "        ##handle kwargs\n",
    "        if numSamples is None:\n",
    "            numSamples = self.numSamples\n",
    "        \n",
    "        ##create object count probabilities\n",
    "        K = self.responses.Z.categoryPrior.numObjects.K       \n",
    "        sampledZ,_,_ = self.responses.Z.sample(M=self.numSamples, activationProbs=qA, iterationProbs=qt)\n",
    "        oc_counts = self.responses.compute_feature(sampledZ,winIdx=self.curIdx)\n",
    "        oc_probs = self.object_count_prob_func(oc_counts, K)\n",
    "        \n",
    "        ##N x K+1, a distribution over K+1 responses to each window\n",
    "        predictiveDistribution = self.predictive_distribution_update_func(oc_probs,self.lkhdCube[noiseParamStarIdx])\n",
    "        \n",
    "        ##slice the predictive  distribution at the actual responses. if response exceeds capacity of model, prob. is 0\n",
    "        ##note that responses can be used as indices without change (unlike counts)\n",
    "        responsesAsIndices = self.curResponses.astype(intX)\n",
    "        smallEnough = map(lambda x: x <= K, responsesAsIndices)\n",
    "        empiricalPredictiveDistribution = np.where(smallEnough, predictiveDistribution[range(self.curN), responsesAsIndices.clip(0,K)],0)\n",
    "        \n",
    "#         empiricalPredictiveDistribution[smallEnough,:] = predictiveDistribution[smallEnough, responsesAsIndices[smallEnough]] ##(N x 1)\n",
    "        \n",
    "        ##N x 1\n",
    "        logEmpiricalPredictiveDistribution = np.log(empiricalPredictiveDistribution)\n",
    "        return predictiveDistribution, logEmpiricalPredictiveDistribution    \n",
    "    \n",
    "    \n",
    "    def update_percent_correct(self, predictiveDistribution):\n",
    "        \n",
    "        responses = self.curResponses.astype(intX)\n",
    "        predictions = np.argmax(predictiveDistribution, axis=1)\n",
    "        fraction_correct = np.sum(responses==predictions) / (self.curN*1.)\n",
    "        return fraction_correct*100, predictions\n",
    "    \n",
    "    def criticize(self, qA, qt, noiseParamStarIdx, goodnessOfFitStar, t):\n",
    "        '''\n",
    "        collects various performance metrics. saves them to training history arrays (which are attributes of the VI object)\n",
    "        notices when a training step produces a new, better solution, saves the model parameters when this happens\n",
    "        '''\n",
    "        self.goodnessOfFitStar_history[t] = goodnessOfFitStar\n",
    "        _,self.posteriorEntropy_history[t], self.ELBO_history[t] = self.update_ELBO(qA, qt, goodnessOfFitStar)\n",
    "        \n",
    "        ##get predictive distribution\n",
    "        predictiveDistribution,logEmpiricalPredictiveDistribution = self.update_log_predictive_distribution(qA, qt, noiseParamStarIdx)\n",
    "        \n",
    "        ##sum to get probability of observed data under predictive distribution\n",
    "        self.lnPredictiveDistribution_history[t] = logEmpiricalPredictiveDistribution.mean()\n",
    "        \n",
    "        ##use predicitive distribution to calculate percent correct\n",
    "        self.percentCorrect_history[t],_ = self.update_percent_correct(predictiveDistribution)\n",
    "        \n",
    "        if self.percentCorrect_history[t] > self.bestPercentCorrect:\n",
    "            print '!new best!'\n",
    "            self.bestQA = qA.copy()\n",
    "            self.bestQt = qt.copy()\n",
    "            self.bestNoiseParam = self.noiseParamGrid[noiseParamStarIdx,:].copy()\n",
    "            self.bestPercentCorrect = self.percentCorrect_history[t]\n",
    "            self.bestlnPredictiveDistribution = self.lnPredictiveDistribution_history[t]\n",
    "        \n",
    "\n",
    "        print 'ELBO: %f' %(self.ELBO_history[t])\n",
    "        print 'goodness of fit: %f' %(goodnessOfFitStar)\n",
    "        print 'posterior_entropy: %f' %(self.posteriorEntropy_history[t])\n",
    "        print 'mean log of predictive distribution over test samples: %f' %(self.lnPredictiveDistribution_history[t])\n",
    "        print 'percent correct over test samples: %f' %(self.percentCorrect_history[t])\n",
    "        print '\\n'\n",
    "        \n",
    "        return \n",
    "    \n",
    "        \n",
    "    ##======utilities and bookeeping\n",
    "    def rng_seed(self):\n",
    "        '''\n",
    "        sets (and resets) the seed for the random number generator\n",
    "        stores the seed as an attribute \"randNumberSeed\"\n",
    "        '''\n",
    "        ##if no seed yet, set one\n",
    "        if not hasattr(self, 'randNumberSeed'):\n",
    "            self.randNumberSeed = np.random.randint(0,high=10**4)\n",
    "        ##reset the seed so that subsequent calls to np.random.whatever replicate previous calls\n",
    "        np.random.seed(self.randNumberSeed)\n",
    "    \n",
    "    def train_test_regularize_splits(self, trainTestSplit, trainRegSplit):\n",
    "        N = self.responses.observations.shape[0]\n",
    "        shuffledIdx = np.random.permutation(N)\n",
    "        lastTestIdx = np.floor((1-trainTestSplit)*N).astype(intX)\n",
    "        lastRegIdx = lastTestIdx+np.floor((1-trainRegSplit)*(N-lastTestIdx)).astype(intX)\n",
    "    \n",
    "        testIdx = shuffledIdx[:lastTestIdx]\n",
    "        regIdx = shuffledIdx[lastTestIdx:lastRegIdx]\n",
    "        trainIdx = shuffledIdx[lastRegIdx:]\n",
    "        return trainIdx, testIdx, regIdx\n",
    "    \n",
    "    def empirical_lkhd_cube(self, idx=None):\n",
    "        if idx is None:\n",
    "            respAsIdx = self.responses.observations.astype(intX)\n",
    "        else:\n",
    "            respAsIdx = self.responses.observations[idx].astype(intX)    \n",
    "        return np.squeeze(self.lkhdCube[:,respAsIdx,:])\n",
    "        \n",
    "    def update_current(self, idx):\n",
    "        self.curN = len(idx)\n",
    "        self.curIdx = idx\n",
    "        self.curIdx = self.curIdx\n",
    "        self.curResponses = self.responses.observations[self.curIdx]\n",
    "        try: ##because the computation graph is inelegant\n",
    "            self.curEmpiricalLkhdCube = self.empirical_lkhd_cube(idx=self.curIdx)\n",
    "        except:\n",
    "            pass\n",
    "        \n",
    "        \n",
    "    \n",
    "    \n",
    "    ##=============RUN the actual variational inference algorithm========\n",
    "    \n",
    "    ##Note: the only arguments passed to the various methods should be those that are updated every iteration.\n",
    "    def run_VI(self, pOnInit, pOffInit, noiseParamNumber, numSamples, maxEpochs, trainTestSplit, trainRegSplit,randinit=True):\n",
    "      \n",
    "        \n",
    "        ##divide the training, testing, regularization datasets\n",
    "        trainIdx, testIdx, regIdx = self.train_test_regularize_splits(trainTestSplit=trainTestSplit, trainRegSplit=trainRegSplit)\n",
    "\n",
    "        ##set empirical likelihoods, and responses to training set\n",
    "        self.update_current(trainIdx)\n",
    "        \n",
    "        \n",
    "        ##--construct the lkhdCube and slice it at the discrete value of the noise params closest to the supplied init values\n",
    "        noiseParamStarIdx = self.init_noiseParams(pOnInit, pOffInit, noiseParamNumber)\n",
    "\n",
    "        ##store numSamples for consultation in a few functions\n",
    "        self.numSamples = numSamples\n",
    "\n",
    "        ##--construct lkhd cube\n",
    "        self.lkhdCube = self.responses.make_lkhd_cube(self.noiseParamGrid[:,0],self.noiseParamGrid[:,1])  ##G x K x K\n",
    "\n",
    "        ##set current empirical likelihoods, and responses to training set (have to re-run because of lkhdCube)\n",
    "        self.update_current(trainIdx)\n",
    "\n",
    "        ##initialize variational posteriors\n",
    "        qA = self.init_qA(random=randinit)\n",
    "        qt = self.init_qt()\n",
    "\n",
    "        ##get initial goodnessOfFitStar\n",
    "        goodnessOfFitStar = self.update_goodness_of_fit(qA,qt)[noiseParamStarIdx]\n",
    "\n",
    "        ##set initial PStar, which is our term for an empirical lkhd table evaluated at the noiseParamStarIdx\n",
    "        ##PStar ~ N x K\n",
    "        PStar = self.curEmpiricalLkhdCube[noiseParamStarIdx]\n",
    "\n",
    "        ##--initialize arrays for learning histories and storing solutions\n",
    "        epoch = 0\n",
    "        self.ELBO_history = np.zeros((maxEpochs+1,1))\n",
    "        self.goodnessOfFitStar_history = np.zeros((maxEpochs+1,1))\n",
    "        self.posteriorEntropy_history = np.zeros((maxEpochs+1,1))\n",
    "        self.percentCorrect_history = np.zeros((maxEpochs+1,1))\n",
    "        self.lnPredictiveDistribution_history = np.zeros((maxEpochs+1,1))\n",
    "        self.bestPercentCorrect = 0\n",
    "\n",
    "        delta_ELBO = np.inf\n",
    "        min_delta_ELBO = 10e-15\n",
    "        ELBO_old = 0.\n",
    "\n",
    "        ##--publish initial criticism. use regularization data\n",
    "        self.update_current(regIdx)\n",
    "        self.criticize(qA,qt, noiseParamStarIdx, goodnessOfFitStar, epoch)\n",
    "\n",
    "        ##switch back to training data\n",
    "        self.update_current(trainIdx)\n",
    "\n",
    "        epoch += 1\n",
    "\n",
    "        ##this is the heart of the algorithm where the posteriors are updated\n",
    "        while (delta_ELBO > min_delta_ELBO) and (epoch <= maxEpochs):\n",
    "\n",
    "            ##put lkhd in log domain\n",
    "            lnPStar = np.log(PStar).astype(floatX)\n",
    "\n",
    "            ##coordinate ascent on variational posteriors of distortion activations/iterations\n",
    "            qA = self.update_qA(qA, qt, noiseParamStarIdx)\n",
    "            qt = self.update_qt(qA,qt, noiseParamStarIdx)\n",
    "\n",
    "            ##update noise params: calculates goodness of fit for all possible noise params, finds best,\n",
    "            ##returns it, returns best noiseParam, index of best noiseParam, and updates PStar\n",
    "            noiseParamStar, noiseParamStarIdx, PStar, goodnessOfFitStar = self.optimize_PStar(qA,qt)\n",
    "\n",
    "            ##criticize using regularization data\n",
    "            self.update_current(regIdx)\n",
    "            self.criticize(qA,qt,noiseParamStarIdx, goodnessOfFitStar, epoch)\n",
    "\n",
    "            ##switch back to training data\n",
    "            self.update_current(trainIdx)\n",
    "\n",
    "            ##update ELBO convergence criteria\n",
    "            delta_ELBO = np.abs(self.ELBO_history[epoch]-ELBO_old)\n",
    "            ELBO_old = self.ELBO_history[epoch]\n",
    "\n",
    "            epoch += 1\n",
    "\n",
    "        self.trainIdx = trainIdx\n",
    "        self.regIdx = regIdx\n",
    "        self.testIdx = testIdx\n",
    "        return epoch\n",
    "        \n",
    "\n",
    "        "
   ]
  },
  {
   "cell_type": "markdown",
   "metadata": {},
   "source": [
    "### ========================SANDBOX==================================================="
   ]
  },
  {
   "cell_type": "code",
   "execution_count": 501,
   "metadata": {},
   "outputs": [
    {
     "name": "stdout",
     "output_type": "stream",
     "text": [
      "0.5\n"
     ]
    }
   ],
   "source": [
    "actP = activationPrior()\n",
    "actP.set_value(0.5)\n",
    "print actP.activationProb"
   ]
  },
  {
   "cell_type": "code",
   "execution_count": 502,
   "metadata": {},
   "outputs": [
    {
     "data": {
      "text/plain": [
       "[<matplotlib.lines.Line2D at 0x7f5cccf46dd0>]"
      ]
     },
     "execution_count": 502,
     "metadata": {},
     "output_type": "execute_result"
    },
    {
     "data": {
      "image/png": "[encoded data removed]",
      "text/plain": [
       "<matplotlib.figure.Figure at 0x7f5ccc8f8e90>"
      ]
     },
     "metadata": {},
     "output_type": "display_data"
    }
   ],
   "source": [
    "iterP = iterationPrior()\n",
    "iterP.set_value(2.)\n",
    "plt.plot(range(10), iterP.pmf(range(10)))"
   ]
  },
  {
   "cell_type": "code",
   "execution_count": 536,
   "metadata": {},
   "outputs": [
    {
     "name": "stdout",
     "output_type": "stream",
     "text": [
      "[[10.5 20. ]\n",
      " [23.  20. ]\n",
      " [19.  18. ]\n",
      " [12.5 17.5]\n",
      " [17.5 30. ]\n",
      " [12.  24.5]\n",
      " [12.  17. ]\n",
      " [17.  16.5]\n",
      " [21.5  9. ]]\n"
     ]
    },
    {
     "data": {
      "text/plain": [
       "<matplotlib.image.AxesImage at 0x7f5ccb8aff90>"
      ]
     },
     "execution_count": 536,
     "metadata": {},
     "output_type": "execute_result"
    },
    {
     "data": {
      "image/png": "[encoded data removed]",
      "text/plain": [
       "<matplotlib.figure.Figure at 0x7f5ccb65fad0>"
      ]
     },
     "metadata": {},
     "output_type": "display_data"
    }
   ],
   "source": [
    "D1,D2 = (25,40)\n",
    "smallMap = targetObjectMap.resize((D2,D1))\n",
    "bmo = baseObjectMap(smallMap)\n",
    "print bmo.objectCenters\n",
    "plt.imshow(bmo.objectMap)"
   ]
  },
  {
   "cell_type": "code",
   "execution_count": 537,
   "metadata": {},
   "outputs": [
    {
     "name": "stdout",
     "output_type": "stream",
     "text": [
      "9\n",
      "16\n",
      "ON prob is: 0.499718, should be: 0.500000\n",
      "OFF prob is: 0.500282, should be: 0.500000\n",
      "ON prob is: 0.499837, should be: 0.500000\n"
     ]
    }
   ],
   "source": [
    "cpRows = [5, 10, 15]\n",
    "cpCols = [10, 20, 30]\n",
    "cpI,cpJ = np.meshgrid(cpRows,cpCols)\n",
    "controlPoints = np.array([cpI.flatten(),cpJ.flatten()],dtype=floatX).T\n",
    "\n",
    "# controlPoints = np.array([cpI.flatten(),cpJ.flatten()],dtype=floatX).T\n",
    "# controlPoints = bmo.objectCenters\n",
    "# controlPoints = np.array([20,12],dtype=floatX,ndmin=2)\n",
    "\n",
    "globalAffineParamDictList = global_affine_distortion_set(big=1.1, small=.9, rotate=0, shear = 0, translate=0)\n",
    "gad = distortions(controlPoints,kind='global',distortionParamDictList=globalAffineParamDictList)\n",
    "\n",
    "# localAffineParamDictList = local_affine_distortion_set(big=2.7, small=-2.7)\n",
    "# gad = distortions(controlPoints,kind='local',distortionParamDictList=localAffineParamDictList)\n",
    "\n",
    "print gad.numControlPoints\n",
    "print gad.numDistortions\n",
    "\n",
    "act = activations(actP,gad)\n",
    "actPval = np.empty((act.numActivationStates,act.numActivationVars))\n",
    "actPval[0,:] = .5  #ON state\n",
    "actPval[1,:] = .5  ##OFF state\n",
    "M = 10000\n",
    "samp1hot = act.sample(M=M, pval=actPval)\n",
    "print 'ON prob is: %f, should be: %f' %(samp1hot[:,0,:].astype(floatX).sum()/(M*act.numActivationVars),actPval[0,0])\n",
    "print 'OFF prob is: %f, should be: %f' %(samp1hot[:,1,:].astype(floatX).sum()/(M*act.numActivationVars),actPval[1,0])\n",
    "sampCanonical = act.sample(M=M, pval=actPval, kind='canonical')\n",
    "print 'ON prob is: %f, should be: %f' %(sampCanonical.astype(floatX).mean(), actPval[0,0])"
   ]
  },
  {
   "cell_type": "code",
   "execution_count": 538,
   "metadata": {},
   "outputs": [
    {
     "data": {
      "text/plain": [
       "16"
      ]
     },
     "execution_count": 538,
     "metadata": {},
     "output_type": "execute_result"
    }
   ],
   "source": [
    "len(gad.distortionParamDictList)"
   ]
  },
  {
   "cell_type": "code",
   "execution_count": 539,
   "metadata": {},
   "outputs": [
    {
     "name": "stdout",
     "output_type": "stream",
     "text": [
      "(10000, 4, 1)\n",
      "prob is: 0.000000, should be: 0.000000\n",
      "prob is: 1.000000, should be: 1.000000\n",
      "prob is: 0.000000, should be: 0.000000\n",
      "prob is: 0.000000, should be: 0.000000\n"
     ]
    },
    {
     "data": {
      "image/png": "[encoded data removed]",
      "text/plain": [
       "<matplotlib.figure.Figure at 0x7f5ccb701dd0>"
      ]
     },
     "metadata": {},
     "output_type": "display_data"
    }
   ],
   "source": [
    "it = iterations(iterP,numIterationVars=1,numIterationStates=4)\n",
    "itPval = np.empty((it.numIterationStates,it.numIterationVars))\n",
    "\n",
    "itPval[0,:] = 0.  #no iterations\n",
    "itPval[1,:] = 1.0  ##1 iterations\n",
    "itPval[2,:] = .0  ##2 iterations\n",
    "itPval[3,:] = 0.0  ##3 iterations\n",
    "\n",
    "M = 10000\n",
    "samp1hot = it.sample(M=M, pval=itPval)\n",
    "print samp1hot.shape\n",
    "\n",
    "for i,p in enumerate(itPval[:,0]):\n",
    "    print 'prob is: %f, should be: %f' %(samp1hot[:,i,:].astype(floatX).sum()/(M*it.numIterationVars),p)\n",
    "\n",
    "sampCanonical = it.sample(M=M, pval=itPval, kind='canonical')\n",
    "sampCanonical.shape\n",
    "_=plt.hist(sampCanonical,bins=[0,1,2,3,4],density=True, align='left', rwidth=.3)\n",
    "# for i,p in enumerate(pval[:,0]):\n",
    "#     print 'prob is: %f, should be: %f' %(samp1hot[:,i,:].astype(floatX).sum()/(M*it.numIterationVars),p)"
   ]
  },
  {
   "cell_type": "code",
   "execution_count": 556,
   "metadata": {
    "scrolled": true
   },
   "outputs": [
    {
     "name": "stdout",
     "output_type": "stream",
     "text": [
      "(1, 9, 1000)\n",
      "[1 1 0 1 1 1 1 1 1 1 1 0 0 1 0 0 1 1 1 1 0 0 0 1 0 0 1 0 0 0 1 0 0 1 0 0 1\n",
      " 1 1 0 0 1 0 1 1 1 0 1 1 1 0 1 1 0 1 0 1 1 1 0 0 1 0 1 1 1 1 1 1 1 0 1 1 1\n",
      " 1 0 0 0 0 1 0 1 1 1 0 1 1 0 0 0 0 1 0 0 1 0 0 0 1 1 1 1 1 0 0 0 1 0 0 1 0\n",
      " 1 1 1 1 1 0 1 0 0 0 1 0 1 0 0 1 1 1 1 1 0 0 0 0 1 0 1 1 1 0 1 1 1]\n",
      "[1]\n"
     ]
    },
    {
     "data": {
      "image/png": "[encoded data removed]",
      "text/plain": [
       "<matplotlib.figure.Figure at 0x7f5ccc419890>"
      ]
     },
     "metadata": {},
     "output_type": "display_data"
    }
   ],
   "source": [
    "lom = latentObjectMap(act,it,bmo)\n",
    "plt.subplot(1,2,1)\n",
    "plt.imshow(lom._get_base_map())\n",
    "plt.subplot(1,2,2)\n",
    "warped1hot,actSample,itSample,dp = lom.sample(M=1,activationProbs=actPval,iterationProbs=itPval, kind='1hot')\n",
    "print warped1hot.shape\n",
    "targetZ1hot = warped1hot[:1]\n",
    "targetAct = actSample[0,:]\n",
    "targetIter = itSample[0,:]\n",
    "_=lom.convert1hot_to_image(targetZ1hot,show=True)\n",
    "print targetAct\n",
    "print targetIter"
   ]
  },
  {
   "cell_type": "code",
   "execution_count": 557,
   "metadata": {},
   "outputs": [
    {
     "data": {
      "text/plain": [
       "(-1.9500000000000002, 40.95, -1.2521453004683107, 26.295051309834523)"
      ]
     },
     "execution_count": 557,
     "metadata": {},
     "output_type": "execute_result"
    },
    {
     "data": {
      "image/png": "[encoded data removed]",
      "text/plain": [
       "<matplotlib.figure.Figure at 0x7f5ccbe713d0>"
      ]
     },
     "metadata": {},
     "output_type": "display_data"
    }
   ],
   "source": [
    "plt.plot(lom.baseObjectMap.sourcePoints[:,0],lom.baseObjectMap.sourcePoints[:,1], 'r.')\n",
    "plt.plot(dp[:,0],dp[:,1], 'ko')\n",
    "plt.axis('image')"
   ]
  },
  {
   "cell_type": "code",
   "execution_count": 476,
   "metadata": {},
   "outputs": [],
   "source": [
    "flurb = lom._get_base_map()\n"
   ]
  },
  {
   "cell_type": "code",
   "execution_count": 490,
   "metadata": {},
   "outputs": [
    {
     "data": {
      "text/plain": [
       "<matplotlib.image.AxesImage at 0x7f5ccc9dc410>"
      ]
     },
     "execution_count": 490,
     "metadata": {},
     "output_type": "execute_result"
    },
    {
     "data": {
      "image/png": "[encoded data removed]",
      "text/plain": [
       "<matplotlib.figure.Figure at 0x7f5ccca8e210>"
      ]
     },
     "metadata": {},
     "output_type": "display_data"
    }
   ],
   "source": [
    "plt.imshow(flurb.flatten().reshape((D1,D2)))"
   ]
  },
  {
   "cell_type": "code",
   "execution_count": 497,
   "metadata": {},
   "outputs": [
    {
     "data": {
      "text/plain": [
       "<matplotlib.image.AxesImage at 0x7f5ccc6f50d0>"
      ]
     },
     "execution_count": 497,
     "metadata": {},
     "output_type": "execute_result"
    },
    {
     "data": {
      "image/png": "[encoded data removed]",
      "text/plain": [
       "<matplotlib.figure.Figure at 0x7f5ccc723090>"
      ]
     },
     "metadata": {},
     "output_type": "display_data"
    }
   ],
   "source": [
    "blarg = griddata(lom.baseObjectMap.sourcePoints[:,[0,1]]+5, flurb.T.flatten(), lom.baseObjectMap.sourcePoints[:,[0,1]], method='nearest').reshape((D2,D1)).T\n",
    "plt.imshow(blarg)"
   ]
  },
  {
   "cell_type": "code",
   "execution_count": 487,
   "metadata": {},
   "outputs": [
    {
     "data": {
      "text/plain": [
       "array([[ 0.,  0.],\n",
       "       [ 0.,  1.],\n",
       "       [ 0.,  2.],\n",
       "       ...,\n",
       "       [25., 22.],\n",
       "       [25., 23.],\n",
       "       [25., 24.]])"
      ]
     },
     "execution_count": 487,
     "metadata": {},
     "output_type": "execute_result"
    }
   ],
   "source": [
    "lom.baseObjectMap.sourcePoints"
   ]
  },
  {
   "cell_type": "code",
   "execution_count": 465,
   "metadata": {},
   "outputs": [],
   "source": [
    "from scipy.ndimage import map_coordinates"
   ]
  },
  {
   "cell_type": "code",
   "execution_count": 438,
   "metadata": {},
   "outputs": [
    {
     "ename": "RuntimeError",
     "evalue": "invalid shape for coordinate array",
     "output_type": "error",
     "traceback": [
      "\u001b[0;31m---------------------------------------------------------------------------\u001b[0m",
      "\u001b[0;31mRuntimeError\u001b[0m                              Traceback (most recent call last)",
      "\u001b[0;32m<ipython-input-438-16690a8a81e3>\u001b[0m in \u001b[0;36m<module>\u001b[0;34m()\u001b[0m\n\u001b[0;32m----> 1\u001b[0;31m \u001b[0mmap_coordinates\u001b[0m\u001b[0;34m(\u001b[0m\u001b[0mflurb\u001b[0m\u001b[0;34m,\u001b[0m \u001b[0mdp\u001b[0m\u001b[0;34m)\u001b[0m\u001b[0;34m\u001b[0m\u001b[0m\n\u001b[0m",
      "\u001b[0;32m/usr/local/lib/python2.7/dist-packages/scipy/ndimage/interpolation.pyc\u001b[0m in \u001b[0;36mmap_coordinates\u001b[0;34m(input, coordinates, output, order, mode, cval, prefilter)\u001b[0m\n\u001b[1;32m    332\u001b[0m         \u001b[0;32mraise\u001b[0m \u001b[0mRuntimeError\u001b[0m\u001b[0;34m(\u001b[0m\u001b[0;34m'input and output rank must be > 0'\u001b[0m\u001b[0;34m)\u001b[0m\u001b[0;34m\u001b[0m\u001b[0m\n\u001b[1;32m    333\u001b[0m     \u001b[0;32mif\u001b[0m \u001b[0mcoordinates\u001b[0m\u001b[0;34m.\u001b[0m\u001b[0mshape\u001b[0m\u001b[0;34m[\u001b[0m\u001b[0;36m0\u001b[0m\u001b[0;34m]\u001b[0m \u001b[0;34m!=\u001b[0m \u001b[0minput\u001b[0m\u001b[0;34m.\u001b[0m\u001b[0mndim\u001b[0m\u001b[0;34m:\u001b[0m\u001b[0;34m\u001b[0m\u001b[0m\n\u001b[0;32m--> 334\u001b[0;31m         \u001b[0;32mraise\u001b[0m \u001b[0mRuntimeError\u001b[0m\u001b[0;34m(\u001b[0m\u001b[0;34m'invalid shape for coordinate array'\u001b[0m\u001b[0;34m)\u001b[0m\u001b[0;34m\u001b[0m\u001b[0m\n\u001b[0m\u001b[1;32m    335\u001b[0m     \u001b[0mmode\u001b[0m \u001b[0;34m=\u001b[0m \u001b[0m_extend_mode_to_code\u001b[0m\u001b[0;34m(\u001b[0m\u001b[0mmode\u001b[0m\u001b[0;34m)\u001b[0m\u001b[0;34m\u001b[0m\u001b[0m\n\u001b[1;32m    336\u001b[0m     \u001b[0;32mif\u001b[0m \u001b[0mprefilter\u001b[0m \u001b[0;32mand\u001b[0m \u001b[0morder\u001b[0m \u001b[0;34m>\u001b[0m \u001b[0;36m1\u001b[0m\u001b[0;34m:\u001b[0m\u001b[0;34m\u001b[0m\u001b[0m\n",
      "\u001b[0;31mRuntimeError\u001b[0m: invalid shape for coordinate array"
     ]
    }
   ],
   "source": [
    "map_coordinates(flurb, dp)"
   ]
  },
  {
   "cell_type": "code",
   "execution_count": 368,
   "metadata": {},
   "outputs": [
    {
     "data": {
      "text/plain": [
       "(25, 40)"
      ]
     },
     "execution_count": 368,
     "metadata": {},
     "output_type": "execute_result"
    }
   ],
   "source": [
    "flurb = lom._get_base_map()\n",
    "flurb.shape"
   ]
  },
  {
   "cell_type": "code",
   "execution_count": 24,
   "metadata": {},
   "outputs": [],
   "source": [
    "##windows\n",
    "DPrime1,DPrime2 = 2*D1, 2*D2 ##this gives the \"native resolution\" of the windows\n",
    "shape = (DPrime1,DPrime2)\n",
    "baseShape = (12, 12) ##size in pixels of the smallest probes\n",
    "numScales = 4 ##number of probe sizes between smallest and native resolution\n",
    "stride = 1 ##how far each probe travels when constructing probes, as a fraction of probe size\n",
    "numRandProbes = 220 ##number of non-contiguous probes\n",
    "randProbeOrder = (2, 3) ##non-contig probes will contain this many patches (range of)\n",
    "windows = probes() ##instantiate a windows object\n",
    "W = windows.make_windows(shape, baseShape, numScales, stride, numRandProbes, randProbeOrder) ##create the windows\n",
    "\n",
    "##now, we want to downsample the windows to a more manageable \"working\" resolution.\n",
    "##to do this, we first calculate all of the downsamples that have integer dimensions and preserve the aspect ratio\n",
    "##we set workingScale=n to choose the nth smallest resolution as our working resolution. \n",
    "##NOTE: THIS DOESN'T REALLY WORK BECAUSE EACH NATIVE RESOLUTIONI NEEDS TO BE CLEANLY DIVISIBLE BY WORKING RESOLUTION.\n",
    "##FOR THE \"UPSAMPLING\" OF Z TO WORK. SO, BEST JUST TO WORK WITH NATIVE RESOLUTIONS THAT ARE POWERS OF SOME NUMBER.\n",
    "##LIKE, SAY, 2.\n",
    "#resolutions, workingResolution = windows.resolve(shape, workingScale=-1) \n",
    "\n",
    "##Given the above, we'll just set the working resolution by hand\n",
    "workingResolution = (64,64)\n",
    "\n",
    "##next, we downsample the windows, and set_value\n",
    "windows.set_value(windows.reshape(W, workingResolution),flatten=True)"
   ]
  },
  {
   "cell_type": "code",
   "execution_count": 27,
   "metadata": {},
   "outputs": [
    {
     "data": {
      "text/plain": [
       "(229, 4096)"
      ]
     },
     "execution_count": 27,
     "metadata": {},
     "output_type": "execute_result"
    }
   ],
   "source": [
    "vi.responses.windows.shape"
   ]
  },
  {
   "cell_type": "code",
   "execution_count": 25,
   "metadata": {
    "scrolled": true
   },
   "outputs": [
    {
     "name": "stdout",
     "output_type": "stream",
     "text": [
      "total observations: 229\n"
     ]
    },
    {
     "data": {
      "image/png": "[encoded data removed]",
      "text/plain": [
       "<matplotlib.figure.Figure at 0x7f5cde25d6d0>"
      ]
     },
     "metadata": {},
     "output_type": "display_data"
    }
   ],
   "source": [
    "noize = noiseParams()\n",
    "\n",
    "##response object\n",
    "r = behavior(lom,noize)\n",
    "pon = .95\n",
    "\n",
    "poff = 0.0500000001\n",
    "r.set_values(windows=windows)\n",
    "data = r.sample(targetZ1hot,pon,poff)\n",
    "r.set_values(data=data)\n",
    "K = r.Z._get_num_objects()\n",
    "\n",
    "print 'total observations: %d' %(r.N)\n",
    "_=plt.hist(r.observations,bins=range(0,K+2),rwidth = .5, align='left')"
   ]
  },
  {
   "cell_type": "code",
   "execution_count": 26,
   "metadata": {
    "scrolled": true
   },
   "outputs": [
    {
     "name": "stdout",
     "output_type": "stream",
     "text": [
      "!new best!\n",
      "ELBO: -1151.122070\n",
      "goodness of fit: -1164.946167\n",
      "posterior_entropy: 13.824134\n",
      "mean log of predictive distribution over test samples: -6.031566\n",
      "percent correct over test samples: 7.317073\n",
      "\n",
      "\n",
      "!new best!\n",
      "ELBO: -238.238235\n",
      "goodness of fit: -238.257584\n",
      "posterior_entropy: 0.019342\n",
      "mean log of predictive distribution over test samples: -1.494730\n",
      "percent correct over test samples: 17.073171\n",
      "\n",
      "\n"
     ]
    },
    {
     "ename": "KeyboardInterrupt",
     "evalue": "",
     "output_type": "error",
     "traceback": [
      "\u001b[0;31m---------------------------------------------------------------------------\u001b[0m",
      "\u001b[0;31mKeyboardInterrupt\u001b[0m                         Traceback (most recent call last)",
      "\u001b[0;32m<ipython-input-26-46370f4e2aeb>\u001b[0m in \u001b[0;36m<module>\u001b[0;34m()\u001b[0m\n\u001b[1;32m     18\u001b[0m                      \u001b[0mmaxNumIterations\u001b[0m\u001b[0;34m,\u001b[0m\u001b[0;31m \u001b[0m\u001b[0;31m\\\u001b[0m\u001b[0;34m\u001b[0m\u001b[0m\n\u001b[1;32m     19\u001b[0m                      \u001b[0mtrainTestSplit\u001b[0m\u001b[0;34m,\u001b[0m \u001b[0mtrainRegSplit\u001b[0m\u001b[0;34m,\u001b[0m\u001b[0;31m \u001b[0m\u001b[0;31m\\\u001b[0m\u001b[0;34m\u001b[0m\u001b[0m\n\u001b[0;32m---> 20\u001b[0;31m                      \u001b[0mrandinit\u001b[0m \u001b[0;34m=\u001b[0m \u001b[0mTrue\u001b[0m\u001b[0;34m\u001b[0m\u001b[0m\n\u001b[0m\u001b[1;32m     21\u001b[0m                      )\n",
      "\u001b[0;32m<ipython-input-17-08587a443f21>\u001b[0m in \u001b[0;36mrun_VI\u001b[0;34m(self, pOnInit, pOffInit, noiseParamNumber, numSamples, maxEpochs, trainTestSplit, trainRegSplit, randinit)\u001b[0m\n\u001b[1;32m    531\u001b[0m \u001b[0;34m\u001b[0m\u001b[0m\n\u001b[1;32m    532\u001b[0m             \u001b[0;31m##coordinate ascent on variational posteriors of distortion activations/iterations\u001b[0m\u001b[0;34m\u001b[0m\u001b[0;34m\u001b[0m\u001b[0m\n\u001b[0;32m--> 533\u001b[0;31m             \u001b[0mqA\u001b[0m \u001b[0;34m=\u001b[0m \u001b[0mself\u001b[0m\u001b[0;34m.\u001b[0m\u001b[0mupdate_qA\u001b[0m\u001b[0;34m(\u001b[0m\u001b[0mqA\u001b[0m\u001b[0;34m,\u001b[0m \u001b[0mqt\u001b[0m\u001b[0;34m,\u001b[0m \u001b[0mnoiseParamStarIdx\u001b[0m\u001b[0;34m)\u001b[0m\u001b[0;34m\u001b[0m\u001b[0m\n\u001b[0m\u001b[1;32m    534\u001b[0m             \u001b[0mqt\u001b[0m \u001b[0;34m=\u001b[0m \u001b[0mself\u001b[0m\u001b[0;34m.\u001b[0m\u001b[0mupdate_qt\u001b[0m\u001b[0;34m(\u001b[0m\u001b[0mqA\u001b[0m\u001b[0;34m,\u001b[0m\u001b[0mqt\u001b[0m\u001b[0;34m,\u001b[0m \u001b[0mnoiseParamStarIdx\u001b[0m\u001b[0;34m)\u001b[0m\u001b[0;34m\u001b[0m\u001b[0m\n\u001b[1;32m    535\u001b[0m \u001b[0;34m\u001b[0m\u001b[0m\n",
      "\u001b[0;32m<ipython-input-17-08587a443f21>\u001b[0m in \u001b[0;36mupdate_qA\u001b[0;34m(self, qA, qt, noiseParamStarIdx)\u001b[0m\n\u001b[1;32m    226\u001b[0m             \u001b[0mqA_copy\u001b[0m\u001b[0;34m[\u001b[0m\u001b[0;36m1\u001b[0m\u001b[0;34m,\u001b[0m\u001b[0mn\u001b[0m\u001b[0;34m]\u001b[0m \u001b[0;34m=\u001b[0m \u001b[0;36m0\u001b[0m  \u001b[0;31m##set prob of OFF to 0\u001b[0m\u001b[0;34m\u001b[0m\u001b[0m\n\u001b[1;32m    227\u001b[0m             \u001b[0;31m#M x K x D\u001b[0m\u001b[0;34m\u001b[0m\u001b[0;34m\u001b[0m\u001b[0m\n\u001b[0;32m--> 228\u001b[0;31m             \u001b[0msampledZ\u001b[0m\u001b[0;34m,\u001b[0m\u001b[0m_\u001b[0m\u001b[0;34m,\u001b[0m\u001b[0m_\u001b[0m \u001b[0;34m=\u001b[0m \u001b[0mself\u001b[0m\u001b[0;34m.\u001b[0m\u001b[0mresponses\u001b[0m\u001b[0;34m.\u001b[0m\u001b[0mZ\u001b[0m\u001b[0;34m.\u001b[0m\u001b[0msample\u001b[0m\u001b[0;34m(\u001b[0m\u001b[0mM\u001b[0m\u001b[0;34m=\u001b[0m\u001b[0mself\u001b[0m\u001b[0;34m.\u001b[0m\u001b[0mnumSamples\u001b[0m\u001b[0;34m,\u001b[0m \u001b[0mactivationProbs\u001b[0m\u001b[0;34m=\u001b[0m\u001b[0mqA_copy\u001b[0m\u001b[0;34m,\u001b[0m \u001b[0miterationProbs\u001b[0m\u001b[0;34m=\u001b[0m\u001b[0mqt\u001b[0m\u001b[0;34m)\u001b[0m\u001b[0;34m\u001b[0m\u001b[0m\n\u001b[0m\u001b[1;32m    229\u001b[0m             \u001b[0;31m#M x N\u001b[0m\u001b[0;34m\u001b[0m\u001b[0;34m\u001b[0m\u001b[0m\n\u001b[1;32m    230\u001b[0m             \u001b[0moc_counts\u001b[0m \u001b[0;34m=\u001b[0m \u001b[0mself\u001b[0m\u001b[0;34m.\u001b[0m\u001b[0mresponses\u001b[0m\u001b[0;34m.\u001b[0m\u001b[0mcompute_feature\u001b[0m\u001b[0;34m(\u001b[0m\u001b[0msampledZ\u001b[0m\u001b[0;34m,\u001b[0m\u001b[0mwinIdx\u001b[0m\u001b[0;34m=\u001b[0m\u001b[0mself\u001b[0m\u001b[0;34m.\u001b[0m\u001b[0mcurIdx\u001b[0m\u001b[0;34m)\u001b[0m\u001b[0;34m\u001b[0m\u001b[0m\n",
      "\u001b[0;32m<ipython-input-15-6e06a83fda29>\u001b[0m in \u001b[0;36msample\u001b[0;34m(self, M, activationProbs, iterationProbs, kind)\u001b[0m\n\u001b[1;32m     45\u001b[0m             \u001b[0mactList\u001b[0m \u001b[0;34m=\u001b[0m \u001b[0mactivations\u001b[0m\u001b[0;34m[\u001b[0m\u001b[0mm\u001b[0m\u001b[0;34m]\u001b[0m\u001b[0;34m.\u001b[0m\u001b[0mtolist\u001b[0m\u001b[0;34m(\u001b[0m\u001b[0;34m)\u001b[0m\u001b[0;34m\u001b[0m\u001b[0m\n\u001b[1;32m     46\u001b[0m             \u001b[0miters\u001b[0m \u001b[0;34m=\u001b[0m \u001b[0mnp\u001b[0m\u001b[0;34m.\u001b[0m\u001b[0mcopy\u001b[0m\u001b[0;34m(\u001b[0m\u001b[0miterations\u001b[0m\u001b[0;34m[\u001b[0m\u001b[0mm\u001b[0m\u001b[0;34m]\u001b[0m\u001b[0;34m)\u001b[0m\u001b[0;34m\u001b[0m\u001b[0m\n\u001b[0;32m---> 47\u001b[0;31m             \u001b[0mdisplacedPoints\u001b[0m \u001b[0;34m=\u001b[0m \u001b[0mcompose_and_iterate\u001b[0m\u001b[0;34m(\u001b[0m\u001b[0msourcePoints\u001b[0m\u001b[0;34m,\u001b[0m \u001b[0mxFormFuncList\u001b[0m\u001b[0;34m,\u001b[0m \u001b[0mactList\u001b[0m\u001b[0;34m,\u001b[0m \u001b[0miters\u001b[0m\u001b[0;34m)\u001b[0m\u001b[0;34m\u001b[0m\u001b[0m\n\u001b[0m\u001b[1;32m     48\u001b[0m             \u001b[0mobjectMapStackCanonical\u001b[0m\u001b[0;34m[\u001b[0m\u001b[0mm\u001b[0m\u001b[0;34m,\u001b[0m\u001b[0;34m:\u001b[0m\u001b[0;34m,\u001b[0m\u001b[0;34m:\u001b[0m\u001b[0;34m]\u001b[0m \u001b[0;34m=\u001b[0m \u001b[0mgriddata\u001b[0m\u001b[0;34m(\u001b[0m\u001b[0mdisplacedPoints\u001b[0m\u001b[0;34m,\u001b[0m \u001b[0mbaseMap\u001b[0m\u001b[0;34m,\u001b[0m \u001b[0msourcePoints\u001b[0m\u001b[0;34m,\u001b[0m \u001b[0mmethod\u001b[0m\u001b[0;34m=\u001b[0m\u001b[0;34m'nearest'\u001b[0m\u001b[0;34m)\u001b[0m\u001b[0;34m.\u001b[0m\u001b[0mreshape\u001b[0m\u001b[0;34m(\u001b[0m\u001b[0;34m(\u001b[0m\u001b[0mD1\u001b[0m\u001b[0;34m,\u001b[0m\u001b[0mD2\u001b[0m\u001b[0;34m)\u001b[0m\u001b[0;34m)\u001b[0m\u001b[0;34m\u001b[0m\u001b[0m\n\u001b[1;32m     49\u001b[0m         \u001b[0;32mif\u001b[0m \u001b[0mkind\u001b[0m \u001b[0;34m==\u001b[0m \u001b[0;34m'1hot'\u001b[0m\u001b[0;34m:\u001b[0m\u001b[0;34m\u001b[0m\u001b[0m\n",
      "\u001b[0;32m<ipython-input-5-c40296b29d8e>\u001b[0m in \u001b[0;36mcompose_and_iterate\u001b[0;34m(sourcePoints, transformFuncList, activations, iterations)\u001b[0m\n\u001b[1;32m     25\u001b[0m         \u001b[0;31m##reduce iterations\u001b[0m\u001b[0;34m\u001b[0m\u001b[0;34m\u001b[0m\u001b[0m\n\u001b[1;32m     26\u001b[0m         \u001b[0miterations\u001b[0m \u001b[0;34m-=\u001b[0m \u001b[0;36m1\u001b[0m\u001b[0;34m\u001b[0m\u001b[0m\n\u001b[0;32m---> 27\u001b[0;31m         \u001b[0;32mreturn\u001b[0m \u001b[0mcompose_and_iterate\u001b[0m\u001b[0;34m(\u001b[0m\u001b[0mdisplacedPoints\u001b[0m\u001b[0;34m,\u001b[0m \u001b[0mtransformFuncList\u001b[0m\u001b[0;34m,\u001b[0m \u001b[0mactivations\u001b[0m\u001b[0;34m,\u001b[0m \u001b[0miterations\u001b[0m\u001b[0;34m=\u001b[0m\u001b[0miterations\u001b[0m\u001b[0;34m)\u001b[0m\u001b[0;34m\u001b[0m\u001b[0m\n\u001b[0m\u001b[1;32m     28\u001b[0m     \u001b[0;32melse\u001b[0m\u001b[0;34m:\u001b[0m\u001b[0;34m\u001b[0m\u001b[0m\n\u001b[1;32m     29\u001b[0m         \u001b[0;32mreturn\u001b[0m \u001b[0mdisplacedPoints\u001b[0m\u001b[0;34m\u001b[0m\u001b[0m\n",
      "\u001b[0;32m<ipython-input-5-c40296b29d8e>\u001b[0m in \u001b[0;36mcompose_and_iterate\u001b[0;34m(sourcePoints, transformFuncList, activations, iterations)\u001b[0m\n\u001b[1;32m     22\u001b[0m             \u001b[0;32mif\u001b[0m \u001b[0;32mnot\u001b[0m \u001b[0ma\u001b[0m\u001b[0;34m:\u001b[0m\u001b[0;34m\u001b[0m\u001b[0m\n\u001b[1;32m     23\u001b[0m                 \u001b[0mxForm\u001b[0m \u001b[0;34m=\u001b[0m \u001b[0;32mlambda\u001b[0m \u001b[0mx\u001b[0m\u001b[0;34m:\u001b[0m \u001b[0mx\u001b[0m\u001b[0;34m\u001b[0m\u001b[0m\n\u001b[0;32m---> 24\u001b[0;31m             \u001b[0mdisplacedPoints\u001b[0m \u001b[0;34m=\u001b[0m \u001b[0mxForm\u001b[0m\u001b[0;34m(\u001b[0m\u001b[0mdisplacedPoints\u001b[0m\u001b[0;34m)\u001b[0m\u001b[0;34m\u001b[0m\u001b[0m\n\u001b[0m\u001b[1;32m     25\u001b[0m         \u001b[0;31m##reduce iterations\u001b[0m\u001b[0;34m\u001b[0m\u001b[0;34m\u001b[0m\u001b[0m\n\u001b[1;32m     26\u001b[0m         \u001b[0miterations\u001b[0m \u001b[0;34m-=\u001b[0m \u001b[0;36m1\u001b[0m\u001b[0;34m\u001b[0m\u001b[0m\n",
      "\u001b[0;32m<ipython-input-11-090849d5529c>\u001b[0m in \u001b[0;36m<lambda>\u001b[0;34m(x, btm, cp)\u001b[0m\n\u001b[1;32m     64\u001b[0m                     \u001b[0mxForm\u001b[0m \u001b[0;34m=\u001b[0m \u001b[0mAffineTransform\u001b[0m\u001b[0;34m(\u001b[0m\u001b[0;34m**\u001b[0m\u001b[0mparamDict\u001b[0m\u001b[0;34m)\u001b[0m\u001b[0;34m\u001b[0m\u001b[0m\n\u001b[1;32m     65\u001b[0m                     \u001b[0mbaseTransformMatrix\u001b[0m \u001b[0;34m=\u001b[0m \u001b[0mxForm\u001b[0m\u001b[0;34m.\u001b[0m\u001b[0mparams\u001b[0m\u001b[0;34m[\u001b[0m\u001b[0;34m:\u001b[0m\u001b[0;36m2\u001b[0m\u001b[0;34m,\u001b[0m\u001b[0;34m:\u001b[0m\u001b[0;36m2\u001b[0m\u001b[0;34m]\u001b[0m\u001b[0;34m.\u001b[0m\u001b[0mastype\u001b[0m\u001b[0;34m(\u001b[0m\u001b[0mfloatX\u001b[0m\u001b[0;34m)\u001b[0m\u001b[0;34m\u001b[0m\u001b[0m\n\u001b[0;32m---> 66\u001b[0;31m                     \u001b[0mself\u001b[0m\u001b[0;34m.\u001b[0m\u001b[0mtransformFuncList\u001b[0m \u001b[0;34m+=\u001b[0m \u001b[0;34m[\u001b[0m\u001b[0;32mlambda\u001b[0m \u001b[0mx\u001b[0m\u001b[0;34m,\u001b[0m \u001b[0mbtm\u001b[0m\u001b[0;34m=\u001b[0m\u001b[0mbaseTransformMatrix\u001b[0m\u001b[0;34m,\u001b[0m \u001b[0mcp\u001b[0m\u001b[0;34m=\u001b[0m\u001b[0mctrlPt\u001b[0m\u001b[0;34m:\u001b[0m \u001b[0mlocal_affine_warp\u001b[0m\u001b[0;34m(\u001b[0m\u001b[0mx\u001b[0m\u001b[0;34m,\u001b[0m\u001b[0mcp\u001b[0m\u001b[0;34m,\u001b[0m\u001b[0mbtm\u001b[0m\u001b[0;34m,\u001b[0m \u001b[0mscaleFunc\u001b[0m\u001b[0;34m)\u001b[0m\u001b[0;34m[\u001b[0m\u001b[0;36m0\u001b[0m\u001b[0;34m]\u001b[0m\u001b[0;34m]\u001b[0m\u001b[0;34m\u001b[0m\u001b[0m\n\u001b[0m\u001b[1;32m     67\u001b[0m         \u001b[0;32melse\u001b[0m\u001b[0;34m:\u001b[0m\u001b[0;34m\u001b[0m\u001b[0m\n\u001b[1;32m     68\u001b[0m             \u001b[0;32mraise\u001b[0m \u001b[0mValueError\u001b[0m\u001b[0;34m(\u001b[0m\u001b[0;34m'keyword \"kind\" must be either \"global\" or \"local\" '\u001b[0m\u001b[0;34m)\u001b[0m\u001b[0;34m\u001b[0m\u001b[0m\n",
      "\u001b[0;32m<ipython-input-5-c40296b29d8e>\u001b[0m in \u001b[0;36mlocal_affine_warp\u001b[0;34m(sourcePoints, controlPoint, baseTransformMatrix, scaleFunction)\u001b[0m\n\u001b[1;32m     36\u001b[0m     \u001b[0mscalars\u001b[0m \u001b[0;34m=\u001b[0m \u001b[0mscaleFunction\u001b[0m\u001b[0;34m(\u001b[0m\u001b[0mr\u001b[0m\u001b[0;34m)\u001b[0m\u001b[0;34m\u001b[0m\u001b[0m\n\u001b[1;32m     37\u001b[0m     \u001b[0mscaledXForms\u001b[0m \u001b[0;34m=\u001b[0m \u001b[0mscalars\u001b[0m\u001b[0;34m[\u001b[0m\u001b[0;34m:\u001b[0m\u001b[0;34m,\u001b[0m\u001b[0;34m:\u001b[0m\u001b[0;34m,\u001b[0m\u001b[0mnp\u001b[0m\u001b[0;34m.\u001b[0m\u001b[0mnewaxis\u001b[0m\u001b[0;34m]\u001b[0m\u001b[0;34m*\u001b[0m\u001b[0mbaseTransformMatrix\u001b[0m\u001b[0;34m\u001b[0m\u001b[0m\n\u001b[0;32m---> 38\u001b[0;31m     \u001b[0mxForms\u001b[0m \u001b[0;34m=\u001b[0m \u001b[0mnp\u001b[0m\u001b[0;34m.\u001b[0m\u001b[0marray\u001b[0m\u001b[0;34m(\u001b[0m\u001b[0mmap\u001b[0m\u001b[0;34m(\u001b[0m\u001b[0mexpm\u001b[0m\u001b[0;34m,\u001b[0m \u001b[0mscaledXForms\u001b[0m\u001b[0;34m)\u001b[0m\u001b[0;34m)\u001b[0m\u001b[0;34m\u001b[0m\u001b[0m\n\u001b[0m\u001b[1;32m     39\u001b[0m \u001b[0;34m\u001b[0m\u001b[0m\n\u001b[1;32m     40\u001b[0m     \u001b[0mdisplacedPoints\u001b[0m \u001b[0;34m=\u001b[0m \u001b[0mnp\u001b[0m\u001b[0;34m.\u001b[0m\u001b[0msum\u001b[0m\u001b[0;34m(\u001b[0m\u001b[0;34m(\u001b[0m\u001b[0msourcePoints\u001b[0m\u001b[0;34m[\u001b[0m\u001b[0;34m:\u001b[0m\u001b[0;34m,\u001b[0m\u001b[0;34m:\u001b[0m\u001b[0;34m,\u001b[0m\u001b[0mnp\u001b[0m\u001b[0;34m.\u001b[0m\u001b[0mnewaxis\u001b[0m\u001b[0;34m]\u001b[0m\u001b[0;34m-\u001b[0m\u001b[0mcontrolPoint\u001b[0m\u001b[0;34m.\u001b[0m\u001b[0mT\u001b[0m\u001b[0;34m)\u001b[0m\u001b[0;34m*\u001b[0m\u001b[0mxForms\u001b[0m\u001b[0;34m,\u001b[0m\u001b[0maxis\u001b[0m\u001b[0;34m=\u001b[0m\u001b[0;36m2\u001b[0m\u001b[0;34m)\u001b[0m\u001b[0;34m+\u001b[0m\u001b[0mcontrolPoint\u001b[0m\u001b[0;34m\u001b[0m\u001b[0m\n",
      "\u001b[0;32m/usr/local/lib/python2.7/dist-packages/scipy/linalg/matfuncs.pyc\u001b[0m in \u001b[0;36mexpm\u001b[0;34m(A)\u001b[0m\n\u001b[1;32m    254\u001b[0m     \u001b[0;31m# Input checking and conversion is provided by sparse.linalg.expm().\u001b[0m\u001b[0;34m\u001b[0m\u001b[0;34m\u001b[0m\u001b[0m\n\u001b[1;32m    255\u001b[0m     \u001b[0;32mimport\u001b[0m \u001b[0mscipy\u001b[0m\u001b[0;34m.\u001b[0m\u001b[0msparse\u001b[0m\u001b[0;34m.\u001b[0m\u001b[0mlinalg\u001b[0m\u001b[0;34m\u001b[0m\u001b[0m\n\u001b[0;32m--> 256\u001b[0;31m     \u001b[0;32mreturn\u001b[0m \u001b[0mscipy\u001b[0m\u001b[0;34m.\u001b[0m\u001b[0msparse\u001b[0m\u001b[0;34m.\u001b[0m\u001b[0mlinalg\u001b[0m\u001b[0;34m.\u001b[0m\u001b[0mexpm\u001b[0m\u001b[0;34m(\u001b[0m\u001b[0mA\u001b[0m\u001b[0;34m)\u001b[0m\u001b[0;34m\u001b[0m\u001b[0m\n\u001b[0m\u001b[1;32m    257\u001b[0m \u001b[0;34m\u001b[0m\u001b[0m\n\u001b[1;32m    258\u001b[0m \u001b[0;34m\u001b[0m\u001b[0m\n",
      "\u001b[0;32m/usr/local/lib/python2.7/dist-packages/scipy/sparse/linalg/matfuncs.pyc\u001b[0m in \u001b[0;36mexpm\u001b[0;34m(A)\u001b[0m\n\u001b[1;32m    600\u001b[0m             [  0.        ,   0.        ,  20.08553692]])\n\u001b[1;32m    601\u001b[0m     \"\"\"\n\u001b[0;32m--> 602\u001b[0;31m     \u001b[0;32mreturn\u001b[0m \u001b[0m_expm\u001b[0m\u001b[0;34m(\u001b[0m\u001b[0mA\u001b[0m\u001b[0;34m,\u001b[0m \u001b[0muse_exact_onenorm\u001b[0m\u001b[0;34m=\u001b[0m\u001b[0;34m'auto'\u001b[0m\u001b[0;34m)\u001b[0m\u001b[0;34m\u001b[0m\u001b[0m\n\u001b[0m\u001b[1;32m    603\u001b[0m \u001b[0;34m\u001b[0m\u001b[0m\n\u001b[1;32m    604\u001b[0m \u001b[0;34m\u001b[0m\u001b[0m\n",
      "\u001b[0;32m/usr/local/lib/python2.7/dist-packages/scipy/sparse/linalg/matfuncs.pyc\u001b[0m in \u001b[0;36m_expm\u001b[0;34m(A, use_exact_onenorm)\u001b[0m\n\u001b[1;32m    643\u001b[0m     \u001b[0;31m# Try Pade order 5.\u001b[0m\u001b[0;34m\u001b[0m\u001b[0;34m\u001b[0m\u001b[0m\n\u001b[1;32m    644\u001b[0m     \u001b[0meta_2\u001b[0m \u001b[0;34m=\u001b[0m \u001b[0mmax\u001b[0m\u001b[0;34m(\u001b[0m\u001b[0mh\u001b[0m\u001b[0;34m.\u001b[0m\u001b[0md4_tight\u001b[0m\u001b[0;34m,\u001b[0m \u001b[0mh\u001b[0m\u001b[0;34m.\u001b[0m\u001b[0md6_loose\u001b[0m\u001b[0;34m)\u001b[0m\u001b[0;34m\u001b[0m\u001b[0m\n\u001b[0;32m--> 645\u001b[0;31m     \u001b[0;32mif\u001b[0m \u001b[0meta_2\u001b[0m \u001b[0;34m<\u001b[0m \u001b[0;36m2.539398330063230e-001\u001b[0m \u001b[0;32mand\u001b[0m \u001b[0m_ell\u001b[0m\u001b[0;34m(\u001b[0m\u001b[0mh\u001b[0m\u001b[0;34m.\u001b[0m\u001b[0mA\u001b[0m\u001b[0;34m,\u001b[0m \u001b[0;36m5\u001b[0m\u001b[0;34m)\u001b[0m \u001b[0;34m==\u001b[0m \u001b[0;36m0\u001b[0m\u001b[0;34m:\u001b[0m\u001b[0;34m\u001b[0m\u001b[0m\n\u001b[0m\u001b[1;32m    646\u001b[0m         \u001b[0mU\u001b[0m\u001b[0;34m,\u001b[0m \u001b[0mV\u001b[0m \u001b[0;34m=\u001b[0m \u001b[0mh\u001b[0m\u001b[0;34m.\u001b[0m\u001b[0mpade5\u001b[0m\u001b[0;34m(\u001b[0m\u001b[0;34m)\u001b[0m\u001b[0;34m\u001b[0m\u001b[0m\n\u001b[1;32m    647\u001b[0m         \u001b[0;32mreturn\u001b[0m \u001b[0m_solve_P_Q\u001b[0m\u001b[0;34m(\u001b[0m\u001b[0mU\u001b[0m\u001b[0;34m,\u001b[0m \u001b[0mV\u001b[0m\u001b[0;34m,\u001b[0m \u001b[0mstructure\u001b[0m\u001b[0;34m=\u001b[0m\u001b[0mstructure\u001b[0m\u001b[0;34m)\u001b[0m\u001b[0;34m\u001b[0m\u001b[0m\n",
      "\u001b[0;32m/usr/local/lib/python2.7/dist-packages/scipy/sparse/linalg/matfuncs.pyc\u001b[0m in \u001b[0;36m_ell\u001b[0;34m(A, m)\u001b[0m\n\u001b[1;32m    850\u001b[0m     \u001b[0malpha\u001b[0m \u001b[0;34m=\u001b[0m \u001b[0mA_abs_onenorm\u001b[0m \u001b[0;34m/\u001b[0m \u001b[0;34m(\u001b[0m\u001b[0m_onenorm\u001b[0m\u001b[0;34m(\u001b[0m\u001b[0mA\u001b[0m\u001b[0;34m)\u001b[0m \u001b[0;34m*\u001b[0m \u001b[0mabs_c_recip\u001b[0m\u001b[0;34m)\u001b[0m\u001b[0;34m\u001b[0m\u001b[0m\n\u001b[1;32m    851\u001b[0m     \u001b[0mlog2_alpha_div_u\u001b[0m \u001b[0;34m=\u001b[0m \u001b[0mnp\u001b[0m\u001b[0;34m.\u001b[0m\u001b[0mlog2\u001b[0m\u001b[0;34m(\u001b[0m\u001b[0malpha\u001b[0m\u001b[0;34m/\u001b[0m\u001b[0mu\u001b[0m\u001b[0;34m)\u001b[0m\u001b[0;34m\u001b[0m\u001b[0m\n\u001b[0;32m--> 852\u001b[0;31m     \u001b[0mvalue\u001b[0m \u001b[0;34m=\u001b[0m \u001b[0mint\u001b[0m\u001b[0;34m(\u001b[0m\u001b[0mnp\u001b[0m\u001b[0;34m.\u001b[0m\u001b[0mceil\u001b[0m\u001b[0;34m(\u001b[0m\u001b[0mlog2_alpha_div_u\u001b[0m \u001b[0;34m/\u001b[0m \u001b[0;34m(\u001b[0m\u001b[0;36m2\u001b[0m \u001b[0;34m*\u001b[0m \u001b[0mm\u001b[0m\u001b[0;34m)\u001b[0m\u001b[0;34m)\u001b[0m\u001b[0;34m)\u001b[0m\u001b[0;34m\u001b[0m\u001b[0m\n\u001b[0m\u001b[1;32m    853\u001b[0m     \u001b[0;32mreturn\u001b[0m \u001b[0mmax\u001b[0m\u001b[0;34m(\u001b[0m\u001b[0mvalue\u001b[0m\u001b[0;34m,\u001b[0m \u001b[0;36m0\u001b[0m\u001b[0;34m)\u001b[0m\u001b[0;34m\u001b[0m\u001b[0m\n",
      "\u001b[0;31mKeyboardInterrupt\u001b[0m: "
     ]
    }
   ],
   "source": [
    "iqA = inferQZ()\n",
    "iqt = inferQZ()\n",
    "oNP = optimizeNoiseParams()\n",
    "vi = variationalImageRegistration(r,iqA,iqt,oNP)\n",
    "\n",
    "##inference algorithm parameters\n",
    "pOn_init, pOff_init = .95, 0.05\n",
    "densityOfNoiseParamGrid = 50\n",
    "numSamplesForComputingObjectCountProbs = 6\n",
    "maxNumIterations = 10\n",
    "trainTestSplit = .9\n",
    "trainRegSplit = .8\n",
    "\n",
    "epochs =   vi.run_VI(\n",
    "                     pOn_init, pOff_init, \\\n",
    "                     densityOfNoiseParamGrid, \\\n",
    "                     numSamplesForComputingObjectCountProbs, \\\n",
    "                     maxNumIterations, \\\n",
    "                     trainTestSplit, trainRegSplit, \\\n",
    "                     randinit = True\n",
    "                     )"
   ]
  },
  {
   "cell_type": "code",
   "execution_count": 28,
   "metadata": {},
   "outputs": [],
   "source": [
    "foo = to_one_hot_func(vi.responses.Z.baseObjectMap.objectMap.astype(intX).flatten(), 9).astype(intX).T.reshape((1,9,D1*D2))"
   ]
  },
  {
   "cell_type": "code",
   "execution_count": null,
   "metadata": {},
   "outputs": [],
   "source": [
    "np.random.multinomial"
   ]
  },
  {
   "cell_type": "code",
   "execution_count": null,
   "metadata": {},
   "outputs": [],
   "source": [
    "plt.plot(vi.ELBO_history[:epochs])"
   ]
  },
  {
   "cell_type": "code",
   "execution_count": null,
   "metadata": {},
   "outputs": [],
   "source": [
    "plt.plot(vi.percentCorrect_history[:epochs])"
   ]
  },
  {
   "cell_type": "code",
   "execution_count": null,
   "metadata": {},
   "outputs": [],
   "source": [
    "\n",
    "plt.plot(vi.bestQA[0,:], 'k')\n",
    "plt.plot(targetAct, 'r')"
   ]
  },
  {
   "cell_type": "code",
   "execution_count": null,
   "metadata": {},
   "outputs": [],
   "source": [
    "print vi.bestNoiseParam\n",
    "print vi.bestPercentCorrect"
   ]
  },
  {
   "cell_type": "code",
   "execution_count": null,
   "metadata": {
    "scrolled": true
   },
   "outputs": [],
   "source": [
    "warpedCanonical,actSample,itSample = lom.sample(M=1,activationProbs=vi.bestQA,iterationProbs=vi.bestQt, kind='canonical')"
   ]
  },
  {
   "cell_type": "code",
   "execution_count": null,
   "metadata": {},
   "outputs": [],
   "source": [
    "plt.subplot(1,3,1)\n",
    "plt.imshow(lom.baseObjectMap.objectMap)\n",
    "plt.title('base')\n",
    "plt.subplot(1,3,2)\n",
    "_=lom.convert1hot_to_image(targetZ1hot,show=True)\n",
    "plt.title('target')\n",
    "plt.subplot(1,3,3)\n",
    "plt.imshow(warpedCanonical[0])\n",
    "plt.title('learned warp')"
   ]
  },
  {
   "cell_type": "code",
   "execution_count": null,
   "metadata": {},
   "outputs": [],
   "source": [
    "vi.bestQt"
   ]
  },
  {
   "cell_type": "markdown",
   "metadata": {},
   "source": [
    "### ==============================TOSSED============================================"
   ]
  },
  {
   "cell_type": "code",
   "execution_count": null,
   "metadata": {},
   "outputs": [],
   "source": [
    "pdb"
   ]
  },
  {
   "cell_type": "code",
   "execution_count": null,
   "metadata": {},
   "outputs": [],
   "source": []
  },
  {
   "cell_type": "code",
   "execution_count": null,
   "metadata": {},
   "outputs": [],
   "source": []
  },
  {
   "cell_type": "code",
   "execution_count": null,
   "metadata": {},
   "outputs": [],
   "source": []
  },
  {
   "cell_type": "code",
   "execution_count": null,
   "metadata": {},
   "outputs": [],
   "source": []
  },
  {
   "cell_type": "code",
   "execution_count": null,
   "metadata": {},
   "outputs": [],
   "source": []
  },
  {
   "cell_type": "code",
   "execution_count": null,
   "metadata": {},
   "outputs": [],
   "source": []
  },
  {
   "cell_type": "code",
   "execution_count": null,
   "metadata": {},
   "outputs": [],
   "source": []
  },
  {
   "cell_type": "code",
   "execution_count": null,
   "metadata": {},
   "outputs": [],
   "source": []
  },
  {
   "cell_type": "code",
   "execution_count": null,
   "metadata": {},
   "outputs": [],
   "source": []
  }
 ],
 "metadata": {
  "kernelspec": {
   "display_name": "Python 2",
   "language": "python",
   "name": "python2"
  },
  "language_info": {
   "codemirror_mode": {
    "name": "ipython",
    "version": 2
   },
   "file_extension": ".py",
   "mimetype": "text/x-python",
   "name": "python",
   "nbconvert_exporter": "python",
   "pygments_lexer": "ipython2",
   "version": "2.7.12"
  }
 },
 "nbformat": 4,
 "nbformat_minor": 2
}
