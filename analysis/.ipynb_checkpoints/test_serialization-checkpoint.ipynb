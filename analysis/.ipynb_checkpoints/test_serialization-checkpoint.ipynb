{
 "metadata": {
  "name": "",
  "signature": "sha256:b711b1218398c998993c706f5502b7d3fca5a3c3a0e32e8eb93914ac85a0867f"
 },
 "nbformat": 3,
 "nbformat_minor": 0,
 "worksheets": []
}