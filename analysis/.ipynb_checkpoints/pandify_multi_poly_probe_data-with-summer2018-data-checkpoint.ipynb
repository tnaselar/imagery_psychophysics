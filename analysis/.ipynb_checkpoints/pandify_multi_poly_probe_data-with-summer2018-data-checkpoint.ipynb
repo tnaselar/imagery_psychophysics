{
 "cells": [
  {
   "cell_type": "code",
   "execution_count": 1,
   "metadata": {},
   "outputs": [],
   "source": [
    "import re\n",
    "import numpy as np\n",
    "import pandas as pd\n",
    "from matplotlib import pyplot as plt\n",
    "import os\n",
    "%matplotlib inline"
   ]
  },
  {
   "cell_type": "markdown",
   "metadata": {},
   "source": [
    "### Parse logfiles for first three subjects (z1, KL, and AS, 2015) and three more subjects (ltd, gsy, mb, 2018)"
   ]
  },
  {
   "cell_type": "code",
   "execution_count": 2,
   "metadata": {},
   "outputs": [],
   "source": [
    "subjects = {}\n",
    "\n",
    "probe_images_path = '/home/tnaselar/FAST/imagery_psychophysics/multi_poly_probes/'\n",
    "\n",
    "subjects['KL'] = {}\n",
    "subjects['KL']['sourcefile'] = probe_images_path+'data/KL_2015_May_05_0828.log'\n",
    "\n",
    "subjects['z1'] = {}\n",
    "subjects['z1']['sourcefile'] = probe_images_path+'data/z1_2015_May_05_1518.log'\n",
    "\n",
    "subjects['AS'] = {}\n",
    "subjects['AS']['sourcefile'] = probe_images_path+'data/AS_2015_May_13_1320.log'\n",
    "\n",
    "subjects['gsy'] = {}\n",
    "subjects['gsy']['sourcefile'] = probe_images_path+'data/summer2018/GSY_2018_Jul_23_1339.log'\n",
    "\n",
    "subjects['ltd'] = {}\n",
    "subjects['ltd']['sourcefile'] = probe_images_path+'data/summer2018/ltd_2018_Jun_16_1126.log'\n",
    "\n",
    "# subjects['MB'] = {}\n",
    "# subjects['MB']['sourcefile'] = probe_images_path+'data/summer2018/MB_2018_Jun_21_0935.log'\n",
    "\n",
    "\n",
    "save_path = '/home/tnaselar/FAST/imagery_psychophysics/multi_poly_probes/data/'\n",
    "\n",
    "max_images_per_exp = 4\n",
    "\n",
    "\n",
    "imagery_marker = '_img_'\n",
    "perception_marker = '_pcp_'\n",
    "\n",
    "subject_table = pd.DataFrame(subjects)\n",
    "\n",
    "number_of_lines_in_chunk = 3"
   ]
  },
  {
   "cell_type": "code",
   "execution_count": 3,
   "metadata": {},
   "outputs": [
    {
     "data": {
      "text/html": [
       "<div>\n",
       "<style scoped>\n",
       "    .dataframe tbody tr th:only-of-type {\n",
       "        vertical-align: middle;\n",
       "    }\n",
       "\n",
       "    .dataframe tbody tr th {\n",
       "        vertical-align: top;\n",
       "    }\n",
       "\n",
       "    .dataframe thead th {\n",
       "        text-align: right;\n",
       "    }\n",
       "</style>\n",
       "<table border=\"1\" class=\"dataframe\">\n",
       "  <thead>\n",
       "    <tr style=\"text-align: right;\">\n",
       "      <th></th>\n",
       "      <th>AS</th>\n",
       "      <th>KL</th>\n",
       "      <th>MB</th>\n",
       "      <th>gsy</th>\n",
       "      <th>ltd</th>\n",
       "      <th>z1</th>\n",
       "    </tr>\n",
       "  </thead>\n",
       "  <tbody>\n",
       "    <tr>\n",
       "      <th>sourcefile</th>\n",
       "      <td>/home/tnaselar/FAST/imagery_psychophysics/mult...</td>\n",
       "      <td>/home/tnaselar/FAST/imagery_psychophysics/mult...</td>\n",
       "      <td>/home/tnaselar/FAST/imagery_psychophysics/mult...</td>\n",
       "      <td>/home/tnaselar/FAST/imagery_psychophysics/mult...</td>\n",
       "      <td>/home/tnaselar/FAST/imagery_psychophysics/mult...</td>\n",
       "      <td>/home/tnaselar/FAST/imagery_psychophysics/mult...</td>\n",
       "    </tr>\n",
       "  </tbody>\n",
       "</table>\n",
       "</div>"
      ],
      "text/plain": [
       "                                                           AS  \\\n",
       "sourcefile  /home/tnaselar/FAST/imagery_psychophysics/mult...   \n",
       "\n",
       "                                                           KL  \\\n",
       "sourcefile  /home/tnaselar/FAST/imagery_psychophysics/mult...   \n",
       "\n",
       "                                                           MB  \\\n",
       "sourcefile  /home/tnaselar/FAST/imagery_psychophysics/mult...   \n",
       "\n",
       "                                                          gsy  \\\n",
       "sourcefile  /home/tnaselar/FAST/imagery_psychophysics/mult...   \n",
       "\n",
       "                                                          ltd  \\\n",
       "sourcefile  /home/tnaselar/FAST/imagery_psychophysics/mult...   \n",
       "\n",
       "                                                           z1  \n",
       "sourcefile  /home/tnaselar/FAST/imagery_psychophysics/mult...  "
      ]
     },
     "execution_count": 3,
     "metadata": {},
     "output_type": "execute_result"
    }
   ],
   "source": [
    "subject_table"
   ]
  },
  {
   "cell_type": "code",
   "execution_count": 4,
   "metadata": {},
   "outputs": [],
   "source": [
    "def starts_a_response_chunk(x):\n",
    "    if 'New trial' in x:\n",
    "        return True\n",
    "    else:\n",
    "        return False\n",
    "\n",
    "def get_probe_number(new_line):\n",
    "    return '_'.join(re.search('_probe\\((.*?)\\).png', new_line).group(1).split(','))\n",
    "#     dx = new_line.index('_probe(')\n",
    "#     if new_line[dx-2].isdigit():\n",
    "#         return int(new_line[dx-2:dx])\n",
    "#     else:\n",
    "#         return int(new_line[dx-1])\n",
    "    \n",
    "# def get_repetition(new_line):\n",
    "#     return int(new_line[new_line.index('rep=')+4])\n",
    "\n",
    "def get_state(new_line):\n",
    "    dx = new_line.index('probe(')\n",
    "    state = new_line[dx-4:dx-1]\n",
    "    if state:\n",
    "        return state\n",
    "    else:\n",
    "        raise Exception('you are not at the start of a new trial')\n",
    "#     if 'just-probes' in new_line:\n",
    "#         return 'img'\n",
    "#     elif 'probes-with-im' in new_line:\n",
    "#         return 'pcp'\n",
    "#     else:\n",
    "        \n",
    "\n",
    "def get_time_stamp(new_line):\n",
    "    return float(new_line[0:new_line.index('\\t')])\n",
    "\n",
    "def get_response(new_line):\n",
    "    try:\n",
    "        return int(new_line[new_line.index('Keypress')+10])\n",
    "    except:\n",
    "        print('subject did not respond, returning None')\n",
    "        return None\n",
    "        \n",
    "def skip_a_line(all_lines):\n",
    "    return all_lines.pop(0)\n",
    "\n",
    "def get_image(new_line):\n",
    "    return re.search('poly_probes/probes/(.*?_\\d\\d)', new_line).group(1)\n",
    "#     dx = new_line.index('finalprobeset')\n",
    "#     return new_line[dx:(dx+15)]\n",
    "\n",
    "# def scanFor(key, lines):\n",
    "#     scanFuncDict = {'image': get_image, 'probe': get_probe_number, 'state' : get_state, 'image_one': }\n",
    "#     if key not in expectedKeys:\n",
    "#         raise Exception('key not expected')\n",
    "     \n",
    "    "
   ]
  },
  {
   "cell_type": "code",
   "execution_count": 5,
   "metadata": {},
   "outputs": [
    {
     "name": "stdout",
     "output_type": "stream",
     "text": [
      "27.9541\n",
      "state: img\n",
      "2\n",
      "candle_01\n"
     ]
    }
   ],
   "source": [
    "f = '/musc.repo/Data/tnaselar/imagery_psychophysics/multi_poly_probes/probes/candle_01_letterbox_img_probe(1,11).png'\n",
    "snippet = '27.9541\tDATA\tKeypress: 2'\n",
    "print get_time_stamp(snippet)\n",
    "print 'state: %s' %(get_state(f))\n",
    "print get_response(snippet)\n",
    "print get_image(f)"
   ]
  },
  {
   "cell_type": "code",
   "execution_count": 6,
   "metadata": {},
   "outputs": [
    {
     "name": "stdout",
     "output_type": "stream",
     "text": [
      "MB\n",
      "subject did not respond, returning None\n",
      "subject did not respond, returning None\n"
     ]
    },
    {
     "ename": "AttributeError",
     "evalue": "'NoneType' object has no attribute 'group'",
     "output_type": "error",
     "traceback": [
      "\u001b[0;31m---------------------------------------------------------------------------\u001b[0m",
      "\u001b[0;31mAttributeError\u001b[0m                            Traceback (most recent call last)",
      "\u001b[0;32m<ipython-input-6-83de57101bba>\u001b[0m in \u001b[0;36m<module>\u001b[0;34m()\u001b[0m\n\u001b[1;32m     13\u001b[0m                 \u001b[0m_\u001b[0m\u001b[0;34m=\u001b[0m \u001b[0mskip_a_line\u001b[0m\u001b[0;34m(\u001b[0m\u001b[0mall_lines\u001b[0m\u001b[0;34m)\u001b[0m\u001b[0;34m\u001b[0m\u001b[0m\n\u001b[1;32m     14\u001b[0m             \u001b[0mnew_line\u001b[0m \u001b[0;34m=\u001b[0m \u001b[0mall_lines\u001b[0m\u001b[0;34m.\u001b[0m\u001b[0mpop\u001b[0m\u001b[0;34m(\u001b[0m\u001b[0;36m0\u001b[0m\u001b[0;34m)\u001b[0m\u001b[0;34m\u001b[0m\u001b[0m\n\u001b[0;32m---> 15\u001b[0;31m             \u001b[0mdata_dict\u001b[0m\u001b[0;34m[\u001b[0m\u001b[0;34m'probe'\u001b[0m\u001b[0;34m]\u001b[0m\u001b[0;34m.\u001b[0m\u001b[0mappend\u001b[0m\u001b[0;34m(\u001b[0m\u001b[0mget_probe_number\u001b[0m\u001b[0;34m(\u001b[0m\u001b[0mnew_line\u001b[0m\u001b[0;34m)\u001b[0m\u001b[0;34m)\u001b[0m\u001b[0;34m\u001b[0m\u001b[0m\n\u001b[0m\u001b[1;32m     16\u001b[0m             \u001b[0mdata_dict\u001b[0m\u001b[0;34m[\u001b[0m\u001b[0;34m'state'\u001b[0m\u001b[0;34m]\u001b[0m\u001b[0;34m.\u001b[0m\u001b[0mappend\u001b[0m\u001b[0;34m(\u001b[0m\u001b[0mget_state\u001b[0m\u001b[0;34m(\u001b[0m\u001b[0mnew_line\u001b[0m\u001b[0;34m)\u001b[0m\u001b[0;34m)\u001b[0m\u001b[0;34m\u001b[0m\u001b[0m\n\u001b[1;32m     17\u001b[0m             \u001b[0mdata_dict\u001b[0m\u001b[0;34m[\u001b[0m\u001b[0;34m'image'\u001b[0m\u001b[0;34m]\u001b[0m\u001b[0;34m.\u001b[0m\u001b[0mappend\u001b[0m\u001b[0;34m(\u001b[0m\u001b[0mget_image\u001b[0m\u001b[0;34m(\u001b[0m\u001b[0mnew_line\u001b[0m\u001b[0;34m)\u001b[0m\u001b[0;34m)\u001b[0m\u001b[0;34m\u001b[0m\u001b[0m\n",
      "\u001b[0;32m<ipython-input-4-dd69e0e2db96>\u001b[0m in \u001b[0;36mget_probe_number\u001b[0;34m(new_line)\u001b[0m\n\u001b[1;32m      6\u001b[0m \u001b[0;34m\u001b[0m\u001b[0m\n\u001b[1;32m      7\u001b[0m \u001b[0;32mdef\u001b[0m \u001b[0mget_probe_number\u001b[0m\u001b[0;34m(\u001b[0m\u001b[0mnew_line\u001b[0m\u001b[0;34m)\u001b[0m\u001b[0;34m:\u001b[0m\u001b[0;34m\u001b[0m\u001b[0m\n\u001b[0;32m----> 8\u001b[0;31m     \u001b[0;32mreturn\u001b[0m \u001b[0;34m'_'\u001b[0m\u001b[0;34m.\u001b[0m\u001b[0mjoin\u001b[0m\u001b[0;34m(\u001b[0m\u001b[0mre\u001b[0m\u001b[0;34m.\u001b[0m\u001b[0msearch\u001b[0m\u001b[0;34m(\u001b[0m\u001b[0;34m'_probe\\((.*?)\\).png'\u001b[0m\u001b[0;34m,\u001b[0m \u001b[0mnew_line\u001b[0m\u001b[0;34m)\u001b[0m\u001b[0;34m.\u001b[0m\u001b[0mgroup\u001b[0m\u001b[0;34m(\u001b[0m\u001b[0;36m1\u001b[0m\u001b[0;34m)\u001b[0m\u001b[0;34m.\u001b[0m\u001b[0msplit\u001b[0m\u001b[0;34m(\u001b[0m\u001b[0;34m','\u001b[0m\u001b[0;34m)\u001b[0m\u001b[0;34m)\u001b[0m\u001b[0;34m\u001b[0m\u001b[0m\n\u001b[0m\u001b[1;32m      9\u001b[0m \u001b[0;31m#     dx = new_line.index('_probe(')\u001b[0m\u001b[0;34m\u001b[0m\u001b[0;34m\u001b[0m\u001b[0m\n\u001b[1;32m     10\u001b[0m \u001b[0;31m#     if new_line[dx-2].isdigit():\u001b[0m\u001b[0;34m\u001b[0m\u001b[0;34m\u001b[0m\u001b[0m\n",
      "\u001b[0;31mAttributeError\u001b[0m: 'NoneType' object has no attribute 'group'"
     ]
    }
   ],
   "source": [
    "data_dict = {'subj': [], 'image': [], 'probe': [], 'state': [], 'image_on': [], 'resp_on': [], 'response': []}\n",
    "for subj in subjects.keys():\n",
    "    print subj    \n",
    "    all_lines = open(subjects[subj]['sourcefile'], 'r').readlines()\n",
    "    while all_lines:\n",
    "        new_line = all_lines.pop(0)\n",
    "        if starts_a_response_chunk(new_line):\n",
    "            data_dict['subj'].append(subj)\n",
    "            new_line = all_lines.pop(0)\n",
    "            if new_line.find('WARNING') > 0:\n",
    "                _ = skip_a_line(all_lines)\n",
    "            if new_line.find('Keypress') > 0:  ##this means they really quickly pressed key, ignore it\n",
    "                _= skip_a_line(all_lines)\n",
    "            new_line = all_lines.pop(0)\n",
    "            data_dict['probe'].append(get_probe_number(new_line))\n",
    "            data_dict['state'].append(get_state(new_line))  \n",
    "            data_dict['image'].append(get_image(new_line))\n",
    "            data_dict['image_on'].append(get_time_stamp(all_lines.pop(0)))\n",
    "            new_line = all_lines.pop(0)\n",
    "            data_dict['resp_on'].append(get_time_stamp(new_line))\n",
    "            data_dict['response'].append(get_response(new_line))\n",
    "            \n",
    "\n",
    "\n",
    "probe_exp = pd.DataFrame(data_dict)\n",
    "\n"
   ]
  },
  {
   "cell_type": "code",
   "execution_count": null,
   "metadata": {},
   "outputs": [],
   "source": [
    "# data_dict = {'subj': [], 'image': [], 'probe': [], 'state': [], 'image_on': [], 'resp_on': [], 'response': []}\n",
    "# keys = data_dict.keys()\n",
    "# for subj in subjects.keys():\n",
    "#     print subj    \n",
    "    \n",
    "#     all_lines = open(subjects[subj]['sourcefile'], 'r').readlines()\n",
    "    \n",
    "#     while all_lines:\n",
    "#         new_line = all_lines.pop(0)\n",
    "#         if starts_a_response_chunk(new_line):\n",
    "#             chunkLength = getChunkLength(all_lines)            \n",
    "#             data_dict['subj'].append(subj)\n",
    "#             for key in keys():\n",
    "#                 wantedData = scanFor(key, all_lines[:chunkLength])\n",
    "#                 data_dict[key].append(wantedData)\n",
    "            \n",
    "            \n",
    "\n",
    "\n",
    "# probe_exp = pd.DataFrame(data_dict)"
   ]
  },
  {
   "cell_type": "code",
   "execution_count": null,
   "metadata": {},
   "outputs": [],
   "source": [
    "for subj in subjects.keys():\n",
    "    df = probe_exp[probe_exp['subj']==subj]\n",
    "    mins =  (df.iloc[-1].resp_on-df.iloc[0].resp_on)/60.\n",
    "    print '%s time: %f hrs, %f min' %(subj, np.floor_divide(mins,60.), np.remainder(mins,60.))\n",
    "\n"
   ]
  },
  {
   "cell_type": "code",
   "execution_count": null,
   "metadata": {},
   "outputs": [],
   "source": [
    "np.remainder(mins, 60)"
   ]
  },
  {
   "cell_type": "code",
   "execution_count": null,
   "metadata": {},
   "outputs": [],
   "source": [
    "probe_exp.describe()"
   ]
  },
  {
   "cell_type": "code",
   "execution_count": null,
   "metadata": {},
   "outputs": [],
   "source": [
    "probe_exp.dtypes"
   ]
  },
  {
   "cell_type": "code",
   "execution_count": null,
   "metadata": {},
   "outputs": [],
   "source": [
    "probe_exp[0:3]"
   ]
  },
  {
   "cell_type": "code",
   "execution_count": null,
   "metadata": {},
   "outputs": [],
   "source": [
    "probe_exp[:3]"
   ]
  },
  {
   "cell_type": "code",
   "execution_count": null,
   "metadata": {},
   "outputs": [],
   "source": [
    "print probe_exp.loc[1]\n",
    "print type(probe_exp.loc[1])\n"
   ]
  },
  {
   "cell_type": "code",
   "execution_count": null,
   "metadata": {},
   "outputs": [],
   "source": []
  },
  {
   "cell_type": "code",
   "execution_count": null,
   "metadata": {},
   "outputs": [],
   "source": [
    "diff = probe_exp.resp_on - probe_exp.image_on\n",
    "diff.describe()"
   ]
  },
  {
   "cell_type": "code",
   "execution_count": null,
   "metadata": {},
   "outputs": [],
   "source": [
    "diff.hist(bins=100)"
   ]
  },
  {
   "cell_type": "code",
   "execution_count": null,
   "metadata": {},
   "outputs": [],
   "source": [
    "345*2.57/60.*4"
   ]
  },
  {
   "cell_type": "code",
   "execution_count": null,
   "metadata": {},
   "outputs": [],
   "source": [
    "probe_exp.loc[:, ['probe', 'response']].head()"
   ]
  },
  {
   "cell_type": "code",
   "execution_count": null,
   "metadata": {},
   "outputs": [],
   "source": [
    "probe_exp.iloc[0]"
   ]
  },
  {
   "cell_type": "code",
   "execution_count": null,
   "metadata": {},
   "outputs": [],
   "source": [
    "probe_exp.iloc[0:2, 1:3]"
   ]
  },
  {
   "cell_type": "code",
   "execution_count": null,
   "metadata": {},
   "outputs": [],
   "source": [
    "probe_exp[probe_exp['probe']=='40_41']\n"
   ]
  },
  {
   "cell_type": "code",
   "execution_count": null,
   "metadata": {
    "scrolled": true
   },
   "outputs": [],
   "source": [
    "probe_exp[probe_exp.probe.isin(['40','41','40_41'])]"
   ]
  },
  {
   "cell_type": "code",
   "execution_count": null,
   "metadata": {},
   "outputs": [],
   "source": [
    "# probe_exp.to_pickle(os.path.join(save_path+'multi_poly_probe_data_5_subjects.pkl'))"
   ]
  }
 ],
 "metadata": {
  "kernelspec": {
   "display_name": "Python 2",
   "language": "python",
   "name": "python2"
  },
  "language_info": {
   "codemirror_mode": {
    "name": "ipython",
    "version": 2
   },
   "file_extension": ".py",
   "mimetype": "text/x-python",
   "name": "python",
   "nbconvert_exporter": "python",
   "pygments_lexer": "ipython2",
   "version": "2.7.12"
  }
 },
 "nbformat": 4,
 "nbformat_minor": 1
}
