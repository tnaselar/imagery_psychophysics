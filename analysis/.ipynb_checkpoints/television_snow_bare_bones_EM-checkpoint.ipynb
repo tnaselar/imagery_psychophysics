{
 "metadata": {
  "name": "",
  "signature": "sha256:4a130f2e055b07db773254dd290a1bd98605f96f5b7bf2f4816b5cf526583c0b"
 },
 "nbformat": 3,
 "nbformat_minor": 0,
 "worksheets": [
  {
   "cells": [
    {
     "cell_type": "heading",
     "level": 2,
     "metadata": {},
     "source": [
      "Testing EM for the television snow model\n"
     ]
    },
    {
     "cell_type": "heading",
     "level": 3,
     "metadata": {},
     "source": [
      "Establish environment"
     ]
    },
    {
     "cell_type": "code",
     "collapsed": false,
     "input": [
      "import numpy as np\n",
      "import pymc as pm\n",
      "from imagery_psychophysics.src.probes import probes\n",
      "from imagery_psychophysics.src.stirling_maps import sparse_point_maps\n",
      "from matplotlib import pyplot as plt\n",
      "import itertools\n",
      "import operator\n",
      "%matplotlib inline"
     ],
     "language": "python",
     "metadata": {},
     "outputs": [],
     "prompt_number": 1
    },
    {
     "cell_type": "heading",
     "level": 3,
     "metadata": {},
     "source": [
      "All simulation parameters"
     ]
    },
    {
     "cell_type": "code",
     "collapsed": false,
     "input": [
      "##==critical\n",
      "size_of_field = 8\n",
      "n_pix = size_of_field**2\n",
      "K = 4 ##the max number of clusters in what will be the target map\n",
      "on_off_prob = (.87,.05)\n",
      "\n",
      "##==incidental\n",
      "probe_rad = 2\n",
      "probe_step = 1\n",
      "seed_point_rows = 3\n",
      "seed_point_cols = 3\n",
      "target_index = 1000\n",
      "example_probe = 20\n",
      "num_synthetic_maps_for_prior = 1000"
     ],
     "language": "python",
     "metadata": {},
     "outputs": [],
     "prompt_number": 2
    },
    {
     "cell_type": "heading",
     "level": 3,
     "metadata": {},
     "source": [
      "Some functions for manipulating object maps"
     ]
    },
    {
     "cell_type": "code",
     "collapsed": false,
     "input": [
      "##convert from membership representation to binarized object map (\"bom\") represenation\n",
      "def mem_2_bom(M, num_pix,max_number_of_objects):\n",
      "        Z = np.zeros((num_pix, max_number_of_objects))\n",
      "        for ii in np.unique(M)-1: ##<<assume that min_value = 1\n",
      "            Z[np.nonzero(M==(ii+1))[0],ii] = 1\n",
      "        return Z\n",
      "\n",
      "##outer product of an object map\n",
      "def outer_map(M,num_pix,max_number_of_objects):\n",
      "        Z = mem_2_bom(M, num_pix,max_number_of_objects)\n",
      "        return Z.dot(Z.T)\n",
      "\n",
      "##another helpful data conversions\n",
      "def intlist_to_bitlist(number_of_objects,intlist):\n",
      "  '''\n",
      "  intlist_to_bitlist(number_of_objects,intlist)\n",
      "  takes a list of integers and converts to a binary code\n",
      "  if number_of_objects = 10, and intlist = [1,2,3,7] then returns\n",
      "  numpy array [0 1 1 1 0 0 0 1 0 0]\n",
      "  '''\n",
      "  x = np.zeros(number_of_objects)\n",
      "  x[intlist] = 1\n",
      "  return x    \n",
      "    \n",
      "##overlap between a probe and the objects in a map\n",
      "def overlap(probes, one_map):\n",
      "  '''\n",
      "  overlap(probes, map)\n",
      "  probes ~ N x D x D binary masks. \n",
      "  map ~ D x D object map.\n",
      "  applies the probes to one object map\n",
      "  returns a  number_of_probes x number_of_objects array\n",
      "  each column is a bit string showing which of the objects a probe overlaps\n",
      "  '''\n",
      "  number_of_objects = len(np.unique(one_map))\n",
      "  ##note the -1 below: the objects in the maps are assumed to have non-zero indices\n",
      "  return np.array([intlist_to_bitlist(number_of_objects,np.nonzero(np.unique(q))[0]-1) for q in one_map*probes])\n",
      "\n",
      "def response(ov):\n",
      "    return np.sum(ov, axis=1)"
     ],
     "language": "python",
     "metadata": {},
     "outputs": [],
     "prompt_number": 3
    },
    {
     "cell_type": "heading",
     "level": 3,
     "metadata": {},
     "source": [
      "Generate the true object map, true noise parameters, and a set of probes"
     ]
    },
    {
     "cell_type": "code",
     "collapsed": false,
     "input": [
      "probe_set = probes(probe_rad = probe_rad, probe_step = probe_step, size_of_field = size_of_field)\n",
      "W = probe_set.masks.reshape((probe_set.num_probes, size_of_field, size_of_field))"
     ],
     "language": "python",
     "metadata": {},
     "outputs": [],
     "prompt_number": 4
    },
    {
     "cell_type": "code",
     "collapsed": false,
     "input": [
      "spm = sparse_point_maps(seed_point_rows, seed_point_cols, size_of_field, cluster_pref='all', number_of_clusters = K)\n",
      "spm.scatter()\n",
      "target_map = np.squeeze(spm.nn_interpolation(dx=[target_index]))"
     ],
     "language": "python",
     "metadata": {},
     "outputs": [],
     "prompt_number": 5
    },
    {
     "cell_type": "code",
     "collapsed": false,
     "input": [
      "plt.subplot(1,2,1)\n",
      "plt.imshow(target_map, interpolation='nearest')\n",
      "plt.title('true object map')\n",
      "_ = plt.axis('off')\n",
      "plt.subplot(1,2,2)\n",
      "plt.imshow(np.squeeze(W[example_probe,:, :]), cmap = 'gray', alpha = .7,interpolation='nearest')\n",
      "plt.title('a probe')\n",
      "_ = plt.axis('off')\n"
     ],
     "language": "python",
     "metadata": {},
     "outputs": [
      {
       "metadata": {},
       "output_type": "display_data",
       "png": "[encoded data removed]",
       "text": [
        "<matplotlib.figure.Figure at 0x7f7e53d2f710>"
       ]
      }
     ],
     "prompt_number": 6
    },
    {
     "cell_type": "heading",
     "level": 3,
     "metadata": {},
     "source": [
      "A generic object map prior"
     ]
    },
    {
     "cell_type": "code",
     "collapsed": false,
     "input": [
      "##here we estimate the correlation stucture of a generic object map using\n",
      "##many synthetically generate maps\n",
      "Lambda = np.zeros((n_pix,n_pix))\n",
      "\n",
      "for _ in range(num_synthetic_maps_for_prior):\n",
      "    k = np.random.randint(1,K+1)\n",
      "    rand_map = sparse_point_maps(seed_point_rows, seed_point_cols, size_of_field, cluster_pref='random', number_of_clusters = k)\n",
      "    rand_map.scatter()\n",
      "    rand_map = np.squeeze(rand_map.nn_interpolation()).reshape((n_pix,1))\n",
      "    Lambda += outer_map(rand_map,n_pix,K)\n",
      "Lambda /= num_synthetic_maps_for_prior\n",
      "\n",
      "plt.imshow(Lambda, cmap = 'bone',vmin = 0, vmax=1)\n",
      "plt.title('generic prior for object maps')\n",
      "plt.axis('off')\n",
      "plt.colorbar()"
     ],
     "language": "python",
     "metadata": {},
     "outputs": [
      {
       "metadata": {},
       "output_type": "pyout",
       "prompt_number": 7,
       "text": [
        "<matplotlib.colorbar.Colorbar instance at 0x7f7e52f97ef0>"
       ]
      },
      {
       "metadata": {},
       "output_type": "display_data",
       "png": "[encoded data removed]",
       "text": [
        "<matplotlib.figure.Figure at 0x7f7e530b4e90>"
       ]
      }
     ],
     "prompt_number": 7
    },
    {
     "cell_type": "code",
     "collapsed": false,
     "input": [
      "##let's see a few samples here"
     ],
     "language": "python",
     "metadata": {},
     "outputs": [],
     "prompt_number": 8
    },
    {
     "cell_type": "heading",
     "level": 3,
     "metadata": {},
     "source": [
      "A model of the complete likelihood: $$p(r,Z | \\alpha, \\beta, \\Lambda) = p(r | Z,\\alpha,\\beta)p(Z|\\Lambda)$$ "
     ]
    },
    {
     "cell_type": "heading",
     "level": 3,
     "metadata": {},
     "source": [
      "=============="
     ]
    },
    {
     "cell_type": "markdown",
     "metadata": {},
     "source": [
      "the prior over object maps: $$p(Z | \\Lambda) = \\prod_{x=1}^N\\prod_{y < x}^N \\Lambda_{xy}^{c_{xy}}(1-\\Lambda_{xy})^{1-c_{xy}}$$\n",
      "where $C = ZZ^T$"
     ]
    },
    {
     "cell_type": "code",
     "collapsed": false,
     "input": [
      "##create a default initial map\n",
      "init_map  = sparse_point_maps(seed_point_rows, seed_point_cols, size_of_field, cluster_pref='random', number_of_clusters = k)\n",
      "#plt.imshow(np.squeeze(init_map.nn_interpolation()), interpolation='nearest')"
     ],
     "language": "python",
     "metadata": {},
     "outputs": [],
     "prompt_number": 9
    },
    {
     "cell_type": "code",
     "collapsed": false,
     "input": [
      "##create a pymc stochastic object\n",
      "#@pm.stochastic(dtype=int)\n",
      "def multinouli(value = init_map, n_pix = n_pix, max_value = K, hyper_params = Lambda):\n",
      "    \"\"\"2nd order prior for object maps\"\"\"\n",
      "    num_pairs = hyper_params.size\n",
      "    if (np.min(value) < 1) or (np.max(value) > max_value):\n",
      "        return -np.Inf\n",
      "    else:\n",
      "        on_offs = outer_map(value, n_pix, max_value)\n",
      "        on_offs = on_offs[np.triu_indices(n_pix)]\n",
      "    return pm.bernoulli_like(on_offs, hyper_params)"
     ],
     "language": "python",
     "metadata": {},
     "outputs": [],
     "prompt_number": 10
    },
    {
     "cell_type": "markdown",
     "metadata": {},
     "source": [
      "$p(r | Z, \\alpha, \\beta)$, the likelihood of the responses given an object map and noise parameters. call it \"poisson_beta_binomial\""
     ]
    },
    {
     "cell_type": "code",
     "collapsed": false,
     "input": [
      "##helper to enumerate all possibilities leading to r = m, given K objects\n",
      "def mbits(K, m):\n",
      "    result = []\n",
      "    for bits in itertools.combinations(range(K), m):\n",
      "        s = ['0'] * K\n",
      "        for bit in bits:\n",
      "            s[bit] = '1'\n",
      "        result.append(''.join(s))\n",
      "    return result\n",
      "\n",
      "##keep these around, will need them\n",
      "all_combos = [np.array([map(int, list(jj)) for jj in mbits(K, ii)]) for ii in range(K+1)]\n",
      "print all_combos\n",
      "\n",
      "\n",
      "##some other helpers and datastructures to speed up computation\n",
      "def make_prob_table(on_prob, off_prob):\n",
      "    prob_table = np.zeros(shape=(2,2))\n",
      "    prob_table[1,1] = on_prob\n",
      "    prob_table[1,0] = off_prob\n",
      "    prob_table[0,1] = 1-on_prob\n",
      "    prob_table[0,0] = 1-off_prob\n",
      "    return prob_table\n",
      "prob_table= make_prob_table(*on_off_prob)\n",
      "print prob_table\n",
      "\n",
      "r = 3\n",
      "ov = np.random.randint(0,2,K)\n",
      "print ov\n",
      "print all_combos[r]\n",
      "rdx = range(K)\n",
      "%timeit np.sum(np.array(map(lambda x: reduce(operator.mul, np.array(map(lambda ii: prob_table[ov[ii], x[ii]], rdx))), all_combos[r])))\n",
      "print np.sum(map(lambda x: reduce(operator.mul, np.array(map(lambda ii: prob_table[ov[ii], x[ii]], rdx))), all_combos[r]))\n"
     ],
     "language": "python",
     "metadata": {},
     "outputs": [
      {
       "output_type": "stream",
       "stream": "stdout",
       "text": [
        "[array([[0, 0, 0, 0]]), array([[1, 0, 0, 0],\n",
        "       [0, 1, 0, 0],\n",
        "       [0, 0, 1, 0],\n",
        "       [0, 0, 0, 1]]), array([[1, 1, 0, 0],\n",
        "       [1, 0, 1, 0],\n",
        "       [1, 0, 0, 1],\n",
        "       [0, 1, 1, 0],\n",
        "       [0, 1, 0, 1],\n",
        "       [0, 0, 1, 1]]), array([[1, 1, 1, 0],\n",
        "       [1, 1, 0, 1],\n",
        "       [1, 0, 1, 1],\n",
        "       [0, 1, 1, 1]]), array([[1, 1, 1, 1]])]\n",
        "[[ 0.95  0.13]\n",
        " [ 0.05  0.87]]\n",
        "[1 0 0 1]\n",
        "[[1 1 1 0]\n",
        " [1 1 0 1]\n",
        " [1 0 1 1]\n",
        " [0 1 1 1]]\n",
        "10000 loops, best of 3: 38.4 \u00b5s per loop"
       ]
      },
      {
       "output_type": "stream",
       "stream": "stdout",
       "text": [
        "\n",
        "0.1884246\n"
       ]
      }
     ],
     "prompt_number": 11
    },
    {
     "cell_type": "code",
     "collapsed": false,
     "input": [
      "prob_table[0,1]"
     ],
     "language": "python",
     "metadata": {},
     "outputs": [
      {
       "metadata": {},
       "output_type": "pyout",
       "prompt_number": 104,
       "text": [
        "0.13"
       ]
      }
     ],
     "prompt_number": 104
    },
    {
     "cell_type": "code",
     "collapsed": false,
     "input": [
      "##use all_combos to calculate likelihood\n",
      "##uses \"on/off\" parameterization, instead of \"alpha/beta\"\n",
      "def pbb(flarg, ov):\n",
      "    '''evaluates one trial. returns a scalar\n",
      "        pbb(r, ov)\n",
      "        r ~ a discrete response variable\n",
      "        ov ~ overlaps. an K-length binary array specifying which of the objects are overlapped by a probe\n",
      "    '''\n",
      "    return np.sum(np.array(map(lambda x: reduce(operator.mul, np.array(map(lambda ii: prob_table[x[ii],ov[ii]], rdx))), all_combos[flarg])))\n",
      "\n",
      "def pbb_log_like(r, ov):\n",
      "    '''log likelihood of one trial. returns a scalar'''\n",
      "    return np.log(pbb(r,ov))\n",
      "\n",
      "##NOTE: Might not need this...\n",
      "def multivariate_pbb_log_like(r, ov):\n",
      "    '''log likelihood of multiple independent trials. returns scalar'''\n",
      "    return np.log(np.array(reduce(operator.mul, map(lambda x, y: pbb(x,y), r,ov))))\n",
      "\n",
      "##create a deterministic object to encode overlaps between object map and probe\n",
      "#@pm.deterministic(name = 'overlap', dtype='int')\n",
      "#def map_overlaps(probes=W, object_map = target_map):\n",
      "#    return overlap(probes, object_map)\n",
      "    \n",
      "\n",
      "##multi-trial evaluation of pbb log likelihood. treats response to each probe as a separate, independent variable\n",
      "T = W.shape[0]\n",
      "\n",
      "@pm.stochastic(dtype=int, discrete=True)\n",
      "def poisson_beta_binomial(value = np.random.randint(0,K+1, size=T), max_value=K, ov = overlap(W,target_map).astype('int')):\n",
      "    if np.any(value < 0):\n",
      "        return -np.Inf*np.ones(T)\n",
      "    if np.any(value > max_value):\n",
      "        return -np.Inf*np.ones(T)\n",
      "    else:\n",
      "        return multivariate_pbb_log_like(value, ov)\n",
      "    "
     ],
     "language": "python",
     "metadata": {},
     "outputs": [],
     "prompt_number": 105
    },
    {
     "cell_type": "code",
     "collapsed": false,
     "input": [
      "ov = all_combos[4][0]\n",
      "cum = 0\n",
      "for kk in range(K+1):\n",
      "    cum += pbb(kk,ov.astype('int'))\n",
      "    print '%0.6f' %(pbb(kk,ov.astype('int')))\n",
      "print cum"
     ],
     "language": "python",
     "metadata": {},
     "outputs": []
    },
    {
     "cell_type": "code",
     "collapsed": false,
     "input": [
      "p = np.array([(.5, .5), (0.1,.9), (.9, 0.1)])\n",
      "foo = np.empty(shape = 3, dtype=object)\n",
      "for i in range(len(p)):\n",
      "    foo[i] = pm.Categorical('obs_%s' % i, p=p[i]) #, value=values[:,i])\n",
      "\n",
      "pm.CommonDeterministics.Index"
     ],
     "language": "python",
     "metadata": {},
     "outputs": [
      {
       "metadata": {},
       "output_type": "pyout",
       "prompt_number": 139,
       "text": [
        "array(1, dtype=int32)"
       ]
      }
     ],
     "prompt_number": 139
    },
    {
     "cell_type": "code",
     "collapsed": false,
     "input": [
      "math.log(0,1)"
     ],
     "language": "python",
     "metadata": {},
     "outputs": [
      {
       "output_type": "stream",
       "stream": "stdout",
       "text": [
        "Traceback (most recent call last):\n",
        "  File \"/home/tnaselar/anaconda/lib/python2.7/site-packages/IPython/core/ultratb.py\", line 776, in structured_traceback\n",
        "    records = _fixed_getinnerframes(etb, context, tb_offset)\n",
        "  File \"/home/tnaselar/anaconda/lib/python2.7/site-packages/IPython/core/ultratb.py\", line 230, in wrapped\n",
        "    return f(*args, **kwargs)\n",
        "  File \"/home/tnaselar/anaconda/lib/python2.7/site-packages/IPython/core/ultratb.py\", line 259, in _fixed_getinnerframes\n",
        "    records  = fix_frame_records_filenames(inspect.getinnerframes(etb, context))\n",
        "  File \"/home/tnaselar/anaconda/lib/python2.7/inspect.py\", line 1044, in getinnerframes\n",
        "    framelist.append((tb.tb_frame,) + getframeinfo(tb, context))\n",
        "  File \"/home/tnaselar/anaconda/lib/python2.7/inspect.py\", line 1004, in getframeinfo\n",
        "    filename = getsourcefile(frame) or getfile(frame)\n",
        "  File \"/home/tnaselar/anaconda/lib/python2.7/inspect.py\", line 454, in getsourcefile\n",
        "    if hasattr(getmodule(object, filename), '__loader__'):\n",
        "  File \"/home/tnaselar/anaconda/lib/python2.7/inspect.py\", line 483, in getmodule\n",
        "    file = getabsfile(object, _filename)\n",
        "  File \"/home/tnaselar/anaconda/lib/python2.7/inspect.py\", line 467, in getabsfile\n",
        "    return os.path.normcase(os.path.abspath(_filename))\n",
        "  File \"/home/tnaselar/anaconda/lib/python2.7/posixpath.py\", line 371, in abspath\n",
        "    cwd = os.getcwd()\n",
        "OSError: [Errno 2] No such file or directory\n"
       ]
      },
      {
       "output_type": "stream",
       "stream": "stderr",
       "text": [
        "ERROR: Internal Python error in the inspect module.\n",
        "Below is the traceback from this internal error.\n",
        "\n",
        "\n",
        "Unfortunately, your original traceback can not be constructed.\n",
        "\n"
       ]
      },
      {
       "ename": "ValueError",
       "evalue": "math domain error",
       "output_type": "pyerr",
       "traceback": ""
      }
     ],
     "prompt_number": 23
    },
    {
     "cell_type": "heading",
     "level": 3,
     "metadata": {},
     "source": [
      "Samples of the noisy responses to use as observed data"
     ]
    },
    {
     "cell_type": "code",
     "collapsed": false,
     "input": [
      "television_snow.sample(100)"
     ],
     "language": "python",
     "metadata": {},
     "outputs": [
      {
       "ename": "NameError",
       "evalue": "name 'television_snow' is not defined",
       "output_type": "pyerr",
       "traceback": [
        "\u001b[1;31m---------------------------------------------------------------------------\u001b[0m\n\u001b[1;31mNameError\u001b[0m                                 Traceback (most recent call last)",
        "\u001b[1;32m<ipython-input-140-4195a807da24>\u001b[0m in \u001b[0;36m<module>\u001b[1;34m()\u001b[0m\n\u001b[1;32m----> 1\u001b[1;33m \u001b[0mtelevision_snow\u001b[0m\u001b[1;33m.\u001b[0m\u001b[0msample\u001b[0m\u001b[1;33m(\u001b[0m\u001b[1;36m100\u001b[0m\u001b[1;33m)\u001b[0m\u001b[1;33m\u001b[0m\u001b[0m\n\u001b[0m",
        "\u001b[1;31mNameError\u001b[0m: name 'television_snow' is not defined"
       ]
      }
     ],
     "prompt_number": 140
    },
    {
     "cell_type": "code",
     "collapsed": false,
     "input": [
      "television_snow.trace('poisson_beta_binomial')"
     ],
     "language": "python",
     "metadata": {},
     "outputs": [
      {
       "ename": "KeyError",
       "evalue": "'poisson_beta_binomial'",
       "output_type": "pyerr",
       "traceback": [
        "\u001b[1;31m---------------------------------------------------------------------------\u001b[0m\n\u001b[1;31mKeyError\u001b[0m                                  Traceback (most recent call last)",
        "\u001b[1;32m<ipython-input-41-374780b4f0e4>\u001b[0m in \u001b[0;36m<module>\u001b[1;34m()\u001b[0m\n\u001b[1;32m----> 1\u001b[1;33m \u001b[0mtelevision_snow\u001b[0m\u001b[1;33m.\u001b[0m\u001b[0mtrace\u001b[0m\u001b[1;33m(\u001b[0m\u001b[1;34m'poisson_beta_binomial'\u001b[0m\u001b[1;33m)\u001b[0m\u001b[1;33m\u001b[0m\u001b[0m\n\u001b[0m",
        "\u001b[1;32m/home/tnaselar/anaconda/lib/python2.7/site-packages/pymc/Model.pyc\u001b[0m in \u001b[0;36mtrace\u001b[1;34m(self, name, chain)\u001b[0m\n\u001b[0;32m    838\u001b[0m         \"\"\"\n\u001b[0;32m    839\u001b[0m         \u001b[1;32mif\u001b[0m \u001b[0misinstance\u001b[0m\u001b[1;33m(\u001b[0m\u001b[0mname\u001b[0m\u001b[1;33m,\u001b[0m \u001b[0mstr\u001b[0m\u001b[1;33m)\u001b[0m\u001b[1;33m:\u001b[0m\u001b[1;33m\u001b[0m\u001b[0m\n\u001b[1;32m--> 840\u001b[1;33m             \u001b[1;32mreturn\u001b[0m \u001b[0mself\u001b[0m\u001b[1;33m.\u001b[0m\u001b[0mdb\u001b[0m\u001b[1;33m.\u001b[0m\u001b[0mtrace\u001b[0m\u001b[1;33m(\u001b[0m\u001b[0mname\u001b[0m\u001b[1;33m,\u001b[0m \u001b[0mchain\u001b[0m\u001b[1;33m)\u001b[0m\u001b[1;33m\u001b[0m\u001b[0m\n\u001b[0m\u001b[0;32m    841\u001b[0m         \u001b[1;32melif\u001b[0m \u001b[0misinstance\u001b[0m\u001b[1;33m(\u001b[0m\u001b[0mname\u001b[0m\u001b[1;33m,\u001b[0m \u001b[0mVariable\u001b[0m\u001b[1;33m)\u001b[0m\u001b[1;33m:\u001b[0m\u001b[1;33m\u001b[0m\u001b[0m\n\u001b[0;32m    842\u001b[0m             \u001b[1;32mreturn\u001b[0m \u001b[0mself\u001b[0m\u001b[1;33m.\u001b[0m\u001b[0mdb\u001b[0m\u001b[1;33m.\u001b[0m\u001b[0mtrace\u001b[0m\u001b[1;33m(\u001b[0m\u001b[0mname\u001b[0m\u001b[1;33m.\u001b[0m\u001b[0m__name__\u001b[0m\u001b[1;33m,\u001b[0m \u001b[0mchain\u001b[0m\u001b[1;33m)\u001b[0m\u001b[1;33m\u001b[0m\u001b[0m\n",
        "\u001b[1;32m/home/tnaselar/anaconda/lib/python2.7/site-packages/pymc/database/base.pyc\u001b[0m in \u001b[0;36mtrace\u001b[1;34m(self, name, chain)\u001b[0m\n\u001b[0;32m    371\u001b[0m           \u001b[0mthe\u001b[0m \u001b[0mith\u001b[0m \u001b[0mcall\u001b[0m \u001b[0mto\u001b[0m \u001b[1;33m`\u001b[0m\u001b[0msample\u001b[0m\u001b[1;33m`\u001b[0m\u001b[1;33m.\u001b[0m\u001b[1;33m\u001b[0m\u001b[0m\n\u001b[0;32m    372\u001b[0m         \"\"\"\n\u001b[1;32m--> 373\u001b[1;33m         \u001b[0mtrace\u001b[0m \u001b[1;33m=\u001b[0m \u001b[0mcopy\u001b[0m\u001b[1;33m.\u001b[0m\u001b[0mcopy\u001b[0m\u001b[1;33m(\u001b[0m\u001b[0mself\u001b[0m\u001b[1;33m.\u001b[0m\u001b[0m_traces\u001b[0m\u001b[1;33m[\u001b[0m\u001b[0mname\u001b[0m\u001b[1;33m]\u001b[0m\u001b[1;33m)\u001b[0m\u001b[1;33m\u001b[0m\u001b[0m\n\u001b[0m\u001b[0;32m    374\u001b[0m         \u001b[0mtrace\u001b[0m\u001b[1;33m.\u001b[0m\u001b[0m_chain\u001b[0m \u001b[1;33m=\u001b[0m \u001b[0mchain\u001b[0m\u001b[1;33m\u001b[0m\u001b[0m\n\u001b[0;32m    375\u001b[0m         \u001b[1;32mreturn\u001b[0m \u001b[0mtrace\u001b[0m\u001b[1;33m\u001b[0m\u001b[0m\n",
        "\u001b[1;31mKeyError\u001b[0m: 'poisson_beta_binomial'"
       ]
      }
     ],
     "prompt_number": 41
    },
    {
     "cell_type": "code",
     "collapsed": false,
     "input": [
      "responses.trace('poisson_beta_binomial')[:].shape"
     ],
     "language": "python",
     "metadata": {},
     "outputs": [
      {
       "metadata": {},
       "output_type": "pyout",
       "prompt_number": 344,
       "text": [
        "(50, 1)"
       ]
      }
     ],
     "prompt_number": 344
    },
    {
     "cell_type": "heading",
     "level": 3,
     "metadata": {},
     "source": [
      "An expected complete log-likelihood minimizer"
     ]
    },
    {
     "cell_type": "heading",
     "level": 3,
     "metadata": {},
     "source": [
      "A MAP estimator (to seed MCMC during EM)"
     ]
    },
    {
     "cell_type": "heading",
     "level": 3,
     "metadata": {},
     "source": [
      "Monte Carlo EM to obtain maximum likelihood estimates of noise parameters"
     ]
    },
    {
     "cell_type": "heading",
     "level": 3,
     "metadata": {},
     "source": [
      "Monte Carlo estimate of mean-squared error, with variance/bias^2 decomposition"
     ]
    },
    {
     "cell_type": "heading",
     "level": 3,
     "metadata": {},
     "source": [
      "MAP estimate of true object map"
     ]
    },
    {
     "cell_type": "heading",
     "level": 3,
     "metadata": {},
     "source": [
      "Response prediction using MAP estimate of object map"
     ]
    },
    {
     "cell_type": "code",
     "collapsed": false,
     "input": [],
     "language": "python",
     "metadata": {},
     "outputs": []
    }
   ],
   "metadata": {}
  }
 ]
}