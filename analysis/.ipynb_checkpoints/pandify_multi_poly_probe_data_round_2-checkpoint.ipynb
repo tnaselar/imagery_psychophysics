{
 "cells": [
  {
   "cell_type": "code",
   "execution_count": 1,
   "metadata": {},
   "outputs": [],
   "source": [
    "import re\n",
    "import numpy as np\n",
    "import pandas as pd\n",
    "from matplotlib import pyplot as plt\n",
    "import os\n",
    "%matplotlib inline"
   ]
  },
  {
   "cell_type": "markdown",
   "metadata": {},
   "source": [
    "### Parse logfiles for next N subjects, summer, 2015\n",
    "compare to \"pandify_multi_poly_probe_data\""
   ]
  },
  {
   "cell_type": "code",
   "execution_count": 2,
   "metadata": {},
   "outputs": [],
   "source": [
    "subjects = {}\n",
    "\n",
    "probe_images_path = '/home/tnaselar/FAST/scratch/data/'\n",
    "\n",
    "subjects['TN'] = {}\n",
    "subjects['TN']['sourcefile'] = probe_images_path+'TN_2018_Jun_11_0905.log'\n",
    "\n",
    "\n",
    "\n",
    "# subjects['CP'] = {}\n",
    "# subjects['CP']['sourcefile'] = probe_images_path+'data/CP_2014_Nov_14_1513.log'\n",
    "\n",
    "save_path = '/home/tnaselar/FAST/scratch/data/'\n",
    "\n",
    "max_images_per_exp = 4\n",
    "\n",
    "\n",
    "imagery_marker = '_img_'\n",
    "perception_marker = '_pcp_'\n",
    "\n",
    "subject_table = pd.DataFrame(subjects)\n",
    "\n",
    "number_of_lines_in_chunk = 3"
   ]
  },
  {
   "cell_type": "code",
   "execution_count": 3,
   "metadata": {},
   "outputs": [
    {
     "data": {
      "text/html": [
       "<div>\n",
       "<style scoped>\n",
       "    .dataframe tbody tr th:only-of-type {\n",
       "        vertical-align: middle;\n",
       "    }\n",
       "\n",
       "    .dataframe tbody tr th {\n",
       "        vertical-align: top;\n",
       "    }\n",
       "\n",
       "    .dataframe thead th {\n",
       "        text-align: right;\n",
       "    }\n",
       "</style>\n",
       "<table border=\"1\" class=\"dataframe\">\n",
       "  <thead>\n",
       "    <tr style=\"text-align: right;\">\n",
       "      <th></th>\n",
       "      <th>TN</th>\n",
       "    </tr>\n",
       "  </thead>\n",
       "  <tbody>\n",
       "    <tr>\n",
       "      <th>sourcefile</th>\n",
       "      <td>/home/tnaselar/FAST/scratch/data/TN_2018_Jun_1...</td>\n",
       "    </tr>\n",
       "  </tbody>\n",
       "</table>\n",
       "</div>"
      ],
      "text/plain": [
       "                                                           TN\n",
       "sourcefile  /home/tnaselar/FAST/scratch/data/TN_2018_Jun_1..."
      ]
     },
     "execution_count": 3,
     "metadata": {},
     "output_type": "execute_result"
    }
   ],
   "source": [
    "subject_table"
   ]
  },
  {
   "cell_type": "code",
   "execution_count": 4,
   "metadata": {},
   "outputs": [],
   "source": [
    "def starts_a_response_chunk(x):\n",
    "    if 'New trial' in x:\n",
    "        return True\n",
    "    else:\n",
    "        return False\n",
    "\n",
    "def get_probe_number(new_line):\n",
    "    return '_'.join(re.search('_probe\\((.*?)\\).png', new_line).group(1).split(','))\n",
    "#     dx = new_line.index('_probe(')\n",
    "#     if new_line[dx-2].isdigit():\n",
    "#         return int(new_line[dx-2:dx])\n",
    "#     else:\n",
    "#         return int(new_line[dx-1])\n",
    "    \n",
    "# def get_repetition(new_line):\n",
    "#     return int(new_line[new_line.index('rep=')+4])\n",
    "\n",
    "def get_state(new_line):\n",
    "    dx = new_line.index('probe(')\n",
    "    state = new_line[dx-4:dx-1]\n",
    "    if state:\n",
    "        return state\n",
    "    else:\n",
    "        raise Exception('you are not at the start of a new trial')\n",
    "#     if 'just-probes' in new_line:\n",
    "#         return 'img'\n",
    "#     elif 'probes-with-im' in new_line:\n",
    "#         return 'pcp'\n",
    "#     else:\n",
    "        \n",
    "\n",
    "def get_time_stamp(new_line):\n",
    "    return float(new_line[0:new_line.index('\\t')])\n",
    "\n",
    "def get_response(new_line):\n",
    "    try:\n",
    "        return int(new_line[new_line.index('Keypress')+10])\n",
    "    except:\n",
    "        print('subject did not respond, returning None')\n",
    "        return None\n",
    "        \n",
    "def skip_a_line(all_lines):\n",
    "    return all_lines.pop(0)\n",
    "\n",
    "def get_image(new_line):\n",
    "    return re.search('poly_probes/probes/(.*?_\\d\\d)', new_line).group(1)\n",
    "#     dx = new_line.index('finalprobeset')\n",
    "#     return new_line[dx:(dx+15)]"
   ]
  },
  {
   "cell_type": "code",
   "execution_count": 5,
   "metadata": {},
   "outputs": [
    {
     "name": "stdout",
     "output_type": "stream",
     "text": [
      "27.9541\n",
      "state: img\n",
      "2\n",
      "candle_01\n"
     ]
    }
   ],
   "source": [
    "f = '/home/tnaselar/imagery_psychophysics/multi_poly_probes/probes/candle_01_letterbox_img_probe(1,11).png'\n",
    "snippet = '27.9541\tDATA\tKeypress: 2'\n",
    "print get_time_stamp(snippet)\n",
    "print 'state: %s' %(get_state(f))\n",
    "print get_response(snippet)\n",
    "print get_image(f)"
   ]
  },
  {
   "cell_type": "code",
   "execution_count": 6,
   "metadata": {},
   "outputs": [
    {
     "name": "stdout",
     "output_type": "stream",
     "text": [
      "TN\n",
      "subject did not respond, returning None\n"
     ]
    }
   ],
   "source": [
    "data_dict = {'subj': [], 'image': [], 'probe': [], 'state': [], 'image_on': [], 'resp_on': [], 'response': []}\n",
    "for subj in subjects.keys():\n",
    "    print subj    \n",
    "    all_lines = open(subjects[subj]['sourcefile'], 'r').readlines()\n",
    "    while all_lines:\n",
    "        new_line = all_lines.pop(0)\n",
    "        if starts_a_response_chunk(new_line):\n",
    "            data_dict['subj'].append(subj)\n",
    "            new_line = all_lines.pop(0)\n",
    "            if new_line.find('WARNING') > 0:\n",
    "                _ = skip_a_line(all_lines)\n",
    "            new_line = all_lines.pop(0)\n",
    "            data_dict['probe'].append(get_probe_number(new_line))\n",
    "            data_dict['state'].append(get_state(new_line))  \n",
    "            data_dict['image'].append(get_image(new_line))\n",
    "            data_dict['image_on'].append(get_time_stamp(all_lines.pop(0)))\n",
    "            new_line = all_lines.pop(0)\n",
    "            data_dict['resp_on'].append(get_time_stamp(new_line))\n",
    "            data_dict['response'].append(get_response(new_line))\n",
    "            \n",
    "\n",
    "\n",
    "probe_exp = pd.DataFrame(data_dict)\n",
    "\n"
   ]
  },
  {
   "cell_type": "code",
   "execution_count": 7,
   "metadata": {},
   "outputs": [
    {
     "data": {
      "text/html": [
       "<div>\n",
       "<style scoped>\n",
       "    .dataframe tbody tr th:only-of-type {\n",
       "        vertical-align: middle;\n",
       "    }\n",
       "\n",
       "    .dataframe tbody tr th {\n",
       "        vertical-align: top;\n",
       "    }\n",
       "\n",
       "    .dataframe thead th {\n",
       "        text-align: right;\n",
       "    }\n",
       "</style>\n",
       "<table border=\"1\" class=\"dataframe\">\n",
       "  <thead>\n",
       "    <tr style=\"text-align: right;\">\n",
       "      <th></th>\n",
       "      <th>image</th>\n",
       "      <th>image_on</th>\n",
       "      <th>probe</th>\n",
       "      <th>resp_on</th>\n",
       "      <th>response</th>\n",
       "      <th>state</th>\n",
       "      <th>subj</th>\n",
       "    </tr>\n",
       "  </thead>\n",
       "  <tbody>\n",
       "    <tr>\n",
       "      <th>0</th>\n",
       "      <td>candle_01</td>\n",
       "      <td>16.2535</td>\n",
       "      <td>27_36_28_37</td>\n",
       "      <td>16.8537</td>\n",
       "      <td>1.0</td>\n",
       "      <td>img</td>\n",
       "      <td>TN</td>\n",
       "    </tr>\n",
       "    <tr>\n",
       "      <th>1</th>\n",
       "      <td>candle_01</td>\n",
       "      <td>16.9202</td>\n",
       "      <td>36_28_37</td>\n",
       "      <td>17.7203</td>\n",
       "      <td>1.0</td>\n",
       "      <td>img</td>\n",
       "      <td>TN</td>\n",
       "    </tr>\n",
       "    <tr>\n",
       "      <th>2</th>\n",
       "      <td>candle_01</td>\n",
       "      <td>17.7868</td>\n",
       "      <td>29_38_30_39</td>\n",
       "      <td>18.3203</td>\n",
       "      <td>1.0</td>\n",
       "      <td>img</td>\n",
       "      <td>TN</td>\n",
       "    </tr>\n",
       "    <tr>\n",
       "      <th>3</th>\n",
       "      <td>candle_01</td>\n",
       "      <td>18.3869</td>\n",
       "      <td>13_22_14_23</td>\n",
       "      <td>18.9870</td>\n",
       "      <td>1.0</td>\n",
       "      <td>img</td>\n",
       "      <td>TN</td>\n",
       "    </tr>\n",
       "    <tr>\n",
       "      <th>4</th>\n",
       "      <td>candle_01</td>\n",
       "      <td>19.0535</td>\n",
       "      <td>34_35_44</td>\n",
       "      <td>19.8537</td>\n",
       "      <td>1.0</td>\n",
       "      <td>img</td>\n",
       "      <td>TN</td>\n",
       "    </tr>\n",
       "  </tbody>\n",
       "</table>\n",
       "</div>"
      ],
      "text/plain": [
       "       image  image_on        probe  resp_on  response state subj\n",
       "0  candle_01   16.2535  27_36_28_37  16.8537       1.0   img   TN\n",
       "1  candle_01   16.9202     36_28_37  17.7203       1.0   img   TN\n",
       "2  candle_01   17.7868  29_38_30_39  18.3203       1.0   img   TN\n",
       "3  candle_01   18.3869  13_22_14_23  18.9870       1.0   img   TN\n",
       "4  candle_01   19.0535     34_35_44  19.8537       1.0   img   TN"
      ]
     },
     "execution_count": 7,
     "metadata": {},
     "output_type": "execute_result"
    }
   ],
   "source": [
    "probe_exp.head()"
   ]
  },
  {
   "cell_type": "code",
   "execution_count": 8,
   "metadata": {},
   "outputs": [
    {
     "data": {
      "text/plain": [
       "image        object\n",
       "image_on    float64\n",
       "probe        object\n",
       "resp_on     float64\n",
       "response    float64\n",
       "state        object\n",
       "subj         object\n",
       "dtype: object"
      ]
     },
     "execution_count": 8,
     "metadata": {},
     "output_type": "execute_result"
    }
   ],
   "source": [
    "probe_exp.dtypes"
   ]
  },
  {
   "cell_type": "code",
   "execution_count": 9,
   "metadata": {},
   "outputs": [
    {
     "data": {
      "text/html": [
       "<div>\n",
       "<style scoped>\n",
       "    .dataframe tbody tr th:only-of-type {\n",
       "        vertical-align: middle;\n",
       "    }\n",
       "\n",
       "    .dataframe tbody tr th {\n",
       "        vertical-align: top;\n",
       "    }\n",
       "\n",
       "    .dataframe thead th {\n",
       "        text-align: right;\n",
       "    }\n",
       "</style>\n",
       "<table border=\"1\" class=\"dataframe\">\n",
       "  <thead>\n",
       "    <tr style=\"text-align: right;\">\n",
       "      <th></th>\n",
       "      <th>image_on</th>\n",
       "      <th>resp_on</th>\n",
       "      <th>response</th>\n",
       "    </tr>\n",
       "  </thead>\n",
       "  <tbody>\n",
       "    <tr>\n",
       "      <th>count</th>\n",
       "      <td>44.000000</td>\n",
       "      <td>44.000000</td>\n",
       "      <td>43.0</td>\n",
       "    </tr>\n",
       "    <tr>\n",
       "      <th>mean</th>\n",
       "      <td>29.026507</td>\n",
       "      <td>29.550905</td>\n",
       "      <td>1.0</td>\n",
       "    </tr>\n",
       "    <tr>\n",
       "      <th>std</th>\n",
       "      <td>7.265238</td>\n",
       "      <td>7.259576</td>\n",
       "      <td>0.0</td>\n",
       "    </tr>\n",
       "    <tr>\n",
       "      <th>min</th>\n",
       "      <td>16.253500</td>\n",
       "      <td>16.853700</td>\n",
       "      <td>1.0</td>\n",
       "    </tr>\n",
       "    <tr>\n",
       "      <th>25%</th>\n",
       "      <td>23.186950</td>\n",
       "      <td>23.653750</td>\n",
       "      <td>1.0</td>\n",
       "    </tr>\n",
       "    <tr>\n",
       "      <th>50%</th>\n",
       "      <td>28.953700</td>\n",
       "      <td>29.453850</td>\n",
       "      <td>1.0</td>\n",
       "    </tr>\n",
       "    <tr>\n",
       "      <th>75%</th>\n",
       "      <td>35.137300</td>\n",
       "      <td>35.654225</td>\n",
       "      <td>1.0</td>\n",
       "    </tr>\n",
       "    <tr>\n",
       "      <th>max</th>\n",
       "      <td>41.254200</td>\n",
       "      <td>42.187700</td>\n",
       "      <td>1.0</td>\n",
       "    </tr>\n",
       "  </tbody>\n",
       "</table>\n",
       "</div>"
      ],
      "text/plain": [
       "        image_on    resp_on  response\n",
       "count  44.000000  44.000000      43.0\n",
       "mean   29.026507  29.550905       1.0\n",
       "std     7.265238   7.259576       0.0\n",
       "min    16.253500  16.853700       1.0\n",
       "25%    23.186950  23.653750       1.0\n",
       "50%    28.953700  29.453850       1.0\n",
       "75%    35.137300  35.654225       1.0\n",
       "max    41.254200  42.187700       1.0"
      ]
     },
     "execution_count": 9,
     "metadata": {},
     "output_type": "execute_result"
    }
   ],
   "source": [
    "probe_exp.describe()"
   ]
  },
  {
   "cell_type": "code",
   "execution_count": 10,
   "metadata": {},
   "outputs": [
    {
     "data": {
      "text/html": [
       "<div>\n",
       "<style scoped>\n",
       "    .dataframe tbody tr th:only-of-type {\n",
       "        vertical-align: middle;\n",
       "    }\n",
       "\n",
       "    .dataframe tbody tr th {\n",
       "        vertical-align: top;\n",
       "    }\n",
       "\n",
       "    .dataframe thead th {\n",
       "        text-align: right;\n",
       "    }\n",
       "</style>\n",
       "<table border=\"1\" class=\"dataframe\">\n",
       "  <thead>\n",
       "    <tr style=\"text-align: right;\">\n",
       "      <th></th>\n",
       "      <th>image</th>\n",
       "      <th>image_on</th>\n",
       "      <th>probe</th>\n",
       "      <th>resp_on</th>\n",
       "      <th>response</th>\n",
       "      <th>state</th>\n",
       "      <th>subj</th>\n",
       "    </tr>\n",
       "  </thead>\n",
       "  <tbody>\n",
       "    <tr>\n",
       "      <th>0</th>\n",
       "      <td>candle_01</td>\n",
       "      <td>16.2535</td>\n",
       "      <td>27_36_28_37</td>\n",
       "      <td>16.8537</td>\n",
       "      <td>1.0</td>\n",
       "      <td>img</td>\n",
       "      <td>TN</td>\n",
       "    </tr>\n",
       "    <tr>\n",
       "      <th>1</th>\n",
       "      <td>candle_01</td>\n",
       "      <td>16.9202</td>\n",
       "      <td>36_28_37</td>\n",
       "      <td>17.7203</td>\n",
       "      <td>1.0</td>\n",
       "      <td>img</td>\n",
       "      <td>TN</td>\n",
       "    </tr>\n",
       "    <tr>\n",
       "      <th>2</th>\n",
       "      <td>candle_01</td>\n",
       "      <td>17.7868</td>\n",
       "      <td>29_38_30_39</td>\n",
       "      <td>18.3203</td>\n",
       "      <td>1.0</td>\n",
       "      <td>img</td>\n",
       "      <td>TN</td>\n",
       "    </tr>\n",
       "  </tbody>\n",
       "</table>\n",
       "</div>"
      ],
      "text/plain": [
       "       image  image_on        probe  resp_on  response state subj\n",
       "0  candle_01   16.2535  27_36_28_37  16.8537       1.0   img   TN\n",
       "1  candle_01   16.9202     36_28_37  17.7203       1.0   img   TN\n",
       "2  candle_01   17.7868  29_38_30_39  18.3203       1.0   img   TN"
      ]
     },
     "execution_count": 10,
     "metadata": {},
     "output_type": "execute_result"
    }
   ],
   "source": [
    "probe_exp[0:3]"
   ]
  },
  {
   "cell_type": "code",
   "execution_count": 11,
   "metadata": {},
   "outputs": [
    {
     "data": {
      "text/html": [
       "<div>\n",
       "<style scoped>\n",
       "    .dataframe tbody tr th:only-of-type {\n",
       "        vertical-align: middle;\n",
       "    }\n",
       "\n",
       "    .dataframe tbody tr th {\n",
       "        vertical-align: top;\n",
       "    }\n",
       "\n",
       "    .dataframe thead th {\n",
       "        text-align: right;\n",
       "    }\n",
       "</style>\n",
       "<table border=\"1\" class=\"dataframe\">\n",
       "  <thead>\n",
       "    <tr style=\"text-align: right;\">\n",
       "      <th></th>\n",
       "      <th>image</th>\n",
       "      <th>image_on</th>\n",
       "      <th>probe</th>\n",
       "      <th>resp_on</th>\n",
       "      <th>response</th>\n",
       "      <th>state</th>\n",
       "      <th>subj</th>\n",
       "    </tr>\n",
       "  </thead>\n",
       "  <tbody>\n",
       "    <tr>\n",
       "      <th>0</th>\n",
       "      <td>candle_01</td>\n",
       "      <td>16.2535</td>\n",
       "      <td>27_36_28_37</td>\n",
       "      <td>16.8537</td>\n",
       "      <td>1.0</td>\n",
       "      <td>img</td>\n",
       "      <td>TN</td>\n",
       "    </tr>\n",
       "    <tr>\n",
       "      <th>1</th>\n",
       "      <td>candle_01</td>\n",
       "      <td>16.9202</td>\n",
       "      <td>36_28_37</td>\n",
       "      <td>17.7203</td>\n",
       "      <td>1.0</td>\n",
       "      <td>img</td>\n",
       "      <td>TN</td>\n",
       "    </tr>\n",
       "    <tr>\n",
       "      <th>2</th>\n",
       "      <td>candle_01</td>\n",
       "      <td>17.7868</td>\n",
       "      <td>29_38_30_39</td>\n",
       "      <td>18.3203</td>\n",
       "      <td>1.0</td>\n",
       "      <td>img</td>\n",
       "      <td>TN</td>\n",
       "    </tr>\n",
       "  </tbody>\n",
       "</table>\n",
       "</div>"
      ],
      "text/plain": [
       "       image  image_on        probe  resp_on  response state subj\n",
       "0  candle_01   16.2535  27_36_28_37  16.8537       1.0   img   TN\n",
       "1  candle_01   16.9202     36_28_37  17.7203       1.0   img   TN\n",
       "2  candle_01   17.7868  29_38_30_39  18.3203       1.0   img   TN"
      ]
     },
     "execution_count": 11,
     "metadata": {},
     "output_type": "execute_result"
    }
   ],
   "source": [
    "probe_exp[:3]"
   ]
  },
  {
   "cell_type": "code",
   "execution_count": 12,
   "metadata": {},
   "outputs": [
    {
     "name": "stdout",
     "output_type": "stream",
     "text": [
      "image       candle_01\n",
      "image_on      16.9202\n",
      "probe        36_28_37\n",
      "resp_on       17.7203\n",
      "response            1\n",
      "state             img\n",
      "subj               TN\n",
      "Name: 1, dtype: object\n",
      "<class 'pandas.core.series.Series'>\n"
     ]
    }
   ],
   "source": [
    "print probe_exp.loc[1]\n",
    "print type(probe_exp.loc[1])\n"
   ]
  },
  {
   "cell_type": "code",
   "execution_count": 13,
   "metadata": {},
   "outputs": [
    {
     "data": {
      "text/html": [
       "<div>\n",
       "<style scoped>\n",
       "    .dataframe tbody tr th:only-of-type {\n",
       "        vertical-align: middle;\n",
       "    }\n",
       "\n",
       "    .dataframe tbody tr th {\n",
       "        vertical-align: top;\n",
       "    }\n",
       "\n",
       "    .dataframe thead th {\n",
       "        text-align: right;\n",
       "    }\n",
       "</style>\n",
       "<table border=\"1\" class=\"dataframe\">\n",
       "  <thead>\n",
       "    <tr style=\"text-align: right;\">\n",
       "      <th></th>\n",
       "      <th>probe</th>\n",
       "      <th>response</th>\n",
       "    </tr>\n",
       "  </thead>\n",
       "  <tbody>\n",
       "    <tr>\n",
       "      <th>0</th>\n",
       "      <td>27_36_28_37</td>\n",
       "      <td>1.0</td>\n",
       "    </tr>\n",
       "    <tr>\n",
       "      <th>1</th>\n",
       "      <td>36_28_37</td>\n",
       "      <td>1.0</td>\n",
       "    </tr>\n",
       "    <tr>\n",
       "      <th>2</th>\n",
       "      <td>29_38_30_39</td>\n",
       "      <td>1.0</td>\n",
       "    </tr>\n",
       "    <tr>\n",
       "      <th>3</th>\n",
       "      <td>13_22_14_23</td>\n",
       "      <td>1.0</td>\n",
       "    </tr>\n",
       "    <tr>\n",
       "      <th>4</th>\n",
       "      <td>34_35_44</td>\n",
       "      <td>1.0</td>\n",
       "    </tr>\n",
       "  </tbody>\n",
       "</table>\n",
       "</div>"
      ],
      "text/plain": [
       "         probe  response\n",
       "0  27_36_28_37       1.0\n",
       "1     36_28_37       1.0\n",
       "2  29_38_30_39       1.0\n",
       "3  13_22_14_23       1.0\n",
       "4     34_35_44       1.0"
      ]
     },
     "execution_count": 13,
     "metadata": {},
     "output_type": "execute_result"
    }
   ],
   "source": [
    "probe_exp.loc[:, ['probe', 'response']].head()"
   ]
  },
  {
   "cell_type": "code",
   "execution_count": 14,
   "metadata": {},
   "outputs": [
    {
     "data": {
      "text/plain": [
       "image         candle_01\n",
       "image_on        16.2535\n",
       "probe       27_36_28_37\n",
       "resp_on         16.8537\n",
       "response              1\n",
       "state               img\n",
       "subj                 TN\n",
       "Name: 0, dtype: object"
      ]
     },
     "execution_count": 14,
     "metadata": {},
     "output_type": "execute_result"
    }
   ],
   "source": [
    "probe_exp.iloc[0]"
   ]
  },
  {
   "cell_type": "code",
   "execution_count": 15,
   "metadata": {},
   "outputs": [
    {
     "data": {
      "text/html": [
       "<div>\n",
       "<style scoped>\n",
       "    .dataframe tbody tr th:only-of-type {\n",
       "        vertical-align: middle;\n",
       "    }\n",
       "\n",
       "    .dataframe tbody tr th {\n",
       "        vertical-align: top;\n",
       "    }\n",
       "\n",
       "    .dataframe thead th {\n",
       "        text-align: right;\n",
       "    }\n",
       "</style>\n",
       "<table border=\"1\" class=\"dataframe\">\n",
       "  <thead>\n",
       "    <tr style=\"text-align: right;\">\n",
       "      <th></th>\n",
       "      <th>image_on</th>\n",
       "      <th>probe</th>\n",
       "    </tr>\n",
       "  </thead>\n",
       "  <tbody>\n",
       "    <tr>\n",
       "      <th>0</th>\n",
       "      <td>16.2535</td>\n",
       "      <td>27_36_28_37</td>\n",
       "    </tr>\n",
       "    <tr>\n",
       "      <th>1</th>\n",
       "      <td>16.9202</td>\n",
       "      <td>36_28_37</td>\n",
       "    </tr>\n",
       "  </tbody>\n",
       "</table>\n",
       "</div>"
      ],
      "text/plain": [
       "   image_on        probe\n",
       "0   16.2535  27_36_28_37\n",
       "1   16.9202     36_28_37"
      ]
     },
     "execution_count": 15,
     "metadata": {},
     "output_type": "execute_result"
    }
   ],
   "source": [
    "probe_exp.iloc[0:2, 1:3]"
   ]
  },
  {
   "cell_type": "code",
   "execution_count": 16,
   "metadata": {},
   "outputs": [
    {
     "data": {
      "text/html": [
       "<div>\n",
       "<style scoped>\n",
       "    .dataframe tbody tr th:only-of-type {\n",
       "        vertical-align: middle;\n",
       "    }\n",
       "\n",
       "    .dataframe tbody tr th {\n",
       "        vertical-align: top;\n",
       "    }\n",
       "\n",
       "    .dataframe thead th {\n",
       "        text-align: right;\n",
       "    }\n",
       "</style>\n",
       "<table border=\"1\" class=\"dataframe\">\n",
       "  <thead>\n",
       "    <tr style=\"text-align: right;\">\n",
       "      <th></th>\n",
       "      <th>image</th>\n",
       "      <th>image_on</th>\n",
       "      <th>probe</th>\n",
       "      <th>resp_on</th>\n",
       "      <th>response</th>\n",
       "      <th>state</th>\n",
       "      <th>subj</th>\n",
       "    </tr>\n",
       "  </thead>\n",
       "  <tbody>\n",
       "  </tbody>\n",
       "</table>\n",
       "</div>"
      ],
      "text/plain": [
       "Empty DataFrame\n",
       "Columns: [image, image_on, probe, resp_on, response, state, subj]\n",
       "Index: []"
      ]
     },
     "execution_count": 16,
     "metadata": {},
     "output_type": "execute_result"
    }
   ],
   "source": [
    "probe_exp[probe_exp['probe']=='40_41']\n"
   ]
  },
  {
   "cell_type": "code",
   "execution_count": 17,
   "metadata": {
    "scrolled": true
   },
   "outputs": [
    {
     "data": {
      "text/html": [
       "<div>\n",
       "<style scoped>\n",
       "    .dataframe tbody tr th:only-of-type {\n",
       "        vertical-align: middle;\n",
       "    }\n",
       "\n",
       "    .dataframe tbody tr th {\n",
       "        vertical-align: top;\n",
       "    }\n",
       "\n",
       "    .dataframe thead th {\n",
       "        text-align: right;\n",
       "    }\n",
       "</style>\n",
       "<table border=\"1\" class=\"dataframe\">\n",
       "  <thead>\n",
       "    <tr style=\"text-align: right;\">\n",
       "      <th></th>\n",
       "      <th>image</th>\n",
       "      <th>image_on</th>\n",
       "      <th>probe</th>\n",
       "      <th>resp_on</th>\n",
       "      <th>response</th>\n",
       "      <th>state</th>\n",
       "      <th>subj</th>\n",
       "    </tr>\n",
       "  </thead>\n",
       "  <tbody>\n",
       "  </tbody>\n",
       "</table>\n",
       "</div>"
      ],
      "text/plain": [
       "Empty DataFrame\n",
       "Columns: [image, image_on, probe, resp_on, response, state, subj]\n",
       "Index: []"
      ]
     },
     "execution_count": 17,
     "metadata": {},
     "output_type": "execute_result"
    }
   ],
   "source": [
    "probe_exp[probe_exp.probe.isin(['40','41','40_41'])]"
   ]
  },
  {
   "cell_type": "code",
   "execution_count": 18,
   "metadata": {},
   "outputs": [
    {
     "name": "stderr",
     "output_type": "stream",
     "text": [
      "/home/tnaselar/anaconda/lib/python2.7/site-packages/ipykernel/__main__.py:2: FutureWarning: sort(columns=....) is deprecated, use sort_values(by=.....)\n",
      "  from ipykernel import kernelapp as app\n"
     ]
    },
    {
     "data": {
      "text/html": [
       "<div>\n",
       "<table border=\"1\" class=\"dataframe\">\n",
       "  <thead>\n",
       "    <tr style=\"text-align: right;\">\n",
       "      <th></th>\n",
       "      <th>image</th>\n",
       "      <th>image_on</th>\n",
       "      <th>probe</th>\n",
       "      <th>resp_on</th>\n",
       "      <th>response</th>\n",
       "      <th>state</th>\n",
       "      <th>subj</th>\n",
       "    </tr>\n",
       "  </thead>\n",
       "  <tbody>\n",
       "    <tr>\n",
       "      <th>5421</th>\n",
       "      <td>grape_juice_02</td>\n",
       "      <td>9967.8963</td>\n",
       "      <td>0</td>\n",
       "      <td>9969.5631</td>\n",
       "      <td>2.0</td>\n",
       "      <td>pcp</td>\n",
       "      <td>KL</td>\n",
       "    </tr>\n",
       "    <tr>\n",
       "      <th>2762</th>\n",
       "      <td>candle_01</td>\n",
       "      <td>29.4041</td>\n",
       "      <td>0</td>\n",
       "      <td>30.2376</td>\n",
       "      <td>1.0</td>\n",
       "      <td>img</td>\n",
       "      <td>KL</td>\n",
       "    </tr>\n",
       "    <tr>\n",
       "      <th>4276</th>\n",
       "      <td>cheeseburger_03</td>\n",
       "      <td>6080.2275</td>\n",
       "      <td>0</td>\n",
       "      <td>6082.1943</td>\n",
       "      <td>2.0</td>\n",
       "      <td>img</td>\n",
       "      <td>KL</td>\n",
       "    </tr>\n",
       "    <tr>\n",
       "      <th>4746</th>\n",
       "      <td>cheeseburger_03</td>\n",
       "      <td>7709.0423</td>\n",
       "      <td>0</td>\n",
       "      <td>7710.8758</td>\n",
       "      <td>2.0</td>\n",
       "      <td>pcp</td>\n",
       "      <td>KL</td>\n",
       "    </tr>\n",
       "    <tr>\n",
       "      <th>3481</th>\n",
       "      <td>peaches_05</td>\n",
       "      <td>999.1809</td>\n",
       "      <td>0</td>\n",
       "      <td>1002.3144</td>\n",
       "      <td>2.0</td>\n",
       "      <td>img</td>\n",
       "      <td>KL</td>\n",
       "    </tr>\n",
       "    <tr>\n",
       "      <th>4045</th>\n",
       "      <td>peaches_05</td>\n",
       "      <td>5081.0017</td>\n",
       "      <td>0</td>\n",
       "      <td>5082.4352</td>\n",
       "      <td>1.0</td>\n",
       "      <td>pcp</td>\n",
       "      <td>KL</td>\n",
       "    </tr>\n",
       "  </tbody>\n",
       "</table>\n",
       "</div>"
      ],
      "text/plain": [
       "                image   image_on probe    resp_on  response state subj\n",
       "5421   grape_juice_02  9967.8963     0  9969.5631       2.0   pcp   KL\n",
       "2762        candle_01    29.4041     0    30.2376       1.0   img   KL\n",
       "4276  cheeseburger_03  6080.2275     0  6082.1943       2.0   img   KL\n",
       "4746  cheeseburger_03  7709.0423     0  7710.8758       2.0   pcp   KL\n",
       "3481       peaches_05   999.1809     0  1002.3144       2.0   img   KL\n",
       "4045       peaches_05  5081.0017     0  5082.4352       1.0   pcp   KL"
      ]
     },
     "execution_count": 18,
     "metadata": {},
     "output_type": "execute_result"
    }
   ],
   "source": [
    "KL = probe_exp[probe_exp.subj=='KL']\n",
    "KL.sort(columns='probe')[0:6]"
   ]
  },
  {
   "cell_type": "code",
   "execution_count": 18,
   "metadata": {},
   "outputs": [],
   "source": [
    "probe_exp.to_pickle(os.path.join(save_path+'multi_poly_probe_data_test.pkl'))"
   ]
  },
  {
   "cell_type": "code",
   "execution_count": null,
   "metadata": {},
   "outputs": [],
   "source": []
  }
 ],
 "metadata": {
  "kernelspec": {
   "display_name": "Python 2",
   "language": "python",
   "name": "python2"
  },
  "language_info": {
   "codemirror_mode": {
    "name": "ipython",
    "version": 2
   },
   "file_extension": ".py",
   "mimetype": "text/x-python",
   "name": "python",
   "nbconvert_exporter": "python",
   "pygments_lexer": "ipython2",
   "version": "2.7.12"
  }
 },
 "nbformat": 4,
 "nbformat_minor": 1
}
