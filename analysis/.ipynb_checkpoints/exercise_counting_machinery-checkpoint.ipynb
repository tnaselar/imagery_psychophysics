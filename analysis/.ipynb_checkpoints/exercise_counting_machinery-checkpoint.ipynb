{
 "cells": [
  {
   "cell_type": "code",
   "execution_count": 1,
   "metadata": {
    "collapsed": false
   },
   "outputs": [],
   "source": [
    "from imagery_psychophysics.src.counting_machinery import *"
   ]
  },
  {
   "cell_type": "code",
   "execution_count": 2,
   "metadata": {
    "collapsed": false
   },
   "outputs": [
    {
     "name": "stdout",
     "output_type": "stream",
     "text": [
      "(2, 3, 4)\n",
      "2,3,4\n",
      "['2', '3', '4', '', '2,3', '2,3,4', '3,4', '2,4'] 8\n",
      "[(2,), (3,), (4,), (), (2, 3), (2, 3, 4), (3, 4), (2, 4)] 8\n",
      "['2', '3', '4', '2,3', '3,4', '2,4'] 6\n"
     ]
    }
   ],
   "source": [
    "##==examing the basic window data structure\n",
    "win = window((2,3,4))\n",
    "print win.tup\n",
    "print win.string\n",
    "print win.powerset().strings, len(win.powerset().strings)\n",
    "print win.powerset().tups, len(win.powerset().tups)\n",
    "foo = win.powerset(nonempty=True, strict = True).strings\n",
    "print foo, len(foo)"
   ]
  },
  {
   "cell_type": "code",
   "execution_count": 3,
   "metadata": {
    "collapsed": false,
    "scrolled": true
   },
   "outputs": [
    {
     "name": "stdout",
     "output_type": "stream",
     "text": [
      "[(1, 2), (1, 3), (1, 2, 3, 4), (1,), (2,), (3,), (1, 4), (4,), (), (2, 3), (1, 2, 4), (1, 3, 4), (2, 3, 4), (1, 2, 3), (3, 4), (2, 4)]\n",
      "['1,2', '1,3', '1,2,3,4', '1', '2', '3', '1,4', '4', '', '2,3', '1,2,4', '1,3,4', '2,3,4', '1,2,3', '3,4', '2,4']\n",
      "1,2,3,4\n",
      "[]\n",
      "[(2,)]\n"
     ]
    }
   ],
   "source": [
    "win = window((1,2,3,4))\n",
    "cw = win.powerset()\n",
    "print cw.tups\n",
    "print cw.strings\n",
    "print cw.reduce2window().string\n",
    "print collection_of_windows({}).strings\n",
    "print collection_of_windows([(2,)]).tups"
   ]
  },
  {
   "cell_type": "code",
   "execution_count": 10,
   "metadata": {
    "collapsed": true
   },
   "outputs": [],
   "source": [
    "##==this is how we generate all possible colorings for a set of windows\n",
    "##==this is instantaneous because it just creates a generator.\n",
    "all_colorings=generate_window_colorings(10,64)"
   ]
  },
  {
   "cell_type": "code",
   "execution_count": 5,
   "metadata": {
    "collapsed": false
   },
   "outputs": [],
   "source": [
    "for clr in all_colorings:\n",
    "    print clr"
   ]
  },
  {
   "cell_type": "code",
   "execution_count": null,
   "metadata": {
    "collapsed": true
   },
   "outputs": [],
   "source": [
    "##==this is how we generate all possible color counts for a set of windows and their unions.\n",
    "##==currently this requires us to enumerate all possible colorings under the hood.\n",
    "cc = color_counts(5,win)"
   ]
  },
  {
   "cell_type": "code",
   "execution_count": 13,
   "metadata": {
    "collapsed": false
   },
   "outputs": [
    {
     "data": {
      "text/html": [
       "<div style=\"max-height:1000px;max-width:1500px;overflow:auto;\">\n",
       "<table border=\"1\" class=\"dataframe\">\n",
       "  <thead>\n",
       "    <tr style=\"text-align: right;\">\n",
       "      <th></th>\n",
       "      <th>1,2</th>\n",
       "      <th>1,3</th>\n",
       "      <th>1,2,3,4</th>\n",
       "      <th>1</th>\n",
       "      <th>2</th>\n",
       "      <th>3</th>\n",
       "      <th>1,4</th>\n",
       "      <th>4</th>\n",
       "      <th>2,3</th>\n",
       "      <th>1,2,4</th>\n",
       "      <th>1,3,4</th>\n",
       "      <th>2,3,4</th>\n",
       "      <th>1,2,3</th>\n",
       "      <th>3,4</th>\n",
       "      <th>2,4</th>\n",
       "    </tr>\n",
       "  </thead>\n",
       "  <tbody>\n",
       "    <tr>\n",
       "      <th>0</th>\n",
       "      <td> 1</td>\n",
       "      <td> 1</td>\n",
       "      <td> 1</td>\n",
       "      <td> 1</td>\n",
       "      <td> 1</td>\n",
       "      <td> 1</td>\n",
       "      <td> 1</td>\n",
       "      <td> 1</td>\n",
       "      <td> 1</td>\n",
       "      <td> 1</td>\n",
       "      <td> 1</td>\n",
       "      <td> 1</td>\n",
       "      <td> 1</td>\n",
       "      <td> 1</td>\n",
       "      <td> 1</td>\n",
       "    </tr>\n",
       "    <tr>\n",
       "      <th>1</th>\n",
       "      <td> 1</td>\n",
       "      <td> 1</td>\n",
       "      <td> 2</td>\n",
       "      <td> 1</td>\n",
       "      <td> 1</td>\n",
       "      <td> 1</td>\n",
       "      <td> 2</td>\n",
       "      <td> 1</td>\n",
       "      <td> 1</td>\n",
       "      <td> 2</td>\n",
       "      <td> 2</td>\n",
       "      <td> 2</td>\n",
       "      <td> 1</td>\n",
       "      <td> 2</td>\n",
       "      <td> 2</td>\n",
       "    </tr>\n",
       "    <tr>\n",
       "      <th>2</th>\n",
       "      <td> 1</td>\n",
       "      <td> 1</td>\n",
       "      <td> 2</td>\n",
       "      <td> 1</td>\n",
       "      <td> 1</td>\n",
       "      <td> 1</td>\n",
       "      <td> 2</td>\n",
       "      <td> 2</td>\n",
       "      <td> 1</td>\n",
       "      <td> 2</td>\n",
       "      <td> 2</td>\n",
       "      <td> 2</td>\n",
       "      <td> 1</td>\n",
       "      <td> 2</td>\n",
       "      <td> 2</td>\n",
       "    </tr>\n",
       "    <tr>\n",
       "      <th>3</th>\n",
       "      <td> 1</td>\n",
       "      <td> 1</td>\n",
       "      <td> 3</td>\n",
       "      <td> 1</td>\n",
       "      <td> 1</td>\n",
       "      <td> 1</td>\n",
       "      <td> 3</td>\n",
       "      <td> 2</td>\n",
       "      <td> 1</td>\n",
       "      <td> 3</td>\n",
       "      <td> 3</td>\n",
       "      <td> 3</td>\n",
       "      <td> 1</td>\n",
       "      <td> 3</td>\n",
       "      <td> 3</td>\n",
       "    </tr>\n",
       "    <tr>\n",
       "      <th>4</th>\n",
       "      <td> 1</td>\n",
       "      <td> 1</td>\n",
       "      <td> 3</td>\n",
       "      <td> 1</td>\n",
       "      <td> 1</td>\n",
       "      <td> 1</td>\n",
       "      <td> 3</td>\n",
       "      <td> 3</td>\n",
       "      <td> 1</td>\n",
       "      <td> 3</td>\n",
       "      <td> 3</td>\n",
       "      <td> 3</td>\n",
       "      <td> 1</td>\n",
       "      <td> 3</td>\n",
       "      <td> 3</td>\n",
       "    </tr>\n",
       "  </tbody>\n",
       "</table>\n",
       "</div>"
      ],
      "text/plain": [
       "   1,2  1,3  1,2,3,4  1  2  3  1,4  4  2,3  1,2,4  1,3,4  2,3,4  1,2,3  3,4  \\\n",
       "0    1    1        1  1  1  1    1  1    1      1      1      1      1    1   \n",
       "1    1    1        2  1  1  1    2  1    1      2      2      2      1    2   \n",
       "2    1    1        2  1  1  1    2  2    1      2      2      2      1    2   \n",
       "3    1    1        3  1  1  1    3  2    1      3      3      3      1    3   \n",
       "4    1    1        3  1  1  1    3  3    1      3      3      3      1    3   \n",
       "\n",
       "   2,4  \n",
       "0    1  \n",
       "1    2  \n",
       "2    2  \n",
       "3    3  \n",
       "4    3  "
      ]
     },
     "execution_count": 13,
     "metadata": {},
     "output_type": "execute_result"
    }
   ],
   "source": [
    "cc.df.shape\n",
    "cc.df.head(5)"
   ]
  },
  {
   "cell_type": "code",
   "execution_count": null,
   "metadata": {
    "collapsed": true
   },
   "outputs": [],
   "source": [
    "##==count the number of maps in a target window consistent with the neighborhood color counts\n",
    "\n",
    "def block_size(union_subset, basis_windows, union_values, size_of_universe,doprint=False):\n",
    "    '''\n",
    "    block_size(union_subset, basis_windows, union_values, size_of_universe,doprint=False)\n",
    "    union_subset ~ a tuple of integers\n",
    "    basis_windows ~ a windows object\n",
    "    union_values ~ one row from a consistent_cardinalities.df object whose column names include the powerset of the basis windows\n",
    "    size_of_universe ~ an integer\n",
    "    '''\n",
    "    \n",
    "    adder = 0\n",
    "    if len(union_subset) == len(basis_windows.tup):\n",
    "        if doprint:\n",
    "            print union_subset\n",
    "        try:\n",
    "            adder = size_of_universe - union_values[basis_windows.string]\n",
    "        except KeyError:\n",
    "            if not len(basis_windows.tup):\n",
    "                adder = size_of_universe\n",
    "            else:\n",
    "                Exception('subset and basis are same size, but something is off')\n",
    "        if doprint:\n",
    "            print 'catch: adder = %d' %(adder)\n",
    "        return adder\n",
    "    for F in window(union_subset).powerset().tups: ##<<F is a tuple\n",
    "        sgn = len(union_subset)-len(F)\n",
    "        if doprint:\n",
    "            print 'F |-------> %s' %(F,)\n",
    "        \n",
    "        ##take everyting in F out of the basis_windows, then powerset\n",
    "        for T in window(filter(lambda tup: tup not in F, basis_windows.tup)).powerset().tups: ##<<T is a tuple\n",
    "            if T:\n",
    "                if doprint:\n",
    "                    print 'T |--> %s' %(T,)\n",
    "                adder += (-1)**(sgn+len(T)+1)*union_values[window(T).string]\n",
    "                if doprint:\n",
    "                    print 'adder: %d' %(adder)\n",
    "    return adder\n",
    "\n",
    "##count the number of colorings of a single target window given that we know its unions with a bunch of other windows\n",
    "def count_colorings(target_window, basis_windows, union_values, size_of_universe, doprint=False):\n",
    "    '''\n",
    "    count_colorings(target_window, basis_windows, union_values, size_of_universe, doprint=False)\n",
    "    target_window ~ and integer\n",
    "    basis_windows ~ a window object that does not contain the target window\n",
    "    union_values ~ one row from a consistent_cardinalities.df object. column names include powerset of target+basis windows\n",
    "    size_of_universe ~ an integer\n",
    "    returns an integer that is the number of coloring of the target window given its cardinality the cardinalities of it's \n",
    "    unions with all the basis windows\n",
    "    '''\n",
    "    output = 1\n",
    "    for S in basis_windows.powerset().tups: ##<<each S will be tuple\n",
    "        if doprint:\n",
    "            print 'S |-------------> %s' %(S,)\n",
    "        upper = block_size(S, basis_windows, union_values, size_of_universe,doprint=False)\n",
    "#         print upper        \n",
    "        if doprint:\n",
    "            print 'S |-------------> %s' %(S,)\n",
    "        downer = block_size(S , window(basis_windows.tup+(target_window,)), union_values, size_of_universe,doprint=False)\n",
    "\n",
    "#         print downer\n",
    "        output *= comb(upper, downer)\n",
    "#         if not output:\n",
    "#             if doprint:\n",
    "#                 print 'no maps with this configuration'\n",
    "#                 return output\n",
    "            \n",
    "#         print output\n",
    "    return output"
   ]
  }
 ],
 "metadata": {
  "kernelspec": {
   "display_name": "Python 2",
   "language": "python",
   "name": "python2"
  },
  "language_info": {
   "codemirror_mode": {
    "name": "ipython",
    "version": 2
   },
   "file_extension": ".py",
   "mimetype": "text/x-python",
   "name": "python",
   "nbconvert_exporter": "python",
   "pygments_lexer": "ipython2",
   "version": "2.7.10"
  }
 },
 "nbformat": 4,
 "nbformat_minor": 0
}
