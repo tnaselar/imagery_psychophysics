{
 "metadata": {
  "name": "",
  "signature": "sha256:8bc83db0c1dfe2830e37e01b138f11218bd571ce9efa18cbc9a15f96fdef2826"
 },
 "nbformat": 3,
 "nbformat_minor": 0,
 "worksheets": [
  {
   "cells": [
    {
     "cell_type": "code",
     "collapsed": false,
     "input": [
      "import numpy as np\n",
      "import pandas as pd\n",
      "import pickle\n",
      "from imagery_psychophysics.src.stirling_maps import sparse_point_maps as spm\n",
      "from imagery_psychophysics.src.stirling_maps import stirling_num_of_2nd_kind as sn\n",
      "from experimental_design.src.experiments import fmri_experiment\n",
      "from experimental_design.src.experiments import make_design_matrix\n",
      "from scipy.interpolate import griddata\n",
      "from matplotlib import pyplot as plt\n",
      "from mpl_toolkits.axes_grid1 import ImageGrid\n",
      "from PIL import Image\n",
      "%matplotlib inline"
     ],
     "language": "python",
     "metadata": {},
     "outputs": [
      {
       "output_type": "stream",
       "stream": "stderr",
       "text": [
        "/home/tnaselar/anaconda/lib/python2.7/site-packages/pytz/__init__.py:29: UserWarning: Module argparse was already imported from /home/tnaselar/anaconda/lib/python2.7/argparse.pyc, but /home/tnaselar/anaconda/lib/python2.7/site-packages is being added to sys.path\n",
        "  from pkg_resources import resource_stream\n"
       ]
      }
     ],
     "prompt_number": 1
    },
    {
     "cell_type": "code",
     "collapsed": false,
     "input": [],
     "language": "python",
     "metadata": {},
     "outputs": [],
     "prompt_number": 1
    },
    {
     "cell_type": "heading",
     "level": 3,
     "metadata": {},
     "source": [
      "Target images"
     ]
    },
    {
     "cell_type": "code",
     "collapsed": false,
     "input": [
      "picplace = '/musc.repo/Data/tnaselar/imagery_psychophysics/poly_probes/target_images/'\n",
      "put_probes_here = '/musc.repo/Data/tnaselar/imagery_psychophysics/poly_probes/probes/'\n",
      "put_conditions_files_here = '/musc.repo/Data/tnaselar/imagery_psychophysics/poly_probes/conditions_files/'\n",
      "easy_image_name = 'easy_image.png'\n",
      "hard_image_name = 'hard_image.png'\n",
      "easy_image = Image.open(picplace+easy_image_name).convert('RGBA')\n",
      "hard_image = Image.open(picplace+hard_image_name).convert('RGBA')\n",
      "\n",
      "print easy_image.size\n",
      "print hard_image.size\n"
     ],
     "language": "python",
     "metadata": {},
     "outputs": [
      {
       "output_type": "stream",
       "stream": "stdout",
       "text": [
        "(500, 500)\n",
        "(500, 500)\n"
       ]
      }
     ],
     "prompt_number": 2
    },
    {
     "cell_type": "heading",
     "level": 3,
     "metadata": {},
     "source": [
      "Construct and calibrate probes"
     ]
    },
    {
     "cell_type": "code",
     "collapsed": false,
     "input": [
      "##parameters\n",
      "point_grid_density = 9.\n",
      "number_of_base_probes = point_grid_density**2\n",
      "size_of_field = 500\n",
      "num_pix = size_of_field**2\n",
      "jitter = 100\n",
      "spacing = size_of_field/point_grid_density ## integer from sqrt(max_number_of_objects) (most smooth) to num_pix (completely random)"
     ],
     "language": "python",
     "metadata": {},
     "outputs": [],
     "prompt_number": 3
    },
    {
     "cell_type": "code",
     "collapsed": false,
     "input": [
      "##construct a herringbone grid, with explicit representation of links between \"neighbors\"\n",
      "##this gives both vertical and horizontal orientations in every region\n",
      "class herringbone_grid(object):\n",
      "    def __init__(self, size_of_field, di, dj):\n",
      "        self.cur = np.array((di,dj))\n",
      "        self.pts = []\n",
      "        self.pairs = []\n",
      "        self.M = size_of_field\n",
      "        self.di = di\n",
      "        self.dj = dj\n",
      "        self.idx = []\n",
      "        self.pt_counter = 0\n",
      "        self.down()  ##start one grid point below the origin (upper left corner)\n",
      "        self.keep_point()\n",
      "        self.start_pts = [np.copy(self.cur)]\n",
      "        for _ in range(int(np.floor(size_of_field/dj))):\n",
      "            while self.cur[0] >= self.di:\n",
      "                ##try going up\n",
      "                self.up()\n",
      "                if self.keep_point():\n",
      "                    self.keep_pair()\n",
      "                self.over()\n",
      "                if self.keep_point():\n",
      "                    self.keep_pair()\n",
      "#             print 'resetting'    \n",
      "            self.reset()\n",
      "        ##remove endstops\n",
      "#         self.pairs = [t for t in self.pairs if not (None in t)]\n",
      "#         self.idx = [t for t in self.idx if t != None]\n",
      "#         self.jitter_points()\n",
      "#         self.make_atoms()\n",
      "#         self.make_probes()\n",
      "        \n",
      "    \n",
      "    def print_cur(self):\n",
      "        print 'current point: %f, %f' %(self.cur[0], self.cur[1])\n",
      "    \n",
      "    def keep_point(self):\n",
      "        if (self.cur[0] >=self.di) and (self.cur[0] <= (self.M-self.di)) and (self.cur[1] <= (self.M-self.dj)):\n",
      "            self.pts.append(np.copy(self.cur))\n",
      "            self.idx.append(tuple([np.copy(self.pt_counter)]))\n",
      "            self.pt_counter += 1\n",
      "#             print 'adding %f,%f to grid' %(self.cur[0], self.cur[1])\n",
      "            return True\n",
      "            \n",
      "    def keep_pair(self):\n",
      "        self.pairs.append((self.idx[-2][0], self.idx[-1][0]))\n",
      "    \n",
      "    def end_stop(self):\n",
      "        self.idx.append(None)\n",
      "    \n",
      "    def over(self):\n",
      "        self.cur += np.array((0,self.dj))\n",
      "    \n",
      "    def up(self):\n",
      "        self.cur += np.array((-self.di,0))\n",
      "        \n",
      "    def down(self):\n",
      "        self.cur += np.array((self.di, 0))\n",
      "        \n",
      "    def reset(self):\n",
      "#         self.end_stop()\n",
      "        self.cur = np.copy(self.start_pts[-1])\n",
      "        self.down()\n",
      "        self.down()\n",
      "        if self.keep_point():\n",
      "            self.keep_pair()\n",
      "        self.start_pts.append(np.copy(self.cur))\n",
      "\n",
      "        \n",
      "    def jitter_points(self, jitter=0.5):\n",
      "        '''jitter is relative to spacing between points (di,dj)'''\n",
      "        tmp_pts = [pp+(np.random.random(pp.shape)-0.5)*self.di*jitter for pp in self.pts]\n",
      "        tmp_pts = map(lambda x: np.mod(x, self.M), tmp_pts)\n",
      "        self.pts = tmp_pts\n",
      "        \n",
      "    def make_atoms(self):\n",
      "        grid_x, grid_y = np.meshgrid(range(self.M), range(self.M))\n",
      "        self.atoms = np.squeeze(griddata(np.array(self.pts, ndmin=2), np.array(self.idx), (grid_x, grid_y), method='nearest'))\n",
      "\n",
      "    def view_atoms(self):\n",
      "        plt.imshow(self.atoms, cmap='Dark2')\n",
      "        \n",
      "    ##includes both atoms and pairs\n",
      "    def make_probes(self):\n",
      "        cnt = 1\n",
      "        these = self.idx+self.pairs\n",
      "        probe_dict = {'index': [], 'mask': []}\n",
      "        #probes = np.zeros((len(these),self.M,self.M))\n",
      "        for idx in these:\n",
      "            if len(idx)==2:\n",
      "                pix = np.nonzero((self.atoms==idx[0])+(self.atoms==idx[1]))\n",
      "            else:\n",
      "                pix = np.nonzero((self.atoms==idx))\n",
      "            probe = np.zeros((self.M,self.M))\n",
      "            probe[pix] = cnt\n",
      "            cnt += 1 \n",
      "            probe_dict['index'].append(map(int,idx))\n",
      "            if np.sum(np.sum(probe)) < 1:\n",
      "                raise Exception('you made a blank one. jitter less?')\n",
      "            probe_dict['mask'].append(probe)\n",
      "#         self.probes = pd.DataFrame(data = probe_dict).set_index('index')\n",
      "        self.probes = probe_dict\n",
      "        self.num_probes = len(these)\n",
      "    \n",
      "    \n",
      "    def dump(self,pathname,background,brightness,alpha,cmap):\n",
      "        probe_list = []\n",
      "        cnt = 0\n",
      "        for idx in self.probes['index']:\n",
      "            id_string = '('+','.join(map(str, idx))+')'\n",
      "            probe_name = 'probe%s.png' %(id_string)\n",
      "            print 'probe: %s' %(probe_name)\n",
      "            pp = self.probes['mask'][cnt]\n",
      "            pp = np.uint8(cmap(pp)*brightness)      \n",
      "            pp = Image.fromarray(pp)\n",
      "#             Image.blend(background,pp,alpha).show()\n",
      "            probe_name = pathname+probe_name\n",
      "            Image.blend(background,pp,alpha).save(probe_name)\n",
      "            probe_list += [probe_name]\n",
      "            cnt += 1\n",
      "        pickle.dump(self.probes, open( pathname+'_probe_dict.pkl', \"wb\" ) )\n",
      "        return probe_list\n",
      "            \n",
      "    \n",
      "    def view_probe(self,idx):\n",
      "        plt.imshow(self.probes['mask'][idx], cmap = 'Dark2')\n",
      "        \n",
      "       \n",
      "        \n",
      "    def view_grid(self):\n",
      "        from matplotlib import collections  as mc\n",
      "        lines = tuple([[tuple(self.pts[pp[0]]), tuple(self.pts[pp[1]])] for pp in self.pairs])\n",
      "        c = np.array([(1, 0, 0, 1), (0, 1, 0, 1), (0, 0, 1, 1)])\n",
      "        lc = mc.LineCollection(lines, colors=c, linewidths=2)\n",
      "        fig, ax = plt.subplots()\n",
      "        ax.add_collection(lc)\n",
      "        ax.autoscale()\n",
      "        ax.margins(0.1)\n",
      "        ax.invert_yaxis()\n",
      "        ax.axis('equal')"
     ],
     "language": "python",
     "metadata": {},
     "outputs": [],
     "prompt_number": 4
    },
    {
     "cell_type": "code",
     "collapsed": false,
     "input": [
      "\n",
      "hgrid = herringbone_grid(size_of_field,spacing,spacing)"
     ],
     "language": "python",
     "metadata": {},
     "outputs": [],
     "prompt_number": 5
    },
    {
     "cell_type": "code",
     "collapsed": false,
     "input": [
      "hgrid.view_grid()"
     ],
     "language": "python",
     "metadata": {},
     "outputs": [
      {
       "metadata": {},
       "output_type": "display_data",
       "png": "[encoded data removed]",
       "text": [
        "<matplotlib.figure.Figure at 0x7f979462d410>"
       ]
      }
     ],
     "prompt_number": 6
    },
    {
     "cell_type": "code",
     "collapsed": false,
     "input": [
      "hgrid.make_atoms()\n",
      "hgrid.view_atoms()"
     ],
     "language": "python",
     "metadata": {},
     "outputs": [
      {
       "metadata": {},
       "output_type": "display_data",
       "png": "[encoded data removed]",
       "text": [
        "<matplotlib.figure.Figure at 0x7f97945d80d0>"
       ]
      }
     ],
     "prompt_number": 7
    },
    {
     "cell_type": "code",
     "collapsed": false,
     "input": [
      "hgrid.jitter_points(jitter=jitter)\n",
      "hgrid.view_grid()"
     ],
     "language": "python",
     "metadata": {},
     "outputs": [
      {
       "metadata": {},
       "output_type": "display_data",
       "png": "[encoded data removed]",
       "text": [
        "<matplotlib.figure.Figure at 0x7f979436a990>"
       ]
      }
     ],
     "prompt_number": 8
    },
    {
     "cell_type": "code",
     "collapsed": false,
     "input": [
      "\n",
      "hgrid.make_atoms()\n",
      "hgrid.view_atoms()"
     ],
     "language": "python",
     "metadata": {},
     "outputs": [
      {
       "metadata": {},
       "output_type": "display_data",
       "png": "[encoded data removed]",
       "text": [
        "<matplotlib.figure.Figure at 0x7f97945c1650>"
       ]
      }
     ],
     "prompt_number": 9
    },
    {
     "cell_type": "code",
     "collapsed": false,
     "input": [
      "hgrid.make_probes()"
     ],
     "language": "python",
     "metadata": {},
     "outputs": [],
     "prompt_number": 10
    },
    {
     "cell_type": "code",
     "collapsed": false,
     "input": [
      "##view some of the probes\n",
      "hgrid.num_probes"
     ],
     "language": "python",
     "metadata": {},
     "outputs": [
      {
       "metadata": {},
       "output_type": "pyout",
       "prompt_number": 11,
       "text": [
        "127"
       ]
      }
     ],
     "prompt_number": 11
    },
    {
     "cell_type": "code",
     "collapsed": false,
     "input": [
      "hgrid.view_probe(10)"
     ],
     "language": "python",
     "metadata": {},
     "outputs": [
      {
       "metadata": {},
       "output_type": "display_data",
       "png": "[encoded data removed]",
       "text": [
        "<matplotlib.figure.Figure at 0x7f97946a99d0>"
       ]
      }
     ],
     "prompt_number": 12
    },
    {
     "cell_type": "code",
     "collapsed": false,
     "input": [
      "nrows_ncols = (int(point_grid_density), int(point_grid_density))\n",
      "num_probes = len(hgrid.probes['index'])\n",
      "fig = plt.figure(2,(10,10))\n",
      "grid = ImageGrid(fig, 111, # similar to subplot(111)\n",
      "                nrows_ncols = nrows_ncols, # creates 2x2 grid of axes\n",
      "                axes_pad=0.02, # pad between axes in inch.\n",
      "                )\n",
      "these = np.round(np.linspace(0,num_probes,num=np.prod(nrows_ncols), endpoint=False)).astype('int')\n",
      "\n",
      "for gr,ii in zip(grid,these):\n",
      "    gr.imshow(easy_image)\n",
      "    gr.imshow(hgrid.probes['mask'][ii], cmap='Dark2', alpha = 0.5)\n",
      "    gr.set_xticks([])\n",
      "    gr.set_yticks([])\n",
      "    "
     ],
     "language": "python",
     "metadata": {},
     "outputs": [
      {
       "metadata": {},
       "output_type": "display_data",
       "png": "[encoded data removed]",
       "text": [
        "<matplotlib.figure.Figure at 0x7f97945d0290>"
       ]
      }
     ],
     "prompt_number": 13
    },
    {
     "cell_type": "code",
     "collapsed": false,
     "input": [
      "# fig = plt.figure(1,(10,10))\n",
      "# grid = ImageGrid(fig, 111, # similar to subplot(111)\n",
      "#                 nrows_ncols = (1, 2), # creates 2x2 grid of axes\n",
      "#                 axes_pad=0.5, # pad between axes in inch.\n",
      "#                 )\n",
      "# grid[0].imshow(easy_image)\n",
      "# grid[0].imshow(np.sum(hgrid.probes['mask'],0), cmap = 'Dark2', interpolation='nearest', alpha = 0.6)\n",
      "# grid[0].set_title('easy image')\n",
      "# grid[0].set_xticks([])\n",
      "# grid[0].set_yticks([])\n",
      "# plt.axis('tight')\n",
      "# grid[1].imshow(hard_image)\n",
      "# grid[1].imshow(np.sum(hgrid.probes['mask'],0), cmap = 'Dark2', interpolation='nearest', alpha = 0.6)\n",
      "# grid[1].set_title('hard image')\n",
      "# grid[1].set_xticks([])\n",
      "# grid[1].set_yticks([])\n"
     ],
     "language": "python",
     "metadata": {},
     "outputs": [],
     "prompt_number": 14
    },
    {
     "cell_type": "heading",
     "level": 3,
     "metadata": {},
     "source": [
      "Construct experiment"
     ]
    },
    {
     "cell_type": "code",
     "collapsed": false,
     "input": [
      "import csv\n",
      "cmap = plt.cm.RdPu\n",
      "reps = 1\n",
      "seconds_per_state=.5\n",
      "brightness = 127\n",
      "alpha = 0.5\n",
      "screen = Image.fromarray(np.ones((500,500))*brightness).convert('RGBA')\n",
      "\n",
      "pictures = [easy_image, hard_image]\n",
      "states = ['pcp', 'img']\n",
      "picnames = ['easy_image', 'hard_image']\n",
      "\n",
      "\n",
      "for pp,pname in zip(pictures, picnames):\n",
      "        probes = herringbone_grid(size_of_field,spacing,spacing)\n",
      "        probes.jitter_points(jitter=jitter)\n",
      "        probes.make_atoms()\n",
      "        probes.make_probes()\n",
      "        for ss in states:\n",
      "            if ss == 'img':\n",
      "                background = screen\n",
      "            else:\n",
      "                background= pp\n",
      "            probe_list = probes.dump(put_probes_here+pname+'_'+ss+'_',background,brightness,alpha,cmap)\n",
      "            probe_list = np.random.permutation(probe_list) ## randomize the order\n",
      "            probe_list_file = open(put_conditions_files_here+pname+'_'+ss+'.csv','wb')\n",
      "            wr = csv.writer(probe_list_file)\n",
      "            wr.writerow([pname+'_'+ss])\n",
      "            wr.writerows([[ll] for ll in probe_list])\n",
      "            probe_list_file.close()\n"
     ],
     "language": "python",
     "metadata": {},
     "outputs": [
      {
       "output_type": "stream",
       "stream": "stdout",
       "text": [
        "probe: probe(0).png\n",
        "probe: probe(1).png"
       ]
      },
      {
       "output_type": "stream",
       "stream": "stdout",
       "text": [
        "\n",
        "probe: probe(2).png"
       ]
      },
      {
       "output_type": "stream",
       "stream": "stdout",
       "text": [
        "\n",
        "probe: probe(3).png"
       ]
      },
      {
       "output_type": "stream",
       "stream": "stdout",
       "text": [
        "\n",
        "probe: probe(4).png"
       ]
      },
      {
       "output_type": "stream",
       "stream": "stdout",
       "text": [
        "\n",
        "probe: probe(5).png"
       ]
      },
      {
       "output_type": "stream",
       "stream": "stdout",
       "text": [
        "\n",
        "probe: probe(6).png"
       ]
      },
      {
       "output_type": "stream",
       "stream": "stdout",
       "text": [
        "\n",
        "probe: probe(7).png"
       ]
      },
      {
       "output_type": "stream",
       "stream": "stdout",
       "text": [
        "\n",
        "probe: probe(8).png"
       ]
      },
      {
       "output_type": "stream",
       "stream": "stdout",
       "text": [
        "\n",
        "probe: probe(9).png"
       ]
      },
      {
       "output_type": "stream",
       "stream": "stdout",
       "text": [
        "\n",
        "probe: probe(10).png"
       ]
      },
      {
       "output_type": "stream",
       "stream": "stdout",
       "text": [
        "\n",
        "probe: probe(11).png"
       ]
      },
      {
       "output_type": "stream",
       "stream": "stdout",
       "text": [
        "\n",
        "probe: probe(12).png"
       ]
      },
      {
       "output_type": "stream",
       "stream": "stdout",
       "text": [
        "\n",
        "probe: probe(13).png"
       ]
      },
      {
       "output_type": "stream",
       "stream": "stdout",
       "text": [
        "\n",
        "probe: probe(14).png"
       ]
      },
      {
       "output_type": "stream",
       "stream": "stdout",
       "text": [
        "\n",
        "probe: probe(15).png"
       ]
      },
      {
       "output_type": "stream",
       "stream": "stdout",
       "text": [
        "\n",
        "probe: probe(16).png"
       ]
      },
      {
       "output_type": "stream",
       "stream": "stdout",
       "text": [
        "\n",
        "probe: probe(17).png"
       ]
      },
      {
       "output_type": "stream",
       "stream": "stdout",
       "text": [
        "\n",
        "probe: probe(18).png"
       ]
      },
      {
       "output_type": "stream",
       "stream": "stdout",
       "text": [
        "\n",
        "probe: probe(19).png"
       ]
      },
      {
       "output_type": "stream",
       "stream": "stdout",
       "text": [
        "\n",
        "probe: probe(20).png"
       ]
      },
      {
       "output_type": "stream",
       "stream": "stdout",
       "text": [
        "\n",
        "probe: probe(21).png"
       ]
      },
      {
       "output_type": "stream",
       "stream": "stdout",
       "text": [
        "\n",
        "probe: probe(22).png"
       ]
      },
      {
       "output_type": "stream",
       "stream": "stdout",
       "text": [
        "\n",
        "probe: probe(23).png"
       ]
      },
      {
       "output_type": "stream",
       "stream": "stdout",
       "text": [
        "\n",
        "probe: probe(24).png"
       ]
      },
      {
       "output_type": "stream",
       "stream": "stdout",
       "text": [
        "\n",
        "probe: probe(25).png"
       ]
      },
      {
       "output_type": "stream",
       "stream": "stdout",
       "text": [
        "\n",
        "probe: probe(26).png"
       ]
      },
      {
       "output_type": "stream",
       "stream": "stdout",
       "text": [
        "\n",
        "probe: probe(27).png"
       ]
      },
      {
       "output_type": "stream",
       "stream": "stdout",
       "text": [
        "\n",
        "probe: probe(28).png"
       ]
      },
      {
       "output_type": "stream",
       "stream": "stdout",
       "text": [
        "\n",
        "probe: probe(29).png"
       ]
      },
      {
       "output_type": "stream",
       "stream": "stdout",
       "text": [
        "\n",
        "probe: probe(30).png"
       ]
      },
      {
       "output_type": "stream",
       "stream": "stdout",
       "text": [
        "\n",
        "probe: probe(31).png"
       ]
      },
      {
       "output_type": "stream",
       "stream": "stdout",
       "text": [
        "\n",
        "probe: probe(32).png"
       ]
      },
      {
       "output_type": "stream",
       "stream": "stdout",
       "text": [
        "\n",
        "probe: probe(33).png"
       ]
      },
      {
       "output_type": "stream",
       "stream": "stdout",
       "text": [
        "\n",
        "probe: probe(34).png"
       ]
      },
      {
       "output_type": "stream",
       "stream": "stdout",
       "text": [
        "\n",
        "probe: probe(35).png"
       ]
      },
      {
       "output_type": "stream",
       "stream": "stdout",
       "text": [
        "\n",
        "probe: probe(36).png"
       ]
      },
      {
       "output_type": "stream",
       "stream": "stdout",
       "text": [
        "\n",
        "probe: probe(37).png"
       ]
      },
      {
       "output_type": "stream",
       "stream": "stdout",
       "text": [
        "\n",
        "probe: probe(38).png"
       ]
      },
      {
       "output_type": "stream",
       "stream": "stdout",
       "text": [
        "\n",
        "probe: probe(39).png"
       ]
      },
      {
       "output_type": "stream",
       "stream": "stdout",
       "text": [
        "\n",
        "probe: probe(40).png"
       ]
      },
      {
       "output_type": "stream",
       "stream": "stdout",
       "text": [
        "\n",
        "probe: probe(41).png"
       ]
      },
      {
       "output_type": "stream",
       "stream": "stdout",
       "text": [
        "\n",
        "probe: probe(42).png"
       ]
      },
      {
       "output_type": "stream",
       "stream": "stdout",
       "text": [
        "\n",
        "probe: probe(43).png"
       ]
      },
      {
       "output_type": "stream",
       "stream": "stdout",
       "text": [
        "\n",
        "probe: probe(44).png"
       ]
      },
      {
       "output_type": "stream",
       "stream": "stdout",
       "text": [
        "\n",
        "probe: probe(45).png"
       ]
      },
      {
       "output_type": "stream",
       "stream": "stdout",
       "text": [
        "\n",
        "probe: probe(46).png"
       ]
      },
      {
       "output_type": "stream",
       "stream": "stdout",
       "text": [
        "\n",
        "probe: probe(47).png"
       ]
      },
      {
       "output_type": "stream",
       "stream": "stdout",
       "text": [
        "\n",
        "probe: probe(48).png"
       ]
      },
      {
       "output_type": "stream",
       "stream": "stdout",
       "text": [
        "\n",
        "probe: probe(49).png"
       ]
      },
      {
       "output_type": "stream",
       "stream": "stdout",
       "text": [
        "\n",
        "probe: probe(50).png"
       ]
      },
      {
       "output_type": "stream",
       "stream": "stdout",
       "text": [
        "\n",
        "probe: probe(51).png"
       ]
      },
      {
       "output_type": "stream",
       "stream": "stdout",
       "text": [
        "\n",
        "probe: probe(52).png"
       ]
      },
      {
       "output_type": "stream",
       "stream": "stdout",
       "text": [
        "\n",
        "probe: probe(53).png"
       ]
      },
      {
       "output_type": "stream",
       "stream": "stdout",
       "text": [
        "\n",
        "probe: probe(54).png"
       ]
      },
      {
       "output_type": "stream",
       "stream": "stdout",
       "text": [
        "\n",
        "probe: probe(55).png"
       ]
      },
      {
       "output_type": "stream",
       "stream": "stdout",
       "text": [
        "\n",
        "probe: probe(56).png"
       ]
      },
      {
       "output_type": "stream",
       "stream": "stdout",
       "text": [
        "\n",
        "probe: probe(57).png"
       ]
      },
      {
       "output_type": "stream",
       "stream": "stdout",
       "text": [
        "\n",
        "probe: probe(58).png"
       ]
      },
      {
       "output_type": "stream",
       "stream": "stdout",
       "text": [
        "\n",
        "probe: probe(59).png"
       ]
      },
      {
       "output_type": "stream",
       "stream": "stdout",
       "text": [
        "\n",
        "probe: probe(60).png"
       ]
      },
      {
       "output_type": "stream",
       "stream": "stdout",
       "text": [
        "\n",
        "probe: probe(61).png"
       ]
      },
      {
       "output_type": "stream",
       "stream": "stdout",
       "text": [
        "\n",
        "probe: probe(62).png"
       ]
      },
      {
       "output_type": "stream",
       "stream": "stdout",
       "text": [
        "\n",
        "probe: probe(63).png"
       ]
      },
      {
       "output_type": "stream",
       "stream": "stdout",
       "text": [
        "\n",
        "probe: probe(0,1).png"
       ]
      },
      {
       "output_type": "stream",
       "stream": "stdout",
       "text": [
        "\n",
        "probe: probe(1,2).png"
       ]
      },
      {
       "output_type": "stream",
       "stream": "stdout",
       "text": [
        "\n",
        "probe: probe(2,3).png"
       ]
      },
      {
       "output_type": "stream",
       "stream": "stdout",
       "text": [
        "\n",
        "probe: probe(3,4).png"
       ]
      },
      {
       "output_type": "stream",
       "stream": "stdout",
       "text": [
        "\n",
        "probe: probe(4,5).png"
       ]
      },
      {
       "output_type": "stream",
       "stream": "stdout",
       "text": [
        "\n",
        "probe: probe(5,6).png"
       ]
      },
      {
       "output_type": "stream",
       "stream": "stdout",
       "text": [
        "\n",
        "probe: probe(6,7).png"
       ]
      },
      {
       "output_type": "stream",
       "stream": "stdout",
       "text": [
        "\n",
        "probe: probe(7,8).png"
       ]
      },
      {
       "output_type": "stream",
       "stream": "stdout",
       "text": [
        "\n",
        "probe: probe(8,9).png"
       ]
      },
      {
       "output_type": "stream",
       "stream": "stdout",
       "text": [
        "\n",
        "probe: probe(9,10).png"
       ]
      },
      {
       "output_type": "stream",
       "stream": "stdout",
       "text": [
        "\n",
        "probe: probe(10,11).png"
       ]
      },
      {
       "output_type": "stream",
       "stream": "stdout",
       "text": [
        "\n",
        "probe: probe(11,12).png"
       ]
      },
      {
       "output_type": "stream",
       "stream": "stdout",
       "text": [
        "\n",
        "probe: probe(12,13).png"
       ]
      },
      {
       "output_type": "stream",
       "stream": "stdout",
       "text": [
        "\n",
        "probe: probe(13,14).png"
       ]
      },
      {
       "output_type": "stream",
       "stream": "stdout",
       "text": [
        "\n",
        "probe: probe(14,15).png"
       ]
      },
      {
       "output_type": "stream",
       "stream": "stdout",
       "text": [
        "\n",
        "probe: probe(15,16).png"
       ]
      },
      {
       "output_type": "stream",
       "stream": "stdout",
       "text": [
        "\n",
        "probe: probe(16,17).png"
       ]
      },
      {
       "output_type": "stream",
       "stream": "stdout",
       "text": [
        "\n",
        "probe: probe(17,18).png"
       ]
      },
      {
       "output_type": "stream",
       "stream": "stdout",
       "text": [
        "\n",
        "probe: probe(18,19).png"
       ]
      },
      {
       "output_type": "stream",
       "stream": "stdout",
       "text": [
        "\n",
        "probe: probe(19,20).png"
       ]
      },
      {
       "output_type": "stream",
       "stream": "stdout",
       "text": [
        "\n",
        "probe: probe(20,21).png"
       ]
      },
      {
       "output_type": "stream",
       "stream": "stdout",
       "text": [
        "\n",
        "probe: probe(21,22).png"
       ]
      },
      {
       "output_type": "stream",
       "stream": "stdout",
       "text": [
        "\n",
        "probe: probe(22,23).png"
       ]
      },
      {
       "output_type": "stream",
       "stream": "stdout",
       "text": [
        "\n",
        "probe: probe(23,24).png"
       ]
      },
      {
       "output_type": "stream",
       "stream": "stdout",
       "text": [
        "\n",
        "probe: probe(24,25).png"
       ]
      },
      {
       "output_type": "stream",
       "stream": "stdout",
       "text": [
        "\n",
        "probe: probe(25,26).png"
       ]
      },
      {
       "output_type": "stream",
       "stream": "stdout",
       "text": [
        "\n",
        "probe: probe(26,27).png"
       ]
      },
      {
       "output_type": "stream",
       "stream": "stdout",
       "text": [
        "\n",
        "probe: probe(27,28).png"
       ]
      },
      {
       "output_type": "stream",
       "stream": "stdout",
       "text": [
        "\n",
        "probe: probe(28,29).png"
       ]
      },
      {
       "output_type": "stream",
       "stream": "stdout",
       "text": [
        "\n",
        "probe: probe(29,30).png"
       ]
      },
      {
       "output_type": "stream",
       "stream": "stdout",
       "text": [
        "\n",
        "probe: probe(30,31).png"
       ]
      },
      {
       "output_type": "stream",
       "stream": "stdout",
       "text": [
        "\n",
        "probe: probe(31,32).png"
       ]
      },
      {
       "output_type": "stream",
       "stream": "stdout",
       "text": [
        "\n",
        "probe: probe(32,33).png"
       ]
      },
      {
       "output_type": "stream",
       "stream": "stdout",
       "text": [
        "\n",
        "probe: probe(33,34).png"
       ]
      },
      {
       "output_type": "stream",
       "stream": "stdout",
       "text": [
        "\n",
        "probe: probe(34,35).png"
       ]
      },
      {
       "output_type": "stream",
       "stream": "stdout",
       "text": [
        "\n",
        "probe: probe(35,36).png"
       ]
      },
      {
       "output_type": "stream",
       "stream": "stdout",
       "text": [
        "\n",
        "probe: probe(36,37).png"
       ]
      },
      {
       "output_type": "stream",
       "stream": "stdout",
       "text": [
        "\n",
        "probe: probe(37,38).png"
       ]
      },
      {
       "output_type": "stream",
       "stream": "stdout",
       "text": [
        "\n",
        "probe: probe(38,39).png"
       ]
      },
      {
       "output_type": "stream",
       "stream": "stdout",
       "text": [
        "\n",
        "probe: probe(39,40).png"
       ]
      },
      {
       "output_type": "stream",
       "stream": "stdout",
       "text": [
        "\n",
        "probe: probe(40,41).png"
       ]
      },
      {
       "output_type": "stream",
       "stream": "stdout",
       "text": [
        "\n",
        "probe: probe(41,42).png"
       ]
      },
      {
       "output_type": "stream",
       "stream": "stdout",
       "text": [
        "\n",
        "probe: probe(42,43).png"
       ]
      },
      {
       "output_type": "stream",
       "stream": "stdout",
       "text": [
        "\n",
        "probe: probe(43,44).png"
       ]
      },
      {
       "output_type": "stream",
       "stream": "stdout",
       "text": [
        "\n",
        "probe: probe(44,45).png"
       ]
      },
      {
       "output_type": "stream",
       "stream": "stdout",
       "text": [
        "\n",
        "probe: probe(45,46).png"
       ]
      },
      {
       "output_type": "stream",
       "stream": "stdout",
       "text": [
        "\n",
        "probe: probe(46,47).png"
       ]
      },
      {
       "output_type": "stream",
       "stream": "stdout",
       "text": [
        "\n",
        "probe: probe(47,48).png"
       ]
      },
      {
       "output_type": "stream",
       "stream": "stdout",
       "text": [
        "\n",
        "probe: probe(48,49).png"
       ]
      },
      {
       "output_type": "stream",
       "stream": "stdout",
       "text": [
        "\n",
        "probe: probe(49,50).png"
       ]
      },
      {
       "output_type": "stream",
       "stream": "stdout",
       "text": [
        "\n",
        "probe: probe(50,51).png"
       ]
      },
      {
       "output_type": "stream",
       "stream": "stdout",
       "text": [
        "\n",
        "probe: probe(51,52).png"
       ]
      },
      {
       "output_type": "stream",
       "stream": "stdout",
       "text": [
        "\n",
        "probe: probe(52,53).png"
       ]
      },
      {
       "output_type": "stream",
       "stream": "stdout",
       "text": [
        "\n",
        "probe: probe(53,54).png"
       ]
      },
      {
       "output_type": "stream",
       "stream": "stdout",
       "text": [
        "\n",
        "probe: probe(54,55).png"
       ]
      },
      {
       "output_type": "stream",
       "stream": "stdout",
       "text": [
        "\n",
        "probe: probe(55,56).png"
       ]
      },
      {
       "output_type": "stream",
       "stream": "stdout",
       "text": [
        "\n",
        "probe: probe(56,57).png"
       ]
      },
      {
       "output_type": "stream",
       "stream": "stdout",
       "text": [
        "\n",
        "probe: probe(57,58).png"
       ]
      },
      {
       "output_type": "stream",
       "stream": "stdout",
       "text": [
        "\n",
        "probe: probe(58,59).png"
       ]
      },
      {
       "output_type": "stream",
       "stream": "stdout",
       "text": [
        "\n",
        "probe: probe(59,60).png"
       ]
      },
      {
       "output_type": "stream",
       "stream": "stdout",
       "text": [
        "\n",
        "probe: probe(60,61).png"
       ]
      },
      {
       "output_type": "stream",
       "stream": "stdout",
       "text": [
        "\n",
        "probe: probe(61,62).png"
       ]
      },
      {
       "output_type": "stream",
       "stream": "stdout",
       "text": [
        "\n",
        "probe: probe(62,63).png"
       ]
      },
      {
       "output_type": "stream",
       "stream": "stdout",
       "text": [
        "\n",
        "probe: probe(0).png"
       ]
      },
      {
       "output_type": "stream",
       "stream": "stdout",
       "text": [
        "\n",
        "probe: probe(1).png\n",
        "probe: probe(2).png"
       ]
      },
      {
       "output_type": "stream",
       "stream": "stdout",
       "text": [
        "\n",
        "probe: probe(3).png\n",
        "probe: probe(4).png"
       ]
      },
      {
       "output_type": "stream",
       "stream": "stdout",
       "text": [
        "\n",
        "probe: probe(5).png\n",
        "probe: probe(6).png"
       ]
      },
      {
       "output_type": "stream",
       "stream": "stdout",
       "text": [
        "\n",
        "probe: probe(7).png\n",
        "probe: probe(8).png"
       ]
      },
      {
       "output_type": "stream",
       "stream": "stdout",
       "text": [
        "\n",
        "probe: probe(9).png\n",
        "probe: probe(10).png"
       ]
      },
      {
       "output_type": "stream",
       "stream": "stdout",
       "text": [
        "\n",
        "probe: probe(11).png\n",
        "probe: probe(12).png"
       ]
      },
      {
       "output_type": "stream",
       "stream": "stdout",
       "text": [
        "\n",
        "probe: probe(13).png\n",
        "probe: probe(14).png"
       ]
      },
      {
       "output_type": "stream",
       "stream": "stdout",
       "text": [
        "\n",
        "probe: probe(15).png\n",
        "probe: probe(16).png"
       ]
      },
      {
       "output_type": "stream",
       "stream": "stdout",
       "text": [
        "\n",
        "probe: probe(17).png\n",
        "probe: probe(18).png"
       ]
      },
      {
       "output_type": "stream",
       "stream": "stdout",
       "text": [
        "\n",
        "probe: probe(19).png\n",
        "probe: probe(20).png"
       ]
      },
      {
       "output_type": "stream",
       "stream": "stdout",
       "text": [
        "\n",
        "probe: probe(21).png\n",
        "probe: probe(22).png"
       ]
      },
      {
       "output_type": "stream",
       "stream": "stdout",
       "text": [
        "\n",
        "probe: probe(23).png\n",
        "probe: probe(24).png"
       ]
      },
      {
       "output_type": "stream",
       "stream": "stdout",
       "text": [
        "\n",
        "probe: probe(25).png"
       ]
      },
      {
       "output_type": "stream",
       "stream": "stdout",
       "text": [
        "\n",
        "probe: probe(26).png\n",
        "probe: probe(27).png"
       ]
      },
      {
       "output_type": "stream",
       "stream": "stdout",
       "text": [
        "\n",
        "probe: probe(28).png\n",
        "probe: probe(29).png"
       ]
      },
      {
       "output_type": "stream",
       "stream": "stdout",
       "text": [
        "\n",
        "probe: probe(30).png\n",
        "probe: probe(31).png"
       ]
      },
      {
       "output_type": "stream",
       "stream": "stdout",
       "text": [
        "\n",
        "probe: probe(32).png\n",
        "probe: probe(33).png"
       ]
      },
      {
       "output_type": "stream",
       "stream": "stdout",
       "text": [
        "\n",
        "probe: probe(34).png\n",
        "probe: probe(35).png"
       ]
      },
      {
       "output_type": "stream",
       "stream": "stdout",
       "text": [
        "\n",
        "probe: probe(36).png\n",
        "probe: probe(37).png"
       ]
      },
      {
       "output_type": "stream",
       "stream": "stdout",
       "text": [
        "\n",
        "probe: probe(38).png\n",
        "probe: probe(39).png"
       ]
      },
      {
       "output_type": "stream",
       "stream": "stdout",
       "text": [
        "\n",
        "probe: probe(40).png\n",
        "probe: probe(41).png"
       ]
      },
      {
       "output_type": "stream",
       "stream": "stdout",
       "text": [
        "\n",
        "probe: probe(42).png\n",
        "probe: probe(43).png"
       ]
      },
      {
       "output_type": "stream",
       "stream": "stdout",
       "text": [
        "\n",
        "probe: probe(44).png\n",
        "probe: probe(45).png"
       ]
      },
      {
       "output_type": "stream",
       "stream": "stdout",
       "text": [
        "\n",
        "probe: probe(46).png\n",
        "probe: probe(47).png"
       ]
      },
      {
       "output_type": "stream",
       "stream": "stdout",
       "text": [
        "\n",
        "probe: probe(48).png\n",
        "probe: probe(49).png"
       ]
      },
      {
       "output_type": "stream",
       "stream": "stdout",
       "text": [
        "\n",
        "probe: probe(50).png\n",
        "probe: probe(51).png"
       ]
      },
      {
       "output_type": "stream",
       "stream": "stdout",
       "text": [
        "\n",
        "probe: probe(52).png\n",
        "probe: probe(53).png"
       ]
      },
      {
       "output_type": "stream",
       "stream": "stdout",
       "text": [
        "\n",
        "probe: probe(54).png\n",
        "probe: probe(55).png"
       ]
      },
      {
       "output_type": "stream",
       "stream": "stdout",
       "text": [
        "\n",
        "probe: probe(56).png\n",
        "probe: probe(57).png"
       ]
      },
      {
       "output_type": "stream",
       "stream": "stdout",
       "text": [
        "\n",
        "probe: probe(58).png\n",
        "probe: probe(59).png"
       ]
      },
      {
       "output_type": "stream",
       "stream": "stdout",
       "text": [
        "\n",
        "probe: probe(60).png\n",
        "probe: probe(61).png"
       ]
      },
      {
       "output_type": "stream",
       "stream": "stdout",
       "text": [
        "\n",
        "probe: probe(62).png\n",
        "probe: probe(63).png"
       ]
      },
      {
       "output_type": "stream",
       "stream": "stdout",
       "text": [
        "\n",
        "probe: probe(0,1).png\n",
        "probe: probe(1,2).png"
       ]
      },
      {
       "output_type": "stream",
       "stream": "stdout",
       "text": [
        "\n",
        "probe: probe(2,3).png\n",
        "probe: probe(3,4).png"
       ]
      },
      {
       "output_type": "stream",
       "stream": "stdout",
       "text": [
        "\n",
        "probe: probe(4,5).png\n",
        "probe: probe(5,6).png"
       ]
      },
      {
       "output_type": "stream",
       "stream": "stdout",
       "text": [
        "\n",
        "probe: probe(6,7).png\n",
        "probe: probe(7,8).png"
       ]
      },
      {
       "output_type": "stream",
       "stream": "stdout",
       "text": [
        "\n",
        "probe: probe(8,9).png\n",
        "probe: probe(9,10).png"
       ]
      },
      {
       "output_type": "stream",
       "stream": "stdout",
       "text": [
        "\n",
        "probe: probe(10,11).png\n",
        "probe: probe(11,12).png"
       ]
      },
      {
       "output_type": "stream",
       "stream": "stdout",
       "text": [
        "\n",
        "probe: probe(12,13).png\n",
        "probe: probe(13,14).png"
       ]
      },
      {
       "output_type": "stream",
       "stream": "stdout",
       "text": [
        "\n",
        "probe: probe(14,15).png\n",
        "probe: probe(15,16).png"
       ]
      },
      {
       "output_type": "stream",
       "stream": "stdout",
       "text": [
        "\n",
        "probe: probe(16,17).png\n",
        "probe: probe(17,18).png"
       ]
      },
      {
       "output_type": "stream",
       "stream": "stdout",
       "text": [
        "\n",
        "probe: probe(18,19).png\n",
        "probe: probe(19,20).png"
       ]
      },
      {
       "output_type": "stream",
       "stream": "stdout",
       "text": [
        "\n",
        "probe: probe(20,21).png\n",
        "probe: probe(21,22).png"
       ]
      },
      {
       "output_type": "stream",
       "stream": "stdout",
       "text": [
        "\n",
        "probe: probe(22,23).png\n",
        "probe: probe(23,24).png"
       ]
      },
      {
       "output_type": "stream",
       "stream": "stdout",
       "text": [
        "\n",
        "probe: probe(24,25).png\n",
        "probe: probe(25,26).png"
       ]
      },
      {
       "output_type": "stream",
       "stream": "stdout",
       "text": [
        "\n",
        "probe: probe(26,27).png\n",
        "probe: probe(27,28).png"
       ]
      },
      {
       "output_type": "stream",
       "stream": "stdout",
       "text": [
        "\n",
        "probe: probe(28,29).png\n",
        "probe: probe(29,30).png"
       ]
      },
      {
       "output_type": "stream",
       "stream": "stdout",
       "text": [
        "\n",
        "probe: probe(30,31).png\n",
        "probe: probe(31,32).png"
       ]
      },
      {
       "output_type": "stream",
       "stream": "stdout",
       "text": [
        "\n",
        "probe: probe(32,33).png\n",
        "probe: probe(33,34).png"
       ]
      },
      {
       "output_type": "stream",
       "stream": "stdout",
       "text": [
        "\n",
        "probe: probe(34,35).png\n",
        "probe: probe(35,36).png"
       ]
      },
      {
       "output_type": "stream",
       "stream": "stdout",
       "text": [
        "\n",
        "probe: probe(36,37).png\n",
        "probe: probe(37,38).png"
       ]
      },
      {
       "output_type": "stream",
       "stream": "stdout",
       "text": [
        "\n",
        "probe: probe(38,39).png\n",
        "probe: probe(39,40).png"
       ]
      },
      {
       "output_type": "stream",
       "stream": "stdout",
       "text": [
        "\n",
        "probe: probe(40,41).png\n",
        "probe: probe(41,42).png"
       ]
      },
      {
       "output_type": "stream",
       "stream": "stdout",
       "text": [
        "\n",
        "probe: probe(42,43).png\n",
        "probe: probe(43,44).png"
       ]
      },
      {
       "output_type": "stream",
       "stream": "stdout",
       "text": [
        "\n",
        "probe: probe(44,45).png\n",
        "probe: probe(45,46).png"
       ]
      },
      {
       "output_type": "stream",
       "stream": "stdout",
       "text": [
        "\n",
        "probe: probe(46,47).png\n",
        "probe: probe(47,48).png"
       ]
      },
      {
       "output_type": "stream",
       "stream": "stdout",
       "text": [
        "\n",
        "probe: probe(48,49).png\n",
        "probe: probe(49,50).png"
       ]
      },
      {
       "output_type": "stream",
       "stream": "stdout",
       "text": [
        "\n",
        "probe: probe(50,51).png\n",
        "probe: probe(51,52).png"
       ]
      },
      {
       "output_type": "stream",
       "stream": "stdout",
       "text": [
        "\n",
        "probe: probe(52,53).png\n",
        "probe: probe(53,54).png"
       ]
      },
      {
       "output_type": "stream",
       "stream": "stdout",
       "text": [
        "\n",
        "probe: probe(54,55).png\n",
        "probe: probe(55,56).png"
       ]
      },
      {
       "output_type": "stream",
       "stream": "stdout",
       "text": [
        "\n",
        "probe: probe(56,57).png\n",
        "probe: probe(57,58).png"
       ]
      },
      {
       "output_type": "stream",
       "stream": "stdout",
       "text": [
        "\n",
        "probe: probe(58,59).png\n",
        "probe: probe(59,60).png"
       ]
      },
      {
       "output_type": "stream",
       "stream": "stdout",
       "text": [
        "\n",
        "probe: probe(60,61).png\n",
        "probe: probe(61,62).png"
       ]
      },
      {
       "output_type": "stream",
       "stream": "stdout",
       "text": [
        "\n",
        "probe: probe(62,63).png\n",
        "probe: probe(0).png"
       ]
      },
      {
       "output_type": "stream",
       "stream": "stdout",
       "text": [
        "\n",
        "probe: probe(1).png"
       ]
      },
      {
       "output_type": "stream",
       "stream": "stdout",
       "text": [
        "\n",
        "probe: probe(2).png"
       ]
      },
      {
       "output_type": "stream",
       "stream": "stdout",
       "text": [
        "\n",
        "probe: probe(3).png"
       ]
      },
      {
       "output_type": "stream",
       "stream": "stdout",
       "text": [
        "\n",
        "probe: probe(4).png"
       ]
      },
      {
       "output_type": "stream",
       "stream": "stdout",
       "text": [
        "\n",
        "probe: probe(5).png"
       ]
      },
      {
       "output_type": "stream",
       "stream": "stdout",
       "text": [
        "\n",
        "probe: probe(6).png"
       ]
      },
      {
       "output_type": "stream",
       "stream": "stdout",
       "text": [
        "\n",
        "probe: probe(7).png"
       ]
      },
      {
       "output_type": "stream",
       "stream": "stdout",
       "text": [
        "\n",
        "probe: probe(8).png"
       ]
      },
      {
       "output_type": "stream",
       "stream": "stdout",
       "text": [
        "\n",
        "probe: probe(9).png"
       ]
      },
      {
       "output_type": "stream",
       "stream": "stdout",
       "text": [
        "\n",
        "probe: probe(10).png"
       ]
      },
      {
       "output_type": "stream",
       "stream": "stdout",
       "text": [
        "\n",
        "probe: probe(11).png"
       ]
      },
      {
       "output_type": "stream",
       "stream": "stdout",
       "text": [
        "\n",
        "probe: probe(12).png"
       ]
      },
      {
       "output_type": "stream",
       "stream": "stdout",
       "text": [
        "\n",
        "probe: probe(13).png"
       ]
      },
      {
       "output_type": "stream",
       "stream": "stdout",
       "text": [
        "\n",
        "probe: probe(14).png"
       ]
      },
      {
       "output_type": "stream",
       "stream": "stdout",
       "text": [
        "\n",
        "probe: probe(15).png"
       ]
      },
      {
       "output_type": "stream",
       "stream": "stdout",
       "text": [
        "\n",
        "probe: probe(16).png"
       ]
      },
      {
       "output_type": "stream",
       "stream": "stdout",
       "text": [
        "\n",
        "probe: probe(17).png"
       ]
      },
      {
       "output_type": "stream",
       "stream": "stdout",
       "text": [
        "\n",
        "probe: probe(18).png"
       ]
      },
      {
       "output_type": "stream",
       "stream": "stdout",
       "text": [
        "\n",
        "probe: probe(19).png"
       ]
      },
      {
       "output_type": "stream",
       "stream": "stdout",
       "text": [
        "\n",
        "probe: probe(20).png"
       ]
      },
      {
       "output_type": "stream",
       "stream": "stdout",
       "text": [
        "\n",
        "probe: probe(21).png"
       ]
      },
      {
       "output_type": "stream",
       "stream": "stdout",
       "text": [
        "\n",
        "probe: probe(22).png"
       ]
      },
      {
       "output_type": "stream",
       "stream": "stdout",
       "text": [
        "\n",
        "probe: probe(23).png"
       ]
      },
      {
       "output_type": "stream",
       "stream": "stdout",
       "text": [
        "\n",
        "probe: probe(24).png"
       ]
      },
      {
       "output_type": "stream",
       "stream": "stdout",
       "text": [
        "\n",
        "probe: probe(25).png"
       ]
      },
      {
       "output_type": "stream",
       "stream": "stdout",
       "text": [
        "\n",
        "probe: probe(26).png"
       ]
      },
      {
       "output_type": "stream",
       "stream": "stdout",
       "text": [
        "\n",
        "probe: probe(27).png"
       ]
      },
      {
       "output_type": "stream",
       "stream": "stdout",
       "text": [
        "\n",
        "probe: probe(28).png"
       ]
      },
      {
       "output_type": "stream",
       "stream": "stdout",
       "text": [
        "\n",
        "probe: probe(29).png"
       ]
      },
      {
       "output_type": "stream",
       "stream": "stdout",
       "text": [
        "\n",
        "probe: probe(30).png"
       ]
      },
      {
       "output_type": "stream",
       "stream": "stdout",
       "text": [
        "\n",
        "probe: probe(31).png"
       ]
      },
      {
       "output_type": "stream",
       "stream": "stdout",
       "text": [
        "\n",
        "probe: probe(32).png"
       ]
      },
      {
       "output_type": "stream",
       "stream": "stdout",
       "text": [
        "\n",
        "probe: probe(33).png"
       ]
      },
      {
       "output_type": "stream",
       "stream": "stdout",
       "text": [
        "\n",
        "probe: probe(34).png"
       ]
      },
      {
       "output_type": "stream",
       "stream": "stdout",
       "text": [
        "\n",
        "probe: probe(35).png"
       ]
      },
      {
       "output_type": "stream",
       "stream": "stdout",
       "text": [
        "\n",
        "probe: probe(36).png"
       ]
      },
      {
       "output_type": "stream",
       "stream": "stdout",
       "text": [
        "\n",
        "probe: probe(37).png"
       ]
      },
      {
       "output_type": "stream",
       "stream": "stdout",
       "text": [
        "\n",
        "probe: probe(38).png"
       ]
      },
      {
       "output_type": "stream",
       "stream": "stdout",
       "text": [
        "\n",
        "probe: probe(39).png"
       ]
      },
      {
       "output_type": "stream",
       "stream": "stdout",
       "text": [
        "\n",
        "probe: probe(40).png"
       ]
      },
      {
       "output_type": "stream",
       "stream": "stdout",
       "text": [
        "\n",
        "probe: probe(41).png"
       ]
      },
      {
       "output_type": "stream",
       "stream": "stdout",
       "text": [
        "\n",
        "probe: probe(42).png"
       ]
      },
      {
       "output_type": "stream",
       "stream": "stdout",
       "text": [
        "\n",
        "probe: probe(43).png"
       ]
      },
      {
       "output_type": "stream",
       "stream": "stdout",
       "text": [
        "\n",
        "probe: probe(44).png"
       ]
      },
      {
       "output_type": "stream",
       "stream": "stdout",
       "text": [
        "\n",
        "probe: probe(45).png"
       ]
      },
      {
       "output_type": "stream",
       "stream": "stdout",
       "text": [
        "\n",
        "probe: probe(46).png"
       ]
      },
      {
       "output_type": "stream",
       "stream": "stdout",
       "text": [
        "\n",
        "probe: probe(47).png"
       ]
      },
      {
       "output_type": "stream",
       "stream": "stdout",
       "text": [
        "\n",
        "probe: probe(48).png"
       ]
      },
      {
       "output_type": "stream",
       "stream": "stdout",
       "text": [
        "\n",
        "probe: probe(49).png"
       ]
      },
      {
       "output_type": "stream",
       "stream": "stdout",
       "text": [
        "\n",
        "probe: probe(50).png"
       ]
      },
      {
       "output_type": "stream",
       "stream": "stdout",
       "text": [
        "\n",
        "probe: probe(51).png"
       ]
      },
      {
       "output_type": "stream",
       "stream": "stdout",
       "text": [
        "\n",
        "probe: probe(52).png"
       ]
      },
      {
       "output_type": "stream",
       "stream": "stdout",
       "text": [
        "\n",
        "probe: probe(53).png"
       ]
      },
      {
       "output_type": "stream",
       "stream": "stdout",
       "text": [
        "\n",
        "probe: probe(54).png"
       ]
      },
      {
       "output_type": "stream",
       "stream": "stdout",
       "text": [
        "\n",
        "probe: probe(55).png"
       ]
      },
      {
       "output_type": "stream",
       "stream": "stdout",
       "text": [
        "\n",
        "probe: probe(56).png"
       ]
      },
      {
       "output_type": "stream",
       "stream": "stdout",
       "text": [
        "\n",
        "probe: probe(57).png"
       ]
      },
      {
       "output_type": "stream",
       "stream": "stdout",
       "text": [
        "\n",
        "probe: probe(58).png"
       ]
      },
      {
       "output_type": "stream",
       "stream": "stdout",
       "text": [
        "\n",
        "probe: probe(59).png"
       ]
      },
      {
       "output_type": "stream",
       "stream": "stdout",
       "text": [
        "\n",
        "probe: probe(60).png"
       ]
      },
      {
       "output_type": "stream",
       "stream": "stdout",
       "text": [
        "\n",
        "probe: probe(61).png"
       ]
      },
      {
       "output_type": "stream",
       "stream": "stdout",
       "text": [
        "\n",
        "probe: probe(62).png"
       ]
      },
      {
       "output_type": "stream",
       "stream": "stdout",
       "text": [
        "\n",
        "probe: probe(63).png"
       ]
      },
      {
       "output_type": "stream",
       "stream": "stdout",
       "text": [
        "\n",
        "probe: probe(0,1).png"
       ]
      },
      {
       "output_type": "stream",
       "stream": "stdout",
       "text": [
        "\n",
        "probe: probe(1,2).png"
       ]
      },
      {
       "output_type": "stream",
       "stream": "stdout",
       "text": [
        "\n",
        "probe: probe(2,3).png"
       ]
      },
      {
       "output_type": "stream",
       "stream": "stdout",
       "text": [
        "\n",
        "probe: probe(3,4).png"
       ]
      },
      {
       "output_type": "stream",
       "stream": "stdout",
       "text": [
        "\n",
        "probe: probe(4,5).png"
       ]
      },
      {
       "output_type": "stream",
       "stream": "stdout",
       "text": [
        "\n",
        "probe: probe(5,6).png"
       ]
      },
      {
       "output_type": "stream",
       "stream": "stdout",
       "text": [
        "\n",
        "probe: probe(6,7).png"
       ]
      },
      {
       "output_type": "stream",
       "stream": "stdout",
       "text": [
        "\n",
        "probe: probe(7,8).png"
       ]
      },
      {
       "output_type": "stream",
       "stream": "stdout",
       "text": [
        "\n",
        "probe: probe(8,9).png"
       ]
      },
      {
       "output_type": "stream",
       "stream": "stdout",
       "text": [
        "\n",
        "probe: probe(9,10).png"
       ]
      },
      {
       "output_type": "stream",
       "stream": "stdout",
       "text": [
        "\n",
        "probe: probe(10,11).png"
       ]
      },
      {
       "output_type": "stream",
       "stream": "stdout",
       "text": [
        "\n",
        "probe: probe(11,12).png"
       ]
      },
      {
       "output_type": "stream",
       "stream": "stdout",
       "text": [
        "\n",
        "probe: probe(12,13).png"
       ]
      },
      {
       "output_type": "stream",
       "stream": "stdout",
       "text": [
        "\n",
        "probe: probe(13,14).png"
       ]
      },
      {
       "output_type": "stream",
       "stream": "stdout",
       "text": [
        "\n",
        "probe: probe(14,15).png"
       ]
      },
      {
       "output_type": "stream",
       "stream": "stdout",
       "text": [
        "\n",
        "probe: probe(15,16).png"
       ]
      },
      {
       "output_type": "stream",
       "stream": "stdout",
       "text": [
        "\n",
        "probe: probe(16,17).png"
       ]
      },
      {
       "output_type": "stream",
       "stream": "stdout",
       "text": [
        "\n",
        "probe: probe(17,18).png"
       ]
      },
      {
       "output_type": "stream",
       "stream": "stdout",
       "text": [
        "\n",
        "probe: probe(18,19).png"
       ]
      },
      {
       "output_type": "stream",
       "stream": "stdout",
       "text": [
        "\n",
        "probe: probe(19,20).png"
       ]
      },
      {
       "output_type": "stream",
       "stream": "stdout",
       "text": [
        "\n",
        "probe: probe(20,21).png"
       ]
      },
      {
       "output_type": "stream",
       "stream": "stdout",
       "text": [
        "\n",
        "probe: probe(21,22).png"
       ]
      },
      {
       "output_type": "stream",
       "stream": "stdout",
       "text": [
        "\n",
        "probe: probe(22,23).png"
       ]
      },
      {
       "output_type": "stream",
       "stream": "stdout",
       "text": [
        "\n",
        "probe: probe(23,24).png"
       ]
      },
      {
       "output_type": "stream",
       "stream": "stdout",
       "text": [
        "\n",
        "probe: probe(24,25).png"
       ]
      },
      {
       "output_type": "stream",
       "stream": "stdout",
       "text": [
        "\n",
        "probe: probe(25,26).png"
       ]
      },
      {
       "output_type": "stream",
       "stream": "stdout",
       "text": [
        "\n",
        "probe: probe(26,27).png"
       ]
      },
      {
       "output_type": "stream",
       "stream": "stdout",
       "text": [
        "\n",
        "probe: probe(27,28).png"
       ]
      },
      {
       "output_type": "stream",
       "stream": "stdout",
       "text": [
        "\n",
        "probe: probe(28,29).png"
       ]
      },
      {
       "output_type": "stream",
       "stream": "stdout",
       "text": [
        "\n",
        "probe: probe(29,30).png"
       ]
      },
      {
       "output_type": "stream",
       "stream": "stdout",
       "text": [
        "\n",
        "probe: probe(30,31).png"
       ]
      },
      {
       "output_type": "stream",
       "stream": "stdout",
       "text": [
        "\n",
        "probe: probe(31,32).png"
       ]
      },
      {
       "output_type": "stream",
       "stream": "stdout",
       "text": [
        "\n",
        "probe: probe(32,33).png"
       ]
      },
      {
       "output_type": "stream",
       "stream": "stdout",
       "text": [
        "\n",
        "probe: probe(33,34).png"
       ]
      },
      {
       "output_type": "stream",
       "stream": "stdout",
       "text": [
        "\n",
        "probe: probe(34,35).png"
       ]
      },
      {
       "output_type": "stream",
       "stream": "stdout",
       "text": [
        "\n",
        "probe: probe(35,36).png"
       ]
      },
      {
       "output_type": "stream",
       "stream": "stdout",
       "text": [
        "\n",
        "probe: probe(36,37).png"
       ]
      },
      {
       "output_type": "stream",
       "stream": "stdout",
       "text": [
        "\n",
        "probe: probe(37,38).png"
       ]
      },
      {
       "output_type": "stream",
       "stream": "stdout",
       "text": [
        "\n",
        "probe: probe(38,39).png"
       ]
      },
      {
       "output_type": "stream",
       "stream": "stdout",
       "text": [
        "\n",
        "probe: probe(39,40).png"
       ]
      },
      {
       "output_type": "stream",
       "stream": "stdout",
       "text": [
        "\n",
        "probe: probe(40,41).png"
       ]
      },
      {
       "output_type": "stream",
       "stream": "stdout",
       "text": [
        "\n",
        "probe: probe(41,42).png"
       ]
      },
      {
       "output_type": "stream",
       "stream": "stdout",
       "text": [
        "\n",
        "probe: probe(42,43).png"
       ]
      },
      {
       "output_type": "stream",
       "stream": "stdout",
       "text": [
        "\n",
        "probe: probe(43,44).png"
       ]
      },
      {
       "output_type": "stream",
       "stream": "stdout",
       "text": [
        "\n",
        "probe: probe(44,45).png"
       ]
      },
      {
       "output_type": "stream",
       "stream": "stdout",
       "text": [
        "\n",
        "probe: probe(45,46).png"
       ]
      },
      {
       "output_type": "stream",
       "stream": "stdout",
       "text": [
        "\n",
        "probe: probe(46,47).png"
       ]
      },
      {
       "output_type": "stream",
       "stream": "stdout",
       "text": [
        "\n",
        "probe: probe(47,48).png"
       ]
      },
      {
       "output_type": "stream",
       "stream": "stdout",
       "text": [
        "\n",
        "probe: probe(48,49).png"
       ]
      },
      {
       "output_type": "stream",
       "stream": "stdout",
       "text": [
        "\n",
        "probe: probe(49,50).png"
       ]
      },
      {
       "output_type": "stream",
       "stream": "stdout",
       "text": [
        "\n",
        "probe: probe(50,51).png"
       ]
      },
      {
       "output_type": "stream",
       "stream": "stdout",
       "text": [
        "\n",
        "probe: probe(51,52).png"
       ]
      },
      {
       "output_type": "stream",
       "stream": "stdout",
       "text": [
        "\n",
        "probe: probe(52,53).png"
       ]
      },
      {
       "output_type": "stream",
       "stream": "stdout",
       "text": [
        "\n",
        "probe: probe(53,54).png"
       ]
      },
      {
       "output_type": "stream",
       "stream": "stdout",
       "text": [
        "\n",
        "probe: probe(54,55).png"
       ]
      },
      {
       "output_type": "stream",
       "stream": "stdout",
       "text": [
        "\n",
        "probe: probe(55,56).png"
       ]
      },
      {
       "output_type": "stream",
       "stream": "stdout",
       "text": [
        "\n",
        "probe: probe(56,57).png"
       ]
      },
      {
       "output_type": "stream",
       "stream": "stdout",
       "text": [
        "\n",
        "probe: probe(57,58).png"
       ]
      },
      {
       "output_type": "stream",
       "stream": "stdout",
       "text": [
        "\n",
        "probe: probe(58,59).png"
       ]
      },
      {
       "output_type": "stream",
       "stream": "stdout",
       "text": [
        "\n",
        "probe: probe(59,60).png"
       ]
      },
      {
       "output_type": "stream",
       "stream": "stdout",
       "text": [
        "\n",
        "probe: probe(60,61).png"
       ]
      },
      {
       "output_type": "stream",
       "stream": "stdout",
       "text": [
        "\n",
        "probe: probe(61,62).png"
       ]
      },
      {
       "output_type": "stream",
       "stream": "stdout",
       "text": [
        "\n",
        "probe: probe(62,63).png"
       ]
      },
      {
       "output_type": "stream",
       "stream": "stdout",
       "text": [
        "\n",
        "probe: probe(0).png"
       ]
      },
      {
       "output_type": "stream",
       "stream": "stdout",
       "text": [
        "\n",
        "probe: probe(1).png\n",
        "probe: probe(2).png"
       ]
      },
      {
       "output_type": "stream",
       "stream": "stdout",
       "text": [
        "\n",
        "probe: probe(3).png\n",
        "probe: probe(4).png"
       ]
      },
      {
       "output_type": "stream",
       "stream": "stdout",
       "text": [
        "\n",
        "probe: probe(5).png\n",
        "probe: probe(6).png"
       ]
      },
      {
       "output_type": "stream",
       "stream": "stdout",
       "text": [
        "\n",
        "probe: probe(7).png\n",
        "probe: probe(8).png"
       ]
      },
      {
       "output_type": "stream",
       "stream": "stdout",
       "text": [
        "\n",
        "probe: probe(9).png\n",
        "probe: probe(10).png"
       ]
      },
      {
       "output_type": "stream",
       "stream": "stdout",
       "text": [
        "\n",
        "probe: probe(11).png\n",
        "probe: probe(12).png"
       ]
      },
      {
       "output_type": "stream",
       "stream": "stdout",
       "text": [
        "\n",
        "probe: probe(13).png\n",
        "probe: probe(14).png"
       ]
      },
      {
       "output_type": "stream",
       "stream": "stdout",
       "text": [
        "\n",
        "probe: probe(15).png\n",
        "probe: probe(16).png"
       ]
      },
      {
       "output_type": "stream",
       "stream": "stdout",
       "text": [
        "\n",
        "probe: probe(17).png\n",
        "probe: probe(18).png"
       ]
      },
      {
       "output_type": "stream",
       "stream": "stdout",
       "text": [
        "\n",
        "probe: probe(19).png\n",
        "probe: probe(20).png"
       ]
      },
      {
       "output_type": "stream",
       "stream": "stdout",
       "text": [
        "\n",
        "probe: probe(21).png\n",
        "probe: probe(22).png"
       ]
      },
      {
       "output_type": "stream",
       "stream": "stdout",
       "text": [
        "\n",
        "probe: probe(23).png\n",
        "probe: probe(24).png"
       ]
      },
      {
       "output_type": "stream",
       "stream": "stdout",
       "text": [
        "\n",
        "probe: probe(25).png\n",
        "probe: probe(26).png"
       ]
      },
      {
       "output_type": "stream",
       "stream": "stdout",
       "text": [
        "\n",
        "probe: probe(27).png\n",
        "probe: probe(28).png"
       ]
      },
      {
       "output_type": "stream",
       "stream": "stdout",
       "text": [
        "\n",
        "probe: probe(29).png\n",
        "probe: probe(30).png"
       ]
      },
      {
       "output_type": "stream",
       "stream": "stdout",
       "text": [
        "\n",
        "probe: probe(31).png\n",
        "probe: probe(32).png"
       ]
      },
      {
       "output_type": "stream",
       "stream": "stdout",
       "text": [
        "\n",
        "probe: probe(33).png\n",
        "probe: probe(34).png"
       ]
      },
      {
       "output_type": "stream",
       "stream": "stdout",
       "text": [
        "\n",
        "probe: probe(35).png\n",
        "probe: probe(36).png"
       ]
      },
      {
       "output_type": "stream",
       "stream": "stdout",
       "text": [
        "\n",
        "probe: probe(37).png\n",
        "probe: probe(38).png"
       ]
      },
      {
       "output_type": "stream",
       "stream": "stdout",
       "text": [
        "\n",
        "probe: probe(39).png\n",
        "probe: probe(40).png"
       ]
      },
      {
       "output_type": "stream",
       "stream": "stdout",
       "text": [
        "\n",
        "probe: probe(41).png\n",
        "probe: probe(42).png"
       ]
      },
      {
       "output_type": "stream",
       "stream": "stdout",
       "text": [
        "\n",
        "probe: probe(43).png\n",
        "probe: probe(44).png"
       ]
      },
      {
       "output_type": "stream",
       "stream": "stdout",
       "text": [
        "\n",
        "probe: probe(45).png\n",
        "probe: probe(46).png"
       ]
      },
      {
       "output_type": "stream",
       "stream": "stdout",
       "text": [
        "\n",
        "probe: probe(47).png\n",
        "probe: probe(48).png"
       ]
      },
      {
       "output_type": "stream",
       "stream": "stdout",
       "text": [
        "\n",
        "probe: probe(49).png\n",
        "probe: probe(50).png"
       ]
      },
      {
       "output_type": "stream",
       "stream": "stdout",
       "text": [
        "\n",
        "probe: probe(51).png\n",
        "probe: probe(52).png"
       ]
      },
      {
       "output_type": "stream",
       "stream": "stdout",
       "text": [
        "\n",
        "probe: probe(53).png\n",
        "probe: probe(54).png"
       ]
      },
      {
       "output_type": "stream",
       "stream": "stdout",
       "text": [
        "\n",
        "probe: probe(55).png\n",
        "probe: probe(56).png"
       ]
      },
      {
       "output_type": "stream",
       "stream": "stdout",
       "text": [
        "\n",
        "probe: probe(57).png\n",
        "probe: probe(58).png"
       ]
      },
      {
       "output_type": "stream",
       "stream": "stdout",
       "text": [
        "\n",
        "probe: probe(59).png\n",
        "probe: probe(60).png"
       ]
      },
      {
       "output_type": "stream",
       "stream": "stdout",
       "text": [
        "\n",
        "probe: probe(61).png\n",
        "probe: probe(62).png"
       ]
      },
      {
       "output_type": "stream",
       "stream": "stdout",
       "text": [
        "\n",
        "probe: probe(63).png\n",
        "probe: probe(0,1).png"
       ]
      },
      {
       "output_type": "stream",
       "stream": "stdout",
       "text": [
        "\n",
        "probe: probe(1,2).png\n",
        "probe: probe(2,3).png"
       ]
      },
      {
       "output_type": "stream",
       "stream": "stdout",
       "text": [
        "\n",
        "probe: probe(3,4).png\n",
        "probe: probe(4,5).png"
       ]
      },
      {
       "output_type": "stream",
       "stream": "stdout",
       "text": [
        "\n",
        "probe: probe(5,6).png\n",
        "probe: probe(6,7).png"
       ]
      },
      {
       "output_type": "stream",
       "stream": "stdout",
       "text": [
        "\n",
        "probe: probe(7,8).png\n",
        "probe: probe(8,9).png"
       ]
      },
      {
       "output_type": "stream",
       "stream": "stdout",
       "text": [
        "\n",
        "probe: probe(9,10).png\n",
        "probe: probe(10,11).png"
       ]
      },
      {
       "output_type": "stream",
       "stream": "stdout",
       "text": [
        "\n",
        "probe: probe(11,12).png\n",
        "probe: probe(12,13).png"
       ]
      },
      {
       "output_type": "stream",
       "stream": "stdout",
       "text": [
        "\n",
        "probe: probe(13,14).png\n",
        "probe: probe(14,15).png"
       ]
      },
      {
       "output_type": "stream",
       "stream": "stdout",
       "text": [
        "\n",
        "probe: probe(15,16).png\n",
        "probe: probe(16,17).png"
       ]
      },
      {
       "output_type": "stream",
       "stream": "stdout",
       "text": [
        "\n",
        "probe: probe(17,18).png\n",
        "probe: probe(18,19).png"
       ]
      },
      {
       "output_type": "stream",
       "stream": "stdout",
       "text": [
        "\n",
        "probe: probe(19,20).png\n",
        "probe: probe(20,21).png"
       ]
      },
      {
       "output_type": "stream",
       "stream": "stdout",
       "text": [
        "\n",
        "probe: probe(21,22).png\n",
        "probe: probe(22,23).png"
       ]
      },
      {
       "output_type": "stream",
       "stream": "stdout",
       "text": [
        "\n",
        "probe: probe(23,24).png\n",
        "probe: probe(24,25).png"
       ]
      },
      {
       "output_type": "stream",
       "stream": "stdout",
       "text": [
        "\n",
        "probe: probe(25,26).png\n",
        "probe: probe(26,27).png"
       ]
      },
      {
       "output_type": "stream",
       "stream": "stdout",
       "text": [
        "\n",
        "probe: probe(27,28).png\n",
        "probe: probe(28,29).png"
       ]
      },
      {
       "output_type": "stream",
       "stream": "stdout",
       "text": [
        "\n",
        "probe: probe(29,30).png\n",
        "probe: probe(30,31).png"
       ]
      },
      {
       "output_type": "stream",
       "stream": "stdout",
       "text": [
        "\n",
        "probe: probe(31,32).png\n",
        "probe: probe(32,33).png"
       ]
      },
      {
       "output_type": "stream",
       "stream": "stdout",
       "text": [
        "\n",
        "probe: probe(33,34).png\n",
        "probe: probe(34,35).png"
       ]
      },
      {
       "output_type": "stream",
       "stream": "stdout",
       "text": [
        "\n",
        "probe: probe(35,36).png\n",
        "probe: probe(36,37).png"
       ]
      },
      {
       "output_type": "stream",
       "stream": "stdout",
       "text": [
        "\n",
        "probe: probe(37,38).png\n",
        "probe: probe(38,39).png"
       ]
      },
      {
       "output_type": "stream",
       "stream": "stdout",
       "text": [
        "\n",
        "probe: probe(39,40).png\n",
        "probe: probe(40,41).png"
       ]
      },
      {
       "output_type": "stream",
       "stream": "stdout",
       "text": [
        "\n",
        "probe: probe(41,42).png\n",
        "probe: probe(42,43).png"
       ]
      },
      {
       "output_type": "stream",
       "stream": "stdout",
       "text": [
        "\n",
        "probe: probe(43,44).png\n",
        "probe: probe(44,45).png"
       ]
      },
      {
       "output_type": "stream",
       "stream": "stdout",
       "text": [
        "\n",
        "probe: probe(45,46).png\n",
        "probe: probe(46,47).png"
       ]
      },
      {
       "output_type": "stream",
       "stream": "stdout",
       "text": [
        "\n",
        "probe: probe(47,48).png\n",
        "probe: probe(48,49).png"
       ]
      },
      {
       "output_type": "stream",
       "stream": "stdout",
       "text": [
        "\n",
        "probe: probe(49,50).png\n",
        "probe: probe(50,51).png"
       ]
      },
      {
       "output_type": "stream",
       "stream": "stdout",
       "text": [
        "\n",
        "probe: probe(51,52).png\n",
        "probe: probe(52,53).png"
       ]
      },
      {
       "output_type": "stream",
       "stream": "stdout",
       "text": [
        "\n",
        "probe: probe(53,54).png\n",
        "probe: probe(54,55).png"
       ]
      },
      {
       "output_type": "stream",
       "stream": "stdout",
       "text": [
        "\n",
        "probe: probe(55,56).png\n",
        "probe: probe(56,57).png"
       ]
      },
      {
       "output_type": "stream",
       "stream": "stdout",
       "text": [
        "\n",
        "probe: probe(57,58).png\n",
        "probe: probe(58,59).png"
       ]
      },
      {
       "output_type": "stream",
       "stream": "stdout",
       "text": [
        "\n",
        "probe: probe(59,60).png\n",
        "probe: probe(60,61).png"
       ]
      },
      {
       "output_type": "stream",
       "stream": "stdout",
       "text": [
        "\n",
        "probe: probe(61,62).png\n",
        "probe: probe(62,63).png"
       ]
      },
      {
       "output_type": "stream",
       "stream": "stdout",
       "text": [
        "\n"
       ]
      }
     ],
     "prompt_number": 16
    },
    {
     "cell_type": "code",
     "collapsed": false,
     "input": [],
     "language": "python",
     "metadata": {},
     "outputs": []
    }
   ],
   "metadata": {}
  }
 ]
}