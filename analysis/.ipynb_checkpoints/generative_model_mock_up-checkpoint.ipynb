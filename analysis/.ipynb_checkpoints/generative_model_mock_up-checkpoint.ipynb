{
 "metadata": {
  "name": ""
 },
 "nbformat": 3,
 "nbformat_minor": 0,
 "worksheets": [
  {
   "cells": [
    {
     "cell_type": "heading",
     "level": 2,
     "metadata": {},
     "source": [
      "Represent an object map using a simple mixture-of-multinomials model"
     ]
    },
    {
     "cell_type": "heading",
     "level": 4,
     "metadata": {},
     "source": [
      "grab an image / object map"
     ]
    },
    {
     "cell_type": "code",
     "collapsed": false,
     "input": [
      "#create environment\n",
      "import numpy as np\n",
      "from PIL import Image\n",
      "from object_parsing.src.image_objects import view_mask"
     ],
     "language": "python",
     "metadata": {},
     "outputs": [],
     "prompt_number": 61
    },
    {
     "cell_type": "code",
     "collapsed": false,
     "input": [
      "cur_image = 3600\n",
      "image_path = '/musc.repo/Data/shared/my_labeled_images/pictures/%0.6d.png'\n",
      "mask_path = '/musc.repo/Data/shared/my_labeled_images/labeled_image_maps/%0.6d.png'\n",
      "img = Image.open(image_path %(cur_image))\n",
      "msk = Image.open(mask_path %(cur_image))\n",
      "img.show()\n",
      "view_mask(msk)\n",
      "mask_array = np.array(msk)\n",
      "N = mask_array.shape\n",
      "N2 = np.prod(N)\n",
      "print N2"
     ],
     "language": "python",
     "metadata": {},
     "outputs": [
      {
       "output_type": "stream",
       "stream": "stdout",
       "text": [
        "250000\n"
       ]
      }
     ],
     "prompt_number": 62
    },
    {
     "cell_type": "heading",
     "level": 4,
     "metadata": {},
     "source": [
      "represent as a generative model"
     ]
    },
    {
     "cell_type": "code",
     "collapsed": false,
     "input": [
      "#K = number of objects\n",
      "K = len(np.unique(mask_array))\n",
      "\n",
      "##assuming M = K \"perfect\" documents\n",
      "##so that number of pixels in each document is number of pixels in each object\n",
      "L = [sum(sum(mask_array==ii)).astype('double') for ii in np.arange(K)+1]\n",
      "print 'total number of pixels: %d, %d' %(sum(L), N2)\n",
      "\n",
      "object_prior = L/sum(L) ##fraction of pixels in each object\n",
      "#print object_prior\n",
      "\n",
      "object_likelihoods = np.hstack([np.atleast_2d(np.array(mask_array==ii).flatten()).T/L[ii-1] for ii in np.arange(K)+1])\n",
      "object_likelihoods.shape\n",
      "\n",
      "##view the likelihoods as an image mask\n",
      "viewing_mask = np.zeros(N)\n",
      "for ii in range(K):\n",
      "    viewing_mask = viewing_mask+object_likelihoods[:,ii].reshape(N)*N2\n",
      "view_mask(Image.fromarray(viewing_mask.astype('uint8')))\n",
      "\n",
      "##--calculate object posteriors (E-step)\n",
      "def e_step(docs, lkhd, prior):\n",
      "    ##give object_posterior for each document\n",
      "    ##return obj_post ~ M x K\n",
      "    ##lkhd ~ N2 x K\n",
      "    ##prior ~ 1 x K\n",
      "    ##docs is an N2 x M matrix of binary arrays\n",
      "    M = docs.shape[1]\n",
      "    K = len(prior)\n",
      "    obj_post = np.zeros((M,K))\n",
      "    for ii in np.arange(M):\n",
      "        pix_indices = docs[:,ii].astype('bool')\n",
      "        pix_lkhds = lkhd[pix_indices,:] ##these are the numbers you're working with\n",
      "        sum_pix_across_objects = np.array(pix_lkhds*prior).sum(axis=1)\n",
      "        obj_post[ii,:] = pix_lkhds/sum_pix_across_objects*prior\n",
      "    return obj_post\n",
      "            \n",
      "    \n",
      "#object_posteriors = ##use equation (1) from notebook\n",
      "\n",
      "##recalculate prior and likelihoods (M-step)\n",
      "#new_object_prior = \n",
      "#new_object_likelihoods = \n",
      "\n",
      "##do they match up?"
     ],
     "language": "python",
     "metadata": {},
     "outputs": [
      {
       "output_type": "stream",
       "stream": "stdout",
       "text": [
        "total number of pixels: 250000, 250000\n"
       ]
      }
     ],
     "prompt_number": 63
    },
    {
     "cell_type": "heading",
     "level": 4,
     "metadata": {},
     "source": [
      "sample multiple \"probes\" from the model"
     ]
    },
    {
     "cell_type": "code",
     "collapsed": false,
     "input": [
      "##number of documents\n",
      "##for each doc, sample an object, then use the object_liklihood (pixel posterior) to generate random number of pixels"
     ],
     "language": "python",
     "metadata": {},
     "outputs": [],
     "prompt_number": 64
    },
    {
     "cell_type": "heading",
     "level": 4,
     "metadata": {},
     "source": [
      "generate simulated responses"
     ]
    },
    {
     "cell_type": "code",
     "collapsed": false,
     "input": [
      "##"
     ],
     "language": "python",
     "metadata": {},
     "outputs": [],
     "prompt_number": 65
    },
    {
     "cell_type": "heading",
     "level": 4,
     "metadata": {},
     "source": [
      "re-estimate parameters of model"
     ]
    },
    {
     "cell_type": "code",
     "collapsed": false,
     "input": [],
     "language": "python",
     "metadata": {},
     "outputs": [],
     "prompt_number": 65
    }
   ],
   "metadata": {}
  }
 ]
}