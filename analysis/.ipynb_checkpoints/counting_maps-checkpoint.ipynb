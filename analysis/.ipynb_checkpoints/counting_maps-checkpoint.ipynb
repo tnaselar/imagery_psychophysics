{
 "metadata": {
  "name": "",
  "signature": "sha256:694f7ddbf1dddfef3d50b95b54f0479db46ea764254b98221d034e0873c41f00"
 },
 "nbformat": 3,
 "nbformat_minor": 0,
 "worksheets": [
  {
   "cells": [
    {
     "cell_type": "code",
     "collapsed": false,
     "input": [
      "import numpy as np\n",
      "from itertools import combinations, chain, permutations, product\n",
      "from functools import partial\n",
      "from itertools import combinations_with_replacement as cwr\n",
      "from math import factorial as bang\n",
      "from scipy.misc import comb\n",
      "from imagery_psychophysics.src.stirling_maps import stirling_partitions as stp\n",
      "\n",
      "%matplotlib inline"
     ],
     "language": "python",
     "metadata": {},
     "outputs": [],
     "prompt_number": 26
    },
    {
     "cell_type": "code",
     "collapsed": false,
     "input": [
      "_"
     ],
     "language": "python",
     "metadata": {},
     "outputs": [
      {
       "metadata": {},
       "output_type": "pyout",
       "prompt_number": 21,
       "text": [
        "[[0], [1, 2, 3]]"
       ]
      }
     ],
     "prompt_number": 21
    },
    {
     "cell_type": "heading",
     "level": 4,
     "metadata": {},
     "source": [
      "helpful functions"
     ]
    },
    {
     "cell_type": "code",
     "collapsed": false,
     "input": [
      "##powerset of a list\n",
      "def powerset(iterable):\n",
      "    s = list(iterable)\n",
      "    return chain.from_iterable(combinations(s, r) for r in range(len(s)+1))\n",
      "\n",
      "##all strict subsets\n",
      "def strict(iterable):\n",
      "    pwr = set(powerset(iterable))\n",
      "    pwr.discard(tuple(iterable))\n",
      "    return pwr\n",
      "\n",
      "\n",
      "##all strict, non-empty subsets\n",
      "def strictnonempty(iterable):\n",
      "    pwr = set(powerset(iterable))\n",
      "    pwr.discard(tuple(iterable))\n",
      "    pwr.discard(())\n",
      "    return pwr\n",
      "    \n",
      "\n",
      "\n",
      "##all subsets of the integers -- redundant.\n",
      "allsubsets = lambda n: list(chain(*[combinations(range(n), ni) for ni in range(n+1)]))\n",
      "\n",
      "##nonempty subsets of the integers up to n\n",
      "def nonemptysubsets(n):\n",
      "    allsubs = set(allsubsets(n))\n",
      "    allsubs.discard(())\n",
      "    return allsubs\n",
      "\n",
      "##unique integers from keys\n",
      "def integers_from_keys(mydict):\n",
      "    return list(np.unique(sum(mydict.keys(),())))  ## == [m]\n",
      "\n",
      "##return subset of a dictionary with certain keys ignored\n",
      "def ignore_keys(ignore_any_key_with, mydict):\n",
      "    return {key: mydict[key] for key in mydict.keys() if all([x not in key for x in ignore_any_key_with])}\n",
      "    "
     ],
     "language": "python",
     "metadata": {},
     "outputs": [],
     "prompt_number": 2
    },
    {
     "cell_type": "heading",
     "level": 4,
     "metadata": {},
     "source": [
      "construct an intersect-complement-union partion using indexed basis sets "
     ]
    },
    {
     "cell_type": "code",
     "collapsed": false,
     "input": [
      "##measure the cardinality of each block\n",
      "def block_size(union_subset, union_value_dict, size_of_universe = 0):\n",
      "    '''notation guide:\n",
      "    union_subset = S\n",
      "    union_value_dict[T] = d_T\n",
      "    '''\n",
      "    doPrint = 0\n",
      "    basis_set_indices = integers_from_keys(union_value_dict)\n",
      " \n",
      "    adder = 0\n",
      "    if len(union_subset) == len(basis_set_indices):\n",
      "        return size_of_universe - union_value_dict[union_subset]\n",
      "    for F in powerset(union_subset):\n",
      "        sgn = len(union_subset)-len(F)\n",
      "        if doPrint:\n",
      "            print 'F |-------> %s' %(F,)\n",
      "        for T in powerset(set(basis_set_indices)-set(F)):\n",
      "            if T:\n",
      "                if doPrint:\n",
      "                    print 'T |--> %s' %(T,)\n",
      "                adder += (-1)**(sgn+len(T)+1)*union_value_dict[T]\n",
      "                if doPrint:\n",
      "                    print 'adder: %d' %(adder)\n",
      "    return adder\n",
      "\n"
     ],
     "language": "python",
     "metadata": {},
     "outputs": [],
     "prompt_number": 3
    },
    {
     "cell_type": "code",
     "collapsed": false,
     "input": [
      "##simple example\n",
      "number_of_basis_sets = 3\n",
      "S = (0,1,2)\n",
      "union_value_dict = {}\n",
      "for ci in allsubsets(number_of_basis_sets):\n",
      "    union_value_dict[ci] = 2\n",
      "print union_value_dict\n",
      "print block_size(S, union_value_dict, size_of_universe=6)"
     ],
     "language": "python",
     "metadata": {},
     "outputs": [
      {
       "output_type": "stream",
       "stream": "stdout",
       "text": [
        "{(0, 1): 2, (1, 2): 2, (0,): 2, (1,): 2, (0, 1, 2): 2, (2,): 2, (): 2, (0, 2): 2}\n",
        "4\n"
       ]
      }
     ],
     "prompt_number": 4
    },
    {
     "cell_type": "heading",
     "level": 4,
     "metadata": {},
     "source": [
      "count the number of sets possible by building a set from the blocks of a partition. For each block of a partition, we intersect the target set with the blocks of the partition. If the block contains n elements, and the intersection of the target with the block contains k elements, then there are n-choose-k ways of constructing that little compartment of the target set."
     ]
    },
    {
     "cell_type": "code",
     "collapsed": false,
     "input": [
      "def count_sets(target_index, union_value_dict, size_of_universe = 0):\n",
      "    basis_set_indices = list(set(integers_from_keys(union_value_dict)) - set((target_index,)))  ##these are the basis sets\n",
      "    basis_values_only = ignore_keys((target_index,), union_value_dict)\n",
      "    output = 1\n",
      "    doPrint = 0\n",
      "    for S in powerset(basis_set_indices):\n",
      "        if doPrint:\n",
      "            print 'S |-------------> %s' %(S,)\n",
      "        upper = block_size(S, basis_values_only,size_of_universe)\n",
      "        if doPrint:\n",
      "            print 'S |-------------> %s' %(S,)\n",
      "        downer = block_size(S , union_value_dict,size_of_universe)\n",
      "#         print upper\n",
      "#         print downer\n",
      "        output *= comb(upper, downer)\n",
      "#         print output\n",
      "    \n",
      "    return output"
     ],
     "language": "python",
     "metadata": {},
     "outputs": [],
     "prompt_number": 5
    },
    {
     "cell_type": "code",
     "collapsed": false,
     "input": [
      "##specific example\n",
      "\n",
      "##set_1 is the basis set, set_0 is the target set. Here we list the sizes of the sets and their union\n",
      "union_value_dict = {(0, 1): 2, (0,): 1, (1,): 1} \n",
      "print union_value_dict \n",
      "\n",
      "##how many target map\n",
      "target_index=0\n",
      "count_sets(target_index, union_value_dict,size_of_universe=2)"
     ],
     "language": "python",
     "metadata": {},
     "outputs": [
      {
       "output_type": "stream",
       "stream": "stdout",
       "text": [
        "{(0, 1): 2, (0,): 1, (1,): 1}\n"
       ]
      },
      {
       "metadata": {},
       "output_type": "pyout",
       "prompt_number": 6,
       "text": [
        "1.0"
       ]
      }
     ],
     "prompt_number": 6
    },
    {
     "cell_type": "code",
     "collapsed": false,
     "input": [
      "val = np.array((1,1,1,1,1,1,1,1))\n",
      "\n",
      "print flarg\n",
      "print map(lambda z: np.sum(val[z]), flarg)\n"
     ],
     "language": "python",
     "metadata": {},
     "outputs": [
      {
       "output_type": "stream",
       "stream": "stdout",
       "text": [
        "[[5, 3], [2, 7], [1, 6]]\n",
        "[2, 2, 2]\n"
       ]
      }
     ],
     "prompt_number": 69
    },
    {
     "cell_type": "code",
     "collapsed": false,
     "input": [
      "map(lambda x: np.sum(x), list()"
     ],
     "language": "python",
     "metadata": {},
     "outputs": [
      {
       "metadata": {},
       "output_type": "pyout",
       "prompt_number": 49,
       "text": [
        "[[1, 2, 3], [2, 1, 3], [1, 2, 3]]"
       ]
      }
     ],
     "prompt_number": 49
    },
    {
     "cell_type": "code",
     "collapsed": false,
     "input": [
      "nobs = 4  ##number of basis sets\n",
      "nobj = 5  ##number of objects (size of universe)\n",
      "\n",
      "all_unions_of_basis_sets = list(nonemptysubsets(nobs)) ##[(1,), (2,), ... , (1,2), ... , (1,nobs), ... , (1,2,...,nobs)]\n",
      "all_unions_of_basis_sets.sort(key=lambda t: len(t), reverse=False) ##sorts by length of tuples\n",
      "all_union_dict = dict(zip(all_unions_of_basis_sets, range(len(all_unions_of_basis_sets))))\n",
      "parents_for_union_floor = lambda cur_union: map(lambda y: all_union_dict[y], combinations(cur_union,len(cur_union)-1))\n",
      "get_min = lambda cur_union,val,mapping_func = parents_for_union_floor: max(val[upm(cur_union)]) ##\n",
      "get_max = lambda cur_union, val: min(map(lambda z: np.sum(val[z]), map(lambda y: [all_union_dict[y[0]], all_union_dict[y[1]]], [map(tuple,ii) for ii in list(stp(cur_union,2))])))\n",
      "\n",
      "\n",
      "##for singletons, all possible combinations of values between 1 and nobs are legal\n",
      "all_values_of_unions = product(range(1,nobj+1), repeat = nobs)  ##[(1,1,1...), (1,1,nobs,...), etc]\n",
      "\n",
      "print 'all unions to deal with: %s' %(all_unions_of_basis_sets,)\n",
      "for cur_union in all_unions_of_basis_sets:\n",
      "    ## val = (val1, val2, val3, ... , val_k), where k = number of cur_unions sampled up to now.\n",
      "    all_values_of_unions = map(lambda val: [val+(dx) for dx in range(get_min(cur_union,val), get_max(cur_union,val))], all_values_of_unions)\n",
      "    all_values_of_unions = first_order_flattening(all_values_of_unions)\n"
     ],
     "language": "python",
     "metadata": {},
     "outputs": [
      {
       "output_type": "stream",
       "stream": "stdout",
       "text": [
        "all unions to deal with: [(0,), (1,), (2,), (3,), (0, 1), (1, 2), (2, 3), (1, 3), (0, 3), (0, 2), (0, 1, 2), (0, 1, 3), (0, 2, 3), (1, 2, 3), (0, 1, 2, 3)]\n"
       ]
      },
      {
       "ename": "NameError",
       "evalue": "global name 'upm' is not defined",
       "output_type": "pyerr",
       "traceback": [
        "\u001b[1;31m---------------------------------------------------------------------------\u001b[0m\n\u001b[1;31mNameError\u001b[0m                                 Traceback (most recent call last)",
        "\u001b[1;32m<ipython-input-73-679777b16026>\u001b[0m in \u001b[0;36m<module>\u001b[1;34m()\u001b[0m\n\u001b[0;32m     16\u001b[0m \u001b[1;32mfor\u001b[0m \u001b[0mcur_union\u001b[0m \u001b[1;32min\u001b[0m \u001b[0mall_unions_of_basis_sets\u001b[0m\u001b[1;33m:\u001b[0m\u001b[1;33m\u001b[0m\u001b[0m\n\u001b[0;32m     17\u001b[0m     \u001b[1;31m## val = (val1, val2, val3, ... , val_k), where k = number of cur_unions sampled up to now.\u001b[0m\u001b[1;33m\u001b[0m\u001b[1;33m\u001b[0m\u001b[0m\n\u001b[1;32m---> 18\u001b[1;33m     \u001b[0mall_values_of_unions\u001b[0m \u001b[1;33m=\u001b[0m \u001b[0mmap\u001b[0m\u001b[1;33m(\u001b[0m\u001b[1;32mlambda\u001b[0m \u001b[0mval\u001b[0m\u001b[1;33m:\u001b[0m \u001b[1;33m[\u001b[0m\u001b[0mval\u001b[0m\u001b[1;33m+\u001b[0m\u001b[1;33m(\u001b[0m\u001b[0mdx\u001b[0m\u001b[1;33m)\u001b[0m \u001b[1;32mfor\u001b[0m \u001b[0mdx\u001b[0m \u001b[1;32min\u001b[0m \u001b[0mrange\u001b[0m\u001b[1;33m(\u001b[0m\u001b[0mget_min\u001b[0m\u001b[1;33m(\u001b[0m\u001b[0mcur_union\u001b[0m\u001b[1;33m,\u001b[0m\u001b[0mval\u001b[0m\u001b[1;33m)\u001b[0m\u001b[1;33m,\u001b[0m \u001b[0mget_max\u001b[0m\u001b[1;33m(\u001b[0m\u001b[0mcur_union\u001b[0m\u001b[1;33m,\u001b[0m\u001b[0mval\u001b[0m\u001b[1;33m)\u001b[0m\u001b[1;33m)\u001b[0m\u001b[1;33m]\u001b[0m\u001b[1;33m,\u001b[0m \u001b[0mall_values_of_unions\u001b[0m\u001b[1;33m)\u001b[0m\u001b[1;33m\u001b[0m\u001b[0m\n\u001b[0m\u001b[0;32m     19\u001b[0m     \u001b[0mall_values_of_unions\u001b[0m \u001b[1;33m=\u001b[0m \u001b[0mfirst_order_flattening\u001b[0m\u001b[1;33m(\u001b[0m\u001b[0mall_values_of_unions\u001b[0m\u001b[1;33m)\u001b[0m\u001b[1;33m\u001b[0m\u001b[0m\n",
        "\u001b[1;32m<ipython-input-73-679777b16026>\u001b[0m in \u001b[0;36m<lambda>\u001b[1;34m(val)\u001b[0m\n\u001b[0;32m     16\u001b[0m \u001b[1;32mfor\u001b[0m \u001b[0mcur_union\u001b[0m \u001b[1;32min\u001b[0m \u001b[0mall_unions_of_basis_sets\u001b[0m\u001b[1;33m:\u001b[0m\u001b[1;33m\u001b[0m\u001b[0m\n\u001b[0;32m     17\u001b[0m     \u001b[1;31m## val = (val1, val2, val3, ... , val_k), where k = number of cur_unions sampled up to now.\u001b[0m\u001b[1;33m\u001b[0m\u001b[1;33m\u001b[0m\u001b[0m\n\u001b[1;32m---> 18\u001b[1;33m     \u001b[0mall_values_of_unions\u001b[0m \u001b[1;33m=\u001b[0m \u001b[0mmap\u001b[0m\u001b[1;33m(\u001b[0m\u001b[1;32mlambda\u001b[0m \u001b[0mval\u001b[0m\u001b[1;33m:\u001b[0m \u001b[1;33m[\u001b[0m\u001b[0mval\u001b[0m\u001b[1;33m+\u001b[0m\u001b[1;33m(\u001b[0m\u001b[0mdx\u001b[0m\u001b[1;33m)\u001b[0m \u001b[1;32mfor\u001b[0m \u001b[0mdx\u001b[0m \u001b[1;32min\u001b[0m \u001b[0mrange\u001b[0m\u001b[1;33m(\u001b[0m\u001b[0mget_min\u001b[0m\u001b[1;33m(\u001b[0m\u001b[0mcur_union\u001b[0m\u001b[1;33m,\u001b[0m\u001b[0mval\u001b[0m\u001b[1;33m)\u001b[0m\u001b[1;33m,\u001b[0m \u001b[0mget_max\u001b[0m\u001b[1;33m(\u001b[0m\u001b[0mcur_union\u001b[0m\u001b[1;33m,\u001b[0m\u001b[0mval\u001b[0m\u001b[1;33m)\u001b[0m\u001b[1;33m)\u001b[0m\u001b[1;33m]\u001b[0m\u001b[1;33m,\u001b[0m \u001b[0mall_values_of_unions\u001b[0m\u001b[1;33m)\u001b[0m\u001b[1;33m\u001b[0m\u001b[0m\n\u001b[0m\u001b[0;32m     19\u001b[0m     \u001b[0mall_values_of_unions\u001b[0m \u001b[1;33m=\u001b[0m \u001b[0mfirst_order_flattening\u001b[0m\u001b[1;33m(\u001b[0m\u001b[0mall_values_of_unions\u001b[0m\u001b[1;33m)\u001b[0m\u001b[1;33m\u001b[0m\u001b[0m\n",
        "\u001b[1;32m<ipython-input-73-679777b16026>\u001b[0m in \u001b[0;36m<lambda>\u001b[1;34m(cur_union, val, mapping_func)\u001b[0m\n\u001b[0;32m      6\u001b[0m \u001b[0mall_union_dict\u001b[0m \u001b[1;33m=\u001b[0m \u001b[0mdict\u001b[0m\u001b[1;33m(\u001b[0m\u001b[0mzip\u001b[0m\u001b[1;33m(\u001b[0m\u001b[0mall_unions_of_basis_sets\u001b[0m\u001b[1;33m,\u001b[0m \u001b[0mrange\u001b[0m\u001b[1;33m(\u001b[0m\u001b[0mlen\u001b[0m\u001b[1;33m(\u001b[0m\u001b[0mall_unions_of_basis_sets\u001b[0m\u001b[1;33m)\u001b[0m\u001b[1;33m)\u001b[0m\u001b[1;33m)\u001b[0m\u001b[1;33m)\u001b[0m\u001b[1;33m\u001b[0m\u001b[0m\n\u001b[0;32m      7\u001b[0m \u001b[0mparents_for_union_floor\u001b[0m \u001b[1;33m=\u001b[0m \u001b[1;32mlambda\u001b[0m \u001b[0mcur_union\u001b[0m\u001b[1;33m:\u001b[0m \u001b[0mmap\u001b[0m\u001b[1;33m(\u001b[0m\u001b[1;32mlambda\u001b[0m \u001b[0my\u001b[0m\u001b[1;33m:\u001b[0m \u001b[0mall_union_dict\u001b[0m\u001b[1;33m[\u001b[0m\u001b[0my\u001b[0m\u001b[1;33m]\u001b[0m\u001b[1;33m,\u001b[0m \u001b[0mcombinations\u001b[0m\u001b[1;33m(\u001b[0m\u001b[0mcur_union\u001b[0m\u001b[1;33m,\u001b[0m\u001b[0mlen\u001b[0m\u001b[1;33m(\u001b[0m\u001b[0mcur_union\u001b[0m\u001b[1;33m)\u001b[0m\u001b[1;33m-\u001b[0m\u001b[1;36m1\u001b[0m\u001b[1;33m)\u001b[0m\u001b[1;33m)\u001b[0m\u001b[1;33m\u001b[0m\u001b[0m\n\u001b[1;32m----> 8\u001b[1;33m \u001b[0mget_min\u001b[0m \u001b[1;33m=\u001b[0m \u001b[1;32mlambda\u001b[0m \u001b[0mcur_union\u001b[0m\u001b[1;33m,\u001b[0m\u001b[0mval\u001b[0m\u001b[1;33m,\u001b[0m\u001b[0mmapping_func\u001b[0m \u001b[1;33m=\u001b[0m \u001b[0mparents_for_union_floor\u001b[0m\u001b[1;33m:\u001b[0m \u001b[0mmax\u001b[0m\u001b[1;33m(\u001b[0m\u001b[0mval\u001b[0m\u001b[1;33m[\u001b[0m\u001b[0mupm\u001b[0m\u001b[1;33m(\u001b[0m\u001b[0mcur_union\u001b[0m\u001b[1;33m)\u001b[0m\u001b[1;33m]\u001b[0m\u001b[1;33m)\u001b[0m \u001b[1;31m##\u001b[0m\u001b[1;33m\u001b[0m\u001b[0m\n\u001b[0m\u001b[0;32m      9\u001b[0m \u001b[0mget_max\u001b[0m \u001b[1;33m=\u001b[0m \u001b[1;32mlambda\u001b[0m \u001b[0mcur_union\u001b[0m\u001b[1;33m,\u001b[0m \u001b[0mval\u001b[0m\u001b[1;33m:\u001b[0m \u001b[0mmin\u001b[0m\u001b[1;33m(\u001b[0m\u001b[0mmap\u001b[0m\u001b[1;33m(\u001b[0m\u001b[1;32mlambda\u001b[0m \u001b[0mz\u001b[0m\u001b[1;33m:\u001b[0m \u001b[0mnp\u001b[0m\u001b[1;33m.\u001b[0m\u001b[0msum\u001b[0m\u001b[1;33m(\u001b[0m\u001b[0mval\u001b[0m\u001b[1;33m[\u001b[0m\u001b[0mz\u001b[0m\u001b[1;33m]\u001b[0m\u001b[1;33m)\u001b[0m\u001b[1;33m,\u001b[0m \u001b[0mmap\u001b[0m\u001b[1;33m(\u001b[0m\u001b[1;32mlambda\u001b[0m \u001b[0my\u001b[0m\u001b[1;33m:\u001b[0m \u001b[1;33m[\u001b[0m\u001b[0mall_union_dict\u001b[0m\u001b[1;33m[\u001b[0m\u001b[0my\u001b[0m\u001b[1;33m[\u001b[0m\u001b[1;36m0\u001b[0m\u001b[1;33m]\u001b[0m\u001b[1;33m]\u001b[0m\u001b[1;33m,\u001b[0m \u001b[0mall_union_dict\u001b[0m\u001b[1;33m[\u001b[0m\u001b[0my\u001b[0m\u001b[1;33m[\u001b[0m\u001b[1;36m1\u001b[0m\u001b[1;33m]\u001b[0m\u001b[1;33m]\u001b[0m\u001b[1;33m]\u001b[0m\u001b[1;33m,\u001b[0m \u001b[1;33m[\u001b[0m\u001b[0mmap\u001b[0m\u001b[1;33m(\u001b[0m\u001b[0mtuple\u001b[0m\u001b[1;33m,\u001b[0m\u001b[0mii\u001b[0m\u001b[1;33m)\u001b[0m \u001b[1;32mfor\u001b[0m \u001b[0mii\u001b[0m \u001b[1;32min\u001b[0m \u001b[0mlist\u001b[0m\u001b[1;33m(\u001b[0m\u001b[0mstp\u001b[0m\u001b[1;33m(\u001b[0m\u001b[0mcur_union\u001b[0m\u001b[1;33m,\u001b[0m\u001b[1;36m2\u001b[0m\u001b[1;33m)\u001b[0m\u001b[1;33m)\u001b[0m\u001b[1;33m]\u001b[0m\u001b[1;33m)\u001b[0m\u001b[1;33m)\u001b[0m\u001b[1;33m)\u001b[0m\u001b[1;33m\u001b[0m\u001b[0m\n\u001b[0;32m     10\u001b[0m \u001b[1;33m\u001b[0m\u001b[0m\n",
        "\u001b[1;31mNameError\u001b[0m: global name 'upm' is not defined"
       ]
      }
     ],
     "prompt_number": 73
    },
    {
     "cell_type": "code",
     "collapsed": false,
     "input": [
      "nobs = 4  ##number of basis sets\n",
      "nobj = 5  ##number of objects (size of universe)\n",
      "all_unions_of_basis_sets = nonemptysubsets(nobs) ##[(1,), (2,), ... , (1,2), ... , (1,nobs), ... , (1,2,...,nobs)]\n",
      "\n",
      "\n",
      "##iterate over pairs, triplets, and higher, generating legal values\n",
      "for level in range(2,nobs+1):   \n",
      "    \n",
      "    ## if level=2, get all pairs in \"all_unions_of...\". if level = 3, get all triplets. etc.\n",
      "    current_union_subsets = get_union_subsets(all_unions_of_basis_sets, level) \n",
      "    \n",
      "    \n",
      "    ##generate the legal range of values for each of the unions at the current level\n",
      "    for cur_union in current_union_subsets:\n",
      "        ##will store the min and max values for the current union determined by each value in the level below it\n",
      "        value_ranges = []*len(all_values_of_unions) \n",
      "#         for val in all_values_of_unions:\n",
      "#             min_value = get_min_value(cur_union, val)\n",
      "#             max_value = get_max_value(cur_union, val)\n",
      "        replacements = [val+(dx) for val in all_values_of_unions for dx in range(get_min_value(cur_union, val),get_max_value(cur_union, val))]\n",
      "        \n",
      "            \n",
      "        \n",
      "        \n",
      "        \n",
      "        "
     ],
     "language": "python",
     "metadata": {},
     "outputs": []
    },
    {
     "cell_type": "code",
     "collapsed": false,
     "input": [
      "def enumerate_possible_counts(number_of_objects=1, number_of_basis_sets=2): ##enumerate all possible cardinalities of basis sets and their unions\n",
      "    all_possible_unions_of_sets = nonemptysubsets(number_of_basis_sets)\n",
      "    cnt = number_of_objects**len(all_possible_unions_of_sets)\n",
      "    print cnt\n",
      "    all_possible_values_of_unions = product(range(1,number_of_objects+1), repeat = len(all_possible_unions_of_sets))\n",
      "    return [dict(zip(all_possible_unions_of_sets, cc)) for cc in all_possible_values_of_unions]\n",
      "    \n",
      "    "
     ],
     "language": "python",
     "metadata": {},
     "outputs": [],
     "prompt_number": 8
    },
    {
     "cell_type": "code",
     "collapsed": false,
     "input": [
      "##count the number of target sets compatible with each enumeration of basis set cardinalities (ie, union_value_dict)\n",
      "adder = 0\n",
      "noo = 2\n",
      "all_counts = enumerate_possible_counts(number_of_objects=noo, number_of_basis_sets=3)\n",
      "for union_value_dict in all_counts:\n",
      "    cnt = count_sets(target_index, union_value_dict,size_of_universe=noo)\n",
      "    print '%s |----> %d' %(union_value_dict, cnt)\n",
      "    adder += cnt\n",
      "print 'total: %d' %(adder)"
     ],
     "language": "python",
     "metadata": {},
     "outputs": [
      {
       "output_type": "stream",
       "stream": "stdout",
       "text": [
        "128\n",
        "{(0, 1): 1, (1, 2): 1, (0,): 1, (1,): 1, (0, 1, 2): 1, (2,): 1, (0, 2): 1} |----> 1\n",
        "{(0, 1): 1, (1, 2): 1, (0,): 1, (1,): 1, (0, 1, 2): 1, (2,): 1, (0, 2): 2} |----> 0\n",
        "{(0, 1): 1, (1, 2): 1, (0,): 1, (1,): 1, (0, 1, 2): 1, (2,): 2, (0, 2): 1} |----> 0\n",
        "{(0, 1): 1, (1, 2): 1, (0,): 1, (1,): 1, (0, 1, 2): 1, (2,): 2, (0, 2): 2} |----> 0\n",
        "{(0, 1): 1, (1, 2): 1, (0,): 1, (1,): 1, (0, 1, 2): 2, (2,): 1, (0, 2): 1} |----> 0\n",
        "{(0, 1): 1, (1, 2): 1, (0,): 1, (1,): 1, (0, 1, 2): 2, (2,): 1, (0, 2): 2} |----> 0\n",
        "{(0, 1): 1, (1, 2): 1, (0,): 1, (1,): 1, (0, 1, 2): 2, (2,): 2, (0, 2): 1} |----> 0\n",
        "{(0, 1): 1, (1, 2): 1, (0,): 1, (1,): 1, (0, 1, 2): 2, (2,): 2, (0, 2): 2} |----> 0\n",
        "{(0, 1): 1, (1, 2): 1, (0,): 1, (1,): 2, (0, 1, 2): 1, (2,): 1, (0, 2): 1} |----> 0\n",
        "{(0, 1): 1, (1, 2): 1, (0,): 1, (1,): 2, (0, 1, 2): 1, (2,): 1, (0, 2): 2} |----> 0\n",
        "{(0, 1): 1, (1, 2): 1, (0,): 1, (1,): 2, (0, 1, 2): 1, (2,): 2, (0, 2): 1} |----> 0\n",
        "{(0, 1): 1, (1, 2): 1, (0,): 1, (1,): 2, (0, 1, 2): 1, (2,): 2, (0, 2): 2} |----> 0\n",
        "{(0, 1): 1, (1, 2): 1, (0,): 1, (1,): 2, (0, 1, 2): 2, (2,): 1, (0, 2): 1} |----> 0\n",
        "{(0, 1): 1, (1, 2): 1, (0,): 1, (1,): 2, (0, 1, 2): 2, (2,): 1, (0, 2): 2} |----> 0\n",
        "{(0, 1): 1, (1, 2): 1, (0,): 1, (1,): 2, (0, 1, 2): 2, (2,): 2, (0, 2): 1} |----> 0\n",
        "{(0, 1): 1, (1, 2): 1, (0,): 1, (1,): 2, (0, 1, 2): 2, (2,): 2, (0, 2): 2} |----> 0\n",
        "{(0, 1): 1, (1, 2): 1, (0,): 2, (1,): 1, (0, 1, 2): 1, (2,): 1, (0, 2): 1} |----> 0\n",
        "{(0, 1): 1, (1, 2): 1, (0,): 2, (1,): 1, (0, 1, 2): 1, (2,): 1, (0, 2): 2} |----> 0\n",
        "{(0, 1): 1, (1, 2): 1, (0,): 2, (1,): 1, (0, 1, 2): 1, (2,): 2, (0, 2): 1} |----> 0\n",
        "{(0, 1): 1, (1, 2): 1, (0,): 2, (1,): 1, (0, 1, 2): 1, (2,): 2, (0, 2): 2} |----> 0\n",
        "{(0, 1): 1, (1, 2): 1, (0,): 2, (1,): 1, (0, 1, 2): 2, (2,): 1, (0, 2): 1} |----> 0\n",
        "{(0, 1): 1, (1, 2): 1, (0,): 2, (1,): 1, (0, 1, 2): 2, (2,): 1, (0, 2): 2} |----> 0\n",
        "{(0, 1): 1, (1, 2): 1, (0,): 2, (1,): 1, (0, 1, 2): 2, (2,): 2, (0, 2): 1} |----> 0\n",
        "{(0, 1): 1, (1, 2): 1, (0,): 2, (1,): 1, (0, 1, 2): 2, (2,): 2, (0, 2): 2} |----> 0\n",
        "{(0, 1): 1, (1, 2): 1, (0,): 2, (1,): 2, (0, 1, 2): 1, (2,): 1, (0, 2): 1} |----> 0\n",
        "{(0, 1): 1, (1, 2): 1, (0,): 2, (1,): 2, (0, 1, 2): 1, (2,): 1, (0, 2): 2} |----> 0\n",
        "{(0, 1): 1, (1, 2): 1, (0,): 2, (1,): 2, (0, 1, 2): 1, (2,): 2, (0, 2): 1} |----> 0\n",
        "{(0, 1): 1, (1, 2): 1, (0,): 2, (1,): 2, (0, 1, 2): 1, (2,): 2, (0, 2): 2} |----> 0\n",
        "{(0, 1): 1, (1, 2): 1, (0,): 2, (1,): 2, (0, 1, 2): 2, (2,): 1, (0, 2): 1} |----> 0\n",
        "{(0, 1): 1, (1, 2): 1, (0,): 2, (1,): 2, (0, 1, 2): 2, (2,): 1, (0, 2): 2} |----> 0\n",
        "{(0, 1): 1, (1, 2): 1, (0,): 2, (1,): 2, (0, 1, 2): 2, (2,): 2, (0, 2): 1} |----> 0\n",
        "{(0, 1): 1, (1, 2): 1, (0,): 2, (1,): 2, (0, 1, 2): 2, (2,): 2, (0, 2): 2} |----> 0\n",
        "{(0, 1): 1, (1, 2): 2, (0,): 1, (1,): 1, (0, 1, 2): 1, (2,): 1, (0, 2): 1} |----> 0\n",
        "{(0, 1): 1, (1, 2): 2, (0,): 1, (1,): 1, (0, 1, 2): 1, (2,): 1, (0, 2): 2} |----> 0\n",
        "{(0, 1): 1, (1, 2): 2, (0,): 1, (1,): 1, (0, 1, 2): 1, (2,): 2, (0, 2): 1} |----> 0\n",
        "{(0, 1): 1, (1, 2): 2, (0,): 1, (1,): 1, (0, 1, 2): 1, (2,): 2, (0, 2): 2} |----> 0\n",
        "{(0, 1): 1, (1, 2): 2, (0,): 1, (1,): 1, (0, 1, 2): 2, (2,): 1, (0, 2): 1} |----> 0\n",
        "{(0, 1): 1, (1, 2): 2, (0,): 1, (1,): 1, (0, 1, 2): 2, (2,): 1, (0, 2): 2} |----> 1\n",
        "{(0, 1): 1, (1, 2): 2, (0,): 1, (1,): 1, (0, 1, 2): 2, (2,): 2, (0, 2): 1} |----> 0\n",
        "{(0, 1): 1, (1, 2): 2, (0,): 1, (1,): 1, (0, 1, 2): 2, (2,): 2, (0, 2): 2} |----> 1\n",
        "{(0, 1): 1, (1, 2): 2, (0,): 1, (1,): 2, (0, 1, 2): 1, (2,): 1, (0, 2): 1} |----> 0\n",
        "{(0, 1): 1, (1, 2): 2, (0,): 1, (1,): 2, (0, 1, 2): 1, (2,): 1, (0, 2): 2} |----> 0\n",
        "{(0, 1): 1, (1, 2): 2, (0,): 1, (1,): 2, (0, 1, 2): 1, (2,): 2, (0, 2): 1} |----> 0\n",
        "{(0, 1): 1, (1, 2): 2, (0,): 1, (1,): 2, (0, 1, 2): 1, (2,): 2, (0, 2): 2} |----> 0\n",
        "{(0, 1): 1, (1, 2): 2, (0,): 1, (1,): 2, (0, 1, 2): 2, (2,): 1, (0, 2): 1} |----> 0\n",
        "{(0, 1): 1, (1, 2): 2, (0,): 1, (1,): 2, (0, 1, 2): 2, (2,): 1, (0, 2): 2} |----> 0\n",
        "{(0, 1): 1, (1, 2): 2, (0,): 1, (1,): 2, (0, 1, 2): 2, (2,): 2, (0, 2): 1} |----> 0\n",
        "{(0, 1): 1, (1, 2): 2, (0,): 1, (1,): 2, (0, 1, 2): 2, (2,): 2, (0, 2): 2} |----> 0\n",
        "{(0, 1): 1, (1, 2): 2, (0,): 2, (1,): 1, (0, 1, 2): 1, (2,): 1, (0, 2): 1} |----> 0\n",
        "{(0, 1): 1, (1, 2): 2, (0,): 2, (1,): 1, (0, 1, 2): 1, (2,): 1, (0, 2): 2} |----> 0\n",
        "{(0, 1): 1, (1, 2): 2, (0,): 2, (1,): 1, (0, 1, 2): 1, (2,): 2, (0, 2): 1} |----> 0\n",
        "{(0, 1): 1, (1, 2): 2, (0,): 2, (1,): 1, (0, 1, 2): 1, (2,): 2, (0, 2): 2} |----> 0\n",
        "{(0, 1): 1, (1, 2): 2, (0,): 2, (1,): 1, (0, 1, 2): 2, (2,): 1, (0, 2): 1} |----> 0\n",
        "{(0, 1): 1, (1, 2): 2, (0,): 2, (1,): 1, (0, 1, 2): 2, (2,): 1, (0, 2): 2} |----> 0\n",
        "{(0, 1): 1, (1, 2): 2, (0,): 2, (1,): 1, (0, 1, 2): 2, (2,): 2, (0, 2): 1} |----> 0\n",
        "{(0, 1): 1, (1, 2): 2, (0,): 2, (1,): 1, (0, 1, 2): 2, (2,): 2, (0, 2): 2} |----> 0\n",
        "{(0, 1): 1, (1, 2): 2, (0,): 2, (1,): 2, (0, 1, 2): 1, (2,): 1, (0, 2): 1} |----> 0\n",
        "{(0, 1): 1, (1, 2): 2, (0,): 2, (1,): 2, (0, 1, 2): 1, (2,): 1, (0, 2): 2} |----> 0\n",
        "{(0, 1): 1, (1, 2): 2, (0,): 2, (1,): 2, (0, 1, 2): 1, (2,): 2, (0, 2): 1} |----> 0\n",
        "{(0, 1): 1, (1, 2): 2, (0,): 2, (1,): 2, (0, 1, 2): 1, (2,): 2, (0, 2): 2} |----> 0\n",
        "{(0, 1): 1, (1, 2): 2, (0,): 2, (1,): 2, (0, 1, 2): 2, (2,): 1, (0, 2): 1} |----> 0\n",
        "{(0, 1): 1, (1, 2): 2, (0,): 2, (1,): 2, (0, 1, 2): 2, (2,): 1, (0, 2): 2} |----> 0\n",
        "{(0, 1): 1, (1, 2): 2, (0,): 2, (1,): 2, (0, 1, 2): 2, (2,): 2, (0, 2): 1} |----> 0\n",
        "{(0, 1): 1, (1, 2): 2, (0,): 2, (1,): 2, (0, 1, 2): 2, (2,): 2, (0, 2): 2} |----> 0\n",
        "{(0, 1): 2, (1, 2): 1, (0,): 1, (1,): 1, (0, 1, 2): 1, (2,): 1, (0, 2): 1} |----> 0\n",
        "{(0, 1): 2, (1, 2): 1, (0,): 1, (1,): 1, (0, 1, 2): 1, (2,): 1, (0, 2): 2} |----> 0\n",
        "{(0, 1): 2, (1, 2): 1, (0,): 1, (1,): 1, (0, 1, 2): 1, (2,): 2, (0, 2): 1} |----> 0\n",
        "{(0, 1): 2, (1, 2): 1, (0,): 1, (1,): 1, (0, 1, 2): 1, (2,): 2, (0, 2): 2} |----> 0\n",
        "{(0, 1): 2, (1, 2): 1, (0,): 1, (1,): 1, (0, 1, 2): 2, (2,): 1, (0, 2): 1} |----> 0\n",
        "{(0, 1): 2, (1, 2): 1, (0,): 1, (1,): 1, (0, 1, 2): 2, (2,): 1, (0, 2): 2} |----> 1\n",
        "{(0, 1): 2, (1, 2): 1, (0,): 1, (1,): 1, (0, 1, 2): 2, (2,): 2, (0, 2): 1} |----> 0\n",
        "{(0, 1): 2, (1, 2): 1, (0,): 1, (1,): 1, (0, 1, 2): 2, (2,): 2, (0, 2): 2} |----> 0\n",
        "{(0, 1): 2, (1, 2): 1, (0,): 1, (1,): 2, (0, 1, 2): 1, (2,): 1, (0, 2): 1} |----> 0\n",
        "{(0, 1): 2, (1, 2): 1, (0,): 1, (1,): 2, (0, 1, 2): 1, (2,): 1, (0, 2): 2} |----> 0\n",
        "{(0, 1): 2, (1, 2): 1, (0,): 1, (1,): 2, (0, 1, 2): 1, (2,): 2, (0, 2): 1} |----> 0\n",
        "{(0, 1): 2, (1, 2): 1, (0,): 1, (1,): 2, (0, 1, 2): 1, (2,): 2, (0, 2): 2} |----> 0\n",
        "{(0, 1): 2, (1, 2): 1, (0,): 1, (1,): 2, (0, 1, 2): 2, (2,): 1, (0, 2): 1} |----> 0\n",
        "{(0, 1): 2, (1, 2): 1, (0,): 1, (1,): 2, (0, 1, 2): 2, (2,): 1, (0, 2): 2} |----> 0\n",
        "{(0, 1): 2, (1, 2): 1, (0,): 1, (1,): 2, (0, 1, 2): 2, (2,): 2, (0, 2): 1} |----> 0\n",
        "{(0, 1): 2, (1, 2): 1, (0,): 1, (1,): 2, (0, 1, 2): 2, (2,): 2, (0, 2): 2} |----> 0\n",
        "{(0, 1): 2, (1, 2): 1, (0,): 2, (1,): 1, (0, 1, 2): 1, (2,): 1, (0, 2): 1} |----> 0\n",
        "{(0, 1): 2, (1, 2): 1, (0,): 2, (1,): 1, (0, 1, 2): 1, (2,): 1, (0, 2): 2} |----> 0\n",
        "{(0, 1): 2, (1, 2): 1, (0,): 2, (1,): 1, (0, 1, 2): 1, (2,): 2, (0, 2): 1} |----> 0\n",
        "{(0, 1): 2, (1, 2): 1, (0,): 2, (1,): 1, (0, 1, 2): 1, (2,): 2, (0, 2): 2} |----> 0\n",
        "{(0, 1): 2, (1, 2): 1, (0,): 2, (1,): 1, (0, 1, 2): 2, (2,): 1, (0, 2): 1} |----> 0\n",
        "{(0, 1): 2, (1, 2): 1, (0,): 2, (1,): 1, (0, 1, 2): 2, (2,): 1, (0, 2): 2} |----> 1\n",
        "{(0, 1): 2, (1, 2): 1, (0,): 2, (1,): 1, (0, 1, 2): 2, (2,): 2, (0, 2): 1} |----> 0\n",
        "{(0, 1): 2, (1, 2): 1, (0,): 2, (1,): 1, (0, 1, 2): 2, (2,): 2, (0, 2): 2} |----> 0\n",
        "{(0, 1): 2, (1, 2): 1, (0,): 2, (1,): 2, (0, 1, 2): 1, (2,): 1, (0, 2): 1} |----> 0\n",
        "{(0, 1): 2, (1, 2): 1, (0,): 2, (1,): 2, (0, 1, 2): 1, (2,): 1, (0, 2): 2} |----> 0\n",
        "{(0, 1): 2, (1, 2): 1, (0,): 2, (1,): 2, (0, 1, 2): 1, (2,): 2, (0, 2): 1} |----> 0\n",
        "{(0, 1): 2, (1, 2): 1, (0,): 2, (1,): 2, (0, 1, 2): 1, (2,): 2, (0, 2): 2} |----> 0\n",
        "{(0, 1): 2, (1, 2): 1, (0,): 2, (1,): 2, (0, 1, 2): 2, (2,): 1, (0, 2): 1} |----> 0\n",
        "{(0, 1): 2, (1, 2): 1, (0,): 2, (1,): 2, (0, 1, 2): 2, (2,): 1, (0, 2): 2} |----> 0\n",
        "{(0, 1): 2, (1, 2): 1, (0,): 2, (1,): 2, (0, 1, 2): 2, (2,): 2, (0, 2): 1} |----> 0\n",
        "{(0, 1): 2, (1, 2): 1, (0,): 2, (1,): 2, (0, 1, 2): 2, (2,): 2, (0, 2): 2} |----> 0\n",
        "{(0, 1): 2, (1, 2): 2, (0,): 1, (1,): 1, (0, 1, 2): 1, (2,): 1, (0, 2): 1} |----> 0\n",
        "{(0, 1): 2, (1, 2): 2, (0,): 1, (1,): 1, (0, 1, 2): 1, (2,): 1, (0, 2): 2} |----> 0\n",
        "{(0, 1): 2, (1, 2): 2, (0,): 1, (1,): 1, (0, 1, 2): 1, (2,): 2, (0, 2): 1} |----> 0\n",
        "{(0, 1): 2, (1, 2): 2, (0,): 1, (1,): 1, (0, 1, 2): 1, (2,): 2, (0, 2): 2} |----> 0\n",
        "{(0, 1): 2, (1, 2): 2, (0,): 1, (1,): 1, (0, 1, 2): 2, (2,): 1, (0, 2): 1} |----> 1\n",
        "{(0, 1): 2, (1, 2): 2, (0,): 1, (1,): 1, (0, 1, 2): 2, (2,): 1, (0, 2): 2} |----> 0\n",
        "{(0, 1): 2, (1, 2): 2, (0,): 1, (1,): 1, (0, 1, 2): 2, (2,): 2, (0, 2): 1} |----> 0\n",
        "{(0, 1): 2, (1, 2): 2, (0,): 1, (1,): 1, (0, 1, 2): 2, (2,): 2, (0, 2): 2} |----> 1\n",
        "{(0, 1): 2, (1, 2): 2, (0,): 1, (1,): 2, (0, 1, 2): 1, (2,): 1, (0, 2): 1} |----> 0\n",
        "{(0, 1): 2, (1, 2): 2, (0,): 1, (1,): 2, (0, 1, 2): 1, (2,): 1, (0, 2): 2} |----> 0\n",
        "{(0, 1): 2, (1, 2): 2, (0,): 1, (1,): 2, (0, 1, 2): 1, (2,): 2, (0, 2): 1} |----> 0\n",
        "{(0, 1): 2, (1, 2): 2, (0,): 1, (1,): 2, (0, 1, 2): 1, (2,): 2, (0, 2): 2} |----> 0\n",
        "{(0, 1): 2, (1, 2): 2, (0,): 1, (1,): 2, (0, 1, 2): 2, (2,): 1, (0, 2): 1} |----> 1\n",
        "{(0, 1): 2, (1, 2): 2, (0,): 1, (1,): 2, (0, 1, 2): 2, (2,): 1, (0, 2): 2} |----> 1\n",
        "{(0, 1): 2, (1, 2): 2, (0,): 1, (1,): 2, (0, 1, 2): 2, (2,): 2, (0, 2): 1} |----> 0\n",
        "{(0, 1): 2, (1, 2): 2, (0,): 1, (1,): 2, (0, 1, 2): 2, (2,): 2, (0, 2): 2} |----> 2\n",
        "{(0, 1): 2, (1, 2): 2, (0,): 2, (1,): 1, (0, 1, 2): 1, (2,): 1, (0, 2): 1} |----> 0\n",
        "{(0, 1): 2, (1, 2): 2, (0,): 2, (1,): 1, (0, 1, 2): 1, (2,): 1, (0, 2): 2} |----> 0\n",
        "{(0, 1): 2, (1, 2): 2, (0,): 2, (1,): 1, (0, 1, 2): 1, (2,): 2, (0, 2): 1} |----> 0\n",
        "{(0, 1): 2, (1, 2): 2, (0,): 2, (1,): 1, (0, 1, 2): 1, (2,): 2, (0, 2): 2} |----> 0\n",
        "{(0, 1): 2, (1, 2): 2, (0,): 2, (1,): 1, (0, 1, 2): 2, (2,): 1, (0, 2): 1} |----> 0\n",
        "{(0, 1): 2, (1, 2): 2, (0,): 2, (1,): 1, (0, 1, 2): 2, (2,): 1, (0, 2): 2} |----> 1\n",
        "{(0, 1): 2, (1, 2): 2, (0,): 2, (1,): 1, (0, 1, 2): 2, (2,): 2, (0, 2): 1} |----> 0\n",
        "{(0, 1): 2, (1, 2): 2, (0,): 2, (1,): 1, (0, 1, 2): 2, (2,): 2, (0, 2): 2} |----> 1\n",
        "{(0, 1): 2, (1, 2): 2, (0,): 2, (1,): 2, (0, 1, 2): 1, (2,): 1, (0, 2): 1} |----> 0\n",
        "{(0, 1): 2, (1, 2): 2, (0,): 2, (1,): 2, (0, 1, 2): 1, (2,): 1, (0, 2): 2} |----> 0"
       ]
      },
      {
       "output_type": "stream",
       "stream": "stdout",
       "text": [
        "\n",
        "{(0, 1): 2, (1, 2): 2, (0,): 2, (1,): 2, (0, 1, 2): 1, (2,): 2, (0, 2): 1} |----> 0\n",
        "{(0, 1): 2, (1, 2): 2, (0,): 2, (1,): 2, (0, 1, 2): 1, (2,): 2, (0, 2): 2} |----> 0\n",
        "{(0, 1): 2, (1, 2): 2, (0,): 2, (1,): 2, (0, 1, 2): 2, (2,): 1, (0, 2): 1} |----> 0\n",
        "{(0, 1): 2, (1, 2): 2, (0,): 2, (1,): 2, (0, 1, 2): 2, (2,): 1, (0, 2): 2} |----> 1\n",
        "{(0, 1): 2, (1, 2): 2, (0,): 2, (1,): 2, (0, 1, 2): 2, (2,): 2, (0, 2): 1} |----> 0\n",
        "{(0, 1): 2, (1, 2): 2, (0,): 2, (1,): 2, (0, 1, 2): 2, (2,): 2, (0, 2): 2} |----> 1\n",
        "total: 15\n"
       ]
      }
     ],
     "prompt_number": 10
    },
    {
     "cell_type": "code",
     "collapsed": false,
     "input": [
      "##for a basis with one set, fix the size of the the basis and target and then integrate over all sizes of their union\n",
      "number_of_objects = 10\n",
      "target_index = 0\n",
      "basis_index = 1\n",
      "target_size = 2\n",
      "basis_size = 9\n",
      "all_counts = [{(target_index,): target_size, (basis_index,): basis_size, (target_index, basis_index): ii} for ii in range(1,number_of_objects+1)]\n",
      "\n",
      "##should get comb(size_of_universe, size_of_target_set)\n",
      "adder = 0\n",
      "for union_value_dict in all_counts:\n",
      "    cnt = count_sets(target_index, union_value_dict,size_of_universe=number_of_objects)\n",
      "    print '%s |----> %d' %(union_value_dict, cnt)\n",
      "    adder += cnt\n",
      "print 'basis size: %d' %(basis_size)    \n",
      "print 'total: %d' %(adder)\n",
      "print 'should be: %d' %(comb(number_of_objects, target_size))\n",
      "\n",
      "##value should not depend on size of basis set as long as <= number_of_objects\n",
      "basis_size = 1\n",
      "print '\\n'\n",
      "print 'new basis size: %d' %(basis_size)\n",
      "all_counts = [{(target_index,): target_size, (basis_index,): basis_size, (target_index, basis_index): ii} for ii in range(1,number_of_objects+1)]\n",
      "adder = 0\n",
      "for union_value_dict in all_counts:\n",
      "    cnt = count_sets(target_index, union_value_dict,size_of_universe=number_of_objects)\n",
      "    print '%s |----> %d' %(union_value_dict, cnt)\n",
      "    adder += cnt\n",
      "print 'total: %d' %(adder)\n",
      "\n"
     ],
     "language": "python",
     "metadata": {},
     "outputs": [
      {
       "output_type": "stream",
       "stream": "stdout",
       "text": [
        "{(0, 1): 1, (0,): 2, (1,): 9} |----> 0\n",
        "{(0, 1): 2, (0,): 2, (1,): 9} |----> 0\n",
        "{(0, 1): 3, (0,): 2, (1,): 9} |----> 0\n",
        "{(0, 1): 4, (0,): 2, (1,): 9} |----> 0\n",
        "{(0, 1): 5, (0,): 2, (1,): 9} |----> 0\n",
        "{(0, 1): 6, (0,): 2, (1,): 9} |----> 0\n",
        "{(0, 1): 7, (0,): 2, (1,): 9} |----> 0\n",
        "{(0, 1): 8, (0,): 2, (1,): 9} |----> 0\n",
        "{(0, 1): 9, (0,): 2, (1,): 9} |----> 36\n",
        "{(0, 1): 10, (0,): 2, (1,): 9} |----> 9\n",
        "basis size: 9\n",
        "total: 45\n",
        "should be: 45\n",
        "\n",
        "\n",
        "new basis size: 1\n",
        "{(0, 1): 1, (0,): 2, (1,): 1} |----> 0\n",
        "{(0, 1): 2, (0,): 2, (1,): 1} |----> 9\n",
        "{(0, 1): 3, (0,): 2, (1,): 1} |----> 36\n",
        "{(0, 1): 4, (0,): 2, (1,): 1} |----> 0\n",
        "{(0, 1): 5, (0,): 2, (1,): 1} |----> 0\n",
        "{(0, 1): 6, (0,): 2, (1,): 1} |----> 0\n",
        "{(0, 1): 7, (0,): 2, (1,): 1} |----> 0\n",
        "{(0, 1): 8, (0,): 2, (1,): 1} |----> 0\n",
        "{(0, 1): 9, (0,): 2, (1,): 1} |----> 0\n",
        "{(0, 1): 10, (0,): 2, (1,): 1} |----> 0\n",
        "total: 45\n"
       ]
      }
     ],
     "prompt_number": 12
    },
    {
     "cell_type": "heading",
     "level": 4,
     "metadata": {},
     "source": [
      "percentage of illegal configurations as a function of basis set size"
     ]
    },
    {
     "cell_type": "code",
     "collapsed": false,
     "input": [
      "##enumerate all possible cardinalities of basis sets and their unions\n",
      "target_index = 0\n",
      "max_no = 5\n",
      "max_bs = 3\n",
      "cnt = 0\n",
      "results_dict = {'n_objects': [], 'n_basis': [], 'legal': [], 'not_legal': [], 'count_dist': []}\n",
      "for number_of_objects in range(2, max_no+1):\n",
      "    legal_cnt = 0\n",
      "    non_legal_cnt = 0\n",
      "    for number_of_basis_sets in range(2, max_bs+1):\n",
      "        all_counts = enumerate_possible_coounts(number_of_objects=number_of_objects, number_of_basis_sets=number_of_basis_sets)\n",
      "        for union_value_dict in all_counts:\n",
      "            cnt = count_sets(target_index, union_value_dict,size_of_universe=number_of_objects)\n",
      "            if cnt:\n",
      "                legal_cnt += 1\n",
      "            else:\n",
      "                non_legal_cnt += 1\n",
      "        results_dict['n_objects'].append(number_of_objects)\n",
      "        results_dict['n_basis'].append(number_of_basis_sets)\n",
      "        results_dict['legal'].append(legal_cnt)\n",
      "        results_dict['not_legal'].append(non_legal_cnt)\n",
      "\n",
      "print results_dict"
     ],
     "language": "python",
     "metadata": {},
     "outputs": [
      {
       "output_type": "stream",
       "stream": "stdout",
       "text": [
        "8\n",
        "128\n",
        "27"
       ]
      },
      {
       "output_type": "stream",
       "stream": "stdout",
       "text": [
        "\n",
        "2187\n",
        "64"
       ]
      },
      {
       "output_type": "stream",
       "stream": "stdout",
       "text": [
        "\n",
        "16384\n",
        "125"
       ]
      },
      {
       "output_type": "stream",
       "stream": "stdout",
       "text": [
        "\n",
        "78125\n",
        "{'not_legal': [3, 117, 14, 2130, 38, 16183, 80, 77564], 'n_basis': [2, 3, 2, 3, 2, 3, 2, 3], 'legal': [5, 19, 13, 84, 26, 265, 45, 686], 'n_objects': [2, 2, 3, 3, 4, 4, 5, 5]}"
       ]
      },
      {
       "output_type": "stream",
       "stream": "stdout",
       "text": [
        "\n"
       ]
      }
     ],
     "prompt_number": 21
    },
    {
     "cell_type": "code",
     "collapsed": false,
     "input": [
      "import pandas as pd"
     ],
     "language": "python",
     "metadata": {},
     "outputs": [],
     "prompt_number": 13
    },
    {
     "cell_type": "code",
     "collapsed": false,
     "input": [
      "foo = pd.DataFrame(results_dict)"
     ],
     "language": "python",
     "metadata": {},
     "outputs": [],
     "prompt_number": 22
    },
    {
     "cell_type": "code",
     "collapsed": false,
     "input": [
      "foo"
     ],
     "language": "python",
     "metadata": {},
     "outputs": [
      {
       "html": [
        "<div style=\"max-height:1000px;max-width:1500px;overflow:auto;\">\n",
        "<table border=\"1\" class=\"dataframe\">\n",
        "  <thead>\n",
        "    <tr style=\"text-align: right;\">\n",
        "      <th></th>\n",
        "      <th>legal</th>\n",
        "      <th>n_basis</th>\n",
        "      <th>n_objects</th>\n",
        "      <th>not_legal</th>\n",
        "    </tr>\n",
        "  </thead>\n",
        "  <tbody>\n",
        "    <tr>\n",
        "      <th>0</th>\n",
        "      <td>   5</td>\n",
        "      <td> 2</td>\n",
        "      <td> 2</td>\n",
        "      <td>     3</td>\n",
        "    </tr>\n",
        "    <tr>\n",
        "      <th>1</th>\n",
        "      <td>  19</td>\n",
        "      <td> 3</td>\n",
        "      <td> 2</td>\n",
        "      <td>   117</td>\n",
        "    </tr>\n",
        "    <tr>\n",
        "      <th>2</th>\n",
        "      <td>  13</td>\n",
        "      <td> 2</td>\n",
        "      <td> 3</td>\n",
        "      <td>    14</td>\n",
        "    </tr>\n",
        "    <tr>\n",
        "      <th>3</th>\n",
        "      <td>  84</td>\n",
        "      <td> 3</td>\n",
        "      <td> 3</td>\n",
        "      <td>  2130</td>\n",
        "    </tr>\n",
        "    <tr>\n",
        "      <th>4</th>\n",
        "      <td>  26</td>\n",
        "      <td> 2</td>\n",
        "      <td> 4</td>\n",
        "      <td>    38</td>\n",
        "    </tr>\n",
        "    <tr>\n",
        "      <th>5</th>\n",
        "      <td> 265</td>\n",
        "      <td> 3</td>\n",
        "      <td> 4</td>\n",
        "      <td> 16183</td>\n",
        "    </tr>\n",
        "    <tr>\n",
        "      <th>6</th>\n",
        "      <td>  45</td>\n",
        "      <td> 2</td>\n",
        "      <td> 5</td>\n",
        "      <td>    80</td>\n",
        "    </tr>\n",
        "    <tr>\n",
        "      <th>7</th>\n",
        "      <td> 686</td>\n",
        "      <td> 3</td>\n",
        "      <td> 5</td>\n",
        "      <td> 77564</td>\n",
        "    </tr>\n",
        "  </tbody>\n",
        "</table>\n",
        "</div>"
       ],
       "metadata": {},
       "output_type": "pyout",
       "prompt_number": 29,
       "text": [
        "   legal  n_basis  n_objects  not_legal\n",
        "0      5        2          2          3\n",
        "1     19        3          2        117\n",
        "2     13        2          3         14\n",
        "3     84        3          3       2130\n",
        "4     26        2          4         38\n",
        "5    265        3          4      16183\n",
        "6     45        2          5         80\n",
        "7    686        3          5      77564"
       ]
      }
     ],
     "prompt_number": 29
    },
    {
     "cell_type": "code",
     "collapsed": false,
     "input": [
      "baz = foo[['legal', 'not_legal']].groupby(foo['n_basis'])\n"
     ],
     "language": "python",
     "metadata": {},
     "outputs": [],
     "prompt_number": 41
    },
    {
     "cell_type": "code",
     "collapsed": false,
     "input": [
      "baz.head()"
     ],
     "language": "python",
     "metadata": {},
     "outputs": [
      {
       "html": [
        "<div style=\"max-height:1000px;max-width:1500px;overflow:auto;\">\n",
        "<table border=\"1\" class=\"dataframe\">\n",
        "  <thead>\n",
        "    <tr style=\"text-align: right;\">\n",
        "      <th></th>\n",
        "      <th>legal</th>\n",
        "      <th>not_legal</th>\n",
        "    </tr>\n",
        "  </thead>\n",
        "  <tbody>\n",
        "    <tr>\n",
        "      <th>0</th>\n",
        "      <td>   5</td>\n",
        "      <td>     3</td>\n",
        "    </tr>\n",
        "    <tr>\n",
        "      <th>1</th>\n",
        "      <td>  19</td>\n",
        "      <td>   117</td>\n",
        "    </tr>\n",
        "    <tr>\n",
        "      <th>2</th>\n",
        "      <td>  13</td>\n",
        "      <td>    14</td>\n",
        "    </tr>\n",
        "    <tr>\n",
        "      <th>3</th>\n",
        "      <td>  84</td>\n",
        "      <td>  2130</td>\n",
        "    </tr>\n",
        "    <tr>\n",
        "      <th>4</th>\n",
        "      <td>  26</td>\n",
        "      <td>    38</td>\n",
        "    </tr>\n",
        "    <tr>\n",
        "      <th>5</th>\n",
        "      <td> 265</td>\n",
        "      <td> 16183</td>\n",
        "    </tr>\n",
        "    <tr>\n",
        "      <th>6</th>\n",
        "      <td>  45</td>\n",
        "      <td>    80</td>\n",
        "    </tr>\n",
        "    <tr>\n",
        "      <th>7</th>\n",
        "      <td> 686</td>\n",
        "      <td> 77564</td>\n",
        "    </tr>\n",
        "  </tbody>\n",
        "</table>\n",
        "</div>"
       ],
       "metadata": {},
       "output_type": "pyout",
       "prompt_number": 42,
       "text": [
        "   legal  not_legal\n",
        "0      5          3\n",
        "1     19        117\n",
        "2     13         14\n",
        "3     84       2130\n",
        "4     26         38\n",
        "5    265      16183\n",
        "6     45         80\n",
        "7    686      77564"
       ]
      }
     ],
     "prompt_number": 42
    },
    {
     "cell_type": "code",
     "collapsed": false,
     "input": [
      "\n",
      "    "
     ],
     "language": "python",
     "metadata": {},
     "outputs": [
      {
       "ename": "TypeError",
       "evalue": "f() got an unexpected keyword argument 'axis'",
       "output_type": "pyerr",
       "traceback": [
        "\u001b[1;31m---------------------------------------------------------------------------\u001b[0m\n\u001b[1;31mTypeError\u001b[0m                                 Traceback (most recent call last)",
        "\u001b[1;32m<ipython-input-45-87e71a59d048>\u001b[0m in \u001b[0;36m<module>\u001b[1;34m()\u001b[0m\n\u001b[1;32m----> 1\u001b[1;33m \u001b[0mbaz\u001b[0m\u001b[1;33m.\u001b[0m\u001b[0msum\u001b[0m\u001b[1;33m(\u001b[0m\u001b[0maxis\u001b[0m\u001b[1;33m=\u001b[0m\u001b[1;34m'index'\u001b[0m\u001b[1;33m)\u001b[0m\u001b[1;33m\u001b[0m\u001b[0m\n\u001b[0m\u001b[0;32m      2\u001b[0m \u001b[1;33m\u001b[0m\u001b[0m\n",
        "\u001b[1;31mTypeError\u001b[0m: f() got an unexpected keyword argument 'axis'"
       ]
      }
     ],
     "prompt_number": 45
    },
    {
     "cell_type": "code",
     "collapsed": false,
     "input": [],
     "language": "python",
     "metadata": {},
     "outputs": []
    }
   ],
   "metadata": {}
  }
 ]
}