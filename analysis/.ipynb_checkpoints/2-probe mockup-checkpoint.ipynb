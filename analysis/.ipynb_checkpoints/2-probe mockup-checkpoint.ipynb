{
 "metadata": {
  "name": ""
 },
 "nbformat": 3,
 "nbformat_minor": 0,
 "worksheets": [
  {
   "cells": [
    {
     "cell_type": "heading",
     "level": 4,
     "metadata": {},
     "source": [
      "set up environment"
     ]
    },
    {
     "cell_type": "code",
     "collapsed": false,
     "input": [
      "from scikits.learn import svm\n",
      "import numpy as np\n",
      "%pylab inline"
     ],
     "language": "python",
     "metadata": {},
     "outputs": [
      {
       "output_type": "stream",
       "stream": "stdout",
       "text": [
        "Populating the interactive namespace from numpy and matplotlib\n"
       ]
      }
     ],
     "prompt_number": 250
    },
    {
     "cell_type": "heading",
     "level": 4,
     "metadata": {},
     "source": [
      "basic test"
     ]
    },
    {
     "cell_type": "code",
     "collapsed": false,
     "input": [
      ">>> X = [[0, 0], [1, 1]]\n",
      ">>> y = [0, 1]\n",
      ">>> classifier = svm.SVC()\n",
      ">>> classifier.fit(X, y)  \n"
     ],
     "language": "python",
     "metadata": {},
     "outputs": [
      {
       "metadata": {},
       "output_type": "pyout",
       "prompt_number": 251,
       "text": [
        "SVC(kernel='rbf', C=1.0, probability=False, degree=3, coef0=0.0, tol=0.001,\n",
        "  cache_size=100.0, shrinking=True, gamma=0.5)"
       ]
      }
     ],
     "prompt_number": 251
    },
    {
     "cell_type": "heading",
     "level": 4,
     "metadata": {},
     "source": [
      "create a fake picture and look at it"
     ]
    },
    {
     "cell_type": "code",
     "collapsed": false,
     "input": [
      "picture = np.zeros((32,32))\n",
      "picture[0:16,:] = 1\n",
      "imshow(picture)\n"
     ],
     "language": "python",
     "metadata": {},
     "outputs": [
      {
       "metadata": {},
       "output_type": "pyout",
       "prompt_number": 252,
       "text": [
        "<matplotlib.image.AxesImage at 0x7be7810>"
       ]
      },
      {
       "metadata": {},
       "output_type": "display_data",
       "png": "[encoded data removed]",
       "text": [
        "<matplotlib.figure.Figure at 0xbb81210>"
       ]
      }
     ],
     "prompt_number": 252
    },
    {
     "cell_type": "heading",
     "level": 4,
     "metadata": {},
     "source": [
      "add a grid of sampling points"
     ]
    },
    {
     "cell_type": "code",
     "collapsed": false,
     "input": [
      "grid_row = np.linspace(0,31,4).round()\n",
      "gx,gy = np.meshgrid(grid_row, grid_row)\n",
      "print gx\n",
      "print gy\n",
      "imshow(picture)\n",
      "plot(gx,gy,'k.')"
     ],
     "language": "python",
     "metadata": {},
     "outputs": [
      {
       "output_type": "stream",
       "stream": "stdout",
       "text": [
        "[[  0.  10.  21.  31.]\n",
        " [  0.  10.  21.  31.]\n",
        " [  0.  10.  21.  31.]\n",
        " [  0.  10.  21.  31.]]\n",
        "[[  0.   0.   0.   0.]\n",
        " [ 10.  10.  10.  10.]\n",
        " [ 21.  21.  21.  21.]\n",
        " [ 31.  31.  31.  31.]]\n"
       ]
      },
      {
       "metadata": {},
       "output_type": "pyout",
       "prompt_number": 253,
       "text": [
        "[<matplotlib.lines.Line2D at 0xbb73d50>,\n",
        " <matplotlib.lines.Line2D at 0x7bbac90>,\n",
        " <matplotlib.lines.Line2D at 0x7bbad50>,\n",
        " <matplotlib.lines.Line2D at 0x7bbae10>]"
       ]
      },
      {
       "metadata": {},
       "output_type": "display_data",
       "png": "[encoded data removed]",
       "text": [
        "<matplotlib.figure.Figure at 0xbb709d0>"
       ]
      }
     ],
     "prompt_number": 253
    },
    {
     "cell_type": "heading",
     "level": 4,
     "metadata": {},
     "source": [
      "assign membership values to each pair of neighbors"
     ]
    },
    {
     "cell_type": "code",
     "collapsed": false,
     "input": [
      "##get a list of all neighbors\n",
      "neighbor_pairs = []\n",
      "for ii in range(len(gx)):\n",
      "    for jj in range(len(gy)):\n",
      "        if jj < len(gy)-1:\n",
      "            neighbor_pairs.append([gx[ii,jj], gy[ii,jj], gx[ii,jj+1],gy[ii,jj+1]])\n",
      "        if ii < len(gx)-1:\n",
      "            neighbor_pairs.append([gx[ii,jj], gy[ii,jj], gx[ii+1,jj],gy[ii+1,jj]])\n",
      "neighbor_pairs = np.array(neighbor_pairs)\n",
      "#print neighbor_pairs\n",
      "\n",
      "##assign membership value to each\n",
      "membership = []\n",
      "for pair in neighbor_pairs:\n",
      "     membership.append((pair[0]<15)==(pair[2]<15))\n",
      "\n",
      "##normalize all pairs\n",
      "def normalize_rows(x):\n",
      "    row_sums = np.sqrt(np.array(x**2).sum(axis=1))\n",
      "    return x / row_sums[:, np.newaxis]\n",
      "\n",
      "normalized_neighbor_pairs = normalize_rows(neighbor_pairs)\n",
      "print normalized_neighbor_pairs\n"
     ],
     "language": "python",
     "metadata": {},
     "outputs": [
      {
       "output_type": "stream",
       "stream": "stdout",
       "text": [
        "[[ 0.          0.          1.          0.        ]\n",
        " [ 0.          0.          0.          1.        ]\n",
        " [ 0.42993358  0.          0.90286052  0.        ]\n",
        " [ 0.57735027  0.          0.57735027  0.57735027]\n",
        " [ 0.56084815  0.          0.82791869  0.        ]\n",
        " [ 0.67013693  0.          0.67013693  0.31911282]\n",
        " [ 0.68939974  0.          0.68939974  0.22238701]\n",
        " [ 0.          0.57735027  0.57735027  0.57735027]\n",
        " [ 0.          0.42993358  0.          0.90286052]\n",
        " [ 0.36735918  0.36735918  0.77145428  0.36735918]\n",
        " [ 0.36735918  0.36735918  0.36735918  0.77145428]\n",
        " [ 0.52467218  0.2498439   0.77451608  0.2498439 ]\n",
        " [ 0.55669439  0.26509257  0.55669439  0.55669439]\n",
        " [ 0.62463956  0.20149663  0.62463956  0.42314293]\n",
        " [ 0.          0.67013693  0.31911282  0.67013693]\n",
        " [ 0.          0.56084815  0.          0.82791869]\n",
        " [ 0.26509257  0.55669439  0.55669439  0.55669439]\n",
        " [ 0.2498439   0.52467218  0.2498439   0.77451608]\n",
        " [ 0.43941132  0.43941132  0.64865481  0.43941132]\n",
        " [ 0.43941132  0.43941132  0.43941132  0.64865481]\n",
        " [ 0.53768904  0.36424096  0.53768904  0.53768904]\n",
        " [ 0.          0.68939974  0.22238701  0.68939974]\n",
        " [ 0.20149663  0.62463956  0.42314293  0.62463956]\n",
        " [ 0.36424096  0.53768904  0.53768904  0.53768904]]\n"
       ]
      }
     ],
     "prompt_number": 254
    },
    {
     "cell_type": "heading",
     "level": 4,
     "metadata": {},
     "source": [
      "now train the classifier"
     ]
    },
    {
     "cell_type": "code",
     "collapsed": false,
     "input": [
      "print len(normalized_neighbor_pairs)\n",
      "classifier = svm.SVC(kernel = 'poly', degree=2, probability=True)\n",
      "classifier.fit(normalized_neighbor_pairs, membership)"
     ],
     "language": "python",
     "metadata": {},
     "outputs": [
      {
       "output_type": "stream",
       "stream": "stdout",
       "text": [
        "24\n"
       ]
      },
      {
       "metadata": {},
       "output_type": "pyout",
       "prompt_number": 255,
       "text": [
        "SVC(kernel='poly', C=1.0, probability=True, degree=2, coef0=0.0, tol=0.001,\n",
        "  cache_size=100.0, shrinking=True, gamma=0.0416666666667)"
       ]
      }
     ],
     "prompt_number": 255
    },
    {
     "cell_type": "heading",
     "level": 4,
     "metadata": {},
     "source": [
      "test the classifier on neighboring grid points"
     ]
    },
    {
     "cell_type": "code",
     "collapsed": false,
     "input": [
      "test_local_neighbor_pairs = neighbor_pairs+0\n",
      "test_local_normalized_neighbor_pairs = normalize_rows(test_local_neighbor_pairs)\n",
      "\n",
      "##assign membership value to each\n",
      "test_local_membership = []\n",
      "for pair in test_local_neighbor_pairs:\n",
      "     test_local_membership.append((pair[0]<15)==(pair[2]<15))\n",
      "        \n",
      "print test_local_membership\n",
      "print membership\n",
      "        \n",
      "#predicted_test_local_membership=classifier.predict(test_local_normalized_neighbor_pairs)\n",
      "#sum(predicted_test_local_membership==test_local_membership)/float(len(test_local_neighbor_pairs))\n"
     ],
     "language": "python",
     "metadata": {},
     "outputs": [
      {
       "output_type": "stream",
       "stream": "stdout",
       "text": [
        "[True, True, False, True, True, True, True, True, True, False, True, True, True, True, True, True, False, True, True, True, True, True, False, True]\n",
        "[True, True, False, True, True, True, True, True, True, False, True, True, True, True, True, True, False, True, True, True, True, True, False, True]\n"
       ]
      }
     ],
     "prompt_number": 256
    },
    {
     "cell_type": "heading",
     "level": 4,
     "metadata": {},
     "source": [
      "test the classifier on every pair of pixels"
     ]
    },
    {
     "cell_type": "code",
     "collapsed": false,
     "input": [
      "##make every pair of pixels\n",
      "pixel_row = np.linspace(0,31,32)\n",
      "px, py = np.meshgrid(pixel_row, pixel_row)\n",
      "px = list(px.reshape((32**2)))\n",
      "py = list(py.reshape((32**2)))\n",
      "pixels = zip(px,py)\n",
      "pixel_pairs = []\n",
      "while pixels:\n",
      "    current_pixel = pixels.pop()\n",
      "    for pp in pixels:\n",
      "        pixel_pairs.append(list(current_pixel+pp))\n",
      "\n",
      "len(pixel_pairs)\n",
      "\n",
      "##assign membership to each pixel pair\n",
      "test_membership = []\n",
      "for pair in pixel_pairs:\n",
      "     test_membership.append((pair[0]<15)==(pair[2]<15))\n",
      "        \n",
      "##make predictions\n",
      "predicted_membership=classifier.predict(pixel_pairs)\n",
      "sum(predicted_membership==test_membership)/float(len(pixel_pairs))\n",
      "\n"
     ],
     "language": "python",
     "metadata": {},
     "outputs": [
      {
       "metadata": {},
       "output_type": "pyout",
       "prompt_number": 257,
       "text": [
        "0.50288673020527863"
       ]
      }
     ],
     "prompt_number": 257
    },
    {
     "cell_type": "heading",
     "level": 4,
     "metadata": {},
     "source": [
      "make a picture of the \"decoded\" objects"
     ]
    },
    {
     "cell_type": "code",
     "collapsed": false,
     "input": [
      "##remake the list of pixels\n",
      "#for pp in pixel_pairs:\n",
      "    ##get all pairs containing pb1 or pb2\n",
      "#    contains_pb1 = find_pairs(pp[0:2], pixel_pairs)\n",
      "#    contains_pb2 = find_pairs(pp[2:], pixel_pairs)\n",
      "#    connected_to_pb1 = np.multiply(contains_pb1,test_membership)\n",
      "#    connected_to_pb2 = np.multiply(contains_pb2,test_membership)\n",
      "\n",
      "            ##find which pairs are \"matching\"\n",
      "        ##get all pairs containing pb2\n",
      "            ##find which pairs are matching\n",
      "    ##take intersection pb1_match and pb2_match\n",
      "    ##count\n",
      "    "
     ],
     "language": "python",
     "metadata": {},
     "outputs": [],
     "prompt_number": 258
    },
    {
     "cell_type": "code",
     "collapsed": false,
     "input": [
      "sum(test_membership==False)"
     ],
     "language": "python",
     "metadata": {},
     "outputs": [
      {
       "metadata": {},
       "output_type": "pyout",
       "prompt_number": 259,
       "text": [
        "False"
       ]
      }
     ],
     "prompt_number": 259
    },
    {
     "cell_type": "code",
     "collapsed": false,
     "input": [
      "test_membership[0:10]"
     ],
     "language": "python",
     "metadata": {},
     "outputs": [
      {
       "metadata": {},
       "output_type": "pyout",
       "prompt_number": 260,
       "text": [
        "[False, False, False, False, False, False, False, False, False, False]"
       ]
      }
     ],
     "prompt_number": 260
    },
    {
     "cell_type": "code",
     "collapsed": false,
     "input": [
      "sum(predicted_membership)"
     ],
     "language": "python",
     "metadata": {},
     "outputs": [
      {
       "metadata": {},
       "output_type": "pyout",
       "prompt_number": 261,
       "text": [
        "523032.0"
       ]
      }
     ],
     "prompt_number": 261
    },
    {
     "cell_type": "code",
     "collapsed": false,
     "input": [
      "array([1,2,3]).sqrt?"
     ],
     "language": "python",
     "metadata": {},
     "outputs": [],
     "prompt_number": 262
    },
    {
     "cell_type": "code",
     "collapsed": false,
     "input": [
      "array([1,2,3]).sqrt"
     ],
     "language": "python",
     "metadata": {},
     "outputs": []
    },
    {
     "cell_type": "code",
     "collapsed": false,
     "input": [
      "array([1,2,3]).sqrt"
     ],
     "language": "python",
     "metadata": {},
     "outputs": [
      {
       "ename": "AttributeError",
       "evalue": "'numpy.ndarray' object has no attribute 'sqrt'",
       "output_type": "pyerr",
       "traceback": [
        "\u001b[1;31m---------------------------------------------------------------------------\u001b[0m\n\u001b[1;31mAttributeError\u001b[0m                            Traceback (most recent call last)",
        "\u001b[1;32m<ipython-input-263-579c1e396af7>\u001b[0m in \u001b[0;36m<module>\u001b[1;34m()\u001b[0m\n\u001b[1;32m----> 1\u001b[1;33m \u001b[0marray\u001b[0m\u001b[1;33m(\u001b[0m\u001b[1;33m[\u001b[0m\u001b[1;36m1\u001b[0m\u001b[1;33m,\u001b[0m\u001b[1;36m2\u001b[0m\u001b[1;33m,\u001b[0m\u001b[1;36m3\u001b[0m\u001b[1;33m]\u001b[0m\u001b[1;33m)\u001b[0m\u001b[1;33m.\u001b[0m\u001b[0msqrt\u001b[0m\u001b[1;33m\u001b[0m\u001b[0m\n\u001b[0m",
        "\u001b[1;31mAttributeError\u001b[0m: 'numpy.ndarray' object has no attribute 'sqrt'"
       ]
      }
     ],
     "prompt_number": 263
    },
    {
     "cell_type": "code",
     "collapsed": false,
     "input": [],
     "language": "python",
     "metadata": {},
     "outputs": []
    }
   ],
   "metadata": {}
  }
 ]
}