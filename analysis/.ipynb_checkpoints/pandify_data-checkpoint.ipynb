{
 "metadata": {
  "name": "",
  "signature": "sha256:adb0426bbe99e57e17ec1d6f0b4482dc845ee3034f4d812cb908332e5f4d9d63"
 },
 "nbformat": 3,
 "nbformat_minor": 0,
 "worksheets": []
}