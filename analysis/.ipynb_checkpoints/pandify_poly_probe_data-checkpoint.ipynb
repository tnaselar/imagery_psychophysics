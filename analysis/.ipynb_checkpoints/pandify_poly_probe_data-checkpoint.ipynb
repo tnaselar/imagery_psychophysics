{
 "metadata": {
  "name": "",
  "signature": "sha256:f8e53bddc9c4e3bd1a674d4bd502d0e16bff0d276b064418050fb5f24d3e6ae0"
 },
 "nbformat": 3,
 "nbformat_minor": 0,
 "worksheets": [
  {
   "cells": [
    {
     "cell_type": "code",
     "collapsed": false,
     "input": [
      "import re\n",
      "import numpy as np\n",
      "import pandas as pd\n",
      "from matplotlib import pyplot as plt\n",
      "%matplotlib inline"
     ],
     "language": "python",
     "metadata": {},
     "outputs": [
      {
       "output_type": "stream",
       "stream": "stderr",
       "text": [
        "/home/tnaselar/anaconda/lib/python2.7/site-packages/pytz/__init__.py:29: UserWarning: Module argparse was already imported from /home/tnaselar/anaconda/lib/python2.7/argparse.pyc, but /home/tnaselar/anaconda/lib/python2.7/site-packages is being added to sys.path\n",
        "  from pkg_resources import resource_stream\n"
       ]
      }
     ],
     "prompt_number": 1
    },
    {
     "cell_type": "code",
     "collapsed": false,
     "input": [
      "subjects = {}\n",
      "\n",
      "probe_images_path = '/musc.repo/Data/tnaselar/imagery_psychophysics/poly_probes/'\n",
      "\n",
      "subjects['KL'] = {}\n",
      "subjects['KL']['sourcefile'] = probe_images_path+'data/KL_2014_Nov_13_1137.log'\n",
      "\n",
      "subjects['ZS'] = {}\n",
      "subjects['ZS']['sourcefile'] = probe_images_path+'data/ZS_2014_Nov_13_1227.log'\n",
      "\n",
      "subjects['RL'] = {}\n",
      "subjects['RL']['sourcefile'] = probe_images_path+'data/RL_2014_Nov_14_1553.log'\n",
      "\n",
      "# subjects['CP'] = {}\n",
      "# subjects['CP']['sourcefile'] = probe_images_path+'data/CP_2014_Nov_14_1513.log'\n",
      "\n",
      "\n",
      "max_images_per_exp = 2\n",
      "\n",
      "\n",
      "imagery_marker = '_img_'\n",
      "perception_marker = '_pcp_'\n",
      "\n",
      "subject_table = pd.DataFrame(subjects)\n",
      "\n",
      "number_of_lines_in_chunk = 3"
     ],
     "language": "python",
     "metadata": {},
     "outputs": [],
     "prompt_number": 2
    },
    {
     "cell_type": "code",
     "collapsed": false,
     "input": [
      "subject_table"
     ],
     "language": "python",
     "metadata": {},
     "outputs": [
      {
       "html": [
        "<div style=\"max-height:1000px;max-width:1500px;overflow:auto;\">\n",
        "<table border=\"1\" class=\"dataframe\">\n",
        "  <thead>\n",
        "    <tr style=\"text-align: right;\">\n",
        "      <th></th>\n",
        "      <th>CP</th>\n",
        "      <th>KL</th>\n",
        "      <th>RL</th>\n",
        "      <th>ZS</th>\n",
        "    </tr>\n",
        "  </thead>\n",
        "  <tbody>\n",
        "    <tr>\n",
        "      <th>sourcefile</th>\n",
        "      <td> /musc.repo/Data/tnaselar/imagery_psychophysics...</td>\n",
        "      <td> /musc.repo/Data/tnaselar/imagery_psychophysics...</td>\n",
        "      <td> /musc.repo/Data/tnaselar/imagery_psychophysics...</td>\n",
        "      <td> /musc.repo/Data/tnaselar/imagery_psychophysics...</td>\n",
        "    </tr>\n",
        "  </tbody>\n",
        "</table>\n",
        "</div>"
       ],
       "metadata": {},
       "output_type": "pyout",
       "prompt_number": 3,
       "text": [
        "                                                           CP  \\\n",
        "sourcefile  /musc.repo/Data/tnaselar/imagery_psychophysics...   \n",
        "\n",
        "                                                           KL  \\\n",
        "sourcefile  /musc.repo/Data/tnaselar/imagery_psychophysics...   \n",
        "\n",
        "                                                           RL  \\\n",
        "sourcefile  /musc.repo/Data/tnaselar/imagery_psychophysics...   \n",
        "\n",
        "                                                           ZS  \n",
        "sourcefile  /musc.repo/Data/tnaselar/imagery_psychophysics...  "
       ]
      }
     ],
     "prompt_number": 3
    },
    {
     "cell_type": "code",
     "collapsed": false,
     "input": [
      "def starts_a_response_chunk(x):\n",
      "    if 'New trial' in x:\n",
      "        return True\n",
      "    else:\n",
      "        return False\n",
      "\n",
      "def get_probe_number(new_line):\n",
      "    return '_'.join(re.search('_probe\\((.*?)\\).png', new_line).group(1).split(','))\n",
      "#     dx = new_line.index('_probe(')\n",
      "#     if new_line[dx-2].isdigit():\n",
      "#         return int(new_line[dx-2:dx])\n",
      "#     else:\n",
      "#         return int(new_line[dx-1])\n",
      "    \n",
      "# def get_repetition(new_line):\n",
      "#     return int(new_line[new_line.index('rep=')+4])\n",
      "\n",
      "def get_state(new_line):\n",
      "    dx = new_line.index('probe(')\n",
      "    state = new_line[dx-4:dx-1]\n",
      "    if state:\n",
      "        return state\n",
      "    else:\n",
      "        raise Exception('you are not at the start of a new trial')\n",
      "#     if 'just-probes' in new_line:\n",
      "#         return 'img'\n",
      "#     elif 'probes-with-im' in new_line:\n",
      "#         return 'pcp'\n",
      "#     else:\n",
      "        \n",
      "\n",
      "def get_time_stamp(new_line):\n",
      "    return float(new_line[0:new_line.index('\\t')])\n",
      "\n",
      "def get_response(new_line):\n",
      "    try:\n",
      "        return int(new_line[new_line.index('Keypress')+10])\n",
      "    except:\n",
      "        print('subject did not respond, returning None')\n",
      "        return None\n",
      "        \n",
      "def skip_a_line(all_lines):\n",
      "    return all_lines.pop(0)\n",
      "\n",
      "def get_image(new_line):\n",
      "    return re.search('poly_probes/probes/(.*?)_', new_line).group(1)\n",
      "#     dx = new_line.index('finalprobeset')\n",
      "#     return new_line[dx:(dx+15)]"
     ],
     "language": "python",
     "metadata": {},
     "outputs": [],
     "prompt_number": 4
    },
    {
     "cell_type": "code",
     "collapsed": false,
     "input": [
      "f = '/musc.repo/Data/tnaselar/imagery_psychophysics/poly_probes/probes/easy_image_pcp_probe(48).png'\n",
      "print get_time_stamp('92.0458\tDATA\tKeypress: 2')\n",
      "print 'state: %s' %(get_state(f))\n",
      "print get_response('92.0458\tDATA\tKeypress: 2\\n')\n",
      "print get_image(f)"
     ],
     "language": "python",
     "metadata": {},
     "outputs": [
      {
       "output_type": "stream",
       "stream": "stdout",
       "text": [
        "92.0458\n",
        "state: pcp\n",
        "2\n",
        "easy\n"
       ]
      }
     ],
     "prompt_number": 5
    },
    {
     "cell_type": "code",
     "collapsed": false,
     "input": [
      "data_dict = {'subj': [], 'image': [], 'probe': [], 'state': [], 'image_on': [], 'resp_on': [], 'response': []}\n",
      "for subj in subjects.keys():\n",
      "    print subj    \n",
      "    all_lines = open(subjects[subj]['sourcefile'], 'r').readlines()\n",
      "    while all_lines:\n",
      "        new_line = all_lines.pop(0)\n",
      "        if starts_a_response_chunk(new_line):\n",
      "            data_dict['subj'].append(subj)\n",
      "            new_line = all_lines.pop(0)\n",
      "            if new_line.find('WARNING') > 0:\n",
      "                _ = skip_a_line(all_lines)\n",
      "            new_line = all_lines.pop(0)\n",
      "            data_dict['probe'].append(get_probe_number(new_line))\n",
      "            data_dict['state'].append(get_state(new_line))  \n",
      "            data_dict['image'].append(get_image(new_line))\n",
      "            data_dict['image_on'].append(get_time_stamp(all_lines.pop(0)))\n",
      "            new_line = all_lines.pop(0)\n",
      "            data_dict['resp_on'].append(get_time_stamp(new_line))\n",
      "            data_dict['response'].append(get_response(new_line))\n",
      "            \n",
      "\n",
      "\n",
      "probe_exp = pd.DataFrame(data_dict)\n",
      "\n"
     ],
     "language": "python",
     "metadata": {},
     "outputs": [
      {
       "output_type": "stream",
       "stream": "stdout",
       "text": [
        "RL\n",
        "CP"
       ]
      },
      {
       "output_type": "stream",
       "stream": "stdout",
       "text": [
        "\n",
        "subject did not respond, returning None\n"
       ]
      },
      {
       "ename": "AttributeError",
       "evalue": "'NoneType' object has no attribute 'group'",
       "output_type": "pyerr",
       "traceback": [
        "\u001b[1;31m---------------------------------------------------------------------------\u001b[0m\n\u001b[1;31mAttributeError\u001b[0m                            Traceback (most recent call last)",
        "\u001b[1;32m<ipython-input-6-ab03e187328b>\u001b[0m in \u001b[0;36m<module>\u001b[1;34m()\u001b[0m\n\u001b[0;32m     11\u001b[0m                 \u001b[0m_\u001b[0m \u001b[1;33m=\u001b[0m \u001b[0mskip_a_line\u001b[0m\u001b[1;33m(\u001b[0m\u001b[0mall_lines\u001b[0m\u001b[1;33m)\u001b[0m\u001b[1;33m\u001b[0m\u001b[0m\n\u001b[0;32m     12\u001b[0m             \u001b[0mnew_line\u001b[0m \u001b[1;33m=\u001b[0m \u001b[0mall_lines\u001b[0m\u001b[1;33m.\u001b[0m\u001b[0mpop\u001b[0m\u001b[1;33m(\u001b[0m\u001b[1;36m0\u001b[0m\u001b[1;33m)\u001b[0m\u001b[1;33m\u001b[0m\u001b[0m\n\u001b[1;32m---> 13\u001b[1;33m             \u001b[0mdata_dict\u001b[0m\u001b[1;33m[\u001b[0m\u001b[1;34m'probe'\u001b[0m\u001b[1;33m]\u001b[0m\u001b[1;33m.\u001b[0m\u001b[0mappend\u001b[0m\u001b[1;33m(\u001b[0m\u001b[0mget_probe_number\u001b[0m\u001b[1;33m(\u001b[0m\u001b[0mnew_line\u001b[0m\u001b[1;33m)\u001b[0m\u001b[1;33m)\u001b[0m\u001b[1;33m\u001b[0m\u001b[0m\n\u001b[0m\u001b[0;32m     14\u001b[0m             \u001b[0mdata_dict\u001b[0m\u001b[1;33m[\u001b[0m\u001b[1;34m'state'\u001b[0m\u001b[1;33m]\u001b[0m\u001b[1;33m.\u001b[0m\u001b[0mappend\u001b[0m\u001b[1;33m(\u001b[0m\u001b[0mget_state\u001b[0m\u001b[1;33m(\u001b[0m\u001b[0mnew_line\u001b[0m\u001b[1;33m)\u001b[0m\u001b[1;33m)\u001b[0m\u001b[1;33m\u001b[0m\u001b[0m\n\u001b[0;32m     15\u001b[0m             \u001b[0mdata_dict\u001b[0m\u001b[1;33m[\u001b[0m\u001b[1;34m'image'\u001b[0m\u001b[1;33m]\u001b[0m\u001b[1;33m.\u001b[0m\u001b[0mappend\u001b[0m\u001b[1;33m(\u001b[0m\u001b[0mget_image\u001b[0m\u001b[1;33m(\u001b[0m\u001b[0mnew_line\u001b[0m\u001b[1;33m)\u001b[0m\u001b[1;33m)\u001b[0m\u001b[1;33m\u001b[0m\u001b[0m\n",
        "\u001b[1;32m<ipython-input-4-8ad8010722a4>\u001b[0m in \u001b[0;36mget_probe_number\u001b[1;34m(new_line)\u001b[0m\n\u001b[0;32m      6\u001b[0m \u001b[1;33m\u001b[0m\u001b[0m\n\u001b[0;32m      7\u001b[0m \u001b[1;32mdef\u001b[0m \u001b[0mget_probe_number\u001b[0m\u001b[1;33m(\u001b[0m\u001b[0mnew_line\u001b[0m\u001b[1;33m)\u001b[0m\u001b[1;33m:\u001b[0m\u001b[1;33m\u001b[0m\u001b[0m\n\u001b[1;32m----> 8\u001b[1;33m     \u001b[1;32mreturn\u001b[0m \u001b[1;34m'_'\u001b[0m\u001b[1;33m.\u001b[0m\u001b[0mjoin\u001b[0m\u001b[1;33m(\u001b[0m\u001b[0mre\u001b[0m\u001b[1;33m.\u001b[0m\u001b[0msearch\u001b[0m\u001b[1;33m(\u001b[0m\u001b[1;34m'_probe\\((.*?)\\).png'\u001b[0m\u001b[1;33m,\u001b[0m \u001b[0mnew_line\u001b[0m\u001b[1;33m)\u001b[0m\u001b[1;33m.\u001b[0m\u001b[0mgroup\u001b[0m\u001b[1;33m(\u001b[0m\u001b[1;36m1\u001b[0m\u001b[1;33m)\u001b[0m\u001b[1;33m.\u001b[0m\u001b[0msplit\u001b[0m\u001b[1;33m(\u001b[0m\u001b[1;34m','\u001b[0m\u001b[1;33m)\u001b[0m\u001b[1;33m)\u001b[0m\u001b[1;33m\u001b[0m\u001b[0m\n\u001b[0m\u001b[0;32m      9\u001b[0m \u001b[1;31m#     dx = new_line.index('_probe(')\u001b[0m\u001b[1;33m\u001b[0m\u001b[1;33m\u001b[0m\u001b[0m\n\u001b[0;32m     10\u001b[0m \u001b[1;31m#     if new_line[dx-2].isdigit():\u001b[0m\u001b[1;33m\u001b[0m\u001b[1;33m\u001b[0m\u001b[0m\n",
        "\u001b[1;31mAttributeError\u001b[0m: 'NoneType' object has no attribute 'group'"
       ]
      }
     ],
     "prompt_number": 6
    },
    {
     "cell_type": "code",
     "collapsed": false,
     "input": [
      "probe_exp.head()"
     ],
     "language": "python",
     "metadata": {},
     "outputs": []
    },
    {
     "cell_type": "code",
     "collapsed": false,
     "input": [
      "# probe_exp.save('/musc.repo/Data/data.pkl')"
     ],
     "language": "python",
     "metadata": {},
     "outputs": []
    },
    {
     "cell_type": "code",
     "collapsed": false,
     "input": [
      "probe_exp.dtypes"
     ],
     "language": "python",
     "metadata": {},
     "outputs": []
    },
    {
     "cell_type": "code",
     "collapsed": false,
     "input": [
      "probe_exp.describe()"
     ],
     "language": "python",
     "metadata": {},
     "outputs": []
    },
    {
     "cell_type": "code",
     "collapsed": false,
     "input": [
      "probe_exp[0:3]"
     ],
     "language": "python",
     "metadata": {},
     "outputs": []
    },
    {
     "cell_type": "code",
     "collapsed": false,
     "input": [
      "probe_exp[:3]"
     ],
     "language": "python",
     "metadata": {},
     "outputs": []
    },
    {
     "cell_type": "code",
     "collapsed": false,
     "input": [
      "print probe_exp.loc[1]\n",
      "print type(probe_exp.loc[1])\n"
     ],
     "language": "python",
     "metadata": {},
     "outputs": []
    },
    {
     "cell_type": "code",
     "collapsed": false,
     "input": [
      "probe_exp.loc[:, ['probe', 'response']].head()"
     ],
     "language": "python",
     "metadata": {},
     "outputs": []
    },
    {
     "cell_type": "code",
     "collapsed": false,
     "input": [
      "probe_exp.iloc[0]"
     ],
     "language": "python",
     "metadata": {},
     "outputs": []
    },
    {
     "cell_type": "code",
     "collapsed": false,
     "input": [
      "probe_exp.iloc[0:2, 1:3]"
     ],
     "language": "python",
     "metadata": {},
     "outputs": []
    },
    {
     "cell_type": "code",
     "collapsed": false,
     "input": [
      "probe_exp[probe_exp['probe']=='40_41']\n"
     ],
     "language": "python",
     "metadata": {},
     "outputs": []
    },
    {
     "cell_type": "code",
     "collapsed": false,
     "input": [
      "probe_exp[probe_exp.probe.isin(['40','41','40_41'])]"
     ],
     "language": "python",
     "metadata": {},
     "outputs": []
    },
    {
     "cell_type": "code",
     "collapsed": false,
     "input": [
      "KL = probe_exp[probe_exp.subj=='KL']\n",
      "KL.sort(columns='probe')[0:6]"
     ],
     "language": "python",
     "metadata": {},
     "outputs": []
    },
    {
     "cell_type": "code",
     "collapsed": false,
     "input": [
      "KL[KL.image.isin(['hard'])]['response'].value_counts(sort=False).plot(kind='bar')"
     ],
     "language": "python",
     "metadata": {},
     "outputs": []
    },
    {
     "cell_type": "code",
     "collapsed": false,
     "input": [
      "foo.value_counts"
     ],
     "language": "python",
     "metadata": {},
     "outputs": []
    },
    {
     "cell_type": "code",
     "collapsed": false,
     "input": [
      "KL[KL.image.isin(['easy'])]['response'].value_counts(sort=False).plot(kind='bar')"
     ],
     "language": "python",
     "metadata": {},
     "outputs": []
    },
    {
     "cell_type": "code",
     "collapsed": false,
     "input": [
      "ZS = probe_exp[probe_exp.subj=='ZS']\n",
      "ZS[ZS.image.isin(['hard'])]['response'].value_counts(sort=False).plot(kind='bar')"
     ],
     "language": "python",
     "metadata": {},
     "outputs": []
    },
    {
     "cell_type": "code",
     "collapsed": false,
     "input": [
      "ZS[ZS.image.isin(['easy'])]['response'].value_counts(sort=False).plot(kind='bar')"
     ],
     "language": "python",
     "metadata": {},
     "outputs": []
    },
    {
     "cell_type": "code",
     "collapsed": false,
     "input": [
      "KL.apply(lambda x: x.min())"
     ],
     "language": "python",
     "metadata": {},
     "outputs": []
    },
    {
     "cell_type": "code",
     "collapsed": false,
     "input": [
      "probe_group = probe_exp.groupby('probe')"
     ],
     "language": "python",
     "metadata": {},
     "outputs": []
    },
    {
     "cell_type": "code",
     "collapsed": false,
     "input": [
      "probe_group.groups"
     ],
     "language": "python",
     "metadata": {},
     "outputs": []
    },
    {
     "cell_type": "code",
     "collapsed": false,
     "input": [
      "probe_multi = probe_exp.groupby(['subj', 'image', 'state', 'probe'])"
     ],
     "language": "python",
     "metadata": {},
     "outputs": []
    },
    {
     "cell_type": "code",
     "collapsed": false,
     "input": [
      "keys = probe_multi.groups.keys()\n",
      "dx = probe_multi.groups[keys[0]]\n",
      "probe_exp.iloc[dx]"
     ],
     "language": "python",
     "metadata": {},
     "outputs": []
    },
    {
     "cell_type": "code",
     "collapsed": false,
     "input": [],
     "language": "python",
     "metadata": {},
     "outputs": []
    }
   ],
   "metadata": {}
  }
 ]
}