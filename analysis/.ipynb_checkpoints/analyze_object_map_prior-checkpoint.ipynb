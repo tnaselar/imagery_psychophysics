{
 "metadata": {
  "name": ""
 },
 "nbformat": 3,
 "nbformat_minor": 0,
 "worksheets": [
  {
   "cells": [
    {
     "cell_type": "code",
     "collapsed": false,
     "input": [
      "##test some ideas for the object map prior\n",
      "from PIL import Image\n",
      "from object_parsing.src.image_objects import make_a_blank\n",
      "from object_parsing.src.image_objects import mask_quantize\n",
      "from imagery_psychophysics.src.object_map import *\n",
      "import numpy as np\n",
      "import glob\n",
      "%pylab inline\n",
      "%load_ext autoreload\n",
      "%autoreload 2"
     ],
     "language": "python",
     "metadata": {},
     "outputs": [
      {
       "output_type": "stream",
       "stream": "stdout",
       "text": [
        "Populating the interactive namespace from numpy and matplotlib\n",
        "The autoreload extension is already loaded. To reload it, use:\n",
        "  %reload_ext autoreload\n"
       ]
      }
     ],
     "prompt_number": 2
    },
    {
     "cell_type": "heading",
     "level": 4,
     "metadata": {},
     "source": [
      "link to a collection of object maps. each is stored as a .png"
     ]
    },
    {
     "cell_type": "code",
     "collapsed": false,
     "input": [
      "object_map_collection = '/musc.repo/Data/shared/my_labeled_images/labeled_image_maps/*.png'\n",
      "object_map_file_list = glob.glob(object_map_collection)"
     ],
     "language": "python",
     "metadata": {},
     "outputs": [],
     "prompt_number": 3
    },
    {
     "cell_type": "heading",
     "level": 3,
     "metadata": {},
     "source": [
      "the basic data structure we're going to use is a binarized_object_map. "
     ]
    },
    {
     "cell_type": "code",
     "collapsed": false,
     "input": [
      "om_image = Image.open(object_map_file_list[0])\n",
      "bom = binarized_object_map(om_image)"
     ],
     "language": "python",
     "metadata": {},
     "outputs": [],
     "prompt_number": 3
    },
    {
     "cell_type": "heading",
     "level": 4,
     "metadata": {},
     "source": [
      "the bom is just a npix x nobjects binary array. each column codes a single object."
     ]
    },
    {
     "cell_type": "code",
     "collapsed": false,
     "input": [
      "##size of bom data array\n",
      "print bom.bom.shape\n",
      "\n",
      "##number of rows = number of pixels\n",
      "print bom.npix\n",
      "\n",
      "##number of columns = number of objects\n",
      "print bom.count_myself()\n",
      "\n",
      "##append a new object map (in place)\n",
      "new_om = Image.open(object_map_file_list[1])\n",
      "bom.append(new_om)\n",
      "print len(np.unique(np.array(new_om)))\n",
      "print bom.count_myself()\n"
     ],
     "language": "python",
     "metadata": {},
     "outputs": [
      {
       "output_type": "stream",
       "stream": "stdout",
       "text": [
        "(250000, 11)\n",
        "250000\n",
        "11\n",
        "8"
       ]
      },
      {
       "output_type": "stream",
       "stream": "stdout",
       "text": [
        "\n",
        "19\n"
       ]
      }
     ],
     "prompt_number": 4
    },
    {
     "cell_type": "heading",
     "level": 4,
     "metadata": {},
     "source": [
      "by pulling an object from the stack a new instance is created, but the data array is still bound to original"
     ]
    },
    {
     "cell_type": "code",
     "collapsed": false,
     "input": [
      "##pull a single object from the stack (returns a new bom instance)\n",
      "one_bom = bom.pull(1) ##<<NOTE: objects indexed from 1 to count_myself\n",
      "one_bom.count_myself()\n",
      "\n",
      "##note that if we pull the object with index 0 we get a \"null\" object\n",
      "print np.sum(one_bom.pull(0).bom)\n",
      "\n",
      "##note that the outputs of pull and remove are still bound to the original data array\n",
      "nobj = 3\n",
      "pulled_from = bom.pull(nobj)\n",
      "print pulled_from.bom[0,0]\n",
      "bom.bom[0,nobj-1] += 10  ##this is equivalent to changing first element of pulled object\n",
      "print pulled_from.bom[0,0]"
     ],
     "language": "python",
     "metadata": {},
     "outputs": [
      {
       "output_type": "stream",
       "stream": "stdout",
       "text": [
        "0.0\n",
        "0.0\n",
        "10.0"
       ]
      },
      {
       "output_type": "stream",
       "stream": "stdout",
       "text": [
        "\n"
       ]
      }
     ],
     "prompt_number": 5
    },
    {
     "cell_type": "heading",
     "level": 4,
     "metadata": {},
     "source": [
      "\"remove\" erases an object, its equivalents, and all of the pixels it occupied...\n",
      "does not mutate original data array (\"bom\"). instead, returns a new instance "
     ]
    },
    {
     "cell_type": "code",
     "collapsed": false,
     "input": [
      "print bom.pull(2).npix\n",
      "print np.sum(bom.pull(2).bom)  ##<<this tells us the number of pixels occupied by the object\n",
      "smaller_bom = bom.remove(bom.pull(2)) ##<<\"remove\" khows to convert the binary object array to a boolean indexing array\n",
      "print smaller_bom.count_myself()\n",
      "print bom.npix-smaller_bom.npix ##<<this should equal the number of occupied pixels in the removed object"
     ],
     "language": "python",
     "metadata": {},
     "outputs": [
      {
       "output_type": "stream",
       "stream": "stdout",
       "text": [
        "250000\n",
        "15289.0\n",
        "18"
       ]
      },
      {
       "output_type": "stream",
       "stream": "stdout",
       "text": [
        "\n",
        "15289\n"
       ]
      }
     ],
     "prompt_number": 6
    },
    {
     "cell_type": "heading",
     "level": 4,
     "metadata": {},
     "source": [
      "includes a method for one-to-many comparisons of objects"
     ]
    },
    {
     "cell_type": "code",
     "collapsed": false,
     "input": [
      "test_bom = binarized_object_map(np.random.randint(0,2,(10,2)))\n",
      "first_obj = test_bom.pull(1)\n",
      "second_obj = test_bom.pull(2)\n",
      "print test_bom.find_match(first_obj)\n",
      "print test_bom.find_match(second_obj)"
     ],
     "language": "python",
     "metadata": {},
     "outputs": [
      {
       "output_type": "stream",
       "stream": "stdout",
       "text": [
        "[ True False]\n",
        "[False  True]\n"
       ]
      }
     ],
     "prompt_number": 7
    },
    {
     "cell_type": "heading",
     "level": 3,
     "metadata": {},
     "source": [
      "\"object map\" is a subclass that preserves and analyzes the image information in an object map."
     ]
    },
    {
     "cell_type": "code",
     "collapsed": false,
     "input": [
      "om = object_map(om_image)"
     ],
     "language": "python",
     "metadata": {},
     "outputs": [],
     "prompt_number": 8
    },
    {
     "cell_type": "heading",
     "level": 4,
     "metadata": {},
     "source": [
      "original object map preserved as Image and ndarray"
     ]
    },
    {
     "cell_type": "code",
     "collapsed": false,
     "input": [
      "##image format\n",
      "om.map_as_image.show()\n",
      "\n",
      "##array format\n",
      "imshow(om.map_as_array)"
     ],
     "language": "python",
     "metadata": {},
     "outputs": [
      {
       "metadata": {},
       "output_type": "pyout",
       "prompt_number": 9,
       "text": [
        "<matplotlib.image.AxesImage at 0x273d7d0>"
       ]
      },
      {
       "metadata": {},
       "output_type": "display_data",
       "png": "[encoded data removed]",
       "text": [
        "<matplotlib.figure.Figure at 0x1a31c50>"
       ]
      }
     ],
     "prompt_number": 9
    },
    {
     "cell_type": "heading",
     "level": 4,
     "metadata": {},
     "source": [
      "most important is the identification of object centers and (approximate) boundary points"
     ]
    },
    {
     "cell_type": "code",
     "collapsed": false,
     "input": [
      "nobj = 9\n",
      "num_samples = 10\n",
      "obj_center = om.object_center(nobj) ##this is the point in object closest to its center of mass\n",
      "obj_boundary = om.boundary_points(nobj, num_samples)\n",
      "imshow(om.map_as_array)\n",
      "scatter(obj_center[0], obj_center[1], c='r')\n",
      "for ii in range(obj_boundary.shape[0]):\n",
      "    scatter(obj_boundary[ii,0],obj_boundary[ii,1], c='k')\n"
     ],
     "language": "python",
     "metadata": {},
     "outputs": [
      {
       "metadata": {},
       "output_type": "display_data",
       "png": "[encoded data removed]",
       "text": [
        "<matplotlib.figure.Figure at 0x26ac150>"
       ]
      }
     ],
     "prompt_number": 10
    },
    {
     "cell_type": "heading",
     "level": 4,
     "metadata": {},
     "source": [
      "centers and (approximate) boundary points for all of the objects obtained like this"
     ]
    },
    {
     "cell_type": "code",
     "collapsed": false,
     "input": [
      "num_samples = om.count_myself()*2\n",
      "good_samples = om.good_samples(num_samples)\n",
      "imshow(om.map_as_array)\n",
      "for ii in range(good_samples.shape[0]):\n",
      "    scatter(good_samples[ii,0],good_samples[ii,1], c='k')\n"
     ],
     "language": "python",
     "metadata": {},
     "outputs": [
      {
       "metadata": {},
       "output_type": "display_data",
       "png": "[encoded data removed]",
       "text": [
        "<matplotlib.figure.Figure at 0x26b4c90>"
       ]
      }
     ],
     "prompt_number": 11
    },
    {
     "cell_type": "heading",
     "level": 4,
     "metadata": {},
     "source": [
      "we can convert between pixels locations bom-style indices like this"
     ]
    },
    {
     "cell_type": "code",
     "collapsed": false,
     "input": [
      "##converts from pixel locations (ix,iy) to indices into raveled image (like bom array)\n",
      "idx = om.points_2_indices(good_samples)\n",
      "##converts back to pixel locations\n",
      "pixel_points = om.indices_2_pts(idx)\n",
      "\n",
      "##now check that the locations are the same\n",
      "imshow(om.map_as_array)\n",
      "for ii in range(pixel_points.shape[0]):\n",
      "    scatter(pixel_points[ii,0],pixel_points[ii,1], c='k')"
     ],
     "language": "python",
     "metadata": {},
     "outputs": [
      {
       "metadata": {},
       "output_type": "display_data",
       "png": "[encoded data removed]",
       "text": [
        "<matplotlib.figure.Figure at 0x703b710>"
       ]
      }
     ],
     "prompt_number": 12
    },
    {
     "cell_type": "heading",
     "level": 3,
     "metadata": {},
     "source": [
      "\"dead leaves\" is a way of collecting a bunch of objects"
     ]
    },
    {
     "cell_type": "code",
     "collapsed": false,
     "input": [
      "object_map_file_list = glob.glob(object_map_collection)\n",
      "dl = dead_leaves(object_map_file_list[0:101])"
     ],
     "language": "python",
     "metadata": {},
     "outputs": [
      {
       "output_type": "stream",
       "stream": "stdout",
       "text": [
        "remaining: 100\n"
       ]
      }
     ],
     "prompt_number": 13
    },
    {
     "cell_type": "heading",
     "level": 4,
     "metadata": {},
     "source": [
      "dl assumes that its bom has been built by concatenating an collection of objects maps. to see one of them, spawn an object map"
     ]
    },
    {
     "cell_type": "code",
     "collapsed": false,
     "input": [
      "dl_om = dl.spawn_object_map(100)\n",
      "print dl_om.count_myself()\n",
      "print np.unique(dl_om.map_as_array)\n",
      "imshow(dl_om.map_as_array)\n",
      "gs = dl_om.good_samples(dl_om.count_myself()*4)\n",
      "for ii in range(gs.shape[0]):\n",
      "    scatter(gs[ii,0],gs[ii,1], c='k')"
     ],
     "language": "python",
     "metadata": {},
     "outputs": [
      {
       "output_type": "stream",
       "stream": "stdout",
       "text": [
        "12\n",
        "[ 1  2  3  4  5  6  7  8  9 10 11 12]\n"
       ]
      },
      {
       "metadata": {},
       "output_type": "display_data",
       "png": "[encoded data removed]",
       "text": [
        "<matplotlib.figure.Figure at 0x274b050>"
       ]
      }
     ],
     "prompt_number": 14
    },
    {
     "cell_type": "heading",
     "level": 3,
     "metadata": {},
     "source": [
      "    \"dead_leaves_prior\" is uses a collection of dead leaves to create an empirical prior over object maps"
     ]
    },
    {
     "cell_type": "code",
     "collapsed": false,
     "input": [
      "dlp = dead_leaves_prior()"
     ],
     "language": "python",
     "metadata": {},
     "outputs": [
      {
       "output_type": "stream",
       "stream": "stdout",
       "text": [
        "initiating dead leaves prior\n"
       ]
      }
     ],
     "prompt_number": 15
    },
    {
     "cell_type": "heading",
     "level": 4,
     "metadata": {},
     "source": [
      "after Pitkow (2012) we need be able to evaluate the probability that a set of pixels are all occupied by a single object"
     ]
    },
    {
     "cell_type": "code",
     "collapsed": false,
     "input": [
      "##note there is at least one copy of each object in the collection, so the inclusion prob \n",
      "##for any one object should be at least 1/dl.count_myself()\n",
      "dl = dead_leaves(object_map_file_list[0:100])\n",
      "dl_om = dl.spawn_object_map(1) ##<<Heh, there's a copy of the first toilet picture in the database...\n",
      "\n",
      "print 'expected min inclusion prob: %f' %(1./dl.count_myself())\n",
      "print dlp.inclusion_probability(dl_om.pull(1), dl)*dl.count_myself()\n",
      "print dlp.inclusion_probability(dl_om.pull(2), dl)\n",
      "print dlp.inclusion_probability(dl_om.pull(3), dl)\n",
      "print dlp.inclusion_probability(dl_om.pull(4), dl)\n",
      "print dlp.inclusion_probability(dl_om.pull(5), dl)\n",
      "\n",
      "##there is also the important \"null probability\" that none of the pixels are occupied by any object\n",
      "print 'null prob: %f' %(dlp.inclusion_probability(dl_om.pull(0), dl))"
     ],
     "language": "python",
     "metadata": {},
     "outputs": [
      {
       "output_type": "stream",
       "stream": "stdout",
       "text": [
        "expected min inclusion prob: 0.000987\n",
        "1.0\n",
        "0.000987166831194\n",
        "0.000987166831194\n",
        "0.000987166831194\n",
        "0.000987166831194"
       ]
      },
      {
       "output_type": "stream",
       "stream": "stdout",
       "text": [
        "\n",
        "null prob: 0.000000\n"
       ]
      }
     ],
     "prompt_number": 16
    },
    {
     "cell_type": "heading",
     "level": 4,
     "metadata": {},
     "source": [
      "subsampling the pixels should generally increase \n",
      "the inclusion probabilities because it removes differences between objects and lowers the total object count"
     ]
    },
    {
     "cell_type": "code",
     "collapsed": false,
     "input": [
      "##subsample at the borders of all the objects \n",
      "gs = dl_om.good_samples(dl_om.count_myself()*4)\n",
      "idx = dl_om.points_2_indices(gs)\n",
      "sub_leaves = dl.subsample(idx)\n",
      "print 'original number of pixels / objects: %d / %d' %(dl.npix, dl.count_myself())\n",
      "print 'subsampl number of pixels / objects: %d / %d' %(sub_leaves.npix, sub_leaves.count_myself())\n",
      "##note that dl and sub_leaves are different types. sub_leaves is a bom, dl is an instance of a subclass\n",
      "\n",
      "##spawn a bom to pull objects from\n",
      "sub_obj = dl_om.subsample(idx)\n",
      "\n",
      "##TODO: INVESTIGATE THIS!\n",
      "print '%f' %(dlp.inclusion_probability(sub_obj.pull(1), sub_leaves))\n"
     ],
     "language": "python",
     "metadata": {},
     "outputs": [
      {
       "output_type": "stream",
       "stream": "stdout",
       "text": [
        "original number of pixels / objects: 1024 / 1013\n",
        "subsampl number of pixels / objects: 22 / 566\n",
        "0.001767\n"
       ]
      }
     ],
     "prompt_number": 17
    },
    {
     "cell_type": "heading",
     "level": 4,
     "metadata": {},
     "source": [
      "here we systematically compare subsampling with different numbers of sample points"
     ]
    },
    {
     "cell_type": "code",
     "collapsed": false,
     "input": [
      "##range over number of sample points (in multiples of number of objects)\n",
      "sample_factor = np.arange(1, 40, 5)\n",
      "nobj = 200\n",
      "\n",
      "dl = dead_leaves(object_map_file_list[0:nobj])\n",
      "ip = []\n",
      "num_samples = []\n",
      "for ii in sample_factor:\n",
      "    print 'sample factor %d:' %(ii)\n",
      "    for oo in range(nobj):\n",
      "        dl_om = dl.spawn_object_map(oo)\n",
      "        num_samples.append(dl_om.count_myself()*ii)\n",
      "        gs = dl_om.good_samples(num_samples[-1])\n",
      "        idx = dl_om.points_2_indices(gs)\n",
      "        sub_leaves = dl.subsample(idx)\n",
      "        #print 'original number of pixels / objects: %d / %d' %(dl.npix, dl.count_myself())\n",
      "        #print 'subsampl number of pixels / objects: %d / %d' %(sub_leaves.npix, sub_leaves.count_myself())\n",
      "        sub_obj = dl_om.subsample(idx)\n",
      "        ip.append(dlp.inclusion_probability(sub_obj.pull(1), sub_leaves))\n",
      "        \n",
      "\n",
      "plot(num_samples, ip, '.')\n",
      "\n"
     ],
     "language": "python",
     "metadata": {},
     "outputs": [
      {
       "output_type": "stream",
       "stream": "stdout",
       "text": [
        "remaining: 100\n",
        "sample factor 1:"
       ]
      },
      {
       "output_type": "stream",
       "stream": "stdout",
       "text": [
        "\n",
        "sample factor 6:"
       ]
      },
      {
       "output_type": "stream",
       "stream": "stdout",
       "text": [
        "\n",
        "sample factor 11:"
       ]
      },
      {
       "output_type": "stream",
       "stream": "stdout",
       "text": [
        "\n",
        "sample factor 16:"
       ]
      },
      {
       "output_type": "stream",
       "stream": "stdout",
       "text": [
        "\n",
        "sample factor 21:"
       ]
      },
      {
       "output_type": "stream",
       "stream": "stdout",
       "text": [
        "\n",
        "sample factor 26:"
       ]
      },
      {
       "output_type": "stream",
       "stream": "stdout",
       "text": [
        "\n",
        "sample factor 31:"
       ]
      },
      {
       "output_type": "stream",
       "stream": "stdout",
       "text": [
        "\n",
        "sample factor 36:"
       ]
      },
      {
       "output_type": "stream",
       "stream": "stdout",
       "text": [
        "\n"
       ]
      },
      {
       "metadata": {},
       "output_type": "pyout",
       "prompt_number": 18,
       "text": [
        "[<matplotlib.lines.Line2D at 0x67e9990>]"
       ]
      },
      {
       "metadata": {},
       "output_type": "display_data",
       "png": "[encoded data removed]",
       "text": [
        "<matplotlib.figure.Figure at 0x26c2090>"
       ]
      }
     ],
     "prompt_number": 18
    },
    {
     "cell_type": "heading",
     "level": 4,
     "metadata": {},
     "source": [
      "the full probability of an object map is calculated recursively"
     ]
    },
    {
     "cell_type": "code",
     "collapsed": false,
     "input": [
      "pdb"
     ],
     "language": "python",
     "metadata": {},
     "outputs": [
      {
       "output_type": "stream",
       "stream": "stdout",
       "text": [
        "Automatic pdb calling has been turned ON\n"
       ]
      }
     ],
     "prompt_number": 4
    },
    {
     "cell_type": "code",
     "collapsed": false,
     "input": [
      "nobj = 200\n",
      "\n",
      "dl = dead_leaves(object_map_file_list[0:nobj])\n",
      "dl_om = dl.spawn_object_map(10)\n",
      "\n",
      "gs = dl_om.good_samples(dl_om.count_myself()*4)\n",
      "idx = dl_om.points_2_indices(gs)\n",
      "sub_leaves = dl.subsample(idx)\n",
      "sub_obj = dl_om.subsample(idx)\n",
      "\n",
      "dlp = dead_leaves_prior()\n",
      "\n",
      "dlp.evaluate_probability(sub_obj, sub_leaves)"
     ],
     "language": "python",
     "metadata": {},
     "outputs": [
      {
       "output_type": "stream",
       "stream": "stdout",
       "text": [
        "\n",
        "KeyboardInterrupt\n",
        "> \u001b[1;32m/musc.repo/Docs/tnaselar/code/Python/imagery_psychophysics/src/object_map.py\u001b[0m(249)\u001b[0;36mgood_samples\u001b[1;34m()\u001b[0m\n",
        "\u001b[1;32m    248 \u001b[1;33m                      \u001b[1;32mprint\u001b[0m \u001b[0mcnt\u001b[0m\u001b[1;33m\u001b[0m\u001b[0m\n",
        "\u001b[0m\u001b[1;32m--> 249 \u001b[1;33m                \u001b[1;36m1\u001b[0m\u001b[1;33m/\u001b[0m\u001b[1;36m0\u001b[0m\u001b[1;33m\u001b[0m\u001b[0m\n",
        "\u001b[0m\u001b[1;32m    250 \u001b[1;33m                \u001b[1;32mreturn\u001b[0m \u001b[0msamples\u001b[0m \u001b[1;31m##TODO: remove the (0,0) at the top of the array!!\u001b[0m\u001b[1;33m\u001b[0m\u001b[0m\n",
        "\u001b[0m\n"
       ]
      },
      {
       "name": "stdout",
       "output_type": "stream",
       "stream": "stdout",
       "text": [
        "ipdb> sample.shape\n"
       ]
      },
      {
       "output_type": "stream",
       "stream": "stdout",
       "text": [
        "*** NameError: name 'sample' is not defined\n"
       ]
      },
      {
       "name": "stdout",
       "output_type": "stream",
       "stream": "stdout",
       "text": [
        "ipdb> samples.shape\n"
       ]
      },
      {
       "output_type": "stream",
       "stream": "stdout",
       "text": [
        "(1102, 2)\n"
       ]
      },
      {
       "name": "stdout",
       "output_type": "stream",
       "stream": "stdout",
       "text": [
        "ipdb> self.boundary_points(ii, int(jj)-1)\n"
       ]
      },
      {
       "output_type": "stream",
       "stream": "stdout",
       "text": [
        "array([[ 24.,  21.],\n",
        "       [ 24.,  21.],\n",
        "       [ 24.,  21.]])\n"
       ]
      },
      {
       "name": "stdout",
       "output_type": "stream",
       "stream": "stdout",
       "text": [
        "ipdb> self.boundary_points(ii, int(jj)-1).shape\n"
       ]
      },
      {
       "output_type": "stream",
       "stream": "stdout",
       "text": [
        "(3, 2)\n"
       ]
      },
      {
       "name": "stdout",
       "output_type": "stream",
       "stream": "stdout",
       "text": [
        "ipdb> q\n"
       ]
      }
     ]
    },
    {
     "cell_type": "heading",
     "level": 4,
     "metadata": {},
     "source": [
      "identify the \"most\" probable object map in the database"
     ]
    },
    {
     "cell_type": "code",
     "collapsed": false,
     "input": [],
     "language": "python",
     "metadata": {},
     "outputs": []
    }
   ],
   "metadata": {}
  }
 ]
}