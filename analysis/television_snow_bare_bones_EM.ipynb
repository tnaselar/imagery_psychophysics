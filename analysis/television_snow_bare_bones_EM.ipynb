{
 "metadata": {
  "name": "",
  "signature": "sha256:d266258dc0aab5697179f62629b30d8515813462ffce0c9f60ccc338e926e4c7"
 },
 "nbformat": 3,
 "nbformat_minor": 0,
 "worksheets": [
  {
   "cells": [
    {
     "cell_type": "heading",
     "level": 2,
     "metadata": {},
     "source": [
      "Testing EM for the television snow model\n"
     ]
    },
    {
     "cell_type": "heading",
     "level": 3,
     "metadata": {},
     "source": [
      "Establish environment"
     ]
    },
    {
     "cell_type": "code",
     "collapsed": false,
     "input": [
      "import numpy as np\n",
      "import pymc as pm\n",
      "from imagery_psychophysics.src.probes import probes\n",
      "from imagery_psychophysics.src.stirling_maps import sparse_point_maps\n",
      "from matplotlib import pyplot as plt\n",
      "import itertools\n",
      "import operator\n",
      "import pandas as pd\n",
      "from scipy.misc import comb as nCk\n",
      "from scipy.stats import pearsonr\n",
      "from scipy.interpolate import griddata\n",
      "from imagery_psychophysics.src.stirling_maps import Point\n",
      "from deap import base, creator, tools, algorithms\n",
      "from scoop import futures\n",
      "import random\n",
      "\n",
      "%matplotlib inline"
     ],
     "language": "python",
     "metadata": {},
     "outputs": [
      {
       "output_type": "stream",
       "stream": "stderr",
       "text": [
        "/home/tnaselar/anaconda/lib/python2.7/site-packages/pytz/__init__.py:29: UserWarning: Module argparse was already imported from /home/tnaselar/anaconda/lib/python2.7/argparse.pyc, but /home/tnaselar/anaconda/lib/python2.7/site-packages is being added to sys.path\n",
        "  from pkg_resources import resource_stream\n"
       ]
      }
     ],
     "prompt_number": 1
    },
    {
     "cell_type": "heading",
     "level": 3,
     "metadata": {},
     "source": [
      "All simulation parameters"
     ]
    },
    {
     "cell_type": "code",
     "collapsed": false,
     "input": [
      "##==critical\n",
      "size_of_field = 12\n",
      "n_pix = size_of_field**2\n",
      "K = 4 ##the max number of clusters in what will be the target map\n",
      "on_off_prob = (.87,.05)\n",
      "\n",
      "##==incidental\n",
      "probe_rad = 2\n",
      "probe_step = 1\n",
      "seed_point_rows = 3\n",
      "seed_point_cols = 3\n",
      "target_index = 1000\n",
      "example_probe = 20\n",
      "num_synthetic_maps_for_prior = 1000"
     ],
     "language": "python",
     "metadata": {},
     "outputs": [],
     "prompt_number": 2
    },
    {
     "cell_type": "heading",
     "level": 3,
     "metadata": {},
     "source": [
      "Some functions for manipulating object maps"
     ]
    },
    {
     "cell_type": "code",
     "collapsed": false,
     "input": [
      "##convert from membership representation to binarized object map (\"bom\") represenation\n",
      "def mem_2_bom(M, num_pix,max_number_of_objects):\n",
      "        Z = np.zeros((num_pix, max_number_of_objects))\n",
      "        for ii in np.unique(M)-1: ##<<assume that min_value = 1\n",
      "            Z[np.nonzero(M==(ii+1))[0],ii] = 1\n",
      "        return Z\n",
      "    \n",
      "def bom_2_mem(M):\n",
      "    new_obj = np.zeros(M.shape[0],dtype='int')\n",
      "    for kk in range(M.shape[1]):\n",
      "        new_obj[M[:,kk].astype('bool')] = kk+1\n",
      "    return new_obj\n",
      "\n",
      "##outer product of an object map\n",
      "def outer_map(M,num_pix,max_number_of_objects):\n",
      "        Z = mem_2_bom(M, num_pix,max_number_of_objects)\n",
      "        return Z.dot(Z.T)\n",
      "\n",
      "##another helpful data conversions\n",
      "def intlist_to_bitlist(number_of_objects,intlist):\n",
      "  '''\n",
      "  intlist_to_bitlist(number_of_objects,intlist)\n",
      "  takes a list of integers and converts to a binary code\n",
      "  if number_of_objects = 10, and intlist = [1,2,3,7] then returns\n",
      "  numpy array [0 1 1 1 0 0 0 1 0 0]\n",
      "  '''\n",
      "  x = np.zeros(number_of_objects)\n",
      "  x[intlist] = 1\n",
      "  return x    \n",
      "    \n",
      "##overlap between a probe and the objects in a map\n",
      "def overlap(probes, one_map):\n",
      "  '''\n",
      "  overlap(probes, map)\n",
      "  probes ~ N x D x D binary masks. \n",
      "  map ~ D x D object map.\n",
      "  applies the probes to one object map\n",
      "  returns a  number_of_probes x number_of_objects array\n",
      "  each column is a bit string showing which of the objects a probe overlaps\n",
      "  '''\n",
      "  number_of_objects = len(np.unique(one_map))\n",
      "  ##note the -1 below: the objects in the maps are assumed to have non-zero indices\n",
      "  return np.array([intlist_to_bitlist(number_of_objects,np.nonzero(np.unique(q))[0]-1) for q in one_map*probes])\n",
      "\n",
      "def response(ov):\n",
      "    return np.sum(ov, axis=1)\n",
      "\n",
      "def pair_objects(m1, m2):\n",
      "    n_pix = m1.size\n",
      "    n_obj_1 = np.unique(m1).size\n",
      "    n_obj_2 = np.unique(m2).size\n",
      "    m1_bom = mem_2_bom(m1, n_pix, n_obj_1)\n",
      "    m2_bom = mem_2_bom(m2, n_pix, n_obj_2)\n",
      "    pr = np.zeros((n_obj_1, n_obj_2))\n",
      "    for kk in range(n_obj_1):\n",
      "        for jj in range(n_obj_2):\n",
      "            pr[kk,jj] = pearsonr(m1_bom[:,kk], m2_bom[:,jj])[0]\n",
      "    if n_obj_1 > n_obj_2:\n",
      "        return bom_2_mem(m1_bom[:,np.argmax(pr,0)]), m2\n",
      "    else:\n",
      "        return bom_2_mem(m2_bom[:,np.argmax(pr,1)]), m1\n",
      "        \n"
     ],
     "language": "python",
     "metadata": {},
     "outputs": [],
     "prompt_number": 3
    },
    {
     "cell_type": "heading",
     "level": 3,
     "metadata": {},
     "source": [
      "Generate the true object map, true noise parameters, and a set of probes"
     ]
    },
    {
     "cell_type": "code",
     "collapsed": false,
     "input": [
      "probe_set = probes(probe_rad = probe_rad, probe_step = probe_step, size_of_field = size_of_field)\n",
      "W = probe_set.masks.reshape((probe_set.num_probes, size_of_field, size_of_field))"
     ],
     "language": "python",
     "metadata": {},
     "outputs": [],
     "prompt_number": 4
    },
    {
     "cell_type": "code",
     "collapsed": false,
     "input": [
      "spm = sparse_point_maps(seed_point_rows, seed_point_cols, size_of_field, cluster_pref='all', number_of_clusters = K)\n",
      "spm.scatter()\n",
      "target_map = np.squeeze(spm.nn_interpolation(dx=[target_index]))"
     ],
     "language": "python",
     "metadata": {},
     "outputs": [],
     "prompt_number": 5
    },
    {
     "cell_type": "code",
     "collapsed": false,
     "input": [
      "plt.subplot(1,2,1)\n",
      "plt.imshow(target_map, interpolation='nearest', cmap = 'Pastel1')\n",
      "plt.title('true object map')\n",
      "_ = plt.axis('off')\n",
      "plt.subplot(1,2,2)\n",
      "plt.imshow(np.squeeze(W[example_probe,:, :]), cmap = 'gray', alpha = .7,interpolation='nearest')\n",
      "plt.title('a probe')\n",
      "_ = plt.axis('off')\n",
      "plt.savefig('fake_img.png')"
     ],
     "language": "python",
     "metadata": {},
     "outputs": [
      {
       "metadata": {},
       "output_type": "display_data",
       "png": "[encoded data removed]",
       "text": [
        "<matplotlib.figure.Figure at 0x7fbfa0bcd310>"
       ]
      }
     ],
     "prompt_number": 18
    },
    {
     "cell_type": "heading",
     "level": 3,
     "metadata": {},
     "source": [
      "Construct fake responses"
     ]
    },
    {
     "cell_type": "code",
     "collapsed": false,
     "input": [
      "target_resp = response(overlap(W,target_map))\n",
      "plt.imshow(target_resp.reshape((size_of_field,size_of_field)), interpolation='nearest', cmap = 'hot')\n",
      "plt.axis('off')\n",
      "cax = plt.colorbar()\n",
      "cax.set_ticks(range(0,K+1), update_ticks=True)"
     ],
     "language": "python",
     "metadata": {},
     "outputs": [
      {
       "metadata": {},
       "output_type": "display_data",
       "png": "[encoded data removed]",
       "text": [
        "<matplotlib.figure.Figure at 0x7fbff81ed9d0>"
       ]
      }
     ],
     "prompt_number": 7
    },
    {
     "cell_type": "code",
     "collapsed": false,
     "input": [
      "##add noise\n",
      "resp_noise = target_resp + np.random.randint(-2, 2, size=target_resp.size)\n",
      "resp_noise[resp_noise < 0] = 0\n",
      "resp_noise[resp_noise > K] = K\n",
      "resp_noise = resp_noise.astype('int')\n",
      "plt.imshow(resp_noise.reshape((size_of_field,size_of_field)), interpolation='nearest', cmap = 'hot')\n",
      "plt.axis('off')\n",
      "cax = plt.colorbar()\n",
      "cax.set_ticks(range(0,K+1), update_ticks=True)"
     ],
     "language": "python",
     "metadata": {},
     "outputs": [
      {
       "metadata": {},
       "output_type": "display_data",
       "png": "[encoded data removed]",
       "text": [
        "<matplotlib.figure.Figure at 0x7fbfa0f89110>"
       ]
      }
     ],
     "prompt_number": 8
    },
    {
     "cell_type": "heading",
     "level": 3,
     "metadata": {},
     "source": [
      "Run a max lkhd grid search on the stirling maps using the pbb likelihood "
     ]
    },
    {
     "cell_type": "code",
     "collapsed": false,
     "input": [
      "##lkhd function\n",
      "\n",
      "def counts(r,d,n):\n",
      "    return np.array([nCk(d,m)*nCk(n-d, r-m) for m in range(min(r,d)+1)])\n",
      "\n",
      "def lkhd(r,d,n,p_on,p_off):\n",
      "    probs = np.array([(1-p_on)**(d-m) * (p_on)**m * (p_off)**(r-m) * (1-p_off)**(n-d-r+m) for m in range(min(r,d)+1)])\n",
      "    return counts(r,d,n).dot(probs)\n",
      "\n",
      "def multi_lkhd(r,d,n,p_on,p_off):\n",
      "    return np.sum(np.array(map(lambda x,y: np.log(lkhd(x,y,n,p_on,p_off)), r,d)))\n",
      "\n",
      "\n"
     ],
     "language": "python",
     "metadata": {},
     "outputs": [],
     "prompt_number": 9
    },
    {
     "cell_type": "code",
     "collapsed": false,
     "input": [
      "##grid of target maps\n",
      "map_grid = sparse_point_maps(seed_point_rows, seed_point_cols, size_of_field, cluster_pref='all', number_of_clusters = K)\n",
      "map_grid = map_grid.nn_interpolation()\n",
      "p_on, p_off = on_off_prob ##<<these are reasonable, I suppose\n",
      "print p_on,p_off\n",
      "D =  map_grid.shape[0]\n",
      "print D\n",
      "\n",
      "likes = np.empty(D, dtype = 'int')\n",
      "for ii,mg in enumerate(map_grid):\n",
      "    pred_resp = response(overlap(W,mg)).astype('int')\n",
      "    likes[ii] = multi_lkhd(resp_noise, pred_resp, K, p_on, p_off)\n",
      "    #print likes[ii]\n",
      "    \n"
     ],
     "language": "python",
     "metadata": {},
     "outputs": [
      {
       "output_type": "stream",
       "stream": "stdout",
       "text": [
        "0.87 0.05\n",
        "7770\n"
       ]
      }
     ],
     "prompt_number": 21
    },
    {
     "cell_type": "code",
     "collapsed": false,
     "input": [
      "best_dx = np.argmax(likes)\n",
      "cur_best = np.squeeze(map_grid[best_dx,:, :])\n",
      "pred_resp = response(overlap(W,cur_best))\n",
      "print pearsonr(target_resp, pred_resp)\n"
     ],
     "language": "python",
     "metadata": {},
     "outputs": [
      {
       "output_type": "stream",
       "stream": "stdout",
       "text": [
        "(0.37558392690232989, 3.5059756548475157e-06)\n"
       ]
      }
     ],
     "prompt_number": 22
    },
    {
     "cell_type": "code",
     "collapsed": false,
     "input": [
      "plt.subplot(1,2,1)\n",
      "plt.imshow(target_map, interpolation='nearest', cmap = 'Pastel1')\n",
      "plt.title('true object map')\n",
      "_ = plt.axis('off')\n",
      "plt.subplot(1,2,2)\n",
      "plt.imshow(cur_best, cmap = 'Pastel1',interpolation='nearest')\n",
      "plt.title('best from grid search')\n",
      "_ = plt.axis('off')\n",
      "plt.savefig('grid.recon.png')"
     ],
     "language": "python",
     "metadata": {},
     "outputs": [
      {
       "metadata": {},
       "output_type": "display_data",
       "png": "[encoded data removed]",
       "text": [
        "<matplotlib.figure.Figure at 0x7fbfa0dd8190>"
       ]
      }
     ],
     "prompt_number": 25
    },
    {
     "cell_type": "heading",
     "level": 3,
     "metadata": {},
     "source": [
      "add an object map prior"
     ]
    },
    {
     "cell_type": "code",
     "collapsed": false,
     "input": [
      "##here we estimate the correlation stucture of a generic object map using\n",
      "##many synthetically generate maps\n",
      "Lambda = np.zeros((n_pix,n_pix))\n",
      "\n",
      "for _ in range(num_synthetic_maps_for_prior):\n",
      "    k = np.random.randint(1,K+1)\n",
      "    rand_map = sparse_point_maps(seed_point_rows, seed_point_cols, size_of_field, cluster_pref='random', number_of_clusters = k)\n",
      "    rand_map.scatter()\n",
      "    rand_map = np.squeeze(rand_map.nn_interpolation()).reshape((n_pix,1))\n",
      "    Lambda += outer_map(rand_map,n_pix,K)\n",
      "Lambda /= num_synthetic_maps_for_prior\n",
      "\n",
      "plt.imshow(Lambda, cmap = 'bone',vmin = 0, vmax=1)\n",
      "plt.title('generic prior for object maps')\n",
      "plt.axis('off')\n",
      "plt.colorbar()\n",
      "\n",
      "def prior(value = cur_best, n_pix = n_pix, max_value = K, hyper_params = Lambda[np.triu_indices(n_pix)]):\n",
      "    \"\"\"2nd order prior for object maps\"\"\"\n",
      "    #num_pairs = hyper_params.size\n",
      "    if (np.min(value) < 1) or (np.max(value) > max_value):\n",
      "        return -np.Inf\n",
      "    else:\n",
      "        on_offs = outer_map(value, n_pix, max_value)\n",
      "        on_offs = on_offs[np.triu_indices(n_pix)].astype('int')\n",
      "    \n",
      "    return pm.bernoulli_like(on_offs, hyper_params.ravel())\n",
      "\n",
      "print prior(cur_best.ravel())"
     ],
     "language": "python",
     "metadata": {},
     "outputs": [
      {
       "output_type": "stream",
       "stream": "stdout",
       "text": [
        "-7173.64795319\n"
       ]
      },
      {
       "metadata": {},
       "output_type": "display_data",
       "png": "[encoded data removed]",
       "text": [
        "<matplotlib.figure.Figure at 0x7fbfa0dca750>"
       ]
      }
     ],
     "prompt_number": 13
    },
    {
     "cell_type": "heading",
     "level": 3,
     "metadata": {},
     "source": [
      "Refine with a GA"
     ]
    },
    {
     "cell_type": "code",
     "collapsed": false,
     "input": [
      "##create a fitness object\n",
      "creator.create(\"FitnessMax\", base.Fitness, weights=(1.0,))\n",
      "\n",
      "##define an individual as a list\n",
      "creator.create(\"Individual\", list, fitness=creator.FitnessMax)\n",
      "\n",
      "##construct a toolbox for running a GA\n",
      "toolbox = base.Toolbox()\n",
      "\n",
      "##define a gene\n",
      "toolbox.register(\"gene\", np.random.randint, 1, K+1)\n",
      "\n",
      "##construct individuals out of n_pix genes\n",
      "toolbox.register(\"individual\", tools.initRepeat, creator.Individual, toolbox.gene, n=n_pix)\n",
      "\n",
      "##construct populations by repeating \n",
      "toolbox.register(\"population\", tools.initRepeat, list, toolbox.individual)\n",
      "\n",
      "##define mapper to apply to all the individs. in a pop.\n",
      "toolbox.register(\"map\", map)\n",
      "\n",
      "\n",
      "##define cost function\n",
      "prior_weight = 2\n",
      "def cost_func(g):\n",
      "    lk = multi_lkhd(resp_noise, response(overlap(W,np.array(g).reshape((size_of_field,size_of_field)))).astype('int'), K, p_on, p_off)\n",
      "    pr = prior(np.array(g))\n",
      "    return lk+pr,\n",
      "print cost_func(list(cur_best.ravel()))\n",
      "\n",
      "##define mutator\n",
      "def mutator(g, rate_param):\n",
      "    dx = np.random.randint(0,n_pix)\n",
      "    old = g[dx]\n",
      "    new = old + random.choice([-1, 1])*np.random.poisson(rate_param)\n",
      "    if new > K:\n",
      "        new = K\n",
      "    elif new < 1:\n",
      "        new = 1\n",
      "    #print new\n",
      "    g[dx] = new\n",
      "    return g,\n",
      "\n"
     ],
     "language": "python",
     "metadata": {},
     "outputs": [
      {
       "output_type": "stream",
       "stream": "stdout",
       "text": [
        "(-7497.2182627343536,)\n"
       ]
      }
     ],
     "prompt_number": 14
    },
    {
     "cell_type": "code",
     "collapsed": false,
     "input": [
      "def initIndividual(icls, content):\n",
      "    return icls(content)\n",
      "\n",
      "#def initPopulation(pcls, ind_init, filename):\n",
      "#    contents = json.load(open(filename, \"r\"))\n",
      "#    return pcls(ind_init(c) for c in contents)\n",
      "\n",
      "def initPopulation(pcls, ind_init, contents):\n",
      "    return pcls(ind_init(c) for c in contents)\n",
      "\n",
      "\n",
      "init_guess = [mutator(list(cur_best.ravel()), 3)[0] for ii in range(100)]\n",
      "\n",
      "toolbox.register(\"individual_guess\", initIndividual, creator.Individual)\n",
      "toolbox.register(\"population_guess\", initPopulation, list, toolbox.individual_guess, init_guess)\n",
      "\n",
      "#print toolbox.population_guess()"
     ],
     "language": "python",
     "metadata": {},
     "outputs": [],
     "prompt_number": 15
    },
    {
     "cell_type": "code",
     "collapsed": false,
     "input": [
      "toolbox.register(\"evaluate\", cost_func)\n",
      "toolbox.register(\"mate\", tools.cxTwoPoint)\n",
      "toolbox.register(\"mutate\", tools.mutUniformInt, low=1, up=K, indpb=0.50)\n",
      "#toolbox.register(\"mutate\", tools.mutFlipBit(), indpb=0.10)\n",
      "#toolbox.register(\"mutate\", mutator, rate_param=2)\n",
      "toolbox.register(\"select\", tools.selTournament, tournsize=3)\n",
      "\n",
      "def main():\n",
      "    import numpy\n",
      "    \n",
      "    pop = toolbox.population(n=100)\n",
      "    hof = tools.HallOfFame(1)\n",
      "    stats = tools.Statistics(lambda ind: ind.fitness.values)\n",
      "    stats.register(\"avg\", numpy.mean)\n",
      "    stats.register(\"min\", numpy.min)\n",
      "    stats.register(\"max\", numpy.max)\n",
      "    \n",
      "    pop, logbook = algorithms.eaSimple(pop, toolbox, cxpb=0.3, mutpb=0.3, ngen=80, stats=stats, halloffame=hof, verbose=True)\n",
      "    \n",
      "    return pop, logbook, hof\n",
      "\n",
      "if __name__ == \"__main__\":\n",
      "    pop, log, hof = main()\n",
      "    print(\"Best individual is: %s\\nwith fitness: %s\" % (hof[0], hof[0].fitness))\n",
      "    \n",
      "    import matplotlib.pyplot as plt\n",
      "    gen, avg, min_, max_ = log.select(\"gen\", \"avg\", \"min\", \"max\")\n",
      "    #plt.plot(gen, avg, label=\"average\")\n",
      "    #plt.plot(gen, min_, label=\"minimum\")\n",
      "    #plt.plot(gen, max_, label=\"maximum\")\n",
      "    #plt.xlabel(\"Generation\")\n",
      "    #plt.ylabel(\"Fitness\")\n",
      "    cur_best = np.array(hof[0])\n",
      "    cur_best = cur_best.reshape((size_of_field,size_of_field))\n",
      "    plt.subplot(1,2,1)\n",
      "    plt.imshow(target_map, interpolation='nearest', cmap = 'Pastel1')\n",
      "    _ = plt.axis('off')\n",
      "    plt.subplot(1,2,2)\n",
      "    plt.imshow(cur_best, cmap = 'Pastel1',interpolation='nearest')\n",
      "    _ = plt.axis('off')\n",
      "    pred_resp = response(overlap(W,cur_best))\n",
      "    print pearsonr(target_resp, pred_resp)"
     ],
     "language": "python",
     "metadata": {},
     "outputs": [
      {
       "output_type": "stream",
       "stream": "stdout",
       "text": [
        "gen\tnevals\tavg     \tmin    \tmax     \n",
        "0  \t100   \t-8688.06\t-8759.9\t-8598.44\n",
        "1  \t53    \t-8671.85\t-8757.47\t-8596.76"
       ]
      },
      {
       "output_type": "stream",
       "stream": "stdout",
       "text": [
        "\n",
        "2  \t54    \t-8653.26\t-8723.91\t-8582.69"
       ]
      },
      {
       "output_type": "stream",
       "stream": "stdout",
       "text": [
        "\n",
        "3  \t51    \t-8642.92\t-8753.96\t-8556.58"
       ]
      },
      {
       "output_type": "stream",
       "stream": "stdout",
       "text": [
        "\n",
        "4  \t45    \t-8630.83\t-8731.63\t-8556.58"
       ]
      },
      {
       "output_type": "stream",
       "stream": "stdout",
       "text": [
        "\n",
        "5  \t54    \t-8615.32\t-8700.21\t-8549.19"
       ]
      },
      {
       "output_type": "stream",
       "stream": "stdout",
       "text": [
        "\n",
        "6  \t48    \t-8611.79\t-8724.98\t-8549.19"
       ]
      },
      {
       "output_type": "stream",
       "stream": "stdout",
       "text": [
        "\n",
        "7  \t44    \t-8604.06\t-8717.59\t-8513.45"
       ]
      },
      {
       "output_type": "stream",
       "stream": "stdout",
       "text": [
        "\n",
        "8  \t62    \t-8599.15\t-8718.3 \t-8508.16"
       ]
      },
      {
       "output_type": "stream",
       "stream": "stdout",
       "text": [
        "\n",
        "9  \t46    \t-8586.97\t-8709.63\t-8472.97"
       ]
      },
      {
       "output_type": "stream",
       "stream": "stdout",
       "text": [
        "\n",
        "10 \t49    \t-8572.32\t-8729.5 \t-8491.74"
       ]
      },
      {
       "output_type": "stream",
       "stream": "stdout",
       "text": [
        "\n",
        "11 \t53    \t-8572.32\t-8712.44\t-8475.37"
       ]
      },
      {
       "output_type": "stream",
       "stream": "stdout",
       "text": [
        "\n",
        "12 \t59    \t-8570.47\t-8725.21\t-8450.21"
       ]
      },
      {
       "output_type": "stream",
       "stream": "stdout",
       "text": [
        "\n",
        "13 \t51    \t-8557.84\t-8698.62\t-8450.21"
       ]
      },
      {
       "output_type": "stream",
       "stream": "stdout",
       "text": [
        "\n",
        "14 \t47    \t-8554.47\t-8718.33\t-8437.78"
       ]
      },
      {
       "output_type": "stream",
       "stream": "stdout",
       "text": [
        "\n",
        "15 \t50    \t-8531.25\t-8702.55\t-8450.21"
       ]
      },
      {
       "output_type": "stream",
       "stream": "stdout",
       "text": [
        "\n",
        "16 \t45    \t-8524.09\t-8726.8 \t-8431.74"
       ]
      },
      {
       "output_type": "stream",
       "stream": "stdout",
       "text": [
        "\n",
        "17 \t60    \t-8524.84\t-8719.07\t-8428.71"
       ]
      },
      {
       "output_type": "stream",
       "stream": "stdout",
       "text": [
        "\n",
        "18 \t65    \t-8533.95\t-8705.65\t-8404.47"
       ]
      },
      {
       "output_type": "stream",
       "stream": "stdout",
       "text": [
        "\n",
        "19 \t56    \t-8512.15\t-8705.86\t-8404.47"
       ]
      },
      {
       "output_type": "stream",
       "stream": "stdout",
       "text": [
        "\n",
        "20 \t48    \t-8521.82\t-8748.95\t-8388.06"
       ]
      },
      {
       "output_type": "stream",
       "stream": "stdout",
       "text": [
        "\n",
        "21 \t47    \t-8501.24\t-8717.13\t-8388.06"
       ]
      },
      {
       "output_type": "stream",
       "stream": "stdout",
       "text": [
        "\n",
        "22 \t55    \t-8484.44\t-8707.94\t-8388.06"
       ]
      },
      {
       "output_type": "stream",
       "stream": "stdout",
       "text": [
        "\n",
        "23 \t47    \t-8488.23\t-8710.79\t-8388.06"
       ]
      },
      {
       "output_type": "stream",
       "stream": "stdout",
       "text": [
        "\n",
        "24 \t50    \t-8504.49\t-8735.14\t-8388.06"
       ]
      },
      {
       "output_type": "stream",
       "stream": "stdout",
       "text": [
        "\n",
        "25 \t49    \t-8468.99\t-8729.38\t-8379.2 "
       ]
      },
      {
       "output_type": "stream",
       "stream": "stdout",
       "text": [
        "\n",
        "26 \t53    \t-8473.58\t-8718.27\t-8373.18"
       ]
      },
      {
       "output_type": "stream",
       "stream": "stdout",
       "text": [
        "\n",
        "27 \t59    \t-8475.12\t-8703.7 \t-8373.18"
       ]
      },
      {
       "output_type": "stream",
       "stream": "stdout",
       "text": [
        "\n",
        "28 \t43    \t-8444.6 \t-8763.62\t-8373.18"
       ]
      },
      {
       "output_type": "stream",
       "stream": "stdout",
       "text": [
        "\n",
        "29 \t55    \t-8459.97\t-8710.97\t-8360.75"
       ]
      },
      {
       "output_type": "stream",
       "stream": "stdout",
       "text": [
        "\n",
        "30 \t56    \t-8454.57\t-8695.9 \t-8332.49"
       ]
      },
      {
       "output_type": "stream",
       "stream": "stdout",
       "text": [
        "\n"
       ]
      },
      {
       "ename": "KeyboardInterrupt",
       "evalue": "",
       "output_type": "pyerr",
       "traceback": [
        "\u001b[1;31m---------------------------------------------------------------------------\u001b[0m\n\u001b[1;31mKeyboardInterrupt\u001b[0m                         Traceback (most recent call last)",
        "\u001b[1;32m<ipython-input-24-5319d58eb2a6>\u001b[0m in \u001b[0;36m<module>\u001b[1;34m()\u001b[0m\n\u001b[0;32m     21\u001b[0m \u001b[1;33m\u001b[0m\u001b[0m\n\u001b[0;32m     22\u001b[0m \u001b[1;32mif\u001b[0m \u001b[0m__name__\u001b[0m \u001b[1;33m==\u001b[0m \u001b[1;34m\"__main__\"\u001b[0m\u001b[1;33m:\u001b[0m\u001b[1;33m\u001b[0m\u001b[0m\n\u001b[1;32m---> 23\u001b[1;33m     \u001b[0mpop\u001b[0m\u001b[1;33m,\u001b[0m \u001b[0mlog\u001b[0m\u001b[1;33m,\u001b[0m \u001b[0mhof\u001b[0m \u001b[1;33m=\u001b[0m \u001b[0mmain\u001b[0m\u001b[1;33m(\u001b[0m\u001b[1;33m)\u001b[0m\u001b[1;33m\u001b[0m\u001b[0m\n\u001b[0m\u001b[0;32m     24\u001b[0m     \u001b[1;32mprint\u001b[0m\u001b[1;33m(\u001b[0m\u001b[1;34m\"Best individual is: %s\\nwith fitness: %s\"\u001b[0m \u001b[1;33m%\u001b[0m \u001b[1;33m(\u001b[0m\u001b[0mhof\u001b[0m\u001b[1;33m[\u001b[0m\u001b[1;36m0\u001b[0m\u001b[1;33m]\u001b[0m\u001b[1;33m,\u001b[0m \u001b[0mhof\u001b[0m\u001b[1;33m[\u001b[0m\u001b[1;36m0\u001b[0m\u001b[1;33m]\u001b[0m\u001b[1;33m.\u001b[0m\u001b[0mfitness\u001b[0m\u001b[1;33m)\u001b[0m\u001b[1;33m)\u001b[0m\u001b[1;33m\u001b[0m\u001b[0m\n\u001b[0;32m     25\u001b[0m \u001b[1;33m\u001b[0m\u001b[0m\n",
        "\u001b[1;32m<ipython-input-24-5319d58eb2a6>\u001b[0m in \u001b[0;36mmain\u001b[1;34m()\u001b[0m\n\u001b[0;32m     16\u001b[0m     \u001b[0mstats\u001b[0m\u001b[1;33m.\u001b[0m\u001b[0mregister\u001b[0m\u001b[1;33m(\u001b[0m\u001b[1;34m\"max\"\u001b[0m\u001b[1;33m,\u001b[0m \u001b[0mnumpy\u001b[0m\u001b[1;33m.\u001b[0m\u001b[0mmax\u001b[0m\u001b[1;33m)\u001b[0m\u001b[1;33m\u001b[0m\u001b[0m\n\u001b[0;32m     17\u001b[0m \u001b[1;33m\u001b[0m\u001b[0m\n\u001b[1;32m---> 18\u001b[1;33m     \u001b[0mpop\u001b[0m\u001b[1;33m,\u001b[0m \u001b[0mlogbook\u001b[0m \u001b[1;33m=\u001b[0m \u001b[0malgorithms\u001b[0m\u001b[1;33m.\u001b[0m\u001b[0meaSimple\u001b[0m\u001b[1;33m(\u001b[0m\u001b[0mpop\u001b[0m\u001b[1;33m,\u001b[0m \u001b[0mtoolbox\u001b[0m\u001b[1;33m,\u001b[0m \u001b[0mcxpb\u001b[0m\u001b[1;33m=\u001b[0m\u001b[1;36m0.3\u001b[0m\u001b[1;33m,\u001b[0m \u001b[0mmutpb\u001b[0m\u001b[1;33m=\u001b[0m\u001b[1;36m0.3\u001b[0m\u001b[1;33m,\u001b[0m \u001b[0mngen\u001b[0m\u001b[1;33m=\u001b[0m\u001b[1;36m80\u001b[0m\u001b[1;33m,\u001b[0m \u001b[0mstats\u001b[0m\u001b[1;33m=\u001b[0m\u001b[0mstats\u001b[0m\u001b[1;33m,\u001b[0m \u001b[0mhalloffame\u001b[0m\u001b[1;33m=\u001b[0m\u001b[0mhof\u001b[0m\u001b[1;33m,\u001b[0m \u001b[0mverbose\u001b[0m\u001b[1;33m=\u001b[0m\u001b[0mTrue\u001b[0m\u001b[1;33m)\u001b[0m\u001b[1;33m\u001b[0m\u001b[0m\n\u001b[0m\u001b[0;32m     19\u001b[0m \u001b[1;33m\u001b[0m\u001b[0m\n\u001b[0;32m     20\u001b[0m     \u001b[1;32mreturn\u001b[0m \u001b[0mpop\u001b[0m\u001b[1;33m,\u001b[0m \u001b[0mlogbook\u001b[0m\u001b[1;33m,\u001b[0m \u001b[0mhof\u001b[0m\u001b[1;33m\u001b[0m\u001b[0m\n",
        "\u001b[1;32m/home/tnaselar/anaconda/lib/python2.7/site-packages/deap-1.0.1-py2.7.egg/deap/algorithms.pyc\u001b[0m in \u001b[0;36meaSimple\u001b[1;34m(population, toolbox, cxpb, mutpb, ngen, stats, halloffame, verbose)\u001b[0m\n\u001b[0;32m    153\u001b[0m         \u001b[1;31m# Evaluate the individuals with an invalid fitness\u001b[0m\u001b[1;33m\u001b[0m\u001b[1;33m\u001b[0m\u001b[0m\n\u001b[0;32m    154\u001b[0m         \u001b[0minvalid_ind\u001b[0m \u001b[1;33m=\u001b[0m \u001b[1;33m[\u001b[0m\u001b[0mind\u001b[0m \u001b[1;32mfor\u001b[0m \u001b[0mind\u001b[0m \u001b[1;32min\u001b[0m \u001b[0moffspring\u001b[0m \u001b[1;32mif\u001b[0m \u001b[1;32mnot\u001b[0m \u001b[0mind\u001b[0m\u001b[1;33m.\u001b[0m\u001b[0mfitness\u001b[0m\u001b[1;33m.\u001b[0m\u001b[0mvalid\u001b[0m\u001b[1;33m]\u001b[0m\u001b[1;33m\u001b[0m\u001b[0m\n\u001b[1;32m--> 155\u001b[1;33m         \u001b[0mfitnesses\u001b[0m \u001b[1;33m=\u001b[0m \u001b[0mtoolbox\u001b[0m\u001b[1;33m.\u001b[0m\u001b[0mmap\u001b[0m\u001b[1;33m(\u001b[0m\u001b[0mtoolbox\u001b[0m\u001b[1;33m.\u001b[0m\u001b[0mevaluate\u001b[0m\u001b[1;33m,\u001b[0m \u001b[0minvalid_ind\u001b[0m\u001b[1;33m)\u001b[0m\u001b[1;33m\u001b[0m\u001b[0m\n\u001b[0m\u001b[0;32m    156\u001b[0m         \u001b[1;32mfor\u001b[0m \u001b[0mind\u001b[0m\u001b[1;33m,\u001b[0m \u001b[0mfit\u001b[0m \u001b[1;32min\u001b[0m \u001b[0mzip\u001b[0m\u001b[1;33m(\u001b[0m\u001b[0minvalid_ind\u001b[0m\u001b[1;33m,\u001b[0m \u001b[0mfitnesses\u001b[0m\u001b[1;33m)\u001b[0m\u001b[1;33m:\u001b[0m\u001b[1;33m\u001b[0m\u001b[0m\n\u001b[0;32m    157\u001b[0m             \u001b[0mind\u001b[0m\u001b[1;33m.\u001b[0m\u001b[0mfitness\u001b[0m\u001b[1;33m.\u001b[0m\u001b[0mvalues\u001b[0m \u001b[1;33m=\u001b[0m \u001b[0mfit\u001b[0m\u001b[1;33m\u001b[0m\u001b[0m\n",
        "\u001b[1;32m<ipython-input-14-731f7acb838a>\u001b[0m in \u001b[0;36mcost_func\u001b[1;34m(g)\u001b[0m\n\u001b[0;32m     24\u001b[0m \u001b[0mprior_weight\u001b[0m \u001b[1;33m=\u001b[0m \u001b[1;36m2\u001b[0m\u001b[1;33m\u001b[0m\u001b[0m\n\u001b[0;32m     25\u001b[0m \u001b[1;32mdef\u001b[0m \u001b[0mcost_func\u001b[0m\u001b[1;33m(\u001b[0m\u001b[0mg\u001b[0m\u001b[1;33m)\u001b[0m\u001b[1;33m:\u001b[0m\u001b[1;33m\u001b[0m\u001b[0m\n\u001b[1;32m---> 26\u001b[1;33m     \u001b[0mlk\u001b[0m \u001b[1;33m=\u001b[0m \u001b[0mmulti_lkhd\u001b[0m\u001b[1;33m(\u001b[0m\u001b[0mresp_noise\u001b[0m\u001b[1;33m,\u001b[0m \u001b[0mresponse\u001b[0m\u001b[1;33m(\u001b[0m\u001b[0moverlap\u001b[0m\u001b[1;33m(\u001b[0m\u001b[0mW\u001b[0m\u001b[1;33m,\u001b[0m\u001b[0mnp\u001b[0m\u001b[1;33m.\u001b[0m\u001b[0marray\u001b[0m\u001b[1;33m(\u001b[0m\u001b[0mg\u001b[0m\u001b[1;33m)\u001b[0m\u001b[1;33m.\u001b[0m\u001b[0mreshape\u001b[0m\u001b[1;33m(\u001b[0m\u001b[1;33m(\u001b[0m\u001b[0msize_of_field\u001b[0m\u001b[1;33m,\u001b[0m\u001b[0msize_of_field\u001b[0m\u001b[1;33m)\u001b[0m\u001b[1;33m)\u001b[0m\u001b[1;33m)\u001b[0m\u001b[1;33m)\u001b[0m\u001b[1;33m.\u001b[0m\u001b[0mastype\u001b[0m\u001b[1;33m(\u001b[0m\u001b[1;34m'int'\u001b[0m\u001b[1;33m)\u001b[0m\u001b[1;33m,\u001b[0m \u001b[0mK\u001b[0m\u001b[1;33m,\u001b[0m \u001b[0mp_on\u001b[0m\u001b[1;33m,\u001b[0m \u001b[0mp_off\u001b[0m\u001b[1;33m)\u001b[0m\u001b[1;33m\u001b[0m\u001b[0m\n\u001b[0m\u001b[0;32m     27\u001b[0m     \u001b[0mpr\u001b[0m \u001b[1;33m=\u001b[0m \u001b[0mprior\u001b[0m\u001b[1;33m(\u001b[0m\u001b[0mnp\u001b[0m\u001b[1;33m.\u001b[0m\u001b[0marray\u001b[0m\u001b[1;33m(\u001b[0m\u001b[0mg\u001b[0m\u001b[1;33m)\u001b[0m\u001b[1;33m)\u001b[0m\u001b[1;33m\u001b[0m\u001b[0m\n\u001b[0;32m     28\u001b[0m     \u001b[1;32mreturn\u001b[0m \u001b[0mlk\u001b[0m\u001b[1;33m+\u001b[0m\u001b[0mpr\u001b[0m\u001b[1;33m,\u001b[0m\u001b[1;33m\u001b[0m\u001b[0m\n",
        "\u001b[1;32m<ipython-input-9-6a8233113686>\u001b[0m in \u001b[0;36mmulti_lkhd\u001b[1;34m(r, d, n, p_on, p_off)\u001b[0m\n\u001b[0;32m      9\u001b[0m \u001b[1;33m\u001b[0m\u001b[0m\n\u001b[0;32m     10\u001b[0m \u001b[1;32mdef\u001b[0m \u001b[0mmulti_lkhd\u001b[0m\u001b[1;33m(\u001b[0m\u001b[0mr\u001b[0m\u001b[1;33m,\u001b[0m\u001b[0md\u001b[0m\u001b[1;33m,\u001b[0m\u001b[0mn\u001b[0m\u001b[1;33m,\u001b[0m\u001b[0mp_on\u001b[0m\u001b[1;33m,\u001b[0m\u001b[0mp_off\u001b[0m\u001b[1;33m)\u001b[0m\u001b[1;33m:\u001b[0m\u001b[1;33m\u001b[0m\u001b[0m\n\u001b[1;32m---> 11\u001b[1;33m     \u001b[1;32mreturn\u001b[0m \u001b[0mnp\u001b[0m\u001b[1;33m.\u001b[0m\u001b[0msum\u001b[0m\u001b[1;33m(\u001b[0m\u001b[0mnp\u001b[0m\u001b[1;33m.\u001b[0m\u001b[0marray\u001b[0m\u001b[1;33m(\u001b[0m\u001b[0mmap\u001b[0m\u001b[1;33m(\u001b[0m\u001b[1;32mlambda\u001b[0m \u001b[0mx\u001b[0m\u001b[1;33m,\u001b[0m\u001b[0my\u001b[0m\u001b[1;33m:\u001b[0m \u001b[0mnp\u001b[0m\u001b[1;33m.\u001b[0m\u001b[0mlog\u001b[0m\u001b[1;33m(\u001b[0m\u001b[0mlkhd\u001b[0m\u001b[1;33m(\u001b[0m\u001b[0mx\u001b[0m\u001b[1;33m,\u001b[0m\u001b[0my\u001b[0m\u001b[1;33m,\u001b[0m\u001b[0mn\u001b[0m\u001b[1;33m,\u001b[0m\u001b[0mp_on\u001b[0m\u001b[1;33m,\u001b[0m\u001b[0mp_off\u001b[0m\u001b[1;33m)\u001b[0m\u001b[1;33m)\u001b[0m\u001b[1;33m,\u001b[0m \u001b[0mr\u001b[0m\u001b[1;33m,\u001b[0m\u001b[0md\u001b[0m\u001b[1;33m)\u001b[0m\u001b[1;33m)\u001b[0m\u001b[1;33m)\u001b[0m\u001b[1;33m\u001b[0m\u001b[0m\n\u001b[0m\u001b[0;32m     12\u001b[0m \u001b[1;33m\u001b[0m\u001b[0m\n\u001b[0;32m     13\u001b[0m \u001b[1;33m\u001b[0m\u001b[0m\n",
        "\u001b[1;32m<ipython-input-9-6a8233113686>\u001b[0m in \u001b[0;36m<lambda>\u001b[1;34m(x, y)\u001b[0m\n\u001b[0;32m      9\u001b[0m \u001b[1;33m\u001b[0m\u001b[0m\n\u001b[0;32m     10\u001b[0m \u001b[1;32mdef\u001b[0m \u001b[0mmulti_lkhd\u001b[0m\u001b[1;33m(\u001b[0m\u001b[0mr\u001b[0m\u001b[1;33m,\u001b[0m\u001b[0md\u001b[0m\u001b[1;33m,\u001b[0m\u001b[0mn\u001b[0m\u001b[1;33m,\u001b[0m\u001b[0mp_on\u001b[0m\u001b[1;33m,\u001b[0m\u001b[0mp_off\u001b[0m\u001b[1;33m)\u001b[0m\u001b[1;33m:\u001b[0m\u001b[1;33m\u001b[0m\u001b[0m\n\u001b[1;32m---> 11\u001b[1;33m     \u001b[1;32mreturn\u001b[0m \u001b[0mnp\u001b[0m\u001b[1;33m.\u001b[0m\u001b[0msum\u001b[0m\u001b[1;33m(\u001b[0m\u001b[0mnp\u001b[0m\u001b[1;33m.\u001b[0m\u001b[0marray\u001b[0m\u001b[1;33m(\u001b[0m\u001b[0mmap\u001b[0m\u001b[1;33m(\u001b[0m\u001b[1;32mlambda\u001b[0m \u001b[0mx\u001b[0m\u001b[1;33m,\u001b[0m\u001b[0my\u001b[0m\u001b[1;33m:\u001b[0m \u001b[0mnp\u001b[0m\u001b[1;33m.\u001b[0m\u001b[0mlog\u001b[0m\u001b[1;33m(\u001b[0m\u001b[0mlkhd\u001b[0m\u001b[1;33m(\u001b[0m\u001b[0mx\u001b[0m\u001b[1;33m,\u001b[0m\u001b[0my\u001b[0m\u001b[1;33m,\u001b[0m\u001b[0mn\u001b[0m\u001b[1;33m,\u001b[0m\u001b[0mp_on\u001b[0m\u001b[1;33m,\u001b[0m\u001b[0mp_off\u001b[0m\u001b[1;33m)\u001b[0m\u001b[1;33m)\u001b[0m\u001b[1;33m,\u001b[0m \u001b[0mr\u001b[0m\u001b[1;33m,\u001b[0m\u001b[0md\u001b[0m\u001b[1;33m)\u001b[0m\u001b[1;33m)\u001b[0m\u001b[1;33m)\u001b[0m\u001b[1;33m\u001b[0m\u001b[0m\n\u001b[0m\u001b[0;32m     12\u001b[0m \u001b[1;33m\u001b[0m\u001b[0m\n\u001b[0;32m     13\u001b[0m \u001b[1;33m\u001b[0m\u001b[0m\n",
        "\u001b[1;32m<ipython-input-9-6a8233113686>\u001b[0m in \u001b[0;36mlkhd\u001b[1;34m(r, d, n, p_on, p_off)\u001b[0m\n\u001b[0;32m      6\u001b[0m \u001b[1;32mdef\u001b[0m \u001b[0mlkhd\u001b[0m\u001b[1;33m(\u001b[0m\u001b[0mr\u001b[0m\u001b[1;33m,\u001b[0m\u001b[0md\u001b[0m\u001b[1;33m,\u001b[0m\u001b[0mn\u001b[0m\u001b[1;33m,\u001b[0m\u001b[0mp_on\u001b[0m\u001b[1;33m,\u001b[0m\u001b[0mp_off\u001b[0m\u001b[1;33m)\u001b[0m\u001b[1;33m:\u001b[0m\u001b[1;33m\u001b[0m\u001b[0m\n\u001b[0;32m      7\u001b[0m     \u001b[0mprobs\u001b[0m \u001b[1;33m=\u001b[0m \u001b[0mnp\u001b[0m\u001b[1;33m.\u001b[0m\u001b[0marray\u001b[0m\u001b[1;33m(\u001b[0m\u001b[1;33m[\u001b[0m\u001b[1;33m(\u001b[0m\u001b[1;36m1\u001b[0m\u001b[1;33m-\u001b[0m\u001b[0mp_on\u001b[0m\u001b[1;33m)\u001b[0m\u001b[1;33m**\u001b[0m\u001b[1;33m(\u001b[0m\u001b[0md\u001b[0m\u001b[1;33m-\u001b[0m\u001b[0mm\u001b[0m\u001b[1;33m)\u001b[0m \u001b[1;33m*\u001b[0m \u001b[1;33m(\u001b[0m\u001b[0mp_on\u001b[0m\u001b[1;33m)\u001b[0m\u001b[1;33m**\u001b[0m\u001b[0mm\u001b[0m \u001b[1;33m*\u001b[0m \u001b[1;33m(\u001b[0m\u001b[0mp_off\u001b[0m\u001b[1;33m)\u001b[0m\u001b[1;33m**\u001b[0m\u001b[1;33m(\u001b[0m\u001b[0mr\u001b[0m\u001b[1;33m-\u001b[0m\u001b[0mm\u001b[0m\u001b[1;33m)\u001b[0m \u001b[1;33m*\u001b[0m \u001b[1;33m(\u001b[0m\u001b[1;36m1\u001b[0m\u001b[1;33m-\u001b[0m\u001b[0mp_off\u001b[0m\u001b[1;33m)\u001b[0m\u001b[1;33m**\u001b[0m\u001b[1;33m(\u001b[0m\u001b[0mn\u001b[0m\u001b[1;33m-\u001b[0m\u001b[0md\u001b[0m\u001b[1;33m-\u001b[0m\u001b[0mr\u001b[0m\u001b[1;33m+\u001b[0m\u001b[0mm\u001b[0m\u001b[1;33m)\u001b[0m \u001b[1;32mfor\u001b[0m \u001b[0mm\u001b[0m \u001b[1;32min\u001b[0m \u001b[0mrange\u001b[0m\u001b[1;33m(\u001b[0m\u001b[0mmin\u001b[0m\u001b[1;33m(\u001b[0m\u001b[0mr\u001b[0m\u001b[1;33m,\u001b[0m\u001b[0md\u001b[0m\u001b[1;33m)\u001b[0m\u001b[1;33m+\u001b[0m\u001b[1;36m1\u001b[0m\u001b[1;33m)\u001b[0m\u001b[1;33m]\u001b[0m\u001b[1;33m)\u001b[0m\u001b[1;33m\u001b[0m\u001b[0m\n\u001b[1;32m----> 8\u001b[1;33m     \u001b[1;32mreturn\u001b[0m \u001b[0mcounts\u001b[0m\u001b[1;33m(\u001b[0m\u001b[0mr\u001b[0m\u001b[1;33m,\u001b[0m\u001b[0md\u001b[0m\u001b[1;33m,\u001b[0m\u001b[0mn\u001b[0m\u001b[1;33m)\u001b[0m\u001b[1;33m.\u001b[0m\u001b[0mdot\u001b[0m\u001b[1;33m(\u001b[0m\u001b[0mprobs\u001b[0m\u001b[1;33m)\u001b[0m\u001b[1;33m\u001b[0m\u001b[0m\n\u001b[0m\u001b[0;32m      9\u001b[0m \u001b[1;33m\u001b[0m\u001b[0m\n\u001b[0;32m     10\u001b[0m \u001b[1;32mdef\u001b[0m \u001b[0mmulti_lkhd\u001b[0m\u001b[1;33m(\u001b[0m\u001b[0mr\u001b[0m\u001b[1;33m,\u001b[0m\u001b[0md\u001b[0m\u001b[1;33m,\u001b[0m\u001b[0mn\u001b[0m\u001b[1;33m,\u001b[0m\u001b[0mp_on\u001b[0m\u001b[1;33m,\u001b[0m\u001b[0mp_off\u001b[0m\u001b[1;33m)\u001b[0m\u001b[1;33m:\u001b[0m\u001b[1;33m\u001b[0m\u001b[0m\n",
        "\u001b[1;32m<ipython-input-9-6a8233113686>\u001b[0m in \u001b[0;36mcounts\u001b[1;34m(r, d, n)\u001b[0m\n\u001b[0;32m      2\u001b[0m \u001b[1;33m\u001b[0m\u001b[0m\n\u001b[0;32m      3\u001b[0m \u001b[1;32mdef\u001b[0m \u001b[0mcounts\u001b[0m\u001b[1;33m(\u001b[0m\u001b[0mr\u001b[0m\u001b[1;33m,\u001b[0m\u001b[0md\u001b[0m\u001b[1;33m,\u001b[0m\u001b[0mn\u001b[0m\u001b[1;33m)\u001b[0m\u001b[1;33m:\u001b[0m\u001b[1;33m\u001b[0m\u001b[0m\n\u001b[1;32m----> 4\u001b[1;33m     \u001b[1;32mreturn\u001b[0m \u001b[0mnp\u001b[0m\u001b[1;33m.\u001b[0m\u001b[0marray\u001b[0m\u001b[1;33m(\u001b[0m\u001b[1;33m[\u001b[0m\u001b[0mnCk\u001b[0m\u001b[1;33m(\u001b[0m\u001b[0md\u001b[0m\u001b[1;33m,\u001b[0m\u001b[0mm\u001b[0m\u001b[1;33m)\u001b[0m\u001b[1;33m*\u001b[0m\u001b[0mnCk\u001b[0m\u001b[1;33m(\u001b[0m\u001b[0mn\u001b[0m\u001b[1;33m-\u001b[0m\u001b[0md\u001b[0m\u001b[1;33m,\u001b[0m \u001b[0mr\u001b[0m\u001b[1;33m-\u001b[0m\u001b[0mm\u001b[0m\u001b[1;33m)\u001b[0m \u001b[1;32mfor\u001b[0m \u001b[0mm\u001b[0m \u001b[1;32min\u001b[0m \u001b[0mrange\u001b[0m\u001b[1;33m(\u001b[0m\u001b[0mmin\u001b[0m\u001b[1;33m(\u001b[0m\u001b[0mr\u001b[0m\u001b[1;33m,\u001b[0m\u001b[0md\u001b[0m\u001b[1;33m)\u001b[0m\u001b[1;33m+\u001b[0m\u001b[1;36m1\u001b[0m\u001b[1;33m)\u001b[0m\u001b[1;33m]\u001b[0m\u001b[1;33m)\u001b[0m\u001b[1;33m\u001b[0m\u001b[0m\n\u001b[0m\u001b[0;32m      5\u001b[0m \u001b[1;33m\u001b[0m\u001b[0m\n\u001b[0;32m      6\u001b[0m \u001b[1;32mdef\u001b[0m \u001b[0mlkhd\u001b[0m\u001b[1;33m(\u001b[0m\u001b[0mr\u001b[0m\u001b[1;33m,\u001b[0m\u001b[0md\u001b[0m\u001b[1;33m,\u001b[0m\u001b[0mn\u001b[0m\u001b[1;33m,\u001b[0m\u001b[0mp_on\u001b[0m\u001b[1;33m,\u001b[0m\u001b[0mp_off\u001b[0m\u001b[1;33m)\u001b[0m\u001b[1;33m:\u001b[0m\u001b[1;33m\u001b[0m\u001b[0m\n",
        "\u001b[1;32m/home/tnaselar/anaconda/lib/python2.7/site-packages/scipy/special/basic.pyc\u001b[0m in \u001b[0;36mcomb\u001b[1;34m(N, k, exact, repetition)\u001b[0m\n\u001b[0;32m   1196\u001b[0m     \u001b[1;32melse\u001b[0m\u001b[1;33m:\u001b[0m\u001b[1;33m\u001b[0m\u001b[0m\n\u001b[0;32m   1197\u001b[0m         \u001b[0mk\u001b[0m\u001b[1;33m,\u001b[0m\u001b[0mN\u001b[0m \u001b[1;33m=\u001b[0m \u001b[0masarray\u001b[0m\u001b[1;33m(\u001b[0m\u001b[0mk\u001b[0m\u001b[1;33m)\u001b[0m\u001b[1;33m,\u001b[0m \u001b[0masarray\u001b[0m\u001b[1;33m(\u001b[0m\u001b[0mN\u001b[0m\u001b[1;33m)\u001b[0m\u001b[1;33m\u001b[0m\u001b[0m\n\u001b[1;32m-> 1198\u001b[1;33m         \u001b[0mcond\u001b[0m \u001b[1;33m=\u001b[0m \u001b[1;33m(\u001b[0m\u001b[0mk\u001b[0m \u001b[1;33m<=\u001b[0m \u001b[0mN\u001b[0m\u001b[1;33m)\u001b[0m \u001b[1;33m&\u001b[0m \u001b[1;33m(\u001b[0m\u001b[0mN\u001b[0m \u001b[1;33m>=\u001b[0m \u001b[1;36m0\u001b[0m\u001b[1;33m)\u001b[0m \u001b[1;33m&\u001b[0m \u001b[1;33m(\u001b[0m\u001b[0mk\u001b[0m \u001b[1;33m>=\u001b[0m \u001b[1;36m0\u001b[0m\u001b[1;33m)\u001b[0m\u001b[1;33m\u001b[0m\u001b[0m\n\u001b[0m\u001b[0;32m   1199\u001b[0m         \u001b[0mvals\u001b[0m \u001b[1;33m=\u001b[0m \u001b[0mbinom\u001b[0m\u001b[1;33m(\u001b[0m\u001b[0mN\u001b[0m\u001b[1;33m,\u001b[0m \u001b[0mk\u001b[0m\u001b[1;33m)\u001b[0m\u001b[1;33m\u001b[0m\u001b[0m\n\u001b[0;32m   1200\u001b[0m         \u001b[1;32mif\u001b[0m \u001b[0misinstance\u001b[0m\u001b[1;33m(\u001b[0m\u001b[0mvals\u001b[0m\u001b[1;33m,\u001b[0m \u001b[0mnp\u001b[0m\u001b[1;33m.\u001b[0m\u001b[0mndarray\u001b[0m\u001b[1;33m)\u001b[0m\u001b[1;33m:\u001b[0m\u001b[1;33m\u001b[0m\u001b[0m\n",
        "\u001b[1;31mKeyboardInterrupt\u001b[0m: "
       ]
      }
     ],
     "prompt_number": 24
    },
    {
     "cell_type": "code",
     "collapsed": false,
     "input": [
      "cur_best = np.array(hof[0])\n",
      "m1,m2 = pair_objects(target_map.ravel(), cur_best.ravel())\n",
      "plt.subplot(1,2,1)\n",
      "plt.imshow(m1.reshape((size_of_field,size_of_field)), interpolation='nearest', cmap = 'Pastel1')\n",
      "_ = plt.axis('off')\n",
      "plt.subplot(1,2,2)\n",
      "plt.imshow(m2.reshape((size_of_field,size_of_field)), cmap = 'Pastel1',interpolation='nearest')\n",
      "_ = plt.axis('off')\n",
      "#pred_resp = response(overlap(W,cur_best))\n",
      "#print pearsonr(target_resp, pred_resp)\n",
      "print cur_best\n",
      "print m2"
     ],
     "language": "python",
     "metadata": {},
     "outputs": [
      {
       "output_type": "stream",
       "stream": "stdout",
       "text": [
        "[2 2 2 1 1 1 1 1 2 2 2 1 1 1 1 1 2 3 3 1 1 1 1 1 3 3 2 3 1 1 1 1 3 3 3 3 4\n",
        " 1 1 1 3 1 3 3 3 1 1 1 3 3 3 3 3 1 1 1 3 3 3 3 3 1 1 1]\n",
        "[1 1 1 4 4 4 4 4 1 1 1 4 4 4 4 4 1 2 2 1 4 4 4 1 2 2 2 1 1 4 4 1 1 1 3 3 1\n",
        " 1 1 1 3 1 3 3 2 1 1 1 3 3 2 2 2 2 2 1 3 3 2 2 2 2 2 1]\n"
       ]
      },
      {
       "metadata": {},
       "output_type": "display_data",
       "png": "[encoded data removed]",
       "text": [
        "<matplotlib.figure.Figure at 0x7fcaf22f5310>"
       ]
      }
     ],
     "prompt_number": 500
    },
    {
     "cell_type": "heading",
     "level": 3,
     "metadata": {},
     "source": [
      "Refine by permuting boundaries"
     ]
    },
    {
     "cell_type": "code",
     "collapsed": false,
     "input": [
      "##find the boundaries of the map\n",
      "boundary_map = np.pad(np.diff(cur_best.astype('int'),axis=0), pad_width=[(1,0), (0,0)], mode=pad_0) + \\\n",
      "               np.pad(np.diff(cur_best.astype('int'),axis=1), pad_width=[(0,0),(1,0)], mode=pad_0)\n",
      "    \n",
      "boundary_map = boundary_map.astype('bool').ravel()\n",
      "boundary_points = boundary_map.nonzero()[0] ##<<these are the indices into raveled map\n",
      "\n",
      "plt.subplot(1,2,1)\n",
      "plt.imshow(cur_best, interpolation='nearest', cmap = 'Pastel1')\n",
      "plt.scatter(px[boundary_map], py[boundary_map])\n",
      "_ = plt.axis('off')\n",
      "plt.subplot(1,2,2)\n",
      "plt.imshow(boundary_map.reshape((size_of_field,size_of_field)), cmap = 'Pastel1',interpolation='nearest')\n",
      "_ = plt.axis('off')\n"
     ],
     "language": "python",
     "metadata": {},
     "outputs": [
      {
       "metadata": {},
       "output_type": "display_data",
       "png": "[encoded data removed]",
       "text": [
        "<matplotlib.figure.Figure at 0x7fcaf4463450>"
       ]
      }
     ],
     "prompt_number": 326
    },
    {
     "cell_type": "code",
     "collapsed": false,
     "input": [
      "##grab the value of each pixel\n",
      "all_values = cur_best.ravel()\n",
      "\n",
      "##construct a grid of pixel locations\n",
      "px, py = np.meshgrid(range(size_of_field),range(size_of_field))\n",
      "px = px.reshape(px.size,1)\n",
      "py = py.reshape(py.size,1)\n",
      "all_points = np.concatenate((px,py),axis=1)\n",
      "\n",
      "##sanity check\n",
      "foo = griddata(all_points, all_values, (px, py), method='nearest').reshape((size_of_field,size_of_field))\n",
      "plt.imshow(foo, interpolation='nearest', cmap = 'Pastel1')\n",
      "plt.axis('off')\n"
     ],
     "language": "python",
     "metadata": {},
     "outputs": [
      {
       "metadata": {},
       "output_type": "pyout",
       "prompt_number": 328,
       "text": [
        "(-0.5, 7.5, 7.5, -0.5)"
       ]
      },
      {
       "metadata": {},
       "output_type": "display_data",
       "png": "[encoded data removed]",
       "text": [
        "<matplotlib.figure.Figure at 0x7fcaf4a2b4d0>"
       ]
      }
     ],
     "prompt_number": 328
    },
    {
     "cell_type": "code",
     "collapsed": false,
     "input": [
      "\n",
      "\n",
      "##construct a grind of permutations\n",
      "di,dj = np.meshgrid(range(-4,4), range(-4,4))\n",
      "di = di.ravel()\n",
      "dj = dj.ravel()\n",
      "cnt = 0\n",
      "likes = np.empty((len(dj)*len(boundary_points)))\n",
      "new_maps = np.empty((len(dj)*len(boundary_points), size_of_field, size_of_field))\n",
      "##create new maps by permuting\n",
      "\n",
      "for bb in boundary_points:\n",
      "    for yo in zip(di,dj):\n",
      "        new_points = all_points.copy()\n",
      "        new_points[bb,0] += yo[0]\n",
      "        new_points[bb,1] += yo[1]\n",
      "        cur_map = griddata(new_points, all_values, (px, py), method='nearest').reshape((size_of_field,size_of_field))\n",
      "        pred_resp = response(overlap(W,cur_map)).astype('int')\n",
      "        likes[cnt] = multi_lkhd(resp_noise, pred_resp, K, p_on, p_off)\n",
      "        new_maps[cnt,:,:] = cur_map\n",
      "        cnt += 1\n",
      "\n",
      "best_dx = np.argmax(likes)\n",
      "print best_dx\n",
      "cur_best = np.squeeze(new_maps[best_dx,:, :])\n",
      "pred_resp = response(overlap(W,cur_best))\n",
      "print pearsonr(target_resp, pred_resp)\n",
      "\n",
      "plt.subplot(1,2,1)\n",
      "plt.imshow(target_map, interpolation='nearest', cmap = 'Pastel1')\n",
      "_ = plt.axis('off')\n",
      "plt.subplot(1,2,2)\n",
      "plt.imshow(cur_best, interpolation='nearest', cmap = 'Pastel1')\n",
      "_ = plt.axis('off')"
     ],
     "language": "python",
     "metadata": {},
     "outputs": [
      {
       "output_type": "stream",
       "stream": "stdout",
       "text": [
        "584\n",
        "(0.581046863427928, 4.8056354385996968e-07)\n"
       ]
      },
      {
       "metadata": {},
       "output_type": "display_data",
       "png": "[encoded data removed]",
       "text": [
        "<matplotlib.figure.Figure at 0x7fcaf43f8610>"
       ]
      }
     ],
     "prompt_number": 329
    },
    {
     "cell_type": "code",
     "collapsed": false,
     "input": [
      "likes"
     ],
     "language": "python",
     "metadata": {},
     "outputs": [
      {
       "metadata": {},
       "output_type": "pyout",
       "prompt_number": 330,
       "text": [
        "array([-152.83744038, -157.68283812, -157.68283812, ..., -152.83744038,\n",
        "       -152.83744038, -152.83744038])"
       ]
      }
     ],
     "prompt_number": 330
    },
    {
     "cell_type": "heading",
     "level": 3,
     "metadata": {},
     "source": [
      "Test out coarse-to-fine approach"
     ]
    },
    {
     "cell_type": "code",
     "collapsed": false,
     "input": [
      "foo = sparse_point_maps(seed_point_rows, seed_point_cols, size_of_field, cluster_pref='all', number_of_clusters = K)\n",
      "baz = sparse_point_maps(seed_point_rows, seed_point_cols, size_of_field, cluster_pref='all', number_of_clusters = K)"
     ],
     "language": "python",
     "metadata": {},
     "outputs": [],
     "prompt_number": 164
    },
    {
     "cell_type": "code",
     "collapsed": false,
     "input": [
      "foo.uniform_shift(2,2)\n",
      "baz.points.extend(foo.points)\n",
      "baz.points\n",
      "new_groups = []\n",
      "new_groups = [baz.grouping[best_dx]+foo.grouping[ii] for ii in range(len(foo.grouping))]\n",
      "baz.grouping = new_groups\n",
      "new_maps = baz.nn_interpolation()\n",
      "\n"
     ],
     "language": "python",
     "metadata": {},
     "outputs": [],
     "prompt_number": 165
    },
    {
     "cell_type": "code",
     "collapsed": false,
     "input": [
      "##see some of the derived maps\n",
      "plt.subplot(1,2,1)\n",
      "plt.imshow(cur_best, interpolation='nearest', cmap = 'Pastel1')\n",
      "plt.title('seed map')\n",
      "_ = plt.axis('off')\n",
      "plt.subplot(1,2,2)\n",
      "plt.imshow(np.squeeze(new_maps[3,:, :]), cmap = 'Pastel1',interpolation='nearest')\n",
      "plt.title('derived from seed')\n",
      "_ = plt.axis('off')"
     ],
     "language": "python",
     "metadata": {},
     "outputs": [
      {
       "metadata": {},
       "output_type": "display_data",
       "png": "[encoded data removed]",
       "text": [
        "<matplotlib.figure.Figure at 0x7fcaf4a16810>"
       ]
      }
     ],
     "prompt_number": 166
    },
    {
     "cell_type": "code",
     "collapsed": false,
     "input": [
      "##run it again\n",
      "likes = np.empty(D, dtype = 'int')\n",
      "for ii,mg in enumerate(new_maps):\n",
      "    pred_resp = response(overlap(W,mg)).astype('int')\n",
      "    likes[ii] = multi_lkhd(resp_noise, pred_resp, K, p_on, p_off)\n",
      "    \n"
     ],
     "language": "python",
     "metadata": {},
     "outputs": [
      {
       "output_type": "stream",
       "stream": "stdout",
       "text": [
        "(-0.29178363871639079, 0.019313710234990736)\n"
       ]
      }
     ],
     "prompt_number": 167
    },
    {
     "cell_type": "code",
     "collapsed": false,
     "input": [
      "best_dx = np.argmax(likes)\n",
      "cur_best = np.squeeze(new_maps[best_dx,:, :])\n",
      "pred_resp = response(overlap(W,cur_best))\n",
      "print pearsonr(target_resp, pred_resp)"
     ],
     "language": "python",
     "metadata": {},
     "outputs": [
      {
       "output_type": "stream",
       "stream": "stdout",
       "text": [
        "(0.6728331541752216, 1.1300706699277095e-09)\n"
       ]
      }
     ],
     "prompt_number": 169
    },
    {
     "cell_type": "code",
     "collapsed": false,
     "input": [
      "plt.subplot(1,2,1)\n",
      "plt.imshow(target_map, interpolation='nearest', cmap = 'Pastel1')\n",
      "plt.title('true object map')\n",
      "_ = plt.axis('off')\n",
      "plt.subplot(1,2,2)\n",
      "plt.imshow(cur_best, cmap = 'Pastel1',interpolation='nearest')\n",
      "plt.title('best from grid search')\n",
      "_ = plt.axis('off')\n",
      "\n",
      "##kinda works, but need to generate 7700 new maps for each uniform shift. better to work with the boundary points"
     ],
     "language": "python",
     "metadata": {},
     "outputs": [
      {
       "metadata": {},
       "output_type": "display_data",
       "png": "[encoded data removed]",
       "text": [
        "<matplotlib.figure.Figure at 0x7fcaf450e7d0>"
       ]
      }
     ],
     "prompt_number": 170
    },
    {
     "cell_type": "heading",
     "level": 3,
     "metadata": {},
     "source": [
      "Orphans"
     ]
    },
    {
     "cell_type": "code",
     "collapsed": false,
     "input": [
      "##try using pandas to speed things up?\n",
      "data = np.empty((n_pix,W.shape[0]+1))\n",
      "data[:,0] = target_map.ravel()\n",
      "columns = ['target_map']\n",
      "for ii,w in enumerate(W):\n",
      "    data[:,ii+1] = w.ravel()\n",
      "    columns.append('w_%d' %(ii))\n",
      "\n",
      "df = pd.DataFrame(data,columns=columns, dtype='int')\n"
     ],
     "language": "python",
     "metadata": {},
     "outputs": [],
     "prompt_number": 41
    },
    {
     "cell_type": "code",
     "collapsed": false,
     "input": [
      "##test\n",
      "%timeit _ = df.loc[df['w_3']>0, ['target_map']].apply(lambda x: x.nunique())\n",
      "print _"
     ],
     "language": "python",
     "metadata": {},
     "outputs": [
      {
       "output_type": "stream",
       "stream": "stdout",
       "text": [
        "1000 loops, best of 3: 1.15 ms per loop\n",
        "target_map    1\n",
        "dtype: int64\n"
       ]
      }
     ],
     "prompt_number": 42
    },
    {
     "cell_type": "code",
     "collapsed": false,
     "input": [
      "#foo = df.groupby('w_0')\n",
      "#print foo.agg({'target_map': lambda x: x.nunique()})\n",
      "\n",
      "%timeit _ = df.groupby('w_0').agg({'target_map': lambda x: x.nunique()})\n",
      "print _"
     ],
     "language": "python",
     "metadata": {},
     "outputs": [
      {
       "output_type": "stream",
       "stream": "stdout",
       "text": [
        "1000 loops, best of 3: 1.26 ms per loop\n",
        "target_map    1\n",
        "dtype: int64\n"
       ]
      }
     ],
     "prompt_number": 50
    },
    {
     "cell_type": "code",
     "collapsed": false,
     "input": [
      "##use pd data structure to define prediction model\n",
      "def pred_resp(df, probe_dx):\n",
      "    return np.array([])"
     ],
     "language": "python",
     "metadata": {},
     "outputs": [
      {
       "metadata": {},
       "output_type": "pyout",
       "prompt_number": 26,
       "text": [
        "array([[1, 1, 1, 4, 4, 4, 4, 4],\n",
        "       [1, 1, 1, 4, 4, 4, 4, 4],\n",
        "       [1, 2, 2, 1, 4, 4, 4, 1],\n",
        "       [2, 2, 2, 1, 1, 4, 4, 1],\n",
        "       [1, 1, 3, 3, 1, 1, 1, 1],\n",
        "       [3, 1, 3, 3, 2, 1, 1, 1],\n",
        "       [3, 3, 2, 2, 2, 2, 2, 1],\n",
        "       [3, 3, 2, 2, 2, 2, 2, 1]], dtype=uint8)"
       ]
      }
     ],
     "prompt_number": 26
    },
    {
     "cell_type": "code",
     "collapsed": false,
     "input": [
      "%timeit _ = response(overlap(df.loc[:,1:], df['target_map']))\n",
      "print response(overlap(W, target_map))"
     ],
     "language": "python",
     "metadata": {},
     "outputs": [
      {
       "ename": "KeyError",
       "evalue": "'start bound [1] is not the [columns]'",
       "output_type": "pyerr",
       "traceback": [
        "\u001b[1;31m---------------------------------------------------------------------------\u001b[0m\n\u001b[1;31mKeyError\u001b[0m                                  Traceback (most recent call last)",
        "\u001b[1;32m<ipython-input-56-1a235e165c9e>\u001b[0m in \u001b[0;36m<module>\u001b[1;34m()\u001b[0m\n\u001b[1;32m----> 1\u001b[1;33m \u001b[0mget_ipython\u001b[0m\u001b[1;33m(\u001b[0m\u001b[1;33m)\u001b[0m\u001b[1;33m.\u001b[0m\u001b[0mmagic\u001b[0m\u001b[1;33m(\u001b[0m\u001b[1;34mu\"timeit _ = response(overlap(df.loc[:,1:], df['target_map']))\"\u001b[0m\u001b[1;33m)\u001b[0m\u001b[1;33m\u001b[0m\u001b[0m\n\u001b[0m\u001b[0;32m      2\u001b[0m \u001b[1;32mprint\u001b[0m \u001b[0mresponse\u001b[0m\u001b[1;33m(\u001b[0m\u001b[0moverlap\u001b[0m\u001b[1;33m(\u001b[0m\u001b[0mW\u001b[0m\u001b[1;33m,\u001b[0m \u001b[0mtarget_map\u001b[0m\u001b[1;33m)\u001b[0m\u001b[1;33m)\u001b[0m\u001b[1;33m\u001b[0m\u001b[0m\n",
        "\u001b[1;32m/home/tnaselar/anaconda/lib/python2.7/site-packages/IPython/core/interactiveshell.pyc\u001b[0m in \u001b[0;36mmagic\u001b[1;34m(self, arg_s)\u001b[0m\n\u001b[0;32m   2203\u001b[0m         \u001b[0mmagic_name\u001b[0m\u001b[1;33m,\u001b[0m \u001b[0m_\u001b[0m\u001b[1;33m,\u001b[0m \u001b[0mmagic_arg_s\u001b[0m \u001b[1;33m=\u001b[0m \u001b[0marg_s\u001b[0m\u001b[1;33m.\u001b[0m\u001b[0mpartition\u001b[0m\u001b[1;33m(\u001b[0m\u001b[1;34m' '\u001b[0m\u001b[1;33m)\u001b[0m\u001b[1;33m\u001b[0m\u001b[0m\n\u001b[0;32m   2204\u001b[0m         \u001b[0mmagic_name\u001b[0m \u001b[1;33m=\u001b[0m \u001b[0mmagic_name\u001b[0m\u001b[1;33m.\u001b[0m\u001b[0mlstrip\u001b[0m\u001b[1;33m(\u001b[0m\u001b[0mprefilter\u001b[0m\u001b[1;33m.\u001b[0m\u001b[0mESC_MAGIC\u001b[0m\u001b[1;33m)\u001b[0m\u001b[1;33m\u001b[0m\u001b[0m\n\u001b[1;32m-> 2205\u001b[1;33m         \u001b[1;32mreturn\u001b[0m \u001b[0mself\u001b[0m\u001b[1;33m.\u001b[0m\u001b[0mrun_line_magic\u001b[0m\u001b[1;33m(\u001b[0m\u001b[0mmagic_name\u001b[0m\u001b[1;33m,\u001b[0m \u001b[0mmagic_arg_s\u001b[0m\u001b[1;33m)\u001b[0m\u001b[1;33m\u001b[0m\u001b[0m\n\u001b[0m\u001b[0;32m   2206\u001b[0m \u001b[1;33m\u001b[0m\u001b[0m\n\u001b[0;32m   2207\u001b[0m     \u001b[1;31m#-------------------------------------------------------------------------\u001b[0m\u001b[1;33m\u001b[0m\u001b[1;33m\u001b[0m\u001b[0m\n",
        "\u001b[1;32m/home/tnaselar/anaconda/lib/python2.7/site-packages/IPython/core/interactiveshell.pyc\u001b[0m in \u001b[0;36mrun_line_magic\u001b[1;34m(self, magic_name, line)\u001b[0m\n\u001b[0;32m   2124\u001b[0m                 \u001b[0mkwargs\u001b[0m\u001b[1;33m[\u001b[0m\u001b[1;34m'local_ns'\u001b[0m\u001b[1;33m]\u001b[0m \u001b[1;33m=\u001b[0m \u001b[0msys\u001b[0m\u001b[1;33m.\u001b[0m\u001b[0m_getframe\u001b[0m\u001b[1;33m(\u001b[0m\u001b[0mstack_depth\u001b[0m\u001b[1;33m)\u001b[0m\u001b[1;33m.\u001b[0m\u001b[0mf_locals\u001b[0m\u001b[1;33m\u001b[0m\u001b[0m\n\u001b[0;32m   2125\u001b[0m             \u001b[1;32mwith\u001b[0m \u001b[0mself\u001b[0m\u001b[1;33m.\u001b[0m\u001b[0mbuiltin_trap\u001b[0m\u001b[1;33m:\u001b[0m\u001b[1;33m\u001b[0m\u001b[0m\n\u001b[1;32m-> 2126\u001b[1;33m                 \u001b[0mresult\u001b[0m \u001b[1;33m=\u001b[0m \u001b[0mfn\u001b[0m\u001b[1;33m(\u001b[0m\u001b[1;33m*\u001b[0m\u001b[0margs\u001b[0m\u001b[1;33m,\u001b[0m\u001b[1;33m**\u001b[0m\u001b[0mkwargs\u001b[0m\u001b[1;33m)\u001b[0m\u001b[1;33m\u001b[0m\u001b[0m\n\u001b[0m\u001b[0;32m   2127\u001b[0m             \u001b[1;32mreturn\u001b[0m \u001b[0mresult\u001b[0m\u001b[1;33m\u001b[0m\u001b[0m\n\u001b[0;32m   2128\u001b[0m \u001b[1;33m\u001b[0m\u001b[0m\n",
        "\u001b[1;32m/home/tnaselar/anaconda/lib/python2.7/site-packages/IPython/core/magics/execution.pyc\u001b[0m in \u001b[0;36mtimeit\u001b[1;34m(self, line, cell)\u001b[0m\n",
        "\u001b[1;32m/home/tnaselar/anaconda/lib/python2.7/site-packages/IPython/core/magic.pyc\u001b[0m in \u001b[0;36m<lambda>\u001b[1;34m(f, *a, **k)\u001b[0m\n\u001b[0;32m    191\u001b[0m     \u001b[1;31m# but it's overkill for just that one bit of state.\u001b[0m\u001b[1;33m\u001b[0m\u001b[1;33m\u001b[0m\u001b[0m\n\u001b[0;32m    192\u001b[0m     \u001b[1;32mdef\u001b[0m \u001b[0mmagic_deco\u001b[0m\u001b[1;33m(\u001b[0m\u001b[0marg\u001b[0m\u001b[1;33m)\u001b[0m\u001b[1;33m:\u001b[0m\u001b[1;33m\u001b[0m\u001b[0m\n\u001b[1;32m--> 193\u001b[1;33m         \u001b[0mcall\u001b[0m \u001b[1;33m=\u001b[0m \u001b[1;32mlambda\u001b[0m \u001b[0mf\u001b[0m\u001b[1;33m,\u001b[0m \u001b[1;33m*\u001b[0m\u001b[0ma\u001b[0m\u001b[1;33m,\u001b[0m \u001b[1;33m**\u001b[0m\u001b[0mk\u001b[0m\u001b[1;33m:\u001b[0m \u001b[0mf\u001b[0m\u001b[1;33m(\u001b[0m\u001b[1;33m*\u001b[0m\u001b[0ma\u001b[0m\u001b[1;33m,\u001b[0m \u001b[1;33m**\u001b[0m\u001b[0mk\u001b[0m\u001b[1;33m)\u001b[0m\u001b[1;33m\u001b[0m\u001b[0m\n\u001b[0m\u001b[0;32m    194\u001b[0m \u001b[1;33m\u001b[0m\u001b[0m\n\u001b[0;32m    195\u001b[0m         \u001b[1;32mif\u001b[0m \u001b[0mcallable\u001b[0m\u001b[1;33m(\u001b[0m\u001b[0marg\u001b[0m\u001b[1;33m)\u001b[0m\u001b[1;33m:\u001b[0m\u001b[1;33m\u001b[0m\u001b[0m\n",
        "\u001b[1;32m/home/tnaselar/anaconda/lib/python2.7/site-packages/IPython/core/magics/execution.pyc\u001b[0m in \u001b[0;36mtimeit\u001b[1;34m(self, line, cell)\u001b[0m\n\u001b[0;32m   1011\u001b[0m             \u001b[0mnumber\u001b[0m \u001b[1;33m=\u001b[0m \u001b[1;36m1\u001b[0m\u001b[1;33m\u001b[0m\u001b[0m\n\u001b[0;32m   1012\u001b[0m             \u001b[1;32mfor\u001b[0m \u001b[0m_\u001b[0m \u001b[1;32min\u001b[0m \u001b[0mrange\u001b[0m\u001b[1;33m(\u001b[0m\u001b[1;36m1\u001b[0m\u001b[1;33m,\u001b[0m \u001b[1;36m10\u001b[0m\u001b[1;33m)\u001b[0m\u001b[1;33m:\u001b[0m\u001b[1;33m\u001b[0m\u001b[0m\n\u001b[1;32m-> 1013\u001b[1;33m                 \u001b[1;32mif\u001b[0m \u001b[0mtimer\u001b[0m\u001b[1;33m.\u001b[0m\u001b[0mtimeit\u001b[0m\u001b[1;33m(\u001b[0m\u001b[0mnumber\u001b[0m\u001b[1;33m)\u001b[0m \u001b[1;33m>=\u001b[0m \u001b[1;36m0.2\u001b[0m\u001b[1;33m:\u001b[0m\u001b[1;33m\u001b[0m\u001b[0m\n\u001b[0m\u001b[0;32m   1014\u001b[0m                     \u001b[1;32mbreak\u001b[0m\u001b[1;33m\u001b[0m\u001b[0m\n\u001b[0;32m   1015\u001b[0m                 \u001b[0mnumber\u001b[0m \u001b[1;33m*=\u001b[0m \u001b[1;36m10\u001b[0m\u001b[1;33m\u001b[0m\u001b[0m\n",
        "\u001b[1;32m/home/tnaselar/anaconda/lib/python2.7/timeit.pyc\u001b[0m in \u001b[0;36mtimeit\u001b[1;34m(self, number)\u001b[0m\n\u001b[0;32m    193\u001b[0m         \u001b[0mgc\u001b[0m\u001b[1;33m.\u001b[0m\u001b[0mdisable\u001b[0m\u001b[1;33m(\u001b[0m\u001b[1;33m)\u001b[0m\u001b[1;33m\u001b[0m\u001b[0m\n\u001b[0;32m    194\u001b[0m         \u001b[1;32mtry\u001b[0m\u001b[1;33m:\u001b[0m\u001b[1;33m\u001b[0m\u001b[0m\n\u001b[1;32m--> 195\u001b[1;33m             \u001b[0mtiming\u001b[0m \u001b[1;33m=\u001b[0m \u001b[0mself\u001b[0m\u001b[1;33m.\u001b[0m\u001b[0minner\u001b[0m\u001b[1;33m(\u001b[0m\u001b[0mit\u001b[0m\u001b[1;33m,\u001b[0m \u001b[0mself\u001b[0m\u001b[1;33m.\u001b[0m\u001b[0mtimer\u001b[0m\u001b[1;33m)\u001b[0m\u001b[1;33m\u001b[0m\u001b[0m\n\u001b[0m\u001b[0;32m    196\u001b[0m         \u001b[1;32mfinally\u001b[0m\u001b[1;33m:\u001b[0m\u001b[1;33m\u001b[0m\u001b[0m\n\u001b[0;32m    197\u001b[0m             \u001b[1;32mif\u001b[0m \u001b[0mgcold\u001b[0m\u001b[1;33m:\u001b[0m\u001b[1;33m\u001b[0m\u001b[0m\n",
        "\u001b[1;32m<magic-timeit>\u001b[0m in \u001b[0;36minner\u001b[1;34m(_it, _timer)\u001b[0m\n",
        "\u001b[1;32m/home/tnaselar/anaconda/lib/python2.7/site-packages/pandas/core/indexing.pyc\u001b[0m in \u001b[0;36m__getitem__\u001b[1;34m(self, key)\u001b[0m\n\u001b[0;32m   1125\u001b[0m     \u001b[1;32mdef\u001b[0m \u001b[0m__getitem__\u001b[0m\u001b[1;33m(\u001b[0m\u001b[0mself\u001b[0m\u001b[1;33m,\u001b[0m \u001b[0mkey\u001b[0m\u001b[1;33m)\u001b[0m\u001b[1;33m:\u001b[0m\u001b[1;33m\u001b[0m\u001b[0m\n\u001b[0;32m   1126\u001b[0m         \u001b[1;32mif\u001b[0m \u001b[0mtype\u001b[0m\u001b[1;33m(\u001b[0m\u001b[0mkey\u001b[0m\u001b[1;33m)\u001b[0m \u001b[1;32mis\u001b[0m \u001b[0mtuple\u001b[0m\u001b[1;33m:\u001b[0m\u001b[1;33m\u001b[0m\u001b[0m\n\u001b[1;32m-> 1127\u001b[1;33m             \u001b[1;32mreturn\u001b[0m \u001b[0mself\u001b[0m\u001b[1;33m.\u001b[0m\u001b[0m_getitem_tuple\u001b[0m\u001b[1;33m(\u001b[0m\u001b[0mkey\u001b[0m\u001b[1;33m)\u001b[0m\u001b[1;33m\u001b[0m\u001b[0m\n\u001b[0m\u001b[0;32m   1128\u001b[0m         \u001b[1;32melse\u001b[0m\u001b[1;33m:\u001b[0m\u001b[1;33m\u001b[0m\u001b[0m\n\u001b[0;32m   1129\u001b[0m             \u001b[1;32mreturn\u001b[0m \u001b[0mself\u001b[0m\u001b[1;33m.\u001b[0m\u001b[0m_getitem_axis\u001b[0m\u001b[1;33m(\u001b[0m\u001b[0mkey\u001b[0m\u001b[1;33m,\u001b[0m \u001b[0maxis\u001b[0m\u001b[1;33m=\u001b[0m\u001b[1;36m0\u001b[0m\u001b[1;33m)\u001b[0m\u001b[1;33m\u001b[0m\u001b[0m\n",
        "\u001b[1;32m/home/tnaselar/anaconda/lib/python2.7/site-packages/pandas/core/indexing.pyc\u001b[0m in \u001b[0;36m_getitem_tuple\u001b[1;34m(self, tup)\u001b[0m\n\u001b[0;32m    648\u001b[0m \u001b[1;33m\u001b[0m\u001b[0m\n\u001b[0;32m    649\u001b[0m         \u001b[1;31m# no multi-index, so validate all of the indexers\u001b[0m\u001b[1;33m\u001b[0m\u001b[1;33m\u001b[0m\u001b[0m\n\u001b[1;32m--> 650\u001b[1;33m         \u001b[0mself\u001b[0m\u001b[1;33m.\u001b[0m\u001b[0m_has_valid_tuple\u001b[0m\u001b[1;33m(\u001b[0m\u001b[0mtup\u001b[0m\u001b[1;33m)\u001b[0m\u001b[1;33m\u001b[0m\u001b[0m\n\u001b[0m\u001b[0;32m    651\u001b[0m \u001b[1;33m\u001b[0m\u001b[0m\n\u001b[0;32m    652\u001b[0m         \u001b[1;31m# ugly hack for GH #836\u001b[0m\u001b[1;33m\u001b[0m\u001b[1;33m\u001b[0m\u001b[0m\n",
        "\u001b[1;32m/home/tnaselar/anaconda/lib/python2.7/site-packages/pandas/core/indexing.pyc\u001b[0m in \u001b[0;36m_has_valid_tuple\u001b[1;34m(self, key)\u001b[0m\n\u001b[0;32m    127\u001b[0m             \u001b[1;32mif\u001b[0m \u001b[0mi\u001b[0m \u001b[1;33m>=\u001b[0m \u001b[0mself\u001b[0m\u001b[1;33m.\u001b[0m\u001b[0mobj\u001b[0m\u001b[1;33m.\u001b[0m\u001b[0mndim\u001b[0m\u001b[1;33m:\u001b[0m\u001b[1;33m\u001b[0m\u001b[0m\n\u001b[0;32m    128\u001b[0m                 \u001b[1;32mraise\u001b[0m \u001b[0mIndexingError\u001b[0m\u001b[1;33m(\u001b[0m\u001b[1;34m'Too many indexers'\u001b[0m\u001b[1;33m)\u001b[0m\u001b[1;33m\u001b[0m\u001b[0m\n\u001b[1;32m--> 129\u001b[1;33m             \u001b[1;32mif\u001b[0m \u001b[1;32mnot\u001b[0m \u001b[0mself\u001b[0m\u001b[1;33m.\u001b[0m\u001b[0m_has_valid_type\u001b[0m\u001b[1;33m(\u001b[0m\u001b[0mk\u001b[0m\u001b[1;33m,\u001b[0m \u001b[0mi\u001b[0m\u001b[1;33m)\u001b[0m\u001b[1;33m:\u001b[0m\u001b[1;33m\u001b[0m\u001b[0m\n\u001b[0m\u001b[0;32m    130\u001b[0m                 raise ValueError(\"Location based indexing can only have [%s] \"\n\u001b[0;32m    131\u001b[0m                                  \"types\" % self._valid_types)\n",
        "\u001b[1;32m/home/tnaselar/anaconda/lib/python2.7/site-packages/pandas/core/indexing.pyc\u001b[0m in \u001b[0;36m_has_valid_type\u001b[1;34m(self, key, axis)\u001b[0m\n\u001b[0;32m   1185\u001b[0m                         raise KeyError(\n\u001b[0;32m   1186\u001b[0m                             \u001b[1;34m\"start bound [%s] is not the [%s]\"\u001b[0m \u001b[1;33m%\u001b[0m\u001b[1;33m\u001b[0m\u001b[0m\n\u001b[1;32m-> 1187\u001b[1;33m                             \u001b[1;33m(\u001b[0m\u001b[0mkey\u001b[0m\u001b[1;33m.\u001b[0m\u001b[0mstart\u001b[0m\u001b[1;33m,\u001b[0m \u001b[0mself\u001b[0m\u001b[1;33m.\u001b[0m\u001b[0mobj\u001b[0m\u001b[1;33m.\u001b[0m\u001b[0m_get_axis_name\u001b[0m\u001b[1;33m(\u001b[0m\u001b[0maxis\u001b[0m\u001b[1;33m)\u001b[0m\u001b[1;33m)\u001b[0m\u001b[1;33m\u001b[0m\u001b[0m\n\u001b[0m\u001b[0;32m   1188\u001b[0m                         )\n\u001b[0;32m   1189\u001b[0m                 \u001b[1;32mif\u001b[0m \u001b[0mkey\u001b[0m\u001b[1;33m.\u001b[0m\u001b[0mstop\u001b[0m \u001b[1;32mis\u001b[0m \u001b[1;32mnot\u001b[0m \u001b[0mNone\u001b[0m\u001b[1;33m:\u001b[0m\u001b[1;33m\u001b[0m\u001b[0m\n",
        "\u001b[1;31mKeyError\u001b[0m: 'start bound [1] is not the [columns]'"
       ]
      }
     ],
     "prompt_number": 56
    },
    {
     "cell_type": "code",
     "collapsed": false,
     "input": [],
     "language": "python",
     "metadata": {},
     "outputs": []
    }
   ],
   "metadata": {}
  }
 ]
}