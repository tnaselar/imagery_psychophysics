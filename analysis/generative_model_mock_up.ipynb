{
 "metadata": {
  "name": ""
 },
 "nbformat": 3,
 "nbformat_minor": 0,
 "worksheets": [
  {
   "cells": [
    {
     "cell_type": "heading",
     "level": 2,
     "metadata": {},
     "source": [
      "Represent an object map using a simple mixture-of-multinomials model"
     ]
    },
    {
     "cell_type": "heading",
     "level": 4,
     "metadata": {},
     "source": [
      "grab an image / object map"
     ]
    },
    {
     "cell_type": "code",
     "collapsed": false,
     "input": [
      "#create environment\n",
      "import numpy as np\n",
      "from PIL import Image\n",
      "from object_parsing.src.image_objects import view_mask\n",
      "%pylab inline"
     ],
     "language": "python",
     "metadata": {},
     "outputs": [
      {
       "output_type": "stream",
       "stream": "stdout",
       "text": [
        "Populating the interactive namespace from numpy and matplotlib\n"
       ]
      }
     ],
     "prompt_number": 168
    },
    {
     "cell_type": "code",
     "collapsed": false,
     "input": [
      "cur_image = 3600\n",
      "image_path = '/musc.repo/Data/shared/my_labeled_images/pictures/%0.6d.png'\n",
      "mask_path = '/musc.repo/Data/shared/my_labeled_images/labeled_image_maps/%0.6d.png'\n",
      "img = Image.open(image_path %(cur_image))\n",
      "msk = Image.open(mask_path %(cur_image))\n",
      "msk=msk.resize(size=(32,32))\n",
      "img.show()\n",
      "view_mask(msk)\n",
      "mask_array = np.array(msk)\n",
      "N = mask_array.shape\n",
      "N2 = np.prod(N)\n",
      "print N2"
     ],
     "language": "python",
     "metadata": {},
     "outputs": [
      {
       "output_type": "stream",
       "stream": "stdout",
       "text": [
        "1024\n"
       ]
      }
     ],
     "prompt_number": 169
    },
    {
     "cell_type": "code",
     "collapsed": false,
     "input": [],
     "language": "python",
     "metadata": {},
     "outputs": [],
     "prompt_number": 169
    },
    {
     "cell_type": "heading",
     "level": 4,
     "metadata": {},
     "source": [
      "represent as a generative model"
     ]
    },
    {
     "cell_type": "code",
     "collapsed": false,
     "input": [
      "#K = number of objects\n",
      "K = len(np.unique(mask_array))\n",
      "\n",
      "##assuming M = K \"perfect\" documents\n",
      "M = K\n",
      "##so that number of pixels in each document is number of pixels in each object\n",
      "L = [sum(sum(mask_array==ii)).astype('double') for ii in np.arange(K)+1]\n",
      "print 'total number of pixels: %d, %d' %(sum(L), N2)\n",
      "\n",
      "object_prior = L/sum(L) ##fraction of pixels in each object\n",
      "#print object_prior\n",
      "\n",
      "##create the object likelihoods\n",
      "def format_mask_as_lkhd():\n",
      "    return np.hstack([np.atleast_2d(np.array(mask_array==ii).flatten()).T for ii in np.arange(K)+1])\n",
      "\n",
      "object_likelihoods = format_mask_as_lkhd()/L\n",
      "object_likelihoods.shape\n",
      "\n",
      "##view the likelihoods as an image mask\n",
      "def view_likelihoods(x):\n",
      "    viewing_mask = np.zeros(N)\n",
      "    for ii in range(K):\n",
      "        viewing_mask = viewing_mask+x[:,ii].reshape(N)*N2\n",
      "    view_mask(Image.fromarray(viewing_mask.astype('uint8')))\n",
      "view_likelihoods(object_likelihoods)\n",
      "\n",
      "##--calculate object posteriors (E-step)\n",
      "def e_step(docs, lkhd, prior):\n",
      "    ##give object_posterior for each document\n",
      "    ##return obj_post ~ M x K\n",
      "    ##lkhd ~ N2 x K\n",
      "    ##prior ~ 1 x K\n",
      "    ##docs is an N2 x M matrix of binary arrays\n",
      "    number_of_docs = docs.shape[1]\n",
      "    number_of_objects = len(prior)\n",
      "    obj_post = np.zeros((number_of_docs,number_of_objects))\n",
      "    for ii in np.arange(number_of_docs):\n",
      "        pix_indices = docs[:,ii].astype('bool')\n",
      "        pix_lkhds = lkhd[pix_indices,:] ##these are the numbers you're working with\n",
      "        sum_pix_across_objects = np.atleast_2d(np.array(pix_lkhds*prior).sum(axis=1)).T\n",
      "        obj_post[ii,:] = np.prod(pix_lkhds/sum_pix_across_objects*prior, axis=0)\n",
      "    return obj_post\n",
      "object_posteriors = e_step(format_mask_as_lkhd(), object_likelihoods, object_prior)##use equation (1) from notebook\n",
      "print object_posteriors ##note this is just an identity matrix, which it should be since the data were deterministic\n",
      "\n",
      "##recalculate prior and likelihoods (M-step)\n",
      "new_object_prior = object_posteriors.sum(axis=0)/M\n",
      "##^^so the new object prior is uniform--different from the old one. That is correct: the prior is inferred from the number of \n",
      "##documents belonging to each object. Since I used exactly one document per object, I got a flat prior.\n",
      "\n",
      "new_object_likelihoods = format_mask_as_lkhd().dot(object_posteriors)/L\n",
      "##^^this should be unchanged\n",
      "view_likelihoods(new_object_likelihoods)\n",
      "sum(sum(new_object_likelihoods - object_likelihoods))\n",
      "##^^checks out.\n"
     ],
     "language": "python",
     "metadata": {},
     "outputs": [
      {
       "output_type": "stream",
       "stream": "stdout",
       "text": [
        "total number of pixels: 1024, 1024\n",
        "[[ 1.  0.  0.  0.  0.  0.  0.  0.]\n",
        " [ 0.  1.  0.  0.  0.  0.  0.  0.]\n",
        " [ 0.  0.  1.  0.  0.  0.  0.  0.]\n",
        " [ 0.  0.  0.  1.  0.  0.  0.  0.]\n",
        " [ 0.  0.  0.  0.  1.  0.  0.  0.]\n",
        " [ 0.  0.  0.  0.  0.  1.  0.  0.]\n",
        " [ 0.  0.  0.  0.  0.  0.  1.  0.]\n",
        " [ 0.  0.  0.  0.  0.  0.  0.  1.]]\n"
       ]
      },
      {
       "metadata": {},
       "output_type": "pyout",
       "prompt_number": 196,
       "text": [
        "0.0"
       ]
      }
     ],
     "prompt_number": 196
    },
    {
     "cell_type": "code",
     "collapsed": false,
     "input": [
      "M = K\n",
      "new_object_prior = object_posteriors.sum(axis=0)/M\n",
      "print new_object_prior"
     ],
     "language": "python",
     "metadata": {},
     "outputs": [
      {
       "output_type": "stream",
       "stream": "stdout",
       "text": [
        "[ 0.125  0.125  0.125  0.125  0.125  0.125  0.125  0.125]\n"
       ]
      }
     ],
     "prompt_number": 171
    },
    {
     "cell_type": "heading",
     "level": 4,
     "metadata": {},
     "source": [
      "sample multiple \"probes\" from the model"
     ]
    },
    {
     "cell_type": "code",
     "collapsed": false,
     "input": [
      "##number of documents / probes\n",
      "M = 100\n",
      "\n",
      "##number of pixels per document\n",
      "P = np.min(np.array(object_likelihoods>0).sum(axis=0))\n",
      "print 'number of probes per document: %d' %(P)\n",
      "\n",
      "probes = np.zeros((N2,M))\n",
      "\n",
      "##use prior to determine number of probes per object\n",
      "probes_per_object = np.random.multinomial(M, object_prior)\n",
      "\n",
      "##generate object patches\n",
      "cnt = 0\n",
      "for ii,nn in enumerate(probes_per_object):\n",
      "    for jj in range(nn):\n",
      "        dx = np.random.choice(np.arange(N2), size=P, replace=False, p=np.atleast_1d(object_likelihoods[:,ii]))\n",
      "        probes[dx, cnt] = 1\n",
      "        cnt += 1\n",
      "\n",
      "##check a few probes\n",
      "imshow(probes[:,0].reshape(N))\n",
      "imshow(probes[:,1].reshape(N))"
     ],
     "language": "python",
     "metadata": {},
     "outputs": [
      {
       "output_type": "stream",
       "stream": "stdout",
       "text": [
        "number of probes per document: 10\n"
       ]
      },
      {
       "metadata": {},
       "output_type": "pyout",
       "prompt_number": 325,
       "text": [
        "<matplotlib.image.AxesImage at 0x16640550>"
       ]
      },
      {
       "metadata": {},
       "output_type": "display_data",
       "png": "[encoded data removed]",
       "text": [
        "<matplotlib.figure.Figure at 0x16640590>"
       ]
      }
     ],
     "prompt_number": 325
    },
    {
     "cell_type": "heading",
     "level": 4,
     "metadata": {},
     "source": [
      "re-estimate parameters of model"
     ]
    },
    {
     "cell_type": "code",
     "collapsed": false,
     "input": [
      "##EM\n",
      "cnt = 0\n",
      "eps = np.finfo(np.double).tiny\n",
      "##initialize with a flat lkhd, flat prior\n",
      "init_lkhd = np.random.random((N2,K))\n",
      "init_lkhd = init_lkhd/init_lkhd.sum(axis=0)\n",
      "init_prior = np.ones((1,K))/K\n",
      "number_of_docs = M\n",
      "number_of_objects = K\n",
      "obj_post = np.zeros((number_of_docs,number_of_objects))\n",
      "while cnt < 10:\n",
      "    data_lkhd = 1\n",
      "    for ii in np.arange(number_of_docs):\n",
      "        pix_indices = probes[:,ii].astype('bool')\n",
      "        pix_lkhds = init_lkhd[pix_indices,:] ##these are the numbers you're working with\n",
      "        sum_pix_across_objects = np.atleast_2d(np.array(pix_lkhds*init_prior).sum(axis=1)).T\n",
      "        data_lkhd = data_lkhd*np.prod(sum_pix_across_objects)\n",
      "        #print sum(sum_pix_across_objects)\n",
      "        obj_post[ii,:] = np.prod(pix_lkhds/sum_pix_across_objects*init_prior, axis=0)\n",
      "    cnt+=1\n",
      "    print '%0.20f' %(data_lkhd)\n",
      "    init_prior = obj_post.sum(axis=0)/number_of_docs\n",
      "    init_lkhd = probes.dot(obj_post)\n",
      "    init_lkhd = init_lkhd/init_lkhd.sum(axis=0)\n",
      "\n",
      "imshow(init_lkhd[:,0].reshape(N))\n",
      "\n",
      "\n",
      "##^^serious underflow problems, but looks like it sort-of works    "
     ],
     "language": "python",
     "metadata": {},
     "outputs": [
      {
       "output_type": "stream",
       "stream": "stdout",
       "text": [
        "0.00000000000000000000\n",
        "0.00000000000000000000\n",
        "0.00000000000000000000\n",
        "0.00000000000000000000\n",
        "0.00000000000000000000\n",
        "0.00000000000000000000\n",
        "nan"
       ]
      },
      {
       "output_type": "stream",
       "stream": "stdout",
       "text": [
        "\n",
        "nan\n",
        "nan\n",
        "nan\n"
       ]
      },
      {
       "metadata": {},
       "output_type": "pyout",
       "prompt_number": 326,
       "text": [
        "<matplotlib.image.AxesImage at 0x16adf810>"
       ]
      },
      {
       "metadata": {},
       "output_type": "display_data",
       "png": "[encoded data removed]",
       "text": [
        "<matplotlib.figure.Figure at 0x16abc6d0>"
       ]
      }
     ],
     "prompt_number": 326
    },
    {
     "cell_type": "code",
     "collapsed": false,
     "input": [
      "print np.finfo(np.double).tiny\n",
      "print pix_lkhds.shape\n",
      "print sum_pix_across_objects\n",
      "print obj_post.shape\n",
      "print init_lkhd.shape\n",
      "print init_lkhd.sum(axis=0)\n",
      "print cnt\n",
      "print init_prior"
     ],
     "language": "python",
     "metadata": {},
     "outputs": [
      {
       "output_type": "stream",
       "stream": "stdout",
       "text": [
        "2.22507385851e-308\n",
        "(10, 8)\n",
        "[[ nan]\n",
        " [ nan]\n",
        " [ nan]\n",
        " [ nan]\n",
        " [ nan]\n",
        " [ nan]\n",
        " [ nan]\n",
        " [ nan]\n",
        " [ nan]\n",
        " [ nan]]\n",
        "(10, 8)\n",
        "(1024, 8)\n",
        "[ nan  nan  nan  nan  nan  nan  nan  nan]\n",
        "10\n",
        "[ nan  nan  nan  nan  nan  nan  nan  nan]\n"
       ]
      }
     ],
     "prompt_number": 321
    },
    {
     "cell_type": "code",
     "collapsed": false,
     "input": [
      "imshow(init_lkhd[:,0].reshape(N))"
     ],
     "language": "python",
     "metadata": {},
     "outputs": [
      {
       "metadata": {},
       "output_type": "pyout",
       "prompt_number": 327,
       "text": [
        "<matplotlib.image.AxesImage at 0x16cebf90>"
       ]
      },
      {
       "metadata": {},
       "output_type": "display_data",
       "png": "[encoded data removed]",
       "text": [
        "<matplotlib.figure.Figure at 0x161c6290>"
       ]
      }
     ],
     "prompt_number": 327
    },
    {
     "cell_type": "code",
     "collapsed": false,
     "input": [
      "view_likelihoods(init_lkhd)"
     ],
     "language": "python",
     "metadata": {},
     "outputs": [],
     "prompt_number": 292
    },
    {
     "cell_type": "code",
     "collapsed": false,
     "input": [],
     "language": "python",
     "metadata": {},
     "outputs": []
    }
   ],
   "metadata": {}
  }
 ]
}