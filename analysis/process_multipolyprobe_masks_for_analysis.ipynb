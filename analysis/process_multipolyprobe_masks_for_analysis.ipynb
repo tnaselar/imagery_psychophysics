{
 "cells": [
  {
   "cell_type": "code",
   "execution_count": 90,
   "metadata": {},
   "outputs": [],
   "source": [
    "from PIL.Image import open as open_image, fromarray\n",
    "import numpy as np\n",
    "from matplotlib import pyplot as plt\n",
    "from skimage.transform import resize\n",
    "from mpl_toolkits.axes_grid1 import ImageGrid\n",
    "%matplotlib inline"
   ]
  },
  {
   "cell_type": "markdown",
   "metadata": {},
   "source": [
    "#### The masks we made for this experiment have annoying border issues. So we have to do this fussy image processing to fix things."
   ]
  },
  {
   "cell_type": "code",
   "execution_count": 91,
   "metadata": {},
   "outputs": [
    {
     "name": "stdout",
     "output_type": "stream",
     "text": [
      "/home/tnaselar/FAST/imagery_psychophysics/multi_poly_probes/masks/originals\n"
     ]
    }
   ],
   "source": [
    "cd /home/tnaselar/FAST/imagery_psychophysics/multi_poly_probes/masks/originals"
   ]
  },
  {
   "cell_type": "code",
   "execution_count": 95,
   "metadata": {},
   "outputs": [
    {
     "name": "stdout",
     "output_type": "stream",
     "text": [
      "(2504, 1545)\n",
      "(2502, 1542)\n",
      "(2500, 1543)\n",
      "(2501, 1545)\n"
     ]
    }
   ],
   "source": [
    "##the masks\n",
    "masks = ['candle_01_mask.tif','grape_juice_02_mask.tif', 'cheeseburger_03_mask.tif',  'peaches_05_mask.tif']\n",
    "foo = []\n",
    "for i in masks:\n",
    "    ##open it\n",
    "    img = open_image(i).convert('L')\n",
    "    print img.size\n",
    "    ##copy it\n",
    "    newImg = np.array(np.copy(img))\n",
    "    ##crop off 15 pixels\n",
    "    shape = img.size\n",
    "    crop = 3\n",
    "    img = img.crop((crop, crop, shape[0]-crop, shape[1]-crop))\n",
    "    ##enlarge back to standard size\n",
    "    img = np.array(img.resize(shape))\n",
    "    ##replace edges\n",
    "    newImg[0:crop] = img[0:crop] ##top\n",
    "    newImg[-crop:] = img[-crop:] ##bottom\n",
    "    newImg[:,0:crop] = img[:,0:crop] #left\n",
    "    newImg[:,-crop:] = img[:,-crop:]\n",
    "    ##make size of target images (370,600)\n",
    "    newImg = resize(newImg, (370,600),preserve_range=True, order=0)\n",
    "    foo += [newImg]\n"
   ]
  },
  {
   "cell_type": "code",
   "execution_count": null,
   "metadata": {},
   "outputs": [],
   "source": []
  },
  {
   "cell_type": "code",
   "execution_count": 97,
   "metadata": {},
   "outputs": [],
   "source": [
    "for i,img in enumerate(foo):\n",
    "    fromarray(np.round(img).astype('uint8')).save('/home/tnaselar/FAST/imagery_psychophysics/multi_poly_probes/masks/processed/'+masks[i][:-4]+'.png',format='png')\n",
    "    "
   ]
  },
  {
   "cell_type": "code",
   "execution_count": 96,
   "metadata": {},
   "outputs": [
    {
     "data": {
      "image/png": "[encoded data removed]",
      "text/plain": [
       "<matplotlib.figure.Figure at 0x7f51e5f46f10>"
      ]
     },
     "metadata": {},
     "output_type": "display_data"
    }
   ],
   "source": [
    "fig = plt.figure(2,(10,10))\n",
    "grid = ImageGrid(fig, 111, # similar to subplot(111)\n",
    "                nrows_ncols = (2,2), # creates 2x2 grid of axes\n",
    "                axes_pad=0.02, # pad between axes in inch.\n",
    "                )\n",
    "\n",
    "\n",
    "for gr,img in zip(grid,foo):\n",
    "    gr.imshow(img)\n",
    "    gr.set_xticks([])\n",
    "    gr.set_yticks([])"
   ]
  },
  {
   "cell_type": "code",
   "execution_count": 99,
   "metadata": {},
   "outputs": [
    {
     "data": {
      "text/plain": [
       "array([  0,  28,  59,  87, 117, 145, 173, 199, 227], dtype=uint8)"
      ]
     },
     "execution_count": 99,
     "metadata": {},
     "output_type": "execute_result"
    }
   ],
   "source": [
    "np.unique(img.astype('uint8'))"
   ]
  },
  {
   "cell_type": "code",
   "execution_count": 100,
   "metadata": {},
   "outputs": [
    {
     "data": {
      "text/plain": [
       "<matplotlib.image.AxesImage at 0x7f51e5a86750>"
      ]
     },
     "execution_count": 100,
     "metadata": {},
     "output_type": "execute_result"
    },
    {
     "data": {
      "image/png": "[encoded data removed]",
      "text/plain": [
       "<matplotlib.figure.Figure at 0x7f51e6002050>"
      ]
     },
     "metadata": {},
     "output_type": "display_data"
    }
   ],
   "source": [
    "img = img.astype('uint8')\n",
    "plt.imshow(img,cmap='gray')\n",
    "    "
   ]
  },
  {
   "cell_type": "code",
   "execution_count": 101,
   "metadata": {},
   "outputs": [
    {
     "data": {
      "text/plain": [
       "<matplotlib.image.AxesImage at 0x7f51e5a7e890>"
      ]
     },
     "execution_count": 101,
     "metadata": {},
     "output_type": "execute_result"
    },
    {
     "data": {
      "image/png": "[encoded data removed]",
      "text/plain": [
       "<matplotlib.figure.Figure at 0x7f51e5af6110>"
      ]
     },
     "metadata": {},
     "output_type": "display_data"
    }
   ],
   "source": [
    "plt.imshow(newImg)"
   ]
  },
  {
   "cell_type": "code",
   "execution_count": 102,
   "metadata": {},
   "outputs": [
    {
     "data": {
      "text/plain": [
       "array([  0.,  28.,  59.,  87., 117., 145., 173., 199., 227.])"
      ]
     },
     "execution_count": 102,
     "metadata": {},
     "output_type": "execute_result"
    }
   ],
   "source": [
    "np.unique(newImg)"
   ]
  },
  {
   "cell_type": "code",
   "execution_count": null,
   "metadata": {},
   "outputs": [],
   "source": []
  }
 ],
 "metadata": {
  "kernelspec": {
   "display_name": "Python 2",
   "language": "python",
   "name": "python2"
  },
  "language_info": {
   "codemirror_mode": {
    "name": "ipython",
    "version": 2
   },
   "file_extension": ".py",
   "mimetype": "text/x-python",
   "name": "python",
   "nbconvert_exporter": "python",
   "pygments_lexer": "ipython2",
   "version": "2.7.12"
  }
 },
 "nbformat": 4,
 "nbformat_minor": 2
}
